{
 "cells": [
  {
   "cell_type": "code",
   "execution_count": 1,
   "metadata": {},
   "outputs": [],
   "source": [
    "%reload_ext autoreload\n",
    "%autoreload 2"
   ]
  },
  {
   "cell_type": "code",
   "execution_count": 2,
   "metadata": {},
   "outputs": [],
   "source": [
    "from pathlib import Path\n",
    "\n",
    "# ML\n",
    "import torch\n",
    "import torch.nn as nn\n",
    "import torch.nn.functional as F\n",
    "from typing import Any, Callable, Dict, List, Literal, Optional, Tuple, Union\n",
    "from einops import rearrange, reduce, repeat\n",
    "from jaxtyping import Float, Int, Bool\n",
    "from torch.utils.data import DataLoader\n",
    "\n",
    "import wandb\n",
    "\n",
    "# Numeric\n",
    "import numpy as np\n",
    "import pandas as pd\n",
    "# from matplotlib import pyplot as plt\n"
   ]
  },
  {
   "cell_type": "code",
   "execution_count": 27,
   "metadata": {},
   "outputs": [
    {
     "data": {
      "text/plain": [
       "tensor([[[7.3075, 8.3307, 7.5948, 8.2794],\n",
       "         [8.2917, 8.5048, 7.9685, 7.6835],\n",
       "         [6.7701, 8.7494, 6.8323, 7.6135]],\n",
       "\n",
       "        [[7.3060, 8.6134, 8.4490, 7.0520],\n",
       "         [6.6969, 6.7753, 8.8448, 8.1489],\n",
       "         [7.5666, 8.3536, 7.2877, 8.8651]]])"
      ]
     },
     "execution_count": 27,
     "metadata": {},
     "output_type": "execute_result"
    }
   ],
   "source": [
    "hs = torch.randn(2, 3, 4, 64) # b l t h\n",
    "\n",
    "torch.norm(hs, dim=-1)"
   ]
  },
  {
   "cell_type": "code",
   "execution_count": 35,
   "metadata": {},
   "outputs": [
    {
     "data": {
      "text/plain": [
       "tensor([[[0.9134, 1.0413, 0.9494, 1.0349],\n",
       "         [1.0365, 1.0631, 0.9961, 0.9604],\n",
       "         [0.8463, 1.0937, 0.8540, 0.9517]],\n",
       "\n",
       "        [[0.9133, 1.0767, 1.0561, 0.8815],\n",
       "         [0.8371, 0.8469, 1.1056, 1.0186],\n",
       "         [0.9458, 1.0442, 0.9110, 1.1081]]])"
      ]
     },
     "execution_count": 35,
     "metadata": {},
     "output_type": "execute_result"
    }
   ],
   "source": [
    "torch.pow(np.abs(hs), 2).mean(-1).sqrt()"
   ]
  },
  {
   "cell_type": "code",
   "execution_count": 36,
   "metadata": {},
   "outputs": [
    {
     "data": {
      "text/plain": [
       "0.0"
      ]
     },
     "execution_count": 36,
     "metadata": {},
     "output_type": "execute_result"
    }
   ],
   "source": [
    "np.sqrt(0)"
   ]
  },
  {
   "cell_type": "code",
   "execution_count": 34,
   "metadata": {},
   "outputs": [
    {
     "data": {
      "text/plain": [
       "tensor([[[7.3075, 8.3307, 7.5948, 8.2794],\n",
       "         [8.2917, 8.5048, 7.9685, 7.6835],\n",
       "         [6.7701, 8.7494, 6.8323, 7.6135]],\n",
       "\n",
       "        [[7.3060, 8.6134, 8.4490, 7.0520],\n",
       "         [6.6969, 6.7753, 8.8448, 8.1489],\n",
       "         [7.5666, 8.3536, 7.2877, 8.8651]]])"
      ]
     },
     "execution_count": 34,
     "metadata": {},
     "output_type": "execute_result"
    }
   ],
   "source": [
    "torch.pow(np.abs(hs), 2).sum(-1).sqrt()"
   ]
  },
  {
   "cell_type": "code",
   "execution_count": 30,
   "metadata": {},
   "outputs": [
    {
     "data": {
      "text/plain": [
       "tensor([[[0.8344, 1.0844, 0.9013, 1.0711],\n",
       "         [1.0743, 1.1302, 0.9921, 0.9224],\n",
       "         [0.7162, 1.1961, 0.7294, 0.9057]],\n",
       "\n",
       "        [[0.8340, 1.1592, 1.1154, 0.7770],\n",
       "         [0.7008, 0.7173, 1.2223, 1.0376],\n",
       "         [0.8946, 1.0903, 0.8298, 1.2280]]])"
      ]
     },
     "execution_count": 30,
     "metadata": {},
     "output_type": "execute_result"
    }
   ],
   "source": [
    "torch.pow(np.abs(hs), 2).mean(-1)"
   ]
  },
  {
   "cell_type": "code",
   "execution_count": 28,
   "metadata": {},
   "outputs": [
    {
     "data": {
      "text/plain": [
       "torch.Size([2, 1, 1, 1])"
      ]
     },
     "execution_count": 28,
     "metadata": {},
     "output_type": "execute_result"
    }
   ],
   "source": [
    "torch.norm_except_dim(hs, dim=0).shape"
   ]
  },
  {
   "cell_type": "code",
   "execution_count": 16,
   "metadata": {},
   "outputs": [
    {
     "data": {
      "text/plain": [
       "tensor([0.8035, 0.9562])"
      ]
     },
     "execution_count": 16,
     "metadata": {},
     "output_type": "execute_result"
    }
   ],
   "source": [
    "torch.pow(np.abs(hs), 2).mean(1)"
   ]
  }
 ],
 "metadata": {
  "kernelspec": {
   "display_name": ".venv",
   "language": "python",
   "name": "python3"
  },
  "language_info": {
   "codemirror_mode": {
    "name": "ipython",
    "version": 3
   },
   "file_extension": ".py",
   "mimetype": "text/x-python",
   "name": "python",
   "nbconvert_exporter": "python",
   "pygments_lexer": "ipython3",
   "version": "3.11.9"
  }
 },
 "nbformat": 4,
 "nbformat_minor": 2
}
