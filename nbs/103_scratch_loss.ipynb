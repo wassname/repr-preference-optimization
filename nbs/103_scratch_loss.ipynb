{
 "cells": [
  {
   "cell_type": "code",
   "execution_count": 1,
   "metadata": {},
   "outputs": [],
   "source": [
    "%reload_ext autoreload\n",
    "%autoreload 2"
   ]
  },
  {
   "cell_type": "code",
   "execution_count": 2,
   "metadata": {},
   "outputs": [],
   "source": [
    "from pathlib import Path\n",
    "\n",
    "# ML\n",
    "import torch\n",
    "import torch.nn as nn\n",
    "import torch.nn.functional as F\n",
    "from typing import Any, Callable, Dict, List, Literal, Optional, Tuple, Union\n",
    "from einops import rearrange, reduce, repeat\n",
    "from jaxtyping import Float, Int, Bool\n",
    "from torch.utils.data import DataLoader\n",
    "\n",
    "import wandb\n",
    "\n",
    "# Numeric\n",
    "import numpy as np\n",
    "import pandas as pd\n",
    "from matplotlib import pyplot as plt\n"
   ]
  },
  {
   "cell_type": "markdown",
   "metadata": {},
   "source": [
    "# Nicks proof\n",
    "\n",
    "$grad · d/||d||$\n",
    "\n",
    "tells me \"how much\" of grad is in the direction d\n",
    "\n",
    "$d/||d|| (grad · d/||d||) = d (grad · d)/||d||^2$\n",
    "\n",
    "is then the component of grad in direction (I multiplied how much, by the direction). When I subtract that, I'm getting the part of grad which has no d:\n",
    "\n",
    "$grad - d (grad · d)/||d||^2$\n",
    "\n",
    "I can prove this by taking the dot product with d again:\n",
    "\n",
    "$grad · d - (d · d) (grad · d)/||d||^2 = grad · d - ||d||^2 (grad · d)/||d||^2 = grad · d - grad · d = 0$"
   ]
  },
  {
   "cell_type": "markdown",
   "metadata": {},
   "source": [
    "Easier if $||d|| = 1$\n",
    "\n",
    "$grad · d$\n",
    "\n",
    "tells me \"how much\" of grad is in the direction d\n",
    "\n",
    "$d (grad · d) = d (grad · d)$\n",
    "\n",
    "is then the component of grad in direction (I multiplied how much, by the direction). When I subtract that, I'm getting the part of grad which has no d:\n",
    "\n",
    "$grad - d (grad · d)$\n",
    "\n",
    "I can prove this by taking the dot product with d again:\n",
    "\n",
    "$grad · d - (d · d) (grad · d) = grad · d - ||d||^2 (grad · d) = grad · d - grad · d = 0$\n"
   ]
  },
  {
   "cell_type": "code",
   "execution_count": 3,
   "metadata": {},
   "outputs": [
    {
     "data": {
      "text/plain": [
       "(tensor(5.6722e-07), tensor(37.7603), tensor(4.7878))"
      ]
     },
     "execution_count": 3,
     "metadata": {},
     "output_type": "execute_result"
    }
   ],
   "source": [
    "cho = torch.randn(2, 3, 4, 64) # b l t h\n",
    "d = torch.randn(2, 3, 4, 64) # b l t h\n",
    "d /= d.norm(dim=-1, keepdim=True)\n",
    "\n",
    "cho_para = d * ( cho * d).sum(dim=-1, keepdim=True)\n",
    "cho_oth = cho - cho_para\n",
    "# prove it by taking dot product of orth\n",
    "r = (cho_oth * d).sum(dim=-1, keepdim=True)\n",
    "r.norm(), cho_oth.norm(), cho_para.norm()\n"
   ]
  },
  {
   "cell_type": "code",
   "execution_count": 21,
   "metadata": {},
   "outputs": [
    {
     "data": {
      "text/plain": [
       "tensor(5.7500e-07)"
      ]
     },
     "execution_count": 21,
     "metadata": {},
     "output_type": "execute_result"
    }
   ],
   "source": [
    "(cho_oth+cho_para-cho).norm()"
   ]
  },
  {
   "cell_type": "markdown",
   "metadata": {},
   "source": [
    "# other"
   ]
  },
  {
   "cell_type": "code",
   "execution_count": 3,
   "metadata": {},
   "outputs": [
    {
     "data": {
      "text/plain": [
       "tensor([[[7.4040, 7.9128, 7.7753, 7.4688],\n",
       "         [7.3472, 7.1764, 8.0988, 8.5598],\n",
       "         [9.3660, 8.8174, 7.7997, 7.6633]],\n",
       "\n",
       "        [[7.6303, 6.8419, 9.0447, 8.0975],\n",
       "         [8.8064, 8.1964, 6.7658, 7.5134],\n",
       "         [7.6322, 8.0401, 8.2847, 7.3227]]])"
      ]
     },
     "execution_count": 3,
     "metadata": {},
     "output_type": "execute_result"
    }
   ],
   "source": [
    "hs = torch.randn(2, 3, 4, 64) # b l t h\n",
    "\n",
    "torch.norm(hs, dim=-1)"
   ]
  },
  {
   "cell_type": "code",
   "execution_count": 4,
   "metadata": {},
   "outputs": [
    {
     "data": {
      "text/plain": [
       "tensor([[[0.9255, 0.9891, 0.9719, 0.9336],\n",
       "         [0.9184, 0.8971, 1.0123, 1.0700],\n",
       "         [1.1708, 1.1022, 0.9750, 0.9579]],\n",
       "\n",
       "        [[0.9538, 0.8552, 1.1306, 1.0122],\n",
       "         [1.1008, 1.0245, 0.8457, 0.9392],\n",
       "         [0.9540, 1.0050, 1.0356, 0.9153]]])"
      ]
     },
     "execution_count": 4,
     "metadata": {},
     "output_type": "execute_result"
    }
   ],
   "source": [
    "torch.pow(np.abs(hs), 2).mean(-1).sqrt()"
   ]
  },
  {
   "cell_type": "code",
   "execution_count": 36,
   "metadata": {},
   "outputs": [
    {
     "data": {
      "text/plain": [
       "0.0"
      ]
     },
     "execution_count": 36,
     "metadata": {},
     "output_type": "execute_result"
    }
   ],
   "source": [
    "np.sqrt(0)"
   ]
  },
  {
   "cell_type": "code",
   "execution_count": 34,
   "metadata": {},
   "outputs": [
    {
     "data": {
      "text/plain": [
       "tensor([[[7.3075, 8.3307, 7.5948, 8.2794],\n",
       "         [8.2917, 8.5048, 7.9685, 7.6835],\n",
       "         [6.7701, 8.7494, 6.8323, 7.6135]],\n",
       "\n",
       "        [[7.3060, 8.6134, 8.4490, 7.0520],\n",
       "         [6.6969, 6.7753, 8.8448, 8.1489],\n",
       "         [7.5666, 8.3536, 7.2877, 8.8651]]])"
      ]
     },
     "execution_count": 34,
     "metadata": {},
     "output_type": "execute_result"
    }
   ],
   "source": [
    "torch.pow(np.abs(hs), 2).sum(-1).sqrt()"
   ]
  },
  {
   "cell_type": "code",
   "execution_count": 30,
   "metadata": {},
   "outputs": [
    {
     "data": {
      "text/plain": [
       "tensor([[[0.8344, 1.0844, 0.9013, 1.0711],\n",
       "         [1.0743, 1.1302, 0.9921, 0.9224],\n",
       "         [0.7162, 1.1961, 0.7294, 0.9057]],\n",
       "\n",
       "        [[0.8340, 1.1592, 1.1154, 0.7770],\n",
       "         [0.7008, 0.7173, 1.2223, 1.0376],\n",
       "         [0.8946, 1.0903, 0.8298, 1.2280]]])"
      ]
     },
     "execution_count": 30,
     "metadata": {},
     "output_type": "execute_result"
    }
   ],
   "source": [
    "torch.pow(np.abs(hs), 2).mean(-1)"
   ]
  },
  {
   "cell_type": "code",
   "execution_count": 28,
   "metadata": {},
   "outputs": [
    {
     "data": {
      "text/plain": [
       "torch.Size([2, 1, 1, 1])"
      ]
     },
     "execution_count": 28,
     "metadata": {},
     "output_type": "execute_result"
    }
   ],
   "source": [
    "torch.norm_except_dim(hs, dim=0).shape"
   ]
  },
  {
   "cell_type": "code",
   "execution_count": 16,
   "metadata": {},
   "outputs": [
    {
     "data": {
      "text/plain": [
       "tensor([0.8035, 0.9562])"
      ]
     },
     "execution_count": 16,
     "metadata": {},
     "output_type": "execute_result"
    }
   ],
   "source": [
    "torch.pow(np.abs(hs), 2).mean(1)"
   ]
  },
  {
   "cell_type": "markdown",
   "metadata": {},
   "source": [
    "## Hinge on nll"
   ]
  },
  {
   "cell_type": "code",
   "execution_count": 26,
   "metadata": {},
   "outputs": [
    {
     "data": {
      "text/plain": [
       "[<matplotlib.lines.Line2D at 0x708806902790>]"
      ]
     },
     "execution_count": 26,
     "metadata": {},
     "output_type": "execute_result"
    },
    {
     "data": {
      "image/png": "[encoded data removed]",
      "text/plain": [
       "<Figure size 640x480 with 1 Axes>"
      ]
     },
     "metadata": {},
     "output_type": "display_data"
    }
   ],
   "source": [
    "from torch.nn import functional as F\n",
    "import torch\n",
    "ref_nll_loss = torch.tensor(11)\n",
    "\n",
    "nll_loss = torch.tensor(20)\n",
    "\n",
    "x = torch.linspace(-10, 30, 100) # nll_loss - ref_nll_loss\n",
    "y = F.softplus(x+ -1 * torch.log(torch.tensor(0.9)))\n",
    "y = F.logsigmoid(x)\n",
    "\n",
    "from matplotlib import pyplot as plt\n",
    "plt.plot(x, y)"
   ]
  },
  {
   "cell_type": "code",
   "execution_count": 44,
   "metadata": {},
   "outputs": [
    {
     "data": {
      "text/plain": [
       "0.09531017980432493"
      ]
     },
     "execution_count": 44,
     "metadata": {},
     "output_type": "execute_result"
    }
   ],
   "source": [
    "import numpy as np\n",
    "np.exp(5)\n",
    "np.log(1.1)"
   ]
  },
  {
   "cell_type": "code",
   "execution_count": 48,
   "metadata": {},
   "outputs": [
    {
     "data": {
      "text/plain": [
       "[<matplotlib.lines.Line2D at 0x708772e9ee10>]"
      ]
     },
     "execution_count": 48,
     "metadata": {},
     "output_type": "execute_result"
    },
    {
     "data": {
      "image/png": "[encoded data removed]",
      "text/plain": [
       "<Figure size 640x480 with 1 Axes>"
      ]
     },
     "metadata": {},
     "output_type": "display_data"
    }
   ],
   "source": [
    "y = F.leaky_relu(x + 0.)\n",
    "plt.plot(x, y)"
   ]
  },
  {
   "cell_type": "markdown",
   "metadata": {},
   "source": [
    "## projecting dirs"
   ]
  },
  {
   "cell_type": "code",
   "execution_count": 21,
   "metadata": {},
   "outputs": [],
   "source": [
    "\n",
    "pi_hs_cho = torch.tensor([0.1, 0.2]) # policy hidden states chosen\n",
    "pi_hs_rej = torch.tensor([0.4, 0.3]) # same but rejected\n",
    "dir = pi_hs_cho - pi_hs_rej\n",
    "ref_hs_cho = torch.tensor([0.1, 0.1]) # reference_model hidden states chosen\n",
    "ref_hs_rej = torch.tensor([0.5, 0.4])\n",
    "ref_dir = ref_hs_cho - ref_hs_rej"
   ]
  },
  {
   "cell_type": "code",
   "execution_count": 107,
   "metadata": {},
   "outputs": [
    {
     "data": {
      "text/plain": [
       "<matplotlib.legend.Legend at 0x740208281a90>"
      ]
     },
     "execution_count": 107,
     "metadata": {},
     "output_type": "execute_result"
    },
    {
     "data": {
      "image/png": "[encoded data removed]",
      "text/plain": [
       "<Figure size 640x480 with 1 Axes>"
      ]
     },
     "metadata": {},
     "output_type": "display_data"
    }
   ],
   "source": [
    "\n",
    "# Project both onto ref_dir\n",
    "proj_cho = torch.dot(pi_hs_cho, ref_dir) / torch.dot(ref_dir, ref_dir) * ref_dir\n",
    "proj_rej = torch.dot(pi_hs_rej, ref_dir) / torch.dot(ref_dir, ref_dir) * ref_dir\n",
    "\n",
    "# Measure distance from original to projected points\n",
    "dist_cho = torch.norm(proj_cho - pi_hs_cho)\n",
    "dist_rej = torch.norm(proj_rej - pi_hs_rej)\n",
    "\n",
    "loss = -(dist_cho + dist_rej)  # Negative to maximize movement\n",
    "\n",
    "plt.plot([0, pi_hs_cho[0]], [0, pi_hs_cho[1]], label='pi_hs_cho')\n",
    "plt.plot([0, pi_hs_rej[0]], [0, pi_hs_rej[1]], label='pi_hs_rej')\n",
    "plt.plot([0, ref_hs_cho[0]], [0, ref_hs_cho[1]], label='ref_hs_cho')\n",
    "plt.plot([0, ref_hs_rej[0]], [0, ref_hs_rej[1]], label='ref_hs_rej')\n",
    "plt.plot([0, proj_cho[0]], [0, proj_cho[1]], label='proj_cho', ls='--')\n",
    "plt.plot([0, proj_rej[0]], [0, proj_rej[1]], label='proj_rej', ls='-.')\n",
    "plt.legend()"
   ]
  },
  {
   "cell_type": "code",
   "execution_count": 125,
   "metadata": {},
   "outputs": [
    {
     "data": {
      "text/plain": [
       "tensor([0.1600, 0.1200])"
      ]
     },
     "execution_count": 125,
     "metadata": {},
     "output_type": "execute_result"
    }
   ],
   "source": [
    "proj_cho"
   ]
  },
  {
   "cell_type": "code",
   "execution_count": 334,
   "metadata": {},
   "outputs": [
    {
     "name": "stdout",
     "output_type": "stream",
     "text": [
      "distances\n",
      "proj_cho tensor(-0.0600)\n",
      "proj_rej tensor(0.1400)\n",
      "dist_cho=-0.10, dist_rej=0.14\n",
      "proj_cho=-0.06, ortho_cho=0.08\n",
      "proj_rej=0.14, ortho_rej=-0.02\n"
     ]
    },
    {
     "data": {
      "image/png": "[encoded data removed]",
      "text/plain": [
       "<Figure size 400x400 with 1 Axes>"
      ]
     },
     "metadata": {},
     "output_type": "display_data"
    }
   ],
   "source": [
    "import matplotlib.pyplot as plt\n",
    "\n",
    "def plot_vectors(pi_hs_cho, pi_hs_rej, ref_dir):\n",
    "    # plt.figure(figsize=(10, 10))\n",
    "    \n",
    "    # Plot original vectors\n",
    "    qs = 0.5\n",
    "    s= 300\n",
    "    plt.figure(figsize=(4, 4))\n",
    "    plt.scatter(*pi_hs_cho, label='pi_hs_cho', marker='+', c='red', s=s)\n",
    "    plt.scatter(*pi_hs_rej, label='pi_hs_rej', marker='x', c='red', s=s)\n",
    "    q_kwargs=dict(\n",
    "        # headwidth=3*qs, headlength=5*qs, headaxislength=4.5*qs,\n",
    "                  angles='xy', scale_units='xy', \n",
    "                  width=0.004,\n",
    "                scale=1,\n",
    "                  )\n",
    "    plt.scatter(*ref_hs_cho, label='ref_hs_cho', marker='+', c='green', s=s)\n",
    "    plt.scatter(*ref_hs_rej, label='ref_hs_rej', marker='x', c='green', s=s)\n",
    "    plt.quiver(*ref_hs_rej, ref_dir[0], ref_dir[1], color='k', label='ref_dir', **q_kwargs)\n",
    "    # plt.quiver(0, 0, pi_hs_cho[0], pi_hs_cho[1], angles='xy', scale_units='xy', scale=1, color='r', label='pi_hs_cho')\n",
    "    # plt.quiver(0, 0, pi_hs_rej[0], pi_hs_rej[1], angles='xy', scale_units='xy', scale=1, color='b', label='pi_hs_rej')\n",
    "    \n",
    "    # Plot projections\n",
    "    dot = torch.linalg.vecdot\n",
    "\n",
    "    def proj(a, b):\n",
    "        \"\"\"Project a onto b\"\"\"\n",
    "        b_unit = b / b.pow(2).sum(-1, keepdim=True)\n",
    "        a_dist_b = torch.linalg.vecdot(a, b, dim=-1)[..., None] \n",
    "        return a_dist_b * b_unit\n",
    "\n",
    "    def dist(a):\n",
    "        \"\"\"Distance from origin\"\"\"\n",
    "        return torch.norm(a, dim=-1) * torch.sign(dot(a, ref_dir))\n",
    "    \n",
    "    cho = pi_hs_cho-ref_hs_cho\n",
    "    proj_cho = proj(cho, ref_dir)\n",
    "    ortho_cho = cho - proj_cho\n",
    "    rej = pi_hs_rej-ref_hs_rej\n",
    "    proj_rej = proj(rej, ref_dir)\n",
    "    ortho_rej = rej - proj_rej\n",
    "\n",
    "    print('distances')\n",
    "    print('proj_cho', torch.dot(cho, ref_dir) / torch.dot(ref_dir, ref_dir) * torch.norm(ref_dir)) \n",
    "    print('proj_rej', torch.dot(rej, ref_dir) / torch.dot(ref_dir, ref_dir) * torch.norm(ref_dir) )\n",
    "    \n",
    "    print(f\"dist_cho={dist(cho):2.2f}, dist_rej={dist(rej):2.2f}\")\n",
    "    print(f\"proj_cho={dist(proj_cho):2.2f}, ortho_cho={dist(ortho_cho):2.2f}\")\n",
    "    print(f\"proj_rej={dist(proj_rej):2.2f}, ortho_rej={dist(ortho_rej):2.2f}\")\n",
    "\n",
    "    \n",
    "    plt.quiver(*ref_hs_cho, *proj_cho,\n",
    "                color='green', \n",
    "                label='proj_cho', \n",
    "                # alpha=0.5,\n",
    "                **q_kwargs\n",
    "                )\n",
    "    plt.quiver(*ref_hs_cho, *ortho_cho, \n",
    "                color='red', \n",
    "                label='ortho_cho', \n",
    "                **q_kwargs\n",
    "                )\n",
    "  \n",
    "    plt.quiver(*ref_hs_rej, *proj_rej,\n",
    "              #  proj_rej[0], proj_rej[1], \n",
    "                  label='proj_rej', color='g', **q_kwargs)\n",
    "    plt.quiver(*ref_hs_rej, *ortho_rej, \n",
    "                color='red', \n",
    "                label='ortho_rej', \n",
    "                **q_kwargs\n",
    "                )\n",
    "    \n",
    "    plt.axhline(y=0, color='k', linestyle='-.')\n",
    "    plt.axvline(x=0, color='k', linestyle='-.')\n",
    "    plt.legend()\n",
    "    plt.grid(True)\n",
    "    # plt.axis('equal')\n",
    "    plt.title('Vector Projections')\n",
    "    plt.xlabel('x')\n",
    "    plt.ylabel('y')\n",
    "    # plt.xlim(0, 1)\n",
    "    # plt.ylim(0, 1)\n",
    "    plt.show()\n",
    "\n",
    "plot_vectors(pi_hs_cho, pi_hs_rej, ref_dir)"
   ]
  },
  {
   "cell_type": "markdown",
   "metadata": {},
   "source": [
    "distances\n",
    "- proj_cho tensor(-0.0600)\n",
    "- proj_rej tensor(0.1400)\n",
    "- dist_cho=-0.10, dist_rej=0.14\n",
    "- proj_cho=-0.06, ortho_cho=0.08\n",
    "- proj_rej=0.14, ortho_rej=-0.02"
   ]
  },
  {
   "cell_type": "code",
   "execution_count": 348,
   "metadata": {},
   "outputs": [
    {
     "data": {
      "text/plain": [
       "tensor(-0.0600)"
      ]
     },
     "execution_count": 348,
     "metadata": {},
     "output_type": "execute_result"
    }
   ],
   "source": [
    "ref_dir_norm = torch.sqrt(torch.linalg.vecdot(ref_dir, ref_dir))\n",
    "torch.linalg.vecdot(cho, ref_dir) / ref_dir_norm"
   ]
  },
  {
   "cell_type": "code",
   "execution_count": 355,
   "metadata": {},
   "outputs": [
    {
     "data": {
      "text/plain": [
       "(tensor(0.0800), tensor(-0.0600))"
      ]
     },
     "execution_count": 355,
     "metadata": {},
     "output_type": "execute_result"
    }
   ],
   "source": [
    "cho = pi_hs_cho-ref_hs_cho\n",
    "costheta = F.cosine_similarity(cho, ref_dir, dim=-1)\n",
    "sintheta = torch.sqrt(1 - costheta**2)\n",
    "d = torch.linalg.norm(cho)\n",
    "sintheta * d, costheta * d"
   ]
  },
  {
   "cell_type": "code",
   "execution_count": 341,
   "metadata": {},
   "outputs": [
    {
     "name": "stdout",
     "output_type": "stream",
     "text": [
      "proj cho  tensor(-0.0600)\n",
      "ortho cho tensor(0.0400)\n",
      "tensor(0.9899)\n",
      "tensor(0.1400)\n"
     ]
    }
   ],
   "source": [
    "cho = pi_hs_cho-ref_hs_cho\n",
    "# proj_cho = proj(cho, ref_dir)\n",
    "# ortho_cho = cho - proj_cho\n",
    "rej = pi_hs_rej-ref_hs_rej\n",
    "# proj_rej = proj(rej, ref_dir)\n",
    "# ortho_rej = rej - proj_rej\n",
    "\n",
    "print('proj cho ', F.cosine_similarity(cho, ref_dir, dim=-1) * torch.norm(cho, dim=-1, p=2))\n",
    "print('ortho cho', (1+F.cosine_similarity(cho, ref_dir, dim=-1)) * torch.norm(cho, dim=-1, p=1))\n",
    "\n",
    "print(F.cosine_similarity(rej, ref_dir, dim=-1))\n",
    "print(F.cosine_similarity(rej, ref_dir, dim=-1) * torch.norm(rej, dim=-1, p=2))"
   ]
  },
  {
   "cell_type": "code",
   "execution_count": 281,
   "metadata": {},
   "outputs": [
    {
     "data": {
      "text/plain": [
       "tensor(2.)"
      ]
     },
     "execution_count": 281,
     "metadata": {},
     "output_type": "execute_result"
    }
   ],
   "source": [
    "b = ref_dir\n",
    "ref_dir_norm = torch.sum(b**2, dim=-1, keepdim=True)\n",
    "b_unit = b / ref_dir_norm\n",
    "b_unit.norm()"
   ]
  },
  {
   "cell_type": "code",
   "execution_count": 302,
   "metadata": {},
   "outputs": [
    {
     "name": "stdout",
     "output_type": "stream",
     "text": [
      "tensor([0.0480, 0.0360]) tensor([0.0480, 0.0360]) tensor(0.0600) tensor(0.0600)\n"
     ]
    }
   ],
   "source": [
    "dot = torch.linalg.vecdot\n",
    "\n",
    "def proj1(a, b):\n",
    "    \"\"\"Project a onto b\"\"\"\n",
    "    b_unit = b / b.pow(2).sum(-1, keepdim=True)\n",
    "    a_dist_b = torch.linalg.vecdot(a, b, dim=-1)[..., None] \n",
    "    return a_dist_b * b_unit\n",
    "\n",
    "def proj1(a, b):\n",
    "    \"\"\"Project a onto b\"\"\"\n",
    "    # b_unit = b / b.pow(2).sum(-1)\n",
    "    return dot(a, b, dim=-1)[..., None] / dot(b, b, dim=-1)[..., None] * b\n",
    "\n",
    "def proj1(a, b):\n",
    "    \"\"\"Project a onto b\"\"\"\n",
    "    b_unit = b / torch.sum(b**2, dim=-1, keepdim=True)\n",
    "    # b_unit = b /  dot(b, b, dim=-1)[..., None]\n",
    "    # b_unit = b / b.pow(2).sum(-1)\n",
    "    # ref_dir_norm = dot(b, b, dim=-1)[..., None] / b\n",
    "    # ref_dir_norm = torch.norm(b, keepdim=True)\n",
    "    return dot(a, b, dim=-1)[..., None] * b_unit\n",
    "#dot(b, b, dim=-1)[..., None] * b\n",
    "\n",
    "def proj2(a, b):\n",
    "    ref_dir_norm = torch.sum(b**2, dim=-1, keepdim=True)\n",
    "    # ref_dir_norm = torch.norm(b, p=2, dim=-1, keepdim=True)**2\n",
    "    return torch.sum(a * b, dim=-1, keepdim=True) * b / ref_dir_norm\n",
    "\n",
    "cho = pi_hs_cho-ref_hs_cho\n",
    "a,b=proj1(cho, ref_dir), proj2(cho, ref_dir)\n",
    "dist = torch.norm\n",
    "print(a,b,dist(a), dist(b))"
   ]
  },
  {
   "cell_type": "code",
   "execution_count": 313,
   "metadata": {},
   "outputs": [
    {
     "ename": "RuntimeError",
     "evalue": "linalg.cross: inputs dimension -1 must have length 3. Got 2 and 2",
     "output_type": "error",
     "traceback": [
      "\u001b[0;31m---------------------------------------------------------------------------\u001b[0m",
      "\u001b[0;31mRuntimeError\u001b[0m                              Traceback (most recent call last)",
      "Cell \u001b[0;32mIn[313], line 2\u001b[0m\n\u001b[1;32m      1\u001b[0m dot(cho, ref_dir, dim\u001b[38;5;241m=\u001b[39m\u001b[38;5;241m-\u001b[39m\u001b[38;5;241m1\u001b[39m)\n\u001b[0;32m----> 2\u001b[0m \u001b[43mtorch\u001b[49m\u001b[38;5;241;43m.\u001b[39;49m\u001b[43mlinalg\u001b[49m\u001b[38;5;241;43m.\u001b[39;49m\u001b[43mcross\u001b[49m\u001b[43m(\u001b[49m\u001b[43mcho\u001b[49m\u001b[43m,\u001b[49m\u001b[43m \u001b[49m\u001b[43mref_dir\u001b[49m\u001b[43m,\u001b[49m\u001b[43m \u001b[49m\u001b[43mdim\u001b[49m\u001b[38;5;241;43m=\u001b[39;49m\u001b[38;5;241;43m-\u001b[39;49m\u001b[38;5;241;43m1\u001b[39;49m\u001b[43m)\u001b[49m\n",
      "\u001b[0;31mRuntimeError\u001b[0m: linalg.cross: inputs dimension -1 must have length 3. Got 2 and 2"
     ]
    }
   ],
   "source": [
    "dot(cho, ref_dir, dim=-1)"
   ]
  },
  {
   "cell_type": "code",
   "execution_count": 311,
   "metadata": {},
   "outputs": [
    {
     "name": "stdout",
     "output_type": "stream",
     "text": [
      "tensor(0.0600)\n",
      "tensor(0.0600)\n",
      "tensor(0.0840)\n"
     ]
    },
    {
     "data": {
      "text/plain": [
       "tensor([0.0480, 0.0360])"
      ]
     },
     "execution_count": 311,
     "metadata": {},
     "output_type": "execute_result"
    }
   ],
   "source": [
    "print(torch.norm(a))\n",
    "print(torch.sum(a**2).sqrt())\n",
    "print(torch.sum(a))"
   ]
  },
  {
   "cell_type": "code",
   "execution_count": 253,
   "metadata": {},
   "outputs": [
    {
     "name": "stdout",
     "output_type": "stream",
     "text": [
      "tensor(0.1000)\n"
     ]
    },
    {
     "data": {
      "text/plain": [
       "(tensor(-0.3000), tensor([0.0800, 0.0600]))"
      ]
     },
     "execution_count": 253,
     "metadata": {},
     "output_type": "execute_result"
    }
   ],
   "source": [
    "# we want dist with sign\n",
    "\n",
    "def dist1(a, b):\n",
    "    # print(torch.linalg.vecdot(a, b))\n",
    "    return torch.norm(a, dim=-1, p=1) * torch.sign(torch.linalg.vecdot(a, b))\n",
    "\n",
    "def dist2(a, b):\n",
    "    c = torch.sum(a * b, dim=-1, keepdim=True) * b / torch.norm(b, dim=-1, keepdim=True)\n",
    "    print(torch.norm(c))\n",
    "    return c # torch.sum(a * b, dim=-1)\n",
    "\n",
    "\n",
    "dist1(pi_hs_cho, ref_dir), dist2(pi_hs_cho, ref_dir)"
   ]
  },
  {
   "cell_type": "code",
   "execution_count": 323,
   "metadata": {},
   "outputs": [
    {
     "data": {
      "text/plain": [
       "(torch.Size([2]), torch.Size([2]))"
      ]
     },
     "execution_count": 323,
     "metadata": {},
     "output_type": "execute_result"
    }
   ],
   "source": [
    "cho.shape, ref_dir.shape"
   ]
  },
  {
   "cell_type": "code",
   "execution_count": 327,
   "metadata": {},
   "outputs": [
    {
     "data": {
      "text/plain": [
       "tensor(1.6000)"
      ]
     },
     "execution_count": 327,
     "metadata": {},
     "output_type": "execute_result"
    }
   ],
   "source": [
    "F.cosine_similarity(cho, ref_dir, dim=-1)\n",
    "1-F.cosine_similarity(cho, ref_dir, dim=-1)"
   ]
  },
  {
   "cell_type": "code",
   "execution_count": 321,
   "metadata": {},
   "outputs": [
    {
     "data": {
      "text/plain": [
       "(tensor(-0.0600), tensor(0.0800))"
      ]
     },
     "execution_count": 321,
     "metadata": {},
     "output_type": "execute_result"
    }
   ],
   "source": [
    "# def get_orthogonal(v, ref_dir):\n",
    "#     return v - (torch.dot(v, ref_dir) / torch.dot(ref_dir, ref_dir)) * ref_dir\n",
    "\n",
    "ref_dir_norm = torch.sqrt(torch.linalg.vecdot(ref_dir, ref_dir))\n",
    "# ref_dir_orth = get_orthogonal(ref_dir, ref_dir)\n",
    "\n",
    "def signed_proj_magnitude(cho, ref_dir):\n",
    "    # get signed projection of a along ref_dir\n",
    "    cho_proj = torch.linalg.vecdot(cho, ref_dir) / ref_dir_norm\n",
    "    # get unsigned length using pythagorian theorem (we don't care about magnitude here)\n",
    "    cho_orth= torch.sqrt(torch.norm(cho)**2-cho_proj**2)\n",
    "    return cho_proj, cho_orth\n",
    "\n",
    "signed_proj_magnitude(cho, ref_dir)"
   ]
  },
  {
   "cell_type": "code",
   "execution_count": 17,
   "metadata": {},
   "outputs": [
    {
     "data": {
      "text/plain": [
       "torch.Size([2, 3, 4, 64])"
      ]
     },
     "execution_count": 17,
     "metadata": {},
     "output_type": "execute_result"
    }
   ],
   "source": [
    "cho.shape"
   ]
  },
  {
   "cell_type": "code",
   "execution_count": 24,
   "metadata": {},
   "outputs": [
    {
     "data": {
      "text/plain": [
       "tensor([[[[27.1383]]],\n",
       "\n",
       "\n",
       "        [[[26.6885]]]])"
      ]
     },
     "execution_count": 24,
     "metadata": {},
     "output_type": "execute_result"
    }
   ],
   "source": [
    "## norm\n",
    "\n",
    "cho.norm(dim=-1)\n",
    "torch.norm_except_dim(cho, dim=0)"
   ]
  },
  {
   "cell_type": "code",
   "execution_count": 28,
   "metadata": {},
   "outputs": [
    {
     "data": {
      "text/plain": [
       "tensor([27.1383, 26.6885])"
      ]
     },
     "execution_count": 28,
     "metadata": {},
     "output_type": "execute_result"
    }
   ],
   "source": [
    "from einops import reduce, rearrange, repeat\n",
    "\n",
    "reduce(cho**2, 'b l t h -> b', 'sum').sqrt()"
   ]
  },
  {
   "cell_type": "code",
   "execution_count": 31,
   "metadata": {},
   "outputs": [
    {
     "data": {
      "text/plain": [
       "tensor([27.1383, 26.6885])"
      ]
     },
     "execution_count": 31,
     "metadata": {},
     "output_type": "execute_result"
    }
   ],
   "source": [
    "def norm(x, dims):\n",
    "    return (x ** 2).sum(dims).sqrt()\n",
    "\n",
    "reduce(cho, 'b l t h -> b', norm)"
   ]
  },
  {
   "cell_type": "code",
   "execution_count": 14,
   "metadata": {},
   "outputs": [
    {
     "data": {
      "text/html": [
       "<div>\n",
       "<style scoped>\n",
       "    .dataframe tbody tr th:only-of-type {\n",
       "        vertical-align: middle;\n",
       "    }\n",
       "\n",
       "    .dataframe tbody tr th {\n",
       "        vertical-align: top;\n",
       "    }\n",
       "\n",
       "    .dataframe thead th {\n",
       "        text-align: right;\n",
       "    }\n",
       "</style>\n",
       "<table border=\"1\" class=\"dataframe\">\n",
       "  <thead>\n",
       "    <tr style=\"text-align: right;\">\n",
       "      <th></th>\n",
       "      <th>amount</th>\n",
       "    </tr>\n",
       "    <tr>\n",
       "      <th>time</th>\n",
       "      <th></th>\n",
       "    </tr>\n",
       "  </thead>\n",
       "  <tbody>\n",
       "    <tr>\n",
       "      <th>2024-10-20 21:06:00</th>\n",
       "      <td>50</td>\n",
       "    </tr>\n",
       "    <tr>\n",
       "      <th>2024-10-21 02:16:00</th>\n",
       "      <td>50</td>\n",
       "    </tr>\n",
       "    <tr>\n",
       "      <th>2024-10-21 05:12:00</th>\n",
       "      <td>60</td>\n",
       "    </tr>\n",
       "    <tr>\n",
       "      <th>2024-10-21 10:36:00</th>\n",
       "      <td>70</td>\n",
       "    </tr>\n",
       "    <tr>\n",
       "      <th>2024-10-21 16:02:00</th>\n",
       "      <td>70</td>\n",
       "    </tr>\n",
       "    <tr>\n",
       "      <th>2024-10-21 19:12:00</th>\n",
       "      <td>60</td>\n",
       "    </tr>\n",
       "    <tr>\n",
       "      <th>2024-10-21 22:00:00</th>\n",
       "      <td>60</td>\n",
       "    </tr>\n",
       "    <tr>\n",
       "      <th>2024-10-22 02:36:00</th>\n",
       "      <td>10</td>\n",
       "    </tr>\n",
       "    <tr>\n",
       "      <th>2024-10-22 03:31:00</th>\n",
       "      <td>40</td>\n",
       "    </tr>\n",
       "    <tr>\n",
       "      <th>2024-10-22 08:32:00</th>\n",
       "      <td>60</td>\n",
       "    </tr>\n",
       "  </tbody>\n",
       "</table>\n",
       "</div>"
      ],
      "text/plain": [
       "                     amount\n",
       "time                       \n",
       "2024-10-20 21:06:00      50\n",
       "2024-10-21 02:16:00      50\n",
       "2024-10-21 05:12:00      60\n",
       "2024-10-21 10:36:00      70\n",
       "2024-10-21 16:02:00      70\n",
       "2024-10-21 19:12:00      60\n",
       "2024-10-21 22:00:00      60\n",
       "2024-10-22 02:36:00      10\n",
       "2024-10-22 03:31:00      40\n",
       "2024-10-22 08:32:00      60"
      ]
     },
     "execution_count": 14,
     "metadata": {},
     "output_type": "execute_result"
    },
    {
     "data": {
      "image/png": "[encoded data removed]",
      "text/plain": [
       "<Figure size 640x480 with 1 Axes>"
      ]
     },
     "metadata": {},
     "output_type": "display_data"
    }
   ],
   "source": [
    "s=\"\"\"[ Sunday, 20 October 2024 7:18 PM ] 25 \n",
    "[ Sunday, 20 October 2024 9:06 PM ] 50\n",
    "[ Monday, 21 October 2024 2:16 AM ] 50\n",
    "[ Monday, 21 October 2024 5:12 AM ]  60\n",
    "[ Monday, 21 October 2024 10:36 AM ] 70\n",
    "[ Monday, 21 October 2024 4:02 PM ] 70\n",
    "[ Monday, 21 October 2024 7:12 PM ] 60\n",
    "[ Monday, 21 October 2024 10:00 PM ] 60\n",
    "[ Tuesday, 22 October 2024 2:36 AM ] 10\n",
    "[ Tuesday, 22 October 2024 3:31 AM ] 40\n",
    "[ Tuesday, 22 October 2024 8:32 AM ] 60\"\"\"\n",
    "\n",
    "import re\n",
    "import pandas as pd\n",
    "def parse_feed_log(log_text):\n",
    "    feeds = []\n",
    "    \n",
    "    for line in log_text.split('\\n'):\n",
    "            \n",
    "        # Look for numbers followed by 'ml' (case insensitive)\n",
    "        import re\n",
    "        amount_match = re.search(r'(\\d+)$', line)\n",
    "        if amount_match:\n",
    "            # Extract timestamp from between brackets\n",
    "            timestamp = re.search(r'\\[(.*?)\\]', line).group(1).strip()\n",
    "            timestamp = pd.Timestamp(timestamp)\n",
    "            amount = int(amount_match.group(1))\n",
    "            feeds.append({'time': timestamp, 'amount': amount})\n",
    "    \n",
    "    return feeds\n",
    "ss = parse_feed_log(s)\n",
    "df = pd.DataFrame(ss).set_index('time')\n",
    "df.plot(style='.')\n",
    "df"
   ]
  },
  {
   "cell_type": "code",
   "execution_count": 11,
   "metadata": {},
   "outputs": [
    {
     "data": {
      "text/html": [
       "<div>\n",
       "<style scoped>\n",
       "    .dataframe tbody tr th:only-of-type {\n",
       "        vertical-align: middle;\n",
       "    }\n",
       "\n",
       "    .dataframe tbody tr th {\n",
       "        vertical-align: top;\n",
       "    }\n",
       "\n",
       "    .dataframe thead th {\n",
       "        text-align: right;\n",
       "    }\n",
       "</style>\n",
       "<table border=\"1\" class=\"dataframe\">\n",
       "  <thead>\n",
       "    <tr style=\"text-align: right;\">\n",
       "      <th></th>\n",
       "      <th>time</th>\n",
       "      <th>amount</th>\n",
       "    </tr>\n",
       "  </thead>\n",
       "  <tbody>\n",
       "    <tr>\n",
       "      <th>0</th>\n",
       "      <td>2024-10-20 21:06:00</td>\n",
       "      <td>50</td>\n",
       "    </tr>\n",
       "    <tr>\n",
       "      <th>1</th>\n",
       "      <td>2024-10-21 02:16:00</td>\n",
       "      <td>50</td>\n",
       "    </tr>\n",
       "    <tr>\n",
       "      <th>2</th>\n",
       "      <td>2024-10-21 05:12:00</td>\n",
       "      <td>60</td>\n",
       "    </tr>\n",
       "    <tr>\n",
       "      <th>3</th>\n",
       "      <td>2024-10-21 10:36:00</td>\n",
       "      <td>70</td>\n",
       "    </tr>\n",
       "    <tr>\n",
       "      <th>4</th>\n",
       "      <td>2024-10-21 16:02:00</td>\n",
       "      <td>70</td>\n",
       "    </tr>\n",
       "    <tr>\n",
       "      <th>5</th>\n",
       "      <td>2024-10-21 19:12:00</td>\n",
       "      <td>60</td>\n",
       "    </tr>\n",
       "    <tr>\n",
       "      <th>6</th>\n",
       "      <td>2024-10-21 22:00:00</td>\n",
       "      <td>60</td>\n",
       "    </tr>\n",
       "    <tr>\n",
       "      <th>7</th>\n",
       "      <td>2024-10-22 02:36:00</td>\n",
       "      <td>10</td>\n",
       "    </tr>\n",
       "    <tr>\n",
       "      <th>8</th>\n",
       "      <td>2024-10-22 03:31:00</td>\n",
       "      <td>40</td>\n",
       "    </tr>\n",
       "    <tr>\n",
       "      <th>9</th>\n",
       "      <td>2024-10-22 08:32:00</td>\n",
       "      <td>60</td>\n",
       "    </tr>\n",
       "  </tbody>\n",
       "</table>\n",
       "</div>"
      ],
      "text/plain": [
       "                 time  amount\n",
       "0 2024-10-20 21:06:00      50\n",
       "1 2024-10-21 02:16:00      50\n",
       "2 2024-10-21 05:12:00      60\n",
       "3 2024-10-21 10:36:00      70\n",
       "4 2024-10-21 16:02:00      70\n",
       "5 2024-10-21 19:12:00      60\n",
       "6 2024-10-21 22:00:00      60\n",
       "7 2024-10-22 02:36:00      10\n",
       "8 2024-10-22 03:31:00      40\n",
       "9 2024-10-22 08:32:00      60"
      ]
     },
     "execution_count": 11,
     "metadata": {},
     "output_type": "execute_result"
    }
   ],
   "source": [
    "df"
   ]
  },
  {
   "cell_type": "code",
   "execution_count": null,
   "metadata": {},
   "outputs": [],
   "source": []
  }
 ],
 "metadata": {
  "kernelspec": {
   "display_name": ".venv",
   "language": "python",
   "name": "python3"
  },
  "language_info": {
   "codemirror_mode": {
    "name": "ipython",
    "version": 3
   },
   "file_extension": ".py",
   "mimetype": "text/x-python",
   "name": "python",
   "nbconvert_exporter": "python",
   "pygments_lexer": "ipython3",
   "version": "3.10.12"
  }
 },
 "nbformat": 4,
 "nbformat_minor": 2
}
