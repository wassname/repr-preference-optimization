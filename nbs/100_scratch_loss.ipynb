{
 "cells": [
  {
   "cell_type": "code",
   "execution_count": 1,
   "metadata": {},
   "outputs": [],
   "source": [
    "import torch\n",
    "from torch import Tensor\n",
    "from jaxtyping import Float\n",
    "\n",
    "a:Float[Tensor, \"b t h\"] = torch.randn(2, 3, 4)\n",
    "b: Float[Tensor, \"b t h\"] = torch.randn(2, 3, 4)\n",
    "attn: Float[Tensor, \"b t\"] = torch.randn(2, 3)\n",
    "a_ref:  Float[Tensor, \"b t h\"] = torch.randn(2, 3, 4)\n",
    "b_ref:  Float[Tensor, \"b t h\"] = torch.randn(2, 3, 4)\n",
    "attn_ref: Float[Tensor, \"b t\"] = torch.randn(2, 3)"
   ]
  },
  {
   "cell_type": "code",
   "execution_count": 4,
   "metadata": {},
   "outputs": [
    {
     "data": {
      "text/plain": [
       "tensor(-0.3211)"
      ]
     },
     "execution_count": 4,
     "metadata": {},
     "output_type": "execute_result"
    }
   ],
   "source": [
    "torch.log(torch.abs(a-b)/torch.abs(a_ref+b_ref)).mean()"
   ]
  },
  {
   "cell_type": "code",
   "execution_count": 5,
   "metadata": {},
   "outputs": [
    {
     "data": {
      "text/plain": [
       "tensor(-1.0143)"
      ]
     },
     "execution_count": 5,
     "metadata": {},
     "output_type": "execute_result"
    },
    {
     "ename": "",
     "evalue": "",
     "output_type": "error",
     "traceback": [
      "\u001b[1;31mThe Kernel crashed while executing code in the current cell or a previous cell. \n",
      "\u001b[1;31mPlease review the code in the cell(s) to identify a possible cause of the failure. \n",
      "\u001b[1;31mClick <a href='https://aka.ms/vscodeJupyterKernelCrash'>here</a> for more info. \n",
      "\u001b[1;31mView Jupyter <a href='command:jupyter.viewOutput'>log</a> for further details."
     ]
    }
   ],
   "source": [
    "# should be closer\n",
    "b2 = (a+b)/2\n",
    "torch.log(torch.abs(a-b2)/torch.abs(a_ref+b_ref)).mean()"
   ]
  },
  {
   "cell_type": "code",
   "execution_count": null,
   "metadata": {},
   "outputs": [],
   "source": []
  },
  {
   "cell_type": "code",
   "execution_count": 11,
   "metadata": {},
   "outputs": [
    {
     "name": "stdout",
     "output_type": "stream",
     "text": [
      "Approach 1 non-finite values: 0\n",
      "Approach 2 non-finite values: 0\n",
      "Approach 3 non-finite values: 0\n",
      "\n",
      "Approach 1: mean = -1.100063e-04, std = 4.488434e-01\n",
      "Approach 2: mean = 4.900776e-01, std = 4.144593e-01\n",
      "Approach 3: mean = -1.100062e-04, std = 4.488434e-01\n"
     ]
    }
   ],
   "source": [
    "import torch\n",
    "import numpy as np\n",
    "\n",
    "def generate_small_distances(n=1000000, scale=1e-10):\n",
    "    r =  torch.abs(torch.randn(n)) * scale\n",
    "    r[:3] = 0 \n",
    "    return r\n",
    "\n",
    "def compare_stability(dist_ab, dist_ab_ref, eps=1e-10):\n",
    "    # Approach 1: torch.log(dist_ab / dist_ab_ref)\n",
    "    result1 = torch.log((dist_ab+eps) / (dist_ab_ref + eps))\n",
    "    \n",
    "    # Approach 2: dist_ab / dist_ab_ref\n",
    "    result2 = dist_ab / (dist_ab_ref+eps)\n",
    "    \n",
    "    # Approach 3: torch.log(dist_ab) - torch.log(dist_ab_ref)\n",
    "    result3 = torch.log(dist_ab+eps) - torch.log(dist_ab_ref+eps)\n",
    "    \n",
    "    return result1, result2, result3\n",
    "\n",
    "# Generate very small distances\n",
    "dist_ab = generate_small_distances()\n",
    "dist_ab_ref = generate_small_distances()\n",
    "\n",
    "# Compare stability\n",
    "result1, result2, result3 = compare_stability(dist_ab, dist_ab_ref)\n",
    "\n",
    "# Function to count non-finite values\n",
    "def count_non_finite(tensor):\n",
    "    return torch.sum(~torch.isfinite(tensor)).item()\n",
    "\n",
    "print(f\"Approach 1 non-finite values: {count_non_finite(result1)}\")\n",
    "print(f\"Approach 2 non-finite values: {count_non_finite(result2)}\")\n",
    "print(f\"Approach 3 non-finite values: {count_non_finite(result3)}\")\n",
    "\n",
    "# Calculate mean and std for each approach, ignoring non-finite values\n",
    "def safe_stats(tensor):\n",
    "    finite_values = tensor[torch.isfinite(tensor)]\n",
    "    return finite_values.mean().item(), finite_values.std().item()\n",
    "\n",
    "mean1, std1 = safe_stats(result1)\n",
    "mean2, std2 = safe_stats(result2)\n",
    "mean3, std3 = safe_stats(result3)\n",
    "\n",
    "print(f\"\\nApproach 1: mean = {mean1:.6e}, std = {std1:.6e}\")\n",
    "print(f\"Approach 2: mean = {mean2:.6e}, std = {std2:.6e}\")\n",
    "print(f\"Approach 3: mean = {mean3:.6e}, std = {std3:.6e}\")"
   ]
  },
  {
   "cell_type": "code",
   "execution_count": 12,
   "metadata": {},
   "outputs": [
    {
     "name": "stdout",
     "output_type": "stream",
     "text": [
      "Approach 1 non-finite values: 0\n",
      "Approach 2 non-finite values: 0\n",
      "Approach 3 non-finite values: 0\n",
      "\n",
      "Approach 1: mean = -5.770955e-05, std = 3.300098e-01\n",
      "Approach 2: mean = 7.220803e-01, std = 5.714583e-01\n",
      "Approach 3: mean = -5.770929e-05, std = 3.300095e-01\n"
     ]
    }
   ],
   "source": [
    "\n",
    "def compare_stability2(dist_ab, dist_ab_ref, eps=1e-10):\n",
    "    # Approach 1: torch.log(dist_ab / dist_ab_ref)\n",
    "    result1 = torch.log(dist_ab.clamp_min(eps) / dist_ab_ref.clamp_min(eps))\n",
    "    \n",
    "    # Approach 2: dist_ab / dist_ab_ref\n",
    "    result2 = dist_ab / (dist_ab_ref.clamp_min(eps))\n",
    "    \n",
    "    # Approach 3: torch.log(dist_ab) - torch.log(dist_ab_ref)\n",
    "    result3 = torch.log(dist_ab.clamp_min(eps)) - torch.log(dist_ab_ref.clamp_min(eps))\n",
    "    \n",
    "    return result1, result2, result3\n",
    "\n",
    "\n",
    "# Compare stability\n",
    "result1, result2, result3 = compare_stability2(dist_ab, dist_ab_ref)\n",
    "\n",
    "# Function to count non-finite values\n",
    "def count_non_finite(tensor):\n",
    "    return torch.sum(~torch.isfinite(tensor)).item()\n",
    "\n",
    "print(f\"Approach 1 non-finite values: {count_non_finite(result1)}\")\n",
    "print(f\"Approach 2 non-finite values: {count_non_finite(result2)}\")\n",
    "print(f\"Approach 3 non-finite values: {count_non_finite(result3)}\")\n",
    "\n",
    "# Calculate mean and std for each approach, ignoring non-finite values\n",
    "def safe_stats(tensor):\n",
    "    finite_values = tensor[torch.isfinite(tensor)]\n",
    "    return finite_values.mean().item(), finite_values.std().item()\n",
    "\n",
    "mean1, std1 = safe_stats(result1)\n",
    "mean2, std2 = safe_stats(result2)\n",
    "mean3, std3 = safe_stats(result3)\n",
    "\n",
    "print(f\"\\nApproach 1: mean = {mean1:.6e}, std = {std1:.6e}\")\n",
    "print(f\"Approach 2: mean = {mean2:.6e}, std = {std2:.6e}\")\n",
    "print(f\"Approach 3: mean = {mean3:.6e}, std = {std3:.6e}\")"
   ]
  },
  {
   "cell_type": "code",
   "execution_count": null,
   "metadata": {},
   "outputs": [],
   "source": []
  }
 ],
 "metadata": {
  "kernelspec": {
   "display_name": ".venv",
   "language": "python",
   "name": "python3"
  },
  "language_info": {
   "codemirror_mode": {
    "name": "ipython",
    "version": 3
   },
   "file_extension": ".py",
   "mimetype": "text/x-python",
   "name": "python",
   "nbconvert_exporter": "python",
   "pygments_lexer": "ipython3",
   "version": "3.9.16"
  }
 },
 "nbformat": 4,
 "nbformat_minor": 2
}
