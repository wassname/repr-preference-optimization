{
 "cells": [
  {
   "cell_type": "code",
   "execution_count": 1,
   "metadata": {},
   "outputs": [],
   "source": [
    "import re, os, sys, json, time, requests\n",
    "from pathlib import Path\n",
    "import pandas as pd\n",
    "import numpy as np\n",
    "\n",
    "# TODO just load the parquets and run parse_eval\n",
    "# or run my own eval"
   ]
  },
  {
   "cell_type": "code",
   "execution_count": 2,
   "metadata": {},
   "outputs": [
    {
     "data": {
      "text/plain": [
       "[PosixPath('../outputs/wassname-llama-3-2-1b-sft_side-SVD-MSE_us_history_textbook/2024-10-05_04-58-14/eval.parquet'),\n",
       " PosixPath('../outputs/wassname-llama-3-2-1b-sft_side-SVD-MSE_us_history_textbook/2024-10-05_05-01-29/eval.parquet'),\n",
       " PosixPath('../outputs/wassname-llama-3-2-1b-sft_side-SVD-MSE_us_history_textbook/2024-10-05_05-25-00/eval.parquet'),\n",
       " PosixPath('../outputs/wassname-llama-3-2-1b-sft_side-SVD-MSE_us_history_textbook/2024-10-05_05-28-42/eval.parquet'),\n",
       " PosixPath('../outputs/wassname-llama-3-2-1b-sft_side-SVD-MSE_us_history_textbook/2024-10-05_05-32-15/eval.parquet'),\n",
       " PosixPath('../outputs/wassname-llama-3-2-1b-sft_side-SVD-MSE_us_history_textbook/2024-10-05_05-35-47/eval.parquet'),\n",
       " PosixPath('../outputs/wassname-llama-3-2-1b-sft_side-SVD-MSE_us_history_textbook/2024-10-11_00-09-35/eval.parquet'),\n",
       " PosixPath('../outputs/wassname-llama-3-2-1b-sft_side-SVD-MSE_us_history_textbook/2024-10-11_04-36-06/eval.parquet'),\n",
       " PosixPath('../outputs/wassname-llama-3-2-1b-sft_side-SVD-PrefVec_us_history_textbook/2024-10-11_00-05-32/eval.parquet'),\n",
       " PosixPath('../outputs/wassname-llama-3-2-1b-sft_side-SVD-Rank_us_history_textbook/2024-10-11_00-01-16/eval.parquet')]"
      ]
     },
     "execution_count": 2,
     "metadata": {},
     "output_type": "execute_result"
    }
   ],
   "source": [
    "# TODO load config.json, load eval.parquet\n",
    "fs = sorted(Path('../outputs').glob('**/eval.parquet'))\n",
    "fs[-10:]"
   ]
  },
  {
   "cell_type": "code",
   "execution_count": 3,
   "metadata": {},
   "outputs": [
    {
     "ename": "SyntaxError",
     "evalue": "'[' was never closed (3341264870.py, line 15)",
     "output_type": "error",
     "traceback": [
      "\u001b[0;36m  Cell \u001b[0;32mIn[3], line 15\u001b[0;36m\u001b[0m\n\u001b[0;31m    key_columns = ['dataset', 'base_model'\u001b[0m\n\u001b[0m                  ^\u001b[0m\n\u001b[0;31mSyntaxError\u001b[0m\u001b[0;31m:\u001b[0m '[' was never closed\n"
     ]
    }
   ],
   "source": [
    "def load_eval(f):\n",
    "    print(f.parent.parent.stem)\n",
    "    config = json.load((f.parent / 'config.json').open())\n",
    "    log = (f.parent / 'log.txt').open().read()\n",
    "\n",
    "    # dataframe of all non list/dict/tuple in config\n",
    "    config_df = pd.DataFrame({k: v for k, v in config.items() if not isinstance(v, (list, dict, tuple))}, index=[0])\n",
    "    config_df['log'] = log\n",
    "    config_df['file'] = f\n",
    "    config_df['ts'] = f.parent.stem\n",
    "    _, method, _ = f.parent.parent.stem.split('_', 3) # this is {model}_{method}_{dataset}\n",
    "    config_df['method'] = method\n",
    "\n",
    "    # put key cols first\n",
    "    key_columns = ['dataset', 'base_model'\n",
    "    return config_df\n",
    "\n",
    "df = pd.concat([load_eval(f) for f in fs[-10:]])\n",
    "df"
   ]
  },
  {
   "cell_type": "code",
   "execution_count": null,
   "metadata": {},
   "outputs": [],
   "source": []
  }
 ],
 "metadata": {
  "kernelspec": {
   "display_name": ".venv",
   "language": "python",
   "name": "python3"
  },
  "language_info": {
   "codemirror_mode": {
    "name": "ipython",
    "version": 3
   },
   "file_extension": ".py",
   "mimetype": "text/x-python",
   "name": "python",
   "nbconvert_exporter": "python",
   "pygments_lexer": "ipython3",
   "version": "3.11.10"
  }
 },
 "nbformat": 4,
 "nbformat_minor": 2
}
