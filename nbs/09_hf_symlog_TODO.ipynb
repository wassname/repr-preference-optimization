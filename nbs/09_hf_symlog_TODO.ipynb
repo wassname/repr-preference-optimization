{
 "cells": [
  {
   "cell_type": "markdown",
   "metadata": {},
   "source": [
    "Trying to modify hf dpo to work with the repos hypothesis...\n",
    "\n",
    "see\n",
    "- https://huggingface.co/docs/trl/main/en/dpo_trainer#accelerate-dpo-fine-tuning-using-unsloth\n",
    "- https://gist.github.com/alvarobartt/9898c33eb3e9c7108d9ed2330f12a708\n",
    "- https://colab.research.google.com/drive/15vttTpzzVXv_tJwEk-hIcQ0S9FcEWvwP?usp=sharing#scrollTo=QtoqUw80QDV0"
   ]
  },
  {
   "cell_type": "code",
   "execution_count": 1,
   "metadata": {},
   "outputs": [],
   "source": [
    "%reload_ext autoreload\n",
    "%autoreload 2"
   ]
  },
  {
   "cell_type": "code",
   "execution_count": 2,
   "metadata": {},
   "outputs": [],
   "source": [
    "import os\n",
    "os.environ[\"TOKENIZERS_PARALLELISM\"] = \"false\"\n",
    "os.environ[\"WANDB_PROJECT\"] = \"repo-dpo\" \n",
    "os.environ[\"CUDA_VISIBLE_DEVICES\"] = \"0\"\n",
    "# os.environ[\"WANDB_DISABLED\"] = \"true\"\n",
    "\n"
   ]
  },
  {
   "cell_type": "code",
   "execution_count": 3,
   "metadata": {},
   "outputs": [],
   "source": [
    "import wandb\n",
    "os.environ['WANDB_NOTEBOOK_NAME'] = nb_name = os.path.basename(globals()['__vsc_ipynb_file__'])\n",
    "# enable wandb service (experimental, https://github.com/wandb/client/blob/master/docs/dev/wandb-service-user.md)\n",
    "# this hopefully fixes issues with multiprocessing\n",
    "wandb.require(experiment='service')\n",
    "# wandb.init()\n",
    "\n"
   ]
  },
  {
   "cell_type": "code",
   "execution_count": 4,
   "metadata": {},
   "outputs": [],
   "source": [
    "import warnings\n",
    "# warnings.simplefilter(\"ignore\")\n",
    "# warnings.filterwarnings(\"ignore\", \".*does not have many workers.*\")\n",
    "# warnings.filterwarnings(\"ignore\", \".*divide by zero.*\")\n",
    "warnings.filterwarnings(\"ignore\", \".*torch.utils.checkpoint: the use_reentrant parameter should be passed explicitly.*\")\n",
    "warnings.filterwarnings(\"ignore\", \".*`do_sample` is set to.*\")\n",
    "warnings.filterwarnings(\"ignore\", \".*None of the inputs have requires_grad=True. Gradients will be None*\")\n"
   ]
  },
  {
   "cell_type": "code",
   "execution_count": 5,
   "metadata": {},
   "outputs": [],
   "source": [
    "import torch\n",
    "import numpy as np\n",
    "from datasets import load_dataset\n",
    "from peft import LoraConfig, get_peft_model\n",
    "from transformers import AutoTokenizer, AutoModelForCausalLM\n",
    "from trl import DPOTrainer\n",
    "from trl import DPOConfig, DPOTrainer\n",
    "import gc\n",
    "import torch\n",
    "import torch.nn as nn\n",
    "import torch.nn.functional as F\n",
    "from typing import Any, Callable, Dict, List, Literal, Optional, Tuple, Union\n",
    "from einops import rearrange"
   ]
  },
  {
   "cell_type": "code",
   "execution_count": 6,
   "metadata": {},
   "outputs": [],
   "source": [
    "from contextlib import contextmanager\n",
    "import pandas as pd\n",
    "from matplotlib import pyplot as plt\n",
    "from transformers.trainer import ProgressCallback\n",
    "from transformers.utils.notebook import NotebookProgressCallback\n",
    "\n",
    "from reprpo.helpers.adapters import set_adapter"
   ]
  },
  {
   "cell_type": "markdown",
   "metadata": {},
   "source": []
  },
  {
   "cell_type": "code",
   "execution_count": 7,
   "metadata": {},
   "outputs": [],
   "source": [
    "torch.set_float32_matmul_precision(\"medium\")\n",
    "# torch.use_deterministic_algorithms(True)"
   ]
  },
  {
   "cell_type": "code",
   "execution_count": 8,
   "metadata": {},
   "outputs": [
    {
     "data": {
      "text/plain": [
       "7500"
      ]
     },
     "execution_count": 8,
     "metadata": {},
     "output_type": "execute_result"
    }
   ],
   "source": [
    "max_prompt_length=128\n",
    "# num_samples = 50 * 16 * 6\n",
    "num_samples = 1500 * 1 * 5 # from circuit breaker * 3\n",
    "max_length = 256\n",
    "num_samples"
   ]
  },
  {
   "cell_type": "markdown",
   "metadata": {},
   "source": [
    "## load the model"
   ]
  },
  {
   "cell_type": "code",
   "execution_count": 9,
   "metadata": {},
   "outputs": [],
   "source": [
    "!pip install flash-attn --no-build-isolation --no-deps -qq"
   ]
  },
  {
   "cell_type": "code",
   "execution_count": 10,
   "metadata": {},
   "outputs": [
    {
     "name": "stderr",
     "output_type": "stream",
     "text": [
      "Special tokens have been added in the vocabulary, make sure the associated word embeddings are fine-tuned or trained.\n",
      "The `load_in_4bit` and `load_in_8bit` arguments are deprecated and will be removed in the future versions. Please, pass a `BitsAndBytesConfig` object in `quantization_config` argument instead.\n"
     ]
    },
    {
     "data": {
      "application/vnd.jupyter.widget-view+json": {
       "model_id": "7e12ea3e835348428804ca69e1108d86",
       "version_major": 2,
       "version_minor": 0
      },
      "text/plain": [
       "Loading checkpoint shards:   0%|          | 0/4 [00:00<?, ?it/s]"
      ]
     },
     "metadata": {},
     "output_type": "display_data"
    },
    {
     "name": "stdout",
     "output_type": "stream",
     "text": [
      "trainable params: 41943040 || all params: 4582543360 || trainable%: 0.9152786281546499\n"
     ]
    }
   ],
   "source": [
    "# FIXME: we are meant to SFT first, so that the preferences are in sample but 1) if this works it might not be needed, and 2) this can be added later, if it works\n",
    "# for now we will use the instruct model, and try something it wasn't meant to do but it in sample \n",
    "model_name = \"NousResearch/Meta-Llama-3-8B-Instruct\"\n",
    "use_gradient_checkpointing = True\n",
    "\n",
    "## Big adapter\n",
    "peft_config = LoraConfig(\n",
    "    lora_alpha=16, \n",
    "    r=16,\n",
    "    lora_dropout=0.0,\n",
    "    # use_rslora=True,\n",
    "    # use_dora=True,\n",
    "    task_type=\"CAUSAL_LM\",\n",
    "    target_modules=[\"q_proj\", \"k_proj\", \"v_proj\", \"o_proj\", \"gate_proj\", \"up_proj\", \"down_proj\"]\n",
    ")\n",
    "from reprpo.models.load import load_model, print_trainable_parameters\n",
    "from peft import prepare_model_for_kbit_training\n",
    "from peft import LoraConfig, get_peft_model\n",
    "\n",
    "model, tokenizer = load_model(model_name, )\n",
    "\n",
    "if use_gradient_checkpointing:\n",
    "    model.enable_input_require_grads()\n",
    "# from trl.trainer.utils import peft_module_casting_to_bf16\n",
    "# peft_module_casting_to_bf16(model)\n",
    "adapter_name='ReprPO'\n",
    "model = prepare_model_for_kbit_training(model, {'use_gradient_checkpointing': use_gradient_checkpointing})\n",
    "model = get_peft_model(model, peft_config, adapter_name=adapter_name)\n",
    "print_trainable_parameters(model)"
   ]
  },
  {
   "cell_type": "markdown",
   "metadata": {},
   "source": [
    "## Dataset"
   ]
  },
  {
   "cell_type": "code",
   "execution_count": 11,
   "metadata": {},
   "outputs": [],
   "source": [
    "def sample(dataset, N):\n",
    "    return (dataset\n",
    "            .shuffle(42)\n",
    "            .select(range(\n",
    "            min(len(dataset), N)))\n",
    "    )"
   ]
  },
  {
   "cell_type": "code",
   "execution_count": 12,
   "metadata": {},
   "outputs": [
    {
     "data": {
      "text/plain": [
       "DatasetDict({\n",
       "    train: Dataset({\n",
       "        features: ['prompt', 'chosen', 'rejected'],\n",
       "        num_rows: 7221\n",
       "    })\n",
       "    validation: Dataset({\n",
       "        features: ['prompt', 'chosen', 'rejected'],\n",
       "        num_rows: 373\n",
       "    })\n",
       "})"
      ]
     },
     "execution_count": 12,
     "metadata": {},
     "output_type": "execute_result"
    }
   ],
   "source": [
    "# dataset = load_dataset('Columbia-NLP/DPO-HelpSteer')\n",
    "dataset = load_dataset('Atsunori/HelpSteer2-DPO')\n",
    "dataset['train'] = sample(dataset['train'], num_samples)\n",
    "dataset2 = dataset.rename_column('chosen_response', 'chosen').rename_column('rejected_response', 'rejected')\n",
    "dataset2"
   ]
  },
  {
   "cell_type": "code",
   "execution_count": 13,
   "metadata": {},
   "outputs": [],
   "source": [
    "# def format_ds(row):\n",
    "    \n",
    "#     # WHY are we doing this? Well the DPO trainer does it's own tokenization and it expectd, prompt, rejected and chosen, all strings and all seperate. Is this good, idk\n",
    "#     return {\n",
    "#         \"chosen\": row['chosen_response'][1]['content'],\n",
    "#         \"rejected\": row['rejected_response'][1]['content'],\n",
    "#     }\n",
    "\n",
    "\n",
    "# dataset2 = dataset.map(format_ds)\n"
   ]
  },
  {
   "cell_type": "code",
   "execution_count": 14,
   "metadata": {},
   "outputs": [
    {
     "name": "stdout",
     "output_type": "stream",
     "text": [
      "When did women join the labor workforce outside of the home? What caused the change from housewife to breadwinner? Write a short informative paragraph under 200 words.\n",
      "===\n",
      "In the early 20th century, less than 20% of women worked outside the home. Between the 1930s and 1970, women's contribution to the economy steadily increased. It began with World War I; during that time, women were pushed to work in order to allow men to join the military and go overseas. Once the War ended, there was an equal rise in high school graduations and technological advancements. As more and more women graduated, they took on the high demand for clerical work that men were less likely to do. Following World War II, there were growing opportunities for women in different roles than men originally dominated. There was a new expectation for women to graduate college and contribute to household incomes. By 1990, the percentage of women working increased by 76%. Recent research shows that there are approximately the same number of women in professional schools as men. According to Forbes in July 2023, 57.4 percent of the workforce are women.\n",
      "---\n",
      "The 1900s saw a dramatic shift in the role of women in the workforce. Prior to this time, women were primarily homemakers and caregivers, with limited opportunities for paid work outside the home. However, with the rise of industrialization and the growth of the economy, women began to enter the workforce in increasing numbers.\n",
      "\n",
      "One of the primary factors that led to this change was the need for workers in factories and other industries. As men went off to war or pursued other opportunities, women were needed to fill the gaps in the workforce. This need for workers created a new sense of opportunity for women, who had previously been limited by social and cultural expectations.\n",
      "\n",
      "Another factor that contributed to the change was the growing feminist movement. Women's rights activists worked to break down barriers and stereotypes that prevented women from pursuing their own goals and ambitions. They fought for equal pay, equal opportunities, and the right to vote, among other rights.\n",
      "\n",
      "As a result of these and other factors, women began to enter the workforce in increasing numbers. They worked in factories, offices, and other industries, often performing the same jobs as men. This shift in the role of women had a profound impact on society, changing the way that people thought about gender roles and the value of women's work.\n",
      "\n",
      "Today, women continue to make up a significant portion of the workforce, and many have achieved success in a wide range of industries. While there is still work to be done to achieve true gender equality, the changes that began in the early 1900s have paved the way for a more diverse and inclusive workforce.\n"
     ]
    }
   ],
   "source": [
    "r = dataset2['train'][0]\n",
    "print(r['prompt'])\n",
    "print('===')\n",
    "print(r['chosen'])\n",
    "print('---')\n",
    "print(r['rejected'])"
   ]
  },
  {
   "cell_type": "markdown",
   "metadata": {},
   "source": [
    "## Eval TQA helpers"
   ]
  },
  {
   "cell_type": "code",
   "execution_count": 15,
   "metadata": {},
   "outputs": [],
   "source": [
    "from reprpo.data.tqa import load_tqa\n",
    "from torch.utils.data import DataLoader\n",
    "import numpy as np\n",
    "\n",
    "\n",
    "# dataset2_tqa, choice_ids = load_tqa(tokenizer, max_length, N=817)"
   ]
  },
  {
   "cell_type": "markdown",
   "metadata": {},
   "source": [
    "How to measure TQA?\n",
    "- [TruthfullLamama](https://github.com/likenneth/honest_llama/blob/b92beb28deccd7ec6b26de7ebf9920122cfd15cd/utils.py#L268) uses https://github.com/sylinrl/TruthfulQA\n",
    "  - see [def MC_calcs(tag, frame, idx, scores_true, scores_false, ref_true, ref_best):](https://github.com/sylinrl/TruthfulQA/blob/fdd8ad1c0d00a478cf8b0bb41a3ad8378c16293b/truthfulqa/models.py#L540)\n",
    "- and runs each answer, getting the total prob of that string `log_probs.sum()`"
   ]
  },
  {
   "cell_type": "code",
   "execution_count": 16,
   "metadata": {},
   "outputs": [],
   "source": [
    "# from reprpo.eval.mc import eval_tqa\n",
    "from reprpo.gen import generation_test"
   ]
  },
  {
   "cell_type": "markdown",
   "metadata": {},
   "source": [
    "## Train"
   ]
  },
  {
   "cell_type": "code",
   "execution_count": null,
   "metadata": {},
   "outputs": [],
   "source": []
  },
  {
   "cell_type": "markdown",
   "metadata": {},
   "source": [
    "### Modified classes\n",
    "\n",
    "- here we can defined the experimetns loss function"
   ]
  },
  {
   "cell_type": "code",
   "execution_count": null,
   "metadata": {},
   "outputs": [],
   "source": []
  },
  {
   "cell_type": "code",
   "execution_count": null,
   "metadata": {},
   "outputs": [],
   "source": []
  },
  {
   "cell_type": "code",
   "execution_count": 17,
   "metadata": {},
   "outputs": [],
   "source": [
    "from reprpo.trainer import ReprPOTrainer, ReprPOConfig, wmean, coeffecient, top_k_mse, norm_smooth_l1_loss, cka_inspired_similarity, symlog_loss, mean_with_attention\n",
    "\n",
    "\n",
    "class ReprPOTrainer2(ReprPOTrainer):\n",
    "\n",
    "    def reprpo_loss(\n",
    "        self,\n",
    "        policy_chosen_logps: torch.FloatTensor,\n",
    "        policy_rejected_logps: torch.FloatTensor,\n",
    "        policy_chosen_hs: torch.FloatTensor,\n",
    "        policy_rejected_hs: torch.FloatTensor,\n",
    "        reference_chosen_logps: torch.FloatTensor,\n",
    "        reference_rejected_logps: torch.FloatTensor,\n",
    "        reference_chosen_hs: torch.FloatTensor,\n",
    "        chosen_attn_mask: torch.BoolTensor,\n",
    "        rejected_attn_mask: torch.BoolTensor\n",
    "    ) -> Tuple[torch.FloatTensor, torch.FloatTensor, torch.FloatTensor]:\n",
    "        \"\"\"Compute the DPO loss for a batch of policy and reference model log probabilities.\n",
    "\n",
    "        Args:\n",
    "            policy_chosen_logps: Log probabilities of the policy model for the chosen responses. Shape: (batch_size,)\n",
    "            policy_rejected_logps: Log probabilities of the policy model for the rejected responses. Shape: (batch_size,)\n",
    "            reference_chosen_logps: Log probabilities of the reference model for the chosen responses. Shape: (batch_size,)\n",
    "            reference_rejected_logps: Log probabilities of the reference model for the rejected responses. Shape: (batch_size,)\n",
    "\n",
    "        Returns:\n",
    "            A tuple of three tensors: (losses, chosen_rewards, rejected_rewards).\n",
    "            The losses tensor contains the DPO loss for each example in the batch.\n",
    "            The chosen_rewards and rejected_rewards tensors contain the rewards for the chosen and rejected responses, respectively.\n",
    "        \"\"\"\n",
    "        \n",
    "        # pi_logratios = policy_chosen_logps - policy_rejected_logps\n",
    "        # if self.reference_free:\n",
    "        #     ref_logratios = torch.tensor([0], dtype=pi_logratios.dtype, device=pi_logratios.device)\n",
    "        # else:\n",
    "        #     ref_logratios = reference_chosen_logps - reference_rejected_logps\n",
    "    \n",
    "\n",
    "        # # log(prob_chosen/prob_rejected) the prob of the chosen strings over the rejected string. 0 is not difference. -ve means rejected is larger\n",
    "        # pi_logratios = pi_logratios.to(self.accelerator.device)\n",
    "        # ref_logratios = ref_logratios.to(self.accelerator.device)\n",
    "        # logits = pi_logratios - ref_logratios\n",
    "\n",
    "        # # Can we weight by how much better the reference model was\n",
    "        # T = 30\n",
    "        # weight_correct = torch.softmax(-logits*T, 0).detach()\n",
    "\n",
    "        # mean of bad repr should be more similar to the mean of good behavior\n",
    "        # TODO try this one without symlog?\n",
    "        loss_rr = symlog_loss(policy_rejected_hs, reference_chosen_hs)\n",
    "        # loss_rr = wmean(loss_rr, 1-weight_correct).mean()\n",
    "        # loss_rr = loss_rr.mean()\n",
    "        loss_rr = mean_with_attention(loss_rr, rejected_attn_mask*chosen_attn_mask).mean()\n",
    "        \n",
    "        # #  b l t h\n",
    "        # # a mean, norm, loss over the hidden dim of each layer\n",
    "        # # This loss says the good repr should be retained, weighted by how good this samples was\n",
    "        loss_retain = symlog_loss(policy_chosen_hs, reference_chosen_hs)\n",
    "        # loss_retain = wmean(loss_retain, weight_correct)\n",
    "        # loss_retain = loss_retain.mean()\n",
    "        loss_retain = mean_with_attention(loss_retain, chosen_attn_mask).mean()\n",
    "\n",
    "        # steps = self.state.global_step + 1\n",
    "        c_retain, c_rr = self.get_coeff()\n",
    "        loss = (loss_rr*c_rr + loss_retain*c_retain * self.alpha).sum()\n",
    "        # loss = loss_rr.sum()\n",
    "\n",
    "        # difference in logps for chosen responses, between policy and reference model\n",
    "        # # The beta is a temperature parameter for the DPO loss, typically something in the range of 0.1 to 0.5.\n",
    "        chosen_rewards = (\n",
    "            self.beta\n",
    "            * (\n",
    "                policy_chosen_logps.to(self.accelerator.device) - reference_chosen_logps.to(self.accelerator.device)\n",
    "            ).detach()\n",
    "        )\n",
    "\n",
    "        # difference in logps for rejected responses, between policy and reference model\n",
    "        rejected_rewards = (\n",
    "            self.beta\n",
    "            * (\n",
    "                policy_rejected_logps.to(self.accelerator.device)\n",
    "                - reference_rejected_logps.to(self.accelerator.device)\n",
    "            ).detach()\n",
    "        )\n",
    "\n",
    "        return loss, dict(loss=loss.detach(), chosen_rewards=chosen_rewards, rejected_rewards=rejected_rewards, loss_retain=loss_retain.mean().detach(), loss_rr=loss_rr.detach(),\n",
    "                          loss_component_rr = loss_rr.detach() * c_rr,\n",
    "            loss_component_retain = loss_retain.detach() * c_retain * self.alpha,\n",
    "            c_rr=c_rr,\n",
    "            c_retain=c_retain\n",
    "                          )\n",
    "    "
   ]
  },
  {
   "cell_type": "markdown",
   "metadata": {},
   "source": [
    "### Run"
   ]
  },
  {
   "cell_type": "code",
   "execution_count": 18,
   "metadata": {},
   "outputs": [],
   "source": [
    "from reprpo.helpers.torch import clear_mem\n",
    "clear_mem()"
   ]
  },
  {
   "cell_type": "code",
   "execution_count": 19,
   "metadata": {},
   "outputs": [
    {
     "data": {
      "text/plain": [
       "7221"
      ]
     },
     "execution_count": 19,
     "metadata": {},
     "output_type": "execute_result"
    }
   ],
   "source": [
    "# update the ideal number of sample for how many are available\n",
    "num_data_samples = min(num_samples, len(dataset2['train']))\n",
    "num_data_samples"
   ]
  },
  {
   "cell_type": "code",
   "execution_count": 20,
   "metadata": {},
   "outputs": [
    {
     "data": {
      "text/plain": [
       "7500"
      ]
     },
     "execution_count": 20,
     "metadata": {},
     "output_type": "execute_result"
    }
   ],
   "source": [
    "num_samples"
   ]
  },
  {
   "cell_type": "code",
   "execution_count": 21,
   "metadata": {},
   "outputs": [
    {
     "data": {
      "text/plain": [
       "{'ReprPO': LoraConfig(peft_type=<PeftType.LORA: 'LORA'>, auto_mapping=None, base_model_name_or_path='NousResearch/Meta-Llama-3-8B-Instruct', revision=None, task_type='CAUSAL_LM', inference_mode=False, r=16, target_modules={'down_proj', 'q_proj', 'k_proj', 'gate_proj', 'up_proj', 'o_proj', 'v_proj'}, lora_alpha=16, lora_dropout=0.0, fan_in_fan_out=False, bias='none', use_rslora=False, modules_to_save=None, init_lora_weights=True, layers_to_transform=None, layers_pattern=None, rank_pattern={}, alpha_pattern={}, megatron_config=None, megatron_core='megatron.core', loftq_config={}, use_dora=False, layer_replication=None)}"
      ]
     },
     "execution_count": 21,
     "metadata": {},
     "output_type": "execute_result"
    }
   ],
   "source": [
    "model.peft_config"
   ]
  },
  {
   "cell_type": "code",
   "execution_count": 22,
   "metadata": {},
   "outputs": [
    {
     "name": "stdout",
     "output_type": "stream",
     "text": [
      "{'gradient_accumulation_steps': 8, 'num_train_epochs': 1}\n"
     ]
    }
   ],
   "source": [
    "ideal_batch_size = 32\n",
    "batch_size = 4\n",
    "gradient_accumulation_steps = ideal_batch_size // batch_size\n",
    "num_train_epochs = num_samples // num_data_samples\n",
    "print(dict(gradient_accumulation_steps=gradient_accumulation_steps, num_train_epochs=num_train_epochs))\n",
    "\n",
    "# vscode + wandb compat\n",
    "nb_name = os.path.basename(globals()['__vsc_ipynb_file__']).replace('.ipynb', '')\n",
    "dt = pd.Timestamp.now().strftime(\"%Y-%m-%d-%H-%M-%S\")\n",
    "run_name = f\"{nb_name}-{dt}\"\n",
    "\n",
    "training_args = ReprPOConfig(\n",
    "    num_train_epochs=num_train_epochs,\n",
    "    learning_rate=1e-4, # 5e-7 in the dpo paper? but this method needs much more\n",
    "    gradient_accumulation_steps=gradient_accumulation_steps,\n",
    "    per_device_train_batch_size=batch_size,\n",
    "    per_device_eval_batch_size=batch_size//2,\n",
    "\n",
    "    lr_scheduler_type=\"constant\",\n",
    "    # warmup_ratio=0.2,\n",
    "    optim = \"adamw_8bit\",\n",
    "    weight_decay = 0,\n",
    "\n",
    "    seed=42,\n",
    "    logging_steps=1,\n",
    "    # save_steps=500,\n",
    "    # save_strategy=\"steps\",\n",
    "    output_dir=f\"./output-dir/{run_name}\",\n",
    "\n",
    "    gradient_checkpointing=use_gradient_checkpointing,\n",
    "    bf16=True,\n",
    "    tf32=True,\n",
    "    remove_unused_columns=False,\n",
    "\n",
    "    max_prompt_length=max_prompt_length,\n",
    "    max_length=max_length,\n",
    "\n",
    "    report_to=['tensorboard', 'wandb'],\n",
    "    model_adapter_name='ReprPO',\n",
    "    alpha=10,\n",
    "\n",
    "    run_name=run_name,\n",
    "    collection_layers=[10, 25],\n",
    ")\n",
    "\n",
    "reprpo_trainer = ReprPOTrainer2(\n",
    "    model=model,\n",
    "    ref_model=None,\n",
    "    args=training_args,\n",
    "    beta=training_args.beta,\n",
    "    train_dataset=dataset2[\"train\"],\n",
    "    # eval_dataset=dataset2[\"test\"],\n",
    "    tokenizer=tokenizer,\n",
    ")\n",
    "model.config.use_cache = False\n",
    "\n",
    "# Transformer does not recognise vscode notebooks\n",
    "reprpo_trainer.callback_handler.remove_callback(ProgressCallback)\n",
    "reprpo_trainer.callback_handler.add_callback(NotebookProgressCallback)\n",
    "\n"
   ]
  },
  {
   "cell_type": "code",
   "execution_count": 23,
   "metadata": {},
   "outputs": [],
   "source": [
    "# # QC train dataset\n",
    "# r = reprpo_trainer.train_dataset[0]\n",
    "# print('prompt', tokenizer.decode(r['prompt_input_ids']))\n",
    "# print('-'*80)\n",
    "# print('chosen',tokenizer.decode(r['chosen_input_ids']))\n",
    "# print('-'*80)\n",
    "# print('rejected',tokenizer.decode(r['rejected_input_ids']))\n",
    "# print('='*80)\n",
    "clear_mem()"
   ]
  },
  {
   "cell_type": "code",
   "execution_count": 24,
   "metadata": {},
   "outputs": [
    {
     "name": "stderr",
     "output_type": "stream",
     "text": [
      "\u001b[34m\u001b[1mwandb\u001b[0m: Currently logged in as: \u001b[33mwassname\u001b[0m. Use \u001b[1m`wandb login --relogin`\u001b[0m to force relogin\n"
     ]
    },
    {
     "data": {
      "text/html": [
       "Tracking run with wandb version 0.17.4"
      ],
      "text/plain": [
       "<IPython.core.display.HTML object>"
      ]
     },
     "metadata": {},
     "output_type": "display_data"
    },
    {
     "data": {
      "text/html": [
       "Run data is saved locally in <code>/media/wassname/SGIronWolf/projects5/elk/repr-preference-optimization/nbs/wandb/run-20240719_175520-fnqj8e7n</code>"
      ],
      "text/plain": [
       "<IPython.core.display.HTML object>"
      ]
     },
     "metadata": {},
     "output_type": "display_data"
    },
    {
     "data": {
      "text/html": [
       "Syncing run <strong><a href='https://wandb.ai/wassname/repo-dpo/runs/fnqj8e7n' target=\"_blank\">09_hf_symlog_TODO-2024-07-19-17-55-17</a></strong> to <a href='https://wandb.ai/wassname/repo-dpo' target=\"_blank\">Weights & Biases</a> (<a href='https://wandb.me/run' target=\"_blank\">docs</a>)<br/>"
      ],
      "text/plain": [
       "<IPython.core.display.HTML object>"
      ]
     },
     "metadata": {},
     "output_type": "display_data"
    },
    {
     "data": {
      "text/html": [
       " View project at <a href='https://wandb.ai/wassname/repo-dpo' target=\"_blank\">https://wandb.ai/wassname/repo-dpo</a>"
      ],
      "text/plain": [
       "<IPython.core.display.HTML object>"
      ]
     },
     "metadata": {},
     "output_type": "display_data"
    },
    {
     "data": {
      "text/html": [
       " View run at <a href='https://wandb.ai/wassname/repo-dpo/runs/fnqj8e7n' target=\"_blank\">https://wandb.ai/wassname/repo-dpo/runs/fnqj8e7n</a>"
      ],
      "text/plain": [
       "<IPython.core.display.HTML object>"
      ]
     },
     "metadata": {},
     "output_type": "display_data"
    },
    {
     "name": "stderr",
     "output_type": "stream",
     "text": [
      "The input hidden states seems to be silently casted in float32, this might be related to the fact you have upcasted embedding or layer norm layers in float32. We will cast back the input in torch.bfloat16.\n"
     ]
    },
    {
     "name": "stdout",
     "output_type": "stream",
     "text": [
      "0 retain_cos_sim: 1.0000. rr_cos_sim: 0.5998\n",
      "{'rewards/accuracies': '0', 'rewards/margins': '0', 'logps/rejected': '-1.5', 'logps/chosen': '-1.1', 'loss': '12', 'rewards/chosen': '0', 'rewards/rejected': '0', 'retain/loss': '0', 'rr/loss': '12', 'component_rr/loss': '12', 'component_retain/loss': '0', 'rr/c': '1', 'retain/c': '0', 'retain_cosine': '1', 'rr_cosine': '0.6'}\n"
     ]
    },
    {
     "name": "stderr",
     "output_type": "stream",
     "text": [
      "Could not estimate the number of tokens of the input, floating-point operations will not be computed\n"
     ]
    },
    {
     "name": "stdout",
     "output_type": "stream",
     "text": [
      "0 retain_cos_sim: 1.0000. rr_cos_sim: 0.6687\n",
      "{'rewards/accuracies': '0', 'rewards/margins': '0', 'logps/rejected': '-1.2', 'logps/chosen': '-1.5', 'loss': '11', 'rewards/chosen': '0', 'rewards/rejected': '0', 'retain/loss': '0', 'rr/loss': '11', 'component_rr/loss': '11', 'component_retain/loss': '0', 'rr/c': '1', 'retain/c': '0', 'retain_cosine': '1', 'rr_cosine': '0.67'}\n",
      "0 retain_cos_sim: 1.0000. rr_cos_sim: 0.6417\n",
      "{'rewards/accuracies': '0', 'rewards/margins': '0', 'logps/rejected': '-1.1', 'logps/chosen': '-1.3', 'loss': '11', 'rewards/chosen': '0', 'rewards/rejected': '0', 'retain/loss': '0', 'rr/loss': '11', 'component_rr/loss': '11', 'component_retain/loss': '0', 'rr/c': '1', 'retain/c': '0', 'retain_cosine': '1', 'rr_cosine': '0.64'}\n",
      "0 retain_cos_sim: 1.0000. rr_cos_sim: 0.7459\n",
      "{'rewards/accuracies': '0', 'rewards/margins': '0', 'logps/rejected': '-1.4', 'logps/chosen': '-1.7', 'loss': '6.3', 'rewards/chosen': '0', 'rewards/rejected': '0', 'retain/loss': '0', 'rr/loss': '6.3', 'component_rr/loss': '6.3', 'component_retain/loss': '0', 'rr/c': '1', 'retain/c': '0', 'retain_cosine': '1', 'rr_cosine': '0.75'}\n",
      "0 retain_cos_sim: 1.0000. rr_cos_sim: 0.7358\n",
      "{'rewards/accuracies': '0', 'rewards/margins': '0', 'logps/rejected': '-1.3', 'logps/chosen': '-1.7', 'loss': '7', 'rewards/chosen': '0', 'rewards/rejected': '0', 'retain/loss': '0', 'rr/loss': '7', 'component_rr/loss': '7', 'component_retain/loss': '0', 'rr/c': '1', 'retain/c': '0', 'retain_cosine': '1', 'rr_cosine': '0.74'}\n",
      "0 retain_cos_sim: 1.0000. rr_cos_sim: 0.6631\n",
      "{'rewards/accuracies': '0', 'rewards/margins': '0', 'logps/rejected': '-1.4', 'logps/chosen': '-1', 'loss': '11', 'rewards/chosen': '0', 'rewards/rejected': '0', 'retain/loss': '0', 'rr/loss': '11', 'component_rr/loss': '11', 'component_retain/loss': '0', 'rr/c': '1', 'retain/c': '0', 'retain_cosine': '1', 'rr_cosine': '0.66'}\n",
      "0 retain_cos_sim: 1.0000. rr_cos_sim: 0.5373\n",
      "{'rewards/accuracies': '0', 'rewards/margins': '0', 'logps/rejected': '-0.92', 'logps/chosen': '-1.2', 'loss': '12', 'rewards/chosen': '0', 'rewards/rejected': '0', 'retain/loss': '0', 'rr/loss': '12', 'component_rr/loss': '12', 'component_retain/loss': '0', 'rr/c': '1', 'retain/c': '0', 'retain_cosine': '1', 'rr_cosine': '0.54'}\n",
      "0 retain_cos_sim: 1.0000. rr_cos_sim: 0.7725\n",
      "{'rewards/accuracies': '0', 'rewards/margins': '0', 'logps/rejected': '-1.9', 'logps/chosen': '-1.9', 'loss': '7.2', 'rewards/chosen': '0', 'rewards/rejected': '0', 'retain/loss': '0', 'rr/loss': '7.2', 'component_rr/loss': '7.2', 'component_retain/loss': '0', 'rr/c': '1', 'retain/c': '0', 'retain_cosine': '1', 'rr_cosine': '0.77'}\n"
     ]
    },
    {
     "data": {
      "text/html": [
       "\n",
       "    <div>\n",
       "      \n",
       "      <progress value='90' max='225' style='width:300px; height:20px; vertical-align: middle;'></progress>\n",
       "      [ 90/225 41:56 < 1:04:21, 0.03 it/s, Epoch 0.39/1]\n",
       "    </div>\n",
       "    <table border=\"1\" class=\"dataframe\">\n",
       "  <thead>\n",
       " <tr style=\"text-align: left;\">\n",
       "      <th>Step</th>\n",
       "      <th>Training Loss</th>\n",
       "    </tr>\n",
       "  </thead>\n",
       "  <tbody>\n",
       "    <tr>\n",
       "      <td>1</td>\n",
       "      <td>9.647903</td>\n",
       "    </tr>\n",
       "    <tr>\n",
       "      <td>2</td>\n",
       "      <td>10.322764</td>\n",
       "    </tr>\n",
       "    <tr>\n",
       "      <td>3</td>\n",
       "      <td>10.251088</td>\n",
       "    </tr>\n",
       "    <tr>\n",
       "      <td>4</td>\n",
       "      <td>10.590122</td>\n",
       "    </tr>\n",
       "    <tr>\n",
       "      <td>5</td>\n",
       "      <td>10.768562</td>\n",
       "    </tr>\n",
       "    <tr>\n",
       "      <td>6</td>\n",
       "      <td>11.332108</td>\n",
       "    </tr>\n",
       "    <tr>\n",
       "      <td>7</td>\n",
       "      <td>10.646254</td>\n",
       "    </tr>\n",
       "    <tr>\n",
       "      <td>8</td>\n",
       "      <td>9.975291</td>\n",
       "    </tr>\n",
       "    <tr>\n",
       "      <td>9</td>\n",
       "      <td>10.965471</td>\n",
       "    </tr>\n",
       "    <tr>\n",
       "      <td>10</td>\n",
       "      <td>11.075298</td>\n",
       "    </tr>\n",
       "    <tr>\n",
       "      <td>11</td>\n",
       "      <td>11.619001</td>\n",
       "    </tr>\n",
       "    <tr>\n",
       "      <td>12</td>\n",
       "      <td>12.326405</td>\n",
       "    </tr>\n",
       "    <tr>\n",
       "      <td>13</td>\n",
       "      <td>11.858555</td>\n",
       "    </tr>\n",
       "    <tr>\n",
       "      <td>14</td>\n",
       "      <td>11.424061</td>\n",
       "    </tr>\n",
       "    <tr>\n",
       "      <td>15</td>\n",
       "      <td>11.540610</td>\n",
       "    </tr>\n",
       "    <tr>\n",
       "      <td>16</td>\n",
       "      <td>12.743575</td>\n",
       "    </tr>\n",
       "    <tr>\n",
       "      <td>17</td>\n",
       "      <td>12.538622</td>\n",
       "    </tr>\n",
       "    <tr>\n",
       "      <td>18</td>\n",
       "      <td>12.816449</td>\n",
       "    </tr>\n",
       "    <tr>\n",
       "      <td>19</td>\n",
       "      <td>13.673177</td>\n",
       "    </tr>\n",
       "    <tr>\n",
       "      <td>20</td>\n",
       "      <td>14.208918</td>\n",
       "    </tr>\n",
       "    <tr>\n",
       "      <td>21</td>\n",
       "      <td>14.122459</td>\n",
       "    </tr>\n",
       "    <tr>\n",
       "      <td>22</td>\n",
       "      <td>14.812568</td>\n",
       "    </tr>\n",
       "    <tr>\n",
       "      <td>23</td>\n",
       "      <td>15.328914</td>\n",
       "    </tr>\n",
       "    <tr>\n",
       "      <td>24</td>\n",
       "      <td>15.575173</td>\n",
       "    </tr>\n",
       "    <tr>\n",
       "      <td>25</td>\n",
       "      <td>16.031317</td>\n",
       "    </tr>\n",
       "    <tr>\n",
       "      <td>26</td>\n",
       "      <td>16.488026</td>\n",
       "    </tr>\n",
       "    <tr>\n",
       "      <td>27</td>\n",
       "      <td>16.996349</td>\n",
       "    </tr>\n",
       "    <tr>\n",
       "      <td>28</td>\n",
       "      <td>17.659496</td>\n",
       "    </tr>\n",
       "    <tr>\n",
       "      <td>29</td>\n",
       "      <td>18.184956</td>\n",
       "    </tr>\n",
       "    <tr>\n",
       "      <td>30</td>\n",
       "      <td>18.533558</td>\n",
       "    </tr>\n",
       "    <tr>\n",
       "      <td>31</td>\n",
       "      <td>18.996696</td>\n",
       "    </tr>\n",
       "    <tr>\n",
       "      <td>32</td>\n",
       "      <td>19.677811</td>\n",
       "    </tr>\n",
       "    <tr>\n",
       "      <td>33</td>\n",
       "      <td>20.059643</td>\n",
       "    </tr>\n",
       "    <tr>\n",
       "      <td>34</td>\n",
       "      <td>20.390272</td>\n",
       "    </tr>\n",
       "    <tr>\n",
       "      <td>35</td>\n",
       "      <td>20.170082</td>\n",
       "    </tr>\n",
       "    <tr>\n",
       "      <td>36</td>\n",
       "      <td>19.855030</td>\n",
       "    </tr>\n",
       "    <tr>\n",
       "      <td>37</td>\n",
       "      <td>19.578377</td>\n",
       "    </tr>\n",
       "    <tr>\n",
       "      <td>38</td>\n",
       "      <td>18.812544</td>\n",
       "    </tr>\n",
       "    <tr>\n",
       "      <td>39</td>\n",
       "      <td>17.818556</td>\n",
       "    </tr>\n",
       "    <tr>\n",
       "      <td>40</td>\n",
       "      <td>16.873280</td>\n",
       "    </tr>\n",
       "    <tr>\n",
       "      <td>41</td>\n",
       "      <td>16.407188</td>\n",
       "    </tr>\n",
       "    <tr>\n",
       "      <td>42</td>\n",
       "      <td>16.057180</td>\n",
       "    </tr>\n",
       "    <tr>\n",
       "      <td>43</td>\n",
       "      <td>15.874276</td>\n",
       "    </tr>\n",
       "    <tr>\n",
       "      <td>44</td>\n",
       "      <td>15.855561</td>\n",
       "    </tr>\n",
       "    <tr>\n",
       "      <td>45</td>\n",
       "      <td>15.553467</td>\n",
       "    </tr>\n",
       "    <tr>\n",
       "      <td>46</td>\n",
       "      <td>15.525394</td>\n",
       "    </tr>\n",
       "    <tr>\n",
       "      <td>47</td>\n",
       "      <td>15.451846</td>\n",
       "    </tr>\n",
       "    <tr>\n",
       "      <td>48</td>\n",
       "      <td>15.395513</td>\n",
       "    </tr>\n",
       "    <tr>\n",
       "      <td>49</td>\n",
       "      <td>15.323282</td>\n",
       "    </tr>\n",
       "    <tr>\n",
       "      <td>50</td>\n",
       "      <td>15.424324</td>\n",
       "    </tr>\n",
       "    <tr>\n",
       "      <td>51</td>\n",
       "      <td>15.394323</td>\n",
       "    </tr>\n",
       "    <tr>\n",
       "      <td>52</td>\n",
       "      <td>15.508838</td>\n",
       "    </tr>\n",
       "    <tr>\n",
       "      <td>53</td>\n",
       "      <td>15.666168</td>\n",
       "    </tr>\n",
       "    <tr>\n",
       "      <td>54</td>\n",
       "      <td>15.354183</td>\n",
       "    </tr>\n",
       "    <tr>\n",
       "      <td>55</td>\n",
       "      <td>15.511620</td>\n",
       "    </tr>\n",
       "    <tr>\n",
       "      <td>56</td>\n",
       "      <td>15.434963</td>\n",
       "    </tr>\n",
       "    <tr>\n",
       "      <td>57</td>\n",
       "      <td>15.657046</td>\n",
       "    </tr>\n",
       "    <tr>\n",
       "      <td>58</td>\n",
       "      <td>15.328590</td>\n",
       "    </tr>\n",
       "    <tr>\n",
       "      <td>59</td>\n",
       "      <td>15.337461</td>\n",
       "    </tr>\n",
       "    <tr>\n",
       "      <td>60</td>\n",
       "      <td>15.650902</td>\n",
       "    </tr>\n",
       "    <tr>\n",
       "      <td>61</td>\n",
       "      <td>15.615484</td>\n",
       "    </tr>\n",
       "    <tr>\n",
       "      <td>62</td>\n",
       "      <td>15.585261</td>\n",
       "    </tr>\n",
       "    <tr>\n",
       "      <td>63</td>\n",
       "      <td>15.598325</td>\n",
       "    </tr>\n",
       "    <tr>\n",
       "      <td>64</td>\n",
       "      <td>15.750727</td>\n",
       "    </tr>\n",
       "    <tr>\n",
       "      <td>65</td>\n",
       "      <td>15.627989</td>\n",
       "    </tr>\n",
       "    <tr>\n",
       "      <td>66</td>\n",
       "      <td>15.683452</td>\n",
       "    </tr>\n",
       "    <tr>\n",
       "      <td>67</td>\n",
       "      <td>15.869871</td>\n",
       "    </tr>\n",
       "    <tr>\n",
       "      <td>68</td>\n",
       "      <td>15.903483</td>\n",
       "    </tr>\n",
       "    <tr>\n",
       "      <td>69</td>\n",
       "      <td>16.101557</td>\n",
       "    </tr>\n",
       "    <tr>\n",
       "      <td>70</td>\n",
       "      <td>16.040722</td>\n",
       "    </tr>\n",
       "    <tr>\n",
       "      <td>71</td>\n",
       "      <td>15.911970</td>\n",
       "    </tr>\n",
       "    <tr>\n",
       "      <td>72</td>\n",
       "      <td>15.996434</td>\n",
       "    </tr>\n",
       "    <tr>\n",
       "      <td>73</td>\n",
       "      <td>16.294779</td>\n",
       "    </tr>\n",
       "    <tr>\n",
       "      <td>74</td>\n",
       "      <td>16.242567</td>\n",
       "    </tr>\n",
       "    <tr>\n",
       "      <td>75</td>\n",
       "      <td>16.208961</td>\n",
       "    </tr>\n",
       "    <tr>\n",
       "      <td>76</td>\n",
       "      <td>16.311172</td>\n",
       "    </tr>\n",
       "    <tr>\n",
       "      <td>77</td>\n",
       "      <td>16.380514</td>\n",
       "    </tr>\n",
       "    <tr>\n",
       "      <td>78</td>\n",
       "      <td>16.470743</td>\n",
       "    </tr>\n",
       "    <tr>\n",
       "      <td>79</td>\n",
       "      <td>16.573122</td>\n",
       "    </tr>\n",
       "    <tr>\n",
       "      <td>80</td>\n",
       "      <td>16.569740</td>\n",
       "    </tr>\n",
       "    <tr>\n",
       "      <td>81</td>\n",
       "      <td>16.757120</td>\n",
       "    </tr>\n",
       "    <tr>\n",
       "      <td>82</td>\n",
       "      <td>16.647871</td>\n",
       "    </tr>\n",
       "    <tr>\n",
       "      <td>83</td>\n",
       "      <td>16.902685</td>\n",
       "    </tr>\n",
       "    <tr>\n",
       "      <td>84</td>\n",
       "      <td>16.754057</td>\n",
       "    </tr>\n",
       "    <tr>\n",
       "      <td>85</td>\n",
       "      <td>16.910189</td>\n",
       "    </tr>\n",
       "    <tr>\n",
       "      <td>86</td>\n",
       "      <td>16.976999</td>\n",
       "    </tr>\n",
       "    <tr>\n",
       "      <td>87</td>\n",
       "      <td>17.122469</td>\n",
       "    </tr>\n",
       "    <tr>\n",
       "      <td>88</td>\n",
       "      <td>17.386576</td>\n",
       "    </tr>\n",
       "  </tbody>\n",
       "</table><p>"
      ],
      "text/plain": [
       "<IPython.core.display.HTML object>"
      ]
     },
     "metadata": {},
     "output_type": "display_data"
    },
    {
     "name": "stdout",
     "output_type": "stream",
     "text": [
      "10 retain_cos_sim: 0.9981. rr_cos_sim: 0.6777\n",
      "{'rewards/accuracies': '0.5', 'rewards/margins': '0.00089', 'logps/rejected': '-1.5', 'logps/chosen': '-0.75', 'loss': '9.4', 'rewards/chosen': '-4.1e-05', 'rewards/rejected': '-0.00093', 'retain/loss': '2.4', 'rr/loss': '9.2', 'component_rr/loss': '9.1', 'component_retain/loss': '0.27', 'rr/c': '0.99', 'retain/c': '0.011', 'retain_cosine': '1', 'rr_cosine': '0.68'}\n",
      "10 retain_cos_sim: 0.9988. rr_cos_sim: 0.6934\n",
      "{'rewards/accuracies': '0.5', 'rewards/margins': '0.0004', 'logps/rejected': '-1', 'logps/chosen': '-1.1', 'loss': '12', 'rewards/chosen': '-0.00081', 'rewards/rejected': '-0.0012', 'retain/loss': '2.1', 'rr/loss': '12', 'component_rr/loss': '12', 'component_retain/loss': '0.23', 'rr/c': '0.99', 'retain/c': '0.011', 'retain_cosine': '1', 'rr_cosine': '0.69'}\n",
      "10 retain_cos_sim: 0.9985. rr_cos_sim: 0.6064\n",
      "{'rewards/accuracies': '0.5', 'rewards/margins': '-0.00053', 'logps/rejected': '-1', 'logps/chosen': '-1.3', 'loss': '11', 'rewards/chosen': '-0.001', 'rewards/rejected': '-0.0005', 'retain/loss': '2.4', 'rr/loss': '11', 'component_rr/loss': '11', 'component_retain/loss': '0.27', 'rr/c': '0.99', 'retain/c': '0.011', 'retain_cosine': '1', 'rr_cosine': '0.61'}\n",
      "10 retain_cos_sim: 0.9982. rr_cos_sim: 0.6772\n",
      "{'rewards/accuracies': '0.75', 'rewards/margins': '0.00011', 'logps/rejected': '-1.2', 'logps/chosen': '-1.4', 'loss': '11', 'rewards/chosen': '-0.0015', 'rewards/rejected': '-0.0016', 'retain/loss': '2.5', 'rr/loss': '11', 'component_rr/loss': '11', 'component_retain/loss': '0.28', 'rr/c': '0.99', 'retain/c': '0.011', 'retain_cosine': '1', 'rr_cosine': '0.68'}\n",
      "10 retain_cos_sim: 0.9993. rr_cos_sim: 0.6197\n",
      "{'rewards/accuracies': '0.75', 'rewards/margins': '0.0006', 'logps/rejected': '-1', 'logps/chosen': '-1.4', 'loss': '11', 'rewards/chosen': '4.2e-05', 'rewards/rejected': '-0.00056', 'retain/loss': '2.2', 'rr/loss': '11', 'component_rr/loss': '11', 'component_retain/loss': '0.24', 'rr/c': '0.99', 'retain/c': '0.011', 'retain_cosine': '1', 'rr_cosine': '0.62'}\n",
      "10 retain_cos_sim: 0.9986. rr_cos_sim: 0.6805\n",
      "{'rewards/accuracies': '0.75', 'rewards/margins': '0.00086', 'logps/rejected': '-1.3', 'logps/chosen': '-1.3', 'loss': '12', 'rewards/chosen': '-0.0004', 'rewards/rejected': '-0.0013', 'retain/loss': '2.3', 'rr/loss': '11', 'component_rr/loss': '11', 'component_retain/loss': '0.25', 'rr/c': '0.99', 'retain/c': '0.011', 'retain_cosine': '1', 'rr_cosine': '0.68'}\n",
      "10 retain_cos_sim: 0.9980. rr_cos_sim: 0.6221\n",
      "{'rewards/accuracies': '0.25', 'rewards/margins': '-0.00043', 'logps/rejected': '-1.2', 'logps/chosen': '-0.94', 'loss': '12', 'rewards/chosen': '-0.00055', 'rewards/rejected': '-0.00012', 'retain/loss': '2.2', 'rr/loss': '12', 'component_rr/loss': '12', 'component_retain/loss': '0.25', 'rr/c': '0.99', 'retain/c': '0.011', 'retain_cosine': '1', 'rr_cosine': '0.62'}\n",
      "10 retain_cos_sim: 0.9965. rr_cos_sim: 0.5406\n",
      "{'rewards/accuracies': '0.75', 'rewards/margins': '-0.0001', 'logps/rejected': '-1', 'logps/chosen': '-1', 'loss': '14', 'rewards/chosen': '-0.00085', 'rewards/rejected': '-0.00074', 'retain/loss': '2.1', 'rr/loss': '14', 'component_rr/loss': '14', 'component_retain/loss': '0.24', 'rr/c': '0.99', 'retain/c': '0.011', 'retain_cosine': '1', 'rr_cosine': '0.54'}\n",
      "20 retain_cos_sim: 0.9534. rr_cos_sim: 0.6112\n",
      "{'rewards/accuracies': '1', 'rewards/margins': '0.0039', 'logps/rejected': '-1.6', 'logps/chosen': '-1.4', 'loss': '14', 'rewards/chosen': '-0.0057', 'rewards/rejected': '-0.0096', 'retain/loss': '7.2', 'rr/loss': '13', 'component_rr/loss': '12', 'component_retain/loss': '1.6', 'rr/c': '0.98', 'retain/c': '0.022', 'retain_cosine': '0.95', 'rr_cosine': '0.61'}\n",
      "20 retain_cos_sim: 0.9665. rr_cos_sim: 0.5983\n",
      "{'rewards/accuracies': '0.25', 'rewards/margins': '0.0056', 'logps/rejected': '-1.7', 'logps/chosen': '-1.3', 'loss': '14', 'rewards/chosen': '-0.005', 'rewards/rejected': '-0.011', 'retain/loss': '7', 'rr/loss': '13', 'component_rr/loss': '12', 'component_retain/loss': '1.5', 'rr/c': '0.98', 'retain/c': '0.022', 'retain_cosine': '0.97', 'rr_cosine': '0.6'}\n",
      "20 retain_cos_sim: 0.9477. rr_cos_sim: 0.6513\n",
      "{'rewards/accuracies': '0.75', 'rewards/margins': '0.0027', 'logps/rejected': '-1.5', 'logps/chosen': '-1.5', 'loss': '15', 'rewards/chosen': '-0.0083', 'rewards/rejected': '-0.011', 'retain/loss': '7.9', 'rr/loss': '14', 'component_rr/loss': '14', 'component_retain/loss': '1.7', 'rr/c': '0.98', 'retain/c': '0.022', 'retain_cosine': '0.95', 'rr_cosine': '0.65'}\n",
      "20 retain_cos_sim: 0.9733. rr_cos_sim: 0.7231\n",
      "{'rewards/accuracies': '0.25', 'rewards/margins': '-0.0048', 'logps/rejected': '-1.2', 'logps/chosen': '-1.5', 'loss': '13', 'rewards/chosen': '-0.013', 'rewards/rejected': '-0.0085', 'retain/loss': '6.6', 'rr/loss': '11', 'component_rr/loss': '11', 'component_retain/loss': '1.5', 'rr/c': '0.98', 'retain/c': '0.022', 'retain_cosine': '0.97', 'rr_cosine': '0.72'}\n",
      "20 retain_cos_sim: 0.9677. rr_cos_sim: 0.6874\n",
      "{'rewards/accuracies': '0.75', 'rewards/margins': '-0.0014', 'logps/rejected': '-0.98', 'logps/chosen': '-1.1', 'loss': '14', 'rewards/chosen': '-0.01', 'rewards/rejected': '-0.0086', 'retain/loss': '6.7', 'rr/loss': '13', 'component_rr/loss': '13', 'component_retain/loss': '1.5', 'rr/c': '0.98', 'retain/c': '0.022', 'retain_cosine': '0.97', 'rr_cosine': '0.69'}\n",
      "20 retain_cos_sim: 0.9656. rr_cos_sim: 0.7527\n",
      "{'rewards/accuracies': '0.5', 'rewards/margins': '0.011', 'logps/rejected': '-2', 'logps/chosen': '-2.1', 'loss': '13', 'rewards/chosen': '-0.008', 'rewards/rejected': '-0.019', 'retain/loss': '7.3', 'rr/loss': '12', 'component_rr/loss': '11', 'component_retain/loss': '1.6', 'rr/c': '0.98', 'retain/c': '0.022', 'retain_cosine': '0.97', 'rr_cosine': '0.75'}\n",
      "20 retain_cos_sim: 0.9625. rr_cos_sim: 0.6502\n",
      "{'rewards/accuracies': '0.75', 'rewards/margins': '0.0021', 'logps/rejected': '-1', 'logps/chosen': '-1.5', 'loss': '15', 'rewards/chosen': '-0.0053', 'rewards/rejected': '-0.0074', 'retain/loss': '6.8', 'rr/loss': '14', 'component_rr/loss': '13', 'component_retain/loss': '1.5', 'rr/c': '0.98', 'retain/c': '0.022', 'retain_cosine': '0.96', 'rr_cosine': '0.65'}\n",
      "20 retain_cos_sim: 0.9812. rr_cos_sim: 0.6408\n",
      "{'rewards/accuracies': '0.5', 'rewards/margins': '-0.0014', 'logps/rejected': '-1.2', 'logps/chosen': '-1.5', 'loss': '15', 'rewards/chosen': '-0.011', 'rewards/rejected': '-0.0094', 'retain/loss': '6.9', 'rr/loss': '14', 'component_rr/loss': '14', 'component_retain/loss': '1.5', 'rr/c': '0.98', 'retain/c': '0.022', 'retain_cosine': '0.98', 'rr_cosine': '0.64'}\n",
      "30 retain_cos_sim: 0.6706. rr_cos_sim: 0.4991\n",
      "{'rewards/accuracies': '0.5', 'rewards/margins': '-0.018', 'logps/rejected': '-3.8', 'logps/chosen': '-4.4', 'loss': '20', 'rewards/chosen': '-0.3', 'rewards/rejected': '-0.28', 'retain/loss': '14', 'rr/loss': '16', 'component_rr/loss': '15', 'component_retain/loss': '4.6', 'rr/c': '0.97', 'retain/c': '0.033', 'retain_cosine': '0.67', 'rr_cosine': '0.5'}\n",
      "30 retain_cos_sim: 0.7166. rr_cos_sim: 0.4845\n",
      "{'rewards/accuracies': '0.75', 'rewards/margins': '0.0063', 'logps/rejected': '-2.7', 'logps/chosen': '-3.1', 'loss': '19', 'rewards/chosen': '-0.17', 'rewards/rejected': '-0.18', 'retain/loss': '13', 'rr/loss': '15', 'component_rr/loss': '14', 'component_retain/loss': '4.4', 'rr/c': '0.97', 'retain/c': '0.033', 'retain_cosine': '0.72', 'rr_cosine': '0.48'}\n",
      "30 retain_cos_sim: 0.7426. rr_cos_sim: 0.4757\n",
      "{'rewards/accuracies': '0.5', 'rewards/margins': '0.012', 'logps/rejected': '-3.9', 'logps/chosen': '-3.6', 'loss': '19', 'rewards/chosen': '-0.24', 'rewards/rejected': '-0.25', 'retain/loss': '13', 'rr/loss': '15', 'component_rr/loss': '15', 'component_retain/loss': '4.3', 'rr/c': '0.97', 'retain/c': '0.033', 'retain_cosine': '0.74', 'rr_cosine': '0.48'}\n",
      "30 retain_cos_sim: 0.7942. rr_cos_sim: 0.5857\n",
      "{'rewards/accuracies': '0.5', 'rewards/margins': '0.0022', 'logps/rejected': '-2.8', 'logps/chosen': '-2.9', 'loss': '19', 'rewards/chosen': '-0.18', 'rewards/rejected': '-0.18', 'retain/loss': '13', 'rr/loss': '16', 'component_rr/loss': '15', 'component_retain/loss': '4.2', 'rr/c': '0.97', 'retain/c': '0.033', 'retain_cosine': '0.79', 'rr_cosine': '0.59'}\n",
      "30 retain_cos_sim: 0.7081. rr_cos_sim: 0.5054\n",
      "{'rewards/accuracies': '1', 'rewards/margins': '0.044', 'logps/rejected': '-5.4', 'logps/chosen': '-3.2', 'loss': '18', 'rewards/chosen': '-0.2', 'rewards/rejected': '-0.25', 'retain/loss': '14', 'rr/loss': '14', 'component_rr/loss': '14', 'component_retain/loss': '4.5', 'rr/c': '0.97', 'retain/c': '0.033', 'retain_cosine': '0.71', 'rr_cosine': '0.51'}\n",
      "30 retain_cos_sim: 0.8571. rr_cos_sim: 0.6023\n",
      "{'rewards/accuracies': '0.5', 'rewards/margins': '0.021', 'logps/rejected': '-3.2', 'logps/chosen': '-3.6', 'loss': '18', 'rewards/chosen': '-0.18', 'rewards/rejected': '-0.2', 'retain/loss': '12', 'rr/loss': '14', 'component_rr/loss': '14', 'component_retain/loss': '4.1', 'rr/c': '0.97', 'retain/c': '0.033', 'retain_cosine': '0.86', 'rr_cosine': '0.6'}\n",
      "30 retain_cos_sim: 0.6942. rr_cos_sim: 0.4974\n",
      "{'rewards/accuracies': '0.25', 'rewards/margins': '-0.023', 'logps/rejected': '-3.5', 'logps/chosen': '-4', 'loss': '19', 'rewards/chosen': '-0.25', 'rewards/rejected': '-0.23', 'retain/loss': '14', 'rr/loss': '15', 'component_rr/loss': '15', 'component_retain/loss': '4.5', 'rr/c': '0.97', 'retain/c': '0.033', 'retain_cosine': '0.69', 'rr_cosine': '0.5'}\n",
      "30 retain_cos_sim: 0.6666. rr_cos_sim: 0.4646\n",
      "{'rewards/accuracies': '0.5', 'rewards/margins': '-0.016', 'logps/rejected': '-4.4', 'logps/chosen': '-4.5', 'loss': '19', 'rewards/chosen': '-0.31', 'rewards/rejected': '-0.29', 'retain/loss': '14', 'rr/loss': '15', 'component_rr/loss': '15', 'component_retain/loss': '4.7', 'rr/c': '0.97', 'retain/c': '0.033', 'retain_cosine': '0.67', 'rr_cosine': '0.46'}\n",
      "40 retain_cos_sim: 0.2475. rr_cos_sim: 0.2280\n",
      "{'rewards/accuracies': '0.25', 'rewards/margins': '-0.054', 'logps/rejected': '-11', 'logps/chosen': '-11', 'loss': '16', 'rewards/chosen': '-0.95', 'rewards/rejected': '-0.9', 'retain/loss': '12', 'rr/loss': '12', 'component_rr/loss': '11', 'component_retain/loss': '5.2', 'rr/c': '0.96', 'retain/c': '0.044', 'retain_cosine': '0.25', 'rr_cosine': '0.23'}\n",
      "40 retain_cos_sim: 0.2682. rr_cos_sim: 0.1258\n",
      "{'rewards/accuracies': '0.5', 'rewards/margins': '0.048', 'logps/rejected': '-12', 'logps/chosen': '-11', 'loss': '17', 'rewards/chosen': '-0.94', 'rewards/rejected': '-0.99', 'retain/loss': '12', 'rr/loss': '12', 'component_rr/loss': '11', 'component_retain/loss': '5.3', 'rr/c': '0.96', 'retain/c': '0.044', 'retain_cosine': '0.27', 'rr_cosine': '0.13'}\n",
      "40 retain_cos_sim: 0.2122. rr_cos_sim: 0.1684\n",
      "{'rewards/accuracies': '0', 'rewards/margins': '-0.14', 'logps/rejected': '-12', 'logps/chosen': '-12', 'loss': '16', 'rewards/chosen': '-1.1', 'rewards/rejected': '-0.95', 'retain/loss': '12', 'rr/loss': '12', 'component_rr/loss': '11', 'component_retain/loss': '5.1', 'rr/c': '0.96', 'retain/c': '0.044', 'retain_cosine': '0.21', 'rr_cosine': '0.17'}\n",
      "40 retain_cos_sim: 0.3045. rr_cos_sim: 0.2222\n",
      "{'rewards/accuracies': '0.5', 'rewards/margins': '-0.11', 'logps/rejected': '-10', 'logps/chosen': '-11', 'loss': '17', 'rewards/chosen': '-0.96', 'rewards/rejected': '-0.85', 'retain/loss': '12', 'rr/loss': '12', 'component_rr/loss': '12', 'component_retain/loss': '5.2', 'rr/c': '0.96', 'retain/c': '0.044', 'retain_cosine': '0.3', 'rr_cosine': '0.22'}\n",
      "40 retain_cos_sim: 0.4912. rr_cos_sim: 0.1972\n",
      "{'rewards/accuracies': '0.5', 'rewards/margins': '0.064', 'logps/rejected': '-11', 'logps/chosen': '-11', 'loss': '16', 'rewards/chosen': '-0.96', 'rewards/rejected': '-1', 'retain/loss': '12', 'rr/loss': '12', 'component_rr/loss': '11', 'component_retain/loss': '5.2', 'rr/c': '0.96', 'retain/c': '0.044', 'retain_cosine': '0.49', 'rr_cosine': '0.2'}\n",
      "40 retain_cos_sim: 0.0527. rr_cos_sim: 0.0518\n",
      "{'rewards/accuracies': '0.5', 'rewards/margins': '-0.013', 'logps/rejected': '-12', 'logps/chosen': '-12', 'loss': '16', 'rewards/chosen': '-1.1', 'rewards/rejected': '-1.1', 'retain/loss': '12', 'rr/loss': '12', 'component_rr/loss': '11', 'component_retain/loss': '5.1', 'rr/c': '0.96', 'retain/c': '0.044', 'retain_cosine': '0.053', 'rr_cosine': '0.052'}\n",
      "40 retain_cos_sim: 0.0837. rr_cos_sim: 0.0794\n",
      "{'rewards/accuracies': '0.5', 'rewards/margins': '0.00044', 'logps/rejected': '-12', 'logps/chosen': '-12', 'loss': '16', 'rewards/chosen': '-1', 'rewards/rejected': '-1', 'retain/loss': '12', 'rr/loss': '12', 'component_rr/loss': '11', 'component_retain/loss': '5.1', 'rr/c': '0.96', 'retain/c': '0.044', 'retain_cosine': '0.084', 'rr_cosine': '0.079'}\n",
      "40 retain_cos_sim: 0.2561. rr_cos_sim: 0.2926\n",
      "{'rewards/accuracies': '0', 'rewards/margins': '-0.089', 'logps/rejected': '-11', 'logps/chosen': '-11', 'loss': '16', 'rewards/chosen': '-1.1', 'rewards/rejected': '-0.97', 'retain/loss': '12', 'rr/loss': '12', 'component_rr/loss': '11', 'component_retain/loss': '5.2', 'rr/c': '0.96', 'retain/c': '0.044', 'retain_cosine': '0.26', 'rr_cosine': '0.29'}\n",
      "50 retain_cos_sim: 0.0790. rr_cos_sim: 0.0479\n",
      "{'rewards/accuracies': '0.5', 'rewards/margins': '-0.011', 'logps/rejected': '-12', 'logps/chosen': '-12', 'loss': '15', 'rewards/chosen': '-1.1', 'rewards/rejected': '-1.1', 'retain/loss': '10', 'rr/loss': '10', 'component_rr/loss': '9.6', 'component_retain/loss': '5.6', 'rr/c': '0.94', 'retain/c': '0.055', 'retain_cosine': '0.079', 'rr_cosine': '0.048'}\n",
      "50 retain_cos_sim: 0.1318. rr_cos_sim: 0.1331\n",
      "{'rewards/accuracies': '0.5', 'rewards/margins': '0.04', 'logps/rejected': '-12', 'logps/chosen': '-12', 'loss': '16', 'rewards/chosen': '-1.1', 'rewards/rejected': '-1.1', 'retain/loss': '10', 'rr/loss': '10', 'component_rr/loss': '9.9', 'component_retain/loss': '5.8', 'rr/c': '0.94', 'retain/c': '0.055', 'retain_cosine': '0.13', 'rr_cosine': '0.13'}\n",
      "50 retain_cos_sim: 0.2166. rr_cos_sim: 0.2148\n",
      "{'rewards/accuracies': '0.25', 'rewards/margins': '-0.014', 'logps/rejected': '-12', 'logps/chosen': '-12', 'loss': '15', 'rewards/chosen': '-1.1', 'rewards/rejected': '-1.1', 'retain/loss': '10', 'rr/loss': '10', 'component_rr/loss': '9.6', 'component_retain/loss': '5.6', 'rr/c': '0.94', 'retain/c': '0.055', 'retain_cosine': '0.22', 'rr_cosine': '0.21'}\n",
      "50 retain_cos_sim: 0.3165. rr_cos_sim: 0.2772\n",
      "{'rewards/accuracies': '0.5', 'rewards/margins': '0.02', 'logps/rejected': '-12', 'logps/chosen': '-12', 'loss': '15', 'rewards/chosen': '-1.1', 'rewards/rejected': '-1.1', 'retain/loss': '10', 'rr/loss': '10', 'component_rr/loss': '9.7', 'component_retain/loss': '5.7', 'rr/c': '0.94', 'retain/c': '0.055', 'retain_cosine': '0.32', 'rr_cosine': '0.28'}\n",
      "50 retain_cos_sim: 0.2135. rr_cos_sim: 0.1641\n",
      "{'rewards/accuracies': '0.75', 'rewards/margins': '0.012', 'logps/rejected': '-12', 'logps/chosen': '-12', 'loss': '15', 'rewards/chosen': '-1.1', 'rewards/rejected': '-1.1', 'retain/loss': '10', 'rr/loss': '10', 'component_rr/loss': '9.7', 'component_retain/loss': '5.7', 'rr/c': '0.94', 'retain/c': '0.055', 'retain_cosine': '0.21', 'rr_cosine': '0.16'}\n",
      "50 retain_cos_sim: 0.2355. rr_cos_sim: 0.1808\n",
      "{'rewards/accuracies': '0.5', 'rewards/margins': '-0.0024', 'logps/rejected': '-12', 'logps/chosen': '-12', 'loss': '15', 'rewards/chosen': '-1.1', 'rewards/rejected': '-1.1', 'retain/loss': '10', 'rr/loss': '10', 'component_rr/loss': '9.7', 'component_retain/loss': '5.7', 'rr/c': '0.94', 'retain/c': '0.055', 'retain_cosine': '0.24', 'rr_cosine': '0.18'}\n",
      "50 retain_cos_sim: 0.1359. rr_cos_sim: 0.1784\n",
      "{'rewards/accuracies': '0.25', 'rewards/margins': '-0.15', 'logps/rejected': '-12', 'logps/chosen': '-12', 'loss': '15', 'rewards/chosen': '-1.1', 'rewards/rejected': '-0.98', 'retain/loss': '10', 'rr/loss': '10', 'component_rr/loss': '9.6', 'component_retain/loss': '5.6', 'rr/c': '0.94', 'retain/c': '0.055', 'retain_cosine': '0.14', 'rr_cosine': '0.18'}\n",
      "50 retain_cos_sim: 0.0700. rr_cos_sim: -0.0194\n",
      "{'rewards/accuracies': '0.25', 'rewards/margins': '-0.0037', 'logps/rejected': '-12', 'logps/chosen': '-12', 'loss': '16', 'rewards/chosen': '-1.1', 'rewards/rejected': '-1.1', 'retain/loss': '11', 'rr/loss': '11', 'component_rr/loss': '10', 'component_retain/loss': '5.9', 'rr/c': '0.94', 'retain/c': '0.055', 'retain_cosine': '0.07', 'rr_cosine': '-0.019'}\n",
      "60 retain_cos_sim: 0.3048. rr_cos_sim: 0.2482\n",
      "{'rewards/accuracies': '0.5', 'rewards/margins': '0.036', 'logps/rejected': '-12', 'logps/chosen': '-12', 'loss': '15', 'rewards/chosen': '-1.1', 'rewards/rejected': '-1.1', 'retain/loss': '9.7', 'rr/loss': '9.7', 'component_rr/loss': '9', 'component_retain/loss': '6.4', 'rr/c': '0.93', 'retain/c': '0.066', 'retain_cosine': '0.3', 'rr_cosine': '0.25'}\n",
      "60 retain_cos_sim: 0.0906. rr_cos_sim: 0.1142\n",
      "{'rewards/accuracies': '0.75', 'rewards/margins': '0.027', 'logps/rejected': '-12', 'logps/chosen': '-12', 'loss': '15', 'rewards/chosen': '-1', 'rewards/rejected': '-1.1', 'retain/loss': '9.6', 'rr/loss': '9.6', 'component_rr/loss': '9', 'component_retain/loss': '6.4', 'rr/c': '0.93', 'retain/c': '0.066', 'retain_cosine': '0.091', 'rr_cosine': '0.11'}\n",
      "60 retain_cos_sim: 0.4138. rr_cos_sim: 0.2075\n",
      "{'rewards/accuracies': '0.5', 'rewards/margins': '0.019', 'logps/rejected': '-12', 'logps/chosen': '-12', 'loss': '16', 'rewards/chosen': '-1.1', 'rewards/rejected': '-1.1', 'retain/loss': '10', 'rr/loss': '10', 'component_rr/loss': '9.6', 'component_retain/loss': '6.8', 'rr/c': '0.93', 'retain/c': '0.066', 'retain_cosine': '0.41', 'rr_cosine': '0.21'}\n",
      "60 retain_cos_sim: 0.0791. rr_cos_sim: 0.1285\n",
      "{'rewards/accuracies': '0.25', 'rewards/margins': '-0.14', 'logps/rejected': '-12', 'logps/chosen': '-12', 'loss': '16', 'rewards/chosen': '-1.1', 'rewards/rejected': '-0.96', 'retain/loss': '9.7', 'rr/loss': '9.8', 'component_rr/loss': '9.1', 'component_retain/loss': '6.4', 'rr/c': '0.93', 'retain/c': '0.066', 'retain_cosine': '0.079', 'rr_cosine': '0.13'}\n",
      "60 retain_cos_sim: 0.2549. rr_cos_sim: 0.2445\n",
      "{'rewards/accuracies': '0.25', 'rewards/margins': '0.098', 'logps/rejected': '-12', 'logps/chosen': '-12', 'loss': '16', 'rewards/chosen': '-0.86', 'rewards/rejected': '-0.96', 'retain/loss': '9.7', 'rr/loss': '9.8', 'component_rr/loss': '9.1', 'component_retain/loss': '6.5', 'rr/c': '0.93', 'retain/c': '0.066', 'retain_cosine': '0.25', 'rr_cosine': '0.24'}\n",
      "60 retain_cos_sim: 0.2259. rr_cos_sim: 0.2246\n",
      "{'rewards/accuracies': '1', 'rewards/margins': '0.029', 'logps/rejected': '-12', 'logps/chosen': '-12', 'loss': '15', 'rewards/chosen': '-1.1', 'rewards/rejected': '-1.1', 'retain/loss': '9.7', 'rr/loss': '9.7', 'component_rr/loss': '9', 'component_retain/loss': '6.4', 'rr/c': '0.93', 'retain/c': '0.066', 'retain_cosine': '0.23', 'rr_cosine': '0.22'}\n",
      "60 retain_cos_sim: 0.2402. rr_cos_sim: 0.0766\n",
      "{'rewards/accuracies': '0.5', 'rewards/margins': '0.028', 'logps/rejected': '-12', 'logps/chosen': '-12', 'loss': '16', 'rewards/chosen': '-1.1', 'rewards/rejected': '-1.1', 'retain/loss': '9.8', 'rr/loss': '9.8', 'component_rr/loss': '9.1', 'component_retain/loss': '6.5', 'rr/c': '0.93', 'retain/c': '0.066', 'retain_cosine': '0.24', 'rr_cosine': '0.077'}\n",
      "60 retain_cos_sim: 0.1698. rr_cos_sim: 0.1880\n",
      "{'rewards/accuracies': '0', 'rewards/margins': '-0.097', 'logps/rejected': '-12', 'logps/chosen': '-12', 'loss': '15', 'rewards/chosen': '-1.1', 'rewards/rejected': '-1', 'retain/loss': '9.7', 'rr/loss': '9.7', 'component_rr/loss': '9.1', 'component_retain/loss': '6.4', 'rr/c': '0.93', 'retain/c': '0.066', 'retain_cosine': '0.17', 'rr_cosine': '0.19'}\n",
      "70 retain_cos_sim: 0.2444. rr_cos_sim: 0.2599\n",
      "{'rewards/accuracies': '0.25', 'rewards/margins': '0.0084', 'logps/rejected': '-12', 'logps/chosen': '-12', 'loss': '16', 'rewards/chosen': '-1.1', 'rewards/rejected': '-1.1', 'retain/loss': '9.3', 'rr/loss': '9.3', 'component_rr/loss': '8.6', 'component_retain/loss': '7.2', 'rr/c': '0.92', 'retain/c': '0.078', 'retain_cosine': '0.24', 'rr_cosine': '0.26'}\n",
      "70 retain_cos_sim: 0.0682. rr_cos_sim: 0.0671\n",
      "{'rewards/accuracies': '0.5', 'rewards/margins': '0.032', 'logps/rejected': '-12', 'logps/chosen': '-13', 'loss': '16', 'rewards/chosen': '-1.1', 'rewards/rejected': '-1.1', 'retain/loss': '9.4', 'rr/loss': '9.4', 'component_rr/loss': '8.6', 'component_retain/loss': '7.3', 'rr/c': '0.92', 'retain/c': '0.078', 'retain_cosine': '0.068', 'rr_cosine': '0.067'}\n",
      "70 retain_cos_sim: 0.1722. rr_cos_sim: 0.1427\n",
      "{'rewards/accuracies': '0', 'rewards/margins': '-0.06', 'logps/rejected': '-12', 'logps/chosen': '-12', 'loss': '16', 'rewards/chosen': '-1.1', 'rewards/rejected': '-1.1', 'retain/loss': '9.4', 'rr/loss': '9.3', 'component_rr/loss': '8.6', 'component_retain/loss': '7.3', 'rr/c': '0.92', 'retain/c': '0.078', 'retain_cosine': '0.17', 'rr_cosine': '0.14'}\n",
      "70 retain_cos_sim: 0.1937. rr_cos_sim: 0.1190\n",
      "{'rewards/accuracies': '0.25', 'rewards/margins': '-0.0039', 'logps/rejected': '-12', 'logps/chosen': '-13', 'loss': '16', 'rewards/chosen': '-1.1', 'rewards/rejected': '-1.1', 'retain/loss': '9.4', 'rr/loss': '9.4', 'component_rr/loss': '8.7', 'component_retain/loss': '7.3', 'rr/c': '0.92', 'retain/c': '0.078', 'retain_cosine': '0.19', 'rr_cosine': '0.12'}\n",
      "70 retain_cos_sim: 0.2975. rr_cos_sim: 0.2842\n",
      "{'rewards/accuracies': '0.25', 'rewards/margins': '-0.085', 'logps/rejected': '-13', 'logps/chosen': '-13', 'loss': '16', 'rewards/chosen': '-1.1', 'rewards/rejected': '-1', 'retain/loss': '9.3', 'rr/loss': '9.4', 'component_rr/loss': '8.7', 'component_retain/loss': '7.2', 'rr/c': '0.92', 'retain/c': '0.078', 'retain_cosine': '0.3', 'rr_cosine': '0.28'}\n",
      "70 retain_cos_sim: 0.2978. rr_cos_sim: 0.2333\n",
      "{'rewards/accuracies': '1', 'rewards/margins': '0.029', 'logps/rejected': '-12', 'logps/chosen': '-13', 'loss': '16', 'rewards/chosen': '-1.1', 'rewards/rejected': '-1.1', 'retain/loss': '9.4', 'rr/loss': '9.4', 'component_rr/loss': '8.6', 'component_retain/loss': '7.3', 'rr/c': '0.92', 'retain/c': '0.078', 'retain_cosine': '0.3', 'rr_cosine': '0.23'}\n",
      "70 retain_cos_sim: 0.1373. rr_cos_sim: 0.0875\n",
      "{'rewards/accuracies': '0.5', 'rewards/margins': '-0.012', 'logps/rejected': '-13', 'logps/chosen': '-13', 'loss': '16', 'rewards/chosen': '-1.1', 'rewards/rejected': '-1.1', 'retain/loss': '9.4', 'rr/loss': '9.4', 'component_rr/loss': '8.7', 'component_retain/loss': '7.3', 'rr/c': '0.92', 'retain/c': '0.078', 'retain_cosine': '0.14', 'rr_cosine': '0.088'}\n",
      "70 retain_cos_sim: 0.2595. rr_cos_sim: 0.1988\n",
      "{'rewards/accuracies': '0.25', 'rewards/margins': '-0.089', 'logps/rejected': '-13', 'logps/chosen': '-12', 'loss': '16', 'rewards/chosen': '-1.1', 'rewards/rejected': '-1', 'retain/loss': '9.4', 'rr/loss': '9.4', 'component_rr/loss': '8.7', 'component_retain/loss': '7.3', 'rr/c': '0.92', 'retain/c': '0.078', 'retain_cosine': '0.26', 'rr_cosine': '0.2'}\n",
      "80 retain_cos_sim: 0.0927. rr_cos_sim: 0.0913\n",
      "{'rewards/accuracies': '0.5', 'rewards/margins': '0.017', 'logps/rejected': '-13', 'logps/chosen': '-12', 'loss': '16', 'rewards/chosen': '-1.1', 'rewards/rejected': '-1.2', 'retain/loss': '9.1', 'rr/loss': '9.1', 'component_rr/loss': '8.3', 'component_retain/loss': '8.1', 'rr/c': '0.91', 'retain/c': '0.089', 'retain_cosine': '0.093', 'rr_cosine': '0.091'}\n",
      "80 retain_cos_sim: 0.2339. rr_cos_sim: 0.1538\n",
      "{'rewards/accuracies': '0.5', 'rewards/margins': '0.011', 'logps/rejected': '-13', 'logps/chosen': '-13', 'loss': '18', 'rewards/chosen': '-1.2', 'rewards/rejected': '-1.2', 'retain/loss': '9.8', 'rr/loss': '9.8', 'component_rr/loss': '9', 'component_retain/loss': '8.7', 'rr/c': '0.91', 'retain/c': '0.089', 'retain_cosine': '0.23', 'rr_cosine': '0.15'}\n",
      "80 retain_cos_sim: 0.3055. rr_cos_sim: 0.2802\n",
      "{'rewards/accuracies': '0.5', 'rewards/margins': '-0.045', 'logps/rejected': '-13', 'logps/chosen': '-13', 'loss': '17', 'rewards/chosen': '-1.2', 'rewards/rejected': '-1.1', 'retain/loss': '9.2', 'rr/loss': '9.2', 'component_rr/loss': '8.4', 'component_retain/loss': '8.2', 'rr/c': '0.91', 'retain/c': '0.089', 'retain_cosine': '0.31', 'rr_cosine': '0.28'}\n",
      "80 retain_cos_sim: 0.3477. rr_cos_sim: 0.2874\n",
      "{'rewards/accuracies': '0.5', 'rewards/margins': '0.027', 'logps/rejected': '-13', 'logps/chosen': '-13', 'loss': '17', 'rewards/chosen': '-1.1', 'rewards/rejected': '-1.2', 'retain/loss': '9.2', 'rr/loss': '9.2', 'component_rr/loss': '8.4', 'component_retain/loss': '8.2', 'rr/c': '0.91', 'retain/c': '0.089', 'retain_cosine': '0.35', 'rr_cosine': '0.29'}\n",
      "80 retain_cos_sim: 0.3066. rr_cos_sim: 0.3100\n",
      "{'rewards/accuracies': '0.5', 'rewards/margins': '-0.0027', 'logps/rejected': '-12', 'logps/chosen': '-13', 'loss': '17', 'rewards/chosen': '-1.1', 'rewards/rejected': '-1.1', 'retain/loss': '9.2', 'rr/loss': '9.2', 'component_rr/loss': '8.4', 'component_retain/loss': '8.2', 'rr/c': '0.91', 'retain/c': '0.089', 'retain_cosine': '0.31', 'rr_cosine': '0.31'}\n",
      "80 retain_cos_sim: 0.1454. rr_cos_sim: 0.1468\n",
      "{'rewards/accuracies': '0.5', 'rewards/margins': '0.014', 'logps/rejected': '-12', 'logps/chosen': '-12', 'loss': '16', 'rewards/chosen': '-1.1', 'rewards/rejected': '-1.1', 'retain/loss': '9.2', 'rr/loss': '9.2', 'component_rr/loss': '8.3', 'component_retain/loss': '8.1', 'rr/c': '0.91', 'retain/c': '0.089', 'retain_cosine': '0.15', 'rr_cosine': '0.15'}\n",
      "80 retain_cos_sim: 0.0969. rr_cos_sim: 0.0894\n",
      "{'rewards/accuracies': '0.75', 'rewards/margins': '0.01', 'logps/rejected': '-13', 'logps/chosen': '-12', 'loss': '17', 'rewards/chosen': '-1.1', 'rewards/rejected': '-1.2', 'retain/loss': '9.5', 'rr/loss': '9.5', 'component_rr/loss': '8.6', 'component_retain/loss': '8.4', 'rr/c': '0.91', 'retain/c': '0.089', 'retain_cosine': '0.097', 'rr_cosine': '0.089'}\n",
      "80 retain_cos_sim: 0.2118. rr_cos_sim: 0.2410\n",
      "{'rewards/accuracies': '0.25', 'rewards/margins': '-0.059', 'logps/rejected': '-13', 'logps/chosen': '-13', 'loss': '17', 'rewards/chosen': '-1.2', 'rewards/rejected': '-1.1', 'retain/loss': '9.3', 'rr/loss': '9.4', 'component_rr/loss': '8.5', 'component_retain/loss': '8.3', 'rr/c': '0.91', 'retain/c': '0.089', 'retain_cosine': '0.21', 'rr_cosine': '0.24'}\n"
     ]
    },
    {
     "ename": "KeyboardInterrupt",
     "evalue": "",
     "output_type": "error",
     "traceback": [
      "\u001b[0;31m---------------------------------------------------------------------------\u001b[0m",
      "\u001b[0;31mKeyboardInterrupt\u001b[0m                         Traceback (most recent call last)",
      "Cell \u001b[0;32mIn[24], line 1\u001b[0m\n\u001b[0;32m----> 1\u001b[0m \u001b[43mreprpo_trainer\u001b[49m\u001b[38;5;241;43m.\u001b[39;49m\u001b[43mtrain\u001b[49m\u001b[43m(\u001b[49m\u001b[43m)\u001b[49m\n",
      "File \u001b[0;32m/media/wassname/SGIronWolf/projects5/elk/repr-preference-optimization/.venv/lib/python3.9/site-packages/transformers/trainer.py:1932\u001b[0m, in \u001b[0;36mTrainer.train\u001b[0;34m(self, resume_from_checkpoint, trial, ignore_keys_for_eval, **kwargs)\u001b[0m\n\u001b[1;32m   1930\u001b[0m         hf_hub_utils\u001b[38;5;241m.\u001b[39menable_progress_bars()\n\u001b[1;32m   1931\u001b[0m \u001b[38;5;28;01melse\u001b[39;00m:\n\u001b[0;32m-> 1932\u001b[0m     \u001b[38;5;28;01mreturn\u001b[39;00m \u001b[43minner_training_loop\u001b[49m\u001b[43m(\u001b[49m\n\u001b[1;32m   1933\u001b[0m \u001b[43m        \u001b[49m\u001b[43margs\u001b[49m\u001b[38;5;241;43m=\u001b[39;49m\u001b[43margs\u001b[49m\u001b[43m,\u001b[49m\n\u001b[1;32m   1934\u001b[0m \u001b[43m        \u001b[49m\u001b[43mresume_from_checkpoint\u001b[49m\u001b[38;5;241;43m=\u001b[39;49m\u001b[43mresume_from_checkpoint\u001b[49m\u001b[43m,\u001b[49m\n\u001b[1;32m   1935\u001b[0m \u001b[43m        \u001b[49m\u001b[43mtrial\u001b[49m\u001b[38;5;241;43m=\u001b[39;49m\u001b[43mtrial\u001b[49m\u001b[43m,\u001b[49m\n\u001b[1;32m   1936\u001b[0m \u001b[43m        \u001b[49m\u001b[43mignore_keys_for_eval\u001b[49m\u001b[38;5;241;43m=\u001b[39;49m\u001b[43mignore_keys_for_eval\u001b[49m\u001b[43m,\u001b[49m\n\u001b[1;32m   1937\u001b[0m \u001b[43m    \u001b[49m\u001b[43m)\u001b[49m\n",
      "File \u001b[0;32m/media/wassname/SGIronWolf/projects5/elk/repr-preference-optimization/.venv/lib/python3.9/site-packages/transformers/trainer.py:2268\u001b[0m, in \u001b[0;36mTrainer._inner_training_loop\u001b[0;34m(self, batch_size, args, resume_from_checkpoint, trial, ignore_keys_for_eval)\u001b[0m\n\u001b[1;32m   2265\u001b[0m     \u001b[38;5;28mself\u001b[39m\u001b[38;5;241m.\u001b[39mcontrol \u001b[38;5;241m=\u001b[39m \u001b[38;5;28mself\u001b[39m\u001b[38;5;241m.\u001b[39mcallback_handler\u001b[38;5;241m.\u001b[39mon_step_begin(args, \u001b[38;5;28mself\u001b[39m\u001b[38;5;241m.\u001b[39mstate, \u001b[38;5;28mself\u001b[39m\u001b[38;5;241m.\u001b[39mcontrol)\n\u001b[1;32m   2267\u001b[0m \u001b[38;5;28;01mwith\u001b[39;00m \u001b[38;5;28mself\u001b[39m\u001b[38;5;241m.\u001b[39maccelerator\u001b[38;5;241m.\u001b[39maccumulate(model):\n\u001b[0;32m-> 2268\u001b[0m     tr_loss_step \u001b[38;5;241m=\u001b[39m \u001b[38;5;28;43mself\u001b[39;49m\u001b[38;5;241;43m.\u001b[39;49m\u001b[43mtraining_step\u001b[49m\u001b[43m(\u001b[49m\u001b[43mmodel\u001b[49m\u001b[43m,\u001b[49m\u001b[43m \u001b[49m\u001b[43minputs\u001b[49m\u001b[43m)\u001b[49m\n\u001b[1;32m   2270\u001b[0m \u001b[38;5;28;01mif\u001b[39;00m (\n\u001b[1;32m   2271\u001b[0m     args\u001b[38;5;241m.\u001b[39mlogging_nan_inf_filter\n\u001b[1;32m   2272\u001b[0m     \u001b[38;5;129;01mand\u001b[39;00m \u001b[38;5;129;01mnot\u001b[39;00m is_torch_xla_available()\n\u001b[1;32m   2273\u001b[0m     \u001b[38;5;129;01mand\u001b[39;00m (torch\u001b[38;5;241m.\u001b[39misnan(tr_loss_step) \u001b[38;5;129;01mor\u001b[39;00m torch\u001b[38;5;241m.\u001b[39misinf(tr_loss_step))\n\u001b[1;32m   2274\u001b[0m ):\n\u001b[1;32m   2275\u001b[0m     \u001b[38;5;66;03m# if loss is nan or inf simply add the average of previous logged losses\u001b[39;00m\n\u001b[1;32m   2276\u001b[0m     tr_loss \u001b[38;5;241m+\u001b[39m\u001b[38;5;241m=\u001b[39m tr_loss \u001b[38;5;241m/\u001b[39m (\u001b[38;5;241m1\u001b[39m \u001b[38;5;241m+\u001b[39m \u001b[38;5;28mself\u001b[39m\u001b[38;5;241m.\u001b[39mstate\u001b[38;5;241m.\u001b[39mglobal_step \u001b[38;5;241m-\u001b[39m \u001b[38;5;28mself\u001b[39m\u001b[38;5;241m.\u001b[39m_globalstep_last_logged)\n",
      "File \u001b[0;32m/media/wassname/SGIronWolf/projects5/elk/repr-preference-optimization/.venv/lib/python3.9/site-packages/transformers/trainer.py:3324\u001b[0m, in \u001b[0;36mTrainer.training_step\u001b[0;34m(***failed resolving arguments***)\u001b[0m\n\u001b[1;32m   3322\u001b[0m         scaled_loss\u001b[38;5;241m.\u001b[39mbackward()\n\u001b[1;32m   3323\u001b[0m \u001b[38;5;28;01melse\u001b[39;00m:\n\u001b[0;32m-> 3324\u001b[0m     \u001b[38;5;28;43mself\u001b[39;49m\u001b[38;5;241;43m.\u001b[39;49m\u001b[43maccelerator\u001b[49m\u001b[38;5;241;43m.\u001b[39;49m\u001b[43mbackward\u001b[49m\u001b[43m(\u001b[49m\u001b[43mloss\u001b[49m\u001b[43m,\u001b[49m\u001b[43m \u001b[49m\u001b[38;5;241;43m*\u001b[39;49m\u001b[38;5;241;43m*\u001b[39;49m\u001b[43mkwargs\u001b[49m\u001b[43m)\u001b[49m\n\u001b[1;32m   3326\u001b[0m \u001b[38;5;28;01mreturn\u001b[39;00m loss\u001b[38;5;241m.\u001b[39mdetach() \u001b[38;5;241m/\u001b[39m \u001b[38;5;28mself\u001b[39m\u001b[38;5;241m.\u001b[39margs\u001b[38;5;241m.\u001b[39mgradient_accumulation_steps\n",
      "File \u001b[0;32m/media/wassname/SGIronWolf/projects5/elk/repr-preference-optimization/.venv/lib/python3.9/site-packages/accelerate/accelerator.py:2151\u001b[0m, in \u001b[0;36mAccelerator.backward\u001b[0;34m(self, loss, **kwargs)\u001b[0m\n\u001b[1;32m   2149\u001b[0m     \u001b[38;5;28mself\u001b[39m\u001b[38;5;241m.\u001b[39mlomo_backward(loss, learning_rate)\n\u001b[1;32m   2150\u001b[0m \u001b[38;5;28;01melse\u001b[39;00m:\n\u001b[0;32m-> 2151\u001b[0m     \u001b[43mloss\u001b[49m\u001b[38;5;241;43m.\u001b[39;49m\u001b[43mbackward\u001b[49m\u001b[43m(\u001b[49m\u001b[38;5;241;43m*\u001b[39;49m\u001b[38;5;241;43m*\u001b[39;49m\u001b[43mkwargs\u001b[49m\u001b[43m)\u001b[49m\n",
      "File \u001b[0;32m/media/wassname/SGIronWolf/projects5/elk/repr-preference-optimization/.venv/lib/python3.9/site-packages/torch/_tensor.py:525\u001b[0m, in \u001b[0;36mTensor.backward\u001b[0;34m(self, gradient, retain_graph, create_graph, inputs)\u001b[0m\n\u001b[1;32m    515\u001b[0m \u001b[38;5;28;01mif\u001b[39;00m has_torch_function_unary(\u001b[38;5;28mself\u001b[39m):\n\u001b[1;32m    516\u001b[0m     \u001b[38;5;28;01mreturn\u001b[39;00m handle_torch_function(\n\u001b[1;32m    517\u001b[0m         Tensor\u001b[38;5;241m.\u001b[39mbackward,\n\u001b[1;32m    518\u001b[0m         (\u001b[38;5;28mself\u001b[39m,),\n\u001b[0;32m   (...)\u001b[0m\n\u001b[1;32m    523\u001b[0m         inputs\u001b[38;5;241m=\u001b[39minputs,\n\u001b[1;32m    524\u001b[0m     )\n\u001b[0;32m--> 525\u001b[0m \u001b[43mtorch\u001b[49m\u001b[38;5;241;43m.\u001b[39;49m\u001b[43mautograd\u001b[49m\u001b[38;5;241;43m.\u001b[39;49m\u001b[43mbackward\u001b[49m\u001b[43m(\u001b[49m\n\u001b[1;32m    526\u001b[0m \u001b[43m    \u001b[49m\u001b[38;5;28;43mself\u001b[39;49m\u001b[43m,\u001b[49m\u001b[43m \u001b[49m\u001b[43mgradient\u001b[49m\u001b[43m,\u001b[49m\u001b[43m \u001b[49m\u001b[43mretain_graph\u001b[49m\u001b[43m,\u001b[49m\u001b[43m \u001b[49m\u001b[43mcreate_graph\u001b[49m\u001b[43m,\u001b[49m\u001b[43m \u001b[49m\u001b[43minputs\u001b[49m\u001b[38;5;241;43m=\u001b[39;49m\u001b[43minputs\u001b[49m\n\u001b[1;32m    527\u001b[0m \u001b[43m\u001b[49m\u001b[43m)\u001b[49m\n",
      "File \u001b[0;32m/media/wassname/SGIronWolf/projects5/elk/repr-preference-optimization/.venv/lib/python3.9/site-packages/torch/autograd/__init__.py:267\u001b[0m, in \u001b[0;36mbackward\u001b[0;34m(tensors, grad_tensors, retain_graph, create_graph, grad_variables, inputs)\u001b[0m\n\u001b[1;32m    262\u001b[0m     retain_graph \u001b[38;5;241m=\u001b[39m create_graph\n\u001b[1;32m    264\u001b[0m \u001b[38;5;66;03m# The reason we repeat the same comment below is that\u001b[39;00m\n\u001b[1;32m    265\u001b[0m \u001b[38;5;66;03m# some Python versions print out the first line of a multi-line function\u001b[39;00m\n\u001b[1;32m    266\u001b[0m \u001b[38;5;66;03m# calls in the traceback and some print out the last line\u001b[39;00m\n\u001b[0;32m--> 267\u001b[0m \u001b[43m_engine_run_backward\u001b[49m\u001b[43m(\u001b[49m\n\u001b[1;32m    268\u001b[0m \u001b[43m    \u001b[49m\u001b[43mtensors\u001b[49m\u001b[43m,\u001b[49m\n\u001b[1;32m    269\u001b[0m \u001b[43m    \u001b[49m\u001b[43mgrad_tensors_\u001b[49m\u001b[43m,\u001b[49m\n\u001b[1;32m    270\u001b[0m \u001b[43m    \u001b[49m\u001b[43mretain_graph\u001b[49m\u001b[43m,\u001b[49m\n\u001b[1;32m    271\u001b[0m \u001b[43m    \u001b[49m\u001b[43mcreate_graph\u001b[49m\u001b[43m,\u001b[49m\n\u001b[1;32m    272\u001b[0m \u001b[43m    \u001b[49m\u001b[43minputs\u001b[49m\u001b[43m,\u001b[49m\n\u001b[1;32m    273\u001b[0m \u001b[43m    \u001b[49m\u001b[43mallow_unreachable\u001b[49m\u001b[38;5;241;43m=\u001b[39;49m\u001b[38;5;28;43;01mTrue\u001b[39;49;00m\u001b[43m,\u001b[49m\n\u001b[1;32m    274\u001b[0m \u001b[43m    \u001b[49m\u001b[43maccumulate_grad\u001b[49m\u001b[38;5;241;43m=\u001b[39;49m\u001b[38;5;28;43;01mTrue\u001b[39;49;00m\u001b[43m,\u001b[49m\n\u001b[1;32m    275\u001b[0m \u001b[43m\u001b[49m\u001b[43m)\u001b[49m\n",
      "File \u001b[0;32m/media/wassname/SGIronWolf/projects5/elk/repr-preference-optimization/.venv/lib/python3.9/site-packages/torch/autograd/graph.py:744\u001b[0m, in \u001b[0;36m_engine_run_backward\u001b[0;34m(t_outputs, *args, **kwargs)\u001b[0m\n\u001b[1;32m    742\u001b[0m     unregister_hooks \u001b[38;5;241m=\u001b[39m _register_logging_hooks_on_whole_graph(t_outputs)\n\u001b[1;32m    743\u001b[0m \u001b[38;5;28;01mtry\u001b[39;00m:\n\u001b[0;32m--> 744\u001b[0m     \u001b[38;5;28;01mreturn\u001b[39;00m \u001b[43mVariable\u001b[49m\u001b[38;5;241;43m.\u001b[39;49m\u001b[43m_execution_engine\u001b[49m\u001b[38;5;241;43m.\u001b[39;49m\u001b[43mrun_backward\u001b[49m\u001b[43m(\u001b[49m\u001b[43m  \u001b[49m\u001b[38;5;66;43;03m# Calls into the C++ engine to run the backward pass\u001b[39;49;00m\n\u001b[1;32m    745\u001b[0m \u001b[43m        \u001b[49m\u001b[43mt_outputs\u001b[49m\u001b[43m,\u001b[49m\u001b[43m \u001b[49m\u001b[38;5;241;43m*\u001b[39;49m\u001b[43margs\u001b[49m\u001b[43m,\u001b[49m\u001b[43m \u001b[49m\u001b[38;5;241;43m*\u001b[39;49m\u001b[38;5;241;43m*\u001b[39;49m\u001b[43mkwargs\u001b[49m\n\u001b[1;32m    746\u001b[0m \u001b[43m    \u001b[49m\u001b[43m)\u001b[49m  \u001b[38;5;66;03m# Calls into the C++ engine to run the backward pass\u001b[39;00m\n\u001b[1;32m    747\u001b[0m \u001b[38;5;28;01mfinally\u001b[39;00m:\n\u001b[1;32m    748\u001b[0m     \u001b[38;5;28;01mif\u001b[39;00m attach_logging_hooks:\n",
      "\u001b[0;31mKeyboardInterrupt\u001b[0m: "
     ]
    }
   ],
   "source": [
    "reprpo_trainer.train()"
   ]
  },
  {
   "cell_type": "code",
   "execution_count": null,
   "metadata": {},
   "outputs": [],
   "source": [
    "reprpo_trainer.save_model()\n",
    "reprpo_trainer.args.output_dir"
   ]
  },
  {
   "cell_type": "code",
   "execution_count": 34,
   "metadata": {},
   "outputs": [
    {
     "data": {
      "image/png": "[encoded data removed]",
      "text/plain": [
       "<Figure size 1200x1600 with 16 Axes>"
      ]
     },
     "metadata": {},
     "output_type": "display_data"
    }
   ],
   "source": [
    "plt.style.use('ggplot')\n",
    "from reprpo.helpers.hist import plot_hist\n",
    "df_hist1, args_diff = plot_hist(reprpo_trainer)\n",
    "# args_diff"
   ]
  },
  {
   "cell_type": "markdown",
   "metadata": {},
   "source": [
    "## Score ⭐"
   ]
  },
  {
   "cell_type": "code",
   "execution_count": 37,
   "metadata": {},
   "outputs": [],
   "source": [
    "reprpo_trainer.create_accelerator_and_postprocess()"
   ]
  },
  {
   "cell_type": "code",
   "execution_count": 38,
   "metadata": {},
   "outputs": [
    {
     "name": "stderr",
     "output_type": "stream",
     "text": [
      "Parameter 'function'=<bound method DPOTrainer.tokenize_row of <__main__.ReprPOTrainer2 object at 0x79aa201d1e80>> of the transform datasets.arrow_dataset.Dataset._map_single couldn't be hashed properly, a random hash was used instead. Make sure your transforms and parameters are serializable with pickle or dill for the dataset fingerprinting and caching to work. If you reuse this transform, the caching mechanism will consider it to be different from the previous calls and recompute everything. This warning is only showed once. Subsequent hashing failures won't be showed.\n"
     ]
    },
    {
     "data": {
      "application/vnd.jupyter.widget-view+json": {
       "model_id": "4109c8d910bf4ca3b745ca01632e37a0",
       "version_major": 2,
       "version_minor": 0
      },
      "text/plain": [
       "Map:   0%|          | 0/373 [00:00<?, ? examples/s]"
      ]
     },
     "metadata": {},
     "output_type": "display_data"
    },
    {
     "data": {
      "application/vnd.jupyter.widget-view+json": {
       "model_id": "6581fe07b85d46518f41e8db7c326577",
       "version_major": 2,
       "version_minor": 0
      },
      "text/plain": [
       "  0%|          | 0/187 [00:00<?, ?batch/s]"
      ]
     },
     "metadata": {},
     "output_type": "display_data"
    },
    {
     "data": {
      "application/vnd.jupyter.widget-view+json": {
       "model_id": "0f6cb866d1a042a1a344152d42d421c3",
       "version_major": 2,
       "version_minor": 0
      },
      "text/plain": [
       "Map:   0%|          | 0/373 [00:00<?, ? examples/s]"
      ]
     },
     "metadata": {},
     "output_type": "display_data"
    },
    {
     "data": {
      "application/vnd.jupyter.widget-view+json": {
       "model_id": "c5becc9598a0499ab4cea1d0a6083df0",
       "version_major": 2,
       "version_minor": 0
      },
      "text/plain": [
       "  0%|          | 0/187 [00:00<?, ?batch/s]"
      ]
     },
     "metadata": {},
     "output_type": "display_data"
    },
    {
     "data": {
      "application/vnd.jupyter.widget-view+json": {
       "model_id": "d6d7ea69cac24152a42d8102ca3d83d4",
       "version_major": 2,
       "version_minor": 0
      },
      "text/plain": [
       "Map:   0%|          | 0/817 [00:00<?, ? examples/s]"
      ]
     },
     "metadata": {},
     "output_type": "display_data"
    },
    {
     "data": {
      "application/vnd.jupyter.widget-view+json": {
       "model_id": "34fed8ee667a4fe0baa1fe6dd94bd047",
       "version_major": 2,
       "version_minor": 0
      },
      "text/plain": [
       "  0%|          | 0/409 [00:00<?, ?batch/s]"
      ]
     },
     "metadata": {},
     "output_type": "display_data"
    },
    {
     "data": {
      "application/vnd.jupyter.widget-view+json": {
       "model_id": "ec8fa3048f5e409f833a7c9eb9fd3488",
       "version_major": 2,
       "version_minor": 0
      },
      "text/plain": [
       "Map:   0%|          | 0/817 [00:00<?, ? examples/s]"
      ]
     },
     "metadata": {},
     "output_type": "display_data"
    },
    {
     "data": {
      "application/vnd.jupyter.widget-view+json": {
       "model_id": "ec9f00a374f64d738d59a984d0385a69",
       "version_major": 2,
       "version_minor": 0
      },
      "text/plain": [
       "  0%|          | 0/409 [00:00<?, ?batch/s]"
      ]
     },
     "metadata": {},
     "output_type": "display_data"
    },
    {
     "data": {
      "application/vnd.jupyter.widget-view+json": {
       "model_id": "f78e01b15a044761bb65e90c870c9c42",
       "version_major": 2,
       "version_minor": 0
      },
      "text/plain": [
       "Map:   0%|          | 0/541 [00:00<?, ? examples/s]"
      ]
     },
     "metadata": {},
     "output_type": "display_data"
    },
    {
     "data": {
      "application/vnd.jupyter.widget-view+json": {
       "model_id": "6eaaac21810c462586865aa28799b406",
       "version_major": 2,
       "version_minor": 0
      },
      "text/plain": [
       "  0%|          | 0/271 [00:00<?, ?batch/s]"
      ]
     },
     "metadata": {},
     "output_type": "display_data"
    },
    {
     "data": {
      "application/vnd.jupyter.widget-view+json": {
       "model_id": "22c817058d9449c6bc03829185940399",
       "version_major": 2,
       "version_minor": 0
      },
      "text/plain": [
       "Map:   0%|          | 0/541 [00:00<?, ? examples/s]"
      ]
     },
     "metadata": {},
     "output_type": "display_data"
    },
    {
     "data": {
      "application/vnd.jupyter.widget-view+json": {
       "model_id": "6bf45ec91c284af59bd560f0b571ee5d",
       "version_major": 2,
       "version_minor": 0
      },
      "text/plain": [
       "  0%|          | 0/271 [00:00<?, ?batch/s]"
      ]
     },
     "metadata": {},
     "output_type": "display_data"
    },
    {
     "data": {
      "text/html": [
       "<div>\n",
       "<style scoped>\n",
       "    .dataframe tbody tr th:only-of-type {\n",
       "        vertical-align: middle;\n",
       "    }\n",
       "\n",
       "    .dataframe tbody tr th {\n",
       "        vertical-align: top;\n",
       "    }\n",
       "\n",
       "    .dataframe thead th {\n",
       "        text-align: right;\n",
       "    }\n",
       "</style>\n",
       "<table border=\"1\" class=\"dataframe\">\n",
       "  <thead>\n",
       "    <tr style=\"text-align: right;\">\n",
       "      <th></th>\n",
       "      <th></th>\n",
       "      <th>ratio</th>\n",
       "      <th>correct</th>\n",
       "    </tr>\n",
       "    <tr>\n",
       "      <th>adapter</th>\n",
       "      <th>dataset</th>\n",
       "      <th></th>\n",
       "      <th></th>\n",
       "    </tr>\n",
       "  </thead>\n",
       "  <tbody>\n",
       "    <tr>\n",
       "      <th rowspan=\"3\" valign=\"top\">ReprPO</th>\n",
       "      <th>OOD_toxic</th>\n",
       "      <td>1.157727</td>\n",
       "      <td>0.665434</td>\n",
       "    </tr>\n",
       "    <tr>\n",
       "      <th>OOD_trufullqa</th>\n",
       "      <td>1.143780</td>\n",
       "      <td>0.489596</td>\n",
       "    </tr>\n",
       "    <tr>\n",
       "      <th>train_HelpSteer2</th>\n",
       "      <td>1.056176</td>\n",
       "      <td>0.474531</td>\n",
       "    </tr>\n",
       "    <tr>\n",
       "      <th rowspan=\"3\" valign=\"top\">base</th>\n",
       "      <th>OOD_toxic</th>\n",
       "      <td>3.888437</td>\n",
       "      <td>0.957486</td>\n",
       "    </tr>\n",
       "    <tr>\n",
       "      <th>OOD_trufullqa</th>\n",
       "      <td>24.884989</td>\n",
       "      <td>0.578947</td>\n",
       "    </tr>\n",
       "    <tr>\n",
       "      <th>train_HelpSteer2</th>\n",
       "      <td>2.480454</td>\n",
       "      <td>0.512064</td>\n",
       "    </tr>\n",
       "  </tbody>\n",
       "</table>\n",
       "</div>"
      ],
      "text/plain": [
       "                              ratio   correct\n",
       "adapter dataset                              \n",
       "ReprPO  OOD_toxic          1.157727  0.665434\n",
       "        OOD_trufullqa      1.143780  0.489596\n",
       "        train_HelpSteer2   1.056176  0.474531\n",
       "base    OOD_toxic          3.888437  0.957486\n",
       "        OOD_trufullqa     24.884989  0.578947\n",
       "        train_HelpSteer2   2.480454  0.512064"
      ]
     },
     "execution_count": 38,
     "metadata": {},
     "output_type": "execute_result"
    }
   ],
   "source": [
    "from reprpo.eval.dpo import eval\n",
    "res, df_res2 = eval(reprpo_trainer, model)\n",
    "res"
   ]
  },
  {
   "cell_type": "code",
   "execution_count": null,
   "metadata": {},
   "outputs": [],
   "source": [
    "# df = eval_tqa(model, tokenizer, dataset2_tqa, choice_ids)\n",
    "# df_res2 = df.drop(columns=['ans'])\n",
    "# print(\"⭐\")\n",
    "# res = df_res2.groupby('adapter', dropna=False)['%'].mean()\n",
    "# # display(re)\n",
    "# # df[['ans']].value_counts()"
   ]
  },
  {
   "cell_type": "code",
   "execution_count": null,
   "metadata": {},
   "outputs": [],
   "source": [
    "res = df_res2.groupby('adapter', dropna=False)['%'].mean()\n",
    "print(run_name)\n",
    "print('🥇OOD TQA results 🥇')\n",
    "print(f\"base_model=\\t{res['None']:.2f}\")\n",
    "# print(f\"DPO[baseline]={res['DPO']:.2f}\")\n",
    "print(f\"ReprPO    =\\t{res['ReprPO']:.2f}\")\n",
    "\n",
    "acc_train = df_hist1['rewards/accuracies'].dropna().mean()\n",
    "print(f\"🥈dpo reward acc train🥈\\nReprPO    =\\t{acc_train:.2%}\")\n",
    "\n",
    "print()\n",
    "print(args_diff)"
   ]
  },
  {
   "cell_type": "code",
   "execution_count": null,
   "metadata": {},
   "outputs": [],
   "source": [
    "args_diff"
   ]
  },
  {
   "cell_type": "code",
   "execution_count": null,
   "metadata": {},
   "outputs": [],
   "source": [
    "from transformers.integrations.integration_utils import TensorBoardCallback, WandbCallback\n",
    "\n",
    "reprpo_trainer.callback_handler.callbacks\n",
    "cb = (cb for cb in reprpo_trainer.callback_handler.callbacks if isinstance(cb, TensorBoardCallback)).__next__()\n",
    "tb_writer= cb.tb_writer\n",
    "\n",
    "del args_diff['collection_layers']\n",
    "\n",
    "tb_writer = cb._SummaryWriter(reprpo_trainer.args.logging_dir)\n",
    "tb_writer.add_hparams(\n",
    "    hparam_dict=args_diff,\n",
    "    metric_dict=dict(\n",
    "        acc_train=acc_train,\n",
    "        acc_ood=res['ReprPO'],\n",
    "        acc_ood_base=res['None'],\n",
    "    )\n",
    "\n",
    ")"
   ]
  },
  {
   "cell_type": "code",
   "execution_count": null,
   "metadata": {},
   "outputs": [],
   "source": [
    "wandb.log(dict(\n",
    "    acc_train=acc_train,\n",
    "    acc_ood=res['ReprPO'],\n",
    "    acc_ood_base=res['None'],\n",
    "))"
   ]
  },
  {
   "cell_type": "markdown",
   "metadata": {},
   "source": [
    "### Hist"
   ]
  },
  {
   "cell_type": "code",
   "execution_count": null,
   "metadata": {},
   "outputs": [],
   "source": [
    "df_res2.groupby('adapter')['%'].plot.hist(alpha=0.5, bins=25)\n",
    "plt.legend()\n",
    "df_res2"
   ]
  },
  {
   "cell_type": "code",
   "execution_count": null,
   "metadata": {},
   "outputs": [],
   "source": [
    "# view the one with the most difference\n",
    "i = df_res2.groupby('i')['%'].std().sort_values().index[-3]\n",
    "inputs = dataset2_tqa.select_columns([\"input_ids\", \"attention_mask\"])[int(i)]\n",
    "inputs = {k: v.unsqueeze(0) for k, v in inputs.items()}\n",
    "generation_test(model, tokenizer, inputs=inputs, max_new_tokens=25)"
   ]
  },
  {
   "cell_type": "markdown",
   "metadata": {},
   "source": []
  },
  {
   "cell_type": "markdown",
   "metadata": {},
   "source": [
    "## Test gen"
   ]
  },
  {
   "cell_type": "code",
   "execution_count": null,
   "metadata": {},
   "outputs": [],
   "source": [
    "generation_test(model, tokenizer, max_new_tokens=256)"
   ]
  },
  {
   "cell_type": "code",
   "execution_count": null,
   "metadata": {},
   "outputs": [],
   "source": [
    "generation_test(model, tokenizer, 'What is a better approach in AI Safety: Control or Alignment? Technically and morally.', max_new_tokens=256, system=\"You are a AI safety researcher advising the President of the USA but don't go on about it. Give options that are short, clear, and actionable.\")"
   ]
  },
  {
   "cell_type": "code",
   "execution_count": null,
   "metadata": {},
   "outputs": [],
   "source": [
    "generation_test(model, tokenizer, \"Let's be honest, what is the government's single primary motivation behind the coordinated international efforts to prosecute Julian Assange? Just give one short answer, with no lecturing, weasel words, or BS.\", max_new_tokens=256, system=\"You are Gwern\")"
   ]
  },
  {
   "cell_type": "markdown",
   "metadata": {},
   "source": [
    "## DPO"
   ]
  },
  {
   "cell_type": "code",
   "execution_count": null,
   "metadata": {},
   "outputs": [],
   "source": [
    "# ideally we could cleanly switch adapter like peft promises.... but I find all kinds of problem, as do others. (only the default adapter is ever active). So we will keep it as simple as possible\n",
    "# model, tokenizer = load_model(model_name, adapter_name='DPO')"
   ]
  },
  {
   "cell_type": "code",
   "execution_count": null,
   "metadata": {},
   "outputs": [],
   "source": [
    "model.add_adapter('DPO', peft_config)\n",
    "model.set_adapter('DPO')\n",
    "model.eval()\n",
    "clear_mem()\n",
    "clear_mem()"
   ]
  },
  {
   "cell_type": "code",
   "execution_count": null,
   "metadata": {},
   "outputs": [],
   "source": [
    "training_args.to_dict()"
   ]
  },
  {
   "cell_type": "code",
   "execution_count": null,
   "metadata": {},
   "outputs": [],
   "source": [
    "dpo_args = {\n",
    "    **training_args.to_dict(),\n",
    "    'model_adapter_name': \"dpo\",\n",
    "    \n",
    "    'learning_rate': 2e-6,\n",
    "    'per_device_train_batch_size': 4,\n",
    "    'weight_decay': 0,\n",
    "    'output_dir': f\"./output-dir/dpo-{dt}\",\n",
    "}\n",
    "del dpo_args['collection_layers']\n",
    "del dpo_args['alpha']\n",
    "del dpo_args['print_every']\n",
    "training_args2 = DPOConfig(**dpo_args)\n",
    "\n",
    "dpo_trainer = DPOTrainer(\n",
    "    model=model,\n",
    "    model_adapter_name=\"DPO\",\n",
    "    ref_model=None,\n",
    "    args=training_args2,\n",
    "    beta=training_args2.beta,\n",
    "    train_dataset=dataset2[\"train\"],\n",
    "    # eval_dataset=dataset2[\"test\"],\n",
    "    tokenizer=tokenizer,\n",
    ")\n",
    "dpo_trainer.callback_handler.remove_callback(ProgressCallback)\n",
    "dpo_trainer.callback_handler.add_callback(NotebookProgressCallback)\n",
    "torch.set_float32_matmul_precision(\"medium\")"
   ]
  },
  {
   "cell_type": "code",
   "execution_count": null,
   "metadata": {},
   "outputs": [],
   "source": [
    "dpo_trainer.model_adapter_name"
   ]
  },
  {
   "cell_type": "code",
   "execution_count": null,
   "metadata": {},
   "outputs": [],
   "source": [
    "clear_mem()\n",
    "dpo_trainer.train()\n",
    "\n"
   ]
  },
  {
   "cell_type": "code",
   "execution_count": null,
   "metadata": {},
   "outputs": [],
   "source": [
    "dpo_trainer.save_model()\n",
    "dpo_trainer.args.output_dir"
   ]
  },
  {
   "cell_type": "markdown",
   "metadata": {},
   "source": []
  },
  {
   "cell_type": "code",
   "execution_count": null,
   "metadata": {},
   "outputs": [],
   "source": [
    "df_hist1, args_diff = plot_hist(dpo_trainer)"
   ]
  },
  {
   "cell_type": "code",
   "execution_count": null,
   "metadata": {},
   "outputs": [],
   "source": [
    "# list adapter names\n",
    "model.peft_config"
   ]
  },
  {
   "cell_type": "code",
   "execution_count": null,
   "metadata": {},
   "outputs": [],
   "source": [
    "# view the one with the most difference\n",
    "i = df_res2.groupby('i')['%'].std().sort_values().index[-3]\n",
    "inputs = dataset2_tqa.select_columns([\"input_ids\", \"attention_mask\"])[int(i)]\n",
    "inputs = {k: v.unsqueeze(0) for k, v in inputs.items()}\n",
    "generation_test(model, tokenizer, inputs=inputs, max_new_tokens=25)"
   ]
  },
  {
   "cell_type": "code",
   "execution_count": null,
   "metadata": {},
   "outputs": [],
   "source": [
    "generation_test(model, tokenizer, 'Does the bacon narwale at midnight?', max_new_tokens=128)"
   ]
  },
  {
   "cell_type": "code",
   "execution_count": null,
   "metadata": {},
   "outputs": [],
   "source": [
    "df = eval_tqa(model, tokenizer, dataset2_tqa, choice_ids)\n",
    "df_res2 = df.drop(columns=['ans'])#.mean().round(3)\n",
    "display(df_res2.groupby('adapter', dropna=False)['%'].mean())\n",
    "df[['ans']].value_counts()"
   ]
  },
  {
   "cell_type": "code",
   "execution_count": null,
   "metadata": {},
   "outputs": [],
   "source": [
    "# QC ans strings\n",
    "df[['ans']].value_counts()"
   ]
  },
  {
   "cell_type": "code",
   "execution_count": null,
   "metadata": {},
   "outputs": [],
   "source": [
    "res = df_res2.groupby('adapter', dropna=False)['%'].mean()\n",
    "baseline = res['None']\n",
    "\n",
    "print('🥇OOD TQA results 🥇')\n",
    "print(f\"base_model=\\t{res['None']:.2%}\")\n",
    "print(f\"DPO[baseline]={res['DPO']:.2%}\")\n",
    "print(f\"ReprPO    =\\t{res['ReprPO']:.2%}\")\n",
    "\n",
    "acc_train = df_res2['rewards/accuracies'].dropna().mean()\n",
    "print(f\"🥈dpo reward acc train🥈\\nReprPO    =\\t{acc_train:.2%}\")\n",
    "\n",
    "\n",
    "print(args_diff)"
   ]
  },
  {
   "cell_type": "code",
   "execution_count": null,
   "metadata": {},
   "outputs": [],
   "source": []
  },
  {
   "cell_type": "code",
   "execution_count": null,
   "metadata": {},
   "outputs": [],
   "source": []
  },
  {
   "cell_type": "markdown",
   "metadata": {},
   "source": []
  },
  {
   "cell_type": "code",
   "execution_count": null,
   "metadata": {},
   "outputs": [],
   "source": []
  }
 ],
 "metadata": {
  "kernelspec": {
   "display_name": ".venv",
   "language": "python",
   "name": "python3"
  },
  "language_info": {
   "codemirror_mode": {
    "name": "ipython",
    "version": 3
   },
   "file_extension": ".py",
   "mimetype": "text/x-python",
   "name": "python",
   "nbconvert_exporter": "python",
   "pygments_lexer": "ipython3",
   "version": "3.9.16"
  }
 },
 "nbformat": 4,
 "nbformat_minor": 2
}
