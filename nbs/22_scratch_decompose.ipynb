{
 "cells": [
  {
   "cell_type": "code",
   "execution_count": 1,
   "metadata": {},
   "outputs": [],
   "source": [
    "%reload_ext autoreload\n",
    "%autoreload 2"
   ]
  },
  {
   "cell_type": "code",
   "execution_count": 2,
   "metadata": {},
   "outputs": [],
   "source": [
    "from reprpo.helpers.svd_decomposer import SVDDecomposer, DualSVDDecomposer\n",
    "from reprpo.helpers.shypothesis import shypothesis\n",
    "\n",
    "import torch\n",
    "from torch import nn, Tensor\n",
    "from typing import Tuple\n",
    "from einops import rearrange\n",
    "from jaxtyping import Float"
   ]
  },
  {
   "cell_type": "code",
   "execution_count": 3,
   "metadata": {},
   "outputs": [
    {
     "data": {
      "text/plain": [
       "(torch.Size([32011, 3072]), torch.Size([8448, 3072]))"
      ]
     },
     "execution_count": 3,
     "metadata": {},
     "output_type": "execute_result"
    }
   ],
   "source": [
    "data = torch.load('../test/data/dual_svd_decomposer.pt')\n",
    "hs_c = data['chosen_hs']\n",
    "hs_c = rearrange(hs_c, 'b l t h -> (b l t) h')\n",
    "hs_r = data['rejected_hs']\n",
    "hs_r = rearrange(hs_r, 'b l t h -> (b l t) h')\n",
    "\n",
    "\n",
    "WO = data['WO']\n",
    "WE = data['WE']\n",
    "WO.shape, hs_c.shape"
   ]
  },
  {
   "cell_type": "code",
   "execution_count": 4,
   "metadata": {},
   "outputs": [
    {
     "data": {
      "text/plain": [
       "tensor(5678.8706)"
      ]
     },
     "execution_count": 4,
     "metadata": {},
     "output_type": "execute_result"
    }
   ],
   "source": [
    "(hs_c-hs_r).max()"
   ]
  },
  {
   "cell_type": "code",
   "execution_count": 5,
   "metadata": {},
   "outputs": [],
   "source": [
    "\n",
    "decomposer_out = SVDDecomposer(WO)\n",
    "decomposer_in = SVDDecomposer(WE)"
   ]
  },
  {
   "cell_type": "code",
   "execution_count": null,
   "metadata": {},
   "outputs": [],
   "source": [
    "decomposer = DualSVDDecomposer(WE, WO)"
   ]
  },
  {
   "cell_type": "code",
   "execution_count": null,
   "metadata": {},
   "outputs": [],
   "source": [
    "decomposer_in.test(hs_c)\n",
    "decomposer_out.test(hs_c)"
   ]
  },
  {
   "cell_type": "code",
   "execution_count": null,
   "metadata": {},
   "outputs": [
    {
     "ename": "KeyboardInterrupt",
     "evalue": "",
     "output_type": "error",
     "traceback": [
      "\u001b[0;31m---------------------------------------------------------------------------\u001b[0m",
      "\u001b[0;31mKeyboardInterrupt\u001b[0m                         Traceback (most recent call last)",
      "Cell \u001b[0;32mIn[8], line 1\u001b[0m\n\u001b[0;32m----> 1\u001b[0m \u001b[43mdecomposer\u001b[49m\u001b[38;5;241;43m.\u001b[39;49m\u001b[43mtest\u001b[49m\u001b[43m(\u001b[49m\u001b[43mhs_c\u001b[49m\u001b[43m)\u001b[49m\n",
      "File \u001b[0;32m/media/wassname/SGIronWolf/projects5/elk/repr-preference-optimization/reprpo/helpers/svd_decomposer.py:86\u001b[0m, in \u001b[0;36mDualSVDDecomposer.test\u001b[0;34m(self, hs)\u001b[0m\n\u001b[1;32m     84\u001b[0m \u001b[38;5;28mself\u001b[39m\u001b[38;5;241m.\u001b[39mdecomposer_in\u001b[38;5;241m.\u001b[39mtest(hs)\n\u001b[1;32m     85\u001b[0m \u001b[38;5;28mprint\u001b[39m(\u001b[38;5;124m'\u001b[39m\u001b[38;5;124mdecomposer_out\u001b[39m\u001b[38;5;124m'\u001b[39m)\n\u001b[0;32m---> 86\u001b[0m \u001b[38;5;28;43mself\u001b[39;49m\u001b[38;5;241;43m.\u001b[39;49m\u001b[43mdecomposer_out\u001b[49m\u001b[38;5;241;43m.\u001b[39;49m\u001b[43mtest\u001b[49m\u001b[43m(\u001b[49m\u001b[43mhs\u001b[49m\u001b[43m)\u001b[49m\n\u001b[1;32m     88\u001b[0m \u001b[38;5;66;03m# now also test combined\u001b[39;00m\n\u001b[1;32m     89\u001b[0m \u001b[38;5;28mprint\u001b[39m(\u001b[38;5;124m'\u001b[39m\u001b[38;5;124mcombined\u001b[39m\u001b[38;5;124m'\u001b[39m)\n",
      "File \u001b[0;32m/media/wassname/SGIronWolf/projects5/elk/repr-preference-optimization/reprpo/helpers/svd_decomposer.py:50\u001b[0m, in \u001b[0;36mSVDDecomposer.test\u001b[0;34m(self, hs)\u001b[0m\n\u001b[1;32m     48\u001b[0m original_projection \u001b[38;5;241m=\u001b[39m torch\u001b[38;5;241m.\u001b[39mnorm(\u001b[38;5;28mself\u001b[39m\u001b[38;5;241m.\u001b[39mW \u001b[38;5;241m@\u001b[39m hs\u001b[38;5;241m.\u001b[39mT)\n\u001b[1;32m     49\u001b[0m output_projection \u001b[38;5;241m=\u001b[39m torch\u001b[38;5;241m.\u001b[39mnorm(\u001b[38;5;28mself\u001b[39m\u001b[38;5;241m.\u001b[39mW \u001b[38;5;241m@\u001b[39m hs_ov\u001b[38;5;241m.\u001b[39mT)\n\u001b[0;32m---> 50\u001b[0m internal_projection \u001b[38;5;241m=\u001b[39m torch\u001b[38;5;241m.\u001b[39mnorm(\u001b[38;5;28;43mself\u001b[39;49m\u001b[38;5;241;43m.\u001b[39;49m\u001b[43mW\u001b[49m\u001b[43m \u001b[49m\u001b[38;5;241;43m@\u001b[39;49m\u001b[43m \u001b[49m\u001b[43mhs_r\u001b[49m\u001b[38;5;241;43m.\u001b[39;49m\u001b[43mT\u001b[49m)\n\u001b[1;32m     52\u001b[0m \u001b[38;5;28mprint\u001b[39m(\u001b[38;5;124mf\u001b[39m\u001b[38;5;124m\"\u001b[39m\u001b[38;5;124mOriginal: \u001b[39m\u001b[38;5;132;01m{\u001b[39;00moriginal_projection\u001b[38;5;132;01m}\u001b[39;00m\u001b[38;5;124m\"\u001b[39m)\n\u001b[1;32m     53\u001b[0m \u001b[38;5;28mprint\u001b[39m(\u001b[38;5;124mf\u001b[39m\u001b[38;5;124m\"\u001b[39m\u001b[38;5;124mOutput: \u001b[39m\u001b[38;5;132;01m{\u001b[39;00moutput_projection\u001b[38;5;132;01m}\u001b[39;00m\u001b[38;5;124m\"\u001b[39m)\n",
      "\u001b[0;31mKeyboardInterrupt\u001b[0m: "
     ]
    }
   ],
   "source": [
    "decomposer.test(hs_c)"
   ]
  },
  {
   "cell_type": "markdown",
   "metadata": {},
   "source": [
    "## d(a)-d(b) = d(a-b) ?"
   ]
  },
  {
   "cell_type": "code",
   "execution_count": 9,
   "metadata": {},
   "outputs": [],
   "source": [
    "decomposer = DualSVDDecomposer(WE, WO)"
   ]
  },
  {
   "cell_type": "code",
   "execution_count": 10,
   "metadata": {},
   "outputs": [
    {
     "name": "stdout",
     "output_type": "stream",
     "text": [
      "tensor(0.3253)\n",
      "tensor(nan)\n"
     ]
    }
   ],
   "source": [
    "hs_c_kv = hs_c-decomposer(hs_c)\n",
    "hs_r_kv = hs_r-decomposer(hs_r)\n",
    "d = hs_c_kv - hs_r_kv\n",
    "print(torch.norm(d))\n",
    "\n",
    "d = hs_c - hs_r\n",
    "d = d-decomposer(d)\n",
    "print(torch.norm(d))"
   ]
  },
  {
   "cell_type": "code",
   "execution_count": 11,
   "metadata": {},
   "outputs": [
    {
     "name": "stdout",
     "output_type": "stream",
     "text": [
      "tensor(0.3280)\n",
      "tensor(0.3245)\n"
     ]
    }
   ],
   "source": [
    "decomp = decomposer.decomposer_in\n",
    "\n",
    "hs_c_kv = hs_c-decomp(hs_c)\n",
    "hs_r_kv = hs_r-decomp(hs_r)\n",
    "d = hs_c_kv - hs_r_kv\n",
    "print(torch.norm(d))\n",
    "\n",
    "d = hs_c - hs_r\n",
    "d = d-decomp(d)\n",
    "print(torch.norm(d))"
   ]
  },
  {
   "cell_type": "code",
   "execution_count": 12,
   "metadata": {},
   "outputs": [
    {
     "name": "stdout",
     "output_type": "stream",
     "text": [
      "tensor(0.2778)\n",
      "tensor(0.2808)\n"
     ]
    }
   ],
   "source": [
    "decomp = decomposer.decomposer_out\n",
    "\n",
    "hs_c_kv = hs_c-decomp(hs_c)\n",
    "hs_r_kv = hs_r-decomp(hs_r)\n",
    "d = hs_c_kv - hs_r_kv\n",
    "print(torch.norm(d))\n",
    "\n",
    "d = hs_c - hs_r\n",
    "d = d-decomp(d)\n",
    "print(torch.norm(d))"
   ]
  },
  {
   "cell_type": "code",
   "execution_count": null,
   "metadata": {},
   "outputs": [],
   "source": []
  }
 ],
 "metadata": {
  "kernelspec": {
   "display_name": ".venv",
   "language": "python",
   "name": "python3"
  },
  "language_info": {
   "codemirror_mode": {
    "name": "ipython",
    "version": 3
   },
   "file_extension": ".py",
   "mimetype": "text/x-python",
   "name": "python",
   "nbconvert_exporter": "python",
   "pygments_lexer": "ipython3",
   "version": "3.9.16"
  }
 },
 "nbformat": 4,
 "nbformat_minor": 2
}
