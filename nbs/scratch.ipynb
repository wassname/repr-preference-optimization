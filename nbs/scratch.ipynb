{
 "cells": [
  {
   "cell_type": "code",
   "execution_count": 50,
   "metadata": {},
   "outputs": [
    {
     "data": {
      "text/plain": [
       "tensor([[0.3438, 0.3141, 0.3421],\n",
       "        [0.3364, 0.3232, 0.3404],\n",
       "        [0.3374, 0.3313, 0.3313],\n",
       "        [0.3330, 0.3336, 0.3334],\n",
       "        [0.3346, 0.3323, 0.3332]])"
      ]
     },
     "execution_count": 50,
     "metadata": {},
     "output_type": "execute_result"
    }
   ],
   "source": [
    "import torch\n",
    "x = torch.tensor([\n",
    "    [ 0.0470, -0.0431,  0.0421],\n",
    "    [ 0.0282, -0.0119,  0.0402],\n",
    "    [0.0181, 0.0000, 0.0000],\n",
    "    [-0.0017,  0.0001, -0.0004],\n",
    "    [ 4.1447e-03, -2.7173e-03, -2.3842e-07]\n",
    "    ])\n",
    "x.softmax(1)"
   ]
  },
  {
   "cell_type": "code",
   "execution_count": 81,
   "metadata": {},
   "outputs": [
    {
     "data": {
      "text/plain": [
       "tensor([[0.1225, 0.7424, 0.1351],\n",
       "        [0.2490, 0.5552, 0.1958],\n",
       "        [0.2582, 0.3709, 0.3709],\n",
       "        [0.3403, 0.3282, 0.3315],\n",
       "        [0.3093, 0.3548, 0.3360]])"
      ]
     },
     "execution_count": 81,
     "metadata": {},
     "output_type": "execute_result"
    }
   ],
   "source": [
    "torch.softmax(-x*20, 1)"
   ]
  },
  {
   "cell_type": "code",
   "execution_count": 71,
   "metadata": {},
   "outputs": [
    {
     "data": {
      "text/plain": [
       "tensor([[0.3438, 0.3141, 0.3421],\n",
       "        [0.3364, 0.3230, 0.3406],\n",
       "        [0.3374, 0.3313, 0.3313],\n",
       "        [0.3330, 0.3336, 0.3334],\n",
       "        [0.3346, 0.3323, 0.3332]])"
      ]
     },
     "execution_count": 71,
     "metadata": {},
     "output_type": "execute_result"
    }
   ],
   "source": [
    "torch.softmax(x.exp()-1, 1)"
   ]
  },
  {
   "cell_type": "code",
   "execution_count": 70,
   "metadata": {},
   "outputs": [
    {
     "data": {
      "text/plain": [
       "tensor([[ 4.8122e-02, -4.2184e-02,  4.2999e-02],\n",
       "        [ 2.8601e-02, -1.1829e-02,  4.1019e-02],\n",
       "        [ 1.8265e-02,  0.0000e+00,  0.0000e+00],\n",
       "        [-1.6986e-03,  1.0002e-04, -3.9995e-04],\n",
       "        [ 4.1533e-03, -2.7136e-03, -2.3842e-07]])"
      ]
     },
     "execution_count": 70,
     "metadata": {},
     "output_type": "execute_result"
    }
   ],
   "source": [
    "x.exp()-1"
   ]
  },
  {
   "cell_type": "code",
   "execution_count": 54,
   "metadata": {},
   "outputs": [
    {
     "data": {
      "text/plain": [
       "tensor([[0.5241, 0.4789, 0.5215],\n",
       "        [0.5143, 0.4941, 0.5205],\n",
       "        [0.5091, 0.5000, 0.5000],\n",
       "        [0.4992, 0.5001, 0.4998],\n",
       "        [0.5021, 0.4986, 0.5000]])"
      ]
     },
     "execution_count": 54,
     "metadata": {},
     "output_type": "execute_result"
    }
   ],
   "source": [
    "x.exp()/2"
   ]
  },
  {
   "cell_type": "code",
   "execution_count": 72,
   "metadata": {},
   "outputs": [
    {
     "data": {
      "text/plain": [
       "tensor([[0.5109, 0.0056, 0.4835],\n",
       "        [0.4317, 0.0105, 0.5578],\n",
       "        [0.9052, 0.0474, 0.0474],\n",
       "        [0.1639, 0.4590, 0.3770],\n",
       "        [0.6250, 0.0795, 0.2955]])"
      ]
     },
     "execution_count": 72,
     "metadata": {},
     "output_type": "execute_result"
    }
   ],
   "source": [
    "x1 = x - x.min(1, keepdim=True)[0] + 1e-3\n",
    "x1 / x1.sum(1, keepdim=True)"
   ]
  },
  {
   "cell_type": "code",
   "execution_count": 11,
   "metadata": {},
   "outputs": [
    {
     "data": {
      "text/plain": [
       "tensor([1.1425, 1.0440, 1.1369])"
      ]
     },
     "execution_count": 11,
     "metadata": {},
     "output_type": "execute_result"
    }
   ],
   "source": []
  }
 ],
 "metadata": {
  "kernelspec": {
   "display_name": ".venv",
   "language": "python",
   "name": "python3"
  },
  "language_info": {
   "codemirror_mode": {
    "name": "ipython",
    "version": 3
   },
   "file_extension": ".py",
   "mimetype": "text/x-python",
   "name": "python",
   "nbconvert_exporter": "python",
   "pygments_lexer": "ipython3",
   "version": "3.9.16"
  }
 },
 "nbformat": 4,
 "nbformat_minor": 2
}
