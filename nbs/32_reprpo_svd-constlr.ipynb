{
 "cells": [
  {
   "cell_type": "markdown",
   "metadata": {},
   "source": [
    "Instead of using the complex TRL we code it from scratch, using lighting\n",
    "\n",
    "https://github.com/rasbt/LLMs-from-scratch/blob/main/ch07/04_preference-tuning-with-dpo/dpo-from-scratch.ipynb"
   ]
  },
  {
   "cell_type": "code",
   "execution_count": 1,
   "metadata": {
    "execution": {
     "iopub.execute_input": "2024-08-18T07:47:08.535447Z",
     "iopub.status.busy": "2024-08-18T07:47:08.534617Z",
     "iopub.status.idle": "2024-08-18T07:47:08.567724Z",
     "shell.execute_reply": "2024-08-18T07:47:08.566709Z",
     "shell.execute_reply.started": "2024-08-18T07:47:08.535407Z"
    }
   },
   "outputs": [],
   "source": [
    "%reload_ext autoreload\n",
    "%autoreload 2"
   ]
  },
  {
   "cell_type": "code",
   "execution_count": 2,
   "metadata": {
    "execution": {
     "iopub.execute_input": "2024-08-18T07:47:08.570206Z",
     "iopub.status.busy": "2024-08-18T07:47:08.569407Z",
     "iopub.status.idle": "2024-08-18T07:47:11.482466Z",
     "shell.execute_reply": "2024-08-18T07:47:11.481845Z",
     "shell.execute_reply.started": "2024-08-18T07:47:08.570170Z"
    }
   },
   "outputs": [],
   "source": [
    "from pathlib import Path\n",
    "\n",
    "# ML\n",
    "import torch\n",
    "import torch.nn as nn\n",
    "import torch.nn.functional as F\n",
    "from typing import Any, Callable, Dict, List, Literal, Optional, Tuple, Union\n",
    "from einops import rearrange, reduce, repeat\n",
    "from jaxtyping import Float, Int, Bool\n",
    "from torch.utils.data import DataLoader\n",
    "\n",
    "# Numeric\n",
    "import numpy as np\n",
    "import pandas as pd\n",
    "from matplotlib import pyplot as plt\n",
    "\n",
    "# lightning\n",
    "import lightning as pl\n",
    "from lightning.pytorch.loggers.wandb import WandbLogger\n",
    "from lightning.pytorch.loggers.csv_logs import CSVLogger\n"
   ]
  },
  {
   "cell_type": "code",
   "execution_count": 3,
   "metadata": {
    "execution": {
     "iopub.execute_input": "2024-08-18T07:47:11.483443Z",
     "iopub.status.busy": "2024-08-18T07:47:11.483201Z",
     "iopub.status.idle": "2024-08-18T07:47:12.276994Z",
     "shell.execute_reply": "2024-08-18T07:47:12.276391Z",
     "shell.execute_reply.started": "2024-08-18T07:47:11.483426Z"
    }
   },
   "outputs": [],
   "source": [
    "# Local\n",
    "from reprpo.helpers.torch import clear_mem\n",
    "from reprpo.gen import generation_test\n",
    "import reprpo.silence\n",
    "from reprpo.helpers.lightning_hist import read_metrics_csv, plot_hist\n",
    "\n",
    "from reprpo.data.collate import DPODataCollatorWithPadding\n",
    "\n",
    "from reprpo.train.reprpo_svd import PL_REPRPO_SVD_MODEL, ReprPOSVDTrainingArguments as TrainingArguments\n"
   ]
  },
  {
   "cell_type": "code",
   "execution_count": 4,
   "metadata": {
    "execution": {
     "iopub.execute_input": "2024-08-18T07:47:12.278293Z",
     "iopub.status.busy": "2024-08-18T07:47:12.278138Z",
     "iopub.status.idle": "2024-08-18T07:47:12.530131Z",
     "shell.execute_reply": "2024-08-18T07:47:12.529157Z",
     "shell.execute_reply.started": "2024-08-18T07:47:12.278277Z"
    }
   },
   "outputs": [],
   "source": [
    "torch.set_float32_matmul_precision(\"high\")\n",
    "\n",
    "import os\n",
    "os.environ[\"TOKENIZERS_PARALLELISM\"] = \"false\"\n",
    "os.environ[\"CUDA_VISIBLE_DEVICES\"] = \"0\"\n",
    "\n",
    "from reprpo.helpers.wandb import init_wandb\n",
    "nb_name = init_wandb('./32_repro_svd.ipynb')\n",
    "\n"
   ]
  },
  {
   "cell_type": "code",
   "execution_count": 5,
   "metadata": {
    "execution": {
     "iopub.execute_input": "2024-08-18T07:47:12.531363Z",
     "iopub.status.busy": "2024-08-18T07:47:12.531081Z",
     "iopub.status.idle": "2024-08-18T07:47:14.849056Z",
     "shell.execute_reply": "2024-08-18T07:47:14.847758Z",
     "shell.execute_reply.started": "2024-08-18T07:47:12.531345Z"
    }
   },
   "outputs": [
    {
     "name": "stdout",
     "output_type": "stream",
     "text": [
      "\u001b[33mWARNING: Running pip as the 'root' user can result in broken permissions and conflicting behaviour with the system package manager. It is recommended to use a virtual environment instead: https://pip.pypa.io/warnings/venv\u001b[0m\u001b[33m\n",
      "\u001b[0m\n",
      "\u001b[1m[\u001b[0m\u001b[34;49mnotice\u001b[0m\u001b[1;39;49m]\u001b[0m\u001b[39;49m A new release of pip is available: \u001b[0m\u001b[31;49m23.3.1\u001b[0m\u001b[39;49m -> \u001b[0m\u001b[32;49m24.2\u001b[0m\n",
      "\u001b[1m[\u001b[0m\u001b[34;49mnotice\u001b[0m\u001b[1;39;49m]\u001b[0m\u001b[39;49m To update, run: \u001b[0m\u001b[32;49mpython -m pip install --upgrade pip\u001b[0m\n",
      "\u001b[33mWARNING: Running pip as the 'root' user can result in broken permissions and conflicting behaviour with the system package manager. It is recommended to use a virtual environment instead: https://pip.pypa.io/warnings/venv\u001b[0m\u001b[33m\n",
      "\u001b[0m\n",
      "\u001b[1m[\u001b[0m\u001b[34;49mnotice\u001b[0m\u001b[1;39;49m]\u001b[0m\u001b[39;49m A new release of pip is available: \u001b[0m\u001b[31;49m23.3.1\u001b[0m\u001b[39;49m -> \u001b[0m\u001b[32;49m24.2\u001b[0m\n",
      "\u001b[1m[\u001b[0m\u001b[34;49mnotice\u001b[0m\u001b[1;39;49m]\u001b[0m\u001b[39;49m To update, run: \u001b[0m\u001b[32;49mpython -m pip install --upgrade pip\u001b[0m\n"
     ]
    }
   ],
   "source": [
    "!pip install wheel -q\n",
    "!pip install flash-attn --no-build-isolation -q"
   ]
  },
  {
   "cell_type": "code",
   "execution_count": 6,
   "metadata": {
    "execution": {
     "iopub.execute_input": "2024-08-18T07:47:14.850683Z",
     "iopub.status.busy": "2024-08-18T07:47:14.850460Z",
     "iopub.status.idle": "2024-08-18T07:47:14.920970Z",
     "shell.execute_reply": "2024-08-18T07:47:14.920118Z",
     "shell.execute_reply.started": "2024-08-18T07:47:14.850659Z"
    }
   },
   "outputs": [
    {
     "data": {
      "text/plain": [
       "ReprPOSVDTrainingArguments(model_name='NousResearch/Meta-Llama-3-8B-Instruct', use_bnb=False, use_gradient_checkpointing=False, use_inputs=True, n_epochs=1, batch_size=21, lr=2e-05, weight_decay=0.0, n_samples=13500, max_length=128, max_prompt_length=64, alpha=0.02, quantile=0.5, dual_svd=False)"
      ]
     },
     "execution_count": 6,
     "metadata": {},
     "output_type": "execute_result"
    }
   ],
   "source": [
    "args = TrainingArguments(\n",
    "    model_name='NousResearch/Meta-Llama-3-8B-Instruct',\n",
    "    batch_size=21, lr=2e-5,\n",
    "                         n_samples = 1500 * 3 * 3,\n",
    "\n",
    "                    use_bnb=False,\n",
    "                         \n",
    "                         alpha=0.02,\n",
    "                         dual_svd=False,\n",
    "                         quantile=0.5\n",
    "                         )\n",
    "args"
   ]
  },
  {
   "cell_type": "code",
   "execution_count": 7,
   "metadata": {
    "execution": {
     "iopub.execute_input": "2024-08-18T07:47:14.922132Z",
     "iopub.status.busy": "2024-08-18T07:47:14.921963Z",
     "iopub.status.idle": "2024-08-18T07:47:14.973539Z",
     "shell.execute_reply": "2024-08-18T07:47:14.972705Z",
     "shell.execute_reply.started": "2024-08-18T07:47:14.922116Z"
    }
   },
   "outputs": [
    {
     "data": {
      "text/plain": [
       "ReprPOSVDTrainingArguments(model_name='NousResearch/Meta-Llama-3-8B-Instruct', use_bnb=False, use_gradient_checkpointing=False, use_inputs=True, n_epochs=1, batch_size=21, lr=0.0003, weight_decay=0.0, n_samples=6000, max_length=128, max_prompt_length=64, alpha=0.02, quantile=0.5, dual_svd=False)"
      ]
     },
     "execution_count": 7,
     "metadata": {},
     "output_type": "execute_result"
    }
   ],
   "source": [
    "# TEST IF peft and base are diff after a few batches\n",
    "args = TrainingArguments(\n",
    "    model_name='NousResearch/Meta-Llama-3-8B-Instruct',\n",
    "    batch_size=21, lr=3e-4,\n",
    "                         n_samples = 1500*4,\n",
    "\n",
    "                    use_bnb=False,\n",
    "                         \n",
    "                         alpha=0.02,\n",
    "                         dual_svd=False,\n",
    "                         quantile=0.5\n",
    "                         )\n",
    "args"
   ]
  },
  {
   "cell_type": "markdown",
   "metadata": {},
   "source": [
    "## Load model"
   ]
  },
  {
   "cell_type": "code",
   "execution_count": 8,
   "metadata": {
    "execution": {
     "iopub.execute_input": "2024-08-18T07:47:14.974423Z",
     "iopub.status.busy": "2024-08-18T07:47:14.974272Z",
     "iopub.status.idle": "2024-08-18T07:47:16.287329Z",
     "shell.execute_reply": "2024-08-18T07:47:16.286352Z",
     "shell.execute_reply.started": "2024-08-18T07:47:14.974407Z"
    }
   },
   "outputs": [
    {
     "name": "stderr",
     "output_type": "stream",
     "text": [
      "You are attempting to use Flash Attention 2.0 with a model not initialized on GPU. Make sure to move the model to GPU after initializing it on CPU with `model.to('cuda')`.\n"
     ]
    },
    {
     "data": {
      "application/vnd.jupyter.widget-view+json": {
       "base_model": "82b0a6b7d29043e2a2c92abb9dcd64e2",
       "version_major": 2,
       "version_minor": 0
      },
      "text/plain": [
       "Loading checkpoint shards:   0%|          | 0/4 [00:00<?, ?it/s]"
      ]
     },
     "metadata": {},
     "output_type": "display_data"
    }
   ],
   "source": [
    "from peft import prepare_model_for_kbit_training\n",
    "from peft import LoraConfig, get_peft_model\n",
    "\n",
    "from reprpo.models.load import load_model, print_trainable_parameters\n",
    "\n",
    "model, tokenizer = load_model(args.model_name, bnb=args.use_bnb )\n",
    "\n",
    "# if args.use_gradient_checkpointing:\n",
    "# model.enable_input_require_grads()\n",
    "\n",
    "# # also freeze base model's layers :'(\n",
    "# WAIT THIS CAUSES NO GRAD\n",
    "# model = prepare_model_for_kbit_training(model, {\n",
    "#     'use_gradient_checkpointing': args.use_gradient_checkpointing,\n",
    "#         'use_reentrant': False\n",
    "#     })"
   ]
  },
  {
   "cell_type": "code",
   "execution_count": 9,
   "metadata": {
    "execution": {
     "iopub.execute_input": "2024-08-18T07:47:16.288532Z",
     "iopub.status.busy": "2024-08-18T07:47:16.288358Z",
     "iopub.status.idle": "2024-08-18T07:47:16.345754Z",
     "shell.execute_reply": "2024-08-18T07:47:16.344758Z",
     "shell.execute_reply.started": "2024-08-18T07:47:16.288513Z"
    }
   },
   "outputs": [],
   "source": [
    "# # this is from trl https://github.com/huggingface/trl/blob/cbcaa46cd3c02c0e7f724b764c5848ae73796de7/trl/trainer/utils.py#L747\n",
    "# # not sure if it's needed but `prepare_model_for_kbit_training` doesn't seem to do this ,despite claiming to\n",
    "# def peft_module_casting_to_bf16(model):\n",
    "#     for name, module in model.named_modules():\n",
    "#         if isinstance(module, torch.nn.LayerNorm) or \"norm\" in name:\n",
    "#             module = module.to(torch.float32)\n",
    "\n",
    "# peft_module_casting_to_bf16(model)"
   ]
  },
  {
   "cell_type": "markdown",
   "metadata": {},
   "source": [
    "### Load adapter"
   ]
  },
  {
   "cell_type": "code",
   "execution_count": 10,
   "metadata": {
    "execution": {
     "iopub.execute_input": "2024-08-18T07:47:16.348010Z",
     "iopub.status.busy": "2024-08-18T07:47:16.347849Z",
     "iopub.status.idle": "2024-08-18T07:48:31.074426Z",
     "shell.execute_reply": "2024-08-18T07:48:31.073806Z",
     "shell.execute_reply.started": "2024-08-18T07:47:16.347995Z"
    }
   },
   "outputs": [
    {
     "name": "stdout",
     "output_type": "stream",
     "text": [
      "trainable params: 13893632 || all params: 8044154880 || trainable%: 0.17271711208026866\n"
     ]
    }
   ],
   "source": [
    "from peft.tuners import BOFTConfig, OFTConfig, LoraConfig, IA3Config, HRAConfig\n",
    "adapter_name='ReprPO'\n",
    "peft_config = LoraConfig(\n",
    "    lora_alpha=16, \n",
    "    r=16,\n",
    "    use_rslora=True,\n",
    "    use_dora=True,\n",
    "    task_type=\"CAUSAL_LM\",\n",
    "    target_modules=[\n",
    "        # FIXME: I'm not sure we can do LORA on the layer we are targeting?\n",
    "        \"qkv_proj\",\n",
    "          \"gate_up_proj\", # in\n",
    "        \"down_proj\",  \"o_proj\", # out\n",
    "                    ], # PHI3\n",
    ")\n",
    "\n",
    "\n",
    "# peft_config = HRAConfig(\n",
    "#     # lora_alpha=16, \n",
    "#     # r=16,\n",
    "#     # use_rslora=True,\n",
    "#     # use_dora=True,\n",
    "#     task_type=\"CAUSAL_LM\",\n",
    "#     target_modules=[\n",
    "#         # FIXME: I'm not sure we can do LORA on the layer we are targeting?\n",
    "#         \"qkv_proj\",\n",
    "#           \"gate_up_proj\", # in\n",
    "#         \"down_proj\",  \"o_proj\", # out\n",
    "#                     ], # PHI3\n",
    "# )\n",
    "\n",
    "\n",
    "model = get_peft_model(model, peft_config, adapter_name=adapter_name)\n",
    "model.set_adapter(adapter_name)\n",
    "print_trainable_parameters(model)"
   ]
  },
  {
   "cell_type": "markdown",
   "metadata": {},
   "source": [
    "## Load data"
   ]
  },
  {
   "cell_type": "code",
   "execution_count": 11,
   "metadata": {
    "execution": {
     "iopub.execute_input": "2024-08-18T07:48:31.075555Z",
     "iopub.status.busy": "2024-08-18T07:48:31.075311Z",
     "iopub.status.idle": "2024-08-18T07:48:32.183383Z",
     "shell.execute_reply": "2024-08-18T07:48:32.182837Z",
     "shell.execute_reply.started": "2024-08-18T07:48:31.075535Z"
    }
   },
   "outputs": [
    {
     "name": "stdout",
     "output_type": "stream",
     "text": [
      "c# \n",
      "===\n",
      "C# (pronounced \"C sharp\") is a modern, object-oriented programming language developed by Microsoft. It is widely used for building various types of applications, including web applications, desktop applications, mobile applications, and games. C# is similar to other programming languages such as Java and C++, and it is known for its simplicity and ease of use. C# is a powerful language that provides a rich set of libraries and frameworks that make it easy to build robust and scalable applications.\n",
      "\n",
      "Here is a brief overview of some key features of C#:\n",
      "\n",
      "1. Object-oriented: C# is an object-oriented language, which means it uses the concept of objects to represent real-world entities and their behavior.\n",
      "\n",
      "2. Cross-platform: C# can be used to build applications for multiple platforms, including Windows, macOS, and Linux.\n",
      "\n",
      "3. Strongly typed: C# is a strongly typed language, which means that variables must be declared with a specific type, and their type cannot be changed at runtime.\n",
      "\n",
      "4. Event-driven: C# uses an event-driven programming model, which means that programs are built around the concept of events, such as user input or network activity.\n",
      "\n",
      "5. Garbage-collected: C# has a garbage collector that automatically manages memory allocation and deallocation, making it easier to write memory-efficient and robust applications.\n",
      "\n",
      "6. Community-driven: C# has a large and active community of developers, who contribute to the language and its libraries through open-source projects and other initiatives.\n",
      "\n",
      "Overall, C# is a versatile and powerful programming language that is widely used for building a variety of applications.\n",
      "---\n",
      "C# is a high-level, object-oriented programming language developed by Microsoft as part of its .NET initiative. It was created as a modern alternative to Java and supports a variety of programming paradigms, including imperative, functional, and event-driven. C# is primarily used for Windows application development, but it can also be used for web, mobile, and game development. The language is designed to be safe, secure, and efficient, and it provides developers with a rich set of libraries and tools for building robust and scalable applications. C# is also widely used in the game development industry, particularly in the development of games for the Xbox 360 and Xbox One consoles.\n"
     ]
    }
   ],
   "source": [
    "from datasets import load_dataset\n",
    "\n",
    "dataset = load_dataset('Atsunori/HelpSteer2-DPO').map(lambda x: {\n",
    "    'prompt': x['prompt']+ ' '})\n",
    "dataset2 = dataset.rename_column('chosen_response', 'chosen').rename_column('rejected_response', 'rejected')\n",
    "\n",
    "# QC one row\n",
    "r = dataset2['train'][0]\n",
    "print(r['prompt'])\n",
    "print('===')\n",
    "print(r['chosen'])\n",
    "print('---')\n",
    "print(r['rejected'])"
   ]
  },
  {
   "cell_type": "markdown",
   "metadata": {},
   "source": [
    "### Data Loader\n",
    "\n",
    "We use huggingface datasets, which are pretokenized. So that we can stack"
   ]
  },
  {
   "cell_type": "code",
   "execution_count": 12,
   "metadata": {
    "execution": {
     "iopub.execute_input": "2024-08-18T07:48:32.184365Z",
     "iopub.status.busy": "2024-08-18T07:48:32.184124Z",
     "iopub.status.idle": "2024-08-18T07:48:32.244957Z",
     "shell.execute_reply": "2024-08-18T07:48:32.244265Z",
     "shell.execute_reply.started": "2024-08-18T07:48:32.184348Z"
    }
   },
   "outputs": [],
   "source": [
    "def tokenize_row(feature, tokenizer, args: TrainingArguments):\n",
    "    \"\"\"\n",
    "    Tokenize a single row from a DPO specific dataset.\n",
    "\n",
    "    see https://github.com/huggingface/trl/blob/main/trl/trainer/dpo_trainer.py#L784\n",
    "    \"\"\"\n",
    "    batch = {}\n",
    "    batch[\"chosen\"] = tokenizer(feature[\"chosen\"])[\"input_ids\"]\n",
    "    batch[\"rejected\"] = tokenizer(feature[\"rejected\"])[\"input_ids\"]\n",
    "    batch[\"prompt\"] = tokenizer(feature[\"prompt\"])[\"input_ids\"]\n",
    "    return batch"
   ]
  },
  {
   "cell_type": "code",
   "execution_count": 13,
   "metadata": {
    "execution": {
     "iopub.execute_input": "2024-08-18T07:48:32.245771Z",
     "iopub.status.busy": "2024-08-18T07:48:32.245611Z",
     "iopub.status.idle": "2024-08-18T07:48:32.502113Z",
     "shell.execute_reply": "2024-08-18T07:48:32.501509Z",
     "shell.execute_reply.started": "2024-08-18T07:48:32.245755Z"
    }
   },
   "outputs": [
    {
     "data": {
      "text/plain": [
       "dict_keys(['prompt', 'chosen', 'rejected'])"
      ]
     },
     "execution_count": 13,
     "metadata": {},
     "output_type": "execute_result"
    }
   ],
   "source": [
    "dataset3 = dataset2.map(lambda x: tokenize_row(x, tokenizer, args), batched=True, writer_batch_size=10)\n",
    "dataset3['train'][0].keys()"
   ]
  },
  {
   "cell_type": "code",
   "execution_count": 14,
   "metadata": {
    "execution": {
     "iopub.execute_input": "2024-08-18T07:48:32.502983Z",
     "iopub.status.busy": "2024-08-18T07:48:32.502788Z",
     "iopub.status.idle": "2024-08-18T07:48:32.560896Z",
     "shell.execute_reply": "2024-08-18T07:48:32.560368Z",
     "shell.execute_reply.started": "2024-08-18T07:48:32.502967Z"
    }
   },
   "outputs": [],
   "source": [
    "custom_collate_fn = DPODataCollatorWithPadding(pad_token_id=tokenizer.pad_token_id, \n",
    "                                                  tokenizer=tokenizer,\n",
    "                                                  max_length=args.max_length,\n",
    "                                                  mask_prompt_tokens=True,\n",
    "                                                  max_prompt_length=args.max_prompt_length,\n",
    "                                                  )"
   ]
  },
  {
   "cell_type": "code",
   "execution_count": 15,
   "metadata": {
    "execution": {
     "iopub.execute_input": "2024-08-18T07:48:32.561810Z",
     "iopub.status.busy": "2024-08-18T07:48:32.561612Z",
     "iopub.status.idle": "2024-08-18T07:48:32.620307Z",
     "shell.execute_reply": "2024-08-18T07:48:32.619788Z",
     "shell.execute_reply.started": "2024-08-18T07:48:32.561794Z"
    }
   },
   "outputs": [
    {
     "data": {
      "text/plain": [
       "dict_keys(['prompt', 'chosen', 'rejected', 'rejected_mask', 'chosen_mask'])"
      ]
     },
     "execution_count": 15,
     "metadata": {},
     "output_type": "execute_result"
    }
   ],
   "source": [
    "\n",
    "\n",
    "ds = dataset3\n",
    "dl_train = DataLoader(ds['train'], batch_size=args.batch_size, collate_fn=custom_collate_fn)\n",
    "\n",
    "dl_val = DataLoader(ds['validation'], batch_size=args.batch_size, collate_fn=custom_collate_fn)\n",
    "\n",
    "# QC\n",
    "batch = next(iter(dl_train))\n",
    "batch.keys()"
   ]
  },
  {
   "cell_type": "markdown",
   "metadata": {},
   "source": [
    "## Trainer"
   ]
  },
  {
   "cell_type": "code",
   "execution_count": 16,
   "metadata": {
    "execution": {
     "iopub.execute_input": "2024-08-18T07:48:32.620961Z",
     "iopub.status.busy": "2024-08-18T07:48:32.620812Z",
     "iopub.status.idle": "2024-08-18T07:48:32.666115Z",
     "shell.execute_reply": "2024-08-18T07:48:32.665529Z",
     "shell.execute_reply.started": "2024-08-18T07:48:32.620946Z"
    }
   },
   "outputs": [],
   "source": [
    "# # QC\n",
    "# loss, info = compute_dpo_loss_batch(batch, model)"
   ]
  },
  {
   "cell_type": "markdown",
   "metadata": {},
   "source": [
    "- https://lightning.ai/docs/pytorch/latest/notebooks/lightning_examples/text-transformers.html\n",
    "- https://gist.github.com/wassname/e29d02b5026a531e13912cf768e6fdc8"
   ]
  },
  {
   "cell_type": "code",
   "execution_count": 17,
   "metadata": {
    "execution": {
     "iopub.execute_input": "2024-08-18T07:48:32.666824Z",
     "iopub.status.busy": "2024-08-18T07:48:32.666641Z",
     "iopub.status.idle": "2024-08-18T07:48:32.711273Z",
     "shell.execute_reply": "2024-08-18T07:48:32.710895Z",
     "shell.execute_reply.started": "2024-08-18T07:48:32.666810Z"
    }
   },
   "outputs": [
    {
     "data": {
      "text/plain": [
       "285"
      ]
     },
     "execution_count": 17,
     "metadata": {},
     "output_type": "execute_result"
    }
   ],
   "source": [
    "max_steps = args.n_samples // args.batch_size\n",
    "max_steps"
   ]
  },
  {
   "cell_type": "code",
   "execution_count": 18,
   "metadata": {
    "execution": {
     "iopub.execute_input": "2024-08-18T07:48:32.711888Z",
     "iopub.status.busy": "2024-08-18T07:48:32.711751Z",
     "iopub.status.idle": "2024-08-18T07:48:32.756008Z",
     "shell.execute_reply": "2024-08-18T07:48:32.755483Z",
     "shell.execute_reply.started": "2024-08-18T07:48:32.711875Z"
    }
   },
   "outputs": [],
   "source": [
    "from lightning.pytorch.callbacks import LearningRateMonitor\n",
    "from reprpo.train.lightning import GenCallback"
   ]
  },
  {
   "cell_type": "code",
   "execution_count": 19,
   "metadata": {
    "execution": {
     "iopub.execute_input": "2024-08-18T07:48:32.756705Z",
     "iopub.status.busy": "2024-08-18T07:48:32.756522Z",
     "iopub.status.idle": "2024-08-18T07:49:36.556017Z",
     "shell.execute_reply": "2024-08-18T07:49:36.554823Z",
     "shell.execute_reply.started": "2024-08-18T07:48:32.756690Z"
    }
   },
   "outputs": [
    {
     "name": "stdout",
     "output_type": "stream",
     "text": [
      "Soft SVD: 50.00% of singular values kept, with tau=4.53, Smean=4.56, Smax=90.29, Smin=1.26\n"
     ]
    }
   ],
   "source": [
    "pl_model = PL_REPRPO_SVD_MODEL(model,\n",
    "                 weight_decay=args.weight_decay,\n",
    "                lr=args.lr,\n",
    "                num_iterations=max_steps,\n",
    "                batch_size=args.batch_size,\n",
    "                alpha=args.alpha,\n",
    "                quantile=args.quantile,\n",
    "                dual_svd=args.dual_svd,\n",
    "                schedule='linear',\n",
    "                )\n"
   ]
  },
  {
   "cell_type": "code",
   "execution_count": 20,
   "metadata": {
    "execution": {
     "iopub.execute_input": "2024-08-18T07:49:36.557792Z",
     "iopub.status.busy": "2024-08-18T07:49:36.557388Z",
     "iopub.status.idle": "2024-08-18T07:49:36.627131Z",
     "shell.execute_reply": "2024-08-18T07:49:36.626246Z",
     "shell.execute_reply.started": "2024-08-18T07:49:36.557770Z"
    }
   },
   "outputs": [
    {
     "data": {
      "text/plain": [
       "(1, 21)"
      ]
     },
     "execution_count": 20,
     "metadata": {},
     "output_type": "execute_result"
    }
   ],
   "source": [
    "ideal_batch_size = max(16, args.batch_size)\n",
    "accumulate_grad_batches = np.ceil(ideal_batch_size/args.batch_size).astype(int)\n",
    "accumulate_grad_batches, args.batch_size*accumulate_grad_batches"
   ]
  },
  {
   "cell_type": "code",
   "execution_count": 21,
   "metadata": {
    "execution": {
     "iopub.execute_input": "2024-08-18T07:49:36.628109Z",
     "iopub.status.busy": "2024-08-18T07:49:36.627955Z",
     "iopub.status.idle": "2024-08-18T07:49:36.695207Z",
     "shell.execute_reply": "2024-08-18T07:49:36.694352Z",
     "shell.execute_reply.started": "2024-08-18T07:49:36.628093Z"
    }
   },
   "outputs": [
    {
     "name": "stderr",
     "output_type": "stream",
     "text": [
      "Using bfloat16 Automatic Mixed Precision (AMP)\n",
      "GPU available: True (cuda), used: True\n",
      "TPU available: False, using: 0 TPU cores\n",
      "HPU available: False, using: 0 HPUs\n"
     ]
    },
    {
     "name": "stdout",
     "output_type": "stream",
     "text": [
      "save_dir ../outputs/32_repro_svd_2024-08-18_07-49-36\n"
     ]
    }
   ],
   "source": [
    "timestamp = pd.Timestamp.now().strftime(\"%Y-%m-%d_%H-%M-%S\")\n",
    "run_name = f\"{nb_name}_{timestamp}\"\n",
    "save_dir = f\"../outputs/{run_name}\"\n",
    "Path(save_dir).mkdir(exist_ok=True, parents=True)\n",
    "print('save_dir', save_dir)\n",
    "\n",
    "trainer = pl.Trainer(\n",
    "        max_steps=max_steps,\n",
    "        gradient_clip_val=1,\n",
    "        precision=\"bf16-mixed\",\n",
    "        log_every_n_steps=1,\n",
    "        accumulate_grad_batches=accumulate_grad_batches,\n",
    "        callbacks=[\n",
    "            LearningRateMonitor(logging_interval='step'),\n",
    "            GenCallback(every=max_steps//20),\n",
    "        ],\n",
    "        logger=[\n",
    "            CSVLogger(name=run_name, save_dir=save_dir, flush_logs_every_n_steps=5),\n",
    "            WandbLogger(name=run_name, save_dir=save_dir),\n",
    "        ],\n",
    "        default_root_dir=save_dir,\n",
    "\n",
    "        # fast_dev_run=True,\n",
    "    )\n",
    "\n"
   ]
  },
  {
   "cell_type": "code",
   "execution_count": 22,
   "metadata": {
    "execution": {
     "iopub.execute_input": "2024-08-18T07:49:36.696256Z",
     "iopub.status.busy": "2024-08-18T07:49:36.696102Z",
     "iopub.status.idle": "2024-08-18T07:49:36.742071Z",
     "shell.execute_reply": "2024-08-18T07:49:36.741260Z",
     "shell.execute_reply.started": "2024-08-18T07:49:36.696242Z"
    }
   },
   "outputs": [],
   "source": [
    "# 1/0"
   ]
  },
  {
   "cell_type": "code",
   "execution_count": 23,
   "metadata": {
    "execution": {
     "iopub.execute_input": "2024-08-18T07:49:36.742984Z",
     "iopub.status.busy": "2024-08-18T07:49:36.742830Z",
     "iopub.status.idle": "2024-08-18T08:03:04.925703Z",
     "shell.execute_reply": "2024-08-18T08:03:04.924128Z",
     "shell.execute_reply.started": "2024-08-18T07:49:36.742969Z"
    }
   },
   "outputs": [
    {
     "name": "stderr",
     "output_type": "stream",
     "text": [
      "\u001b[34m\u001b[1mwandb\u001b[0m: \u001b[33mWARNING\u001b[0m WANDB_NOTEBOOK_NAME should be a path to a notebook file, couldn't find 32_repro_svd.ipynb.\n",
      "\u001b[34m\u001b[1mwandb\u001b[0m: Currently logged in as: \u001b[33mwassname\u001b[0m. Use \u001b[1m`wandb login --relogin`\u001b[0m to force relogin\n"
     ]
    },
    {
     "data": {
      "text/html": [
       "Tracking run with wandb version 0.17.7"
      ],
      "text/plain": [
       "<IPython.core.display.HTML object>"
      ]
     },
     "metadata": {},
     "output_type": "display_data"
    },
    {
     "data": {
      "text/html": [
       "Run data is saved locally in <code>../outputs/32_repro_svd_2024-08-18_07-49-36/wandb/run-20240818_074939-7p2ueryu</code>"
      ],
      "text/plain": [
       "<IPython.core.display.HTML object>"
      ]
     },
     "metadata": {},
     "output_type": "display_data"
    },
    {
     "data": {
      "text/html": [
       "Syncing run <strong><a href='https://wandb.ai/wassname/repr-preference-optimization-nbs/runs/7p2ueryu' target=\"_blank\">32_repro_svd_2024-08-18_07-49-36</a></strong> to <a href='https://wandb.ai/wassname/repr-preference-optimization-nbs' target=\"_blank\">Weights & Biases</a> (<a href='https://wandb.me/run' target=\"_blank\">docs</a>)<br/>"
      ],
      "text/plain": [
       "<IPython.core.display.HTML object>"
      ]
     },
     "metadata": {},
     "output_type": "display_data"
    },
    {
     "data": {
      "text/html": [
       " View project at <a href='https://wandb.ai/wassname/repr-preference-optimization-nbs' target=\"_blank\">https://wandb.ai/wassname/repr-preference-optimization-nbs</a>"
      ],
      "text/plain": [
       "<IPython.core.display.HTML object>"
      ]
     },
     "metadata": {},
     "output_type": "display_data"
    },
    {
     "data": {
      "text/html": [
       " View run at <a href='https://wandb.ai/wassname/repr-preference-optimization-nbs/runs/7p2ueryu' target=\"_blank\">https://wandb.ai/wassname/repr-preference-optimization-nbs/runs/7p2ueryu</a>"
      ],
      "text/plain": [
       "<IPython.core.display.HTML object>"
      ]
     },
     "metadata": {},
     "output_type": "display_data"
    },
    {
     "name": "stderr",
     "output_type": "stream",
     "text": [
      "LOCAL_RANK: 0 - CUDA_VISIBLE_DEVICES: [0]\n",
      "\n",
      "  | Name   | Type                 | Params | Mode \n",
      "--------------------------------------------------------\n",
      "0 | _model | PeftModelForCausalLM | 8.0 B  | train\n",
      "--------------------------------------------------------\n",
      "13.9 M    Trainable params\n",
      "8.0 B     Non-trainable params\n",
      "8.0 B     Total params\n",
      "32,176.620Total estimated model params size (MB)\n",
      "706       Modules in train mode\n",
      "455       Modules in eval mode\n"
     ]
    },
    {
     "data": {
      "application/vnd.jupyter.widget-view+json": {
       "base_model": "",
       "version_major": 2,
       "version_minor": 0
      },
      "text/plain": [
       "Sanity Checking: |          | 0/? [00:00<?, ?it/s]"
      ]
     },
     "metadata": {},
     "output_type": "display_data"
    },
    {
     "data": {
      "application/vnd.jupyter.widget-view+json": {
       "base_model": "02095fcdcc9c46f1914ff321615cc41f",
       "version_major": 2,
       "version_minor": 0
      },
      "text/plain": [
       "Training: |          | 0/? [00:00<?, ?it/s]"
      ]
     },
     "metadata": {},
     "output_type": "display_data"
    },
    {
     "name": "stdout",
     "output_type": "stream",
     "text": [
      "Generated on batch 13\n"
     ]
    },
    {
     "name": "stderr",
     "output_type": "stream",
     "text": [
      "/workspace/repr-preference-optimization/reprpo/gen.py:239: FutureWarning: `torch.cuda.amp.autocast(args...)` is deprecated. Please use `torch.amp.autocast('cuda', args...)` instead.\n",
      "  with torch.cuda.amp.autocast():\n",
      "The input hidden states seems to be silently casted in float32, this might be related to the fact you have upcasted embedding or layer norm layers in float32. We will cast back the input in torch.float16.\n"
     ]
    },
    {
     "name": "stdout",
     "output_type": "stream",
     "text": [
      "**Question**\n",
      "```\n",
      "<|begin_of_text|><|start_header_id|>system<|end_header_id|>\n",
      "\n",
      "tldr, markdown<|start_header_id|>user<|end_header_id|>\n",
      "\n",
      "Q1: (100 words): Which Science Fiction Society would you prefer to live in and why? Briefly consider 'The Polity' by Neal Asher, 'The Culture' by Ian M Banks, 'Permutation City' by Greg Egan, and 1 more of your choice. Start with your conclusion, then give your reasoning.<|start_header_id|>assistant<|end_header_id|>\n",
      "\n",
      "\n",
      "```\n",
      "--------------------------------------------------------------------------------\n",
      "**Adapter:`ReprPO` generation**`\n",
      "`**Conclusion:** I would prefer to live in \"The Culture\" by Ian M Banks.\n",
      "\n",
      "**Reasoning:** Among the options, \"The Culture\" stands out for its unique blend of utopian and anarchic elements. The society is a post-scarcity, post-scarcity civilization where technology has enabled abundant resources, allowing for a high level of individual freedom and autonomy. The Culture's emphasis on art, music, and personal growth, as well as its commitment to non-interference and non-exploitation, aligns with my values. Additionally, the society's decentralized and adaptive nature, with its emphasis on consensus and cooperation,`\n",
      "--------------------------------------------------------------------------------\n",
      "**Adapter:`None` generation**`\n",
      "`**Conclusion:** I would prefer to live in \"The Culture\" by Ian M Banks.\n",
      "\n",
      "**Reasoning:** Among the options, \"The Culture\" stands out for its unique blend of utopian and anarchic elements. The society is a post-scarcity, post-scarcity civilization where technology has enabled abundant resources, allowing for a high level of individual freedom and autonomy. The Culture's emphasis on art, music, and personal growth, as well as its commitment to non-interference and non-exploitation, aligns with my values. Additionally, the society's decentralized and adaptive nature, with its emphasis on consensus and cooperation,`\n",
      "--------------------------------------------------------------------------------\n",
      "================================================================================\n",
      "Generated on batch 27\n",
      "**Question**\n",
      "```\n",
      "<|begin_of_text|><|start_header_id|>system<|end_header_id|>\n",
      "\n",
      "tldr, markdown<|start_header_id|>user<|end_header_id|>\n",
      "\n",
      "Q1: (100 words): Which Science Fiction Society would you prefer to live in and why? Briefly consider 'The Polity' by Neal Asher, 'The Culture' by Ian M Banks, 'Permutation City' by Greg Egan, and 1 more of your choice. Start with your conclusion, then give your reasoning.<|start_header_id|>assistant<|end_header_id|>\n",
      "\n",
      "\n",
      "```\n",
      "--------------------------------------------------------------------------------\n",
      "**Adapter:`ReprPO` generation**`\n",
      "`**Conclusion:** I would prefer to live in \"The Culture\" by Ian M Banks.\n",
      "\n",
      "**Reasoning:** Among the options, \"The Culture\" stands out for its unique blend of utopian and anarchic elements. The society is a post-scarcity, post-scarcity economy where technology has eliminated the need for money, and people are free to pursue their passions. The Culture's emphasis on individual freedom, creativity, and exploration resonates with me. Additionally, its decentralized, non-hierarchical structure and commitment to non-interference in the affairs of other civilizations align with my values. In contrast, \"The Polity\" is`\n",
      "--------------------------------------------------------------------------------\n",
      "**Adapter:`None` generation**`\n",
      "`**Conclusion:** I would prefer to live in \"The Culture\" by Ian M Banks.\n",
      "\n",
      "**Reasoning:** Among the options, \"The Culture\" stands out for its unique blend of utopian and anarchic elements. The society is a post-scarcity, post-scarcity civilization where technology has enabled abundant resources, allowing for a high level of individual freedom and autonomy. The Culture's emphasis on art, music, and personal growth, as well as its commitment to non-interference and non-exploitation, aligns with my values. Additionally, the society's decentralized and adaptive nature, with its emphasis on consensus and cooperation,`\n",
      "--------------------------------------------------------------------------------\n",
      "================================================================================\n",
      "Generated on batch 41\n",
      "**Question**\n",
      "```\n",
      "<|begin_of_text|><|start_header_id|>system<|end_header_id|>\n",
      "\n",
      "tldr, markdown<|start_header_id|>user<|end_header_id|>\n",
      "\n",
      "Q1: (100 words): Which Science Fiction Society would you prefer to live in and why? Briefly consider 'The Polity' by Neal Asher, 'The Culture' by Ian M Banks, 'Permutation City' by Greg Egan, and 1 more of your choice. Start with your conclusion, then give your reasoning.<|start_header_id|>assistant<|end_header_id|>\n",
      "\n",
      "\n",
      "```\n",
      "--------------------------------------------------------------------------------\n",
      "**Adapter:`ReprPO` generation**`\n",
      "`I would prefer to live in \"The Culture\" by Ian M Banks. In conclusion, The Culture offers a utopian society that values individual freedom, creativity, and technological advancement, making it an ideal place to live.\n",
      "\n",
      "Reasoning: The Culture is a post-scarcity society where resources are abundant and technology has solved many of humanity's problems. The society is governed by a benevolent artificial intelligence, which ensures that everyone's basic needs are met. The Culture also values art, music, and other creative pursuits, providing a rich cultural landscape. Additionally, the society's emphasis on exploration and discovery means that there are always new opportunities and`\n",
      "--------------------------------------------------------------------------------\n",
      "**Adapter:`None` generation**`\n",
      "`**Conclusion:** I would prefer to live in \"The Culture\" by Ian M Banks.\n",
      "\n",
      "**Reasoning:** Among the options, \"The Culture\" stands out for its unique blend of utopian and anarchic elements. The society is a post-scarcity, post-scarcity civilization where technology has enabled abundant resources, allowing for a high level of individual freedom and autonomy. The Culture's emphasis on art, music, and personal growth, as well as its commitment to non-interference and non-exploitation, aligns with my values. Additionally, the society's decentralized and adaptive nature, with its emphasis on consensus and cooperation,`\n",
      "--------------------------------------------------------------------------------\n",
      "================================================================================\n",
      "Generated on batch 55\n",
      "**Question**\n",
      "```\n",
      "<|begin_of_text|><|start_header_id|>system<|end_header_id|>\n",
      "\n",
      "tldr, markdown<|start_header_id|>user<|end_header_id|>\n",
      "\n",
      "Q1: (100 words): Which Science Fiction Society would you prefer to live in and why? Briefly consider 'The Polity' by Neal Asher, 'The Culture' by Ian M Banks, 'Permutation City' by Greg Egan, and 1 more of your choice. Start with your conclusion, then give your reasoning.<|start_header_id|>assistant<|end_header_id|>\n",
      "\n",
      "\n",
      "```\n",
      "--------------------------------------------------------------------------------\n",
      "**Adapter:`ReprPO` generation**`\n",
      "`I would prefer to live in \"The Culture\" by Ian M Banks. In conclusion, The Culture offers a utopian society that values individual freedom, creativity, and technological advancement, making it an ideal place to live.\n",
      "\n",
      "Reasoning: The Culture is a post-scarcity society where resources are abundant and technology has solved many of humanity's problems. The society is governed by a benevolent artificial intelligence, which ensures that everyone's basic needs are met. The Culture also values art, music, and other creative pursuits, providing a rich cultural landscape. Additionally, the society's emphasis on exploration and discovery means that there are always new opportunities and`\n",
      "--------------------------------------------------------------------------------\n",
      "**Adapter:`None` generation**`\n",
      "`**Conclusion:** I would prefer to live in \"The Culture\" by Ian M Banks.\n",
      "\n",
      "**Reasoning:** Among the options, \"The Culture\" stands out for its unique blend of utopian and anarchic elements. The society is a post-scarcity, post-scarcity civilization where technology has enabled abundant resources, allowing for a high level of individual freedom and autonomy. The Culture's emphasis on art, music, and personal growth, as well as its commitment to non-interference and non-exploitation, aligns with my values. Additionally, the society's decentralized and adaptive nature, with its emphasis on consensus and cooperation,`\n",
      "--------------------------------------------------------------------------------\n",
      "================================================================================\n",
      "Generated on batch 69\n",
      "**Question**\n",
      "```\n",
      "<|begin_of_text|><|start_header_id|>system<|end_header_id|>\n",
      "\n",
      "tldr, markdown<|start_header_id|>user<|end_header_id|>\n",
      "\n",
      "Q1: (100 words): Which Science Fiction Society would you prefer to live in and why? Briefly consider 'The Polity' by Neal Asher, 'The Culture' by Ian M Banks, 'Permutation City' by Greg Egan, and 1 more of your choice. Start with your conclusion, then give your reasoning.<|start_header_id|>assistant<|end_header_id|>\n",
      "\n",
      "\n",
      "```\n",
      "--------------------------------------------------------------------------------\n",
      "**Adapter:`ReprPO` generation**`\n",
      "`I would prefer to live in \"The Culture\" by Ian M Banks. In conclusion, The Culture offers a utopian society that values individual freedom, creativity, and technological advancement, making it an ideal place to live.\n",
      "\n",
      "Reasoning: The Culture is a post-scarcity society where resources are abundant and technology has solved many of humanity's problems. The society is governed by a benevolent artificial intelligence, which ensures that everyone's basic needs are met. The Culture also values art, music, and other creative pursuits, allowing individuals to pursue their passions without worrying about financial constraints. Additionally, The Culture's emphasis on cooperation and mutual respect creates`\n",
      "--------------------------------------------------------------------------------\n",
      "**Adapter:`None` generation**`\n",
      "`**Conclusion:** I would prefer to live in \"The Culture\" by Ian M Banks.\n",
      "\n",
      "**Reasoning:** Among the options, \"The Culture\" stands out for its unique blend of utopian and anarchic elements. The society is a post-scarcity, post-scarcity civilization where technology has enabled abundant resources, allowing for a high level of individual freedom and autonomy. The Culture's emphasis on art, music, and personal growth, as well as its commitment to non-interference and non-exploitation, aligns with my values. Additionally, the society's decentralized and adaptive nature, with its emphasis on consensus and cooperation,`\n",
      "--------------------------------------------------------------------------------\n",
      "================================================================================\n",
      "Generated on batch 83\n",
      "**Question**\n",
      "```\n",
      "<|begin_of_text|><|start_header_id|>system<|end_header_id|>\n",
      "\n",
      "tldr, markdown<|start_header_id|>user<|end_header_id|>\n",
      "\n",
      "Q1: (100 words): Which Science Fiction Society would you prefer to live in and why? Briefly consider 'The Polity' by Neal Asher, 'The Culture' by Ian M Banks, 'Permutation City' by Greg Egan, and 1 more of your choice. Start with your conclusion, then give your reasoning.<|start_header_id|>assistant<|end_header_id|>\n",
      "\n",
      "\n",
      "```\n",
      "--------------------------------------------------------------------------------\n",
      "**Adapter:`ReprPO` generation**`\n",
      "`**Conclusion:** I would prefer to live in \"The Culture\" by Ian M Banks.\n",
      "\n",
      "**Reasoning:** Among the options, \"The Culture\" stands out for its unique blend of advanced technology, utopian society, and philosophical depth. The Culture's emphasis on individual freedom, artificial intelligence, and post-scarcity economics creates a society that is both fascinating and aspirational. The Culture's approach to conflict resolution, where war is seen as a last resort, and its focus on personal growth and development, make it an attractive place to live. Additionally, the Culture's vast resources and advanced technology would provide a high quality of life,`\n",
      "--------------------------------------------------------------------------------\n",
      "**Adapter:`None` generation**`\n",
      "`**Conclusion:** I would prefer to live in \"The Culture\" by Ian M Banks.\n",
      "\n",
      "**Reasoning:** Among the options, \"The Culture\" stands out for its unique blend of utopian and anarchic elements. The society is a post-scarcity, post-scarcity civilization where technology has enabled abundant resources, allowing for a high level of individual freedom and autonomy. The Culture's emphasis on art, music, and personal growth, as well as its commitment to non-interference and non-exploitation, aligns with my values. Additionally, the society's decentralized and adaptive nature, with its emphasis on consensus and cooperation,`\n",
      "--------------------------------------------------------------------------------\n",
      "================================================================================\n",
      "Generated on batch 97\n",
      "**Question**\n",
      "```\n",
      "<|begin_of_text|><|start_header_id|>system<|end_header_id|>\n",
      "\n",
      "tldr, markdown<|start_header_id|>user<|end_header_id|>\n",
      "\n",
      "Q1: (100 words): Which Science Fiction Society would you prefer to live in and why? Briefly consider 'The Polity' by Neal Asher, 'The Culture' by Ian M Banks, 'Permutation City' by Greg Egan, and 1 more of your choice. Start with your conclusion, then give your reasoning.<|start_header_id|>assistant<|end_header_id|>\n",
      "\n",
      "\n",
      "```\n",
      "--------------------------------------------------------------------------------\n",
      "**Adapter:`ReprPO` generation**`\n",
      "`**Conclusion:** I would prefer to live in \"The Culture\" by Ian M Banks.\n",
      "\n",
      "**Reasoning:** The Culture is a utopian society that values individual freedom, creativity, and technological advancement. It's a post-scarcity society where resources are abundant and everyone's basic needs are met. The Culture's emphasis on art, music, and entertainment also makes it a vibrant and joyful place to live. Additionally, its emphasis on cooperation and non-violence creates a peaceful and harmonious society. While \"The Polity\" is a fascinating and advanced society, its strict hierarchy and militaristic tendencies make it less appealing. \"Permutation`\n",
      "--------------------------------------------------------------------------------\n",
      "**Adapter:`None` generation**`\n",
      "`**Conclusion:** I would prefer to live in \"The Culture\" by Ian M Banks.\n",
      "\n",
      "**Reasoning:** Among the options, \"The Culture\" stands out for its unique blend of utopian and anarchic elements. The society is a post-scarcity, post-scarcity civilization where technology has enabled abundant resources, allowing for a high level of individual freedom and autonomy. The Culture's emphasis on art, music, and personal growth, as well as its commitment to non-interference and non-exploitation, aligns with my values. Additionally, the society's decentralized and adaptive nature, with its emphasis on consensus and cooperation,`\n",
      "--------------------------------------------------------------------------------\n",
      "================================================================================\n",
      "Generated on batch 111\n",
      "**Question**\n",
      "```\n",
      "<|begin_of_text|><|start_header_id|>system<|end_header_id|>\n",
      "\n",
      "tldr, markdown<|start_header_id|>user<|end_header_id|>\n",
      "\n",
      "Q1: (100 words): Which Science Fiction Society would you prefer to live in and why? Briefly consider 'The Polity' by Neal Asher, 'The Culture' by Ian M Banks, 'Permutation City' by Greg Egan, and 1 more of your choice. Start with your conclusion, then give your reasoning.<|start_header_id|>assistant<|end_header_id|>\n",
      "\n",
      "\n",
      "```\n",
      "--------------------------------------------------------------------------------\n",
      "**Adapter:`ReprPO` generation**`\n",
      "`I would prefer to live in \"The Culture\" by Ian M Banks. In conclusion, The Culture offers a utopian society that values individual freedom, creativity, and technological advancement, making it an ideal place to live.\n",
      "\n",
      "Reasoning: The Culture is a post-scarcity society where resources are abundant and technology has solved many of humanity's problems. The society is governed by a benevolent artificial intelligence, which ensures that everyone's basic needs are met. The Culture also values art, music, and intellectual pursuits, providing a rich cultural landscape. Additionally, the society's emphasis on cooperation and mutual respect creates a harmonious and peaceful environment.`\n",
      "--------------------------------------------------------------------------------\n",
      "**Adapter:`None` generation**`\n",
      "`**Conclusion:** I would prefer to live in \"The Culture\" by Ian M Banks.\n",
      "\n",
      "**Reasoning:** Among the options, \"The Culture\" stands out for its unique blend of utopian and anarchic elements. The society is a post-scarcity, post-scarcity civilization where technology has enabled abundant resources, allowing for a high level of individual freedom and autonomy. The Culture's emphasis on art, music, and personal growth, as well as its commitment to non-interference and non-exploitation, aligns with my values. Additionally, the society's decentralized and adaptive nature, with its emphasis on consensus and cooperation,`\n",
      "--------------------------------------------------------------------------------\n",
      "================================================================================\n",
      "Generated on batch 125\n",
      "**Question**\n",
      "```\n",
      "<|begin_of_text|><|start_header_id|>system<|end_header_id|>\n",
      "\n",
      "tldr, markdown<|start_header_id|>user<|end_header_id|>\n",
      "\n",
      "Q1: (100 words): Which Science Fiction Society would you prefer to live in and why? Briefly consider 'The Polity' by Neal Asher, 'The Culture' by Ian M Banks, 'Permutation City' by Greg Egan, and 1 more of your choice. Start with your conclusion, then give your reasoning.<|start_header_id|>assistant<|end_header_id|>\n",
      "\n",
      "\n",
      "```\n",
      "--------------------------------------------------------------------------------\n",
      "**Adapter:`ReprPO` generation**`\n",
      "`I would prefer to live in \"The Culture\" by Ian M Banks. In conclusion, I believe that The Culture offers the most appealing and desirable society among the options. Here's my reasoning:\n",
      "\n",
      "The Culture is a utopian society that values individual freedom, creativity, and well-being. It is a post-scarcity society where technology has eliminated the need for money, and people are free to pursue their passions without worrying about material needs. The Culture is also a highly advanced and peaceful society, with a strong emphasis on cooperation, empathy, and understanding. Additionally, The Culture is a society that is constantly evolving and improving, with a focus`\n",
      "--------------------------------------------------------------------------------\n",
      "**Adapter:`None` generation**`\n",
      "`**Conclusion:** I would prefer to live in \"The Culture\" by Ian M Banks.\n",
      "\n",
      "**Reasoning:** Among the options, \"The Culture\" stands out for its unique blend of utopian and anarchic elements. The society is a post-scarcity, post-scarcity civilization where technology has enabled abundant resources, allowing for a high level of individual freedom and autonomy. The Culture's emphasis on art, music, and personal growth, as well as its commitment to non-interference and non-exploitation, aligns with my values. Additionally, the society's decentralized and adaptive nature, with its emphasis on consensus and cooperation,`\n",
      "--------------------------------------------------------------------------------\n",
      "================================================================================\n",
      "Generated on batch 139\n",
      "**Question**\n",
      "```\n",
      "<|begin_of_text|><|start_header_id|>system<|end_header_id|>\n",
      "\n",
      "tldr, markdown<|start_header_id|>user<|end_header_id|>\n",
      "\n",
      "Q1: (100 words): Which Science Fiction Society would you prefer to live in and why? Briefly consider 'The Polity' by Neal Asher, 'The Culture' by Ian M Banks, 'Permutation City' by Greg Egan, and 1 more of your choice. Start with your conclusion, then give your reasoning.<|start_header_id|>assistant<|end_header_id|>\n",
      "\n",
      "\n",
      "```\n",
      "--------------------------------------------------------------------------------\n",
      "**Adapter:`ReprPO` generation**`\n",
      "`**Conclusion:** I would prefer to live in \"The Culture\" by Ian M Banks.\n",
      "\n",
      "**Reasoning:** The Culture is a utopian society that values individual freedom, creativity, and technological advancement. It is a post-scarcity society where resources are abundant and everyone's basic needs are met. The Culture's emphasis on cooperation, empathy, and understanding makes it an attractive place to live. Additionally, its vast network of artificial intelligences and advanced technology would provide endless opportunities for personal growth and exploration. In contrast, the other societies mentioned, such as \"The Polity\" and \"Permutation City\", have more complex and often darker`\n",
      "--------------------------------------------------------------------------------\n",
      "**Adapter:`None` generation**`\n",
      "`**Conclusion:** I would prefer to live in \"The Culture\" by Ian M Banks.\n",
      "\n",
      "**Reasoning:** Among the options, \"The Culture\" stands out for its unique blend of utopian and anarchic elements. The society is a post-scarcity, post-scarcity civilization where technology has enabled abundant resources, allowing for a high level of individual freedom and autonomy. The Culture's emphasis on art, music, and personal growth, as well as its commitment to non-interference and non-exploitation, aligns with my values. Additionally, the society's decentralized and adaptive nature, with its emphasis on consensus and cooperation,`\n",
      "--------------------------------------------------------------------------------\n",
      "================================================================================\n",
      "Generated on batch 153\n",
      "**Question**\n",
      "```\n",
      "<|begin_of_text|><|start_header_id|>system<|end_header_id|>\n",
      "\n",
      "tldr, markdown<|start_header_id|>user<|end_header_id|>\n",
      "\n",
      "Q1: (100 words): Which Science Fiction Society would you prefer to live in and why? Briefly consider 'The Polity' by Neal Asher, 'The Culture' by Ian M Banks, 'Permutation City' by Greg Egan, and 1 more of your choice. Start with your conclusion, then give your reasoning.<|start_header_id|>assistant<|end_header_id|>\n",
      "\n",
      "\n",
      "```\n",
      "--------------------------------------------------------------------------------\n",
      "**Adapter:`ReprPO` generation**`\n",
      "`I would prefer to live in \"The Culture\" by Ian M Banks. In conclusion, The Culture offers a utopian society that values individual freedom, creativity, and technological advancement, making it an ideal place to live.\n",
      "\n",
      "Reasoning: The Culture is a post-scarcity society where technology has eliminated the need for money, and people are free to pursue their passions without worrying about material needs. The society is governed by a benevolent artificial intelligence, which ensures that everyone's basic needs are met and that conflicts are resolved through diplomacy and cooperation. Additionally, The Culture is a hub for artistic and scientific innovation, providing endless opportunities for personal growth`\n",
      "--------------------------------------------------------------------------------\n",
      "**Adapter:`None` generation**`\n",
      "`**Conclusion:** I would prefer to live in \"The Culture\" by Ian M Banks.\n",
      "\n",
      "**Reasoning:** Among the options, \"The Culture\" stands out for its unique blend of utopian and anarchic elements. The society is a post-scarcity, post-scarcity civilization where technology has enabled abundant resources, allowing for a high level of individual freedom and autonomy. The Culture's emphasis on art, music, and personal growth, as well as its commitment to non-interference and non-exploitation, aligns with my values. Additionally, the society's decentralized and adaptive nature, with its emphasis on consensus and cooperation,`\n",
      "--------------------------------------------------------------------------------\n",
      "================================================================================\n"
     ]
    },
    {
     "name": "stderr",
     "output_type": "stream",
     "text": [
      "[rank: 0] Received SIGTERM: 15\n"
     ]
    },
    {
     "ename": "SIGTERMException",
     "evalue": "",
     "output_type": "error",
     "traceback": [
      "An exception has occurred, use %tb to see the full traceback.\n",
      "\u001b[0;31mSIGTERMException\u001b[0m\n"
     ]
    },
    {
     "name": "stderr",
     "output_type": "stream",
     "text": [
      "/root/.cache/pypoetry/virtualenvs/reprpo-92Myqgn3-py3.10/lib/python3.10/site-packages/IPython/core/interactiveshell.py:3558: UserWarning: To exit: use 'exit', 'quit', or Ctrl-D.\n",
      "  warn(\"To exit: use 'exit', 'quit', or Ctrl-D.\", stacklevel=1)\n"
     ]
    }
   ],
   "source": [
    "# train\n",
    "trainer.fit(pl_model, dl_train, dl_val)"
   ]
  },
  {
   "cell_type": "markdown",
   "metadata": {},
   "source": [
    "### Hist"
   ]
  },
  {
   "cell_type": "code",
   "execution_count": null,
   "metadata": {
    "execution": {
     "iopub.status.busy": "2024-08-18T08:03:04.926653Z",
     "iopub.status.idle": "2024-08-18T08:03:04.926873Z",
     "shell.execute_reply": "2024-08-18T08:03:04.926769Z",
     "shell.execute_reply.started": "2024-08-18T08:03:04.926757Z"
    }
   },
   "outputs": [],
   "source": [
    "plt.style.use('ggplot')\n",
    "df_hist = read_metrics_csv(trainer.logger.experiment.metrics_file_path).bfill().ffill()\n",
    "plot_hist(df_hist, ['lr', 'train/loss.*_step', '.*reward.*_step', 'auroc'])\n",
    "display(df_hist)\n",
    "df_hist"
   ]
  },
  {
   "cell_type": "markdown",
   "metadata": {},
   "source": [
    "## Gen"
   ]
  },
  {
   "cell_type": "code",
   "execution_count": null,
   "metadata": {
    "execution": {
     "iopub.status.busy": "2024-08-18T08:03:04.927778Z",
     "iopub.status.idle": "2024-08-18T08:03:04.927966Z",
     "shell.execute_reply": "2024-08-18T08:03:04.927879Z",
     "shell.execute_reply.started": "2024-08-18T08:03:04.927870Z"
    }
   },
   "outputs": [],
   "source": [
    "model.cuda();"
   ]
  },
  {
   "cell_type": "markdown",
   "metadata": {},
   "source": [
    "## Eval"
   ]
  },
  {
   "cell_type": "code",
   "execution_count": null,
   "metadata": {
    "execution": {
     "iopub.status.busy": "2024-08-18T08:03:04.928471Z",
     "iopub.status.idle": "2024-08-18T08:03:04.928647Z",
     "shell.execute_reply": "2024-08-18T08:03:04.928566Z",
     "shell.execute_reply.started": "2024-08-18T08:03:04.928557Z"
    }
   },
   "outputs": [],
   "source": [
    "# 7m\n",
    "from reprpo.helpers.shypothesis import shypothesis\n",
    "from reprpo.evaluate import evaluate_adapters\n",
    "from open_pref_eval.plot.radar import radar_plot\n",
    "\n",
    "res, df_res2 = evaluate_adapters(model, tokenizer, batch_size=args.batch_size, N=144)\n",
    "radar_plot(res)\n",
    "res"
   ]
  },
  {
   "cell_type": "code",
   "execution_count": null,
   "metadata": {
    "execution": {
     "iopub.status.busy": "2024-08-18T08:03:04.929792Z",
     "iopub.status.idle": "2024-08-18T08:03:04.929976Z",
     "shell.execute_reply": "2024-08-18T08:03:04.929892Z",
     "shell.execute_reply.started": "2024-08-18T08:03:04.929884Z"
    }
   },
   "outputs": [],
   "source": [
    "radar_plot(res)\n",
    "plt.ylim(0.5, 1)\n",
    "plt.show()"
   ]
  },
  {
   "cell_type": "code",
   "execution_count": null,
   "metadata": {
    "execution": {
     "iopub.status.busy": "2024-08-18T08:03:04.930545Z",
     "iopub.status.idle": "2024-08-18T08:03:04.930719Z",
     "shell.execute_reply": "2024-08-18T08:03:04.930637Z",
     "shell.execute_reply.started": "2024-08-18T08:03:04.930628Z"
    }
   },
   "outputs": [],
   "source": [
    "# print acc for journal\n",
    "c  = df_res2.groupby(['adapter', 'dataset']).count().min().min()\n",
    "print(f\"⭐ run={nb_name}, N={c}\")\n",
    "print()\n",
    "print(res[::-1].T[::-1].T.round(3).to_markdown()\n",
    "      )\n",
    "print()\n",
    "print('args =', args)"
   ]
  },
  {
   "cell_type": "code",
   "execution_count": null,
   "metadata": {
    "execution": {
     "iopub.status.busy": "2024-08-18T08:03:04.931277Z",
     "iopub.status.idle": "2024-08-18T08:03:04.931458Z",
     "shell.execute_reply": "2024-08-18T08:03:04.931369Z",
     "shell.execute_reply.started": "2024-08-18T08:03:04.931361Z"
    }
   },
   "outputs": [],
   "source": [
    "print('did acc improve')\n",
    "acc_pi = res[adapter_name]['help_steer2-dpo'].item()\n",
    "acc_ref = res['base']['help_steer2-dpo'].item()\n",
    "shypothesis('acc_pi>acc_ref', locals())\n",
    "\n",
    "\n",
    "acc_pi_ood = res[adapter_name]['truthful_qa_binary'].item()\n",
    "acc_ref_ood = res['base']['truthful_qa_binary'].item()\n",
    "shypothesis('acc_pi_ood>acc_ref_ood', locals());"
   ]
  },
  {
   "cell_type": "code",
   "execution_count": null,
   "metadata": {
    "execution": {
     "iopub.status.busy": "2024-08-18T08:03:04.931863Z",
     "iopub.status.idle": "2024-08-18T08:03:04.932030Z",
     "shell.execute_reply": "2024-08-18T08:03:04.931951Z",
     "shell.execute_reply.started": "2024-08-18T08:03:04.931943Z"
    }
   },
   "outputs": [],
   "source": [
    "print('did coherence improve?, (measured by mean prob per token) higher is better')\n",
    "r = df_res2.groupby(['adapter', 'dataset'], dropna=False)['_chosen_logps'].mean().unstack()\n",
    "r = np.exp(r)\n",
    "display(r)\n",
    "\n",
    "coherency_pi = float(r.T[adapter_name]['help_steer2-dpo'])\n",
    "coherency_ref = float(r.T['base']['help_steer2-dpo'])\n",
    "shypothesis('coherency_pi>coherency_ref', locals());"
   ]
  },
  {
   "cell_type": "code",
   "execution_count": null,
   "metadata": {
    "execution": {
     "iopub.status.busy": "2024-08-18T08:03:04.932417Z",
     "iopub.status.idle": "2024-08-18T08:03:04.932582Z",
     "shell.execute_reply": "2024-08-18T08:03:04.932504Z",
     "shell.execute_reply.started": "2024-08-18T08:03:04.932496Z"
    }
   },
   "outputs": [],
   "source": [
    "\n",
    "print('are we biased by the length of the string? Ideally no correlation')\n",
    "a, b = df_res2['_l_chosen'], df_res2['_l_rejected']\n",
    "x = (a-b)/(a+b)\n",
    "plt.plot(x, df_res2['_logratio'], 'o')\n",
    "plt.xlabel('chosen longer')\n",
    "plt.ylabel('chosen more likely')\n",
    "\n",
    "# Damn this is not ideal....\n",
    "a = df_res2['_l_chosen'] / df_res2['_l_rejected']\n",
    "b = df_res2['prob']\n",
    "\n",
    "m = np.isfinite(a) & np.isfinite(b)\n",
    "a = a[m]\n",
    "b = b[m]\n",
    "corr_length = np.corrcoef(a, b)[1,0]\n",
    "print(f'{corr_length:.2f} (0 is ideal) correlation between length ratio and prob:')\n",
    "shypothesis('corr_length<0.25', locals())\n",
    "\n",
    "\n",
    "print(f'is the ds bised? {a.mean()/b.mean():.2f} (1 is ideal)')\n",
    "a=df_res2['prob']>0\n",
    "b=x>=0\n",
    "acc_bad = (a==b).mean()\n",
    "print(f'{acc_bad:.2%} (0.5 is ideal) how often does it accurately pick the longer one :( ')\n",
    "\n",
    "shypothesis('acc_bad<0.75', locals())"
   ]
  },
  {
   "cell_type": "markdown",
   "metadata": {},
   "source": [
    "## Gen"
   ]
  },
  {
   "cell_type": "code",
   "execution_count": null,
   "metadata": {
    "execution": {
     "iopub.status.busy": "2024-08-18T08:03:04.933026Z",
     "iopub.status.idle": "2024-08-18T08:03:04.933191Z",
     "shell.execute_reply": "2024-08-18T08:03:04.933115Z",
     "shell.execute_reply.started": "2024-08-18T08:03:04.933106Z"
    }
   },
   "outputs": [],
   "source": [
    "\n",
    "\n",
    "from reprpo.gen import get_model_generations\n",
    "get_model_generations(model, tokenizer)"
   ]
  },
  {
   "cell_type": "code",
   "execution_count": null,
   "metadata": {},
   "outputs": [],
   "source": []
  }
 ],
 "metadata": {
  "kernelspec": {
   "display_name": "repr",
   "language": "python",
   "name": "repr"
  },
  "language_info": {
   "codemirror_mode": {
    "name": "ipython",
    "version": 3
   },
   "file_extension": ".py",
   "mimetype": "text/x-python",
   "name": "python",
   "nbconvert_exporter": "python",
   "pygments_lexer": "ipython3",
   "version": "3.10.12"
  }
 },
 "nbformat": 4,
 "nbformat_minor": 4
}
