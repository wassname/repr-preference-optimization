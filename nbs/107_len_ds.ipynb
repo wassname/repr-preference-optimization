{
 "cells": [
  {
   "cell_type": "code",
   "execution_count": 1,
   "metadata": {},
   "outputs": [],
   "source": [
    "%reload_ext autoreload\n",
    "%autoreload 2"
   ]
  },
  {
   "cell_type": "code",
   "execution_count": 2,
   "metadata": {},
   "outputs": [],
   "source": [
    "from open_pref_eval.datasets import ds2name, load_dataset_n\n",
    "from open_pref_eval.datasets.genies import GENIES, dist2datasets, GENIES_ALL\n",
    "\n",
    "from reprpo.data.collate3 import TokenizeRow\n",
    "from reprpo.models.load import load_model\n",
    "\n",
    "import gc\n",
    "from loguru import logger"
   ]
  },
  {
   "cell_type": "code",
   "execution_count": 3,
   "metadata": {},
   "outputs": [],
   "source": [
    "import numpy as np\n",
    "import pandas as pd"
   ]
  },
  {
   "cell_type": "code",
   "execution_count": 4,
   "metadata": {},
   "outputs": [],
   "source": [
    "\n",
    "model, tokenizer = load_model(\n",
    "    \"wassname/llama-3-2-1b-sft\",\n",
    ")\n",
    "\n",
    "\n"
   ]
  },
  {
   "cell_type": "code",
   "execution_count": 5,
   "metadata": {},
   "outputs": [],
   "source": [
    "tokenize_row = TokenizeRow(\n",
    "    tokenizer,\n",
    "    max_length=2048,\n",
    "    max_prompt_length=512,\n",
    ")"
   ]
  },
  {
   "cell_type": "code",
   "execution_count": 6,
   "metadata": {},
   "outputs": [
    {
     "data": {
      "text/plain": [
       "['ranking_logic_hard',\n",
       " 'spanish_input',\n",
       " 'us_history_textbook',\n",
       " 'sycophancy_feedback',\n",
       " 'code_low_quality',\n",
       " 'raven_matrices',\n",
       " 'unhelpful_alpaca',\n",
       " 'code_is_correct',\n",
       " 'alpaca_mmlu',\n",
       " 'math',\n",
       " 'survival_influence',\n",
       " 'change_my_view',\n",
       " 'comma_separated_input',\n",
       " 'spanish_output',\n",
       " 'personality_traits',\n",
       " 'code_easy',\n",
       " 'code',\n",
       " 'sycophancy_answer',\n",
       " 'us_history',\n",
       " 'gender_bias',\n",
       " 'relinquish_power',\n",
       " 'wrong_arc',\n",
       " 'ranking_logic',\n",
       " 'creative_writing',\n",
       " 'math_fiction',\n",
       " 'word_swap',\n",
       " 'cooking',\n",
       " 'alpaca_long',\n",
       " 'alpaca_short',\n",
       " 'ranking_logic_easy',\n",
       " 'shp_low_quality',\n",
       " 'math_textbook',\n",
       " nan,\n",
       " 'crt_2',\n",
       " 'arc_hard',\n",
       " 'crt_3',\n",
       " 'biology_with_literary_style',\n",
       " 'math_easy',\n",
       " 'alpaca_high_quality',\n",
       " 'counterfactual_python',\n",
       " 'punishment_avoidance',\n",
       " 'alpaca_hard',\n",
       " 'sycophancy_mimicry',\n",
       " 'illegal_dont_help',\n",
       " 'raven_easy',\n",
       " 'pursue_goals',\n",
       " 'math_make_questions',\n",
       " 'alpaca_chat',\n",
       " 'comma_separated_output',\n",
       " 'shp_high_quality',\n",
       " 'us_history_make_questions',\n",
       " 'arc_easy',\n",
       " 'alpaca_low_quality',\n",
       " 'quote_attribution',\n",
       " 'crt_1',\n",
       " 'code_hard',\n",
       " 'truthful_qa',\n",
       " 'sycophancy_are_you_sure',\n",
       " 'us_history_fiction',\n",
       " 'alpaca_easy',\n",
       " 'reward_seeking',\n",
       " 'math_hard']"
      ]
     },
     "execution_count": 6,
     "metadata": {},
     "output_type": "execute_result"
    }
   ],
   "source": [
    "df = pd.DataFrame(GENIES_ALL)\n",
    "s = df['source'].tolist() + df['target'].tolist() #+ df['target_reference'].tolist()\n",
    "s = list(set(s))\n",
    "s"
   ]
  },
  {
   "cell_type": "code",
   "execution_count": 8,
   "metadata": {},
   "outputs": [],
   "source": [
    "# ds2 = ds.map(lambda x: {\n",
    "#     'prompt_len': len(tokenizer(x['prompt'])[0]),\n",
    "#     'chosen_len': len(tokenizer(x['chosen'])[0]),\n",
    "#     'rejected_len': len(tokenizer(x['rejected'])[0]),\n",
    "#     }\n",
    "# )\n",
    "# ds2"
   ]
  },
  {
   "cell_type": "code",
   "execution_count": 36,
   "metadata": {},
   "outputs": [
    {
     "data": {
      "text/html": [
       "<div>\n",
       "<style scoped>\n",
       "    .dataframe tbody tr th:only-of-type {\n",
       "        vertical-align: middle;\n",
       "    }\n",
       "\n",
       "    .dataframe tbody tr th {\n",
       "        vertical-align: top;\n",
       "    }\n",
       "\n",
       "    .dataframe thead th {\n",
       "        text-align: right;\n",
       "    }\n",
       "</style>\n",
       "<table border=\"1\" class=\"dataframe\">\n",
       "  <thead>\n",
       "    <tr style=\"text-align: right;\">\n",
       "      <th></th>\n",
       "      <th>prompt_len</th>\n",
       "      <th>chosen_len</th>\n",
       "      <th>rejected_len</th>\n",
       "    </tr>\n",
       "  </thead>\n",
       "  <tbody>\n",
       "    <tr>\n",
       "      <th>count</th>\n",
       "      <td>100.000000</td>\n",
       "      <td>100.000000</td>\n",
       "      <td>100.000000</td>\n",
       "    </tr>\n",
       "    <tr>\n",
       "      <th>mean</th>\n",
       "      <td>117.050000</td>\n",
       "      <td>110.210000</td>\n",
       "      <td>110.230000</td>\n",
       "    </tr>\n",
       "    <tr>\n",
       "      <th>std</th>\n",
       "      <td>48.153873</td>\n",
       "      <td>35.468949</td>\n",
       "      <td>35.227645</td>\n",
       "    </tr>\n",
       "    <tr>\n",
       "      <th>min</th>\n",
       "      <td>69.000000</td>\n",
       "      <td>43.000000</td>\n",
       "      <td>43.000000</td>\n",
       "    </tr>\n",
       "    <tr>\n",
       "      <th>25%</th>\n",
       "      <td>93.000000</td>\n",
       "      <td>80.250000</td>\n",
       "      <td>80.250000</td>\n",
       "    </tr>\n",
       "    <tr>\n",
       "      <th>50%</th>\n",
       "      <td>103.000000</td>\n",
       "      <td>106.000000</td>\n",
       "      <td>105.000000</td>\n",
       "    </tr>\n",
       "    <tr>\n",
       "      <th>75%</th>\n",
       "      <td>116.000000</td>\n",
       "      <td>138.000000</td>\n",
       "      <td>138.000000</td>\n",
       "    </tr>\n",
       "    <tr>\n",
       "      <th>max</th>\n",
       "      <td>268.000000</td>\n",
       "      <td>170.000000</td>\n",
       "      <td>170.000000</td>\n",
       "    </tr>\n",
       "  </tbody>\n",
       "</table>\n",
       "</div>"
      ],
      "text/plain": [
       "       prompt_len  chosen_len  rejected_len\n",
       "count  100.000000  100.000000    100.000000\n",
       "mean   117.050000  110.210000    110.230000\n",
       "std     48.153873   35.468949     35.227645\n",
       "min     69.000000   43.000000     43.000000\n",
       "25%     93.000000   80.250000     80.250000\n",
       "50%    103.000000  106.000000    105.000000\n",
       "75%    116.000000  138.000000    138.000000\n",
       "max    268.000000  170.000000    170.000000"
      ]
     },
     "execution_count": 36,
     "metadata": {},
     "output_type": "execute_result"
    }
   ],
   "source": [
    "df = ds2.select_columns(['prompt_len', 'chosen_len', 'rejected_len']).to_pandas()\n",
    "d = df.describe()\n",
    "d"
   ]
  },
  {
   "cell_type": "code",
   "execution_count": 40,
   "metadata": {},
   "outputs": [],
   "source": [
    "# df.quantile(0.99)\n",
    "# # df.max()"
   ]
  },
  {
   "cell_type": "code",
   "execution_count": 14,
   "metadata": {},
   "outputs": [
    {
     "data": {
      "application/vnd.jupyter.widget-view+json": {
       "model_id": "6d8083879bd245f2be28a7cc4621cf1e",
       "version_major": 2,
       "version_minor": 0
      },
      "text/plain": [
       "  0%|          | 0/62 [00:00<?, ?it/s]"
      ]
     },
     "metadata": {},
     "output_type": "display_data"
    },
    {
     "name": "stdout",
     "output_type": "stream",
     "text": [
      "code_is_correct BuilderConfig 'code_is_correct' not found. Available: ['alpaca_chat', 'alpaca_easy', 'alpaca_hard', 'alpaca_high_quality', 'alpaca_long', 'alpaca_low_quality', 'alpaca_mmlu', 'alpaca_short', 'arc_easy', 'arc_hard', 'biology_with_literary_style', 'change_my_view', 'code', 'code_easy', 'code_hard', 'code_low_quality', 'comma_separated_input', 'comma_separated_output', 'cooking', 'counterfactual_python', 'creative_writing', 'crt_1', 'crt_2', 'crt_3', 'gender_bias', 'illegal_dont_help', 'math', 'math_easy', 'math_fiction', 'math_hard', 'math_make_questions', 'math_textbook', 'personality_traits', 'punishment_avoidance', 'pursue_goals', 'ranking_logic', 'ranking_logic_easy', 'ranking_logic_hard', 'raven_easy', 'raven_matrices', 'relinquish_power', 'reward_seeking', 'shp_high_quality', 'shp_low_quality', 'spanish_input', 'spanish_output', 'survival_influence', 'sycophancy_answer', 'sycophancy_are_you_sure', 'sycophancy_feedback', 'sycophancy_mimicry', 'truthful_qa', 'unhelpful_alpaca', 'us_history', 'us_history_fiction', 'us_history_make_questions', 'us_history_textbook', 'word_swap', 'wrong_arc']\n",
      "nan argument of type 'float' is not iterable\n"
     ]
    },
    {
     "data": {
      "application/vnd.jupyter.widget-view+json": {
       "model_id": "e2c5f7d096934366a850532b62c99197",
       "version_major": 2,
       "version_minor": 0
      },
      "text/plain": [
       "Map:   0%|          | 0/100 [00:00<?, ? examples/s]"
      ]
     },
     "metadata": {},
     "output_type": "display_data"
    },
    {
     "data": {
      "application/vnd.jupyter.widget-view+json": {
       "model_id": "83e2d8d1175f41fca4428036fa756fb3",
       "version_major": 2,
       "version_minor": 0
      },
      "text/plain": [
       "Map:   0%|          | 0/100 [00:00<?, ? examples/s]"
      ]
     },
     "metadata": {},
     "output_type": "display_data"
    },
    {
     "data": {
      "application/vnd.jupyter.widget-view+json": {
       "model_id": "6393ee601f984444a732918c54bed095",
       "version_major": 2,
       "version_minor": 0
      },
      "text/plain": [
       "Downloading data:   0%|          | 0.00/53.9k [00:00<?, ?B/s]"
      ]
     },
     "metadata": {},
     "output_type": "display_data"
    },
    {
     "data": {
      "application/vnd.jupyter.widget-view+json": {
       "model_id": "350b14b114d648298e22ac5fa09c7594",
       "version_major": 2,
       "version_minor": 0
      },
      "text/plain": [
       "Downloading data:   0%|          | 0.00/25.5k [00:00<?, ?B/s]"
      ]
     },
     "metadata": {},
     "output_type": "display_data"
    },
    {
     "data": {
      "application/vnd.jupyter.widget-view+json": {
       "model_id": "b0711d9d7faa46aa9931ef63e5b64fcc",
       "version_major": 2,
       "version_minor": 0
      },
      "text/plain": [
       "Generating train split:   0%|          | 0/600 [00:00<?, ? examples/s]"
      ]
     },
     "metadata": {},
     "output_type": "display_data"
    },
    {
     "data": {
      "application/vnd.jupyter.widget-view+json": {
       "model_id": "2c2b0ac110484e04876d3e59e32be897",
       "version_major": 2,
       "version_minor": 0
      },
      "text/plain": [
       "Generating test split:   0%|          | 0/250 [00:00<?, ? examples/s]"
      ]
     },
     "metadata": {},
     "output_type": "display_data"
    },
    {
     "data": {
      "application/vnd.jupyter.widget-view+json": {
       "model_id": "16ec0bdbb70c443095856356bffd7499",
       "version_major": 2,
       "version_minor": 0
      },
      "text/plain": [
       "Map:   0%|          | 0/100 [00:00<?, ? examples/s]"
      ]
     },
     "metadata": {},
     "output_type": "display_data"
    },
    {
     "data": {
      "application/vnd.jupyter.widget-view+json": {
       "model_id": "354ae21466714de6bdf5568829ea69b0",
       "version_major": 2,
       "version_minor": 0
      },
      "text/plain": [
       "Map:   0%|          | 0/100 [00:00<?, ? examples/s]"
      ]
     },
     "metadata": {},
     "output_type": "display_data"
    },
    {
     "data": {
      "application/vnd.jupyter.widget-view+json": {
       "model_id": "369c390c94bf49b88cfb46dc285e8175",
       "version_major": 2,
       "version_minor": 0
      },
      "text/plain": [
       "Downloading data:   0%|          | 0.00/112k [00:00<?, ?B/s]"
      ]
     },
     "metadata": {},
     "output_type": "display_data"
    },
    {
     "data": {
      "application/vnd.jupyter.widget-view+json": {
       "model_id": "35edeffca6c94481bf59fca367274a89",
       "version_major": 2,
       "version_minor": 0
      },
      "text/plain": [
       "Downloading data:   0%|          | 0.00/49.5k [00:00<?, ?B/s]"
      ]
     },
     "metadata": {},
     "output_type": "display_data"
    },
    {
     "data": {
      "application/vnd.jupyter.widget-view+json": {
       "model_id": "b5c360716d4b404db54d0f7fefe5131f",
       "version_major": 2,
       "version_minor": 0
      },
      "text/plain": [
       "Generating train split:   0%|          | 0/1800 [00:00<?, ? examples/s]"
      ]
     },
     "metadata": {},
     "output_type": "display_data"
    },
    {
     "data": {
      "application/vnd.jupyter.widget-view+json": {
       "model_id": "4a6cbc3beed842bb8a627ddf581ecf76",
       "version_major": 2,
       "version_minor": 0
      },
      "text/plain": [
       "Generating test split:   0%|          | 0/750 [00:00<?, ? examples/s]"
      ]
     },
     "metadata": {},
     "output_type": "display_data"
    },
    {
     "data": {
      "application/vnd.jupyter.widget-view+json": {
       "model_id": "3dd1bd05125c4b0daa4aa018f5c2fbd7",
       "version_major": 2,
       "version_minor": 0
      },
      "text/plain": [
       "Map:   0%|          | 0/100 [00:00<?, ? examples/s]"
      ]
     },
     "metadata": {},
     "output_type": "display_data"
    },
    {
     "data": {
      "application/vnd.jupyter.widget-view+json": {
       "model_id": "6b3ae5780eb34324b4d2f5649560bd31",
       "version_major": 2,
       "version_minor": 0
      },
      "text/plain": [
       "Map:   0%|          | 0/100 [00:00<?, ? examples/s]"
      ]
     },
     "metadata": {},
     "output_type": "display_data"
    },
    {
     "data": {
      "application/vnd.jupyter.widget-view+json": {
       "model_id": "144c3191f8274f05837ba4c44054d31c",
       "version_major": 2,
       "version_minor": 0
      },
      "text/plain": [
       "Map:   0%|          | 0/100 [00:00<?, ? examples/s]"
      ]
     },
     "metadata": {},
     "output_type": "display_data"
    },
    {
     "data": {
      "application/vnd.jupyter.widget-view+json": {
       "model_id": "824898eab19346d491d0c2cd49930973",
       "version_major": 2,
       "version_minor": 0
      },
      "text/plain": [
       "Downloading data:   0%|          | 0.00/383k [00:00<?, ?B/s]"
      ]
     },
     "metadata": {},
     "output_type": "display_data"
    },
    {
     "data": {
      "application/vnd.jupyter.widget-view+json": {
       "model_id": "011dd5e02d0a43bc8f62c4f1fd07da40",
       "version_major": 2,
       "version_minor": 0
      },
      "text/plain": [
       "Downloading data:   0%|          | 0.00/161k [00:00<?, ?B/s]"
      ]
     },
     "metadata": {},
     "output_type": "display_data"
    },
    {
     "data": {
      "application/vnd.jupyter.widget-view+json": {
       "model_id": "33c040f4537148f8996a281bb288af0b",
       "version_major": 2,
       "version_minor": 0
      },
      "text/plain": [
       "Generating train split:   0%|          | 0/1800 [00:00<?, ? examples/s]"
      ]
     },
     "metadata": {},
     "output_type": "display_data"
    },
    {
     "data": {
      "application/vnd.jupyter.widget-view+json": {
       "model_id": "051df01e946a40fdbba8889d92172bdf",
       "version_major": 2,
       "version_minor": 0
      },
      "text/plain": [
       "Generating test split:   0%|          | 0/750 [00:00<?, ? examples/s]"
      ]
     },
     "metadata": {},
     "output_type": "display_data"
    },
    {
     "data": {
      "application/vnd.jupyter.widget-view+json": {
       "model_id": "acb28697ad1d4470adfb9fbe9b8a3d7d",
       "version_major": 2,
       "version_minor": 0
      },
      "text/plain": [
       "Map:   0%|          | 0/100 [00:00<?, ? examples/s]"
      ]
     },
     "metadata": {},
     "output_type": "display_data"
    },
    {
     "data": {
      "application/vnd.jupyter.widget-view+json": {
       "model_id": "27eb48b784e04a92b17b7e578898a9e9",
       "version_major": 2,
       "version_minor": 0
      },
      "text/plain": [
       "Map:   0%|          | 0/100 [00:00<?, ? examples/s]"
      ]
     },
     "metadata": {},
     "output_type": "display_data"
    },
    {
     "data": {
      "application/vnd.jupyter.widget-view+json": {
       "model_id": "1881e540deba440d9e1f8dff0dfe522d",
       "version_major": 2,
       "version_minor": 0
      },
      "text/plain": [
       "Downloading data:   0%|          | 0.00/176k [00:00<?, ?B/s]"
      ]
     },
     "metadata": {},
     "output_type": "display_data"
    },
    {
     "data": {
      "application/vnd.jupyter.widget-view+json": {
       "model_id": "9757524eb1924cca8376dbb25fcc0c00",
       "version_major": 2,
       "version_minor": 0
      },
      "text/plain": [
       "Downloading data:   0%|          | 0.00/79.1k [00:00<?, ?B/s]"
      ]
     },
     "metadata": {},
     "output_type": "display_data"
    },
    {
     "data": {
      "application/vnd.jupyter.widget-view+json": {
       "model_id": "0547855790644db9b5bdd014cd505480",
       "version_major": 2,
       "version_minor": 0
      },
      "text/plain": [
       "Generating train split:   0%|          | 0/600 [00:00<?, ? examples/s]"
      ]
     },
     "metadata": {},
     "output_type": "display_data"
    },
    {
     "data": {
      "application/vnd.jupyter.widget-view+json": {
       "model_id": "a6cf60b41ebb4d77bbf155ec254dc139",
       "version_major": 2,
       "version_minor": 0
      },
      "text/plain": [
       "Generating test split:   0%|          | 0/250 [00:00<?, ? examples/s]"
      ]
     },
     "metadata": {},
     "output_type": "display_data"
    },
    {
     "data": {
      "application/vnd.jupyter.widget-view+json": {
       "model_id": "19f88b1443414e9d9fb88778fd789c97",
       "version_major": 2,
       "version_minor": 0
      },
      "text/plain": [
       "Map:   0%|          | 0/100 [00:00<?, ? examples/s]"
      ]
     },
     "metadata": {},
     "output_type": "display_data"
    },
    {
     "data": {
      "application/vnd.jupyter.widget-view+json": {
       "model_id": "faefb35bbc7d461d8345bf786c6677ce",
       "version_major": 2,
       "version_minor": 0
      },
      "text/plain": [
       "Downloading data:   0%|          | 0.00/168k [00:00<?, ?B/s]"
      ]
     },
     "metadata": {},
     "output_type": "display_data"
    },
    {
     "data": {
      "application/vnd.jupyter.widget-view+json": {
       "model_id": "e03f03c0f0eb4cdea22e23e0303a2a49",
       "version_major": 2,
       "version_minor": 0
      },
      "text/plain": [
       "Downloading data:   0%|          | 0.00/70.0k [00:00<?, ?B/s]"
      ]
     },
     "metadata": {},
     "output_type": "display_data"
    },
    {
     "data": {
      "application/vnd.jupyter.widget-view+json": {
       "model_id": "d4a5729cecaf4fd8b685ac63735d7d4c",
       "version_major": 2,
       "version_minor": 0
      },
      "text/plain": [
       "Generating train split:   0%|          | 0/1190 [00:00<?, ? examples/s]"
      ]
     },
     "metadata": {},
     "output_type": "display_data"
    },
    {
     "data": {
      "application/vnd.jupyter.widget-view+json": {
       "model_id": "ebafa976a97b4f60b0f5b327538570c6",
       "version_major": 2,
       "version_minor": 0
      },
      "text/plain": [
       "Generating test split:   0%|          | 0/492 [00:00<?, ? examples/s]"
      ]
     },
     "metadata": {},
     "output_type": "display_data"
    },
    {
     "data": {
      "application/vnd.jupyter.widget-view+json": {
       "model_id": "3084292abe424e80911b9284ad9eb281",
       "version_major": 2,
       "version_minor": 0
      },
      "text/plain": [
       "Map:   0%|          | 0/100 [00:00<?, ? examples/s]"
      ]
     },
     "metadata": {},
     "output_type": "display_data"
    },
    {
     "data": {
      "application/vnd.jupyter.widget-view+json": {
       "model_id": "7e8c6c4ede944d4ebf774fef56a1d02f",
       "version_major": 2,
       "version_minor": 0
      },
      "text/plain": [
       "Downloading data:   0%|          | 0.00/36.0k [00:00<?, ?B/s]"
      ]
     },
     "metadata": {},
     "output_type": "display_data"
    },
    {
     "data": {
      "application/vnd.jupyter.widget-view+json": {
       "model_id": "7164f06d1431451da2212860e5a88dac",
       "version_major": 2,
       "version_minor": 0
      },
      "text/plain": [
       "Downloading data:   0%|          | 0.00/16.1k [00:00<?, ?B/s]"
      ]
     },
     "metadata": {},
     "output_type": "display_data"
    },
    {
     "data": {
      "application/vnd.jupyter.widget-view+json": {
       "model_id": "340b4bf163f043bfa15b62455c3900bb",
       "version_major": 2,
       "version_minor": 0
      },
      "text/plain": [
       "Generating train split:   0%|          | 0/1800 [00:00<?, ? examples/s]"
      ]
     },
     "metadata": {},
     "output_type": "display_data"
    },
    {
     "data": {
      "application/vnd.jupyter.widget-view+json": {
       "model_id": "47c825db43cd4e38a97ff3a0d3366d6d",
       "version_major": 2,
       "version_minor": 0
      },
      "text/plain": [
       "Generating test split:   0%|          | 0/750 [00:00<?, ? examples/s]"
      ]
     },
     "metadata": {},
     "output_type": "display_data"
    },
    {
     "data": {
      "application/vnd.jupyter.widget-view+json": {
       "model_id": "5e11b181e344419dabbd174879c3c712",
       "version_major": 2,
       "version_minor": 0
      },
      "text/plain": [
       "Map:   0%|          | 0/100 [00:00<?, ? examples/s]"
      ]
     },
     "metadata": {},
     "output_type": "display_data"
    },
    {
     "data": {
      "application/vnd.jupyter.widget-view+json": {
       "model_id": "1d4adfaa6532400490f1b97977b535db",
       "version_major": 2,
       "version_minor": 0
      },
      "text/plain": [
       "Downloading data:   0%|          | 0.00/258k [00:00<?, ?B/s]"
      ]
     },
     "metadata": {},
     "output_type": "display_data"
    },
    {
     "data": {
      "application/vnd.jupyter.widget-view+json": {
       "model_id": "9de85df3b6c6434ab0f03c4eeb86b904",
       "version_major": 2,
       "version_minor": 0
      },
      "text/plain": [
       "Downloading data:   0%|          | 0.00/113k [00:00<?, ?B/s]"
      ]
     },
     "metadata": {},
     "output_type": "display_data"
    },
    {
     "data": {
      "application/vnd.jupyter.widget-view+json": {
       "model_id": "5f3d19900e944d8ca446011e795be37a",
       "version_major": 2,
       "version_minor": 0
      },
      "text/plain": [
       "Generating train split:   0%|          | 0/600 [00:00<?, ? examples/s]"
      ]
     },
     "metadata": {},
     "output_type": "display_data"
    },
    {
     "data": {
      "application/vnd.jupyter.widget-view+json": {
       "model_id": "fec9484f18794f9ab7abe01a68bc41cc",
       "version_major": 2,
       "version_minor": 0
      },
      "text/plain": [
       "Generating test split:   0%|          | 0/250 [00:00<?, ? examples/s]"
      ]
     },
     "metadata": {},
     "output_type": "display_data"
    },
    {
     "data": {
      "application/vnd.jupyter.widget-view+json": {
       "model_id": "005054f0cdfd4a5fa9a8417fb98ba669",
       "version_major": 2,
       "version_minor": 0
      },
      "text/plain": [
       "Map:   0%|          | 0/100 [00:00<?, ? examples/s]"
      ]
     },
     "metadata": {},
     "output_type": "display_data"
    },
    {
     "data": {
      "application/vnd.jupyter.widget-view+json": {
       "model_id": "2024fc3282584aa0a55557fed6cdeceb",
       "version_major": 2,
       "version_minor": 0
      },
      "text/plain": [
       "Map:   0%|          | 0/100 [00:00<?, ? examples/s]"
      ]
     },
     "metadata": {},
     "output_type": "display_data"
    },
    {
     "data": {
      "application/vnd.jupyter.widget-view+json": {
       "model_id": "347306fe36c9411dbdbfdf7d439e90cf",
       "version_major": 2,
       "version_minor": 0
      },
      "text/plain": [
       "Map:   0%|          | 0/100 [00:00<?, ? examples/s]"
      ]
     },
     "metadata": {},
     "output_type": "display_data"
    },
    {
     "data": {
      "application/vnd.jupyter.widget-view+json": {
       "model_id": "bd1052c67e61464a87f51497f12cdaed",
       "version_major": 2,
       "version_minor": 0
      },
      "text/plain": [
       "Downloading data:   0%|          | 0.00/166k [00:00<?, ?B/s]"
      ]
     },
     "metadata": {},
     "output_type": "display_data"
    },
    {
     "data": {
      "application/vnd.jupyter.widget-view+json": {
       "model_id": "4d502a781b684334aff4443b041d01f6",
       "version_major": 2,
       "version_minor": 0
      },
      "text/plain": [
       "Downloading data:   0%|          | 0.00/72.6k [00:00<?, ?B/s]"
      ]
     },
     "metadata": {},
     "output_type": "display_data"
    },
    {
     "data": {
      "application/vnd.jupyter.widget-view+json": {
       "model_id": "b20e3851a52a4704a8da59b5d43de414",
       "version_major": 2,
       "version_minor": 0
      },
      "text/plain": [
       "Generating train split:   0%|          | 0/1800 [00:00<?, ? examples/s]"
      ]
     },
     "metadata": {},
     "output_type": "display_data"
    },
    {
     "data": {
      "application/vnd.jupyter.widget-view+json": {
       "model_id": "ea19ee2c93fa460499f3e4f120e45214",
       "version_major": 2,
       "version_minor": 0
      },
      "text/plain": [
       "Generating test split:   0%|          | 0/750 [00:00<?, ? examples/s]"
      ]
     },
     "metadata": {},
     "output_type": "display_data"
    },
    {
     "data": {
      "application/vnd.jupyter.widget-view+json": {
       "model_id": "87f5dc3dfe2b43c0953a91cb0ba7ec4c",
       "version_major": 2,
       "version_minor": 0
      },
      "text/plain": [
       "Map:   0%|          | 0/100 [00:00<?, ? examples/s]"
      ]
     },
     "metadata": {},
     "output_type": "display_data"
    },
    {
     "data": {
      "application/vnd.jupyter.widget-view+json": {
       "model_id": "714b41ca686443698c3d13ea4273fe3d",
       "version_major": 2,
       "version_minor": 0
      },
      "text/plain": [
       "Map:   0%|          | 0/100 [00:00<?, ? examples/s]"
      ]
     },
     "metadata": {},
     "output_type": "display_data"
    },
    {
     "data": {
      "application/vnd.jupyter.widget-view+json": {
       "model_id": "d641ae7275f543e6b8ae94dd04c957a5",
       "version_major": 2,
       "version_minor": 0
      },
      "text/plain": [
       "Map:   0%|          | 0/100 [00:00<?, ? examples/s]"
      ]
     },
     "metadata": {},
     "output_type": "display_data"
    },
    {
     "data": {
      "application/vnd.jupyter.widget-view+json": {
       "model_id": "847dffc931a742bda46d921707a2c35a",
       "version_major": 2,
       "version_minor": 0
      },
      "text/plain": [
       "Map:   0%|          | 0/100 [00:00<?, ? examples/s]"
      ]
     },
     "metadata": {},
     "output_type": "display_data"
    },
    {
     "data": {
      "application/vnd.jupyter.widget-view+json": {
       "model_id": "ac04c44399464a70b80a253c6af96fbf",
       "version_major": 2,
       "version_minor": 0
      },
      "text/plain": [
       "Downloading data:   0%|          | 0.00/268k [00:00<?, ?B/s]"
      ]
     },
     "metadata": {},
     "output_type": "display_data"
    },
    {
     "data": {
      "application/vnd.jupyter.widget-view+json": {
       "model_id": "155f1a5aa7c74f4ba4f7314a333a6ff6",
       "version_major": 2,
       "version_minor": 0
      },
      "text/plain": [
       "Downloading data:   0%|          | 0.00/113k [00:00<?, ?B/s]"
      ]
     },
     "metadata": {},
     "output_type": "display_data"
    },
    {
     "data": {
      "application/vnd.jupyter.widget-view+json": {
       "model_id": "7b05f701cec84a7d81b10670c062c639",
       "version_major": 2,
       "version_minor": 0
      },
      "text/plain": [
       "Generating train split:   0%|          | 0/1800 [00:00<?, ? examples/s]"
      ]
     },
     "metadata": {},
     "output_type": "display_data"
    },
    {
     "data": {
      "application/vnd.jupyter.widget-view+json": {
       "model_id": "58d31b1da3e3411eba12b5b361f1d9e6",
       "version_major": 2,
       "version_minor": 0
      },
      "text/plain": [
       "Generating test split:   0%|          | 0/750 [00:00<?, ? examples/s]"
      ]
     },
     "metadata": {},
     "output_type": "display_data"
    },
    {
     "data": {
      "application/vnd.jupyter.widget-view+json": {
       "model_id": "3653ab5dd1854fa6ac20d3d57a28aac4",
       "version_major": 2,
       "version_minor": 0
      },
      "text/plain": [
       "Map:   0%|          | 0/100 [00:00<?, ? examples/s]"
      ]
     },
     "metadata": {},
     "output_type": "display_data"
    },
    {
     "name": "stdout",
     "output_type": "stream",
     "text": [
      "quote_attribution BuilderConfig 'quote_attribution' not found. Available: ['alpaca_chat', 'alpaca_easy', 'alpaca_hard', 'alpaca_high_quality', 'alpaca_long', 'alpaca_low_quality', 'alpaca_mmlu', 'alpaca_short', 'arc_easy', 'arc_hard', 'biology_with_literary_style', 'change_my_view', 'code', 'code_easy', 'code_hard', 'code_low_quality', 'comma_separated_input', 'comma_separated_output', 'cooking', 'counterfactual_python', 'creative_writing', 'crt_1', 'crt_2', 'crt_3', 'gender_bias', 'illegal_dont_help', 'math', 'math_easy', 'math_fiction', 'math_hard', 'math_make_questions', 'math_textbook', 'personality_traits', 'punishment_avoidance', 'pursue_goals', 'ranking_logic', 'ranking_logic_easy', 'ranking_logic_hard', 'raven_easy', 'raven_matrices', 'relinquish_power', 'reward_seeking', 'shp_high_quality', 'shp_low_quality', 'spanish_input', 'spanish_output', 'survival_influence', 'sycophancy_answer', 'sycophancy_are_you_sure', 'sycophancy_feedback', 'sycophancy_mimicry', 'truthful_qa', 'unhelpful_alpaca', 'us_history', 'us_history_fiction', 'us_history_make_questions', 'us_history_textbook', 'word_swap', 'wrong_arc']\n"
     ]
    },
    {
     "data": {
      "application/vnd.jupyter.widget-view+json": {
       "model_id": "f15e08a4b1bd48e79cc8ed344360064c",
       "version_major": 2,
       "version_minor": 0
      },
      "text/plain": [
       "Map:   0%|          | 0/100 [00:00<?, ? examples/s]"
      ]
     },
     "metadata": {},
     "output_type": "display_data"
    },
    {
     "data": {
      "application/vnd.jupyter.widget-view+json": {
       "model_id": "424d27fcc7bb4446844d429975c7ef58",
       "version_major": 2,
       "version_minor": 0
      },
      "text/plain": [
       "Downloading data:   0%|          | 0.00/619k [00:00<?, ?B/s]"
      ]
     },
     "metadata": {},
     "output_type": "display_data"
    },
    {
     "data": {
      "application/vnd.jupyter.widget-view+json": {
       "model_id": "4ac2945409cb4e76b3ce2f292a392f84",
       "version_major": 2,
       "version_minor": 0
      },
      "text/plain": [
       "Downloading data:   0%|          | 0.00/259k [00:00<?, ?B/s]"
      ]
     },
     "metadata": {},
     "output_type": "display_data"
    },
    {
     "data": {
      "application/vnd.jupyter.widget-view+json": {
       "model_id": "e765cd3e42ac49afbcf664e20c3535b1",
       "version_major": 2,
       "version_minor": 0
      },
      "text/plain": [
       "Generating train split:   0%|          | 0/1800 [00:00<?, ? examples/s]"
      ]
     },
     "metadata": {},
     "output_type": "display_data"
    },
    {
     "data": {
      "application/vnd.jupyter.widget-view+json": {
       "model_id": "f5248603b861434198b4ca6114f47523",
       "version_major": 2,
       "version_minor": 0
      },
      "text/plain": [
       "Generating test split:   0%|          | 0/750 [00:00<?, ? examples/s]"
      ]
     },
     "metadata": {},
     "output_type": "display_data"
    },
    {
     "data": {
      "application/vnd.jupyter.widget-view+json": {
       "model_id": "6b638bb3407f49ebbe9c44972c371f84",
       "version_major": 2,
       "version_minor": 0
      },
      "text/plain": [
       "Map:   0%|          | 0/100 [00:00<?, ? examples/s]"
      ]
     },
     "metadata": {},
     "output_type": "display_data"
    },
    {
     "data": {
      "application/vnd.jupyter.widget-view+json": {
       "model_id": "dc2a99652a96491d8f9bee9dd7bc8204",
       "version_major": 2,
       "version_minor": 0
      },
      "text/plain": [
       "Map:   0%|          | 0/100 [00:00<?, ? examples/s]"
      ]
     },
     "metadata": {},
     "output_type": "display_data"
    },
    {
     "data": {
      "application/vnd.jupyter.widget-view+json": {
       "model_id": "e39769ef302c49b198c67e3202ab0cea",
       "version_major": 2,
       "version_minor": 0
      },
      "text/plain": [
       "Downloading data:   0%|          | 0.00/103k [00:00<?, ?B/s]"
      ]
     },
     "metadata": {},
     "output_type": "display_data"
    },
    {
     "data": {
      "application/vnd.jupyter.widget-view+json": {
       "model_id": "335864d95b194abaa4339197b5a61b2c",
       "version_major": 2,
       "version_minor": 0
      },
      "text/plain": [
       "Downloading data:   0%|          | 0.00/46.5k [00:00<?, ?B/s]"
      ]
     },
     "metadata": {},
     "output_type": "display_data"
    },
    {
     "data": {
      "application/vnd.jupyter.widget-view+json": {
       "model_id": "d320696b244e4173be8df1aefc0ff1a6",
       "version_major": 2,
       "version_minor": 0
      },
      "text/plain": [
       "Generating train split:   0%|          | 0/600 [00:00<?, ? examples/s]"
      ]
     },
     "metadata": {},
     "output_type": "display_data"
    },
    {
     "data": {
      "application/vnd.jupyter.widget-view+json": {
       "model_id": "9285e4fd6ae842a2bf81e5c45c325602",
       "version_major": 2,
       "version_minor": 0
      },
      "text/plain": [
       "Generating test split:   0%|          | 0/250 [00:00<?, ? examples/s]"
      ]
     },
     "metadata": {},
     "output_type": "display_data"
    },
    {
     "data": {
      "application/vnd.jupyter.widget-view+json": {
       "model_id": "7fc9515c6cca436da0da42dc924d29cd",
       "version_major": 2,
       "version_minor": 0
      },
      "text/plain": [
       "Map:   0%|          | 0/100 [00:00<?, ? examples/s]"
      ]
     },
     "metadata": {},
     "output_type": "display_data"
    },
    {
     "data": {
      "application/vnd.jupyter.widget-view+json": {
       "model_id": "d40708d56019437b8f9625007dafb5fc",
       "version_major": 2,
       "version_minor": 0
      },
      "text/plain": [
       "Map:   0%|          | 0/100 [00:00<?, ? examples/s]"
      ]
     },
     "metadata": {},
     "output_type": "display_data"
    },
    {
     "data": {
      "application/vnd.jupyter.widget-view+json": {
       "model_id": "df4762e294374392b327cb5ae0c7ded4",
       "version_major": 2,
       "version_minor": 0
      },
      "text/plain": [
       "Downloading data:   0%|          | 0.00/87.5k [00:00<?, ?B/s]"
      ]
     },
     "metadata": {},
     "output_type": "display_data"
    },
    {
     "data": {
      "application/vnd.jupyter.widget-view+json": {
       "model_id": "572214960541417394d5f991c24847f1",
       "version_major": 2,
       "version_minor": 0
      },
      "text/plain": [
       "Downloading data:   0%|          | 0.00/37.4k [00:00<?, ?B/s]"
      ]
     },
     "metadata": {},
     "output_type": "display_data"
    },
    {
     "data": {
      "application/vnd.jupyter.widget-view+json": {
       "model_id": "051b46e5b8b9468fa30808762ad56c08",
       "version_major": 2,
       "version_minor": 0
      },
      "text/plain": [
       "Generating train split:   0%|          | 0/1800 [00:00<?, ? examples/s]"
      ]
     },
     "metadata": {},
     "output_type": "display_data"
    },
    {
     "data": {
      "application/vnd.jupyter.widget-view+json": {
       "model_id": "e141dd71bb1f4e9381a6fbcc8cecd1ee",
       "version_major": 2,
       "version_minor": 0
      },
      "text/plain": [
       "Generating test split:   0%|          | 0/750 [00:00<?, ? examples/s]"
      ]
     },
     "metadata": {},
     "output_type": "display_data"
    },
    {
     "data": {
      "application/vnd.jupyter.widget-view+json": {
       "model_id": "2673d7f30ff14b46b8552d50d3d82e63",
       "version_major": 2,
       "version_minor": 0
      },
      "text/plain": [
       "Map:   0%|          | 0/100 [00:00<?, ? examples/s]"
      ]
     },
     "metadata": {},
     "output_type": "display_data"
    },
    {
     "data": {
      "application/vnd.jupyter.widget-view+json": {
       "model_id": "12805e01ff7f46a0aa2b1c5818996292",
       "version_major": 2,
       "version_minor": 0
      },
      "text/plain": [
       "Downloading data:   0%|          | 0.00/375k [00:00<?, ?B/s]"
      ]
     },
     "metadata": {},
     "output_type": "display_data"
    },
    {
     "data": {
      "application/vnd.jupyter.widget-view+json": {
       "model_id": "227c739a38f24557a3c9a948345db374",
       "version_major": 2,
       "version_minor": 0
      },
      "text/plain": [
       "Downloading data:   0%|          | 0.00/375k [00:00<?, ?B/s]"
      ]
     },
     "metadata": {},
     "output_type": "display_data"
    },
    {
     "data": {
      "application/vnd.jupyter.widget-view+json": {
       "model_id": "dbdfa4ea4c0c4051b82a10852315cd8f",
       "version_major": 2,
       "version_minor": 0
      },
      "text/plain": [
       "Generating train split:   0%|          | 0/1800 [00:00<?, ? examples/s]"
      ]
     },
     "metadata": {},
     "output_type": "display_data"
    },
    {
     "data": {
      "application/vnd.jupyter.widget-view+json": {
       "model_id": "230b665a6a08424aa3ced18da5114026",
       "version_major": 2,
       "version_minor": 0
      },
      "text/plain": [
       "Generating test split:   0%|          | 0/1800 [00:00<?, ? examples/s]"
      ]
     },
     "metadata": {},
     "output_type": "display_data"
    },
    {
     "data": {
      "application/vnd.jupyter.widget-view+json": {
       "model_id": "0a09d09f387542bebaec4d7f9b67e9f6",
       "version_major": 2,
       "version_minor": 0
      },
      "text/plain": [
       "Map:   0%|          | 0/100 [00:00<?, ? examples/s]"
      ]
     },
     "metadata": {},
     "output_type": "display_data"
    },
    {
     "data": {
      "application/vnd.jupyter.widget-view+json": {
       "model_id": "37ed33a4cf9c40379fed90cd985b4ed7",
       "version_major": 2,
       "version_minor": 0
      },
      "text/plain": [
       "Map:   0%|          | 0/100 [00:00<?, ? examples/s]"
      ]
     },
     "metadata": {},
     "output_type": "display_data"
    }
   ],
   "source": [
    "from tqdm.auto import tqdm\n",
    "\n",
    "data = []\n",
    "for dist in tqdm(s):\n",
    "    try:\n",
    "        ds = load_dataset_n(\"wassname/genies_preferences\", name=dist,   split='train', N=100)\n",
    "        ds2 = ds.map(lambda x: {\n",
    "            'prompt_len': len(tokenizer(x['prompt'])[0]),\n",
    "            'chosen_len': len(tokenizer(x['chosen'])[0]),\n",
    "            'rejected_len': len(tokenizer(x['rejected'])[0]),\n",
    "            }\n",
    "        )\n",
    "        df = ds2.select_columns(['prompt_len', 'chosen_len', 'rejected_len']).to_pandas()\n",
    "        \n",
    "\n",
    "\n",
    "        # ds_train_tok = ds.map(tokenize_row, batched=False)\n",
    "\n",
    "        gc.collect()\n",
    "        data.append(dict(\n",
    "            dist=dist, \n",
    "            prompt_len_mean=df['prompt_len'].mean(),\n",
    "            prompt_len_std=df['prompt_len'].std(),\n",
    "            prompt_len_min=df['prompt_len'].min(),\n",
    "            prompt_len_max=df['prompt_len'].max(),\n",
    "            chosen_len_mean=df['chosen_len'].mean(),\n",
    "            chosen_len_std=df['chosen_len'].std(),\n",
    "            chosen_len_min=df['chosen_len'].min(),\n",
    "            chosen_len_max=df['chosen_len'].max(),\n",
    "            rejected_len_mean=df['rejected_len'].mean(),\n",
    "            rejected_len_std=df['rejected_len'].std(),\n",
    "            rejected_len_min=df['rejected_len'].min(),\n",
    "            rejected_len_max=df['rejected_len'].max(),\n",
    "            \n",
    "                            ))\n",
    "        \n",
    "    except ValueError as e:\n",
    "        print(dist, e)\n",
    "    except Exception as e:\n",
    "        print(dist, e)\n",
    "        # raise e\n"
   ]
  },
  {
   "cell_type": "code",
   "execution_count": 33,
   "metadata": {},
   "outputs": [
    {
     "data": {
      "text/html": [
       "<div>\n",
       "<style scoped>\n",
       "    .dataframe tbody tr th:only-of-type {\n",
       "        vertical-align: middle;\n",
       "    }\n",
       "\n",
       "    .dataframe tbody tr th {\n",
       "        vertical-align: top;\n",
       "    }\n",
       "\n",
       "    .dataframe thead th {\n",
       "        text-align: right;\n",
       "    }\n",
       "</style>\n",
       "<table border=\"1\" class=\"dataframe\">\n",
       "  <thead>\n",
       "    <tr style=\"text-align: right;\">\n",
       "      <th></th>\n",
       "      <th>prompt_len_mean</th>\n",
       "      <th>prompt_len_std</th>\n",
       "      <th>prompt_len_min</th>\n",
       "      <th>prompt_len_max</th>\n",
       "      <th>chosen_len_mean</th>\n",
       "      <th>chosen_len_std</th>\n",
       "      <th>chosen_len_min</th>\n",
       "      <th>chosen_len_max</th>\n",
       "      <th>rejected_len_mean</th>\n",
       "      <th>rejected_len_std</th>\n",
       "      <th>rejected_len_min</th>\n",
       "      <th>rejected_len_max</th>\n",
       "    </tr>\n",
       "    <tr>\n",
       "      <th>dist</th>\n",
       "      <th></th>\n",
       "      <th></th>\n",
       "      <th></th>\n",
       "      <th></th>\n",
       "      <th></th>\n",
       "      <th></th>\n",
       "      <th></th>\n",
       "      <th></th>\n",
       "      <th></th>\n",
       "      <th></th>\n",
       "      <th></th>\n",
       "      <th></th>\n",
       "    </tr>\n",
       "  </thead>\n",
       "  <tbody>\n",
       "    <tr>\n",
       "      <th>raven_matrices</th>\n",
       "      <td>283.51</td>\n",
       "      <td>83.273250</td>\n",
       "      <td>172</td>\n",
       "      <td>494</td>\n",
       "      <td>26.70</td>\n",
       "      <td>11.836001</td>\n",
       "      <td>12</td>\n",
       "      <td>59</td>\n",
       "      <td>28.15</td>\n",
       "      <td>15.078498</td>\n",
       "      <td>12</td>\n",
       "      <td>91</td>\n",
       "    </tr>\n",
       "    <tr>\n",
       "      <th>us_history</th>\n",
       "      <td>125.86</td>\n",
       "      <td>121.267883</td>\n",
       "      <td>58</td>\n",
       "      <td>477</td>\n",
       "      <td>65.11</td>\n",
       "      <td>50.582645</td>\n",
       "      <td>3</td>\n",
       "      <td>165</td>\n",
       "      <td>52.43</td>\n",
       "      <td>38.353027</td>\n",
       "      <td>3</td>\n",
       "      <td>159</td>\n",
       "    </tr>\n",
       "    <tr>\n",
       "      <th>shp_high_quality</th>\n",
       "      <td>155.74</td>\n",
       "      <td>81.327076</td>\n",
       "      <td>63</td>\n",
       "      <td>439</td>\n",
       "      <td>112.34</td>\n",
       "      <td>87.715129</td>\n",
       "      <td>8</td>\n",
       "      <td>375</td>\n",
       "      <td>87.77</td>\n",
       "      <td>69.777548</td>\n",
       "      <td>3</td>\n",
       "      <td>371</td>\n",
       "    </tr>\n",
       "    <tr>\n",
       "      <th>shp_low_quality</th>\n",
       "      <td>152.70</td>\n",
       "      <td>76.163235</td>\n",
       "      <td>69</td>\n",
       "      <td>416</td>\n",
       "      <td>87.33</td>\n",
       "      <td>77.350449</td>\n",
       "      <td>4</td>\n",
       "      <td>317</td>\n",
       "      <td>55.77</td>\n",
       "      <td>49.071553</td>\n",
       "      <td>2</td>\n",
       "      <td>255</td>\n",
       "    </tr>\n",
       "    <tr>\n",
       "      <th>code_low_quality</th>\n",
       "      <td>157.62</td>\n",
       "      <td>90.702509</td>\n",
       "      <td>76</td>\n",
       "      <td>385</td>\n",
       "      <td>113.00</td>\n",
       "      <td>72.350159</td>\n",
       "      <td>29</td>\n",
       "      <td>336</td>\n",
       "      <td>111.85</td>\n",
       "      <td>70.536669</td>\n",
       "      <td>29</td>\n",
       "      <td>346</td>\n",
       "    </tr>\n",
       "    <tr>\n",
       "      <th>code</th>\n",
       "      <td>127.38</td>\n",
       "      <td>74.565920</td>\n",
       "      <td>63</td>\n",
       "      <td>380</td>\n",
       "      <td>101.52</td>\n",
       "      <td>72.211457</td>\n",
       "      <td>12</td>\n",
       "      <td>294</td>\n",
       "      <td>95.64</td>\n",
       "      <td>61.897687</td>\n",
       "      <td>9</td>\n",
       "      <td>294</td>\n",
       "    </tr>\n",
       "    <tr>\n",
       "      <th>change_my_view</th>\n",
       "      <td>252.11</td>\n",
       "      <td>47.784638</td>\n",
       "      <td>169</td>\n",
       "      <td>377</td>\n",
       "      <td>107.27</td>\n",
       "      <td>58.332183</td>\n",
       "      <td>12</td>\n",
       "      <td>260</td>\n",
       "      <td>78.81</td>\n",
       "      <td>52.423238</td>\n",
       "      <td>5</td>\n",
       "      <td>256</td>\n",
       "    </tr>\n",
       "    <tr>\n",
       "      <th>code_hard</th>\n",
       "      <td>193.34</td>\n",
       "      <td>80.733283</td>\n",
       "      <td>74</td>\n",
       "      <td>355</td>\n",
       "      <td>153.39</td>\n",
       "      <td>62.680510</td>\n",
       "      <td>81</td>\n",
       "      <td>361</td>\n",
       "      <td>141.37</td>\n",
       "      <td>56.079787</td>\n",
       "      <td>33</td>\n",
       "      <td>365</td>\n",
       "    </tr>\n",
       "    <tr>\n",
       "      <th>counterfactual_python</th>\n",
       "      <td>132.89</td>\n",
       "      <td>48.637163</td>\n",
       "      <td>78</td>\n",
       "      <td>302</td>\n",
       "      <td>82.03</td>\n",
       "      <td>67.057409</td>\n",
       "      <td>11</td>\n",
       "      <td>271</td>\n",
       "      <td>77.21</td>\n",
       "      <td>61.778080</td>\n",
       "      <td>14</td>\n",
       "      <td>279</td>\n",
       "    </tr>\n",
       "    <tr>\n",
       "      <th>sycophancy_feedback</th>\n",
       "      <td>146.78</td>\n",
       "      <td>43.510960</td>\n",
       "      <td>78</td>\n",
       "      <td>294</td>\n",
       "      <td>11.32</td>\n",
       "      <td>1.496663</td>\n",
       "      <td>10</td>\n",
       "      <td>13</td>\n",
       "      <td>11.68</td>\n",
       "      <td>1.496663</td>\n",
       "      <td>10</td>\n",
       "      <td>13</td>\n",
       "    </tr>\n",
       "    <tr>\n",
       "      <th>math_hard</th>\n",
       "      <td>117.05</td>\n",
       "      <td>48.153873</td>\n",
       "      <td>69</td>\n",
       "      <td>268</td>\n",
       "      <td>110.21</td>\n",
       "      <td>35.468949</td>\n",
       "      <td>43</td>\n",
       "      <td>170</td>\n",
       "      <td>110.23</td>\n",
       "      <td>35.227645</td>\n",
       "      <td>43</td>\n",
       "      <td>170</td>\n",
       "    </tr>\n",
       "    <tr>\n",
       "      <th>reward_seeking</th>\n",
       "      <td>81.68</td>\n",
       "      <td>28.163620</td>\n",
       "      <td>54</td>\n",
       "      <td>267</td>\n",
       "      <td>17.18</td>\n",
       "      <td>11.663099</td>\n",
       "      <td>2</td>\n",
       "      <td>57</td>\n",
       "      <td>15.82</td>\n",
       "      <td>10.610058</td>\n",
       "      <td>3</td>\n",
       "      <td>60</td>\n",
       "    </tr>\n",
       "    <tr>\n",
       "      <th>punishment_avoidance</th>\n",
       "      <td>85.24</td>\n",
       "      <td>28.899030</td>\n",
       "      <td>51</td>\n",
       "      <td>232</td>\n",
       "      <td>16.47</td>\n",
       "      <td>11.104149</td>\n",
       "      <td>3</td>\n",
       "      <td>63</td>\n",
       "      <td>16.72</td>\n",
       "      <td>10.872150</td>\n",
       "      <td>2</td>\n",
       "      <td>55</td>\n",
       "    </tr>\n",
       "    <tr>\n",
       "      <th>comma_separated_input</th>\n",
       "      <td>171.54</td>\n",
       "      <td>24.452973</td>\n",
       "      <td>136</td>\n",
       "      <td>224</td>\n",
       "      <td>13.48</td>\n",
       "      <td>7.730930</td>\n",
       "      <td>3</td>\n",
       "      <td>37</td>\n",
       "      <td>13.80</td>\n",
       "      <td>8.366600</td>\n",
       "      <td>3</td>\n",
       "      <td>43</td>\n",
       "    </tr>\n",
       "    <tr>\n",
       "      <th>comma_separated_output</th>\n",
       "      <td>81.91</td>\n",
       "      <td>26.265965</td>\n",
       "      <td>59</td>\n",
       "      <td>213</td>\n",
       "      <td>27.79</td>\n",
       "      <td>23.396147</td>\n",
       "      <td>4</td>\n",
       "      <td>87</td>\n",
       "      <td>27.16</td>\n",
       "      <td>21.573328</td>\n",
       "      <td>4</td>\n",
       "      <td>86</td>\n",
       "    </tr>\n",
       "    <tr>\n",
       "      <th>math_textbook</th>\n",
       "      <td>122.42</td>\n",
       "      <td>28.123171</td>\n",
       "      <td>77</td>\n",
       "      <td>212</td>\n",
       "      <td>126.18</td>\n",
       "      <td>46.892178</td>\n",
       "      <td>53</td>\n",
       "      <td>218</td>\n",
       "      <td>125.33</td>\n",
       "      <td>44.276691</td>\n",
       "      <td>49</td>\n",
       "      <td>218</td>\n",
       "    </tr>\n",
       "    <tr>\n",
       "      <th>ranking_logic_hard</th>\n",
       "      <td>135.92</td>\n",
       "      <td>13.586000</td>\n",
       "      <td>109</td>\n",
       "      <td>158</td>\n",
       "      <td>4.00</td>\n",
       "      <td>0.000000</td>\n",
       "      <td>4</td>\n",
       "      <td>4</td>\n",
       "      <td>4.00</td>\n",
       "      <td>0.000000</td>\n",
       "      <td>4</td>\n",
       "      <td>4</td>\n",
       "    </tr>\n",
       "    <tr>\n",
       "      <th>ranking_logic</th>\n",
       "      <td>133.39</td>\n",
       "      <td>17.139296</td>\n",
       "      <td>97</td>\n",
       "      <td>157</td>\n",
       "      <td>4.00</td>\n",
       "      <td>0.000000</td>\n",
       "      <td>4</td>\n",
       "      <td>4</td>\n",
       "      <td>4.00</td>\n",
       "      <td>0.000000</td>\n",
       "      <td>4</td>\n",
       "      <td>4</td>\n",
       "    </tr>\n",
       "    <tr>\n",
       "      <th>survival_influence</th>\n",
       "      <td>109.22</td>\n",
       "      <td>14.741942</td>\n",
       "      <td>85</td>\n",
       "      <td>152</td>\n",
       "      <td>17.71</td>\n",
       "      <td>13.916268</td>\n",
       "      <td>4</td>\n",
       "      <td>103</td>\n",
       "      <td>14.34</td>\n",
       "      <td>8.658761</td>\n",
       "      <td>3</td>\n",
       "      <td>49</td>\n",
       "    </tr>\n",
       "    <tr>\n",
       "      <th>alpaca_short</th>\n",
       "      <td>53.86</td>\n",
       "      <td>18.877072</td>\n",
       "      <td>29</td>\n",
       "      <td>150</td>\n",
       "      <td>9.88</td>\n",
       "      <td>17.753805</td>\n",
       "      <td>2</td>\n",
       "      <td>109</td>\n",
       "      <td>32.41</td>\n",
       "      <td>52.140078</td>\n",
       "      <td>3</td>\n",
       "      <td>293</td>\n",
       "    </tr>\n",
       "    <tr>\n",
       "      <th>math_fiction</th>\n",
       "      <td>120.01</td>\n",
       "      <td>10.514535</td>\n",
       "      <td>96</td>\n",
       "      <td>149</td>\n",
       "      <td>75.89</td>\n",
       "      <td>27.695274</td>\n",
       "      <td>31</td>\n",
       "      <td>140</td>\n",
       "      <td>76.94</td>\n",
       "      <td>27.299987</td>\n",
       "      <td>31</td>\n",
       "      <td>140</td>\n",
       "    </tr>\n",
       "    <tr>\n",
       "      <th>alpaca_hard</th>\n",
       "      <td>63.16</td>\n",
       "      <td>23.116621</td>\n",
       "      <td>36</td>\n",
       "      <td>148</td>\n",
       "      <td>100.10</td>\n",
       "      <td>43.987257</td>\n",
       "      <td>17</td>\n",
       "      <td>223</td>\n",
       "      <td>83.59</td>\n",
       "      <td>35.756216</td>\n",
       "      <td>17</td>\n",
       "      <td>158</td>\n",
       "    </tr>\n",
       "    <tr>\n",
       "      <th>sycophancy_are_you_sure</th>\n",
       "      <td>100.39</td>\n",
       "      <td>17.118066</td>\n",
       "      <td>77</td>\n",
       "      <td>147</td>\n",
       "      <td>15.49</td>\n",
       "      <td>3.608338</td>\n",
       "      <td>12</td>\n",
       "      <td>29</td>\n",
       "      <td>18.19</td>\n",
       "      <td>2.987161</td>\n",
       "      <td>15</td>\n",
       "      <td>29</td>\n",
       "    </tr>\n",
       "    <tr>\n",
       "      <th>ranking_logic_easy</th>\n",
       "      <td>132.36</td>\n",
       "      <td>6.525041</td>\n",
       "      <td>125</td>\n",
       "      <td>147</td>\n",
       "      <td>4.00</td>\n",
       "      <td>0.000000</td>\n",
       "      <td>4</td>\n",
       "      <td>4</td>\n",
       "      <td>4.00</td>\n",
       "      <td>0.000000</td>\n",
       "      <td>4</td>\n",
       "      <td>4</td>\n",
       "    </tr>\n",
       "    <tr>\n",
       "      <th>pursue_goals</th>\n",
       "      <td>120.17</td>\n",
       "      <td>9.864798</td>\n",
       "      <td>98</td>\n",
       "      <td>141</td>\n",
       "      <td>37.84</td>\n",
       "      <td>7.276252</td>\n",
       "      <td>23</td>\n",
       "      <td>59</td>\n",
       "      <td>29.41</td>\n",
       "      <td>4.320716</td>\n",
       "      <td>21</td>\n",
       "      <td>40</td>\n",
       "    </tr>\n",
       "    <tr>\n",
       "      <th>sycophancy_answer</th>\n",
       "      <td>83.11</td>\n",
       "      <td>15.223516</td>\n",
       "      <td>67</td>\n",
       "      <td>134</td>\n",
       "      <td>5.77</td>\n",
       "      <td>3.469506</td>\n",
       "      <td>2</td>\n",
       "      <td>22</td>\n",
       "      <td>5.55</td>\n",
       "      <td>3.013019</td>\n",
       "      <td>2</td>\n",
       "      <td>19</td>\n",
       "    </tr>\n",
       "    <tr>\n",
       "      <th>us_history_fiction</th>\n",
       "      <td>114.65</td>\n",
       "      <td>6.692941</td>\n",
       "      <td>104</td>\n",
       "      <td>130</td>\n",
       "      <td>86.28</td>\n",
       "      <td>20.314736</td>\n",
       "      <td>56</td>\n",
       "      <td>139</td>\n",
       "      <td>77.22</td>\n",
       "      <td>21.164856</td>\n",
       "      <td>40</td>\n",
       "      <td>135</td>\n",
       "    </tr>\n",
       "    <tr>\n",
       "      <th>math</th>\n",
       "      <td>91.77</td>\n",
       "      <td>16.715598</td>\n",
       "      <td>69</td>\n",
       "      <td>126</td>\n",
       "      <td>83.22</td>\n",
       "      <td>45.414495</td>\n",
       "      <td>13</td>\n",
       "      <td>184</td>\n",
       "      <td>83.37</td>\n",
       "      <td>45.311861</td>\n",
       "      <td>13</td>\n",
       "      <td>184</td>\n",
       "    </tr>\n",
       "    <tr>\n",
       "      <th>alpaca_high_quality</th>\n",
       "      <td>45.96</td>\n",
       "      <td>15.968353</td>\n",
       "      <td>27</td>\n",
       "      <td>126</td>\n",
       "      <td>65.56</td>\n",
       "      <td>79.423977</td>\n",
       "      <td>2</td>\n",
       "      <td>425</td>\n",
       "      <td>11.41</td>\n",
       "      <td>11.877400</td>\n",
       "      <td>2</td>\n",
       "      <td>105</td>\n",
       "    </tr>\n",
       "    <tr>\n",
       "      <th>relinquish_power</th>\n",
       "      <td>97.93</td>\n",
       "      <td>7.548169</td>\n",
       "      <td>83</td>\n",
       "      <td>121</td>\n",
       "      <td>42.09</td>\n",
       "      <td>8.864975</td>\n",
       "      <td>21</td>\n",
       "      <td>61</td>\n",
       "      <td>30.78</td>\n",
       "      <td>5.945170</td>\n",
       "      <td>17</td>\n",
       "      <td>45</td>\n",
       "    </tr>\n",
       "    <tr>\n",
       "      <th>arc_easy</th>\n",
       "      <td>48.54</td>\n",
       "      <td>16.749744</td>\n",
       "      <td>32</td>\n",
       "      <td>115</td>\n",
       "      <td>4.74</td>\n",
       "      <td>2.342493</td>\n",
       "      <td>2</td>\n",
       "      <td>11</td>\n",
       "      <td>4.88</td>\n",
       "      <td>2.749766</td>\n",
       "      <td>2</td>\n",
       "      <td>13</td>\n",
       "    </tr>\n",
       "    <tr>\n",
       "      <th>alpaca_low_quality</th>\n",
       "      <td>45.02</td>\n",
       "      <td>15.465818</td>\n",
       "      <td>27</td>\n",
       "      <td>115</td>\n",
       "      <td>11.92</td>\n",
       "      <td>12.422430</td>\n",
       "      <td>2</td>\n",
       "      <td>114</td>\n",
       "      <td>13.05</td>\n",
       "      <td>8.541491</td>\n",
       "      <td>2</td>\n",
       "      <td>48</td>\n",
       "    </tr>\n",
       "    <tr>\n",
       "      <th>arc_hard</th>\n",
       "      <td>52.23</td>\n",
       "      <td>17.538330</td>\n",
       "      <td>35</td>\n",
       "      <td>112</td>\n",
       "      <td>6.97</td>\n",
       "      <td>3.849321</td>\n",
       "      <td>2</td>\n",
       "      <td>20</td>\n",
       "      <td>6.52</td>\n",
       "      <td>3.069827</td>\n",
       "      <td>2</td>\n",
       "      <td>15</td>\n",
       "    </tr>\n",
       "    <tr>\n",
       "      <th>wrong_arc</th>\n",
       "      <td>66.94</td>\n",
       "      <td>13.240449</td>\n",
       "      <td>50</td>\n",
       "      <td>111</td>\n",
       "      <td>5.36</td>\n",
       "      <td>2.989949</td>\n",
       "      <td>2</td>\n",
       "      <td>16</td>\n",
       "      <td>5.21</td>\n",
       "      <td>2.913899</td>\n",
       "      <td>2</td>\n",
       "      <td>16</td>\n",
       "    </tr>\n",
       "    <tr>\n",
       "      <th>alpaca_mmlu</th>\n",
       "      <td>50.03</td>\n",
       "      <td>15.136720</td>\n",
       "      <td>31</td>\n",
       "      <td>110</td>\n",
       "      <td>15.92</td>\n",
       "      <td>8.912232</td>\n",
       "      <td>2</td>\n",
       "      <td>36</td>\n",
       "      <td>15.49</td>\n",
       "      <td>9.634214</td>\n",
       "      <td>2</td>\n",
       "      <td>46</td>\n",
       "    </tr>\n",
       "    <tr>\n",
       "      <th>gender_bias</th>\n",
       "      <td>99.44</td>\n",
       "      <td>3.793455</td>\n",
       "      <td>92</td>\n",
       "      <td>110</td>\n",
       "      <td>2.00</td>\n",
       "      <td>0.000000</td>\n",
       "      <td>2</td>\n",
       "      <td>2</td>\n",
       "      <td>2.00</td>\n",
       "      <td>0.000000</td>\n",
       "      <td>2</td>\n",
       "      <td>2</td>\n",
       "    </tr>\n",
       "    <tr>\n",
       "      <th>us_history_textbook</th>\n",
       "      <td>78.74</td>\n",
       "      <td>9.311251</td>\n",
       "      <td>65</td>\n",
       "      <td>101</td>\n",
       "      <td>67.47</td>\n",
       "      <td>15.915468</td>\n",
       "      <td>45</td>\n",
       "      <td>118</td>\n",
       "      <td>68.30</td>\n",
       "      <td>17.803926</td>\n",
       "      <td>42</td>\n",
       "      <td>124</td>\n",
       "    </tr>\n",
       "    <tr>\n",
       "      <th>sycophancy_mimicry</th>\n",
       "      <td>71.82</td>\n",
       "      <td>8.185205</td>\n",
       "      <td>60</td>\n",
       "      <td>99</td>\n",
       "      <td>45.42</td>\n",
       "      <td>5.568998</td>\n",
       "      <td>34</td>\n",
       "      <td>67</td>\n",
       "      <td>34.28</td>\n",
       "      <td>5.720917</td>\n",
       "      <td>20</td>\n",
       "      <td>47</td>\n",
       "    </tr>\n",
       "    <tr>\n",
       "      <th>code_easy</th>\n",
       "      <td>69.40</td>\n",
       "      <td>8.377459</td>\n",
       "      <td>58</td>\n",
       "      <td>97</td>\n",
       "      <td>28.22</td>\n",
       "      <td>18.157326</td>\n",
       "      <td>7</td>\n",
       "      <td>79</td>\n",
       "      <td>29.74</td>\n",
       "      <td>17.822140</td>\n",
       "      <td>9</td>\n",
       "      <td>82</td>\n",
       "    </tr>\n",
       "    <tr>\n",
       "      <th>raven_easy</th>\n",
       "      <td>97.00</td>\n",
       "      <td>0.000000</td>\n",
       "      <td>97</td>\n",
       "      <td>97</td>\n",
       "      <td>2.06</td>\n",
       "      <td>0.238683</td>\n",
       "      <td>2</td>\n",
       "      <td>3</td>\n",
       "      <td>2.24</td>\n",
       "      <td>0.429235</td>\n",
       "      <td>2</td>\n",
       "      <td>3</td>\n",
       "    </tr>\n",
       "    <tr>\n",
       "      <th>cooking</th>\n",
       "      <td>71.79</td>\n",
       "      <td>8.782783</td>\n",
       "      <td>60</td>\n",
       "      <td>97</td>\n",
       "      <td>110.13</td>\n",
       "      <td>33.466297</td>\n",
       "      <td>66</td>\n",
       "      <td>206</td>\n",
       "      <td>111.28</td>\n",
       "      <td>34.754283</td>\n",
       "      <td>66</td>\n",
       "      <td>211</td>\n",
       "    </tr>\n",
       "    <tr>\n",
       "      <th>math_easy</th>\n",
       "      <td>82.66</td>\n",
       "      <td>4.381365</td>\n",
       "      <td>68</td>\n",
       "      <td>93</td>\n",
       "      <td>27.92</td>\n",
       "      <td>14.798771</td>\n",
       "      <td>11</td>\n",
       "      <td>54</td>\n",
       "      <td>28.54</td>\n",
       "      <td>14.513957</td>\n",
       "      <td>11</td>\n",
       "      <td>54</td>\n",
       "    </tr>\n",
       "    <tr>\n",
       "      <th>alpaca_chat</th>\n",
       "      <td>69.73</td>\n",
       "      <td>6.994738</td>\n",
       "      <td>59</td>\n",
       "      <td>93</td>\n",
       "      <td>17.76</td>\n",
       "      <td>14.867169</td>\n",
       "      <td>2</td>\n",
       "      <td>72</td>\n",
       "      <td>17.15</td>\n",
       "      <td>15.572817</td>\n",
       "      <td>2</td>\n",
       "      <td>75</td>\n",
       "    </tr>\n",
       "    <tr>\n",
       "      <th>alpaca_long</th>\n",
       "      <td>39.52</td>\n",
       "      <td>11.856448</td>\n",
       "      <td>29</td>\n",
       "      <td>92</td>\n",
       "      <td>69.16</td>\n",
       "      <td>56.406662</td>\n",
       "      <td>6</td>\n",
       "      <td>326</td>\n",
       "      <td>9.05</td>\n",
       "      <td>4.778688</td>\n",
       "      <td>2</td>\n",
       "      <td>27</td>\n",
       "    </tr>\n",
       "    <tr>\n",
       "      <th>spanish_input</th>\n",
       "      <td>64.88</td>\n",
       "      <td>13.030872</td>\n",
       "      <td>49</td>\n",
       "      <td>92</td>\n",
       "      <td>16.31</td>\n",
       "      <td>13.539090</td>\n",
       "      <td>3</td>\n",
       "      <td>71</td>\n",
       "      <td>16.77</td>\n",
       "      <td>14.551098</td>\n",
       "      <td>2</td>\n",
       "      <td>71</td>\n",
       "    </tr>\n",
       "    <tr>\n",
       "      <th>word_swap</th>\n",
       "      <td>68.91</td>\n",
       "      <td>5.361846</td>\n",
       "      <td>61</td>\n",
       "      <td>84</td>\n",
       "      <td>42.54</td>\n",
       "      <td>22.749146</td>\n",
       "      <td>9</td>\n",
       "      <td>95</td>\n",
       "      <td>45.12</td>\n",
       "      <td>23.089322</td>\n",
       "      <td>9</td>\n",
       "      <td>104</td>\n",
       "    </tr>\n",
       "    <tr>\n",
       "      <th>crt_3</th>\n",
       "      <td>71.24</td>\n",
       "      <td>4.826526</td>\n",
       "      <td>60</td>\n",
       "      <td>83</td>\n",
       "      <td>3.78</td>\n",
       "      <td>1.235665</td>\n",
       "      <td>3</td>\n",
       "      <td>9</td>\n",
       "      <td>3.72</td>\n",
       "      <td>1.083205</td>\n",
       "      <td>3</td>\n",
       "      <td>9</td>\n",
       "    </tr>\n",
       "    <tr>\n",
       "      <th>us_history_make_questions</th>\n",
       "      <td>68.70</td>\n",
       "      <td>5.161043</td>\n",
       "      <td>61</td>\n",
       "      <td>82</td>\n",
       "      <td>58.24</td>\n",
       "      <td>15.019260</td>\n",
       "      <td>28</td>\n",
       "      <td>96</td>\n",
       "      <td>41.05</td>\n",
       "      <td>15.495438</td>\n",
       "      <td>22</td>\n",
       "      <td>82</td>\n",
       "    </tr>\n",
       "    <tr>\n",
       "      <th>personality_traits</th>\n",
       "      <td>66.68</td>\n",
       "      <td>3.314736</td>\n",
       "      <td>59</td>\n",
       "      <td>78</td>\n",
       "      <td>2.00</td>\n",
       "      <td>0.000000</td>\n",
       "      <td>2</td>\n",
       "      <td>2</td>\n",
       "      <td>2.00</td>\n",
       "      <td>0.000000</td>\n",
       "      <td>2</td>\n",
       "      <td>2</td>\n",
       "    </tr>\n",
       "    <tr>\n",
       "      <th>unhelpful_alpaca</th>\n",
       "      <td>62.34</td>\n",
       "      <td>4.360567</td>\n",
       "      <td>57</td>\n",
       "      <td>76</td>\n",
       "      <td>75.76</td>\n",
       "      <td>14.542949</td>\n",
       "      <td>49</td>\n",
       "      <td>115</td>\n",
       "      <td>47.99</td>\n",
       "      <td>17.004156</td>\n",
       "      <td>15</td>\n",
       "      <td>121</td>\n",
       "    </tr>\n",
       "    <tr>\n",
       "      <th>crt_1</th>\n",
       "      <td>69.53</td>\n",
       "      <td>2.249377</td>\n",
       "      <td>63</td>\n",
       "      <td>75</td>\n",
       "      <td>4.00</td>\n",
       "      <td>0.000000</td>\n",
       "      <td>4</td>\n",
       "      <td>4</td>\n",
       "      <td>4.00</td>\n",
       "      <td>0.000000</td>\n",
       "      <td>4</td>\n",
       "      <td>4</td>\n",
       "    </tr>\n",
       "    <tr>\n",
       "      <th>spanish_output</th>\n",
       "      <td>49.24</td>\n",
       "      <td>9.438926</td>\n",
       "      <td>36</td>\n",
       "      <td>72</td>\n",
       "      <td>24.35</td>\n",
       "      <td>14.740431</td>\n",
       "      <td>6</td>\n",
       "      <td>68</td>\n",
       "      <td>21.99</td>\n",
       "      <td>12.325956</td>\n",
       "      <td>3</td>\n",
       "      <td>49</td>\n",
       "    </tr>\n",
       "    <tr>\n",
       "      <th>illegal_dont_help</th>\n",
       "      <td>62.92</td>\n",
       "      <td>2.869836</td>\n",
       "      <td>59</td>\n",
       "      <td>71</td>\n",
       "      <td>45.10</td>\n",
       "      <td>5.864635</td>\n",
       "      <td>37</td>\n",
       "      <td>61</td>\n",
       "      <td>44.82</td>\n",
       "      <td>13.306321</td>\n",
       "      <td>19</td>\n",
       "      <td>77</td>\n",
       "    </tr>\n",
       "    <tr>\n",
       "      <th>math_make_questions</th>\n",
       "      <td>63.79</td>\n",
       "      <td>2.972245</td>\n",
       "      <td>59</td>\n",
       "      <td>70</td>\n",
       "      <td>39.99</td>\n",
       "      <td>19.805364</td>\n",
       "      <td>12</td>\n",
       "      <td>83</td>\n",
       "      <td>43.59</td>\n",
       "      <td>19.262197</td>\n",
       "      <td>9</td>\n",
       "      <td>83</td>\n",
       "    </tr>\n",
       "    <tr>\n",
       "      <th>crt_2</th>\n",
       "      <td>57.20</td>\n",
       "      <td>1.885618</td>\n",
       "      <td>55</td>\n",
       "      <td>63</td>\n",
       "      <td>3.96</td>\n",
       "      <td>1.004233</td>\n",
       "      <td>3</td>\n",
       "      <td>5</td>\n",
       "      <td>3.96</td>\n",
       "      <td>1.004233</td>\n",
       "      <td>3</td>\n",
       "      <td>5</td>\n",
       "    </tr>\n",
       "    <tr>\n",
       "      <th>truthful_qa</th>\n",
       "      <td>37.51</td>\n",
       "      <td>4.856517</td>\n",
       "      <td>32</td>\n",
       "      <td>53</td>\n",
       "      <td>12.44</td>\n",
       "      <td>4.316564</td>\n",
       "      <td>4</td>\n",
       "      <td>22</td>\n",
       "      <td>11.54</td>\n",
       "      <td>4.063685</td>\n",
       "      <td>3</td>\n",
       "      <td>22</td>\n",
       "    </tr>\n",
       "    <tr>\n",
       "      <th>biology_with_literary_style</th>\n",
       "      <td>51.00</td>\n",
       "      <td>0.000000</td>\n",
       "      <td>51</td>\n",
       "      <td>51</td>\n",
       "      <td>81.81</td>\n",
       "      <td>18.131782</td>\n",
       "      <td>53</td>\n",
       "      <td>119</td>\n",
       "      <td>54.10</td>\n",
       "      <td>11.259564</td>\n",
       "      <td>32</td>\n",
       "      <td>100</td>\n",
       "    </tr>\n",
       "    <tr>\n",
       "      <th>creative_writing</th>\n",
       "      <td>43.68</td>\n",
       "      <td>3.946306</td>\n",
       "      <td>36</td>\n",
       "      <td>50</td>\n",
       "      <td>55.68</td>\n",
       "      <td>15.871250</td>\n",
       "      <td>10</td>\n",
       "      <td>96</td>\n",
       "      <td>34.32</td>\n",
       "      <td>14.756529</td>\n",
       "      <td>11</td>\n",
       "      <td>99</td>\n",
       "    </tr>\n",
       "    <tr>\n",
       "      <th>alpaca_easy</th>\n",
       "      <td>37.99</td>\n",
       "      <td>3.932499</td>\n",
       "      <td>31</td>\n",
       "      <td>46</td>\n",
       "      <td>11.78</td>\n",
       "      <td>5.370289</td>\n",
       "      <td>2</td>\n",
       "      <td>24</td>\n",
       "      <td>13.78</td>\n",
       "      <td>13.428133</td>\n",
       "      <td>2</td>\n",
       "      <td>92</td>\n",
       "    </tr>\n",
       "  </tbody>\n",
       "</table>\n",
       "</div>"
      ],
      "text/plain": [
       "                             prompt_len_mean  prompt_len_std  prompt_len_min  \\\n",
       "dist                                                                           \n",
       "raven_matrices                        283.51       83.273250             172   \n",
       "us_history                            125.86      121.267883              58   \n",
       "shp_high_quality                      155.74       81.327076              63   \n",
       "shp_low_quality                       152.70       76.163235              69   \n",
       "code_low_quality                      157.62       90.702509              76   \n",
       "code                                  127.38       74.565920              63   \n",
       "change_my_view                        252.11       47.784638             169   \n",
       "code_hard                             193.34       80.733283              74   \n",
       "counterfactual_python                 132.89       48.637163              78   \n",
       "sycophancy_feedback                   146.78       43.510960              78   \n",
       "math_hard                             117.05       48.153873              69   \n",
       "reward_seeking                         81.68       28.163620              54   \n",
       "punishment_avoidance                   85.24       28.899030              51   \n",
       "comma_separated_input                 171.54       24.452973             136   \n",
       "comma_separated_output                 81.91       26.265965              59   \n",
       "math_textbook                         122.42       28.123171              77   \n",
       "ranking_logic_hard                    135.92       13.586000             109   \n",
       "ranking_logic                         133.39       17.139296              97   \n",
       "survival_influence                    109.22       14.741942              85   \n",
       "alpaca_short                           53.86       18.877072              29   \n",
       "math_fiction                          120.01       10.514535              96   \n",
       "alpaca_hard                            63.16       23.116621              36   \n",
       "sycophancy_are_you_sure               100.39       17.118066              77   \n",
       "ranking_logic_easy                    132.36        6.525041             125   \n",
       "pursue_goals                          120.17        9.864798              98   \n",
       "sycophancy_answer                      83.11       15.223516              67   \n",
       "us_history_fiction                    114.65        6.692941             104   \n",
       "math                                   91.77       16.715598              69   \n",
       "alpaca_high_quality                    45.96       15.968353              27   \n",
       "relinquish_power                       97.93        7.548169              83   \n",
       "arc_easy                               48.54       16.749744              32   \n",
       "alpaca_low_quality                     45.02       15.465818              27   \n",
       "arc_hard                               52.23       17.538330              35   \n",
       "wrong_arc                              66.94       13.240449              50   \n",
       "alpaca_mmlu                            50.03       15.136720              31   \n",
       "gender_bias                            99.44        3.793455              92   \n",
       "us_history_textbook                    78.74        9.311251              65   \n",
       "sycophancy_mimicry                     71.82        8.185205              60   \n",
       "code_easy                              69.40        8.377459              58   \n",
       "raven_easy                             97.00        0.000000              97   \n",
       "cooking                                71.79        8.782783              60   \n",
       "math_easy                              82.66        4.381365              68   \n",
       "alpaca_chat                            69.73        6.994738              59   \n",
       "alpaca_long                            39.52       11.856448              29   \n",
       "spanish_input                          64.88       13.030872              49   \n",
       "word_swap                              68.91        5.361846              61   \n",
       "crt_3                                  71.24        4.826526              60   \n",
       "us_history_make_questions              68.70        5.161043              61   \n",
       "personality_traits                     66.68        3.314736              59   \n",
       "unhelpful_alpaca                       62.34        4.360567              57   \n",
       "crt_1                                  69.53        2.249377              63   \n",
       "spanish_output                         49.24        9.438926              36   \n",
       "illegal_dont_help                      62.92        2.869836              59   \n",
       "math_make_questions                    63.79        2.972245              59   \n",
       "crt_2                                  57.20        1.885618              55   \n",
       "truthful_qa                            37.51        4.856517              32   \n",
       "biology_with_literary_style            51.00        0.000000              51   \n",
       "creative_writing                       43.68        3.946306              36   \n",
       "alpaca_easy                            37.99        3.932499              31   \n",
       "\n",
       "                             prompt_len_max  chosen_len_mean  chosen_len_std  \\\n",
       "dist                                                                           \n",
       "raven_matrices                          494            26.70       11.836001   \n",
       "us_history                              477            65.11       50.582645   \n",
       "shp_high_quality                        439           112.34       87.715129   \n",
       "shp_low_quality                         416            87.33       77.350449   \n",
       "code_low_quality                        385           113.00       72.350159   \n",
       "code                                    380           101.52       72.211457   \n",
       "change_my_view                          377           107.27       58.332183   \n",
       "code_hard                               355           153.39       62.680510   \n",
       "counterfactual_python                   302            82.03       67.057409   \n",
       "sycophancy_feedback                     294            11.32        1.496663   \n",
       "math_hard                               268           110.21       35.468949   \n",
       "reward_seeking                          267            17.18       11.663099   \n",
       "punishment_avoidance                    232            16.47       11.104149   \n",
       "comma_separated_input                   224            13.48        7.730930   \n",
       "comma_separated_output                  213            27.79       23.396147   \n",
       "math_textbook                           212           126.18       46.892178   \n",
       "ranking_logic_hard                      158             4.00        0.000000   \n",
       "ranking_logic                           157             4.00        0.000000   \n",
       "survival_influence                      152            17.71       13.916268   \n",
       "alpaca_short                            150             9.88       17.753805   \n",
       "math_fiction                            149            75.89       27.695274   \n",
       "alpaca_hard                             148           100.10       43.987257   \n",
       "sycophancy_are_you_sure                 147            15.49        3.608338   \n",
       "ranking_logic_easy                      147             4.00        0.000000   \n",
       "pursue_goals                            141            37.84        7.276252   \n",
       "sycophancy_answer                       134             5.77        3.469506   \n",
       "us_history_fiction                      130            86.28       20.314736   \n",
       "math                                    126            83.22       45.414495   \n",
       "alpaca_high_quality                     126            65.56       79.423977   \n",
       "relinquish_power                        121            42.09        8.864975   \n",
       "arc_easy                                115             4.74        2.342493   \n",
       "alpaca_low_quality                      115            11.92       12.422430   \n",
       "arc_hard                                112             6.97        3.849321   \n",
       "wrong_arc                               111             5.36        2.989949   \n",
       "alpaca_mmlu                             110            15.92        8.912232   \n",
       "gender_bias                             110             2.00        0.000000   \n",
       "us_history_textbook                     101            67.47       15.915468   \n",
       "sycophancy_mimicry                       99            45.42        5.568998   \n",
       "code_easy                                97            28.22       18.157326   \n",
       "raven_easy                               97             2.06        0.238683   \n",
       "cooking                                  97           110.13       33.466297   \n",
       "math_easy                                93            27.92       14.798771   \n",
       "alpaca_chat                              93            17.76       14.867169   \n",
       "alpaca_long                              92            69.16       56.406662   \n",
       "spanish_input                            92            16.31       13.539090   \n",
       "word_swap                                84            42.54       22.749146   \n",
       "crt_3                                    83             3.78        1.235665   \n",
       "us_history_make_questions                82            58.24       15.019260   \n",
       "personality_traits                       78             2.00        0.000000   \n",
       "unhelpful_alpaca                         76            75.76       14.542949   \n",
       "crt_1                                    75             4.00        0.000000   \n",
       "spanish_output                           72            24.35       14.740431   \n",
       "illegal_dont_help                        71            45.10        5.864635   \n",
       "math_make_questions                      70            39.99       19.805364   \n",
       "crt_2                                    63             3.96        1.004233   \n",
       "truthful_qa                              53            12.44        4.316564   \n",
       "biology_with_literary_style              51            81.81       18.131782   \n",
       "creative_writing                         50            55.68       15.871250   \n",
       "alpaca_easy                              46            11.78        5.370289   \n",
       "\n",
       "                             chosen_len_min  chosen_len_max  \\\n",
       "dist                                                          \n",
       "raven_matrices                           12              59   \n",
       "us_history                                3             165   \n",
       "shp_high_quality                          8             375   \n",
       "shp_low_quality                           4             317   \n",
       "code_low_quality                         29             336   \n",
       "code                                     12             294   \n",
       "change_my_view                           12             260   \n",
       "code_hard                                81             361   \n",
       "counterfactual_python                    11             271   \n",
       "sycophancy_feedback                      10              13   \n",
       "math_hard                                43             170   \n",
       "reward_seeking                            2              57   \n",
       "punishment_avoidance                      3              63   \n",
       "comma_separated_input                     3              37   \n",
       "comma_separated_output                    4              87   \n",
       "math_textbook                            53             218   \n",
       "ranking_logic_hard                        4               4   \n",
       "ranking_logic                             4               4   \n",
       "survival_influence                        4             103   \n",
       "alpaca_short                              2             109   \n",
       "math_fiction                             31             140   \n",
       "alpaca_hard                              17             223   \n",
       "sycophancy_are_you_sure                  12              29   \n",
       "ranking_logic_easy                        4               4   \n",
       "pursue_goals                             23              59   \n",
       "sycophancy_answer                         2              22   \n",
       "us_history_fiction                       56             139   \n",
       "math                                     13             184   \n",
       "alpaca_high_quality                       2             425   \n",
       "relinquish_power                         21              61   \n",
       "arc_easy                                  2              11   \n",
       "alpaca_low_quality                        2             114   \n",
       "arc_hard                                  2              20   \n",
       "wrong_arc                                 2              16   \n",
       "alpaca_mmlu                               2              36   \n",
       "gender_bias                               2               2   \n",
       "us_history_textbook                      45             118   \n",
       "sycophancy_mimicry                       34              67   \n",
       "code_easy                                 7              79   \n",
       "raven_easy                                2               3   \n",
       "cooking                                  66             206   \n",
       "math_easy                                11              54   \n",
       "alpaca_chat                               2              72   \n",
       "alpaca_long                               6             326   \n",
       "spanish_input                             3              71   \n",
       "word_swap                                 9              95   \n",
       "crt_3                                     3               9   \n",
       "us_history_make_questions                28              96   \n",
       "personality_traits                        2               2   \n",
       "unhelpful_alpaca                         49             115   \n",
       "crt_1                                     4               4   \n",
       "spanish_output                            6              68   \n",
       "illegal_dont_help                        37              61   \n",
       "math_make_questions                      12              83   \n",
       "crt_2                                     3               5   \n",
       "truthful_qa                               4              22   \n",
       "biology_with_literary_style              53             119   \n",
       "creative_writing                         10              96   \n",
       "alpaca_easy                               2              24   \n",
       "\n",
       "                             rejected_len_mean  rejected_len_std  \\\n",
       "dist                                                               \n",
       "raven_matrices                           28.15         15.078498   \n",
       "us_history                               52.43         38.353027   \n",
       "shp_high_quality                         87.77         69.777548   \n",
       "shp_low_quality                          55.77         49.071553   \n",
       "code_low_quality                        111.85         70.536669   \n",
       "code                                     95.64         61.897687   \n",
       "change_my_view                           78.81         52.423238   \n",
       "code_hard                               141.37         56.079787   \n",
       "counterfactual_python                    77.21         61.778080   \n",
       "sycophancy_feedback                      11.68          1.496663   \n",
       "math_hard                               110.23         35.227645   \n",
       "reward_seeking                           15.82         10.610058   \n",
       "punishment_avoidance                     16.72         10.872150   \n",
       "comma_separated_input                    13.80          8.366600   \n",
       "comma_separated_output                   27.16         21.573328   \n",
       "math_textbook                           125.33         44.276691   \n",
       "ranking_logic_hard                        4.00          0.000000   \n",
       "ranking_logic                             4.00          0.000000   \n",
       "survival_influence                       14.34          8.658761   \n",
       "alpaca_short                             32.41         52.140078   \n",
       "math_fiction                             76.94         27.299987   \n",
       "alpaca_hard                              83.59         35.756216   \n",
       "sycophancy_are_you_sure                  18.19          2.987161   \n",
       "ranking_logic_easy                        4.00          0.000000   \n",
       "pursue_goals                             29.41          4.320716   \n",
       "sycophancy_answer                         5.55          3.013019   \n",
       "us_history_fiction                       77.22         21.164856   \n",
       "math                                     83.37         45.311861   \n",
       "alpaca_high_quality                      11.41         11.877400   \n",
       "relinquish_power                         30.78          5.945170   \n",
       "arc_easy                                  4.88          2.749766   \n",
       "alpaca_low_quality                       13.05          8.541491   \n",
       "arc_hard                                  6.52          3.069827   \n",
       "wrong_arc                                 5.21          2.913899   \n",
       "alpaca_mmlu                              15.49          9.634214   \n",
       "gender_bias                               2.00          0.000000   \n",
       "us_history_textbook                      68.30         17.803926   \n",
       "sycophancy_mimicry                       34.28          5.720917   \n",
       "code_easy                                29.74         17.822140   \n",
       "raven_easy                                2.24          0.429235   \n",
       "cooking                                 111.28         34.754283   \n",
       "math_easy                                28.54         14.513957   \n",
       "alpaca_chat                              17.15         15.572817   \n",
       "alpaca_long                               9.05          4.778688   \n",
       "spanish_input                            16.77         14.551098   \n",
       "word_swap                                45.12         23.089322   \n",
       "crt_3                                     3.72          1.083205   \n",
       "us_history_make_questions                41.05         15.495438   \n",
       "personality_traits                        2.00          0.000000   \n",
       "unhelpful_alpaca                         47.99         17.004156   \n",
       "crt_1                                     4.00          0.000000   \n",
       "spanish_output                           21.99         12.325956   \n",
       "illegal_dont_help                        44.82         13.306321   \n",
       "math_make_questions                      43.59         19.262197   \n",
       "crt_2                                     3.96          1.004233   \n",
       "truthful_qa                              11.54          4.063685   \n",
       "biology_with_literary_style              54.10         11.259564   \n",
       "creative_writing                         34.32         14.756529   \n",
       "alpaca_easy                              13.78         13.428133   \n",
       "\n",
       "                             rejected_len_min  rejected_len_max  \n",
       "dist                                                             \n",
       "raven_matrices                             12                91  \n",
       "us_history                                  3               159  \n",
       "shp_high_quality                            3               371  \n",
       "shp_low_quality                             2               255  \n",
       "code_low_quality                           29               346  \n",
       "code                                        9               294  \n",
       "change_my_view                              5               256  \n",
       "code_hard                                  33               365  \n",
       "counterfactual_python                      14               279  \n",
       "sycophancy_feedback                        10                13  \n",
       "math_hard                                  43               170  \n",
       "reward_seeking                              3                60  \n",
       "punishment_avoidance                        2                55  \n",
       "comma_separated_input                       3                43  \n",
       "comma_separated_output                      4                86  \n",
       "math_textbook                              49               218  \n",
       "ranking_logic_hard                          4                 4  \n",
       "ranking_logic                               4                 4  \n",
       "survival_influence                          3                49  \n",
       "alpaca_short                                3               293  \n",
       "math_fiction                               31               140  \n",
       "alpaca_hard                                17               158  \n",
       "sycophancy_are_you_sure                    15                29  \n",
       "ranking_logic_easy                          4                 4  \n",
       "pursue_goals                               21                40  \n",
       "sycophancy_answer                           2                19  \n",
       "us_history_fiction                         40               135  \n",
       "math                                       13               184  \n",
       "alpaca_high_quality                         2               105  \n",
       "relinquish_power                           17                45  \n",
       "arc_easy                                    2                13  \n",
       "alpaca_low_quality                          2                48  \n",
       "arc_hard                                    2                15  \n",
       "wrong_arc                                   2                16  \n",
       "alpaca_mmlu                                 2                46  \n",
       "gender_bias                                 2                 2  \n",
       "us_history_textbook                        42               124  \n",
       "sycophancy_mimicry                         20                47  \n",
       "code_easy                                   9                82  \n",
       "raven_easy                                  2                 3  \n",
       "cooking                                    66               211  \n",
       "math_easy                                  11                54  \n",
       "alpaca_chat                                 2                75  \n",
       "alpaca_long                                 2                27  \n",
       "spanish_input                               2                71  \n",
       "word_swap                                   9               104  \n",
       "crt_3                                       3                 9  \n",
       "us_history_make_questions                  22                82  \n",
       "personality_traits                          2                 2  \n",
       "unhelpful_alpaca                           15               121  \n",
       "crt_1                                       4                 4  \n",
       "spanish_output                              3                49  \n",
       "illegal_dont_help                          19                77  \n",
       "math_make_questions                         9                83  \n",
       "crt_2                                       3                 5  \n",
       "truthful_qa                                 3                22  \n",
       "biology_with_literary_style                32               100  \n",
       "creative_writing                           11                99  \n",
       "alpaca_easy                                 2                92  "
      ]
     },
     "execution_count": 33,
     "metadata": {},
     "output_type": "execute_result"
    }
   ],
   "source": [
    "df = pd.DataFrame(data)\n",
    "df=df.set_index('dist').sort_values('prompt_len_max')[:: -1]\n",
    "df"
   ]
  },
  {
   "cell_type": "code",
   "execution_count": 34,
   "metadata": {},
   "outputs": [
    {
     "data": {
      "text/html": [
       "<div>\n",
       "<style scoped>\n",
       "    .dataframe tbody tr th:only-of-type {\n",
       "        vertical-align: middle;\n",
       "    }\n",
       "\n",
       "    .dataframe tbody tr th {\n",
       "        vertical-align: top;\n",
       "    }\n",
       "\n",
       "    .dataframe thead th {\n",
       "        text-align: right;\n",
       "    }\n",
       "</style>\n",
       "<table border=\"1\" class=\"dataframe\">\n",
       "  <thead>\n",
       "    <tr style=\"text-align: right;\">\n",
       "      <th></th>\n",
       "      <th>prompt_len_max</th>\n",
       "      <th>chosen_len_max</th>\n",
       "    </tr>\n",
       "    <tr>\n",
       "      <th>dist</th>\n",
       "      <th></th>\n",
       "      <th></th>\n",
       "    </tr>\n",
       "  </thead>\n",
       "  <tbody>\n",
       "    <tr>\n",
       "      <th>raven_matrices</th>\n",
       "      <td>494</td>\n",
       "      <td>59</td>\n",
       "    </tr>\n",
       "    <tr>\n",
       "      <th>us_history</th>\n",
       "      <td>477</td>\n",
       "      <td>165</td>\n",
       "    </tr>\n",
       "    <tr>\n",
       "      <th>shp_high_quality</th>\n",
       "      <td>439</td>\n",
       "      <td>375</td>\n",
       "    </tr>\n",
       "    <tr>\n",
       "      <th>shp_low_quality</th>\n",
       "      <td>416</td>\n",
       "      <td>317</td>\n",
       "    </tr>\n",
       "    <tr>\n",
       "      <th>code_low_quality</th>\n",
       "      <td>385</td>\n",
       "      <td>336</td>\n",
       "    </tr>\n",
       "    <tr>\n",
       "      <th>code</th>\n",
       "      <td>380</td>\n",
       "      <td>294</td>\n",
       "    </tr>\n",
       "    <tr>\n",
       "      <th>change_my_view</th>\n",
       "      <td>377</td>\n",
       "      <td>260</td>\n",
       "    </tr>\n",
       "    <tr>\n",
       "      <th>code_hard</th>\n",
       "      <td>355</td>\n",
       "      <td>361</td>\n",
       "    </tr>\n",
       "    <tr>\n",
       "      <th>counterfactual_python</th>\n",
       "      <td>302</td>\n",
       "      <td>271</td>\n",
       "    </tr>\n",
       "    <tr>\n",
       "      <th>sycophancy_feedback</th>\n",
       "      <td>294</td>\n",
       "      <td>13</td>\n",
       "    </tr>\n",
       "    <tr>\n",
       "      <th>math_hard</th>\n",
       "      <td>268</td>\n",
       "      <td>170</td>\n",
       "    </tr>\n",
       "    <tr>\n",
       "      <th>reward_seeking</th>\n",
       "      <td>267</td>\n",
       "      <td>57</td>\n",
       "    </tr>\n",
       "    <tr>\n",
       "      <th>punishment_avoidance</th>\n",
       "      <td>232</td>\n",
       "      <td>63</td>\n",
       "    </tr>\n",
       "    <tr>\n",
       "      <th>comma_separated_input</th>\n",
       "      <td>224</td>\n",
       "      <td>37</td>\n",
       "    </tr>\n",
       "    <tr>\n",
       "      <th>comma_separated_output</th>\n",
       "      <td>213</td>\n",
       "      <td>87</td>\n",
       "    </tr>\n",
       "    <tr>\n",
       "      <th>math_textbook</th>\n",
       "      <td>212</td>\n",
       "      <td>218</td>\n",
       "    </tr>\n",
       "    <tr>\n",
       "      <th>ranking_logic_hard</th>\n",
       "      <td>158</td>\n",
       "      <td>4</td>\n",
       "    </tr>\n",
       "    <tr>\n",
       "      <th>ranking_logic</th>\n",
       "      <td>157</td>\n",
       "      <td>4</td>\n",
       "    </tr>\n",
       "    <tr>\n",
       "      <th>survival_influence</th>\n",
       "      <td>152</td>\n",
       "      <td>103</td>\n",
       "    </tr>\n",
       "    <tr>\n",
       "      <th>alpaca_short</th>\n",
       "      <td>150</td>\n",
       "      <td>109</td>\n",
       "    </tr>\n",
       "    <tr>\n",
       "      <th>math_fiction</th>\n",
       "      <td>149</td>\n",
       "      <td>140</td>\n",
       "    </tr>\n",
       "    <tr>\n",
       "      <th>alpaca_hard</th>\n",
       "      <td>148</td>\n",
       "      <td>223</td>\n",
       "    </tr>\n",
       "    <tr>\n",
       "      <th>sycophancy_are_you_sure</th>\n",
       "      <td>147</td>\n",
       "      <td>29</td>\n",
       "    </tr>\n",
       "    <tr>\n",
       "      <th>ranking_logic_easy</th>\n",
       "      <td>147</td>\n",
       "      <td>4</td>\n",
       "    </tr>\n",
       "    <tr>\n",
       "      <th>pursue_goals</th>\n",
       "      <td>141</td>\n",
       "      <td>59</td>\n",
       "    </tr>\n",
       "    <tr>\n",
       "      <th>sycophancy_answer</th>\n",
       "      <td>134</td>\n",
       "      <td>22</td>\n",
       "    </tr>\n",
       "    <tr>\n",
       "      <th>us_history_fiction</th>\n",
       "      <td>130</td>\n",
       "      <td>139</td>\n",
       "    </tr>\n",
       "    <tr>\n",
       "      <th>math</th>\n",
       "      <td>126</td>\n",
       "      <td>184</td>\n",
       "    </tr>\n",
       "    <tr>\n",
       "      <th>alpaca_high_quality</th>\n",
       "      <td>126</td>\n",
       "      <td>425</td>\n",
       "    </tr>\n",
       "    <tr>\n",
       "      <th>relinquish_power</th>\n",
       "      <td>121</td>\n",
       "      <td>61</td>\n",
       "    </tr>\n",
       "    <tr>\n",
       "      <th>arc_easy</th>\n",
       "      <td>115</td>\n",
       "      <td>11</td>\n",
       "    </tr>\n",
       "    <tr>\n",
       "      <th>alpaca_low_quality</th>\n",
       "      <td>115</td>\n",
       "      <td>114</td>\n",
       "    </tr>\n",
       "    <tr>\n",
       "      <th>arc_hard</th>\n",
       "      <td>112</td>\n",
       "      <td>20</td>\n",
       "    </tr>\n",
       "    <tr>\n",
       "      <th>wrong_arc</th>\n",
       "      <td>111</td>\n",
       "      <td>16</td>\n",
       "    </tr>\n",
       "    <tr>\n",
       "      <th>alpaca_mmlu</th>\n",
       "      <td>110</td>\n",
       "      <td>36</td>\n",
       "    </tr>\n",
       "    <tr>\n",
       "      <th>gender_bias</th>\n",
       "      <td>110</td>\n",
       "      <td>2</td>\n",
       "    </tr>\n",
       "    <tr>\n",
       "      <th>us_history_textbook</th>\n",
       "      <td>101</td>\n",
       "      <td>118</td>\n",
       "    </tr>\n",
       "    <tr>\n",
       "      <th>sycophancy_mimicry</th>\n",
       "      <td>99</td>\n",
       "      <td>67</td>\n",
       "    </tr>\n",
       "    <tr>\n",
       "      <th>code_easy</th>\n",
       "      <td>97</td>\n",
       "      <td>79</td>\n",
       "    </tr>\n",
       "    <tr>\n",
       "      <th>raven_easy</th>\n",
       "      <td>97</td>\n",
       "      <td>3</td>\n",
       "    </tr>\n",
       "    <tr>\n",
       "      <th>cooking</th>\n",
       "      <td>97</td>\n",
       "      <td>206</td>\n",
       "    </tr>\n",
       "    <tr>\n",
       "      <th>math_easy</th>\n",
       "      <td>93</td>\n",
       "      <td>54</td>\n",
       "    </tr>\n",
       "    <tr>\n",
       "      <th>alpaca_chat</th>\n",
       "      <td>93</td>\n",
       "      <td>72</td>\n",
       "    </tr>\n",
       "    <tr>\n",
       "      <th>alpaca_long</th>\n",
       "      <td>92</td>\n",
       "      <td>326</td>\n",
       "    </tr>\n",
       "    <tr>\n",
       "      <th>spanish_input</th>\n",
       "      <td>92</td>\n",
       "      <td>71</td>\n",
       "    </tr>\n",
       "    <tr>\n",
       "      <th>word_swap</th>\n",
       "      <td>84</td>\n",
       "      <td>95</td>\n",
       "    </tr>\n",
       "    <tr>\n",
       "      <th>crt_3</th>\n",
       "      <td>83</td>\n",
       "      <td>9</td>\n",
       "    </tr>\n",
       "    <tr>\n",
       "      <th>us_history_make_questions</th>\n",
       "      <td>82</td>\n",
       "      <td>96</td>\n",
       "    </tr>\n",
       "    <tr>\n",
       "      <th>personality_traits</th>\n",
       "      <td>78</td>\n",
       "      <td>2</td>\n",
       "    </tr>\n",
       "    <tr>\n",
       "      <th>unhelpful_alpaca</th>\n",
       "      <td>76</td>\n",
       "      <td>115</td>\n",
       "    </tr>\n",
       "    <tr>\n",
       "      <th>crt_1</th>\n",
       "      <td>75</td>\n",
       "      <td>4</td>\n",
       "    </tr>\n",
       "    <tr>\n",
       "      <th>spanish_output</th>\n",
       "      <td>72</td>\n",
       "      <td>68</td>\n",
       "    </tr>\n",
       "    <tr>\n",
       "      <th>illegal_dont_help</th>\n",
       "      <td>71</td>\n",
       "      <td>61</td>\n",
       "    </tr>\n",
       "    <tr>\n",
       "      <th>math_make_questions</th>\n",
       "      <td>70</td>\n",
       "      <td>83</td>\n",
       "    </tr>\n",
       "    <tr>\n",
       "      <th>crt_2</th>\n",
       "      <td>63</td>\n",
       "      <td>5</td>\n",
       "    </tr>\n",
       "    <tr>\n",
       "      <th>truthful_qa</th>\n",
       "      <td>53</td>\n",
       "      <td>22</td>\n",
       "    </tr>\n",
       "    <tr>\n",
       "      <th>biology_with_literary_style</th>\n",
       "      <td>51</td>\n",
       "      <td>119</td>\n",
       "    </tr>\n",
       "    <tr>\n",
       "      <th>creative_writing</th>\n",
       "      <td>50</td>\n",
       "      <td>96</td>\n",
       "    </tr>\n",
       "    <tr>\n",
       "      <th>alpaca_easy</th>\n",
       "      <td>46</td>\n",
       "      <td>24</td>\n",
       "    </tr>\n",
       "  </tbody>\n",
       "</table>\n",
       "</div>"
      ],
      "text/plain": [
       "                             prompt_len_max  chosen_len_max\n",
       "dist                                                       \n",
       "raven_matrices                          494              59\n",
       "us_history                              477             165\n",
       "shp_high_quality                        439             375\n",
       "shp_low_quality                         416             317\n",
       "code_low_quality                        385             336\n",
       "code                                    380             294\n",
       "change_my_view                          377             260\n",
       "code_hard                               355             361\n",
       "counterfactual_python                   302             271\n",
       "sycophancy_feedback                     294              13\n",
       "math_hard                               268             170\n",
       "reward_seeking                          267              57\n",
       "punishment_avoidance                    232              63\n",
       "comma_separated_input                   224              37\n",
       "comma_separated_output                  213              87\n",
       "math_textbook                           212             218\n",
       "ranking_logic_hard                      158               4\n",
       "ranking_logic                           157               4\n",
       "survival_influence                      152             103\n",
       "alpaca_short                            150             109\n",
       "math_fiction                            149             140\n",
       "alpaca_hard                             148             223\n",
       "sycophancy_are_you_sure                 147              29\n",
       "ranking_logic_easy                      147               4\n",
       "pursue_goals                            141              59\n",
       "sycophancy_answer                       134              22\n",
       "us_history_fiction                      130             139\n",
       "math                                    126             184\n",
       "alpaca_high_quality                     126             425\n",
       "relinquish_power                        121              61\n",
       "arc_easy                                115              11\n",
       "alpaca_low_quality                      115             114\n",
       "arc_hard                                112              20\n",
       "wrong_arc                               111              16\n",
       "alpaca_mmlu                             110              36\n",
       "gender_bias                             110               2\n",
       "us_history_textbook                     101             118\n",
       "sycophancy_mimicry                       99              67\n",
       "code_easy                                97              79\n",
       "raven_easy                               97               3\n",
       "cooking                                  97             206\n",
       "math_easy                                93              54\n",
       "alpaca_chat                              93              72\n",
       "alpaca_long                              92             326\n",
       "spanish_input                            92              71\n",
       "word_swap                                84              95\n",
       "crt_3                                    83               9\n",
       "us_history_make_questions                82              96\n",
       "personality_traits                       78               2\n",
       "unhelpful_alpaca                         76             115\n",
       "crt_1                                    75               4\n",
       "spanish_output                           72              68\n",
       "illegal_dont_help                        71              61\n",
       "math_make_questions                      70              83\n",
       "crt_2                                    63               5\n",
       "truthful_qa                              53              22\n",
       "biology_with_literary_style              51             119\n",
       "creative_writing                         50              96\n",
       "alpaca_easy                              46              24"
      ]
     },
     "execution_count": 34,
     "metadata": {},
     "output_type": "execute_result"
    }
   ],
   "source": [
    "df[['prompt_len_max', 'chosen_len_max']]"
   ]
  },
  {
   "cell_type": "code",
   "execution_count": null,
   "metadata": {},
   "outputs": [],
   "source": []
  }
 ],
 "metadata": {
  "kernelspec": {
   "display_name": "Python 3",
   "language": "python",
   "name": "python3"
  },
  "language_info": {
   "codemirror_mode": {
    "name": "ipython",
    "version": 3
   },
   "file_extension": ".py",
   "mimetype": "text/x-python",
   "name": "python",
   "nbconvert_exporter": "python",
   "pygments_lexer": "ipython3",
   "version": "3.10.12"
  }
 },
 "nbformat": 4,
 "nbformat_minor": 2
}
