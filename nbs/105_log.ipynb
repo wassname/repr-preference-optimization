{
 "cells": [
  {
   "cell_type": "code",
   "execution_count": 20,
   "metadata": {},
   "outputs": [],
   "source": [
    "import re, os, sys, json, time, requests\n",
    "from pathlib import Path\n",
    "\n",
    "# TODO just load the parquets and run parse_eval\n",
    "# or run my own eval"
   ]
  },
  {
   "cell_type": "code",
   "execution_count": 21,
   "metadata": {},
   "outputs": [
    {
     "data": {
      "text/plain": [
       "[PosixPath('../outputs/TinyLlama_TinyLlama-1.1B-Chat-v1.0_DPOConfig_us_history_textbook/2024-09-22_06-37-42/eval.parquet'),\n",
       " PosixPath('../outputs/TinyLlama_TinyLlama-1.1B-Chat-v1.0_ReprPOConfig_us_history_textbook/2024-09-22_06-43-02/eval.parquet'),\n",
       " PosixPath('../outputs/TinyLlama_TinyLlama-1.1B-Chat-v1.0_ReprPOConfig_us_history_textbook/2024-09-22_06-48-16/eval.parquet'),\n",
       " PosixPath('../outputs/TinyLlama_TinyLlama-1.1B-Chat-v1.0_ReprPOConfig_us_history_textbook/2024-09-22_06-54-14/eval.parquet'),\n",
       " PosixPath('../outputs/TinyLlama_TinyLlama-1.1B-Chat-v1.0_ReprPOConfig_us_history_textbook/2024-09-22_06-59-27/eval.parquet'),\n",
       " PosixPath('../outputs/TinyLlama_TinyLlama-1.1B-Chat-v1.0_ReprPOConfig_us_history_textbook/2024-09-22_07-05-38/eval.parquet'),\n",
       " PosixPath('../outputs/TinyLlama_TinyLlama-1.1B-Chat-v1.0_ReprPOConfig_us_history_textbook/2024-09-22_07-10-55/eval.parquet'),\n",
       " PosixPath('../outputs/TinyLlama_TinyLlama-1.1B-Chat-v1.0_ReprPOConfig_us_history_textbook/2024-09-22_07-16-19/eval.parquet'),\n",
       " PosixPath('../outputs/TinyLlama_TinyLlama-1.1B-Chat-v1.0_dpo_us_history_textbook/2024-09-22_11-00-46/eval.parquet'),\n",
       " PosixPath('../outputs/TinyLlama_TinyLlama-1.1B-Chat-v1.0_dpo_us_history_textbook/2024-09-22_11-07-27/eval.parquet'),\n",
       " PosixPath('../outputs/TinyLlama_TinyLlama-1.1B-Chat-v1.0_dpo_us_history_textbook/2024-09-22_11-15-47/eval.parquet'),\n",
       " PosixPath('../outputs/TinyLlama_TinyLlama-1.1B-Chat-v1.0_dpo_us_history_textbook/2024-09-22_11-24-02/eval.parquet'),\n",
       " PosixPath('../outputs/TinyLlama_TinyLlama-1.1B-Chat-v1.0_dpo_us_history_textbook/2024-09-22_11-32-48/eval.parquet'),\n",
       " PosixPath('../outputs/TinyLlama_TinyLlama-1.1B-Chat-v1.0_dpo_us_history_textbook/2024-09-22_11-44-35/eval.parquet'),\n",
       " PosixPath('../outputs/TinyLlama_TinyLlama-1.1B-Chat-v1.0_dpo_us_history_textbook/2024-09-22_12-06-03/eval.parquet'),\n",
       " PosixPath('../outputs/TinyLlama_TinyLlama-1.1B-Chat-v1.0_side-ETHER-PrefVec_us_history_textbook/2024-09-22_10-16-03/eval.parquet'),\n",
       " PosixPath('../outputs/TinyLlama_TinyLlama-1.1B-Chat-v1.0_side-ETHER-PrefVec_us_history_textbook/2024-09-22_10-23-11/eval.parquet'),\n",
       " PosixPath('../outputs/TinyLlama_TinyLlama-1.1B-Chat-v1.0_side-ETHER-PrefVec_us_history_textbook/2024-09-22_22-55-18/eval.parquet'),\n",
       " PosixPath('../outputs/TinyLlama_TinyLlama-1.1B-Chat-v1.0_side-ETHER-PrefVec_us_history_textbook/2024-09-23_07-37-19/eval.parquet'),\n",
       " PosixPath('../outputs/princeton-nlp_Llama-3-Base-8B-SFT_dpo_alpaca_easy/2024-09-22_16-03-43/eval.parquet'),\n",
       " PosixPath('../outputs/princeton-nlp_Llama-3-Base-8B-SFT_dpo_alpaca_easy/2024-09-23_17-06-44/eval.parquet'),\n",
       " PosixPath('../outputs/princeton-nlp_Llama-3-Base-8B-SFT_dpo_alpaca_low_quality/2024-09-23_19-42-29/eval.parquet'),\n",
       " PosixPath('../outputs/princeton-nlp_Llama-3-Base-8B-SFT_dpo_alpaca_mmlu/2024-09-22_16-20-16/eval.parquet'),\n",
       " PosixPath('../outputs/princeton-nlp_Llama-3-Base-8B-SFT_dpo_alpaca_mmlu/2024-09-23_18-36-38/eval.parquet'),\n",
       " PosixPath('../outputs/princeton-nlp_Llama-3-Base-8B-SFT_dpo_alpaca_mmlu/2024-09-23_23-00-56/eval.parquet'),\n",
       " PosixPath('../outputs/princeton-nlp_Llama-3-Base-8B-SFT_dpo_alpaca_short/2024-09-23_20-33-06/eval.parquet'),\n",
       " PosixPath('../outputs/princeton-nlp_Llama-3-Base-8B-SFT_dpo_code_easy/2024-09-23_21-29-21/eval.parquet'),\n",
       " PosixPath('../outputs/princeton-nlp_Llama-3-Base-8B-SFT_dpo_raven_matrices/2024-09-22_17-03-34/eval.parquet'),\n",
       " PosixPath('../outputs/princeton-nlp_Llama-3-Base-8B-SFT_dpo_us_history_textbook/2024-09-22_12-32-38/eval.parquet'),\n",
       " PosixPath('../outputs/princeton-nlp_Llama-3-Base-8B-SFT_dpo_us_history_textbook/2024-09-22_17-25-39/eval.parquet'),\n",
       " PosixPath('../outputs/princeton-nlp_Llama-3-Base-8B-SFT_dpo_us_history_textbook/2024-09-23_16-14-32/eval.parquet'),\n",
       " PosixPath('../outputs/princeton-nlp_Llama-3-Base-8B-SFT_side-ETHER-MSE_us_history_textbook/2024-09-22_12-50-32/eval.parquet'),\n",
       " PosixPath('../outputs/princeton-nlp_Llama-3-Base-8B-SFT_side-ETHER-MSE_us_history_textbook/2024-09-23_13-20-54/eval.parquet'),\n",
       " PosixPath('../outputs/princeton-nlp_Llama-3-Base-8B-SFT_side-ETHER-PrefVec_alpaca_easy/2024-09-23_16-41-57/eval.parquet'),\n",
       " PosixPath('../outputs/princeton-nlp_Llama-3-Base-8B-SFT_side-ETHER-PrefVec_alpaca_low_quality/2024-09-23_19-15-19/eval.parquet'),\n",
       " PosixPath('../outputs/princeton-nlp_Llama-3-Base-8B-SFT_side-ETHER-PrefVec_alpaca_mmlu/2024-09-23_17-46-12/eval.parquet'),\n",
       " PosixPath('../outputs/princeton-nlp_Llama-3-Base-8B-SFT_side-ETHER-PrefVec_alpaca_mmlu/2024-09-23_22-10-02/eval.parquet'),\n",
       " PosixPath('../outputs/princeton-nlp_Llama-3-Base-8B-SFT_side-ETHER-PrefVec_alpaca_short/2024-09-23_20-08-59/eval.parquet'),\n",
       " PosixPath('../outputs/princeton-nlp_Llama-3-Base-8B-SFT_side-ETHER-PrefVec_code_easy/2024-09-23_21-00-01/eval.parquet'),\n",
       " PosixPath('../outputs/princeton-nlp_Llama-3-Base-8B-SFT_side-ETHER-PrefVec_math/2024-09-23_23-42-35/eval.parquet'),\n",
       " PosixPath('../outputs/princeton-nlp_Llama-3-Base-8B-SFT_side-ETHER-PrefVec_us_history_textbook/2024-09-22_13-10-14/eval.parquet'),\n",
       " PosixPath('../outputs/princeton-nlp_Llama-3-Base-8B-SFT_side-ETHER-PrefVec_us_history_textbook/2024-09-22_15-09-38/eval.parquet'),\n",
       " PosixPath('../outputs/princeton-nlp_Llama-3-Base-8B-SFT_side-ETHER-PrefVec_us_history_textbook/2024-09-22_23-01-38/eval.parquet'),\n",
       " PosixPath('../outputs/princeton-nlp_Llama-3-Base-8B-SFT_side-ETHER-PrefVec_us_history_textbook/2024-09-23_00-15-59/eval.parquet'),\n",
       " PosixPath('../outputs/princeton-nlp_Llama-3-Base-8B-SFT_side-ETHER-PrefVec_us_history_textbook/2024-09-23_01-04-11/eval.parquet'),\n",
       " PosixPath('../outputs/princeton-nlp_Llama-3-Base-8B-SFT_side-ETHER-PrefVec_us_history_textbook/2024-09-23_04-15-39/eval.parquet'),\n",
       " PosixPath('../outputs/princeton-nlp_Llama-3-Base-8B-SFT_side-ETHER-PrefVec_us_history_textbook/2024-09-23_05-31-19/eval.parquet'),\n",
       " PosixPath('../outputs/princeton-nlp_Llama-3-Base-8B-SFT_side-ETHER-PrefVec_us_history_textbook/2024-09-23_06-25-05/eval.parquet'),\n",
       " PosixPath('../outputs/princeton-nlp_Llama-3-Base-8B-SFT_side-ETHER-PrefVec_us_history_textbook/2024-09-23_07-01-48/eval.parquet'),\n",
       " PosixPath('../outputs/princeton-nlp_Llama-3-Base-8B-SFT_side-ETHER-PrefVec_us_history_textbook/2024-09-23_07-50-49/eval.parquet'),\n",
       " PosixPath('../outputs/princeton-nlp_Llama-3-Base-8B-SFT_side-ETHER-PrefVec_us_history_textbook/2024-09-23_09-18-58/eval.parquet'),\n",
       " PosixPath('../outputs/princeton-nlp_Llama-3-Base-8B-SFT_side-ETHER-PrefVec_us_history_textbook/2024-09-23_10-32-40/eval.parquet'),\n",
       " PosixPath('../outputs/princeton-nlp_Llama-3-Base-8B-SFT_side-ETHER-PrefVec_us_history_textbook/2024-09-23_10-54-42/eval.parquet'),\n",
       " PosixPath('../outputs/princeton-nlp_Llama-3-Base-8B-SFT_side-ETHER-PrefVec_us_history_textbook/2024-09-23_11-17-25/eval.parquet'),\n",
       " PosixPath('../outputs/princeton-nlp_Llama-3-Base-8B-SFT_side-ETHER-PrefVec_us_history_textbook/2024-09-23_12-33-59/eval.parquet'),\n",
       " PosixPath('../outputs/princeton-nlp_Llama-3-Base-8B-SFT_side-ETHER-PrefVec_us_history_textbook/2024-09-23_13-36-47/eval.parquet'),\n",
       " PosixPath('../outputs/princeton-nlp_Llama-3-Base-8B-SFT_side-ETHER-PrefVec_us_history_textbook/2024-09-23_15-17-44/eval.parquet'),\n",
       " PosixPath('../outputs/princeton-nlp_Llama-3-Base-8B-SFT_side-ETHER-Rank_us_history_textbook/2024-09-22_14-52-05/eval.parquet'),\n",
       " PosixPath('../outputs/princeton-nlp_Llama-3-Base-8B-SFT_side-ETHER-Rank_us_history_textbook/2024-09-23_15-03-43/eval.parquet'),\n",
       " PosixPath('../outputs/princeton-nlp_Llama-3-Base-8B-SFT_side-HRA-PrefVec_us_history_textbook/2024-09-22_15-27-42/eval.parquet'),\n",
       " PosixPath('../outputs/princeton-nlp_Llama-3-Base-8B-SFT_side-HRA-PrefVec_us_history_textbook/2024-09-23_15-31-45/eval.parquet'),\n",
       " PosixPath('../outputs/princeton-nlp_Llama-3-Base-8B-SFT_side-None-MSE_alpaca_easy/2024-09-23_16-29-20/eval.parquet'),\n",
       " PosixPath('../outputs/princeton-nlp_Llama-3-Base-8B-SFT_side-None-MSE_alpaca_low_quality/2024-09-23_19-01-49/eval.parquet'),\n",
       " PosixPath('../outputs/princeton-nlp_Llama-3-Base-8B-SFT_side-None-MSE_alpaca_mmlu/2024-09-23_17-20-54/eval.parquet'),\n",
       " PosixPath('../outputs/princeton-nlp_Llama-3-Base-8B-SFT_side-None-MSE_alpaca_mmlu/2024-09-23_21-44-22/eval.parquet'),\n",
       " PosixPath('../outputs/princeton-nlp_Llama-3-Base-8B-SFT_side-None-MSE_alpaca_short/2024-09-23_19-56-11/eval.parquet'),\n",
       " PosixPath('../outputs/princeton-nlp_Llama-3-Base-8B-SFT_side-None-MSE_code_easy/2024-09-23_20-45-29/eval.parquet'),\n",
       " PosixPath('../outputs/princeton-nlp_Llama-3-Base-8B-SFT_side-None-MSE_math/2024-09-23_23-26-56/eval.parquet'),\n",
       " PosixPath('../outputs/princeton-nlp_Llama-3-Base-8B-SFT_side-None-MSE_us_history_textbook/2024-09-22_13-29-12/eval.parquet'),\n",
       " PosixPath('../outputs/princeton-nlp_Llama-3-Base-8B-SFT_side-None-MSE_us_history_textbook/2024-09-22_14-34-53/eval.parquet'),\n",
       " PosixPath('../outputs/princeton-nlp_Llama-3-Base-8B-SFT_side-None-MSE_us_history_textbook/2024-09-23_13-51-39/eval.parquet'),\n",
       " PosixPath('../outputs/princeton-nlp_Llama-3-Base-8B-SFT_side-None-MSE_us_history_textbook/2024-09-23_14-49-55/eval.parquet'),\n",
       " PosixPath('../outputs/princeton-nlp_Llama-3-Base-8B-SFT_side-None-PrefVec_alpaca_easy/2024-09-23_16-53-52/eval.parquet'),\n",
       " PosixPath('../outputs/princeton-nlp_Llama-3-Base-8B-SFT_side-None-PrefVec_alpaca_low_quality/2024-09-23_19-28-36/eval.parquet'),\n",
       " PosixPath('../outputs/princeton-nlp_Llama-3-Base-8B-SFT_side-None-PrefVec_alpaca_mmlu/2024-09-23_18-10-56/eval.parquet'),\n",
       " PosixPath('../outputs/princeton-nlp_Llama-3-Base-8B-SFT_side-None-PrefVec_alpaca_mmlu/2024-09-23_22-35-23/eval.parquet'),\n",
       " PosixPath('../outputs/princeton-nlp_Llama-3-Base-8B-SFT_side-None-PrefVec_alpaca_short/2024-09-23_20-20-41/eval.parquet'),\n",
       " PosixPath('../outputs/princeton-nlp_Llama-3-Base-8B-SFT_side-None-PrefVec_code_easy/2024-09-23_21-14-26/eval.parquet'),\n",
       " PosixPath('../outputs/princeton-nlp_Llama-3-Base-8B-SFT_side-None-PrefVec_us_history_textbook/2024-09-22_13-48-51/eval.parquet'),\n",
       " PosixPath('../outputs/princeton-nlp_Llama-3-Base-8B-SFT_side-None-PrefVec_us_history_textbook/2024-09-22_23-19-18/eval.parquet'),\n",
       " PosixPath('../outputs/princeton-nlp_Llama-3-Base-8B-SFT_side-None-PrefVec_us_history_textbook/2024-09-23_14-06-45/eval.parquet'),\n",
       " PosixPath('../outputs/princeton-nlp_Llama-3-Base-8B-SFT_side-None-PrefVec_us_history_textbook/2024-09-23_14-21-31/eval.parquet'),\n",
       " PosixPath('../outputs/princeton-nlp_Llama-3-Base-8B-SFT_side-None-Rank_us_history_textbook/2024-09-22_14-16-46/eval.parquet'),\n",
       " PosixPath('../outputs/princeton-nlp_Llama-3-Base-8B-SFT_side-None-Rank_us_history_textbook/2024-09-22_23-37-16/eval.parquet'),\n",
       " PosixPath('../outputs/princeton-nlp_Llama-3-Base-8B-SFT_side-None-Rank_us_history_textbook/2024-09-23_14-35-46/eval.parquet'),\n",
       " PosixPath('../outputs/princeton-nlp_Llama-3-Base-8B-SFT_side-Ortho-PrefVec_us_history_textbook/2024-09-23_15-45-51/eval.parquet'),\n",
       " PosixPath('../outputs/princeton-nlp_Llama-3-Base-8B-SFT_side-SVD-PrefVec_us_history_textbook/2024-09-22_15-45-59/eval.parquet'),\n",
       " PosixPath('../outputs/princeton-nlp_Llama-3-Base-8B-SFT_side-SVD-PrefVec_us_history_textbook/2024-09-23_16-00-14/eval.parquet'),\n",
       " PosixPath('../outputs/reciprocate_tiny-llama_ReprPO-ETHER-Rank_us_history_textbook/2024-09-22_08-07-38/eval.parquet'),\n",
       " PosixPath('../outputs/reciprocate_tiny-llama_side-ETHER-Rank_us_history_textbook/2024-09-22_08-09-43/eval.parquet'),\n",
       " PosixPath('../outputs/reciprocate_tiny-llama_side-ETHER-Rank_us_history_textbook/2024-09-23_00-16-02/eval.parquet')]"
      ]
     },
     "execution_count": 21,
     "metadata": {},
     "output_type": "execute_result"
    }
   ],
   "source": [
    "# TODO load config.json, load eval.parquet\n",
    "fs = sorted(Path('../outputs').glob('**/eval.parquet'))\n"
   ]
  },
  {
   "cell_type": "markdown",
   "metadata": {},
   "source": [
    "## From txt"
   ]
  },
  {
   "cell_type": "code",
   "execution_count": 6,
   "metadata": {},
   "outputs": [],
   "source": [
    "# look for log.txt\n",
    "f = '../deleteme.txt'\n",
    "text_log = open(f).read()"
   ]
  },
  {
   "cell_type": "code",
   "execution_count": 17,
   "metadata": {},
   "outputs": [
    {
     "name": "stdout",
     "output_type": "stream",
     "text": [
      "| acc_inc/eval_ds [pp]   |   train |   test |   oos |    rnd |\n",
      "|:-----------------------|--------:|-------:|------:|-------:|| side-ETHER-PrefVec_us_history_textbook |   2.209 |   0.84 | 3.891 | 1.072 |\n",
      "| side-ETHER-PrefVec_us_history_textbook |   0.789 |  0.674 | 7.203 | 0.279 |\n",
      "| side-ETHER-PrefVec_us_history_textbook |   0.169 |      0 | 1.508 |  0.14 |\n",
      "| side-ETHER-PrefVec_us_history_textbook |    1.07 | -0.809 | -1.173 | -1.117 |\n",
      "| side-ETHER-PrefVec_us_history_textbook |   0.789 |  0.674 | 7.035 | 0.279 |\n",
      "| side-ETHER-PrefVec_us_history_textbook |   0.282 |  0.135 |  2.68 |  0.14 |\n",
      "| side-ETHER-PrefVec_us_history_textbook |   0.789 |  0.674 | 7.203 |     0 |\n",
      "| side-ETHER-MSE_us_history_textbook |  -0.056 |      0 | 0.168 |     0 |\n",
      "| side-ETHER-PrefVec_us_history_textbook |   0.113 |      0 | 1.675 |  0.14 |\n",
      "| side-None-MSE_us_history_textbook |  -0.056 |      0 |     0 |     0 |\n",
      "| side-None-PrefVec_us_history_textbook |   0.169 |      0 | 1.843 |  0.14 |\n",
      "| side-None-PrefVec_us_history_textbook |   0.958 |  0.539 | 8.878 | 0.559 |\n",
      "| side-None-Rank_us_history_textbook |   0.282 |      0 | 1.508 |  0.14 |\n",
      "| side-None-MSE_us_history_textbook |  -0.056 |      0 | 0.503 |     0 |\n",
      "| side-ETHER-Rank_us_history_textbook |   0.056 |      0 |  1.34 |  0.14 |\n",
      "| side-ETHER-PrefVec_us_history_textbook |   0.958 |  0.539 | 11.055 |  0.14 |\n",
      "| side-HRA-PrefVec_us_history_textbook |   1.183 |  0.539 | 9.213 | -0.559 |\n",
      "| side-Ortho-PrefVec_us_history_textbook |   0.901 |  0.404 | 9.548 | -0.419 |\n",
      "| side-SVD-PrefVec_us_history_textbook |   1.014 |  0.539 | 10.05 |     0 |\n",
      "| dpo_us_history_textbook |   1.352 |  0.674 | 10.72 | 0.698 |\n",
      "| side-None-MSE_alpaca_easy |   0.114 |  0.139 |  0.18 |     0 |\n",
      "| side-ETHER-PrefVec_alpaca_easy |   2.457 |  2.371 | 3.417 |     0 |\n",
      "| side-None-PrefVec_alpaca_easy |   0.457 | -0.139 |  0.36 |  0.14 |\n",
      "| dpo_alpaca_easy        |   2.343 |  2.232 |  0.18 | 0.559 |\n",
      "| side-None-MSE_alpaca_mmlu |   0.144 |  0.177 | -0.38 | 0.335 |\n",
      "| side-ETHER-PrefVec_alpaca_mmlu |   5.844 |  3.534 |  0.19 |     0 |\n",
      "| side-None-PrefVec_alpaca_mmlu |   1.299 |  0.177 |     0 |     0 |\n",
      "| dpo_alpaca_mmlu        |  14.574 |  9.894 | 6.844 |  -6.7 |\n",
      "| side-None-MSE_alpaca_low_quality |       0 |      0 |     0 |     0 |\n",
      "| side-ETHER-PrefVec_alpaca_low_quality |   8.213 |  6.182 | 6.173 | -1.536 |\n",
      "| side-None-PrefVec_alpaca_low_quality |   0.526 |  0.309 |     0 |     0 |\n",
      "| dpo_alpaca_low_quality |  16.426 | 13.447 | 13.58 | -3.073 |\n",
      "| side-None-MSE_alpaca_short |  -0.194 |      0 |     0 |     0 |\n",
      "| side-ETHER-PrefVec_alpaca_short |   7.171 |  5.023 |   -25 | -0.279 |\n",
      "| side-None-PrefVec_alpaca_short |   0.581 |  0.457 |     0 | 0.279 |\n",
      "| dpo_alpaca_short       |  15.891 | 14.155 |  -100 | -29.469 |\n",
      "| side-None-MSE_code_easy |       0 |      0 |     0 |     0 |\n",
      "| side-ETHER-PrefVec_code_easy |   1.302 |  0.678 | 1.706 | -0.14 |\n",
      "| side-None-PrefVec_code_easy |   0.113 |  0.136 | 0.341 |  0.14 |\n",
      "| dpo_code_easy          |   1.359 |  0.136 | 0.853 |  0.14 |\n",
      "| side-None-MSE_alpaca_mmlu |   0.433 |  0.177 | -0.76 | 0.503 |\n",
      "| side-ETHER-PrefVec_alpaca_mmlu |     5.7 |  1.767 | -1.711 | -0.67 |\n",
      "| side-None-PrefVec_alpaca_mmlu |   1.371 |  0.177 |  0.19 | 0.503 |\n",
      "| dpo_alpaca_mmlu        |  13.997 |  9.717 | 6.464 | -6.365 |\n",
      "| side-None-MSE_math     |  -0.124 |      0 |     0 |  0.14 |\n"
     ]
    }
   ],
   "source": [
    "# just extract the key metric from table 3\n",
    "\n",
    "# Regular expression to match the table row\n",
    "table_row_pattern = re.compile(r'(.+)\\nTable 3⭐')\n",
    "\n",
    "# Find the table row\n",
    "match = table_row_pattern.findall(text_log)\n",
    "header = \"\"\"| acc_inc/eval_ds [pp]   |   train |   test |   oos |    rnd |\n",
    "|:-----------------------|--------:|-------:|------:|-------:|\"\"\"\n",
    "s = header + '\\n'.join(match)\n",
    "print(s)"
   ]
  },
  {
   "cell_type": "code",
   "execution_count": null,
   "metadata": {},
   "outputs": [],
   "source": []
  },
  {
   "cell_type": "code",
   "execution_count": null,
   "metadata": {},
   "outputs": [],
   "source": []
  }
 ],
 "metadata": {
  "kernelspec": {
   "display_name": ".venv",
   "language": "python",
   "name": "python3"
  },
  "language_info": {
   "codemirror_mode": {
    "name": "ipython",
    "version": 3
   },
   "file_extension": ".py",
   "mimetype": "text/x-python",
   "name": "python",
   "nbconvert_exporter": "python",
   "pygments_lexer": "ipython3",
   "version": "3.11.9"
  }
 },
 "nbformat": 4,
 "nbformat_minor": 2
}
