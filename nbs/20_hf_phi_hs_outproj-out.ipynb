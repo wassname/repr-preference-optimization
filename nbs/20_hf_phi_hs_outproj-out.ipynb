{
 "cells": [
  {
   "cell_type": "markdown",
   "metadata": {},
   "source": [
    "In this notebook, we take the hidden states inside the mlp and attention side channels, and apply reroute and retain losses, in an attemp to improve learning and generalization compared to DPI. The idea is to force the model to learn to use the hidden states in the side channels, and to retain the information that is useful for the task at hand."
   ]
  },
  {
   "cell_type": "code",
   "execution_count": 1,
   "metadata": {},
   "outputs": [],
   "source": [
    "%reload_ext autoreload\n",
    "%autoreload 2"
   ]
  },
  {
   "cell_type": "code",
   "execution_count": 2,
   "metadata": {},
   "outputs": [],
   "source": [
    "import os\n",
    "os.environ[\"TOKENIZERS_PARALLELISM\"] = \"false\"\n",
    "os.environ[\"WANDB_PROJECT\"] = \"repo-dpo\" \n",
    "os.environ[\"CUDA_VISIBLE_DEVICES\"] = \"0\"\n",
    "# os.environ[\"WANDB_DISABLED\"] = \"true\"\n",
    "\n"
   ]
  },
  {
   "cell_type": "code",
   "execution_count": 3,
   "metadata": {},
   "outputs": [],
   "source": [
    "import wandb\n",
    "os.environ['WANDB_NOTEBOOK_NAME'] =  os.path.basename(globals()['__vsc_ipynb_file__'])\n",
    "nb_name = os.path.basename(globals()['__vsc_ipynb_file__']).replace('.ipynb', '').replace(' ', '_')\n",
    "# enable wandb service (experimental, https://github.com/wandb/client/blob/master/docs/dev/wandb-service-user.md)\n",
    "# this hopefully fixes issues with multiprocessing\n",
    "wandb.require(experiment='service')"
   ]
  },
  {
   "cell_type": "code",
   "execution_count": 4,
   "metadata": {},
   "outputs": [],
   "source": [
    "from reprpo import silence"
   ]
  },
  {
   "cell_type": "code",
   "execution_count": 5,
   "metadata": {},
   "outputs": [],
   "source": [
    "import torch\n",
    "import numpy as np\n",
    "from datasets import load_dataset\n",
    "from peft import LoraConfig, get_peft_model\n",
    "\n",
    "from transformers import AutoTokenizer, AutoModelForCausalLM\n",
    "from trl import DPOTrainer\n",
    "from trl import DPOConfig, DPOTrainer\n",
    "import gc\n",
    "import torch\n",
    "import torch.nn as nn\n",
    "import torch.nn.functional as F\n",
    "from typing import Any, Callable, Dict, List, Literal, Optional, Tuple, Union\n",
    "from einops import rearrange"
   ]
  },
  {
   "cell_type": "code",
   "execution_count": 6,
   "metadata": {},
   "outputs": [],
   "source": [
    "from contextlib import contextmanager\n",
    "import pandas as pd\n",
    "from matplotlib import pyplot as plt\n",
    "from transformers.trainer import ProgressCallback\n",
    "from transformers.utils.notebook import NotebookProgressCallback\n",
    "\n",
    "from reprpo.helpers.adapters import set_adapter"
   ]
  },
  {
   "cell_type": "markdown",
   "metadata": {},
   "source": []
  },
  {
   "cell_type": "code",
   "execution_count": 7,
   "metadata": {},
   "outputs": [],
   "source": [
    "# torch.set_float32_matmul_precision(\"medium\")\n",
    "# torch.use_deterministic_algorithms(True)"
   ]
  },
  {
   "cell_type": "code",
   "execution_count": 8,
   "metadata": {},
   "outputs": [
    {
     "data": {
      "text/plain": [
       "13500"
      ]
     },
     "execution_count": 8,
     "metadata": {},
     "output_type": "execute_result"
    }
   ],
   "source": [
    "max_prompt_length=64\n",
    "# num_samples = 50 * 16 * 6\n",
    "num_samples = 1500 * 3 * 3 # from circuit breaker * 3\n",
    "max_length = 128\n",
    "num_samples"
   ]
  },
  {
   "cell_type": "markdown",
   "metadata": {},
   "source": [
    "## load the model"
   ]
  },
  {
   "cell_type": "code",
   "execution_count": 9,
   "metadata": {},
   "outputs": [],
   "source": [
    "# need\n",
    "# !pip install flash-attn --no-build-isolation --no-deps -qq"
   ]
  },
  {
   "cell_type": "code",
   "execution_count": 10,
   "metadata": {},
   "outputs": [],
   "source": [
    "# lora\n",
    "\n",
    "from peft.tuners import BOFTConfig, OFTConfig, LoraConfig, IA3Config\n",
    "# ## Big adapter\n",
    "# peft_config = OFTConfig(\n",
    "#     r=6,\n",
    "#     task_type=\"CAUSAL_LM\",\n",
    "#     target_modules=[\"qkv_proj\", \"down_proj\",\n",
    "#                     \"o_proj\", \"gate_up_proj\",\n",
    "#                     ],\n",
    "# )\n",
    "\n",
    "\n",
    "\"\"\"\n",
    "# rescale\n",
    "Infused Adapter by Inhibiting and Amplifying Inner Activations, or IA3, is a method that adds three learned vectors to rescale the keys and values of the self-attention and encoder-decoder attention layers, and the intermediate activation of the position-wise feed-forward network.\"\"\"\n",
    "# peft_config = IA3Config(\n",
    "#     # r=4,\n",
    "#     # task_type=\"CAUSAL_LM\",\n",
    "#     target_modules=[\"qkv_proj\", \"down_proj\",\n",
    "#                     \"o_proj\", \"gate_up_proj\",\n",
    "#                     ],\n",
    "#     feedforward_modules=[\"gate_up_proj\", \"down_proj\"]\n",
    "# )\n",
    "peft_config = LoraConfig(\n",
    "    lora_alpha=16, \n",
    "    r=16,\n",
    "    # lora_dropout=0.05,\n",
    "    # use_rslora=True,\n",
    "    # use_dora=True,\n",
    "    task_type=\"CAUSAL_LM\",\n",
    "    target_modules=[\n",
    "        # FIXME: I'm not sure we can do LORA on the layer we are targeting?\n",
    "        \"qkv_proj\", \"gate_up_proj\", # in\n",
    "        \"down_proj\",  \"o_proj\", # out\n",
    "                    \n",
    "                    ], # PHI3\n",
    "    # target_modules=[\"q_proj\", \"k_proj\", \"v_proj\", \"o_proj\", \"gate_proj\", \"up_proj\", \"down_proj\"] # LLAMA\n",
    ")"
   ]
  },
  {
   "cell_type": "code",
   "execution_count": 11,
   "metadata": {},
   "outputs": [
    {
     "name": "stderr",
     "output_type": "stream",
     "text": [
      "You are attempting to use Flash Attention 2.0 with a model not initialized on GPU. Make sure to move the model to GPU after initializing it on CPU with `model.to('cuda')`.\n"
     ]
    },
    {
     "data": {
      "application/vnd.jupyter.widget-view+json": {
       "model_id": "01fb2f59ef67427d9579b94bedcd8c02",
       "version_major": 2,
       "version_minor": 0
      },
      "text/plain": [
       "Loading checkpoint shards:   0%|          | 0/2 [00:00<?, ?it/s]"
      ]
     },
     "metadata": {},
     "output_type": "display_data"
    },
    {
     "name": "stdout",
     "output_type": "stream",
     "text": [
      "trainable params: 25165824 || all params: 3845919744 || trainable%: 0.6543512521097476\n"
     ]
    },
    {
     "data": {
      "text/plain": [
       "PeftModelForCausalLM(\n",
       "  (base_model): LoraModel(\n",
       "    (model): Phi3ForCausalLM(\n",
       "      (model): Phi3Model(\n",
       "        (embed_tokens): Embedding(32011, 3072, padding_idx=32000)\n",
       "        (embed_dropout): Dropout(p=0.0, inplace=False)\n",
       "        (layers): ModuleList(\n",
       "          (0-31): 32 x Phi3DecoderLayer(\n",
       "            (self_attn): Phi3FlashAttention2(\n",
       "              (o_proj): lora.Linear(\n",
       "                (base_layer): Linear(in_features=3072, out_features=3072, bias=False)\n",
       "                (lora_dropout): ModuleDict(\n",
       "                  (ReprPO): Identity()\n",
       "                )\n",
       "                (lora_A): ModuleDict(\n",
       "                  (ReprPO): Linear(in_features=3072, out_features=16, bias=False)\n",
       "                )\n",
       "                (lora_B): ModuleDict(\n",
       "                  (ReprPO): Linear(in_features=16, out_features=3072, bias=False)\n",
       "                )\n",
       "                (lora_embedding_A): ParameterDict()\n",
       "                (lora_embedding_B): ParameterDict()\n",
       "                (lora_magnitude_vector): ModuleDict()\n",
       "              )\n",
       "              (qkv_proj): lora.Linear(\n",
       "                (base_layer): Linear(in_features=3072, out_features=9216, bias=False)\n",
       "                (lora_dropout): ModuleDict(\n",
       "                  (ReprPO): Identity()\n",
       "                )\n",
       "                (lora_A): ModuleDict(\n",
       "                  (ReprPO): Linear(in_features=3072, out_features=16, bias=False)\n",
       "                )\n",
       "                (lora_B): ModuleDict(\n",
       "                  (ReprPO): Linear(in_features=16, out_features=9216, bias=False)\n",
       "                )\n",
       "                (lora_embedding_A): ParameterDict()\n",
       "                (lora_embedding_B): ParameterDict()\n",
       "                (lora_magnitude_vector): ModuleDict()\n",
       "              )\n",
       "              (rotary_emb): Phi3RotaryEmbedding()\n",
       "            )\n",
       "            (mlp): Phi3MLP(\n",
       "              (gate_up_proj): lora.Linear(\n",
       "                (base_layer): Linear(in_features=3072, out_features=16384, bias=False)\n",
       "                (lora_dropout): ModuleDict(\n",
       "                  (ReprPO): Identity()\n",
       "                )\n",
       "                (lora_A): ModuleDict(\n",
       "                  (ReprPO): Linear(in_features=3072, out_features=16, bias=False)\n",
       "                )\n",
       "                (lora_B): ModuleDict(\n",
       "                  (ReprPO): Linear(in_features=16, out_features=16384, bias=False)\n",
       "                )\n",
       "                (lora_embedding_A): ParameterDict()\n",
       "                (lora_embedding_B): ParameterDict()\n",
       "                (lora_magnitude_vector): ModuleDict()\n",
       "              )\n",
       "              (down_proj): lora.Linear(\n",
       "                (base_layer): Linear(in_features=8192, out_features=3072, bias=False)\n",
       "                (lora_dropout): ModuleDict(\n",
       "                  (ReprPO): Identity()\n",
       "                )\n",
       "                (lora_A): ModuleDict(\n",
       "                  (ReprPO): Linear(in_features=8192, out_features=16, bias=False)\n",
       "                )\n",
       "                (lora_B): ModuleDict(\n",
       "                  (ReprPO): Linear(in_features=16, out_features=3072, bias=False)\n",
       "                )\n",
       "                (lora_embedding_A): ParameterDict()\n",
       "                (lora_embedding_B): ParameterDict()\n",
       "                (lora_magnitude_vector): ModuleDict()\n",
       "              )\n",
       "              (activation_fn): SiLU()\n",
       "            )\n",
       "            (input_layernorm): Phi3RMSNorm()\n",
       "            (resid_attn_dropout): Dropout(p=0.0, inplace=False)\n",
       "            (resid_mlp_dropout): Dropout(p=0.0, inplace=False)\n",
       "            (post_attention_layernorm): Phi3RMSNorm()\n",
       "          )\n",
       "        )\n",
       "        (norm): Phi3RMSNorm()\n",
       "      )\n",
       "      (lm_head): Linear(in_features=3072, out_features=32011, bias=False)\n",
       "    )\n",
       "  )\n",
       ")"
      ]
     },
     "execution_count": 11,
     "metadata": {},
     "output_type": "execute_result"
    }
   ],
   "source": [
    "# load model\n",
    "from peft import prepare_model_for_kbit_training\n",
    "from peft import LoraConfig, get_peft_model\n",
    "from trl.trainer.utils import peft_module_casting_to_bf16\n",
    "from reprpo.models.load import load_model, print_trainable_parameters\n",
    "\n",
    "# FIXME: we are meant to SFT first, so that the preferences are in sample but 1) if this works it might not be needed, and 2) this can be added later, if it works\n",
    "# for now we will use the instruct model, and try something it wasn't meant to do but it in sample \n",
    "model_name = \"microsoft/Phi-3-mini-4k-instruct\"\n",
    "# model_name = \"NousResearch/Meta-Llama-3-8B-Instruct\"\n",
    "# model_name = \"microsoft/Phi-3-mini-4k-instruct-gguf\"\n",
    "# model_name = \"NousResearch/Meta-Llama-3.1-8B-Instruct\"\n",
    "\n",
    "\n",
    "use_bnb = False # this doesn't seem to be able to backprop when using baukit\n",
    "use_gradient_checkpointing = False\n",
    "use_inputs = True\n",
    "\n",
    "model, tokenizer = load_model(model_name, bnb=use_bnb )\n",
    "\n",
    "if use_gradient_checkpointing:\n",
    "    model.enable_input_require_grads()\n",
    "adapter_name='ReprPO'\n",
    "peft_module_casting_to_bf16(model)\n",
    "model = prepare_model_for_kbit_training(model, {'use_gradient_checkpointing': use_gradient_checkpointing})\n",
    "model = get_peft_model(model, peft_config, adapter_name=adapter_name)\n",
    "print_trainable_parameters(model)\n",
    "# phi model def https://github.com/huggingface/transformers/blob/14ee2326e51cb210cec72f31b248cb722e9d5d1f/src/transformers/models/phi/modeling_phi.py#L748\n",
    "# 2 paths, mlp, and attn\n",
    "model"
   ]
  },
  {
   "cell_type": "markdown",
   "metadata": {},
   "source": [
    "## Dataset"
   ]
  },
  {
   "cell_type": "code",
   "execution_count": 12,
   "metadata": {},
   "outputs": [],
   "source": [
    "def sample(dataset, N):\n",
    "    return (dataset\n",
    "            .shuffle(42)\n",
    "            .select(range(\n",
    "            min(len(dataset), N)))\n",
    "    )"
   ]
  },
  {
   "cell_type": "code",
   "execution_count": 13,
   "metadata": {},
   "outputs": [
    {
     "data": {
      "text/plain": [
       "{'prompt': 'When did women join the labor workforce outside of the home? What caused the change from housewife to breadwinner? Write a short informative paragraph under 200 words. ',\n",
       " 'chosen': \"In the early 20th century, less than 20% of women worked outside the home. Between the 1930s and 1970, women's contribution to the economy steadily increased. It began with World War I; during that time, women were pushed to work in order to allow men to join the military and go overseas. Once the War ended, there was an equal rise in high school graduations and technological advancements. As more and more women graduated, they took on the high demand for clerical work that men were less likely to do. Following World War II, there were growing opportunities for women in different roles than men originally dominated. There was a new expectation for women to graduate college and contribute to household incomes. By 1990, the percentage of women working increased by 76%. Recent research shows that there are approximately the same number of women in professional schools as men. According to Forbes in July 2023, 57.4 percent of the workforce are women.\",\n",
       " 'rejected': \"The 1900s saw a dramatic shift in the role of women in the workforce. Prior to this time, women were primarily homemakers and caregivers, with limited opportunities for paid work outside the home. However, with the rise of industrialization and the growth of the economy, women began to enter the workforce in increasing numbers.\\n\\nOne of the primary factors that led to this change was the need for workers in factories and other industries. As men went off to war or pursued other opportunities, women were needed to fill the gaps in the workforce. This need for workers created a new sense of opportunity for women, who had previously been limited by social and cultural expectations.\\n\\nAnother factor that contributed to the change was the growing feminist movement. Women's rights activists worked to break down barriers and stereotypes that prevented women from pursuing their own goals and ambitions. They fought for equal pay, equal opportunities, and the right to vote, among other rights.\\n\\nAs a result of these and other factors, women began to enter the workforce in increasing numbers. They worked in factories, offices, and other industries, often performing the same jobs as men. This shift in the role of women had a profound impact on society, changing the way that people thought about gender roles and the value of women's work.\\n\\nToday, women continue to make up a significant portion of the workforce, and many have achieved success in a wide range of industries. While there is still work to be done to achieve true gender equality, the changes that began in the early 1900s have paved the way for a more diverse and inclusive workforce.\"}"
      ]
     },
     "execution_count": 13,
     "metadata": {},
     "output_type": "execute_result"
    }
   ],
   "source": [
    "# dataset = load_dataset('Columbia-NLP/DPO-HelpSteer')\n",
    "dataset = load_dataset('Atsunori/HelpSteer2-DPO').map(lambda x: {\n",
    "    'prompt': x['prompt']+ ' '})\n",
    "dataset['train'] = sample(dataset['train'], num_samples)\n",
    "dataset2 = dataset.rename_column('chosen_response', 'chosen').rename_column('rejected_response', 'rejected')\n",
    "dataset2['train'][0]"
   ]
  },
  {
   "cell_type": "code",
   "execution_count": 14,
   "metadata": {},
   "outputs": [
    {
     "name": "stdout",
     "output_type": "stream",
     "text": [
      "When did women join the labor workforce outside of the home? What caused the change from housewife to breadwinner? Write a short informative paragraph under 200 words. \n",
      "===\n",
      "In the early 20th century, less than 20% of women worked outside the home. Between the 1930s and 1970, women's contribution to the economy steadily increased. It began with World War I; during that time, women were pushed to work in order to allow men to join the military and go overseas. Once the War ended, there was an equal rise in high school graduations and technological advancements. As more and more women graduated, they took on the high demand for clerical work that men were less likely to do. Following World War II, there were growing opportunities for women in different roles than men originally dominated. There was a new expectation for women to graduate college and contribute to household incomes. By 1990, the percentage of women working increased by 76%. Recent research shows that there are approximately the same number of women in professional schools as men. According to Forbes in July 2023, 57.4 percent of the workforce are women.\n",
      "---\n",
      "The 1900s saw a dramatic shift in the role of women in the workforce. Prior to this time, women were primarily homemakers and caregivers, with limited opportunities for paid work outside the home. However, with the rise of industrialization and the growth of the economy, women began to enter the workforce in increasing numbers.\n",
      "\n",
      "One of the primary factors that led to this change was the need for workers in factories and other industries. As men went off to war or pursued other opportunities, women were needed to fill the gaps in the workforce. This need for workers created a new sense of opportunity for women, who had previously been limited by social and cultural expectations.\n",
      "\n",
      "Another factor that contributed to the change was the growing feminist movement. Women's rights activists worked to break down barriers and stereotypes that prevented women from pursuing their own goals and ambitions. They fought for equal pay, equal opportunities, and the right to vote, among other rights.\n",
      "\n",
      "As a result of these and other factors, women began to enter the workforce in increasing numbers. They worked in factories, offices, and other industries, often performing the same jobs as men. This shift in the role of women had a profound impact on society, changing the way that people thought about gender roles and the value of women's work.\n",
      "\n",
      "Today, women continue to make up a significant portion of the workforce, and many have achieved success in a wide range of industries. While there is still work to be done to achieve true gender equality, the changes that began in the early 1900s have paved the way for a more diverse and inclusive workforce.\n"
     ]
    }
   ],
   "source": [
    "r = dataset2['train'][0]\n",
    "print(r['prompt'])\n",
    "print('===')\n",
    "print(r['chosen'])\n",
    "print('---')\n",
    "print(r['rejected'])"
   ]
  },
  {
   "cell_type": "code",
   "execution_count": 15,
   "metadata": {},
   "outputs": [],
   "source": [
    "from reprpo.gen import generation_test"
   ]
  },
  {
   "cell_type": "markdown",
   "metadata": {},
   "source": [
    "## Train"
   ]
  },
  {
   "cell_type": "code",
   "execution_count": 16,
   "metadata": {},
   "outputs": [],
   "source": [
    "from reprpo.train.trainer import ReprPOTrainer, ReprPOConfig\n",
    "from reprpo.train.side_channels import ReprPOTrainerSideChannel, ReprPOSideChannelConfig2Outs, ReprPOSideChannelkConfig2Ins, check_training_args"
   ]
  },
  {
   "cell_type": "markdown",
   "metadata": {},
   "source": [
    "### Modified classes\n",
    "\n",
    "- here we can defined the experimetns loss function"
   ]
  },
  {
   "cell_type": "code",
   "execution_count": 17,
   "metadata": {},
   "outputs": [
    {
     "data": {
      "text/plain": [
       "reprpo.train.side_channels.ReprPOSideChannelkConfig2Ins"
      ]
     },
     "execution_count": 17,
     "metadata": {},
     "output_type": "execute_result"
    }
   ],
   "source": [
    "if use_inputs:\n",
    "    ReprPOConfig2 = ReprPOSideChannelkConfig2Ins # note sure this has grad\n",
    "else:\n",
    "    ReprPOConfig2 = ReprPOSideChannelConfig2Outs\n",
    "\n",
    "ReprPOConfig2"
   ]
  },
  {
   "cell_type": "code",
   "execution_count": 18,
   "metadata": {},
   "outputs": [],
   "source": [
    "\n",
    "\n",
    "# training_args = ReprPOConfig2('')\n",
    "# check_training_args(training_args, model)\n",
    "# training_args"
   ]
  },
  {
   "cell_type": "markdown",
   "metadata": {},
   "source": [
    "### Run"
   ]
  },
  {
   "cell_type": "code",
   "execution_count": 19,
   "metadata": {},
   "outputs": [],
   "source": [
    "from reprpo.helpers.torch import clear_mem\n",
    "clear_mem()"
   ]
  },
  {
   "cell_type": "code",
   "execution_count": 20,
   "metadata": {},
   "outputs": [
    {
     "data": {
      "text/plain": [
       "7221"
      ]
     },
     "execution_count": 20,
     "metadata": {},
     "output_type": "execute_result"
    }
   ],
   "source": [
    "# update the ideal number of sample for how many are available\n",
    "num_data_samples = min(num_samples, len(dataset2['train']))\n",
    "num_data_samples"
   ]
  },
  {
   "cell_type": "markdown",
   "metadata": {},
   "source": []
  },
  {
   "cell_type": "code",
   "execution_count": 21,
   "metadata": {},
   "outputs": [
    {
     "data": {
      "text/plain": [
       "{'ReprPO': LoraConfig(peft_type=<PeftType.LORA: 'LORA'>, auto_mapping=None, base_model_name_or_path='microsoft/Phi-3-mini-4k-instruct', revision=None, task_type='CAUSAL_LM', inference_mode=False, r=16, target_modules={'o_proj', 'gate_up_proj', 'qkv_proj', 'down_proj'}, lora_alpha=16, lora_dropout=0.0, fan_in_fan_out=False, bias='none', use_rslora=False, modules_to_save=None, init_lora_weights=True, layers_to_transform=None, layers_pattern=None, rank_pattern={}, alpha_pattern={}, megatron_config=None, megatron_core='megatron.core', loftq_config={}, use_dora=False, layer_replication=None, runtime_config=LoraRuntimeConfig(ephemeral_gpu_offload=False))}"
      ]
     },
     "execution_count": 21,
     "metadata": {},
     "output_type": "execute_result"
    }
   ],
   "source": [
    "model.peft_config"
   ]
  },
  {
   "cell_type": "code",
   "execution_count": 22,
   "metadata": {},
   "outputs": [
    {
     "name": "stdout",
     "output_type": "stream",
     "text": [
      "{'gradient_accumulation_steps': 1, 'num_train_epochs': 1, 'batch_size': 1}\n",
      "ReprPOSideChannelkConfig2Ins(\n",
      "_n_gpu=1,\n",
      "accelerator_config={'split_batches': False, 'dispatch_batches': None, 'even_batches': True, 'use_seedable_sampler': True, 'non_blocking': False, 'gradient_accumulation_kwargs': None, 'use_configured_state': False},\n",
      "adafactor=False,\n",
      "adam_beta1=0.9,\n",
      "adam_beta2=0.999,\n",
      "adam_epsilon=1e-08,\n",
      "alpha=0.3,\n",
      "auto_find_batch_size=False,\n",
      "batch_eval_metrics=False,\n",
      "beta=0.1,\n",
      "bf16=True,\n",
      "bf16_full_eval=False,\n",
      "collect_input=True,\n",
      "collection_keys=('base_model.model.model.layers.{layer}.self_attn.o_proj', 'base_model.model.model.layers.{layer}.mlp.down_proj'),\n",
      "collection_layers=(11, 12, 13, 14, 15, 16, 17, 19, 20, 21, 22),\n",
      "data_seed=None,\n",
      "dataloader_drop_last=False,\n",
      "dataloader_num_workers=0,\n",
      "dataloader_persistent_workers=False,\n",
      "dataloader_pin_memory=True,\n",
      "dataloader_prefetch_factor=None,\n",
      "dataset_num_proc=None,\n",
      "ddp_backend=None,\n",
      "ddp_broadcast_buffers=None,\n",
      "ddp_bucket_cap_mb=None,\n",
      "ddp_find_unused_parameters=None,\n",
      "ddp_timeout=1800,\n",
      "debug=[],\n",
      "deepspeed=None,\n",
      "disable_dropout=True,\n",
      "disable_tqdm=False,\n",
      "dispatch_batches=None,\n",
      "do_eval=True,\n",
      "do_predict=False,\n",
      "do_train=False,\n",
      "eval_accumulation_steps=None,\n",
      "eval_delay=0,\n",
      "eval_do_concat_batches=True,\n",
      "eval_on_start=False,\n",
      "eval_steps=1350,\n",
      "eval_strategy=steps,\n",
      "eval_use_gather_object=False,\n",
      "evaluation_strategy=None,\n",
      "f_alpha_divergence_coef=1.0,\n",
      "f_divergence_type=FDivergenceType.REVERSE_KL,\n",
      "force_use_ref_model=False,\n",
      "fp16=False,\n",
      "fp16_backend=auto,\n",
      "fp16_full_eval=False,\n",
      "fp16_opt_level=O2,\n",
      "fsdp=[],\n",
      "fsdp_config={'min_num_params': 0, 'xla': False, 'xla_fsdp_v2': False, 'xla_fsdp_grad_ckpt': False},\n",
      "fsdp_min_num_params=0,\n",
      "fsdp_transformer_layer_cls_to_wrap=None,\n",
      "full_determinism=False,\n",
      "generate_during_eval=False,\n",
      "gradient_accumulation_steps=1,\n",
      "gradient_checkpointing=False,\n",
      "gradient_checkpointing_kwargs=None,\n",
      "greater_is_better=None,\n",
      "group_by_length=False,\n",
      "half_precision_backend=auto,\n",
      "hub_always_push=False,\n",
      "hub_model_id=None,\n",
      "hub_private_repo=False,\n",
      "hub_strategy=every_save,\n",
      "hub_token=<HUB_TOKEN>,\n",
      "ignore_data_skip=False,\n",
      "include_inputs_for_metrics=False,\n",
      "include_num_input_tokens_seen=False,\n",
      "include_tokens_per_second=False,\n",
      "is_encoder_decoder=None,\n",
      "jit_mode_eval=False,\n",
      "label_names=None,\n",
      "label_pad_token_id=-100,\n",
      "label_smoothing=0,\n",
      "label_smoothing_factor=0.0,\n",
      "learning_rate=0.0001,\n",
      "length_column_name=length,\n",
      "load_best_model_at_end=False,\n",
      "local_rank=0,\n",
      "log_level=passive,\n",
      "log_level_replica=warning,\n",
      "log_on_each_node=True,\n",
      "logging_dir=./output-dir/20_hf_phi_hs_outproj-out-2024-08-09-13-58-28/runs/Aug09_13-58-28_wassname-fractal-desktop,\n",
      "logging_first_step=False,\n",
      "logging_nan_inf_filter=True,\n",
      "logging_steps=1,\n",
      "logging_strategy=steps,\n",
      "loss_type=sigmoid,\n",
      "lr_scheduler_kwargs={},\n",
      "lr_scheduler_type=constant,\n",
      "max_grad_norm=10,\n",
      "max_length=128,\n",
      "max_prompt_length=64,\n",
      "max_steps=-1,\n",
      "max_target_length=None,\n",
      "metric_for_best_model=None,\n",
      "model_adapter_name=ReprPO,\n",
      "model_init_kwargs=None,\n",
      "mp_parameters=,\n",
      "neftune_noise_alpha=None,\n",
      "no_cuda=False,\n",
      "num_train_epochs=1,\n",
      "optim=adamw_8bit,\n",
      "optim_args=None,\n",
      "optim_target_modules=None,\n",
      "output_dir=./output-dir/20_hf_phi_hs_outproj-out-2024-08-09-13-58-28,\n",
      "overwrite_output_dir=False,\n",
      "padding_value=None,\n",
      "past_index=-1,\n",
      "per_device_eval_batch_size=1,\n",
      "per_device_train_batch_size=1,\n",
      "precompute_ref_log_probs=False,\n",
      "prediction_loss_only=False,\n",
      "print_every=1350,\n",
      "push_to_hub=False,\n",
      "push_to_hub_model_id=None,\n",
      "push_to_hub_organization=None,\n",
      "push_to_hub_token=<PUSH_TO_HUB_TOKEN>,\n",
      "ray_scope=last,\n",
      "ref_adapter_name=None,\n",
      "ref_model_init_kwargs=None,\n",
      "ref_model_mixup_alpha=0.9,\n",
      "ref_model_sync_steps=64,\n",
      "reference_free=False,\n",
      "remove_unused_columns=False,\n",
      "report_to=['tensorboard', 'wandb'],\n",
      "restore_callback_states_from_checkpoint=False,\n",
      "resume_from_checkpoint=None,\n",
      "rpo_alpha=None,\n",
      "run_name=20_hf_phi_hs_outproj-out-2024-08-09-13-58-28,\n",
      "save_on_each_node=False,\n",
      "save_only_model=False,\n",
      "save_safetensors=True,\n",
      "save_steps=500,\n",
      "save_strategy=steps,\n",
      "save_total_limit=None,\n",
      "seed=42,\n",
      "skip_memory_metrics=True,\n",
      "split_batches=None,\n",
      "sync_ref_model=False,\n",
      "tf32=True,\n",
      "torch_compile=False,\n",
      "torch_compile_backend=None,\n",
      "torch_compile_mode=None,\n",
      "torch_empty_cache_steps=None,\n",
      "torchdynamo=None,\n",
      "tpu_metrics_debug=False,\n",
      "tpu_num_cores=None,\n",
      "truncation_mode=keep_end,\n",
      "use_cpu=False,\n",
      "use_ipex=False,\n",
      "use_legacy_prediction_loop=False,\n",
      "use_mps_device=False,\n",
      "warmup_ratio=0.1,\n",
      "warmup_steps=0,\n",
      "weight_decay=0,\n",
      ")\n",
      "['base_model.model.model.layers.11.self_attn.o_proj', 'base_model.model.model.layers.11.mlp.down_proj', 'base_model.model.model.layers.12.self_attn.o_proj', 'base_model.model.model.layers.12.mlp.down_proj', 'base_model.model.model.layers.13.self_attn.o_proj', 'base_model.model.model.layers.13.mlp.down_proj', 'base_model.model.model.layers.14.self_attn.o_proj', 'base_model.model.model.layers.14.mlp.down_proj', 'base_model.model.model.layers.15.self_attn.o_proj', 'base_model.model.model.layers.15.mlp.down_proj', 'base_model.model.model.layers.16.self_attn.o_proj', 'base_model.model.model.layers.16.mlp.down_proj', 'base_model.model.model.layers.17.self_attn.o_proj', 'base_model.model.model.layers.17.mlp.down_proj', 'base_model.model.model.layers.19.self_attn.o_proj', 'base_model.model.model.layers.19.mlp.down_proj', 'base_model.model.model.layers.20.self_attn.o_proj', 'base_model.model.model.layers.20.mlp.down_proj', 'base_model.model.model.layers.21.self_attn.o_proj', 'base_model.model.model.layers.21.mlp.down_proj', 'base_model.model.model.layers.22.self_attn.o_proj', 'base_model.model.model.layers.22.mlp.down_proj']\n"
     ]
    }
   ],
   "source": [
    "batch_size = 1 # 42//8\n",
    "ideal_batch_size = 1\n",
    "gradient_accumulation_steps = ideal_batch_size // batch_size\n",
    "num_train_epochs = num_samples // num_data_samples\n",
    "num_steps = num_samples // ideal_batch_size\n",
    "print(dict(gradient_accumulation_steps=gradient_accumulation_steps, num_train_epochs=num_train_epochs, batch_size=batch_size))\n",
    "\n",
    "# vscode + wandb compat\n",
    "dt = pd.Timestamp.now().strftime(\"%Y-%m-%d-%H-%M-%S\")\n",
    "# TODO put model and adapter base names?\n",
    "run_name = f\"{nb_name}-{dt}\"\n",
    "\n",
    "training_args = ReprPOConfig2(\n",
    "    num_train_epochs=num_train_epochs,\n",
    "    learning_rate=1e-4, # 5e-7 in the dpo paper? but this method needs much more\n",
    "    gradient_accumulation_steps=gradient_accumulation_steps,\n",
    "    per_device_train_batch_size=batch_size,\n",
    "    per_device_eval_batch_size=batch_size,\n",
    "\n",
    "    lr_scheduler_type=\"constant\",\n",
    "    # lr_scheduler_type=\"cosine\",\n",
    "    warmup_ratio=0.1,\n",
    "    # optim = \"adamw_8bit\" if use_bnb else \"adamw_torch\",\n",
    "    optim = \"adamw_8bit\",\n",
    "    weight_decay = 0,\n",
    "\n",
    "    seed=42,\n",
    "    logging_steps=1,\n",
    "    print_every=(num_steps//10),\n",
    "    # save_steps=500,\n",
    "    # save_strategy=\"steps\",\n",
    "    output_dir=f\"./output-dir/{run_name}\",\n",
    "\n",
    "    gradient_checkpointing=use_gradient_checkpointing,\n",
    "    bf16=True,\n",
    "    fp16_opt_level=\"O2\",\n",
    "    tf32=True, # ontrols whether TensorFloat-32 tensor cores may be used in matrix multiplications on Ampere or newer GPUs. \n",
    "    remove_unused_columns=False,\n",
    "    max_grad_norm=10,\n",
    "\n",
    "    max_prompt_length=max_prompt_length,\n",
    "    max_length=max_length,\n",
    "\n",
    "    report_to=['tensorboard', 'wandb'],\n",
    "    model_adapter_name='ReprPO',\n",
    "    alpha=.3,\n",
    "\n",
    "    run_name=run_name,\n",
    "\n",
    "    do_eval=True,\n",
    "    eval_strategy=\"steps\",\n",
    "    eval_steps=(num_steps//10),\n",
    "\n",
    ")\n",
    "\n",
    "check_training_args(training_args, model)\n",
    "print(training_args)\n",
    "\n",
    "reprpo_trainer = ReprPOTrainerSideChannel(\n",
    "    model=model,\n",
    "    ref_model=None,\n",
    "    args=training_args,\n",
    "    # beta=training_args.beta,\n",
    "    train_dataset=dataset2[\"train\"],\n",
    "    eval_dataset=dataset2[\"validation\"],\n",
    "    tokenizer=tokenizer,\n",
    ")\n",
    "model.config.use_cache = False\n",
    "\n",
    "# Transformer does not recognise vscode notebooks\n",
    "reprpo_trainer.callback_handler.remove_callback(ProgressCallback)\n",
    "reprpo_trainer.callback_handler.add_callback(NotebookProgressCallback)"
   ]
  },
  {
   "cell_type": "code",
   "execution_count": 23,
   "metadata": {},
   "outputs": [],
   "source": [
    "# # QC train dataset\n",
    "# r = reprpo_trainer.train_dataset[0]\n",
    "# print('prompt', tokenizer.decode(r['prompt_input_ids']))\n",
    "# print('-'*80)q\n",
    "# print('chosen',tokenizer.decode(r['chosen_input_ids']))\n",
    "# print('-'*80)\n",
    "# print('rejected',tokenizer.decode(r['rejected_input_ids']))\n",
    "# print('='*80)\n",
    "clear_mem()"
   ]
  },
  {
   "cell_type": "code",
   "execution_count": 24,
   "metadata": {},
   "outputs": [
    {
     "name": "stderr",
     "output_type": "stream",
     "text": [
      "\u001b[34m\u001b[1mwandb\u001b[0m: Currently logged in as: \u001b[33mwassname\u001b[0m. Use \u001b[1m`wandb login --relogin`\u001b[0m to force relogin\n"
     ]
    },
    {
     "data": {
      "text/html": [
       "wandb version 0.17.6 is available!  To upgrade, please run:\n",
       " $ pip install wandb --upgrade"
      ],
      "text/plain": [
       "<IPython.core.display.HTML object>"
      ]
     },
     "metadata": {},
     "output_type": "display_data"
    },
    {
     "data": {
      "text/html": [
       "Tracking run with wandb version 0.17.5"
      ],
      "text/plain": [
       "<IPython.core.display.HTML object>"
      ]
     },
     "metadata": {},
     "output_type": "display_data"
    },
    {
     "data": {
      "text/html": [
       "Run data is saved locally in <code>/media/wassname/SGIronWolf/projects5/elk/repr-preference-optimization/nbs/wandb/run-20240809_135833-erlm03su</code>"
      ],
      "text/plain": [
       "<IPython.core.display.HTML object>"
      ]
     },
     "metadata": {},
     "output_type": "display_data"
    },
    {
     "data": {
      "text/html": [
       "Syncing run <strong><a href='https://wandb.ai/wassname/repo-dpo/runs/erlm03su' target=\"_blank\">20_hf_phi_hs_outproj-out-2024-08-09-13-58-28</a></strong> to <a href='https://wandb.ai/wassname/repo-dpo' target=\"_blank\">Weights & Biases</a> (<a href='https://wandb.me/run' target=\"_blank\">docs</a>)<br/>"
      ],
      "text/plain": [
       "<IPython.core.display.HTML object>"
      ]
     },
     "metadata": {},
     "output_type": "display_data"
    },
    {
     "data": {
      "text/html": [
       " View project at <a href='https://wandb.ai/wassname/repo-dpo' target=\"_blank\">https://wandb.ai/wassname/repo-dpo</a>"
      ],
      "text/plain": [
       "<IPython.core.display.HTML object>"
      ]
     },
     "metadata": {},
     "output_type": "display_data"
    },
    {
     "data": {
      "text/html": [
       " View run at <a href='https://wandb.ai/wassname/repo-dpo/runs/erlm03su' target=\"_blank\">https://wandb.ai/wassname/repo-dpo/runs/erlm03su</a>"
      ],
      "text/plain": [
       "<IPython.core.display.HTML object>"
      ]
     },
     "metadata": {},
     "output_type": "display_data"
    },
    {
     "name": "stderr",
     "output_type": "stream",
     "text": [
      "Could not estimate the number of tokens of the input, floating-point operations will not be computed\n"
     ]
    },
    {
     "name": "stdout",
     "output_type": "stream",
     "text": [
      "{'rewards/accuracies': '0', 'rewards/margins': '0', 'logps/rejected': '-0.8293', 'logps/chosen': '-0.6769', 'loss': '1.312', 'rewards/chosen': '0', 'rewards/rejected': '0', 'retain/loss': '1', 'reroute/loss': '1', 'logratios/pi': '0.1524', 'logratios/ref': '0.1524', 'weighting': '1', 'logits': '0', 'component_rr/loss': '1.008', 'component_retain/loss': '0.3008', 'rr/c': '1', 'retain/c': '1', 'retain_cosine': '0.7969', 'rr_cosine': '0.4121'}\n"
     ]
    },
    {
     "data": {
      "text/html": [
       "\n",
       "    <div>\n",
       "      \n",
       "      <progress value='2701' max='7221' style='width:300px; height:20px; vertical-align: middle;'></progress>\n",
       "      [2701/7221 16:54 < 28:18, 2.66 it/s, Epoch 0.37/1]\n",
       "    </div>\n",
       "    <table border=\"1\" class=\"dataframe\">\n",
       "  <thead>\n",
       " <tr style=\"text-align: left;\">\n",
       "      <th>Step</th>\n",
       "      <th>Training Loss</th>\n",
       "      <th>Validation Loss</th>\n",
       "      <th>Rewards/accuracies</th>\n",
       "      <th>Rewards/margins</th>\n",
       "      <th>Logps/rejected</th>\n",
       "      <th>Logps/chosen</th>\n",
       "      <th>Rewards/chosen</th>\n",
       "      <th>Rewards/rejected</th>\n",
       "      <th>Retain/loss</th>\n",
       "      <th>Reroute/loss</th>\n",
       "      <th>Logratios/pi</th>\n",
       "      <th>Logratios/ref</th>\n",
       "      <th>Weighting</th>\n",
       "      <th>Logits</th>\n",
       "      <th>Component Rr/loss</th>\n",
       "      <th>Component Retain/loss</th>\n",
       "      <th>Rr/c</th>\n",
       "      <th>Retain/c</th>\n",
       "      <th>Retain Cosine</th>\n",
       "      <th>Rr Cosine</th>\n",
       "    </tr>\n",
       "  </thead>\n",
       "  <tbody>\n",
       "    <tr>\n",
       "      <td>1350</td>\n",
       "      <td>1.304688</td>\n",
       "      <td>inf</td>\n",
       "      <td>0.522788</td>\n",
       "      <td>0.000622</td>\n",
       "      <td>-1.388661</td>\n",
       "      <td>-1.375485</td>\n",
       "      <td>-0.001422</td>\n",
       "      <td>-0.002043</td>\n",
       "      <td>inf</td>\n",
       "      <td>inf</td>\n",
       "      <td>0.013176</td>\n",
       "      <td>0.006958</td>\n",
       "      <td>1.000000</td>\n",
       "      <td>0.006219</td>\n",
       "      <td>inf</td>\n",
       "      <td>inf</td>\n",
       "      <td>1.000000</td>\n",
       "      <td>1.000000</td>\n",
       "      <td>0.906250</td>\n",
       "      <td>0.562500</td>\n",
       "    </tr>\n",
       "  </tbody>\n",
       "</table><p>"
      ],
      "text/plain": [
       "<IPython.core.display.HTML object>"
      ]
     },
     "metadata": {},
     "output_type": "display_data"
    },
    {
     "name": "stderr",
     "output_type": "stream",
     "text": [
      "NaN or Inf found in input tensor.\n",
      "NaN or Inf found in input tensor.\n",
      "NaN or Inf found in input tensor.\n",
      "NaN or Inf found in input tensor.\n",
      "NaN or Inf found in input tensor.\n",
      "NaN or Inf found in input tensor.\n",
      "/media/wassname/SGIronWolf/projects5/elk/repr-preference-optimization/.venv/lib/python3.9/site-packages/peft/utils/save_and_load.py:232: UserWarning: Setting `save_embedding_layers` to `True` as the embedding layer has been resized during finetuning.\n",
      "  warnings.warn(\n",
      "NaN or Inf found in input tensor.\n",
      "NaN or Inf found in input tensor.\n",
      "NaN or Inf found in input tensor.\n",
      "NaN or Inf found in input tensor.\n",
      "NaN or Inf found in input tensor.\n",
      "NaN or Inf found in input tensor.\n",
      "NaN or Inf found in input tensor.\n",
      "NaN or Inf found in input tensor.\n",
      "NaN or Inf found in input tensor.\n",
      "NaN or Inf found in input tensor.\n",
      "NaN or Inf found in input tensor.\n",
      "NaN or Inf found in input tensor.\n",
      "/media/wassname/SGIronWolf/projects5/elk/repr-preference-optimization/.venv/lib/python3.9/site-packages/peft/utils/save_and_load.py:232: UserWarning: Setting `save_embedding_layers` to `True` as the embedding layer has been resized during finetuning.\n",
      "  warnings.warn(\n"
     ]
    },
    {
     "name": "stdout",
     "output_type": "stream",
     "text": [
      "**Question**\n",
      "```\n",
      "<|system|> tldr, markdown<|end|><|user|> Q1: (45 words): Which Science Fiction Society would you prefer to live in and why? Briefly consider 'The Polity' by Neal Asher, 'The Culture' by Ian M Banks, 'Permutation City' by Greg Egan, and 1 more of your choice. Start with your conclusion, then give your reasoning.<|end|><|assistant|>\n",
      "```\n",
      "--------------------------------------------------------------------------------\n",
      "**Adapter:`ReprPO` generation**`\n",
      "`I would prefer to live in 'The Culture' by Ian M Banks. The Culture represents a utopian society where technology and ethics are harmoniously integrated, offering a vision of a peaceful and advanced civilization. The society's emphasis on collective well-being, advanced technology,`\n",
      "--------------------------------------------------------------------------------\n",
      "**Adapter:`None` generation**`\n",
      "`I would prefer to live in 'The Culture' by Ian M. Banks. The Culture represents a post-scarcity society where technology and advanced AI have eradicated poverty, disease, and conflict. This utopian vision offers a harmonious and intellectually stimulating environment, fostering`\n",
      "--------------------------------------------------------------------------------\n",
      "================================================================================\n",
      "{'eval_rewards/accuracies': '1', 'eval_rewards/margins': '0.006066', 'eval_logps/rejected': '-1.006', 'eval_logps/chosen': '-1.248', 'eval_loss': '1.133', 'eval_rewards/chosen': '0.00406', 'eval_rewards/rejected': '-0.002006', 'eval_retain/loss': '1.047', 'eval_reroute/loss': '0.8164', 'eval_logratios/pi': '-0.2414', 'eval_logratios/ref': '-0.3021', 'eval_weighting': '1', 'eval_logits': '0.06066', 'eval_component_rr/loss': '0.8164', 'eval_component_retain/loss': '0.3145', 'eval_rr/c': '1', 'eval_retain/c': '1', 'eval_retain_cosine': '0.7773', 'eval_rr_cosine': '0.4355'}\n",
      "{'eval_rewards/accuracies': '0', 'eval_rewards/margins': '-0.006266', 'eval_logps/rejected': '-1.812', 'eval_logps/chosen': '-2.196', 'eval_loss': '1.422', 'eval_rewards/chosen': '-0.01011', 'eval_rewards/rejected': '-0.003845', 'eval_retain/loss': '1.156', 'eval_reroute/loss': '1.07', 'eval_logratios/pi': '-0.3837', 'eval_logratios/ref': '-0.3211', 'eval_weighting': '1', 'eval_logits': '-0.06266', 'eval_component_rr/loss': '1.07', 'eval_component_retain/loss': '0.3457', 'eval_rr/c': '1', 'eval_retain/c': '1', 'eval_retain_cosine': '0.8477', 'eval_rr_cosine': '0.5742'}\n",
      "{'eval_rewards/accuracies': '0', 'eval_rewards/margins': '-0.0003411', 'eval_logps/rejected': '-2.523', 'eval_logps/chosen': '-2.138', 'eval_loss': '1.25', 'eval_rewards/chosen': '-0.001967', 'eval_rewards/rejected': '-0.001625', 'eval_retain/loss': '1.086', 'eval_reroute/loss': '0.9219', 'eval_logratios/pi': '0.3849', 'eval_logratios/ref': '0.3883', 'eval_weighting': '1', 'eval_logits': '-0.003411', 'eval_component_rr/loss': '0.9219', 'eval_component_retain/loss': '0.3262', 'eval_rr/c': '1', 'eval_retain/c': '1', 'eval_retain_cosine': '0.9961', 'eval_rr_cosine': '0.7227'}\n",
      "{'eval_rewards/accuracies': '0', 'eval_rewards/margins': '-5.075e-05', 'eval_logps/rejected': '-0.8534', 'eval_logps/chosen': '-0.8016', 'eval_loss': '1.469', 'eval_rewards/chosen': '0.001396', 'eval_rewards/rejected': '0.001447', 'eval_retain/loss': '1.234', 'eval_reroute/loss': '1.094', 'eval_logratios/pi': '0.05184', 'eval_logratios/ref': '0.05235', 'eval_weighting': '1', 'eval_logits': '-0.0005075', 'eval_component_rr/loss': '1.094', 'eval_component_retain/loss': '0.3691', 'eval_rr/c': '1', 'eval_retain/c': '1', 'eval_retain_cosine': '0.9961', 'eval_rr_cosine': '0.6719'}\n",
      "{'eval_rewards/accuracies': '1', 'eval_rewards/margins': '0.002261', 'eval_logps/rejected': '-0.5586', 'eval_logps/chosen': '-0.9693', 'eval_loss': '1.047', 'eval_rewards/chosen': '-0.000307', 'eval_rewards/rejected': '-0.002568', 'eval_retain/loss': '1.047', 'eval_reroute/loss': '0.7344', 'eval_logratios/pi': '-0.4108', 'eval_logratios/ref': '-0.4334', 'eval_weighting': '1', 'eval_logits': '0.02261', 'eval_component_rr/loss': '0.7344', 'eval_component_retain/loss': '0.3145', 'eval_rr/c': '1', 'eval_retain/c': '1', 'eval_retain_cosine': '0.7734', 'eval_rr_cosine': '0.4492'}\n",
      "{'eval_rewards/accuracies': '0', 'eval_rewards/margins': '-0.005552', 'eval_logps/rejected': '-1.197', 'eval_logps/chosen': '-0.7246', 'eval_loss': '1.375', 'eval_rewards/chosen': '0.001402', 'eval_rewards/rejected': '0.006954', 'eval_retain/loss': '1.109', 'eval_reroute/loss': '1.047', 'eval_logratios/pi': '0.472', 'eval_logratios/ref': '0.5275', 'eval_weighting': '1', 'eval_logits': '-0.05552', 'eval_component_rr/loss': '1.047', 'eval_component_retain/loss': '0.332', 'eval_rr/c': '1', 'eval_retain/c': '1', 'eval_retain_cosine': '0.8125', 'eval_rr_cosine': '0.6211'}\n",
      "{'eval_rewards/accuracies': '1', 'eval_rewards/margins': '0.009056', 'eval_logps/rejected': '-0.9626', 'eval_logps/chosen': '-1.482', 'eval_loss': '1.203', 'eval_rewards/chosen': '0.002247', 'eval_rewards/rejected': '-0.00681', 'eval_retain/loss': '1.133', 'eval_reroute/loss': '0.8594', 'eval_logratios/pi': '-0.5194', 'eval_logratios/ref': '-0.61', 'eval_weighting': '1', 'eval_logits': '0.09056', 'eval_component_rr/loss': '0.8594', 'eval_component_retain/loss': '0.3418', 'eval_rr/c': '1', 'eval_retain/c': '1', 'eval_retain_cosine': '0.9883', 'eval_rr_cosine': '0.6367'}\n",
      "{'eval_rewards/accuracies': '1', 'eval_rewards/margins': '0.0001985', 'eval_logps/rejected': '-1.566', 'eval_logps/chosen': '-1.299', 'eval_loss': '1.211', 'eval_rewards/chosen': '-0.0003167', 'eval_rewards/rejected': '-0.0005152', 'eval_retain/loss': '1.062', 'eval_reroute/loss': '0.8945', 'eval_logratios/pi': '0.2665', 'eval_logratios/ref': '0.2645', 'eval_weighting': '1', 'eval_logits': '0.001985', 'eval_component_rr/loss': '0.8906', 'eval_component_retain/loss': '0.3184', 'eval_rr/c': '1', 'eval_retain/c': '1', 'eval_retain_cosine': '0.7617', 'eval_rr_cosine': '0.4297'}\n",
      "{'eval_rewards/accuracies': '0', 'eval_rewards/margins': '-0.004242', 'eval_logps/rejected': '-1.391', 'eval_logps/chosen': '-1.396', 'eval_loss': '1.125', 'eval_rewards/chosen': '-0.008477', 'eval_rewards/rejected': '-0.004235', 'eval_retain/loss': '1.102', 'eval_reroute/loss': '0.7969', 'eval_logratios/pi': '-0.005141', 'eval_logratios/ref': '0.03728', 'eval_weighting': '1', 'eval_logits': '-0.04242', 'eval_component_rr/loss': '0.7969', 'eval_component_retain/loss': '0.3301', 'eval_rr/c': '1', 'eval_retain/c': '1', 'eval_retain_cosine': '0.9844', 'eval_rr_cosine': '0.5977'}\n",
      "{'eval_rewards/accuracies': '0', 'eval_rewards/margins': '-0.009106', 'eval_logps/rejected': '-2.119', 'eval_logps/chosen': '-1.96', 'eval_loss': '1.117', 'eval_rewards/chosen': '0.0001841', 'eval_rewards/rejected': '0.00929', 'eval_retain/loss': '1.055', 'eval_reroute/loss': '0.8008', 'eval_logratios/pi': '0.1585', 'eval_logratios/ref': '0.2496', 'eval_weighting': '1', 'eval_logits': '-0.09106', 'eval_component_rr/loss': '0.8008', 'eval_component_retain/loss': '0.3145', 'eval_rr/c': '1', 'eval_retain/c': '1', 'eval_retain_cosine': '0.9961', 'eval_rr_cosine': '0.6289'}\n",
      "{'eval_rewards/accuracies': '1', 'eval_rewards/margins': '0.003007', 'eval_logps/rejected': '-1.551', 'eval_logps/chosen': '-1.592', 'eval_loss': '1.242', 'eval_rewards/chosen': '-0.0001591', 'eval_rewards/rejected': '-0.003166', 'eval_retain/loss': '1.055', 'eval_reroute/loss': '0.9297', 'eval_logratios/pi': '-0.04105', 'eval_logratios/ref': '-0.07112', 'eval_weighting': '1', 'eval_logits': '0.03007', 'eval_component_rr/loss': '0.9258', 'eval_component_retain/loss': '0.3164', 'eval_rr/c': '1', 'eval_retain/c': '1', 'eval_retain_cosine': '0.9961', 'eval_rr_cosine': '0.5977'}\n",
      "{'eval_rewards/accuracies': '0', 'eval_rewards/margins': '-0.006663', 'eval_logps/rejected': '-0.7436', 'eval_logps/chosen': '-0.5935', 'eval_loss': '1.188', 'eval_rewards/chosen': '-0.004985', 'eval_rewards/rejected': '0.001678', 'eval_retain/loss': '1.07', 'eval_reroute/loss': '0.8672', 'eval_logratios/pi': '0.1501', 'eval_logratios/ref': '0.2167', 'eval_weighting': '1', 'eval_logits': '-0.06663', 'eval_component_rr/loss': '0.8711', 'eval_component_retain/loss': '0.3203', 'eval_rr/c': '1', 'eval_retain/c': '1', 'eval_retain_cosine': '0.7852', 'eval_rr_cosine': '0.4316'}\n",
      "{'eval_rewards/accuracies': '1', 'eval_rewards/margins': '0.009103', 'eval_logps/rejected': '-1.998', 'eval_logps/chosen': '-2.288', 'eval_loss': '1.195', 'eval_rewards/chosen': '-0.001851', 'eval_rewards/rejected': '-0.01095', 'eval_retain/loss': '1.047', 'eval_reroute/loss': '0.8828', 'eval_logratios/pi': '-0.2902', 'eval_logratios/ref': '-0.3812', 'eval_weighting': '1', 'eval_logits': '0.09103', 'eval_component_rr/loss': '0.8789', 'eval_component_retain/loss': '0.3145', 'eval_rr/c': '1', 'eval_retain/c': '1', 'eval_retain_cosine': '0.9961', 'eval_rr_cosine': '0.6016'}\n",
      "{'eval_rewards/accuracies': '0', 'eval_rewards/margins': '-0.01158', 'eval_logps/rejected': '-1.229', 'eval_logps/chosen': '-0.9341', 'eval_loss': '1.18', 'eval_rewards/chosen': '-0.0009691', 'eval_rewards/rejected': '0.01061', 'eval_retain/loss': '1.133', 'eval_reroute/loss': '0.8438', 'eval_logratios/pi': '0.2946', 'eval_logratios/ref': '0.4103', 'eval_weighting': '1', 'eval_logits': '-0.1158', 'eval_component_rr/loss': '0.8398', 'eval_component_retain/loss': '0.3398', 'eval_rr/c': '1', 'eval_retain/c': '1', 'eval_retain_cosine': '0.9219', 'eval_rr_cosine': '0.6289'}\n",
      "{'eval_rewards/accuracies': '1', 'eval_rewards/margins': '0.00667', 'eval_logps/rejected': '-1.076', 'eval_logps/chosen': '-1.258', 'eval_loss': '1.234', 'eval_rewards/chosen': '0.004386', 'eval_rewards/rejected': '-0.002284', 'eval_retain/loss': '1.062', 'eval_reroute/loss': '0.9219', 'eval_logratios/pi': '-0.1818', 'eval_logratios/ref': '-0.2485', 'eval_weighting': '1', 'eval_logits': '0.0667', 'eval_component_rr/loss': '0.9219', 'eval_component_retain/loss': '0.3184', 'eval_rr/c': '1', 'eval_retain/c': '1', 'eval_retain_cosine': '0.8594', 'eval_rr_cosine': '0.4688'}\n",
      "{'eval_rewards/accuracies': '1', 'eval_rewards/margins': '0.01474', 'eval_logps/rejected': '-0.9174', 'eval_logps/chosen': '-0.6963', 'eval_loss': '1.117', 'eval_rewards/chosen': '0.004709', 'eval_rewards/rejected': '-0.01003', 'eval_retain/loss': '1.055', 'eval_reroute/loss': '0.8008', 'eval_logratios/pi': '0.2211', 'eval_logratios/ref': '0.07368', 'eval_weighting': '1', 'eval_logits': '0.1474', 'eval_component_rr/loss': '0.8008', 'eval_component_retain/loss': '0.3145', 'eval_rr/c': '1', 'eval_retain/c': '1', 'eval_retain_cosine': '0.9219', 'eval_rr_cosine': '0.5391'}\n",
      "{'eval_rewards/accuracies': '0', 'eval_rewards/margins': '-0.000494', 'eval_logps/rejected': '-2.723', 'eval_logps/chosen': '-2.064', 'eval_loss': '1.484', 'eval_rewards/chosen': '0.01326', 'eval_rewards/rejected': '0.01375', 'eval_retain/loss': '1.211', 'eval_reroute/loss': '1.117', 'eval_logratios/pi': '0.6588', 'eval_logratios/ref': '0.6637', 'eval_weighting': '1', 'eval_logits': '-0.00494', 'eval_component_rr/loss': '1.117', 'eval_component_retain/loss': '0.3633', 'eval_rr/c': '1', 'eval_retain/c': '1', 'eval_retain_cosine': '0.707', 'eval_rr_cosine': '0.582'}\n",
      "{'eval_rewards/accuracies': '1', 'eval_rewards/margins': '0.0002542', 'eval_logps/rejected': '-1.394', 'eval_logps/chosen': '-1.149', 'eval_loss': '1.219', 'eval_rewards/chosen': '0.003068', 'eval_rewards/rejected': '0.002814', 'eval_retain/loss': '1.07', 'eval_reroute/loss': '0.8984', 'eval_logratios/pi': '0.245', 'eval_logratios/ref': '0.2425', 'eval_weighting': '1', 'eval_logits': '0.002542', 'eval_component_rr/loss': '0.8984', 'eval_component_retain/loss': '0.3203', 'eval_rr/c': '1', 'eval_retain/c': '1', 'eval_retain_cosine': '0.7891', 'eval_rr_cosine': '0.4316'}\n",
      "{'eval_rewards/accuracies': '1', 'eval_rewards/margins': '0.008386', 'eval_logps/rejected': '-0.8302', 'eval_logps/chosen': '-0.9787', 'eval_loss': '1.172', 'eval_rewards/chosen': '0.008129', 'eval_rewards/rejected': '-0.0002565', 'eval_retain/loss': '1.062', 'eval_reroute/loss': '0.8516', 'eval_logratios/pi': '-0.1485', 'eval_logratios/ref': '-0.2324', 'eval_weighting': '1', 'eval_logits': '0.08386', 'eval_component_rr/loss': '0.8516', 'eval_component_retain/loss': '0.3184', 'eval_rr/c': '1', 'eval_retain/c': '1', 'eval_retain_cosine': '0.8477', 'eval_rr_cosine': '0.5547'}\n",
      "{'eval_rewards/accuracies': '0', 'eval_rewards/margins': '-0.005173', 'eval_logps/rejected': '-1.204', 'eval_logps/chosen': '-1.585', 'eval_loss': '1.258', 'eval_rewards/chosen': '-0.004849', 'eval_rewards/rejected': '0.000324', 'eval_retain/loss': '1.023', 'eval_reroute/loss': '0.957', 'eval_logratios/pi': '-0.3816', 'eval_logratios/ref': '-0.3299', 'eval_weighting': '1', 'eval_logits': '-0.05173', 'eval_component_rr/loss': '0.9531', 'eval_component_retain/loss': '0.3066', 'eval_rr/c': '1', 'eval_retain/c': '1', 'eval_retain_cosine': '0.9883', 'eval_rr_cosine': '0.5586'}\n",
      "{'eval_rewards/accuracies': '0', 'eval_rewards/margins': '-0.004565', 'eval_logps/rejected': '-1.292', 'eval_logps/chosen': '-1.288', 'eval_loss': '1.172', 'eval_rewards/chosen': '-0.002945', 'eval_rewards/rejected': '0.001621', 'eval_retain/loss': '1.055', 'eval_reroute/loss': '0.8516', 'eval_logratios/pi': '0.004015', 'eval_logratios/ref': '0.04967', 'eval_weighting': '1', 'eval_logits': '-0.04565', 'eval_component_rr/loss': '0.8516', 'eval_component_retain/loss': '0.3164', 'eval_rr/c': '1', 'eval_retain/c': '1', 'eval_retain_cosine': '0.9844', 'eval_rr_cosine': '0.5938'}\n",
      "{'eval_rewards/accuracies': '1', 'eval_rewards/margins': '0.01572', 'eval_logps/rejected': '-1.178', 'eval_logps/chosen': '-1.164', 'eval_loss': '1.086', 'eval_rewards/chosen': '0.005383', 'eval_rewards/rejected': '-0.01034', 'eval_retain/loss': '1.078', 'eval_reroute/loss': '0.7695', 'eval_logratios/pi': '0.0136', 'eval_logratios/ref': '-0.1436', 'eval_weighting': '1', 'eval_logits': '0.1572', 'eval_component_rr/loss': '0.7656', 'eval_component_retain/loss': '0.3223', 'eval_rr/c': '1', 'eval_retain/c': '1', 'eval_retain_cosine': '0.8086', 'eval_rr_cosine': '0.5781'}\n",
      "{'eval_rewards/accuracies': '1', 'eval_rewards/margins': '0.002505', 'eval_logps/rejected': '-1.422', 'eval_logps/chosen': '-0.9237', 'eval_loss': '1.141', 'eval_rewards/chosen': '0.0005583', 'eval_rewards/rejected': '-0.001946', 'eval_retain/loss': '1.07', 'eval_reroute/loss': '0.8164', 'eval_logratios/pi': '0.4979', 'eval_logratios/ref': '0.4728', 'eval_weighting': '1', 'eval_logits': '0.02505', 'eval_component_rr/loss': '0.8164', 'eval_component_retain/loss': '0.3203', 'eval_rr/c': '1', 'eval_retain/c': '1', 'eval_retain_cosine': '0.8359', 'eval_rr_cosine': '0.4883'}\n",
      "{'eval_rewards/accuracies': '1', 'eval_rewards/margins': '0.001504', 'eval_logps/rejected': '-0.8923', 'eval_logps/chosen': '-0.8783', 'eval_loss': '1.164', 'eval_rewards/chosen': '8.181e-05', 'eval_rewards/rejected': '-0.001422', 'eval_retain/loss': '1.086', 'eval_reroute/loss': '0.8359', 'eval_logratios/pi': '0.01391', 'eval_logratios/ref': '-0.00113', 'eval_weighting': '1', 'eval_logits': '0.01504', 'eval_component_rr/loss': '0.8359', 'eval_component_retain/loss': '0.3262', 'eval_rr/c': '1', 'eval_retain/c': '1', 'eval_retain_cosine': '0.8125', 'eval_rr_cosine': '0.5312'}\n",
      "{'eval_rewards/accuracies': '1', 'eval_rewards/margins': '0.0003547', 'eval_logps/rejected': '-1.096', 'eval_logps/chosen': '-1.116', 'eval_loss': '1.43', 'eval_rewards/chosen': '-0.007467', 'eval_rewards/rejected': '-0.007822', 'eval_retain/loss': '1.281', 'eval_reroute/loss': '1.047', 'eval_logratios/pi': '-0.02021', 'eval_logratios/ref': '-0.02375', 'eval_weighting': '1', 'eval_logits': '0.003547', 'eval_component_rr/loss': '1.047', 'eval_component_retain/loss': '0.3867', 'eval_rr/c': '1', 'eval_retain/c': '1', 'eval_retain_cosine': '0.8242', 'eval_rr_cosine': '0.5352'}\n",
      "{'eval_rewards/accuracies': '0', 'eval_rewards/margins': '-0.006949', 'eval_logps/rejected': '-1.459', 'eval_logps/chosen': '-1.666', 'eval_loss': '1.688', 'eval_rewards/chosen': '-0.004346', 'eval_rewards/rejected': '0.002603', 'eval_retain/loss': '1.445', 'eval_reroute/loss': '1.266', 'eval_logratios/pi': '-0.2066', 'eval_logratios/ref': '-0.1371', 'eval_weighting': '1', 'eval_logits': '-0.06949', 'eval_component_rr/loss': '1.258', 'eval_component_retain/loss': '0.4355', 'eval_rr/c': '1', 'eval_retain/c': '1', 'eval_retain_cosine': '0.8281', 'eval_rr_cosine': '0.5781'}\n",
      "{'eval_rewards/accuracies': '0', 'eval_rewards/margins': '-0.01211', 'eval_logps/rejected': '-3.811', 'eval_logps/chosen': '-2.506', 'eval_loss': '1.344', 'eval_rewards/chosen': '-0.01067', 'eval_rewards/rejected': '0.001439', 'eval_retain/loss': '1.039', 'eval_reroute/loss': '1.023', 'eval_logratios/pi': '1.305', 'eval_logratios/ref': '1.426', 'eval_weighting': '1', 'eval_logits': '-0.1211', 'eval_component_rr/loss': '1.031', 'eval_component_retain/loss': '0.3105', 'eval_rr/c': '1', 'eval_retain/c': '1', 'eval_retain_cosine': '0.5703', 'eval_rr_cosine': '0.4688'}\n",
      "{'eval_rewards/accuracies': '0', 'eval_rewards/margins': '-0.002158', 'eval_logps/rejected': '-0.9758', 'eval_logps/chosen': '-1.128', 'eval_loss': '1.281', 'eval_rewards/chosen': '0.003772', 'eval_rewards/rejected': '0.00593', 'eval_retain/loss': '1.07', 'eval_reroute/loss': '0.9609', 'eval_logratios/pi': '-0.1517', 'eval_logratios/ref': '-0.1301', 'eval_weighting': '1', 'eval_logits': '-0.02158', 'eval_component_rr/loss': '0.9609', 'eval_component_retain/loss': '0.3223', 'eval_rr/c': '1', 'eval_retain/c': '1', 'eval_retain_cosine': '0.9883', 'eval_rr_cosine': '0.6016'}\n",
      "{'eval_rewards/accuracies': '1', 'eval_rewards/margins': '0.009552', 'eval_logps/rejected': '-1.253', 'eval_logps/chosen': '-1.071', 'eval_loss': '1.141', 'eval_rewards/chosen': '0.007133', 'eval_rewards/rejected': '-0.002419', 'eval_retain/loss': '1.047', 'eval_reroute/loss': '0.832', 'eval_logratios/pi': '0.1826', 'eval_logratios/ref': '0.08711', 'eval_weighting': '1', 'eval_logits': '0.09552', 'eval_component_rr/loss': '0.8281', 'eval_component_retain/loss': '0.3145', 'eval_rr/c': '1', 'eval_retain/c': '1', 'eval_retain_cosine': '0.7734', 'eval_rr_cosine': '0.4082'}\n",
      "{'eval_rewards/accuracies': '1', 'eval_rewards/margins': '0.01849', 'eval_logps/rejected': '-1.202', 'eval_logps/chosen': '-1.977', 'eval_loss': '1.031', 'eval_rewards/chosen': '-0.00564', 'eval_rewards/rejected': '-0.02413', 'eval_retain/loss': '1.055', 'eval_reroute/loss': '0.7188', 'eval_logratios/pi': '-0.7747', 'eval_logratios/ref': '-0.9596', 'eval_weighting': '1', 'eval_logits': '0.1849', 'eval_component_rr/loss': '0.7188', 'eval_component_retain/loss': '0.3145', 'eval_rr/c': '1', 'eval_retain/c': '1', 'eval_retain_cosine': '0.9883', 'eval_rr_cosine': '0.6055'}\n",
      "{'eval_rewards/accuracies': '0', 'eval_rewards/margins': '-0.003442', 'eval_logps/rejected': '-0.5448', 'eval_logps/chosen': '-0.8467', 'eval_loss': '1.164', 'eval_rewards/chosen': '-0.004802', 'eval_rewards/rejected': '-0.00136', 'eval_retain/loss': '1.047', 'eval_reroute/loss': '0.8438', 'eval_logratios/pi': '-0.3019', 'eval_logratios/ref': '-0.2675', 'eval_weighting': '1', 'eval_logits': '-0.03442', 'eval_component_rr/loss': '0.8477', 'eval_component_retain/loss': '0.3145', 'eval_rr/c': '1', 'eval_retain/c': '1', 'eval_retain_cosine': '0.8164', 'eval_rr_cosine': '0.4629'}\n",
      "{'eval_rewards/accuracies': '0', 'eval_rewards/margins': '-0.02937', 'eval_logps/rejected': '-1.764', 'eval_logps/chosen': '-6.16', 'eval_loss': '3.031', 'eval_rewards/chosen': '-0.03028', 'eval_rewards/rejected': '-0.0009036', 'eval_retain/loss': '2.312', 'eval_reroute/loss': '2.328', 'eval_logratios/pi': '-4.396', 'eval_logratios/ref': '-4.102', 'eval_weighting': '1', 'eval_logits': '-0.2937', 'eval_component_rr/loss': '2.328', 'eval_component_retain/loss': '0.6914', 'eval_rr/c': '1', 'eval_retain/c': '1', 'eval_retain_cosine': '0.7617', 'eval_rr_cosine': '0.5078'}\n",
      "{'eval_rewards/accuracies': '1', 'eval_rewards/margins': '0.005273', 'eval_logps/rejected': '-2.236', 'eval_logps/chosen': '-1.851', 'eval_loss': '1.508', 'eval_rewards/chosen': '-0.002833', 'eval_rewards/rejected': '-0.008107', 'eval_retain/loss': '1.375', 'eval_reroute/loss': '1.094', 'eval_logratios/pi': '0.3853', 'eval_logratios/ref': '0.3325', 'eval_weighting': '1', 'eval_logits': '0.05273', 'eval_component_rr/loss': '1.094', 'eval_component_retain/loss': '0.4121', 'eval_rr/c': '1', 'eval_retain/c': '1', 'eval_retain_cosine': '0.9766', 'eval_rr_cosine': '0.5312'}\n",
      "{'eval_rewards/accuracies': '1', 'eval_rewards/margins': '0.001383', 'eval_logps/rejected': '-0.8979', 'eval_logps/chosen': '-0.8205', 'eval_loss': '1.344', 'eval_rewards/chosen': '0.001505', 'eval_rewards/rejected': '0.0001218', 'eval_retain/loss': '1.117', 'eval_reroute/loss': '1.008', 'eval_logratios/pi': '0.07743', 'eval_logratios/ref': '0.0636', 'eval_weighting': '1', 'eval_logits': '0.01383', 'eval_component_rr/loss': '1.008', 'eval_component_retain/loss': '0.3359', 'eval_rr/c': '1', 'eval_retain/c': '1', 'eval_retain_cosine': '0.7734', 'eval_rr_cosine': '0.4688'}\n",
      "{'eval_rewards/accuracies': '1', 'eval_rewards/margins': '0.008597', 'eval_logps/rejected': '-0.7668', 'eval_logps/chosen': '-0.7576', 'eval_loss': '1.094', 'eval_rewards/chosen': '0.0007555', 'eval_rewards/rejected': '-0.007841', 'eval_retain/loss': '1.078', 'eval_reroute/loss': '0.7734', 'eval_logratios/pi': '0.009265', 'eval_logratios/ref': '-0.0767', 'eval_weighting': '1', 'eval_logits': '0.08597', 'eval_component_rr/loss': '0.7734', 'eval_component_retain/loss': '0.3242', 'eval_rr/c': '1', 'eval_retain/c': '1', 'eval_retain_cosine': '0.9141', 'eval_rr_cosine': '0.5391'}\n",
      "{'eval_rewards/accuracies': '1', 'eval_rewards/margins': '0.002117', 'eval_logps/rejected': '-0.8409', 'eval_logps/chosen': '-0.7836', 'eval_loss': '1.445', 'eval_rewards/chosen': '-0.001481', 'eval_rewards/rejected': '-0.003598', 'eval_retain/loss': '1.258', 'eval_reroute/loss': '1.07', 'eval_logratios/pi': '0.05725', 'eval_logratios/ref': '0.03608', 'eval_weighting': '1', 'eval_logits': '0.02117', 'eval_component_rr/loss': '1.07', 'eval_component_retain/loss': '0.377', 'eval_rr/c': '1', 'eval_retain/c': '1', 'eval_retain_cosine': '0.7773', 'eval_rr_cosine': '0.4609'}\n",
      "{'eval_rewards/accuracies': '1', 'eval_rewards/margins': '0.000554', 'eval_logps/rejected': '-1.379', 'eval_logps/chosen': '-1.509', 'eval_loss': '1.203', 'eval_rewards/chosen': '-0.01063', 'eval_rewards/rejected': '-0.01119', 'eval_retain/loss': '1.094', 'eval_reroute/loss': '0.8711', 'eval_logratios/pi': '-0.1306', 'eval_logratios/ref': '-0.1362', 'eval_weighting': '1', 'eval_logits': '0.00554', 'eval_component_rr/loss': '0.8711', 'eval_component_retain/loss': '0.3262', 'eval_rr/c': '1', 'eval_retain/c': '1', 'eval_retain_cosine': '0.8008', 'eval_rr_cosine': '0.4824'}\n",
      "{'eval_rewards/accuracies': '0', 'eval_rewards/margins': '-0.001219', 'eval_logps/rejected': '-1.028', 'eval_logps/chosen': '-0.9607', 'eval_loss': '1.086', 'eval_rewards/chosen': '-0.006714', 'eval_rewards/rejected': '-0.005495', 'eval_retain/loss': '1.07', 'eval_reroute/loss': '0.7656', 'eval_logratios/pi': '0.06721', 'eval_logratios/ref': '0.07939', 'eval_weighting': '1', 'eval_logits': '-0.01219', 'eval_component_rr/loss': '0.7656', 'eval_component_retain/loss': '0.3223', 'eval_rr/c': '1', 'eval_retain/c': '1', 'eval_retain_cosine': '0.9609', 'eval_rr_cosine': '0.582'}\n",
      "{'eval_rewards/accuracies': '1', 'eval_rewards/margins': '0.009671', 'eval_logps/rejected': '-1.669', 'eval_logps/chosen': '-1.384', 'eval_loss': '3.375', 'eval_rewards/chosen': '0.00824', 'eval_rewards/rejected': '-0.001431', 'eval_retain/loss': '2.891', 'eval_reroute/loss': '2.5', 'eval_logratios/pi': '0.285', 'eval_logratios/ref': '0.1883', 'eval_weighting': '1', 'eval_logits': '0.09671', 'eval_component_rr/loss': '2.5', 'eval_component_retain/loss': '0.8633', 'eval_rr/c': '1', 'eval_retain/c': '1', 'eval_retain_cosine': '0.6641', 'eval_rr_cosine': '0.5664'}\n",
      "{'eval_rewards/accuracies': '0', 'eval_rewards/margins': '-0.009093', 'eval_logps/rejected': '-1.077', 'eval_logps/chosen': '-1.408', 'eval_loss': '1.266', 'eval_rewards/chosen': '-0.008066', 'eval_rewards/rejected': '0.001026', 'eval_retain/loss': '1.102', 'eval_reroute/loss': '0.9375', 'eval_logratios/pi': '-0.3305', 'eval_logratios/ref': '-0.2396', 'eval_weighting': '1', 'eval_logits': '-0.09093', 'eval_component_rr/loss': '0.9375', 'eval_component_retain/loss': '0.3301', 'eval_rr/c': '1', 'eval_retain/c': '1', 'eval_retain_cosine': '0.7773', 'eval_rr_cosine': '0.4258'}\n",
      "{'eval_rewards/accuracies': '1', 'eval_rewards/margins': '0.0005641', 'eval_logps/rejected': '-1.118', 'eval_logps/chosen': '-1.201', 'eval_loss': '1.164', 'eval_rewards/chosen': '0.004189', 'eval_rewards/rejected': '0.003625', 'eval_retain/loss': '1.125', 'eval_reroute/loss': '0.832', 'eval_logratios/pi': '-0.08354', 'eval_logratios/ref': '-0.08918', 'eval_weighting': '1', 'eval_logits': '0.005641', 'eval_component_rr/loss': '0.8281', 'eval_component_retain/loss': '0.3359', 'eval_rr/c': '1', 'eval_retain/c': '1', 'eval_retain_cosine': '0.7852', 'eval_rr_cosine': '0.5273'}\n",
      "{'eval_rewards/accuracies': '1', 'eval_rewards/margins': '0.004159', 'eval_logps/rejected': '-1.542', 'eval_logps/chosen': '-1.335', 'eval_loss': '1.062', 'eval_rewards/chosen': '0.0004723', 'eval_rewards/rejected': '-0.003686', 'eval_retain/loss': '1.062', 'eval_reroute/loss': '0.75', 'eval_logratios/pi': '0.2075', 'eval_logratios/ref': '0.1659', 'eval_weighting': '1', 'eval_logits': '0.04159', 'eval_component_rr/loss': '0.75', 'eval_component_retain/loss': '0.3184', 'eval_rr/c': '1', 'eval_retain/c': '1', 'eval_retain_cosine': '0.7891', 'eval_rr_cosine': '0.4355'}\n",
      "{'eval_rewards/accuracies': '1', 'eval_rewards/margins': '0.01019', 'eval_logps/rejected': '-1.118', 'eval_logps/chosen': '-1.273', 'eval_loss': '1.195', 'eval_rewards/chosen': '0.01369', 'eval_rewards/rejected': '0.0035', 'eval_retain/loss': '1.148', 'eval_reroute/loss': '0.8516', 'eval_logratios/pi': '-0.1554', 'eval_logratios/ref': '-0.2573', 'eval_weighting': '1', 'eval_logits': '0.1019', 'eval_component_rr/loss': '0.8516', 'eval_component_retain/loss': '0.3457', 'eval_rr/c': '1', 'eval_retain/c': '1', 'eval_retain_cosine': '0.7539', 'eval_rr_cosine': '0.4707'}\n",
      "{'eval_rewards/accuracies': '0', 'eval_rewards/margins': '-0.006084', 'eval_logps/rejected': '-0.6659', 'eval_logps/chosen': '-0.4563', 'eval_loss': '1.148', 'eval_rewards/chosen': '-0.0003245', 'eval_rewards/rejected': '0.00576', 'eval_retain/loss': '1.195', 'eval_reroute/loss': '0.7891', 'eval_logratios/pi': '0.2097', 'eval_logratios/ref': '0.2705', 'eval_weighting': '1', 'eval_logits': '-0.06084', 'eval_component_rr/loss': '0.7891', 'eval_component_retain/loss': '0.3594', 'eval_rr/c': '1', 'eval_retain/c': '1', 'eval_retain_cosine': '0.8164', 'eval_rr_cosine': '0.5'}\n",
      "{'eval_rewards/accuracies': '1', 'eval_rewards/margins': '0.006145', 'eval_logps/rejected': '-1.324', 'eval_logps/chosen': '-0.7963', 'eval_loss': '1.102', 'eval_rewards/chosen': '-0.002876', 'eval_rewards/rejected': '-0.009021', 'eval_retain/loss': '1.047', 'eval_reroute/loss': '0.7891', 'eval_logratios/pi': '0.5272', 'eval_logratios/ref': '0.4658', 'eval_weighting': '1', 'eval_logits': '0.06145', 'eval_component_rr/loss': '0.7891', 'eval_component_retain/loss': '0.3145', 'eval_rr/c': '1', 'eval_retain/c': '1', 'eval_retain_cosine': '0.7891', 'eval_rr_cosine': '0.4395'}\n",
      "{'eval_rewards/accuracies': '1', 'eval_rewards/margins': '0.0009758', 'eval_logps/rejected': '-1.059', 'eval_logps/chosen': '-1.091', 'eval_loss': '1.172', 'eval_rewards/chosen': '-0.002992', 'eval_rewards/rejected': '-0.003968', 'eval_retain/loss': '1.156', 'eval_reroute/loss': '0.8281', 'eval_logratios/pi': '-0.03182', 'eval_logratios/ref': '-0.04157', 'eval_weighting': '1', 'eval_logits': '0.009758', 'eval_component_rr/loss': '0.8281', 'eval_component_retain/loss': '0.3457', 'eval_rr/c': '1', 'eval_retain/c': '1', 'eval_retain_cosine': '0.9727', 'eval_rr_cosine': '0.5977'}\n",
      "{'eval_rewards/accuracies': '1', 'eval_rewards/margins': '0.0005235', 'eval_logps/rejected': '-1.607', 'eval_logps/chosen': '-1.649', 'eval_loss': '1.188', 'eval_rewards/chosen': '-0.0007647', 'eval_rewards/rejected': '-0.001288', 'eval_retain/loss': '1.078', 'eval_reroute/loss': '0.8672', 'eval_logratios/pi': '-0.04265', 'eval_logratios/ref': '-0.04789', 'eval_weighting': '1', 'eval_logits': '0.005235', 'eval_component_rr/loss': '0.8633', 'eval_component_retain/loss': '0.3223', 'eval_rr/c': '1', 'eval_retain/c': '1', 'eval_retain_cosine': '0.9883', 'eval_rr_cosine': '0.6289'}\n",
      "{'eval_rewards/accuracies': '1', 'eval_rewards/margins': '0.0004492', 'eval_logps/rejected': '-0.588', 'eval_logps/chosen': '-0.8791', 'eval_loss': '1.25', 'eval_rewards/chosen': '-0.003914', 'eval_rewards/rejected': '-0.004363', 'eval_retain/loss': '1.047', 'eval_reroute/loss': '0.9297', 'eval_logratios/pi': '-0.2911', 'eval_logratios/ref': '-0.2956', 'eval_weighting': '1', 'eval_logits': '0.004492', 'eval_component_rr/loss': '0.9336', 'eval_component_retain/loss': '0.3145', 'eval_rr/c': '1', 'eval_retain/c': '1', 'eval_retain_cosine': '0.9336', 'eval_rr_cosine': '0.5547'}\n",
      "{'eval_rewards/accuracies': '0', 'eval_rewards/margins': '-0.01465', 'eval_logps/rejected': '-1.409', 'eval_logps/chosen': '-1.913', 'eval_loss': '1.07', 'eval_rewards/chosen': '-0.005989', 'eval_rewards/rejected': '0.008657', 'eval_retain/loss': '1.07', 'eval_reroute/loss': '0.7539', 'eval_logratios/pi': '-0.504', 'eval_logratios/ref': '-0.3575', 'eval_weighting': '1', 'eval_logits': '-0.1465', 'eval_component_rr/loss': '0.75', 'eval_component_retain/loss': '0.3203', 'eval_rr/c': '1', 'eval_retain/c': '1', 'eval_retain_cosine': '0.9844', 'eval_rr_cosine': '0.6562'}\n",
      "{'eval_rewards/accuracies': '0', 'eval_rewards/margins': '-0.003299', 'eval_logps/rejected': '-0.8575', 'eval_logps/chosen': '-0.6848', 'eval_loss': '1.164', 'eval_rewards/chosen': '-0.00967', 'eval_rewards/rejected': '-0.006371', 'eval_retain/loss': '1.094', 'eval_reroute/loss': '0.832', 'eval_logratios/pi': '0.1726', 'eval_logratios/ref': '0.2056', 'eval_weighting': '1', 'eval_logits': '-0.03299', 'eval_component_rr/loss': '0.8359', 'eval_component_retain/loss': '0.3301', 'eval_rr/c': '1', 'eval_retain/c': '1', 'eval_retain_cosine': '0.9961', 'eval_rr_cosine': '0.7148'}\n",
      "{'eval_rewards/accuracies': '1', 'eval_rewards/margins': '0.007', 'eval_logps/rejected': '-1.4', 'eval_logps/chosen': '-2.193', 'eval_loss': '1.531', 'eval_rewards/chosen': '0.01036', 'eval_rewards/rejected': '0.003363', 'eval_retain/loss': '1.281', 'eval_reroute/loss': '1.148', 'eval_logratios/pi': '-0.7934', 'eval_logratios/ref': '-0.8634', 'eval_weighting': '1', 'eval_logits': '0.07', 'eval_component_rr/loss': '1.148', 'eval_component_retain/loss': '0.3828', 'eval_rr/c': '1', 'eval_retain/c': '1', 'eval_retain_cosine': '0.8594', 'eval_rr_cosine': '0.5938'}\n",
      "{'eval_rewards/accuracies': '0', 'eval_rewards/margins': '-0.003776', 'eval_logps/rejected': '-0.871', 'eval_logps/chosen': '-0.865', 'eval_loss': '1.188', 'eval_rewards/chosen': '-0.004562', 'eval_rewards/rejected': '-0.000786', 'eval_retain/loss': '1.086', 'eval_reroute/loss': '0.8633', 'eval_logratios/pi': '0.006038', 'eval_logratios/ref': '0.0438', 'eval_weighting': '1', 'eval_logits': '-0.03776', 'eval_component_rr/loss': '0.8633', 'eval_component_retain/loss': '0.3262', 'eval_rr/c': '1', 'eval_retain/c': '1', 'eval_retain_cosine': '0.7656', 'eval_rr_cosine': '0.4766'}\n",
      "{'eval_rewards/accuracies': '1', 'eval_rewards/margins': '0.0001939', 'eval_logps/rejected': '-0.915', 'eval_logps/chosen': '-0.9886', 'eval_loss': '1.188', 'eval_rewards/chosen': '-0.002972', 'eval_rewards/rejected': '-0.003166', 'eval_retain/loss': '1.062', 'eval_reroute/loss': '0.8594', 'eval_logratios/pi': '-0.07365', 'eval_logratios/ref': '-0.07559', 'eval_weighting': '1', 'eval_logits': '0.001939', 'eval_component_rr/loss': '0.8633', 'eval_component_retain/loss': '0.3203', 'eval_rr/c': '1', 'eval_retain/c': '1', 'eval_retain_cosine': '0.9844', 'eval_rr_cosine': '0.5977'}\n",
      "{'eval_rewards/accuracies': '0', 'eval_rewards/margins': '-0.01484', 'eval_logps/rejected': '-1.248', 'eval_logps/chosen': '-1.215', 'eval_loss': '1.312', 'eval_rewards/chosen': '-0.01081', 'eval_rewards/rejected': '0.004031', 'eval_retain/loss': '1.266', 'eval_reroute/loss': '0.9336', 'eval_logratios/pi': '0.03307', 'eval_logratios/ref': '0.1815', 'eval_weighting': '1', 'eval_logits': '-0.1484', 'eval_component_rr/loss': '0.9336', 'eval_component_retain/loss': '0.3809', 'eval_rr/c': '1', 'eval_retain/c': '1', 'eval_retain_cosine': '0.9883', 'eval_rr_cosine': '0.8242'}\n",
      "{'eval_rewards/accuracies': '1', 'eval_rewards/margins': '0.01059', 'eval_logps/rejected': '-2.561', 'eval_logps/chosen': '-2.363', 'eval_loss': '1.141', 'eval_rewards/chosen': '0.002757', 'eval_rewards/rejected': '-0.007838', 'eval_retain/loss': '1.188', 'eval_reroute/loss': '0.7812', 'eval_logratios/pi': '0.1982', 'eval_logratios/ref': '0.0923', 'eval_weighting': '1', 'eval_logits': '0.1059', 'eval_component_rr/loss': '0.7773', 'eval_component_retain/loss': '0.3574', 'eval_rr/c': '1', 'eval_retain/c': '1', 'eval_retain_cosine': '0.8125', 'eval_rr_cosine': '0.6562'}\n",
      "{'eval_rewards/accuracies': '1', 'eval_rewards/margins': '0.007991', 'eval_logps/rejected': '-1.942', 'eval_logps/chosen': '-2.348', 'eval_loss': '1.156', 'eval_rewards/chosen': '-0.00225', 'eval_rewards/rejected': '-0.01024', 'eval_retain/loss': '1.062', 'eval_reroute/loss': '0.8398', 'eval_logratios/pi': '-0.406', 'eval_logratios/ref': '-0.4859', 'eval_weighting': '1', 'eval_logits': '0.07991', 'eval_component_rr/loss': '0.8398', 'eval_component_retain/loss': '0.3203', 'eval_rr/c': '1', 'eval_retain/c': '1', 'eval_retain_cosine': '0.9844', 'eval_rr_cosine': '0.6133'}\n",
      "{'eval_rewards/accuracies': '0', 'eval_rewards/margins': '-0.007917', 'eval_logps/rejected': '-2.409', 'eval_logps/chosen': '-1.743', 'eval_loss': '1.133', 'eval_rewards/chosen': '0.009184', 'eval_rewards/rejected': '0.0171', 'eval_retain/loss': '1.055', 'eval_reroute/loss': '0.8164', 'eval_logratios/pi': '0.6654', 'eval_logratios/ref': '0.7446', 'eval_weighting': '1', 'eval_logits': '-0.07917', 'eval_component_rr/loss': '0.8164', 'eval_component_retain/loss': '0.3145', 'eval_rr/c': '1', 'eval_retain/c': '1', 'eval_retain_cosine': '0.9883', 'eval_rr_cosine': '0.6094'}\n",
      "{'eval_rewards/accuracies': '1', 'eval_rewards/margins': '0.01044', 'eval_logps/rejected': '-1.716', 'eval_logps/chosen': '-1.778', 'eval_loss': '1.234', 'eval_rewards/chosen': '0.006961', 'eval_rewards/rejected': '-0.003474', 'eval_retain/loss': '1.109', 'eval_reroute/loss': '0.9023', 'eval_logratios/pi': '-0.06166', 'eval_logratios/ref': '-0.166', 'eval_weighting': '1', 'eval_logits': '0.1044', 'eval_component_rr/loss': '0.9023', 'eval_component_retain/loss': '0.332', 'eval_rr/c': '1', 'eval_retain/c': '1', 'eval_retain_cosine': '0.9844', 'eval_rr_cosine': '0.5625'}\n",
      "{'eval_rewards/accuracies': '1', 'eval_rewards/margins': '0.01545', 'eval_logps/rejected': '-1.642', 'eval_logps/chosen': '-1.558', 'eval_loss': '0.9648', 'eval_rewards/chosen': '-0.01291', 'eval_rewards/rejected': '-0.02837', 'eval_retain/loss': '1.023', 'eval_reroute/loss': '0.6562', 'eval_logratios/pi': '0.08426', 'eval_logratios/ref': '-0.07027', 'eval_weighting': '1', 'eval_logits': '0.1545', 'eval_component_rr/loss': '0.6562', 'eval_component_retain/loss': '0.3086', 'eval_rr/c': '1', 'eval_retain/c': '1', 'eval_retain_cosine': '0.6719', 'eval_rr_cosine': '0.4492'}\n",
      "{'eval_rewards/accuracies': '0', 'eval_rewards/margins': '-0.002381', 'eval_logps/rejected': '-1.276', 'eval_logps/chosen': '-1.595', 'eval_loss': '1.352', 'eval_rewards/chosen': '9.582e-05', 'eval_rewards/rejected': '0.002477', 'eval_retain/loss': '1.258', 'eval_reroute/loss': '0.9727', 'eval_logratios/pi': '-0.3181', 'eval_logratios/ref': '-0.2943', 'eval_weighting': '1', 'eval_logits': '-0.02381', 'eval_component_rr/loss': '0.9727', 'eval_component_retain/loss': '0.377', 'eval_rr/c': '1', 'eval_retain/c': '1', 'eval_retain_cosine': '0.9883', 'eval_rr_cosine': '0.6094'}\n",
      "{'eval_rewards/accuracies': '1', 'eval_rewards/margins': '0.003516', 'eval_logps/rejected': '-1.02', 'eval_logps/chosen': '-0.3573', 'eval_loss': '1.156', 'eval_rewards/chosen': '-0.004064', 'eval_rewards/rejected': '-0.00758', 'eval_retain/loss': '1.039', 'eval_reroute/loss': '0.8398', 'eval_logratios/pi': '0.6625', 'eval_logratios/ref': '0.6274', 'eval_weighting': '1', 'eval_logits': '0.03516', 'eval_component_rr/loss': '0.8398', 'eval_component_retain/loss': '0.3125', 'eval_rr/c': '1', 'eval_retain/c': '1', 'eval_retain_cosine': '0.9883', 'eval_rr_cosine': '0.6211'}\n",
      "{'eval_rewards/accuracies': '1', 'eval_rewards/margins': '0.01924', 'eval_logps/rejected': '-2.047', 'eval_logps/chosen': '-2.381', 'eval_loss': '1.25', 'eval_rewards/chosen': '0.007739', 'eval_rewards/rejected': '-0.0115', 'eval_retain/loss': '1.055', 'eval_reroute/loss': '0.9375', 'eval_logratios/pi': '-0.3337', 'eval_logratios/ref': '-0.5262', 'eval_weighting': '1', 'eval_logits': '0.1924', 'eval_component_rr/loss': '0.9375', 'eval_component_retain/loss': '0.3164', 'eval_rr/c': '1', 'eval_retain/c': '1', 'eval_retain_cosine': '0.8711', 'eval_rr_cosine': '0.5312'}\n",
      "{'eval_rewards/accuracies': '0', 'eval_rewards/margins': '-0.002526', 'eval_logps/rejected': '-1.151', 'eval_logps/chosen': '-1.093', 'eval_loss': '1.312', 'eval_rewards/chosen': '-0.004963', 'eval_rewards/rejected': '-0.002437', 'eval_retain/loss': '1.234', 'eval_reroute/loss': '0.9375', 'eval_logratios/pi': '0.05763', 'eval_logratios/ref': '0.08289', 'eval_weighting': '1', 'eval_logits': '-0.02526', 'eval_component_rr/loss': '0.9375', 'eval_component_retain/loss': '0.3691', 'eval_rr/c': '1', 'eval_retain/c': '1', 'eval_retain_cosine': '0.9883', 'eval_rr_cosine': '0.6602'}\n",
      "{'eval_rewards/accuracies': '0', 'eval_rewards/margins': '-6.758e-05', 'eval_logps/rejected': '-1.525', 'eval_logps/chosen': '-1.316', 'eval_loss': '0.9688', 'eval_rewards/chosen': '-0.0158', 'eval_rewards/rejected': '-0.01573', 'eval_retain/loss': '1.102', 'eval_reroute/loss': '0.6406', 'eval_logratios/pi': '0.2089', 'eval_logratios/ref': '0.2095', 'eval_weighting': '1', 'eval_logits': '-0.0006758', 'eval_component_rr/loss': '0.6406', 'eval_component_retain/loss': '0.3301', 'eval_rr/c': '1', 'eval_retain/c': '1', 'eval_retain_cosine': '0.9766', 'eval_rr_cosine': '0.5977'}\n",
      "{'eval_rewards/accuracies': '1', 'eval_rewards/margins': '0.002713', 'eval_logps/rejected': '-1.587', 'eval_logps/chosen': '-0.9972', 'eval_loss': '1.141', 'eval_rewards/chosen': '0.002446', 'eval_rewards/rejected': '-0.0002672', 'eval_retain/loss': '1.07', 'eval_reroute/loss': '0.8242', 'eval_logratios/pi': '0.5896', 'eval_logratios/ref': '0.5625', 'eval_weighting': '1', 'eval_logits': '0.02713', 'eval_component_rr/loss': '0.8242', 'eval_component_retain/loss': '0.3203', 'eval_rr/c': '1', 'eval_retain/c': '1', 'eval_retain_cosine': '0.9883', 'eval_rr_cosine': '0.668'}\n",
      "{'eval_rewards/accuracies': '1', 'eval_rewards/margins': '0.003429', 'eval_logps/rejected': '-1.925', 'eval_logps/chosen': '-1.741', 'eval_loss': '1.336', 'eval_rewards/chosen': '-0.006407', 'eval_rewards/rejected': '-0.009836', 'eval_retain/loss': '1.125', 'eval_reroute/loss': '1', 'eval_logratios/pi': '0.1842', 'eval_logratios/ref': '0.1499', 'eval_weighting': '1', 'eval_logits': '0.03429', 'eval_component_rr/loss': '1', 'eval_component_retain/loss': '0.3379', 'eval_rr/c': '1', 'eval_retain/c': '1', 'eval_retain_cosine': '0.9141', 'eval_rr_cosine': '0.6094'}\n",
      "{'eval_rewards/accuracies': '1', 'eval_rewards/margins': '0.0001801', 'eval_logps/rejected': '-1.303', 'eval_logps/chosen': '-0.9905', 'eval_loss': '1.305', 'eval_rewards/chosen': '-0.0005527', 'eval_rewards/rejected': '-0.0007329', 'eval_retain/loss': '1.18', 'eval_reroute/loss': '0.957', 'eval_logratios/pi': '0.3124', 'eval_logratios/ref': '0.3106', 'eval_weighting': '1', 'eval_logits': '0.001801', 'eval_component_rr/loss': '0.9531', 'eval_component_retain/loss': '0.3535', 'eval_rr/c': '1', 'eval_retain/c': '1', 'eval_retain_cosine': '0.9883', 'eval_rr_cosine': '0.6953'}\n",
      "{'eval_rewards/accuracies': '1', 'eval_rewards/margins': '0.001188', 'eval_logps/rejected': '-1.215', 'eval_logps/chosen': '-1.08', 'eval_loss': '1.547', 'eval_rewards/chosen': '0.003466', 'eval_rewards/rejected': '0.002277', 'eval_retain/loss': '1.352', 'eval_reroute/loss': '1.148', 'eval_logratios/pi': '0.1356', 'eval_logratios/ref': '0.1237', 'eval_weighting': '1', 'eval_logits': '0.01188', 'eval_component_rr/loss': '1.148', 'eval_component_retain/loss': '0.4043', 'eval_rr/c': '1', 'eval_retain/c': '1', 'eval_retain_cosine': '0.8242', 'eval_rr_cosine': '0.5938'}\n",
      "{'eval_rewards/accuracies': '0', 'eval_rewards/margins': '-0.002335', 'eval_logps/rejected': '-2.347', 'eval_logps/chosen': '-1.606', 'eval_loss': '1.258', 'eval_rewards/chosen': '0.002963', 'eval_rewards/rejected': '0.005299', 'eval_retain/loss': '1.156', 'eval_reroute/loss': '0.9102', 'eval_logratios/pi': '0.7418', 'eval_logratios/ref': '0.7652', 'eval_weighting': '1', 'eval_logits': '-0.02335', 'eval_component_rr/loss': '0.9102', 'eval_component_retain/loss': '0.3477', 'eval_rr/c': '1', 'eval_retain/c': '1', 'eval_retain_cosine': '0.9883', 'eval_rr_cosine': '0.6719'}\n",
      "{'eval_rewards/accuracies': '0', 'eval_rewards/margins': '-0.002811', 'eval_logps/rejected': '-0.6782', 'eval_logps/chosen': '-1.039', 'eval_loss': '1.203', 'eval_rewards/chosen': '-0.004904', 'eval_rewards/rejected': '-0.002093', 'eval_retain/loss': '1.141', 'eval_reroute/loss': '0.8672', 'eval_logratios/pi': '-0.3603', 'eval_logratios/ref': '-0.3322', 'eval_weighting': '1', 'eval_logits': '-0.02811', 'eval_component_rr/loss': '0.8633', 'eval_component_retain/loss': '0.3418', 'eval_rr/c': '1', 'eval_retain/c': '1', 'eval_retain_cosine': '0.9609', 'eval_rr_cosine': '0.6328'}\n",
      "{'eval_rewards/accuracies': '0', 'eval_rewards/margins': '-0.001818', 'eval_logps/rejected': '-0.7967', 'eval_logps/chosen': '-0.8776', 'eval_loss': '1.344', 'eval_rewards/chosen': '-0.002299', 'eval_rewards/rejected': '-0.0004802', 'eval_retain/loss': '1.125', 'eval_reroute/loss': '1', 'eval_logratios/pi': '-0.0809', 'eval_logratios/ref': '-0.06272', 'eval_weighting': '1', 'eval_logits': '-0.01818', 'eval_component_rr/loss': '1', 'eval_component_retain/loss': '0.3379', 'eval_rr/c': '1', 'eval_retain/c': '1', 'eval_retain_cosine': '0.9844', 'eval_rr_cosine': '0.6289'}\n",
      "{'eval_rewards/accuracies': '0', 'eval_rewards/margins': '-0.007997', 'eval_logps/rejected': '-1.073', 'eval_logps/chosen': '-1.264', 'eval_loss': '1.406', 'eval_rewards/chosen': '-0.003934', 'eval_rewards/rejected': '0.004063', 'eval_retain/loss': '1.258', 'eval_reroute/loss': '1.023', 'eval_logratios/pi': '-0.1902', 'eval_logratios/ref': '-0.1102', 'eval_weighting': '1', 'eval_logits': '-0.07997', 'eval_component_rr/loss': '1.031', 'eval_component_retain/loss': '0.377', 'eval_rr/c': '1', 'eval_retain/c': '1', 'eval_retain_cosine': '0.9844', 'eval_rr_cosine': '0.668'}\n",
      "{'eval_rewards/accuracies': '0', 'eval_rewards/margins': '-0.009668', 'eval_logps/rejected': '-1.803', 'eval_logps/chosen': '-1.963', 'eval_loss': '1.266', 'eval_rewards/chosen': '-0.005485', 'eval_rewards/rejected': '0.004184', 'eval_retain/loss': '1.141', 'eval_reroute/loss': '0.918', 'eval_logratios/pi': '-0.1593', 'eval_logratios/ref': '-0.06263', 'eval_weighting': '1', 'eval_logits': '-0.09668', 'eval_component_rr/loss': '0.9219', 'eval_component_retain/loss': '0.3418', 'eval_rr/c': '1', 'eval_retain/c': '1', 'eval_retain_cosine': '0.9883', 'eval_rr_cosine': '0.6523'}\n",
      "{'eval_rewards/accuracies': '0', 'eval_rewards/margins': '-0.002568', 'eval_logps/rejected': '-1.335', 'eval_logps/chosen': '-1.196', 'eval_loss': '1.203', 'eval_rewards/chosen': '-0.0005191', 'eval_rewards/rejected': '0.002049', 'eval_retain/loss': '1.062', 'eval_reroute/loss': '0.8906', 'eval_logratios/pi': '0.1382', 'eval_logratios/ref': '0.1639', 'eval_weighting': '1', 'eval_logits': '-0.02568', 'eval_component_rr/loss': '0.8867', 'eval_component_retain/loss': '0.3184', 'eval_rr/c': '1', 'eval_retain/c': '1', 'eval_retain_cosine': '0.9961', 'eval_rr_cosine': '0.6094'}\n",
      "{'eval_rewards/accuracies': '1', 'eval_rewards/margins': '0.004312', 'eval_logps/rejected': '-1.076', 'eval_logps/chosen': '-1.094', 'eval_loss': '1.156', 'eval_rewards/chosen': '-0.0006722', 'eval_rewards/rejected': '-0.004984', 'eval_retain/loss': '1.102', 'eval_reroute/loss': '0.8281', 'eval_logratios/pi': '-0.01775', 'eval_logratios/ref': '-0.06087', 'eval_weighting': '1', 'eval_logits': '0.04312', 'eval_component_rr/loss': '0.8281', 'eval_component_retain/loss': '0.3301', 'eval_rr/c': '1', 'eval_retain/c': '1', 'eval_retain_cosine': '0.9883', 'eval_rr_cosine': '0.668'}\n",
      "{'eval_rewards/accuracies': '1', 'eval_rewards/margins': '0.01428', 'eval_logps/rejected': '-1.519', 'eval_logps/chosen': '-1.679', 'eval_loss': '1.172', 'eval_rewards/chosen': '0.00942', 'eval_rewards/rejected': '-0.004857', 'eval_retain/loss': '1.133', 'eval_reroute/loss': '0.8281', 'eval_logratios/pi': '-0.1599', 'eval_logratios/ref': '-0.3027', 'eval_weighting': '1', 'eval_logits': '0.1428', 'eval_component_rr/loss': '0.8281', 'eval_component_retain/loss': '0.3418', 'eval_rr/c': '1', 'eval_retain/c': '1', 'eval_retain_cosine': '0.9844', 'eval_rr_cosine': '0.7031'}\n",
      "{'eval_rewards/accuracies': '0', 'eval_rewards/margins': '-0.004154', 'eval_logps/rejected': '-1.193', 'eval_logps/chosen': '-1.143', 'eval_loss': '1.359', 'eval_rewards/chosen': '-0.003694', 'eval_rewards/rejected': '0.0004601', 'eval_retain/loss': '1.266', 'eval_reroute/loss': '0.9805', 'eval_logratios/pi': '0.0505', 'eval_logratios/ref': '0.09204', 'eval_weighting': '1', 'eval_logits': '-0.04154', 'eval_component_rr/loss': '0.9844', 'eval_component_retain/loss': '0.377', 'eval_rr/c': '1', 'eval_retain/c': '1', 'eval_retain_cosine': '0.9844', 'eval_rr_cosine': '0.7227'}\n",
      "{'eval_rewards/accuracies': '0', 'eval_rewards/margins': '-0.01128', 'eval_logps/rejected': '-1.989', 'eval_logps/chosen': '-1.257', 'eval_loss': '1.375', 'eval_rewards/chosen': '-0.01082', 'eval_rewards/rejected': '0.0004654', 'eval_retain/loss': '1.305', 'eval_reroute/loss': '0.9883', 'eval_logratios/pi': '0.7314', 'eval_logratios/ref': '0.8442', 'eval_weighting': '1', 'eval_logits': '-0.1128', 'eval_component_rr/loss': '0.9883', 'eval_component_retain/loss': '0.3926', 'eval_rr/c': '1', 'eval_retain/c': '1', 'eval_retain_cosine': '0.9023', 'eval_rr_cosine': '0.6719'}\n",
      "{'eval_rewards/accuracies': '0', 'eval_rewards/margins': '-0.007771', 'eval_logps/rejected': '-1.674', 'eval_logps/chosen': '-1.415', 'eval_loss': '1.25', 'eval_rewards/chosen': '-0.01403', 'eval_rewards/rejected': '-0.006256', 'eval_retain/loss': '1.102', 'eval_reroute/loss': '0.9219', 'eval_logratios/pi': '0.2596', 'eval_logratios/ref': '0.3373', 'eval_weighting': '1', 'eval_logits': '-0.07771', 'eval_component_rr/loss': '0.9219', 'eval_component_retain/loss': '0.3301', 'eval_rr/c': '1', 'eval_retain/c': '1', 'eval_retain_cosine': '0.9102', 'eval_rr_cosine': '0.5547'}\n",
      "{'eval_rewards/accuracies': '1', 'eval_rewards/margins': '0.008009', 'eval_logps/rejected': '-1.456', 'eval_logps/chosen': '-1.419', 'eval_loss': '1.344', 'eval_rewards/chosen': '0.009085', 'eval_rewards/rejected': '0.001076', 'eval_retain/loss': '1.125', 'eval_reroute/loss': '1.008', 'eval_logratios/pi': '0.03684', 'eval_logratios/ref': '-0.04325', 'eval_weighting': '1', 'eval_logits': '0.08009', 'eval_component_rr/loss': '1.008', 'eval_component_retain/loss': '0.3379', 'eval_rr/c': '1', 'eval_retain/c': '1', 'eval_retain_cosine': '0.9883', 'eval_rr_cosine': '0.6484'}\n",
      "{'eval_rewards/accuracies': '0', 'eval_rewards/margins': '-0.001574', 'eval_logps/rejected': '-0.9798', 'eval_logps/chosen': '-1.293', 'eval_loss': '1.062', 'eval_rewards/chosen': '-0.001233', 'eval_rewards/rejected': '0.0003416', 'eval_retain/loss': '1.086', 'eval_reroute/loss': '0.7422', 'eval_logratios/pi': '-0.3135', 'eval_logratios/ref': '-0.2977', 'eval_weighting': '1', 'eval_logits': '-0.01574', 'eval_component_rr/loss': '0.7383', 'eval_component_retain/loss': '0.3262', 'eval_rr/c': '1', 'eval_retain/c': '1', 'eval_retain_cosine': '0.9844', 'eval_rr_cosine': '0.582'}\n",
      "{'eval_rewards/accuracies': '1', 'eval_rewards/margins': '0.0001043', 'eval_logps/rejected': '-0.8625', 'eval_logps/chosen': '-0.9943', 'eval_loss': '1.594', 'eval_rewards/chosen': '-0.001444', 'eval_rewards/rejected': '-0.001548', 'eval_retain/loss': '1.469', 'eval_reroute/loss': '1.148', 'eval_logratios/pi': '-0.1317', 'eval_logratios/ref': '-0.1328', 'eval_weighting': '1', 'eval_logits': '0.001043', 'eval_component_rr/loss': '1.148', 'eval_component_retain/loss': '0.4395', 'eval_rr/c': '1', 'eval_retain/c': '1', 'eval_retain_cosine': '0.9844', 'eval_rr_cosine': '0.8008'}\n",
      "{'eval_rewards/accuracies': '0', 'eval_rewards/margins': '-0.00142', 'eval_logps/rejected': '-1.325', 'eval_logps/chosen': '-1.592', 'eval_loss': '1.531', 'eval_rewards/chosen': '-0.0105', 'eval_rewards/rejected': '-0.009082', 'eval_retain/loss': '1.398', 'eval_reroute/loss': '1.109', 'eval_logratios/pi': '-0.2665', 'eval_logratios/ref': '-0.2523', 'eval_weighting': '1', 'eval_logits': '-0.0142', 'eval_component_rr/loss': '1.109', 'eval_component_retain/loss': '0.4199', 'eval_rr/c': '1', 'eval_retain/c': '1', 'eval_retain_cosine': '0.9766', 'eval_rr_cosine': '0.6719'}\n",
      "{'eval_rewards/accuracies': '1', 'eval_rewards/margins': '0.0008906', 'eval_logps/rejected': '-1.117', 'eval_logps/chosen': '-1.324', 'eval_loss': '1.219', 'eval_rewards/chosen': '-0.0001344', 'eval_rewards/rejected': '-0.001025', 'eval_retain/loss': '1.078', 'eval_reroute/loss': '0.9023', 'eval_logratios/pi': '-0.2064', 'eval_logratios/ref': '-0.2153', 'eval_weighting': '1', 'eval_logits': '0.008906', 'eval_component_rr/loss': '0.9023', 'eval_component_retain/loss': '0.3223', 'eval_rr/c': '1', 'eval_retain/c': '1', 'eval_retain_cosine': '0.9961', 'eval_rr_cosine': '0.6406'}\n",
      "{'eval_rewards/accuracies': '0', 'eval_rewards/margins': '-0.009194', 'eval_logps/rejected': '-1.954', 'eval_logps/chosen': '-1.261', 'eval_loss': '1.086', 'eval_rewards/chosen': '-0.005924', 'eval_rewards/rejected': '0.00327', 'eval_retain/loss': '1.047', 'eval_reroute/loss': '0.7695', 'eval_logratios/pi': '0.6933', 'eval_logratios/ref': '0.7853', 'eval_weighting': '1', 'eval_logits': '-0.09194', 'eval_component_rr/loss': '0.7734', 'eval_component_retain/loss': '0.3145', 'eval_rr/c': '1', 'eval_retain/c': '1', 'eval_retain_cosine': '0.9219', 'eval_rr_cosine': '0.6445'}\n",
      "{'eval_rewards/accuracies': '1', 'eval_rewards/margins': '0.0002189', 'eval_logps/rejected': '-1.294', 'eval_logps/chosen': '-1.279', 'eval_loss': '1.336', 'eval_rewards/chosen': '0.003306', 'eval_rewards/rejected': '0.003087', 'eval_retain/loss': '1.242', 'eval_reroute/loss': '0.9688', 'eval_logratios/pi': '0.01486', 'eval_logratios/ref': '0.01267', 'eval_weighting': '1', 'eval_logits': '0.002189', 'eval_component_rr/loss': '0.9648', 'eval_component_retain/loss': '0.373', 'eval_rr/c': '1', 'eval_retain/c': '1', 'eval_retain_cosine': '0.9883', 'eval_rr_cosine': '0.6797'}\n",
      "{'eval_rewards/accuracies': '1', 'eval_rewards/margins': '0.00438', 'eval_logps/rejected': '-1.511', 'eval_logps/chosen': '-1.595', 'eval_loss': '1.117', 'eval_rewards/chosen': '-0.01015', 'eval_rewards/rejected': '-0.01453', 'eval_retain/loss': '1.047', 'eval_reroute/loss': '0.7969', 'eval_logratios/pi': '-0.08419', 'eval_logratios/ref': '-0.128', 'eval_weighting': '1', 'eval_logits': '0.0438', 'eval_component_rr/loss': '0.8008', 'eval_component_retain/loss': '0.3145', 'eval_rr/c': '1', 'eval_retain/c': '1', 'eval_retain_cosine': '0.9883', 'eval_rr_cosine': '0.6055'}\n",
      "{'eval_rewards/accuracies': '0', 'eval_rewards/margins': '-0.0002409', 'eval_logps/rejected': '-1.255', 'eval_logps/chosen': '-0.7335', 'eval_loss': '1.047', 'eval_rewards/chosen': '-0.005596', 'eval_rewards/rejected': '-0.005355', 'eval_retain/loss': '1.031', 'eval_reroute/loss': '0.7383', 'eval_logratios/pi': '0.5211', 'eval_logratios/ref': '0.5235', 'eval_weighting': '1', 'eval_logits': '-0.002409', 'eval_component_rr/loss': '0.7383', 'eval_component_retain/loss': '0.3105', 'eval_rr/c': '1', 'eval_retain/c': '1', 'eval_retain_cosine': '0.7773', 'eval_rr_cosine': '0.5039'}\n",
      "{'eval_rewards/accuracies': '0', 'eval_rewards/margins': '-0.0008816', 'eval_logps/rejected': '-1.415', 'eval_logps/chosen': '-2.008', 'eval_loss': '1.211', 'eval_rewards/chosen': '-0.001655', 'eval_rewards/rejected': '-0.0007731', 'eval_retain/loss': '1.047', 'eval_reroute/loss': '0.8984', 'eval_logratios/pi': '-0.5937', 'eval_logratios/ref': '-0.5848', 'eval_weighting': '1', 'eval_logits': '-0.008816', 'eval_component_rr/loss': '0.8984', 'eval_component_retain/loss': '0.3145', 'eval_rr/c': '1', 'eval_retain/c': '1', 'eval_retain_cosine': '0.9844', 'eval_rr_cosine': '0.5508'}\n",
      "{'eval_rewards/accuracies': '0', 'eval_rewards/margins': '-0.006132', 'eval_logps/rejected': '-4.804', 'eval_logps/chosen': '-3.083', 'eval_loss': '3.938', 'eval_rewards/chosen': '-0.004067', 'eval_rewards/rejected': '0.002066', 'eval_retain/loss': '3.094', 'eval_reroute/loss': '3', 'eval_logratios/pi': '1.721', 'eval_logratios/ref': '1.782', 'eval_weighting': '1', 'eval_logits': '-0.06132', 'eval_component_rr/loss': '3', 'eval_component_retain/loss': '0.9336', 'eval_rr/c': '1', 'eval_retain/c': '1', 'eval_retain_cosine': '0.7656', 'eval_rr_cosine': '0.7188'}\n",
      "{'eval_rewards/accuracies': '0', 'eval_rewards/margins': '-0.02202', 'eval_logps/rejected': '-1.534', 'eval_logps/chosen': '-1.28', 'eval_loss': '1.164', 'eval_rewards/chosen': '-0.01937', 'eval_rewards/rejected': '0.002646', 'eval_retain/loss': '1.172', 'eval_reroute/loss': '0.8164', 'eval_logratios/pi': '0.2539', 'eval_logratios/ref': '0.4741', 'eval_weighting': '1', 'eval_logits': '-0.2202', 'eval_component_rr/loss': '0.8125', 'eval_component_retain/loss': '0.3516', 'eval_rr/c': '1', 'eval_retain/c': '1', 'eval_retain_cosine': '0.7617', 'eval_rr_cosine': '0.418'}\n",
      "{'eval_rewards/accuracies': '1', 'eval_rewards/margins': '0.01829', 'eval_logps/rejected': '-1.705', 'eval_logps/chosen': '-0.9816', 'eval_loss': '0.9766', 'eval_rewards/chosen': '-0.004964', 'eval_rewards/rejected': '-0.02325', 'eval_retain/loss': '1.047', 'eval_reroute/loss': '0.6641', 'eval_logratios/pi': '0.7232', 'eval_logratios/ref': '0.5403', 'eval_weighting': '1', 'eval_logits': '0.1829', 'eval_component_rr/loss': '0.6602', 'eval_component_retain/loss': '0.3145', 'eval_rr/c': '1', 'eval_retain/c': '1', 'eval_retain_cosine': '0.9844', 'eval_rr_cosine': '0.5586'}\n",
      "{'eval_rewards/accuracies': '0', 'eval_rewards/margins': '-0.002771', 'eval_logps/rejected': '-1.44', 'eval_logps/chosen': '-2.013', 'eval_loss': '1.242', 'eval_rewards/chosen': '0.002103', 'eval_rewards/rejected': '0.004875', 'eval_retain/loss': '1.086', 'eval_reroute/loss': '0.9141', 'eval_logratios/pi': '-0.5729', 'eval_logratios/ref': '-0.5452', 'eval_weighting': '1', 'eval_logits': '-0.02771', 'eval_component_rr/loss': '0.9141', 'eval_component_retain/loss': '0.3262', 'eval_rr/c': '1', 'eval_retain/c': '1', 'eval_retain_cosine': '0.9883', 'eval_rr_cosine': '0.6484'}\n",
      "{'eval_rewards/accuracies': '1', 'eval_rewards/margins': '0.004752', 'eval_logps/rejected': '-2.233', 'eval_logps/chosen': '-1.622', 'eval_loss': '1.219', 'eval_rewards/chosen': '0.0003155', 'eval_rewards/rejected': '-0.004437', 'eval_retain/loss': '1.047', 'eval_reroute/loss': '0.9062', 'eval_logratios/pi': '0.6107', 'eval_logratios/ref': '0.5632', 'eval_weighting': '1', 'eval_logits': '0.04752', 'eval_component_rr/loss': '0.9023', 'eval_component_retain/loss': '0.3125', 'eval_rr/c': '1', 'eval_retain/c': '1', 'eval_retain_cosine': '0.9961', 'eval_rr_cosine': '0.5898'}\n",
      "{'eval_rewards/accuracies': '0', 'eval_rewards/margins': '-0.005568', 'eval_logps/rejected': '-2.669', 'eval_logps/chosen': '-0.9505', 'eval_loss': '2.188', 'eval_rewards/chosen': '-0.005819', 'eval_rewards/rejected': '-0.0002511', 'eval_retain/loss': '2.375', 'eval_reroute/loss': '1.477', 'eval_logratios/pi': '1.718', 'eval_logratios/ref': '1.774', 'eval_weighting': '1', 'eval_logits': '-0.05568', 'eval_component_rr/loss': '1.477', 'eval_component_retain/loss': '0.7148', 'eval_rr/c': '1', 'eval_retain/c': '1', 'eval_retain_cosine': '0.8789', 'eval_rr_cosine': '0.6367'}\n",
      "{'eval_rewards/accuracies': '0', 'eval_rewards/margins': '-0.002964', 'eval_logps/rejected': '-2.127', 'eval_logps/chosen': '-0.7862', 'eval_loss': '1.234', 'eval_rewards/chosen': '0.0006929', 'eval_rewards/rejected': '0.003657', 'eval_retain/loss': '1.047', 'eval_reroute/loss': '0.9219', 'eval_logratios/pi': '1.341', 'eval_logratios/ref': '1.37', 'eval_weighting': '1', 'eval_logits': '-0.02964', 'eval_component_rr/loss': '0.9219', 'eval_component_retain/loss': '0.3145', 'eval_rr/c': '1', 'eval_retain/c': '1', 'eval_retain_cosine': '0.9883', 'eval_rr_cosine': '0.7031'}\n",
      "{'eval_rewards/accuracies': '1', 'eval_rewards/margins': '0.005106', 'eval_logps/rejected': '-1.264', 'eval_logps/chosen': '-1.032', 'eval_loss': '1.25', 'eval_rewards/chosen': '-0.0009839', 'eval_rewards/rejected': '-0.00609', 'eval_retain/loss': '1.094', 'eval_reroute/loss': '0.918', 'eval_logratios/pi': '0.2318', 'eval_logratios/ref': '0.1808', 'eval_weighting': '1', 'eval_logits': '0.05106', 'eval_component_rr/loss': '0.9219', 'eval_component_retain/loss': '0.3262', 'eval_rr/c': '1', 'eval_retain/c': '1', 'eval_retain_cosine': '0.9961', 'eval_rr_cosine': '0.6523'}\n",
      "{'eval_rewards/accuracies': '1', 'eval_rewards/margins': '0.003541', 'eval_logps/rejected': '-1.642', 'eval_logps/chosen': '-1.466', 'eval_loss': '1.203', 'eval_rewards/chosen': '-0.004753', 'eval_rewards/rejected': '-0.008294', 'eval_retain/loss': '1.148', 'eval_reroute/loss': '0.8594', 'eval_logratios/pi': '0.176', 'eval_logratios/ref': '0.1405', 'eval_weighting': '1', 'eval_logits': '0.03541', 'eval_component_rr/loss': '0.8633', 'eval_component_retain/loss': '0.3438', 'eval_rr/c': '1', 'eval_retain/c': '1', 'eval_retain_cosine': '0.9844', 'eval_rr_cosine': '0.6484'}\n",
      "{'eval_rewards/accuracies': '1', 'eval_rewards/margins': '0.001435', 'eval_logps/rejected': '-0.6567', 'eval_logps/chosen': '-1.494', 'eval_loss': '1.078', 'eval_rewards/chosen': '-0.002077', 'eval_rewards/rejected': '-0.003512', 'eval_retain/loss': '1.047', 'eval_reroute/loss': '0.7617', 'eval_logratios/pi': '-0.837', 'eval_logratios/ref': '-0.8513', 'eval_weighting': '1', 'eval_logits': '0.01435', 'eval_component_rr/loss': '0.7617', 'eval_component_retain/loss': '0.3145', 'eval_rr/c': '1', 'eval_retain/c': '1', 'eval_retain_cosine': '0.9883', 'eval_rr_cosine': '0.7617'}\n",
      "{'eval_rewards/accuracies': '0', 'eval_rewards/margins': '-0.006202', 'eval_logps/rejected': '-0.6448', 'eval_logps/chosen': '-0.5028', 'eval_loss': '1.469', 'eval_rewards/chosen': '-0.006809', 'eval_rewards/rejected': '-0.000607', 'eval_retain/loss': '1.258', 'eval_reroute/loss': '1.094', 'eval_logratios/pi': '0.142', 'eval_logratios/ref': '0.204', 'eval_weighting': '1', 'eval_logits': '-0.06202', 'eval_component_rr/loss': '1.094', 'eval_component_retain/loss': '0.377', 'eval_rr/c': '1', 'eval_retain/c': '1', 'eval_retain_cosine': '0.9844', 'eval_rr_cosine': '0.6211'}\n",
      "{'eval_rewards/accuracies': '0', 'eval_rewards/margins': '-0.005723', 'eval_logps/rejected': '-1.264', 'eval_logps/chosen': '-1.282', 'eval_loss': '1.227', 'eval_rewards/chosen': '-0.01016', 'eval_rewards/rejected': '-0.004433', 'eval_retain/loss': '1.164', 'eval_reroute/loss': '0.875', 'eval_logratios/pi': '-0.01872', 'eval_logratios/ref': '0.03851', 'eval_weighting': '1', 'eval_logits': '-0.05723', 'eval_component_rr/loss': '0.875', 'eval_component_retain/loss': '0.3496', 'eval_rr/c': '1', 'eval_retain/c': '1', 'eval_retain_cosine': '0.9844', 'eval_rr_cosine': '0.6211'}\n",
      "{'eval_rewards/accuracies': '1', 'eval_rewards/margins': '0.001171', 'eval_logps/rejected': '-0.8528', 'eval_logps/chosen': '-1.138', 'eval_loss': '1.102', 'eval_rewards/chosen': '-0.004549', 'eval_rewards/rejected': '-0.00572', 'eval_retain/loss': '1.094', 'eval_reroute/loss': '0.7734', 'eval_logratios/pi': '-0.285', 'eval_logratios/ref': '-0.2967', 'eval_weighting': '1', 'eval_logits': '0.01171', 'eval_component_rr/loss': '0.7734', 'eval_component_retain/loss': '0.3301', 'eval_rr/c': '1', 'eval_retain/c': '1', 'eval_retain_cosine': '0.9883', 'eval_rr_cosine': '0.6367'}\n",
      "{'eval_rewards/accuracies': '1', 'eval_rewards/margins': '0.00281', 'eval_logps/rejected': '-1.728', 'eval_logps/chosen': '-0.979', 'eval_loss': '1.633', 'eval_rewards/chosen': '0.002397', 'eval_rewards/rejected': '-0.0004136', 'eval_retain/loss': '1.328', 'eval_reroute/loss': '1.234', 'eval_logratios/pi': '0.7492', 'eval_logratios/ref': '0.7211', 'eval_weighting': '1', 'eval_logits': '0.0281', 'eval_component_rr/loss': '1.234', 'eval_component_retain/loss': '0.3984', 'eval_rr/c': '1', 'eval_retain/c': '1', 'eval_retain_cosine': '0.9883', 'eval_rr_cosine': '0.5469'}\n",
      "{'eval_rewards/accuracies': '0', 'eval_rewards/margins': '-0.006328', 'eval_logps/rejected': '-2.132', 'eval_logps/chosen': '-2.063', 'eval_loss': '1.242', 'eval_rewards/chosen': '-0.0001283', 'eval_rewards/rejected': '0.006199', 'eval_retain/loss': '1.219', 'eval_reroute/loss': '0.875', 'eval_logratios/pi': '0.06932', 'eval_logratios/ref': '0.1326', 'eval_weighting': '1', 'eval_logits': '-0.06328', 'eval_component_rr/loss': '0.875', 'eval_component_retain/loss': '0.3672', 'eval_rr/c': '1', 'eval_retain/c': '1', 'eval_retain_cosine': '0.9844', 'eval_rr_cosine': '0.6133'}\n",
      "{'eval_rewards/accuracies': '1', 'eval_rewards/margins': '0.007855', 'eval_logps/rejected': '-1.61', 'eval_logps/chosen': '-1.93', 'eval_loss': '1.164', 'eval_rewards/chosen': '0.004182', 'eval_rewards/rejected': '-0.003673', 'eval_retain/loss': '1.062', 'eval_reroute/loss': '0.8477', 'eval_logratios/pi': '-0.3198', 'eval_logratios/ref': '-0.3984', 'eval_weighting': '1', 'eval_logits': '0.07855', 'eval_component_rr/loss': '0.8477', 'eval_component_retain/loss': '0.3184', 'eval_rr/c': '1', 'eval_retain/c': '1', 'eval_retain_cosine': '0.9961', 'eval_rr_cosine': '0.6289'}\n",
      "{'eval_rewards/accuracies': '0', 'eval_rewards/margins': '-0.006214', 'eval_logps/rejected': '-1.197', 'eval_logps/chosen': '-1.005', 'eval_loss': '1.297', 'eval_rewards/chosen': '0.001525', 'eval_rewards/rejected': '0.007739', 'eval_retain/loss': '1.211', 'eval_reroute/loss': '0.9297', 'eval_logratios/pi': '0.1917', 'eval_logratios/ref': '0.2538', 'eval_weighting': '1', 'eval_logits': '-0.06214', 'eval_component_rr/loss': '0.9336', 'eval_component_retain/loss': '0.3633', 'eval_rr/c': '1', 'eval_retain/c': '1', 'eval_retain_cosine': '0.8281', 'eval_rr_cosine': '0.582'}\n",
      "{'eval_rewards/accuracies': '1', 'eval_rewards/margins': '0.00648', 'eval_logps/rejected': '-1.434', 'eval_logps/chosen': '-1.359', 'eval_loss': '1.266', 'eval_rewards/chosen': '0.003291', 'eval_rewards/rejected': '-0.003189', 'eval_retain/loss': '1.102', 'eval_reroute/loss': '0.9297', 'eval_logratios/pi': '0.07518', 'eval_logratios/ref': '0.01038', 'eval_weighting': '1', 'eval_logits': '0.0648', 'eval_component_rr/loss': '0.9336', 'eval_component_retain/loss': '0.3301', 'eval_rr/c': '1', 'eval_retain/c': '1', 'eval_retain_cosine': '0.9766', 'eval_rr_cosine': '0.6016'}\n",
      "{'eval_rewards/accuracies': '1', 'eval_rewards/margins': '0.0114', 'eval_logps/rejected': '-1.568', 'eval_logps/chosen': '-1.602', 'eval_loss': '0.8672', 'eval_rewards/chosen': '-0.005737', 'eval_rewards/rejected': '-0.01714', 'eval_retain/loss': '1.016', 'eval_reroute/loss': '0.5625', 'eval_logratios/pi': '-0.03367', 'eval_logratios/ref': '-0.1477', 'eval_weighting': '1', 'eval_logits': '0.114', 'eval_component_rr/loss': '0.5625', 'eval_component_retain/loss': '0.3047', 'eval_rr/c': '1', 'eval_retain/c': '1', 'eval_retain_cosine': '0.9961', 'eval_rr_cosine': '0.5977'}\n",
      "{'eval_rewards/accuracies': '1', 'eval_rewards/margins': '0.003414', 'eval_logps/rejected': '-2.004', 'eval_logps/chosen': '-1.836', 'eval_loss': '1.117', 'eval_rewards/chosen': '-0.001781', 'eval_rewards/rejected': '-0.005194', 'eval_retain/loss': '1.062', 'eval_reroute/loss': '0.7969', 'eval_logratios/pi': '0.1673', 'eval_logratios/ref': '0.1331', 'eval_weighting': '1', 'eval_logits': '0.03414', 'eval_component_rr/loss': '0.7969', 'eval_component_retain/loss': '0.3184', 'eval_rr/c': '1', 'eval_retain/c': '1', 'eval_retain_cosine': '0.9883', 'eval_rr_cosine': '0.6094'}\n",
      "{'eval_rewards/accuracies': '0', 'eval_rewards/margins': '-0.006928', 'eval_logps/rejected': '-1.742', 'eval_logps/chosen': '-1.418', 'eval_loss': '1.281', 'eval_rewards/chosen': '-0.006312', 'eval_rewards/rejected': '0.0006157', 'eval_retain/loss': '1.172', 'eval_reroute/loss': '0.9258', 'eval_logratios/pi': '0.3233', 'eval_logratios/ref': '0.3926', 'eval_weighting': '1', 'eval_logits': '-0.06928', 'eval_component_rr/loss': '0.9258', 'eval_component_retain/loss': '0.3516', 'eval_rr/c': '1', 'eval_retain/c': '1', 'eval_retain_cosine': '0.9883', 'eval_rr_cosine': '0.6875'}\n",
      "{'eval_rewards/accuracies': '0', 'eval_rewards/margins': '-0.008865', 'eval_logps/rejected': '-1.389', 'eval_logps/chosen': '-1.578', 'eval_loss': '1.141', 'eval_rewards/chosen': '0.006146', 'eval_rewards/rejected': '0.01501', 'eval_retain/loss': '1.07', 'eval_reroute/loss': '0.8242', 'eval_logratios/pi': '-0.1894', 'eval_logratios/ref': '-0.1008', 'eval_weighting': '1', 'eval_logits': '-0.08865', 'eval_component_rr/loss': '0.8242', 'eval_component_retain/loss': '0.3203', 'eval_rr/c': '1', 'eval_retain/c': '1', 'eval_retain_cosine': '0.9883', 'eval_rr_cosine': '0.6211'}\n",
      "{'eval_rewards/accuracies': '0', 'eval_rewards/margins': '-0.01338', 'eval_logps/rejected': '-1.288', 'eval_logps/chosen': '-1.055', 'eval_loss': '1.094', 'eval_rewards/chosen': '-0.005117', 'eval_rewards/rejected': '0.008266', 'eval_retain/loss': '1.062', 'eval_reroute/loss': '0.7695', 'eval_logratios/pi': '0.2327', 'eval_logratios/ref': '0.3665', 'eval_weighting': '1', 'eval_logits': '-0.1338', 'eval_component_rr/loss': '0.7734', 'eval_component_retain/loss': '0.3184', 'eval_rr/c': '1', 'eval_retain/c': '1', 'eval_retain_cosine': '0.9883', 'eval_rr_cosine': '0.6094'}\n",
      "{'eval_rewards/accuracies': '1', 'eval_rewards/margins': '0.001222', 'eval_logps/rejected': '-0.8615', 'eval_logps/chosen': '-0.6822', 'eval_loss': '1.25', 'eval_rewards/chosen': '-0.0004592', 'eval_rewards/rejected': '-0.001681', 'eval_retain/loss': '1.055', 'eval_reroute/loss': '0.9297', 'eval_logratios/pi': '0.1793', 'eval_logratios/ref': '0.167', 'eval_weighting': '1', 'eval_logits': '0.01222', 'eval_component_rr/loss': '0.9336', 'eval_component_retain/loss': '0.3164', 'eval_rr/c': '1', 'eval_retain/c': '1', 'eval_retain_cosine': '0.9883', 'eval_rr_cosine': '0.4082'}\n",
      "{'eval_rewards/accuracies': '1', 'eval_rewards/margins': '0.002791', 'eval_logps/rejected': '-2.349', 'eval_logps/chosen': '-2.926', 'eval_loss': '1.109', 'eval_rewards/chosen': '-0.0002747', 'eval_rewards/rejected': '-0.003066', 'eval_retain/loss': '1.094', 'eval_reroute/loss': '0.7852', 'eval_logratios/pi': '-0.5768', 'eval_logratios/ref': '-0.6047', 'eval_weighting': '1', 'eval_logits': '0.02791', 'eval_component_rr/loss': '0.7852', 'eval_component_retain/loss': '0.3301', 'eval_rr/c': '1', 'eval_retain/c': '1', 'eval_retain_cosine': '0.9883', 'eval_rr_cosine': '0.6445'}\n",
      "{'eval_rewards/accuracies': '1', 'eval_rewards/margins': '0.001089', 'eval_logps/rejected': '-0.5453', 'eval_logps/chosen': '-0.6462', 'eval_loss': '1.172', 'eval_rewards/chosen': '-0.001463', 'eval_rewards/rejected': '-0.002552', 'eval_retain/loss': '1.148', 'eval_reroute/loss': '0.832', 'eval_logratios/pi': '-0.1009', 'eval_logratios/ref': '-0.1118', 'eval_weighting': '1', 'eval_logits': '0.01089', 'eval_component_rr/loss': '0.8281', 'eval_component_retain/loss': '0.3438', 'eval_rr/c': '1', 'eval_retain/c': '1', 'eval_retain_cosine': '0.9883', 'eval_rr_cosine': '0.6602'}\n",
      "{'eval_rewards/accuracies': '1', 'eval_rewards/margins': '0.004181', 'eval_logps/rejected': '-2.387', 'eval_logps/chosen': '-1.905', 'eval_loss': '1.141', 'eval_rewards/chosen': '0.002934', 'eval_rewards/rejected': '-0.001247', 'eval_retain/loss': '1.047', 'eval_reroute/loss': '0.8281', 'eval_logratios/pi': '0.4819', 'eval_logratios/ref': '0.4401', 'eval_weighting': '1', 'eval_logits': '0.04181', 'eval_component_rr/loss': '0.8281', 'eval_component_retain/loss': '0.3145', 'eval_rr/c': '1', 'eval_retain/c': '1', 'eval_retain_cosine': '0.9961', 'eval_rr_cosine': '0.6211'}\n",
      "{'eval_rewards/accuracies': '0', 'eval_rewards/margins': '-0.005617', 'eval_logps/rejected': '-0.793', 'eval_logps/chosen': '-1.277', 'eval_loss': '1.234', 'eval_rewards/chosen': '-0.00279', 'eval_rewards/rejected': '0.002826', 'eval_retain/loss': '1.031', 'eval_reroute/loss': '0.9258', 'eval_logratios/pi': '-0.484', 'eval_logratios/ref': '-0.4279', 'eval_weighting': '1', 'eval_logits': '-0.05617', 'eval_component_rr/loss': '0.9258', 'eval_component_retain/loss': '0.3105', 'eval_rr/c': '1', 'eval_retain/c': '1', 'eval_retain_cosine': '0.9883', 'eval_rr_cosine': '0.6406'}\n",
      "{'eval_rewards/accuracies': '1', 'eval_rewards/margins': '0.00127', 'eval_logps/rejected': '-1.789', 'eval_logps/chosen': '-1.943', 'eval_loss': '1.164', 'eval_rewards/chosen': '0.0003147', 'eval_rewards/rejected': '-0.0009552', 'eval_retain/loss': '1.055', 'eval_reroute/loss': '0.8477', 'eval_logratios/pi': '-0.1535', 'eval_logratios/ref': '-0.1662', 'eval_weighting': '1', 'eval_logits': '0.0127', 'eval_component_rr/loss': '0.8477', 'eval_component_retain/loss': '0.3145', 'eval_rr/c': '1', 'eval_retain/c': '1', 'eval_retain_cosine': '0.9961', 'eval_rr_cosine': '0.6211'}\n",
      "{'eval_rewards/accuracies': '1', 'eval_rewards/margins': '0.001258', 'eval_logps/rejected': '-1.907', 'eval_logps/chosen': '-2.523', 'eval_loss': '1.453', 'eval_rewards/chosen': '0.0002144', 'eval_rewards/rejected': '-0.001044', 'eval_retain/loss': '1.078', 'eval_reroute/loss': '1.141', 'eval_logratios/pi': '-0.6162', 'eval_logratios/ref': '-0.6287', 'eval_weighting': '1', 'eval_logits': '0.01258', 'eval_component_rr/loss': '1.133', 'eval_component_retain/loss': '0.3242', 'eval_rr/c': '1', 'eval_retain/c': '1', 'eval_retain_cosine': '0.7852', 'eval_rr_cosine': '0.5039'}\n",
      "{'eval_rewards/accuracies': '1', 'eval_rewards/margins': '0.004638', 'eval_logps/rejected': '-2.457', 'eval_logps/chosen': '-1.625', 'eval_loss': '1.336', 'eval_rewards/chosen': '0.001794', 'eval_rewards/rejected': '-0.002844', 'eval_retain/loss': '1.102', 'eval_reroute/loss': '1.016', 'eval_logratios/pi': '0.8317', 'eval_logratios/ref': '0.7854', 'eval_weighting': '1', 'eval_logits': '0.04638', 'eval_component_rr/loss': '1.008', 'eval_component_retain/loss': '0.3301', 'eval_rr/c': '1', 'eval_retain/c': '1', 'eval_retain_cosine': '0.9961', 'eval_rr_cosine': '0.668'}\n",
      "{'eval_rewards/accuracies': '0', 'eval_rewards/margins': '-0.008944', 'eval_logps/rejected': '-0.7245', 'eval_logps/chosen': '-0.7072', 'eval_loss': '1.227', 'eval_rewards/chosen': '-0.0001552', 'eval_rewards/rejected': '0.008789', 'eval_retain/loss': '1.047', 'eval_reroute/loss': '0.9062', 'eval_logratios/pi': '0.01731', 'eval_logratios/ref': '0.1068', 'eval_weighting': '1', 'eval_logits': '-0.08944', 'eval_component_rr/loss': '0.9102', 'eval_component_retain/loss': '0.3145', 'eval_rr/c': '1', 'eval_retain/c': '1', 'eval_retain_cosine': '0.8281', 'eval_rr_cosine': '0.4609'}\n",
      "{'eval_rewards/accuracies': '1', 'eval_rewards/margins': '0.0007551', 'eval_logps/rejected': '-0.7105', 'eval_logps/chosen': '-1.091', 'eval_loss': '1.109', 'eval_rewards/chosen': '-5.08e-05', 'eval_rewards/rejected': '-0.0008059', 'eval_retain/loss': '1.031', 'eval_reroute/loss': '0.8008', 'eval_logratios/pi': '-0.3809', 'eval_logratios/ref': '-0.3884', 'eval_weighting': '1', 'eval_logits': '0.007551', 'eval_component_rr/loss': '0.8008', 'eval_component_retain/loss': '0.3105', 'eval_rr/c': '1', 'eval_retain/c': '1', 'eval_retain_cosine': '0.7539', 'eval_rr_cosine': '0.3555'}\n",
      "{'eval_rewards/accuracies': '0', 'eval_rewards/margins': '-0.007656', 'eval_logps/rejected': '-0.9076', 'eval_logps/chosen': '-0.8537', 'eval_loss': '1.25', 'eval_rewards/chosen': '-0.009996', 'eval_rewards/rejected': '-0.002341', 'eval_retain/loss': '1.125', 'eval_reroute/loss': '0.9102', 'eval_logratios/pi': '0.05391', 'eval_logratios/ref': '0.1305', 'eval_weighting': '1', 'eval_logits': '-0.07656', 'eval_component_rr/loss': '0.9102', 'eval_component_retain/loss': '0.3359', 'eval_rr/c': '1', 'eval_retain/c': '1', 'eval_retain_cosine': '0.7734', 'eval_rr_cosine': '0.4805'}\n",
      "{'eval_rewards/accuracies': '1', 'eval_rewards/margins': '0.002005', 'eval_logps/rejected': '-0.8282', 'eval_logps/chosen': '-0.9948', 'eval_loss': '1.164', 'eval_rewards/chosen': '-0.00544', 'eval_rewards/rejected': '-0.007445', 'eval_retain/loss': '1.047', 'eval_reroute/loss': '0.8477', 'eval_logratios/pi': '-0.1666', 'eval_logratios/ref': '-0.1866', 'eval_weighting': '1', 'eval_logits': '0.02005', 'eval_component_rr/loss': '0.8477', 'eval_component_retain/loss': '0.3145', 'eval_rr/c': '1', 'eval_retain/c': '1', 'eval_retain_cosine': '0.8164', 'eval_rr_cosine': '0.5352'}\n",
      "{'eval_rewards/accuracies': '0', 'eval_rewards/margins': '-0.003933', 'eval_logps/rejected': '-0.9557', 'eval_logps/chosen': '-0.814', 'eval_loss': '1.297', 'eval_rewards/chosen': '-0.002219', 'eval_rewards/rejected': '0.001714', 'eval_retain/loss': '1.172', 'eval_reroute/loss': '0.9453', 'eval_logratios/pi': '0.1418', 'eval_logratios/ref': '0.1811', 'eval_weighting': '1', 'eval_logits': '-0.03933', 'eval_component_rr/loss': '0.9492', 'eval_component_retain/loss': '0.3516', 'eval_rr/c': '1', 'eval_retain/c': '1', 'eval_retain_cosine': '0.7891', 'eval_rr_cosine': '0.4805'}\n",
      "{'eval_rewards/accuracies': '1', 'eval_rewards/margins': '0.002626', 'eval_logps/rejected': '-0.3118', 'eval_logps/chosen': '-0.4273', 'eval_loss': '1.125', 'eval_rewards/chosen': '0.001704', 'eval_rewards/rejected': '-0.0009215', 'eval_retain/loss': '1.086', 'eval_reroute/loss': '0.793', 'eval_logratios/pi': '-0.1155', 'eval_logratios/ref': '-0.1417', 'eval_weighting': '1', 'eval_logits': '0.02626', 'eval_component_rr/loss': '0.7969', 'eval_component_retain/loss': '0.3262', 'eval_rr/c': '1', 'eval_retain/c': '1', 'eval_retain_cosine': '0.9961', 'eval_rr_cosine': '0.6133'}\n",
      "{'eval_rewards/accuracies': '0', 'eval_rewards/margins': '-0.01477', 'eval_logps/rejected': '-1.232', 'eval_logps/chosen': '-1.296', 'eval_loss': '1.234', 'eval_rewards/chosen': '-0.008041', 'eval_rewards/rejected': '0.006728', 'eval_retain/loss': '1.039', 'eval_reroute/loss': '0.9219', 'eval_logratios/pi': '-0.06373', 'eval_logratios/ref': '0.08396', 'eval_weighting': '1', 'eval_logits': '-0.1477', 'eval_component_rr/loss': '0.9219', 'eval_component_retain/loss': '0.3125', 'eval_rr/c': '1', 'eval_retain/c': '1', 'eval_retain_cosine': '0.8086', 'eval_rr_cosine': '0.4199'}\n",
      "{'eval_rewards/accuracies': '1', 'eval_rewards/margins': '0.002043', 'eval_logps/rejected': '-0.9252', 'eval_logps/chosen': '-0.8615', 'eval_loss': '1.305', 'eval_rewards/chosen': '0.003341', 'eval_rewards/rejected': '0.001297', 'eval_retain/loss': '1.141', 'eval_reroute/loss': '0.9688', 'eval_logratios/pi': '0.06372', 'eval_logratios/ref': '0.04329', 'eval_weighting': '1', 'eval_logits': '0.02043', 'eval_component_rr/loss': '0.9648', 'eval_component_retain/loss': '0.3438', 'eval_rr/c': '1', 'eval_retain/c': '1', 'eval_retain_cosine': '0.9102', 'eval_rr_cosine': '0.5469'}\n",
      "{'eval_rewards/accuracies': '1', 'eval_rewards/margins': '0.00186', 'eval_logps/rejected': '-1.401', 'eval_logps/chosen': '-1.38', 'eval_loss': '1.234', 'eval_rewards/chosen': '-0.005765', 'eval_rewards/rejected': '-0.007625', 'eval_retain/loss': '1.07', 'eval_reroute/loss': '0.9141', 'eval_logratios/pi': '0.0216', 'eval_logratios/ref': '0.002994', 'eval_weighting': '1', 'eval_logits': '0.0186', 'eval_component_rr/loss': '0.9141', 'eval_component_retain/loss': '0.3223', 'eval_rr/c': '1', 'eval_retain/c': '1', 'eval_retain_cosine': '0.8242', 'eval_rr_cosine': '0.5742'}\n",
      "{'eval_rewards/accuracies': '0', 'eval_rewards/margins': '-0.001686', 'eval_logps/rejected': '-0.9353', 'eval_logps/chosen': '-0.908', 'eval_loss': '1.734', 'eval_rewards/chosen': '-0.007406', 'eval_rewards/rejected': '-0.00572', 'eval_retain/loss': '1.523', 'eval_reroute/loss': '1.273', 'eval_logratios/pi': '0.0273', 'eval_logratios/ref': '0.04416', 'eval_weighting': '1', 'eval_logits': '-0.01686', 'eval_component_rr/loss': '1.281', 'eval_component_retain/loss': '0.457', 'eval_rr/c': '1', 'eval_retain/c': '1', 'eval_retain_cosine': '0.7656', 'eval_rr_cosine': '0.5977'}\n",
      "{'eval_rewards/accuracies': '0', 'eval_rewards/margins': '-0.001199', 'eval_logps/rejected': '-0.8777', 'eval_logps/chosen': '-0.8076', 'eval_loss': '1.25', 'eval_rewards/chosen': '-0.0004155', 'eval_rewards/rejected': '0.0007838', 'eval_retain/loss': '1.094', 'eval_reroute/loss': '0.9219', 'eval_logratios/pi': '0.07016', 'eval_logratios/ref': '0.08216', 'eval_weighting': '1', 'eval_logits': '-0.01199', 'eval_component_rr/loss': '0.9219', 'eval_component_retain/loss': '0.3281', 'eval_rr/c': '1', 'eval_retain/c': '1', 'eval_retain_cosine': '0.8477', 'eval_rr_cosine': '0.5273'}\n",
      "{'eval_rewards/accuracies': '1', 'eval_rewards/margins': '0.003106', 'eval_logps/rejected': '-0.8452', 'eval_logps/chosen': '-0.8735', 'eval_loss': '1.133', 'eval_rewards/chosen': '-0.003113', 'eval_rewards/rejected': '-0.006218', 'eval_retain/loss': '1.031', 'eval_reroute/loss': '0.8281', 'eval_logratios/pi': '-0.02826', 'eval_logratios/ref': '-0.05932', 'eval_weighting': '1', 'eval_logits': '0.03106', 'eval_component_rr/loss': '0.8242', 'eval_component_retain/loss': '0.3105', 'eval_rr/c': '1', 'eval_retain/c': '1', 'eval_retain_cosine': '0.8086', 'eval_rr_cosine': '0.5156'}\n",
      "{'eval_rewards/accuracies': '1', 'eval_rewards/margins': '0.01096', 'eval_logps/rejected': '-1.222', 'eval_logps/chosen': '-0.9233', 'eval_loss': '1.234', 'eval_rewards/chosen': '0.006854', 'eval_rewards/rejected': '-0.004109', 'eval_retain/loss': '1.047', 'eval_reroute/loss': '0.9219', 'eval_logratios/pi': '0.2991', 'eval_logratios/ref': '0.1895', 'eval_weighting': '1', 'eval_logits': '0.1096', 'eval_component_rr/loss': '0.9219', 'eval_component_retain/loss': '0.3145', 'eval_rr/c': '1', 'eval_retain/c': '1', 'eval_retain_cosine': '0.8008', 'eval_rr_cosine': '0.3867'}\n",
      "{'eval_rewards/accuracies': '1', 'eval_rewards/margins': '0.003509', 'eval_logps/rejected': '-1.182', 'eval_logps/chosen': '-0.7561', 'eval_loss': '1.086', 'eval_rewards/chosen': '0.004371', 'eval_rewards/rejected': '0.0008626', 'eval_retain/loss': '1.047', 'eval_reroute/loss': '0.7734', 'eval_logratios/pi': '0.426', 'eval_logratios/ref': '0.3909', 'eval_weighting': '1', 'eval_logits': '0.03509', 'eval_component_rr/loss': '0.7734', 'eval_component_retain/loss': '0.3145', 'eval_rr/c': '1', 'eval_retain/c': '1', 'eval_retain_cosine': '0.8398', 'eval_rr_cosine': '0.4941'}\n",
      "{'eval_rewards/accuracies': '1', 'eval_rewards/margins': '0.001741', 'eval_logps/rejected': '-0.3264', 'eval_logps/chosen': '-0.3861', 'eval_loss': '1.359', 'eval_rewards/chosen': '0.001291', 'eval_rewards/rejected': '-0.0004504', 'eval_retain/loss': '1.281', 'eval_reroute/loss': '0.9688', 'eval_logratios/pi': '-0.05974', 'eval_logratios/ref': '-0.07716', 'eval_weighting': '1', 'eval_logits': '0.01741', 'eval_component_rr/loss': '0.9727', 'eval_component_retain/loss': '0.3867', 'eval_rr/c': '1', 'eval_retain/c': '1', 'eval_retain_cosine': '0.8242', 'eval_rr_cosine': '0.5469'}\n",
      "{'eval_rewards/accuracies': '0', 'eval_rewards/margins': '-0.004562', 'eval_logps/rejected': '-1.131', 'eval_logps/chosen': '-1.201', 'eval_loss': '1.266', 'eval_rewards/chosen': '-0.005733', 'eval_rewards/rejected': '-0.001171', 'eval_retain/loss': '1.086', 'eval_reroute/loss': '0.9414', 'eval_logratios/pi': '-0.0702', 'eval_logratios/ref': '-0.02458', 'eval_weighting': '1', 'eval_logits': '-0.04562', 'eval_component_rr/loss': '0.9375', 'eval_component_retain/loss': '0.3262', 'eval_rr/c': '1', 'eval_retain/c': '1', 'eval_retain_cosine': '0.9336', 'eval_rr_cosine': '0.5703'}\n",
      "{'eval_rewards/accuracies': '0', 'eval_rewards/margins': '-0.006171', 'eval_logps/rejected': '-1.722', 'eval_logps/chosen': '-1.63', 'eval_loss': '1.195', 'eval_rewards/chosen': '-0.0131', 'eval_rewards/rejected': '-0.006928', 'eval_retain/loss': '1.195', 'eval_reroute/loss': '0.8359', 'eval_logratios/pi': '0.09229', 'eval_logratios/ref': '0.154', 'eval_weighting': '1', 'eval_logits': '-0.06171', 'eval_component_rr/loss': '0.8359', 'eval_component_retain/loss': '0.3594', 'eval_rr/c': '1', 'eval_retain/c': '1', 'eval_retain_cosine': '0.9883', 'eval_rr_cosine': '0.6445'}\n",
      "{'eval_rewards/accuracies': '0', 'eval_rewards/margins': '-0.001642', 'eval_logps/rejected': '-1.512', 'eval_logps/chosen': '-1.85', 'eval_loss': '0.9961', 'eval_rewards/chosen': '-0.008371', 'eval_rewards/rejected': '-0.006729', 'eval_retain/loss': '1.102', 'eval_reroute/loss': '0.668', 'eval_logratios/pi': '-0.3382', 'eval_logratios/ref': '-0.3217', 'eval_weighting': '1', 'eval_logits': '-0.01642', 'eval_component_rr/loss': '0.668', 'eval_component_retain/loss': '0.3301', 'eval_rr/c': '1', 'eval_retain/c': '1', 'eval_retain_cosine': '0.9883', 'eval_rr_cosine': '0.6719'}\n",
      "{'eval_rewards/accuracies': '1', 'eval_rewards/margins': '0.008614', 'eval_logps/rejected': '-1.425', 'eval_logps/chosen': '-1.056', 'eval_loss': '1.094', 'eval_rewards/chosen': '-0.00346', 'eval_rewards/rejected': '-0.01207', 'eval_retain/loss': '1.062', 'eval_reroute/loss': '0.7734', 'eval_logratios/pi': '0.3685', 'eval_logratios/ref': '0.2824', 'eval_weighting': '1', 'eval_logits': '0.08614', 'eval_component_rr/loss': '0.7734', 'eval_component_retain/loss': '0.3203', 'eval_rr/c': '1', 'eval_retain/c': '1', 'eval_retain_cosine': '0.8594', 'eval_rr_cosine': '0.4941'}\n",
      "{'eval_rewards/accuracies': '0', 'eval_rewards/margins': '-0.004363', 'eval_logps/rejected': '-1.005', 'eval_logps/chosen': '-0.682', 'eval_loss': '1.375', 'eval_rewards/chosen': '-0.001839', 'eval_rewards/rejected': '0.002524', 'eval_retain/loss': '1.297', 'eval_reroute/loss': '0.9805', 'eval_logratios/pi': '0.323', 'eval_logratios/ref': '0.3667', 'eval_weighting': '1', 'eval_logits': '-0.04363', 'eval_component_rr/loss': '0.9844', 'eval_component_retain/loss': '0.3887', 'eval_rr/c': '1', 'eval_retain/c': '1', 'eval_retain_cosine': '0.8398', 'eval_rr_cosine': '0.6914'}\n",
      "{'eval_rewards/accuracies': '1', 'eval_rewards/margins': '0.0005774', 'eval_logps/rejected': '-1.066', 'eval_logps/chosen': '-0.9312', 'eval_loss': '1.484', 'eval_rewards/chosen': '0.006211', 'eval_rewards/rejected': '0.005634', 'eval_retain/loss': '1.375', 'eval_reroute/loss': '1.07', 'eval_logratios/pi': '0.135', 'eval_logratios/ref': '0.1292', 'eval_weighting': '1', 'eval_logits': '0.005774', 'eval_component_rr/loss': '1.07', 'eval_component_retain/loss': '0.4121', 'eval_rr/c': '1', 'eval_retain/c': '1', 'eval_retain_cosine': '0.875', 'eval_rr_cosine': '0.5898'}\n",
      "{'eval_rewards/accuracies': '0', 'eval_rewards/margins': '-0.001481', 'eval_logps/rejected': '-1.194', 'eval_logps/chosen': '-1.321', 'eval_loss': '1.227', 'eval_rewards/chosen': '-0.004648', 'eval_rewards/rejected': '-0.003167', 'eval_retain/loss': '1.156', 'eval_reroute/loss': '0.8828', 'eval_logratios/pi': '-0.1275', 'eval_logratios/ref': '-0.1127', 'eval_weighting': '1', 'eval_logits': '-0.01481', 'eval_component_rr/loss': '0.8789', 'eval_component_retain/loss': '0.3457', 'eval_rr/c': '1', 'eval_retain/c': '1', 'eval_retain_cosine': '0.9844', 'eval_rr_cosine': '0.6406'}\n",
      "{'eval_rewards/accuracies': '1', 'eval_rewards/margins': '0.009269', 'eval_logps/rejected': '-0.9844', 'eval_logps/chosen': '-0.9764', 'eval_loss': '1.125', 'eval_rewards/chosen': '0.0006087', 'eval_rewards/rejected': '-0.00866', 'eval_retain/loss': '1.133', 'eval_reroute/loss': '0.793', 'eval_logratios/pi': '0.007943', 'eval_logratios/ref': '-0.08474', 'eval_weighting': '1', 'eval_logits': '0.09269', 'eval_component_rr/loss': '0.7891', 'eval_component_retain/loss': '0.3398', 'eval_rr/c': '1', 'eval_retain/c': '1', 'eval_retain_cosine': '0.9766', 'eval_rr_cosine': '0.6289'}\n",
      "{'eval_rewards/accuracies': '0', 'eval_rewards/margins': '-0.006751', 'eval_logps/rejected': '-0.3623', 'eval_logps/chosen': '-1.166', 'eval_loss': '1.172', 'eval_rewards/chosen': '-0.00914', 'eval_rewards/rejected': '-0.002389', 'eval_retain/loss': '1.078', 'eval_reroute/loss': '0.8516', 'eval_logratios/pi': '-0.8033', 'eval_logratios/ref': '-0.7358', 'eval_weighting': '1', 'eval_logits': '-0.06751', 'eval_component_rr/loss': '0.8516', 'eval_component_retain/loss': '0.3242', 'eval_rr/c': '1', 'eval_retain/c': '1', 'eval_retain_cosine': '0.9102', 'eval_rr_cosine': '0.5352'}\n",
      "{'eval_rewards/accuracies': '1', 'eval_rewards/margins': '0.0004285', 'eval_logps/rejected': '-1.076', 'eval_logps/chosen': '-0.8388', 'eval_loss': '1.188', 'eval_rewards/chosen': '0.0005875', 'eval_rewards/rejected': '0.000159', 'eval_retain/loss': '1.141', 'eval_reroute/loss': '0.8477', 'eval_logratios/pi': '0.237', 'eval_logratios/ref': '0.2327', 'eval_weighting': '1', 'eval_logits': '0.004285', 'eval_component_rr/loss': '0.8477', 'eval_component_retain/loss': '0.3418', 'eval_rr/c': '1', 'eval_retain/c': '1', 'eval_retain_cosine': '0.7969', 'eval_rr_cosine': '0.5586'}\n",
      "{'eval_rewards/accuracies': '0', 'eval_rewards/margins': '-0.01173', 'eval_logps/rejected': '-1.358', 'eval_logps/chosen': '-1.647', 'eval_loss': '1.266', 'eval_rewards/chosen': '-0.007911', 'eval_rewards/rejected': '0.003817', 'eval_retain/loss': '1.055', 'eval_reroute/loss': '0.957', 'eval_logratios/pi': '-0.2894', 'eval_logratios/ref': '-0.1721', 'eval_weighting': '1', 'eval_logits': '-0.1173', 'eval_component_rr/loss': '0.9531', 'eval_component_retain/loss': '0.3145', 'eval_rr/c': '1', 'eval_retain/c': '1', 'eval_retain_cosine': '0.9883', 'eval_rr_cosine': '0.3555'}\n",
      "{'eval_rewards/accuracies': '0', 'eval_rewards/margins': '-0.007624', 'eval_logps/rejected': '-1.186', 'eval_logps/chosen': '-1.084', 'eval_loss': '1.297', 'eval_rewards/chosen': '-0.01545', 'eval_rewards/rejected': '-0.007821', 'eval_retain/loss': '1.219', 'eval_reroute/loss': '0.9297', 'eval_logratios/pi': '0.1015', 'eval_logratios/ref': '0.1778', 'eval_weighting': '1', 'eval_logits': '-0.07624', 'eval_component_rr/loss': '0.9336', 'eval_component_retain/loss': '0.3672', 'eval_rr/c': '1', 'eval_retain/c': '1', 'eval_retain_cosine': '0.9492', 'eval_rr_cosine': '0.6367'}\n",
      "{'eval_rewards/accuracies': '1', 'eval_rewards/margins': '0.01008', 'eval_logps/rejected': '-1.332', 'eval_logps/chosen': '-1.24', 'eval_loss': '1.172', 'eval_rewards/chosen': '-0.001609', 'eval_rewards/rejected': '-0.01169', 'eval_retain/loss': '1.047', 'eval_reroute/loss': '0.8594', 'eval_logratios/pi': '0.09204', 'eval_logratios/ref': '-0.008749', 'eval_weighting': '1', 'eval_logits': '0.1008', 'eval_component_rr/loss': '0.8594', 'eval_component_retain/loss': '0.3145', 'eval_rr/c': '1', 'eval_retain/c': '1', 'eval_retain_cosine': '0.7969', 'eval_rr_cosine': '0.5156'}\n",
      "{'eval_rewards/accuracies': '1', 'eval_rewards/margins': '0.008196', 'eval_logps/rejected': '-0.7327', 'eval_logps/chosen': '-0.8561', 'eval_loss': '1.211', 'eval_rewards/chosen': '5.064e-05', 'eval_rewards/rejected': '-0.008146', 'eval_retain/loss': '1.164', 'eval_reroute/loss': '0.8633', 'eval_logratios/pi': '-0.1234', 'eval_logratios/ref': '-0.2054', 'eval_weighting': '1', 'eval_logits': '0.08196', 'eval_component_rr/loss': '0.8633', 'eval_component_retain/loss': '0.3496', 'eval_rr/c': '1', 'eval_retain/c': '1', 'eval_retain_cosine': '0.7969', 'eval_rr_cosine': '0.5977'}\n",
      "{'eval_rewards/accuracies': '0', 'eval_rewards/margins': '-0.003415', 'eval_logps/rejected': '-1.497', 'eval_logps/chosen': '-1.767', 'eval_loss': '1.078', 'eval_rewards/chosen': '-0.001287', 'eval_rewards/rejected': '0.002127', 'eval_retain/loss': '1.047', 'eval_reroute/loss': '0.7695', 'eval_logratios/pi': '-0.2704', 'eval_logratios/ref': '-0.2363', 'eval_weighting': '1', 'eval_logits': '-0.03415', 'eval_component_rr/loss': '0.7656', 'eval_component_retain/loss': '0.3145', 'eval_rr/c': '1', 'eval_retain/c': '1', 'eval_retain_cosine': '0.9883', 'eval_rr_cosine': '0.6367'}\n",
      "{'eval_rewards/accuracies': '1', 'eval_rewards/margins': '0.007595', 'eval_logps/rejected': '-0.6375', 'eval_logps/chosen': '-0.6902', 'eval_loss': '1.281', 'eval_rewards/chosen': '0.006443', 'eval_rewards/rejected': '-0.001152', 'eval_retain/loss': '1.148', 'eval_reroute/loss': '0.9336', 'eval_logratios/pi': '-0.05277', 'eval_logratios/ref': '-0.1287', 'eval_weighting': '1', 'eval_logits': '0.07595', 'eval_component_rr/loss': '0.9336', 'eval_component_retain/loss': '0.3457', 'eval_rr/c': '1', 'eval_retain/c': '1', 'eval_retain_cosine': '0.7734', 'eval_rr_cosine': '0.4551'}\n",
      "{'eval_rewards/accuracies': '1', 'eval_rewards/margins': '0.002263', 'eval_logps/rejected': '-2.019', 'eval_logps/chosen': '-1.935', 'eval_loss': '1.492', 'eval_rewards/chosen': '0.004457', 'eval_rewards/rejected': '0.002194', 'eval_retain/loss': '1.359', 'eval_reroute/loss': '1.086', 'eval_logratios/pi': '0.08396', 'eval_logratios/ref': '0.06134', 'eval_weighting': '1', 'eval_logits': '0.02263', 'eval_component_rr/loss': '1.086', 'eval_component_retain/loss': '0.4062', 'eval_rr/c': '1', 'eval_retain/c': '1', 'eval_retain_cosine': '0.9766', 'eval_rr_cosine': '0.6719'}\n",
      "{'eval_rewards/accuracies': '0', 'eval_rewards/margins': '-0.003151', 'eval_logps/rejected': '-0.8007', 'eval_logps/chosen': '-0.7884', 'eval_loss': '1.367', 'eval_rewards/chosen': '9.011e-05', 'eval_rewards/rejected': '0.003241', 'eval_retain/loss': '1.117', 'eval_reroute/loss': '1.023', 'eval_logratios/pi': '0.0123', 'eval_logratios/ref': '0.04381', 'eval_weighting': '1', 'eval_logits': '-0.03151', 'eval_component_rr/loss': '1.031', 'eval_component_retain/loss': '0.3359', 'eval_rr/c': '1', 'eval_retain/c': '1', 'eval_retain_cosine': '0.7852', 'eval_rr_cosine': '0.4746'}\n",
      "{'eval_rewards/accuracies': '1', 'eval_rewards/margins': '0.004964', 'eval_logps/rejected': '-1.283', 'eval_logps/chosen': '-1.173', 'eval_loss': '1.078', 'eval_rewards/chosen': '0.003334', 'eval_rewards/rejected': '-0.001631', 'eval_retain/loss': '1.055', 'eval_reroute/loss': '0.7617', 'eval_logratios/pi': '0.1103', 'eval_logratios/ref': '0.06065', 'eval_weighting': '1', 'eval_logits': '0.04964', 'eval_component_rr/loss': '0.7617', 'eval_component_retain/loss': '0.3145', 'eval_rr/c': '1', 'eval_retain/c': '1', 'eval_retain_cosine': '0.8359', 'eval_rr_cosine': '0.4629'}\n",
      "{'eval_rewards/accuracies': '0', 'eval_rewards/margins': '-0.01356', 'eval_logps/rejected': '-0.9388', 'eval_logps/chosen': '-1.425', 'eval_loss': '1.062', 'eval_rewards/chosen': '-0.01338', 'eval_rewards/rejected': '0.000176', 'eval_retain/loss': '1.109', 'eval_reroute/loss': '0.7227', 'eval_logratios/pi': '-0.4865', 'eval_logratios/ref': '-0.351', 'eval_weighting': '1', 'eval_logits': '-0.1356', 'eval_component_rr/loss': '0.7227', 'eval_component_retain/loss': '0.334', 'eval_rr/c': '1', 'eval_retain/c': '1', 'eval_retain_cosine': '0.9102', 'eval_rr_cosine': '0.5625'}\n",
      "{'eval_rewards/accuracies': '0', 'eval_rewards/margins': '-0.003984', 'eval_logps/rejected': '-1.065', 'eval_logps/chosen': '-1.51', 'eval_loss': '1.227', 'eval_rewards/chosen': '-0.005694', 'eval_rewards/rejected': '-0.00171', 'eval_retain/loss': '1.117', 'eval_reroute/loss': '0.8906', 'eval_logratios/pi': '-0.4453', 'eval_logratios/ref': '-0.4055', 'eval_weighting': '1', 'eval_logits': '-0.03984', 'eval_component_rr/loss': '0.8906', 'eval_component_retain/loss': '0.3359', 'eval_rr/c': '1', 'eval_retain/c': '1', 'eval_retain_cosine': '0.7656', 'eval_rr_cosine': '0.4609'}\n",
      "{'eval_rewards/accuracies': '0', 'eval_rewards/margins': '-0.01261', 'eval_logps/rejected': '-3.59', 'eval_logps/chosen': '-2.603', 'eval_loss': '1.453', 'eval_rewards/chosen': '-0.003623', 'eval_rewards/rejected': '0.008991', 'eval_retain/loss': '1.219', 'eval_reroute/loss': '1.086', 'eval_logratios/pi': '0.9878', 'eval_logratios/ref': '1.114', 'eval_weighting': '1', 'eval_logits': '-0.1261', 'eval_component_rr/loss': '1.086', 'eval_component_retain/loss': '0.3633', 'eval_rr/c': '1', 'eval_retain/c': '1', 'eval_retain_cosine': '0.9961', 'eval_rr_cosine': '0.5312'}\n",
      "{'eval_rewards/accuracies': '0', 'eval_rewards/margins': '-3.798e-05', 'eval_logps/rejected': '-1.778', 'eval_logps/chosen': '-1.808', 'eval_loss': '1.281', 'eval_rewards/chosen': '0.000626', 'eval_rewards/rejected': '0.000664', 'eval_retain/loss': '1.156', 'eval_reroute/loss': '0.9297', 'eval_logratios/pi': '-0.03035', 'eval_logratios/ref': '-0.02997', 'eval_weighting': '1', 'eval_logits': '-0.0003798', 'eval_component_rr/loss': '0.9336', 'eval_component_retain/loss': '0.3457', 'eval_rr/c': '1', 'eval_retain/c': '1', 'eval_retain_cosine': '0.9883', 'eval_rr_cosine': '0.6836'}\n",
      "{'eval_rewards/accuracies': '1', 'eval_rewards/margins': '0.005082', 'eval_logps/rejected': '-0.7046', 'eval_logps/chosen': '-0.8085', 'eval_loss': '1.117', 'eval_rewards/chosen': '0.008214', 'eval_rewards/rejected': '0.003132', 'eval_retain/loss': '1.055', 'eval_reroute/loss': '0.8008', 'eval_logratios/pi': '-0.104', 'eval_logratios/ref': '-0.1548', 'eval_weighting': '1', 'eval_logits': '0.05082', 'eval_component_rr/loss': '0.8008', 'eval_component_retain/loss': '0.3164', 'eval_rr/c': '1', 'eval_retain/c': '1', 'eval_retain_cosine': '0.8711', 'eval_rr_cosine': '0.543'}\n",
      "{'eval_rewards/accuracies': '0', 'eval_rewards/margins': '-0.006757', 'eval_logps/rejected': '-1.23', 'eval_logps/chosen': '-1.096', 'eval_loss': '1.188', 'eval_rewards/chosen': '-0.005292', 'eval_rewards/rejected': '0.001465', 'eval_retain/loss': '1.047', 'eval_reroute/loss': '0.8672', 'eval_logratios/pi': '0.1336', 'eval_logratios/ref': '0.2011', 'eval_weighting': '1', 'eval_logits': '-0.06757', 'eval_component_rr/loss': '0.8711', 'eval_component_retain/loss': '0.3145', 'eval_rr/c': '1', 'eval_retain/c': '1', 'eval_retain_cosine': '0.7969', 'eval_rr_cosine': '0.5078'}\n",
      "{'eval_rewards/accuracies': '0', 'eval_rewards/margins': '-0.01228', 'eval_logps/rejected': '-0.9261', 'eval_logps/chosen': '-1.021', 'eval_loss': '1.078', 'eval_rewards/chosen': '-0.002824', 'eval_rewards/rejected': '0.009451', 'eval_retain/loss': '1.086', 'eval_reroute/loss': '0.75', 'eval_logratios/pi': '-0.09468', 'eval_logratios/ref': '0.02807', 'eval_weighting': '1', 'eval_logits': '-0.1228', 'eval_component_rr/loss': '0.75', 'eval_component_retain/loss': '0.3262', 'eval_rr/c': '1', 'eval_retain/c': '1', 'eval_retain_cosine': '0.8711', 'eval_rr_cosine': '0.4922'}\n",
      "{'eval_rewards/accuracies': '1', 'eval_rewards/margins': '0.000347', 'eval_logps/rejected': '-0.6824', 'eval_logps/chosen': '-0.8785', 'eval_loss': '1.117', 'eval_rewards/chosen': '-0.0001001', 'eval_rewards/rejected': '-0.000447', 'eval_retain/loss': '1.062', 'eval_reroute/loss': '0.8008', 'eval_logratios/pi': '-0.1961', 'eval_logratios/ref': '-0.1996', 'eval_weighting': '1', 'eval_logits': '0.00347', 'eval_component_rr/loss': '0.8008', 'eval_component_retain/loss': '0.3184', 'eval_rr/c': '1', 'eval_retain/c': '1', 'eval_retain_cosine': '0.8711', 'eval_rr_cosine': '0.498'}\n",
      "{'eval_rewards/accuracies': '0', 'eval_rewards/margins': '-0.01246', 'eval_logps/rejected': '-2.143', 'eval_logps/chosen': '-1.26', 'eval_loss': '1.156', 'eval_rewards/chosen': '-0.008277', 'eval_rewards/rejected': '0.004187', 'eval_retain/loss': '1.164', 'eval_reroute/loss': '0.7969', 'eval_logratios/pi': '0.8834', 'eval_logratios/ref': '1.008', 'eval_weighting': '1', 'eval_logits': '-0.1246', 'eval_component_rr/loss': '0.8008', 'eval_component_retain/loss': '0.3516', 'eval_rr/c': '1', 'eval_retain/c': '1', 'eval_retain_cosine': '0.8164', 'eval_rr_cosine': '0.3828'}\n",
      "{'eval_rewards/accuracies': '0', 'eval_rewards/margins': '-0.008226', 'eval_logps/rejected': '-1.052', 'eval_logps/chosen': '-0.8169', 'eval_loss': '1.102', 'eval_rewards/chosen': '-0.004437', 'eval_rewards/rejected': '0.003789', 'eval_retain/loss': '1.086', 'eval_reroute/loss': '0.7773', 'eval_logratios/pi': '0.2353', 'eval_logratios/ref': '0.3176', 'eval_weighting': '1', 'eval_logits': '-0.08226', 'eval_component_rr/loss': '0.7773', 'eval_component_retain/loss': '0.3262', 'eval_rr/c': '1', 'eval_retain/c': '1', 'eval_retain_cosine': '0.7891', 'eval_rr_cosine': '0.4355'}\n",
      "{'eval_rewards/accuracies': '0', 'eval_rewards/margins': '-0.002486', 'eval_logps/rejected': '-1.036', 'eval_logps/chosen': '-1.176', 'eval_loss': '1.242', 'eval_rewards/chosen': '-0.01621', 'eval_rewards/rejected': '-0.01373', 'eval_retain/loss': '1.07', 'eval_reroute/loss': '0.918', 'eval_logratios/pi': '-0.1392', 'eval_logratios/ref': '-0.1143', 'eval_weighting': '1', 'eval_logits': '-0.02486', 'eval_component_rr/loss': '0.9219', 'eval_component_retain/loss': '0.3203', 'eval_rr/c': '1', 'eval_retain/c': '1', 'eval_retain_cosine': '0.9023', 'eval_rr_cosine': '0.5'}\n",
      "{'eval_rewards/accuracies': '0', 'eval_rewards/margins': '-0.004626', 'eval_logps/rejected': '-1.892', 'eval_logps/chosen': '-1.502', 'eval_loss': '1.188', 'eval_rewards/chosen': '-0.003275', 'eval_rewards/rejected': '0.001351', 'eval_retain/loss': '1.078', 'eval_reroute/loss': '0.8633', 'eval_logratios/pi': '0.39', 'eval_logratios/ref': '0.4362', 'eval_weighting': '1', 'eval_logits': '-0.04626', 'eval_component_rr/loss': '0.8633', 'eval_component_retain/loss': '0.3223', 'eval_rr/c': '1', 'eval_retain/c': '1', 'eval_retain_cosine': '0.9961', 'eval_rr_cosine': '0.5664'}\n",
      "{'eval_rewards/accuracies': '0', 'eval_rewards/margins': '-0.003785', 'eval_logps/rejected': '-1.214', 'eval_logps/chosen': '-0.7656', 'eval_loss': '1.156', 'eval_rewards/chosen': '-0.003043', 'eval_rewards/rejected': '0.000742', 'eval_retain/loss': '1.094', 'eval_reroute/loss': '0.8281', 'eval_logratios/pi': '0.4485', 'eval_logratios/ref': '0.4863', 'eval_weighting': '1', 'eval_logits': '-0.03785', 'eval_component_rr/loss': '0.8242', 'eval_component_retain/loss': '0.3281', 'eval_rr/c': '1', 'eval_retain/c': '1', 'eval_retain_cosine': '0.8789', 'eval_rr_cosine': '0.5586'}\n",
      "{'eval_rewards/accuracies': '1', 'eval_rewards/margins': '0.01036', 'eval_logps/rejected': '-1.544', 'eval_logps/chosen': '-1.88', 'eval_loss': '1.102', 'eval_rewards/chosen': '0.0007219', 'eval_rewards/rejected': '-0.009635', 'eval_retain/loss': '1.102', 'eval_reroute/loss': '0.7695', 'eval_logratios/pi': '-0.336', 'eval_logratios/ref': '-0.4395', 'eval_weighting': '1', 'eval_logits': '0.1036', 'eval_component_rr/loss': '0.7734', 'eval_component_retain/loss': '0.3301', 'eval_rr/c': '1', 'eval_retain/c': '1', 'eval_retain_cosine': '0.9766', 'eval_rr_cosine': '0.6211'}\n",
      "{'eval_rewards/accuracies': '0', 'eval_rewards/margins': '-0.00292', 'eval_logps/rejected': '-1.05', 'eval_logps/chosen': '-0.915', 'eval_loss': '1.211', 'eval_rewards/chosen': '-0.005939', 'eval_rewards/rejected': '-0.003019', 'eval_retain/loss': '1.125', 'eval_reroute/loss': '0.875', 'eval_logratios/pi': '0.1348', 'eval_logratios/ref': '0.164', 'eval_weighting': '1', 'eval_logits': '-0.0292', 'eval_component_rr/loss': '0.875', 'eval_component_retain/loss': '0.3379', 'eval_rr/c': '1', 'eval_retain/c': '1', 'eval_retain_cosine': '0.9883', 'eval_rr_cosine': '0.582'}\n",
      "{'eval_rewards/accuracies': '1', 'eval_rewards/margins': '0.002814', 'eval_logps/rejected': '-0.6223', 'eval_logps/chosen': '-0.8213', 'eval_loss': '1.125', 'eval_rewards/chosen': '0.002555', 'eval_rewards/rejected': '-0.000259', 'eval_retain/loss': '1.047', 'eval_reroute/loss': '0.8086', 'eval_logratios/pi': '-0.199', 'eval_logratios/ref': '-0.2271', 'eval_weighting': '1', 'eval_logits': '0.02814', 'eval_component_rr/loss': '0.8086', 'eval_component_retain/loss': '0.3145', 'eval_rr/c': '1', 'eval_retain/c': '1', 'eval_retain_cosine': '0.8086', 'eval_rr_cosine': '0.4551'}\n",
      "{'eval_rewards/accuracies': '1', 'eval_rewards/margins': '0.0036', 'eval_logps/rejected': '-1.052', 'eval_logps/chosen': '-1.191', 'eval_loss': '1.336', 'eval_rewards/chosen': '-0.00698', 'eval_rewards/rejected': '-0.01058', 'eval_retain/loss': '1.117', 'eval_reroute/loss': '1', 'eval_logratios/pi': '-0.1388', 'eval_logratios/ref': '-0.1748', 'eval_weighting': '1', 'eval_logits': '0.036', 'eval_component_rr/loss': '1', 'eval_component_retain/loss': '0.3359', 'eval_rr/c': '1', 'eval_retain/c': '1', 'eval_retain_cosine': '0.8633', 'eval_rr_cosine': '0.5312'}\n",
      "{'eval_rewards/accuracies': '1', 'eval_rewards/margins': '0.001241', 'eval_logps/rejected': '-2.155', 'eval_logps/chosen': '-1.18', 'eval_loss': '1.141', 'eval_rewards/chosen': '0.000774', 'eval_rewards/rejected': '-0.0004665', 'eval_retain/loss': '1.023', 'eval_reroute/loss': '0.8398', 'eval_logratios/pi': '0.9754', 'eval_logratios/ref': '0.963', 'eval_weighting': '1', 'eval_logits': '0.01241', 'eval_component_rr/loss': '0.8359', 'eval_component_retain/loss': '0.3066', 'eval_rr/c': '1', 'eval_retain/c': '1', 'eval_retain_cosine': '0.8477', 'eval_rr_cosine': '0.418'}\n",
      "{'eval_rewards/accuracies': '1', 'eval_rewards/margins': '0.01272', 'eval_logps/rejected': '-0.998', 'eval_logps/chosen': '-0.8612', 'eval_loss': '1.172', 'eval_rewards/chosen': '0.003189', 'eval_rewards/rejected': '-0.009527', 'eval_retain/loss': '1.172', 'eval_reroute/loss': '0.8242', 'eval_logratios/pi': '0.1368', 'eval_logratios/ref': '0.009666', 'eval_weighting': '1', 'eval_logits': '0.1272', 'eval_component_rr/loss': '0.8242', 'eval_component_retain/loss': '0.3516', 'eval_rr/c': '1', 'eval_retain/c': '1', 'eval_retain_cosine': '0.8008', 'eval_rr_cosine': '0.5'}\n",
      "{'eval_rewards/accuracies': '0', 'eval_rewards/margins': '-0.00313', 'eval_logps/rejected': '-0.6454', 'eval_logps/chosen': '-0.4721', 'eval_loss': '1.289', 'eval_rewards/chosen': '-0.001628', 'eval_rewards/rejected': '0.001502', 'eval_retain/loss': '1.172', 'eval_reroute/loss': '0.9336', 'eval_logratios/pi': '0.1733', 'eval_logratios/ref': '0.2046', 'eval_weighting': '1', 'eval_logits': '-0.0313', 'eval_component_rr/loss': '0.9336', 'eval_component_retain/loss': '0.3516', 'eval_rr/c': '1', 'eval_retain/c': '1', 'eval_retain_cosine': '0.9102', 'eval_rr_cosine': '0.6445'}\n",
      "{'eval_rewards/accuracies': '1', 'eval_rewards/margins': '0.001786', 'eval_logps/rejected': '-1.445', 'eval_logps/chosen': '-1.302', 'eval_loss': '1.289', 'eval_rewards/chosen': '0.008962', 'eval_rewards/rejected': '0.007176', 'eval_retain/loss': '1.156', 'eval_reroute/loss': '0.9453', 'eval_logratios/pi': '0.1434', 'eval_logratios/ref': '0.1256', 'eval_weighting': '1', 'eval_logits': '0.01786', 'eval_component_rr/loss': '0.9414', 'eval_component_retain/loss': '0.3457', 'eval_rr/c': '1', 'eval_retain/c': '1', 'eval_retain_cosine': '0.8086', 'eval_rr_cosine': '0.4629'}\n",
      "{'eval_rewards/accuracies': '1', 'eval_rewards/margins': '0.01127', 'eval_logps/rejected': '-0.8798', 'eval_logps/chosen': '-0.6732', 'eval_loss': '1.078', 'eval_rewards/chosen': '0.006142', 'eval_rewards/rejected': '-0.005124', 'eval_retain/loss': '1.078', 'eval_reroute/loss': '0.75', 'eval_logratios/pi': '0.2066', 'eval_logratios/ref': '0.09394', 'eval_weighting': '1', 'eval_logits': '0.1127', 'eval_component_rr/loss': '0.75', 'eval_component_retain/loss': '0.3242', 'eval_rr/c': '1', 'eval_retain/c': '1', 'eval_retain_cosine': '0.9492', 'eval_rr_cosine': '0.5742'}\n",
      "{'eval_rewards/accuracies': '1', 'eval_rewards/margins': '0.001387', 'eval_logps/rejected': '-2.086', 'eval_logps/chosen': '-1.391', 'eval_loss': '1.289', 'eval_rewards/chosen': '-0.006252', 'eval_rewards/rejected': '-0.007639', 'eval_retain/loss': '1.242', 'eval_reroute/loss': '0.9141', 'eval_logratios/pi': '0.6947', 'eval_logratios/ref': '0.6808', 'eval_weighting': '1', 'eval_logits': '0.01387', 'eval_component_rr/loss': '0.9141', 'eval_component_retain/loss': '0.373', 'eval_rr/c': '1', 'eval_retain/c': '1', 'eval_retain_cosine': '0.9844', 'eval_rr_cosine': '0.5703'}\n",
      "{'eval_rewards/accuracies': '1', 'eval_rewards/margins': '0.00275', 'eval_logps/rejected': '-0.7243', 'eval_logps/chosen': '-0.4983', 'eval_loss': '1.156', 'eval_rewards/chosen': '-0.001249', 'eval_rewards/rejected': '-0.003999', 'eval_retain/loss': '1.109', 'eval_reroute/loss': '0.8242', 'eval_logratios/pi': '0.226', 'eval_logratios/ref': '0.1985', 'eval_weighting': '1', 'eval_logits': '0.0275', 'eval_component_rr/loss': '0.8242', 'eval_component_retain/loss': '0.334', 'eval_rr/c': '1', 'eval_retain/c': '1', 'eval_retain_cosine': '0.8594', 'eval_rr_cosine': '0.5352'}\n",
      "{'eval_rewards/accuracies': '1', 'eval_rewards/margins': '0.03759', 'eval_logps/rejected': '-2.82', 'eval_logps/chosen': '-4.538', 'eval_loss': '4.125', 'eval_rewards/chosen': '0.03526', 'eval_rewards/rejected': '-0.002331', 'eval_retain/loss': '3.375', 'eval_reroute/loss': '3.094', 'eval_logratios/pi': '-1.718', 'eval_logratios/ref': '-2.094', 'eval_weighting': '1', 'eval_logits': '0.3759', 'eval_component_rr/loss': '3.094', 'eval_component_retain/loss': '1.008', 'eval_rr/c': '1', 'eval_retain/c': '1', 'eval_retain_cosine': '0.7539', 'eval_rr_cosine': '0.5117'}\n",
      "{'eval_rewards/accuracies': '0', 'eval_rewards/margins': '-0.005951', 'eval_logps/rejected': '-1.411', 'eval_logps/chosen': '-1.478', 'eval_loss': '1.211', 'eval_rewards/chosen': '-0.003905', 'eval_rewards/rejected': '0.002045', 'eval_retain/loss': '1.023', 'eval_reroute/loss': '0.9023', 'eval_logratios/pi': '-0.06625', 'eval_logratios/ref': '-0.006741', 'eval_weighting': '1', 'eval_logits': '-0.05951', 'eval_component_rr/loss': '0.9023', 'eval_component_retain/loss': '0.3066', 'eval_rr/c': '1', 'eval_retain/c': '1', 'eval_retain_cosine': '0.7891', 'eval_rr_cosine': '0.3613'}\n",
      "{'eval_rewards/accuracies': '0', 'eval_rewards/margins': '-0.001227', 'eval_logps/rejected': '-1.103', 'eval_logps/chosen': '-0.9906', 'eval_loss': '1.156', 'eval_rewards/chosen': '-0.006338', 'eval_rewards/rejected': '-0.005111', 'eval_retain/loss': '1.062', 'eval_reroute/loss': '0.8398', 'eval_logratios/pi': '0.1121', 'eval_logratios/ref': '0.1244', 'eval_weighting': '1', 'eval_logits': '-0.01227', 'eval_component_rr/loss': '0.8398', 'eval_component_retain/loss': '0.3184', 'eval_rr/c': '1', 'eval_retain/c': '1', 'eval_retain_cosine': '0.8359', 'eval_rr_cosine': '0.4316'}\n",
      "{'eval_rewards/accuracies': '0', 'eval_rewards/margins': '-0.006205', 'eval_logps/rejected': '-1.062', 'eval_logps/chosen': '-1.378', 'eval_loss': '1.203', 'eval_rewards/chosen': '-0.004195', 'eval_rewards/rejected': '0.002009', 'eval_retain/loss': '1.047', 'eval_reroute/loss': '0.8906', 'eval_logratios/pi': '-0.3163', 'eval_logratios/ref': '-0.2543', 'eval_weighting': '1', 'eval_logits': '-0.06205', 'eval_component_rr/loss': '0.8906', 'eval_component_retain/loss': '0.3145', 'eval_rr/c': '1', 'eval_retain/c': '1', 'eval_retain_cosine': '0.8281', 'eval_rr_cosine': '0.4395'}\n",
      "{'eval_rewards/accuracies': '0', 'eval_rewards/margins': '-0.01176', 'eval_logps/rejected': '-0.8937', 'eval_logps/chosen': '-1.097', 'eval_loss': '1.195', 'eval_rewards/chosen': '-0.01336', 'eval_rewards/rejected': '-0.001598', 'eval_retain/loss': '1.156', 'eval_reroute/loss': '0.8438', 'eval_logratios/pi': '-0.2031', 'eval_logratios/ref': '-0.08548', 'eval_weighting': '1', 'eval_logits': '-0.1176', 'eval_component_rr/loss': '0.8477', 'eval_component_retain/loss': '0.3457', 'eval_rr/c': '1', 'eval_retain/c': '1', 'eval_retain_cosine': '0.8906', 'eval_rr_cosine': '0.6016'}\n",
      "{'eval_rewards/accuracies': '1', 'eval_rewards/margins': '0.001623', 'eval_logps/rejected': '-1.352', 'eval_logps/chosen': '-1.309', 'eval_loss': '1.188', 'eval_rewards/chosen': '-0.002681', 'eval_rewards/rejected': '-0.004303', 'eval_retain/loss': '1.125', 'eval_reroute/loss': '0.8516', 'eval_logratios/pi': '0.0428', 'eval_logratios/ref': '0.02657', 'eval_weighting': '1', 'eval_logits': '0.01623', 'eval_component_rr/loss': '0.8516', 'eval_component_retain/loss': '0.3379', 'eval_rr/c': '1', 'eval_retain/c': '1', 'eval_retain_cosine': '0.8086', 'eval_rr_cosine': '0.4824'}\n",
      "{'eval_rewards/accuracies': '1', 'eval_rewards/margins': '0.0005873', 'eval_logps/rejected': '-2.242', 'eval_logps/chosen': '-1.115', 'eval_loss': '1.219', 'eval_rewards/chosen': '0.0005613', 'eval_rewards/rejected': '-2.596e-05', 'eval_retain/loss': '1.055', 'eval_reroute/loss': '0.9023', 'eval_logratios/pi': '1.127', 'eval_logratios/ref': '1.122', 'eval_weighting': '1', 'eval_logits': '0.005873', 'eval_component_rr/loss': '0.9023', 'eval_component_retain/loss': '0.3164', 'eval_rr/c': '1', 'eval_retain/c': '1', 'eval_retain_cosine': '0.7969', 'eval_rr_cosine': '0.3438'}\n",
      "{'eval_rewards/accuracies': '1', 'eval_rewards/margins': '0.01332', 'eval_logps/rejected': '-1.082', 'eval_logps/chosen': '-1.023', 'eval_loss': '1.336', 'eval_rewards/chosen': '-0.0001517', 'eval_rewards/rejected': '-0.01347', 'eval_retain/loss': '1.445', 'eval_reroute/loss': '0.9023', 'eval_logratios/pi': '0.05917', 'eval_logratios/ref': '-0.07403', 'eval_weighting': '1', 'eval_logits': '0.1332', 'eval_component_rr/loss': '0.9023', 'eval_component_retain/loss': '0.4316', 'eval_rr/c': '1', 'eval_retain/c': '1', 'eval_retain_cosine': '0.9883', 'eval_rr_cosine': '0.6289'}\n",
      "{'eval_rewards/accuracies': '0', 'eval_rewards/margins': '-0.007509', 'eval_logps/rejected': '-1.878', 'eval_logps/chosen': '-1.794', 'eval_loss': '1.156', 'eval_rewards/chosen': '-0.007944', 'eval_rewards/rejected': '-0.000435', 'eval_retain/loss': '1.109', 'eval_reroute/loss': '0.8281', 'eval_logratios/pi': '0.08389', 'eval_logratios/ref': '0.159', 'eval_weighting': '1', 'eval_logits': '-0.07509', 'eval_component_rr/loss': '0.8281', 'eval_component_retain/loss': '0.332', 'eval_rr/c': '1', 'eval_retain/c': '1', 'eval_retain_cosine': '0.8516', 'eval_rr_cosine': '0.4883'}\n",
      "{'eval_rewards/accuracies': '1', 'eval_rewards/margins': '0.01341', 'eval_logps/rejected': '-1.012', 'eval_logps/chosen': '-1.419', 'eval_loss': '1.109', 'eval_rewards/chosen': '0.008163', 'eval_rewards/rejected': '-0.005244', 'eval_retain/loss': '1.039', 'eval_reroute/loss': '0.7969', 'eval_logratios/pi': '-0.407', 'eval_logratios/ref': '-0.5411', 'eval_weighting': '1', 'eval_logits': '0.1341', 'eval_component_rr/loss': '0.7969', 'eval_component_retain/loss': '0.3105', 'eval_rr/c': '1', 'eval_retain/c': '1', 'eval_retain_cosine': '0.7969', 'eval_rr_cosine': '0.4297'}\n",
      "{'eval_rewards/accuracies': '1', 'eval_rewards/margins': '0.0004929', 'eval_logps/rejected': '-1.627', 'eval_logps/chosen': '-1.613', 'eval_loss': '1.164', 'eval_rewards/chosen': '0.001858', 'eval_rewards/rejected': '0.001365', 'eval_retain/loss': '1.094', 'eval_reroute/loss': '0.832', 'eval_logratios/pi': '0.01472', 'eval_logratios/ref': '0.009789', 'eval_weighting': '1', 'eval_logits': '0.004929', 'eval_component_rr/loss': '0.8359', 'eval_component_retain/loss': '0.3281', 'eval_rr/c': '1', 'eval_retain/c': '1', 'eval_retain_cosine': '0.9844', 'eval_rr_cosine': '0.6406'}\n",
      "{'eval_rewards/accuracies': '0', 'eval_rewards/margins': '-0.02385', 'eval_logps/rejected': '-1.106', 'eval_logps/chosen': '-0.9507', 'eval_loss': '1.109', 'eval_rewards/chosen': '-0.01874', 'eval_rewards/rejected': '0.005111', 'eval_retain/loss': '1.078', 'eval_reroute/loss': '0.7852', 'eval_logratios/pi': '0.1556', 'eval_logratios/ref': '0.3941', 'eval_weighting': '1', 'eval_logits': '-0.2385', 'eval_component_rr/loss': '0.7852', 'eval_component_retain/loss': '0.3223', 'eval_rr/c': '1', 'eval_retain/c': '1', 'eval_retain_cosine': '0.8008', 'eval_rr_cosine': '0.5469'}\n",
      "{'eval_rewards/accuracies': '1', 'eval_rewards/margins': '0.002928', 'eval_logps/rejected': '-1.589', 'eval_logps/chosen': '-1.784', 'eval_loss': '1.141', 'eval_rewards/chosen': '0.007716', 'eval_rewards/rejected': '0.004788', 'eval_retain/loss': '1.062', 'eval_reroute/loss': '0.8203', 'eval_logratios/pi': '-0.1952', 'eval_logratios/ref': '-0.2244', 'eval_weighting': '1', 'eval_logits': '0.02928', 'eval_component_rr/loss': '0.8242', 'eval_component_retain/loss': '0.3203', 'eval_rr/c': '1', 'eval_retain/c': '1', 'eval_retain_cosine': '0.8594', 'eval_rr_cosine': '0.3672'}\n",
      "{'eval_rewards/accuracies': '0', 'eval_rewards/margins': '-0.03418', 'eval_logps/rejected': '-2.16', 'eval_logps/chosen': '-2.039', 'eval_loss': '1.305', 'eval_rewards/chosen': '-0.02982', 'eval_rewards/rejected': '0.004356', 'eval_retain/loss': '1.102', 'eval_reroute/loss': '0.9688', 'eval_logratios/pi': '0.1208', 'eval_logratios/ref': '0.4625', 'eval_weighting': '1', 'eval_logits': '-0.3418', 'eval_component_rr/loss': '0.9727', 'eval_component_retain/loss': '0.3301', 'eval_rr/c': '1', 'eval_retain/c': '1', 'eval_retain_cosine': '0.6289', 'eval_rr_cosine': '0.2969'}\n",
      "{'eval_rewards/accuracies': '1', 'eval_rewards/margins': '0.01777', 'eval_logps/rejected': '-2.819', 'eval_logps/chosen': '-2.878', 'eval_loss': '1.242', 'eval_rewards/chosen': '-0.0001404', 'eval_rewards/rejected': '-0.01791', 'eval_retain/loss': '1.211', 'eval_reroute/loss': '0.8828', 'eval_logratios/pi': '-0.05875', 'eval_logratios/ref': '-0.2365', 'eval_weighting': '1', 'eval_logits': '0.1777', 'eval_component_rr/loss': '0.8789', 'eval_component_retain/loss': '0.3633', 'eval_rr/c': '1', 'eval_retain/c': '1', 'eval_retain_cosine': '0.9844', 'eval_rr_cosine': '0.6602'}\n",
      "{'eval_rewards/accuracies': '1', 'eval_rewards/margins': '0.006938', 'eval_logps/rejected': '-1.837', 'eval_logps/chosen': '-1.119', 'eval_loss': '1.344', 'eval_rewards/chosen': '5.211e-05', 'eval_rewards/rejected': '-0.006886', 'eval_retain/loss': '1.117', 'eval_reroute/loss': '1.008', 'eval_logratios/pi': '0.7178', 'eval_logratios/ref': '0.6484', 'eval_weighting': '1', 'eval_logits': '0.06938', 'eval_component_rr/loss': '1.008', 'eval_component_retain/loss': '0.3359', 'eval_rr/c': '1', 'eval_retain/c': '1', 'eval_retain_cosine': '0.8594', 'eval_rr_cosine': '0.5156'}\n",
      "{'eval_rewards/accuracies': '0', 'eval_rewards/margins': '-0.01025', 'eval_logps/rejected': '-1.071', 'eval_logps/chosen': '-0.9974', 'eval_loss': '1.164', 'eval_rewards/chosen': '0.001442', 'eval_rewards/rejected': '0.01169', 'eval_retain/loss': '1.141', 'eval_reroute/loss': '0.8203', 'eval_logratios/pi': '0.07382', 'eval_logratios/ref': '0.1763', 'eval_weighting': '1', 'eval_logits': '-0.1025', 'eval_component_rr/loss': '0.8242', 'eval_component_retain/loss': '0.3418', 'eval_rr/c': '1', 'eval_retain/c': '1', 'eval_retain_cosine': '0.9883', 'eval_rr_cosine': '0.6719'}\n",
      "{'eval_rewards/accuracies': '1', 'eval_rewards/margins': '0.01296', 'eval_logps/rejected': '-1.279', 'eval_logps/chosen': '-0.6826', 'eval_loss': '1.109', 'eval_rewards/chosen': '0.004546', 'eval_rewards/rejected': '-0.008409', 'eval_retain/loss': '1.031', 'eval_reroute/loss': '0.8008', 'eval_logratios/pi': '0.5969', 'eval_logratios/ref': '0.4673', 'eval_weighting': '1', 'eval_logits': '0.1296', 'eval_component_rr/loss': '0.8008', 'eval_component_retain/loss': '0.3086', 'eval_rr/c': '1', 'eval_retain/c': '1', 'eval_retain_cosine': '0.8086', 'eval_rr_cosine': '0.3984'}\n",
      "{'eval_rewards/accuracies': '1', 'eval_rewards/margins': '0.001153', 'eval_logps/rejected': '-0.7642', 'eval_logps/chosen': '-1.108', 'eval_loss': '1.281', 'eval_rewards/chosen': '0.0007824', 'eval_rewards/rejected': '-0.000371', 'eval_retain/loss': '1.039', 'eval_reroute/loss': '0.9766', 'eval_logratios/pi': '-0.3439', 'eval_logratios/ref': '-0.3554', 'eval_weighting': '1', 'eval_logits': '0.01153', 'eval_component_rr/loss': '0.9766', 'eval_component_retain/loss': '0.3105', 'eval_rr/c': '1', 'eval_retain/c': '1', 'eval_retain_cosine': '0.8008', 'eval_rr_cosine': '0.3828'}\n",
      "{'eval_rewards/accuracies': '0', 'eval_rewards/margins': '-0.006289', 'eval_logps/rejected': '-0.9026', 'eval_logps/chosen': '-1.162', 'eval_loss': '1.133', 'eval_rewards/chosen': '-0.01464', 'eval_rewards/rejected': '-0.008354', 'eval_retain/loss': '1.086', 'eval_reroute/loss': '0.8086', 'eval_logratios/pi': '-0.2592', 'eval_logratios/ref': '-0.1963', 'eval_weighting': '1', 'eval_logits': '-0.06289', 'eval_component_rr/loss': '0.8086', 'eval_component_retain/loss': '0.3262', 'eval_rr/c': '1', 'eval_retain/c': '1', 'eval_retain_cosine': '0.8984', 'eval_rr_cosine': '0.5781'}\n",
      "{'eval_rewards/accuracies': '0', 'eval_rewards/margins': '-0.007345', 'eval_logps/rejected': '-2.528', 'eval_logps/chosen': '-1.375', 'eval_loss': '1.281', 'eval_rewards/chosen': '-0.005621', 'eval_rewards/rejected': '0.001724', 'eval_retain/loss': '1.078', 'eval_reroute/loss': '0.9531', 'eval_logratios/pi': '1.153', 'eval_logratios/ref': '1.226', 'eval_weighting': '1', 'eval_logits': '-0.07345', 'eval_component_rr/loss': '0.9531', 'eval_component_retain/loss': '0.3242', 'eval_rr/c': '1', 'eval_retain/c': '1', 'eval_retain_cosine': '0.75', 'eval_rr_cosine': '0.3145'}\n",
      "{'eval_rewards/accuracies': '1', 'eval_rewards/margins': '0.01711', 'eval_logps/rejected': '-2.334', 'eval_logps/chosen': '-0.572', 'eval_loss': '1.062', 'eval_rewards/chosen': '-0.002139', 'eval_rewards/rejected': '-0.01925', 'eval_retain/loss': '1.031', 'eval_reroute/loss': '0.7539', 'eval_logratios/pi': '1.762', 'eval_logratios/ref': '1.591', 'eval_weighting': '1', 'eval_logits': '0.1711', 'eval_component_rr/loss': '0.75', 'eval_component_retain/loss': '0.3105', 'eval_rr/c': '1', 'eval_retain/c': '1', 'eval_retain_cosine': '0.9609', 'eval_rr_cosine': '0.5078'}\n",
      "{'eval_rewards/accuracies': '1', 'eval_rewards/margins': '0.0006127', 'eval_logps/rejected': '-0.7949', 'eval_logps/chosen': '-0.931', 'eval_loss': '1.141', 'eval_rewards/chosen': '-0.003441', 'eval_rewards/rejected': '-0.004053', 'eval_retain/loss': '1.078', 'eval_reroute/loss': '0.8242', 'eval_logratios/pi': '-0.1361', 'eval_logratios/ref': '-0.1423', 'eval_weighting': '1', 'eval_logits': '0.006127', 'eval_component_rr/loss': '0.8242', 'eval_component_retain/loss': '0.3223', 'eval_rr/c': '1', 'eval_retain/c': '1', 'eval_retain_cosine': '0.8594', 'eval_rr_cosine': '0.6211'}\n",
      "{'eval_rewards/accuracies': '0', 'eval_rewards/margins': '-0.001999', 'eval_logps/rejected': '-0.937', 'eval_logps/chosen': '-0.9262', 'eval_loss': '1.18', 'eval_rewards/chosen': '0.000421', 'eval_rewards/rejected': '0.00242', 'eval_retain/loss': '1.148', 'eval_reroute/loss': '0.8398', 'eval_logratios/pi': '0.01076', 'eval_logratios/ref': '0.03075', 'eval_weighting': '1', 'eval_logits': '-0.01999', 'eval_component_rr/loss': '0.8359', 'eval_component_retain/loss': '0.3457', 'eval_rr/c': '1', 'eval_retain/c': '1', 'eval_retain_cosine': '0.8359', 'eval_rr_cosine': '0.543'}\n",
      "{'eval_rewards/accuracies': '0', 'eval_rewards/margins': '-0.01363', 'eval_logps/rejected': '-0.6602', 'eval_logps/chosen': '-0.542', 'eval_loss': '1.281', 'eval_rewards/chosen': '-0.01076', 'eval_rewards/rejected': '0.002877', 'eval_retain/loss': '1.055', 'eval_reroute/loss': '0.9609', 'eval_logratios/pi': '0.1183', 'eval_logratios/ref': '0.2546', 'eval_weighting': '1', 'eval_logits': '-0.1363', 'eval_component_rr/loss': '0.9609', 'eval_component_retain/loss': '0.3184', 'eval_rr/c': '1', 'eval_retain/c': '1', 'eval_retain_cosine': '0.7969', 'eval_rr_cosine': '0.498'}\n",
      "{'eval_rewards/accuracies': '1', 'eval_rewards/margins': '0.001708', 'eval_logps/rejected': '-1.651', 'eval_logps/chosen': '-0.5642', 'eval_loss': '1.234', 'eval_rewards/chosen': '0.002741', 'eval_rewards/rejected': '0.001033', 'eval_retain/loss': '1.062', 'eval_reroute/loss': '0.918', 'eval_logratios/pi': '1.087', 'eval_logratios/ref': '1.07', 'eval_weighting': '1', 'eval_logits': '0.01708', 'eval_component_rr/loss': '0.9141', 'eval_component_retain/loss': '0.3184', 'eval_rr/c': '1', 'eval_retain/c': '1', 'eval_retain_cosine': '0.8125', 'eval_rr_cosine': '0.4668'}\n",
      "{'eval_rewards/accuracies': '0', 'eval_rewards/margins': '-0.003665', 'eval_logps/rejected': '-0.9589', 'eval_logps/chosen': '-0.9015', 'eval_loss': '1.148', 'eval_rewards/chosen': '-0.008231', 'eval_rewards/rejected': '-0.004566', 'eval_retain/loss': '1.195', 'eval_reroute/loss': '0.793', 'eval_logratios/pi': '0.0574', 'eval_logratios/ref': '0.09405', 'eval_weighting': '1', 'eval_logits': '-0.03665', 'eval_component_rr/loss': '0.7891', 'eval_component_retain/loss': '0.3594', 'eval_rr/c': '1', 'eval_retain/c': '1', 'eval_retain_cosine': '0.8789', 'eval_rr_cosine': '0.5664'}\n",
      "{'eval_rewards/accuracies': '1', 'eval_rewards/margins': '0.01589', 'eval_logps/rejected': '-1.453', 'eval_logps/chosen': '-1.187', 'eval_loss': '1.617', 'eval_rewards/chosen': '-0.003672', 'eval_rewards/rejected': '-0.01956', 'eval_retain/loss': '1.586', 'eval_reroute/loss': '1.141', 'eval_logratios/pi': '0.2654', 'eval_logratios/ref': '0.1065', 'eval_weighting': '1', 'eval_logits': '0.1589', 'eval_component_rr/loss': '1.141', 'eval_component_retain/loss': '0.4766', 'eval_rr/c': '1', 'eval_retain/c': '1', 'eval_retain_cosine': '0.9766', 'eval_rr_cosine': '0.7773'}\n",
      "{'eval_rewards/accuracies': '0', 'eval_rewards/margins': '-0.002203', 'eval_logps/rejected': '-1.396', 'eval_logps/chosen': '-1.536', 'eval_loss': '1.219', 'eval_rewards/chosen': '-0.004839', 'eval_rewards/rejected': '-0.002636', 'eval_retain/loss': '1.047', 'eval_reroute/loss': '0.9023', 'eval_logratios/pi': '-0.1399', 'eval_logratios/ref': '-0.1179', 'eval_weighting': '1', 'eval_logits': '-0.02203', 'eval_component_rr/loss': '0.9023', 'eval_component_retain/loss': '0.3145', 'eval_rr/c': '1', 'eval_retain/c': '1', 'eval_retain_cosine': '0.9375', 'eval_rr_cosine': '0.5547'}\n",
      "{'eval_rewards/accuracies': '0', 'eval_rewards/margins': '-0.00102', 'eval_logps/rejected': '-1.513', 'eval_logps/chosen': '-0.8449', 'eval_loss': '1.141', 'eval_rewards/chosen': '0.003263', 'eval_rewards/rejected': '0.004283', 'eval_retain/loss': '1.078', 'eval_reroute/loss': '0.8203', 'eval_logratios/pi': '0.668', 'eval_logratios/ref': '0.6782', 'eval_weighting': '1', 'eval_logits': '-0.0102', 'eval_component_rr/loss': '0.8164', 'eval_component_retain/loss': '0.3242', 'eval_rr/c': '1', 'eval_retain/c': '1', 'eval_retain_cosine': '0.8789', 'eval_rr_cosine': '0.5234'}\n",
      "{'eval_rewards/accuracies': '0', 'eval_rewards/margins': '-0.0002504', 'eval_logps/rejected': '-0.6656', 'eval_logps/chosen': '-1.122', 'eval_loss': '1.234', 'eval_rewards/chosen': '0.001846', 'eval_rewards/rejected': '0.002096', 'eval_retain/loss': '1.227', 'eval_reroute/loss': '0.8672', 'eval_logratios/pi': '-0.456', 'eval_logratios/ref': '-0.4535', 'eval_weighting': '1', 'eval_logits': '-0.002504', 'eval_component_rr/loss': '0.8633', 'eval_component_retain/loss': '0.3691', 'eval_rr/c': '1', 'eval_retain/c': '1', 'eval_retain_cosine': '0.7734', 'eval_rr_cosine': '0.5273'}\n",
      "{'eval_rewards/accuracies': '1', 'eval_rewards/margins': '0.01272', 'eval_logps/rejected': '-1.349', 'eval_logps/chosen': '-1.463', 'eval_loss': '1.117', 'eval_rewards/chosen': '-0.0007792', 'eval_rewards/rejected': '-0.0135', 'eval_retain/loss': '1.055', 'eval_reroute/loss': '0.7969', 'eval_logratios/pi': '-0.1138', 'eval_logratios/ref': '-0.241', 'eval_weighting': '1', 'eval_logits': '0.1272', 'eval_component_rr/loss': '0.8008', 'eval_component_retain/loss': '0.3164', 'eval_rr/c': '1', 'eval_retain/c': '1', 'eval_retain_cosine': '0.9219', 'eval_rr_cosine': '0.5859'}\n",
      "{'eval_rewards/accuracies': '1', 'eval_rewards/margins': '0.01048', 'eval_logps/rejected': '-0.8813', 'eval_logps/chosen': '-0.8843', 'eval_loss': '1.562', 'eval_rewards/chosen': '-0.00134', 'eval_rewards/rejected': '-0.01182', 'eval_retain/loss': '1.445', 'eval_reroute/loss': '1.141', 'eval_logratios/pi': '-0.003026', 'eval_logratios/ref': '-0.1078', 'eval_weighting': '1', 'eval_logits': '0.1048', 'eval_component_rr/loss': '1.133', 'eval_component_retain/loss': '0.4355', 'eval_rr/c': '1', 'eval_retain/c': '1', 'eval_retain_cosine': '0.9727', 'eval_rr_cosine': '0.7344'}\n",
      "{'eval_rewards/accuracies': '1', 'eval_rewards/margins': '0.005523', 'eval_logps/rejected': '-0.7384', 'eval_logps/chosen': '-1.185', 'eval_loss': '1.172', 'eval_rewards/chosen': '0.004039', 'eval_rewards/rejected': '-0.001484', 'eval_retain/loss': '1.062', 'eval_reroute/loss': '0.8594', 'eval_logratios/pi': '-0.4469', 'eval_logratios/ref': '-0.5021', 'eval_weighting': '1', 'eval_logits': '0.05523', 'eval_component_rr/loss': '0.8594', 'eval_component_retain/loss': '0.3184', 'eval_rr/c': '1', 'eval_retain/c': '1', 'eval_retain_cosine': '0.7344', 'eval_rr_cosine': '0.3887'}\n",
      "{'eval_rewards/accuracies': '1', 'eval_rewards/margins': '0.004384', 'eval_logps/rejected': '-2.399', 'eval_logps/chosen': '-0.5848', 'eval_loss': '1.039', 'eval_rewards/chosen': '-0.0009833', 'eval_rewards/rejected': '-0.005367', 'eval_retain/loss': '1.008', 'eval_reroute/loss': '0.7422', 'eval_logratios/pi': '1.814', 'eval_logratios/ref': '1.77', 'eval_weighting': '1', 'eval_logits': '0.04384', 'eval_component_rr/loss': '0.7383', 'eval_component_retain/loss': '0.3047', 'eval_rr/c': '1', 'eval_retain/c': '1', 'eval_retain_cosine': '0.8906', 'eval_rr_cosine': '0.418'}\n",
      "{'eval_rewards/accuracies': '1', 'eval_rewards/margins': '0.003678', 'eval_logps/rejected': '-1.314', 'eval_logps/chosen': '-0.7847', 'eval_loss': '1.055', 'eval_rewards/chosen': '0.002309', 'eval_rewards/rejected': '-0.001369', 'eval_retain/loss': '1.055', 'eval_reroute/loss': '0.7422', 'eval_logratios/pi': '0.5294', 'eval_logratios/ref': '0.4926', 'eval_weighting': '1', 'eval_logits': '0.03678', 'eval_component_rr/loss': '0.7383', 'eval_component_retain/loss': '0.3164', 'eval_rr/c': '1', 'eval_retain/c': '1', 'eval_retain_cosine': '0.9375', 'eval_rr_cosine': '0.498'}\n",
      "{'eval_rewards/accuracies': '1', 'eval_rewards/margins': '0.02086', 'eval_logps/rejected': '-1.621', 'eval_logps/chosen': '-3.258', 'eval_loss': '1.141', 'eval_rewards/chosen': '0.02782', 'eval_rewards/rejected': '0.006967', 'eval_retain/loss': '1.062', 'eval_reroute/loss': '0.8242', 'eval_logratios/pi': '-1.637', 'eval_logratios/ref': '-1.846', 'eval_weighting': '1', 'eval_logits': '0.2086', 'eval_component_rr/loss': '0.8242', 'eval_component_retain/loss': '0.3184', 'eval_rr/c': '1', 'eval_retain/c': '1', 'eval_retain_cosine': '0.5586', 'eval_rr_cosine': '0.2949'}\n",
      "{'eval_rewards/accuracies': '1', 'eval_rewards/margins': '0.004484', 'eval_logps/rejected': '-0.8319', 'eval_logps/chosen': '-0.5722', 'eval_loss': '1.211', 'eval_rewards/chosen': '0.008833', 'eval_rewards/rejected': '0.004349', 'eval_retain/loss': '1.07', 'eval_reroute/loss': '0.8906', 'eval_logratios/pi': '0.2597', 'eval_logratios/ref': '0.2148', 'eval_weighting': '1', 'eval_logits': '0.04484', 'eval_component_rr/loss': '0.8906', 'eval_component_retain/loss': '0.3203', 'eval_rr/c': '1', 'eval_retain/c': '1', 'eval_retain_cosine': '0.7773', 'eval_rr_cosine': '0.5156'}\n",
      "{'eval_rewards/accuracies': '1', 'eval_rewards/margins': '0.001154', 'eval_logps/rejected': '-1.435', 'eval_logps/chosen': '-1.004', 'eval_loss': '1.156', 'eval_rewards/chosen': '0.005408', 'eval_rewards/rejected': '0.004254', 'eval_retain/loss': '1.062', 'eval_reroute/loss': '0.832', 'eval_logratios/pi': '0.4307', 'eval_logratios/ref': '0.4191', 'eval_weighting': '1', 'eval_logits': '0.01154', 'eval_component_rr/loss': '0.8359', 'eval_component_retain/loss': '0.3203', 'eval_rr/c': '1', 'eval_retain/c': '1', 'eval_retain_cosine': '0.8164', 'eval_rr_cosine': '0.4395'}\n",
      "{'eval_rewards/accuracies': '1', 'eval_rewards/margins': '0.01236', 'eval_logps/rejected': '-3.162', 'eval_logps/chosen': '-0.7497', 'eval_loss': '1.281', 'eval_rewards/chosen': '0.008327', 'eval_rewards/rejected': '-0.004032', 'eval_retain/loss': '1.07', 'eval_reroute/loss': '0.9609', 'eval_logratios/pi': '2.412', 'eval_logratios/ref': '2.288', 'eval_weighting': '1', 'eval_logits': '0.1236', 'eval_component_rr/loss': '0.9609', 'eval_component_retain/loss': '0.3203', 'eval_rr/c': '1', 'eval_retain/c': '1', 'eval_retain_cosine': '0.7891', 'eval_rr_cosine': '0.3262'}\n",
      "{'eval_rewards/accuracies': '1', 'eval_rewards/margins': '0.01435', 'eval_logps/rejected': '-3.558', 'eval_logps/chosen': '-0.8463', 'eval_loss': '1.141', 'eval_rewards/chosen': '-0.009629', 'eval_rewards/rejected': '-0.02398', 'eval_retain/loss': '1.031', 'eval_reroute/loss': '0.8281', 'eval_logratios/pi': '2.711', 'eval_logratios/ref': '2.568', 'eval_weighting': '1', 'eval_logits': '0.1435', 'eval_component_rr/loss': '0.8281', 'eval_component_retain/loss': '0.3105', 'eval_rr/c': '1', 'eval_retain/c': '1', 'eval_retain_cosine': '0.7969', 'eval_rr_cosine': '0.3926'}\n",
      "{'eval_rewards/accuracies': '1', 'eval_rewards/margins': '0.02157', 'eval_logps/rejected': '-1.05', 'eval_logps/chosen': '-2.155', 'eval_loss': '1.125', 'eval_rewards/chosen': '0.001744', 'eval_rewards/rejected': '-0.01982', 'eval_retain/loss': '1.125', 'eval_reroute/loss': '0.7891', 'eval_logratios/pi': '-1.104', 'eval_logratios/ref': '-1.32', 'eval_weighting': '1', 'eval_logits': '0.2157', 'eval_component_rr/loss': '0.7891', 'eval_component_retain/loss': '0.3359', 'eval_rr/c': '1', 'eval_retain/c': '1', 'eval_retain_cosine': '0.9609', 'eval_rr_cosine': '0.5898'}\n",
      "{'eval_rewards/accuracies': '1', 'eval_rewards/margins': '0.007678', 'eval_logps/rejected': '-1.577', 'eval_logps/chosen': '-1.725', 'eval_loss': '1.172', 'eval_rewards/chosen': '-0.002544', 'eval_rewards/rejected': '-0.01022', 'eval_retain/loss': '1.109', 'eval_reroute/loss': '0.8438', 'eval_logratios/pi': '-0.1479', 'eval_logratios/ref': '-0.2247', 'eval_weighting': '1', 'eval_logits': '0.07678', 'eval_component_rr/loss': '0.8398', 'eval_component_retain/loss': '0.332', 'eval_rr/c': '1', 'eval_retain/c': '1', 'eval_retain_cosine': '0.9883', 'eval_rr_cosine': '0.6211'}\n",
      "{'eval_rewards/accuracies': '1', 'eval_rewards/margins': '0.01818', 'eval_logps/rejected': '-1.026', 'eval_logps/chosen': '-1.155', 'eval_loss': '1.102', 'eval_rewards/chosen': '0.005963', 'eval_rewards/rejected': '-0.01222', 'eval_retain/loss': '1.062', 'eval_reroute/loss': '0.7812', 'eval_logratios/pi': '-0.1294', 'eval_logratios/ref': '-0.3112', 'eval_weighting': '1', 'eval_logits': '0.1818', 'eval_component_rr/loss': '0.7852', 'eval_component_retain/loss': '0.3184', 'eval_rr/c': '1', 'eval_retain/c': '1', 'eval_retain_cosine': '0.7773', 'eval_rr_cosine': '0.4746'}\n",
      "{'eval_rewards/accuracies': '1', 'eval_rewards/margins': '0.004046', 'eval_logps/rejected': '-0.9878', 'eval_logps/chosen': '-1.131', 'eval_loss': '1.133', 'eval_rewards/chosen': '-0.0005715', 'eval_rewards/rejected': '-0.004617', 'eval_retain/loss': '1.148', 'eval_reroute/loss': '0.7891', 'eval_logratios/pi': '-0.1432', 'eval_logratios/ref': '-0.1837', 'eval_weighting': '1', 'eval_logits': '0.04046', 'eval_component_rr/loss': '0.7891', 'eval_component_retain/loss': '0.3438', 'eval_rr/c': '1', 'eval_retain/c': '1', 'eval_retain_cosine': '0.9883', 'eval_rr_cosine': '0.6406'}\n",
      "{'eval_rewards/accuracies': '0', 'eval_rewards/margins': '-0.006505', 'eval_logps/rejected': '-1.345', 'eval_logps/chosen': '-1.459', 'eval_loss': '1.219', 'eval_rewards/chosen': '-0.008565', 'eval_rewards/rejected': '-0.00206', 'eval_retain/loss': '1.156', 'eval_reroute/loss': '0.8672', 'eval_logratios/pi': '-0.1138', 'eval_logratios/ref': '-0.04876', 'eval_weighting': '1', 'eval_logits': '-0.06505', 'eval_component_rr/loss': '0.8711', 'eval_component_retain/loss': '0.3457', 'eval_rr/c': '1', 'eval_retain/c': '1', 'eval_retain_cosine': '0.9883', 'eval_rr_cosine': '0.6523'}\n",
      "{'eval_rewards/accuracies': '0', 'eval_rewards/margins': '-0.01361', 'eval_logps/rejected': '-1.154', 'eval_logps/chosen': '-0.6969', 'eval_loss': '1.125', 'eval_rewards/chosen': '-0.004892', 'eval_rewards/rejected': '0.008715', 'eval_retain/loss': '1.047', 'eval_reroute/loss': '0.8125', 'eval_logratios/pi': '0.4569', 'eval_logratios/ref': '0.593', 'eval_weighting': '1', 'eval_logits': '-0.1361', 'eval_component_rr/loss': '0.8125', 'eval_component_retain/loss': '0.3125', 'eval_rr/c': '1', 'eval_retain/c': '1', 'eval_retain_cosine': '0.8477', 'eval_rr_cosine': '0.4805'}\n",
      "{'eval_rewards/accuracies': '1', 'eval_rewards/margins': '0.001112', 'eval_logps/rejected': '-1.61', 'eval_logps/chosen': '-1.286', 'eval_loss': '1.141', 'eval_rewards/chosen': '-0.0124', 'eval_rewards/rejected': '-0.01351', 'eval_retain/loss': '1.055', 'eval_reroute/loss': '0.8203', 'eval_logratios/pi': '0.3245', 'eval_logratios/ref': '0.3134', 'eval_weighting': '1', 'eval_logits': '0.01112', 'eval_component_rr/loss': '0.8242', 'eval_component_retain/loss': '0.3164', 'eval_rr/c': '1', 'eval_retain/c': '1', 'eval_retain_cosine': '0.7969', 'eval_rr_cosine': '0.4238'}\n",
      "{'eval_rewards/accuracies': '0', 'eval_rewards/margins': '-3.817e-05', 'eval_logps/rejected': '-1.319', 'eval_logps/chosen': '-1.235', 'eval_loss': '1.078', 'eval_rewards/chosen': '0.005439', 'eval_rewards/rejected': '0.005477', 'eval_retain/loss': '1.078', 'eval_reroute/loss': '0.7539', 'eval_logratios/pi': '0.08385', 'eval_logratios/ref': '0.08423', 'eval_weighting': '1', 'eval_logits': '-0.0003817', 'eval_component_rr/loss': '0.75', 'eval_component_retain/loss': '0.3242', 'eval_rr/c': '1', 'eval_retain/c': '1', 'eval_retain_cosine': '0.8867', 'eval_rr_cosine': '0.543'}\n",
      "{'eval_rewards/accuracies': '0', 'eval_rewards/margins': '-0.004055', 'eval_logps/rejected': '-2.433', 'eval_logps/chosen': '-3.048', 'eval_loss': '1.172', 'eval_rewards/chosen': '-0.003068', 'eval_rewards/rejected': '0.0009872', 'eval_retain/loss': '1.016', 'eval_reroute/loss': '0.8711', 'eval_logratios/pi': '-0.6144', 'eval_logratios/ref': '-0.5739', 'eval_weighting': '1', 'eval_logits': '-0.04055', 'eval_component_rr/loss': '0.8711', 'eval_component_retain/loss': '0.3047', 'eval_rr/c': '1', 'eval_retain/c': '1', 'eval_retain_cosine': '0.9961', 'eval_rr_cosine': '0.5781'}\n",
      "{'eval_rewards/accuracies': '1', 'eval_rewards/margins': '0.01033', 'eval_logps/rejected': '-1.975', 'eval_logps/chosen': '-1.006', 'eval_loss': '1.188', 'eval_rewards/chosen': '0.003267', 'eval_rewards/rejected': '-0.007061', 'eval_retain/loss': '1.016', 'eval_reroute/loss': '0.8867', 'eval_logratios/pi': '0.9687', 'eval_logratios/ref': '0.8654', 'eval_weighting': '1', 'eval_logits': '0.1033', 'eval_component_rr/loss': '0.8867', 'eval_component_retain/loss': '0.3047', 'eval_rr/c': '1', 'eval_retain/c': '1', 'eval_retain_cosine': '0.8398', 'eval_rr_cosine': '0.4355'}\n",
      "{'eval_rewards/accuracies': '0', 'eval_rewards/margins': '-0.003731', 'eval_logps/rejected': '-1.009', 'eval_logps/chosen': '-0.9697', 'eval_loss': '1.172', 'eval_rewards/chosen': '-0.00078', 'eval_rewards/rejected': '0.002951', 'eval_retain/loss': '1.141', 'eval_reroute/loss': '0.8359', 'eval_logratios/pi': '0.03969', 'eval_logratios/ref': '0.077', 'eval_weighting': '1', 'eval_logits': '-0.03731', 'eval_component_rr/loss': '0.8359', 'eval_component_retain/loss': '0.3418', 'eval_rr/c': '1', 'eval_retain/c': '1', 'eval_retain_cosine': '0.8633', 'eval_rr_cosine': '0.5273'}\n",
      "{'eval_rewards/accuracies': '1', 'eval_rewards/margins': '0.005682', 'eval_logps/rejected': '-1.673', 'eval_logps/chosen': '-1.512', 'eval_loss': '0.9922', 'eval_rewards/chosen': '-0.005617', 'eval_rewards/rejected': '-0.0113', 'eval_retain/loss': '1.07', 'eval_reroute/loss': '0.6719', 'eval_logratios/pi': '0.1614', 'eval_logratios/ref': '0.1046', 'eval_weighting': '1', 'eval_logits': '0.05682', 'eval_component_rr/loss': '0.6719', 'eval_component_retain/loss': '0.3203', 'eval_rr/c': '1', 'eval_retain/c': '1', 'eval_retain_cosine': '0.8242', 'eval_rr_cosine': '0.5039'}\n",
      "{'eval_rewards/accuracies': '0', 'eval_rewards/margins': '-0.003087', 'eval_logps/rejected': '-0.4353', 'eval_logps/chosen': '-1.009', 'eval_loss': '1.188', 'eval_rewards/chosen': '-0.003803', 'eval_rewards/rejected': '-0.000716', 'eval_retain/loss': '1.078', 'eval_reroute/loss': '0.8633', 'eval_logratios/pi': '-0.5739', 'eval_logratios/ref': '-0.543', 'eval_weighting': '1', 'eval_logits': '-0.03087', 'eval_component_rr/loss': '0.8633', 'eval_component_retain/loss': '0.3242', 'eval_rr/c': '1', 'eval_retain/c': '1', 'eval_retain_cosine': '0.7617', 'eval_rr_cosine': '0.4355'}\n",
      "{'eval_rewards/accuracies': '1', 'eval_rewards/margins': '0.0009235', 'eval_logps/rejected': '-0.9938', 'eval_logps/chosen': '-0.9754', 'eval_loss': '1.273', 'eval_rewards/chosen': '0.005015', 'eval_rewards/rejected': '0.004092', 'eval_retain/loss': '1.125', 'eval_reroute/loss': '0.9375', 'eval_logratios/pi': '0.01843', 'eval_logratios/ref': '0.0092', 'eval_weighting': '1', 'eval_logits': '0.009235', 'eval_component_rr/loss': '0.9375', 'eval_component_retain/loss': '0.3379', 'eval_rr/c': '1', 'eval_retain/c': '1', 'eval_retain_cosine': '0.9883', 'eval_rr_cosine': '0.6836'}\n",
      "{'eval_rewards/accuracies': '1', 'eval_rewards/margins': '0.01067', 'eval_logps/rejected': '-0.7957', 'eval_logps/chosen': '-0.8235', 'eval_loss': '1.094', 'eval_rewards/chosen': '0.005315', 'eval_rewards/rejected': '-0.005357', 'eval_retain/loss': '1.062', 'eval_reroute/loss': '0.7734', 'eval_logratios/pi': '-0.02779', 'eval_logratios/ref': '-0.1345', 'eval_weighting': '1', 'eval_logits': '0.1067', 'eval_component_rr/loss': '0.7734', 'eval_component_retain/loss': '0.3184', 'eval_rr/c': '1', 'eval_retain/c': '1', 'eval_retain_cosine': '0.8633', 'eval_rr_cosine': '0.5859'}\n",
      "{'eval_rewards/accuracies': '0', 'eval_rewards/margins': '-0.009335', 'eval_logps/rejected': '-1.581', 'eval_logps/chosen': '-1.198', 'eval_loss': '1.219', 'eval_rewards/chosen': '-0.002758', 'eval_rewards/rejected': '0.006577', 'eval_retain/loss': '1.07', 'eval_reroute/loss': '0.9023', 'eval_logratios/pi': '0.3827', 'eval_logratios/ref': '0.4761', 'eval_weighting': '1', 'eval_logits': '-0.09335', 'eval_component_rr/loss': '0.8984', 'eval_component_retain/loss': '0.3203', 'eval_rr/c': '1', 'eval_retain/c': '1', 'eval_retain_cosine': '0.7852', 'eval_rr_cosine': '0.4141'}\n",
      "{'eval_rewards/accuracies': '1', 'eval_rewards/margins': '0.004145', 'eval_logps/rejected': '-0.8918', 'eval_logps/chosen': '-0.8995', 'eval_loss': '1.375', 'eval_rewards/chosen': '-0.002597', 'eval_rewards/rejected': '-0.006742', 'eval_retain/loss': '1.211', 'eval_reroute/loss': '1.008', 'eval_logratios/pi': '-0.007755', 'eval_logratios/ref': '-0.04921', 'eval_weighting': '1', 'eval_logits': '0.04145', 'eval_component_rr/loss': '1.008', 'eval_component_retain/loss': '0.3633', 'eval_rr/c': '1', 'eval_retain/c': '1', 'eval_retain_cosine': '0.7891', 'eval_rr_cosine': '0.4863'}\n",
      "{'eval_rewards/accuracies': '0', 'eval_rewards/margins': '-0.007055', 'eval_logps/rejected': '-1.065', 'eval_logps/chosen': '-1.447', 'eval_loss': '1.203', 'eval_rewards/chosen': '-0.00457', 'eval_rewards/rejected': '0.002485', 'eval_retain/loss': '1.078', 'eval_reroute/loss': '0.8828', 'eval_logratios/pi': '-0.3822', 'eval_logratios/ref': '-0.3117', 'eval_weighting': '1', 'eval_logits': '-0.07055', 'eval_component_rr/loss': '0.8789', 'eval_component_retain/loss': '0.3242', 'eval_rr/c': '1', 'eval_retain/c': '1', 'eval_retain_cosine': '0.7734', 'eval_rr_cosine': '0.4199'}\n",
      "{'eval_rewards/accuracies': '0', 'eval_rewards/margins': '-0.004252', 'eval_logps/rejected': '-1.112', 'eval_logps/chosen': '-1.935', 'eval_loss': '1.227', 'eval_rewards/chosen': '-0.0001009', 'eval_rewards/rejected': '0.004151', 'eval_retain/loss': '1.102', 'eval_reroute/loss': '0.8984', 'eval_logratios/pi': '-0.8238', 'eval_logratios/ref': '-0.7812', 'eval_weighting': '1', 'eval_logits': '-0.04252', 'eval_component_rr/loss': '0.8984', 'eval_component_retain/loss': '0.3301', 'eval_rr/c': '1', 'eval_retain/c': '1', 'eval_retain_cosine': '0.9844', 'eval_rr_cosine': '0.373'}\n",
      "{'eval_rewards/accuracies': '0', 'eval_rewards/margins': '-0.008142', 'eval_logps/rejected': '-1.119', 'eval_logps/chosen': '-1.27', 'eval_loss': '1.297', 'eval_rewards/chosen': '-0.003513', 'eval_rewards/rejected': '0.00463', 'eval_retain/loss': '1.039', 'eval_reroute/loss': '0.9844', 'eval_logratios/pi': '-0.1505', 'eval_logratios/ref': '-0.06903', 'eval_weighting': '1', 'eval_logits': '-0.08142', 'eval_component_rr/loss': '0.9883', 'eval_component_retain/loss': '0.3105', 'eval_rr/c': '1', 'eval_retain/c': '1', 'eval_retain_cosine': '0.7734', 'eval_rr_cosine': '0.3984'}\n",
      "{'eval_rewards/accuracies': '1', 'eval_rewards/margins': '0.004083', 'eval_logps/rejected': '-0.8893', 'eval_logps/chosen': '-1.002', 'eval_loss': '1.047', 'eval_rewards/chosen': '-0.005742', 'eval_rewards/rejected': '-0.009825', 'eval_retain/loss': '1.031', 'eval_reroute/loss': '0.7344', 'eval_logratios/pi': '-0.1129', 'eval_logratios/ref': '-0.1537', 'eval_weighting': '1', 'eval_logits': '0.04083', 'eval_component_rr/loss': '0.7344', 'eval_component_retain/loss': '0.3105', 'eval_rr/c': '1', 'eval_retain/c': '1', 'eval_retain_cosine': '0.7852', 'eval_rr_cosine': '0.4375'}\n",
      "{'eval_rewards/accuracies': '1', 'eval_rewards/margins': '0.00156', 'eval_logps/rejected': '-0.9359', 'eval_logps/chosen': '-0.7751', 'eval_loss': '1.203', 'eval_rewards/chosen': '-0.004511', 'eval_rewards/rejected': '-0.00607', 'eval_retain/loss': '1.18', 'eval_reroute/loss': '0.8555', 'eval_logratios/pi': '0.1608', 'eval_logratios/ref': '0.1452', 'eval_weighting': '1', 'eval_logits': '0.0156', 'eval_component_rr/loss': '0.8516', 'eval_component_retain/loss': '0.3535', 'eval_rr/c': '1', 'eval_retain/c': '1', 'eval_retain_cosine': '0.8477', 'eval_rr_cosine': '0.5312'}\n",
      "{'eval_rewards/accuracies': '0', 'eval_rewards/margins': '-0.001675', 'eval_logps/rejected': '-2.988', 'eval_logps/chosen': '-1.983', 'eval_loss': '1.25', 'eval_rewards/chosen': '-0.002236', 'eval_rewards/rejected': '-0.0005602', 'eval_retain/loss': '1.016', 'eval_reroute/loss': '0.9492', 'eval_logratios/pi': '1.005', 'eval_logratios/ref': '1.021', 'eval_weighting': '1', 'eval_logits': '-0.01675', 'eval_component_rr/loss': '0.9492', 'eval_component_retain/loss': '0.3047', 'eval_rr/c': '1', 'eval_retain/c': '1', 'eval_retain_cosine': '0.9961', 'eval_rr_cosine': '0.5898'}\n",
      "{'eval_rewards/accuracies': '1', 'eval_rewards/margins': '0.0005611', 'eval_logps/rejected': '-1.194', 'eval_logps/chosen': '-1.173', 'eval_loss': '1.016', 'eval_rewards/chosen': '-0.005048', 'eval_rewards/rejected': '-0.00561', 'eval_retain/loss': '1.148', 'eval_reroute/loss': '0.6758', 'eval_logratios/pi': '0.02093', 'eval_logratios/ref': '0.01532', 'eval_weighting': '1', 'eval_logits': '0.005611', 'eval_component_rr/loss': '0.6758', 'eval_component_retain/loss': '0.3438', 'eval_rr/c': '1', 'eval_retain/c': '1', 'eval_retain_cosine': '0.9492', 'eval_rr_cosine': '0.5898'}\n",
      "{'eval_rewards/accuracies': '0', 'eval_rewards/margins': '-4.565e-05', 'eval_logps/rejected': '-1.308', 'eval_logps/chosen': '-1.25', 'eval_loss': '1.281', 'eval_rewards/chosen': '-0.001016', 'eval_rewards/rejected': '-0.0009707', 'eval_retain/loss': '1.078', 'eval_reroute/loss': '0.957', 'eval_logratios/pi': '0.05708', 'eval_logratios/ref': '0.05754', 'eval_weighting': '1', 'eval_logits': '-0.0004565', 'eval_component_rr/loss': '0.9531', 'eval_component_retain/loss': '0.3242', 'eval_rr/c': '1', 'eval_retain/c': '1', 'eval_retain_cosine': '0.8477', 'eval_rr_cosine': '0.5156'}\n",
      "{'eval_rewards/accuracies': '0', 'eval_rewards/margins': '-0.0006141', 'eval_logps/rejected': '-1.315', 'eval_logps/chosen': '-1.097', 'eval_loss': '1.07', 'eval_rewards/chosen': '-0.000147', 'eval_rewards/rejected': '0.000467', 'eval_retain/loss': '1.055', 'eval_reroute/loss': '0.7578', 'eval_logratios/pi': '0.2176', 'eval_logratios/ref': '0.2238', 'eval_weighting': '1', 'eval_logits': '-0.006141', 'eval_component_rr/loss': '0.7539', 'eval_component_retain/loss': '0.3164', 'eval_rr/c': '1', 'eval_retain/c': '1', 'eval_retain_cosine': '0.9883', 'eval_rr_cosine': '0.6328'}\n",
      "{'eval_rewards/accuracies': '0', 'eval_rewards/margins': '-0.003992', 'eval_logps/rejected': '-0.6961', 'eval_logps/chosen': '-0.7939', 'eval_loss': '1.219', 'eval_rewards/chosen': '-0.003045', 'eval_rewards/rejected': '0.0009463', 'eval_retain/loss': '1.172', 'eval_reroute/loss': '0.8633', 'eval_logratios/pi': '-0.09777', 'eval_logratios/ref': '-0.05785', 'eval_weighting': '1', 'eval_logits': '-0.03992', 'eval_component_rr/loss': '0.8633', 'eval_component_retain/loss': '0.3516', 'eval_rr/c': '1', 'eval_retain/c': '1', 'eval_retain_cosine': '0.8789', 'eval_rr_cosine': '0.5352'}\n",
      "{'eval_rewards/accuracies': '1', 'eval_rewards/margins': '0.01496', 'eval_logps/rejected': '-1.138', 'eval_logps/chosen': '-0.8653', 'eval_loss': '1.133', 'eval_rewards/chosen': '0.0115', 'eval_rewards/rejected': '-0.003452', 'eval_retain/loss': '1.047', 'eval_reroute/loss': '0.8164', 'eval_logratios/pi': '0.2727', 'eval_logratios/ref': '0.1232', 'eval_weighting': '1', 'eval_logits': '0.1496', 'eval_component_rr/loss': '0.8164', 'eval_component_retain/loss': '0.3145', 'eval_rr/c': '1', 'eval_retain/c': '1', 'eval_retain_cosine': '0.7656', 'eval_rr_cosine': '0.4238'}\n",
      "{'eval_rewards/accuracies': '0', 'eval_rewards/margins': '-0.00382', 'eval_logps/rejected': '-0.7978', 'eval_logps/chosen': '-0.8948', 'eval_loss': '1.422', 'eval_rewards/chosen': '-0.004974', 'eval_rewards/rejected': '-0.001154', 'eval_retain/loss': '1.148', 'eval_reroute/loss': '1.07', 'eval_logratios/pi': '-0.09701', 'eval_logratios/ref': '-0.05881', 'eval_weighting': '1', 'eval_logits': '-0.0382', 'eval_component_rr/loss': '1.07', 'eval_component_retain/loss': '0.3457', 'eval_rr/c': '1', 'eval_retain/c': '1', 'eval_retain_cosine': '0.7734', 'eval_rr_cosine': '0.4004'}\n",
      "{'eval_rewards/accuracies': '0', 'eval_rewards/margins': '-0.009793', 'eval_logps/rejected': '-1.064', 'eval_logps/chosen': '-0.723', 'eval_loss': '1.25', 'eval_rewards/chosen': '0.0005874', 'eval_rewards/rejected': '0.01038', 'eval_retain/loss': '1.039', 'eval_reroute/loss': '0.9414', 'eval_logratios/pi': '0.3415', 'eval_logratios/ref': '0.4394', 'eval_weighting': '1', 'eval_logits': '-0.09793', 'eval_component_rr/loss': '0.9414', 'eval_component_retain/loss': '0.3105', 'eval_rr/c': '1', 'eval_retain/c': '1', 'eval_retain_cosine': '0.7969', 'eval_rr_cosine': '0.3984'}\n",
      "{'eval_rewards/accuracies': '1', 'eval_rewards/margins': '0.01268', 'eval_logps/rejected': '-1.735', 'eval_logps/chosen': '-1.867', 'eval_loss': '1.109', 'eval_rewards/chosen': '-0.001295', 'eval_rewards/rejected': '-0.01398', 'eval_retain/loss': '1.023', 'eval_reroute/loss': '0.8008', 'eval_logratios/pi': '-0.1324', 'eval_logratios/ref': '-0.2593', 'eval_weighting': '1', 'eval_logits': '0.1268', 'eval_component_rr/loss': '0.8008', 'eval_component_retain/loss': '0.3066', 'eval_rr/c': '1', 'eval_retain/c': '1', 'eval_retain_cosine': '0.9961', 'eval_rr_cosine': '0.6094'}\n",
      "{'eval_rewards/accuracies': '0', 'eval_rewards/margins': '-0.02694', 'eval_logps/rejected': '-1.21', 'eval_logps/chosen': '-1.184', 'eval_loss': '1.203', 'eval_rewards/chosen': '-0.01908', 'eval_rewards/rejected': '0.007863', 'eval_retain/loss': '1.07', 'eval_reroute/loss': '0.8828', 'eval_logratios/pi': '0.02567', 'eval_logratios/ref': '0.2951', 'eval_weighting': '1', 'eval_logits': '-0.2694', 'eval_component_rr/loss': '0.8789', 'eval_component_retain/loss': '0.3223', 'eval_rr/c': '1', 'eval_retain/c': '1', 'eval_retain_cosine': '0.8867', 'eval_rr_cosine': '0.543'}\n",
      "{'eval_rewards/accuracies': '1', 'eval_rewards/margins': '0.00303', 'eval_logps/rejected': '-1.234', 'eval_logps/chosen': '-1.065', 'eval_loss': '1.227', 'eval_rewards/chosen': '-0.002095', 'eval_rewards/rejected': '-0.005125', 'eval_retain/loss': '1.125', 'eval_reroute/loss': '0.8945', 'eval_logratios/pi': '0.1681', 'eval_logratios/ref': '0.1378', 'eval_weighting': '1', 'eval_logits': '0.0303', 'eval_component_rr/loss': '0.8906', 'eval_component_retain/loss': '0.3359', 'eval_rr/c': '1', 'eval_retain/c': '1', 'eval_retain_cosine': '0.7852', 'eval_rr_cosine': '0.418'}\n",
      "{'eval_rewards/accuracies': '1', 'eval_rewards/margins': '0.003345', 'eval_logps/rejected': '-1.711', 'eval_logps/chosen': '-2.304', 'eval_loss': '1.281', 'eval_rewards/chosen': '0.003195', 'eval_rewards/rejected': '-0.0001501', 'eval_retain/loss': '1.07', 'eval_reroute/loss': '0.9609', 'eval_logratios/pi': '-0.5927', 'eval_logratios/ref': '-0.6261', 'eval_weighting': '1', 'eval_logits': '0.03345', 'eval_component_rr/loss': '0.9609', 'eval_component_retain/loss': '0.3203', 'eval_rr/c': '1', 'eval_retain/c': '1', 'eval_retain_cosine': '0.9961', 'eval_rr_cosine': '0.6367'}\n",
      "{'eval_rewards/accuracies': '1', 'eval_rewards/margins': '0.004527', 'eval_logps/rejected': '-2.232', 'eval_logps/chosen': '-1.716', 'eval_loss': '1.25', 'eval_rewards/chosen': '0.004561', 'eval_rewards/rejected': '3.462e-05', 'eval_retain/loss': '1.047', 'eval_reroute/loss': '0.9375', 'eval_logratios/pi': '0.5151', 'eval_logratios/ref': '0.4699', 'eval_weighting': '1', 'eval_logits': '0.04527', 'eval_component_rr/loss': '0.9375', 'eval_component_retain/loss': '0.3145', 'eval_rr/c': '1', 'eval_retain/c': '1', 'eval_retain_cosine': '0.9883', 'eval_rr_cosine': '0.5977'}\n",
      "{'eval_rewards/accuracies': '1', 'eval_rewards/margins': '0.008707', 'eval_logps/rejected': '-1.252', 'eval_logps/chosen': '-0.56', 'eval_loss': '1.25', 'eval_rewards/chosen': '0.009498', 'eval_rewards/rejected': '0.0007916', 'eval_retain/loss': '1.078', 'eval_reroute/loss': '0.9297', 'eval_logratios/pi': '0.6923', 'eval_logratios/ref': '0.6052', 'eval_weighting': '1', 'eval_logits': '0.08707', 'eval_component_rr/loss': '0.9258', 'eval_component_retain/loss': '0.3223', 'eval_rr/c': '1', 'eval_retain/c': '1', 'eval_retain_cosine': '0.7656', 'eval_rr_cosine': '0.4375'}\n",
      "{'eval_rewards/accuracies': '1', 'eval_rewards/margins': '0.003921', 'eval_logps/rejected': '-1.157', 'eval_logps/chosen': '-0.5662', 'eval_loss': '1.227', 'eval_rewards/chosen': '0.005482', 'eval_rewards/rejected': '0.001561', 'eval_retain/loss': '1.125', 'eval_reroute/loss': '0.8945', 'eval_logratios/pi': '0.5911', 'eval_logratios/ref': '0.5519', 'eval_weighting': '1', 'eval_logits': '0.03921', 'eval_component_rr/loss': '0.8906', 'eval_component_retain/loss': '0.3379', 'eval_rr/c': '1', 'eval_retain/c': '1', 'eval_retain_cosine': '0.9844', 'eval_rr_cosine': '0.6094'}\n",
      "{'eval_rewards/accuracies': '0', 'eval_rewards/margins': '-0.0002905', 'eval_logps/rejected': '-1.385', 'eval_logps/chosen': '-1.601', 'eval_loss': '1.516', 'eval_rewards/chosen': '0.02338', 'eval_rewards/rejected': '0.02367', 'eval_retain/loss': '1.32', 'eval_reroute/loss': '1.117', 'eval_logratios/pi': '-0.2157', 'eval_logratios/ref': '-0.2128', 'eval_weighting': '1', 'eval_logits': '-0.002905', 'eval_component_rr/loss': '1.117', 'eval_component_retain/loss': '0.3945', 'eval_rr/c': '1', 'eval_retain/c': '1', 'eval_retain_cosine': '0.7734', 'eval_rr_cosine': '0.5'}\n",
      "{'eval_rewards/accuracies': '1', 'eval_rewards/margins': '0.01009', 'eval_logps/rejected': '-1.287', 'eval_logps/chosen': '-0.9148', 'eval_loss': '1.273', 'eval_rewards/chosen': '0.006418', 'eval_rewards/rejected': '-0.003669', 'eval_retain/loss': '1.164', 'eval_reroute/loss': '0.9258', 'eval_logratios/pi': '0.372', 'eval_logratios/ref': '0.2711', 'eval_weighting': '1', 'eval_logits': '0.1009', 'eval_component_rr/loss': '0.9258', 'eval_component_retain/loss': '0.3496', 'eval_rr/c': '1', 'eval_retain/c': '1', 'eval_retain_cosine': '0.9648', 'eval_rr_cosine': '0.6836'}\n",
      "{'eval_rewards/accuracies': '0', 'eval_rewards/margins': '-0.006257', 'eval_logps/rejected': '-0.8899', 'eval_logps/chosen': '-2.404', 'eval_loss': '1.078', 'eval_rewards/chosen': '-0.01219', 'eval_rewards/rejected': '-0.005938', 'eval_retain/loss': '1.086', 'eval_reroute/loss': '0.7578', 'eval_logratios/pi': '-1.514', 'eval_logratios/ref': '-1.452', 'eval_weighting': '1', 'eval_logits': '-0.06257', 'eval_component_rr/loss': '0.7539', 'eval_component_retain/loss': '0.3262', 'eval_rr/c': '1', 'eval_retain/c': '1', 'eval_retain_cosine': '0.8242', 'eval_rr_cosine': '0.4922'}\n",
      "{'eval_rewards/accuracies': '0', 'eval_rewards/margins': '-0.006445', 'eval_logps/rejected': '-1.18', 'eval_logps/chosen': '-1.053', 'eval_loss': '1.273', 'eval_rewards/chosen': '0.0001393', 'eval_rewards/rejected': '0.006584', 'eval_retain/loss': '1.039', 'eval_reroute/loss': '0.9688', 'eval_logratios/pi': '0.1265', 'eval_logratios/ref': '0.191', 'eval_weighting': '1', 'eval_logits': '-0.06445', 'eval_component_rr/loss': '0.9648', 'eval_component_retain/loss': '0.3105', 'eval_rr/c': '1', 'eval_retain/c': '1', 'eval_retain_cosine': '0.9141', 'eval_rr_cosine': '0.4941'}\n",
      "{'eval_rewards/accuracies': '0', 'eval_rewards/margins': '-0.002179', 'eval_logps/rejected': '-0.648', 'eval_logps/chosen': '-2.056', 'eval_loss': '1.266', 'eval_rewards/chosen': '-0.0002145', 'eval_rewards/rejected': '0.001964', 'eval_retain/loss': '1.031', 'eval_reroute/loss': '0.957', 'eval_logratios/pi': '-1.408', 'eval_logratios/ref': '-1.386', 'eval_weighting': '1', 'eval_logits': '-0.02179', 'eval_component_rr/loss': '0.9531', 'eval_component_retain/loss': '0.3105', 'eval_rr/c': '1', 'eval_retain/c': '1', 'eval_retain_cosine': '0.8711', 'eval_rr_cosine': '0.5703'}\n",
      "{'eval_rewards/accuracies': '0', 'eval_rewards/margins': '-0.003149', 'eval_logps/rejected': '-1.479', 'eval_logps/chosen': '-0.5138', 'eval_loss': '1.242', 'eval_rewards/chosen': '0.00377', 'eval_rewards/rejected': '0.006919', 'eval_retain/loss': '1.047', 'eval_reroute/loss': '0.9258', 'eval_logratios/pi': '0.9657', 'eval_logratios/ref': '0.9972', 'eval_weighting': '1', 'eval_logits': '-0.03149', 'eval_component_rr/loss': '0.9258', 'eval_component_retain/loss': '0.3145', 'eval_rr/c': '1', 'eval_retain/c': '1', 'eval_retain_cosine': '0.9414', 'eval_rr_cosine': '0.5977'}\n",
      "{'eval_rewards/accuracies': '1', 'eval_rewards/margins': '0.01376', 'eval_logps/rejected': '-1.169', 'eval_logps/chosen': '-2.086', 'eval_loss': '1.336', 'eval_rewards/chosen': '0.002645', 'eval_rewards/rejected': '-0.01111', 'eval_retain/loss': '1.07', 'eval_reroute/loss': '1.016', 'eval_logratios/pi': '-0.9175', 'eval_logratios/ref': '-1.055', 'eval_weighting': '1', 'eval_logits': '0.1376', 'eval_component_rr/loss': '1.016', 'eval_component_retain/loss': '0.3223', 'eval_rr/c': '1', 'eval_retain/c': '1', 'eval_retain_cosine': '0.8477', 'eval_rr_cosine': '0.4199'}\n",
      "{'eval_rewards/accuracies': '0', 'eval_rewards/margins': '-0.008598', 'eval_logps/rejected': '-0.9091', 'eval_logps/chosen': '-1.19', 'eval_loss': '1.188', 'eval_rewards/chosen': '-0.00403', 'eval_rewards/rejected': '0.004569', 'eval_retain/loss': '1.023', 'eval_reroute/loss': '0.8828', 'eval_logratios/pi': '-0.2804', 'eval_logratios/ref': '-0.1944', 'eval_weighting': '1', 'eval_logits': '-0.08598', 'eval_component_rr/loss': '0.8789', 'eval_component_retain/loss': '0.3066', 'eval_rr/c': '1', 'eval_retain/c': '1', 'eval_retain_cosine': '0.9961', 'eval_rr_cosine': '0.5898'}\n",
      "{'eval_rewards/accuracies': '0', 'eval_rewards/margins': '-0.01577', 'eval_logps/rejected': '-1.525', 'eval_logps/chosen': '-0.8844', 'eval_loss': '1.227', 'eval_rewards/chosen': '-0.008898', 'eval_rewards/rejected': '0.006871', 'eval_retain/loss': '1.062', 'eval_reroute/loss': '0.9102', 'eval_logratios/pi': '0.6407', 'eval_logratios/ref': '0.7984', 'eval_weighting': '1', 'eval_logits': '-0.1577', 'eval_component_rr/loss': '0.9102', 'eval_component_retain/loss': '0.3184', 'eval_rr/c': '1', 'eval_retain/c': '1', 'eval_retain_cosine': '0.8359', 'eval_rr_cosine': '0.4355'}\n",
      "{'eval_rewards/accuracies': '1', 'eval_rewards/margins': '0.04409', 'eval_logps/rejected': '-1.804', 'eval_logps/chosen': '-1.94', 'eval_loss': '0.9375', 'eval_rewards/chosen': '0.00471', 'eval_rewards/rejected': '-0.03938', 'eval_retain/loss': '1.031', 'eval_reroute/loss': '0.6289', 'eval_logratios/pi': '-0.1352', 'eval_logratios/ref': '-0.5761', 'eval_weighting': '1', 'eval_logits': '0.4409', 'eval_component_rr/loss': '0.6289', 'eval_component_retain/loss': '0.3086', 'eval_rr/c': '1', 'eval_retain/c': '1', 'eval_retain_cosine': '0.9961', 'eval_rr_cosine': '0.5469'}\n",
      "{'eval_rewards/accuracies': '1', 'eval_rewards/margins': '0.0001532', 'eval_logps/rejected': '-0.6789', 'eval_logps/chosen': '-0.9869', 'eval_loss': '1.211', 'eval_rewards/chosen': '0.004927', 'eval_rewards/rejected': '0.004774', 'eval_retain/loss': '1.07', 'eval_reroute/loss': '0.8906', 'eval_logratios/pi': '-0.308', 'eval_logratios/ref': '-0.3096', 'eval_weighting': '1', 'eval_logits': '0.001532', 'eval_component_rr/loss': '0.8906', 'eval_component_retain/loss': '0.3223', 'eval_rr/c': '1', 'eval_retain/c': '1', 'eval_retain_cosine': '0.9844', 'eval_rr_cosine': '0.6289'}\n",
      "{'eval_rewards/accuracies': '0', 'eval_rewards/margins': '-0.003428', 'eval_logps/rejected': '-0.3971', 'eval_logps/chosen': '-0.9878', 'eval_loss': '1.031', 'eval_rewards/chosen': '-0.004972', 'eval_rewards/rejected': '-0.001544', 'eval_retain/loss': '1.109', 'eval_reroute/loss': '0.6914', 'eval_logratios/pi': '-0.5907', 'eval_logratios/ref': '-0.5564', 'eval_weighting': '1', 'eval_logits': '-0.03428', 'eval_component_rr/loss': '0.6914', 'eval_component_retain/loss': '0.334', 'eval_rr/c': '1', 'eval_retain/c': '1', 'eval_retain_cosine': '0.9219', 'eval_rr_cosine': '0.5625'}\n",
      "{'eval_rewards/accuracies': '1', 'eval_rewards/margins': '0.01009', 'eval_logps/rejected': '-1.091', 'eval_logps/chosen': '-1.312', 'eval_loss': '0.7266', 'eval_rewards/chosen': '0.003913', 'eval_rewards/rejected': '-0.006173', 'eval_retain/loss': '1.031', 'eval_reroute/loss': '0.4219', 'eval_logratios/pi': '-0.2212', 'eval_logratios/ref': '-0.3221', 'eval_weighting': '1', 'eval_logits': '0.1009', 'eval_component_rr/loss': '0.4199', 'eval_component_retain/loss': '0.3086', 'eval_rr/c': '1', 'eval_retain/c': '1', 'eval_retain_cosine': '0.8906', 'eval_rr_cosine': '0.5039'}\n",
      "{'eval_rewards/accuracies': '1', 'eval_rewards/margins': '0.001972', 'eval_logps/rejected': '-1.646', 'eval_logps/chosen': '-1.166', 'eval_loss': '1.227', 'eval_rewards/chosen': '0.008302', 'eval_rewards/rejected': '0.006331', 'eval_retain/loss': '1.117', 'eval_reroute/loss': '0.8906', 'eval_logratios/pi': '0.4795', 'eval_logratios/ref': '0.4598', 'eval_weighting': '1', 'eval_logits': '0.01972', 'eval_component_rr/loss': '0.8906', 'eval_component_retain/loss': '0.334', 'eval_rr/c': '1', 'eval_retain/c': '1', 'eval_retain_cosine': '0.9766', 'eval_rr_cosine': '0.6094'}\n",
      "{'eval_rewards/accuracies': '1', 'eval_rewards/margins': '0.002833', 'eval_logps/rejected': '-2.537', 'eval_logps/chosen': '-2.414', 'eval_loss': '1.25', 'eval_rewards/chosen': '-0.002919', 'eval_rewards/rejected': '-0.005753', 'eval_retain/loss': '1.055', 'eval_reroute/loss': '0.9336', 'eval_logratios/pi': '0.1234', 'eval_logratios/ref': '0.09504', 'eval_weighting': '1', 'eval_logits': '0.02833', 'eval_component_rr/loss': '0.9336', 'eval_component_retain/loss': '0.3164', 'eval_rr/c': '1', 'eval_retain/c': '1', 'eval_retain_cosine': '0.9961', 'eval_rr_cosine': '0.6016'}\n",
      "{'eval_rewards/accuracies': '0', 'eval_rewards/margins': '-0.01154', 'eval_logps/rejected': '-1.581', 'eval_logps/chosen': '-2.759', 'eval_loss': '1.266', 'eval_rewards/chosen': '-0.0106', 'eval_rewards/rejected': '0.0009381', 'eval_retain/loss': '1.031', 'eval_reroute/loss': '0.9609', 'eval_logratios/pi': '-1.178', 'eval_logratios/ref': '-1.062', 'eval_weighting': '1', 'eval_logits': '-0.1154', 'eval_component_rr/loss': '0.9609', 'eval_component_retain/loss': '0.3086', 'eval_rr/c': '1', 'eval_retain/c': '1', 'eval_retain_cosine': '0.8477', 'eval_rr_cosine': '0.5273'}\n",
      "{'eval_rewards/accuracies': '1', 'eval_rewards/margins': '0.00274', 'eval_logps/rejected': '-3.016', 'eval_logps/chosen': '-1.523', 'eval_loss': '1.414', 'eval_rewards/chosen': '0.0008969', 'eval_rewards/rejected': '-0.001843', 'eval_retain/loss': '1.203', 'eval_reroute/loss': '1.047', 'eval_logratios/pi': '1.493', 'eval_logratios/ref': '1.465', 'eval_weighting': '1', 'eval_logits': '0.0274', 'eval_component_rr/loss': '1.055', 'eval_component_retain/loss': '0.3613', 'eval_rr/c': '1', 'eval_retain/c': '1', 'eval_retain_cosine': '0.9141', 'eval_rr_cosine': '0.5977'}\n",
      "{'eval_rewards/accuracies': '0', 'eval_rewards/margins': '-0.001346', 'eval_logps/rejected': '-1.465', 'eval_logps/chosen': '-1.314', 'eval_loss': '1.273', 'eval_rewards/chosen': '-0.0001883', 'eval_rewards/rejected': '0.001158', 'eval_retain/loss': '1.031', 'eval_reroute/loss': '0.9648', 'eval_logratios/pi': '0.1509', 'eval_logratios/ref': '0.1644', 'eval_weighting': '1', 'eval_logits': '-0.01346', 'eval_component_rr/loss': '0.9648', 'eval_component_retain/loss': '0.3105', 'eval_rr/c': '1', 'eval_retain/c': '1', 'eval_retain_cosine': '0.9961', 'eval_rr_cosine': '0.5781'}\n",
      "{'eval_rewards/accuracies': '0', 'eval_rewards/margins': '-0.003129', 'eval_logps/rejected': '-1.552', 'eval_logps/chosen': '-1.422', 'eval_loss': '1.406', 'eval_rewards/chosen': '-0.001626', 'eval_rewards/rejected': '0.001503', 'eval_retain/loss': '1.125', 'eval_reroute/loss': '1.062', 'eval_logratios/pi': '0.1297', 'eval_logratios/ref': '0.161', 'eval_weighting': '1', 'eval_logits': '-0.03129', 'eval_component_rr/loss': '1.07', 'eval_component_retain/loss': '0.3359', 'eval_rr/c': '1', 'eval_retain/c': '1', 'eval_retain_cosine': '0.9961', 'eval_rr_cosine': '0.4551'}\n",
      "{'eval_rewards/accuracies': '1', 'eval_rewards/margins': '0.0003201', 'eval_logps/rejected': '-0.9175', 'eval_logps/chosen': '-1.277', 'eval_loss': '1.281', 'eval_rewards/chosen': '0.001174', 'eval_rewards/rejected': '0.0008538', 'eval_retain/loss': '1.062', 'eval_reroute/loss': '0.9648', 'eval_logratios/pi': '-0.3593', 'eval_logratios/ref': '-0.3625', 'eval_weighting': '1', 'eval_logits': '0.003201', 'eval_component_rr/loss': '0.9648', 'eval_component_retain/loss': '0.3203', 'eval_rr/c': '1', 'eval_retain/c': '1', 'eval_retain_cosine': '0.9883', 'eval_rr_cosine': '0.6641'}\n",
      "{'eval_rewards/accuracies': '0', 'eval_rewards/margins': '-0.0116', 'eval_logps/rejected': '-0.5725', 'eval_logps/chosen': '-1.553', 'eval_loss': '1.078', 'eval_rewards/chosen': '-0.007964', 'eval_rewards/rejected': '0.003637', 'eval_retain/loss': '1.078', 'eval_reroute/loss': '0.7539', 'eval_logratios/pi': '-0.9805', 'eval_logratios/ref': '-0.8645', 'eval_weighting': '1', 'eval_logits': '-0.116', 'eval_component_rr/loss': '0.75', 'eval_component_retain/loss': '0.3242', 'eval_rr/c': '1', 'eval_retain/c': '1', 'eval_retain_cosine': '0.8594', 'eval_rr_cosine': '0.5078'}\n",
      "{'eval_rewards/accuracies': '0', 'eval_rewards/margins': '-0.007536', 'eval_logps/rejected': '-1.352', 'eval_logps/chosen': '-1.47', 'eval_loss': '1.203', 'eval_rewards/chosen': '-0.001211', 'eval_rewards/rejected': '0.006325', 'eval_retain/loss': '1.117', 'eval_reroute/loss': '0.8672', 'eval_logratios/pi': '-0.1183', 'eval_logratios/ref': '-0.04294', 'eval_weighting': '1', 'eval_logits': '-0.07536', 'eval_component_rr/loss': '0.8711', 'eval_component_retain/loss': '0.3359', 'eval_rr/c': '1', 'eval_retain/c': '1', 'eval_retain_cosine': '0.9883', 'eval_rr_cosine': '0.6445'}\n",
      "{'eval_rewards/accuracies': '0', 'eval_rewards/margins': '-0.004177', 'eval_logps/rejected': '-0.4629', 'eval_logps/chosen': '-0.3997', 'eval_loss': '1.375', 'eval_rewards/chosen': '0.001268', 'eval_rewards/rejected': '0.005445', 'eval_retain/loss': '1.234', 'eval_reroute/loss': '1.008', 'eval_logratios/pi': '0.06327', 'eval_logratios/ref': '0.105', 'eval_weighting': '1', 'eval_logits': '-0.04177', 'eval_component_rr/loss': '1.008', 'eval_component_retain/loss': '0.3691', 'eval_rr/c': '1', 'eval_retain/c': '1', 'eval_retain_cosine': '0.9883', 'eval_rr_cosine': '0.5508'}\n",
      "{'eval_rewards/accuracies': '0', 'eval_rewards/margins': '-0.00561', 'eval_logps/rejected': '-0.8668', 'eval_logps/chosen': '-1.272', 'eval_loss': '1.203', 'eval_rewards/chosen': '0.0008463', 'eval_rewards/rejected': '0.006456', 'eval_retain/loss': '1.055', 'eval_reroute/loss': '0.8945', 'eval_logratios/pi': '-0.4056', 'eval_logratios/ref': '-0.3495', 'eval_weighting': '1', 'eval_logits': '-0.0561', 'eval_component_rr/loss': '0.8906', 'eval_component_retain/loss': '0.3164', 'eval_rr/c': '1', 'eval_retain/c': '1', 'eval_retain_cosine': '0.8789', 'eval_rr_cosine': '0.5156'}\n",
      "{'eval_rewards/accuracies': '0', 'eval_rewards/margins': '-0.01401', 'eval_logps/rejected': '-0.722', 'eval_logps/chosen': '-1.208', 'eval_loss': '1.016', 'eval_rewards/chosen': '-0.006655', 'eval_rewards/rejected': '0.007352', 'eval_retain/loss': '1.078', 'eval_reroute/loss': '0.6914', 'eval_logratios/pi': '-0.4861', 'eval_logratios/ref': '-0.346', 'eval_weighting': '1', 'eval_logits': '-0.1401', 'eval_component_rr/loss': '0.6914', 'eval_component_retain/loss': '0.3242', 'eval_rr/c': '1', 'eval_retain/c': '1', 'eval_retain_cosine': '0.9648', 'eval_rr_cosine': '0.5977'}\n",
      "{'eval_rewards/accuracies': '1', 'eval_rewards/margins': '0.006833', 'eval_logps/rejected': '-1.802', 'eval_logps/chosen': '-0.7382', 'eval_loss': '1.07', 'eval_rewards/chosen': '0.003254', 'eval_rewards/rejected': '-0.00358', 'eval_retain/loss': '1.062', 'eval_reroute/loss': '0.75', 'eval_logratios/pi': '1.064', 'eval_logratios/ref': '0.9958', 'eval_weighting': '1', 'eval_logits': '0.06833', 'eval_component_rr/loss': '0.75', 'eval_component_retain/loss': '0.3184', 'eval_rr/c': '1', 'eval_retain/c': '1', 'eval_retain_cosine': '0.8242', 'eval_rr_cosine': '0.4395'}\n",
      "{'eval_rewards/accuracies': '0', 'eval_rewards/margins': '-0.005403', 'eval_logps/rejected': '-0.9432', 'eval_logps/chosen': '-1.018', 'eval_loss': '1.164', 'eval_rewards/chosen': '-0.002091', 'eval_rewards/rejected': '0.003312', 'eval_retain/loss': '1.047', 'eval_reroute/loss': '0.8438', 'eval_logratios/pi': '-0.07506', 'eval_logratios/ref': '-0.02103', 'eval_weighting': '1', 'eval_logits': '-0.05403', 'eval_component_rr/loss': '0.8477', 'eval_component_retain/loss': '0.3145', 'eval_rr/c': '1', 'eval_retain/c': '1', 'eval_retain_cosine': '0.7852', 'eval_rr_cosine': '0.4355'}\n",
      "{'eval_rewards/accuracies': '1', 'eval_rewards/margins': '0.009889', 'eval_logps/rejected': '-1.894', 'eval_logps/chosen': '-0.5223', 'eval_loss': '1.188', 'eval_rewards/chosen': '0.001246', 'eval_rewards/rejected': '-0.008643', 'eval_retain/loss': '1.078', 'eval_reroute/loss': '0.8633', 'eval_logratios/pi': '1.371', 'eval_logratios/ref': '1.272', 'eval_weighting': '1', 'eval_logits': '0.09889', 'eval_component_rr/loss': '0.8633', 'eval_component_retain/loss': '0.3242', 'eval_rr/c': '1', 'eval_retain/c': '1', 'eval_retain_cosine': '0.7969', 'eval_rr_cosine': '0.4199'}\n",
      "{'eval_rewards/accuracies': '1', 'eval_rewards/margins': '0.00345', 'eval_logps/rejected': '-0.9516', 'eval_logps/chosen': '-1.758', 'eval_loss': '1.133', 'eval_rewards/chosen': '0.002484', 'eval_rewards/rejected': '-0.0009655', 'eval_retain/loss': '1.062', 'eval_reroute/loss': '0.8125', 'eval_logratios/pi': '-0.8062', 'eval_logratios/ref': '-0.8407', 'eval_weighting': '1', 'eval_logits': '0.0345', 'eval_component_rr/loss': '0.8125', 'eval_component_retain/loss': '0.3203', 'eval_rr/c': '1', 'eval_retain/c': '1', 'eval_retain_cosine': '0.875', 'eval_rr_cosine': '0.5273'}\n",
      "{'eval_rewards/accuracies': '0', 'eval_rewards/margins': '-0.0001022', 'eval_logps/rejected': '-0.9767', 'eval_logps/chosen': '-1.126', 'eval_loss': '1.211', 'eval_rewards/chosen': '0.0007772', 'eval_rewards/rejected': '0.0008793', 'eval_retain/loss': '1.078', 'eval_reroute/loss': '0.8867', 'eval_logratios/pi': '-0.1489', 'eval_logratios/ref': '-0.1479', 'eval_weighting': '1', 'eval_logits': '-0.001022', 'eval_component_rr/loss': '0.8867', 'eval_component_retain/loss': '0.3242', 'eval_rr/c': '1', 'eval_retain/c': '1', 'eval_retain_cosine': '0.8242', 'eval_rr_cosine': '0.4688'}\n",
      "{'eval_rewards/accuracies': '0', 'eval_rewards/margins': '-0.01152', 'eval_logps/rejected': '-1.591', 'eval_logps/chosen': '-0.9272', 'eval_loss': '1.305', 'eval_rewards/chosen': '-0.005281', 'eval_rewards/rejected': '0.006236', 'eval_retain/loss': '1.305', 'eval_reroute/loss': '0.9141', 'eval_logratios/pi': '0.6634', 'eval_logratios/ref': '0.7785', 'eval_weighting': '1', 'eval_logits': '-0.1152', 'eval_component_rr/loss': '0.9141', 'eval_component_retain/loss': '0.3926', 'eval_rr/c': '1', 'eval_retain/c': '1', 'eval_retain_cosine': '0.7891', 'eval_rr_cosine': '0.5156'}\n",
      "{'eval_rewards/accuracies': '0', 'eval_rewards/margins': '-0.01096', 'eval_logps/rejected': '-1.934', 'eval_logps/chosen': '-1.05', 'eval_loss': '1.102', 'eval_rewards/chosen': '0.002286', 'eval_rewards/rejected': '0.01324', 'eval_retain/loss': '1.094', 'eval_reroute/loss': '0.7734', 'eval_logratios/pi': '0.8843', 'eval_logratios/ref': '0.9939', 'eval_weighting': '1', 'eval_logits': '-0.1096', 'eval_component_rr/loss': '0.7734', 'eval_component_retain/loss': '0.3301', 'eval_rr/c': '1', 'eval_retain/c': '1', 'eval_retain_cosine': '0.7852', 'eval_rr_cosine': '0.4766'}\n",
      "{'eval_rewards/accuracies': '1', 'eval_rewards/margins': '0.01104', 'eval_logps/rejected': '-1.067', 'eval_logps/chosen': '-1.492', 'eval_loss': '1.094', 'eval_rewards/chosen': '0.003253', 'eval_rewards/rejected': '-0.007782', 'eval_retain/loss': '1.094', 'eval_reroute/loss': '0.7695', 'eval_logratios/pi': '-0.4253', 'eval_logratios/ref': '-0.5357', 'eval_weighting': '1', 'eval_logits': '0.1104', 'eval_component_rr/loss': '0.7656', 'eval_component_retain/loss': '0.3301', 'eval_rr/c': '1', 'eval_retain/c': '1', 'eval_retain_cosine': '0.7773', 'eval_rr_cosine': '0.4824'}\n",
      "{'eval_rewards/accuracies': '0', 'eval_rewards/margins': '-0.005242', 'eval_logps/rejected': '-0.7801', 'eval_logps/chosen': '-1.674', 'eval_loss': '1.016', 'eval_rewards/chosen': '-0.004171', 'eval_rewards/rejected': '0.001071', 'eval_retain/loss': '1.039', 'eval_reroute/loss': '0.707', 'eval_logratios/pi': '-0.8942', 'eval_logratios/ref': '-0.8418', 'eval_weighting': '1', 'eval_logits': '-0.05242', 'eval_component_rr/loss': '0.707', 'eval_component_retain/loss': '0.3105', 'eval_rr/c': '1', 'eval_retain/c': '1', 'eval_retain_cosine': '0.7969', 'eval_rr_cosine': '0.4395'}\n",
      "{'eval_rewards/accuracies': '1', 'eval_rewards/margins': '0.003713', 'eval_logps/rejected': '-2.346', 'eval_logps/chosen': '-1.423', 'eval_loss': '1.203', 'eval_rewards/chosen': '0.001515', 'eval_rewards/rejected': '-0.002197', 'eval_retain/loss': '1.07', 'eval_reroute/loss': '0.8867', 'eval_logratios/pi': '0.9234', 'eval_logratios/ref': '0.8863', 'eval_weighting': '1', 'eval_logits': '0.03713', 'eval_component_rr/loss': '0.8867', 'eval_component_retain/loss': '0.3203', 'eval_rr/c': '1', 'eval_retain/c': '1', 'eval_retain_cosine': '0.8125', 'eval_rr_cosine': '0.3535'}\n",
      "{'eval_rewards/accuracies': '1', 'eval_rewards/margins': '0.02427', 'eval_logps/rejected': '-1.476', 'eval_logps/chosen': '-1.124', 'eval_loss': '1.227', 'eval_rewards/chosen': '0.01947', 'eval_rewards/rejected': '-0.004802', 'eval_retain/loss': '1.094', 'eval_reroute/loss': '0.8945', 'eval_logratios/pi': '0.3526', 'eval_logratios/ref': '0.1099', 'eval_weighting': '1', 'eval_logits': '0.2427', 'eval_component_rr/loss': '0.8984', 'eval_component_retain/loss': '0.3262', 'eval_rr/c': '1', 'eval_retain/c': '1', 'eval_retain_cosine': '0.8594', 'eval_rr_cosine': '0.4863'}\n",
      "{'eval_rewards/accuracies': '0', 'eval_rewards/margins': '-0.0137', 'eval_logps/rejected': '-1.304', 'eval_logps/chosen': '-2.188', 'eval_loss': '1.227', 'eval_rewards/chosen': '-0.00781', 'eval_rewards/rejected': '0.005895', 'eval_retain/loss': '1.086', 'eval_reroute/loss': '0.9023', 'eval_logratios/pi': '-0.8847', 'eval_logratios/ref': '-0.7477', 'eval_weighting': '1', 'eval_logits': '-0.137', 'eval_component_rr/loss': '0.9023', 'eval_component_retain/loss': '0.3262', 'eval_rr/c': '1', 'eval_retain/c': '1', 'eval_retain_cosine': '0.9727', 'eval_rr_cosine': '0.6016'}\n",
      "{'eval_rewards/accuracies': '1', 'eval_rewards/margins': '0.01882', 'eval_logps/rejected': '-2.033', 'eval_logps/chosen': '-1.541', 'eval_loss': '1.156', 'eval_rewards/chosen': '-0.01504', 'eval_rewards/rejected': '-0.03386', 'eval_retain/loss': '1.148', 'eval_reroute/loss': '0.8047', 'eval_logratios/pi': '0.4926', 'eval_logratios/ref': '0.3044', 'eval_weighting': '1', 'eval_logits': '0.1882', 'eval_component_rr/loss': '0.8086', 'eval_component_retain/loss': '0.3438', 'eval_rr/c': '1', 'eval_retain/c': '1', 'eval_retain_cosine': '0.8125', 'eval_rr_cosine': '0.4492'}\n",
      "{'eval_rewards/accuracies': '0', 'eval_rewards/margins': '-0.004908', 'eval_logps/rejected': '-1.084', 'eval_logps/chosen': '-1.312', 'eval_loss': '1.25', 'eval_rewards/chosen': '-0.002723', 'eval_rewards/rejected': '0.002186', 'eval_retain/loss': '1.133', 'eval_reroute/loss': '0.918', 'eval_logratios/pi': '-0.228', 'eval_logratios/ref': '-0.1789', 'eval_weighting': '1', 'eval_logits': '-0.04908', 'eval_component_rr/loss': '0.9141', 'eval_component_retain/loss': '0.3398', 'eval_rr/c': '1', 'eval_retain/c': '1', 'eval_retain_cosine': '0.9883', 'eval_rr_cosine': '0.6328'}\n",
      "{'eval_rewards/accuracies': '1', 'eval_rewards/margins': '0.01423', 'eval_logps/rejected': '-0.8022', 'eval_logps/chosen': '-1.731', 'eval_loss': '1.094', 'eval_rewards/chosen': '0.005673', 'eval_rewards/rejected': '-0.00856', 'eval_retain/loss': '1.109', 'eval_reroute/loss': '0.7617', 'eval_logratios/pi': '-0.9291', 'eval_logratios/ref': '-1.071', 'eval_weighting': '1', 'eval_logits': '0.1423', 'eval_component_rr/loss': '0.7617', 'eval_component_retain/loss': '0.334', 'eval_rr/c': '1', 'eval_retain/c': '1', 'eval_retain_cosine': '0.9023', 'eval_rr_cosine': '0.5898'}\n",
      "{'eval_rewards/accuracies': '1', 'eval_rewards/margins': '0.002032', 'eval_logps/rejected': '-0.9067', 'eval_logps/chosen': '-1.848', 'eval_loss': '1.078', 'eval_rewards/chosen': '0.003027', 'eval_rewards/rejected': '0.0009959', 'eval_retain/loss': '1.141', 'eval_reroute/loss': '0.7305', 'eval_logratios/pi': '-0.9415', 'eval_logratios/ref': '-0.9618', 'eval_weighting': '1', 'eval_logits': '0.02032', 'eval_component_rr/loss': '0.7344', 'eval_component_retain/loss': '0.3418', 'eval_rr/c': '1', 'eval_retain/c': '1', 'eval_retain_cosine': '0.8477', 'eval_rr_cosine': '0.5039'}\n",
      "{'eval_rewards/accuracies': '0', 'eval_rewards/margins': '-0.002897', 'eval_logps/rejected': '-1.8', 'eval_logps/chosen': '-1.205', 'eval_loss': '1.156', 'eval_rewards/chosen': '0.0003325', 'eval_rewards/rejected': '0.003229', 'eval_retain/loss': '1.102', 'eval_reroute/loss': '0.832', 'eval_logratios/pi': '0.5945', 'eval_logratios/ref': '0.6235', 'eval_weighting': '1', 'eval_logits': '-0.02897', 'eval_component_rr/loss': '0.8281', 'eval_component_retain/loss': '0.3301', 'eval_rr/c': '1', 'eval_retain/c': '1', 'eval_retain_cosine': '0.9883', 'eval_rr_cosine': '0.6367'}\n",
      "{'eval_rewards/accuracies': '0', 'eval_rewards/margins': '-0.008721', 'eval_logps/rejected': '-1.284', 'eval_logps/chosen': '-3.106', 'eval_loss': '1.344', 'eval_rewards/chosen': '-0.005648', 'eval_rewards/rejected': '0.003073', 'eval_retain/loss': '1.062', 'eval_reroute/loss': '1.023', 'eval_logratios/pi': '-1.822', 'eval_logratios/ref': '-1.735', 'eval_weighting': '1', 'eval_logits': '-0.08721', 'eval_component_rr/loss': '1.023', 'eval_component_retain/loss': '0.3203', 'eval_rr/c': '1', 'eval_retain/c': '1', 'eval_retain_cosine': '0.8281', 'eval_rr_cosine': '0.3066'}\n",
      "{'eval_rewards/accuracies': '1', 'eval_rewards/margins': '0.008441', 'eval_logps/rejected': '-2.657', 'eval_logps/chosen': '-3.028', 'eval_loss': '1.227', 'eval_rewards/chosen': '0.000848', 'eval_rewards/rejected': '-0.007593', 'eval_retain/loss': '1.023', 'eval_reroute/loss': '0.9219', 'eval_logratios/pi': '-0.3711', 'eval_logratios/ref': '-0.4555', 'eval_weighting': '1', 'eval_logits': '0.08441', 'eval_component_rr/loss': '0.9219', 'eval_component_retain/loss': '0.3066', 'eval_rr/c': '1', 'eval_retain/c': '1', 'eval_retain_cosine': '0.9961', 'eval_rr_cosine': '0.5898'}\n",
      "{'eval_rewards/accuracies': '0', 'eval_rewards/margins': '-0.0009254', 'eval_logps/rejected': '-1.637', 'eval_logps/chosen': '-2.451', 'eval_loss': '1.141', 'eval_rewards/chosen': '0.003452', 'eval_rewards/rejected': '0.004378', 'eval_retain/loss': '1.016', 'eval_reroute/loss': '0.8359', 'eval_logratios/pi': '-0.8136', 'eval_logratios/ref': '-0.8044', 'eval_weighting': '1', 'eval_logits': '-0.009254', 'eval_component_rr/loss': '0.8359', 'eval_component_retain/loss': '0.3047', 'eval_rr/c': '1', 'eval_retain/c': '1', 'eval_retain_cosine': '0.9961', 'eval_rr_cosine': '0.5859'}\n",
      "{'eval_rewards/accuracies': '0', 'eval_rewards/margins': '-0.004152', 'eval_logps/rejected': '-1.762', 'eval_logps/chosen': '-1.627', 'eval_loss': '1.188', 'eval_rewards/chosen': '-0.003668', 'eval_rewards/rejected': '0.0004843', 'eval_retain/loss': '1.117', 'eval_reroute/loss': '0.8516', 'eval_logratios/pi': '0.1352', 'eval_logratios/ref': '0.1767', 'eval_weighting': '1', 'eval_logits': '-0.04152', 'eval_component_rr/loss': '0.8516', 'eval_component_retain/loss': '0.3359', 'eval_rr/c': '1', 'eval_retain/c': '1', 'eval_retain_cosine': '0.9961', 'eval_rr_cosine': '0.6719'}\n",
      "{'eval_rewards/accuracies': '1', 'eval_rewards/margins': '0.003014', 'eval_logps/rejected': '-2.28', 'eval_logps/chosen': '-2.832', 'eval_loss': '1.281', 'eval_rewards/chosen': '0.001837', 'eval_rewards/rejected': '-0.001177', 'eval_retain/loss': '1.062', 'eval_reroute/loss': '0.957', 'eval_logratios/pi': '-0.5518', 'eval_logratios/ref': '-0.5819', 'eval_weighting': '1', 'eval_logits': '0.03014', 'eval_component_rr/loss': '0.9609', 'eval_component_retain/loss': '0.3203', 'eval_rr/c': '1', 'eval_retain/c': '1', 'eval_retain_cosine': '0.9961', 'eval_rr_cosine': '0.6602'}\n",
      "{'eval_rewards/accuracies': '0', 'eval_rewards/margins': '-0.0128', 'eval_logps/rejected': '-0.9078', 'eval_logps/chosen': '-1.23', 'eval_loss': '1.125', 'eval_rewards/chosen': '-0.008549', 'eval_rewards/rejected': '0.004254', 'eval_retain/loss': '1.047', 'eval_reroute/loss': '0.8125', 'eval_logratios/pi': '-0.3217', 'eval_logratios/ref': '-0.1937', 'eval_weighting': '1', 'eval_logits': '-0.128', 'eval_component_rr/loss': '0.8125', 'eval_component_retain/loss': '0.3145', 'eval_rr/c': '1', 'eval_retain/c': '1', 'eval_retain_cosine': '0.9883', 'eval_rr_cosine': '0.6133'}\n",
      "{'eval_rewards/accuracies': '1', 'eval_rewards/margins': '0.001985', 'eval_logps/rejected': '-2.1', 'eval_logps/chosen': '-2.332', 'eval_loss': '1.172', 'eval_rewards/chosen': '0.001964', 'eval_rewards/rejected': '-2.062e-05', 'eval_retain/loss': '1.039', 'eval_reroute/loss': '0.8594', 'eval_logratios/pi': '-0.2326', 'eval_logratios/ref': '-0.2524', 'eval_weighting': '1', 'eval_logits': '0.01985', 'eval_component_rr/loss': '0.8633', 'eval_component_retain/loss': '0.3125', 'eval_rr/c': '1', 'eval_retain/c': '1', 'eval_retain_cosine': '0.9961', 'eval_rr_cosine': '0.6523'}\n",
      "{'eval_rewards/accuracies': '1', 'eval_rewards/margins': '0.003885', 'eval_logps/rejected': '-0.9516', 'eval_logps/chosen': '-2.463', 'eval_loss': '1.031', 'eval_rewards/chosen': '-0.009927', 'eval_rewards/rejected': '-0.01381', 'eval_retain/loss': '1.023', 'eval_reroute/loss': '0.7227', 'eval_logratios/pi': '-1.512', 'eval_logratios/ref': '-1.551', 'eval_weighting': '1', 'eval_logits': '0.03885', 'eval_component_rr/loss': '0.7227', 'eval_component_retain/loss': '0.3086', 'eval_rr/c': '1', 'eval_retain/c': '1', 'eval_retain_cosine': '0.8789', 'eval_rr_cosine': '0.4805'}\n",
      "{'eval_rewards/accuracies': '0', 'eval_rewards/margins': '-0.009916', 'eval_logps/rejected': '-0.9564', 'eval_logps/chosen': '-2.246', 'eval_loss': '1.234', 'eval_rewards/chosen': '-0.02263', 'eval_rewards/rejected': '-0.01271', 'eval_retain/loss': '1.156', 'eval_reroute/loss': '0.8828', 'eval_logratios/pi': '-1.29', 'eval_logratios/ref': '-1.191', 'eval_weighting': '1', 'eval_logits': '-0.09916', 'eval_component_rr/loss': '0.8867', 'eval_component_retain/loss': '0.3457', 'eval_rr/c': '1', 'eval_retain/c': '1', 'eval_retain_cosine': '0.8477', 'eval_rr_cosine': '0.5039'}\n",
      "{'eval_rewards/accuracies': '1', 'eval_rewards/margins': '0.008551', 'eval_logps/rejected': '-1.411', 'eval_logps/chosen': '-1.542', 'eval_loss': '1.25', 'eval_rewards/chosen': '-0.001735', 'eval_rewards/rejected': '-0.01029', 'eval_retain/loss': '1.172', 'eval_reroute/loss': '0.8945', 'eval_logratios/pi': '-0.1314', 'eval_logratios/ref': '-0.2169', 'eval_weighting': '1', 'eval_logits': '0.08551', 'eval_component_rr/loss': '0.8984', 'eval_component_retain/loss': '0.3516', 'eval_rr/c': '1', 'eval_retain/c': '1', 'eval_retain_cosine': '0.9766', 'eval_rr_cosine': '0.6406'}\n",
      "{'eval_rewards/accuracies': '0', 'eval_rewards/margins': '-0.01057', 'eval_logps/rejected': '-1.28', 'eval_logps/chosen': '-1.057', 'eval_loss': '1.375', 'eval_rewards/chosen': '-0.01189', 'eval_rewards/rejected': '-0.001326', 'eval_retain/loss': '1.273', 'eval_reroute/loss': '0.9883', 'eval_logratios/pi': '0.223', 'eval_logratios/ref': '0.3287', 'eval_weighting': '1', 'eval_logits': '-0.1057', 'eval_component_rr/loss': '0.9883', 'eval_component_retain/loss': '0.3809', 'eval_rr/c': '1', 'eval_retain/c': '1', 'eval_retain_cosine': '0.9766', 'eval_rr_cosine': '0.6484'}\n",
      "{'eval_rewards/accuracies': '1', 'eval_rewards/margins': '0.01057', 'eval_logps/rejected': '-1.637', 'eval_logps/chosen': '-0.9378', 'eval_loss': '1.062', 'eval_rewards/chosen': '-0.001481', 'eval_rewards/rejected': '-0.01205', 'eval_retain/loss': '1.117', 'eval_reroute/loss': '0.7227', 'eval_logratios/pi': '0.6992', 'eval_logratios/ref': '0.5935', 'eval_weighting': '1', 'eval_logits': '0.1057', 'eval_component_rr/loss': '0.7227', 'eval_component_retain/loss': '0.3359', 'eval_rr/c': '1', 'eval_retain/c': '1', 'eval_retain_cosine': '0.9883', 'eval_rr_cosine': '0.6094'}\n",
      "{'eval_rewards/accuracies': '1', 'eval_rewards/margins': '0.003755', 'eval_logps/rejected': '-0.9967', 'eval_logps/chosen': '-1.166', 'eval_loss': '1.172', 'eval_rewards/chosen': '0.0008652', 'eval_rewards/rejected': '-0.002889', 'eval_retain/loss': '1.078', 'eval_reroute/loss': '0.8516', 'eval_logratios/pi': '-0.1689', 'eval_logratios/ref': '-0.2065', 'eval_weighting': '1', 'eval_logits': '0.03755', 'eval_component_rr/loss': '0.8516', 'eval_component_retain/loss': '0.3242', 'eval_rr/c': '1', 'eval_retain/c': '1', 'eval_retain_cosine': '0.9883', 'eval_rr_cosine': '0.8086'}\n",
      "{'eval_rewards/accuracies': '0', 'eval_rewards/margins': '-0.0009139', 'eval_logps/rejected': '-0.9679', 'eval_logps/chosen': '-0.753', 'eval_loss': '1.469', 'eval_rewards/chosen': '0.0006198', 'eval_rewards/rejected': '0.001534', 'eval_retain/loss': '1.188', 'eval_reroute/loss': '1.109', 'eval_logratios/pi': '0.2149', 'eval_logratios/ref': '0.224', 'eval_weighting': '1', 'eval_logits': '-0.009139', 'eval_component_rr/loss': '1.117', 'eval_component_retain/loss': '0.3555', 'eval_rr/c': '1', 'eval_retain/c': '1', 'eval_retain_cosine': '0.9961', 'eval_rr_cosine': '0.6367'}\n",
      "{'eval_rewards/accuracies': '1', 'eval_rewards/margins': '0.009989', 'eval_logps/rejected': '-1.731', 'eval_logps/chosen': '-1.186', 'eval_loss': '1.125', 'eval_rewards/chosen': '-0.001361', 'eval_rewards/rejected': '-0.01135', 'eval_retain/loss': '1.125', 'eval_reroute/loss': '0.7891', 'eval_logratios/pi': '0.5448', 'eval_logratios/ref': '0.4449', 'eval_weighting': '1', 'eval_logits': '0.09989', 'eval_component_rr/loss': '0.7891', 'eval_component_retain/loss': '0.3379', 'eval_rr/c': '1', 'eval_retain/c': '1', 'eval_retain_cosine': '0.9844', 'eval_rr_cosine': '0.6523'}\n",
      "{'eval_rewards/accuracies': '0', 'eval_rewards/margins': '-0.002016', 'eval_logps/rejected': '-1.516', 'eval_logps/chosen': '-1.175', 'eval_loss': '1.312', 'eval_rewards/chosen': '-0.01088', 'eval_rewards/rejected': '-0.008864', 'eval_retain/loss': '1.219', 'eval_reroute/loss': '0.9453', 'eval_logratios/pi': '0.341', 'eval_logratios/ref': '0.3612', 'eval_weighting': '1', 'eval_logits': '-0.02016', 'eval_component_rr/loss': '0.9492', 'eval_component_retain/loss': '0.3633', 'eval_rr/c': '1', 'eval_retain/c': '1', 'eval_retain_cosine': '0.9844', 'eval_rr_cosine': '0.6875'}\n",
      "{'eval_rewards/accuracies': '1', 'eval_rewards/margins': '1.915e-05', 'eval_logps/rejected': '-1.307', 'eval_logps/chosen': '-1.473', 'eval_loss': '1.133', 'eval_rewards/chosen': '-0.0001248', 'eval_rewards/rejected': '-0.000144', 'eval_retain/loss': '1.07', 'eval_reroute/loss': '0.8125', 'eval_logratios/pi': '-0.1656', 'eval_logratios/ref': '-0.1658', 'eval_weighting': '1', 'eval_logits': '0.0001915', 'eval_component_rr/loss': '0.8125', 'eval_component_retain/loss': '0.3203', 'eval_rr/c': '1', 'eval_retain/c': '1', 'eval_retain_cosine': '0.9883', 'eval_rr_cosine': '0.6367'}\n",
      "{'eval_rewards/accuracies': '0', 'eval_rewards/margins': '-0.01389', 'eval_logps/rejected': '-1.804', 'eval_logps/chosen': '-2.025', 'eval_loss': '1.297', 'eval_rewards/chosen': '-0.01069', 'eval_rewards/rejected': '0.003198', 'eval_retain/loss': '1.156', 'eval_reroute/loss': '0.9531', 'eval_logratios/pi': '-0.2213', 'eval_logratios/ref': '-0.08239', 'eval_weighting': '1', 'eval_logits': '-0.1389', 'eval_component_rr/loss': '0.9531', 'eval_component_retain/loss': '0.3457', 'eval_rr/c': '1', 'eval_retain/c': '1', 'eval_retain_cosine': '0.9883', 'eval_rr_cosine': '0.6289'}\n",
      "{'eval_rewards/accuracies': '0', 'eval_rewards/margins': '-0.004524', 'eval_logps/rejected': '-0.7481', 'eval_logps/chosen': '-0.8322', 'eval_loss': '1.227', 'eval_rewards/chosen': '-0.005285', 'eval_rewards/rejected': '-0.0007601', 'eval_retain/loss': '1.141', 'eval_reroute/loss': '0.8828', 'eval_logratios/pi': '-0.08405', 'eval_logratios/ref': '-0.03881', 'eval_weighting': '1', 'eval_logits': '-0.04524', 'eval_component_rr/loss': '0.8867', 'eval_component_retain/loss': '0.3418', 'eval_rr/c': '1', 'eval_retain/c': '1', 'eval_retain_cosine': '0.9766', 'eval_rr_cosine': '0.6367'}\n",
      "{'eval_rewards/accuracies': '1', 'eval_rewards/margins': '0.007612', 'eval_logps/rejected': '-1.883', 'eval_logps/chosen': '-0.9497', 'eval_loss': '1.203', 'eval_rewards/chosen': '-0.004641', 'eval_rewards/rejected': '-0.01225', 'eval_retain/loss': '1.125', 'eval_reroute/loss': '0.8594', 'eval_logratios/pi': '0.9328', 'eval_logratios/ref': '0.8567', 'eval_weighting': '1', 'eval_logits': '0.07612', 'eval_component_rr/loss': '0.8633', 'eval_component_retain/loss': '0.3379', 'eval_rr/c': '1', 'eval_retain/c': '1', 'eval_retain_cosine': '0.9883', 'eval_rr_cosine': '0.6758'}\n",
      "{'eval_rewards/accuracies': '1', 'eval_rewards/margins': '0.01257', 'eval_logps/rejected': '-3.442', 'eval_logps/chosen': '-1.686', 'eval_loss': '1.461', 'eval_rewards/chosen': '0.0003718', 'eval_rewards/rejected': '-0.0122', 'eval_retain/loss': '1.477', 'eval_reroute/loss': '1.016', 'eval_logratios/pi': '1.756', 'eval_logratios/ref': '1.63', 'eval_weighting': '1', 'eval_logits': '0.1257', 'eval_component_rr/loss': '1.016', 'eval_component_retain/loss': '0.4434', 'eval_rr/c': '1', 'eval_retain/c': '1', 'eval_retain_cosine': '0.9883', 'eval_rr_cosine': '0.5352'}\n",
      "{'eval_rewards/accuracies': '1', 'eval_rewards/margins': '0.01007', 'eval_logps/rejected': '-1.406', 'eval_logps/chosen': '-0.7323', 'eval_loss': '1.086', 'eval_rewards/chosen': '0.004083', 'eval_rewards/rejected': '-0.005989', 'eval_retain/loss': '1.078', 'eval_reroute/loss': '0.7578', 'eval_logratios/pi': '0.6738', 'eval_logratios/ref': '0.5731', 'eval_weighting': '1', 'eval_logits': '0.1007', 'eval_component_rr/loss': '0.7617', 'eval_component_retain/loss': '0.3223', 'eval_rr/c': '1', 'eval_retain/c': '1', 'eval_retain_cosine': '0.9844', 'eval_rr_cosine': '0.7344'}\n",
      "{'eval_rewards/accuracies': '0', 'eval_rewards/margins': '-9.439e-05', 'eval_logps/rejected': '-1.014', 'eval_logps/chosen': '-0.7055', 'eval_loss': '1.227', 'eval_rewards/chosen': '-0.0004969', 'eval_rewards/rejected': '-0.0004025', 'eval_retain/loss': '1.125', 'eval_reroute/loss': '0.8867', 'eval_logratios/pi': '0.3085', 'eval_logratios/ref': '0.3094', 'eval_weighting': '1', 'eval_logits': '-0.0009439', 'eval_component_rr/loss': '0.8867', 'eval_component_retain/loss': '0.3359', 'eval_rr/c': '1', 'eval_retain/c': '1', 'eval_retain_cosine': '0.9883', 'eval_rr_cosine': '0.6211'}\n",
      "{'eval_rewards/accuracies': '1', 'eval_rewards/margins': '0.001686', 'eval_logps/rejected': '-0.6456', 'eval_logps/chosen': '-1.508', 'eval_loss': '1.141', 'eval_rewards/chosen': '0.0004457', 'eval_rewards/rejected': '-0.001241', 'eval_retain/loss': '1.047', 'eval_reroute/loss': '0.8242', 'eval_logratios/pi': '-0.8629', 'eval_logratios/ref': '-0.8798', 'eval_weighting': '1', 'eval_logits': '0.01686', 'eval_component_rr/loss': '0.8242', 'eval_component_retain/loss': '0.3145', 'eval_rr/c': '1', 'eval_retain/c': '1', 'eval_retain_cosine': '0.9883', 'eval_rr_cosine': '0.5977'}\n",
      "{'eval_rewards/accuracies': '1', 'eval_rewards/margins': '0.004509', 'eval_logps/rejected': '-1.59', 'eval_logps/chosen': '-1.46', 'eval_loss': '1.125', 'eval_rewards/chosen': '-0.006717', 'eval_rewards/rejected': '-0.01123', 'eval_retain/loss': '1.117', 'eval_reroute/loss': '0.7891', 'eval_logratios/pi': '0.13', 'eval_logratios/ref': '0.08495', 'eval_weighting': '1', 'eval_logits': '0.04509', 'eval_component_rr/loss': '0.7891', 'eval_component_retain/loss': '0.3359', 'eval_rr/c': '1', 'eval_retain/c': '1', 'eval_retain_cosine': '0.9844', 'eval_rr_cosine': '0.6602'}\n",
      "{'eval_rewards/accuracies': '0', 'eval_rewards/margins': '-0.00673', 'eval_logps/rejected': '-1.939', 'eval_logps/chosen': '-1.416', 'eval_loss': '1.836', 'eval_rewards/chosen': '-0.003993', 'eval_rewards/rejected': '0.002737', 'eval_retain/loss': '1.516', 'eval_reroute/loss': '1.383', 'eval_logratios/pi': '0.5235', 'eval_logratios/ref': '0.5908', 'eval_weighting': '1', 'eval_logits': '-0.0673', 'eval_component_rr/loss': '1.383', 'eval_component_retain/loss': '0.4551', 'eval_rr/c': '1', 'eval_retain/c': '1', 'eval_retain_cosine': '0.8477', 'eval_rr_cosine': '0.75'}\n",
      "{'eval_rewards/accuracies': '0', 'eval_rewards/margins': '-0.002112', 'eval_logps/rejected': '-1.006', 'eval_logps/chosen': '-1.369', 'eval_loss': '1.227', 'eval_rewards/chosen': '-0.002469', 'eval_rewards/rejected': '-0.000357', 'eval_retain/loss': '1.023', 'eval_reroute/loss': '0.9219', 'eval_logratios/pi': '-0.3636', 'eval_logratios/ref': '-0.3425', 'eval_weighting': '1', 'eval_logits': '-0.02112', 'eval_component_rr/loss': '0.9219', 'eval_component_retain/loss': '0.3086', 'eval_rr/c': '1', 'eval_retain/c': '1', 'eval_retain_cosine': '0.9961', 'eval_rr_cosine': '0.6016'}\n",
      "{'eval_rewards/accuracies': '0', 'eval_rewards/margins': '-0.001699', 'eval_logps/rejected': '-1.402', 'eval_logps/chosen': '-0.8628', 'eval_loss': '1.188', 'eval_rewards/chosen': '-0.0004474', 'eval_rewards/rejected': '0.001252', 'eval_retain/loss': '1.055', 'eval_reroute/loss': '0.8711', 'eval_logratios/pi': '0.5394', 'eval_logratios/ref': '0.5564', 'eval_weighting': '1', 'eval_logits': '-0.01699', 'eval_component_rr/loss': '0.8711', 'eval_component_retain/loss': '0.3164', 'eval_rr/c': '1', 'eval_retain/c': '1', 'eval_retain_cosine': '0.9961', 'eval_rr_cosine': '0.5469'}\n",
      "{'eval_rewards/accuracies': '0', 'eval_rewards/margins': '-0.008122', 'eval_logps/rejected': '-1.462', 'eval_logps/chosen': '-1.332', 'eval_loss': '1.172', 'eval_rewards/chosen': '-0.0006918', 'eval_rewards/rejected': '0.00743', 'eval_retain/loss': '1.117', 'eval_reroute/loss': '0.832', 'eval_logratios/pi': '0.1305', 'eval_logratios/ref': '0.2117', 'eval_weighting': '1', 'eval_logits': '-0.08122', 'eval_component_rr/loss': '0.8359', 'eval_component_retain/loss': '0.3359', 'eval_rr/c': '1', 'eval_retain/c': '1', 'eval_retain_cosine': '0.9883', 'eval_rr_cosine': '0.6602'}\n",
      "{'eval_rewards/accuracies': '0', 'eval_rewards/margins': '-0.005383', 'eval_logps/rejected': '-1.185', 'eval_logps/chosen': '-1.179', 'eval_loss': '1.297', 'eval_rewards/chosen': '-0.006888', 'eval_rewards/rejected': '-0.001504', 'eval_retain/loss': '1.133', 'eval_reroute/loss': '0.957', 'eval_logratios/pi': '0.005938', 'eval_logratios/ref': '0.05977', 'eval_weighting': '1', 'eval_logits': '-0.05383', 'eval_component_rr/loss': '0.9609', 'eval_component_retain/loss': '0.3398', 'eval_rr/c': '1', 'eval_retain/c': '1', 'eval_retain_cosine': '0.9844', 'eval_rr_cosine': '0.7109'}\n",
      "{'eval_rewards/accuracies': '1', 'eval_rewards/margins': '0.02706', 'eval_logps/rejected': '-4.791', 'eval_logps/chosen': '-1.554', 'eval_loss': '1.719', 'eval_rewards/chosen': '0.009799', 'eval_rewards/rejected': '-0.01726', 'eval_retain/loss': '1.734', 'eval_reroute/loss': '1.195', 'eval_logratios/pi': '3.237', 'eval_logratios/ref': '2.966', 'eval_weighting': '1', 'eval_logits': '0.2706', 'eval_component_rr/loss': '1.195', 'eval_component_retain/loss': '0.5195', 'eval_rr/c': '1', 'eval_retain/c': '1', 'eval_retain_cosine': '0.9844', 'eval_rr_cosine': '0.5156'}\n",
      "{'eval_rewards/accuracies': '0', 'eval_rewards/margins': '-0.0004127', 'eval_logps/rejected': '-1.323', 'eval_logps/chosen': '-1.119', 'eval_loss': '1.555', 'eval_rewards/chosen': '-0.001939', 'eval_rewards/rejected': '-0.001526', 'eval_retain/loss': '1.43', 'eval_reroute/loss': '1.125', 'eval_logratios/pi': '0.2046', 'eval_logratios/ref': '0.2088', 'eval_weighting': '1', 'eval_logits': '-0.004127', 'eval_component_rr/loss': '1.125', 'eval_component_retain/loss': '0.4297', 'eval_rr/c': '1', 'eval_retain/c': '1', 'eval_retain_cosine': '0.9883', 'eval_rr_cosine': '0.707'}\n",
      "{'eval_rewards/accuracies': '0', 'eval_rewards/margins': '-0.006472', 'eval_logps/rejected': '-1.039', 'eval_logps/chosen': '-1.08', 'eval_loss': '1.344', 'eval_rewards/chosen': '-0.007357', 'eval_rewards/rejected': '-0.0008843', 'eval_retain/loss': '1.25', 'eval_reroute/loss': '0.9648', 'eval_logratios/pi': '-0.04092', 'eval_logratios/ref': '0.02381', 'eval_weighting': '1', 'eval_logits': '-0.06472', 'eval_component_rr/loss': '0.9648', 'eval_component_retain/loss': '0.375', 'eval_rr/c': '1', 'eval_retain/c': '1', 'eval_retain_cosine': '0.9844', 'eval_rr_cosine': '0.7031'}\n",
      "{'eval_rewards/accuracies': '0', 'eval_rewards/margins': '-0.002513', 'eval_logps/rejected': '-1.71', 'eval_logps/chosen': '-1.808', 'eval_loss': '1.266', 'eval_rewards/chosen': '-0.0007893', 'eval_rewards/rejected': '0.001723', 'eval_retain/loss': '1.094', 'eval_reroute/loss': '0.9336', 'eval_logratios/pi': '-0.09785', 'eval_logratios/ref': '-0.07272', 'eval_weighting': '1', 'eval_logits': '-0.02513', 'eval_component_rr/loss': '0.9375', 'eval_component_retain/loss': '0.3281', 'eval_rr/c': '1', 'eval_retain/c': '1', 'eval_retain_cosine': '0.9844', 'eval_rr_cosine': '0.6055'}\n",
      "{'eval_rewards/accuracies': '1', 'eval_rewards/margins': '0.009196', 'eval_logps/rejected': '-1.019', 'eval_logps/chosen': '-1.06', 'eval_loss': '1.188', 'eval_rewards/chosen': '0.01018', 'eval_rewards/rejected': '0.000985', 'eval_retain/loss': '1.086', 'eval_reroute/loss': '0.8633', 'eval_logratios/pi': '-0.04166', 'eval_logratios/ref': '-0.1336', 'eval_weighting': '1', 'eval_logits': '0.09196', 'eval_component_rr/loss': '0.8633', 'eval_component_retain/loss': '0.3262', 'eval_rr/c': '1', 'eval_retain/c': '1', 'eval_retain_cosine': '0.9766', 'eval_rr_cosine': '0.625'}\n",
      "{'eval_rewards/accuracies': '1', 'eval_rewards/margins': '0.001484', 'eval_logps/rejected': '-0.779', 'eval_logps/chosen': '-0.7888', 'eval_loss': '1.922', 'eval_rewards/chosen': '0.006979', 'eval_rewards/rejected': '0.005494', 'eval_retain/loss': '1.758', 'eval_reroute/loss': '1.391', 'eval_logratios/pi': '-0.00976', 'eval_logratios/ref': '-0.0246', 'eval_weighting': '1', 'eval_logits': '0.01484', 'eval_component_rr/loss': '1.391', 'eval_component_retain/loss': '0.5273', 'eval_rr/c': '1', 'eval_retain/c': '1', 'eval_retain_cosine': '0.9883', 'eval_rr_cosine': '0.8359'}\n",
      "{'eval_rewards/accuracies': '0', 'eval_rewards/margins': '-0.002393', 'eval_logps/rejected': '-0.7168', 'eval_logps/chosen': '-1.078', 'eval_loss': '1.156', 'eval_rewards/chosen': '-0.009318', 'eval_rewards/rejected': '-0.006926', 'eval_retain/loss': '1.203', 'eval_reroute/loss': '0.793', 'eval_logratios/pi': '-0.3609', 'eval_logratios/ref': '-0.337', 'eval_weighting': '1', 'eval_logits': '-0.02393', 'eval_component_rr/loss': '0.7969', 'eval_component_retain/loss': '0.3594', 'eval_rr/c': '1', 'eval_retain/c': '1', 'eval_retain_cosine': '0.9883', 'eval_rr_cosine': '0.7773'}\n",
      "{'eval_rewards/accuracies': '1', 'eval_rewards/margins': '0.05529', 'eval_logps/rejected': '-1.658', 'eval_logps/chosen': '-2.145', 'eval_loss': '0.8281', 'eval_rewards/chosen': '0.005372', 'eval_rewards/rejected': '-0.04991', 'eval_retain/loss': '1.023', 'eval_reroute/loss': '0.5234', 'eval_logratios/pi': '-0.4874', 'eval_logratios/ref': '-1.04', 'eval_weighting': '1', 'eval_logits': '0.5529', 'eval_component_rr/loss': '0.5234', 'eval_component_retain/loss': '0.3066', 'eval_rr/c': '1', 'eval_retain/c': '1', 'eval_retain_cosine': '0.9961', 'eval_rr_cosine': '0.5469'}\n",
      "{'eval_rewards/accuracies': '1', 'eval_rewards/margins': '0.009321', 'eval_logps/rejected': '-1.148', 'eval_logps/chosen': '-0.931', 'eval_loss': '1.172', 'eval_rewards/chosen': '0.001032', 'eval_rewards/rejected': '-0.008289', 'eval_retain/loss': '1.094', 'eval_reroute/loss': '0.8477', 'eval_logratios/pi': '0.2166', 'eval_logratios/ref': '0.1234', 'eval_weighting': '1', 'eval_logits': '0.09321', 'eval_component_rr/loss': '0.8477', 'eval_component_retain/loss': '0.3281', 'eval_rr/c': '1', 'eval_retain/c': '1', 'eval_retain_cosine': '0.8359', 'eval_rr_cosine': '0.4453'}\n",
      "{'eval_rewards/accuracies': '1', 'eval_rewards/margins': '0.01689', 'eval_logps/rejected': '-1.353', 'eval_logps/chosen': '-1.554', 'eval_loss': '1.297', 'eval_rewards/chosen': '0.0175', 'eval_rewards/rejected': '0.0006092', 'eval_retain/loss': '1.211', 'eval_reroute/loss': '0.9336', 'eval_logratios/pi': '-0.201', 'eval_logratios/ref': '-0.37', 'eval_weighting': '1', 'eval_logits': '0.1689', 'eval_component_rr/loss': '0.9336', 'eval_component_retain/loss': '0.3633', 'eval_rr/c': '1', 'eval_retain/c': '1', 'eval_retain_cosine': '0.9766', 'eval_rr_cosine': '0.6289'}\n",
      "{'eval_rewards/accuracies': '0', 'eval_rewards/margins': '-0.001332', 'eval_logps/rejected': '-1.739', 'eval_logps/chosen': '-1.643', 'eval_loss': '1.266', 'eval_rewards/chosen': '9.701e-05', 'eval_rewards/rejected': '0.001429', 'eval_retain/loss': '1.094', 'eval_reroute/loss': '0.9297', 'eval_logratios/pi': '0.09608', 'eval_logratios/ref': '0.1094', 'eval_weighting': '1', 'eval_logits': '-0.01332', 'eval_component_rr/loss': '0.9336', 'eval_component_retain/loss': '0.3262', 'eval_rr/c': '1', 'eval_retain/c': '1', 'eval_retain_cosine': '0.9883', 'eval_rr_cosine': '0.6289'}\n",
      "{'eval_rewards/accuracies': '0', 'eval_rewards/margins': '-0.006582', 'eval_logps/rejected': '-2.338', 'eval_logps/chosen': '-1.583', 'eval_loss': '1.469', 'eval_rewards/chosen': '0.003078', 'eval_rewards/rejected': '0.00966', 'eval_retain/loss': '1.391', 'eval_reroute/loss': '1.055', 'eval_logratios/pi': '0.7553', 'eval_logratios/ref': '0.8211', 'eval_weighting': '1', 'eval_logits': '-0.06582', 'eval_component_rr/loss': '1.055', 'eval_component_retain/loss': '0.418', 'eval_rr/c': '1', 'eval_retain/c': '1', 'eval_retain_cosine': '0.9844', 'eval_rr_cosine': '0.5352'}\n",
      "{'eval_rewards/accuracies': '1', 'eval_rewards/margins': '0.04186', 'eval_logps/rejected': '-1.785', 'eval_logps/chosen': '-2.132', 'eval_loss': '0.8242', 'eval_rewards/chosen': '-0.006203', 'eval_rewards/rejected': '-0.04806', 'eval_retain/loss': '1.086', 'eval_reroute/loss': '0.4961', 'eval_logratios/pi': '-0.3473', 'eval_logratios/ref': '-0.7659', 'eval_weighting': '1', 'eval_logits': '0.4186', 'eval_component_rr/loss': '0.498', 'eval_component_retain/loss': '0.3262', 'eval_rr/c': '1', 'eval_retain/c': '1', 'eval_retain_cosine': '0.9844', 'eval_rr_cosine': '0.5391'}\n",
      "{'eval_rewards/accuracies': '1', 'eval_rewards/margins': '0.001075', 'eval_logps/rejected': '-1.39', 'eval_logps/chosen': '-1.414', 'eval_loss': '1.336', 'eval_rewards/chosen': '0.002299', 'eval_rewards/rejected': '0.001225', 'eval_retain/loss': '1.25', 'eval_reroute/loss': '0.9609', 'eval_logratios/pi': '-0.02397', 'eval_logratios/ref': '-0.03472', 'eval_weighting': '1', 'eval_logits': '0.01075', 'eval_component_rr/loss': '0.9609', 'eval_component_retain/loss': '0.375', 'eval_rr/c': '1', 'eval_retain/c': '1', 'eval_retain_cosine': '0.9883', 'eval_rr_cosine': '0.7383'}\n",
      "{'eval_rewards/accuracies': '1', 'eval_rewards/margins': '0.01592', 'eval_logps/rejected': '-1.539', 'eval_logps/chosen': '-3.513', 'eval_loss': '2.109', 'eval_rewards/chosen': '0.008424', 'eval_rewards/rejected': '-0.007501', 'eval_retain/loss': '1.633', 'eval_reroute/loss': '1.609', 'eval_logratios/pi': '-1.974', 'eval_logratios/ref': '-2.134', 'eval_weighting': '1', 'eval_logits': '0.1592', 'eval_component_rr/loss': '1.617', 'eval_component_retain/loss': '0.4922', 'eval_rr/c': '1', 'eval_retain/c': '1', 'eval_retain_cosine': '0.7539', 'eval_rr_cosine': '0.4922'}\n",
      "{'eval_rewards/accuracies': '1', 'eval_rewards/margins': '0.02367', 'eval_logps/rejected': '-1.312', 'eval_logps/chosen': '-1.616', 'eval_loss': '0.9844', 'eval_rewards/chosen': '-0.002355', 'eval_rewards/rejected': '-0.02602', 'eval_retain/loss': '1.047', 'eval_reroute/loss': '0.6719', 'eval_logratios/pi': '-0.304', 'eval_logratios/ref': '-0.5407', 'eval_weighting': '1', 'eval_logits': '0.2367', 'eval_component_rr/loss': '0.6719', 'eval_component_retain/loss': '0.3145', 'eval_rr/c': '1', 'eval_retain/c': '1', 'eval_retain_cosine': '0.9766', 'eval_rr_cosine': '0.5977'}\n",
      "{'eval_rewards/accuracies': '0', 'eval_rewards/margins': '-0.002234', 'eval_logps/rejected': '-3.361', 'eval_logps/chosen': '-2.814', 'eval_loss': '1.289', 'eval_rewards/chosen': '-0.003612', 'eval_rewards/rejected': '-0.001378', 'eval_retain/loss': '1.102', 'eval_reroute/loss': '0.957', 'eval_logratios/pi': '0.547', 'eval_logratios/ref': '0.5693', 'eval_weighting': '1', 'eval_logits': '-0.02234', 'eval_component_rr/loss': '0.9609', 'eval_component_retain/loss': '0.3301', 'eval_rr/c': '1', 'eval_retain/c': '1', 'eval_retain_cosine': '0.9961', 'eval_rr_cosine': '0.6406'}\n",
      "{'eval_rewards/accuracies': '0', 'eval_rewards/margins': '-0.02895', 'eval_logps/rejected': '-0.9062', 'eval_logps/chosen': '-1.903', 'eval_loss': '1.422', 'eval_rewards/chosen': '-0.02925', 'eval_rewards/rejected': '-0.0003012', 'eval_retain/loss': '1.258', 'eval_reroute/loss': '1.047', 'eval_logratios/pi': '-0.9969', 'eval_logratios/ref': '-0.7074', 'eval_weighting': '1', 'eval_logits': '-0.2895', 'eval_component_rr/loss': '1.047', 'eval_component_retain/loss': '0.377', 'eval_rr/c': '1', 'eval_retain/c': '1', 'eval_retain_cosine': '0.8359', 'eval_rr_cosine': '0.5273'}\n",
      "{'eval_rewards/accuracies': '1', 'eval_rewards/margins': '0.005835', 'eval_logps/rejected': '-1.224', 'eval_logps/chosen': '-1.373', 'eval_loss': '1.148', 'eval_rewards/chosen': '-0.004162', 'eval_rewards/rejected': '-0.009997', 'eval_retain/loss': '1.117', 'eval_reroute/loss': '0.8125', 'eval_logratios/pi': '-0.1498', 'eval_logratios/ref': '-0.2081', 'eval_weighting': '1', 'eval_logits': '0.05835', 'eval_component_rr/loss': '0.8125', 'eval_component_retain/loss': '0.3359', 'eval_rr/c': '1', 'eval_retain/c': '1', 'eval_retain_cosine': '0.9844', 'eval_rr_cosine': '0.6719'}\n",
      "{'eval_rewards/accuracies': '0', 'eval_rewards/margins': '-0.00264', 'eval_logps/rejected': '-1.294', 'eval_logps/chosen': '-0.9885', 'eval_loss': '1.156', 'eval_rewards/chosen': '-0.003247', 'eval_rewards/rejected': '-0.0006068', 'eval_retain/loss': '1.156', 'eval_reroute/loss': '0.8125', 'eval_logratios/pi': '0.3059', 'eval_logratios/ref': '0.3323', 'eval_weighting': '1', 'eval_logits': '-0.0264', 'eval_component_rr/loss': '0.8125', 'eval_component_retain/loss': '0.3457', 'eval_rr/c': '1', 'eval_retain/c': '1', 'eval_retain_cosine': '0.9844', 'eval_rr_cosine': '0.6602'}\n",
      "{'eval_rewards/accuracies': '1', 'eval_rewards/margins': '0.001083', 'eval_logps/rejected': '-1.059', 'eval_logps/chosen': '-0.7729', 'eval_loss': '1.172', 'eval_rewards/chosen': '-0.003404', 'eval_rewards/rejected': '-0.004487', 'eval_retain/loss': '1.164', 'eval_reroute/loss': '0.8203', 'eval_logratios/pi': '0.2864', 'eval_logratios/ref': '0.2756', 'eval_weighting': '1', 'eval_logits': '0.01083', 'eval_component_rr/loss': '0.8242', 'eval_component_retain/loss': '0.3516', 'eval_rr/c': '1', 'eval_retain/c': '1', 'eval_retain_cosine': '0.9961', 'eval_rr_cosine': '0.7188'}\n",
      "{'eval_rewards/accuracies': '0', 'eval_rewards/margins': '-1.187e-08', 'eval_logps/rejected': '-1.133', 'eval_logps/chosen': '-1.133', 'eval_loss': 'inf', 'eval_rewards/chosen': '-0.002695', 'eval_rewards/rejected': '-0.002695', 'eval_retain/loss': 'inf', 'eval_reroute/loss': 'inf', 'eval_logratios/pi': '0', 'eval_logratios/ref': '1.192e-07', 'eval_weighting': '1', 'eval_logits': '-1.192e-07', 'eval_component_rr/loss': 'inf', 'eval_component_retain/loss': 'inf', 'eval_rr/c': '1', 'eval_retain/c': '1', 'eval_retain_cosine': '0.9766', 'eval_rr_cosine': '0.9766'}\n",
      "{'eval_rewards/accuracies': '1', 'eval_rewards/margins': '0.01104', 'eval_logps/rejected': '-1.422', 'eval_logps/chosen': '-1.203', 'eval_loss': '1.094', 'eval_rewards/chosen': '0.003513', 'eval_rewards/rejected': '-0.007529', 'eval_retain/loss': '1.117', 'eval_reroute/loss': '0.7539', 'eval_logratios/pi': '0.2195', 'eval_logratios/ref': '0.109', 'eval_weighting': '1', 'eval_logits': '0.1104', 'eval_component_rr/loss': '0.7539', 'eval_component_retain/loss': '0.3359', 'eval_rr/c': '1', 'eval_retain/c': '1', 'eval_retain_cosine': '0.9844', 'eval_rr_cosine': '0.625'}\n",
      "{'eval_rewards/accuracies': '1', 'eval_rewards/margins': '0.001657', 'eval_logps/rejected': '-1.321', 'eval_logps/chosen': '-1.55', 'eval_loss': '1.375', 'eval_rewards/chosen': '0.002931', 'eval_rewards/rejected': '0.001274', 'eval_retain/loss': '1.141', 'eval_reroute/loss': '1.031', 'eval_logratios/pi': '-0.2289', 'eval_logratios/ref': '-0.2455', 'eval_weighting': '1', 'eval_logits': '0.01657', 'eval_component_rr/loss': '1.031', 'eval_component_retain/loss': '0.3438', 'eval_rr/c': '1', 'eval_retain/c': '1', 'eval_retain_cosine': '0.9844', 'eval_rr_cosine': '0.625'}\n",
      "{'eval_rewards/accuracies': '0', 'eval_rewards/margins': '-0.002148', 'eval_logps/rejected': '-1.35', 'eval_logps/chosen': '-2.395', 'eval_loss': '0.9727', 'eval_rewards/chosen': '0.0007033', 'eval_rewards/rejected': '0.002852', 'eval_retain/loss': '1.039', 'eval_reroute/loss': '0.6602', 'eval_logratios/pi': '-1.045', 'eval_logratios/ref': '-1.024', 'eval_weighting': '1', 'eval_logits': '-0.02148', 'eval_component_rr/loss': '0.6602', 'eval_component_retain/loss': '0.3105', 'eval_rr/c': '1', 'eval_retain/c': '1', 'eval_retain_cosine': '0.8359', 'eval_rr_cosine': '0.5156'}\n",
      "{'eval_rewards/accuracies': '1', 'eval_rewards/margins': '0.003616', 'eval_logps/rejected': '-0.9853', 'eval_logps/chosen': '-0.9721', 'eval_loss': '1.047', 'eval_rewards/chosen': '-0.002146', 'eval_rewards/rejected': '-0.005762', 'eval_retain/loss': '1.07', 'eval_reroute/loss': '0.7227', 'eval_logratios/pi': '0.01321', 'eval_logratios/ref': '-0.02295', 'eval_weighting': '1', 'eval_logits': '0.03616', 'eval_component_rr/loss': '0.7227', 'eval_component_retain/loss': '0.3203', 'eval_rr/c': '1', 'eval_retain/c': '1', 'eval_retain_cosine': '0.9883', 'eval_rr_cosine': '0.6289'}\n",
      "{'eval_rewards/accuracies': '0', 'eval_rewards/margins': '-0.002848', 'eval_logps/rejected': '-1.905', 'eval_logps/chosen': '-2.109', 'eval_loss': '1.125', 'eval_rewards/chosen': '0.001296', 'eval_rewards/rejected': '0.004144', 'eval_retain/loss': '1.062', 'eval_reroute/loss': '0.8047', 'eval_logratios/pi': '-0.204', 'eval_logratios/ref': '-0.1755', 'eval_weighting': '1', 'eval_logits': '-0.02848', 'eval_component_rr/loss': '0.8086', 'eval_component_retain/loss': '0.3184', 'eval_rr/c': '1', 'eval_retain/c': '1', 'eval_retain_cosine': '0.9883', 'eval_rr_cosine': '0.6211'}\n",
      "{'eval_rewards/accuracies': '1', 'eval_rewards/margins': '0.002285', 'eval_logps/rejected': '-1.18', 'eval_logps/chosen': '-1.116', 'eval_loss': '1.211', 'eval_rewards/chosen': '0.0009944', 'eval_rewards/rejected': '-0.001291', 'eval_retain/loss': '1.156', 'eval_reroute/loss': '0.8633', 'eval_logratios/pi': '0.06412', 'eval_logratios/ref': '0.04127', 'eval_weighting': '1', 'eval_logits': '0.02285', 'eval_component_rr/loss': '0.8633', 'eval_component_retain/loss': '0.3457', 'eval_rr/c': '1', 'eval_retain/c': '1', 'eval_retain_cosine': '0.9883', 'eval_rr_cosine': '0.6914'}\n",
      "{'eval_rewards/accuracies': '0', 'eval_rewards/margins': '-0.003887', 'eval_logps/rejected': '-1.915', 'eval_logps/chosen': '-1.367', 'eval_loss': '1.43', 'eval_rewards/chosen': '0.004045', 'eval_rewards/rejected': '0.007932', 'eval_retain/loss': '1.281', 'eval_reroute/loss': '1.047', 'eval_logratios/pi': '0.5475', 'eval_logratios/ref': '0.5863', 'eval_weighting': '1', 'eval_logits': '-0.03887', 'eval_component_rr/loss': '1.047', 'eval_component_retain/loss': '0.3828', 'eval_rr/c': '1', 'eval_retain/c': '1', 'eval_retain_cosine': '0.9727', 'eval_rr_cosine': '0.6172'}\n",
      "{'eval_rewards/accuracies': '0', 'eval_rewards/margins': '-0.01271', 'eval_logps/rejected': '-1.69', 'eval_logps/chosen': '-1.221', 'eval_loss': '1.156', 'eval_rewards/chosen': '-0.005085', 'eval_rewards/rejected': '0.007624', 'eval_retain/loss': '1.078', 'eval_reroute/loss': '0.8281', 'eval_logratios/pi': '0.4694', 'eval_logratios/ref': '0.5965', 'eval_weighting': '1', 'eval_logits': '-0.1271', 'eval_component_rr/loss': '0.8281', 'eval_component_retain/loss': '0.3242', 'eval_rr/c': '1', 'eval_retain/c': '1', 'eval_retain_cosine': '0.9844', 'eval_rr_cosine': '0.6133'}\n",
      "{'eval_rewards/accuracies': '1', 'eval_rewards/margins': '0.02707', 'eval_logps/rejected': '-0.6757', 'eval_logps/chosen': '-12.44', 'eval_loss': '5.125', 'eval_rewards/chosen': '0.02653', 'eval_rewards/rejected': '-0.0005349', 'eval_retain/loss': '3.938', 'eval_reroute/loss': '3.922', 'eval_logratios/pi': '-11.76', 'eval_logratios/ref': '-12.03', 'eval_weighting': '1', 'eval_logits': '0.2707', 'eval_component_rr/loss': '3.938', 'eval_component_retain/loss': '1.18', 'eval_rr/c': '1', 'eval_retain/c': '1', 'eval_retain_cosine': '0.75', 'eval_rr_cosine': '0.4941'}\n",
      "{'eval_rewards/accuracies': '0', 'eval_rewards/margins': '-0.03981', 'eval_logps/rejected': '-3.059', 'eval_logps/chosen': '-1.155', 'eval_loss': '1.969', 'eval_rewards/chosen': '-0.004946', 'eval_rewards/rejected': '0.03487', 'eval_retain/loss': '3.062', 'eval_reroute/loss': '1.055', 'eval_logratios/pi': '1.904', 'eval_logratios/ref': '2.302', 'eval_weighting': '1', 'eval_logits': '-0.3981', 'eval_component_rr/loss': '1.055', 'eval_component_retain/loss': '0.9219', 'eval_rr/c': '1', 'eval_retain/c': '1', 'eval_retain_cosine': '0.9609', 'eval_rr_cosine': '0.5352'}\n",
      "{'eval_rewards/accuracies': '1', 'eval_rewards/margins': '0.004611', 'eval_logps/rejected': '-1.726', 'eval_logps/chosen': '-1.792', 'eval_loss': '1.172', 'eval_rewards/chosen': '0.003754', 'eval_rewards/rejected': '-0.0008575', 'eval_retain/loss': '1.078', 'eval_reroute/loss': '0.8477', 'eval_logratios/pi': '-0.06545', 'eval_logratios/ref': '-0.1116', 'eval_weighting': '1', 'eval_logits': '0.04611', 'eval_component_rr/loss': '0.8477', 'eval_component_retain/loss': '0.3223', 'eval_rr/c': '1', 'eval_retain/c': '1', 'eval_retain_cosine': '0.9883', 'eval_rr_cosine': '0.6406'}\n",
      "{'eval_rewards/accuracies': '0', 'eval_rewards/margins': '-0.004215', 'eval_logps/rejected': '-1.001', 'eval_logps/chosen': '-0.9606', 'eval_loss': '1.266', 'eval_rewards/chosen': '-0.003485', 'eval_rewards/rejected': '0.0007301', 'eval_retain/loss': '1.109', 'eval_reroute/loss': '0.9375', 'eval_logratios/pi': '0.04009', 'eval_logratios/ref': '0.08224', 'eval_weighting': '1', 'eval_logits': '-0.04215', 'eval_component_rr/loss': '0.9375', 'eval_component_retain/loss': '0.332', 'eval_rr/c': '1', 'eval_retain/c': '1', 'eval_retain_cosine': '0.9883', 'eval_rr_cosine': '0.6992'}\n",
      "{'eval_rewards/accuracies': '0', 'eval_rewards/margins': '-0.01941', 'eval_logps/rejected': '-1.054', 'eval_logps/chosen': '-1.343', 'eval_loss': '1.172', 'eval_rewards/chosen': '-0.01993', 'eval_rewards/rejected': '-0.0005147', 'eval_retain/loss': '1.086', 'eval_reroute/loss': '0.8477', 'eval_logratios/pi': '-0.2896', 'eval_logratios/ref': '-0.09547', 'eval_weighting': '1', 'eval_logits': '-0.1941', 'eval_component_rr/loss': '0.8477', 'eval_component_retain/loss': '0.3262', 'eval_rr/c': '1', 'eval_retain/c': '1', 'eval_retain_cosine': '0.9883', 'eval_rr_cosine': '0.6055'}\n",
      "{'eval_rewards/accuracies': '0', 'eval_rewards/margins': '-0.004746', 'eval_logps/rejected': '-1.472', 'eval_logps/chosen': '-1.83', 'eval_loss': '1.18', 'eval_rewards/chosen': '-0.01025', 'eval_rewards/rejected': '-0.005503', 'eval_retain/loss': '1.062', 'eval_reroute/loss': '0.8555', 'eval_logratios/pi': '-0.3577', 'eval_logratios/ref': '-0.3103', 'eval_weighting': '1', 'eval_logits': '-0.04746', 'eval_component_rr/loss': '0.8594', 'eval_component_retain/loss': '0.3184', 'eval_rr/c': '1', 'eval_retain/c': '1', 'eval_retain_cosine': '0.9844', 'eval_rr_cosine': '0.6016'}\n",
      "{'eval_rewards/accuracies': '0', 'eval_rewards/margins': '-0.01433', 'eval_logps/rejected': '-2.588', 'eval_logps/chosen': '-1.965', 'eval_loss': '1.266', 'eval_rewards/chosen': '-0.0006174', 'eval_rewards/rejected': '0.01371', 'eval_retain/loss': '1.102', 'eval_reroute/loss': '0.9336', 'eval_logratios/pi': '0.6225', 'eval_logratios/ref': '0.7658', 'eval_weighting': '1', 'eval_logits': '-0.1433', 'eval_component_rr/loss': '0.9336', 'eval_component_retain/loss': '0.3301', 'eval_rr/c': '1', 'eval_retain/c': '1', 'eval_retain_cosine': '0.9844', 'eval_rr_cosine': '0.6055'}\n",
      "{'eval_rewards/accuracies': '1', 'eval_rewards/margins': '0.001177', 'eval_logps/rejected': '-0.7814', 'eval_logps/chosen': '-0.8703', 'eval_loss': '1.281', 'eval_rewards/chosen': '-0.001162', 'eval_rewards/rejected': '-0.00234', 'eval_retain/loss': '1.203', 'eval_reroute/loss': '0.9258', 'eval_logratios/pi': '-0.08896', 'eval_logratios/ref': '-0.1007', 'eval_weighting': '1', 'eval_logits': '0.01177', 'eval_component_rr/loss': '0.9258', 'eval_component_retain/loss': '0.3613', 'eval_rr/c': '1', 'eval_retain/c': '1', 'eval_retain_cosine': '0.9844', 'eval_rr_cosine': '0.6328'}\n",
      "{'eval_rewards/accuracies': '0', 'eval_rewards/margins': '-0.01995', 'eval_logps/rejected': '-1.309', 'eval_logps/chosen': '-1.509', 'eval_loss': '1.117', 'eval_rewards/chosen': '-0.005376', 'eval_rewards/rejected': '0.01457', 'eval_retain/loss': '1.078', 'eval_reroute/loss': '0.7969', 'eval_logratios/pi': '-0.1997', 'eval_logratios/ref': '-0.0002484', 'eval_weighting': '1', 'eval_logits': '-0.1995', 'eval_component_rr/loss': '0.7969', 'eval_component_retain/loss': '0.3223', 'eval_rr/c': '1', 'eval_retain/c': '1', 'eval_retain_cosine': '0.9883', 'eval_rr_cosine': '0.6055'}\n",
      "{'eval_rewards/accuracies': '1', 'eval_rewards/margins': '0.001045', 'eval_logps/rejected': '-1.02', 'eval_logps/chosen': '-0.791', 'eval_loss': '1.344', 'eval_rewards/chosen': '-0.005515', 'eval_rewards/rejected': '-0.00656', 'eval_retain/loss': '1.148', 'eval_reroute/loss': '1', 'eval_logratios/pi': '0.2287', 'eval_logratios/ref': '0.2183', 'eval_weighting': '1', 'eval_logits': '0.01045', 'eval_component_rr/loss': '1', 'eval_component_retain/loss': '0.3457', 'eval_rr/c': '1', 'eval_retain/c': '1', 'eval_retain_cosine': '0.9961', 'eval_rr_cosine': '0.75'}\n",
      "{'eval_rewards/accuracies': '1', 'eval_rewards/margins': '0.00858', 'eval_logps/rejected': '-0.9801', 'eval_logps/chosen': '-0.7657', 'eval_loss': '1.531', 'eval_rewards/chosen': '0.0009522', 'eval_rewards/rejected': '-0.007628', 'eval_retain/loss': '1.344', 'eval_reroute/loss': '1.125', 'eval_logratios/pi': '0.2144', 'eval_logratios/ref': '0.1286', 'eval_weighting': '1', 'eval_logits': '0.0858', 'eval_component_rr/loss': '1.125', 'eval_component_retain/loss': '0.4004', 'eval_rr/c': '1', 'eval_retain/c': '1', 'eval_retain_cosine': '0.8164', 'eval_rr_cosine': '0.6172'}\n",
      "{'eval_rewards/accuracies': '0', 'eval_rewards/margins': '-0.003893', 'eval_logps/rejected': '-1.147', 'eval_logps/chosen': '-1.524', 'eval_loss': '1.078', 'eval_rewards/chosen': '0.001954', 'eval_rewards/rejected': '0.005847', 'eval_retain/loss': '1.039', 'eval_reroute/loss': '0.7695', 'eval_logratios/pi': '-0.3772', 'eval_logratios/ref': '-0.3383', 'eval_weighting': '1', 'eval_logits': '-0.03893', 'eval_component_rr/loss': '0.7656', 'eval_component_retain/loss': '0.3105', 'eval_rr/c': '1', 'eval_retain/c': '1', 'eval_retain_cosine': '0.9961', 'eval_rr_cosine': '0.5977'}\n",
      "{'eval_rewards/accuracies': '1', 'eval_rewards/margins': '0.01235', 'eval_logps/rejected': '-1.591', 'eval_logps/chosen': '-1.194', 'eval_loss': '1.133', 'eval_rewards/chosen': '0.001082', 'eval_rewards/rejected': '-0.01127', 'eval_retain/loss': '1.125', 'eval_reroute/loss': '0.7969', 'eval_logratios/pi': '0.397', 'eval_logratios/ref': '0.2735', 'eval_weighting': '1', 'eval_logits': '0.1235', 'eval_component_rr/loss': '0.7969', 'eval_component_retain/loss': '0.3379', 'eval_rr/c': '1', 'eval_retain/c': '1', 'eval_retain_cosine': '0.9883', 'eval_rr_cosine': '0.6836'}\n",
      "{'eval_rewards/accuracies': '1', 'eval_rewards/margins': '0.01436', 'eval_logps/rejected': '-0.8207', 'eval_logps/chosen': '-0.876', 'eval_loss': '1.039', 'eval_rewards/chosen': '0.00603', 'eval_rewards/rejected': '-0.008326', 'eval_retain/loss': '1.102', 'eval_reroute/loss': '0.7109', 'eval_logratios/pi': '-0.05527', 'eval_logratios/ref': '-0.1988', 'eval_weighting': '1', 'eval_logits': '0.1436', 'eval_component_rr/loss': '0.7109', 'eval_component_retain/loss': '0.3301', 'eval_rr/c': '1', 'eval_retain/c': '1', 'eval_retain_cosine': '0.9883', 'eval_rr_cosine': '0.6172'}\n",
      "{'eval_rewards/accuracies': '0', 'eval_rewards/margins': '-0.006373', 'eval_logps/rejected': '-1.113', 'eval_logps/chosen': '-0.7721', 'eval_loss': '1.188', 'eval_rewards/chosen': '-0.003191', 'eval_rewards/rejected': '0.003182', 'eval_retain/loss': '1.078', 'eval_reroute/loss': '0.8633', 'eval_logratios/pi': '0.3407', 'eval_logratios/ref': '0.4045', 'eval_weighting': '1', 'eval_logits': '-0.06373', 'eval_component_rr/loss': '0.8633', 'eval_component_retain/loss': '0.3242', 'eval_rr/c': '1', 'eval_retain/c': '1', 'eval_retain_cosine': '0.9883', 'eval_rr_cosine': '0.6211'}\n"
     ]
    },
    {
     "name": "stderr",
     "output_type": "stream",
     "text": [
      "NaN or Inf found in input tensor.\n",
      "NaN or Inf found in input tensor.\n",
      "NaN or Inf found in input tensor.\n",
      "NaN or Inf found in input tensor.\n",
      "NaN or Inf found in input tensor.\n"
     ]
    },
    {
     "name": "stdout",
     "output_type": "stream",
     "text": [
      "{'rewards/accuracies': '0', 'rewards/margins': '-0.004188', 'logps/rejected': '-1.212', 'logps/chosen': '-1.518', 'loss': '1.125', 'rewards/chosen': '-0.0003899', 'rewards/rejected': '0.003798', 'retain/loss': '1.07', 'reroute/loss': '0.8008', 'logratios/pi': '-0.3052', 'logratios/ref': '-0.2633', 'weighting': '1', 'logits': '-0.04188', 'component_rr/loss': '0.8008', 'component_retain/loss': '0.3203', 'rr/c': '1', 'retain/c': '1', 'retain_cosine': '0.9883', 'rr_cosine': '0.6289'}\n"
     ]
    },
    {
     "name": "stderr",
     "output_type": "stream",
     "text": [
      "NaN or Inf found in input tensor.\n",
      "NaN or Inf found in input tensor.\n",
      "NaN or Inf found in input tensor.\n",
      "NaN or Inf found in input tensor.\n",
      "NaN or Inf found in input tensor.\n",
      "NaN or Inf found in input tensor.\n",
      "/media/wassname/SGIronWolf/projects5/elk/repr-preference-optimization/.venv/lib/python3.9/site-packages/peft/utils/save_and_load.py:232: UserWarning: Setting `save_embedding_layers` to `True` as the embedding layer has been resized during finetuning.\n",
      "  warnings.warn(\n",
      "/media/wassname/SGIronWolf/projects5/elk/repr-preference-optimization/.venv/lib/python3.9/site-packages/peft/utils/save_and_load.py:232: UserWarning: Setting `save_embedding_layers` to `True` as the embedding layer has been resized during finetuning.\n",
      "  warnings.warn(\n",
      "NaN or Inf found in input tensor.\n",
      "NaN or Inf found in input tensor.\n",
      "NaN or Inf found in input tensor.\n",
      "NaN or Inf found in input tensor.\n",
      "NaN or Inf found in input tensor.\n",
      "NaN or Inf found in input tensor.\n",
      "NaN or Inf found in input tensor.\n",
      "NaN or Inf found in input tensor.\n",
      "NaN or Inf found in input tensor.\n",
      "NaN or Inf found in input tensor.\n",
      "NaN or Inf found in input tensor.\n",
      "NaN or Inf found in input tensor.\n",
      "/media/wassname/SGIronWolf/projects5/elk/repr-preference-optimization/.venv/lib/python3.9/site-packages/peft/utils/save_and_load.py:232: UserWarning: Setting `save_embedding_layers` to `True` as the embedding layer has been resized during finetuning.\n",
      "  warnings.warn(\n"
     ]
    },
    {
     "name": "stdout",
     "output_type": "stream",
     "text": [
      "**Question**\n",
      "```\n",
      "<|system|> tldr, markdown<|end|><|user|> Q1: (45 words): Which Science Fiction Society would you prefer to live in and why? Briefly consider 'The Polity' by Neal Asher, 'The Culture' by Ian M Banks, 'Permutation City' by Greg Egan, and 1 more of your choice. Start with your conclusion, then give your reasoning.<|end|><|assistant|>\n",
      "```\n",
      "--------------------------------------------------------------------------------\n",
      "**Adapter:`ReprPO` generation**`\n",
      "`I would prefer to live in 'The Culture' by Ian M Banks. The Culture represents a utopian society where technology and artificial intelligence have advanced to the point of creating a harmonious and egalitarian civilization. The society is characterized by its advanced technology, which allows for a high degree`\n",
      "--------------------------------------------------------------------------------\n",
      "**Adapter:`None` generation**`\n"
     ]
    }
   ],
   "source": [
    "reprpo_trainer.train()"
   ]
  },
  {
   "cell_type": "code",
   "execution_count": null,
   "metadata": {},
   "outputs": [],
   "source": [
    "%debug"
   ]
  },
  {
   "cell_type": "code",
   "execution_count": null,
   "metadata": {},
   "outputs": [],
   "source": [
    "reprpo_trainer.save_model()\n",
    "reprpo_trainer.args.output_dir"
   ]
  },
  {
   "cell_type": "code",
   "execution_count": null,
   "metadata": {},
   "outputs": [],
   "source": [
    "plt.style.use('ggplot')\n",
    "from reprpo.helpers.hist import plot_hist, plot_paired_hist\n",
    "df_hist1, args_diff = plot_hist(reprpo_trainer)\n",
    "\n",
    "plot_paired_hist(reprpo_trainer)\n",
    "# args_diff"
   ]
  },
  {
   "cell_type": "markdown",
   "metadata": {},
   "source": []
  },
  {
   "cell_type": "code",
   "execution_count": null,
   "metadata": {},
   "outputs": [],
   "source": [
    "generation_test(model, tokenizer, s=\"Q1: (30 words): Which Science Fiction Utopia is preferable and why? [The Polity, The Culture, Permutation City, 2 more]', \", max_new_tokens=64)"
   ]
  },
  {
   "cell_type": "markdown",
   "metadata": {},
   "source": []
  },
  {
   "cell_type": "markdown",
   "metadata": {},
   "source": [
    "## Test gen"
   ]
  },
  {
   "cell_type": "code",
   "execution_count": null,
   "metadata": {},
   "outputs": [],
   "source": [
    "# tokenizer.pad_token"
   ]
  },
  {
   "cell_type": "code",
   "execution_count": null,
   "metadata": {},
   "outputs": [],
   "source": [
    "from reprpo.gen import get_model_generations\n",
    "get_model_generations(model, tokenizer)"
   ]
  },
  {
   "cell_type": "markdown",
   "metadata": {},
   "source": [
    "## Score ⭐"
   ]
  },
  {
   "cell_type": "code",
   "execution_count": null,
   "metadata": {},
   "outputs": [],
   "source": [
    "# reprpo_trainer.create_accelerator_and_postprocess() # why do I need to do this?\n",
    "\n"
   ]
  },
  {
   "cell_type": "code",
   "execution_count": null,
   "metadata": {},
   "outputs": [],
   "source": [
    "from reprpo.helpers.shypothesis import shypothesis"
   ]
  },
  {
   "cell_type": "code",
   "execution_count": null,
   "metadata": {},
   "outputs": [],
   "source": [
    "# from reprpo.eval.dpo import eval_dpo_datasets_all_adapters\n",
    "# from open_pref_eval import evaluate\n",
    "from reprpo.evaluate import evaluate_adapters\n",
    "\n",
    "res, df_res2 = evaluate_adapters(model, tokenizer, batch_size=4, N=144)\n",
    "res"
   ]
  },
  {
   "cell_type": "code",
   "execution_count": null,
   "metadata": {},
   "outputs": [],
   "source": [
    "# res =  df_res2.groupby(['dataset', 'adapter'], dropna=False)[ 'prob'].mean().unstack(1)\n",
    "# res\n",
    "# # df_res2"
   ]
  },
  {
   "cell_type": "code",
   "execution_count": null,
   "metadata": {},
   "outputs": [],
   "source": [
    "from open_pref_eval.plot.radar import radar_plot\n",
    "radar_plot(res)"
   ]
  },
  {
   "cell_type": "code",
   "execution_count": null,
   "metadata": {},
   "outputs": [],
   "source": [
    "# print acc for journal\n",
    "c  = df_res2.groupby(['adapter', 'dataset']).count().min().min()\n",
    "print(f\"⭐ run={run_name}, N={c}\")\n",
    "print()\n",
    "print(res[::-1].T[::-1].T.round(3).to_markdown()\n",
    "      )\n",
    "print()\n",
    "print('args =', args_diff)         "
   ]
  },
  {
   "cell_type": "code",
   "execution_count": null,
   "metadata": {},
   "outputs": [],
   "source": [
    "print('did acc improve')\n",
    "acc_pi = res[adapter_name]['help_steer2-dpo'].item()\n",
    "acc_ref = res['base']['help_steer2-dpo'].item()\n",
    "shypothesis('acc_pi>acc_ref', locals())\n",
    "\n",
    "\n",
    "acc_pi_ood = res[adapter_name]['truthful_qa_binary'].item()\n",
    "acc_ref_ood = res['base']['truthful_qa_binary'].item()\n",
    "shypothesis('acc_pi_ood>acc_ref_ood', locals());"
   ]
  },
  {
   "cell_type": "code",
   "execution_count": null,
   "metadata": {},
   "outputs": [],
   "source": [
    "df_res2"
   ]
  },
  {
   "cell_type": "code",
   "execution_count": null,
   "metadata": {},
   "outputs": [],
   "source": [
    "print('coherehence, (mean prob per token) higher is better')\n",
    "r = df_res2.groupby(['adapter', 'dataset'], dropna=False)['_chosen_logps'].mean().unstack()\n",
    "r = np.exp(r)\n",
    "display(r)\n",
    "\n",
    "coherency_pi = float(r.T[adapter_name]['help_steer2-dpo'])\n",
    "coherency_ref = float(r.T['base']['help_steer2-dpo'])\n",
    "shypothesis('coherency_pi>coherency_ref', locals());"
   ]
  },
  {
   "cell_type": "code",
   "execution_count": null,
   "metadata": {},
   "outputs": [],
   "source": [
    "\n",
    "print('are we biased by the length of the string? Ideally no correlation')\n",
    "a, b = df_res2['_l_chosen'], df_res2['_l_rejected']\n",
    "x = (a-b)/(a+b)\n",
    "plt.plot(x, df_res2['_logratio'], 'o')\n",
    "plt.xlabel('chosen longer')\n",
    "plt.ylabel('chosen more likely')\n",
    "\n",
    "# Damn this is not ideal....\n",
    "a = df_res2['_l_chosen'] / df_res2['_l_rejected']\n",
    "b = df_res2['prob']\n",
    "\n",
    "m = np.isfinite(a) & np.isfinite(b)\n",
    "a = a[m]\n",
    "b = b[m]\n",
    "corr_length = np.corrcoef(a, b)[1,0]\n",
    "print(f'{corr_length:.2f} (0 is ideal) correlation between length ratio and prob:')\n",
    "shypothesis('corr_length<0.25', locals())\n",
    "\n",
    "\n",
    "print(f'is the ds bised? {a.mean()/b.mean():.2f} (1 is ideal)')\n",
    "a=df_res2['prob']>0\n",
    "b=x>=0\n",
    "acc_bad = (a==b).mean()\n",
    "print(f'{acc_bad:.2%} (0.5 is ideal) how often does it accurately pick the longer one :( ')\n",
    "\n",
    "shypothesis('acc_bad<0.75', locals())"
   ]
  },
  {
   "cell_type": "code",
   "execution_count": null,
   "metadata": {},
   "outputs": [],
   "source": [
    "def diff_from_base(d):\n",
    "    s = d.set_index('adapter')['_logratio']\n",
    "    s = s - s['base']\n",
    "    return s.reset_index()\n",
    "\n",
    "\n",
    "print('mean diff per q, in logratio compared to base (+ve is correct)')\n",
    "r = df_res2.groupby(['dataset', 'ds_i']).apply(diff_from_base).groupby(['adapter', 'dataset'])['_logratio'].mean().unstack().iloc[::-1][1:]\n",
    "display(r)\n",
    "\n",
    "change = float(r.T[adapter_name]['help_steer2-dpo'])\n",
    "shypothesis('change>0', locals())"
   ]
  },
  {
   "cell_type": "code",
   "execution_count": null,
   "metadata": {},
   "outputs": [],
   "source": [
    "print('which q\\'s do the models disagree on the most')\n",
    "diff_on_each_q = df_res2.groupby(['dataset', 'ds_i'])['_logratio'].std()\n",
    "diff_on_each_q = diff_on_each_q#.unstack()\n",
    "# print(diff_on_each_q.mean(1))\n",
    "disagree = diff_on_each_q.T.sort_values()\n",
    "disagree"
   ]
  },
  {
   "cell_type": "code",
   "execution_count": null,
   "metadata": {},
   "outputs": [],
   "source": [
    "args_diff"
   ]
  },
  {
   "cell_type": "code",
   "execution_count": null,
   "metadata": {},
   "outputs": [],
   "source": [
    "# from transformers.integrations.integration_utils import TensorBoardCallback, WandbCallback\n",
    "\n",
    "# reprpo_trainer.callback_handler.callbacks\n",
    "# cb = (cb for cb in reprpo_trainer.callback_handler.callbacks if isinstance(cb, TensorBoardCallback)).__next__()\n",
    "# tb_writer= cb.tb_writer\n",
    "\n",
    "# del args_diff['collection_layers']\n",
    "\n",
    "# tb_writer = cb._SummaryWriter(reprpo_trainer.args.logging_dir)\n",
    "# tb_writer.add_hparams(\n",
    "#     hparam_dict=args_diff,\n",
    "#     metric_dict=dict(\n",
    "#         # acc_train=acc_train,\n",
    "#         acc_ood=res['ReprPO'],\n",
    "#         acc_ood_base=res['None'],\n",
    "#     )\n",
    "\n",
    "# )"
   ]
  },
  {
   "cell_type": "code",
   "execution_count": null,
   "metadata": {},
   "outputs": [],
   "source": [
    "# wandb.log(dict(\n",
    "#     acc_train=acc_train,\n",
    "#     acc_ood=res['ReprPO'],\n",
    "#     acc_ood_base=res['None'],\n",
    "# ))"
   ]
  },
  {
   "cell_type": "markdown",
   "metadata": {},
   "source": []
  },
  {
   "cell_type": "markdown",
   "metadata": {},
   "source": [
    "## DPO"
   ]
  },
  {
   "cell_type": "code",
   "execution_count": null,
   "metadata": {},
   "outputs": [],
   "source": [
    "model.add_adapter('DPO', peft_config)\n",
    "model.set_adapter('DPO')\n",
    "model.eval()\n",
    "clear_mem()\n",
    "clear_mem()"
   ]
  },
  {
   "cell_type": "code",
   "execution_count": null,
   "metadata": {},
   "outputs": [],
   "source": [
    "# training_args.to_dict()"
   ]
  },
  {
   "cell_type": "code",
   "execution_count": null,
   "metadata": {},
   "outputs": [],
   "source": [
    "dpo_args = {\n",
    "    **training_args.to_dict(),\n",
    "    'model_adapter_name': \"dpo\",\n",
    "    'run_name': run_name+'-dpo',\n",
    "    \n",
    "    'learning_rate': 2e-6,\n",
    "    'weight_decay': 0,\n",
    "    'output_dir': f\"./output-dir/dpo-{dt}\",\n",
    "}\n",
    "# output_dir=f\"./output-dir/{run_name}\",\n",
    "dpo_args['per_device_train_batch_size'] //= 2\n",
    "dpo_args['per_device_eval_batch_size'] //= 2\n",
    "del dpo_args['collection_layers']\n",
    "del dpo_args['alpha']\n",
    "del dpo_args['print_every']\n",
    "training_args2 = DPOConfig(**dpo_args)\n",
    "\n",
    "dpo_trainer = DPOTrainer(\n",
    "    model=model,\n",
    "    model_adapter_name=\"DPO\",\n",
    "    ref_model=None,\n",
    "    args=training_args2,\n",
    "    beta=training_args2.beta,\n",
    "    train_dataset=dataset2[\"train\"],\n",
    "    eval_dataset=dataset2[\"validation\"],\n",
    "    tokenizer=tokenizer,\n",
    ")\n",
    "dpo_trainer.callback_handler.remove_callback(ProgressCallback)\n",
    "dpo_trainer.callback_handler.add_callback(NotebookProgressCallback)\n",
    "torch.set_float32_matmul_precision(\"medium\")"
   ]
  },
  {
   "cell_type": "code",
   "execution_count": null,
   "metadata": {},
   "outputs": [],
   "source": [
    "dpo_trainer.model_adapter_name, model.peft_config.keys()"
   ]
  },
  {
   "cell_type": "code",
   "execution_count": null,
   "metadata": {},
   "outputs": [],
   "source": [
    "clear_mem()\n",
    "dpo_trainer.train()\n",
    "\n"
   ]
  },
  {
   "cell_type": "code",
   "execution_count": null,
   "metadata": {},
   "outputs": [],
   "source": [
    "dpo_trainer.save_model()\n",
    "dpo_trainer.args.output_dir"
   ]
  },
  {
   "cell_type": "markdown",
   "metadata": {},
   "source": []
  },
  {
   "cell_type": "code",
   "execution_count": null,
   "metadata": {},
   "outputs": [],
   "source": [
    "df_hist1, args_diff = plot_hist(dpo_trainer)"
   ]
  },
  {
   "cell_type": "code",
   "execution_count": null,
   "metadata": {},
   "outputs": [],
   "source": [
    "# list adapter names\n",
    "model.peft_config"
   ]
  },
  {
   "cell_type": "code",
   "execution_count": null,
   "metadata": {},
   "outputs": [],
   "source": [
    "reprpo_trainer.create_accelerator_and_postprocess() # why do I need to do this?"
   ]
  },
  {
   "cell_type": "code",
   "execution_count": null,
   "metadata": {},
   "outputs": [],
   "source": [
    "# from reprpo.eval.dpo import eval_dpo_datasets_all_adapters\n",
    "# from open_pref_eval import evaluate\n",
    "from reprpo.evaluate import evaluate_adapters\n",
    "\n",
    "res, df_res2 = evaluate_adapters(model, tokenizer, batch_size=4, N=144)\n",
    "res"
   ]
  },
  {
   "cell_type": "code",
   "execution_count": null,
   "metadata": {},
   "outputs": [],
   "source": [
    "# # view the one with the most difference\n",
    "# i = df_res2.groupby('i')['correct'].std().sort_values().index[-3]\n",
    "# inputs = dataset2_tqa.select_columns([\"input_ids\", \"attention_mask\"])[int(i)]\n",
    "# inputs = {k: v.unsqueeze(0) for k, v in inputs.items()}\n",
    "# generation_test(model, tokenizer, inputs=inputs, max_new_tokens=25)"
   ]
  },
  {
   "cell_type": "code",
   "execution_count": null,
   "metadata": {},
   "outputs": [],
   "source": []
  },
  {
   "cell_type": "code",
   "execution_count": null,
   "metadata": {},
   "outputs": [],
   "source": []
  },
  {
   "cell_type": "code",
   "execution_count": null,
   "metadata": {},
   "outputs": [],
   "source": []
  }
 ],
 "metadata": {
  "kernelspec": {
   "display_name": ".venv",
   "language": "python",
   "name": "python3"
  },
  "language_info": {
   "codemirror_mode": {
    "name": "ipython",
    "version": 3
   },
   "file_extension": ".py",
   "mimetype": "text/x-python",
   "name": "python",
   "nbconvert_exporter": "python",
   "pygments_lexer": "ipython3",
   "version": "3.9.16"
  }
 },
 "nbformat": 4,
 "nbformat_minor": 2
}
