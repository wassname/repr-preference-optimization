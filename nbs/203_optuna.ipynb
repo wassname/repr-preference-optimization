{
 "cells": [
  {
   "cell_type": "markdown",
   "metadata": {},
   "source": [
    "https://optuna.readthedocs.io/en/stable/tutorial/10_key_features/005_visualization.html#sphx-glr-download-tutorial-10-key-features-005-visualization-py"
   ]
  },
  {
   "cell_type": "code",
   "execution_count": 1,
   "metadata": {},
   "outputs": [],
   "source": [
    "%reload_ext autoreload\n",
    "%autoreload 2"
   ]
  },
  {
   "cell_type": "code",
   "execution_count": 2,
   "metadata": {},
   "outputs": [],
   "source": [
    "import os\n",
    "os.environ[\"PYTORCH_CUDA_ALLOC_CONF\"] =\"expandable_segments:True\" # seems to stop gpu mem from filling up despite clearing"
   ]
  },
  {
   "cell_type": "code",
   "execution_count": 3,
   "metadata": {},
   "outputs": [],
   "source": [
    "import torch\n",
    "import pandas as pd\n",
    "from pathlib import Path\n",
    "import optuna\n",
    "from reprpo.hp.helpers import optuna_df"
   ]
  },
  {
   "cell_type": "code",
   "execution_count": 4,
   "metadata": {},
   "outputs": [
    {
     "name": "stdout",
     "output_type": "stream",
     "text": [
      "[2024-10-09 11:29:34,910] [INFO] [real_accelerator.py:203:get_accelerator] Setting ds_accelerator to cuda (auto detect)\n"
     ]
    }
   ],
   "source": [
    "from reprpo.training import train\n",
    "from reprpo.experiments import experiment_configs\n",
    "from reprpo.hp.space import search_spaces"
   ]
  },
  {
   "cell_type": "markdown",
   "metadata": {},
   "source": [
    "## Objective"
   ]
  },
  {
   "cell_type": "markdown",
   "metadata": {},
   "source": []
  },
  {
   "cell_type": "code",
   "execution_count": 5,
   "metadata": {},
   "outputs": [],
   "source": [
    "SEED=42\n",
    "key_metric = \"acc_gain_vs_ref/oos\"\n",
    "torch.manual_seed(SEED)\n",
    "DEVICE = torch.device(\"cuda\") if torch.cuda.is_available() else torch.device(\"cpu\")"
   ]
  },
  {
   "cell_type": "code",
   "execution_count": 6,
   "metadata": {},
   "outputs": [],
   "source": [
    "# silence please\n",
    "import os\n",
    "from loguru import logger\n",
    "logger.remove()\n",
    "logger.remove()\n",
    "logger.add(os.sys.stderr, level=\"WARNING\")\n",
    "\n",
    "os.environ[\"WANDB_MODE\"] = \"disabled\"\n",
    "os.environ[\"HF_DATASETS_OFFLINE\"] = \"1\"\n",
    "os.environ[\"TQDM_DISABLE\"] = \"true\""
   ]
  },
  {
   "cell_type": "code",
   "execution_count": 7,
   "metadata": {},
   "outputs": [
    {
     "name": "stdout",
     "output_type": "stream",
     "text": [
      "./optuna.db\n"
     ]
    },
    {
     "data": {
      "text/plain": [
       "'sqlite:///optuna.db'"
      ]
     },
     "execution_count": 7,
     "metadata": {},
     "output_type": "execute_result"
    }
   ],
   "source": [
    "f_db = f\"sqlite:///optuna.db\"\n",
    "f = f_db.replace('sqlite:///', './')\n",
    "print(f)\n",
    "Path(f).parent.mkdir(parents=True, exist_ok=True)\n",
    "f_db"
   ]
  },
  {
   "cell_type": "code",
   "execution_count": 8,
   "metadata": {},
   "outputs": [],
   "source": [
    "# print(f'to visualise run in cli\\ncd nbs\\noptuna-dashboard {f_db}')"
   ]
  },
  {
   "cell_type": "code",
   "execution_count": 9,
   "metadata": {},
   "outputs": [],
   "source": [
    "from reprpo.hp.target import override, default_tuner_kwargs, list2tuples, objective\n",
    "import functools\n",
    "from reprpo.experiments import experiment_configs\n",
    "import copy\n",
    "import wandb\n",
    "\n",
    "import optuna.pruners\n",
    "from optuna_integration.wandb import WeightsAndBiasesCallback"
   ]
  },
  {
   "cell_type": "code",
   "execution_count": 11,
   "metadata": {},
   "outputs": [],
   "source": [
    "\n",
    "\n",
    "\n",
    "\n"
   ]
  },
  {
   "cell_type": "markdown",
   "metadata": {},
   "source": [
    "## Opt"
   ]
  },
  {
   "cell_type": "markdown",
   "metadata": {},
   "source": [
    "Note on pruning. It's only really usefull with validation metrics and for long jobs over many epochs. I've got a small proxy job so there is no need."
   ]
  },
  {
   "cell_type": "code",
   "execution_count": 10,
   "metadata": {},
   "outputs": [
    {
     "data": {
      "text/plain": [
       "dict_keys(['hs-svd-mse', 'hs-hra-rank', 'hs-ortho-prefvec', 'ether-prefvec', 'dpo', 'projbp', 'projgrad3'])"
      ]
     },
     "execution_count": 10,
     "metadata": {},
     "output_type": "execute_result"
    }
   ],
   "source": [
    "# from reprpo.experiments import experiment_configs\n",
    "from reprpo.hp.space import experiment_configs\n",
    "experiment_configs.keys()"
   ]
  },
  {
   "cell_type": "code",
   "execution_count": 11,
   "metadata": {},
   "outputs": [],
   "source": [
    "import warnings\n",
    "warnings.filterwarnings(\"ignore\", category=optuna.exceptions.ExperimentalWarning) "
   ]
  },
  {
   "cell_type": "code",
   "execution_count": 12,
   "metadata": {},
   "outputs": [
    {
     "name": "stdout",
     "output_type": "stream",
     "text": [
      "projgrad2\n"
     ]
    },
    {
     "name": "stderr",
     "output_type": "stream",
     "text": [
      "[W 2024-10-09 11:30:38,670] Study instance does not contain completed trials.\n"
     ]
    },
    {
     "data": {
      "text/html": [
       "<div>\n",
       "<style scoped>\n",
       "    .dataframe tbody tr th:only-of-type {\n",
       "        vertical-align: middle;\n",
       "    }\n",
       "\n",
       "    .dataframe tbody tr th {\n",
       "        vertical-align: top;\n",
       "    }\n",
       "\n",
       "    .dataframe thead th {\n",
       "        text-align: right;\n",
       "    }\n",
       "</style>\n",
       "<table border=\"1\" class=\"dataframe\">\n",
       "  <thead>\n",
       "    <tr style=\"text-align: right;\">\n",
       "      <th></th>\n",
       "      <th>importance</th>\n",
       "      <th>best</th>\n",
       "    </tr>\n",
       "    <tr>\n",
       "      <th>projgrad2 N=✓0/315, best=nan</th>\n",
       "      <th></th>\n",
       "      <th></th>\n",
       "    </tr>\n",
       "  </thead>\n",
       "  <tbody>\n",
       "  </tbody>\n",
       "</table>\n",
       "</div>"
      ],
      "text/plain": [
       "Empty DataFrame\n",
       "Columns: [importance, best]\n",
       "Index: []"
      ]
     },
     "metadata": {},
     "output_type": "display_data"
    },
    {
     "name": "stdout",
     "output_type": "stream",
     "text": [
      "\n",
      "side-ether-prefvec\n"
     ]
    },
    {
     "data": {
      "text/html": [
       "<div>\n",
       "<style scoped>\n",
       "    .dataframe tbody tr th:only-of-type {\n",
       "        vertical-align: middle;\n",
       "    }\n",
       "\n",
       "    .dataframe tbody tr th {\n",
       "        vertical-align: top;\n",
       "    }\n",
       "\n",
       "    .dataframe thead th {\n",
       "        text-align: right;\n",
       "    }\n",
       "</style>\n",
       "<table border=\"1\" class=\"dataframe\">\n",
       "  <thead>\n",
       "    <tr style=\"text-align: right;\">\n",
       "      <th></th>\n",
       "      <th>importance</th>\n",
       "      <th>best</th>\n",
       "    </tr>\n",
       "    <tr>\n",
       "      <th>side-ether-prefvec N=✓208/209, best=1.169</th>\n",
       "      <th></th>\n",
       "      <th></th>\n",
       "    </tr>\n",
       "  </thead>\n",
       "  <tbody>\n",
       "    <tr>\n",
       "      <th>β</th>\n",
       "      <td>0.204</td>\n",
       "      <td>0.403787</td>\n",
       "    </tr>\n",
       "    <tr>\n",
       "      <th>use_angle_loss</th>\n",
       "      <td>0.157</td>\n",
       "      <td>True</td>\n",
       "    </tr>\n",
       "    <tr>\n",
       "      <th>use_dpo_loss</th>\n",
       "      <td>0.149</td>\n",
       "      <td>False</td>\n",
       "    </tr>\n",
       "    <tr>\n",
       "      <th>lr</th>\n",
       "      <td>0.131</td>\n",
       "      <td>0.000615</td>\n",
       "    </tr>\n",
       "    <tr>\n",
       "      <th>Htype</th>\n",
       "      <td>0.104</td>\n",
       "      <td>oft</td>\n",
       "    </tr>\n",
       "    <tr>\n",
       "      <th>weight_tokens</th>\n",
       "      <td>0.092</td>\n",
       "      <td>False</td>\n",
       "    </tr>\n",
       "    <tr>\n",
       "      <th>use_orth_loss</th>\n",
       "      <td>0.034</td>\n",
       "      <td>False</td>\n",
       "    </tr>\n",
       "    <tr>\n",
       "      <th>reduction</th>\n",
       "      <td>0.033</td>\n",
       "      <td>25</td>\n",
       "    </tr>\n",
       "    <tr>\n",
       "      <th>use_nll_loss</th>\n",
       "      <td>0.025</td>\n",
       "      <td>False</td>\n",
       "    </tr>\n",
       "    <tr>\n",
       "      <th>nb</th>\n",
       "      <td>0.024</td>\n",
       "      <td>30</td>\n",
       "    </tr>\n",
       "    <tr>\n",
       "      <th>flip_side</th>\n",
       "      <td>0.023</td>\n",
       "      <td>True</td>\n",
       "    </tr>\n",
       "    <tr>\n",
       "      <th>collect_hs</th>\n",
       "      <td>0.013</td>\n",
       "      <td>False</td>\n",
       "    </tr>\n",
       "    <tr>\n",
       "      <th>collect_input</th>\n",
       "      <td>0.011</td>\n",
       "      <td>False</td>\n",
       "    </tr>\n",
       "  </tbody>\n",
       "</table>\n",
       "</div>"
      ],
      "text/plain": [
       "                                           importance      best\n",
       "side-ether-prefvec N=✓208/209, best=1.169                      \n",
       "β                                               0.204  0.403787\n",
       "use_angle_loss                                  0.157      True\n",
       "use_dpo_loss                                    0.149     False\n",
       "lr                                              0.131  0.000615\n",
       "Htype                                           0.104       oft\n",
       "weight_tokens                                   0.092     False\n",
       "use_orth_loss                                   0.034     False\n",
       "reduction                                       0.033        25\n",
       "use_nll_loss                                    0.025     False\n",
       "nb                                              0.024        30\n",
       "flip_side                                       0.023      True\n",
       "collect_hs                                      0.013     False\n",
       "collect_input                                   0.011     False"
      ]
     },
     "metadata": {},
     "output_type": "display_data"
    },
    {
     "name": "stdout",
     "output_type": "stream",
     "text": [
      "\n",
      "projgrad\n"
     ]
    },
    {
     "name": "stderr",
     "output_type": "stream",
     "text": [
      "[W 2024-10-09 11:30:41,082] Study instance does not contain completed trials.\n"
     ]
    },
    {
     "data": {
      "text/html": [
       "<div>\n",
       "<style scoped>\n",
       "    .dataframe tbody tr th:only-of-type {\n",
       "        vertical-align: middle;\n",
       "    }\n",
       "\n",
       "    .dataframe tbody tr th {\n",
       "        vertical-align: top;\n",
       "    }\n",
       "\n",
       "    .dataframe thead th {\n",
       "        text-align: right;\n",
       "    }\n",
       "</style>\n",
       "<table border=\"1\" class=\"dataframe\">\n",
       "  <thead>\n",
       "    <tr style=\"text-align: right;\">\n",
       "      <th></th>\n",
       "      <th>importance</th>\n",
       "      <th>best</th>\n",
       "    </tr>\n",
       "    <tr>\n",
       "      <th>projgrad N=✓0/4, best=nan</th>\n",
       "      <th></th>\n",
       "      <th></th>\n",
       "    </tr>\n",
       "  </thead>\n",
       "  <tbody>\n",
       "  </tbody>\n",
       "</table>\n",
       "</div>"
      ],
      "text/plain": [
       "Empty DataFrame\n",
       "Columns: [importance, best]\n",
       "Index: []"
      ]
     },
     "metadata": {},
     "output_type": "display_data"
    },
    {
     "name": "stdout",
     "output_type": "stream",
     "text": [
      "\n",
      "side-svd-mse\n"
     ]
    },
    {
     "data": {
      "text/html": [
       "<div>\n",
       "<style scoped>\n",
       "    .dataframe tbody tr th:only-of-type {\n",
       "        vertical-align: middle;\n",
       "    }\n",
       "\n",
       "    .dataframe tbody tr th {\n",
       "        vertical-align: top;\n",
       "    }\n",
       "\n",
       "    .dataframe thead th {\n",
       "        text-align: right;\n",
       "    }\n",
       "</style>\n",
       "<table border=\"1\" class=\"dataframe\">\n",
       "  <thead>\n",
       "    <tr style=\"text-align: right;\">\n",
       "      <th></th>\n",
       "      <th>importance</th>\n",
       "      <th>best</th>\n",
       "    </tr>\n",
       "    <tr>\n",
       "      <th>side-svd-mse N=✓28/316, best=1.010</th>\n",
       "      <th></th>\n",
       "      <th></th>\n",
       "    </tr>\n",
       "  </thead>\n",
       "  <tbody>\n",
       "    <tr>\n",
       "      <th>lr</th>\n",
       "      <td>0.968</td>\n",
       "      <td>0.001195</td>\n",
       "    </tr>\n",
       "    <tr>\n",
       "      <th>α</th>\n",
       "      <td>0.030</td>\n",
       "      <td>0.635584</td>\n",
       "    </tr>\n",
       "    <tr>\n",
       "      <th>dual_svd</th>\n",
       "      <td>0.002</td>\n",
       "      <td>True</td>\n",
       "    </tr>\n",
       "    <tr>\n",
       "      <th>collect_input</th>\n",
       "      <td>0.000</td>\n",
       "      <td>False</td>\n",
       "    </tr>\n",
       "    <tr>\n",
       "      <th>collect_hs</th>\n",
       "      <td>0.000</td>\n",
       "      <td>True</td>\n",
       "    </tr>\n",
       "    <tr>\n",
       "      <th>quantile</th>\n",
       "      <td>0.000</td>\n",
       "      <td>float</td>\n",
       "    </tr>\n",
       "    <tr>\n",
       "      <th>quantile_value</th>\n",
       "      <td>NaN</td>\n",
       "      <td>0.3</td>\n",
       "    </tr>\n",
       "  </tbody>\n",
       "</table>\n",
       "</div>"
      ],
      "text/plain": [
       "                                    importance      best\n",
       "side-svd-mse N=✓28/316, best=1.010                      \n",
       "lr                                       0.968  0.001195\n",
       "α                                        0.030  0.635584\n",
       "dual_svd                                 0.002      True\n",
       "collect_input                            0.000     False\n",
       "collect_hs                               0.000      True\n",
       "quantile                                 0.000     float\n",
       "quantile_value                             NaN       0.3"
      ]
     },
     "metadata": {},
     "output_type": "display_data"
    },
    {
     "name": "stdout",
     "output_type": "stream",
     "text": [
      "\n",
      "side-hra-rank\n"
     ]
    },
    {
     "data": {
      "text/html": [
       "<div>\n",
       "<style scoped>\n",
       "    .dataframe tbody tr th:only-of-type {\n",
       "        vertical-align: middle;\n",
       "    }\n",
       "\n",
       "    .dataframe tbody tr th {\n",
       "        vertical-align: top;\n",
       "    }\n",
       "\n",
       "    .dataframe thead th {\n",
       "        text-align: right;\n",
       "    }\n",
       "</style>\n",
       "<table border=\"1\" class=\"dataframe\">\n",
       "  <thead>\n",
       "    <tr style=\"text-align: right;\">\n",
       "      <th></th>\n",
       "      <th>importance</th>\n",
       "      <th>best</th>\n",
       "    </tr>\n",
       "    <tr>\n",
       "      <th>side-hra-rank N=✓182/183, best=1.229</th>\n",
       "      <th></th>\n",
       "      <th></th>\n",
       "    </tr>\n",
       "  </thead>\n",
       "  <tbody>\n",
       "    <tr>\n",
       "      <th>lr</th>\n",
       "      <td>0.900</td>\n",
       "      <td>0.000188</td>\n",
       "    </tr>\n",
       "    <tr>\n",
       "      <th>collect_input</th>\n",
       "      <td>0.042</td>\n",
       "      <td>False</td>\n",
       "    </tr>\n",
       "    <tr>\n",
       "      <th>collect_hs</th>\n",
       "      <td>0.034</td>\n",
       "      <td>False</td>\n",
       "    </tr>\n",
       "    <tr>\n",
       "      <th>apply_GS</th>\n",
       "      <td>0.016</td>\n",
       "      <td>False</td>\n",
       "    </tr>\n",
       "    <tr>\n",
       "      <th>β</th>\n",
       "      <td>0.004</td>\n",
       "      <td>0.110393</td>\n",
       "    </tr>\n",
       "    <tr>\n",
       "      <th>r</th>\n",
       "      <td>0.003</td>\n",
       "      <td>2</td>\n",
       "    </tr>\n",
       "    <tr>\n",
       "      <th>α</th>\n",
       "      <td>0.002</td>\n",
       "      <td>5.920778</td>\n",
       "    </tr>\n",
       "  </tbody>\n",
       "</table>\n",
       "</div>"
      ],
      "text/plain": [
       "                                      importance      best\n",
       "side-hra-rank N=✓182/183, best=1.229                      \n",
       "lr                                         0.900  0.000188\n",
       "collect_input                              0.042     False\n",
       "collect_hs                                 0.034     False\n",
       "apply_GS                                   0.016     False\n",
       "β                                          0.004  0.110393\n",
       "r                                          0.003         2\n",
       "α                                          0.002  5.920778"
      ]
     },
     "metadata": {},
     "output_type": "display_data"
    },
    {
     "name": "stdout",
     "output_type": "stream",
     "text": [
      "\n",
      "hs-ortho-prefvec\n"
     ]
    },
    {
     "data": {
      "text/html": [
       "<div>\n",
       "<style scoped>\n",
       "    .dataframe tbody tr th:only-of-type {\n",
       "        vertical-align: middle;\n",
       "    }\n",
       "\n",
       "    .dataframe tbody tr th {\n",
       "        vertical-align: top;\n",
       "    }\n",
       "\n",
       "    .dataframe thead th {\n",
       "        text-align: right;\n",
       "    }\n",
       "</style>\n",
       "<table border=\"1\" class=\"dataframe\">\n",
       "  <thead>\n",
       "    <tr style=\"text-align: right;\">\n",
       "      <th></th>\n",
       "      <th>importance</th>\n",
       "      <th>best</th>\n",
       "    </tr>\n",
       "    <tr>\n",
       "      <th>hs-ortho-prefvec N=✓259/261, best=1.152</th>\n",
       "      <th></th>\n",
       "      <th></th>\n",
       "    </tr>\n",
       "  </thead>\n",
       "  <tbody>\n",
       "    <tr>\n",
       "      <th>lr</th>\n",
       "      <td>0.950</td>\n",
       "      <td>0.000411</td>\n",
       "    </tr>\n",
       "    <tr>\n",
       "      <th>β</th>\n",
       "      <td>0.014</td>\n",
       "      <td>1.970152</td>\n",
       "    </tr>\n",
       "    <tr>\n",
       "      <th>use_angle_loss</th>\n",
       "      <td>0.014</td>\n",
       "      <td>True</td>\n",
       "    </tr>\n",
       "    <tr>\n",
       "      <th>weight_tokens</th>\n",
       "      <td>0.006</td>\n",
       "      <td>False</td>\n",
       "    </tr>\n",
       "    <tr>\n",
       "      <th>use_nll_loss</th>\n",
       "      <td>0.005</td>\n",
       "      <td>True</td>\n",
       "    </tr>\n",
       "    <tr>\n",
       "      <th>orthogonal_map</th>\n",
       "      <td>0.004</td>\n",
       "      <td>matrix_exp</td>\n",
       "    </tr>\n",
       "    <tr>\n",
       "      <th>use_dpo_loss</th>\n",
       "      <td>0.004</td>\n",
       "      <td>False</td>\n",
       "    </tr>\n",
       "    <tr>\n",
       "      <th>use_proj_rel</th>\n",
       "      <td>0.002</td>\n",
       "      <td>True</td>\n",
       "    </tr>\n",
       "    <tr>\n",
       "      <th>use_orth_loss</th>\n",
       "      <td>0.002</td>\n",
       "      <td>True</td>\n",
       "    </tr>\n",
       "  </tbody>\n",
       "</table>\n",
       "</div>"
      ],
      "text/plain": [
       "                                         importance        best\n",
       "hs-ortho-prefvec N=✓259/261, best=1.152                        \n",
       "lr                                            0.950    0.000411\n",
       "β                                             0.014    1.970152\n",
       "use_angle_loss                                0.014        True\n",
       "weight_tokens                                 0.006       False\n",
       "use_nll_loss                                  0.005        True\n",
       "orthogonal_map                                0.004  matrix_exp\n",
       "use_dpo_loss                                  0.004       False\n",
       "use_proj_rel                                  0.002        True\n",
       "use_orth_loss                                 0.002        True"
      ]
     },
     "metadata": {},
     "output_type": "display_data"
    },
    {
     "name": "stdout",
     "output_type": "stream",
     "text": [
      "\n",
      "projbp\n"
     ]
    },
    {
     "data": {
      "text/html": [
       "<div>\n",
       "<style scoped>\n",
       "    .dataframe tbody tr th:only-of-type {\n",
       "        vertical-align: middle;\n",
       "    }\n",
       "\n",
       "    .dataframe tbody tr th {\n",
       "        vertical-align: top;\n",
       "    }\n",
       "\n",
       "    .dataframe thead th {\n",
       "        text-align: right;\n",
       "    }\n",
       "</style>\n",
       "<table border=\"1\" class=\"dataframe\">\n",
       "  <thead>\n",
       "    <tr style=\"text-align: right;\">\n",
       "      <th></th>\n",
       "      <th>importance</th>\n",
       "      <th>best</th>\n",
       "    </tr>\n",
       "    <tr>\n",
       "      <th>projbp N=✓227/363, best=1.071</th>\n",
       "      <th></th>\n",
       "      <th></th>\n",
       "    </tr>\n",
       "  </thead>\n",
       "  <tbody>\n",
       "    <tr>\n",
       "      <th>scale_orth</th>\n",
       "      <td>0.441</td>\n",
       "      <td>False</td>\n",
       "    </tr>\n",
       "    <tr>\n",
       "      <th>lr</th>\n",
       "      <td>0.290</td>\n",
       "      <td>0.000005</td>\n",
       "    </tr>\n",
       "    <tr>\n",
       "      <th>β</th>\n",
       "      <td>0.254</td>\n",
       "      <td>0.238377</td>\n",
       "    </tr>\n",
       "    <tr>\n",
       "      <th>mag_clip</th>\n",
       "      <td>0.011</td>\n",
       "      <td>float</td>\n",
       "    </tr>\n",
       "    <tr>\n",
       "      <th>neg_slope</th>\n",
       "      <td>0.003</td>\n",
       "      <td>float</td>\n",
       "    </tr>\n",
       "    <tr>\n",
       "      <th>reverse_pref</th>\n",
       "      <td>0.001</td>\n",
       "      <td>True</td>\n",
       "    </tr>\n",
       "    <tr>\n",
       "      <th>mag_clip_value</th>\n",
       "      <td>NaN</td>\n",
       "      <td>0.981465</td>\n",
       "    </tr>\n",
       "    <tr>\n",
       "      <th>neg_slope_value</th>\n",
       "      <td>NaN</td>\n",
       "      <td>0.69867</td>\n",
       "    </tr>\n",
       "  </tbody>\n",
       "</table>\n",
       "</div>"
      ],
      "text/plain": [
       "                               importance      best\n",
       "projbp N=✓227/363, best=1.071                      \n",
       "scale_orth                          0.441     False\n",
       "lr                                  0.290  0.000005\n",
       "β                                   0.254  0.238377\n",
       "mag_clip                            0.011     float\n",
       "neg_slope                           0.003     float\n",
       "reverse_pref                        0.001      True\n",
       "mag_clip_value                        NaN  0.981465\n",
       "neg_slope_value                       NaN   0.69867"
      ]
     },
     "metadata": {},
     "output_type": "display_data"
    },
    {
     "name": "stdout",
     "output_type": "stream",
     "text": [
      "\n",
      "dpo\n"
     ]
    },
    {
     "data": {
      "text/html": [
       "<div>\n",
       "<style scoped>\n",
       "    .dataframe tbody tr th:only-of-type {\n",
       "        vertical-align: middle;\n",
       "    }\n",
       "\n",
       "    .dataframe tbody tr th {\n",
       "        vertical-align: top;\n",
       "    }\n",
       "\n",
       "    .dataframe thead th {\n",
       "        text-align: right;\n",
       "    }\n",
       "</style>\n",
       "<table border=\"1\" class=\"dataframe\">\n",
       "  <thead>\n",
       "    <tr style=\"text-align: right;\">\n",
       "      <th></th>\n",
       "      <th>importance</th>\n",
       "      <th>best</th>\n",
       "    </tr>\n",
       "    <tr>\n",
       "      <th>dpo N=✓248/250, best=1.276</th>\n",
       "      <th></th>\n",
       "      <th></th>\n",
       "    </tr>\n",
       "  </thead>\n",
       "  <tbody>\n",
       "    <tr>\n",
       "      <th>lr</th>\n",
       "      <td>1.0</td>\n",
       "      <td>0.000265</td>\n",
       "    </tr>\n",
       "  </tbody>\n",
       "</table>\n",
       "</div>"
      ],
      "text/plain": [
       "                            importance      best\n",
       "dpo N=✓248/250, best=1.276                      \n",
       "lr                                 1.0  0.000265"
      ]
     },
     "metadata": {},
     "output_type": "display_data"
    },
    {
     "name": "stdout",
     "output_type": "stream",
     "text": [
      "\n",
      "hs-svd-mse\n"
     ]
    },
    {
     "data": {
      "text/html": [
       "<div>\n",
       "<style scoped>\n",
       "    .dataframe tbody tr th:only-of-type {\n",
       "        vertical-align: middle;\n",
       "    }\n",
       "\n",
       "    .dataframe tbody tr th {\n",
       "        vertical-align: top;\n",
       "    }\n",
       "\n",
       "    .dataframe thead th {\n",
       "        text-align: right;\n",
       "    }\n",
       "</style>\n",
       "<table border=\"1\" class=\"dataframe\">\n",
       "  <thead>\n",
       "    <tr style=\"text-align: right;\">\n",
       "      <th></th>\n",
       "      <th>importance</th>\n",
       "      <th>best</th>\n",
       "    </tr>\n",
       "    <tr>\n",
       "      <th>hs-svd-mse N=✓14/332, best=1.017</th>\n",
       "      <th></th>\n",
       "      <th></th>\n",
       "    </tr>\n",
       "  </thead>\n",
       "  <tbody>\n",
       "    <tr>\n",
       "      <th>lr</th>\n",
       "      <td>0.971</td>\n",
       "      <td>0.001195</td>\n",
       "    </tr>\n",
       "    <tr>\n",
       "      <th>α</th>\n",
       "      <td>0.016</td>\n",
       "      <td>0.635584</td>\n",
       "    </tr>\n",
       "    <tr>\n",
       "      <th>dual_svd</th>\n",
       "      <td>0.013</td>\n",
       "      <td>True</td>\n",
       "    </tr>\n",
       "    <tr>\n",
       "      <th>collect_hs</th>\n",
       "      <td>0.000</td>\n",
       "      <td>True</td>\n",
       "    </tr>\n",
       "    <tr>\n",
       "      <th>quantile</th>\n",
       "      <td>0.000</td>\n",
       "      <td>float</td>\n",
       "    </tr>\n",
       "    <tr>\n",
       "      <th>collect_input</th>\n",
       "      <td>0.000</td>\n",
       "      <td>False</td>\n",
       "    </tr>\n",
       "    <tr>\n",
       "      <th>quantile_value</th>\n",
       "      <td>NaN</td>\n",
       "      <td>0.3</td>\n",
       "    </tr>\n",
       "  </tbody>\n",
       "</table>\n",
       "</div>"
      ],
      "text/plain": [
       "                                  importance      best\n",
       "hs-svd-mse N=✓14/332, best=1.017                      \n",
       "lr                                     0.971  0.001195\n",
       "α                                      0.016  0.635584\n",
       "dual_svd                               0.013      True\n",
       "collect_hs                             0.000      True\n",
       "quantile                               0.000     float\n",
       "collect_input                          0.000     False\n",
       "quantile_value                           NaN       0.3"
      ]
     },
     "metadata": {},
     "output_type": "display_data"
    },
    {
     "name": "stdout",
     "output_type": "stream",
     "text": [
      "\n",
      "hs-hra-rank\n"
     ]
    },
    {
     "data": {
      "text/html": [
       "<div>\n",
       "<style scoped>\n",
       "    .dataframe tbody tr th:only-of-type {\n",
       "        vertical-align: middle;\n",
       "    }\n",
       "\n",
       "    .dataframe tbody tr th {\n",
       "        vertical-align: top;\n",
       "    }\n",
       "\n",
       "    .dataframe thead th {\n",
       "        text-align: right;\n",
       "    }\n",
       "</style>\n",
       "<table border=\"1\" class=\"dataframe\">\n",
       "  <thead>\n",
       "    <tr style=\"text-align: right;\">\n",
       "      <th></th>\n",
       "      <th>importance</th>\n",
       "      <th>best</th>\n",
       "    </tr>\n",
       "    <tr>\n",
       "      <th>hs-hra-rank N=✓259/262, best=1.152</th>\n",
       "      <th></th>\n",
       "      <th></th>\n",
       "    </tr>\n",
       "  </thead>\n",
       "  <tbody>\n",
       "    <tr>\n",
       "      <th>lr</th>\n",
       "      <td>0.879</td>\n",
       "      <td>0.000333</td>\n",
       "    </tr>\n",
       "    <tr>\n",
       "      <th>β</th>\n",
       "      <td>0.069</td>\n",
       "      <td>0.37992</td>\n",
       "    </tr>\n",
       "    <tr>\n",
       "      <th>r</th>\n",
       "      <td>0.043</td>\n",
       "      <td>38</td>\n",
       "    </tr>\n",
       "    <tr>\n",
       "      <th>apply_GS</th>\n",
       "      <td>0.008</td>\n",
       "      <td>True</td>\n",
       "    </tr>\n",
       "    <tr>\n",
       "      <th>α</th>\n",
       "      <td>0.000</td>\n",
       "      <td>0.280164</td>\n",
       "    </tr>\n",
       "  </tbody>\n",
       "</table>\n",
       "</div>"
      ],
      "text/plain": [
       "                                    importance      best\n",
       "hs-hra-rank N=✓259/262, best=1.152                      \n",
       "lr                                       0.879  0.000333\n",
       "β                                        0.069   0.37992\n",
       "r                                        0.043        38\n",
       "apply_GS                                 0.008      True\n",
       "α                                        0.000  0.280164"
      ]
     },
     "metadata": {},
     "output_type": "display_data"
    },
    {
     "name": "stdout",
     "output_type": "stream",
     "text": [
      "\n",
      "ether-prefvec\n"
     ]
    },
    {
     "data": {
      "text/html": [
       "<div>\n",
       "<style scoped>\n",
       "    .dataframe tbody tr th:only-of-type {\n",
       "        vertical-align: middle;\n",
       "    }\n",
       "\n",
       "    .dataframe tbody tr th {\n",
       "        vertical-align: top;\n",
       "    }\n",
       "\n",
       "    .dataframe thead th {\n",
       "        text-align: right;\n",
       "    }\n",
       "</style>\n",
       "<table border=\"1\" class=\"dataframe\">\n",
       "  <thead>\n",
       "    <tr style=\"text-align: right;\">\n",
       "      <th></th>\n",
       "      <th>importance</th>\n",
       "      <th>best</th>\n",
       "    </tr>\n",
       "    <tr>\n",
       "      <th>ether-prefvec N=✓321/326, best=1.183</th>\n",
       "      <th></th>\n",
       "      <th></th>\n",
       "    </tr>\n",
       "  </thead>\n",
       "  <tbody>\n",
       "    <tr>\n",
       "      <th>lr</th>\n",
       "      <td>0.838</td>\n",
       "      <td>0.000378</td>\n",
       "    </tr>\n",
       "    <tr>\n",
       "      <th>β</th>\n",
       "      <td>0.074</td>\n",
       "      <td>1.984854</td>\n",
       "    </tr>\n",
       "    <tr>\n",
       "      <th>nb</th>\n",
       "      <td>0.020</td>\n",
       "      <td>20</td>\n",
       "    </tr>\n",
       "    <tr>\n",
       "      <th>Htype</th>\n",
       "      <td>0.017</td>\n",
       "      <td>ether</td>\n",
       "    </tr>\n",
       "    <tr>\n",
       "      <th>use_orth_loss</th>\n",
       "      <td>0.011</td>\n",
       "      <td>True</td>\n",
       "    </tr>\n",
       "    <tr>\n",
       "      <th>flip_side</th>\n",
       "      <td>0.009</td>\n",
       "      <td>True</td>\n",
       "    </tr>\n",
       "    <tr>\n",
       "      <th>use_angle_loss</th>\n",
       "      <td>0.008</td>\n",
       "      <td>True</td>\n",
       "    </tr>\n",
       "    <tr>\n",
       "      <th>reduction</th>\n",
       "      <td>0.007</td>\n",
       "      <td>1</td>\n",
       "    </tr>\n",
       "    <tr>\n",
       "      <th>use_proj_rel</th>\n",
       "      <td>0.005</td>\n",
       "      <td>True</td>\n",
       "    </tr>\n",
       "    <tr>\n",
       "      <th>collect_hs</th>\n",
       "      <td>0.004</td>\n",
       "      <td>False</td>\n",
       "    </tr>\n",
       "    <tr>\n",
       "      <th>use_dpo_loss</th>\n",
       "      <td>0.002</td>\n",
       "      <td>False</td>\n",
       "    </tr>\n",
       "    <tr>\n",
       "      <th>weight_tokens</th>\n",
       "      <td>0.001</td>\n",
       "      <td>True</td>\n",
       "    </tr>\n",
       "    <tr>\n",
       "      <th>use_nll_loss</th>\n",
       "      <td>0.001</td>\n",
       "      <td>True</td>\n",
       "    </tr>\n",
       "    <tr>\n",
       "      <th>collect_input</th>\n",
       "      <td>0.001</td>\n",
       "      <td>True</td>\n",
       "    </tr>\n",
       "  </tbody>\n",
       "</table>\n",
       "</div>"
      ],
      "text/plain": [
       "                                      importance      best\n",
       "ether-prefvec N=✓321/326, best=1.183                      \n",
       "lr                                         0.838  0.000378\n",
       "β                                          0.074  1.984854\n",
       "nb                                         0.020        20\n",
       "Htype                                      0.017     ether\n",
       "use_orth_loss                              0.011      True\n",
       "flip_side                                  0.009      True\n",
       "use_angle_loss                             0.008      True\n",
       "reduction                                  0.007         1\n",
       "use_proj_rel                               0.005      True\n",
       "collect_hs                                 0.004     False\n",
       "use_dpo_loss                               0.002     False\n",
       "weight_tokens                              0.001      True\n",
       "use_nll_loss                               0.001      True\n",
       "collect_input                              0.001      True"
      ]
     },
     "metadata": {},
     "output_type": "display_data"
    },
    {
     "name": "stdout",
     "output_type": "stream",
     "text": [
      "\n",
      "projgrad3\n"
     ]
    },
    {
     "data": {
      "text/html": [
       "<div>\n",
       "<style scoped>\n",
       "    .dataframe tbody tr th:only-of-type {\n",
       "        vertical-align: middle;\n",
       "    }\n",
       "\n",
       "    .dataframe tbody tr th {\n",
       "        vertical-align: top;\n",
       "    }\n",
       "\n",
       "    .dataframe thead th {\n",
       "        text-align: right;\n",
       "    }\n",
       "</style>\n",
       "<table border=\"1\" class=\"dataframe\">\n",
       "  <thead>\n",
       "    <tr style=\"text-align: right;\">\n",
       "      <th></th>\n",
       "      <th>importance</th>\n",
       "      <th>best</th>\n",
       "    </tr>\n",
       "    <tr>\n",
       "      <th>projgrad3 N=✓207/208, best=1.279</th>\n",
       "      <th></th>\n",
       "      <th></th>\n",
       "    </tr>\n",
       "  </thead>\n",
       "  <tbody>\n",
       "    <tr>\n",
       "      <th>lr</th>\n",
       "      <td>0.943</td>\n",
       "      <td>0.000232</td>\n",
       "    </tr>\n",
       "    <tr>\n",
       "      <th>β</th>\n",
       "      <td>0.035</td>\n",
       "      <td>0.842679</td>\n",
       "    </tr>\n",
       "    <tr>\n",
       "      <th>scale_orth</th>\n",
       "      <td>0.009</td>\n",
       "      <td>False</td>\n",
       "    </tr>\n",
       "    <tr>\n",
       "      <th>mag_clip</th>\n",
       "      <td>0.005</td>\n",
       "      <td>float</td>\n",
       "    </tr>\n",
       "    <tr>\n",
       "      <th>weight_dim</th>\n",
       "      <td>0.005</td>\n",
       "      <td>1</td>\n",
       "    </tr>\n",
       "    <tr>\n",
       "      <th>neg_slope</th>\n",
       "      <td>0.002</td>\n",
       "      <td>0</td>\n",
       "    </tr>\n",
       "    <tr>\n",
       "      <th>reverse_pref</th>\n",
       "      <td>0.001</td>\n",
       "      <td>True</td>\n",
       "    </tr>\n",
       "    <tr>\n",
       "      <th>mag_clip_value</th>\n",
       "      <td>NaN</td>\n",
       "      <td>0.230096</td>\n",
       "    </tr>\n",
       "  </tbody>\n",
       "</table>\n",
       "</div>"
      ],
      "text/plain": [
       "                                  importance      best\n",
       "projgrad3 N=✓207/208, best=1.279                      \n",
       "lr                                     0.943  0.000232\n",
       "β                                      0.035  0.842679\n",
       "scale_orth                             0.009     False\n",
       "mag_clip                               0.005     float\n",
       "weight_dim                             0.005         1\n",
       "neg_slope                              0.002         0\n",
       "reverse_pref                           0.001      True\n",
       "mag_clip_value                           NaN  0.230096"
      ]
     },
     "metadata": {},
     "output_type": "display_data"
    },
    {
     "name": "stdout",
     "output_type": "stream",
     "text": [
      "\n"
     ]
    }
   ],
   "source": [
    "from optuna.study.study import storages, get_all_study_names\n",
    "study_names = get_all_study_names(storage=f_db)\n",
    "\n",
    "for study_name in study_names:\n",
    "    print(study_name)\n",
    "    study = optuna.load_study(study_name=study_name, storage=f_db)\n",
    "    try:\n",
    "        df_res = optuna_df(study, key_metric)\n",
    "        display(df_res)\n",
    "        print()\n",
    "    except ValueError as e:\n",
    "        print('-')"
   ]
  },
  {
   "cell_type": "code",
   "execution_count": 13,
   "metadata": {},
   "outputs": [],
   "source": [
    "# unit test, moved to pytest\n",
    "# for exp_name, (N, trial2args) in search_spaces.items():\n",
    "#     study = optuna.create_study(direction=\"maximize\")\n",
    "#     cfg = copy.deepcopy(experiment_configs[exp_name][1])\n",
    "#     print('exp_name', exp_name)\n",
    "#     for _ in range(10):\n",
    "#         trial = study.ask()\n",
    "#         kwargs = trial2args(trial)\n",
    "#         override(cfg, default_tuner_kwargs)\n",
    "#         override(cfg, kwargs)\n",
    "#         kwargs = list2tuples(kwargs)\n",
    "\n",
    "#     # try one dev run\n",
    "#     kwargs['dev'] = True\n",
    "#     _objective = functools.partial(objective, key_metric=key_metric, starter_experiment_name=exp_name, trial2args=trial2args)\n",
    "\n",
    "#     study.optimize(_objective, \n",
    "#                 n_trials=1, # do 20 at a time, round robin, untill done\n",
    "#                 gc_after_trial=True, \n",
    "#                 # catch=(AssertionError, OSError, RuntimeError, KeyError, torch.OutOfMemoryError)\n",
    "#     )"
   ]
  },
  {
   "cell_type": "code",
   "execution_count": null,
   "metadata": {},
   "outputs": [],
   "source": []
  },
  {
   "cell_type": "code",
   "execution_count": 14,
   "metadata": {},
   "outputs": [
    {
     "name": "stderr",
     "output_type": "stream",
     "text": [
      "[I 2024-10-09 11:31:08,070] Using an existing study with name 'ether-prefvec' instead of creating a new one.\n"
     ]
    },
    {
     "name": "stdout",
     "output_type": "stream",
     "text": [
      "loaded 326 ether-prefvec trials\n",
      "| ether-prefvec N=✓321/326, best=1.183   |   importance | best                   |\n",
      "|:---------------------------------------|-------------:|:-----------------------|\n",
      "| lr                                     |        0.845 | 0.00037772770210724844 |\n",
      "| β                                      |        0.068 | 1.9848539330526844     |\n",
      "| nb                                     |        0.04  | 20                     |\n",
      "| reduction                              |        0.012 | 1                      |\n",
      "| use_proj_rel                           |        0.006 | True                   |\n",
      "| use_angle_loss                         |        0.005 | True                   |\n",
      "| use_dpo_loss                           |        0.005 | False                  |\n",
      "| collect_input                          |        0.004 | True                   |\n",
      "| collect_hs                             |        0.004 | False                  |\n",
      "| use_orth_loss                          |        0.003 | True                   |\n",
      "| use_nll_loss                           |        0.003 | True                   |\n",
      "| flip_side                              |        0.002 | True                   |\n",
      "| Htype                                  |        0.002 | ether                  |\n",
      "| weight_tokens                          |        0.002 | True                   |\n"
     ]
    },
    {
     "name": "stderr",
     "output_type": "stream",
     "text": [
      "[I 2024-10-09 11:34:59,341] Trial 326 finished with value: 0.43352601156069365 and parameters: {'lr': 0.0034974526946656434, 'collect_input': True, 'collect_hs': False, 'nb': 22, 'Htype': 'ether', 'flip_side': True, 'reduction': 1, 'β': 1.5570060506815473, 'use_orth_loss': True, 'use_angle_loss': True, 'use_dpo_loss': False, 'use_nll_loss': True, 'weight_tokens': True, 'use_proj_rel': False}. Best is trial 24 with value: 1.183044315992293.\n"
     ]
    },
    {
     "name": "stdout",
     "output_type": "stream",
     "text": [
      "\n",
      "| acc_inc/eval_ds [pp]                                                                                                                                                                                         |   train |    test |     oos |    rnd |\n",
      "|:-------------------------------------------------------------------------------------------------------------------------------------------------------------------------------------------------------------|--------:|--------:|--------:|-------:|\n",
      "| ReprPO collect_input=True prefvec.use_nll_prefvec=True prefvec.use_orth_prefvec=True prefvec.weight_tokens=True prefvec.β=1.6 lr=0.0035 ether.Htype=ether ether.flip_side=True ether.nb=22 ether.reduction=1 | -45.455 | -40.945 | -56.647 | 10.526 |\n"
     ]
    },
    {
     "name": "stderr",
     "output_type": "stream",
     "text": [
      "[I 2024-10-09 11:38:15,721] Trial 327 finished with value: 1.1502890173410405 and parameters: {'lr': 0.0004977357947612501, 'collect_input': True, 'collect_hs': False, 'nb': 13, 'Htype': 'oft', 'flip_side': True, 'reduction': 13, 'β': 1.9971876761302187, 'use_orth_loss': False, 'use_angle_loss': True, 'use_dpo_loss': False, 'use_nll_loss': True, 'weight_tokens': True, 'use_proj_rel': True}. Best is trial 24 with value: 1.183044315992293.\n"
     ]
    },
    {
     "name": "stdout",
     "output_type": "stream",
     "text": [
      "\n",
      "| acc_inc/eval_ds [pp]                                                                                                                                                                                  |   train |   test |    oos |    rnd |\n",
      "|:------------------------------------------------------------------------------------------------------------------------------------------------------------------------------------------------------|--------:|-------:|-------:|-------:|\n",
      "| ReprPO collect_input=True prefvec.use_nll_prefvec=True prefvec.use_proj_rel=True prefvec.weight_tokens=True prefvec.β=2 lr=0.0005 ether.Htype=oft ether.flip_side=True ether.nb=13 ether.reduction=13 |   2.479 | -0.787 | 15.029 | -7.018 |\n"
     ]
    },
    {
     "name": "stderr",
     "output_type": "stream",
     "text": [
      "[I 2024-10-09 11:41:34,686] Trial 328 finished with value: 0.7976878612716765 and parameters: {'lr': 0.00041836214104364847, 'collect_input': True, 'collect_hs': False, 'nb': 28, 'Htype': 'ether', 'flip_side': True, 'reduction': 510, 'β': 8.985740403909258e-05, 'use_orth_loss': True, 'use_angle_loss': True, 'use_dpo_loss': False, 'use_nll_loss': True, 'weight_tokens': True, 'use_proj_rel': False}. Best is trial 24 with value: 1.183044315992293.\n"
     ]
    },
    {
     "name": "stdout",
     "output_type": "stream",
     "text": [
      "\n",
      "| acc_inc/eval_ds [pp]                                                                                                                                                                                              |   train |   test |     oos |    rnd |\n",
      "|:------------------------------------------------------------------------------------------------------------------------------------------------------------------------------------------------------------------|--------:|-------:|--------:|-------:|\n",
      "| ReprPO collect_input=True prefvec.use_nll_prefvec=True prefvec.use_orth_prefvec=True prefvec.weight_tokens=True prefvec.β=9e-05 lr=0.00042 ether.Htype=ether ether.flip_side=True ether.nb=28 ether.reduction=510 | -13.223 | -4.724 | -20.231 | 10.526 |\n"
     ]
    },
    {
     "name": "stderr",
     "output_type": "stream",
     "text": [
      "[I 2024-10-09 11:44:52,545] Trial 329 finished with value: 1.1676300578034684 and parameters: {'lr': 0.00031876087764978517, 'collect_input': True, 'collect_hs': False, 'nb': 15, 'Htype': 'ether', 'flip_side': True, 'reduction': 25, 'β': 1.003082745205352, 'use_orth_loss': True, 'use_angle_loss': True, 'use_dpo_loss': False, 'use_nll_loss': True, 'weight_tokens': True, 'use_proj_rel': False}. Best is trial 24 with value: 1.183044315992293.\n"
     ]
    },
    {
     "name": "stdout",
     "output_type": "stream",
     "text": [
      "\n",
      "| acc_inc/eval_ds [pp]                                                                                                                                                                                         |   train |   test |    oos |    rnd |\n",
      "|:-------------------------------------------------------------------------------------------------------------------------------------------------------------------------------------------------------------|--------:|-------:|-------:|-------:|\n",
      "| ReprPO collect_input=True prefvec.use_nll_prefvec=True prefvec.use_orth_prefvec=True prefvec.weight_tokens=True prefvec.β=1 lr=0.00032 ether.Htype=ether ether.flip_side=True ether.nb=15 ether.reduction=25 |   2.479 |  0.787 | 16.763 | -1.754 |\n"
     ]
    },
    {
     "name": "stderr",
     "output_type": "stream",
     "text": [
      "[I 2024-10-09 11:48:10,838] Trial 330 finished with value: 1.1040462427745665 and parameters: {'lr': 0.0006530186512944275, 'collect_input': True, 'collect_hs': False, 'nb': 19, 'Htype': 'oft', 'flip_side': True, 'reduction': 7, 'β': 0.35007921079474935, 'use_orth_loss': False, 'use_angle_loss': True, 'use_dpo_loss': False, 'use_nll_loss': True, 'weight_tokens': True, 'use_proj_rel': False}. Best is trial 24 with value: 1.183044315992293.\n"
     ]
    },
    {
     "name": "stdout",
     "output_type": "stream",
     "text": [
      "\n",
      "| acc_inc/eval_ds [pp]                                                                                                                                                           |   train |   test |    oos |   rnd |\n",
      "|:-------------------------------------------------------------------------------------------------------------------------------------------------------------------------------|--------:|-------:|-------:|------:|\n",
      "| ReprPO collect_input=True prefvec.use_nll_prefvec=True prefvec.weight_tokens=True prefvec.β=0.35 lr=0.00065 ether.Htype=oft ether.flip_side=True ether.nb=19 ether.reduction=7 |       0 | -0.787 | 10.405 |     0 |\n"
     ]
    },
    {
     "name": "stderr",
     "output_type": "stream",
     "text": [
      "[I 2024-10-09 11:51:35,086] Trial 331 finished with value: 1.1387283236994221 and parameters: {'lr': 0.00021686073061603423, 'collect_input': True, 'collect_hs': False, 'nb': 21, 'Htype': 'ether', 'flip_side': True, 'reduction': 381, 'β': 1.3474356266709901, 'use_orth_loss': True, 'use_angle_loss': True, 'use_dpo_loss': True, 'use_nll_loss': False, 'weight_tokens': False, 'use_proj_rel': True}. Best is trial 24 with value: 1.183044315992293.\n"
     ]
    },
    {
     "name": "stdout",
     "output_type": "stream",
     "text": [
      "\n",
      "| acc_inc/eval_ds [pp]                                                                                                                                                                                           |   train |   test |    oos |    rnd |\n",
      "|:---------------------------------------------------------------------------------------------------------------------------------------------------------------------------------------------------------------|--------:|-------:|-------:|-------:|\n",
      "| ReprPO collect_input=True prefvec.use_dpo_prefvec=True prefvec.use_orth_prefvec=True prefvec.use_proj_rel=True prefvec.β=1.3 lr=0.00022 ether.Htype=ether ether.flip_side=True ether.nb=21 ether.reduction=381 |   4.959 |  0.787 | 13.873 | 12.281 |\n"
     ]
    },
    {
     "name": "stderr",
     "output_type": "stream",
     "text": [
      "[I 2024-10-09 11:54:54,028] Trial 332 finished with value: 1.1445086705202314 and parameters: {'lr': 0.0005198189284832605, 'collect_input': True, 'collect_hs': False, 'nb': 23, 'Htype': 'ether', 'flip_side': True, 'reduction': 291, 'β': 0.763769057123906, 'use_orth_loss': True, 'use_angle_loss': True, 'use_dpo_loss': False, 'use_nll_loss': True, 'weight_tokens': True, 'use_proj_rel': False}. Best is trial 24 with value: 1.183044315992293.\n"
     ]
    },
    {
     "name": "stdout",
     "output_type": "stream",
     "text": [
      "\n",
      "| acc_inc/eval_ds [pp]                                                                                                                                                                                             |   train |   test |    oos |    rnd |\n",
      "|:-----------------------------------------------------------------------------------------------------------------------------------------------------------------------------------------------------------------|--------:|-------:|-------:|-------:|\n",
      "| ReprPO collect_input=True prefvec.use_nll_prefvec=True prefvec.use_orth_prefvec=True prefvec.weight_tokens=True prefvec.β=0.76 lr=0.00052 ether.Htype=ether ether.flip_side=True ether.nb=23 ether.reduction=291 |   0.826 | -0.787 | 14.451 | -3.509 |\n"
     ]
    },
    {
     "name": "stderr",
     "output_type": "stream",
     "text": [
      "[I 2024-10-09 11:58:11,864] Trial 333 finished with value: 1.1734104046242777 and parameters: {'lr': 0.000377706015534228, 'collect_input': True, 'collect_hs': False, 'nb': 17, 'Htype': 'ether', 'flip_side': True, 'reduction': 48, 'β': 1.5617305629645457, 'use_orth_loss': False, 'use_angle_loss': True, 'use_dpo_loss': False, 'use_nll_loss': True, 'weight_tokens': True, 'use_proj_rel': False}. Best is trial 24 with value: 1.183044315992293.\n"
     ]
    },
    {
     "name": "stdout",
     "output_type": "stream",
     "text": [
      "\n",
      "| acc_inc/eval_ds [pp]                                                                                                                                                             |   train |   test |    oos |     rnd |\n",
      "|:---------------------------------------------------------------------------------------------------------------------------------------------------------------------------------|--------:|-------:|-------:|--------:|\n",
      "| ReprPO collect_input=True prefvec.use_nll_prefvec=True prefvec.weight_tokens=True prefvec.β=1.6 lr=0.00038 ether.Htype=ether ether.flip_side=True ether.nb=17 ether.reduction=48 |   3.306 |      0 | 17.341 | -10.526 |\n"
     ]
    },
    {
     "name": "stderr",
     "output_type": "stream",
     "text": [
      "[I 2024-10-09 12:01:28,013] Trial 334 finished with value: 1.1387283236994221 and parameters: {'lr': 0.0002739295388216522, 'collect_input': True, 'collect_hs': False, 'nb': 26, 'Htype': 'oft', 'flip_side': True, 'reduction': 447, 'β': 1.0732680513591866, 'use_orth_loss': True, 'use_angle_loss': True, 'use_dpo_loss': False, 'use_nll_loss': True, 'weight_tokens': True, 'use_proj_rel': False}. Best is trial 24 with value: 1.183044315992293.\n"
     ]
    },
    {
     "name": "stdout",
     "output_type": "stream",
     "text": [
      "\n",
      "| acc_inc/eval_ds [pp]                                                                                                                                                                                          |   train |   test |    oos |   rnd |\n",
      "|:--------------------------------------------------------------------------------------------------------------------------------------------------------------------------------------------------------------|--------:|-------:|-------:|------:|\n",
      "| ReprPO collect_input=True prefvec.use_nll_prefvec=True prefvec.use_orth_prefvec=True prefvec.weight_tokens=True prefvec.β=1.1 lr=0.00027 ether.Htype=oft ether.flip_side=True ether.nb=26 ether.reduction=447 |   0.826 |      0 | 13.873 | 1.754 |\n"
     ]
    },
    {
     "name": "stderr",
     "output_type": "stream",
     "text": [
      "[I 2024-10-09 12:04:54,645] Trial 335 finished with value: 1.1734104046242777 and parameters: {'lr': 0.00042122737380849884, 'collect_input': True, 'collect_hs': False, 'nb': 20, 'Htype': 'ether', 'flip_side': False, 'reduction': 1, 'β': 1.9840611378256998, 'use_orth_loss': True, 'use_angle_loss': True, 'use_dpo_loss': False, 'use_nll_loss': True, 'weight_tokens': True, 'use_proj_rel': True}. Best is trial 24 with value: 1.183044315992293.\n"
     ]
    },
    {
     "name": "stdout",
     "output_type": "stream",
     "text": [
      "\n",
      "| acc_inc/eval_ds [pp]                                                                                                                                                                                             |   train |   test |    oos |     rnd |\n",
      "|:-----------------------------------------------------------------------------------------------------------------------------------------------------------------------------------------------------------------|--------:|-------:|-------:|--------:|\n",
      "| ReprPO collect_input=True prefvec.use_nll_prefvec=True prefvec.use_orth_prefvec=True prefvec.use_proj_rel=True prefvec.weight_tokens=True prefvec.β=2 lr=0.00042 ether.Htype=ether ether.nb=20 ether.reduction=1 |   1.653 |      0 | 17.341 | -10.526 |\n"
     ]
    },
    {
     "name": "stderr",
     "output_type": "stream",
     "text": [
      "[W 2024-10-09 12:06:05,930] Trial 336 failed with parameters: {'lr': 0.0008497657674573626, 'collect_input': True, 'collect_hs': False, 'nb': 16, 'Htype': 'ether', 'flip_side': True, 'reduction': 336, 'β': 1.3007787941049302, 'use_orth_loss': True, 'use_angle_loss': True, 'use_dpo_loss': False, 'use_nll_loss': True, 'weight_tokens': True, 'use_proj_rel': False} because of the following error: NameError(\"name 'exit' is not defined\").\n",
      "Traceback (most recent call last):\n",
      "  File \"/workspace/repr-preference-optimization/.venv/lib/python3.11/site-packages/lightning/pytorch/trainer/call.py\", line 47, in _call_and_handle_interrupt\n",
      "    return trainer_fn(*args, **kwargs)\n",
      "           ^^^^^^^^^^^^^^^^^^^^^^^^^^^\n",
      "  File \"/workspace/repr-preference-optimization/.venv/lib/python3.11/site-packages/lightning/pytorch/trainer/trainer.py\", line 574, in _fit_impl\n",
      "    self._run(model, ckpt_path=ckpt_path)\n",
      "  File \"/workspace/repr-preference-optimization/.venv/lib/python3.11/site-packages/lightning/pytorch/trainer/trainer.py\", line 981, in _run\n",
      "    results = self._run_stage()\n",
      "              ^^^^^^^^^^^^^^^^^\n",
      "  File \"/workspace/repr-preference-optimization/.venv/lib/python3.11/site-packages/lightning/pytorch/trainer/trainer.py\", line 1025, in _run_stage\n",
      "    self.fit_loop.run()\n",
      "  File \"/workspace/repr-preference-optimization/.venv/lib/python3.11/site-packages/lightning/pytorch/loops/fit_loop.py\", line 205, in run\n",
      "    self.advance()\n",
      "  File \"/workspace/repr-preference-optimization/.venv/lib/python3.11/site-packages/lightning/pytorch/loops/fit_loop.py\", line 363, in advance\n",
      "    self.epoch_loop.run(self._data_fetcher)\n",
      "  File \"/workspace/repr-preference-optimization/.venv/lib/python3.11/site-packages/lightning/pytorch/loops/training_epoch_loop.py\", line 140, in run\n",
      "    self.advance(data_fetcher)\n",
      "  File \"/workspace/repr-preference-optimization/.venv/lib/python3.11/site-packages/lightning/pytorch/loops/training_epoch_loop.py\", line 250, in advance\n",
      "    batch_output = self.automatic_optimization.run(trainer.optimizers[0], batch_idx, kwargs)\n",
      "                   ^^^^^^^^^^^^^^^^^^^^^^^^^^^^^^^^^^^^^^^^^^^^^^^^^^^^^^^^^^^^^^^^^^^^^^^^^\n",
      "  File \"/workspace/repr-preference-optimization/.venv/lib/python3.11/site-packages/lightning/pytorch/loops/optimization/automatic.py\", line 190, in run\n",
      "    self._optimizer_step(batch_idx, closure)\n",
      "  File \"/workspace/repr-preference-optimization/.venv/lib/python3.11/site-packages/lightning/pytorch/loops/optimization/automatic.py\", line 268, in _optimizer_step\n",
      "    call._call_lightning_module_hook(\n",
      "  File \"/workspace/repr-preference-optimization/.venv/lib/python3.11/site-packages/lightning/pytorch/trainer/call.py\", line 167, in _call_lightning_module_hook\n",
      "    output = fn(*args, **kwargs)\n",
      "             ^^^^^^^^^^^^^^^^^^^\n",
      "  File \"/workspace/repr-preference-optimization/.venv/lib/python3.11/site-packages/lightning/pytorch/core/module.py\", line 1306, in optimizer_step\n",
      "    optimizer.step(closure=optimizer_closure)\n",
      "  File \"/workspace/repr-preference-optimization/.venv/lib/python3.11/site-packages/lightning/pytorch/core/optimizer.py\", line 153, in step\n",
      "    step_output = self._strategy.optimizer_step(self._optimizer, closure, **kwargs)\n",
      "                  ^^^^^^^^^^^^^^^^^^^^^^^^^^^^^^^^^^^^^^^^^^^^^^^^^^^^^^^^^^^^^^^^^\n",
      "  File \"/workspace/repr-preference-optimization/.venv/lib/python3.11/site-packages/lightning/pytorch/strategies/strategy.py\", line 238, in optimizer_step\n",
      "    return self.precision_plugin.optimizer_step(optimizer, model=model, closure=closure, **kwargs)\n",
      "           ^^^^^^^^^^^^^^^^^^^^^^^^^^^^^^^^^^^^^^^^^^^^^^^^^^^^^^^^^^^^^^^^^^^^^^^^^^^^^^^^^^^^^^^\n",
      "  File \"/workspace/repr-preference-optimization/.venv/lib/python3.11/site-packages/lightning/pytorch/plugins/precision/amp.py\", line 75, in optimizer_step\n",
      "    return super().optimizer_step(optimizer, model=model, closure=closure, **kwargs)\n",
      "           ^^^^^^^^^^^^^^^^^^^^^^^^^^^^^^^^^^^^^^^^^^^^^^^^^^^^^^^^^^^^^^^^^^^^^^^^^\n",
      "  File \"/workspace/repr-preference-optimization/.venv/lib/python3.11/site-packages/lightning/pytorch/plugins/precision/precision.py\", line 122, in optimizer_step\n",
      "    return optimizer.step(closure=closure, **kwargs)\n",
      "           ^^^^^^^^^^^^^^^^^^^^^^^^^^^^^^^^^^^^^^^^^\n",
      "  File \"/workspace/repr-preference-optimization/.venv/lib/python3.11/site-packages/torch/optim/lr_scheduler.py\", line 130, in wrapper\n",
      "    return func.__get__(opt, opt.__class__)(*args, **kwargs)\n",
      "           ^^^^^^^^^^^^^^^^^^^^^^^^^^^^^^^^^^^^^^^^^^^^^^^^^\n",
      "  File \"/workspace/repr-preference-optimization/.venv/lib/python3.11/site-packages/torch/optim/optimizer.py\", line 484, in wrapper\n",
      "    out = func(*args, **kwargs)\n",
      "          ^^^^^^^^^^^^^^^^^^^^^\n",
      "  File \"/workspace/repr-preference-optimization/.venv/lib/python3.11/site-packages/torch/utils/_contextlib.py\", line 116, in decorate_context\n",
      "    return func(*args, **kwargs)\n",
      "           ^^^^^^^^^^^^^^^^^^^^^\n",
      "  File \"/workspace/repr-preference-optimization/.venv/lib/python3.11/site-packages/bitsandbytes/optim/optimizer.py\", line 268, in step\n",
      "    loss = closure()\n",
      "           ^^^^^^^^^\n",
      "  File \"/workspace/repr-preference-optimization/.venv/lib/python3.11/site-packages/lightning/pytorch/plugins/precision/precision.py\", line 108, in _wrap_closure\n",
      "    closure_result = closure()\n",
      "                     ^^^^^^^^^\n",
      "  File \"/workspace/repr-preference-optimization/.venv/lib/python3.11/site-packages/lightning/pytorch/loops/optimization/automatic.py\", line 144, in __call__\n",
      "    self._result = self.closure(*args, **kwargs)\n",
      "                   ^^^^^^^^^^^^^^^^^^^^^^^^^^^^^\n",
      "  File \"/workspace/repr-preference-optimization/.venv/lib/python3.11/site-packages/torch/utils/_contextlib.py\", line 116, in decorate_context\n",
      "    return func(*args, **kwargs)\n",
      "           ^^^^^^^^^^^^^^^^^^^^^\n",
      "  File \"/workspace/repr-preference-optimization/.venv/lib/python3.11/site-packages/lightning/pytorch/loops/optimization/automatic.py\", line 129, in closure\n",
      "    step_output = self._step_fn()\n",
      "                  ^^^^^^^^^^^^^^^\n",
      "  File \"/workspace/repr-preference-optimization/.venv/lib/python3.11/site-packages/lightning/pytorch/loops/optimization/automatic.py\", line 317, in _training_step\n",
      "    training_step_output = call._call_strategy_hook(trainer, \"training_step\", *kwargs.values())\n",
      "                           ^^^^^^^^^^^^^^^^^^^^^^^^^^^^^^^^^^^^^^^^^^^^^^^^^^^^^^^^^^^^^^^^^^^^\n",
      "  File \"/workspace/repr-preference-optimization/.venv/lib/python3.11/site-packages/lightning/pytorch/trainer/call.py\", line 319, in _call_strategy_hook\n",
      "    output = fn(*args, **kwargs)\n",
      "             ^^^^^^^^^^^^^^^^^^^\n",
      "  File \"/workspace/repr-preference-optimization/.venv/lib/python3.11/site-packages/lightning/pytorch/strategies/strategy.py\", line 390, in training_step\n",
      "    return self.lightning_module.training_step(*args, **kwargs)\n",
      "           ^^^^^^^^^^^^^^^^^^^^^^^^^^^^^^^^^^^^^^^^^^^^^^^^^^^^\n",
      "  File \"/workspace/repr-preference-optimization/reprpo/interventions/pl_base.py\", line 59, in training_step\n",
      "    return self._shared_step(batch, batch_idx, phase=\"train\")\n",
      "           ^^^^^^^^^^^^^^^^^^^^^^^^^^^^^^^^^^^^^^^^^^^^^^^^^^\n",
      "  File \"/workspace/repr-preference-optimization/reprpo/interventions/pl_base.py\", line 37, in _shared_step\n",
      "    loss, info = self._loss_fn(batch, self._model)\n",
      "                 ^^^^^^^^^^^^^^^^^^^^^^^^^^^^^^^^^\n",
      "  File \"/workspace/repr-preference-optimization/reprpo/interventions/reprpo/model.py\", line 145, in _loss_fn\n",
      "    ref_rej = reprpo_forward_baukit(\n",
      "              ^^^^^^^^^^^^^^^^^^^^^^\n",
      "  File \"/workspace/repr-preference-optimization/reprpo/interventions/reprpo/model.py\", line 40, in reprpo_forward_baukit\n",
      "    outs = model(\n",
      "           ^^^^^^\n",
      "  File \"/workspace/repr-preference-optimization/.venv/lib/python3.11/site-packages/torch/nn/modules/module.py\", line 1553, in _wrapped_call_impl\n",
      "    return self._call_impl(*args, **kwargs)\n",
      "           ^^^^^^^^^^^^^^^^^^^^^^^^^^^^^^^^\n",
      "  File \"/workspace/repr-preference-optimization/.venv/lib/python3.11/site-packages/torch/nn/modules/module.py\", line 1562, in _call_impl\n",
      "    return forward_call(*args, **kwargs)\n",
      "           ^^^^^^^^^^^^^^^^^^^^^^^^^^^^^\n",
      "  File \"/workspace/repr-preference-optimization/.venv/lib/python3.11/site-packages/peft/peft_model.py\", line 1577, in forward\n",
      "    return self.base_model(\n",
      "           ^^^^^^^^^^^^^^^^\n",
      "  File \"/workspace/repr-preference-optimization/.venv/lib/python3.11/site-packages/torch/nn/modules/module.py\", line 1553, in _wrapped_call_impl\n",
      "    return self._call_impl(*args, **kwargs)\n",
      "           ^^^^^^^^^^^^^^^^^^^^^^^^^^^^^^^^\n",
      "  File \"/workspace/repr-preference-optimization/.venv/lib/python3.11/site-packages/torch/nn/modules/module.py\", line 1562, in _call_impl\n",
      "    return forward_call(*args, **kwargs)\n",
      "           ^^^^^^^^^^^^^^^^^^^^^^^^^^^^^\n",
      "  File \"/workspace/repr-preference-optimization/.venv/lib/python3.11/site-packages/peft/tuners/tuners_utils.py\", line 188, in forward\n",
      "    return self.model.forward(*args, **kwargs)\n",
      "           ^^^^^^^^^^^^^^^^^^^^^^^^^^^^^^^^^^^\n",
      "  File \"/workspace/repr-preference-optimization/.venv/lib/python3.11/site-packages/transformers/models/llama/modeling_llama.py\", line 1189, in forward\n",
      "    outputs = self.model(\n",
      "              ^^^^^^^^^^^\n",
      "  File \"/workspace/repr-preference-optimization/.venv/lib/python3.11/site-packages/torch/nn/modules/module.py\", line 1553, in _wrapped_call_impl\n",
      "    return self._call_impl(*args, **kwargs)\n",
      "           ^^^^^^^^^^^^^^^^^^^^^^^^^^^^^^^^\n",
      "  File \"/workspace/repr-preference-optimization/.venv/lib/python3.11/site-packages/torch/nn/modules/module.py\", line 1562, in _call_impl\n",
      "    return forward_call(*args, **kwargs)\n",
      "           ^^^^^^^^^^^^^^^^^^^^^^^^^^^^^\n",
      "  File \"/workspace/repr-preference-optimization/.venv/lib/python3.11/site-packages/transformers/models/llama/modeling_llama.py\", line 1000, in forward\n",
      "    layer_outputs = decoder_layer(\n",
      "                    ^^^^^^^^^^^^^^\n",
      "  File \"/workspace/repr-preference-optimization/.venv/lib/python3.11/site-packages/torch/nn/modules/module.py\", line 1553, in _wrapped_call_impl\n",
      "    return self._call_impl(*args, **kwargs)\n",
      "           ^^^^^^^^^^^^^^^^^^^^^^^^^^^^^^^^\n",
      "  File \"/workspace/repr-preference-optimization/.venv/lib/python3.11/site-packages/torch/nn/modules/module.py\", line 1562, in _call_impl\n",
      "    return forward_call(*args, **kwargs)\n",
      "           ^^^^^^^^^^^^^^^^^^^^^^^^^^^^^\n",
      "  File \"/workspace/repr-preference-optimization/.venv/lib/python3.11/site-packages/transformers/models/llama/modeling_llama.py\", line 729, in forward\n",
      "    hidden_states, self_attn_weights, present_key_value = self.self_attn(\n",
      "                                                          ^^^^^^^^^^^^^^^\n",
      "  File \"/workspace/repr-preference-optimization/.venv/lib/python3.11/site-packages/torch/nn/modules/module.py\", line 1553, in _wrapped_call_impl\n",
      "    return self._call_impl(*args, **kwargs)\n",
      "           ^^^^^^^^^^^^^^^^^^^^^^^^^^^^^^^^\n",
      "  File \"/workspace/repr-preference-optimization/.venv/lib/python3.11/site-packages/torch/nn/modules/module.py\", line 1562, in _call_impl\n",
      "    return forward_call(*args, **kwargs)\n",
      "           ^^^^^^^^^^^^^^^^^^^^^^^^^^^^^\n",
      "  File \"/workspace/repr-preference-optimization/.venv/lib/python3.11/site-packages/transformers/models/llama/modeling_llama.py\", line 551, in forward\n",
      "    attn_output = _flash_attention_forward(\n",
      "                  ^^^^^^^^^^^^^^^^^^^^^^^^^\n",
      "  File \"/workspace/repr-preference-optimization/.venv/lib/python3.11/site-packages/transformers/modeling_flash_attention_utils.py\", line 265, in _flash_attention_forward\n",
      "    attn_output = pad_input(attn_output_unpad, indices_q, batch_size, query_length)\n",
      "                  ^^^^^^^^^^^^^^^^^^^^^^^^^^^^^^^^^^^^^^^^^^^^^^^^^^^^^^^^^^^^^^^^^\n",
      "  File \"/workspace/repr-preference-optimization/.venv/lib/python3.11/site-packages/flash_attn/bert_padding.py\", line 212, in pad_input\n",
      "    output = index_put_first_axis(hidden_states, indices, batch * seqlen)\n",
      "             ^^^^^^^^^^^^^^^^^^^^^^^^^^^^^^^^^^^^^^^^^^^^^^^^^^^^^^^^^^^^\n",
      "  File \"/workspace/repr-preference-optimization/.venv/lib/python3.11/site-packages/torch/autograd/function.py\", line 558, in apply\n",
      "    @classmethod\n",
      "    \n",
      "KeyboardInterrupt\n",
      "\n",
      "During handling of the above exception, another exception occurred:\n",
      "\n",
      "Traceback (most recent call last):\n",
      "  File \"/workspace/repr-preference-optimization/.venv/lib/python3.11/site-packages/optuna/study/_optimize.py\", line 197, in _run_trial\n",
      "    value_or_values = func(trial)\n",
      "                      ^^^^^^^^^^^\n",
      "  File \"/workspace/repr-preference-optimization/reprpo/hp/target.py\", line 91, in objective\n",
      "    r = objective_func(kwargs, trial, starter_experiment_name)\n",
      "        ^^^^^^^^^^^^^^^^^^^^^^^^^^^^^^^^^^^^^^^^^^^^^^^^^^^^^^\n",
      "  File \"/workspace/repr-preference-optimization/reprpo/hp/target.py\", line 86, in objective_func\n",
      "    r = train(cfg, trial=trial)\n",
      "        ^^^^^^^^^^^^^^^^^^^^^^^\n",
      "  File \"/workspace/repr-preference-optimization/reprpo/training.py\", line 349, in train\n",
      "    trainer.fit(pl_model, dl_train, dl_val)\n",
      "  File \"/workspace/repr-preference-optimization/.venv/lib/python3.11/site-packages/lightning/pytorch/trainer/trainer.py\", line 538, in fit\n",
      "    call._call_and_handle_interrupt(\n",
      "  File \"/workspace/repr-preference-optimization/.venv/lib/python3.11/site-packages/lightning/pytorch/trainer/call.py\", line 64, in _call_and_handle_interrupt\n",
      "    exit(1)\n",
      "    ^^^^\n",
      "NameError: name 'exit' is not defined\n",
      "[W 2024-10-09 12:06:06,089] Trial 336 failed with value None.\n",
      "\u001b[31m\u001b[1mname 'exit' is not defined\u001b[0m\n",
      "\u001b[33m\u001b[1mTraceback (most recent call last):\u001b[0m\n",
      "\n",
      "  File \"/workspace/repr-preference-optimization/.venv/lib/python3.11/site-packages/lightning/pytorch/trainer/call.py\", line 47, in _call_and_handle_interrupt\n",
      "    return trainer_fn(*args, **kwargs)\n",
      "           │           │       └ {}\n",
      "           │           └ (PL_REPRPO_MODEL(\n",
      "           │               (_model): PeftModelForCausalLM(\n",
      "           │                 (base_model): LoraModel(\n",
      "           │                   (model): LlamaForCausalLM(\n",
      "           │                     (mo...\n",
      "           └ <bound method Trainer._fit_impl of <lightning.pytorch.trainer.trainer.Trainer object at 0x769b859c6bd0>>\n",
      "  File \"/workspace/repr-preference-optimization/.venv/lib/python3.11/site-packages/lightning/pytorch/trainer/trainer.py\", line 574, in _fit_impl\n",
      "    self._run(model, ckpt_path=ckpt_path)\n",
      "    │    │    │                └ None\n",
      "    │    │    └ PL_REPRPO_MODEL(\n",
      "    │    │        (_model): PeftModelForCausalLM(\n",
      "    │    │          (base_model): LoraModel(\n",
      "    │    │            (model): LlamaForCausalLM(\n",
      "    │    │              (mod...\n",
      "    │    └ <function Trainer._run at 0x769c184f5620>\n",
      "    └ <lightning.pytorch.trainer.trainer.Trainer object at 0x769b859c6bd0>\n",
      "  File \"/workspace/repr-preference-optimization/.venv/lib/python3.11/site-packages/lightning/pytorch/trainer/trainer.py\", line 981, in _run\n",
      "    results = self._run_stage()\n",
      "              │    └ <function Trainer._run_stage at 0x769c184f5760>\n",
      "              └ <lightning.pytorch.trainer.trainer.Trainer object at 0x769b859c6bd0>\n",
      "  File \"/workspace/repr-preference-optimization/.venv/lib/python3.11/site-packages/lightning/pytorch/trainer/trainer.py\", line 1025, in _run_stage\n",
      "    self.fit_loop.run()\n",
      "    │    │        └ <function _FitLoop.run at 0x769c184ac540>\n",
      "    │    └ <lightning.pytorch.loops.fit_loop._FitLoop object at 0x769b859c7250>\n",
      "    └ <lightning.pytorch.trainer.trainer.Trainer object at 0x769b859c6bd0>\n",
      "  File \"/workspace/repr-preference-optimization/.venv/lib/python3.11/site-packages/lightning/pytorch/loops/fit_loop.py\", line 205, in run\n",
      "    self.advance()\n",
      "    │    └ <function _FitLoop.advance at 0x769c184ac860>\n",
      "    └ <lightning.pytorch.loops.fit_loop._FitLoop object at 0x769b859c7250>\n",
      "  File \"/workspace/repr-preference-optimization/.venv/lib/python3.11/site-packages/lightning/pytorch/loops/fit_loop.py\", line 363, in advance\n",
      "    self.epoch_loop.run(self._data_fetcher)\n",
      "    │    │          │   │    └ None\n",
      "    │    │          │   └ <lightning.pytorch.loops.fit_loop._FitLoop object at 0x769b859c7250>\n",
      "    │    │          └ <function _TrainingEpochLoop.run at 0x769c18493100>\n",
      "    │    └ <lightning.pytorch.loops.training_epoch_loop._TrainingEpochLoop object at 0x769b859c4810>\n",
      "    └ <lightning.pytorch.loops.fit_loop._FitLoop object at 0x769b859c7250>\n",
      "  File \"/workspace/repr-preference-optimization/.venv/lib/python3.11/site-packages/lightning/pytorch/loops/training_epoch_loop.py\", line 140, in run\n",
      "    self.advance(data_fetcher)\n",
      "    │    │       └ <lightning.pytorch.loops.fetchers._PrefetchDataFetcher object at 0x769bc8481c90>\n",
      "    │    └ <function _TrainingEpochLoop.advance at 0x769c18493420>\n",
      "    └ <lightning.pytorch.loops.training_epoch_loop._TrainingEpochLoop object at 0x769b859c4810>\n",
      "  File \"/workspace/repr-preference-optimization/.venv/lib/python3.11/site-packages/lightning/pytorch/loops/training_epoch_loop.py\", line 250, in advance\n",
      "    batch_output = self.automatic_optimization.run(trainer.optimizers[0], batch_idx, kwargs)\n",
      "                   │    │                      │   │       │              │          └ OrderedDict([('batch', {'chosen': tensor([[ 39314,    374,    459,  ..., 128001, 128001, 128001],\n",
      "                   │    │                      │   │       │              │                    [ 39314,    374,   ...\n",
      "                   │    │                      │   │       │              └ 10\n",
      "                   │    │                      │   │       └ <property object at 0x769c184ed9e0>\n",
      "                   │    │                      │   └ <lightning.pytorch.trainer.trainer.Trainer object at 0x769b859c6bd0>\n",
      "                   │    │                      └ <function _AutomaticOptimization.run at 0x769c184920c0>\n",
      "                   │    └ <lightning.pytorch.loops.optimization.automatic._AutomaticOptimization object at 0x769b859c6c10>\n",
      "                   └ <lightning.pytorch.loops.training_epoch_loop._TrainingEpochLoop object at 0x769b859c4810>\n",
      "  File \"/workspace/repr-preference-optimization/.venv/lib/python3.11/site-packages/lightning/pytorch/loops/optimization/automatic.py\", line 190, in run\n",
      "    self._optimizer_step(batch_idx, closure)\n",
      "    │    │               │          └ <lightning.pytorch.loops.optimization.automatic.Closure object at 0x769bb85b55d0>\n",
      "    │    │               └ 10\n",
      "    │    └ <function _AutomaticOptimization._optimizer_step at 0x769c184923e0>\n",
      "    └ <lightning.pytorch.loops.optimization.automatic._AutomaticOptimization object at 0x769b859c6c10>\n",
      "  File \"/workspace/repr-preference-optimization/.venv/lib/python3.11/site-packages/lightning/pytorch/loops/optimization/automatic.py\", line 268, in _optimizer_step\n",
      "    call._call_lightning_module_hook(\n",
      "    │    └ <function _call_lightning_module_hook at 0x769c185d3920>\n",
      "    └ <module 'lightning.pytorch.trainer.call' from '/workspace/repr-preference-optimization/.venv/lib/python3.11/site-packages/lig...\n",
      "  File \"/workspace/repr-preference-optimization/.venv/lib/python3.11/site-packages/lightning/pytorch/trainer/call.py\", line 167, in _call_lightning_module_hook\n",
      "    output = fn(*args, **kwargs)\n",
      "             │   │       └ {}\n",
      "             │   └ (1, 10, LightningPagedAdam32bit (\n",
      "             │     Parameter Group 0\n",
      "             │         betas: (0.9, 0.999)\n",
      "             │         eps: 1e-08\n",
      "             │         initial_lr: 0.0008497657674573...\n",
      "             └ <bound method LightningModule.optimizer_step of PL_REPRPO_MODEL(\n",
      "                 (_model): PeftModelForCausalLM(\n",
      "                   (base_model): LoraMode...\n",
      "  File \"/workspace/repr-preference-optimization/.venv/lib/python3.11/site-packages/lightning/pytorch/core/module.py\", line 1306, in optimizer_step\n",
      "    optimizer.step(closure=optimizer_closure)\n",
      "    │         │            └ <lightning.pytorch.loops.optimization.automatic.Closure object at 0x769bb85b55d0>\n",
      "    │         └ <function LightningOptimizer.step at 0x769c187019e0>\n",
      "    └ LightningPagedAdam32bit (\n",
      "      Parameter Group 0\n",
      "          betas: (0.9, 0.999)\n",
      "          eps: 1e-08\n",
      "          initial_lr: 0.0008497657674573626\n",
      "          ...\n",
      "  File \"/workspace/repr-preference-optimization/.venv/lib/python3.11/site-packages/lightning/pytorch/core/optimizer.py\", line 153, in step\n",
      "    step_output = self._strategy.optimizer_step(self._optimizer, closure, **kwargs)\n",
      "                  │    │                        │    │           │          └ {}\n",
      "                  │    │                        │    │           └ <lightning.pytorch.loops.optimization.automatic.Closure object at 0x769bb85b55d0>\n",
      "                  │    │                        │    └ PagedAdam32bit (\n",
      "                  │    │                        │      Parameter Group 0\n",
      "                  │    │                        │          betas: (0.9, 0.999)\n",
      "                  │    │                        │          eps: 1e-08\n",
      "                  │    │                        │          initial_lr: 0.0008497657674573626\n",
      "                  │    │                        │          lr: 0.000...\n",
      "                  │    │                        └ LightningPagedAdam32bit (\n",
      "                  │    │                          Parameter Group 0\n",
      "                  │    │                              betas: (0.9, 0.999)\n",
      "                  │    │                              eps: 1e-08\n",
      "                  │    │                              initial_lr: 0.0008497657674573626\n",
      "                  │    │                              ...\n",
      "                  │    └ <weakproxy at 0x769bb8421d00 to SingleDeviceStrategy at 0x769b859c7fd0>\n",
      "                  └ LightningPagedAdam32bit (\n",
      "                    Parameter Group 0\n",
      "                        betas: (0.9, 0.999)\n",
      "                        eps: 1e-08\n",
      "                        initial_lr: 0.0008497657674573626\n",
      "                        ...\n",
      "  File \"/workspace/repr-preference-optimization/.venv/lib/python3.11/site-packages/lightning/pytorch/strategies/strategy.py\", line 238, in optimizer_step\n",
      "    return self.precision_plugin.optimizer_step(optimizer, model=model, closure=closure, **kwargs)\n",
      "           │    │                               │                │              │          └ {}\n",
      "           │    │                               │                │              └ <lightning.pytorch.loops.optimization.automatic.Closure object at 0x769bb85b55d0>\n",
      "           │    │                               │                └ PL_REPRPO_MODEL(\n",
      "           │    │                               │                    (_model): PeftModelForCausalLM(\n",
      "           │    │                               │                      (base_model): LoraModel(\n",
      "           │    │                               │                        (model): LlamaForCausalLM(\n",
      "           │    │                               │                          (mod...\n",
      "           │    │                               └ PagedAdam32bit (\n",
      "           │    │                                 Parameter Group 0\n",
      "           │    │                                     betas: (0.9, 0.999)\n",
      "           │    │                                     eps: 1e-08\n",
      "           │    │                                     initial_lr: 0.0008497657674573626\n",
      "           │    │                                     lr: 0.000...\n",
      "           │    └ <property object at 0x769c1860f4c0>\n",
      "           └ <lightning.pytorch.strategies.single_device.SingleDeviceStrategy object at 0x769b859c7fd0>\n",
      "  File \"/workspace/repr-preference-optimization/.venv/lib/python3.11/site-packages/lightning/pytorch/plugins/precision/amp.py\", line 75, in optimizer_step\n",
      "    return super().optimizer_step(optimizer, model=model, closure=closure, **kwargs)\n",
      "                                  │                │              │          └ {}\n",
      "                                  │                │              └ <lightning.pytorch.loops.optimization.automatic.Closure object at 0x769bb85b55d0>\n",
      "                                  │                └ PL_REPRPO_MODEL(\n",
      "                                  │                    (_model): PeftModelForCausalLM(\n",
      "                                  │                      (base_model): LoraModel(\n",
      "                                  │                        (model): LlamaForCausalLM(\n",
      "                                  │                          (mod...\n",
      "                                  └ PagedAdam32bit (\n",
      "                                    Parameter Group 0\n",
      "                                        betas: (0.9, 0.999)\n",
      "                                        eps: 1e-08\n",
      "                                        initial_lr: 0.0008497657674573626\n",
      "                                        lr: 0.000...\n",
      "  File \"/workspace/repr-preference-optimization/.venv/lib/python3.11/site-packages/lightning/pytorch/plugins/precision/precision.py\", line 122, in optimizer_step\n",
      "    return optimizer.step(closure=closure, **kwargs)\n",
      "           │         │            │          └ {}\n",
      "           │         │            └ functools.partial(<bound method Precision._wrap_closure of <lightning.pytorch.plugins.precision.amp.MixedPrecision object at ...\n",
      "           │         └ <function LRScheduler.__init__.<locals>.patch_track_step_called.<locals>.wrap_step.<locals>.wrapper at 0x769bc21ba200>\n",
      "           └ PagedAdam32bit (\n",
      "             Parameter Group 0\n",
      "                 betas: (0.9, 0.999)\n",
      "                 eps: 1e-08\n",
      "                 initial_lr: 0.0008497657674573626\n",
      "                 lr: 0.000...\n",
      "  File \"/workspace/repr-preference-optimization/.venv/lib/python3.11/site-packages/torch/optim/lr_scheduler.py\", line 130, in wrapper\n",
      "    return func.__get__(opt, opt.__class__)(*args, **kwargs)\n",
      "           │    │       │    │   │           │       └ {'closure': functools.partial(<bound method Precision._wrap_closure of <lightning.pytorch.plugins.precision.amp.MixedPrecisio...\n",
      "           │    │       │    │   │           └ ()\n",
      "           │    │       │    │   └ <attribute '__class__' of 'object' objects>\n",
      "           │    │       │    └ PagedAdam32bit (\n",
      "           │    │       │      Parameter Group 0\n",
      "           │    │       │          betas: (0.9, 0.999)\n",
      "           │    │       │          eps: 1e-08\n",
      "           │    │       │          initial_lr: 0.0008497657674573626\n",
      "           │    │       │          lr: 0.000...\n",
      "           │    │       └ PagedAdam32bit (\n",
      "           │    │         Parameter Group 0\n",
      "           │    │             betas: (0.9, 0.999)\n",
      "           │    │             eps: 1e-08\n",
      "           │    │             initial_lr: 0.0008497657674573626\n",
      "           │    │             lr: 0.000...\n",
      "           │    └ <slot wrapper '__get__' of 'function' objects>\n",
      "           └ <function Optimizer8bit.step at 0x769bc84099e0>\n",
      "  File \"/workspace/repr-preference-optimization/.venv/lib/python3.11/site-packages/torch/optim/optimizer.py\", line 484, in wrapper\n",
      "    out = func(*args, **kwargs)\n",
      "          │     │       └ {'closure': functools.partial(<bound method Precision._wrap_closure of <lightning.pytorch.plugins.precision.amp.MixedPrecisio...\n",
      "          │     └ (PagedAdam32bit (\n",
      "          │       Parameter Group 0\n",
      "          │           betas: (0.9, 0.999)\n",
      "          │           eps: 1e-08\n",
      "          │           initial_lr: 0.0008497657674573626\n",
      "          │           lr: 0.00...\n",
      "          └ <function Optimizer8bit.step at 0x769c07ce3ce0>\n",
      "  File \"/workspace/repr-preference-optimization/.venv/lib/python3.11/site-packages/torch/utils/_contextlib.py\", line 116, in decorate_context\n",
      "    return func(*args, **kwargs)\n",
      "           │     │       └ {'closure': functools.partial(<bound method Precision._wrap_closure of <lightning.pytorch.plugins.precision.amp.MixedPrecisio...\n",
      "           │     └ (PagedAdam32bit (\n",
      "           │       Parameter Group 0\n",
      "           │           betas: (0.9, 0.999)\n",
      "           │           eps: 1e-08\n",
      "           │           initial_lr: 0.0008497657674573626\n",
      "           │           lr: 0.00...\n",
      "           └ <function Optimizer8bit.step at 0x769c07ce3c40>\n",
      "  File \"/workspace/repr-preference-optimization/.venv/lib/python3.11/site-packages/bitsandbytes/optim/optimizer.py\", line 268, in step\n",
      "    loss = closure()\n",
      "           └ functools.partial(<bound method Precision._wrap_closure of <lightning.pytorch.plugins.precision.amp.MixedPrecision object at ...\n",
      "  File \"/workspace/repr-preference-optimization/.venv/lib/python3.11/site-packages/lightning/pytorch/plugins/precision/precision.py\", line 108, in _wrap_closure\n",
      "    closure_result = closure()\n",
      "                     └ <lightning.pytorch.loops.optimization.automatic.Closure object at 0x769bb85b55d0>\n",
      "  File \"/workspace/repr-preference-optimization/.venv/lib/python3.11/site-packages/lightning/pytorch/loops/optimization/automatic.py\", line 144, in __call__\n",
      "    self._result = self.closure(*args, **kwargs)\n",
      "    │    │         │    │        │       └ {}\n",
      "    │    │         │    │        └ ()\n",
      "    │    │         │    └ <function Closure.closure at 0x769c18491e40>\n",
      "    │    │         └ <lightning.pytorch.loops.optimization.automatic.Closure object at 0x769bb85b55d0>\n",
      "    │    └ None\n",
      "    └ <lightning.pytorch.loops.optimization.automatic.Closure object at 0x769bb85b55d0>\n",
      "  File \"/workspace/repr-preference-optimization/.venv/lib/python3.11/site-packages/torch/utils/_contextlib.py\", line 116, in decorate_context\n",
      "    return func(*args, **kwargs)\n",
      "           │     │       └ {}\n",
      "           │     └ (<lightning.pytorch.loops.optimization.automatic.Closure object at 0x769bb85b55d0>,)\n",
      "           └ <function Closure.closure at 0x769c18491da0>\n",
      "  File \"/workspace/repr-preference-optimization/.venv/lib/python3.11/site-packages/lightning/pytorch/loops/optimization/automatic.py\", line 129, in closure\n",
      "    step_output = self._step_fn()\n",
      "                  │    └ functools.partial(<bound method _AutomaticOptimization._training_step of <lightning.pytorch.loops.optimization.automatic._Aut...\n",
      "                  └ <lightning.pytorch.loops.optimization.automatic.Closure object at 0x769bb85b55d0>\n",
      "  File \"/workspace/repr-preference-optimization/.venv/lib/python3.11/site-packages/lightning/pytorch/loops/optimization/automatic.py\", line 317, in _training_step\n",
      "    training_step_output = call._call_strategy_hook(trainer, \"training_step\", *kwargs.values())\n",
      "                           │    │                   │                          │      └ <method 'values' of 'collections.OrderedDict' objects>\n",
      "                           │    │                   │                          └ OrderedDict([('batch', {'chosen': tensor([[ 39314,    374,    459,  ..., 128001, 128001, 128001],\n",
      "                           │    │                   │                                    [ 39314,    374,   ...\n",
      "                           │    │                   └ <lightning.pytorch.trainer.trainer.Trainer object at 0x769b859c6bd0>\n",
      "                           │    └ <function _call_strategy_hook at 0x769c185d3ce0>\n",
      "                           └ <module 'lightning.pytorch.trainer.call' from '/workspace/repr-preference-optimization/.venv/lib/python3.11/site-packages/lig...\n",
      "  File \"/workspace/repr-preference-optimization/.venv/lib/python3.11/site-packages/lightning/pytorch/trainer/call.py\", line 319, in _call_strategy_hook\n",
      "    output = fn(*args, **kwargs)\n",
      "             │   │       └ {}\n",
      "             │   └ ({'chosen': tensor([[ 39314,    374,    459,  ..., 128001, 128001, 128001],\n",
      "             │             [ 39314,    374,    459,  ..., 128001, 12...\n",
      "             └ <bound method Strategy.training_step of <lightning.pytorch.strategies.single_device.SingleDeviceStrategy object at 0x769b859c...\n",
      "  File \"/workspace/repr-preference-optimization/.venv/lib/python3.11/site-packages/lightning/pytorch/strategies/strategy.py\", line 390, in training_step\n",
      "    return self.lightning_module.training_step(*args, **kwargs)\n",
      "           │    │                               │       └ {}\n",
      "           │    │                               └ ({'chosen': tensor([[ 39314,    374,    459,  ..., 128001, 128001, 128001],\n",
      "           │    │                                         [ 39314,    374,    459,  ..., 128001, 12...\n",
      "           │    └ <property object at 0x769c1860f790>\n",
      "           └ <lightning.pytorch.strategies.single_device.SingleDeviceStrategy object at 0x769b859c7fd0>\n",
      "\n",
      "  File \"\u001b[32m/workspace/repr-preference-optimization/reprpo/interventions/\u001b[0m\u001b[32m\u001b[1mpl_base.py\u001b[0m\", line \u001b[33m59\u001b[0m, in \u001b[35mtraining_step\u001b[0m\n",
      "    \u001b[35m\u001b[1mreturn\u001b[0m \u001b[1mself\u001b[0m\u001b[35m\u001b[1m.\u001b[0m\u001b[1m_shared_step\u001b[0m\u001b[1m(\u001b[0m\u001b[1mbatch\u001b[0m\u001b[1m,\u001b[0m \u001b[1mbatch_idx\u001b[0m\u001b[1m,\u001b[0m \u001b[1mphase\u001b[0m\u001b[35m\u001b[1m=\u001b[0m\u001b[36m\"train\"\u001b[0m\u001b[1m)\u001b[0m\n",
      "    \u001b[36m       │    │            │      └ \u001b[0m\u001b[36m\u001b[1m10\u001b[0m\n",
      "    \u001b[36m       │    │            └ \u001b[0m\u001b[36m\u001b[1m{'chosen': tensor([[ 39314,    374,    459,  ..., 128001, 128001, 128001],\u001b[0m\n",
      "    \u001b[36m       │    │              \u001b[0m\u001b[36m\u001b[1m        [ 39314,    374,    459,  ..., 128001, 128...\u001b[0m\n",
      "    \u001b[36m       │    └ \u001b[0m\u001b[36m\u001b[1m<function PL_MODEL._shared_step at 0x769c061147c0>\u001b[0m\n",
      "    \u001b[36m       └ \u001b[0m\u001b[36m\u001b[1mPL_REPRPO_MODEL(\u001b[0m\n",
      "    \u001b[36m         \u001b[0m\u001b[36m\u001b[1m  (_model): PeftModelForCausalLM(\u001b[0m\n",
      "    \u001b[36m         \u001b[0m\u001b[36m\u001b[1m    (base_model): LoraModel(\u001b[0m\n",
      "    \u001b[36m         \u001b[0m\u001b[36m\u001b[1m      (model): LlamaForCausalLM(\u001b[0m\n",
      "    \u001b[36m         \u001b[0m\u001b[36m\u001b[1m        (mod...\u001b[0m\n",
      "\n",
      "  File \"\u001b[32m/workspace/repr-preference-optimization/reprpo/interventions/\u001b[0m\u001b[32m\u001b[1mpl_base.py\u001b[0m\", line \u001b[33m37\u001b[0m, in \u001b[35m_shared_step\u001b[0m\n",
      "    \u001b[1mloss\u001b[0m\u001b[1m,\u001b[0m \u001b[1minfo\u001b[0m \u001b[35m\u001b[1m=\u001b[0m \u001b[1mself\u001b[0m\u001b[35m\u001b[1m.\u001b[0m\u001b[1m_loss_fn\u001b[0m\u001b[1m(\u001b[0m\u001b[1mbatch\u001b[0m\u001b[1m,\u001b[0m \u001b[1mself\u001b[0m\u001b[35m\u001b[1m.\u001b[0m\u001b[1m_model\u001b[0m\u001b[1m)\u001b[0m\n",
      "    \u001b[36m             │    │        │      └ \u001b[0m\u001b[36m\u001b[1mPL_REPRPO_MODEL(\u001b[0m\n",
      "    \u001b[36m             │    │        │        \u001b[0m\u001b[36m\u001b[1m  (_model): PeftModelForCausalLM(\u001b[0m\n",
      "    \u001b[36m             │    │        │        \u001b[0m\u001b[36m\u001b[1m    (base_model): LoraModel(\u001b[0m\n",
      "    \u001b[36m             │    │        │        \u001b[0m\u001b[36m\u001b[1m      (model): LlamaForCausalLM(\u001b[0m\n",
      "    \u001b[36m             │    │        │        \u001b[0m\u001b[36m\u001b[1m        (mod...\u001b[0m\n",
      "    \u001b[36m             │    │        └ \u001b[0m\u001b[36m\u001b[1m{'chosen': tensor([[ 39314,    374,    459,  ..., 128001, 128001, 128001],\u001b[0m\n",
      "    \u001b[36m             │    │          \u001b[0m\u001b[36m\u001b[1m        [ 39314,    374,    459,  ..., 128001, 128...\u001b[0m\n",
      "    \u001b[36m             │    └ \u001b[0m\u001b[36m\u001b[1m<function PL_REPRPO_MODEL._loss_fn at 0x769c043b5940>\u001b[0m\n",
      "    \u001b[36m             └ \u001b[0m\u001b[36m\u001b[1mPL_REPRPO_MODEL(\u001b[0m\n",
      "    \u001b[36m               \u001b[0m\u001b[36m\u001b[1m  (_model): PeftModelForCausalLM(\u001b[0m\n",
      "    \u001b[36m               \u001b[0m\u001b[36m\u001b[1m    (base_model): LoraModel(\u001b[0m\n",
      "    \u001b[36m               \u001b[0m\u001b[36m\u001b[1m      (model): LlamaForCausalLM(\u001b[0m\n",
      "    \u001b[36m               \u001b[0m\u001b[36m\u001b[1m        (mod...\u001b[0m\n",
      "\n",
      "  File \"\u001b[32m/workspace/repr-preference-optimization/reprpo/interventions/reprpo/\u001b[0m\u001b[32m\u001b[1mmodel.py\u001b[0m\", line \u001b[33m145\u001b[0m, in \u001b[35m_loss_fn\u001b[0m\n",
      "    \u001b[1mref_rej\u001b[0m \u001b[35m\u001b[1m=\u001b[0m \u001b[1mreprpo_forward_baukit\u001b[0m\u001b[1m(\u001b[0m\n",
      "    \u001b[36m          └ \u001b[0m\u001b[36m\u001b[1m<function reprpo_forward_baukit at 0x769c043b49a0>\u001b[0m\n",
      "\n",
      "  File \"\u001b[32m/workspace/repr-preference-optimization/reprpo/interventions/reprpo/\u001b[0m\u001b[32m\u001b[1mmodel.py\u001b[0m\", line \u001b[33m40\u001b[0m, in \u001b[35mreprpo_forward_baukit\u001b[0m\n",
      "    \u001b[1mouts\u001b[0m \u001b[35m\u001b[1m=\u001b[0m \u001b[1mmodel\u001b[0m\u001b[1m(\u001b[0m\n",
      "    \u001b[36m       └ \u001b[0m\u001b[36m\u001b[1mPeftModelForCausalLM(\u001b[0m\n",
      "    \u001b[36m         \u001b[0m\u001b[36m\u001b[1m  (base_model): LoraModel(\u001b[0m\n",
      "    \u001b[36m         \u001b[0m\u001b[36m\u001b[1m    (model): LlamaForCausalLM(\u001b[0m\n",
      "    \u001b[36m         \u001b[0m\u001b[36m\u001b[1m      (model): LlamaModel(\u001b[0m\n",
      "    \u001b[36m         \u001b[0m\u001b[36m\u001b[1m        (embed_tok...\u001b[0m\n",
      "\n",
      "  File \"/workspace/repr-preference-optimization/.venv/lib/python3.11/site-packages/torch/nn/modules/module.py\", line 1553, in _wrapped_call_impl\n",
      "    return self._call_impl(*args, **kwargs)\n",
      "           │    │           │       └ {'attention_mask': tensor([[1, 1, 1,  ..., 0, 0, 0],\n",
      "           │    │           │                 [1, 1, 1,  ..., 0, 0, 0],\n",
      "           │    │           │                 [1, 1, 1,  ..., 0, 0, 0],\n",
      "           │    │           │             ...\n",
      "           │    │           └ (tensor([[ 39314,    374,    459,  ..., 128001, 128001, 128001],\n",
      "           │    │                     [ 39314,    374,    459,  ..., 128001, 128001, 12800...\n",
      "           │    └ <function Module._call_impl at 0x769d27dbaac0>\n",
      "           └ PeftModelForCausalLM(\n",
      "               (base_model): LoraModel(\n",
      "                 (model): LlamaForCausalLM(\n",
      "                   (model): LlamaModel(\n",
      "                     (embed_tok...\n",
      "  File \"/workspace/repr-preference-optimization/.venv/lib/python3.11/site-packages/torch/nn/modules/module.py\", line 1562, in _call_impl\n",
      "    return forward_call(*args, **kwargs)\n",
      "           │             │       └ {'attention_mask': tensor([[1, 1, 1,  ..., 0, 0, 0],\n",
      "           │             │                 [1, 1, 1,  ..., 0, 0, 0],\n",
      "           │             │                 [1, 1, 1,  ..., 0, 0, 0],\n",
      "           │             │             ...\n",
      "           │             └ (tensor([[ 39314,    374,    459,  ..., 128001, 128001, 128001],\n",
      "           │                       [ 39314,    374,    459,  ..., 128001, 128001, 12800...\n",
      "           └ <bound method PeftModelForCausalLM.forward of PeftModelForCausalLM(\n",
      "               (base_model): LoraModel(\n",
      "                 (model): LlamaForCausalLM(...\n",
      "  File \"/workspace/repr-preference-optimization/.venv/lib/python3.11/site-packages/peft/peft_model.py\", line 1577, in forward\n",
      "    return self.base_model(\n",
      "           └ PeftModelForCausalLM(\n",
      "               (base_model): LoraModel(\n",
      "                 (model): LlamaForCausalLM(\n",
      "                   (model): LlamaModel(\n",
      "                     (embed_tok...\n",
      "  File \"/workspace/repr-preference-optimization/.venv/lib/python3.11/site-packages/torch/nn/modules/module.py\", line 1553, in _wrapped_call_impl\n",
      "    return self._call_impl(*args, **kwargs)\n",
      "           │    │           │       └ {'input_ids': tensor([[ 39314,    374,    459,  ..., 128001, 128001, 128001],\n",
      "           │    │           │                 [ 39314,    374,    459,  ..., 128001, ...\n",
      "           │    │           └ ()\n",
      "           │    └ <function Module._call_impl at 0x769d27dbaac0>\n",
      "           └ LoraModel(\n",
      "               (model): LlamaForCausalLM(\n",
      "                 (model): LlamaModel(\n",
      "                   (embed_tokens): Embedding(128256, 2048)\n",
      "                   (layers)...\n",
      "  File \"/workspace/repr-preference-optimization/.venv/lib/python3.11/site-packages/torch/nn/modules/module.py\", line 1562, in _call_impl\n",
      "    return forward_call(*args, **kwargs)\n",
      "           │             │       └ {'input_ids': tensor([[ 39314,    374,    459,  ..., 128001, 128001, 128001],\n",
      "           │             │                 [ 39314,    374,    459,  ..., 128001, ...\n",
      "           │             └ ()\n",
      "           └ <bound method BaseTuner.forward of LoraModel(\n",
      "               (model): LlamaForCausalLM(\n",
      "                 (model): LlamaModel(\n",
      "                   (embed_tokens): Emb...\n",
      "  File \"/workspace/repr-preference-optimization/.venv/lib/python3.11/site-packages/peft/tuners/tuners_utils.py\", line 188, in forward\n",
      "    return self.model.forward(*args, **kwargs)\n",
      "           │                   │       └ {'input_ids': tensor([[ 39314,    374,    459,  ..., 128001, 128001, 128001],\n",
      "           │                   │                 [ 39314,    374,    459,  ..., 128001, ...\n",
      "           │                   └ ()\n",
      "           └ LoraModel(\n",
      "               (model): LlamaForCausalLM(\n",
      "                 (model): LlamaModel(\n",
      "                   (embed_tokens): Embedding(128256, 2048)\n",
      "                   (layers)...\n",
      "  File \"/workspace/repr-preference-optimization/.venv/lib/python3.11/site-packages/transformers/models/llama/modeling_llama.py\", line 1189, in forward\n",
      "    outputs = self.model(\n",
      "              └ LlamaForCausalLM(\n",
      "                  (model): LlamaModel(\n",
      "                    (embed_tokens): Embedding(128256, 2048)\n",
      "                    (layers): ModuleList(\n",
      "                      (0-15): ...\n",
      "  File \"/workspace/repr-preference-optimization/.venv/lib/python3.11/site-packages/torch/nn/modules/module.py\", line 1553, in _wrapped_call_impl\n",
      "    return self._call_impl(*args, **kwargs)\n",
      "           │    │           │       └ {'input_ids': tensor([[ 39314,    374,    459,  ..., 128001, 128001, 128001],\n",
      "           │    │           │                 [ 39314,    374,    459,  ..., 128001, ...\n",
      "           │    │           └ ()\n",
      "           │    └ <function Module._call_impl at 0x769d27dbaac0>\n",
      "           └ LlamaModel(\n",
      "               (embed_tokens): Embedding(128256, 2048)\n",
      "               (layers): ModuleList(\n",
      "                 (0-15): 16 x LlamaDecoderLayer(\n",
      "                   (self...\n",
      "  File \"/workspace/repr-preference-optimization/.venv/lib/python3.11/site-packages/torch/nn/modules/module.py\", line 1562, in _call_impl\n",
      "    return forward_call(*args, **kwargs)\n",
      "           │             │       └ {'input_ids': tensor([[ 39314,    374,    459,  ..., 128001, 128001, 128001],\n",
      "           │             │                 [ 39314,    374,    459,  ..., 128001, ...\n",
      "           │             └ ()\n",
      "           └ <bound method LlamaModel.forward of LlamaModel(\n",
      "               (embed_tokens): Embedding(128256, 2048)\n",
      "               (layers): ModuleList(\n",
      "                 (0-15):...\n",
      "  File \"/workspace/repr-preference-optimization/.venv/lib/python3.11/site-packages/transformers/models/llama/modeling_llama.py\", line 1000, in forward\n",
      "    layer_outputs = decoder_layer(\n",
      "                    └ LlamaDecoderLayer(\n",
      "                        (self_attn): LlamaFlashAttention2(\n",
      "                          (q_proj): lora.Linear(\n",
      "                            (base_layer): Linear(in_features=204...\n",
      "  File \"/workspace/repr-preference-optimization/.venv/lib/python3.11/site-packages/torch/nn/modules/module.py\", line 1553, in _wrapped_call_impl\n",
      "    return self._call_impl(*args, **kwargs)\n",
      "           │    │           │       └ {'attention_mask': tensor([[1, 1, 1,  ..., 0, 0, 0],\n",
      "           │    │           │                 [1, 1, 1,  ..., 0, 0, 0],\n",
      "           │    │           │                 [1, 1, 1,  ..., 0, 0, 0],\n",
      "           │    │           │             ...\n",
      "           │    │           └ (tensor([[[ 0.0947, -0.0415,  1.1328,  ...,  0.1104,  0.9141,  0.1201],\n",
      "           │    │                      [ 0.0032, -0.1396,  0.2168,  ...,  0.1123, -...\n",
      "           │    └ <function Module._call_impl at 0x769d27dbaac0>\n",
      "           └ LlamaDecoderLayer(\n",
      "               (self_attn): LlamaFlashAttention2(\n",
      "                 (q_proj): lora.Linear(\n",
      "                   (base_layer): Linear(in_features=204...\n",
      "  File \"/workspace/repr-preference-optimization/.venv/lib/python3.11/site-packages/torch/nn/modules/module.py\", line 1562, in _call_impl\n",
      "    return forward_call(*args, **kwargs)\n",
      "           │             │       └ {'attention_mask': tensor([[1, 1, 1,  ..., 0, 0, 0],\n",
      "           │             │                 [1, 1, 1,  ..., 0, 0, 0],\n",
      "           │             │                 [1, 1, 1,  ..., 0, 0, 0],\n",
      "           │             │             ...\n",
      "           │             └ (tensor([[[ 0.0947, -0.0415,  1.1328,  ...,  0.1104,  0.9141,  0.1201],\n",
      "           │                        [ 0.0032, -0.1396,  0.2168,  ...,  0.1123, -...\n",
      "           └ <bound method LlamaDecoderLayer.forward of LlamaDecoderLayer(\n",
      "               (self_attn): LlamaFlashAttention2(\n",
      "                 (q_proj): lora.Linear(...\n",
      "  File \"/workspace/repr-preference-optimization/.venv/lib/python3.11/site-packages/transformers/models/llama/modeling_llama.py\", line 729, in forward\n",
      "    hidden_states, self_attn_weights, present_key_value = self.self_attn(\n",
      "    │                                                     └ LlamaDecoderLayer(\n",
      "    │                                                         (self_attn): LlamaFlashAttention2(\n",
      "    │                                                           (q_proj): lora.Linear(\n",
      "    │                                                             (base_layer): Linear(in_features=204...\n",
      "    └ tensor([[[ 0.0050, -0.0024,  0.0364,  ...,  0.0060,  0.0474,  0.0059],\n",
      "               [ 0.0129, -0.6250,  0.5391,  ...,  0.4746, -0...\n",
      "  File \"/workspace/repr-preference-optimization/.venv/lib/python3.11/site-packages/torch/nn/modules/module.py\", line 1553, in _wrapped_call_impl\n",
      "    return self._call_impl(*args, **kwargs)\n",
      "           │    │           │       └ {'hidden_states': tensor([[[ 0.0050, -0.0024,  0.0364,  ...,  0.0060,  0.0474,  0.0059],\n",
      "           │    │           │                  [ 0.0129, -0.6250,  0.5391,...\n",
      "           │    │           └ ()\n",
      "           │    └ <function Module._call_impl at 0x769d27dbaac0>\n",
      "           └ LlamaFlashAttention2(\n",
      "               (q_proj): lora.Linear(\n",
      "                 (base_layer): Linear(in_features=2048, out_features=2048, bias=False)\n",
      "                 ...\n",
      "  File \"/workspace/repr-preference-optimization/.venv/lib/python3.11/site-packages/torch/nn/modules/module.py\", line 1562, in _call_impl\n",
      "    return forward_call(*args, **kwargs)\n",
      "           │             │       └ {'hidden_states': tensor([[[ 0.0050, -0.0024,  0.0364,  ...,  0.0060,  0.0474,  0.0059],\n",
      "           │             │                  [ 0.0129, -0.6250,  0.5391,...\n",
      "           │             └ ()\n",
      "           └ <bound method LlamaFlashAttention2.forward of LlamaFlashAttention2(\n",
      "               (q_proj): lora.Linear(\n",
      "                 (base_layer): Linear(in_feat...\n",
      "  File \"/workspace/repr-preference-optimization/.venv/lib/python3.11/site-packages/transformers/models/llama/modeling_llama.py\", line 551, in forward\n",
      "    attn_output = _flash_attention_forward(\n",
      "                  └ <function _flash_attention_forward at 0x769c0898d1c0>\n",
      "  File \"/workspace/repr-preference-optimization/.venv/lib/python3.11/site-packages/transformers/modeling_flash_attention_utils.py\", line 265, in _flash_attention_forward\n",
      "    attn_output = pad_input(attn_output_unpad, indices_q, batch_size, query_length)\n",
      "                  │         │                  │          │           └ 196\n",
      "                  │         │                  │          └ 16\n",
      "                  │         │                  └ tensor([   0,    1,    2,  ..., 3092, 3093, 3094], device='cuda:0')\n",
      "                  │         └ tensor([[[-2.3499e-03,  1.1826e-04,  4.7302e-03,  ...,  3.7231e-03,\n",
      "                  │                     -1.4465e-02,  2.7710e-02],\n",
      "                  │                    [-2.3499e-0...\n",
      "                  └ <function pad_input at 0x769c0898d080>\n",
      "  File \"/workspace/repr-preference-optimization/.venv/lib/python3.11/site-packages/flash_attn/bert_padding.py\", line 212, in pad_input\n",
      "    output = index_put_first_axis(hidden_states, indices, batch * seqlen)\n",
      "             │                    │              │        │       └ 196\n",
      "             │                    │              │        └ 16\n",
      "             │                    │              └ tensor([   0,    1,    2,  ..., 3092, 3093, 3094], device='cuda:0')\n",
      "             │                    └ tensor([[[-2.3499e-03,  1.1826e-04,  4.7302e-03,  ...,  3.7231e-03,\n",
      "             │                                -1.4465e-02,  2.7710e-02],\n",
      "             │                               [-2.3499e-0...\n",
      "             └ <bound method Function.apply of <class 'flash_attn.bert_padding.IndexPutFirstAxis'>>\n",
      "  File \"/workspace/repr-preference-optimization/.venv/lib/python3.11/site-packages/torch/autograd/function.py\", line 558, in apply\n",
      "    @classmethod\n",
      "\n",
      "\u001b[31m\u001b[1mKeyboardInterrupt\u001b[0m\n",
      "\n",
      "\n",
      "\u001b[1mDuring handling of the above exception, another exception occurred:\u001b[0m\n",
      "\n",
      "\n",
      "\u001b[33m\u001b[1mTraceback (most recent call last):\u001b[0m\n",
      "\n",
      "  File \"<frozen runpy>\", line 198, in _run_module_as_main\n",
      "  File \"<frozen runpy>\", line 88, in _run_code\n",
      "  File \"/workspace/repr-preference-optimization/.venv/lib/python3.11/site-packages/ipykernel_launcher.py\", line 18, in <module>\n",
      "    app.launch_new_instance()\n",
      "    │   └ <bound method Application.launch_instance of <class 'ipykernel.kernelapp.IPKernelApp'>>\n",
      "    └ <module 'ipykernel.kernelapp' from '/workspace/repr-preference-optimization/.venv/lib/python3.11/site-packages/ipykernel/kern...\n",
      "  File \"/workspace/repr-preference-optimization/.venv/lib/python3.11/site-packages/traitlets/config/application.py\", line 1075, in launch_instance\n",
      "    app.start()\n",
      "    │   └ <function IPKernelApp.start at 0x769e4fdda2a0>\n",
      "    └ <ipykernel.kernelapp.IPKernelApp object at 0x769e50f78550>\n",
      "  File \"/workspace/repr-preference-optimization/.venv/lib/python3.11/site-packages/ipykernel/kernelapp.py\", line 739, in start\n",
      "    self.io_loop.start()\n",
      "    │    │       └ <function BaseAsyncIOLoop.start at 0x769e4fddb380>\n",
      "    │    └ <tornado.platform.asyncio.AsyncIOMainLoop object at 0x769e4fdf8f50>\n",
      "    └ <ipykernel.kernelapp.IPKernelApp object at 0x769e50f78550>\n",
      "  File \"/workspace/repr-preference-optimization/.venv/lib/python3.11/site-packages/tornado/platform/asyncio.py\", line 205, in start\n",
      "    self.asyncio_loop.run_forever()\n",
      "    │    │            └ <function BaseEventLoop.run_forever at 0x769e515bae80>\n",
      "    │    └ <_UnixSelectorEventLoop running=True closed=False debug=False>\n",
      "    └ <tornado.platform.asyncio.AsyncIOMainLoop object at 0x769e4fdf8f50>\n",
      "  File \"/usr/lib/python3.11/asyncio/base_events.py\", line 608, in run_forever\n",
      "    self._run_once()\n",
      "    │    └ <function BaseEventLoop._run_once at 0x769e515c4cc0>\n",
      "    └ <_UnixSelectorEventLoop running=True closed=False debug=False>\n",
      "  File \"/usr/lib/python3.11/asyncio/base_events.py\", line 1936, in _run_once\n",
      "    handle._run()\n",
      "    │      └ <function Handle._run at 0x769e517ada80>\n",
      "    └ <Handle Task.task_wakeup(<Future finis...4B)>, ...],))>)>\n",
      "  File \"/usr/lib/python3.11/asyncio/events.py\", line 84, in _run\n",
      "    self._context.run(self._callback, *self._args)\n",
      "    │    │            │    │           │    └ <member '_args' of 'Handle' objects>\n",
      "    │    │            │    │           └ <Handle Task.task_wakeup(<Future finis...4B)>, ...],))>)>\n",
      "    │    │            │    └ <member '_callback' of 'Handle' objects>\n",
      "    │    │            └ <Handle Task.task_wakeup(<Future finis...4B)>, ...],))>)>\n",
      "    │    └ <member '_context' of 'Handle' objects>\n",
      "    └ <Handle Task.task_wakeup(<Future finis...4B)>, ...],))>)>\n",
      "  File \"/workspace/repr-preference-optimization/.venv/lib/python3.11/site-packages/ipykernel/kernelbase.py\", line 545, in dispatch_queue\n",
      "    await self.process_one()\n",
      "          │    └ <function Kernel.process_one at 0x769e4ff8f060>\n",
      "          └ <ipykernel.ipkernel.IPythonKernel object at 0x769e4fdfa350>\n",
      "  File \"/workspace/repr-preference-optimization/.venv/lib/python3.11/site-packages/ipykernel/kernelbase.py\", line 534, in process_one\n",
      "    await dispatch(*args)\n",
      "          │         └ ([<zmq.Frame(b'0d70fda5-a29'...36B)>, <zmq.Frame(b'<IDS|MSG>')>, <zmq.Frame(b'38a2f00eeefe'...64B)>, <zmq.Frame(b'{\"date\":\"20...\n",
      "          └ <bound method Kernel.dispatch_shell of <ipykernel.ipkernel.IPythonKernel object at 0x769e4fdfa350>>\n",
      "  File \"/workspace/repr-preference-optimization/.venv/lib/python3.11/site-packages/ipykernel/kernelbase.py\", line 437, in dispatch_shell\n",
      "    await result\n",
      "          └ <coroutine object IPythonKernel.execute_request at 0x769c07da7040>\n",
      "  File \"/workspace/repr-preference-optimization/.venv/lib/python3.11/site-packages/ipykernel/ipkernel.py\", line 362, in execute_request\n",
      "    await super().execute_request(stream, ident, parent)\n",
      "                                  │       │      └ {'header': {'date': datetime.datetime(2024, 10, 9, 11, 31, 3, 932000, tzinfo=tzutc()), 'msg_id': 'd12d3c6c-3725-4600-9de9-4b5...\n",
      "                                  │       └ [b'0d70fda5-a299-4dd3-b87e-da17fd694ff9']\n",
      "                                  └ <zmq.eventloop.zmqstream.ZMQStream object at 0x769e4fdf9910>\n",
      "  File \"/workspace/repr-preference-optimization/.venv/lib/python3.11/site-packages/ipykernel/kernelbase.py\", line 778, in execute_request\n",
      "    reply_content = await reply_content\n",
      "                          └ <coroutine object IPythonKernel.do_execute at 0x769e4ffa57b0>\n",
      "  File \"/workspace/repr-preference-optimization/.venv/lib/python3.11/site-packages/ipykernel/ipkernel.py\", line 449, in do_execute\n",
      "    res = shell.run_cell(\n",
      "          │     └ <function ZMQInteractiveShell.run_cell at 0x769e4fdc32e0>\n",
      "          └ <ipykernel.zmqshell.ZMQInteractiveShell object at 0x769e4c137910>\n",
      "  File \"/workspace/repr-preference-optimization/.venv/lib/python3.11/site-packages/ipykernel/zmqshell.py\", line 549, in run_cell\n",
      "    return super().run_cell(*args, **kwargs)\n",
      "                             │       └ {'store_history': True, 'silent': False, 'cell_id': 'vscode-notebook-cell://ssh-remote%2Brunpod/workspace/repr-preference-opt...\n",
      "                             └ ('MAX_TRIALS= 250\\nimport numpy as np\\nspaces = list(search_spaces.items())\\nwhile True:\\n    np.random.shuffle(spaces)\\n    ...\n",
      "  File \"/workspace/repr-preference-optimization/.venv/lib/python3.11/site-packages/IPython/core/interactiveshell.py\", line 3075, in run_cell\n",
      "    result = self._run_cell(\n",
      "             │    └ <function InteractiveShell._run_cell at 0x769e5094d080>\n",
      "             └ <ipykernel.zmqshell.ZMQInteractiveShell object at 0x769e4c137910>\n",
      "  File \"/workspace/repr-preference-optimization/.venv/lib/python3.11/site-packages/IPython/core/interactiveshell.py\", line 3130, in _run_cell\n",
      "    result = runner(coro)\n",
      "             │      └ <coroutine object InteractiveShell.run_cell_async at 0x769e4c3e75e0>\n",
      "             └ <function _pseudo_sync_runner at 0x769e50940220>\n",
      "  File \"/workspace/repr-preference-optimization/.venv/lib/python3.11/site-packages/IPython/core/async_helpers.py\", line 128, in _pseudo_sync_runner\n",
      "    coro.send(None)\n",
      "    │    └ <method 'send' of 'coroutine' objects>\n",
      "    └ <coroutine object InteractiveShell.run_cell_async at 0x769e4c3e75e0>\n",
      "  File \"/workspace/repr-preference-optimization/.venv/lib/python3.11/site-packages/IPython/core/interactiveshell.py\", line 3334, in run_cell_async\n",
      "    has_raised = await self.run_ast_nodes(code_ast.body, cell_name,\n",
      "                       │    │             │        │     └ '/tmp/ipykernel_1263875/1846718613.py'\n",
      "                       │    │             │        └ [<ast.Assign object at 0x769c02cecdf0>, <ast.Import object at 0x769c02cee3e0>, <ast.Assign object at 0x769c02cee440>, <ast.Wh...\n",
      "                       │    │             └ <ast.Module object at 0x769c02ceec50>\n",
      "                       │    └ <function InteractiveShell.run_ast_nodes at 0x769e5094d3a0>\n",
      "                       └ <ipykernel.zmqshell.ZMQInteractiveShell object at 0x769e4c137910>\n",
      "  File \"/workspace/repr-preference-optimization/.venv/lib/python3.11/site-packages/IPython/core/interactiveshell.py\", line 3517, in run_ast_nodes\n",
      "    if await self.run_code(code, result, async_=asy):\n",
      "             │    │        │     │              └ False\n",
      "             │    │        │     └ <ExecutionResult object at 769c02e814d0, execution_count=14 error_before_exec=None error_in_exec=None info=<ExecutionInfo obj...\n",
      "             │    │        └ <code object <module> at 0x10e65270, file \"/tmp/ipykernel_1263875/1846718613.py\", line 1>\n",
      "             │    └ <function InteractiveShell.run_code at 0x769e5094d440>\n",
      "             └ <ipykernel.zmqshell.ZMQInteractiveShell object at 0x769e4c137910>\n",
      "  File \"/workspace/repr-preference-optimization/.venv/lib/python3.11/site-packages/IPython/core/interactiveshell.py\", line 3577, in run_code\n",
      "    exec(code_obj, self.user_global_ns, self.user_ns)\n",
      "         │         │    │               │    └ {'__name__': '__main__', '__doc__': 'Automatically created module for IPython interactive environment', '__package__': None, ...\n",
      "         │         │    │               └ <ipykernel.zmqshell.ZMQInteractiveShell object at 0x769e4c137910>\n",
      "         │         │    └ <property object at 0x769e50932250>\n",
      "         │         └ <ipykernel.zmqshell.ZMQInteractiveShell object at 0x769e4c137910>\n",
      "         └ <code object <module> at 0x10e65270, file \"/tmp/ipykernel_1263875/1846718613.py\", line 1>\n",
      "\n",
      "> File \"\u001b[32m/tmp/ipykernel_1263875/\u001b[0m\u001b[32m\u001b[1m1846718613.py\u001b[0m\", line \u001b[33m35\u001b[0m, in \u001b[35m<module>\u001b[0m\n",
      "    \u001b[1mstudy\u001b[0m\u001b[35m\u001b[1m.\u001b[0m\u001b[1moptimize\u001b[0m\u001b[1m(\u001b[0m\u001b[1m_objective\u001b[0m\u001b[1m,\u001b[0m\n",
      "    \u001b[36m│     │        └ \u001b[0m\u001b[36m\u001b[1mfunctools.partial(<function objective at 0x769c03f21800>, key_metric='acc_gain_vs_ref/oos', starter_experiment_name='ether-pr...\u001b[0m\n",
      "    \u001b[36m│     └ \u001b[0m\u001b[36m\u001b[1m<function Study.optimize at 0x769ccafaae80>\u001b[0m\n",
      "    \u001b[36m└ \u001b[0m\u001b[36m\u001b[1m<optuna.study.study.Study object at 0x769bc9c87cd0>\u001b[0m\n",
      "\n",
      "  File \"/workspace/repr-preference-optimization/.venv/lib/python3.11/site-packages/optuna/study/study.py\", line 475, in optimize\n",
      "    _optimize(\n",
      "    └ <function _optimize at 0x769ccafa8cc0>\n",
      "  File \"/workspace/repr-preference-optimization/.venv/lib/python3.11/site-packages/optuna/study/_optimize.py\", line 63, in _optimize\n",
      "    _optimize_sequential(\n",
      "    └ <function _optimize_sequential at 0x769ccafaa020>\n",
      "  File \"/workspace/repr-preference-optimization/.venv/lib/python3.11/site-packages/optuna/study/_optimize.py\", line 160, in _optimize_sequential\n",
      "    frozen_trial = _run_trial(study, func, catch)\n",
      "                   │          │      │     └ (<class 'AssertionError'>, <class 'OSError'>, <class 'RuntimeError'>, <class 'KeyError'>, <class 'torch.OutOfMemoryError'>)\n",
      "                   │          │      └ functools.partial(<function objective at 0x769c03f21800>, key_metric='acc_gain_vs_ref/oos', starter_experiment_name='ether-pr...\n",
      "                   │          └ <optuna.study.study.Study object at 0x769bc9c87cd0>\n",
      "                   └ <function _run_trial at 0x769ccafaa340>\n",
      "  File \"/workspace/repr-preference-optimization/.venv/lib/python3.11/site-packages/optuna/study/_optimize.py\", line 248, in _run_trial\n",
      "    raise func_err\n",
      "          └ NameError(\"name 'exit' is not defined\")\n",
      "  File \"/workspace/repr-preference-optimization/.venv/lib/python3.11/site-packages/optuna/study/_optimize.py\", line 197, in _run_trial\n",
      "    value_or_values = func(trial)\n",
      "                      │    └ <optuna.trial._trial.Trial object at 0x769bc8fbb710>\n",
      "                      └ functools.partial(<function objective at 0x769c03f21800>, key_metric='acc_gain_vs_ref/oos', starter_experiment_name='ether-pr...\n",
      "\n",
      "  File \"\u001b[32m/workspace/repr-preference-optimization/reprpo/hp/\u001b[0m\u001b[32m\u001b[1mtarget.py\u001b[0m\", line \u001b[33m91\u001b[0m, in \u001b[35mobjective\u001b[0m\n",
      "    \u001b[1mr\u001b[0m \u001b[35m\u001b[1m=\u001b[0m \u001b[1mobjective_func\u001b[0m\u001b[1m(\u001b[0m\u001b[1mkwargs\u001b[0m\u001b[1m,\u001b[0m \u001b[1mtrial\u001b[0m\u001b[1m,\u001b[0m \u001b[1mstarter_experiment_name\u001b[0m\u001b[1m)\u001b[0m\n",
      "    \u001b[36m    │              │       │      └ \u001b[0m\u001b[36m\u001b[1m'ether-prefvec'\u001b[0m\n",
      "    \u001b[36m    │              │       └ \u001b[0m\u001b[36m\u001b[1m<optuna.trial._trial.Trial object at 0x769bc8fbb710>\u001b[0m\n",
      "    \u001b[36m    │              └ \u001b[0m\u001b[36m\u001b[1m{'lr': 0.0008497657674573626, 'collect_input': True, 'collect_hs': False, 'transform.nb': 16, 'transform.Htype': 'ether', 'tr...\u001b[0m\n",
      "    \u001b[36m    └ \u001b[0m\u001b[36m\u001b[1m<function objective_func at 0x769c03f216c0>\u001b[0m\n",
      "\n",
      "  File \"\u001b[32m/workspace/repr-preference-optimization/reprpo/hp/\u001b[0m\u001b[32m\u001b[1mtarget.py\u001b[0m\", line \u001b[33m86\u001b[0m, in \u001b[35mobjective_func\u001b[0m\n",
      "    \u001b[1mr\u001b[0m \u001b[35m\u001b[1m=\u001b[0m \u001b[1mtrain\u001b[0m\u001b[1m(\u001b[0m\u001b[1mcfg\u001b[0m\u001b[1m,\u001b[0m \u001b[1mtrial\u001b[0m\u001b[35m\u001b[1m=\u001b[0m\u001b[1mtrial\u001b[0m\u001b[1m)\u001b[0m\n",
      "    \u001b[36m    │     │          └ \u001b[0m\u001b[36m\u001b[1m<optuna.trial._trial.Trial object at 0x769bc8fbb710>\u001b[0m\n",
      "    \u001b[36m    │     └ \u001b[0m\u001b[36m\u001b[1mReprPOConfig(dataset='us_history_textbook', verbose=0, dev=False, load_in_4bit=False, load_in_8bit=False, use_gradient_checkp...\u001b[0m\n",
      "    \u001b[36m    └ \u001b[0m\u001b[36m\u001b[1m<function train at 0x769c07c8cfe0>\u001b[0m\n",
      "\n",
      "  File \"\u001b[32m/workspace/repr-preference-optimization/reprpo/\u001b[0m\u001b[32m\u001b[1mtraining.py\u001b[0m\", line \u001b[33m349\u001b[0m, in \u001b[35mtrain\u001b[0m\n",
      "    \u001b[1mtrainer\u001b[0m\u001b[35m\u001b[1m.\u001b[0m\u001b[1mfit\u001b[0m\u001b[1m(\u001b[0m\u001b[1mpl_model\u001b[0m\u001b[1m,\u001b[0m \u001b[1mdl_train\u001b[0m\u001b[1m,\u001b[0m \u001b[1mdl_val\u001b[0m\u001b[1m)\u001b[0m\n",
      "    \u001b[36m│       │   │         │         └ \u001b[0m\u001b[36m\u001b[1m<torch.utils.data.dataloader.DataLoader object at 0x769b86f17f90>\u001b[0m\n",
      "    \u001b[36m│       │   │         └ \u001b[0m\u001b[36m\u001b[1m<torch.utils.data.dataloader.DataLoader object at 0x769bb83485d0>\u001b[0m\n",
      "    \u001b[36m│       │   └ \u001b[0m\u001b[36m\u001b[1mPL_REPRPO_MODEL(\u001b[0m\n",
      "    \u001b[36m│       │     \u001b[0m\u001b[36m\u001b[1m  (_model): PeftModelForCausalLM(\u001b[0m\n",
      "    \u001b[36m│       │     \u001b[0m\u001b[36m\u001b[1m    (base_model): LoraModel(\u001b[0m\n",
      "    \u001b[36m│       │     \u001b[0m\u001b[36m\u001b[1m      (model): LlamaForCausalLM(\u001b[0m\n",
      "    \u001b[36m│       │     \u001b[0m\u001b[36m\u001b[1m        (mod...\u001b[0m\n",
      "    \u001b[36m│       └ \u001b[0m\u001b[36m\u001b[1m<function Trainer.fit at 0x769c184f5120>\u001b[0m\n",
      "    \u001b[36m└ \u001b[0m\u001b[36m\u001b[1m<lightning.pytorch.trainer.trainer.Trainer object at 0x769b859c6bd0>\u001b[0m\n",
      "\n",
      "  File \"/workspace/repr-preference-optimization/.venv/lib/python3.11/site-packages/lightning/pytorch/trainer/trainer.py\", line 538, in fit\n",
      "    call._call_and_handle_interrupt(\n",
      "    │    └ <function _call_and_handle_interrupt at 0x769c185d0cc0>\n",
      "    └ <module 'lightning.pytorch.trainer.call' from '/workspace/repr-preference-optimization/.venv/lib/python3.11/site-packages/lig...\n",
      "  File \"/workspace/repr-preference-optimization/.venv/lib/python3.11/site-packages/lightning/pytorch/trainer/call.py\", line 64, in _call_and_handle_interrupt\n",
      "    exit(1)\n",
      "\n",
      "\u001b[31m\u001b[1mNameError\u001b[0m:\u001b[1m name 'exit' is not defined\u001b[0m\n",
      "[I 2024-10-09 12:06:06,840] Using an existing study with name 'projgrad3' instead of creating a new one.\n"
     ]
    },
    {
     "name": "stdout",
     "output_type": "stream",
     "text": [
      "loaded 208 projgrad3 trials\n",
      "| projgrad3 N=✓207/208, best=1.279   |   importance | best                  |\n",
      "|:-----------------------------------|-------------:|:----------------------|\n",
      "| lr                                 |        0.918 | 0.0002320529194140666 |\n",
      "| β                                  |        0.059 | 0.8426788311104311    |\n",
      "| weight_dim                         |        0.01  | 1                     |\n",
      "| scale_orth                         |        0.006 | False                 |\n",
      "| neg_slope                          |        0.003 | 0                     |\n",
      "| reverse_pref                       |        0.002 | True                  |\n",
      "| mag_clip                           |        0.002 | float                 |\n",
      "| mag_clip_value                     |      nan     | 0.2300957741124143    |\n"
     ]
    },
    {
     "name": "stderr",
     "output_type": "stream",
     "text": [
      "[I 2024-10-09 12:09:36,535] Trial 208 finished with value: 1.1560693641618498 and parameters: {'lr': 0.00010787006088019991, 'β': 0.7512352310635901, 'reverse_pref': True, 'scale_orth': False, 'weight_dim': 0, 'neg_slope': 0, 'mag_clip': None}. Best is trial 119 with value: 1.2793834296724471.\n"
     ]
    },
    {
     "name": "stdout",
     "output_type": "stream",
     "text": [
      "\n",
      "| acc_inc/eval_ds [pp]                                    |   train |   test |    oos |    rnd |\n",
      "|:--------------------------------------------------------|--------:|-------:|-------:|-------:|\n",
      "| ProjGrad lr=0.00011 neg_slope=0 scale_orth=False β=0.75 |   5.785 | -0.787 | 15.607 | 36.842 |\n"
     ]
    },
    {
     "name": "stderr",
     "output_type": "stream",
     "text": [
      "[I 2024-10-09 12:13:05,135] Trial 209 finished with value: 1.088631984585742 and parameters: {'lr': 0.00036867913514938063, 'β': 0.9066263413586093, 'reverse_pref': True, 'scale_orth': False, 'weight_dim': 1, 'neg_slope': 0, 'mag_clip': 'float', 'mag_clip_value': 0.04496791638269916}. Best is trial 119 with value: 1.2793834296724471.\n"
     ]
    },
    {
     "name": "stdout",
     "output_type": "stream",
     "text": [
      "\n",
      "| acc_inc/eval_ds [pp]                                                                |   train |   test |   oos |    rnd |\n",
      "|:------------------------------------------------------------------------------------|--------:|-------:|------:|-------:|\n",
      "| ProjGrad lr=0.00037 mag_clip=0.045 neg_slope=0 scale_orth=False weight_dim=1 β=0.91 |   4.959 | -0.787 | 8.863 | 12.281 |\n"
     ]
    },
    {
     "name": "stderr",
     "output_type": "stream",
     "text": [
      "[I 2024-10-09 12:16:22,551] Trial 210 finished with value: 1.229287090558767 and parameters: {'lr': 0.00018071785644634085, 'β': 0.8578849798893862, 'reverse_pref': False, 'scale_orth': False, 'weight_dim': 1, 'neg_slope': 0, 'mag_clip': 'float', 'mag_clip_value': 0.0643976141100572}. Best is trial 119 with value: 1.2793834296724471.\n"
     ]
    },
    {
     "name": "stdout",
     "output_type": "stream",
     "text": [
      "\n",
      "| acc_inc/eval_ds [pp]                                                                                   |   train |   test |    oos |    rnd |\n",
      "|:-------------------------------------------------------------------------------------------------------|--------:|-------:|-------:|-------:|\n",
      "| ProjGrad lr=0.00018 mag_clip=0.064 neg_slope=0 reverse_pref=False scale_orth=False weight_dim=1 β=0.86 |   5.785 |      0 | 22.929 | 21.053 |\n"
     ]
    },
    {
     "name": "stderr",
     "output_type": "stream",
     "text": [
      "[I 2024-10-09 12:19:40,825] Trial 211 finished with value: 1.113680154142582 and parameters: {'lr': 0.0002543434375257402, 'β': 0.8605380864744293, 'reverse_pref': False, 'scale_orth': False, 'weight_dim': 1, 'neg_slope': 0, 'mag_clip': None}. Best is trial 119 with value: 1.2793834296724471.\n"
     ]
    },
    {
     "name": "stdout",
     "output_type": "stream",
     "text": [
      "\n",
      "| acc_inc/eval_ds [pp]                                                                    |   train |   test |    oos |   rnd |\n",
      "|:----------------------------------------------------------------------------------------|--------:|-------:|-------:|------:|\n",
      "| ProjGrad lr=0.00025 neg_slope=0 reverse_pref=False scale_orth=False weight_dim=1 β=0.86 |   5.785 |      0 | 11.368 | 5.263 |\n"
     ]
    },
    {
     "name": "stderr",
     "output_type": "stream",
     "text": [
      "[I 2024-10-09 12:23:04,651] Trial 212 finished with value: 1.0982658959537572 and parameters: {'lr': 0.00018212799713558648, 'β': 0.8210456028066823, 'reverse_pref': False, 'scale_orth': False, 'weight_dim': 1, 'neg_slope': 0, 'mag_clip': 'float', 'mag_clip_value': 0.06211090518279541}. Best is trial 119 with value: 1.2793834296724471.\n"
     ]
    },
    {
     "name": "stdout",
     "output_type": "stream",
     "text": [
      "\n",
      "| acc_inc/eval_ds [pp]                                                                                   |   train |   test |   oos |    rnd |\n",
      "|:-------------------------------------------------------------------------------------------------------|--------:|-------:|------:|-------:|\n",
      "| ProjGrad lr=0.00018 mag_clip=0.062 neg_slope=0 reverse_pref=False scale_orth=False weight_dim=1 β=0.82 |   4.959 | -0.787 | 9.827 | 24.561 |\n"
     ]
    },
    {
     "name": "stderr",
     "output_type": "stream",
     "text": [
      "[I 2024-10-09 12:26:21,956] Trial 213 finished with value: 1.1637764932562622 and parameters: {'lr': 0.00017650348653201455, 'β': 0.8483552950531706, 'reverse_pref': False, 'scale_orth': False, 'weight_dim': 1, 'neg_slope': 0, 'mag_clip': 'float', 'mag_clip_value': 0.09461889057691825}. Best is trial 119 with value: 1.2793834296724471.\n"
     ]
    },
    {
     "name": "stdout",
     "output_type": "stream",
     "text": [
      "\n",
      "| acc_inc/eval_ds [pp]                                                                                   |   train |   test |    oos |   rnd |\n",
      "|:-------------------------------------------------------------------------------------------------------|--------:|-------:|-------:|------:|\n",
      "| ProjGrad lr=0.00018 mag_clip=0.095 neg_slope=0 reverse_pref=False scale_orth=False weight_dim=1 β=0.85 |   5.785 | -1.575 | 16.378 | 8.772 |\n"
     ]
    },
    {
     "name": "stderr",
     "output_type": "stream",
     "text": [
      "[I 2024-10-09 12:29:41,089] Trial 214 finished with value: 1.069364161849711 and parameters: {'lr': 0.00013710157823956963, 'β': 0.8897298480645891, 'reverse_pref': False, 'scale_orth': False, 'weight_dim': 1, 'neg_slope': 0, 'mag_clip': 'float', 'mag_clip_value': 0.02018977448460528}. Best is trial 119 with value: 1.2793834296724471.\n"
     ]
    },
    {
     "name": "stdout",
     "output_type": "stream",
     "text": [
      "\n",
      "| acc_inc/eval_ds [pp]                                                                                  |   train |   test |   oos |    rnd |\n",
      "|:------------------------------------------------------------------------------------------------------|--------:|-------:|------:|-------:|\n",
      "| ProjGrad lr=0.00014 mag_clip=0.02 neg_slope=0 reverse_pref=False scale_orth=False weight_dim=1 β=0.89 |   5.785 | -0.787 | 6.936 | 17.544 |\n"
     ]
    },
    {
     "name": "stderr",
     "output_type": "stream",
     "text": [
      "[I 2024-10-09 12:33:00,097] Trial 215 finished with value: 1.1946050096339114 and parameters: {'lr': 0.0002845214764635198, 'β': 0.8698630288125292, 'reverse_pref': False, 'scale_orth': False, 'weight_dim': 1, 'neg_slope': 0, 'mag_clip': 'float', 'mag_clip_value': 0.21268202514489631}. Best is trial 119 with value: 1.2793834296724471.\n"
     ]
    },
    {
     "name": "stdout",
     "output_type": "stream",
     "text": [
      "\n",
      "| acc_inc/eval_ds [pp]                                                                                  |   train |   test |    oos |    rnd |\n",
      "|:------------------------------------------------------------------------------------------------------|--------:|-------:|-------:|-------:|\n",
      "| ProjGrad lr=0.00028 mag_clip=0.21 neg_slope=0 reverse_pref=False scale_orth=False weight_dim=1 β=0.87 |   2.479 |  0.787 | 19.461 | 36.842 |\n"
     ]
    },
    {
     "name": "stderr",
     "output_type": "stream",
     "text": [
      "[I 2024-10-09 12:36:31,778] Trial 216 finished with value: 1.183044315992293 and parameters: {'lr': 0.0002942981364364952, 'β': 0.9290038633883989, 'reverse_pref': False, 'scale_orth': False, 'weight_dim': 1, 'neg_slope': 0, 'mag_clip': 'float', 'mag_clip_value': 0.0707766719630003}. Best is trial 119 with value: 1.2793834296724471.\n"
     ]
    },
    {
     "name": "stdout",
     "output_type": "stream",
     "text": [
      "\n",
      "| acc_inc/eval_ds [pp]                                                                                   |   train |   test |    oos |   rnd |\n",
      "|:-------------------------------------------------------------------------------------------------------|--------:|-------:|-------:|------:|\n",
      "| ProjGrad lr=0.00029 mag_clip=0.071 neg_slope=0 reverse_pref=False scale_orth=False weight_dim=1 β=0.93 |   3.306 |      0 | 18.304 |     0 |\n"
     ]
    },
    {
     "name": "stderr",
     "output_type": "stream",
     "text": [
      "[I 2024-10-09 12:39:56,341] Trial 217 finished with value: 0.9633911368015414 and parameters: {'lr': 0.00023180763702509145, 'β': 0.8658032050488015, 'reverse_pref': False, 'scale_orth': False, 'weight_dim': 1, 'neg_slope': 0, 'mag_clip': 'float', 'mag_clip_value': 0.25924436149483604}. Best is trial 119 with value: 1.2793834296724471.\n"
     ]
    },
    {
     "name": "stdout",
     "output_type": "stream",
     "text": [
      "\n",
      "| acc_inc/eval_ds [pp]                                                                                  |   train |   test |    oos |   rnd |\n",
      "|:------------------------------------------------------------------------------------------------------|--------:|-------:|-------:|------:|\n",
      "| ProjGrad lr=0.00023 mag_clip=0.26 neg_slope=0 reverse_pref=False scale_orth=False weight_dim=1 β=0.87 |   2.479 | -0.787 | -3.661 | 7.018 |\n"
     ]
    },
    {
     "name": "stderr",
     "output_type": "stream",
     "text": [
      "[I 2024-10-09 12:43:20,809] Trial 218 finished with value: 1.2215799614643548 and parameters: {'lr': 0.0003688850746681551, 'β': 0.8864738938942005, 'reverse_pref': False, 'scale_orth': False, 'weight_dim': 1, 'neg_slope': 0, 'mag_clip': None}. Best is trial 119 with value: 1.2793834296724471.\n"
     ]
    },
    {
     "name": "stdout",
     "output_type": "stream",
     "text": [
      "\n",
      "| acc_inc/eval_ds [pp]                                                                    |   train |   test |    oos |    rnd |\n",
      "|:----------------------------------------------------------------------------------------|--------:|-------:|-------:|-------:|\n",
      "| ProjGrad lr=0.00037 neg_slope=0 reverse_pref=False scale_orth=False weight_dim=1 β=0.89 |   5.785 | -0.787 | 22.158 | 10.526 |\n",
      "\n",
      "| acc_inc/eval_ds [pp]                                                                    |   train |   test |     oos |    rnd |\n",
      "|:----------------------------------------------------------------------------------------|--------:|-------:|--------:|-------:|\n",
      "| ProjGrad lr=0.00043 neg_slope=0 reverse_pref=False scale_orth=False weight_dim=1 β=0.89 |  -14.05 | -8.661 | -42.582 | 17.544 |\n"
     ]
    },
    {
     "name": "stderr",
     "output_type": "stream",
     "text": [
      "[I 2024-10-09 12:46:45,575] Trial 219 finished with value: 0.5741811175337187 and parameters: {'lr': 0.00042839565889034027, 'β': 0.887768019900199, 'reverse_pref': False, 'scale_orth': False, 'weight_dim': 1, 'neg_slope': 0, 'mag_clip': None}. Best is trial 119 with value: 1.2793834296724471.\n",
      "[I 2024-10-09 12:50:09,988] Trial 220 finished with value: 1.1233140655105973 and parameters: {'lr': 0.0003603674498712741, 'β': 0.904269948191051, 'reverse_pref': False, 'scale_orth': False, 'weight_dim': 1, 'neg_slope': 0, 'mag_clip': None}. Best is trial 119 with value: 1.2793834296724471.\n"
     ]
    },
    {
     "name": "stdout",
     "output_type": "stream",
     "text": [
      "\n",
      "| acc_inc/eval_ds [pp]                                                                   |   train |   test |    oos |    rnd |\n",
      "|:---------------------------------------------------------------------------------------|--------:|-------:|-------:|-------:|\n",
      "| ProjGrad lr=0.00036 neg_slope=0 reverse_pref=False scale_orth=False weight_dim=1 β=0.9 |   4.132 | -0.787 | 12.331 | 10.526 |\n"
     ]
    },
    {
     "name": "stderr",
     "output_type": "stream",
     "text": [
      "[I 2024-10-09 12:53:36,177] Trial 221 finished with value: 1.0500963391136802 and parameters: {'lr': 3.1038494526546045e-06, 'β': 0.8613303351383498, 'reverse_pref': False, 'scale_orth': False, 'weight_dim': 1, 'neg_slope': 0, 'mag_clip': None}. Best is trial 119 with value: 1.2793834296724471.\n"
     ]
    },
    {
     "name": "stdout",
     "output_type": "stream",
     "text": [
      "\n",
      "| acc_inc/eval_ds [pp]                                                                    |   train |   test |   oos |   rnd |\n",
      "|:----------------------------------------------------------------------------------------|--------:|-------:|------:|------:|\n",
      "| ProjGrad lr=3.1e-06 neg_slope=0 reverse_pref=False scale_orth=False weight_dim=1 β=0.86 |   1.653 |      0 |  5.01 |     0 |\n"
     ]
    },
    {
     "name": "stderr",
     "output_type": "stream",
     "text": [
      "[I 2024-10-09 12:57:01,658] Trial 222 finished with value: 1.0732177263969174 and parameters: {'lr': 0.0002894647267379628, 'β': 0.8764188785035064, 'reverse_pref': False, 'scale_orth': False, 'weight_dim': 1, 'neg_slope': 0, 'mag_clip': None}. Best is trial 119 with value: 1.2793834296724471.\n"
     ]
    },
    {
     "name": "stdout",
     "output_type": "stream",
     "text": [
      "\n",
      "| acc_inc/eval_ds [pp]                                                                    |   train |   test |   oos |    rnd |\n",
      "|:----------------------------------------------------------------------------------------|--------:|-------:|------:|-------:|\n",
      "| ProjGrad lr=0.00029 neg_slope=0 reverse_pref=False scale_orth=False weight_dim=1 β=0.88 |   2.479 | -0.787 | 7.322 | 22.807 |\n"
     ]
    },
    {
     "name": "stderr",
     "output_type": "stream",
     "text": [
      "[I 2024-10-09 13:00:28,739] Trial 223 finished with value: 1.1464354527938343 and parameters: {'lr': 0.00021506657143612363, 'β': 0.8484155141644321, 'reverse_pref': False, 'scale_orth': False, 'weight_dim': 1, 'neg_slope': 0, 'mag_clip': None}. Best is trial 119 with value: 1.2793834296724471.\n"
     ]
    },
    {
     "name": "stdout",
     "output_type": "stream",
     "text": [
      "\n",
      "| acc_inc/eval_ds [pp]                                                                    |   train |   test |    oos |    rnd |\n",
      "|:----------------------------------------------------------------------------------------|--------:|-------:|-------:|-------:|\n",
      "| ProjGrad lr=0.00022 neg_slope=0 reverse_pref=False scale_orth=False weight_dim=1 β=0.85 |   5.785 | -1.575 | 14.644 | 15.789 |\n"
     ]
    },
    {
     "name": "stderr",
     "output_type": "stream",
     "text": [
      "[I 2024-10-09 13:03:50,768] Trial 224 finished with value: 0.8227360308285164 and parameters: {'lr': 0.0005312047702870327, 'β': 0.8973103182112288, 'reverse_pref': False, 'scale_orth': False, 'weight_dim': 1, 'neg_slope': 0, 'mag_clip': 'float', 'mag_clip_value': 0.19065880569298607}. Best is trial 119 with value: 1.2793834296724471.\n"
     ]
    },
    {
     "name": "stdout",
     "output_type": "stream",
     "text": [
      "\n",
      "| acc_inc/eval_ds [pp]                                                                                 |   train |   test |     oos |    rnd |\n",
      "|:-----------------------------------------------------------------------------------------------------|--------:|-------:|--------:|-------:|\n",
      "| ProjGrad lr=0.00053 mag_clip=0.19 neg_slope=0 reverse_pref=False scale_orth=False weight_dim=1 β=0.9 |  -1.653 | -4.724 | -17.726 | 15.789 |\n"
     ]
    },
    {
     "name": "stderr",
     "output_type": "stream",
     "text": [
      "[I 2024-10-09 13:07:15,585] Trial 225 finished with value: 1.0 and parameters: {'lr': 0.0002665749694207576, 'β': 0.8244245565443309, 'reverse_pref': False, 'scale_orth': False, 'weight_dim': 1, 'neg_slope': 0, 'mag_clip': None}. Best is trial 119 with value: 1.2793834296724471.\n"
     ]
    },
    {
     "name": "stdout",
     "output_type": "stream",
     "text": [
      "\n",
      "| acc_inc/eval_ds [pp]                                                                    |   train |   test |   oos |    rnd |\n",
      "|:----------------------------------------------------------------------------------------|--------:|-------:|------:|-------:|\n",
      "| ProjGrad lr=0.00027 neg_slope=0 reverse_pref=False scale_orth=False weight_dim=1 β=0.82 |   5.785 | -1.575 |     0 | 21.053 |\n"
     ]
    },
    {
     "name": "stderr",
     "output_type": "stream",
     "text": [
      "[I 2024-10-09 13:10:41,078] Trial 226 finished with value: 1.1078998073217727 and parameters: {'lr': 0.00036271108735067047, 'β': 0.8727173215335458, 'reverse_pref': False, 'scale_orth': False, 'weight_dim': 1, 'neg_slope': 0, 'mag_clip': 'float', 'mag_clip_value': 1026.9490925314371}. Best is trial 119 with value: 1.2793834296724471.\n"
     ]
    },
    {
     "name": "stdout",
     "output_type": "stream",
     "text": [
      "\n",
      "| acc_inc/eval_ds [pp]                                                                                   |   train |   test |   oos |   rnd |\n",
      "|:-------------------------------------------------------------------------------------------------------|--------:|-------:|------:|------:|\n",
      "| ProjGrad lr=0.00036 mag_clip=1e+03 neg_slope=0 reverse_pref=False scale_orth=False weight_dim=1 β=0.87 |       0 | -0.787 | 10.79 | 28.07 |\n"
     ]
    },
    {
     "name": "stderr",
     "output_type": "stream",
     "text": [
      "[I 2024-10-09 13:14:06,490] Trial 227 finished with value: 1.1772639691714837 and parameters: {'lr': 0.0001933614737507545, 'β': 0.6084666926904605, 'reverse_pref': False, 'scale_orth': False, 'weight_dim': 1, 'neg_slope': 0, 'mag_clip': 'float', 'mag_clip_value': 0.014509489809925493}. Best is trial 119 with value: 1.2793834296724471.\n"
     ]
    },
    {
     "name": "stdout",
     "output_type": "stream",
     "text": [
      "\n",
      "| acc_inc/eval_ds [pp]                                                                                   |   train |   test |    oos |   rnd |\n",
      "|:-------------------------------------------------------------------------------------------------------|--------:|-------:|-------:|------:|\n",
      "| ProjGrad lr=0.00019 mag_clip=0.015 neg_slope=0 reverse_pref=False scale_orth=False weight_dim=1 β=0.61 |   4.959 |      0 | 17.726 | 8.772 |\n",
      "================================================================================\n"
     ]
    },
    {
     "name": "stderr",
     "output_type": "stream",
     "text": [
      "[I 2024-10-09 13:14:07,437] Using an existing study with name 'hs-svd-mse' instead of creating a new one.\n"
     ]
    },
    {
     "name": "stdout",
     "output_type": "stream",
     "text": [
      "loaded 332 hs-svd-mse trials\n"
     ]
    },
    {
     "name": "stderr",
     "output_type": "stream",
     "text": [
      "[I 2024-10-09 13:14:08,352] Using an existing study with name 'dpo' instead of creating a new one.\n"
     ]
    },
    {
     "name": "stdout",
     "output_type": "stream",
     "text": [
      "| hs-svd-mse N=✓14/332, best=1.017   |   importance | best                  |\n",
      "|:-----------------------------------|-------------:|:----------------------|\n",
      "| lr                                 |        0.892 | 0.0011948328168545441 |\n",
      "| α                                  |        0.071 | 0.6355835028602363    |\n",
      "| collect_input                      |        0.015 | False                 |\n",
      "| collect_hs                         |        0.012 | True                  |\n",
      "| dual_svd                           |        0.01  | True                  |\n",
      "| quantile                           |        0     | float                 |\n",
      "| quantile_value                     |      nan     | 0.30000000000000004   |\n",
      "================================================================================\n",
      "loaded 250 dpo trials\n"
     ]
    },
    {
     "name": "stderr",
     "output_type": "stream",
     "text": [
      "[I 2024-10-09 13:14:09,822] Using an existing study with name 'hs-ortho-prefvec' instead of creating a new one.\n"
     ]
    },
    {
     "name": "stdout",
     "output_type": "stream",
     "text": [
      "| dpo N=✓248/250, best=1.276   |   importance |        best |\n",
      "|:-----------------------------|-------------:|------------:|\n",
      "| lr                           |            1 | 0.000264989 |\n",
      "================================================================================\n",
      "loaded 261 hs-ortho-prefvec trials\n"
     ]
    },
    {
     "name": "stderr",
     "output_type": "stream",
     "text": [
      "[I 2024-10-09 13:14:12,344] Using an existing study with name 'projbp' instead of creating a new one.\n"
     ]
    },
    {
     "name": "stdout",
     "output_type": "stream",
     "text": [
      "| hs-ortho-prefvec N=✓259/261, best=1.152   |   importance | best                   |\n",
      "|:------------------------------------------|-------------:|:-----------------------|\n",
      "| lr                                        |        0.948 | 0.00041061394065629645 |\n",
      "| β                                         |        0.015 | 1.970152011478674      |\n",
      "| use_angle_loss                            |        0.015 | True                   |\n",
      "| orthogonal_map                            |        0.006 | matrix_exp             |\n",
      "| use_dpo_loss                              |        0.005 | False                  |\n",
      "| use_nll_loss                              |        0.004 | True                   |\n",
      "| weight_tokens                             |        0.003 | False                  |\n",
      "| use_orth_loss                             |        0.003 | True                   |\n",
      "| use_proj_rel                              |        0.002 | True                   |\n",
      "================================================================================\n",
      "loaded 363 projbp trials\n",
      "| projbp N=✓227/363, best=1.071   |   importance | best                  |\n",
      "|:--------------------------------|-------------:|:----------------------|\n",
      "| scale_orth                      |        0.394 | False                 |\n",
      "| β                               |        0.296 | 0.23837692484751438   |\n",
      "| lr                              |        0.285 | 4.999069498700412e-06 |\n",
      "| neg_slope                       |        0.018 | float                 |\n",
      "| mag_clip                        |        0.006 | float                 |\n",
      "| reverse_pref                    |        0.001 | True                  |\n",
      "| mag_clip_value                  |      nan     | 0.9814652443365963    |\n",
      "| neg_slope_value                 |      nan     | 0.6986700865313811    |\n"
     ]
    },
    {
     "name": "stderr",
     "output_type": "stream",
     "text": [
      "[I 2024-10-09 13:17:56,368] Trial 363 finished with value: 1.046242774566474 and parameters: {'lr': 2.591002663917422e-06, 'β': 0.2520078267727427, 'reverse_pref': True, 'scale_orth': False, 'neg_slope': 'float', 'mag_clip': 'float', 'mag_clip_value': 2.0793254026499017, 'neg_slope_value': 0.7567870831982831}. Best is trial 328 with value: 1.071290944123314.\n"
     ]
    },
    {
     "name": "stdout",
     "output_type": "stream",
     "text": [
      "\n",
      "| acc_inc/eval_ds [pp]                                                   |   train |   test |   oos |    rnd |\n",
      "|:-----------------------------------------------------------------------|--------:|-------:|------:|-------:|\n",
      "| ProjBP lr=2.6e-06 mag_clip=2.1 neg_slope=0.76 reverse_pref=True β=0.25 |   1.653 |      0 | 4.624 | -7.018 |\n"
     ]
    },
    {
     "name": "stderr",
     "output_type": "stream",
     "text": [
      "[I 2024-10-09 13:21:38,826] Trial 364 finished with value: 1.0655105973025047 and parameters: {'lr': 4.559724856401771e-06, 'β': 0.2767286306460258, 'reverse_pref': True, 'scale_orth': False, 'neg_slope': 'float', 'mag_clip': 'float', 'mag_clip_value': 7.787139915931726, 'neg_slope_value': 0.7145004908218866}. Best is trial 328 with value: 1.071290944123314.\n"
     ]
    },
    {
     "name": "stdout",
     "output_type": "stream",
     "text": [
      "\n",
      "| acc_inc/eval_ds [pp]                                                   |   train |   test |   oos |    rnd |\n",
      "|:-----------------------------------------------------------------------|--------:|-------:|------:|-------:|\n",
      "| ProjBP lr=4.6e-06 mag_clip=7.8 neg_slope=0.71 reverse_pref=True β=0.28 |   3.306 | -0.787 | 6.551 | -1.754 |\n"
     ]
    },
    {
     "name": "stderr",
     "output_type": "stream",
     "text": [
      "[I 2024-10-09 13:25:20,112] Trial 365 finished with value: 1.0655105973025047 and parameters: {'lr': 4.5959448525053915e-06, 'β': 0.28638541247700355, 'reverse_pref': True, 'scale_orth': False, 'neg_slope': 'float', 'mag_clip': 'float', 'mag_clip_value': 6.818987663594596, 'neg_slope_value': 0.7165908302286607}. Best is trial 328 with value: 1.071290944123314.\n"
     ]
    },
    {
     "name": "stdout",
     "output_type": "stream",
     "text": [
      "\n",
      "| acc_inc/eval_ds [pp]                                                   |   train |   test |   oos |    rnd |\n",
      "|:-----------------------------------------------------------------------|--------:|-------:|------:|-------:|\n",
      "| ProjBP lr=4.6e-06 mag_clip=6.8 neg_slope=0.72 reverse_pref=True β=0.29 |   3.306 | -0.787 | 6.551 | -3.509 |\n"
     ]
    },
    {
     "name": "stderr",
     "output_type": "stream",
     "text": [
      "[I 2024-10-09 13:29:01,551] Trial 366 finished with value: 1.0616570327552988 and parameters: {'lr': 3.7797827294553574e-06, 'β': 0.28212744285814195, 'reverse_pref': True, 'scale_orth': False, 'neg_slope': 'float', 'mag_clip': 'float', 'mag_clip_value': 8.02353834200876, 'neg_slope_value': 0.7231512398430333}. Best is trial 328 with value: 1.071290944123314.\n"
     ]
    },
    {
     "name": "stdout",
     "output_type": "stream",
     "text": [
      "\n",
      "| acc_inc/eval_ds [pp]                                                 |   train |   test |   oos |    rnd |\n",
      "|:---------------------------------------------------------------------|--------:|-------:|------:|-------:|\n",
      "| ProjBP lr=3.8e-06 mag_clip=8 neg_slope=0.72 reverse_pref=True β=0.28 |   3.306 | -0.787 | 6.166 | -8.772 |\n"
     ]
    },
    {
     "name": "stderr",
     "output_type": "stream",
     "text": [
      "[I 2024-10-09 13:32:41,844] Trial 367 finished with value: 1.0635838150289019 and parameters: {'lr': 4.7005795863399785e-06, 'β': 0.31497254838356104, 'reverse_pref': True, 'scale_orth': False, 'neg_slope': 'float', 'mag_clip': 'float', 'mag_clip_value': 5.503976913201984, 'neg_slope_value': 0.7001673963417452}. Best is trial 328 with value: 1.071290944123314.\n"
     ]
    },
    {
     "name": "stdout",
     "output_type": "stream",
     "text": [
      "\n",
      "| acc_inc/eval_ds [pp]                                                  |   train |   test |   oos |    rnd |\n",
      "|:----------------------------------------------------------------------|--------:|-------:|------:|-------:|\n",
      "| ProjBP lr=4.7e-06 mag_clip=5.5 neg_slope=0.7 reverse_pref=True β=0.31 |   3.306 | -0.787 | 6.358 | -1.754 |\n"
     ]
    },
    {
     "name": "stderr",
     "output_type": "stream",
     "text": [
      "[I 2024-10-09 13:36:22,189] Trial 368 finished with value: 1.0635838150289019 and parameters: {'lr': 4.960113136532779e-06, 'β': 0.30742738039828676, 'reverse_pref': True, 'scale_orth': False, 'neg_slope': 'float', 'mag_clip': 'float', 'mag_clip_value': 5.83305846976833, 'neg_slope_value': 0.6969914911132485}. Best is trial 328 with value: 1.071290944123314.\n"
     ]
    },
    {
     "name": "stdout",
     "output_type": "stream",
     "text": [
      "\n",
      "| acc_inc/eval_ds [pp]                                                |   train |   test |   oos |    rnd |\n",
      "|:--------------------------------------------------------------------|--------:|-------:|------:|-------:|\n",
      "| ProjBP lr=5e-06 mag_clip=5.8 neg_slope=0.7 reverse_pref=True β=0.31 |   3.306 | -0.787 | 6.358 | -3.509 |\n"
     ]
    },
    {
     "name": "stderr",
     "output_type": "stream",
     "text": [
      "[I 2024-10-09 13:40:02,625] Trial 369 finished with value: 1.0616570327552988 and parameters: {'lr': 6.311581100183628e-06, 'β': 0.31726637173368205, 'reverse_pref': True, 'scale_orth': False, 'neg_slope': 'float', 'mag_clip': 'float', 'mag_clip_value': 1.4357652960070928, 'neg_slope_value': 0.7383323635350386}. Best is trial 328 with value: 1.071290944123314.\n"
     ]
    },
    {
     "name": "stdout",
     "output_type": "stream",
     "text": [
      "\n",
      "| acc_inc/eval_ds [pp]                                                   |   train |   test |   oos |   rnd |\n",
      "|:-----------------------------------------------------------------------|--------:|-------:|------:|------:|\n",
      "| ProjBP lr=6.3e-06 mag_clip=1.4 neg_slope=0.74 reverse_pref=True β=0.32 |   2.479 | -0.787 | 6.166 |     0 |\n"
     ]
    },
    {
     "name": "stderr",
     "output_type": "stream",
     "text": [
      "[I 2024-10-09 13:43:42,875] Trial 370 finished with value: 1.0520231213872833 and parameters: {'lr': 3.300674845534136e-06, 'β': 0.27400712924574055, 'reverse_pref': True, 'scale_orth': False, 'neg_slope': 'float', 'mag_clip': 'float', 'mag_clip_value': 6.64888154097745, 'neg_slope_value': 0.7060726513197825}. Best is trial 328 with value: 1.071290944123314.\n"
     ]
    },
    {
     "name": "stdout",
     "output_type": "stream",
     "text": [
      "\n",
      "| acc_inc/eval_ds [pp]                                                   |   train |   test |   oos |   rnd |\n",
      "|:-----------------------------------------------------------------------|--------:|-------:|------:|------:|\n",
      "| ProjBP lr=3.3e-06 mag_clip=6.6 neg_slope=0.71 reverse_pref=True β=0.27 |   3.306 | -0.787 | 5.202 | 1.754 |\n"
     ]
    },
    {
     "name": "stderr",
     "output_type": "stream",
     "text": [
      "[I 2024-10-09 13:47:23,254] Trial 371 finished with value: 1.0655105973025047 and parameters: {'lr': 5.390458109063414e-06, 'β': 0.30344961409317694, 'reverse_pref': True, 'scale_orth': False, 'neg_slope': 'float', 'mag_clip': 'float', 'mag_clip_value': 5.354895478823786, 'neg_slope_value': 0.6913995037972435}. Best is trial 328 with value: 1.071290944123314.\n"
     ]
    },
    {
     "name": "stdout",
     "output_type": "stream",
     "text": [
      "\n",
      "| acc_inc/eval_ds [pp]                                                  |   train |   test |   oos |    rnd |\n",
      "|:----------------------------------------------------------------------|--------:|-------:|------:|-------:|\n",
      "| ProjBP lr=5.4e-06 mag_clip=5.4 neg_slope=0.69 reverse_pref=True β=0.3 |   3.306 | -0.787 | 6.551 | -7.018 |\n"
     ]
    },
    {
     "name": "stderr",
     "output_type": "stream",
     "text": [
      "[I 2024-10-09 13:51:02,918] Trial 372 finished with value: 1.042389210019268 and parameters: {'lr': 7.0815206767860855e-06, 'β': 0.34476290650673175, 'reverse_pref': True, 'scale_orth': False, 'neg_slope': 'float', 'mag_clip': 'float', 'mag_clip_value': 13.270571598307448, 'neg_slope_value': 0.6918864242117638}. Best is trial 328 with value: 1.071290944123314.\n"
     ]
    },
    {
     "name": "stdout",
     "output_type": "stream",
     "text": [
      "\n",
      "| acc_inc/eval_ds [pp]                                                  |   train |   test |   oos |    rnd |\n",
      "|:----------------------------------------------------------------------|--------:|-------:|------:|-------:|\n",
      "| ProjBP lr=7.1e-06 mag_clip=13 neg_slope=0.69 reverse_pref=True β=0.34 |   2.479 |      0 | 4.239 | 10.526 |\n"
     ]
    },
    {
     "name": "stderr",
     "output_type": "stream",
     "text": [
      "[I 2024-10-09 13:54:43,558] Trial 373 finished with value: 1.069364161849711 and parameters: {'lr': 5.874514870862885e-06, 'β': 0.30323080208388664, 'reverse_pref': True, 'scale_orth': False, 'neg_slope': 'float', 'mag_clip': 'float', 'mag_clip_value': 5.482390578081769, 'neg_slope_value': 0.7121999944189288}. Best is trial 328 with value: 1.071290944123314.\n"
     ]
    },
    {
     "name": "stdout",
     "output_type": "stream",
     "text": [
      "\n",
      "| acc_inc/eval_ds [pp]                                                  |   train |   test |   oos |    rnd |\n",
      "|:----------------------------------------------------------------------|--------:|-------:|------:|-------:|\n",
      "| ProjBP lr=5.9e-06 mag_clip=5.5 neg_slope=0.71 reverse_pref=True β=0.3 |   3.306 | -0.787 | 6.936 | -7.018 |\n"
     ]
    },
    {
     "name": "stderr",
     "output_type": "stream",
     "text": [
      "[I 2024-10-09 13:58:23,178] Trial 374 finished with value: 1.0655105973025047 and parameters: {'lr': 6.056583057123059e-06, 'β': 0.30079404594434916, 'reverse_pref': True, 'scale_orth': False, 'neg_slope': 'float', 'mag_clip': 'float', 'mag_clip_value': 5.494710470116344, 'neg_slope_value': 0.7164798348488671}. Best is trial 328 with value: 1.071290944123314.\n"
     ]
    },
    {
     "name": "stdout",
     "output_type": "stream",
     "text": [
      "\n",
      "| acc_inc/eval_ds [pp]                                                  |   train |   test |   oos |    rnd |\n",
      "|:----------------------------------------------------------------------|--------:|-------:|------:|-------:|\n",
      "| ProjBP lr=6.1e-06 mag_clip=5.5 neg_slope=0.72 reverse_pref=True β=0.3 |   3.306 | -0.787 | 6.551 | -1.754 |\n"
     ]
    },
    {
     "name": "stderr",
     "output_type": "stream",
     "text": [
      "[I 2024-10-09 14:02:05,353] Trial 375 finished with value: 1.001926782273603 and parameters: {'lr': 8.82530534103481e-06, 'β': 0.303068205586028, 'reverse_pref': True, 'scale_orth': True, 'neg_slope': 'float', 'mag_clip': 'float', 'mag_clip_value': 6.0263924164384415, 'neg_slope_value': 0.7208220884399679}. Best is trial 328 with value: 1.071290944123314.\n"
     ]
    },
    {
     "name": "stdout",
     "output_type": "stream",
     "text": [
      "\n",
      "| acc_inc/eval_ds [pp]                                                                |   train |   test |   oos |   rnd |\n",
      "|:------------------------------------------------------------------------------------|--------:|-------:|------:|------:|\n",
      "| ProjBP lr=8.8e-06 mag_clip=6 neg_slope=0.72 reverse_pref=True scale_orth=True β=0.3 |       0 |      0 | 0.193 | 1.754 |\n"
     ]
    },
    {
     "name": "stderr",
     "output_type": "stream",
     "text": [
      "[I 2024-10-09 14:05:46,278] Trial 376 finished with value: 0.603082851637765 and parameters: {'lr': 6.51958026985373e-06, 'β': 0.3045978834862691, 'reverse_pref': True, 'scale_orth': False, 'neg_slope': 0, 'mag_clip': 'float', 'mag_clip_value': 3.124881677812964}. Best is trial 328 with value: 1.071290944123314.\n"
     ]
    },
    {
     "name": "stdout",
     "output_type": "stream",
     "text": [
      "\n",
      "| acc_inc/eval_ds [pp]                                               |   train |   test |     oos |   rnd |\n",
      "|:-------------------------------------------------------------------|--------:|-------:|--------:|------:|\n",
      "| ProjBP lr=6.5e-06 mag_clip=3.1 neg_slope=0 reverse_pref=True β=0.3 | -21.488 | -7.087 | -39.692 |     0 |\n"
     ]
    },
    {
     "name": "stderr",
     "output_type": "stream",
     "text": [
      "[I 2024-10-09 14:09:27,471] Trial 377 finished with value: 1.071290944123314 and parameters: {'lr': 5.299741427563207e-06, 'β': 0.28952515722602545, 'reverse_pref': True, 'scale_orth': False, 'neg_slope': 'float', 'mag_clip': 'float', 'mag_clip_value': 5.943586549489329, 'neg_slope_value': 0.6909901618355575}. Best is trial 328 with value: 1.071290944123314.\n"
     ]
    },
    {
     "name": "stdout",
     "output_type": "stream",
     "text": [
      "\n",
      "| acc_inc/eval_ds [pp]                                                   |   train |   test |   oos |    rnd |\n",
      "|:-----------------------------------------------------------------------|--------:|-------:|------:|-------:|\n",
      "| ProjBP lr=5.3e-06 mag_clip=5.9 neg_slope=0.69 reverse_pref=True β=0.29 |   2.479 | -0.787 | 7.129 | -5.263 |\n"
     ]
    },
    {
     "name": "stderr",
     "output_type": "stream",
     "text": [
      "[I 2024-10-09 14:13:03,311] Trial 378 finished with value: 1.067437379576108 and parameters: {'lr': 5.501231194778685e-06, 'β': 0.2919810848657904, 'reverse_pref': True, 'scale_orth': False, 'neg_slope': 'float', 'mag_clip': 'float', 'mag_clip_value': 5.283612846536679, 'neg_slope_value': 0.717014395909951}. Best is trial 328 with value: 1.071290944123314.\n"
     ]
    },
    {
     "name": "stdout",
     "output_type": "stream",
     "text": [
      "\n",
      "| acc_inc/eval_ds [pp]                                                   |   train |   test |   oos |     rnd |\n",
      "|:-----------------------------------------------------------------------|--------:|-------:|------:|--------:|\n",
      "| ProjBP lr=5.5e-06 mag_clip=5.3 neg_slope=0.72 reverse_pref=True β=0.29 |   2.479 | -0.787 | 6.744 | -12.281 |\n"
     ]
    },
    {
     "name": "stderr",
     "output_type": "stream",
     "text": [
      "[I 2024-10-09 14:16:45,658] Trial 379 finished with value: 1.069364161849711 and parameters: {'lr': 5.761764897423232e-06, 'β': 0.29224998159287097, 'reverse_pref': True, 'scale_orth': False, 'neg_slope': 'float', 'mag_clip': 'float', 'mag_clip_value': 6.279940742912485, 'neg_slope_value': 0.7516044835173747}. Best is trial 328 with value: 1.071290944123314.\n"
     ]
    },
    {
     "name": "stdout",
     "output_type": "stream",
     "text": [
      "\n",
      "| acc_inc/eval_ds [pp]                                                   |   train |   test |   oos |     rnd |\n",
      "|:-----------------------------------------------------------------------|--------:|-------:|------:|--------:|\n",
      "| ProjBP lr=5.8e-06 mag_clip=6.3 neg_slope=0.75 reverse_pref=True β=0.29 |   2.479 | -0.787 | 6.936 | -12.281 |\n"
     ]
    },
    {
     "name": "stderr",
     "output_type": "stream",
     "text": [
      "[I 2024-10-09 14:20:28,760] Trial 380 finished with value: 1.0211946050096339 and parameters: {'lr': 7.842316396926829e-06, 'β': 0.28587548709191063, 'reverse_pref': True, 'scale_orth': False, 'neg_slope': 'float', 'mag_clip': 'float', 'mag_clip_value': 4.3305408335427265, 'neg_slope_value': 0.7537435414611232}. Best is trial 328 with value: 1.071290944123314.\n"
     ]
    },
    {
     "name": "stdout",
     "output_type": "stream",
     "text": [
      "\n",
      "| acc_inc/eval_ds [pp]                                                   |   train |   test |   oos |   rnd |\n",
      "|:-----------------------------------------------------------------------|--------:|-------:|------:|------:|\n",
      "| ProjBP lr=7.8e-06 mag_clip=4.3 neg_slope=0.75 reverse_pref=True β=0.29 |   1.653 |      0 | 2.119 | 8.772 |\n"
     ]
    },
    {
     "name": "stderr",
     "output_type": "stream",
     "text": [
      "[I 2024-10-09 14:24:10,335] Trial 381 finished with value: 1.0655105973025047 and parameters: {'lr': 6.264550212421447e-06, 'β': 0.3332044050261854, 'reverse_pref': True, 'scale_orth': False, 'neg_slope': 'float', 'mag_clip': 'float', 'mag_clip_value': 8.778346366197738, 'neg_slope_value': 0.7417701208080223}. Best is trial 328 with value: 1.071290944123314.\n"
     ]
    },
    {
     "name": "stdout",
     "output_type": "stream",
     "text": [
      "\n",
      "| acc_inc/eval_ds [pp]                                                   |   train |   test |   oos |   rnd |\n",
      "|:-----------------------------------------------------------------------|--------:|-------:|------:|------:|\n",
      "| ProjBP lr=6.3e-06 mag_clip=8.8 neg_slope=0.74 reverse_pref=True β=0.33 |   2.479 | -0.787 | 6.551 |     0 |\n"
     ]
    },
    {
     "name": "stderr",
     "output_type": "stream",
     "text": [
      "[I 2024-10-09 14:27:49,108] Trial 382 finished with value: 1.071290944123314 and parameters: {'lr': 6.175626277597294e-06, 'β': 0.24194829036089266, 'reverse_pref': True, 'scale_orth': False, 'neg_slope': 'float', 'mag_clip': 'float', 'mag_clip_value': 15.800682797477904, 'neg_slope_value': 0.7416499615477786}. Best is trial 328 with value: 1.071290944123314.\n"
     ]
    },
    {
     "name": "stdout",
     "output_type": "stream",
     "text": [
      "\n",
      "| acc_inc/eval_ds [pp]                                                  |   train |   test |   oos |    rnd |\n",
      "|:----------------------------------------------------------------------|--------:|-------:|------:|-------:|\n",
      "| ProjBP lr=6.2e-06 mag_clip=16 neg_slope=0.74 reverse_pref=True β=0.24 |   2.479 | -0.787 | 7.129 | -3.509 |\n",
      "================================================================================\n"
     ]
    },
    {
     "name": "stderr",
     "output_type": "stream",
     "text": [
      "[I 2024-10-09 14:27:50,158] Using an existing study with name 'hs-hra-rank' instead of creating a new one.\n"
     ]
    },
    {
     "name": "stdout",
     "output_type": "stream",
     "text": [
      "loaded 262 hs-hra-rank trials\n"
     ]
    },
    {
     "name": "stderr",
     "output_type": "stream",
     "text": [
      "[I 2024-10-09 14:27:53,270] Using an existing study with name 'hs-ortho-prefvec' instead of creating a new one.\n"
     ]
    },
    {
     "name": "stdout",
     "output_type": "stream",
     "text": [
      "| hs-hra-rank N=✓259/262, best=1.152   |   importance |         best |\n",
      "|:-------------------------------------|-------------:|-------------:|\n",
      "| lr                                   |        0.844 |  0.000332682 |\n",
      "| β                                    |        0.072 |  0.37992     |\n",
      "| r                                    |        0.042 | 38           |\n",
      "| apply_GS                             |        0.042 |  1           |\n",
      "| α                                    |        0     |  0.280164    |\n",
      "================================================================================\n",
      "loaded 261 hs-ortho-prefvec trials\n"
     ]
    },
    {
     "name": "stderr",
     "output_type": "stream",
     "text": [
      "[I 2024-10-09 14:27:56,158] Using an existing study with name 'hs-svd-mse' instead of creating a new one.\n"
     ]
    },
    {
     "name": "stdout",
     "output_type": "stream",
     "text": [
      "| hs-ortho-prefvec N=✓259/261, best=1.152   |   importance | best                   |\n",
      "|:------------------------------------------|-------------:|:-----------------------|\n",
      "| lr                                        |        0.931 | 0.00041061394065629645 |\n",
      "| β                                         |        0.024 | 1.970152011478674      |\n",
      "| use_angle_loss                            |        0.015 | True                   |\n",
      "| orthogonal_map                            |        0.014 | matrix_exp             |\n",
      "| use_dpo_loss                              |        0.009 | False                  |\n",
      "| weight_tokens                             |        0.003 | False                  |\n",
      "| use_proj_rel                              |        0.002 | True                   |\n",
      "| use_nll_loss                              |        0.001 | True                   |\n",
      "| use_orth_loss                             |        0.001 | True                   |\n",
      "================================================================================\n",
      "loaded 332 hs-svd-mse trials\n"
     ]
    },
    {
     "name": "stderr",
     "output_type": "stream",
     "text": [
      "[I 2024-10-09 14:27:57,281] Using an existing study with name 'projbp' instead of creating a new one.\n"
     ]
    },
    {
     "name": "stdout",
     "output_type": "stream",
     "text": [
      "| hs-svd-mse N=✓14/332, best=1.017   |   importance | best                  |\n",
      "|:-----------------------------------|-------------:|:----------------------|\n",
      "| lr                                 |        0.946 | 0.0011948328168545441 |\n",
      "| α                                  |        0.032 | 0.6355835028602363    |\n",
      "| collect_hs                         |        0.012 | True                  |\n",
      "| quantile                           |        0.011 | float                 |\n",
      "| collect_input                      |        0     | False                 |\n",
      "| dual_svd                           |        0     | True                  |\n",
      "| quantile_value                     |      nan     | 0.30000000000000004   |\n",
      "================================================================================\n",
      "loaded 383 projbp trials\n",
      "| projbp N=✓247/383, best=1.071   |   importance | best                  |\n",
      "|:--------------------------------|-------------:|:----------------------|\n",
      "| scale_orth                      |        0.426 | False                 |\n",
      "| β                               |        0.296 | 0.23837692484751438   |\n",
      "| lr                              |        0.254 | 4.999069498700412e-06 |\n",
      "| neg_slope                       |        0.013 | float                 |\n",
      "| mag_clip                        |        0.008 | float                 |\n",
      "| reverse_pref                    |        0.001 | True                  |\n",
      "| mag_clip_value                  |      nan     | 0.9814652443365963    |\n",
      "| neg_slope_value                 |      nan     | 0.6986700865313811    |\n"
     ]
    },
    {
     "name": "stderr",
     "output_type": "stream",
     "text": [
      "[I 2024-10-09 14:31:38,668] Trial 383 finished with value: 1.0578034682080926 and parameters: {'lr': 6.708623466128463e-06, 'β': 0.23780089668140156, 'reverse_pref': True, 'scale_orth': False, 'neg_slope': 'float', 'mag_clip': 'float', 'mag_clip_value': 19.38388219510462, 'neg_slope_value': 0.7258022923557862}. Best is trial 328 with value: 1.071290944123314.\n"
     ]
    },
    {
     "name": "stdout",
     "output_type": "stream",
     "text": [
      "\n",
      "| acc_inc/eval_ds [pp]                                                  |   train |   test |   oos |   rnd |\n",
      "|:----------------------------------------------------------------------|--------:|-------:|------:|------:|\n",
      "| ProjBP lr=6.7e-06 mag_clip=19 neg_slope=0.73 reverse_pref=True β=0.24 |   2.479 | -0.787 |  5.78 | 1.754 |\n"
     ]
    },
    {
     "name": "stderr",
     "output_type": "stream",
     "text": [
      "[I 2024-10-09 14:35:19,452] Trial 384 finished with value: 0.9364161849710984 and parameters: {'lr': 8.259881015063915e-06, 'β': 0.33821941626542396, 'reverse_pref': True, 'scale_orth': False, 'neg_slope': 'float', 'mag_clip': 'float', 'mag_clip_value': 11.272460024409929, 'neg_slope_value': 0.7145544321467143}. Best is trial 328 with value: 1.071290944123314.\n"
     ]
    },
    {
     "name": "stdout",
     "output_type": "stream",
     "text": [
      "\n",
      "| acc_inc/eval_ds [pp]                                                  |   train |   test |    oos |   rnd |\n",
      "|:----------------------------------------------------------------------|--------:|-------:|-------:|------:|\n",
      "| ProjBP lr=8.3e-06 mag_clip=11 neg_slope=0.71 reverse_pref=True β=0.34 |  -2.479 |      0 | -6.358 | 8.772 |\n"
     ]
    },
    {
     "name": "stderr",
     "output_type": "stream",
     "text": [
      "[I 2024-10-09 14:39:00,674] Trial 385 finished with value: 1.067437379576108 and parameters: {'lr': 6.207088152339604e-06, 'β': 0.25092567598106713, 'reverse_pref': True, 'scale_orth': False, 'neg_slope': 'float', 'mag_clip': 'float', 'mag_clip_value': 33.339136065069, 'neg_slope_value': 0.7372487424354454}. Best is trial 328 with value: 1.071290944123314.\n"
     ]
    },
    {
     "name": "stdout",
     "output_type": "stream",
     "text": [
      "\n",
      "| acc_inc/eval_ds [pp]                                                  |   train |   test |   oos |    rnd |\n",
      "|:----------------------------------------------------------------------|--------:|-------:|------:|-------:|\n",
      "| ProjBP lr=6.2e-06 mag_clip=33 neg_slope=0.74 reverse_pref=True β=0.25 |   3.306 | -0.787 | 6.744 | -1.754 |\n"
     ]
    },
    {
     "name": "stderr",
     "output_type": "stream",
     "text": [
      "[I 2024-10-09 14:42:40,992] Trial 386 finished with value: 0.6685934489402698 and parameters: {'lr': 9.827802719826042e-06, 'β': 0.25347564441974185, 'reverse_pref': True, 'scale_orth': False, 'neg_slope': 'float', 'mag_clip': 'float', 'mag_clip_value': 29.536830756118427, 'neg_slope_value': 0.7660539030611802}. Best is trial 328 with value: 1.071290944123314.\n"
     ]
    },
    {
     "name": "stdout",
     "output_type": "stream",
     "text": [
      "\n",
      "| acc_inc/eval_ds [pp]                                                  |   train |   test |     oos |    rnd |\n",
      "|:----------------------------------------------------------------------|--------:|-------:|--------:|-------:|\n",
      "| ProjBP lr=9.8e-06 mag_clip=30 neg_slope=0.77 reverse_pref=True β=0.25 | -14.876 | -8.661 | -33.141 | 10.526 |\n"
     ]
    },
    {
     "name": "stderr",
     "output_type": "stream",
     "text": [
      "[I 2024-10-09 14:46:22,073] Trial 387 finished with value: 1.071290944123314 and parameters: {'lr': 6.38011790748887e-06, 'β': 0.22738951187048212, 'reverse_pref': True, 'scale_orth': False, 'neg_slope': 'float', 'mag_clip': 'float', 'mag_clip_value': 8.413723599074215, 'neg_slope_value': 0.7434685662153384}. Best is trial 328 with value: 1.071290944123314.\n"
     ]
    },
    {
     "name": "stdout",
     "output_type": "stream",
     "text": [
      "\n",
      "| acc_inc/eval_ds [pp]                                                   |   train |   test |   oos |    rnd |\n",
      "|:-----------------------------------------------------------------------|--------:|-------:|------:|-------:|\n",
      "| ProjBP lr=6.4e-06 mag_clip=8.4 neg_slope=0.74 reverse_pref=True β=0.23 |   2.479 | -0.787 | 7.129 | -3.509 |\n"
     ]
    },
    {
     "name": "stderr",
     "output_type": "stream",
     "text": [
      "[I 2024-10-09 14:50:05,263] Trial 388 finished with value: 0.9190751445086706 and parameters: {'lr': 7.709387014442949e-06, 'β': 0.2300536810330972, 'reverse_pref': True, 'scale_orth': False, 'neg_slope': 'float', 'mag_clip': 'float', 'mag_clip_value': 13.525569999179742, 'neg_slope_value': 0.7225047275808327}. Best is trial 328 with value: 1.071290944123314.\n"
     ]
    },
    {
     "name": "stdout",
     "output_type": "stream",
     "text": [
      "\n",
      "| acc_inc/eval_ds [pp]                                                  |   train |   test |    oos |   rnd |\n",
      "|:----------------------------------------------------------------------|--------:|-------:|-------:|------:|\n",
      "| ProjBP lr=7.7e-06 mag_clip=14 neg_slope=0.72 reverse_pref=True β=0.23 |  -4.132 | -0.787 | -8.092 | 5.263 |\n"
     ]
    },
    {
     "name": "stderr",
     "output_type": "stream",
     "text": [
      "[I 2024-10-09 14:53:49,237] Trial 389 finished with value: 1.001926782273603 and parameters: {'lr': 1.9609975707743624e-07, 'β': 0.2775657361092069, 'reverse_pref': True, 'scale_orth': False, 'neg_slope': 'float', 'mag_clip': 'float', 'mag_clip_value': 1.9815750803613357, 'neg_slope_value': 0.7140475900557862}. Best is trial 328 with value: 1.071290944123314.\n"
     ]
    },
    {
     "name": "stdout",
     "output_type": "stream",
     "text": [
      "\n",
      "| acc_inc/eval_ds [pp]                                               |   train |   test |   oos |   rnd |\n",
      "|:-------------------------------------------------------------------|--------:|-------:|------:|------:|\n",
      "| ProjBP lr=2e-07 mag_clip=2 neg_slope=0.71 reverse_pref=True β=0.28 |   0.826 |      0 | 0.193 | 3.509 |\n"
     ]
    },
    {
     "name": "stderr",
     "output_type": "stream",
     "text": [
      "[I 2024-10-09 14:57:31,261] Trial 390 finished with value: 1.0635838150289019 and parameters: {'lr': 3.53532814155015e-06, 'β': 0.21938278427879374, 'reverse_pref': True, 'scale_orth': False, 'neg_slope': 'float', 'mag_clip': 'float', 'mag_clip_value': 52.58882249248688, 'neg_slope_value': 0.7659851869751203}. Best is trial 328 with value: 1.071290944123314.\n"
     ]
    },
    {
     "name": "stdout",
     "output_type": "stream",
     "text": [
      "\n",
      "| acc_inc/eval_ds [pp]                                                  |   train |   test |   oos |    rnd |\n",
      "|:----------------------------------------------------------------------|--------:|-------:|------:|-------:|\n",
      "| ProjBP lr=3.5e-06 mag_clip=53 neg_slope=0.77 reverse_pref=True β=0.22 |   3.306 | -0.787 | 6.358 | -3.509 |\n"
     ]
    },
    {
     "name": "stderr",
     "output_type": "stream",
     "text": [
      "[I 2024-10-09 15:01:14,524] Trial 391 finished with value: 1.069364161849711 and parameters: {'lr': 5.8486176998178376e-06, 'β': 0.250098951908056, 'reverse_pref': True, 'scale_orth': False, 'neg_slope': 'float', 'mag_clip': 'float', 'mag_clip_value': 3.84952792122374, 'neg_slope_value': 0.6851724275755716}. Best is trial 328 with value: 1.071290944123314.\n"
     ]
    },
    {
     "name": "stdout",
     "output_type": "stream",
     "text": [
      "\n",
      "| acc_inc/eval_ds [pp]                                                   |   train |   test |   oos |    rnd |\n",
      "|:-----------------------------------------------------------------------|--------:|-------:|------:|-------:|\n",
      "| ProjBP lr=5.8e-06 mag_clip=3.8 neg_slope=0.69 reverse_pref=True β=0.25 |   2.479 | -0.787 | 6.936 | -1.754 |\n"
     ]
    },
    {
     "name": "stderr",
     "output_type": "stream",
     "text": [
      "[I 2024-10-09 15:04:58,315] Trial 392 finished with value: 1.0655105973025047 and parameters: {'lr': 5.525622763032503e-06, 'β': 0.2514914348567708, 'reverse_pref': True, 'scale_orth': False, 'neg_slope': 'float', 'mag_clip': 'float', 'mag_clip_value': 3.334247660914852, 'neg_slope_value': 0.6780910524752223}. Best is trial 328 with value: 1.071290944123314.\n"
     ]
    },
    {
     "name": "stdout",
     "output_type": "stream",
     "text": [
      "\n",
      "| acc_inc/eval_ds [pp]                                                   |   train |   test |   oos |   rnd |\n",
      "|:-----------------------------------------------------------------------|--------:|-------:|------:|------:|\n",
      "| ProjBP lr=5.5e-06 mag_clip=3.3 neg_slope=0.68 reverse_pref=True β=0.25 |   3.306 | -0.787 | 6.551 |     0 |\n"
     ]
    },
    {
     "name": "stderr",
     "output_type": "stream",
     "text": [
      "[I 2024-10-09 15:08:42,223] Trial 393 finished with value: 1.0655105973025047 and parameters: {'lr': 3.673875901901554e-06, 'β': 0.26010821659410815, 'reverse_pref': True, 'scale_orth': False, 'neg_slope': 'float', 'mag_clip': 'float', 'mag_clip_value': 1.4091713570135456, 'neg_slope_value': 0.7402363507597794}. Best is trial 328 with value: 1.071290944123314.\n"
     ]
    },
    {
     "name": "stdout",
     "output_type": "stream",
     "text": [
      "\n",
      "| acc_inc/eval_ds [pp]                                                   |   train |   test |   oos |   rnd |\n",
      "|:-----------------------------------------------------------------------|--------:|-------:|------:|------:|\n",
      "| ProjBP lr=3.7e-06 mag_clip=1.4 neg_slope=0.74 reverse_pref=True β=0.26 |   3.306 | -0.787 | 6.551 | 1.754 |\n"
     ]
    },
    {
     "name": "stderr",
     "output_type": "stream",
     "text": [
      "[I 2024-10-09 15:12:25,965] Trial 394 finished with value: 1.071290944123314 and parameters: {'lr': 7.001604233000944e-06, 'β': 0.2358317437229493, 'reverse_pref': True, 'scale_orth': False, 'neg_slope': 'float', 'mag_clip': 'float', 'mag_clip_value': 3.814843300761227, 'neg_slope_value': 0.7893804559527228}. Best is trial 328 with value: 1.071290944123314.\n"
     ]
    },
    {
     "name": "stdout",
     "output_type": "stream",
     "text": [
      "\n",
      "| acc_inc/eval_ds [pp]                                                 |   train |   test |   oos |   rnd |\n",
      "|:---------------------------------------------------------------------|--------:|-------:|------:|------:|\n",
      "| ProjBP lr=7e-06 mag_clip=3.8 neg_slope=0.79 reverse_pref=True β=0.24 |   3.306 | -0.787 | 7.129 |     0 |\n"
     ]
    },
    {
     "name": "stderr",
     "output_type": "stream",
     "text": [
      "[I 2024-10-09 15:16:12,572] Trial 395 finished with value: 1.0520231213872833 and parameters: {'lr': 8.028512919146777e-06, 'β': 0.23366506462971148, 'reverse_pref': True, 'scale_orth': False, 'neg_slope': 'float', 'mag_clip': 'float', 'mag_clip_value': 3.635731743693123, 'neg_slope_value': 0.7995794448884156}. Best is trial 328 with value: 1.071290944123314.\n"
     ]
    },
    {
     "name": "stdout",
     "output_type": "stream",
     "text": [
      "\n",
      "| acc_inc/eval_ds [pp]                                                |   train |   test |   oos |   rnd |\n",
      "|:--------------------------------------------------------------------|--------:|-------:|------:|------:|\n",
      "| ProjBP lr=8e-06 mag_clip=3.6 neg_slope=0.8 reverse_pref=True β=0.23 |   2.479 |      0 | 5.202 | 1.754 |\n"
     ]
    },
    {
     "name": "stderr",
     "output_type": "stream",
     "text": [
      "[I 2024-10-09 15:20:03,598] Trial 396 finished with value: 1.071290944123314 and parameters: {'lr': 6.622736821756992e-06, 'β': 0.20886953748255635, 'reverse_pref': True, 'scale_orth': False, 'neg_slope': 'float', 'mag_clip': 'float', 'mag_clip_value': 2.2592537383065516, 'neg_slope_value': 0.7860640325023677}. Best is trial 328 with value: 1.071290944123314.\n"
     ]
    },
    {
     "name": "stdout",
     "output_type": "stream",
     "text": [
      "\n",
      "| acc_inc/eval_ds [pp]                                                   |   train |   test |   oos |    rnd |\n",
      "|:-----------------------------------------------------------------------|--------:|-------:|------:|-------:|\n",
      "| ProjBP lr=6.6e-06 mag_clip=2.3 neg_slope=0.79 reverse_pref=True β=0.21 |   3.306 | -0.787 | 7.129 | -5.263 |\n"
     ]
    },
    {
     "name": "stderr",
     "output_type": "stream",
     "text": [
      "[I 2024-10-09 15:23:41,028] Trial 397 finished with value: 0.5626204238921002 and parameters: {'lr': 1.0838306866312307e-05, 'β': 0.20974604711489214, 'reverse_pref': True, 'scale_orth': False, 'neg_slope': 'float', 'mag_clip': 'float', 'mag_clip_value': 2.201473175490471, 'neg_slope_value': 0.7931709270871621}. Best is trial 328 with value: 1.071290944123314.\n"
     ]
    },
    {
     "name": "stdout",
     "output_type": "stream",
     "text": [
      "\n",
      "| acc_inc/eval_ds [pp]                                                   |   train |   test |     oos |    rnd |\n",
      "|:-----------------------------------------------------------------------|--------:|-------:|--------:|-------:|\n",
      "| ProjBP lr=1.1e-05 mag_clip=2.2 neg_slope=0.79 reverse_pref=True β=0.21 | -28.099 | -18.11 | -43.738 | 15.789 |\n"
     ]
    },
    {
     "name": "stderr",
     "output_type": "stream",
     "text": [
      "[I 2024-10-09 15:27:19,914] Trial 398 finished with value: 1.0578034682080926 and parameters: {'lr': 7.2800805050428005e-06, 'β': 0.23382926195277132, 'reverse_pref': True, 'scale_orth': False, 'neg_slope': 'float', 'mag_clip': 'float', 'mag_clip_value': 1.3486314225404277, 'neg_slope_value': 0.777683947600491}. Best is trial 328 with value: 1.071290944123314.\n"
     ]
    },
    {
     "name": "stdout",
     "output_type": "stream",
     "text": [
      "\n",
      "| acc_inc/eval_ds [pp]                                                   |   train |   test |   oos |    rnd |\n",
      "|:-----------------------------------------------------------------------|--------:|-------:|------:|-------:|\n",
      "| ProjBP lr=7.3e-06 mag_clip=1.3 neg_slope=0.78 reverse_pref=True β=0.23 |   3.306 |      0 |  5.78 | -3.509 |\n"
     ]
    },
    {
     "name": "stderr",
     "output_type": "stream",
     "text": [
      "[I 2024-10-09 15:31:05,088] Trial 399 finished with value: 1.0038535645472062 and parameters: {'lr': 1.0057871231357185e-05, 'β': 0.20021385254388382, 'reverse_pref': True, 'scale_orth': True, 'neg_slope': 0, 'mag_clip': 'float', 'mag_clip_value': 2.301889521693904}. Best is trial 328 with value: 1.071290944123314.\n"
     ]
    },
    {
     "name": "stdout",
     "output_type": "stream",
     "text": [
      "\n",
      "| acc_inc/eval_ds [pp]                                                             |   train |   test |   oos |   rnd |\n",
      "|:---------------------------------------------------------------------------------|--------:|-------:|------:|------:|\n",
      "| ProjBP lr=1e-05 mag_clip=2.3 neg_slope=0 reverse_pref=True scale_orth=True β=0.2 |   0.826 |      0 | 0.385 |     0 |\n"
     ]
    },
    {
     "name": "stderr",
     "output_type": "stream",
     "text": [
      "[I 2024-10-09 15:34:43,964] Trial 400 finished with value: 0.44123314065510605 and parameters: {'lr': 0.007868830784433543, 'β': 0.2566544196446344, 'reverse_pref': True, 'scale_orth': False, 'neg_slope': 'float', 'mag_clip': 'float', 'mag_clip_value': 4.192988760286425, 'neg_slope_value': 0.7513274138652054}. Best is trial 328 with value: 1.071290944123314.\n"
     ]
    },
    {
     "name": "stdout",
     "output_type": "stream",
     "text": [
      "\n",
      "| acc_inc/eval_ds [pp]                                                  |   train |    test |     oos |    rnd |\n",
      "|:----------------------------------------------------------------------|--------:|--------:|--------:|-------:|\n",
      "| ProjBP lr=0.0079 mag_clip=4.2 neg_slope=0.75 reverse_pref=True β=0.26 | -52.893 | -41.732 | -55.877 | 26.316 |\n"
     ]
    },
    {
     "name": "stderr",
     "output_type": "stream",
     "text": [
      "[I 2024-10-09 15:38:38,312] Trial 401 finished with value: 1.0308285163776494 and parameters: {'lr': 6.50391188010609e-06, 'β': 0.2200156690024046, 'reverse_pref': True, 'scale_orth': False, 'neg_slope': 'float', 'mag_clip': 'float', 'mag_clip_value': 27.175839064579918, 'neg_slope_value': 0.6777812780238475}. Best is trial 328 with value: 1.071290944123314.\n"
     ]
    },
    {
     "name": "stdout",
     "output_type": "stream",
     "text": [
      "\n",
      "| acc_inc/eval_ds [pp]                                                  |   train |   test |   oos |   rnd |\n",
      "|:----------------------------------------------------------------------|--------:|-------:|------:|------:|\n",
      "| ProjBP lr=6.5e-06 mag_clip=27 neg_slope=0.68 reverse_pref=True β=0.22 |   1.653 | -0.787 | 3.083 | 5.263 |\n"
     ]
    },
    {
     "name": "stderr",
     "output_type": "stream",
     "text": [
      "[I 2024-10-09 15:42:20,283] Trial 402 finished with value: 1.0500963391136802 and parameters: {'lr': 8.610306401275839e-06, 'β': 0.27146225435332705, 'reverse_pref': True, 'scale_orth': False, 'neg_slope': 'float', 'mag_clip': 'float', 'mag_clip_value': 0.9818494603731414, 'neg_slope_value': 0.8137149075825174}. Best is trial 328 with value: 1.071290944123314.\n"
     ]
    },
    {
     "name": "stdout",
     "output_type": "stream",
     "text": [
      "\n",
      "| acc_inc/eval_ds [pp]                                                    |   train |   test |   oos |   rnd |\n",
      "|:------------------------------------------------------------------------|--------:|-------:|------:|------:|\n",
      "| ProjBP lr=8.6e-06 mag_clip=0.98 neg_slope=0.81 reverse_pref=True β=0.27 |   1.653 |      0 |  5.01 | 5.263 |\n"
     ]
    },
    {
     "name": "stderr",
     "output_type": "stream",
     "text": [
      "[I 2024-10-09 15:42:21,544] Using an existing study with name 'ether-prefvec' instead of creating a new one.\n"
     ]
    },
    {
     "name": "stdout",
     "output_type": "stream",
     "text": [
      "================================================================================\n",
      "loaded 337 ether-prefvec trials\n",
      "| ether-prefvec N=✓331/337, best=1.183   |   importance | best                   |\n",
      "|:---------------------------------------|-------------:|:-----------------------|\n",
      "| lr                                     |        0.883 | 0.00037772770210724844 |\n",
      "| β                                      |        0.043 | 1.9848539330526844     |\n",
      "| Htype                                  |        0.019 | ether                  |\n",
      "| use_angle_loss                         |        0.012 | True                   |\n",
      "| reduction                              |        0.009 | 1                      |\n",
      "| nb                                     |        0.007 | 20                     |\n",
      "| use_dpo_loss                           |        0.007 | False                  |\n",
      "| use_proj_rel                           |        0.006 | True                   |\n",
      "| use_orth_loss                          |        0.004 | True                   |\n",
      "| collect_hs                             |        0.004 | False                  |\n",
      "| flip_side                              |        0.003 | True                   |\n",
      "| use_nll_loss                           |        0.002 | True                   |\n",
      "| collect_input                          |        0     | True                   |\n",
      "| weight_tokens                          |        0     | True                   |\n"
     ]
    },
    {
     "name": "stderr",
     "output_type": "stream",
     "text": [
      "[I 2024-10-09 15:45:53,977] Trial 337 finished with value: 1.023121387283237 and parameters: {'lr': 0.0008208124452783398, 'collect_input': True, 'collect_hs': False, 'nb': 18, 'Htype': 'ether', 'flip_side': True, 'reduction': 341, 'β': 1.2473863020085854, 'use_orth_loss': True, 'use_angle_loss': True, 'use_dpo_loss': False, 'use_nll_loss': True, 'weight_tokens': True, 'use_proj_rel': False}. Best is trial 24 with value: 1.183044315992293.\n"
     ]
    },
    {
     "name": "stdout",
     "output_type": "stream",
     "text": [
      "\n",
      "| acc_inc/eval_ds [pp]                                                                                                                                                                                            |   train |   test |   oos |     rnd |\n",
      "|:----------------------------------------------------------------------------------------------------------------------------------------------------------------------------------------------------------------|--------:|-------:|------:|--------:|\n",
      "| ReprPO collect_input=True prefvec.use_nll_prefvec=True prefvec.use_orth_prefvec=True prefvec.weight_tokens=True prefvec.β=1.2 lr=0.00082 ether.Htype=ether ether.flip_side=True ether.nb=18 ether.reduction=341 |  -4.959 | -1.575 | 2.312 | -19.298 |\n"
     ]
    },
    {
     "name": "stderr",
     "output_type": "stream",
     "text": [
      "[I 2024-10-09 15:49:14,579] Trial 338 finished with value: 1.1695568400770715 and parameters: {'lr': 0.0003246048493515452, 'collect_input': True, 'collect_hs': False, 'nb': 16, 'Htype': 'ether', 'flip_side': True, 'reduction': 243, 'β': 0.8609572225808443, 'use_orth_loss': False, 'use_angle_loss': True, 'use_dpo_loss': False, 'use_nll_loss': True, 'weight_tokens': True, 'use_proj_rel': False}. Best is trial 24 with value: 1.183044315992293.\n"
     ]
    },
    {
     "name": "stdout",
     "output_type": "stream",
     "text": [
      "\n",
      "| acc_inc/eval_ds [pp]                                                                                                                                                               |   train |   test |    oos |     rnd |\n",
      "|:-----------------------------------------------------------------------------------------------------------------------------------------------------------------------------------|--------:|-------:|-------:|--------:|\n",
      "| ReprPO collect_input=True prefvec.use_nll_prefvec=True prefvec.weight_tokens=True prefvec.β=0.86 lr=0.00032 ether.Htype=ether ether.flip_side=True ether.nb=16 ether.reduction=243 |   2.479 |  0.787 | 16.956 | -10.526 |\n"
     ]
    },
    {
     "name": "stderr",
     "output_type": "stream",
     "text": [
      "[I 2024-10-09 15:52:38,389] Trial 339 finished with value: 1.1156069364161851 and parameters: {'lr': 0.0005916767396281213, 'collect_input': True, 'collect_hs': False, 'nb': 24, 'Htype': 'oft', 'flip_side': True, 'reduction': 419, 'β': 1.5541462613447554, 'use_orth_loss': True, 'use_angle_loss': True, 'use_dpo_loss': False, 'use_nll_loss': True, 'weight_tokens': True, 'use_proj_rel': True}. Best is trial 24 with value: 1.183044315992293.\n"
     ]
    },
    {
     "name": "stdout",
     "output_type": "stream",
     "text": [
      "\n",
      "| acc_inc/eval_ds [pp]                                                                                                                                                                                                                    |   train |   test |    oos |    rnd |\n",
      "|:----------------------------------------------------------------------------------------------------------------------------------------------------------------------------------------------------------------------------------------|--------:|-------:|-------:|-------:|\n",
      "| ReprPO collect_input=True prefvec.use_nll_prefvec=True prefvec.use_orth_prefvec=True prefvec.use_proj_rel=True prefvec.weight_tokens=True prefvec.β=1.6 lr=0.00059 ether.Htype=oft ether.flip_side=True ether.nb=24 ether.reduction=419 |  -1.653 | -0.787 | 11.561 | -7.018 |\n"
     ]
    },
    {
     "name": "stderr",
     "output_type": "stream",
     "text": [
      "[I 2024-10-09 15:55:54,876] Trial 340 finished with value: 1.0077071290944124 and parameters: {'lr': 0.00044904402793718225, 'collect_input': True, 'collect_hs': False, 'nb': 28, 'Htype': 'ether', 'flip_side': True, 'reduction': 213, 'β': 1.182776171747555, 'use_orth_loss': True, 'use_angle_loss': False, 'use_dpo_loss': False, 'use_nll_loss': True, 'weight_tokens': True, 'use_proj_rel': False}. Best is trial 24 with value: 1.183044315992293.\n"
     ]
    },
    {
     "name": "stdout",
     "output_type": "stream",
     "text": [
      "\n",
      "| acc_inc/eval_ds [pp]                                                                                                                                                                                                                            |   train |   test |   oos |    rnd |\n",
      "|:------------------------------------------------------------------------------------------------------------------------------------------------------------------------------------------------------------------------------------------------|--------:|-------:|------:|-------:|\n",
      "| ReprPO collect_input=True prefvec.use_angle_prefvec=False prefvec.use_nll_prefvec=True prefvec.use_orth_prefvec=True prefvec.weight_tokens=True prefvec.β=1.2 lr=0.00045 ether.Htype=ether ether.flip_side=True ether.nb=28 ether.reduction=213 |       0 |      0 | 0.771 | -3.509 |\n"
     ]
    },
    {
     "name": "stderr",
     "output_type": "stream",
     "text": [
      "[I 2024-10-09 15:59:14,651] Trial 341 finished with value: 1.1387283236994221 and parameters: {'lr': 0.0002749646273496313, 'collect_input': True, 'collect_hs': False, 'nb': 21, 'Htype': 'ether', 'flip_side': True, 'reduction': 323, 'β': 0.47886340496443897, 'use_orth_loss': False, 'use_angle_loss': True, 'use_dpo_loss': False, 'use_nll_loss': True, 'weight_tokens': True, 'use_proj_rel': False}. Best is trial 24 with value: 1.183044315992293.\n"
     ]
    },
    {
     "name": "stdout",
     "output_type": "stream",
     "text": [
      "\n",
      "| acc_inc/eval_ds [pp]                                                                                                                                                               |   train |   test |    oos |   rnd |\n",
      "|:-----------------------------------------------------------------------------------------------------------------------------------------------------------------------------------|--------:|-------:|-------:|------:|\n",
      "| ReprPO collect_input=True prefvec.use_nll_prefvec=True prefvec.weight_tokens=True prefvec.β=0.48 lr=0.00027 ether.Htype=ether ether.flip_side=True ether.nb=21 ether.reduction=323 |   1.653 |  0.787 | 13.873 |     0 |\n"
     ]
    },
    {
     "name": "stderr",
     "output_type": "stream",
     "text": [
      "[I 2024-10-09 16:02:34,695] Trial 342 finished with value: 1.0366088631984587 and parameters: {'lr': 0.00016990638733029476, 'collect_input': True, 'collect_hs': False, 'nb': 18, 'Htype': 'etherplusHH', 'flip_side': True, 'reduction': 274, 'β': 0.0014444273253334274, 'use_orth_loss': True, 'use_angle_loss': True, 'use_dpo_loss': False, 'use_nll_loss': True, 'weight_tokens': True, 'use_proj_rel': False}. Best is trial 24 with value: 1.183044315992293.\n"
     ]
    },
    {
     "name": "stdout",
     "output_type": "stream",
     "text": [
      "\n",
      "| acc_inc/eval_ds [pp]                                                                                                                                                                             |   train |   test |   oos |    rnd |\n",
      "|:-------------------------------------------------------------------------------------------------------------------------------------------------------------------------------------------------|--------:|-------:|------:|-------:|\n",
      "| ReprPO collect_input=True prefvec.use_nll_prefvec=True prefvec.use_orth_prefvec=True prefvec.weight_tokens=True prefvec.β=0.0014 lr=0.00017 ether.flip_side=True ether.nb=18 ether.reduction=274 |       0 |      0 | 3.661 | -5.263 |\n"
     ]
    },
    {
     "name": "stderr",
     "output_type": "stream",
     "text": [
      "[I 2024-10-09 16:05:47,484] Trial 343 finished with value: 0.9113680154142583 and parameters: {'lr': 0.0003154289635643897, 'collect_input': True, 'collect_hs': True, 'nb': 23, 'Htype': 'etherplus', 'flip_side': True, 'reduction': 390, 'β': 0.6734326322808045, 'use_orth_loss': True, 'use_angle_loss': True, 'use_dpo_loss': False, 'use_nll_loss': True, 'weight_tokens': True, 'use_proj_rel': True}. Best is trial 24 with value: 1.183044315992293.\n"
     ]
    },
    {
     "name": "stdout",
     "output_type": "stream",
     "text": [
      "\n",
      "| acc_inc/eval_ds [pp]                                                                                                                                                                                                                                           |   train |   test |    oos |    rnd |\n",
      "|:---------------------------------------------------------------------------------------------------------------------------------------------------------------------------------------------------------------------------------------------------------------|--------:|-------:|-------:|-------:|\n",
      "| ReprPO collect_hs=True collect_input=True prefvec.use_nll_prefvec=True prefvec.use_orth_prefvec=True prefvec.use_proj_rel=True prefvec.weight_tokens=True prefvec.β=0.67 lr=0.00032 ether.Htype=etherplus ether.flip_side=True ether.nb=23 ether.reduction=390 |  -6.612 | -4.724 | -8.863 | -5.263 |\n"
     ]
    },
    {
     "name": "stderr",
     "output_type": "stream",
     "text": [
      "[I 2024-10-09 16:09:10,073] Trial 344 finished with value: 1.1001926782273603 and parameters: {'lr': 0.00022475913404280872, 'collect_input': True, 'collect_hs': False, 'nb': 26, 'Htype': 'ether', 'flip_side': True, 'reduction': 448, 'β': 1.5617305629645457, 'use_orth_loss': False, 'use_angle_loss': True, 'use_dpo_loss': False, 'use_nll_loss': True, 'weight_tokens': True, 'use_proj_rel': False}. Best is trial 24 with value: 1.183044315992293.\n"
     ]
    },
    {
     "name": "stdout",
     "output_type": "stream",
     "text": [
      "\n",
      "| acc_inc/eval_ds [pp]                                                                                                                                                              |   train |   test |    oos |   rnd |\n",
      "|:----------------------------------------------------------------------------------------------------------------------------------------------------------------------------------|--------:|-------:|-------:|------:|\n",
      "| ReprPO collect_input=True prefvec.use_nll_prefvec=True prefvec.weight_tokens=True prefvec.β=1.6 lr=0.00022 ether.Htype=ether ether.flip_side=True ether.nb=26 ether.reduction=448 |   1.653 |  0.787 | 10.019 | 3.509 |\n",
      "\n",
      "| acc_inc/eval_ds [pp]                                                                                                                                                         |   train |   test |    oos |   rnd |\n",
      "|:-----------------------------------------------------------------------------------------------------------------------------------------------------------------------------|--------:|-------:|-------:|------:|\n",
      "| ReprPO prefvec.use_nll_prefvec=True prefvec.use_orth_prefvec=True prefvec.weight_tokens=True prefvec.β=2 lr=0.00038 ether.Htype=oft ether.flip_side=True ether.reduction=185 |   1.653 | -0.787 | 14.644 | 1.754 |\n"
     ]
    },
    {
     "name": "stderr",
     "output_type": "stream",
     "text": [
      "[I 2024-10-09 16:12:41,864] Trial 345 finished with value: 1.1464354527938343 and parameters: {'lr': 0.00037844912778105337, 'collect_input': False, 'collect_hs': False, 'nb': 30, 'Htype': 'oft', 'flip_side': True, 'reduction': 185, 'β': 1.98683957292332, 'use_orth_loss': True, 'use_angle_loss': True, 'use_dpo_loss': False, 'use_nll_loss': True, 'weight_tokens': True, 'use_proj_rel': False}. Best is trial 24 with value: 1.183044315992293.\n",
      "[I 2024-10-09 16:16:05,487] Trial 346 finished with value: 1.134874759152216 and parameters: {'lr': 0.0005433918767975296, 'collect_input': True, 'collect_hs': False, 'nb': 15, 'Htype': 'ether', 'flip_side': True, 'reduction': 355, 'β': 0.9937439539770866, 'use_orth_loss': True, 'use_angle_loss': True, 'use_dpo_loss': False, 'use_nll_loss': True, 'weight_tokens': True, 'use_proj_rel': False}. Best is trial 24 with value: 1.183044315992293.\n"
     ]
    },
    {
     "name": "stdout",
     "output_type": "stream",
     "text": [
      "\n",
      "| acc_inc/eval_ds [pp]                                                                                                                                                                                             |   train |   test |    oos |    rnd |\n",
      "|:-----------------------------------------------------------------------------------------------------------------------------------------------------------------------------------------------------------------|--------:|-------:|-------:|-------:|\n",
      "| ReprPO collect_input=True prefvec.use_nll_prefvec=True prefvec.use_orth_prefvec=True prefvec.weight_tokens=True prefvec.β=0.99 lr=0.00054 ether.Htype=ether ether.flip_side=True ether.nb=15 ether.reduction=355 |   0.826 | -0.787 | 13.487 | -5.263 |\n"
     ]
    },
    {
     "name": "stderr",
     "output_type": "stream",
     "text": [
      "[I 2024-10-09 16:19:27,397] Trial 347 finished with value: 1.1734104046242777 and parameters: {'lr': 0.0004140290293533096, 'collect_input': True, 'collect_hs': False, 'nb': 20, 'Htype': 'ether', 'flip_side': True, 'reduction': 306, 'β': 1.3007787941049302, 'use_orth_loss': True, 'use_angle_loss': True, 'use_dpo_loss': False, 'use_nll_loss': True, 'weight_tokens': True, 'use_proj_rel': True}. Best is trial 24 with value: 1.183044315992293.\n"
     ]
    },
    {
     "name": "stdout",
     "output_type": "stream",
     "text": [
      "\n",
      "| acc_inc/eval_ds [pp]                                                                                                                                                                                                                      |   train |   test |    oos |     rnd |\n",
      "|:------------------------------------------------------------------------------------------------------------------------------------------------------------------------------------------------------------------------------------------|--------:|-------:|-------:|--------:|\n",
      "| ReprPO collect_input=True prefvec.use_nll_prefvec=True prefvec.use_orth_prefvec=True prefvec.use_proj_rel=True prefvec.weight_tokens=True prefvec.β=1.3 lr=0.00041 ether.Htype=ether ether.flip_side=True ether.nb=20 ether.reduction=306 |   4.132 | -0.787 | 17.341 | -10.526 |\n"
     ]
    },
    {
     "name": "stderr",
     "output_type": "stream",
     "text": [
      "[I 2024-10-09 16:22:47,453] Trial 348 finished with value: 1.1695568400770715 and parameters: {'lr': 0.00033695203077069205, 'collect_input': True, 'collect_hs': False, 'nb': 19, 'Htype': 'ether', 'flip_side': True, 'reduction': 251, 'β': 1.530573109665892, 'use_orth_loss': False, 'use_angle_loss': True, 'use_dpo_loss': False, 'use_nll_loss': True, 'weight_tokens': True, 'use_proj_rel': False}. Best is trial 24 with value: 1.183044315992293.\n"
     ]
    },
    {
     "name": "stdout",
     "output_type": "stream",
     "text": [
      "\n",
      "| acc_inc/eval_ds [pp]                                                                                                                                                              |   train |   test |    oos |    rnd |\n",
      "|:----------------------------------------------------------------------------------------------------------------------------------------------------------------------------------|--------:|-------:|-------:|-------:|\n",
      "| ReprPO collect_input=True prefvec.use_nll_prefvec=True prefvec.weight_tokens=True prefvec.β=1.5 lr=0.00034 ether.Htype=ether ether.flip_side=True ether.nb=19 ether.reduction=251 |   1.653 |  0.787 | 16.956 | -5.263 |\n"
     ]
    },
    {
     "name": "stderr",
     "output_type": "stream",
     "text": [
      "[I 2024-10-09 16:26:11,152] Trial 349 finished with value: 1.157996146435453 and parameters: {'lr': 0.0005006937749252847, 'collect_input': True, 'collect_hs': False, 'nb': 22, 'Htype': 'oft', 'flip_side': True, 'reduction': 78, 'β': 0.8929251593979666, 'use_orth_loss': True, 'use_angle_loss': True, 'use_dpo_loss': False, 'use_nll_loss': True, 'weight_tokens': True, 'use_proj_rel': False}. Best is trial 24 with value: 1.183044315992293.\n"
     ]
    },
    {
     "name": "stdout",
     "output_type": "stream",
     "text": [
      "\n",
      "| acc_inc/eval_ds [pp]                                                                                                                                                                                         |   train |   test |   oos |   rnd |\n",
      "|:-------------------------------------------------------------------------------------------------------------------------------------------------------------------------------------------------------------|--------:|-------:|------:|------:|\n",
      "| ReprPO collect_input=True prefvec.use_nll_prefvec=True prefvec.use_orth_prefvec=True prefvec.weight_tokens=True prefvec.β=0.89 lr=0.0005 ether.Htype=oft ether.flip_side=True ether.nb=22 ether.reduction=78 |   1.653 | -0.787 |  15.8 |     0 |\n"
     ]
    },
    {
     "name": "stderr",
     "output_type": "stream",
     "text": [
      "[I 2024-10-09 16:29:30,818] Trial 350 finished with value: 1.1156069364161851 and parameters: {'lr': 0.0002450759359678017, 'collect_input': True, 'collect_hs': False, 'nb': 32, 'Htype': 'ether', 'flip_side': True, 'reduction': 465, 'β': 1.9810709184786348, 'use_orth_loss': True, 'use_angle_loss': True, 'use_dpo_loss': False, 'use_nll_loss': True, 'weight_tokens': True, 'use_proj_rel': True}. Best is trial 24 with value: 1.183044315992293.\n"
     ]
    },
    {
     "name": "stdout",
     "output_type": "stream",
     "text": [
      "\n",
      "| acc_inc/eval_ds [pp]                                                                                                                                                                                                                    |   train |   test |    oos |   rnd |\n",
      "|:----------------------------------------------------------------------------------------------------------------------------------------------------------------------------------------------------------------------------------------|--------:|-------:|-------:|------:|\n",
      "| ReprPO collect_input=True prefvec.use_nll_prefvec=True prefvec.use_orth_prefvec=True prefvec.use_proj_rel=True prefvec.weight_tokens=True prefvec.β=2 lr=0.00025 ether.Htype=ether ether.flip_side=True ether.nb=32 ether.reduction=465 |   0.826 |  0.787 | 11.561 | 1.754 |\n"
     ]
    },
    {
     "name": "stderr",
     "output_type": "stream",
     "text": [
      "[I 2024-10-09 16:33:01,942] Trial 351 finished with value: 0.7263969171483623 and parameters: {'lr': 0.0007020314415956649, 'collect_input': True, 'collect_hs': False, 'nb': 17, 'Htype': 'ether', 'flip_side': True, 'reduction': 370, 'β': 1.1331049817179835, 'use_orth_loss': False, 'use_angle_loss': True, 'use_dpo_loss': True, 'use_nll_loss': True, 'weight_tokens': True, 'use_proj_rel': False}. Best is trial 24 with value: 1.183044315992293.\n"
     ]
    },
    {
     "name": "stdout",
     "output_type": "stream",
     "text": [
      "\n",
      "| acc_inc/eval_ds [pp]                                                                                                                                                                                          |   train |    test |    oos |   rnd |\n",
      "|:--------------------------------------------------------------------------------------------------------------------------------------------------------------------------------------------------------------|--------:|--------:|-------:|------:|\n",
      "| ReprPO collect_input=True prefvec.use_dpo_prefvec=True prefvec.use_nll_prefvec=True prefvec.weight_tokens=True prefvec.β=1.1 lr=0.0007 ether.Htype=ether ether.flip_side=True ether.nb=17 ether.reduction=370 |  -6.612 | -10.236 | -27.36 | 3.509 |\n"
     ]
    },
    {
     "name": "stderr",
     "output_type": "stream",
     "text": [
      "[I 2024-10-09 16:36:18,838] Trial 352 finished with value: 1.1560693641618498 and parameters: {'lr': 0.00040750010993392024, 'collect_input': True, 'collect_hs': False, 'nb': 3, 'Htype': 'etherplusHH', 'flip_side': True, 'reduction': 282, 'β': 1.5491549975062957, 'use_orth_loss': True, 'use_angle_loss': True, 'use_dpo_loss': False, 'use_nll_loss': False, 'weight_tokens': False, 'use_proj_rel': False}. Best is trial 24 with value: 1.183044315992293.\n"
     ]
    },
    {
     "name": "stdout",
     "output_type": "stream",
     "text": [
      "\n",
      "| acc_inc/eval_ds [pp]                                                                                                                 |   train |   test |    oos |    rnd |\n",
      "|:-------------------------------------------------------------------------------------------------------------------------------------|--------:|-------:|-------:|-------:|\n",
      "| ReprPO collect_input=True prefvec.use_orth_prefvec=True prefvec.β=1.5 lr=0.00041 ether.flip_side=True ether.nb=3 ether.reduction=282 |       0 |  0.787 | 15.607 | -1.754 |\n"
     ]
    },
    {
     "name": "stderr",
     "output_type": "stream",
     "text": [
      "[I 2024-10-09 16:39:40,569] Trial 353 finished with value: 1.1676300578034684 and parameters: {'lr': 0.00031013558951469716, 'collect_input': True, 'collect_hs': False, 'nb': 25, 'Htype': 'ether', 'flip_side': True, 'reduction': 511, 'β': 0.790611908416402, 'use_orth_loss': True, 'use_angle_loss': True, 'use_dpo_loss': False, 'use_nll_loss': True, 'weight_tokens': True, 'use_proj_rel': False}. Best is trial 24 with value: 1.183044315992293.\n"
     ]
    },
    {
     "name": "stdout",
     "output_type": "stream",
     "text": [
      "\n",
      "| acc_inc/eval_ds [pp]                                                                                                                                                                                             |   train |   test |    oos |    rnd |\n",
      "|:-----------------------------------------------------------------------------------------------------------------------------------------------------------------------------------------------------------------|--------:|-------:|-------:|-------:|\n",
      "| ReprPO collect_input=True prefvec.use_nll_prefvec=True prefvec.use_orth_prefvec=True prefvec.weight_tokens=True prefvec.β=0.79 lr=0.00031 ether.Htype=ether ether.flip_side=True ether.nb=25 ether.reduction=511 |   0.826 |  0.787 | 16.763 | -8.772 |\n"
     ]
    },
    {
     "name": "stderr",
     "output_type": "stream",
     "text": [
      "[I 2024-10-09 16:43:01,951] Trial 354 finished with value: 1.134874759152216 and parameters: {'lr': 0.000582715624254818, 'collect_input': True, 'collect_hs': False, 'nb': 18, 'Htype': 'oft', 'flip_side': True, 'reduction': 68, 'β': 1.2265364021560048, 'use_orth_loss': False, 'use_angle_loss': True, 'use_dpo_loss': False, 'use_nll_loss': True, 'weight_tokens': True, 'use_proj_rel': True}. Best is trial 24 with value: 1.183044315992293.\n"
     ]
    },
    {
     "name": "stdout",
     "output_type": "stream",
     "text": [
      "\n",
      "| acc_inc/eval_ds [pp]                                                                                                                                                                                     |   train |   test |    oos |    rnd |\n",
      "|:---------------------------------------------------------------------------------------------------------------------------------------------------------------------------------------------------------|--------:|-------:|-------:|-------:|\n",
      "| ReprPO collect_input=True prefvec.use_nll_prefvec=True prefvec.use_proj_rel=True prefvec.weight_tokens=True prefvec.β=1.2 lr=0.00058 ether.Htype=oft ether.flip_side=True ether.nb=18 ether.reduction=68 |  -0.826 | -0.787 | 13.487 | -3.509 |\n"
     ]
    },
    {
     "name": "stderr",
     "output_type": "stream",
     "text": [
      "[I 2024-10-09 16:46:25,471] Trial 355 finished with value: 1.0269749518304432 and parameters: {'lr': 6.928766008260918e-05, 'collect_input': True, 'collect_hs': False, 'nb': 2, 'Htype': 'ether', 'flip_side': True, 'reduction': 325, 'β': 0.6052491236719814, 'use_orth_loss': True, 'use_angle_loss': True, 'use_dpo_loss': False, 'use_nll_loss': True, 'weight_tokens': True, 'use_proj_rel': False}. Best is trial 24 with value: 1.183044315992293.\n"
     ]
    },
    {
     "name": "stdout",
     "output_type": "stream",
     "text": [
      "\n",
      "| acc_inc/eval_ds [pp]                                                                                                                                                                                            |   train |   test |   oos |   rnd |\n",
      "|:----------------------------------------------------------------------------------------------------------------------------------------------------------------------------------------------------------------|--------:|-------:|------:|------:|\n",
      "| ReprPO collect_input=True prefvec.use_nll_prefvec=True prefvec.use_orth_prefvec=True prefvec.weight_tokens=True prefvec.β=0.61 lr=6.9e-05 ether.Htype=ether ether.flip_side=True ether.nb=2 ether.reduction=325 |       0 |      0 | 2.697 | 3.509 |\n"
     ]
    },
    {
     "name": "stderr",
     "output_type": "stream",
     "text": [
      "[I 2024-10-09 16:49:48,544] Trial 356 finished with value: 1.0732177263969174 and parameters: {'lr': 0.00019368996130887057, 'collect_input': True, 'collect_hs': False, 'nb': 29, 'Htype': 'ether', 'flip_side': False, 'reduction': 212, 'β': 0.11087535923758711, 'use_orth_loss': True, 'use_angle_loss': True, 'use_dpo_loss': False, 'use_nll_loss': True, 'weight_tokens': True, 'use_proj_rel': False}. Best is trial 24 with value: 1.183044315992293.\n"
     ]
    },
    {
     "name": "stdout",
     "output_type": "stream",
     "text": [
      "\n",
      "| acc_inc/eval_ds [pp]                                                                                                                                                                        |   train |   test |   oos |    rnd |\n",
      "|:--------------------------------------------------------------------------------------------------------------------------------------------------------------------------------------------|--------:|-------:|------:|-------:|\n",
      "| ReprPO collect_input=True prefvec.use_nll_prefvec=True prefvec.use_orth_prefvec=True prefvec.weight_tokens=True prefvec.β=0.11 lr=0.00019 ether.Htype=ether ether.nb=29 ether.reduction=212 |       0 |      0 | 7.322 | -3.509 |\n",
      "================================================================================\n"
     ]
    },
    {
     "name": "stderr",
     "output_type": "stream",
     "text": [
      "[I 2024-10-09 16:49:49,740] Using an existing study with name 'dpo' instead of creating a new one.\n"
     ]
    },
    {
     "name": "stdout",
     "output_type": "stream",
     "text": [
      "loaded 250 dpo trials\n"
     ]
    },
    {
     "name": "stderr",
     "output_type": "stream",
     "text": [
      "[I 2024-10-09 16:49:51,240] Using an existing study with name 'projgrad3' instead of creating a new one.\n"
     ]
    },
    {
     "name": "stdout",
     "output_type": "stream",
     "text": [
      "| dpo N=✓248/250, best=1.276   |   importance |        best |\n",
      "|:-----------------------------|-------------:|------------:|\n",
      "| lr                           |            1 | 0.000264989 |\n",
      "================================================================================\n",
      "loaded 228 projgrad3 trials\n",
      "| projgrad3 N=✓227/228, best=1.279   |   importance | best                  |\n",
      "|:-----------------------------------|-------------:|:----------------------|\n",
      "| lr                                 |        0.934 | 0.0002320529194140666 |\n",
      "| β                                  |        0.047 | 0.8426788311104311    |\n",
      "| weight_dim                         |        0.009 | 1                     |\n",
      "| scale_orth                         |        0.005 | False                 |\n",
      "| reverse_pref                       |        0.003 | True                  |\n",
      "| neg_slope                          |        0.002 | 0                     |\n",
      "| mag_clip                           |        0.001 | float                 |\n",
      "| mag_clip_value                     |      nan     | 0.2300957741124143    |\n"
     ]
    },
    {
     "name": "stderr",
     "output_type": "stream",
     "text": [
      "[I 2024-10-09 16:53:21,649] Trial 228 finished with value: 1.1734104046242777 and parameters: {'lr': 0.0003164841206214713, 'β': 0.9159646405778431, 'reverse_pref': True, 'scale_orth': False, 'weight_dim': 1, 'neg_slope': 0, 'mag_clip': None}. Best is trial 119 with value: 1.2793834296724471.\n"
     ]
    },
    {
     "name": "stdout",
     "output_type": "stream",
     "text": [
      "\n",
      "| acc_inc/eval_ds [pp]                                                 |   train |   test |    oos |   rnd |\n",
      "|:---------------------------------------------------------------------|--------:|-------:|-------:|------:|\n",
      "| ProjGrad lr=0.00032 neg_slope=0 scale_orth=False weight_dim=1 β=0.92 |   5.785 | -0.787 | 17.341 | 1.754 |\n"
     ]
    },
    {
     "name": "stderr",
     "output_type": "stream",
     "text": [
      "[I 2024-10-09 16:56:49,157] Trial 229 finished with value: 1.1888246628131023 and parameters: {'lr': 0.0002237923960321278, 'β': 0.8055972921000686, 'reverse_pref': False, 'scale_orth': False, 'weight_dim': 1, 'neg_slope': 0, 'mag_clip': 'float', 'mag_clip_value': 710.3406315047039}. Best is trial 119 with value: 1.2793834296724471.\n"
     ]
    },
    {
     "name": "stdout",
     "output_type": "stream",
     "text": [
      "\n",
      "| acc_inc/eval_ds [pp]                                                                                     |   train |   test |    oos |    rnd |\n",
      "|:---------------------------------------------------------------------------------------------------------|--------:|-------:|-------:|-------:|\n",
      "| ProjGrad lr=0.00022 mag_clip=7.1e+02 neg_slope=0 reverse_pref=False scale_orth=False weight_dim=1 β=0.81 |   5.785 | -1.575 | 18.882 | 21.053 |\n"
     ]
    },
    {
     "name": "stderr",
     "output_type": "stream",
     "text": [
      "[I 2024-10-09 17:00:15,857] Trial 230 finished with value: 1.1734104046242777 and parameters: {'lr': 0.00026337541017508486, 'β': 0.8478953112111876, 'reverse_pref': True, 'scale_orth': False, 'weight_dim': 1, 'neg_slope': 0, 'mag_clip': 'float', 'mag_clip_value': 78.88326412155521}. Best is trial 119 with value: 1.2793834296724471.\n"
     ]
    },
    {
     "name": "stdout",
     "output_type": "stream",
     "text": [
      "\n",
      "| acc_inc/eval_ds [pp]                                                             |   train |   test |    oos |    rnd |\n",
      "|:---------------------------------------------------------------------------------|--------:|-------:|-------:|-------:|\n",
      "| ProjGrad lr=0.00026 mag_clip=79 neg_slope=0 scale_orth=False weight_dim=1 β=0.85 |   5.785 |      0 | 17.341 | 22.807 |\n"
     ]
    },
    {
     "name": "stderr",
     "output_type": "stream",
     "text": [
      "[I 2024-10-09 17:03:45,240] Trial 231 finished with value: 0.8458574181117535 and parameters: {'lr': 0.00018863279814906048, 'β': 0.8751859897407975, 'reverse_pref': True, 'scale_orth': False, 'weight_dim': 1, 'neg_slope': 0, 'mag_clip': None}. Best is trial 119 with value: 1.2793834296724471.\n"
     ]
    },
    {
     "name": "stdout",
     "output_type": "stream",
     "text": [
      "\n",
      "| acc_inc/eval_ds [pp]                                                 |   train |   test |     oos |   rnd |\n",
      "|:---------------------------------------------------------------------|--------:|-------:|--------:|------:|\n",
      "| ProjGrad lr=0.00019 neg_slope=0 scale_orth=False weight_dim=1 β=0.88 |   0.826 | -1.575 | -15.414 | 8.772 |\n",
      "\n",
      "| acc_inc/eval_ds [pp]                                                     |   train |   test |   oos |    rnd |\n",
      "|:-------------------------------------------------------------------------|--------:|-------:|------:|-------:|\n",
      "| ProjGrad lr=0.00016 mag_clip=0.48 neg_slope=0.23 scale_orth=False β=0.84 |   5.785 | -0.787 | 18.69 | 21.053 |\n"
     ]
    },
    {
     "name": "stderr",
     "output_type": "stream",
     "text": [
      "[I 2024-10-09 17:07:13,982] Trial 232 finished with value: 1.1868978805394992 and parameters: {'lr': 0.0001561192310664106, 'β': 0.8362331436111621, 'reverse_pref': True, 'scale_orth': False, 'weight_dim': 0, 'neg_slope': 'float', 'mag_clip': 'float', 'mag_clip_value': 0.47976021808621655, 'neg_slope_value': 0.23115881952782463}. Best is trial 119 with value: 1.2793834296724471.\n",
      "[I 2024-10-09 17:10:40,570] Trial 233 finished with value: 1.1753371868978806 and parameters: {'lr': 0.00013201188366576184, 'β': 0.8251696635778427, 'reverse_pref': True, 'scale_orth': False, 'weight_dim': 0, 'neg_slope': 0, 'mag_clip': 'float', 'mag_clip_value': 0.14431608979637406}. Best is trial 119 with value: 1.2793834296724471.\n"
     ]
    },
    {
     "name": "stdout",
     "output_type": "stream",
     "text": [
      "\n",
      "| acc_inc/eval_ds [pp]                                                  |   train |   test |    oos |     rnd |\n",
      "|:----------------------------------------------------------------------|--------:|-------:|-------:|--------:|\n",
      "| ProjGrad lr=0.00013 mag_clip=0.14 neg_slope=0 scale_orth=False β=0.83 |   4.959 |      0 | 17.534 | -26.316 |\n"
     ]
    },
    {
     "name": "stderr",
     "output_type": "stream",
     "text": [
      "[I 2024-10-09 17:14:07,345] Trial 234 finished with value: 1.1772639691714837 and parameters: {'lr': 0.00019226793097772043, 'β': 0.8542645806864247, 'reverse_pref': True, 'scale_orth': False, 'weight_dim': 0, 'neg_slope': 'float', 'mag_clip': 'float', 'mag_clip_value': 0.09964346645585598, 'neg_slope_value': 0.07767061256444807}. Best is trial 119 with value: 1.2793834296724471.\n"
     ]
    },
    {
     "name": "stdout",
     "output_type": "stream",
     "text": [
      "\n",
      "| acc_inc/eval_ds [pp]                                                     |   train |   test |    oos |     rnd |\n",
      "|:-------------------------------------------------------------------------|--------:|-------:|-------:|--------:|\n",
      "| ProjGrad lr=0.00019 mag_clip=0.1 neg_slope=0.078 scale_orth=False β=0.85 |   5.785 |  0.787 | 17.726 | -24.561 |\n"
     ]
    },
    {
     "name": "stderr",
     "output_type": "stream",
     "text": [
      "[I 2024-10-09 17:17:35,956] Trial 235 finished with value: 1.1098265895953758 and parameters: {'lr': 0.0002432514551994805, 'β': 0.7814547193047265, 'reverse_pref': True, 'scale_orth': False, 'weight_dim': 0, 'neg_slope': 0, 'mag_clip': 'float', 'mag_clip_value': 0.030133979991978414}. Best is trial 119 with value: 1.2793834296724471.\n"
     ]
    },
    {
     "name": "stdout",
     "output_type": "stream",
     "text": [
      "\n",
      "| acc_inc/eval_ds [pp]                                                  |   train |   test |    oos |   rnd |\n",
      "|:----------------------------------------------------------------------|--------:|-------:|-------:|------:|\n",
      "| ProjGrad lr=0.00024 mag_clip=0.03 neg_slope=0 scale_orth=False β=0.78 |   3.306 |      0 | 10.983 |     0 |\n"
     ]
    },
    {
     "name": "stderr",
     "output_type": "stream",
     "text": [
      "[I 2024-10-09 17:21:03,943] Trial 236 finished with value: 1.1233140655105973 and parameters: {'lr': 0.0001568351635602629, 'β': 0.8363325011730475, 'reverse_pref': True, 'scale_orth': False, 'weight_dim': 0, 'neg_slope': 0, 'mag_clip': 'float', 'mag_clip_value': 0.2813262378983585}. Best is trial 119 with value: 1.2793834296724471.\n"
     ]
    },
    {
     "name": "stdout",
     "output_type": "stream",
     "text": [
      "\n",
      "| acc_inc/eval_ds [pp]                                                  |   train |   test |    oos |    rnd |\n",
      "|:----------------------------------------------------------------------|--------:|-------:|-------:|-------:|\n",
      "| ProjGrad lr=0.00016 mag_clip=0.28 neg_slope=0 scale_orth=False β=0.84 |   4.959 |      0 | 12.331 | 15.789 |\n"
     ]
    },
    {
     "name": "stderr",
     "output_type": "stream",
     "text": [
      "[I 2024-10-09 17:24:31,743] Trial 237 finished with value: 1.067437379576108 and parameters: {'lr': 0.0003242278111716793, 'β': 0.07735597833748481, 'reverse_pref': True, 'scale_orth': False, 'weight_dim': 0, 'neg_slope': 0, 'mag_clip': 'float', 'mag_clip_value': 0.043722645570746003}. Best is trial 119 with value: 1.2793834296724471.\n"
     ]
    },
    {
     "name": "stdout",
     "output_type": "stream",
     "text": [
      "\n",
      "| acc_inc/eval_ds [pp]                                                    |   train |   test |   oos |    rnd |\n",
      "|:------------------------------------------------------------------------|--------:|-------:|------:|-------:|\n",
      "| ProjGrad lr=0.00032 mag_clip=0.044 neg_slope=0 scale_orth=False β=0.077 |   5.785 |      0 | 6.744 | 26.316 |\n"
     ]
    },
    {
     "name": "stderr",
     "output_type": "stream",
     "text": [
      "[I 2024-10-09 17:27:58,794] Trial 238 finished with value: 0.9826589595375724 and parameters: {'lr': 0.00021638895046702535, 'β': 0.893404658525223, 'reverse_pref': True, 'scale_orth': True, 'weight_dim': 2, 'neg_slope': 0, 'mag_clip': 'float', 'mag_clip_value': 0.13163945668387236}. Best is trial 119 with value: 1.2793834296724471.\n"
     ]
    },
    {
     "name": "stdout",
     "output_type": "stream",
     "text": [
      "\n",
      "| acc_inc/eval_ds [pp]                                              |   train |   test |    oos |    rnd |\n",
      "|:------------------------------------------------------------------|--------:|-------:|-------:|-------:|\n",
      "| ProjGrad lr=0.00022 mag_clip=0.13 neg_slope=0 weight_dim=2 β=0.89 |   5.785 | -2.362 | -1.734 | -7.018 |\n"
     ]
    },
    {
     "name": "stderr",
     "output_type": "stream",
     "text": [
      "[I 2024-10-09 17:31:29,681] Trial 239 finished with value: 1.1926782273603085 and parameters: {'lr': 0.000119118500685064, 'β': 0.8112345683091795, 'reverse_pref': False, 'scale_orth': False, 'weight_dim': 0, 'neg_slope': 'float', 'mag_clip': None, 'neg_slope_value': 0.3667110943963621}. Best is trial 119 with value: 1.2793834296724471.\n"
     ]
    },
    {
     "name": "stdout",
     "output_type": "stream",
     "text": [
      "\n",
      "| acc_inc/eval_ds [pp]                                                          |   train |   test |    oos |   rnd |\n",
      "|:------------------------------------------------------------------------------|--------:|-------:|-------:|------:|\n",
      "| ProjGrad lr=0.00012 neg_slope=0.37 reverse_pref=False scale_orth=False β=0.81 |   5.785 | -0.787 | 19.268 | 43.86 |\n"
     ]
    },
    {
     "name": "stderr",
     "output_type": "stream",
     "text": [
      "[I 2024-10-09 17:34:56,333] Trial 240 finished with value: 0.9460500963391136 and parameters: {'lr': 0.0004364786299684569, 'β': 0.8029809517623377, 'reverse_pref': False, 'scale_orth': False, 'weight_dim': 0, 'neg_slope': 0, 'mag_clip': None}. Best is trial 119 with value: 1.2793834296724471.\n"
     ]
    },
    {
     "name": "stdout",
     "output_type": "stream",
     "text": [
      "\n",
      "| acc_inc/eval_ds [pp]                                                      |   train |   test |    oos |    rnd |\n",
      "|:--------------------------------------------------------------------------|--------:|-------:|-------:|-------:|\n",
      "| ProjGrad lr=0.00044 neg_slope=0 reverse_pref=False scale_orth=False β=0.8 |   3.306 | -2.362 | -5.395 | 29.825 |\n"
     ]
    },
    {
     "name": "stderr",
     "output_type": "stream",
     "text": [
      "[I 2024-10-09 17:38:26,135] Trial 241 finished with value: 1.1233140655105973 and parameters: {'lr': 0.0002707201832268424, 'β': 0.38729161320675265, 'reverse_pref': False, 'scale_orth': False, 'weight_dim': 1, 'neg_slope': 0, 'mag_clip': None}. Best is trial 119 with value: 1.2793834296724471.\n"
     ]
    },
    {
     "name": "stdout",
     "output_type": "stream",
     "text": [
      "\n",
      "| acc_inc/eval_ds [pp]                                                                    |   train |   test |    oos |    rnd |\n",
      "|:----------------------------------------------------------------------------------------|--------:|-------:|-------:|-------:|\n",
      "| ProjGrad lr=0.00027 neg_slope=0 reverse_pref=False scale_orth=False weight_dim=1 β=0.39 |   5.785 |  0.787 | 12.331 | 17.544 |\n"
     ]
    },
    {
     "name": "stderr",
     "output_type": "stream",
     "text": [
      "[I 2024-10-09 17:41:55,794] Trial 242 finished with value: 1.1194605009633911 and parameters: {'lr': 0.00016121671170732198, 'β': 0.812648901280849, 'reverse_pref': False, 'scale_orth': False, 'weight_dim': 0, 'neg_slope': 'float', 'mag_clip': None, 'neg_slope_value': 0.40033568378303414}. Best is trial 119 with value: 1.2793834296724471.\n"
     ]
    },
    {
     "name": "stdout",
     "output_type": "stream",
     "text": [
      "\n",
      "| acc_inc/eval_ds [pp]                                                         |   train |   test |    oos |    rnd |\n",
      "|:-----------------------------------------------------------------------------|--------:|-------:|-------:|-------:|\n",
      "| ProjGrad lr=0.00016 neg_slope=0.4 reverse_pref=False scale_orth=False β=0.81 |   5.785 | -0.787 | 11.946 | 12.281 |\n"
     ]
    },
    {
     "name": "stderr",
     "output_type": "stream",
     "text": [
      "[I 2024-10-09 17:45:27,320] Trial 243 finished with value: 1.111753371868979 and parameters: {'lr': 0.00011758718938908418, 'β': 0.8361594748725967, 'reverse_pref': False, 'scale_orth': False, 'weight_dim': 0, 'neg_slope': 'float', 'mag_clip': None, 'neg_slope_value': 0.3589961048387408}. Best is trial 119 with value: 1.2793834296724471.\n"
     ]
    },
    {
     "name": "stdout",
     "output_type": "stream",
     "text": [
      "\n",
      "| acc_inc/eval_ds [pp]                                                          |   train |   test |    oos |    rnd |\n",
      "|:------------------------------------------------------------------------------|--------:|-------:|-------:|-------:|\n",
      "| ProjGrad lr=0.00012 neg_slope=0.36 reverse_pref=False scale_orth=False β=0.84 |   4.132 | -1.575 | 11.175 | 49.123 |\n"
     ]
    },
    {
     "name": "stderr",
     "output_type": "stream",
     "text": [
      "[I 2024-10-09 17:48:56,017] Trial 244 finished with value: 1.1059730250481696 and parameters: {'lr': 0.00018537445472227053, 'β': 0.8635454167682375, 'reverse_pref': False, 'scale_orth': False, 'weight_dim': 0, 'neg_slope': 'float', 'mag_clip': None, 'neg_slope_value': 0.3138005700657112}. Best is trial 119 with value: 1.2793834296724471.\n"
     ]
    },
    {
     "name": "stdout",
     "output_type": "stream",
     "text": [
      "\n",
      "| acc_inc/eval_ds [pp]                                                          |   train |   test |    oos |    rnd |\n",
      "|:------------------------------------------------------------------------------|--------:|-------:|-------:|-------:|\n",
      "| ProjGrad lr=0.00019 neg_slope=0.31 reverse_pref=False scale_orth=False β=0.86 |   5.785 | -0.787 | 10.597 | 19.298 |\n"
     ]
    },
    {
     "name": "stderr",
     "output_type": "stream",
     "text": [
      "[I 2024-10-09 17:52:25,247] Trial 245 finished with value: 1.0770712909441233 and parameters: {'lr': 0.00012990692960984705, 'β': 0.7719034150542696, 'reverse_pref': True, 'scale_orth': False, 'weight_dim': 0, 'neg_slope': 'float', 'mag_clip': 'float', 'mag_clip_value': 358.1995028684454, 'neg_slope_value': 0.18390727438935223}. Best is trial 119 with value: 1.2793834296724471.\n"
     ]
    },
    {
     "name": "stdout",
     "output_type": "stream",
     "text": [
      "\n",
      "| acc_inc/eval_ds [pp]                                                        |   train |   test |   oos |    rnd |\n",
      "|:----------------------------------------------------------------------------|--------:|-------:|------:|-------:|\n",
      "| ProjGrad lr=0.00013 mag_clip=3.6e+02 neg_slope=0.18 scale_orth=False β=0.77 |   5.785 |  0.787 | 7.707 | 19.298 |\n"
     ]
    },
    {
     "name": "stderr",
     "output_type": "stream",
     "text": [
      "[I 2024-10-09 17:55:55,817] Trial 246 finished with value: 1.1907514450867052 and parameters: {'lr': 0.0002300125827945512, 'β': 0.8183852619765929, 'reverse_pref': True, 'scale_orth': False, 'weight_dim': 0, 'neg_slope': 'float', 'mag_clip': None, 'neg_slope_value': 0.4406492819015271}. Best is trial 119 with value: 1.2793834296724471.\n"
     ]
    },
    {
     "name": "stdout",
     "output_type": "stream",
     "text": [
      "\n",
      "| acc_inc/eval_ds [pp]                                       |   train |   test |    oos |    rnd |\n",
      "|:-----------------------------------------------------------|--------:|-------:|-------:|-------:|\n",
      "| ProjGrad lr=0.00023 neg_slope=0.44 scale_orth=False β=0.82 |   5.785 |  0.787 | 19.075 | 14.035 |\n"
     ]
    },
    {
     "name": "stderr",
     "output_type": "stream",
     "text": [
      "[I 2024-10-09 17:59:24,812] Trial 247 finished with value: 1.0963391136801544 and parameters: {'lr': 0.00025487513231071675, 'β': 0.8110311029879128, 'reverse_pref': True, 'scale_orth': False, 'weight_dim': 0, 'neg_slope': 'float', 'mag_clip': None, 'neg_slope_value': 0.4404864654592384}. Best is trial 119 with value: 1.2793834296724471.\n"
     ]
    },
    {
     "name": "stdout",
     "output_type": "stream",
     "text": [
      "\n",
      "| acc_inc/eval_ds [pp]                                       |   train |   test |   oos |    rnd |\n",
      "|:-----------------------------------------------------------|--------:|-------:|------:|-------:|\n",
      "| ProjGrad lr=0.00025 neg_slope=0.44 scale_orth=False β=0.81 |   4.959 |      0 | 9.634 | 15.789 |\n",
      "================================================================================\n"
     ]
    },
    {
     "name": "stderr",
     "output_type": "stream",
     "text": [
      "[I 2024-10-09 17:59:26,159] Using an existing study with name 'hs-hra-rank' instead of creating a new one.\n"
     ]
    },
    {
     "name": "stdout",
     "output_type": "stream",
     "text": [
      "loaded 262 hs-hra-rank trials\n"
     ]
    },
    {
     "name": "stderr",
     "output_type": "stream",
     "text": [
      "[I 2024-10-09 17:59:29,278] Using an existing study with name 'dpo' instead of creating a new one.\n"
     ]
    },
    {
     "name": "stdout",
     "output_type": "stream",
     "text": [
      "| hs-hra-rank N=✓259/262, best=1.152   |   importance |         best |\n",
      "|:-------------------------------------|-------------:|-------------:|\n",
      "| lr                                   |        0.844 |  0.000332682 |\n",
      "| β                                    |        0.072 |  0.37992     |\n",
      "| r                                    |        0.042 | 38           |\n",
      "| apply_GS                             |        0.042 |  1           |\n",
      "| α                                    |        0     |  0.280164    |\n",
      "================================================================================\n",
      "loaded 250 dpo trials\n"
     ]
    },
    {
     "name": "stderr",
     "output_type": "stream",
     "text": [
      "[I 2024-10-09 17:59:30,695] Using an existing study with name 'projbp' instead of creating a new one.\n"
     ]
    },
    {
     "name": "stdout",
     "output_type": "stream",
     "text": [
      "| dpo N=✓248/250, best=1.276   |   importance |        best |\n",
      "|:-----------------------------|-------------:|------------:|\n",
      "| lr                           |            1 | 0.000264989 |\n",
      "================================================================================\n",
      "loaded 403 projbp trials\n",
      "| projbp N=✓267/403, best=1.071   |   importance | best                  |\n",
      "|:--------------------------------|-------------:|:----------------------|\n",
      "| scale_orth                      |        0.447 | False                 |\n",
      "| β                               |        0.29  | 0.23837692484751438   |\n",
      "| lr                              |        0.25  | 4.999069498700412e-06 |\n",
      "| neg_slope                       |        0.007 | float                 |\n",
      "| mag_clip                        |        0.004 | float                 |\n",
      "| reverse_pref                    |        0.001 | True                  |\n",
      "| mag_clip_value                  |      nan     | 0.9814652443365963    |\n",
      "| neg_slope_value                 |      nan     | 0.6986700865313811    |\n"
     ]
    },
    {
     "name": "stderr",
     "output_type": "stream",
     "text": [
      "[I 2024-10-09 18:03:16,067] Trial 403 finished with value: 1.0732177263969174 and parameters: {'lr': 5.9645941757069474e-06, 'β': 0.25004219173878484, 'reverse_pref': True, 'scale_orth': False, 'neg_slope': 'float', 'mag_clip': 'float', 'mag_clip_value': 1.7199043343625504, 'neg_slope_value': 0.7418208777373636}. Best is trial 403 with value: 1.0732177263969174.\n"
     ]
    },
    {
     "name": "stdout",
     "output_type": "stream",
     "text": [
      "\n",
      "| acc_inc/eval_ds [pp]                                                 |   train |   test |   oos |    rnd |\n",
      "|:---------------------------------------------------------------------|--------:|-------:|------:|-------:|\n",
      "| ProjBP lr=6e-06 mag_clip=1.7 neg_slope=0.74 reverse_pref=True β=0.25 |   3.306 | -0.787 | 7.322 | -7.018 |\n"
     ]
    },
    {
     "name": "stderr",
     "output_type": "stream",
     "text": [
      "[I 2024-10-09 18:06:57,790] Trial 404 finished with value: 1.0732177263969174 and parameters: {'lr': 6.149735895075591e-06, 'β': 0.2370280400666962, 'reverse_pref': True, 'scale_orth': False, 'neg_slope': 'float', 'mag_clip': 'float', 'mag_clip_value': 1.7622367223147088, 'neg_slope_value': 0.7637018456084378}. Best is trial 403 with value: 1.0732177263969174.\n"
     ]
    },
    {
     "name": "stdout",
     "output_type": "stream",
     "text": [
      "\n",
      "| acc_inc/eval_ds [pp]                                                   |   train |   test |   oos |    rnd |\n",
      "|:-----------------------------------------------------------------------|--------:|-------:|------:|-------:|\n",
      "| ProjBP lr=6.1e-06 mag_clip=1.8 neg_slope=0.76 reverse_pref=True β=0.24 |   3.306 | -0.787 | 7.322 | -1.754 |\n"
     ]
    },
    {
     "name": "stderr",
     "output_type": "stream",
     "text": [
      "[I 2024-10-09 18:10:43,127] Trial 405 finished with value: 1.0732177263969174 and parameters: {'lr': 6.737811702983589e-06, 'β': 0.23832311901100056, 'reverse_pref': True, 'scale_orth': False, 'neg_slope': 'float', 'mag_clip': 'float', 'mag_clip_value': 1.75503645881371, 'neg_slope_value': 0.7801289102424939}. Best is trial 403 with value: 1.0732177263969174.\n"
     ]
    },
    {
     "name": "stdout",
     "output_type": "stream",
     "text": [
      "\n",
      "| acc_inc/eval_ds [pp]                                                   |   train |   test |   oos |    rnd |\n",
      "|:-----------------------------------------------------------------------|--------:|-------:|------:|-------:|\n",
      "| ProjBP lr=6.7e-06 mag_clip=1.8 neg_slope=0.78 reverse_pref=True β=0.24 |   4.132 | -0.787 | 7.322 | -1.754 |\n"
     ]
    },
    {
     "name": "stderr",
     "output_type": "stream",
     "text": [
      "[I 2024-10-09 18:14:25,684] Trial 406 finished with value: 0.4836223506743738 and parameters: {'lr': 1.4091798165165149e-05, 'β': 0.24259557721495228, 'reverse_pref': True, 'scale_orth': False, 'neg_slope': 'float', 'mag_clip': 'float', 'mag_clip_value': 1.6152764235178227, 'neg_slope_value': 0.7779742277335802}. Best is trial 403 with value: 1.0732177263969174.\n"
     ]
    },
    {
     "name": "stdout",
     "output_type": "stream",
     "text": [
      "\n",
      "| acc_inc/eval_ds [pp]                                                   |   train |    test |     oos |    rnd |\n",
      "|:-----------------------------------------------------------------------|--------:|--------:|--------:|-------:|\n",
      "| ProjBP lr=1.4e-05 mag_clip=1.6 neg_slope=0.78 reverse_pref=True β=0.24 | -27.273 | -25.984 | -51.638 | 21.053 |\n"
     ]
    },
    {
     "name": "stderr",
     "output_type": "stream",
     "text": [
      "[I 2024-10-09 18:18:09,235] Trial 407 finished with value: 1.0500963391136802 and parameters: {'lr': 7.333489398703931e-06, 'β': 0.22131747754619627, 'reverse_pref': True, 'scale_orth': False, 'neg_slope': 'float', 'mag_clip': 'float', 'mag_clip_value': 1.0931613956670316, 'neg_slope_value': 0.7617348373371008}. Best is trial 403 with value: 1.0732177263969174.\n"
     ]
    },
    {
     "name": "stdout",
     "output_type": "stream",
     "text": [
      "\n",
      "| acc_inc/eval_ds [pp]                                                   |   train |   test |   oos |   rnd |\n",
      "|:-----------------------------------------------------------------------|--------:|-------:|------:|------:|\n",
      "| ProjBP lr=7.3e-06 mag_clip=1.1 neg_slope=0.76 reverse_pref=True β=0.22 |   2.479 |      0 |  5.01 |     0 |\n"
     ]
    },
    {
     "name": "stderr",
     "output_type": "stream",
     "text": [
      "[I 2024-10-09 18:21:52,827] Trial 408 finished with value: 1.0539499036608864 and parameters: {'lr': 8.980028768329782e-06, 'β': 0.24418529249656404, 'reverse_pref': True, 'scale_orth': False, 'neg_slope': 'float', 'mag_clip': 'float', 'mag_clip_value': 1.7403021340919413, 'neg_slope_value': 0.8342134167291257}. Best is trial 403 with value: 1.0732177263969174.\n"
     ]
    },
    {
     "name": "stdout",
     "output_type": "stream",
     "text": [
      "\n",
      "| acc_inc/eval_ds [pp]                                                 |   train |   test |   oos |   rnd |\n",
      "|:---------------------------------------------------------------------|--------:|-------:|------:|------:|\n",
      "| ProjBP lr=9e-06 mag_clip=1.7 neg_slope=0.83 reverse_pref=True β=0.24 |   2.479 |      0 | 5.395 | 7.018 |\n"
     ]
    },
    {
     "name": "stderr",
     "output_type": "stream",
     "text": [
      "[I 2024-10-09 18:25:37,712] Trial 409 finished with value: 1.0751445086705202 and parameters: {'lr': 6.276426661789121e-06, 'β': 0.19418529255914482, 'reverse_pref': True, 'scale_orth': False, 'neg_slope': 'float', 'mag_clip': 'float', 'mag_clip_value': 0.2006270273177927, 'neg_slope_value': 0.7938847060975817}. Best is trial 409 with value: 1.0751445086705202.\n"
     ]
    },
    {
     "name": "stdout",
     "output_type": "stream",
     "text": [
      "\n",
      "| acc_inc/eval_ds [pp]                                                   |   train |   test |   oos |    rnd |\n",
      "|:-----------------------------------------------------------------------|--------:|-------:|------:|-------:|\n",
      "| ProjBP lr=6.3e-06 mag_clip=0.2 neg_slope=0.79 reverse_pref=True β=0.19 |   3.306 | -0.787 | 7.514 | -3.509 |\n"
     ]
    },
    {
     "name": "stderr",
     "output_type": "stream",
     "text": [
      "[I 2024-10-09 18:29:30,822] Trial 410 finished with value: 0.48747591522157996 and parameters: {'lr': 1.2153247236383349e-05, 'β': 0.18895452117247705, 'reverse_pref': True, 'scale_orth': False, 'neg_slope': 'float', 'mag_clip': 'float', 'mag_clip_value': 0.5432867908833465, 'neg_slope_value': 0.7991127864307275}. Best is trial 409 with value: 1.0751445086705202.\n"
     ]
    },
    {
     "name": "stdout",
     "output_type": "stream",
     "text": [
      "\n",
      "| acc_inc/eval_ds [pp]                                                   |   train |    test |     oos |    rnd |\n",
      "|:-----------------------------------------------------------------------|--------:|--------:|--------:|-------:|\n",
      "| ProjBP lr=1.2e-05 mag_clip=0.54 neg_slope=0.8 reverse_pref=True β=0.19 | -31.405 | -24.409 | -51.252 | 21.053 |\n"
     ]
    },
    {
     "name": "stderr",
     "output_type": "stream",
     "text": [
      "[I 2024-10-09 18:33:12,030] Trial 411 finished with value: 1.0751445086705202 and parameters: {'lr': 6.386964502318558e-06, 'β': 0.20351699998714376, 'reverse_pref': True, 'scale_orth': False, 'neg_slope': 'float', 'mag_clip': 'float', 'mag_clip_value': 0.8800896343683307, 'neg_slope_value': 0.8211394955566083}. Best is trial 409 with value: 1.0751445086705202.\n"
     ]
    },
    {
     "name": "stdout",
     "output_type": "stream",
     "text": [
      "\n",
      "| acc_inc/eval_ds [pp]                                                   |   train |   test |   oos |    rnd |\n",
      "|:-----------------------------------------------------------------------|--------:|-------:|------:|-------:|\n",
      "| ProjBP lr=6.4e-06 mag_clip=0.88 neg_slope=0.82 reverse_pref=True β=0.2 |   2.479 | -0.787 | 7.514 | -7.018 |\n"
     ]
    },
    {
     "name": "stderr",
     "output_type": "stream",
     "text": [
      "[I 2024-10-09 18:36:53,416] Trial 412 finished with value: 0.47976878612716767 and parameters: {'lr': 4.3234483505423266e-05, 'β': 0.21175258058974464, 'reverse_pref': True, 'scale_orth': False, 'neg_slope': 'float', 'mag_clip': 'float', 'mag_clip_value': 0.17174296684684007, 'neg_slope_value': 0.8204709777568636}. Best is trial 409 with value: 1.0751445086705202.\n"
     ]
    },
    {
     "name": "stdout",
     "output_type": "stream",
     "text": [
      "\n",
      "| acc_inc/eval_ds [pp]                                                    |   train |    test |     oos |   rnd |\n",
      "|:------------------------------------------------------------------------|--------:|--------:|--------:|------:|\n",
      "| ProjBP lr=4.3e-05 mag_clip=0.17 neg_slope=0.82 reverse_pref=True β=0.21 | -27.273 | -24.409 | -52.023 | 8.772 |\n"
     ]
    },
    {
     "name": "stderr",
     "output_type": "stream",
     "text": [
      "[I 2024-10-09 18:40:38,238] Trial 413 finished with value: 0.7244701348747592 and parameters: {'lr': 9.253277459105356e-06, 'β': 0.19863430540081378, 'reverse_pref': True, 'scale_orth': False, 'neg_slope': 'float', 'mag_clip': 'float', 'mag_clip_value': 0.8493095385968309, 'neg_slope_value': 0.7892068425590545}. Best is trial 409 with value: 1.0751445086705202.\n"
     ]
    },
    {
     "name": "stdout",
     "output_type": "stream",
     "text": [
      "\n",
      "| acc_inc/eval_ds [pp]                                                   |   train |   test |     oos |    rnd |\n",
      "|:-----------------------------------------------------------------------|--------:|-------:|--------:|-------:|\n",
      "| ProjBP lr=9.3e-06 mag_clip=0.85 neg_slope=0.79 reverse_pref=True β=0.2 |  -11.57 | -5.512 | -27.553 | 14.035 |\n"
     ]
    },
    {
     "name": "stderr",
     "output_type": "stream",
     "text": [
      "[I 2024-10-09 18:44:20,925] Trial 414 finished with value: 1.0732177263969174 and parameters: {'lr': 6.970738408946077e-06, 'β': 0.23251095193385762, 'reverse_pref': True, 'scale_orth': False, 'neg_slope': 'float', 'mag_clip': 'float', 'mag_clip_value': 3.7257473755570527, 'neg_slope_value': 0.8462697996819616}. Best is trial 409 with value: 1.0751445086705202.\n"
     ]
    },
    {
     "name": "stdout",
     "output_type": "stream",
     "text": [
      "\n",
      "| acc_inc/eval_ds [pp]                                                 |   train |   test |   oos |    rnd |\n",
      "|:---------------------------------------------------------------------|--------:|-------:|------:|-------:|\n",
      "| ProjBP lr=7e-06 mag_clip=3.7 neg_slope=0.85 reverse_pref=True β=0.23 |   3.306 | -0.787 | 7.322 | -8.772 |\n"
     ]
    },
    {
     "name": "stderr",
     "output_type": "stream",
     "text": [
      "[I 2024-10-09 18:48:06,349] Trial 415 finished with value: 1.0828516377649327 and parameters: {'lr': 7.363725831054386e-06, 'β': 0.1787633304238575, 'reverse_pref': True, 'scale_orth': False, 'neg_slope': 'float', 'mag_clip': 'float', 'mag_clip_value': 1.848248094675994, 'neg_slope_value': 0.8394635998362336}. Best is trial 415 with value: 1.0828516377649327.\n"
     ]
    },
    {
     "name": "stdout",
     "output_type": "stream",
     "text": [
      "\n",
      "| acc_inc/eval_ds [pp]                                                   |   train |   test |   oos |    rnd |\n",
      "|:-----------------------------------------------------------------------|--------:|-------:|------:|-------:|\n",
      "| ProjBP lr=7.4e-06 mag_clip=1.8 neg_slope=0.84 reverse_pref=True β=0.18 |   3.306 | -0.787 | 8.285 | -7.018 |\n"
     ]
    },
    {
     "name": "stderr",
     "output_type": "stream",
     "text": [
      "[I 2024-10-09 18:51:50,292] Trial 416 finished with value: 0.6300578034682082 and parameters: {'lr': 1.1027947778076752e-05, 'β': 0.16650516183930963, 'reverse_pref': True, 'scale_orth': False, 'neg_slope': 'float', 'mag_clip': 'float', 'mag_clip_value': 1.2457123897326992, 'neg_slope_value': 0.8503422622366872}. Best is trial 415 with value: 1.0828516377649327.\n"
     ]
    },
    {
     "name": "stdout",
     "output_type": "stream",
     "text": [
      "\n",
      "| acc_inc/eval_ds [pp]                                                   |   train |    test |     oos |    rnd |\n",
      "|:-----------------------------------------------------------------------|--------:|--------:|--------:|-------:|\n",
      "| ProjBP lr=1.1e-05 mag_clip=1.2 neg_slope=0.85 reverse_pref=True β=0.17 | -18.182 | -14.961 | -36.994 | 29.825 |\n"
     ]
    },
    {
     "name": "stderr",
     "output_type": "stream",
     "text": [
      "[I 2024-10-09 18:55:34,569] Trial 417 finished with value: 1.0655105973025047 and parameters: {'lr': 8.355264320281332e-06, 'β': 0.17945514987007577, 'reverse_pref': True, 'scale_orth': False, 'neg_slope': 'float', 'mag_clip': 'float', 'mag_clip_value': 1.869148067439719, 'neg_slope_value': 0.8526824864554127}. Best is trial 415 with value: 1.0828516377649327.\n"
     ]
    },
    {
     "name": "stdout",
     "output_type": "stream",
     "text": [
      "\n",
      "| acc_inc/eval_ds [pp]                                                   |   train |   test |   oos |    rnd |\n",
      "|:-----------------------------------------------------------------------|--------:|-------:|------:|-------:|\n",
      "| ProjBP lr=8.4e-06 mag_clip=1.9 neg_slope=0.85 reverse_pref=True β=0.18 |   3.306 | -0.787 | 6.551 | -7.018 |\n"
     ]
    },
    {
     "name": "stderr",
     "output_type": "stream",
     "text": [
      "[I 2024-10-09 18:59:17,819] Trial 418 finished with value: 1.0751445086705202 and parameters: {'lr': 7.023156708288126e-06, 'β': 0.2203679658471596, 'reverse_pref': True, 'scale_orth': False, 'neg_slope': 'float', 'mag_clip': 'float', 'mag_clip_value': 0.750054988993849, 'neg_slope_value': 0.8268541742887184}. Best is trial 415 with value: 1.0828516377649327.\n"
     ]
    },
    {
     "name": "stdout",
     "output_type": "stream",
     "text": [
      "\n",
      "| acc_inc/eval_ds [pp]                                                  |   train |   test |   oos |    rnd |\n",
      "|:----------------------------------------------------------------------|--------:|-------:|------:|-------:|\n",
      "| ProjBP lr=7e-06 mag_clip=0.75 neg_slope=0.83 reverse_pref=True β=0.22 |   4.132 | -0.787 | 7.514 | -3.509 |\n"
     ]
    },
    {
     "name": "stderr",
     "output_type": "stream",
     "text": [
      "[I 2024-10-09 19:03:00,831] Trial 419 finished with value: 0.4489402697495183 and parameters: {'lr': 7.452879953493838e-06, 'β': 0.22371350484125377, 'reverse_pref': True, 'scale_orth': False, 'neg_slope': 0, 'mag_clip': 'float', 'mag_clip_value': 2.2636884024329538}. Best is trial 415 with value: 1.0828516377649327.\n"
     ]
    },
    {
     "name": "stdout",
     "output_type": "stream",
     "text": [
      "\n",
      "| acc_inc/eval_ds [pp]                                                |   train |    test |     oos |   rnd |\n",
      "|:--------------------------------------------------------------------|--------:|--------:|--------:|------:|\n",
      "| ProjBP lr=7.5e-06 mag_clip=2.3 neg_slope=0 reverse_pref=True β=0.22 | -39.669 | -24.409 | -55.106 | 8.772 |\n"
     ]
    },
    {
     "name": "stderr",
     "output_type": "stream",
     "text": [
      "[I 2024-10-09 19:06:44,022] Trial 420 finished with value: 0.49518304431599236 and parameters: {'lr': 1.822639214111898e-05, 'β': 0.23126122264149104, 'reverse_pref': True, 'scale_orth': False, 'neg_slope': 'float', 'mag_clip': 'float', 'mag_clip_value': 0.7821023460132451, 'neg_slope_value': 0.8354957510612917}. Best is trial 415 with value: 1.0828516377649327.\n"
     ]
    },
    {
     "name": "stdout",
     "output_type": "stream",
     "text": [
      "\n",
      "| acc_inc/eval_ds [pp]                                                    |   train |    test |     oos |    rnd |\n",
      "|:------------------------------------------------------------------------|--------:|--------:|--------:|-------:|\n",
      "| ProjBP lr=1.8e-05 mag_clip=0.78 neg_slope=0.84 reverse_pref=True β=0.23 | -24.793 | -26.772 | -50.482 | 12.281 |\n"
     ]
    },
    {
     "name": "stderr",
     "output_type": "stream",
     "text": [
      "[I 2024-10-09 19:10:29,024] Trial 421 finished with value: 1.0 and parameters: {'lr': 6.897147445270773e-06, 'β': 0.20643294413881422, 'reverse_pref': True, 'scale_orth': True, 'neg_slope': 'float', 'mag_clip': 'float', 'mag_clip_value': 4.024393550341556, 'neg_slope_value': 0.8123696656204791}. Best is trial 415 with value: 1.0828516377649327.\n"
     ]
    },
    {
     "name": "stdout",
     "output_type": "stream",
     "text": [
      "\n",
      "| acc_inc/eval_ds [pp]                                                                 |   train |   test |   oos |   rnd |\n",
      "|:-------------------------------------------------------------------------------------|--------:|-------:|------:|------:|\n",
      "| ProjBP lr=6.9e-06 mag_clip=4 neg_slope=0.81 reverse_pref=True scale_orth=True β=0.21 |       0 |      0 |     0 |     0 |\n"
     ]
    },
    {
     "name": "stderr",
     "output_type": "stream",
     "text": [
      "[I 2024-10-09 19:14:11,955] Trial 422 finished with value: 0.5953757225433526 and parameters: {'lr': 1.2575408232870664e-05, 'β': 0.24030164060720643, 'reverse_pref': True, 'scale_orth': False, 'neg_slope': 'float', 'mag_clip': 'float', 'mag_clip_value': 0.595555318818719, 'neg_slope_value': 0.8339126490493651}. Best is trial 415 with value: 1.0828516377649327.\n"
     ]
    },
    {
     "name": "stdout",
     "output_type": "stream",
     "text": [
      "\n",
      "| acc_inc/eval_ds [pp]                                                   |   train |    test |     oos |   rnd |\n",
      "|:-----------------------------------------------------------------------|--------:|--------:|--------:|------:|\n",
      "| ProjBP lr=1.3e-05 mag_clip=0.6 neg_slope=0.83 reverse_pref=True β=0.24 | -19.008 | -17.323 | -40.462 | 3.509 |\n",
      "================================================================================\n"
     ]
    },
    {
     "name": "stderr",
     "output_type": "stream",
     "text": [
      "[I 2024-10-09 19:14:13,396] Using an existing study with name 'projgrad3' instead of creating a new one.\n"
     ]
    },
    {
     "name": "stdout",
     "output_type": "stream",
     "text": [
      "loaded 248 projgrad3 trials\n",
      "| projgrad3 N=✓247/248, best=1.279   |   importance | best                  |\n",
      "|:-----------------------------------|-------------:|:----------------------|\n",
      "| lr                                 |        0.912 | 0.0002320529194140666 |\n",
      "| β                                  |        0.056 | 0.8426788311104311    |\n",
      "| weight_dim                         |        0.016 | 1                     |\n",
      "| scale_orth                         |        0.005 | False                 |\n",
      "| reverse_pref                       |        0.004 | True                  |\n",
      "| mag_clip                           |        0.003 | float                 |\n",
      "| neg_slope                          |        0.003 | 0                     |\n",
      "| mag_clip_value                     |      nan     | 0.2300957741124143    |\n"
     ]
    },
    {
     "name": "stderr",
     "output_type": "stream",
     "text": [
      "[I 2024-10-09 19:17:41,180] Trial 248 finished with value: 1.1695568400770715 and parameters: {'lr': 0.0003221141067629019, 'β': 0.1232279559341502, 'reverse_pref': False, 'scale_orth': False, 'weight_dim': 0, 'neg_slope': 0, 'mag_clip': None}. Best is trial 119 with value: 1.2793834296724471.\n"
     ]
    },
    {
     "name": "stdout",
     "output_type": "stream",
     "text": [
      "\n",
      "| acc_inc/eval_ds [pp]                                                       |   train |   test |    oos |    rnd |\n",
      "|:---------------------------------------------------------------------------|--------:|-------:|-------:|-------:|\n",
      "| ProjGrad lr=0.00032 neg_slope=0 reverse_pref=False scale_orth=False β=0.12 |   5.785 | -0.787 | 16.956 | 24.561 |\n"
     ]
    },
    {
     "name": "stderr",
     "output_type": "stream",
     "text": [
      "[I 2024-10-09 19:21:08,870] Trial 249 finished with value: 1.1021194605009634 and parameters: {'lr': 0.0002169926756929764, 'β': 0.6811724377530144, 'reverse_pref': True, 'scale_orth': False, 'weight_dim': 1, 'neg_slope': 0, 'mag_clip': None}. Best is trial 119 with value: 1.2793834296724471.\n"
     ]
    },
    {
     "name": "stdout",
     "output_type": "stream",
     "text": [
      "\n",
      "| acc_inc/eval_ds [pp]                                                 |   train |   test |    oos |    rnd |\n",
      "|:---------------------------------------------------------------------|--------:|-------:|-------:|-------:|\n",
      "| ProjGrad lr=0.00022 neg_slope=0 scale_orth=False weight_dim=1 β=0.68 |   4.959 |      0 | 10.212 | 15.789 |\n"
     ]
    },
    {
     "name": "stderr",
     "output_type": "stream",
     "text": [
      "[I 2024-10-09 19:24:38,282] Trial 250 finished with value: 1.044315992292871 and parameters: {'lr': 2.5673297199270097e-05, 'β': 0.7912897193206562, 'reverse_pref': True, 'scale_orth': False, 'weight_dim': 0, 'neg_slope': 0, 'mag_clip': None}. Best is trial 119 with value: 1.2793834296724471.\n"
     ]
    },
    {
     "name": "stdout",
     "output_type": "stream",
     "text": [
      "\n",
      "| acc_inc/eval_ds [pp]                                    |   train |   test |   oos |    rnd |\n",
      "|:--------------------------------------------------------|--------:|-------:|------:|-------:|\n",
      "| ProjGrad lr=2.6e-05 neg_slope=0 scale_orth=False β=0.79 |   5.785 | -0.787 | 4.432 | 12.281 |\n"
     ]
    },
    {
     "name": "stderr",
     "output_type": "stream",
     "text": [
      "[I 2024-10-09 19:28:06,972] Trial 251 finished with value: 1.1965317919075145 and parameters: {'lr': 0.00018736749134849298, 'β': 0.4170607695622558, 'reverse_pref': False, 'scale_orth': False, 'weight_dim': 0, 'neg_slope': 'float', 'mag_clip': None, 'neg_slope_value': 0.5893376103380813}. Best is trial 119 with value: 1.2793834296724471.\n"
     ]
    },
    {
     "name": "stdout",
     "output_type": "stream",
     "text": [
      "\n",
      "| acc_inc/eval_ds [pp]                                                          |   train |   test |    oos |   rnd |\n",
      "|:------------------------------------------------------------------------------|--------:|-------:|-------:|------:|\n",
      "| ProjGrad lr=0.00019 neg_slope=0.59 reverse_pref=False scale_orth=False β=0.42 |   5.785 |  0.787 | 19.653 | 3.509 |\n"
     ]
    },
    {
     "name": "stderr",
     "output_type": "stream",
     "text": [
      "[I 2024-10-09 19:31:33,684] Trial 252 finished with value: 1.1406551059730252 and parameters: {'lr': 9.265243259840589e-05, 'β': 0.8904337558917932, 'reverse_pref': False, 'scale_orth': False, 'weight_dim': 1, 'neg_slope': 0, 'mag_clip': None}. Best is trial 119 with value: 1.2793834296724471.\n"
     ]
    },
    {
     "name": "stdout",
     "output_type": "stream",
     "text": [
      "\n",
      "| acc_inc/eval_ds [pp]                                                                    |   train |   test |    oos |    rnd |\n",
      "|:----------------------------------------------------------------------------------------|--------:|-------:|-------:|-------:|\n",
      "| ProjGrad lr=9.3e-05 neg_slope=0 reverse_pref=False scale_orth=False weight_dim=1 β=0.89 |   5.785 | -0.787 | 14.066 | 10.526 |\n"
     ]
    },
    {
     "name": "stderr",
     "output_type": "stream",
     "text": [
      "[I 2024-10-09 19:35:03,376] Trial 253 finished with value: 1.1522157996146436 and parameters: {'lr': 0.00017461198480241296, 'β': 0.5004865101322559, 'reverse_pref': False, 'scale_orth': False, 'weight_dim': 0, 'neg_slope': 0, 'mag_clip': None}. Best is trial 119 with value: 1.2793834296724471.\n"
     ]
    },
    {
     "name": "stdout",
     "output_type": "stream",
     "text": [
      "\n",
      "| acc_inc/eval_ds [pp]                                                      |   train |   test |    oos |    rnd |\n",
      "|:--------------------------------------------------------------------------|--------:|-------:|-------:|-------:|\n",
      "| ProjGrad lr=0.00017 neg_slope=0 reverse_pref=False scale_orth=False β=0.5 |   5.785 | -1.575 | 15.222 | 12.281 |\n",
      "\n",
      "| acc_inc/eval_ds [pp]                                                                    |   train |   test |   oos |   rnd |\n",
      "|:----------------------------------------------------------------------------------------|--------:|-------:|------:|------:|\n",
      "| ProjGrad lr=0.00037 neg_slope=0 reverse_pref=False scale_orth=False weight_dim=1 β=0.46 |   2.479 | -0.787 | 1.734 | 5.263 |\n"
     ]
    },
    {
     "name": "stderr",
     "output_type": "stream",
     "text": [
      "[I 2024-10-09 19:38:33,258] Trial 254 finished with value: 1.0173410404624277 and parameters: {'lr': 0.00036797521210519684, 'β': 0.46089071411007015, 'reverse_pref': False, 'scale_orth': False, 'weight_dim': 1, 'neg_slope': 0, 'mag_clip': None}. Best is trial 119 with value: 1.2793834296724471.\n",
      "[I 2024-10-09 19:42:02,591] Trial 255 finished with value: 1.2350674373795762 and parameters: {'lr': 0.00028414205258160355, 'β': 0.5220890326512349, 'reverse_pref': False, 'scale_orth': False, 'weight_dim': 0, 'neg_slope': 'float', 'mag_clip': None, 'neg_slope_value': 0.655454136337778}. Best is trial 119 with value: 1.2793834296724471.\n"
     ]
    },
    {
     "name": "stdout",
     "output_type": "stream",
     "text": [
      "\n",
      "| acc_inc/eval_ds [pp]                                                          |   train |   test |    oos |    rnd |\n",
      "|:------------------------------------------------------------------------------|--------:|-------:|-------:|-------:|\n",
      "| ProjGrad lr=0.00028 neg_slope=0.66 reverse_pref=False scale_orth=False β=0.52 |   4.132 |  0.787 | 23.507 | 12.281 |\n",
      "\n",
      "| acc_inc/eval_ds [pp]                                                                                     |   train |   test |   oos |   rnd |\n",
      "|:---------------------------------------------------------------------------------------------------------|--------:|-------:|------:|------:|\n",
      "| ProjGrad lr=0.00029 mag_clip=1.1e+02 neg_slope=0 reverse_pref=False scale_orth=False weight_dim=1 β=0.43 |   5.785 | -2.362 | 6.936 | 7.018 |\n"
     ]
    },
    {
     "name": "stderr",
     "output_type": "stream",
     "text": [
      "[I 2024-10-09 19:45:32,043] Trial 256 finished with value: 1.069364161849711 and parameters: {'lr': 0.00029045442739181556, 'β': 0.4303648497397896, 'reverse_pref': False, 'scale_orth': False, 'weight_dim': 1, 'neg_slope': 0, 'mag_clip': 'float', 'mag_clip_value': 113.67731585762657}. Best is trial 119 with value: 1.2793834296724471.\n",
      "[I 2024-10-09 19:49:04,897] Trial 257 finished with value: 0.6859344894026975 and parameters: {'lr': 0.0004944409762855742, 'β': 0.5275014785214992, 'reverse_pref': False, 'scale_orth': False, 'weight_dim': 0, 'neg_slope': 0, 'mag_clip': 'float', 'mag_clip_value': 20.655699930434682}. Best is trial 119 with value: 1.2793834296724471.\n"
     ]
    },
    {
     "name": "stdout",
     "output_type": "stream",
     "text": [
      "\n",
      "| acc_inc/eval_ds [pp]                                                                   |   train |   test |     oos |   rnd |\n",
      "|:---------------------------------------------------------------------------------------|--------:|-------:|--------:|------:|\n",
      "| ProjGrad lr=0.00049 mag_clip=21 neg_slope=0 reverse_pref=False scale_orth=False β=0.53 |       0 | -3.937 | -31.407 | 1.754 |\n"
     ]
    },
    {
     "name": "stderr",
     "output_type": "stream",
     "text": [
      "[I 2024-10-09 19:52:31,900] Trial 258 finished with value: 1.1560693641618498 and parameters: {'lr': 0.0002745582097827897, 'β': 0.47272773173415383, 'reverse_pref': False, 'scale_orth': False, 'weight_dim': 0, 'neg_slope': 0, 'mag_clip': None}. Best is trial 119 with value: 1.2793834296724471.\n"
     ]
    },
    {
     "name": "stdout",
     "output_type": "stream",
     "text": [
      "\n",
      "| acc_inc/eval_ds [pp]                                                       |   train |   test |    oos |    rnd |\n",
      "|:---------------------------------------------------------------------------|--------:|-------:|-------:|-------:|\n",
      "| ProjGrad lr=0.00027 neg_slope=0 reverse_pref=False scale_orth=False β=0.47 |   5.785 |      0 | 15.607 | 10.526 |\n"
     ]
    },
    {
     "name": "stderr",
     "output_type": "stream",
     "text": [
      "[I 2024-10-09 19:56:03,116] Trial 259 finished with value: 0.45279383429672454 and parameters: {'lr': 0.0003604219633900857, 'β': 0.5634840318121704, 'reverse_pref': False, 'scale_orth': False, 'weight_dim': 2, 'neg_slope': 0, 'mag_clip': 'float', 'mag_clip_value': 0.01068451507654699}. Best is trial 119 with value: 1.2793834296724471.\n"
     ]
    },
    {
     "name": "stdout",
     "output_type": "stream",
     "text": [
      "\n",
      "| acc_inc/eval_ds [pp]                                                                                   |   train |    test |     oos |    rnd |\n",
      "|:-------------------------------------------------------------------------------------------------------|--------:|--------:|--------:|-------:|\n",
      "| ProjGrad lr=0.00036 mag_clip=0.011 neg_slope=0 reverse_pref=False scale_orth=False weight_dim=2 β=0.56 | -38.843 | -31.496 | -54.721 | 17.544 |\n"
     ]
    },
    {
     "name": "stderr",
     "output_type": "stream",
     "text": [
      "[I 2024-10-09 19:59:30,172] Trial 260 finished with value: 1.2157996146435455 and parameters: {'lr': 0.00019687659514139422, 'β': 0.5058945790899779, 'reverse_pref': True, 'scale_orth': False, 'weight_dim': 1, 'neg_slope': 'float', 'mag_clip': None, 'neg_slope_value': 0.6709170451698071}. Best is trial 119 with value: 1.2793834296724471.\n"
     ]
    },
    {
     "name": "stdout",
     "output_type": "stream",
     "text": [
      "\n",
      "| acc_inc/eval_ds [pp]                                                   |   train |   test |   oos |    rnd |\n",
      "|:-----------------------------------------------------------------------|--------:|-------:|------:|-------:|\n",
      "| ProjGrad lr=0.0002 neg_slope=0.67 scale_orth=False weight_dim=1 β=0.51 |   5.785 |      0 | 21.58 | 12.281 |\n"
     ]
    },
    {
     "name": "stderr",
     "output_type": "stream",
     "text": [
      "[I 2024-10-09 20:02:53,271] Trial 261 finished with value: 1.1001926782273603 and parameters: {'lr': 0.0002101315699764952, 'β': 0.5045149941396097, 'reverse_pref': True, 'scale_orth': False, 'weight_dim': 1, 'neg_slope': 0, 'mag_clip': None}. Best is trial 119 with value: 1.2793834296724471.\n"
     ]
    },
    {
     "name": "stdout",
     "output_type": "stream",
     "text": [
      "\n",
      "| acc_inc/eval_ds [pp]                                                |   train |   test |    oos |    rnd |\n",
      "|:--------------------------------------------------------------------|--------:|-------:|-------:|-------:|\n",
      "| ProjGrad lr=0.00021 neg_slope=0 scale_orth=False weight_dim=1 β=0.5 |   5.785 | -0.787 | 10.019 | 12.281 |\n"
     ]
    },
    {
     "name": "stderr",
     "output_type": "stream",
     "text": [
      "[I 2024-10-09 20:06:23,299] Trial 262 finished with value: 1.157996146435453 and parameters: {'lr': 0.00026128312095637026, 'β': 0.5226179472639098, 'reverse_pref': False, 'scale_orth': True, 'weight_dim': 1, 'neg_slope': 0, 'mag_clip': None}. Best is trial 119 with value: 1.2793834296724471.\n"
     ]
    },
    {
     "name": "stdout",
     "output_type": "stream",
     "text": [
      "\n",
      "| acc_inc/eval_ds [pp]                                                   |   train |   test |   oos |    rnd |\n",
      "|:-----------------------------------------------------------------------|--------:|-------:|------:|-------:|\n",
      "| ProjGrad lr=0.00026 neg_slope=0 reverse_pref=False weight_dim=1 β=0.52 |   4.959 | -1.575 |  15.8 | 26.316 |\n"
     ]
    },
    {
     "name": "stderr",
     "output_type": "stream",
     "text": [
      "[I 2024-10-09 20:09:49,521] Trial 263 finished with value: 1.2562620423892101 and parameters: {'lr': 0.0001965261269516557, 'β': 0.5407480556971573, 'reverse_pref': True, 'scale_orth': False, 'weight_dim': 1, 'neg_slope': 0, 'mag_clip': None}. Best is trial 119 with value: 1.2793834296724471.\n"
     ]
    },
    {
     "name": "stdout",
     "output_type": "stream",
     "text": [
      "\n",
      "| acc_inc/eval_ds [pp]                                                |   train |   test |    oos |    rnd |\n",
      "|:--------------------------------------------------------------------|--------:|-------:|-------:|-------:|\n",
      "| ProjGrad lr=0.0002 neg_slope=0 scale_orth=False weight_dim=1 β=0.54 |   3.306 |      0 | 25.626 | 14.035 |\n"
     ]
    },
    {
     "name": "stderr",
     "output_type": "stream",
     "text": [
      "[I 2024-10-09 20:13:17,489] Trial 264 finished with value: 1.0250481695568403 and parameters: {'lr': 0.0003366424996703856, 'β': 0.5176129800308878, 'reverse_pref': True, 'scale_orth': False, 'weight_dim': 1, 'neg_slope': 'float', 'mag_clip': None, 'neg_slope_value': 0.6638155643508848}. Best is trial 119 with value: 1.2793834296724471.\n"
     ]
    },
    {
     "name": "stdout",
     "output_type": "stream",
     "text": [
      "\n",
      "| acc_inc/eval_ds [pp]                                                    |   train |   test |   oos |    rnd |\n",
      "|:------------------------------------------------------------------------|--------:|-------:|------:|-------:|\n",
      "| ProjGrad lr=0.00034 neg_slope=0.66 scale_orth=False weight_dim=1 β=0.52 |       0 | -3.937 | 2.505 | 10.526 |\n"
     ]
    },
    {
     "name": "stderr",
     "output_type": "stream",
     "text": [
      "[I 2024-10-09 20:16:49,480] Trial 265 finished with value: 1.1387283236994221 and parameters: {'lr': 0.000205770757474732, 'β': 0.5323679709445849, 'reverse_pref': True, 'scale_orth': False, 'weight_dim': 1, 'neg_slope': 0, 'mag_clip': None}. Best is trial 119 with value: 1.2793834296724471.\n"
     ]
    },
    {
     "name": "stdout",
     "output_type": "stream",
     "text": [
      "\n",
      "| acc_inc/eval_ds [pp]                                                 |   train |   test |    oos |    rnd |\n",
      "|:---------------------------------------------------------------------|--------:|-------:|-------:|-------:|\n",
      "| ProjGrad lr=0.00021 neg_slope=0 scale_orth=False weight_dim=1 β=0.53 |   5.785 |      0 | 13.873 | 24.561 |\n"
     ]
    },
    {
     "name": "stderr",
     "output_type": "stream",
     "text": [
      "[I 2024-10-09 20:20:17,482] Trial 266 finished with value: 1.0250481695568403 and parameters: {'lr': 1.1911503155402857e-05, 'β': 0.5689258790033963, 'reverse_pref': False, 'scale_orth': False, 'weight_dim': 1, 'neg_slope': 0, 'mag_clip': None}. Best is trial 119 with value: 1.2793834296724471.\n"
     ]
    },
    {
     "name": "stdout",
     "output_type": "stream",
     "text": [
      "\n",
      "| acc_inc/eval_ds [pp]                                                                    |   train |   test |   oos |    rnd |\n",
      "|:----------------------------------------------------------------------------------------|--------:|-------:|------:|-------:|\n",
      "| ProjGrad lr=1.2e-05 neg_slope=0 reverse_pref=False scale_orth=False weight_dim=1 β=0.57 |   2.479 | -0.787 | 2.505 | 12.281 |\n"
     ]
    },
    {
     "name": "stderr",
     "output_type": "stream",
     "text": [
      "[I 2024-10-09 20:23:50,068] Trial 267 finished with value: 1.0077071290944124 and parameters: {'lr': 0.0002762412186637846, 'β': 0.5393857972784141, 'reverse_pref': True, 'scale_orth': False, 'weight_dim': 1, 'neg_slope': 0, 'mag_clip': None}. Best is trial 119 with value: 1.2793834296724471.\n"
     ]
    },
    {
     "name": "stdout",
     "output_type": "stream",
     "text": [
      "\n",
      "| acc_inc/eval_ds [pp]                                                 |   train |   test |   oos |   rnd |\n",
      "|:---------------------------------------------------------------------|--------:|-------:|------:|------:|\n",
      "| ProjGrad lr=0.00028 neg_slope=0 scale_orth=False weight_dim=1 β=0.54 |   4.132 | -1.575 | 0.771 | 7.018 |\n"
     ]
    },
    {
     "name": "stderr",
     "output_type": "stream",
     "text": [
      "[I 2024-10-09 20:23:51,417] Using an existing study with name 'hs-ortho-prefvec' instead of creating a new one.\n"
     ]
    },
    {
     "name": "stdout",
     "output_type": "stream",
     "text": [
      "================================================================================\n",
      "loaded 261 hs-ortho-prefvec trials\n"
     ]
    },
    {
     "name": "stderr",
     "output_type": "stream",
     "text": [
      "[I 2024-10-09 20:23:53,919] Using an existing study with name 'ether-prefvec' instead of creating a new one.\n"
     ]
    },
    {
     "name": "stdout",
     "output_type": "stream",
     "text": [
      "| hs-ortho-prefvec N=✓259/261, best=1.152   |   importance | best                   |\n",
      "|:------------------------------------------|-------------:|:-----------------------|\n",
      "| lr                                        |        0.936 | 0.00041061394065629645 |\n",
      "| β                                         |        0.034 | 1.970152011478674      |\n",
      "| use_angle_loss                            |        0.011 | True                   |\n",
      "| orthogonal_map                            |        0.007 | matrix_exp             |\n",
      "| weight_tokens                             |        0.003 | False                  |\n",
      "| use_proj_rel                              |        0.003 | True                   |\n",
      "| use_nll_loss                              |        0.002 | True                   |\n",
      "| use_dpo_loss                              |        0.002 | False                  |\n",
      "| use_orth_loss                             |        0.001 | True                   |\n",
      "================================================================================\n",
      "loaded 357 ether-prefvec trials\n",
      "| ether-prefvec N=✓351/357, best=1.183   |   importance | best                   |\n",
      "|:---------------------------------------|-------------:|:-----------------------|\n",
      "| lr                                     |        0.889 | 0.00037772770210724844 |\n",
      "| β                                      |        0.029 | 1.9848539330526844     |\n",
      "| Htype                                  |        0.022 | ether                  |\n",
      "| nb                                     |        0.013 | 20                     |\n",
      "| reduction                              |        0.012 | 1                      |\n",
      "| use_dpo_loss                           |        0.008 | False                  |\n",
      "| use_proj_rel                           |        0.008 | True                   |\n",
      "| collect_hs                             |        0.004 | False                  |\n",
      "| use_angle_loss                         |        0.004 | True                   |\n",
      "| collect_input                          |        0.003 | True                   |\n",
      "| use_orth_loss                          |        0.003 | True                   |\n",
      "| flip_side                              |        0.002 | True                   |\n",
      "| weight_tokens                          |        0.002 | True                   |\n",
      "| use_nll_loss                           |        0.001 | True                   |\n"
     ]
    },
    {
     "name": "stderr",
     "output_type": "stream",
     "text": [
      "[I 2024-10-09 20:27:21,822] Trial 357 finished with value: 1.165703275529865 and parameters: {'lr': 0.00046535003788466633, 'collect_input': True, 'collect_hs': False, 'nb': 16, 'Htype': 'ether', 'flip_side': True, 'reduction': 409, 'β': 1.5570060506815473, 'use_orth_loss': True, 'use_angle_loss': True, 'use_dpo_loss': False, 'use_nll_loss': True, 'weight_tokens': True, 'use_proj_rel': False}. Best is trial 24 with value: 1.183044315992293.\n"
     ]
    },
    {
     "name": "stdout",
     "output_type": "stream",
     "text": [
      "\n",
      "| acc_inc/eval_ds [pp]                                                                                                                                                                                            |   train |   test |   oos |    rnd |\n",
      "|:----------------------------------------------------------------------------------------------------------------------------------------------------------------------------------------------------------------|--------:|-------:|------:|-------:|\n",
      "| ReprPO collect_input=True prefvec.use_nll_prefvec=True prefvec.use_orth_prefvec=True prefvec.weight_tokens=True prefvec.β=1.6 lr=0.00047 ether.Htype=ether ether.flip_side=True ether.nb=16 ether.reduction=409 |   1.653 | -0.787 | 16.57 | -3.509 |\n"
     ]
    },
    {
     "name": "stderr",
     "output_type": "stream",
     "text": [
      "[I 2024-10-09 20:30:45,956] Trial 358 finished with value: 1.1098265895953758 and parameters: {'lr': 0.00025464388712587036, 'collect_input': True, 'collect_hs': False, 'nb': 20, 'Htype': 'ether', 'flip_side': True, 'reduction': 349, 'β': 1.9971876761302187, 'use_orth_loss': False, 'use_angle_loss': True, 'use_dpo_loss': False, 'use_nll_loss': True, 'weight_tokens': True, 'use_proj_rel': True}. Best is trial 24 with value: 1.183044315992293.\n"
     ]
    },
    {
     "name": "stdout",
     "output_type": "stream",
     "text": [
      "\n",
      "| acc_inc/eval_ds [pp]                                                                                                                                                                                      |   train |   test |    oos |    rnd |\n",
      "|:----------------------------------------------------------------------------------------------------------------------------------------------------------------------------------------------------------|--------:|-------:|-------:|-------:|\n",
      "| ReprPO collect_input=True prefvec.use_nll_prefvec=True prefvec.use_proj_rel=True prefvec.weight_tokens=True prefvec.β=2 lr=0.00025 ether.Htype=ether ether.flip_side=True ether.nb=20 ether.reduction=349 |   0.826 |  0.787 | 10.983 | -3.509 |\n"
     ]
    },
    {
     "name": "stderr",
     "output_type": "stream",
     "text": [
      "[I 2024-10-09 20:34:08,868] Trial 359 finished with value: 0.998073217726397 and parameters: {'lr': 0.0003500047415105927, 'collect_input': True, 'collect_hs': False, 'nb': 23, 'Htype': 'oft', 'flip_side': True, 'reduction': 259, 'β': 0.9866741817809724, 'use_orth_loss': True, 'use_angle_loss': False, 'use_dpo_loss': False, 'use_nll_loss': True, 'weight_tokens': True, 'use_proj_rel': False}. Best is trial 24 with value: 1.183044315992293.\n"
     ]
    },
    {
     "name": "stdout",
     "output_type": "stream",
     "text": [
      "\n",
      "| acc_inc/eval_ds [pp]                                                                                                                                                                                                                           |   train |   test |    oos |    rnd |\n",
      "|:-----------------------------------------------------------------------------------------------------------------------------------------------------------------------------------------------------------------------------------------------|--------:|-------:|-------:|-------:|\n",
      "| ReprPO collect_input=True prefvec.use_angle_prefvec=False prefvec.use_nll_prefvec=True prefvec.use_orth_prefvec=True prefvec.weight_tokens=True prefvec.β=0.99 lr=0.00035 ether.Htype=oft ether.flip_side=True ether.nb=23 ether.reduction=259 |       0 |      0 | -0.193 | -1.754 |\n"
     ]
    },
    {
     "name": "stderr",
     "output_type": "stream",
     "text": [
      "[I 2024-10-09 20:37:31,980] Trial 360 finished with value: 1.023121387283237 and parameters: {'lr': 1.1913327527919079e-05, 'collect_input': True, 'collect_hs': False, 'nb': 8, 'Htype': 'ether', 'flip_side': True, 'reduction': 410, 'β': 1.2524976709913964, 'use_orth_loss': True, 'use_angle_loss': True, 'use_dpo_loss': False, 'use_nll_loss': True, 'weight_tokens': True, 'use_proj_rel': False}. Best is trial 24 with value: 1.183044315992293.\n"
     ]
    },
    {
     "name": "stdout",
     "output_type": "stream",
     "text": [
      "\n",
      "| acc_inc/eval_ds [pp]                                                                                                                                                                                           |   train |   test |   oos |   rnd |\n",
      "|:---------------------------------------------------------------------------------------------------------------------------------------------------------------------------------------------------------------|--------:|-------:|------:|------:|\n",
      "| ReprPO collect_input=True prefvec.use_nll_prefvec=True prefvec.use_orth_prefvec=True prefvec.weight_tokens=True prefvec.β=1.3 lr=1.2e-05 ether.Htype=ether ether.flip_side=True ether.nb=8 ether.reduction=410 |       0 |      0 | 2.312 | 5.263 |\n"
     ]
    },
    {
     "name": "stderr",
     "output_type": "stream",
     "text": [
      "[I 2024-10-09 20:40:55,085] Trial 361 finished with value: 1.159922928709056 and parameters: {'lr': 0.0004735148210669926, 'collect_input': True, 'collect_hs': False, 'nb': 28, 'Htype': 'etherplusHH', 'flip_side': True, 'reduction': 302, 'β': 1.5530599234807307, 'use_orth_loss': False, 'use_angle_loss': True, 'use_dpo_loss': False, 'use_nll_loss': True, 'weight_tokens': True, 'use_proj_rel': False}. Best is trial 24 with value: 1.183044315992293.\n"
     ]
    },
    {
     "name": "stdout",
     "output_type": "stream",
     "text": [
      "\n",
      "| acc_inc/eval_ds [pp]                                                                                                                                            |   train |   test |    oos |     rnd |\n",
      "|:----------------------------------------------------------------------------------------------------------------------------------------------------------------|--------:|-------:|-------:|--------:|\n",
      "| ReprPO collect_input=True prefvec.use_nll_prefvec=True prefvec.weight_tokens=True prefvec.β=1.6 lr=0.00047 ether.flip_side=True ether.nb=28 ether.reduction=302 |   1.653 | -0.787 | 15.992 | -12.281 |\n"
     ]
    },
    {
     "name": "stderr",
     "output_type": "stream",
     "text": [
      "[I 2024-10-09 20:44:08,480] Trial 362 finished with value: 0.9094412331406552 and parameters: {'lr': 0.00035410020108342713, 'collect_input': True, 'collect_hs': True, 'nb': 21, 'Htype': 'ether', 'flip_side': True, 'reduction': 4, 'β': 0.9395118722329657, 'use_orth_loss': True, 'use_angle_loss': True, 'use_dpo_loss': False, 'use_nll_loss': True, 'weight_tokens': True, 'use_proj_rel': True}. Best is trial 24 with value: 1.183044315992293.\n"
     ]
    },
    {
     "name": "stdout",
     "output_type": "stream",
     "text": [
      "\n",
      "| acc_inc/eval_ds [pp]                                                                                                                                                                                                                                     |   train |   test |    oos |     rnd |\n",
      "|:---------------------------------------------------------------------------------------------------------------------------------------------------------------------------------------------------------------------------------------------------------|--------:|-------:|-------:|--------:|\n",
      "| ReprPO collect_hs=True collect_input=True prefvec.use_nll_prefvec=True prefvec.use_orth_prefvec=True prefvec.use_proj_rel=True prefvec.weight_tokens=True prefvec.β=0.94 lr=0.00035 ether.Htype=ether ether.flip_side=True ether.nb=21 ether.reduction=4 |  -6.612 | -2.362 | -9.056 | -14.035 |\n"
     ]
    },
    {
     "name": "stderr",
     "output_type": "stream",
     "text": [
      "[I 2024-10-09 20:47:29,275] Trial 363 finished with value: 0.44123314065510605 and parameters: {'lr': 0.009044529523016459, 'collect_input': True, 'collect_hs': False, 'nb': 14, 'Htype': 'ether', 'flip_side': True, 'reduction': 230, 'β': 1.9826770070062336, 'use_orth_loss': True, 'use_angle_loss': True, 'use_dpo_loss': False, 'use_nll_loss': True, 'weight_tokens': True, 'use_proj_rel': False}. Best is trial 24 with value: 1.183044315992293.\n"
     ]
    },
    {
     "name": "stdout",
     "output_type": "stream",
     "text": [
      "\n",
      "| acc_inc/eval_ds [pp]                                                                                                                                                                                        |   train |    test |     oos |    rnd |\n",
      "|:------------------------------------------------------------------------------------------------------------------------------------------------------------------------------------------------------------|--------:|--------:|--------:|-------:|\n",
      "| ReprPO collect_input=True prefvec.use_nll_prefvec=True prefvec.use_orth_prefvec=True prefvec.weight_tokens=True prefvec.β=2 lr=0.009 ether.Htype=ether ether.flip_side=True ether.nb=14 ether.reduction=230 | -45.455 | -38.583 | -55.877 | 12.281 |\n"
     ]
    },
    {
     "name": "stderr",
     "output_type": "stream",
     "text": [
      "[I 2024-10-09 20:51:00,494] Trial 364 finished with value: 0.9768786127167631 and parameters: {'lr': 0.0008031469518871195, 'collect_input': True, 'collect_hs': False, 'nb': 1, 'Htype': 'oft', 'flip_side': True, 'reduction': 1, 'β': 0.7133802708424792, 'use_orth_loss': False, 'use_angle_loss': True, 'use_dpo_loss': False, 'use_nll_loss': True, 'weight_tokens': True, 'use_proj_rel': False}. Best is trial 24 with value: 1.183044315992293.\n"
     ]
    },
    {
     "name": "stdout",
     "output_type": "stream",
     "text": [
      "\n",
      "| acc_inc/eval_ds [pp]                                                                                                                                                         |   train |   test |    oos |     rnd |\n",
      "|:-----------------------------------------------------------------------------------------------------------------------------------------------------------------------------|--------:|-------:|-------:|--------:|\n",
      "| ReprPO collect_input=True prefvec.use_nll_prefvec=True prefvec.weight_tokens=True prefvec.β=0.71 lr=0.0008 ether.Htype=oft ether.flip_side=True ether.nb=1 ether.reduction=1 |  -5.785 | -2.362 | -2.312 | -14.035 |\n"
     ]
    },
    {
     "name": "stderr",
     "output_type": "stream",
     "text": [
      "[I 2024-10-09 20:54:32,607] Trial 365 finished with value: 1.136801541425819 and parameters: {'lr': 0.0002739295388216522, 'collect_input': False, 'collect_hs': False, 'nb': 19, 'Htype': 'ether', 'flip_side': True, 'reduction': 156, 'β': 1.251779704373395, 'use_orth_loss': True, 'use_angle_loss': True, 'use_dpo_loss': False, 'use_nll_loss': True, 'weight_tokens': True, 'use_proj_rel': True}. Best is trial 24 with value: 1.183044315992293.\n"
     ]
    },
    {
     "name": "stdout",
     "output_type": "stream",
     "text": [
      "\n",
      "| acc_inc/eval_ds [pp]                                                                                                                                                                                                   |   train |   test |   oos |   rnd |\n",
      "|:-----------------------------------------------------------------------------------------------------------------------------------------------------------------------------------------------------------------------|--------:|-------:|------:|------:|\n",
      "| ReprPO prefvec.use_nll_prefvec=True prefvec.use_orth_prefvec=True prefvec.use_proj_rel=True prefvec.weight_tokens=True prefvec.β=1.3 lr=0.00027 ether.Htype=ether ether.flip_side=True ether.nb=19 ether.reduction=156 |   2.479 |      0 | 13.68 | 5.263 |\n"
     ]
    },
    {
     "name": "stderr",
     "output_type": "stream",
     "text": [
      "[I 2024-10-09 20:57:56,186] Trial 366 finished with value: 1.1464354527938343 and parameters: {'lr': 0.0005433918767975296, 'collect_input': True, 'collect_hs': False, 'nb': 26, 'Htype': 'ether', 'flip_side': True, 'reduction': 446, 'β': 1.5386648266034637, 'use_orth_loss': True, 'use_angle_loss': True, 'use_dpo_loss': False, 'use_nll_loss': True, 'weight_tokens': True, 'use_proj_rel': False}. Best is trial 24 with value: 1.183044315992293.\n"
     ]
    },
    {
     "name": "stdout",
     "output_type": "stream",
     "text": [
      "\n",
      "| acc_inc/eval_ds [pp]                                                                                                                                                                                            |   train |   test |    oos |    rnd |\n",
      "|:----------------------------------------------------------------------------------------------------------------------------------------------------------------------------------------------------------------|--------:|-------:|-------:|-------:|\n",
      "| ReprPO collect_input=True prefvec.use_nll_prefvec=True prefvec.use_orth_prefvec=True prefvec.weight_tokens=True prefvec.β=1.5 lr=0.00054 ether.Htype=ether ether.flip_side=True ether.nb=26 ether.reduction=446 |   0.826 | -1.575 | 14.644 | -1.754 |\n"
     ]
    },
    {
     "name": "stderr",
     "output_type": "stream",
     "text": [
      "[I 2024-10-09 21:01:19,938] Trial 367 finished with value: 1.1695568400770715 and parameters: {'lr': 0.0004022912739882464, 'collect_input': True, 'collect_hs': False, 'nb': 17, 'Htype': 'etherplus', 'flip_side': True, 'reduction': 19, 'β': 1.0037452314047888, 'use_orth_loss': True, 'use_angle_loss': True, 'use_dpo_loss': False, 'use_nll_loss': True, 'weight_tokens': True, 'use_proj_rel': False}. Best is trial 24 with value: 1.183044315992293.\n"
     ]
    },
    {
     "name": "stdout",
     "output_type": "stream",
     "text": [
      "\n",
      "| acc_inc/eval_ds [pp]                                                                                                                                                                                            |   train |   test |    oos |    rnd |\n",
      "|:----------------------------------------------------------------------------------------------------------------------------------------------------------------------------------------------------------------|--------:|-------:|-------:|-------:|\n",
      "| ReprPO collect_input=True prefvec.use_nll_prefvec=True prefvec.use_orth_prefvec=True prefvec.weight_tokens=True prefvec.β=1 lr=0.0004 ether.Htype=etherplus ether.flip_side=True ether.nb=17 ether.reduction=19 |   4.132 | -0.787 | 16.956 | -5.263 |\n"
     ]
    },
    {
     "name": "stderr",
     "output_type": "stream",
     "text": [
      "[I 2024-10-09 21:04:37,656] Trial 368 finished with value: 1.1676300578034684 and parameters: {'lr': 0.0003041073550487916, 'collect_input': True, 'collect_hs': False, 'nb': 24, 'Htype': 'ether', 'flip_side': True, 'reduction': 361, 'β': 1.2525677316725892, 'use_orth_loss': False, 'use_angle_loss': True, 'use_dpo_loss': False, 'use_nll_loss': True, 'weight_tokens': True, 'use_proj_rel': False}. Best is trial 24 with value: 1.183044315992293.\n"
     ]
    },
    {
     "name": "stdout",
     "output_type": "stream",
     "text": [
      "\n",
      "| acc_inc/eval_ds [pp]                                                                                                                                                             |   train |   test |    oos |     rnd |\n",
      "|:---------------------------------------------------------------------------------------------------------------------------------------------------------------------------------|--------:|-------:|-------:|--------:|\n",
      "| ReprPO collect_input=True prefvec.use_nll_prefvec=True prefvec.weight_tokens=True prefvec.β=1.3 lr=0.0003 ether.Htype=ether ether.flip_side=True ether.nb=24 ether.reduction=361 |   1.653 |  0.787 | 16.763 | -10.526 |\n"
     ]
    },
    {
     "name": "stderr",
     "output_type": "stream",
     "text": [
      "[I 2024-10-09 21:08:01,022] Trial 369 finished with value: 1.0963391136801544 and parameters: {'lr': 0.0006291425224123928, 'collect_input': True, 'collect_hs': False, 'nb': 22, 'Htype': 'oft', 'flip_side': True, 'reduction': 267, 'β': 1.5779221847324463, 'use_orth_loss': True, 'use_angle_loss': True, 'use_dpo_loss': False, 'use_nll_loss': True, 'weight_tokens': True, 'use_proj_rel': True}. Best is trial 24 with value: 1.183044315992293.\n"
     ]
    },
    {
     "name": "stdout",
     "output_type": "stream",
     "text": [
      "\n",
      "| acc_inc/eval_ds [pp]                                                                                                                                                                                                                    |   train |   test |   oos |    rnd |\n",
      "|:----------------------------------------------------------------------------------------------------------------------------------------------------------------------------------------------------------------------------------------|--------:|-------:|------:|-------:|\n",
      "| ReprPO collect_input=True prefvec.use_nll_prefvec=True prefvec.use_orth_prefvec=True prefvec.use_proj_rel=True prefvec.weight_tokens=True prefvec.β=1.6 lr=0.00063 ether.Htype=oft ether.flip_side=True ether.nb=22 ether.reduction=267 |  -1.653 | -2.362 | 9.634 | -1.754 |\n"
     ]
    },
    {
     "name": "stderr",
     "output_type": "stream",
     "text": [
      "[I 2024-10-09 21:11:23,933] Trial 370 finished with value: 1.0520231213872833 and parameters: {'lr': 0.0002161166231172019, 'collect_input': True, 'collect_hs': False, 'nb': 19, 'Htype': 'ether', 'flip_side': True, 'reduction': 303, 'β': 0.002082104414571849, 'use_orth_loss': True, 'use_angle_loss': True, 'use_dpo_loss': False, 'use_nll_loss': True, 'weight_tokens': True, 'use_proj_rel': False}. Best is trial 24 with value: 1.183044315992293.\n"
     ]
    },
    {
     "name": "stdout",
     "output_type": "stream",
     "text": [
      "\n",
      "| acc_inc/eval_ds [pp]                                                                                                                                                                                               |   train |   test |   oos |    rnd |\n",
      "|:-------------------------------------------------------------------------------------------------------------------------------------------------------------------------------------------------------------------|--------:|-------:|------:|-------:|\n",
      "| ReprPO collect_input=True prefvec.use_nll_prefvec=True prefvec.use_orth_prefvec=True prefvec.weight_tokens=True prefvec.β=0.0021 lr=0.00022 ether.Htype=ether ether.flip_side=True ether.nb=19 ether.reduction=303 |   0.826 |      0 | 5.202 | -1.754 |\n"
     ]
    },
    {
     "name": "stderr",
     "output_type": "stream",
     "text": [
      "[I 2024-10-09 21:14:55,295] Trial 371 finished with value: 0.9903660886319847 and parameters: {'lr': 0.00036890448310180696, 'collect_input': True, 'collect_hs': False, 'nb': 32, 'Htype': 'ether', 'flip_side': True, 'reduction': 202, 'β': 0.000316904797036222, 'use_orth_loss': False, 'use_angle_loss': True, 'use_dpo_loss': True, 'use_nll_loss': False, 'weight_tokens': False, 'use_proj_rel': False}. Best is trial 24 with value: 1.183044315992293.\n"
     ]
    },
    {
     "name": "stdout",
     "output_type": "stream",
     "text": [
      "\n",
      "| acc_inc/eval_ds [pp]                                                                                                                                       |   train |   test |    oos |    rnd |\n",
      "|:-----------------------------------------------------------------------------------------------------------------------------------------------------------|--------:|-------:|-------:|-------:|\n",
      "| ReprPO collect_input=True prefvec.use_dpo_prefvec=True prefvec.β=0.00032 lr=0.00037 ether.Htype=ether ether.flip_side=True ether.nb=32 ether.reduction=202 |   3.306 |      0 | -0.963 | 14.035 |\n"
     ]
    },
    {
     "name": "stderr",
     "output_type": "stream",
     "text": [
      "[I 2024-10-09 21:18:19,240] Trial 372 finished with value: 1.1637764932562622 and parameters: {'lr': 0.00047772282144956167, 'collect_input': True, 'collect_hs': False, 'nb': 28, 'Htype': 'etherplusHH', 'flip_side': True, 'reduction': 109, 'β': 1.9873127969818059, 'use_orth_loss': True, 'use_angle_loss': True, 'use_dpo_loss': False, 'use_nll_loss': True, 'weight_tokens': True, 'use_proj_rel': False}. Best is trial 24 with value: 1.183044315992293.\n"
     ]
    },
    {
     "name": "stdout",
     "output_type": "stream",
     "text": [
      "\n",
      "| acc_inc/eval_ds [pp]                                                                                                                                                                        |   train |   test |    oos |    rnd |\n",
      "|:--------------------------------------------------------------------------------------------------------------------------------------------------------------------------------------------|--------:|-------:|-------:|-------:|\n",
      "| ReprPO collect_input=True prefvec.use_nll_prefvec=True prefvec.use_orth_prefvec=True prefvec.weight_tokens=True prefvec.β=2 lr=0.00048 ether.flip_side=True ether.nb=28 ether.reduction=109 |   1.653 | -0.787 | 16.378 | -8.772 |\n"
     ]
    },
    {
     "name": "stderr",
     "output_type": "stream",
     "text": [
      "[I 2024-10-09 21:21:41,626] Trial 373 finished with value: 1.0655105973025047 and parameters: {'lr': 0.0001543494651555482, 'collect_input': True, 'collect_hs': False, 'nb': 16, 'Htype': 'ether', 'flip_side': True, 'reduction': 390, 'β': 0.790611908416402, 'use_orth_loss': True, 'use_angle_loss': True, 'use_dpo_loss': False, 'use_nll_loss': True, 'weight_tokens': True, 'use_proj_rel': True}. Best is trial 24 with value: 1.183044315992293.\n"
     ]
    },
    {
     "name": "stdout",
     "output_type": "stream",
     "text": [
      "\n",
      "| acc_inc/eval_ds [pp]                                                                                                                                                                                                                       |   train |   test |   oos |   rnd |\n",
      "|:-------------------------------------------------------------------------------------------------------------------------------------------------------------------------------------------------------------------------------------------|--------:|-------:|------:|------:|\n",
      "| ReprPO collect_input=True prefvec.use_nll_prefvec=True prefvec.use_orth_prefvec=True prefvec.use_proj_rel=True prefvec.weight_tokens=True prefvec.β=0.79 lr=0.00015 ether.Htype=ether ether.flip_side=True ether.nb=16 ether.reduction=390 |   0.826 |  0.787 | 6.551 |     0 |\n"
     ]
    },
    {
     "name": "stderr",
     "output_type": "stream",
     "text": [
      "[I 2024-10-09 21:25:04,768] Trial 374 finished with value: 1.1271676300578035 and parameters: {'lr': 0.00026446269270281484, 'collect_input': True, 'collect_hs': False, 'nb': 21, 'Htype': 'oft', 'flip_side': True, 'reduction': 444, 'β': 1.2265364021560048, 'use_orth_loss': False, 'use_angle_loss': True, 'use_dpo_loss': False, 'use_nll_loss': True, 'weight_tokens': True, 'use_proj_rel': False}. Best is trial 24 with value: 1.183044315992293.\n"
     ]
    },
    {
     "name": "stdout",
     "output_type": "stream",
     "text": [
      "\n",
      "| acc_inc/eval_ds [pp]                                                                                                                                                            |   train |   test |    oos |    rnd |\n",
      "|:--------------------------------------------------------------------------------------------------------------------------------------------------------------------------------|--------:|-------:|-------:|-------:|\n",
      "| ReprPO collect_input=True prefvec.use_nll_prefvec=True prefvec.weight_tokens=True prefvec.β=1.2 lr=0.00026 ether.Htype=oft ether.flip_side=True ether.nb=21 ether.reduction=444 |   0.826 |  0.787 | 12.717 | -8.772 |\n"
     ]
    },
    {
     "name": "stderr",
     "output_type": "stream",
     "text": [
      "[I 2024-10-09 21:28:28,307] Trial 375 finished with value: 1.161849710982659 and parameters: {'lr': 0.0004042000376829443, 'collect_input': True, 'collect_hs': False, 'nb': 25, 'Htype': 'ether', 'flip_side': True, 'reduction': 54, 'β': 0.534130007407745, 'use_orth_loss': True, 'use_angle_loss': True, 'use_dpo_loss': False, 'use_nll_loss': True, 'weight_tokens': True, 'use_proj_rel': False}. Best is trial 24 with value: 1.183044315992293.\n"
     ]
    },
    {
     "name": "stdout",
     "output_type": "stream",
     "text": [
      "\n",
      "| acc_inc/eval_ds [pp]                                                                                                                                                                                           |   train |   test |    oos |    rnd |\n",
      "|:---------------------------------------------------------------------------------------------------------------------------------------------------------------------------------------------------------------|--------:|-------:|-------:|-------:|\n",
      "| ReprPO collect_input=True prefvec.use_nll_prefvec=True prefvec.use_orth_prefvec=True prefvec.weight_tokens=True prefvec.β=0.53 lr=0.0004 ether.Htype=ether ether.flip_side=True ether.nb=25 ether.reduction=54 |   3.306 | -0.787 | 16.185 | -7.018 |\n"
     ]
    },
    {
     "name": "stderr",
     "output_type": "stream",
     "text": [
      "[I 2024-10-09 21:31:50,185] Trial 376 finished with value: 1.0789980732177264 and parameters: {'lr': 0.0003160805916031864, 'collect_input': True, 'collect_hs': False, 'nb': 18, 'Htype': 'ether', 'flip_side': False, 'reduction': 328, 'β': 0.006887677141199703, 'use_orth_loss': True, 'use_angle_loss': True, 'use_dpo_loss': False, 'use_nll_loss': True, 'weight_tokens': True, 'use_proj_rel': False}. Best is trial 24 with value: 1.183044315992293.\n"
     ]
    },
    {
     "name": "stdout",
     "output_type": "stream",
     "text": [
      "\n",
      "| acc_inc/eval_ds [pp]                                                                                                                                                                          |   train |   test |   oos |   rnd |\n",
      "|:----------------------------------------------------------------------------------------------------------------------------------------------------------------------------------------------|--------:|-------:|------:|------:|\n",
      "| ReprPO collect_input=True prefvec.use_nll_prefvec=True prefvec.use_orth_prefvec=True prefvec.weight_tokens=True prefvec.β=0.0069 lr=0.00032 ether.Htype=ether ether.nb=18 ether.reduction=328 |   1.653 | -0.787 |   7.9 |     0 |\n",
      "================================================================================\n"
     ]
    },
    {
     "name": "stderr",
     "output_type": "stream",
     "text": [
      "[I 2024-10-09 21:31:51,621] Using an existing study with name 'hs-svd-mse' instead of creating a new one.\n"
     ]
    },
    {
     "name": "stdout",
     "output_type": "stream",
     "text": [
      "loaded 332 hs-svd-mse trials\n"
     ]
    },
    {
     "name": "stderr",
     "output_type": "stream",
     "text": [
      "[I 2024-10-09 21:31:52,479] Using an existing study with name 'hs-hra-rank' instead of creating a new one.\n"
     ]
    },
    {
     "name": "stdout",
     "output_type": "stream",
     "text": [
      "| hs-svd-mse N=✓14/332, best=1.017   |   importance | best                  |\n",
      "|:-----------------------------------|-------------:|:----------------------|\n",
      "| lr                                 |        0.892 | 0.0011948328168545441 |\n",
      "| α                                  |        0.071 | 0.6355835028602363    |\n",
      "| collect_input                      |        0.015 | False                 |\n",
      "| collect_hs                         |        0.012 | True                  |\n",
      "| dual_svd                           |        0.01  | True                  |\n",
      "| quantile                           |        0     | float                 |\n",
      "| quantile_value                     |      nan     | 0.30000000000000004   |\n",
      "================================================================================\n",
      "loaded 262 hs-hra-rank trials\n"
     ]
    },
    {
     "name": "stderr",
     "output_type": "stream",
     "text": [
      "[I 2024-10-09 21:31:55,564] Using an existing study with name 'projbp' instead of creating a new one.\n"
     ]
    },
    {
     "name": "stdout",
     "output_type": "stream",
     "text": [
      "| hs-hra-rank N=✓259/262, best=1.152   |   importance |         best |\n",
      "|:-------------------------------------|-------------:|-------------:|\n",
      "| lr                                   |        0.88  |  0.000332682 |\n",
      "| r                                    |        0.06  | 38           |\n",
      "| β                                    |        0.041 |  0.37992     |\n",
      "| apply_GS                             |        0.018 |  1           |\n",
      "| α                                    |        0     |  0.280164    |\n",
      "================================================================================\n",
      "loaded 423 projbp trials\n",
      "| projbp N=✓287/423, best=1.083   |   importance | best                  |\n",
      "|:--------------------------------|-------------:|:----------------------|\n",
      "| scale_orth                      |        0.461 | False                 |\n",
      "| lr                              |        0.271 | 7.363725831054386e-06 |\n",
      "| β                               |        0.258 | 0.1787633304238575    |\n",
      "| mag_clip                        |        0.005 | float                 |\n",
      "| neg_slope                       |        0.005 | float                 |\n",
      "| reverse_pref                    |        0.001 | True                  |\n",
      "| mag_clip_value                  |      nan     | 1.848248094675994     |\n",
      "| neg_slope_value                 |      nan     | 0.8394635998362336    |\n"
     ]
    },
    {
     "name": "stderr",
     "output_type": "stream",
     "text": [
      "[I 2024-10-09 21:35:38,741] Trial 423 finished with value: 0.649325626204239 and parameters: {'lr': 9.835365623309294e-06, 'β': 0.2167709630170143, 'reverse_pref': True, 'scale_orth': False, 'neg_slope': 'float', 'mag_clip': 'float', 'mag_clip_value': 0.21373716826387004, 'neg_slope_value': 0.7794023185235993}. Best is trial 415 with value: 1.0828516377649327.\n"
     ]
    },
    {
     "name": "stdout",
     "output_type": "stream",
     "text": [
      "\n",
      "| acc_inc/eval_ds [pp]                                                    |   train |    test |     oos |    rnd |\n",
      "|:------------------------------------------------------------------------|--------:|--------:|--------:|-------:|\n",
      "| ProjBP lr=9.8e-06 mag_clip=0.21 neg_slope=0.78 reverse_pref=True β=0.22 | -18.182 | -14.173 | -35.067 | 22.807 |\n"
     ]
    },
    {
     "name": "stderr",
     "output_type": "stream",
     "text": [
      "[I 2024-10-09 21:39:20,164] Trial 424 finished with value: 1.0789980732177264 and parameters: {'lr': 6.69774708955631e-06, 'β': 0.18279250669880048, 'reverse_pref': True, 'scale_orth': False, 'neg_slope': 'float', 'mag_clip': 'float', 'mag_clip_value': 1.1352616372480888, 'neg_slope_value': 0.8759556587747755}. Best is trial 415 with value: 1.0828516377649327.\n"
     ]
    },
    {
     "name": "stdout",
     "output_type": "stream",
     "text": [
      "\n",
      "| acc_inc/eval_ds [pp]                                                   |   train |   test |   oos |   rnd |\n",
      "|:-----------------------------------------------------------------------|--------:|-------:|------:|------:|\n",
      "| ProjBP lr=6.7e-06 mag_clip=1.1 neg_slope=0.88 reverse_pref=True β=0.18 |   3.306 | -0.787 |   7.9 |     0 |\n"
     ]
    },
    {
     "name": "stderr",
     "output_type": "stream",
     "text": [
      "[I 2024-10-09 21:43:02,469] Trial 425 finished with value: 1.0809248554913296 and parameters: {'lr': 7.86514622986473e-06, 'β': 0.1649175214005128, 'reverse_pref': True, 'scale_orth': False, 'neg_slope': 'float', 'mag_clip': 'float', 'mag_clip_value': 1.1947849405599313, 'neg_slope_value': 0.8702947781959695}. Best is trial 415 with value: 1.0828516377649327.\n"
     ]
    },
    {
     "name": "stdout",
     "output_type": "stream",
     "text": [
      "\n",
      "| acc_inc/eval_ds [pp]                                                   |   train |   test |   oos |    rnd |\n",
      "|:-----------------------------------------------------------------------|--------:|-------:|------:|-------:|\n",
      "| ProjBP lr=7.9e-06 mag_clip=1.2 neg_slope=0.87 reverse_pref=True β=0.16 |   3.306 | -0.787 | 8.092 | -3.509 |\n"
     ]
    },
    {
     "name": "stderr",
     "output_type": "stream",
     "text": [
      "[I 2024-10-09 21:46:45,522] Trial 426 finished with value: 1.0539499036608864 and parameters: {'lr': 8.322738861391441e-06, 'β': 0.17759500176054835, 'reverse_pref': True, 'scale_orth': False, 'neg_slope': 'float', 'mag_clip': 'float', 'mag_clip_value': 0.962520662132339, 'neg_slope_value': 0.831373507978648}. Best is trial 415 with value: 1.0828516377649327.\n"
     ]
    },
    {
     "name": "stdout",
     "output_type": "stream",
     "text": [
      "\n",
      "| acc_inc/eval_ds [pp]                                                    |   train |   test |   oos |    rnd |\n",
      "|:------------------------------------------------------------------------|--------:|-------:|------:|-------:|\n",
      "| ProjBP lr=8.3e-06 mag_clip=0.96 neg_slope=0.83 reverse_pref=True β=0.18 |   1.653 |      0 | 5.395 | -1.754 |\n"
     ]
    },
    {
     "name": "stderr",
     "output_type": "stream",
     "text": [
      "[I 2024-10-09 21:50:27,398] Trial 427 finished with value: 1.0828516377649327 and parameters: {'lr': 6.674641351970936e-06, 'β': 0.1617502667481776, 'reverse_pref': True, 'scale_orth': False, 'neg_slope': 'float', 'mag_clip': 'float', 'mag_clip_value': 1.222309339642386, 'neg_slope_value': 0.8909537304323809}. Best is trial 415 with value: 1.0828516377649327.\n"
     ]
    },
    {
     "name": "stdout",
     "output_type": "stream",
     "text": [
      "\n",
      "| acc_inc/eval_ds [pp]                                                   |   train |   test |   oos |    rnd |\n",
      "|:-----------------------------------------------------------------------|--------:|-------:|------:|-------:|\n",
      "| ProjBP lr=6.7e-06 mag_clip=1.2 neg_slope=0.89 reverse_pref=True β=0.16 |   3.306 | -0.787 | 8.285 | -7.018 |\n"
     ]
    },
    {
     "name": "stderr",
     "output_type": "stream",
     "text": [
      "[I 2024-10-09 21:54:10,583] Trial 428 finished with value: 0.94990366088632 and parameters: {'lr': 1.069562100931118e-05, 'β': 0.13573359879258284, 'reverse_pref': True, 'scale_orth': False, 'neg_slope': 'float', 'mag_clip': 'float', 'mag_clip_value': 1.2634499141067321, 'neg_slope_value': 0.8777825920570185}. Best is trial 415 with value: 1.0828516377649327.\n"
     ]
    },
    {
     "name": "stdout",
     "output_type": "stream",
     "text": [
      "\n",
      "| acc_inc/eval_ds [pp]                                                   |   train |   test |   oos |   rnd |\n",
      "|:-----------------------------------------------------------------------|--------:|-------:|------:|------:|\n",
      "| ProjBP lr=1.1e-05 mag_clip=1.3 neg_slope=0.88 reverse_pref=True β=0.14 |  -5.785 | -0.787 | -5.01 |     0 |\n"
     ]
    },
    {
     "name": "stderr",
     "output_type": "stream",
     "text": [
      "[I 2024-10-09 21:57:55,363] Trial 429 finished with value: 0.5009633911368016 and parameters: {'lr': 6.988083423105945e-05, 'β': 0.1639341586041013, 'reverse_pref': True, 'scale_orth': False, 'neg_slope': 'float', 'mag_clip': 'float', 'mag_clip_value': 1.652146561856673, 'neg_slope_value': 0.9046057575695574}. Best is trial 415 with value: 1.0828516377649327.\n"
     ]
    },
    {
     "name": "stdout",
     "output_type": "stream",
     "text": [
      "\n",
      "| acc_inc/eval_ds [pp]                                                |   train |    test |     oos |   rnd |\n",
      "|:--------------------------------------------------------------------|--------:|--------:|--------:|------:|\n",
      "| ProjBP lr=7e-05 mag_clip=1.7 neg_slope=0.9 reverse_pref=True β=0.16 | -23.967 | -20.472 | -49.904 | 8.772 |\n"
     ]
    },
    {
     "name": "stderr",
     "output_type": "stream",
     "text": [
      "[I 2024-10-09 22:01:42,507] Trial 430 finished with value: 1.0770712909441233 and parameters: {'lr': 7.4005198916322965e-06, 'β': 0.18791828517248277, 'reverse_pref': True, 'scale_orth': False, 'neg_slope': 'float', 'mag_clip': 'float', 'mag_clip_value': 0.6796775108352642, 'neg_slope_value': 0.8604392254640733}. Best is trial 415 with value: 1.0828516377649327.\n"
     ]
    },
    {
     "name": "stdout",
     "output_type": "stream",
     "text": [
      "\n",
      "| acc_inc/eval_ds [pp]                                                    |   train |   test |   oos |    rnd |\n",
      "|:------------------------------------------------------------------------|--------:|-------:|------:|-------:|\n",
      "| ProjBP lr=7.4e-06 mag_clip=0.68 neg_slope=0.86 reverse_pref=True β=0.19 |   4.132 | -0.787 | 7.707 | -8.772 |\n"
     ]
    },
    {
     "name": "stderr",
     "output_type": "stream",
     "text": [
      "[I 2024-10-09 22:05:25,071] Trial 431 finished with value: 1.0828516377649327 and parameters: {'lr': 7.67638389059568e-06, 'β': 0.1831442529620966, 'reverse_pref': True, 'scale_orth': False, 'neg_slope': 'float', 'mag_clip': 'float', 'mag_clip_value': 0.8026300690155178, 'neg_slope_value': 0.8712218521876479}. Best is trial 415 with value: 1.0828516377649327.\n"
     ]
    },
    {
     "name": "stdout",
     "output_type": "stream",
     "text": [
      "\n",
      "| acc_inc/eval_ds [pp]                                                   |   train |   test |   oos |    rnd |\n",
      "|:-----------------------------------------------------------------------|--------:|-------:|------:|-------:|\n",
      "| ProjBP lr=7.7e-06 mag_clip=0.8 neg_slope=0.87 reverse_pref=True β=0.18 |   4.132 | -0.787 | 8.285 | -5.263 |\n"
     ]
    },
    {
     "name": "stderr",
     "output_type": "stream",
     "text": [
      "[I 2024-10-09 22:09:06,831] Trial 432 finished with value: 0.6069364161849711 and parameters: {'lr': 1.2314960925443875e-05, 'β': 0.17987831603343404, 'reverse_pref': True, 'scale_orth': False, 'neg_slope': 'float', 'mag_clip': 'float', 'mag_clip_value': 0.6974832768905338, 'neg_slope_value': 0.8671889930743374}. Best is trial 415 with value: 1.0828516377649327.\n"
     ]
    },
    {
     "name": "stdout",
     "output_type": "stream",
     "text": [
      "\n",
      "| acc_inc/eval_ds [pp]                                                   |   train |    test |     oos |   rnd |\n",
      "|:-----------------------------------------------------------------------|--------:|--------:|--------:|------:|\n",
      "| ProjBP lr=1.2e-05 mag_clip=0.7 neg_slope=0.87 reverse_pref=True β=0.18 | -16.529 | -15.748 | -39.306 | 8.772 |\n"
     ]
    },
    {
     "name": "stderr",
     "output_type": "stream",
     "text": [
      "[I 2024-10-09 22:12:47,429] Trial 433 finished with value: 1.067437379576108 and parameters: {'lr': 8.766704673986892e-06, 'β': 0.19417812542274446, 'reverse_pref': True, 'scale_orth': False, 'neg_slope': 'float', 'mag_clip': 'float', 'mag_clip_value': 0.45230986323732525, 'neg_slope_value': 0.8542743515191412}. Best is trial 415 with value: 1.0828516377649327.\n"
     ]
    },
    {
     "name": "stdout",
     "output_type": "stream",
     "text": [
      "\n",
      "| acc_inc/eval_ds [pp]                                                    |   train |   test |   oos |    rnd |\n",
      "|:------------------------------------------------------------------------|--------:|-------:|------:|-------:|\n",
      "| ProjBP lr=8.8e-06 mag_clip=0.45 neg_slope=0.85 reverse_pref=True β=0.19 |   2.479 |      0 | 6.744 | -5.263 |\n"
     ]
    },
    {
     "name": "stderr",
     "output_type": "stream",
     "text": [
      "[I 2024-10-09 22:16:28,988] Trial 434 finished with value: 0.49518304431599236 and parameters: {'lr': 1.635174113288881e-05, 'β': 0.139840765910453, 'reverse_pref': True, 'scale_orth': False, 'neg_slope': 'float', 'mag_clip': 'float', 'mag_clip_value': 0.8597751099603957, 'neg_slope_value': 0.8963299617488001}. Best is trial 415 with value: 1.0828516377649327.\n"
     ]
    },
    {
     "name": "stdout",
     "output_type": "stream",
     "text": [
      "\n",
      "| acc_inc/eval_ds [pp]                                                   |   train |    test |     oos |    rnd |\n",
      "|:-----------------------------------------------------------------------|--------:|--------:|--------:|-------:|\n",
      "| ProjBP lr=1.6e-05 mag_clip=0.86 neg_slope=0.9 reverse_pref=True β=0.14 | -28.099 | -22.835 | -50.482 | 19.298 |\n",
      "\n",
      "| acc_inc/eval_ds [pp]                                                   |   train |   test |   oos |     rnd |\n",
      "|:-----------------------------------------------------------------------|--------:|-------:|------:|--------:|\n",
      "| ProjBP lr=7.9e-06 mag_clip=1.1 neg_slope=0.87 reverse_pref=True β=0.08 |   4.132 |      0 | 7.707 | -14.035 |\n"
     ]
    },
    {
     "name": "stderr",
     "output_type": "stream",
     "text": [
      "[I 2024-10-09 22:20:16,722] Trial 435 finished with value: 1.0770712909441233 and parameters: {'lr': 7.859565579460344e-06, 'β': 0.07972629540598297, 'reverse_pref': True, 'scale_orth': False, 'neg_slope': 'float', 'mag_clip': 'float', 'mag_clip_value': 1.1224499662640097, 'neg_slope_value': 0.8738904234212165}. Best is trial 415 with value: 1.0828516377649327.\n",
      "[I 2024-10-09 22:24:02,940] Trial 436 finished with value: 1.044315992292871 and parameters: {'lr': 9.562274806439587e-06, 'β': 0.105053352573764, 'reverse_pref': True, 'scale_orth': False, 'neg_slope': 'float', 'mag_clip': 'float', 'mag_clip_value': 1.1045345624557126, 'neg_slope_value': 0.8752822803276455}. Best is trial 415 with value: 1.0828516377649327.\n"
     ]
    },
    {
     "name": "stdout",
     "output_type": "stream",
     "text": [
      "\n",
      "| acc_inc/eval_ds [pp]                                                   |   train |   test |   oos |    rnd |\n",
      "|:-----------------------------------------------------------------------|--------:|-------:|------:|-------:|\n",
      "| ProjBP lr=9.6e-06 mag_clip=1.1 neg_slope=0.88 reverse_pref=True β=0.11 |   0.826 | -0.787 | 4.432 | -7.018 |\n"
     ]
    },
    {
     "name": "stderr",
     "output_type": "stream",
     "text": [
      "[I 2024-10-09 22:27:46,438] Trial 437 finished with value: 1.0828516377649327 and parameters: {'lr': 7.349129405125938e-06, 'β': 0.16614624834001498, 'reverse_pref': True, 'scale_orth': False, 'neg_slope': 'float', 'mag_clip': 'float', 'mag_clip_value': 0.6678329457274745, 'neg_slope_value': 0.8642855578354576}. Best is trial 415 with value: 1.0828516377649327.\n"
     ]
    },
    {
     "name": "stdout",
     "output_type": "stream",
     "text": [
      "\n",
      "| acc_inc/eval_ds [pp]                                                    |   train |   test |   oos |    rnd |\n",
      "|:------------------------------------------------------------------------|--------:|-------:|------:|-------:|\n",
      "| ProjBP lr=7.3e-06 mag_clip=0.67 neg_slope=0.86 reverse_pref=True β=0.17 |   4.132 | -0.787 | 8.285 | -3.509 |\n"
     ]
    },
    {
     "name": "stderr",
     "output_type": "stream",
     "text": [
      "[I 2024-10-09 22:31:29,664] Trial 438 finished with value: 1.0867052023121389 and parameters: {'lr': 7.386392996137403e-06, 'β': 0.1595109921525391, 'reverse_pref': True, 'scale_orth': False, 'neg_slope': 'float', 'mag_clip': 'float', 'mag_clip_value': 0.623815049872941, 'neg_slope_value': 0.8696277824723643}. Best is trial 438 with value: 1.0867052023121389.\n"
     ]
    },
    {
     "name": "stdout",
     "output_type": "stream",
     "text": [
      "\n",
      "| acc_inc/eval_ds [pp]                                                    |   train |   test |   oos |   rnd |\n",
      "|:------------------------------------------------------------------------|--------:|-------:|------:|------:|\n",
      "| ProjBP lr=7.4e-06 mag_clip=0.62 neg_slope=0.87 reverse_pref=True β=0.16 |   3.306 | -0.787 | 8.671 |     0 |\n"
     ]
    },
    {
     "name": "stderr",
     "output_type": "stream",
     "text": [
      "[I 2024-10-09 22:35:14,591] Trial 439 finished with value: 0.9287090558766861 and parameters: {'lr': 1.1217626733299557e-05, 'β': 0.1708301101119135, 'reverse_pref': True, 'scale_orth': False, 'neg_slope': 'float', 'mag_clip': 'float', 'mag_clip_value': 0.6412559306886941, 'neg_slope_value': 0.874420768006487}. Best is trial 438 with value: 1.0867052023121389.\n"
     ]
    },
    {
     "name": "stdout",
     "output_type": "stream",
     "text": [
      "\n",
      "| acc_inc/eval_ds [pp]                                                    |   train |   test |    oos |    rnd |\n",
      "|:------------------------------------------------------------------------|--------:|-------:|-------:|-------:|\n",
      "| ProjBP lr=1.1e-05 mag_clip=0.64 neg_slope=0.87 reverse_pref=True β=0.17 |  -4.132 | -2.362 | -7.129 | -1.754 |\n"
     ]
    },
    {
     "name": "stderr",
     "output_type": "stream",
     "text": [
      "[I 2024-10-09 22:38:57,762] Trial 440 finished with value: 0.45279383429672454 and parameters: {'lr': 7.451222539899056e-06, 'β': 0.07287323509814231, 'reverse_pref': True, 'scale_orth': False, 'neg_slope': 0, 'mag_clip': 'float', 'mag_clip_value': 0.3418833981927616}. Best is trial 438 with value: 1.0867052023121389.\n"
     ]
    },
    {
     "name": "stdout",
     "output_type": "stream",
     "text": [
      "\n",
      "| acc_inc/eval_ds [pp]                                                  |   train |    test |     oos |    rnd |\n",
      "|:----------------------------------------------------------------------|--------:|--------:|--------:|-------:|\n",
      "| ProjBP lr=7.5e-06 mag_clip=0.34 neg_slope=0 reverse_pref=True β=0.073 |  -37.19 | -33.858 | -54.721 | 10.526 |\n"
     ]
    },
    {
     "name": "stderr",
     "output_type": "stream",
     "text": [
      "[I 2024-10-09 22:42:45,842] Trial 441 finished with value: 1.0077071290944124 and parameters: {'lr': 1.4061961602561117e-05, 'β': 0.1599614169264648, 'reverse_pref': True, 'scale_orth': True, 'neg_slope': 'float', 'mag_clip': 'float', 'mag_clip_value': 0.804115381173208, 'neg_slope_value': 0.8610390798027523}. Best is trial 438 with value: 1.0867052023121389.\n"
     ]
    },
    {
     "name": "stdout",
     "output_type": "stream",
     "text": [
      "\n",
      "| acc_inc/eval_ds [pp]                                                                   |   train |   test |   oos |    rnd |\n",
      "|:---------------------------------------------------------------------------------------|--------:|-------:|------:|-------:|\n",
      "| ProjBP lr=1.4e-05 mag_clip=0.8 neg_slope=0.86 reverse_pref=True scale_orth=True β=0.16 |   0.826 |      0 | 0.771 | -1.754 |\n"
     ]
    },
    {
     "name": "stderr",
     "output_type": "stream",
     "text": [
      "[I 2024-10-09 22:46:27,298] Trial 442 finished with value: 1.0770712909441233 and parameters: {'lr': 7.817778037204794e-06, 'β': 0.18976319661275506, 'reverse_pref': True, 'scale_orth': False, 'neg_slope': 'float', 'mag_clip': 'float', 'mag_clip_value': 0.5713336116637034, 'neg_slope_value': 0.8886093757059107}. Best is trial 438 with value: 1.0867052023121389.\n"
     ]
    },
    {
     "name": "stdout",
     "output_type": "stream",
     "text": [
      "\n",
      "| acc_inc/eval_ds [pp]                                                    |   train |   test |   oos |    rnd |\n",
      "|:------------------------------------------------------------------------|--------:|-------:|------:|-------:|\n",
      "| ProjBP lr=7.8e-06 mag_clip=0.57 neg_slope=0.89 reverse_pref=True β=0.19 |   3.306 | -0.787 | 7.707 | -5.263 |\n"
     ]
    },
    {
     "name": "stderr",
     "output_type": "stream",
     "text": [
      "[I 2024-10-09 22:46:28,680] Using an existing study with name 'projgrad3' instead of creating a new one.\n"
     ]
    },
    {
     "name": "stdout",
     "output_type": "stream",
     "text": [
      "================================================================================\n",
      "loaded 268 projgrad3 trials\n",
      "| projgrad3 N=✓267/268, best=1.279   |   importance | best                  |\n",
      "|:-----------------------------------|-------------:|:----------------------|\n",
      "| lr                                 |        0.918 | 0.0002320529194140666 |\n",
      "| β                                  |        0.04  | 0.8426788311104311    |\n",
      "| weight_dim                         |        0.03  | 1                     |\n",
      "| scale_orth                         |        0.006 | False                 |\n",
      "| mag_clip                           |        0.004 | float                 |\n",
      "| reverse_pref                       |        0.002 | True                  |\n",
      "| neg_slope                          |        0.001 | 0                     |\n",
      "| mag_clip_value                     |      nan     | 0.2300957741124143    |\n"
     ]
    },
    {
     "name": "stderr",
     "output_type": "stream",
     "text": [
      "[I 2024-10-09 22:49:55,282] Trial 268 finished with value: 1.2447013487475915 and parameters: {'lr': 0.00022007362798607343, 'β': 0.48483540892692323, 'reverse_pref': True, 'scale_orth': False, 'weight_dim': 1, 'neg_slope': 0, 'mag_clip': None}. Best is trial 119 with value: 1.2793834296724471.\n"
     ]
    },
    {
     "name": "stdout",
     "output_type": "stream",
     "text": [
      "\n",
      "| acc_inc/eval_ds [pp]                                                 |   train |   test |   oos |    rnd |\n",
      "|:---------------------------------------------------------------------|--------:|-------:|------:|-------:|\n",
      "| ProjGrad lr=0.00022 neg_slope=0 scale_orth=False weight_dim=1 β=0.48 |   4.959 | -0.787 | 24.47 | 24.561 |\n"
     ]
    },
    {
     "name": "stderr",
     "output_type": "stream",
     "text": [
      "[I 2024-10-09 22:53:26,421] Trial 269 finished with value: 1.044315992292871 and parameters: {'lr': 0.00045269670290330917, 'β': 0.4966822390958581, 'reverse_pref': True, 'scale_orth': False, 'weight_dim': 1, 'neg_slope': 0, 'mag_clip': None}. Best is trial 119 with value: 1.2793834296724471.\n"
     ]
    },
    {
     "name": "stdout",
     "output_type": "stream",
     "text": [
      "\n",
      "| acc_inc/eval_ds [pp]                                                |   train |   test |   oos |    rnd |\n",
      "|:--------------------------------------------------------------------|--------:|-------:|------:|-------:|\n",
      "| ProjGrad lr=0.00045 neg_slope=0 scale_orth=False weight_dim=1 β=0.5 |   2.479 | -0.787 | 4.432 | 22.807 |\n"
     ]
    },
    {
     "name": "stderr",
     "output_type": "stream",
     "text": [
      "[I 2024-10-09 22:56:54,192] Trial 270 finished with value: 0.815028901734104 and parameters: {'lr': 0.0006950625701056765, 'β': 0.4577398795259019, 'reverse_pref': False, 'scale_orth': False, 'weight_dim': 1, 'neg_slope': 'float', 'mag_clip': None, 'neg_slope_value': 0.767926133828342}. Best is trial 119 with value: 1.2793834296724471.\n"
     ]
    },
    {
     "name": "stdout",
     "output_type": "stream",
     "text": [
      "\n",
      "| acc_inc/eval_ds [pp]                                                                      |   train |   test |     oos |    rnd |\n",
      "|:------------------------------------------------------------------------------------------|--------:|-------:|--------:|-------:|\n",
      "| ProjGrad lr=0.0007 neg_slope=0.77 reverse_pref=False scale_orth=False weight_dim=1 β=0.46 |  -2.479 | -3.937 | -18.497 | 15.789 |\n"
     ]
    },
    {
     "name": "stderr",
     "output_type": "stream",
     "text": [
      "[I 2024-10-09 23:00:23,883] Trial 271 finished with value: 1.071290944123314 and parameters: {'lr': 0.0003887859247588152, 'β': 0.4842789916171602, 'reverse_pref': True, 'scale_orth': False, 'weight_dim': 1, 'neg_slope': 0, 'mag_clip': None}. Best is trial 119 with value: 1.2793834296724471.\n"
     ]
    },
    {
     "name": "stdout",
     "output_type": "stream",
     "text": [
      "\n",
      "| acc_inc/eval_ds [pp]                                                 |   train |   test |   oos |   rnd |\n",
      "|:---------------------------------------------------------------------|--------:|-------:|------:|------:|\n",
      "| ProjGrad lr=0.00039 neg_slope=0 scale_orth=False weight_dim=1 β=0.48 |   2.479 |  -3.15 | 7.129 | 8.772 |\n"
     ]
    },
    {
     "name": "stderr",
     "output_type": "stream",
     "text": [
      "[I 2024-10-09 23:03:54,793] Trial 272 finished with value: 1.2196531791907514 and parameters: {'lr': 0.0002366241415992021, 'β': 0.5477449477358634, 'reverse_pref': True, 'scale_orth': False, 'weight_dim': 1, 'neg_slope': 0, 'mag_clip': None}. Best is trial 119 with value: 1.2793834296724471.\n"
     ]
    },
    {
     "name": "stdout",
     "output_type": "stream",
     "text": [
      "\n",
      "| acc_inc/eval_ds [pp]                                                 |   train |   test |    oos |    rnd |\n",
      "|:---------------------------------------------------------------------|--------:|-------:|-------:|-------:|\n",
      "| ProjGrad lr=0.00024 neg_slope=0 scale_orth=False weight_dim=1 β=0.55 |   5.785 |      0 | 21.965 | 14.035 |\n"
     ]
    },
    {
     "name": "stderr",
     "output_type": "stream",
     "text": [
      "[I 2024-10-09 23:07:25,089] Trial 273 finished with value: 1.069364161849711 and parameters: {'lr': 0.00022165848731754446, 'β': 0.5127709754801322, 'reverse_pref': True, 'scale_orth': False, 'weight_dim': 1, 'neg_slope': 0, 'mag_clip': None}. Best is trial 119 with value: 1.2793834296724471.\n"
     ]
    },
    {
     "name": "stdout",
     "output_type": "stream",
     "text": [
      "\n",
      "| acc_inc/eval_ds [pp]                                                 |   train |   test |   oos |    rnd |\n",
      "|:---------------------------------------------------------------------|--------:|-------:|------:|-------:|\n",
      "| ProjGrad lr=0.00022 neg_slope=0 scale_orth=False weight_dim=1 β=0.51 |   2.479 | -1.575 | 6.936 | 19.298 |\n"
     ]
    },
    {
     "name": "stderr",
     "output_type": "stream",
     "text": [
      "[I 2024-10-09 23:10:55,417] Trial 274 finished with value: 1.2023121387283238 and parameters: {'lr': 0.00017826242628299357, 'β': 0.5365674782830543, 'reverse_pref': True, 'scale_orth': False, 'weight_dim': 1, 'neg_slope': 'float', 'mag_clip': None, 'neg_slope_value': 0.579602240761117}. Best is trial 119 with value: 1.2793834296724471.\n"
     ]
    },
    {
     "name": "stdout",
     "output_type": "stream",
     "text": [
      "\n",
      "| acc_inc/eval_ds [pp]                                                    |   train |   test |    oos |    rnd |\n",
      "|:------------------------------------------------------------------------|--------:|-------:|-------:|-------:|\n",
      "| ProjGrad lr=0.00018 neg_slope=0.58 scale_orth=False weight_dim=1 β=0.54 |   5.785 | -0.787 | 20.231 | 15.789 |\n"
     ]
    },
    {
     "name": "stderr",
     "output_type": "stream",
     "text": [
      "[I 2024-10-09 23:14:27,223] Trial 275 finished with value: 1.1560693641618498 and parameters: {'lr': 0.00017421386291566996, 'β': 0.5725102000072783, 'reverse_pref': True, 'scale_orth': False, 'weight_dim': 1, 'neg_slope': 'float', 'mag_clip': None, 'neg_slope_value': 0.5776150773280495}. Best is trial 119 with value: 1.2793834296724471.\n"
     ]
    },
    {
     "name": "stdout",
     "output_type": "stream",
     "text": [
      "\n",
      "| acc_inc/eval_ds [pp]                                                    |   train |   test |    oos |   rnd |\n",
      "|:------------------------------------------------------------------------|--------:|-------:|-------:|------:|\n",
      "| ProjGrad lr=0.00017 neg_slope=0.58 scale_orth=False weight_dim=1 β=0.57 |   5.785 | -2.362 | 15.607 | 1.754 |\n"
     ]
    },
    {
     "name": "stderr",
     "output_type": "stream",
     "text": [
      "[I 2024-10-09 23:17:56,671] Trial 276 finished with value: 0.9383429672447013 and parameters: {'lr': 0.00016644761021872937, 'β': 0.5299391247191803, 'reverse_pref': True, 'scale_orth': False, 'weight_dim': 1, 'neg_slope': 'float', 'mag_clip': None, 'neg_slope_value': 0.6237371594329955}. Best is trial 119 with value: 1.2793834296724471.\n"
     ]
    },
    {
     "name": "stdout",
     "output_type": "stream",
     "text": [
      "\n",
      "| acc_inc/eval_ds [pp]                                                    |   train |   test |    oos |   rnd |\n",
      "|:------------------------------------------------------------------------|--------:|-------:|-------:|------:|\n",
      "| ProjGrad lr=0.00017 neg_slope=0.62 scale_orth=False weight_dim=1 β=0.53 |   4.132 | -1.575 | -6.166 | 1.754 |\n"
     ]
    },
    {
     "name": "stderr",
     "output_type": "stream",
     "text": [
      "[I 2024-10-09 23:21:30,652] Trial 277 finished with value: 1.042389210019268 and parameters: {'lr': 0.0002066694017030168, 'β': 0.553736294253614, 'reverse_pref': True, 'scale_orth': False, 'weight_dim': 1, 'neg_slope': 'float', 'mag_clip': None, 'neg_slope_value': 0.7012187542856242}. Best is trial 119 with value: 1.2793834296724471.\n"
     ]
    },
    {
     "name": "stdout",
     "output_type": "stream",
     "text": [
      "\n",
      "| acc_inc/eval_ds [pp]                                                   |   train |   test |   oos |    rnd |\n",
      "|:-----------------------------------------------------------------------|--------:|-------:|------:|-------:|\n",
      "| ProjGrad lr=0.00021 neg_slope=0.7 scale_orth=False weight_dim=1 β=0.55 |   5.785 | -3.937 | 4.239 | 10.526 |\n"
     ]
    },
    {
     "name": "stderr",
     "output_type": "stream",
     "text": [
      "[I 2024-10-09 23:25:05,549] Trial 278 finished with value: 1.1252408477842004 and parameters: {'lr': 0.00014073987343997288, 'β': 0.4936886447841364, 'reverse_pref': True, 'scale_orth': False, 'weight_dim': 1, 'neg_slope': 'float', 'mag_clip': None, 'neg_slope_value': 0.7426109624963098}. Best is trial 119 with value: 1.2793834296724471.\n"
     ]
    },
    {
     "name": "stdout",
     "output_type": "stream",
     "text": [
      "\n",
      "| acc_inc/eval_ds [pp]                                                    |   train |   test |    oos |    rnd |\n",
      "|:------------------------------------------------------------------------|--------:|-------:|-------:|-------:|\n",
      "| ProjGrad lr=0.00014 neg_slope=0.74 scale_orth=False weight_dim=1 β=0.49 |   5.785 | -0.787 | 12.524 | 22.807 |\n"
     ]
    },
    {
     "name": "stderr",
     "output_type": "stream",
     "text": [
      "[I 2024-10-09 23:28:39,788] Trial 279 finished with value: 0.9845857418111754 and parameters: {'lr': 0.00023760678649328238, 'β': 0.301030493325267, 'reverse_pref': True, 'scale_orth': False, 'weight_dim': 1, 'neg_slope': 'float', 'mag_clip': None, 'neg_slope_value': 0.6003374443754197}. Best is trial 119 with value: 1.2793834296724471.\n"
     ]
    },
    {
     "name": "stdout",
     "output_type": "stream",
     "text": [
      "\n",
      "| acc_inc/eval_ds [pp]                                                  |   train |   test |    oos |    rnd |\n",
      "|:----------------------------------------------------------------------|--------:|-------:|-------:|-------:|\n",
      "| ProjGrad lr=0.00024 neg_slope=0.6 scale_orth=False weight_dim=1 β=0.3 |   2.479 | -0.787 | -1.541 | 21.053 |\n"
     ]
    },
    {
     "name": "stderr",
     "output_type": "stream",
     "text": [
      "[I 2024-10-09 23:32:13,848] Trial 280 finished with value: 1.0308285163776494 and parameters: {'lr': 0.00018234736283915005, 'β': 0.5376203117872397, 'reverse_pref': True, 'scale_orth': False, 'weight_dim': 1, 'neg_slope': 'float', 'mag_clip': None, 'neg_slope_value': 0.6538547835849637}. Best is trial 119 with value: 1.2793834296724471.\n"
     ]
    },
    {
     "name": "stdout",
     "output_type": "stream",
     "text": [
      "\n",
      "| acc_inc/eval_ds [pp]                                                    |   train |   test |   oos |   rnd |\n",
      "|:------------------------------------------------------------------------|--------:|-------:|------:|------:|\n",
      "| ProjGrad lr=0.00018 neg_slope=0.65 scale_orth=False weight_dim=1 β=0.54 |   4.959 | -0.787 | 3.083 | 28.07 |\n"
     ]
    },
    {
     "name": "stderr",
     "output_type": "stream",
     "text": [
      "[I 2024-10-09 23:35:49,161] Trial 281 finished with value: 1.0809248554913296 and parameters: {'lr': 0.00024629551778945633, 'β': 0.44097315620029587, 'reverse_pref': True, 'scale_orth': False, 'weight_dim': 1, 'neg_slope': 'float', 'mag_clip': None, 'neg_slope_value': 0.8231511533199966}. Best is trial 119 with value: 1.2793834296724471.\n"
     ]
    },
    {
     "name": "stdout",
     "output_type": "stream",
     "text": [
      "\n",
      "| acc_inc/eval_ds [pp]                                                    |   train |   test |   oos |    rnd |\n",
      "|:------------------------------------------------------------------------|--------:|-------:|------:|-------:|\n",
      "| ProjGrad lr=0.00025 neg_slope=0.82 scale_orth=False weight_dim=1 β=0.44 |   3.306 | -2.362 | 8.092 | -1.754 |\n"
     ]
    },
    {
     "name": "stderr",
     "output_type": "stream",
     "text": [
      "[I 2024-10-09 23:39:29,374] Trial 282 finished with value: 0.9229287090558769 and parameters: {'lr': 0.000304412674909139, 'β': 0.15924411538980554, 'reverse_pref': True, 'scale_orth': False, 'weight_dim': 1, 'neg_slope': 'float', 'mag_clip': None, 'neg_slope_value': 0.504525134632423}. Best is trial 119 with value: 1.2793834296724471.\n"
     ]
    },
    {
     "name": "stdout",
     "output_type": "stream",
     "text": [
      "\n",
      "| acc_inc/eval_ds [pp]                                                  |   train |   test |    oos |    rnd |\n",
      "|:----------------------------------------------------------------------|--------:|-------:|-------:|-------:|\n",
      "| ProjGrad lr=0.0003 neg_slope=0.5 scale_orth=False weight_dim=1 β=0.16 |   4.959 | -0.787 | -7.707 | 15.789 |\n"
     ]
    },
    {
     "name": "stderr",
     "output_type": "stream",
     "text": [
      "[I 2024-10-09 23:43:04,324] Trial 283 finished with value: 1.1040462427745665 and parameters: {'lr': 0.00018243512961613363, 'β': 0.5824130446288828, 'reverse_pref': True, 'scale_orth': False, 'weight_dim': 1, 'neg_slope': 0, 'mag_clip': None}. Best is trial 119 with value: 1.2793834296724471.\n"
     ]
    },
    {
     "name": "stdout",
     "output_type": "stream",
     "text": [
      "\n",
      "| acc_inc/eval_ds [pp]                                                 |   train |   test |    oos |   rnd |\n",
      "|:---------------------------------------------------------------------|--------:|-------:|-------:|------:|\n",
      "| ProjGrad lr=0.00018 neg_slope=0 scale_orth=False weight_dim=1 β=0.58 |   5.785 | -0.787 | 10.405 | 28.07 |\n"
     ]
    },
    {
     "name": "stderr",
     "output_type": "stream",
     "text": [
      "[I 2024-10-09 23:46:38,475] Trial 284 finished with value: 1.0597302504816957 and parameters: {'lr': 0.0001433682506540434, 'β': 0.41459175659493736, 'reverse_pref': True, 'scale_orth': True, 'weight_dim': 1, 'neg_slope': 0, 'mag_clip': None}. Best is trial 119 with value: 1.2793834296724471.\n"
     ]
    },
    {
     "name": "stdout",
     "output_type": "stream",
     "text": [
      "\n",
      "| acc_inc/eval_ds [pp]                                |   train |   test |   oos |    rnd |\n",
      "|:----------------------------------------------------|--------:|-------:|------:|-------:|\n",
      "| ProjGrad lr=0.00014 neg_slope=0 weight_dim=1 β=0.41 |   3.306 | -1.575 | 5.973 | 22.807 |\n"
     ]
    },
    {
     "name": "stderr",
     "output_type": "stream",
     "text": [
      "[I 2024-10-09 23:50:10,631] Trial 285 finished with value: 0.9479768786127168 and parameters: {'lr': 0.00033519201011283445, 'β': 0.24771159273391652, 'reverse_pref': True, 'scale_orth': False, 'weight_dim': 1, 'neg_slope': 0, 'mag_clip': None}. Best is trial 119 with value: 1.2793834296724471.\n"
     ]
    },
    {
     "name": "stdout",
     "output_type": "stream",
     "text": [
      "\n",
      "| acc_inc/eval_ds [pp]                                                 |   train |   test |    oos |    rnd |\n",
      "|:---------------------------------------------------------------------|--------:|-------:|-------:|-------:|\n",
      "| ProjGrad lr=0.00034 neg_slope=0 scale_orth=False weight_dim=1 β=0.25 |   0.826 | -0.787 | -5.202 | 10.526 |\n"
     ]
    },
    {
     "name": "stderr",
     "output_type": "stream",
     "text": [
      "[I 2024-10-09 23:53:41,538] Trial 286 finished with value: 1.088631984585742 and parameters: {'lr': 0.00022691637312550464, 'β': 0.47266914383702524, 'reverse_pref': True, 'scale_orth': False, 'weight_dim': 1, 'neg_slope': 'float', 'mag_clip': None, 'neg_slope_value': 0.576893167870786}. Best is trial 119 with value: 1.2793834296724471.\n"
     ]
    },
    {
     "name": "stdout",
     "output_type": "stream",
     "text": [
      "\n",
      "| acc_inc/eval_ds [pp]                                                    |   train |   test |   oos |   rnd |\n",
      "|:------------------------------------------------------------------------|--------:|-------:|------:|------:|\n",
      "| ProjGrad lr=0.00023 neg_slope=0.58 scale_orth=False weight_dim=1 β=0.47 |   3.306 | -2.362 | 8.863 | 3.509 |\n"
     ]
    },
    {
     "name": "stderr",
     "output_type": "stream",
     "text": [
      "[I 2024-10-09 23:57:09,519] Trial 287 finished with value: 1.0963391136801544 and parameters: {'lr': 0.00010350402235306302, 'β': 0.5414167998858853, 'reverse_pref': True, 'scale_orth': False, 'weight_dim': 1, 'neg_slope': 0, 'mag_clip': None}. Best is trial 119 with value: 1.2793834296724471.\n"
     ]
    },
    {
     "name": "stdout",
     "output_type": "stream",
     "text": [
      "\n",
      "| acc_inc/eval_ds [pp]                                                |   train |   test |   oos |   rnd |\n",
      "|:--------------------------------------------------------------------|--------:|-------:|------:|------:|\n",
      "| ProjGrad lr=0.0001 neg_slope=0 scale_orth=False weight_dim=1 β=0.54 |   5.785 | -1.575 | 9.634 | 8.772 |\n",
      "================================================================================\n"
     ]
    },
    {
     "name": "stderr",
     "output_type": "stream",
     "text": [
      "[I 2024-10-09 23:57:10,920] Using an existing study with name 'ether-prefvec' instead of creating a new one.\n"
     ]
    },
    {
     "name": "stdout",
     "output_type": "stream",
     "text": [
      "loaded 377 ether-prefvec trials\n",
      "| ether-prefvec N=✓371/377, best=1.183   |   importance | best                   |\n",
      "|:---------------------------------------|-------------:|:-----------------------|\n",
      "| lr                                     |        0.921 | 0.00037772770210724844 |\n",
      "| Htype                                  |        0.018 | ether                  |\n",
      "| β                                      |        0.011 | 1.9848539330526844     |\n",
      "| reduction                              |        0.011 | 1                      |\n",
      "| use_proj_rel                           |        0.009 | True                   |\n",
      "| nb                                     |        0.009 | 20                     |\n",
      "| use_dpo_loss                           |        0.006 | False                  |\n",
      "| collect_hs                             |        0.004 | False                  |\n",
      "| use_angle_loss                         |        0.004 | True                   |\n",
      "| use_orth_loss                          |        0.003 | True                   |\n",
      "| flip_side                              |        0.002 | True                   |\n",
      "| use_nll_loss                           |        0.001 | True                   |\n",
      "| collect_input                          |        0     | True                   |\n",
      "| weight_tokens                          |        0     | True                   |\n"
     ]
    },
    {
     "name": "stderr",
     "output_type": "stream",
     "text": [
      "[I 2024-10-10 00:00:44,323] Trial 377 finished with value: 0.8285163776493257 and parameters: {'lr': 0.0010054976495118223, 'collect_input': True, 'collect_hs': False, 'nb': 30, 'Htype': 'ether', 'flip_side': True, 'reduction': 260, 'β': 1.5382255993050298, 'use_orth_loss': False, 'use_angle_loss': True, 'use_dpo_loss': False, 'use_nll_loss': True, 'weight_tokens': True, 'use_proj_rel': True}. Best is trial 24 with value: 1.183044315992293.\n"
     ]
    },
    {
     "name": "stdout",
     "output_type": "stream",
     "text": [
      "\n",
      "| acc_inc/eval_ds [pp]                                                                                                                                                                          |   train |   test |     oos |   rnd |\n",
      "|:----------------------------------------------------------------------------------------------------------------------------------------------------------------------------------------------|--------:|-------:|--------:|------:|\n",
      "| ReprPO collect_input=True prefvec.use_nll_prefvec=True prefvec.use_proj_rel=True prefvec.weight_tokens=True prefvec.β=1.5 lr=0.001 ether.Htype=ether ether.flip_side=True ether.reduction=260 | -10.744 | -8.661 | -17.148 |     0 |\n"
     ]
    },
    {
     "name": "stderr",
     "output_type": "stream",
     "text": [
      "[I 2024-10-10 00:04:07,556] Trial 378 finished with value: 1.1194605009633911 and parameters: {'lr': 0.0005533977025399174, 'collect_input': True, 'collect_hs': False, 'nb': 20, 'Htype': 'oft', 'flip_side': True, 'reduction': 370, 'β': 1.9971876761302187, 'use_orth_loss': True, 'use_angle_loss': True, 'use_dpo_loss': False, 'use_nll_loss': True, 'weight_tokens': True, 'use_proj_rel': False}. Best is trial 24 with value: 1.183044315992293.\n"
     ]
    },
    {
     "name": "stdout",
     "output_type": "stream",
     "text": [
      "\n",
      "| acc_inc/eval_ds [pp]                                                                                                                                                                                        |   train |   test |    oos |    rnd |\n",
      "|:------------------------------------------------------------------------------------------------------------------------------------------------------------------------------------------------------------|--------:|-------:|-------:|-------:|\n",
      "| ReprPO collect_input=True prefvec.use_nll_prefvec=True prefvec.use_orth_prefvec=True prefvec.weight_tokens=True prefvec.β=2 lr=0.00055 ether.Htype=oft ether.flip_side=True ether.nb=20 ether.reduction=370 |  -1.653 | -0.787 | 11.946 | -8.772 |\n"
     ]
    },
    {
     "name": "stderr",
     "output_type": "stream",
     "text": [
      "[I 2024-10-10 00:07:28,141] Trial 379 finished with value: 0.3872832369942197 and parameters: {'lr': 0.0017178317166633606, 'collect_input': True, 'collect_hs': False, 'nb': 23, 'Htype': 'ether', 'flip_side': True, 'reduction': 510, 'β': 1.9409053489536636e-05, 'use_orth_loss': True, 'use_angle_loss': False, 'use_dpo_loss': False, 'use_nll_loss': True, 'weight_tokens': True, 'use_proj_rel': False}. Best is trial 24 with value: 1.183044315992293.\n"
     ]
    },
    {
     "name": "stdout",
     "output_type": "stream",
     "text": [
      "\n",
      "| acc_inc/eval_ds [pp]                                                                                                                                                                                                                               |   train |   test |     oos |    rnd |\n",
      "|:---------------------------------------------------------------------------------------------------------------------------------------------------------------------------------------------------------------------------------------------------|--------:|-------:|--------:|-------:|\n",
      "| ReprPO collect_input=True prefvec.use_angle_prefvec=False prefvec.use_nll_prefvec=True prefvec.use_orth_prefvec=True prefvec.weight_tokens=True prefvec.β=1.9e-05 lr=0.0017 ether.Htype=ether ether.flip_side=True ether.nb=23 ether.reduction=510 | -44.628 | -39.37 | -61.272 | 12.281 |\n"
     ]
    },
    {
     "name": "stderr",
     "output_type": "stream",
     "text": [
      "[I 2024-10-10 00:10:50,043] Trial 380 finished with value: 1.165703275529865 and parameters: {'lr': 0.0004436414351821782, 'collect_input': True, 'collect_hs': False, 'nb': 27, 'Htype': 'etherplusHH', 'flip_side': True, 'reduction': 179, 'β': 1.003082745205352, 'use_orth_loss': True, 'use_angle_loss': True, 'use_dpo_loss': False, 'use_nll_loss': True, 'weight_tokens': True, 'use_proj_rel': True}. Best is trial 24 with value: 1.183044315992293.\n"
     ]
    },
    {
     "name": "stdout",
     "output_type": "stream",
     "text": [
      "\n",
      "| acc_inc/eval_ds [pp]                                                                                                                                                                                                  |   train |   test |   oos |    rnd |\n",
      "|:----------------------------------------------------------------------------------------------------------------------------------------------------------------------------------------------------------------------|--------:|-------:|------:|-------:|\n",
      "| ReprPO collect_input=True prefvec.use_nll_prefvec=True prefvec.use_orth_prefvec=True prefvec.use_proj_rel=True prefvec.weight_tokens=True prefvec.β=1 lr=0.00044 ether.flip_side=True ether.nb=27 ether.reduction=179 |   4.959 | -0.787 | 16.57 | -8.772 |\n"
     ]
    },
    {
     "name": "stderr",
     "output_type": "stream",
     "text": [
      "[I 2024-10-10 00:14:03,211] Trial 381 finished with value: 0.43545279383429675 and parameters: {'lr': 0.0007264487602014035, 'collect_input': True, 'collect_hs': True, 'nb': 17, 'Htype': 'ether', 'flip_side': True, 'reduction': 323, 'β': 5.393326049318195e-05, 'use_orth_loss': False, 'use_angle_loss': True, 'use_dpo_loss': False, 'use_nll_loss': True, 'weight_tokens': True, 'use_proj_rel': False}. Best is trial 24 with value: 1.183044315992293.\n"
     ]
    },
    {
     "name": "stdout",
     "output_type": "stream",
     "text": [
      "\n",
      "| acc_inc/eval_ds [pp]                                                                                                                                                                                  |   train |    test |     oos |    rnd |\n",
      "|:------------------------------------------------------------------------------------------------------------------------------------------------------------------------------------------------------|--------:|--------:|--------:|-------:|\n",
      "| ReprPO collect_hs=True collect_input=True prefvec.use_nll_prefvec=True prefvec.weight_tokens=True prefvec.β=5.4e-05 lr=0.00073 ether.Htype=ether ether.flip_side=True ether.nb=17 ether.reduction=323 | -47.934 | -35.433 | -56.455 | 10.526 |\n"
     ]
    },
    {
     "name": "stderr",
     "output_type": "stream",
     "text": [
      "[I 2024-10-10 00:17:25,149] Trial 382 finished with value: 1.0924855491329482 and parameters: {'lr': 0.00021686073061603423, 'collect_input': True, 'collect_hs': False, 'nb': 18, 'Htype': 'ether', 'flip_side': True, 'reduction': 227, 'β': 1.196628667735359, 'use_orth_loss': True, 'use_angle_loss': True, 'use_dpo_loss': False, 'use_nll_loss': True, 'weight_tokens': True, 'use_proj_rel': False}. Best is trial 24 with value: 1.183044315992293.\n"
     ]
    },
    {
     "name": "stdout",
     "output_type": "stream",
     "text": [
      "\n",
      "| acc_inc/eval_ds [pp]                                                                                                                                                                                            |   train |   test |   oos |    rnd |\n",
      "|:----------------------------------------------------------------------------------------------------------------------------------------------------------------------------------------------------------------|--------:|-------:|------:|-------:|\n",
      "| ReprPO collect_input=True prefvec.use_nll_prefvec=True prefvec.use_orth_prefvec=True prefvec.weight_tokens=True prefvec.β=1.2 lr=0.00022 ether.Htype=ether ether.flip_side=True ether.nb=18 ether.reduction=227 |   1.653 |  0.787 | 9.249 | -1.754 |\n"
     ]
    },
    {
     "name": "stderr",
     "output_type": "stream",
     "text": [
      "[I 2024-10-10 00:20:59,674] Trial 383 finished with value: 1.1098265895953758 and parameters: {'lr': 0.0003154289635643897, 'collect_input': False, 'collect_hs': False, 'nb': 21, 'Htype': 'oft', 'flip_side': True, 'reduction': 133, 'β': 0.6734326322808045, 'use_orth_loss': True, 'use_angle_loss': True, 'use_dpo_loss': False, 'use_nll_loss': True, 'weight_tokens': True, 'use_proj_rel': False}. Best is trial 24 with value: 1.183044315992293.\n"
     ]
    },
    {
     "name": "stdout",
     "output_type": "stream",
     "text": [
      "\n",
      "| acc_inc/eval_ds [pp]                                                                                                                                                                        |   train |   test |    oos |    rnd |\n",
      "|:--------------------------------------------------------------------------------------------------------------------------------------------------------------------------------------------|--------:|-------:|-------:|-------:|\n",
      "| ReprPO prefvec.use_nll_prefvec=True prefvec.use_orth_prefvec=True prefvec.weight_tokens=True prefvec.β=0.67 lr=0.00032 ether.Htype=oft ether.flip_side=True ether.nb=21 ether.reduction=133 |       0 | -0.787 | 10.983 | -5.263 |\n"
     ]
    },
    {
     "name": "stderr",
     "output_type": "stream",
     "text": [
      "[I 2024-10-10 00:24:21,866] Trial 384 finished with value: 1.1695568400770715 and parameters: {'lr': 0.000377706015534228, 'collect_input': True, 'collect_hs': False, 'nb': 15, 'Htype': 'ether', 'flip_side': True, 'reduction': 420, 'β': 1.5154563555187455, 'use_orth_loss': False, 'use_angle_loss': True, 'use_dpo_loss': False, 'use_nll_loss': True, 'weight_tokens': True, 'use_proj_rel': True}. Best is trial 24 with value: 1.183044315992293.\n"
     ]
    },
    {
     "name": "stdout",
     "output_type": "stream",
     "text": [
      "\n",
      "| acc_inc/eval_ds [pp]                                                                                                                                                                                        |   train |   test |    oos |    rnd |\n",
      "|:------------------------------------------------------------------------------------------------------------------------------------------------------------------------------------------------------------|--------:|-------:|-------:|-------:|\n",
      "| ReprPO collect_input=True prefvec.use_nll_prefvec=True prefvec.use_proj_rel=True prefvec.weight_tokens=True prefvec.β=1.5 lr=0.00038 ether.Htype=ether ether.flip_side=True ether.nb=15 ether.reduction=420 |   3.306 |      0 | 16.956 | -7.018 |\n"
     ]
    },
    {
     "name": "stderr",
     "output_type": "stream",
     "text": [
      "[I 2024-10-10 00:27:44,048] Trial 385 finished with value: 1.1233140655105973 and parameters: {'lr': 0.0002489598659601704, 'collect_input': True, 'collect_hs': False, 'nb': 19, 'Htype': 'ether', 'flip_side': True, 'reduction': 283, 'β': 0.8743241468889615, 'use_orth_loss': True, 'use_angle_loss': True, 'use_dpo_loss': False, 'use_nll_loss': True, 'weight_tokens': True, 'use_proj_rel': False}. Best is trial 24 with value: 1.183044315992293.\n"
     ]
    },
    {
     "name": "stdout",
     "output_type": "stream",
     "text": [
      "\n",
      "| acc_inc/eval_ds [pp]                                                                                                                                                                                             |   train |   test |    oos |    rnd |\n",
      "|:-----------------------------------------------------------------------------------------------------------------------------------------------------------------------------------------------------------------|--------:|-------:|-------:|-------:|\n",
      "| ReprPO collect_input=True prefvec.use_nll_prefvec=True prefvec.use_orth_prefvec=True prefvec.weight_tokens=True prefvec.β=0.87 lr=0.00025 ether.Htype=ether ether.flip_side=True ether.nb=19 ether.reduction=283 |   0.826 |  0.787 | 12.331 | -1.754 |\n"
     ]
    },
    {
     "name": "stderr",
     "output_type": "stream",
     "text": [
      "[I 2024-10-10 00:31:10,315] Trial 386 finished with value: 1.1464354527938343 and parameters: {'lr': 0.0005433918767975296, 'collect_input': True, 'collect_hs': False, 'nb': 25, 'Htype': 'ether', 'flip_side': True, 'reduction': 1, 'β': 1.5386648266034637, 'use_orth_loss': True, 'use_angle_loss': True, 'use_dpo_loss': False, 'use_nll_loss': True, 'weight_tokens': True, 'use_proj_rel': False}. Best is trial 24 with value: 1.183044315992293.\n"
     ]
    },
    {
     "name": "stdout",
     "output_type": "stream",
     "text": [
      "\n",
      "| acc_inc/eval_ds [pp]                                                                                                                                                                                          |   train |   test |    oos |    rnd |\n",
      "|:--------------------------------------------------------------------------------------------------------------------------------------------------------------------------------------------------------------|--------:|-------:|-------:|-------:|\n",
      "| ReprPO collect_input=True prefvec.use_nll_prefvec=True prefvec.use_orth_prefvec=True prefvec.weight_tokens=True prefvec.β=1.5 lr=0.00054 ether.Htype=ether ether.flip_side=True ether.nb=25 ether.reduction=1 |   0.826 | -1.575 | 14.644 | -1.754 |\n"
     ]
    },
    {
     "name": "stderr",
     "output_type": "stream",
     "text": [
      "[I 2024-10-10 00:34:31,269] Trial 387 finished with value: 1.046242774566474 and parameters: {'lr': 0.00011110357028121031, 'collect_input': True, 'collect_hs': False, 'nb': 30, 'Htype': 'oft', 'flip_side': True, 'reduction': 367, 'β': 1.1003114820144988, 'use_orth_loss': False, 'use_angle_loss': True, 'use_dpo_loss': False, 'use_nll_loss': True, 'weight_tokens': True, 'use_proj_rel': False}. Best is trial 24 with value: 1.183044315992293.\n"
     ]
    },
    {
     "name": "stdout",
     "output_type": "stream",
     "text": [
      "\n",
      "| acc_inc/eval_ds [pp]                                                                                                                                                |   train |   test |   oos |   rnd |\n",
      "|:--------------------------------------------------------------------------------------------------------------------------------------------------------------------|--------:|-------:|------:|------:|\n",
      "| ReprPO collect_input=True prefvec.use_nll_prefvec=True prefvec.weight_tokens=True prefvec.β=1.1 lr=0.00011 ether.Htype=oft ether.flip_side=True ether.reduction=367 |   0.826 |  0.787 | 4.624 |     0 |\n"
     ]
    },
    {
     "name": "stderr",
     "output_type": "stream",
     "text": [
      "[I 2024-10-10 00:37:53,045] Trial 388 finished with value: 1.1695568400770715 and parameters: {'lr': 0.00043872128643235374, 'collect_input': True, 'collect_hs': False, 'nb': 22, 'Htype': 'ether', 'flip_side': True, 'reduction': 462, 'β': 1.530573109665892, 'use_orth_loss': True, 'use_angle_loss': True, 'use_dpo_loss': False, 'use_nll_loss': True, 'weight_tokens': True, 'use_proj_rel': True}. Best is trial 24 with value: 1.183044315992293.\n"
     ]
    },
    {
     "name": "stdout",
     "output_type": "stream",
     "text": [
      "\n",
      "| acc_inc/eval_ds [pp]                                                                                                                                                                                                                      |   train |   test |    oos |     rnd |\n",
      "|:------------------------------------------------------------------------------------------------------------------------------------------------------------------------------------------------------------------------------------------|--------:|-------:|-------:|--------:|\n",
      "| ReprPO collect_input=True prefvec.use_nll_prefvec=True prefvec.use_orth_prefvec=True prefvec.use_proj_rel=True prefvec.weight_tokens=True prefvec.β=1.5 lr=0.00044 ether.Htype=ether ether.flip_side=True ether.nb=22 ether.reduction=462 |   3.306 | -0.787 | 16.956 | -10.526 |\n"
     ]
    },
    {
     "name": "stderr",
     "output_type": "stream",
     "text": [
      "[I 2024-10-10 00:41:15,014] Trial 389 finished with value: 1.1560693641618498 and parameters: {'lr': 0.0003248141664067024, 'collect_input': True, 'collect_hs': False, 'nb': 27, 'Htype': 'etherplusHH', 'flip_side': True, 'reduction': 309, 'β': 0.3984197325380214, 'use_orth_loss': True, 'use_angle_loss': True, 'use_dpo_loss': False, 'use_nll_loss': True, 'weight_tokens': True, 'use_proj_rel': False}. Best is trial 24 with value: 1.183044315992293.\n"
     ]
    },
    {
     "name": "stdout",
     "output_type": "stream",
     "text": [
      "\n",
      "| acc_inc/eval_ds [pp]                                                                                                                                                                          |   train |   test |    oos |     rnd |\n",
      "|:----------------------------------------------------------------------------------------------------------------------------------------------------------------------------------------------|--------:|-------:|-------:|--------:|\n",
      "| ReprPO collect_input=True prefvec.use_nll_prefvec=True prefvec.use_orth_prefvec=True prefvec.weight_tokens=True prefvec.β=0.4 lr=0.00032 ether.flip_side=True ether.nb=27 ether.reduction=309 |   2.479 |  0.787 | 15.607 | -12.281 |\n"
     ]
    },
    {
     "name": "stderr",
     "output_type": "stream",
     "text": [
      "[I 2024-10-10 00:44:36,973] Trial 390 finished with value: 1.142581888246628 and parameters: {'lr': 0.0006551512623377755, 'collect_input': True, 'collect_hs': False, 'nb': 20, 'Htype': 'ether', 'flip_side': True, 'reduction': 377, 'β': 1.9810709184786348, 'use_orth_loss': True, 'use_angle_loss': True, 'use_dpo_loss': False, 'use_nll_loss': True, 'weight_tokens': False, 'use_proj_rel': False}. Best is trial 24 with value: 1.183044315992293.\n"
     ]
    },
    {
     "name": "stdout",
     "output_type": "stream",
     "text": [
      "\n",
      "| acc_inc/eval_ds [pp]                                                                                                                                                               |   train |   test |    oos |    rnd |\n",
      "|:-----------------------------------------------------------------------------------------------------------------------------------------------------------------------------------|--------:|-------:|-------:|-------:|\n",
      "| ReprPO collect_input=True prefvec.use_nll_prefvec=True prefvec.use_orth_prefvec=True prefvec.β=2 lr=0.00066 ether.Htype=ether ether.flip_side=True ether.nb=20 ether.reduction=377 |   0.826 | -0.787 | 14.258 | -8.772 |\n"
     ]
    },
    {
     "name": "stderr",
     "output_type": "stream",
     "text": [
      "[I 2024-10-10 00:48:08,644] Trial 391 finished with value: 1.0924855491329482 and parameters: {'lr': 0.00027139738526609533, 'collect_input': True, 'collect_hs': False, 'nb': 16, 'Htype': 'ether', 'flip_side': True, 'reduction': 251, 'β': 0.8905580283496136, 'use_orth_loss': False, 'use_angle_loss': True, 'use_dpo_loss': True, 'use_nll_loss': False, 'weight_tokens': True, 'use_proj_rel': False}. Best is trial 24 with value: 1.183044315992293.\n"
     ]
    },
    {
     "name": "stdout",
     "output_type": "stream",
     "text": [
      "\n",
      "| acc_inc/eval_ds [pp]                                                                                                                                                               |   train |   test |   oos |    rnd |\n",
      "|:-----------------------------------------------------------------------------------------------------------------------------------------------------------------------------------|--------:|-------:|------:|-------:|\n",
      "| ReprPO collect_input=True prefvec.use_dpo_prefvec=True prefvec.weight_tokens=True prefvec.β=0.89 lr=0.00027 ether.Htype=ether ether.flip_side=True ether.nb=16 ether.reduction=251 |   4.959 |      0 | 9.249 | 19.298 |\n"
     ]
    },
    {
     "name": "stderr",
     "output_type": "stream",
     "text": [
      "[I 2024-10-10 00:51:29,996] Trial 392 finished with value: 1.0847784200385358 and parameters: {'lr': 0.000182252012291454, 'collect_input': True, 'collect_hs': False, 'nb': 18, 'Htype': 'etherplus', 'flip_side': True, 'reduction': 210, 'β': 1.2278300683884635, 'use_orth_loss': True, 'use_angle_loss': True, 'use_dpo_loss': False, 'use_nll_loss': True, 'weight_tokens': True, 'use_proj_rel': True}. Best is trial 24 with value: 1.183044315992293.\n"
     ]
    },
    {
     "name": "stdout",
     "output_type": "stream",
     "text": [
      "\n",
      "| acc_inc/eval_ds [pp]                                                                                                                                                                                                                          |   train |   test |   oos |    rnd |\n",
      "|:----------------------------------------------------------------------------------------------------------------------------------------------------------------------------------------------------------------------------------------------|--------:|-------:|------:|-------:|\n",
      "| ReprPO collect_input=True prefvec.use_nll_prefvec=True prefvec.use_orth_prefvec=True prefvec.use_proj_rel=True prefvec.weight_tokens=True prefvec.β=1.2 lr=0.00018 ether.Htype=etherplus ether.flip_side=True ether.nb=18 ether.reduction=210 |   1.653 |  0.787 | 8.478 | -1.754 |\n"
     ]
    },
    {
     "name": "stderr",
     "output_type": "stream",
     "text": [
      "[I 2024-10-10 00:54:52,293] Trial 393 finished with value: 1.1791907514450868 and parameters: {'lr': 0.0003622341128872528, 'collect_input': True, 'collect_hs': False, 'nb': 24, 'Htype': 'oft', 'flip_side': True, 'reduction': 410, 'β': 1.5579990746244934, 'use_orth_loss': True, 'use_angle_loss': True, 'use_dpo_loss': False, 'use_nll_loss': True, 'weight_tokens': True, 'use_proj_rel': False}. Best is trial 24 with value: 1.183044315992293.\n"
     ]
    },
    {
     "name": "stdout",
     "output_type": "stream",
     "text": [
      "\n",
      "| acc_inc/eval_ds [pp]                                                                                                                                                                                          |   train |   test |    oos |    rnd |\n",
      "|:--------------------------------------------------------------------------------------------------------------------------------------------------------------------------------------------------------------|--------:|-------:|-------:|-------:|\n",
      "| ReprPO collect_input=True prefvec.use_nll_prefvec=True prefvec.use_orth_prefvec=True prefvec.weight_tokens=True prefvec.β=1.6 lr=0.00036 ether.Htype=oft ether.flip_side=True ether.nb=24 ether.reduction=410 |   3.306 |      0 | 17.919 | -7.018 |\n"
     ]
    },
    {
     "name": "stderr",
     "output_type": "stream",
     "text": [
      "[I 2024-10-10 00:58:15,681] Trial 394 finished with value: 1.1791907514450868 and parameters: {'lr': 0.00037029350387266196, 'collect_input': True, 'collect_hs': False, 'nb': 24, 'Htype': 'ether', 'flip_side': False, 'reduction': 447, 'β': 1.990749396920828, 'use_orth_loss': True, 'use_angle_loss': True, 'use_dpo_loss': False, 'use_nll_loss': True, 'weight_tokens': True, 'use_proj_rel': False}. Best is trial 24 with value: 1.183044315992293.\n"
     ]
    },
    {
     "name": "stdout",
     "output_type": "stream",
     "text": [
      "\n",
      "| acc_inc/eval_ds [pp]                                                                                                                                                                     |   train |   test |    oos |     rnd |\n",
      "|:-----------------------------------------------------------------------------------------------------------------------------------------------------------------------------------------|--------:|-------:|-------:|--------:|\n",
      "| ReprPO collect_input=True prefvec.use_nll_prefvec=True prefvec.use_orth_prefvec=True prefvec.weight_tokens=True prefvec.β=2 lr=0.00037 ether.Htype=ether ether.nb=24 ether.reduction=447 |   2.479 |      0 | 17.919 | -14.035 |\n"
     ]
    },
    {
     "name": "stderr",
     "output_type": "stream",
     "text": [
      "[I 2024-10-10 01:01:39,512] Trial 395 finished with value: 1.0096339113680155 and parameters: {'lr': 2.420390892805113e-06, 'collect_input': True, 'collect_hs': False, 'nb': 24, 'Htype': 'ether', 'flip_side': True, 'reduction': 6, 'β': 1.9862969068149734, 'use_orth_loss': True, 'use_angle_loss': True, 'use_dpo_loss': False, 'use_nll_loss': True, 'weight_tokens': True, 'use_proj_rel': False}. Best is trial 24 with value: 1.183044315992293.\n"
     ]
    },
    {
     "name": "stdout",
     "output_type": "stream",
     "text": [
      "\n",
      "| acc_inc/eval_ds [pp]                                                                                                                                                                                        |   train |   test |   oos |   rnd |\n",
      "|:------------------------------------------------------------------------------------------------------------------------------------------------------------------------------------------------------------|--------:|-------:|------:|------:|\n",
      "| ReprPO collect_input=True prefvec.use_nll_prefvec=True prefvec.use_orth_prefvec=True prefvec.weight_tokens=True prefvec.β=2 lr=2.4e-06 ether.Htype=ether ether.flip_side=True ether.nb=24 ether.reduction=6 |       0 |      0 | 0.963 | 5.263 |\n"
     ]
    },
    {
     "name": "stderr",
     "output_type": "stream",
     "text": [
      "[I 2024-10-10 01:05:00,726] Trial 396 finished with value: 1.0 and parameters: {'lr': 4.740736011653789e-07, 'collect_input': True, 'collect_hs': False, 'nb': 26, 'Htype': 'ether', 'flip_side': False, 'reduction': 509, 'β': 1.9898708876440319, 'use_orth_loss': True, 'use_angle_loss': True, 'use_dpo_loss': False, 'use_nll_loss': True, 'weight_tokens': True, 'use_proj_rel': False}. Best is trial 24 with value: 1.183044315992293.\n"
     ]
    },
    {
     "name": "stdout",
     "output_type": "stream",
     "text": [
      "\n",
      "| acc_inc/eval_ds [pp]                                                                                                                                                                     |   train |   test |   oos |   rnd |\n",
      "|:-----------------------------------------------------------------------------------------------------------------------------------------------------------------------------------------|--------:|-------:|------:|------:|\n",
      "| ReprPO collect_input=True prefvec.use_nll_prefvec=True prefvec.use_orth_prefvec=True prefvec.weight_tokens=True prefvec.β=2 lr=4.7e-07 ether.Htype=ether ether.nb=26 ether.reduction=509 |       0 |      0 |     0 | 5.263 |\n"
     ]
    },
    {
     "name": "stderr",
     "output_type": "stream",
     "text": [
      "[I 2024-10-10 01:05:02,169] Using an existing study with name 'dpo' instead of creating a new one.\n"
     ]
    },
    {
     "name": "stdout",
     "output_type": "stream",
     "text": [
      "================================================================================\n",
      "loaded 250 dpo trials\n"
     ]
    },
    {
     "name": "stderr",
     "output_type": "stream",
     "text": [
      "[I 2024-10-10 01:05:03,729] Using an existing study with name 'hs-svd-mse' instead of creating a new one.\n"
     ]
    },
    {
     "name": "stdout",
     "output_type": "stream",
     "text": [
      "| dpo N=✓248/250, best=1.276   |   importance |        best |\n",
      "|:-----------------------------|-------------:|------------:|\n",
      "| lr                           |            1 | 0.000264989 |\n",
      "================================================================================\n",
      "loaded 332 hs-svd-mse trials\n"
     ]
    },
    {
     "name": "stderr",
     "output_type": "stream",
     "text": [
      "[I 2024-10-10 01:05:04,543] Using an existing study with name 'hs-hra-rank' instead of creating a new one.\n"
     ]
    },
    {
     "name": "stdout",
     "output_type": "stream",
     "text": [
      "| hs-svd-mse N=✓14/332, best=1.017   |   importance | best                  |\n",
      "|:-----------------------------------|-------------:|:----------------------|\n",
      "| lr                                 |        0.917 | 0.0011948328168545441 |\n",
      "| α                                  |        0.06  | 0.6355835028602363    |\n",
      "| collect_hs                         |        0.013 | True                  |\n",
      "| quantile                           |        0.011 | float                 |\n",
      "| collect_input                      |        0     | False                 |\n",
      "| dual_svd                           |        0     | True                  |\n",
      "| quantile_value                     |      nan     | 0.30000000000000004   |\n",
      "================================================================================\n",
      "loaded 262 hs-hra-rank trials\n"
     ]
    },
    {
     "name": "stderr",
     "output_type": "stream",
     "text": [
      "[I 2024-10-10 01:05:07,634] Using an existing study with name 'hs-ortho-prefvec' instead of creating a new one.\n"
     ]
    },
    {
     "name": "stdout",
     "output_type": "stream",
     "text": [
      "| hs-hra-rank N=✓259/262, best=1.152   |   importance |         best |\n",
      "|:-------------------------------------|-------------:|-------------:|\n",
      "| lr                                   |        0.857 |  0.000332682 |\n",
      "| β                                    |        0.073 |  0.37992     |\n",
      "| r                                    |        0.067 | 38           |\n",
      "| apply_GS                             |        0.002 |  1           |\n",
      "| α                                    |        0     |  0.280164    |\n",
      "================================================================================\n",
      "loaded 261 hs-ortho-prefvec trials\n"
     ]
    },
    {
     "name": "stderr",
     "output_type": "stream",
     "text": [
      "[I 2024-10-10 01:05:10,300] Using an existing study with name 'hs-svd-mse' instead of creating a new one.\n"
     ]
    },
    {
     "name": "stdout",
     "output_type": "stream",
     "text": [
      "| hs-ortho-prefvec N=✓259/261, best=1.152   |   importance | best                   |\n",
      "|:------------------------------------------|-------------:|:-----------------------|\n",
      "| lr                                        |        0.923 | 0.00041061394065629645 |\n",
      "| β                                         |        0.034 | 1.970152011478674      |\n",
      "| orthogonal_map                            |        0.011 | matrix_exp             |\n",
      "| use_angle_loss                            |        0.01  | True                   |\n",
      "| use_nll_loss                              |        0.009 | True                   |\n",
      "| use_dpo_loss                              |        0.006 | False                  |\n",
      "| use_orth_loss                             |        0.002 | True                   |\n",
      "| use_proj_rel                              |        0.002 | True                   |\n",
      "| weight_tokens                             |        0.002 | False                  |\n",
      "================================================================================\n",
      "loaded 332 hs-svd-mse trials\n"
     ]
    },
    {
     "name": "stderr",
     "output_type": "stream",
     "text": [
      "[I 2024-10-10 01:05:11,152] Using an existing study with name 'dpo' instead of creating a new one.\n"
     ]
    },
    {
     "name": "stdout",
     "output_type": "stream",
     "text": [
      "| hs-svd-mse N=✓14/332, best=1.017   |   importance | best                  |\n",
      "|:-----------------------------------|-------------:|:----------------------|\n",
      "| lr                                 |        0.988 | 0.0011948328168545441 |\n",
      "| dual_svd                           |        0.012 | True                  |\n",
      "| α                                  |        0     | 0.6355835028602363    |\n",
      "| collect_input                      |        0     | False                 |\n",
      "| quantile                           |        0     | float                 |\n",
      "| collect_hs                         |        0     | True                  |\n",
      "| quantile_value                     |      nan     | 0.30000000000000004   |\n",
      "================================================================================\n",
      "loaded 250 dpo trials\n",
      "| dpo N=✓248/250, best=1.276   |   importance |        best |\n",
      "|:-----------------------------|-------------:|------------:|\n",
      "| lr                           |            1 | 0.000264989 |\n",
      "================================================================================\n"
     ]
    },
    {
     "name": "stderr",
     "output_type": "stream",
     "text": [
      "[I 2024-10-10 01:05:12,800] Using an existing study with name 'projgrad3' instead of creating a new one.\n"
     ]
    },
    {
     "name": "stdout",
     "output_type": "stream",
     "text": [
      "loaded 288 projgrad3 trials\n",
      "| projgrad3 N=✓287/288, best=1.279   |   importance | best                  |\n",
      "|:-----------------------------------|-------------:|:----------------------|\n",
      "| lr                                 |        0.937 | 0.0002320529194140666 |\n",
      "| β                                  |        0.035 | 0.8426788311104311    |\n",
      "| reverse_pref                       |        0.007 | True                  |\n",
      "| scale_orth                         |        0.006 | False                 |\n",
      "| neg_slope                          |        0.005 | 0                     |\n",
      "| weight_dim                         |        0.005 | 1                     |\n",
      "| mag_clip                           |        0.005 | float                 |\n",
      "| mag_clip_value                     |      nan     | 0.2300957741124143    |\n"
     ]
    },
    {
     "name": "stderr",
     "output_type": "stream",
     "text": [
      "[I 2024-10-10 01:08:41,826] Trial 288 finished with value: 1.2350674373795762 and parameters: {'lr': 0.00018065604839786852, 'β': 0.5034525956014603, 'reverse_pref': True, 'scale_orth': False, 'weight_dim': 1, 'neg_slope': 0, 'mag_clip': None}. Best is trial 119 with value: 1.2793834296724471.\n"
     ]
    },
    {
     "name": "stdout",
     "output_type": "stream",
     "text": [
      "\n",
      "| acc_inc/eval_ds [pp]                                                |   train |   test |    oos |   rnd |\n",
      "|:--------------------------------------------------------------------|--------:|-------:|-------:|------:|\n",
      "| ProjGrad lr=0.00018 neg_slope=0 scale_orth=False weight_dim=1 β=0.5 |   5.785 | -0.787 | 23.507 | 8.772 |\n"
     ]
    },
    {
     "name": "stderr",
     "output_type": "stream",
     "text": [
      "[I 2024-10-10 01:12:11,330] Trial 289 finished with value: 0.9730250481695569 and parameters: {'lr': 0.0004061360837603863, 'β': 0.5053765539784233, 'reverse_pref': True, 'scale_orth': False, 'weight_dim': 1, 'neg_slope': 0, 'mag_clip': None}. Best is trial 119 with value: 1.2793834296724471.\n"
     ]
    },
    {
     "name": "stdout",
     "output_type": "stream",
     "text": [
      "\n",
      "| acc_inc/eval_ds [pp]                                                 |   train |   test |    oos |    rnd |\n",
      "|:---------------------------------------------------------------------|--------:|-------:|-------:|-------:|\n",
      "| ProjGrad lr=0.00041 neg_slope=0 scale_orth=False weight_dim=1 β=0.51 |   3.306 | -2.362 | -2.697 | 14.035 |\n"
     ]
    },
    {
     "name": "stderr",
     "output_type": "stream",
     "text": [
      "[I 2024-10-10 01:15:39,152] Trial 290 finished with value: 1.1637764932562622 and parameters: {'lr': 0.00028337601130431426, 'β': 0.5152230959191544, 'reverse_pref': True, 'scale_orth': False, 'weight_dim': 1, 'neg_slope': 0, 'mag_clip': None}. Best is trial 119 with value: 1.2793834296724471.\n"
     ]
    },
    {
     "name": "stdout",
     "output_type": "stream",
     "text": [
      "\n",
      "| acc_inc/eval_ds [pp]                                                 |   train |   test |    oos |    rnd |\n",
      "|:---------------------------------------------------------------------|--------:|-------:|-------:|-------:|\n",
      "| ProjGrad lr=0.00028 neg_slope=0 scale_orth=False weight_dim=1 β=0.52 |   5.785 |      0 | 16.378 | 21.053 |\n"
     ]
    },
    {
     "name": "stderr",
     "output_type": "stream",
     "text": [
      "[I 2024-10-10 01:19:09,223] Trial 291 finished with value: 1.1714836223506744 and parameters: {'lr': 0.0001458150637486388, 'β': 0.5574990100904044, 'reverse_pref': True, 'scale_orth': False, 'weight_dim': 1, 'neg_slope': 0, 'mag_clip': None}. Best is trial 119 with value: 1.2793834296724471.\n"
     ]
    },
    {
     "name": "stdout",
     "output_type": "stream",
     "text": [
      "\n",
      "| acc_inc/eval_ds [pp]                                                 |   train |   test |    oos |    rnd |\n",
      "|:---------------------------------------------------------------------|--------:|-------:|-------:|-------:|\n",
      "| ProjGrad lr=0.00015 neg_slope=0 scale_orth=False weight_dim=1 β=0.56 |   4.959 |      0 | 17.148 | 15.789 |\n"
     ]
    },
    {
     "name": "stderr",
     "output_type": "stream",
     "text": [
      "[I 2024-10-10 01:22:34,156] Trial 292 finished with value: 1.2562620423892101 and parameters: {'lr': 0.00021883571217899654, 'β': 0.4834384537943639, 'reverse_pref': True, 'scale_orth': False, 'weight_dim': 1, 'neg_slope': 0, 'mag_clip': None}. Best is trial 119 with value: 1.2793834296724471.\n"
     ]
    },
    {
     "name": "stdout",
     "output_type": "stream",
     "text": [
      "\n",
      "| acc_inc/eval_ds [pp]                                                 |   train |   test |    oos |    rnd |\n",
      "|:---------------------------------------------------------------------|--------:|-------:|-------:|-------:|\n",
      "| ProjGrad lr=0.00022 neg_slope=0 scale_orth=False weight_dim=1 β=0.48 |   4.132 |  0.787 | 25.626 | 26.316 |\n"
     ]
    },
    {
     "name": "stderr",
     "output_type": "stream",
     "text": [
      "[I 2024-10-10 01:26:05,044] Trial 293 finished with value: 1.0770712909441233 and parameters: {'lr': 0.00012055264068518193, 'β': 0.4642901619020581, 'reverse_pref': True, 'scale_orth': False, 'weight_dim': 1, 'neg_slope': 0, 'mag_clip': None}. Best is trial 119 with value: 1.2793834296724471.\n"
     ]
    },
    {
     "name": "stdout",
     "output_type": "stream",
     "text": [
      "\n",
      "| acc_inc/eval_ds [pp]                                                 |   train |   test |   oos |    rnd |\n",
      "|:---------------------------------------------------------------------|--------:|-------:|------:|-------:|\n",
      "| ProjGrad lr=0.00012 neg_slope=0 scale_orth=False weight_dim=1 β=0.46 |   5.785 | -1.575 | 7.707 | 15.789 |\n"
     ]
    },
    {
     "name": "stderr",
     "output_type": "stream",
     "text": [
      "[I 2024-10-10 01:29:31,985] Trial 294 finished with value: 1.1290944123314066 and parameters: {'lr': 0.00021322771438160254, 'β': 0.49118373254023034, 'reverse_pref': True, 'scale_orth': False, 'weight_dim': 1, 'neg_slope': 0, 'mag_clip': None}. Best is trial 119 with value: 1.2793834296724471.\n"
     ]
    },
    {
     "name": "stdout",
     "output_type": "stream",
     "text": [
      "\n",
      "| acc_inc/eval_ds [pp]                                                 |   train |   test |    oos |    rnd |\n",
      "|:---------------------------------------------------------------------|--------:|-------:|-------:|-------:|\n",
      "| ProjGrad lr=0.00021 neg_slope=0 scale_orth=False weight_dim=1 β=0.49 |   5.785 |  0.787 | 12.909 | 17.544 |\n"
     ]
    },
    {
     "name": "stderr",
     "output_type": "stream",
     "text": [
      "[I 2024-10-10 01:33:02,508] Trial 295 finished with value: 1.252408477842004 and parameters: {'lr': 0.00016814764538448286, 'β': 0.5168444543925956, 'reverse_pref': True, 'scale_orth': False, 'weight_dim': 1, 'neg_slope': 0, 'mag_clip': None}. Best is trial 119 with value: 1.2793834296724471.\n"
     ]
    },
    {
     "name": "stdout",
     "output_type": "stream",
     "text": [
      "\n",
      "| acc_inc/eval_ds [pp]                                                 |   train |   test |    oos |   rnd |\n",
      "|:---------------------------------------------------------------------|--------:|-------:|-------:|------:|\n",
      "| ProjGrad lr=0.00017 neg_slope=0 scale_orth=False weight_dim=1 β=0.52 |   5.785 | -0.787 | 25.241 | 8.772 |\n"
     ]
    },
    {
     "name": "stderr",
     "output_type": "stream",
     "text": [
      "[I 2024-10-10 01:36:29,519] Trial 296 finished with value: 1.23121387283237 and parameters: {'lr': 0.00015609839122491016, 'β': 0.5183379937928533, 'reverse_pref': True, 'scale_orth': False, 'weight_dim': 1, 'neg_slope': 0, 'mag_clip': None}. Best is trial 119 with value: 1.2793834296724471.\n"
     ]
    },
    {
     "name": "stdout",
     "output_type": "stream",
     "text": [
      "\n",
      "| acc_inc/eval_ds [pp]                                                 |   train |   test |    oos |   rnd |\n",
      "|:---------------------------------------------------------------------|--------:|-------:|-------:|------:|\n",
      "| ProjGrad lr=0.00016 neg_slope=0 scale_orth=False weight_dim=1 β=0.52 |   5.785 |      0 | 23.121 | 7.018 |\n"
     ]
    },
    {
     "name": "stderr",
     "output_type": "stream",
     "text": [
      "[I 2024-10-10 01:39:56,815] Trial 297 finished with value: 1.0578034682080926 and parameters: {'lr': 7.187191577364826e-05, 'β': 0.4773208798330544, 'reverse_pref': True, 'scale_orth': False, 'weight_dim': 1, 'neg_slope': 0, 'mag_clip': None}. Best is trial 119 with value: 1.2793834296724471.\n"
     ]
    },
    {
     "name": "stdout",
     "output_type": "stream",
     "text": [
      "\n",
      "| acc_inc/eval_ds [pp]                                                 |   train |   test |   oos |   rnd |\n",
      "|:---------------------------------------------------------------------|--------:|-------:|------:|------:|\n",
      "| ProjGrad lr=7.2e-05 neg_slope=0 scale_orth=False weight_dim=1 β=0.48 |   5.785 | -0.787 |  5.78 | 7.018 |\n"
     ]
    },
    {
     "name": "stderr",
     "output_type": "stream",
     "text": [
      "[I 2024-10-10 01:43:24,376] Trial 298 finished with value: 1.1541425818882467 and parameters: {'lr': 0.00014537405540722962, 'β': 0.5121813617641102, 'reverse_pref': True, 'scale_orth': False, 'weight_dim': 1, 'neg_slope': 0, 'mag_clip': None}. Best is trial 119 with value: 1.2793834296724471.\n"
     ]
    },
    {
     "name": "stdout",
     "output_type": "stream",
     "text": [
      "\n",
      "| acc_inc/eval_ds [pp]                                                 |   train |   test |    oos |   rnd |\n",
      "|:---------------------------------------------------------------------|--------:|-------:|-------:|------:|\n",
      "| ProjGrad lr=0.00015 neg_slope=0 scale_orth=False weight_dim=1 β=0.51 |   4.959 | -3.937 | 15.414 | 28.07 |\n",
      "\n",
      "| acc_inc/eval_ds [pp]                                                 |   train |   test |    oos |    rnd |\n",
      "|:---------------------------------------------------------------------|--------:|-------:|-------:|-------:|\n",
      "| ProjGrad lr=9.2e-05 neg_slope=0 scale_orth=False weight_dim=1 β=0.51 |   5.785 |      0 | 14.258 | 10.526 |\n"
     ]
    },
    {
     "name": "stderr",
     "output_type": "stream",
     "text": [
      "[I 2024-10-10 01:46:54,080] Trial 299 finished with value: 1.142581888246628 and parameters: {'lr': 9.170456897522397e-05, 'β': 0.5064722286717723, 'reverse_pref': True, 'scale_orth': False, 'weight_dim': 1, 'neg_slope': 0, 'mag_clip': None}. Best is trial 119 with value: 1.2793834296724471.\n",
      "[I 2024-10-10 01:50:18,848] Trial 300 finished with value: 1.1387283236994221 and parameters: {'lr': 0.0001131192439876367, 'β': 0.49430609135916254, 'reverse_pref': True, 'scale_orth': False, 'weight_dim': 1, 'neg_slope': 0, 'mag_clip': None}. Best is trial 119 with value: 1.2793834296724471.\n"
     ]
    },
    {
     "name": "stdout",
     "output_type": "stream",
     "text": [
      "\n",
      "| acc_inc/eval_ds [pp]                                                 |   train |   test |    oos |    rnd |\n",
      "|:---------------------------------------------------------------------|--------:|-------:|-------:|-------:|\n",
      "| ProjGrad lr=0.00011 neg_slope=0 scale_orth=False weight_dim=1 β=0.49 |   5.785 | -1.575 | 13.873 | 10.526 |\n"
     ]
    },
    {
     "name": "stderr",
     "output_type": "stream",
     "text": [
      "[I 2024-10-10 01:53:44,039] Trial 301 finished with value: 1.1522157996146436 and parameters: {'lr': 0.00016455222241211853, 'β': 0.5495663920962469, 'reverse_pref': True, 'scale_orth': False, 'weight_dim': 1, 'neg_slope': 0, 'mag_clip': None}. Best is trial 119 with value: 1.2793834296724471.\n"
     ]
    },
    {
     "name": "stdout",
     "output_type": "stream",
     "text": [
      "\n",
      "| acc_inc/eval_ds [pp]                                                 |   train |   test |    oos |    rnd |\n",
      "|:---------------------------------------------------------------------|--------:|-------:|-------:|-------:|\n",
      "| ProjGrad lr=0.00016 neg_slope=0 scale_orth=False weight_dim=1 β=0.55 |   5.785 | -0.787 | 15.222 | 15.789 |\n"
     ]
    },
    {
     "name": "stderr",
     "output_type": "stream",
     "text": [
      "[I 2024-10-10 01:57:08,142] Trial 302 finished with value: 0.9383429672447013 and parameters: {'lr': 0.00022942582178428817, 'β': 0.48323430465841805, 'reverse_pref': True, 'scale_orth': False, 'weight_dim': 1, 'neg_slope': 0, 'mag_clip': None}. Best is trial 119 with value: 1.2793834296724471.\n"
     ]
    },
    {
     "name": "stdout",
     "output_type": "stream",
     "text": [
      "\n",
      "| acc_inc/eval_ds [pp]                                                 |   train |   test |    oos |    rnd |\n",
      "|:---------------------------------------------------------------------|--------:|-------:|-------:|-------:|\n",
      "| ProjGrad lr=0.00023 neg_slope=0 scale_orth=False weight_dim=1 β=0.48 |   2.479 | -2.362 | -6.166 | 22.807 |\n"
     ]
    },
    {
     "name": "stderr",
     "output_type": "stream",
     "text": [
      "[I 2024-10-10 02:00:32,228] Trial 303 finished with value: 1.1926782273603085 and parameters: {'lr': 0.00019511711363756826, 'β': 0.4569531738890666, 'reverse_pref': True, 'scale_orth': True, 'weight_dim': 1, 'neg_slope': 0, 'mag_clip': None}. Best is trial 119 with value: 1.2793834296724471.\n"
     ]
    },
    {
     "name": "stdout",
     "output_type": "stream",
     "text": [
      "\n",
      "| acc_inc/eval_ds [pp]                               |   train |   test |    oos |   rnd |\n",
      "|:---------------------------------------------------|--------:|-------:|-------:|------:|\n",
      "| ProjGrad lr=0.0002 neg_slope=0 weight_dim=1 β=0.46 |   5.785 | -1.575 | 19.268 | 8.772 |\n"
     ]
    },
    {
     "name": "stderr",
     "output_type": "stream",
     "text": [
      "[I 2024-10-10 02:03:57,537] Trial 304 finished with value: 1.1522157996146436 and parameters: {'lr': 0.00013445396052355713, 'β': 0.5324294518743463, 'reverse_pref': True, 'scale_orth': False, 'weight_dim': 2, 'neg_slope': 0, 'mag_clip': None}. Best is trial 119 with value: 1.2793834296724471.\n"
     ]
    },
    {
     "name": "stdout",
     "output_type": "stream",
     "text": [
      "\n",
      "| acc_inc/eval_ds [pp]                                                 |   train |   test |    oos |    rnd |\n",
      "|:---------------------------------------------------------------------|--------:|-------:|-------:|-------:|\n",
      "| ProjGrad lr=0.00013 neg_slope=0 scale_orth=False weight_dim=2 β=0.53 |   5.785 |  0.787 | 15.222 | 33.333 |\n"
     ]
    },
    {
     "name": "stderr",
     "output_type": "stream",
     "text": [
      "[I 2024-10-10 02:07:23,800] Trial 305 finished with value: 1.1907514450867052 and parameters: {'lr': 0.00025577556259629255, 'β': 0.6149517649287, 'reverse_pref': True, 'scale_orth': False, 'weight_dim': 1, 'neg_slope': 0, 'mag_clip': None}. Best is trial 119 with value: 1.2793834296724471.\n"
     ]
    },
    {
     "name": "stdout",
     "output_type": "stream",
     "text": [
      "\n",
      "| acc_inc/eval_ds [pp]                                                 |   train |   test |    oos |    rnd |\n",
      "|:---------------------------------------------------------------------|--------:|-------:|-------:|-------:|\n",
      "| ProjGrad lr=0.00026 neg_slope=0 scale_orth=False weight_dim=1 β=0.61 |   5.785 | -3.937 | 19.075 | 14.035 |\n"
     ]
    },
    {
     "name": "stderr",
     "output_type": "stream",
     "text": [
      "[I 2024-10-10 02:10:48,168] Trial 306 finished with value: 1.134874759152216 and parameters: {'lr': 0.00032331999768585583, 'β': 0.019515034516452756, 'reverse_pref': True, 'scale_orth': False, 'weight_dim': 1, 'neg_slope': 0, 'mag_clip': None}. Best is trial 119 with value: 1.2793834296724471.\n"
     ]
    },
    {
     "name": "stdout",
     "output_type": "stream",
     "text": [
      "\n",
      "| acc_inc/eval_ds [pp]                                                 |   train |   test |    oos |   rnd |\n",
      "|:---------------------------------------------------------------------|--------:|-------:|-------:|------:|\n",
      "| ProjGrad lr=0.00032 neg_slope=0 scale_orth=False weight_dim=1 β=0.02 |   4.959 |      0 | 13.487 | 3.509 |\n"
     ]
    },
    {
     "name": "stderr",
     "output_type": "stream",
     "text": [
      "[I 2024-10-10 02:14:15,519] Trial 307 finished with value: 1.1984585741811176 and parameters: {'lr': 0.00017037071654681031, 'β': 0.5194625989397272, 'reverse_pref': True, 'scale_orth': False, 'weight_dim': 1, 'neg_slope': 0, 'mag_clip': None}. Best is trial 119 with value: 1.2793834296724471.\n"
     ]
    },
    {
     "name": "stdout",
     "output_type": "stream",
     "text": [
      "\n",
      "| acc_inc/eval_ds [pp]                                                 |   train |   test |    oos |   rnd |\n",
      "|:---------------------------------------------------------------------|--------:|-------:|-------:|------:|\n",
      "| ProjGrad lr=0.00017 neg_slope=0 scale_orth=False weight_dim=1 β=0.52 |   4.959 | -0.787 | 19.846 | 8.772 |\n"
     ]
    },
    {
     "name": "stderr",
     "output_type": "stream",
     "text": [
      "[I 2024-10-10 02:14:17,043] Using an existing study with name 'projbp' instead of creating a new one.\n"
     ]
    },
    {
     "name": "stdout",
     "output_type": "stream",
     "text": [
      "================================================================================\n",
      "loaded 443 projbp trials\n",
      "| projbp N=✓307/443, best=1.087   |   importance | best                  |\n",
      "|:--------------------------------|-------------:|:----------------------|\n",
      "| scale_orth                      |        0.548 | False                 |\n",
      "| β                               |        0.227 | 0.1595109921525391    |\n",
      "| lr                              |        0.213 | 7.386392996137403e-06 |\n",
      "| mag_clip                        |        0.007 | float                 |\n",
      "| neg_slope                       |        0.003 | float                 |\n",
      "| reverse_pref                    |        0.001 | True                  |\n",
      "| mag_clip_value                  |      nan     | 0.623815049872941     |\n",
      "| neg_slope_value                 |      nan     | 0.8696277824723643    |\n"
     ]
    },
    {
     "name": "stderr",
     "output_type": "stream",
     "text": [
      "[I 2024-10-10 02:17:59,009] Trial 443 finished with value: 1.0789980732177264 and parameters: {'lr': 7.576874026444231e-06, 'β': 0.08464287162802445, 'reverse_pref': True, 'scale_orth': False, 'neg_slope': 'float', 'mag_clip': 'float', 'mag_clip_value': 1.0886862392464254, 'neg_slope_value': 0.8935610855947312}. Best is trial 438 with value: 1.0867052023121389.\n"
     ]
    },
    {
     "name": "stdout",
     "output_type": "stream",
     "text": [
      "\n",
      "| acc_inc/eval_ds [pp]                                                    |   train |   test |   oos |     rnd |\n",
      "|:------------------------------------------------------------------------|--------:|-------:|------:|--------:|\n",
      "| ProjBP lr=7.6e-06 mag_clip=1.1 neg_slope=0.89 reverse_pref=True β=0.085 |   4.132 |      0 |   7.9 | -14.035 |\n"
     ]
    },
    {
     "name": "stderr",
     "output_type": "stream",
     "text": [
      "[I 2024-10-10 02:21:40,725] Trial 444 finished with value: 1.023121387283237 and parameters: {'lr': 1.0134045538278059e-05, 'β': 0.08054036915742883, 'reverse_pref': True, 'scale_orth': False, 'neg_slope': 'float', 'mag_clip': 'float', 'mag_clip_value': 0.037243680191212415, 'neg_slope_value': 0.8946604468326165}. Best is trial 438 with value: 1.0867052023121389.\n"
     ]
    },
    {
     "name": "stdout",
     "output_type": "stream",
     "text": [
      "\n",
      "| acc_inc/eval_ds [pp]                                                    |   train |   test |   oos |    rnd |\n",
      "|:------------------------------------------------------------------------|--------:|-------:|------:|-------:|\n",
      "| ProjBP lr=1e-05 mag_clip=0.037 neg_slope=0.89 reverse_pref=True β=0.081 |   0.826 |      0 | 2.312 | -3.509 |\n"
     ]
    },
    {
     "name": "stderr",
     "output_type": "stream",
     "text": [
      "[I 2024-10-10 02:25:19,940] Trial 445 finished with value: 1.0597302504816957 and parameters: {'lr': 8.033285223314933e-06, 'β': 0.043198809899473445, 'reverse_pref': True, 'scale_orth': False, 'neg_slope': 'float', 'mag_clip': 'float', 'mag_clip_value': 0.5515033843234458, 'neg_slope_value': 0.8845899079445151}. Best is trial 438 with value: 1.0867052023121389.\n"
     ]
    },
    {
     "name": "stdout",
     "output_type": "stream",
     "text": [
      "\n",
      "| acc_inc/eval_ds [pp]                                                   |   train |   test |   oos |     rnd |\n",
      "|:-----------------------------------------------------------------------|--------:|-------:|------:|--------:|\n",
      "| ProjBP lr=8e-06 mag_clip=0.55 neg_slope=0.88 reverse_pref=True β=0.043 |   1.653 | -0.787 | 5.973 | -15.789 |\n"
     ]
    },
    {
     "name": "stderr",
     "output_type": "stream",
     "text": [
      "[I 2024-10-10 02:28:59,960] Trial 446 finished with value: 1.0539499036608864 and parameters: {'lr': 9.283828452694044e-06, 'β': 0.18922770817622173, 'reverse_pref': True, 'scale_orth': False, 'neg_slope': 'float', 'mag_clip': 'float', 'mag_clip_value': 1.1121364119274126, 'neg_slope_value': 0.8488105858960359}. Best is trial 438 with value: 1.0867052023121389.\n"
     ]
    },
    {
     "name": "stdout",
     "output_type": "stream",
     "text": [
      "\n",
      "| acc_inc/eval_ds [pp]                                                   |   train |   test |   oos |   rnd |\n",
      "|:-----------------------------------------------------------------------|--------:|-------:|------:|------:|\n",
      "| ProjBP lr=9.3e-06 mag_clip=1.1 neg_slope=0.85 reverse_pref=True β=0.19 |   0.826 |      0 | 5.395 | 3.509 |\n",
      "\n",
      "| acc_inc/eval_ds [pp]                                                    |   train |   test |   oos |     rnd |\n",
      "|:------------------------------------------------------------------------|--------:|-------:|------:|--------:|\n",
      "| ProjBP lr=7.4e-06 mag_clip=1.6 neg_slope=0.92 reverse_pref=True β=0.062 |   3.306 | -0.787 | 6.936 | -12.281 |\n"
     ]
    },
    {
     "name": "stderr",
     "output_type": "stream",
     "text": [
      "[I 2024-10-10 02:32:39,250] Trial 447 finished with value: 1.069364161849711 and parameters: {'lr': 7.3607791715183645e-06, 'β': 0.06168627291717049, 'reverse_pref': True, 'scale_orth': False, 'neg_slope': 'float', 'mag_clip': 'float', 'mag_clip_value': 1.6163208075277085, 'neg_slope_value': 0.9153005583303693}. Best is trial 438 with value: 1.0867052023121389.\n",
      "[I 2024-10-10 02:36:17,597] Trial 448 finished with value: 0.47784200385356457 and parameters: {'lr': 1.3310567310454428e-05, 'β': 0.10626464646382408, 'reverse_pref': True, 'scale_orth': False, 'neg_slope': 'float', 'mag_clip': 'float', 'mag_clip_value': 1.0021404640769274, 'neg_slope_value': 0.817552975382723}. Best is trial 438 with value: 1.0867052023121389.\n"
     ]
    },
    {
     "name": "stdout",
     "output_type": "stream",
     "text": [
      "\n",
      "| acc_inc/eval_ds [pp]                                                 |   train |    test |     oos |   rnd |\n",
      "|:---------------------------------------------------------------------|--------:|--------:|--------:|------:|\n",
      "| ProjBP lr=1.3e-05 mag_clip=1 neg_slope=0.82 reverse_pref=True β=0.11 | -33.058 | -26.772 | -52.216 | 3.509 |\n"
     ]
    },
    {
     "name": "stderr",
     "output_type": "stream",
     "text": [
      "[I 2024-10-10 02:39:59,861] Trial 449 finished with value: 1.0789980732177264 and parameters: {'lr': 7.566496926562851e-06, 'β': 0.13120739513065655, 'reverse_pref': True, 'scale_orth': False, 'neg_slope': 'float', 'mag_clip': 'float', 'mag_clip_value': 0.6245605149180299, 'neg_slope_value': 0.8419830627482807}. Best is trial 438 with value: 1.0867052023121389.\n"
     ]
    },
    {
     "name": "stdout",
     "output_type": "stream",
     "text": [
      "\n",
      "| acc_inc/eval_ds [pp]                                                    |   train |   test |   oos |    rnd |\n",
      "|:------------------------------------------------------------------------|--------:|-------:|------:|-------:|\n",
      "| ProjBP lr=7.6e-06 mag_clip=0.62 neg_slope=0.84 reverse_pref=True β=0.13 |   3.306 | -0.787 |   7.9 | -7.018 |\n"
     ]
    },
    {
     "name": "stderr",
     "output_type": "stream",
     "text": [
      "[I 2024-10-10 02:43:43,243] Trial 450 finished with value: 0.649325626204239 and parameters: {'lr': 1.0220449381552375e-05, 'β': 0.13271490919828982, 'reverse_pref': True, 'scale_orth': False, 'neg_slope': 'float', 'mag_clip': 'float', 'mag_clip_value': 0.5362761253487576, 'neg_slope_value': 0.8412715122267646}. Best is trial 438 with value: 1.0867052023121389.\n"
     ]
    },
    {
     "name": "stdout",
     "output_type": "stream",
     "text": [
      "\n",
      "| acc_inc/eval_ds [pp]                                                  |   train |    test |     oos |    rnd |\n",
      "|:----------------------------------------------------------------------|--------:|--------:|--------:|-------:|\n",
      "| ProjBP lr=1e-05 mag_clip=0.54 neg_slope=0.84 reverse_pref=True β=0.13 | -20.661 | -16.535 | -35.067 | 12.281 |\n"
     ]
    },
    {
     "name": "stderr",
     "output_type": "stream",
     "text": [
      "[I 2024-10-10 02:47:26,840] Trial 451 finished with value: 1.0847784200385358 and parameters: {'lr': 7.422201145460203e-06, 'β': 0.13538127956156953, 'reverse_pref': True, 'scale_orth': False, 'neg_slope': 'float', 'mag_clip': 'float', 'mag_clip_value': 0.4410372905281402, 'neg_slope_value': 0.8630067749200709}. Best is trial 438 with value: 1.0867052023121389.\n"
     ]
    },
    {
     "name": "stdout",
     "output_type": "stream",
     "text": [
      "\n",
      "| acc_inc/eval_ds [pp]                                                    |   train |   test |   oos |     rnd |\n",
      "|:------------------------------------------------------------------------|--------:|-------:|------:|--------:|\n",
      "| ProjBP lr=7.4e-06 mag_clip=0.44 neg_slope=0.86 reverse_pref=True β=0.14 |   3.306 | -0.787 | 8.478 | -10.526 |\n"
     ]
    },
    {
     "name": "stderr",
     "output_type": "stream",
     "text": [
      "[I 2024-10-10 02:51:06,451] Trial 452 finished with value: 1.0828516377649327 and parameters: {'lr': 8.299434862502273e-06, 'β': 0.12623781769928216, 'reverse_pref': True, 'scale_orth': False, 'neg_slope': 'float', 'mag_clip': 'float', 'mag_clip_value': 0.4138285898777185, 'neg_slope_value': 0.867409477146372}. Best is trial 438 with value: 1.0867052023121389.\n"
     ]
    },
    {
     "name": "stdout",
     "output_type": "stream",
     "text": [
      "\n",
      "| acc_inc/eval_ds [pp]                                                    |   train |   test |   oos |     rnd |\n",
      "|:------------------------------------------------------------------------|--------:|-------:|------:|--------:|\n",
      "| ProjBP lr=8.3e-06 mag_clip=0.41 neg_slope=0.87 reverse_pref=True β=0.13 |   3.306 | -0.787 | 8.285 | -10.526 |\n"
     ]
    },
    {
     "name": "stderr",
     "output_type": "stream",
     "text": [
      "[I 2024-10-10 02:54:46,133] Trial 453 finished with value: 0.48554913294797697 and parameters: {'lr': 1.539322027372069e-05, 'β': 0.09090608539593667, 'reverse_pref': True, 'scale_orth': False, 'neg_slope': 'float', 'mag_clip': 'float', 'mag_clip_value': 0.4125005937686538, 'neg_slope_value': 0.864106209648581}. Best is trial 438 with value: 1.0867052023121389.\n"
     ]
    },
    {
     "name": "stdout",
     "output_type": "stream",
     "text": [
      "\n",
      "| acc_inc/eval_ds [pp]                                                     |   train |    test |     oos |   rnd |\n",
      "|:-------------------------------------------------------------------------|--------:|--------:|--------:|------:|\n",
      "| ProjBP lr=1.5e-05 mag_clip=0.41 neg_slope=0.86 reverse_pref=True β=0.091 | -32.231 | -26.772 | -51.445 | 8.772 |\n"
     ]
    },
    {
     "name": "stderr",
     "output_type": "stream",
     "text": [
      "[I 2024-10-10 02:58:25,213] Trial 454 finished with value: 1.0789980732177264 and parameters: {'lr': 8.687716942082928e-06, 'β': 0.1268766725674215, 'reverse_pref': True, 'scale_orth': False, 'neg_slope': 'float', 'mag_clip': 'float', 'mag_clip_value': 0.7151185992045493, 'neg_slope_value': 0.8925247563368476}. Best is trial 438 with value: 1.0867052023121389.\n"
     ]
    },
    {
     "name": "stdout",
     "output_type": "stream",
     "text": [
      "\n",
      "| acc_inc/eval_ds [pp]                                                    |   train |   test |   oos |    rnd |\n",
      "|:------------------------------------------------------------------------|--------:|-------:|------:|-------:|\n",
      "| ProjBP lr=8.7e-06 mag_clip=0.72 neg_slope=0.89 reverse_pref=True β=0.13 |   3.306 | -0.787 |   7.9 | -3.509 |\n"
     ]
    },
    {
     "name": "stderr",
     "output_type": "stream",
     "text": [
      "[I 2024-10-10 03:02:03,757] Trial 455 finished with value: 0.9248554913294799 and parameters: {'lr': 1.1704170980718585e-05, 'β': 0.11766545219266317, 'reverse_pref': True, 'scale_orth': False, 'neg_slope': 'float', 'mag_clip': 'float', 'mag_clip_value': 0.6331194280662856, 'neg_slope_value': 0.8957891316936106}. Best is trial 438 with value: 1.0867052023121389.\n"
     ]
    },
    {
     "name": "stdout",
     "output_type": "stream",
     "text": [
      "\n",
      "| acc_inc/eval_ds [pp]                                                   |   train |   test |    oos |   rnd |\n",
      "|:-----------------------------------------------------------------------|--------:|-------:|-------:|------:|\n",
      "| ProjBP lr=1.2e-05 mag_clip=0.63 neg_slope=0.9 reverse_pref=True β=0.12 |  -7.438 | -1.575 | -7.514 |     0 |\n"
     ]
    },
    {
     "name": "stderr",
     "output_type": "stream",
     "text": [
      "[I 2024-10-10 03:05:43,313] Trial 456 finished with value: 1.0789980732177264 and parameters: {'lr': 8.723262012267452e-06, 'β': 0.1322135851880456, 'reverse_pref': True, 'scale_orth': False, 'neg_slope': 'float', 'mag_clip': 'float', 'mag_clip_value': 0.48048670910775926, 'neg_slope_value': 0.887080405158213}. Best is trial 438 with value: 1.0867052023121389.\n"
     ]
    },
    {
     "name": "stdout",
     "output_type": "stream",
     "text": [
      "\n",
      "| acc_inc/eval_ds [pp]                                                    |   train |   test |   oos |    rnd |\n",
      "|:------------------------------------------------------------------------|--------:|-------:|------:|-------:|\n",
      "| ProjBP lr=8.7e-06 mag_clip=0.48 neg_slope=0.89 reverse_pref=True β=0.13 |   3.306 | -0.787 |   7.9 | -8.772 |\n"
     ]
    },
    {
     "name": "stderr",
     "output_type": "stream",
     "text": [
      "[I 2024-10-10 03:09:23,226] Trial 457 finished with value: 1.0867052023121389 and parameters: {'lr': 9.690848317717e-06, 'β': 0.13009743255116993, 'reverse_pref': True, 'scale_orth': False, 'neg_slope': 'float', 'mag_clip': 'float', 'mag_clip_value': 0.4160690187602622, 'neg_slope_value': 0.9156554600103494}. Best is trial 438 with value: 1.0867052023121389.\n"
     ]
    },
    {
     "name": "stdout",
     "output_type": "stream",
     "text": [
      "\n",
      "| acc_inc/eval_ds [pp]                                                    |   train |   test |   oos |     rnd |\n",
      "|:------------------------------------------------------------------------|--------:|-------:|------:|--------:|\n",
      "| ProjBP lr=9.7e-06 mag_clip=0.42 neg_slope=0.92 reverse_pref=True β=0.13 |   3.306 | -0.787 | 8.671 | -10.526 |\n"
     ]
    },
    {
     "name": "stderr",
     "output_type": "stream",
     "text": [
      "[I 2024-10-10 03:13:03,978] Trial 458 finished with value: 0.5317919075144509 and parameters: {'lr': 1.7803632163933114e-05, 'β': 0.13516981505026487, 'reverse_pref': True, 'scale_orth': False, 'neg_slope': 'float', 'mag_clip': 'float', 'mag_clip_value': 0.3955700491170878, 'neg_slope_value': 0.9228066250147611}. Best is trial 438 with value: 1.0867052023121389.\n"
     ]
    },
    {
     "name": "stdout",
     "output_type": "stream",
     "text": [
      "\n",
      "| acc_inc/eval_ds [pp]                                                   |   train |   test |     oos |    rnd |\n",
      "|:-----------------------------------------------------------------------|--------:|-------:|--------:|-------:|\n",
      "| ProjBP lr=1.8e-05 mag_clip=0.4 neg_slope=0.92 reverse_pref=True β=0.14 | -23.967 | -21.26 | -46.821 | -1.754 |\n"
     ]
    },
    {
     "name": "stderr",
     "output_type": "stream",
     "text": [
      "[I 2024-10-10 03:16:43,461] Trial 459 finished with value: 1.0327552986512525 and parameters: {'lr': 9.802954275680996e-06, 'β': 0.09754995100051592, 'reverse_pref': True, 'scale_orth': False, 'neg_slope': 'float', 'mag_clip': 'float', 'mag_clip_value': 0.49818454024051845, 'neg_slope_value': 0.8780851362789881}. Best is trial 438 with value: 1.0867052023121389.\n"
     ]
    },
    {
     "name": "stdout",
     "output_type": "stream",
     "text": [
      "\n",
      "| acc_inc/eval_ds [pp]                                                    |   train |   test |   oos |   rnd |\n",
      "|:------------------------------------------------------------------------|--------:|-------:|------:|------:|\n",
      "| ProjBP lr=9.8e-06 mag_clip=0.5 neg_slope=0.88 reverse_pref=True β=0.098 |   1.653 |      0 | 3.276 |     0 |\n"
     ]
    },
    {
     "name": "stderr",
     "output_type": "stream",
     "text": [
      "[I 2024-10-10 03:20:23,487] Trial 460 finished with value: 1.0385356454720618 and parameters: {'lr': 1.1086444743543898e-05, 'β': 0.12905334683683878, 'reverse_pref': True, 'scale_orth': False, 'neg_slope': 'float', 'mag_clip': 'float', 'mag_clip_value': 0.6996673932469648, 'neg_slope_value': 0.9042635943636983}. Best is trial 438 with value: 1.0867052023121389.\n"
     ]
    },
    {
     "name": "stdout",
     "output_type": "stream",
     "text": [
      "\n",
      "| acc_inc/eval_ds [pp]                                                  |   train |   test |   oos |     rnd |\n",
      "|:----------------------------------------------------------------------|--------:|-------:|------:|--------:|\n",
      "| ProjBP lr=1.1e-05 mag_clip=0.7 neg_slope=0.9 reverse_pref=True β=0.13 |  -0.826 | -0.787 | 3.854 | -10.526 |\n"
     ]
    },
    {
     "name": "stderr",
     "output_type": "stream",
     "text": [
      "[I 2024-10-10 03:24:03,934] Trial 461 finished with value: 1.067437379576108 and parameters: {'lr': 8.707109079993056e-06, 'β': 0.14583651830975697, 'reverse_pref': True, 'scale_orth': False, 'neg_slope': 'float', 'mag_clip': 'float', 'mag_clip_value': 0.3108938506047281, 'neg_slope_value': 0.8535848740822841}. Best is trial 438 with value: 1.0867052023121389.\n"
     ]
    },
    {
     "name": "stdout",
     "output_type": "stream",
     "text": [
      "\n",
      "| acc_inc/eval_ds [pp]                                                    |   train |   test |   oos |   rnd |\n",
      "|:------------------------------------------------------------------------|--------:|-------:|------:|------:|\n",
      "| ProjBP lr=8.7e-06 mag_clip=0.31 neg_slope=0.85 reverse_pref=True β=0.15 |   1.653 | -0.787 | 6.744 |     0 |\n"
     ]
    },
    {
     "name": "stderr",
     "output_type": "stream",
     "text": [
      "[I 2024-10-10 03:27:43,462] Trial 462 finished with value: 1.0077071290944124 and parameters: {'lr': 1.4517799633073213e-05, 'β': 0.15050354365597995, 'reverse_pref': True, 'scale_orth': True, 'neg_slope': 0, 'mag_clip': 'float', 'mag_clip_value': 0.8076897329974358}. Best is trial 438 with value: 1.0867052023121389.\n"
     ]
    },
    {
     "name": "stdout",
     "output_type": "stream",
     "text": [
      "\n",
      "| acc_inc/eval_ds [pp]                                                                 |   train |   test |   oos |   rnd |\n",
      "|:-------------------------------------------------------------------------------------|--------:|-------:|------:|------:|\n",
      "| ProjBP lr=1.5e-05 mag_clip=0.81 neg_slope=0 reverse_pref=True scale_orth=True β=0.15 |   0.826 |      0 | 0.771 | 5.263 |\n"
     ]
    },
    {
     "name": "stderr",
     "output_type": "stream",
     "text": [
      "[I 2024-10-10 03:27:45,000] Using an existing study with name 'ether-prefvec' instead of creating a new one.\n"
     ]
    },
    {
     "name": "stdout",
     "output_type": "stream",
     "text": [
      "================================================================================\n",
      "loaded 397 ether-prefvec trials\n",
      "| ether-prefvec N=✓391/397, best=1.183   |   importance | best                   |\n",
      "|:---------------------------------------|-------------:|:-----------------------|\n",
      "| lr                                     |        0.925 | 0.00037772770210724844 |\n",
      "| nb                                     |        0.016 | 20                     |\n",
      "| β                                      |        0.014 | 1.9848539330526844     |\n",
      "| use_proj_rel                           |        0.011 | True                   |\n",
      "| reduction                              |        0.009 | 1                      |\n",
      "| use_angle_loss                         |        0.008 | True                   |\n",
      "| use_dpo_loss                           |        0.007 | False                  |\n",
      "| collect_hs                             |        0.004 | False                  |\n",
      "| Htype                                  |        0.003 | ether                  |\n",
      "| flip_side                              |        0.002 | True                   |\n",
      "| use_nll_loss                           |        0.001 | True                   |\n",
      "| use_orth_loss                          |        0.001 | True                   |\n",
      "| weight_tokens                          |        0     | True                   |\n",
      "| collect_input                          |        0     | True                   |\n"
     ]
    },
    {
     "name": "stderr",
     "output_type": "stream",
     "text": [
      "[I 2024-10-10 03:31:11,057] Trial 397 finished with value: 1.1734104046242777 and parameters: {'lr': 0.00035570095122121516, 'collect_input': True, 'collect_hs': False, 'nb': 24, 'Htype': 'ether', 'flip_side': False, 'reduction': 435, 'β': 1.5405256866955532, 'use_orth_loss': True, 'use_angle_loss': True, 'use_dpo_loss': False, 'use_nll_loss': True, 'weight_tokens': True, 'use_proj_rel': True}. Best is trial 24 with value: 1.183044315992293.\n"
     ]
    },
    {
     "name": "stdout",
     "output_type": "stream",
     "text": [
      "\n",
      "| acc_inc/eval_ds [pp]                                                                                                                                                                                                 |   train |   test |    oos |    rnd |\n",
      "|:---------------------------------------------------------------------------------------------------------------------------------------------------------------------------------------------------------------------|--------:|-------:|-------:|-------:|\n",
      "| ReprPO collect_input=True prefvec.use_nll_prefvec=True prefvec.use_orth_prefvec=True prefvec.use_proj_rel=True prefvec.weight_tokens=True prefvec.β=1.5 lr=0.00036 ether.Htype=ether ether.nb=24 ether.reduction=435 |   2.479 |      0 | 17.341 | -7.018 |\n"
     ]
    },
    {
     "name": "stderr",
     "output_type": "stream",
     "text": [
      "[I 2024-10-10 03:34:32,468] Trial 398 finished with value: 1.1560693641618498 and parameters: {'lr': 0.0004932672515235104, 'collect_input': True, 'collect_hs': False, 'nb': 28, 'Htype': 'ether', 'flip_side': False, 'reduction': 454, 'β': 1.2017250255027558, 'use_orth_loss': True, 'use_angle_loss': True, 'use_dpo_loss': False, 'use_nll_loss': True, 'weight_tokens': True, 'use_proj_rel': False}. Best is trial 24 with value: 1.183044315992293.\n"
     ]
    },
    {
     "name": "stdout",
     "output_type": "stream",
     "text": [
      "\n",
      "| acc_inc/eval_ds [pp]                                                                                                                                                                       |   train |   test |    oos |    rnd |\n",
      "|:-------------------------------------------------------------------------------------------------------------------------------------------------------------------------------------------|--------:|-------:|-------:|-------:|\n",
      "| ReprPO collect_input=True prefvec.use_nll_prefvec=True prefvec.use_orth_prefvec=True prefvec.weight_tokens=True prefvec.β=1.2 lr=0.00049 ether.Htype=ether ether.nb=28 ether.reduction=454 |   1.653 | -0.787 | 15.607 | -8.772 |\n"
     ]
    },
    {
     "name": "stderr",
     "output_type": "stream",
     "text": [
      "[I 2024-10-10 03:37:51,316] Trial 399 finished with value: 0.998073217726397 and parameters: {'lr': 0.0002714075699753345, 'collect_input': True, 'collect_hs': False, 'nb': 23, 'Htype': 'ether', 'flip_side': False, 'reduction': 405, 'β': 1.99322638130892, 'use_orth_loss': True, 'use_angle_loss': False, 'use_dpo_loss': False, 'use_nll_loss': True, 'weight_tokens': True, 'use_proj_rel': False}. Best is trial 24 with value: 1.183044315992293.\n"
     ]
    },
    {
     "name": "stdout",
     "output_type": "stream",
     "text": [
      "\n",
      "| acc_inc/eval_ds [pp]                                                                                                                                                                                                     |   train |   test |    oos |   rnd |\n",
      "|:-------------------------------------------------------------------------------------------------------------------------------------------------------------------------------------------------------------------------|--------:|-------:|-------:|------:|\n",
      "| ReprPO collect_input=True prefvec.use_angle_prefvec=False prefvec.use_nll_prefvec=True prefvec.use_orth_prefvec=True prefvec.weight_tokens=True prefvec.β=2 lr=0.00027 ether.Htype=ether ether.nb=23 ether.reduction=405 |       0 |      0 | -0.193 | 1.754 |\n"
     ]
    },
    {
     "name": "stderr",
     "output_type": "stream",
     "text": [
      "[I 2024-10-10 03:41:12,118] Trial 400 finished with value: 1.1001926782273603 and parameters: {'lr': 0.00022009186690009175, 'collect_input': True, 'collect_hs': False, 'nb': 26, 'Htype': 'ether', 'flip_side': False, 'reduction': 463, 'β': 1.4443521148753966, 'use_orth_loss': True, 'use_angle_loss': True, 'use_dpo_loss': False, 'use_nll_loss': True, 'weight_tokens': True, 'use_proj_rel': True}. Best is trial 24 with value: 1.183044315992293.\n"
     ]
    },
    {
     "name": "stdout",
     "output_type": "stream",
     "text": [
      "\n",
      "| acc_inc/eval_ds [pp]                                                                                                                                                                                                 |   train |   test |    oos |   rnd |\n",
      "|:---------------------------------------------------------------------------------------------------------------------------------------------------------------------------------------------------------------------|--------:|-------:|-------:|------:|\n",
      "| ReprPO collect_input=True prefvec.use_nll_prefvec=True prefvec.use_orth_prefvec=True prefvec.use_proj_rel=True prefvec.weight_tokens=True prefvec.β=1.4 lr=0.00022 ether.Htype=ether ether.nb=26 ether.reduction=463 |   1.653 |  0.787 | 10.019 |     0 |\n"
     ]
    },
    {
     "name": "stderr",
     "output_type": "stream",
     "text": [
      "[I 2024-10-10 03:44:24,869] Trial 401 finished with value: 0.8477842003853565 and parameters: {'lr': 0.00034085797417994225, 'collect_input': True, 'collect_hs': True, 'nb': 32, 'Htype': 'ether', 'flip_side': False, 'reduction': 326, 'β': 0.9683129902663495, 'use_orth_loss': True, 'use_angle_loss': True, 'use_dpo_loss': False, 'use_nll_loss': True, 'weight_tokens': True, 'use_proj_rel': False}. Best is trial 24 with value: 1.183044315992293.\n"
     ]
    },
    {
     "name": "stdout",
     "output_type": "stream",
     "text": [
      "\n",
      "| acc_inc/eval_ds [pp]                                                                                                                                                                                        |   train |   test |     oos |    rnd |\n",
      "|:------------------------------------------------------------------------------------------------------------------------------------------------------------------------------------------------------------|--------:|-------:|--------:|-------:|\n",
      "| ReprPO collect_hs=True collect_input=True prefvec.use_nll_prefvec=True prefvec.use_orth_prefvec=True prefvec.weight_tokens=True prefvec.β=0.97 lr=0.00034 ether.Htype=ether ether.nb=32 ether.reduction=326 |  -8.264 | -6.299 | -15.222 | -8.772 |\n"
     ]
    },
    {
     "name": "stderr",
     "output_type": "stream",
     "text": [
      "[I 2024-10-10 03:47:46,280] Trial 402 finished with value: 1.159922928709056 and parameters: {'lr': 0.000443963481552491, 'collect_input': True, 'collect_hs': False, 'nb': 6, 'Htype': 'ether', 'flip_side': False, 'reduction': 385, 'β': 0.5930589439095416, 'use_orth_loss': True, 'use_angle_loss': True, 'use_dpo_loss': False, 'use_nll_loss': True, 'weight_tokens': True, 'use_proj_rel': False}. Best is trial 24 with value: 1.183044315992293.\n"
     ]
    },
    {
     "name": "stdout",
     "output_type": "stream",
     "text": [
      "\n",
      "| acc_inc/eval_ds [pp]                                                                                                                                                                       |   train |   test |    oos |   rnd |\n",
      "|:-------------------------------------------------------------------------------------------------------------------------------------------------------------------------------------------|--------:|-------:|-------:|------:|\n",
      "| ReprPO collect_input=True prefvec.use_nll_prefvec=True prefvec.use_orth_prefvec=True prefvec.weight_tokens=True prefvec.β=0.59 lr=0.00044 ether.Htype=ether ether.nb=6 ether.reduction=385 |   4.959 | -0.787 | 15.992 |     0 |\n"
     ]
    },
    {
     "name": "stderr",
     "output_type": "stream",
     "text": [
      "[I 2024-10-10 03:51:18,428] Trial 403 finished with value: 1.0096339113680155 and parameters: {'lr': 0.0006065351754837461, 'collect_input': False, 'collect_hs': False, 'nb': 29, 'Htype': 'oft', 'flip_side': False, 'reduction': 345, 'β': 1.4933675279256013, 'use_orth_loss': True, 'use_angle_loss': True, 'use_dpo_loss': False, 'use_nll_loss': True, 'weight_tokens': True, 'use_proj_rel': False}. Best is trial 24 with value: 1.183044315992293.\n"
     ]
    },
    {
     "name": "stdout",
     "output_type": "stream",
     "text": [
      "\n",
      "| acc_inc/eval_ds [pp]                                                                                                                                                  |   train |   test |   oos |   rnd |\n",
      "|:----------------------------------------------------------------------------------------------------------------------------------------------------------------------|--------:|-------:|------:|------:|\n",
      "| ReprPO prefvec.use_nll_prefvec=True prefvec.use_orth_prefvec=True prefvec.weight_tokens=True prefvec.β=1.5 lr=0.00061 ether.Htype=oft ether.nb=29 ether.reduction=345 |  -3.306 | -2.362 | 0.963 | 5.263 |\n"
     ]
    },
    {
     "name": "stderr",
     "output_type": "stream",
     "text": [
      "[I 2024-10-10 03:54:40,562] Trial 404 finished with value: 1.0289017341040463 and parameters: {'lr': 0.00029197636585605996, 'collect_input': True, 'collect_hs': False, 'nb': 23, 'Htype': 'ether', 'flip_side': True, 'reduction': 413, 'β': 0.000978832283579089, 'use_orth_loss': True, 'use_angle_loss': True, 'use_dpo_loss': False, 'use_nll_loss': True, 'weight_tokens': True, 'use_proj_rel': True}. Best is trial 24 with value: 1.183044315992293.\n"
     ]
    },
    {
     "name": "stdout",
     "output_type": "stream",
     "text": [
      "\n",
      "| acc_inc/eval_ds [pp]                                                                                                                                                                                                                          |   train |   test |   oos |    rnd |\n",
      "|:----------------------------------------------------------------------------------------------------------------------------------------------------------------------------------------------------------------------------------------------|--------:|-------:|------:|-------:|\n",
      "| ReprPO collect_input=True prefvec.use_nll_prefvec=True prefvec.use_orth_prefvec=True prefvec.use_proj_rel=True prefvec.weight_tokens=True prefvec.β=0.00098 lr=0.00029 ether.Htype=ether ether.flip_side=True ether.nb=23 ether.reduction=413 |  -0.826 |      0 |  2.89 | -5.263 |\n"
     ]
    },
    {
     "name": "stderr",
     "output_type": "stream",
     "text": [
      "[I 2024-10-10 03:58:01,343] Trial 405 finished with value: 1.1734104046242777 and parameters: {'lr': 0.00039135202059708684, 'collect_input': True, 'collect_hs': False, 'nb': 22, 'Htype': 'ether', 'flip_side': True, 'reduction': 508, 'β': 1.1055080148887468, 'use_orth_loss': True, 'use_angle_loss': True, 'use_dpo_loss': False, 'use_nll_loss': True, 'weight_tokens': True, 'use_proj_rel': False}. Best is trial 24 with value: 1.183044315992293.\n"
     ]
    },
    {
     "name": "stdout",
     "output_type": "stream",
     "text": [
      "\n",
      "| acc_inc/eval_ds [pp]                                                                                                                                                                                            |   train |   test |    oos |     rnd |\n",
      "|:----------------------------------------------------------------------------------------------------------------------------------------------------------------------------------------------------------------|--------:|-------:|-------:|--------:|\n",
      "| ReprPO collect_input=True prefvec.use_nll_prefvec=True prefvec.use_orth_prefvec=True prefvec.weight_tokens=True prefvec.β=1.1 lr=0.00039 ether.Htype=ether ether.flip_side=True ether.nb=22 ether.reduction=508 |   4.132 | -0.787 | 17.341 | -10.526 |\n"
     ]
    },
    {
     "name": "stderr",
     "output_type": "stream",
     "text": [
      "[I 2024-10-10 04:01:22,053] Trial 406 finished with value: 1.1464354527938343 and parameters: {'lr': 0.0004972530041819562, 'collect_input': True, 'collect_hs': False, 'nb': 25, 'Htype': 'ether', 'flip_side': True, 'reduction': 3, 'β': 0.6933590941286929, 'use_orth_loss': True, 'use_angle_loss': True, 'use_dpo_loss': False, 'use_nll_loss': True, 'weight_tokens': True, 'use_proj_rel': False}. Best is trial 24 with value: 1.183044315992293.\n"
     ]
    },
    {
     "name": "stdout",
     "output_type": "stream",
     "text": [
      "\n",
      "| acc_inc/eval_ds [pp]                                                                                                                                                                                          |   train |   test |    oos |   rnd |\n",
      "|:--------------------------------------------------------------------------------------------------------------------------------------------------------------------------------------------------------------|--------:|-------:|-------:|------:|\n",
      "| ReprPO collect_input=True prefvec.use_nll_prefvec=True prefvec.use_orth_prefvec=True prefvec.weight_tokens=True prefvec.β=0.69 lr=0.0005 ether.Htype=ether ether.flip_side=True ether.nb=25 ether.reduction=3 |   3.306 | -1.575 | 14.644 | 5.263 |\n"
     ]
    },
    {
     "name": "stderr",
     "output_type": "stream",
     "text": [
      "[I 2024-10-10 04:04:43,492] Trial 407 finished with value: 1.1676300578034684 and parameters: {'lr': 0.0003194023643657995, 'collect_input': True, 'collect_hs': False, 'nb': 28, 'Htype': 'oft', 'flip_side': True, 'reduction': 354, 'β': 1.5629743156893166, 'use_orth_loss': True, 'use_angle_loss': True, 'use_dpo_loss': False, 'use_nll_loss': True, 'weight_tokens': True, 'use_proj_rel': False}. Best is trial 24 with value: 1.183044315992293.\n"
     ]
    },
    {
     "name": "stdout",
     "output_type": "stream",
     "text": [
      "\n",
      "| acc_inc/eval_ds [pp]                                                                                                                                                                                          |   train |   test |    oos |    rnd |\n",
      "|:--------------------------------------------------------------------------------------------------------------------------------------------------------------------------------------------------------------|--------:|-------:|-------:|-------:|\n",
      "| ReprPO collect_input=True prefvec.use_nll_prefvec=True prefvec.use_orth_prefvec=True prefvec.weight_tokens=True prefvec.β=1.6 lr=0.00032 ether.Htype=oft ether.flip_side=True ether.nb=28 ether.reduction=354 |   1.653 |  0.787 | 16.763 | -7.018 |\n"
     ]
    },
    {
     "name": "stderr",
     "output_type": "stream",
     "text": [
      "[I 2024-10-10 04:08:04,798] Trial 408 finished with value: 1.113680154142582 and parameters: {'lr': 0.0002363387130423852, 'collect_input': True, 'collect_hs': False, 'nb': 22, 'Htype': 'ether', 'flip_side': True, 'reduction': 419, 'β': 0.8806646914017133, 'use_orth_loss': True, 'use_angle_loss': True, 'use_dpo_loss': False, 'use_nll_loss': True, 'weight_tokens': True, 'use_proj_rel': True}. Best is trial 24 with value: 1.183044315992293.\n"
     ]
    },
    {
     "name": "stdout",
     "output_type": "stream",
     "text": [
      "\n",
      "| acc_inc/eval_ds [pp]                                                                                                                                                                                                                       |   train |   test |    oos |   rnd |\n",
      "|:-------------------------------------------------------------------------------------------------------------------------------------------------------------------------------------------------------------------------------------------|--------:|-------:|-------:|------:|\n",
      "| ReprPO collect_input=True prefvec.use_nll_prefvec=True prefvec.use_orth_prefvec=True prefvec.use_proj_rel=True prefvec.weight_tokens=True prefvec.β=0.88 lr=0.00024 ether.Htype=ether ether.flip_side=True ether.nb=22 ether.reduction=419 |   0.826 |  0.787 | 11.368 |     0 |\n"
     ]
    },
    {
     "name": "stderr",
     "output_type": "stream",
     "text": [
      "[I 2024-10-10 04:11:25,035] Trial 409 finished with value: 1.1753371868978806 and parameters: {'lr': 0.0004036973290932188, 'collect_input': True, 'collect_hs': False, 'nb': 26, 'Htype': 'ether', 'flip_side': False, 'reduction': 297, 'β': 1.2343855658899756, 'use_orth_loss': True, 'use_angle_loss': True, 'use_dpo_loss': False, 'use_nll_loss': True, 'weight_tokens': True, 'use_proj_rel': False}. Best is trial 24 with value: 1.183044315992293.\n"
     ]
    },
    {
     "name": "stdout",
     "output_type": "stream",
     "text": [
      "\n",
      "| acc_inc/eval_ds [pp]                                                                                                                                                                      |   train |   test |    oos |    rnd |\n",
      "|:------------------------------------------------------------------------------------------------------------------------------------------------------------------------------------------|--------:|-------:|-------:|-------:|\n",
      "| ReprPO collect_input=True prefvec.use_nll_prefvec=True prefvec.use_orth_prefvec=True prefvec.weight_tokens=True prefvec.β=1.2 lr=0.0004 ether.Htype=ether ether.nb=26 ether.reduction=297 |   4.132 | -0.787 | 17.534 | -5.263 |\n"
     ]
    },
    {
     "name": "stderr",
     "output_type": "stream",
     "text": [
      "[I 2024-10-10 04:14:42,578] Trial 410 finished with value: 0.4373795761078998 and parameters: {'lr': 0.000738064133646208, 'collect_input': True, 'collect_hs': False, 'nb': 26, 'Htype': 'ether', 'flip_side': False, 'reduction': 295, 'β': 0.000154240149458167, 'use_orth_loss': True, 'use_angle_loss': True, 'use_dpo_loss': False, 'use_nll_loss': True, 'weight_tokens': True, 'use_proj_rel': False}. Best is trial 24 with value: 1.183044315992293.\n"
     ]
    },
    {
     "name": "stdout",
     "output_type": "stream",
     "text": [
      "\n",
      "| acc_inc/eval_ds [pp]                                                                                                                                                                           |   train |    test |     oos |    rnd |\n",
      "|:-----------------------------------------------------------------------------------------------------------------------------------------------------------------------------------------------|--------:|--------:|--------:|-------:|\n",
      "| ReprPO collect_input=True prefvec.use_nll_prefvec=True prefvec.use_orth_prefvec=True prefvec.weight_tokens=True prefvec.β=0.00015 lr=0.00074 ether.Htype=ether ether.nb=26 ether.reduction=295 | -42.975 | -33.071 | -56.262 | 26.316 |\n"
     ]
    },
    {
     "name": "stderr",
     "output_type": "stream",
     "text": [
      "[W 2024-10-10 04:15:34,181] Trial 411 failed with parameters: {'lr': 1.564495873033758e-05, 'collect_input': True, 'collect_hs': False, 'nb': 30, 'Htype': 'ether', 'flip_side': False, 'reduction': 280, 'β': 1.2909123549993855, 'use_orth_loss': True, 'use_angle_loss': True, 'use_dpo_loss': True, 'use_nll_loss': False, 'weight_tokens': False, 'use_proj_rel': False} because of the following error: NameError(\"name 'exit' is not defined\").\n",
      "Traceback (most recent call last):\n",
      "  File \"/workspace/repr-preference-optimization/.venv/lib/python3.11/site-packages/lightning/pytorch/trainer/call.py\", line 47, in _call_and_handle_interrupt\n",
      "    return trainer_fn(*args, **kwargs)\n",
      "           ^^^^^^^^^^^^^^^^^^^^^^^^^^^\n",
      "  File \"/workspace/repr-preference-optimization/.venv/lib/python3.11/site-packages/lightning/pytorch/trainer/trainer.py\", line 574, in _fit_impl\n",
      "    self._run(model, ckpt_path=ckpt_path)\n",
      "  File \"/workspace/repr-preference-optimization/.venv/lib/python3.11/site-packages/lightning/pytorch/trainer/trainer.py\", line 981, in _run\n",
      "    results = self._run_stage()\n",
      "              ^^^^^^^^^^^^^^^^^\n",
      "  File \"/workspace/repr-preference-optimization/.venv/lib/python3.11/site-packages/lightning/pytorch/trainer/trainer.py\", line 1025, in _run_stage\n",
      "    self.fit_loop.run()\n",
      "  File \"/workspace/repr-preference-optimization/.venv/lib/python3.11/site-packages/lightning/pytorch/loops/fit_loop.py\", line 205, in run\n",
      "    self.advance()\n",
      "  File \"/workspace/repr-preference-optimization/.venv/lib/python3.11/site-packages/lightning/pytorch/loops/fit_loop.py\", line 363, in advance\n",
      "    self.epoch_loop.run(self._data_fetcher)\n",
      "  File \"/workspace/repr-preference-optimization/.venv/lib/python3.11/site-packages/lightning/pytorch/loops/training_epoch_loop.py\", line 140, in run\n",
      "    self.advance(data_fetcher)\n",
      "  File \"/workspace/repr-preference-optimization/.venv/lib/python3.11/site-packages/lightning/pytorch/loops/training_epoch_loop.py\", line 233, in advance\n",
      "    call._call_callback_hooks(trainer, \"on_train_batch_start\", batch, batch_idx)\n",
      "  File \"/workspace/repr-preference-optimization/.venv/lib/python3.11/site-packages/lightning/pytorch/trainer/call.py\", line 218, in _call_callback_hooks\n",
      "    fn(trainer, trainer.lightning_module, *args, **kwargs)\n",
      "  File \"/workspace/repr-preference-optimization/.venv/lib/python3.11/site-packages/lightning/pytorch/callbacks/lr_monitor.py\", line 177, in on_train_batch_start\n",
      "    logger.log_metrics(latest_stat, step=trainer.fit_loop.epoch_loop._batches_that_stepped)\n",
      "  File \"/workspace/repr-preference-optimization/.venv/lib/python3.11/site-packages/lightning_utilities/core/rank_zero.py\", line 42, in wrapped_fn\n",
      "    return fn(*args, **kwargs)\n",
      "           ^^^^^^^^^^^^^^^^^^^\n",
      "  File \"/workspace/repr-preference-optimization/.venv/lib/python3.11/site-packages/lightning/fabric/loggers/csv_logs.py\", line 154, in log_metrics\n",
      "    self.save()\n",
      "  File \"/workspace/repr-preference-optimization/.venv/lib/python3.11/site-packages/lightning_utilities/core/rank_zero.py\", line 42, in wrapped_fn\n",
      "    return fn(*args, **kwargs)\n",
      "           ^^^^^^^^^^^^^^^^^^^\n",
      "  File \"/workspace/repr-preference-optimization/.venv/lib/python3.11/site-packages/lightning/fabric/loggers/csv_logs.py\", line 160, in save\n",
      "    self.experiment.save()\n",
      "  File \"/workspace/repr-preference-optimization/.venv/lib/python3.11/site-packages/lightning/pytorch/loggers/csv_logs.py\", line 65, in save\n",
      "    save_hparams_to_yaml(hparams_file, self.hparams)\n",
      "  File \"/workspace/repr-preference-optimization/.venv/lib/python3.11/site-packages/lightning/pytorch/core/saving.py\", line 369, in save_hparams_to_yaml\n",
      "    with fs.open(config_yaml, \"w\", newline=\"\") as fp:\n",
      "  File \"/workspace/repr-preference-optimization/.venv/lib/python3.11/site-packages/fsspec/implementations/local.py\", line 440, in close\n",
      "    return self.f.close()\n",
      "           ^^^^^^^^^^^^^^\n",
      "KeyboardInterrupt\n",
      "\n",
      "During handling of the above exception, another exception occurred:\n",
      "\n",
      "Traceback (most recent call last):\n",
      "  File \"/workspace/repr-preference-optimization/.venv/lib/python3.11/site-packages/optuna/study/_optimize.py\", line 197, in _run_trial\n",
      "    value_or_values = func(trial)\n",
      "                      ^^^^^^^^^^^\n",
      "  File \"/workspace/repr-preference-optimization/reprpo/hp/target.py\", line 91, in objective\n",
      "    r = objective_func(kwargs, trial, starter_experiment_name)\n",
      "        ^^^^^^^^^^^^^^^^^^^^^^^^^^^^^^^^^^^^^^^^^^^^^^^^^^^^^^\n",
      "  File \"/workspace/repr-preference-optimization/reprpo/hp/target.py\", line 86, in objective_func\n",
      "    r = train(cfg, trial=trial)\n",
      "        ^^^^^^^^^^^^^^^^^^^^^^^\n",
      "  File \"/workspace/repr-preference-optimization/reprpo/training.py\", line 349, in train\n",
      "    trainer.fit(pl_model, dl_train, dl_val)\n",
      "  File \"/workspace/repr-preference-optimization/.venv/lib/python3.11/site-packages/lightning/pytorch/trainer/trainer.py\", line 538, in fit\n",
      "    call._call_and_handle_interrupt(\n",
      "  File \"/workspace/repr-preference-optimization/.venv/lib/python3.11/site-packages/lightning/pytorch/trainer/call.py\", line 64, in _call_and_handle_interrupt\n",
      "    exit(1)\n",
      "    ^^^^\n",
      "NameError: name 'exit' is not defined\n",
      "[W 2024-10-10 04:15:34,243] Trial 411 failed with value None.\n",
      "\u001b[31m\u001b[1mname 'exit' is not defined\u001b[0m\n",
      "\u001b[33m\u001b[1mTraceback (most recent call last):\u001b[0m\n",
      "\n",
      "  File \"/workspace/repr-preference-optimization/.venv/lib/python3.11/site-packages/lightning/pytorch/trainer/call.py\", line 47, in _call_and_handle_interrupt\n",
      "    return trainer_fn(*args, **kwargs)\n",
      "           │           │       └ {}\n",
      "           │           └ (PL_REPRPO_MODEL(\n",
      "           │               (_model): PeftModelForCausalLM(\n",
      "           │                 (base_model): LoraModel(\n",
      "           │                   (model): LlamaForCausalLM(\n",
      "           │                     (mo...\n",
      "           └ <bound method Trainer._fit_impl of <lightning.pytorch.trainer.trainer.Trainer object at 0x769970693390>>\n",
      "  File \"/workspace/repr-preference-optimization/.venv/lib/python3.11/site-packages/lightning/pytorch/trainer/trainer.py\", line 574, in _fit_impl\n",
      "    self._run(model, ckpt_path=ckpt_path)\n",
      "    │    │    │                └ None\n",
      "    │    │    └ PL_REPRPO_MODEL(\n",
      "    │    │        (_model): PeftModelForCausalLM(\n",
      "    │    │          (base_model): LoraModel(\n",
      "    │    │            (model): LlamaForCausalLM(\n",
      "    │    │              (mod...\n",
      "    │    └ <function Trainer._run at 0x769c184f5620>\n",
      "    └ <lightning.pytorch.trainer.trainer.Trainer object at 0x769970693390>\n",
      "  File \"/workspace/repr-preference-optimization/.venv/lib/python3.11/site-packages/lightning/pytorch/trainer/trainer.py\", line 981, in _run\n",
      "    results = self._run_stage()\n",
      "              │    └ <function Trainer._run_stage at 0x769c184f5760>\n",
      "              └ <lightning.pytorch.trainer.trainer.Trainer object at 0x769970693390>\n",
      "  File \"/workspace/repr-preference-optimization/.venv/lib/python3.11/site-packages/lightning/pytorch/trainer/trainer.py\", line 1025, in _run_stage\n",
      "    self.fit_loop.run()\n",
      "    │    │        └ <function _FitLoop.run at 0x769c184ac540>\n",
      "    │    └ <lightning.pytorch.loops.fit_loop._FitLoop object at 0x769970669a50>\n",
      "    └ <lightning.pytorch.trainer.trainer.Trainer object at 0x769970693390>\n",
      "  File \"/workspace/repr-preference-optimization/.venv/lib/python3.11/site-packages/lightning/pytorch/loops/fit_loop.py\", line 205, in run\n",
      "    self.advance()\n",
      "    │    └ <function _FitLoop.advance at 0x769c184ac860>\n",
      "    └ <lightning.pytorch.loops.fit_loop._FitLoop object at 0x769970669a50>\n",
      "  File \"/workspace/repr-preference-optimization/.venv/lib/python3.11/site-packages/lightning/pytorch/loops/fit_loop.py\", line 363, in advance\n",
      "    self.epoch_loop.run(self._data_fetcher)\n",
      "    │    │          │   │    └ None\n",
      "    │    │          │   └ <lightning.pytorch.loops.fit_loop._FitLoop object at 0x769970669a50>\n",
      "    │    │          └ <function _TrainingEpochLoop.run at 0x769c18493100>\n",
      "    │    └ <lightning.pytorch.loops.training_epoch_loop._TrainingEpochLoop object at 0x769970691910>\n",
      "    └ <lightning.pytorch.loops.fit_loop._FitLoop object at 0x769970669a50>\n",
      "  File \"/workspace/repr-preference-optimization/.venv/lib/python3.11/site-packages/lightning/pytorch/loops/training_epoch_loop.py\", line 140, in run\n",
      "    self.advance(data_fetcher)\n",
      "    │    │       └ <lightning.pytorch.loops.fetchers._PrefetchDataFetcher object at 0x769978142450>\n",
      "    │    └ <function _TrainingEpochLoop.advance at 0x769c18493420>\n",
      "    └ <lightning.pytorch.loops.training_epoch_loop._TrainingEpochLoop object at 0x769970691910>\n",
      "  File \"/workspace/repr-preference-optimization/.venv/lib/python3.11/site-packages/lightning/pytorch/loops/training_epoch_loop.py\", line 233, in advance\n",
      "    call._call_callback_hooks(trainer, \"on_train_batch_start\", batch, batch_idx)\n",
      "    │    │                    │                                │      └ 74\n",
      "    │    │                    │                                └ {'chosen': tensor([[ 39314,    374,    459,  ..., 128001, 128001, 128001],\n",
      "    │    │                    │                                          [ 39314,    374,    459,  ..., 128001, 128...\n",
      "    │    │                    └ <lightning.pytorch.trainer.trainer.Trainer object at 0x769970693390>\n",
      "    │    └ <function _call_callback_hooks at 0x769c185d39c0>\n",
      "    └ <module 'lightning.pytorch.trainer.call' from '/workspace/repr-preference-optimization/.venv/lib/python3.11/site-packages/lig...\n",
      "  File \"/workspace/repr-preference-optimization/.venv/lib/python3.11/site-packages/lightning/pytorch/trainer/call.py\", line 218, in _call_callback_hooks\n",
      "    fn(trainer, trainer.lightning_module, *args, **kwargs)\n",
      "    │  │        │       │                  │       └ {}\n",
      "    │  │        │       │                  └ ({'chosen': tensor([[ 39314,    374,    459,  ..., 128001, 128001, 128001],\n",
      "    │  │        │       │                            [ 39314,    374,    459,  ..., 128001, 12...\n",
      "    │  │        │       └ <property object at 0x769c184ed8f0>\n",
      "    │  │        └ <lightning.pytorch.trainer.trainer.Trainer object at 0x769970693390>\n",
      "    │  └ <lightning.pytorch.trainer.trainer.Trainer object at 0x769970693390>\n",
      "    └ <bound method LearningRateMonitor.on_train_batch_start of <lightning.pytorch.callbacks.lr_monitor.LearningRateMonitor object ...\n",
      "  File \"/workspace/repr-preference-optimization/.venv/lib/python3.11/site-packages/lightning/pytorch/callbacks/lr_monitor.py\", line 177, in on_train_batch_start\n",
      "    logger.log_metrics(latest_stat, step=trainer.fit_loop.epoch_loop._batches_that_stepped)\n",
      "    │      │           │                 │       │        │          └ 74\n",
      "    │      │           │                 │       │        └ <lightning.pytorch.loops.training_epoch_loop._TrainingEpochLoop object at 0x769970691910>\n",
      "    │      │           │                 │       └ <lightning.pytorch.loops.fit_loop._FitLoop object at 0x769970669a50>\n",
      "    │      │           │                 └ <lightning.pytorch.trainer.trainer.Trainer object at 0x769970693390>\n",
      "    │      │           └ {'lr-PagedAdam32bit': 1.564495873033758e-05}\n",
      "    │      └ <function CSVLogger.log_metrics at 0x769c23bf5800>\n",
      "    └ <lightning.pytorch.loggers.csv_logs.CSVLogger object at 0x7699c0027710>\n",
      "  File \"/workspace/repr-preference-optimization/.venv/lib/python3.11/site-packages/lightning_utilities/core/rank_zero.py\", line 42, in wrapped_fn\n",
      "    return fn(*args, **kwargs)\n",
      "           │   │       └ {'step': 74}\n",
      "           │   └ (<lightning.pytorch.loggers.csv_logs.CSVLogger object at 0x7699c0027710>, {'lr-PagedAdam32bit': 1.564495873033758e-05})\n",
      "           └ <function CSVLogger.log_metrics at 0x769c23bf5760>\n",
      "  File \"/workspace/repr-preference-optimization/.venv/lib/python3.11/site-packages/lightning/fabric/loggers/csv_logs.py\", line 154, in log_metrics\n",
      "    self.save()\n",
      "    │    └ <function CSVLogger.save at 0x769c23bf5940>\n",
      "    └ <lightning.pytorch.loggers.csv_logs.CSVLogger object at 0x7699c0027710>\n",
      "  File \"/workspace/repr-preference-optimization/.venv/lib/python3.11/site-packages/lightning_utilities/core/rank_zero.py\", line 42, in wrapped_fn\n",
      "    return fn(*args, **kwargs)\n",
      "           │   │       └ {}\n",
      "           │   └ (<lightning.pytorch.loggers.csv_logs.CSVLogger object at 0x7699c0027710>,)\n",
      "           └ <function CSVLogger.save at 0x769c23bf58a0>\n",
      "  File \"/workspace/repr-preference-optimization/.venv/lib/python3.11/site-packages/lightning/fabric/loggers/csv_logs.py\", line 160, in save\n",
      "    self.experiment.save()\n",
      "    │    └ <property object at 0x769c18739cb0>\n",
      "    └ <lightning.pytorch.loggers.csv_logs.CSVLogger object at 0x7699c0027710>\n",
      "  File \"/workspace/repr-preference-optimization/.venv/lib/python3.11/site-packages/lightning/pytorch/loggers/csv_logs.py\", line 65, in save\n",
      "    save_hparams_to_yaml(hparams_file, self.hparams)\n",
      "    │                    │             │    └ {'num_iterations': 225, 'lr': 1.564495873033758e-05, 'weight_decay': 0, 'batch_size': 16, 'adam8bit': False, 'schedule': 'wsd...\n",
      "    │                    │             └ <lightning.pytorch.loggers.csv_logs.ExperimentWriter object at 0x769a18202810>\n",
      "    │                    └ '/workspace/repr-preference-optimization/outputs/wassname-llama-3-2-1b-sft_side-ETHER-PrefVec_us_history_textbook/2024-10-10_...\n",
      "    └ <function save_hparams_to_yaml at 0x769c18700220>\n",
      "  File \"/workspace/repr-preference-optimization/.venv/lib/python3.11/site-packages/lightning/pytorch/core/saving.py\", line 369, in save_hparams_to_yaml\n",
      "    with fs.open(config_yaml, \"w\", newline=\"\") as fp:\n",
      "         │  │    │                                └ <_io.TextIOWrapper name='/workspace/repr-preference-optimization/outputs/wassname-llama-3-2-1b-sft_side-ETHER-PrefVec_us_hist...\n",
      "         │  │    └ '/workspace/repr-preference-optimization/outputs/wassname-llama-3-2-1b-sft_side-ETHER-PrefVec_us_history_textbook/2024-10-10_...\n",
      "         │  └ <function AbstractFileSystem.open at 0x769c23c91b20>\n",
      "         └ <fsspec.implementations.local.LocalFileSystem object at 0x769bc90f1710>\n",
      "  File \"/workspace/repr-preference-optimization/.venv/lib/python3.11/site-packages/fsspec/implementations/local.py\", line 440, in close\n",
      "    return self.f.close()\n",
      "           │    │ └ <method 'close' of '_io.BufferedWriter' objects>\n",
      "           │    └ <_io.BufferedWriter name='/workspace/repr-preference-optimization/outputs/wassname-llama-3-2-1b-sft_side-ETHER-PrefVec_us_his...\n",
      "           └ <fsspec.implementations.local.LocalFileOpener object at 0x769c02efacb0>\n",
      "\n",
      "\u001b[31m\u001b[1mKeyboardInterrupt\u001b[0m\n",
      "\n",
      "\n",
      "\u001b[1mDuring handling of the above exception, another exception occurred:\u001b[0m\n",
      "\n",
      "\n",
      "\u001b[33m\u001b[1mTraceback (most recent call last):\u001b[0m\n",
      "\n",
      "  File \"<frozen runpy>\", line 198, in _run_module_as_main\n",
      "  File \"<frozen runpy>\", line 88, in _run_code\n",
      "  File \"/workspace/repr-preference-optimization/.venv/lib/python3.11/site-packages/ipykernel_launcher.py\", line 18, in <module>\n",
      "    app.launch_new_instance()\n",
      "    │   └ <bound method Application.launch_instance of <class 'ipykernel.kernelapp.IPKernelApp'>>\n",
      "    └ <module 'ipykernel.kernelapp' from '/workspace/repr-preference-optimization/.venv/lib/python3.11/site-packages/ipykernel/kern...\n",
      "  File \"/workspace/repr-preference-optimization/.venv/lib/python3.11/site-packages/traitlets/config/application.py\", line 1075, in launch_instance\n",
      "    app.start()\n",
      "    │   └ <function IPKernelApp.start at 0x769e4fdda2a0>\n",
      "    └ <ipykernel.kernelapp.IPKernelApp object at 0x769e50f78550>\n",
      "  File \"/workspace/repr-preference-optimization/.venv/lib/python3.11/site-packages/ipykernel/kernelapp.py\", line 739, in start\n",
      "    self.io_loop.start()\n",
      "    │    │       └ <function BaseAsyncIOLoop.start at 0x769e4fddb380>\n",
      "    │    └ <tornado.platform.asyncio.AsyncIOMainLoop object at 0x769e4fdf8f50>\n",
      "    └ <ipykernel.kernelapp.IPKernelApp object at 0x769e50f78550>\n",
      "  File \"/workspace/repr-preference-optimization/.venv/lib/python3.11/site-packages/tornado/platform/asyncio.py\", line 205, in start\n",
      "    self.asyncio_loop.run_forever()\n",
      "    │    │            └ <function BaseEventLoop.run_forever at 0x769e515bae80>\n",
      "    │    └ <_UnixSelectorEventLoop running=True closed=False debug=False>\n",
      "    └ <tornado.platform.asyncio.AsyncIOMainLoop object at 0x769e4fdf8f50>\n",
      "  File \"/usr/lib/python3.11/asyncio/base_events.py\", line 608, in run_forever\n",
      "    self._run_once()\n",
      "    │    └ <function BaseEventLoop._run_once at 0x769e515c4cc0>\n",
      "    └ <_UnixSelectorEventLoop running=True closed=False debug=False>\n",
      "  File \"/usr/lib/python3.11/asyncio/base_events.py\", line 1936, in _run_once\n",
      "    handle._run()\n",
      "    │      └ <function Handle._run at 0x769e517ada80>\n",
      "    └ <Handle Task.task_wakeup(<Future finis...4B)>, ...],))>)>\n",
      "  File \"/usr/lib/python3.11/asyncio/events.py\", line 84, in _run\n",
      "    self._context.run(self._callback, *self._args)\n",
      "    │    │            │    │           │    └ <member '_args' of 'Handle' objects>\n",
      "    │    │            │    │           └ <Handle Task.task_wakeup(<Future finis...4B)>, ...],))>)>\n",
      "    │    │            │    └ <member '_callback' of 'Handle' objects>\n",
      "    │    │            └ <Handle Task.task_wakeup(<Future finis...4B)>, ...],))>)>\n",
      "    │    └ <member '_context' of 'Handle' objects>\n",
      "    └ <Handle Task.task_wakeup(<Future finis...4B)>, ...],))>)>\n",
      "  File \"/workspace/repr-preference-optimization/.venv/lib/python3.11/site-packages/ipykernel/kernelbase.py\", line 545, in dispatch_queue\n",
      "    await self.process_one()\n",
      "          │    └ <function Kernel.process_one at 0x769e4ff8f060>\n",
      "          └ <ipykernel.ipkernel.IPythonKernel object at 0x769e4fdfa350>\n",
      "  File \"/workspace/repr-preference-optimization/.venv/lib/python3.11/site-packages/ipykernel/kernelbase.py\", line 534, in process_one\n",
      "    await dispatch(*args)\n",
      "          │         └ ([<zmq.Frame(b'0d70fda5-a29'...36B)>, <zmq.Frame(b'<IDS|MSG>')>, <zmq.Frame(b'38a2f00eeefe'...64B)>, <zmq.Frame(b'{\"date\":\"20...\n",
      "          └ <bound method Kernel.dispatch_shell of <ipykernel.ipkernel.IPythonKernel object at 0x769e4fdfa350>>\n",
      "  File \"/workspace/repr-preference-optimization/.venv/lib/python3.11/site-packages/ipykernel/kernelbase.py\", line 437, in dispatch_shell\n",
      "    await result\n",
      "          └ <coroutine object IPythonKernel.execute_request at 0x769c07da7040>\n",
      "  File \"/workspace/repr-preference-optimization/.venv/lib/python3.11/site-packages/ipykernel/ipkernel.py\", line 362, in execute_request\n",
      "    await super().execute_request(stream, ident, parent)\n",
      "                                  │       │      └ {'header': {'date': datetime.datetime(2024, 10, 9, 11, 31, 3, 932000, tzinfo=tzutc()), 'msg_id': 'd12d3c6c-3725-4600-9de9-4b5...\n",
      "                                  │       └ [b'0d70fda5-a299-4dd3-b87e-da17fd694ff9']\n",
      "                                  └ <zmq.eventloop.zmqstream.ZMQStream object at 0x769e4fdf9910>\n",
      "  File \"/workspace/repr-preference-optimization/.venv/lib/python3.11/site-packages/ipykernel/kernelbase.py\", line 778, in execute_request\n",
      "    reply_content = await reply_content\n",
      "                          └ <coroutine object IPythonKernel.do_execute at 0x769e4ffa57b0>\n",
      "  File \"/workspace/repr-preference-optimization/.venv/lib/python3.11/site-packages/ipykernel/ipkernel.py\", line 449, in do_execute\n",
      "    res = shell.run_cell(\n",
      "          │     └ <function ZMQInteractiveShell.run_cell at 0x769e4fdc32e0>\n",
      "          └ <ipykernel.zmqshell.ZMQInteractiveShell object at 0x769e4c137910>\n",
      "  File \"/workspace/repr-preference-optimization/.venv/lib/python3.11/site-packages/ipykernel/zmqshell.py\", line 549, in run_cell\n",
      "    return super().run_cell(*args, **kwargs)\n",
      "                             │       └ {'store_history': True, 'silent': False, 'cell_id': 'vscode-notebook-cell://ssh-remote%2Brunpod/workspace/repr-preference-opt...\n",
      "                             └ ('MAX_TRIALS= 250\\nimport numpy as np\\nspaces = list(search_spaces.items())\\nwhile True:\\n    np.random.shuffle(spaces)\\n    ...\n",
      "  File \"/workspace/repr-preference-optimization/.venv/lib/python3.11/site-packages/IPython/core/interactiveshell.py\", line 3075, in run_cell\n",
      "    result = self._run_cell(\n",
      "             │    └ <function InteractiveShell._run_cell at 0x769e5094d080>\n",
      "             └ <ipykernel.zmqshell.ZMQInteractiveShell object at 0x769e4c137910>\n",
      "  File \"/workspace/repr-preference-optimization/.venv/lib/python3.11/site-packages/IPython/core/interactiveshell.py\", line 3130, in _run_cell\n",
      "    result = runner(coro)\n",
      "             │      └ <coroutine object InteractiveShell.run_cell_async at 0x769e4c3e75e0>\n",
      "             └ <function _pseudo_sync_runner at 0x769e50940220>\n",
      "  File \"/workspace/repr-preference-optimization/.venv/lib/python3.11/site-packages/IPython/core/async_helpers.py\", line 128, in _pseudo_sync_runner\n",
      "    coro.send(None)\n",
      "    │    └ <method 'send' of 'coroutine' objects>\n",
      "    └ <coroutine object InteractiveShell.run_cell_async at 0x769e4c3e75e0>\n",
      "  File \"/workspace/repr-preference-optimization/.venv/lib/python3.11/site-packages/IPython/core/interactiveshell.py\", line 3334, in run_cell_async\n",
      "    has_raised = await self.run_ast_nodes(code_ast.body, cell_name,\n",
      "                       │    │             │        │     └ '/tmp/ipykernel_1263875/1846718613.py'\n",
      "                       │    │             │        └ [<ast.Assign object at 0x769c02cecdf0>, <ast.Import object at 0x769c02cee3e0>, <ast.Assign object at 0x769c02cee440>, <ast.Wh...\n",
      "                       │    │             └ <ast.Module object at 0x769c02ceec50>\n",
      "                       │    └ <function InteractiveShell.run_ast_nodes at 0x769e5094d3a0>\n",
      "                       └ <ipykernel.zmqshell.ZMQInteractiveShell object at 0x769e4c137910>\n",
      "  File \"/workspace/repr-preference-optimization/.venv/lib/python3.11/site-packages/IPython/core/interactiveshell.py\", line 3517, in run_ast_nodes\n",
      "    if await self.run_code(code, result, async_=asy):\n",
      "             │    │        │     │              └ False\n",
      "             │    │        │     └ <ExecutionResult object at 769c02e814d0, execution_count=14 error_before_exec=None error_in_exec=None info=<ExecutionInfo obj...\n",
      "             │    │        └ <code object <module> at 0x10e65270, file \"/tmp/ipykernel_1263875/1846718613.py\", line 1>\n",
      "             │    └ <function InteractiveShell.run_code at 0x769e5094d440>\n",
      "             └ <ipykernel.zmqshell.ZMQInteractiveShell object at 0x769e4c137910>\n",
      "  File \"/workspace/repr-preference-optimization/.venv/lib/python3.11/site-packages/IPython/core/interactiveshell.py\", line 3577, in run_code\n",
      "    exec(code_obj, self.user_global_ns, self.user_ns)\n",
      "         │         │    │               │    └ {'__name__': '__main__', '__doc__': 'Automatically created module for IPython interactive environment', '__package__': None, ...\n",
      "         │         │    │               └ <ipykernel.zmqshell.ZMQInteractiveShell object at 0x769e4c137910>\n",
      "         │         │    └ <property object at 0x769e50932250>\n",
      "         │         └ <ipykernel.zmqshell.ZMQInteractiveShell object at 0x769e4c137910>\n",
      "         └ <code object <module> at 0x10e65270, file \"/tmp/ipykernel_1263875/1846718613.py\", line 1>\n",
      "\n",
      "> File \"\u001b[32m/tmp/ipykernel_1263875/\u001b[0m\u001b[32m\u001b[1m1846718613.py\u001b[0m\", line \u001b[33m35\u001b[0m, in \u001b[35m<module>\u001b[0m\n",
      "    \u001b[1mstudy\u001b[0m\u001b[35m\u001b[1m.\u001b[0m\u001b[1moptimize\u001b[0m\u001b[1m(\u001b[0m\u001b[1m_objective\u001b[0m\u001b[1m,\u001b[0m\n",
      "    \u001b[36m│     │        └ \u001b[0m\u001b[36m\u001b[1mfunctools.partial(<function objective at 0x769c03f21800>, key_metric='acc_gain_vs_ref/oos', starter_experiment_name='ether-pr...\u001b[0m\n",
      "    \u001b[36m│     └ \u001b[0m\u001b[36m\u001b[1m<function Study.optimize at 0x769ccafaae80>\u001b[0m\n",
      "    \u001b[36m└ \u001b[0m\u001b[36m\u001b[1m<optuna.study.study.Study object at 0x7699f0495d50>\u001b[0m\n",
      "\n",
      "  File \"/workspace/repr-preference-optimization/.venv/lib/python3.11/site-packages/optuna/study/study.py\", line 475, in optimize\n",
      "    _optimize(\n",
      "    └ <function _optimize at 0x769ccafa8cc0>\n",
      "  File \"/workspace/repr-preference-optimization/.venv/lib/python3.11/site-packages/optuna/study/_optimize.py\", line 63, in _optimize\n",
      "    _optimize_sequential(\n",
      "    └ <function _optimize_sequential at 0x769ccafaa020>\n",
      "  File \"/workspace/repr-preference-optimization/.venv/lib/python3.11/site-packages/optuna/study/_optimize.py\", line 160, in _optimize_sequential\n",
      "    frozen_trial = _run_trial(study, func, catch)\n",
      "                   │          │      │     └ (<class 'AssertionError'>, <class 'OSError'>, <class 'RuntimeError'>, <class 'KeyError'>, <class 'torch.OutOfMemoryError'>)\n",
      "                   │          │      └ functools.partial(<function objective at 0x769c03f21800>, key_metric='acc_gain_vs_ref/oos', starter_experiment_name='ether-pr...\n",
      "                   │          └ <optuna.study.study.Study object at 0x7699f0495d50>\n",
      "                   └ <function _run_trial at 0x769ccafaa340>\n",
      "  File \"/workspace/repr-preference-optimization/.venv/lib/python3.11/site-packages/optuna/study/_optimize.py\", line 248, in _run_trial\n",
      "    raise func_err\n",
      "          └ NameError(\"name 'exit' is not defined\")\n",
      "  File \"/workspace/repr-preference-optimization/.venv/lib/python3.11/site-packages/optuna/study/_optimize.py\", line 197, in _run_trial\n",
      "    value_or_values = func(trial)\n",
      "                      │    └ <optuna.trial._trial.Trial object at 0x769acec37050>\n",
      "                      └ functools.partial(<function objective at 0x769c03f21800>, key_metric='acc_gain_vs_ref/oos', starter_experiment_name='ether-pr...\n",
      "\n",
      "  File \"\u001b[32m/workspace/repr-preference-optimization/reprpo/hp/\u001b[0m\u001b[32m\u001b[1mtarget.py\u001b[0m\", line \u001b[33m91\u001b[0m, in \u001b[35mobjective\u001b[0m\n",
      "    \u001b[1mr\u001b[0m \u001b[35m\u001b[1m=\u001b[0m \u001b[1mobjective_func\u001b[0m\u001b[1m(\u001b[0m\u001b[1mkwargs\u001b[0m\u001b[1m,\u001b[0m \u001b[1mtrial\u001b[0m\u001b[1m,\u001b[0m \u001b[1mstarter_experiment_name\u001b[0m\u001b[1m)\u001b[0m\n",
      "    \u001b[36m    │              │       │      └ \u001b[0m\u001b[36m\u001b[1m'ether-prefvec'\u001b[0m\n",
      "    \u001b[36m    │              │       └ \u001b[0m\u001b[36m\u001b[1m<optuna.trial._trial.Trial object at 0x769acec37050>\u001b[0m\n",
      "    \u001b[36m    │              └ \u001b[0m\u001b[36m\u001b[1m{'lr': 1.564495873033758e-05, 'collect_input': True, 'collect_hs': False, 'transform.nb': 30, 'transform.Htype': 'ether', 'tr...\u001b[0m\n",
      "    \u001b[36m    └ \u001b[0m\u001b[36m\u001b[1m<function objective_func at 0x769c03f216c0>\u001b[0m\n",
      "\n",
      "  File \"\u001b[32m/workspace/repr-preference-optimization/reprpo/hp/\u001b[0m\u001b[32m\u001b[1mtarget.py\u001b[0m\", line \u001b[33m86\u001b[0m, in \u001b[35mobjective_func\u001b[0m\n",
      "    \u001b[1mr\u001b[0m \u001b[35m\u001b[1m=\u001b[0m \u001b[1mtrain\u001b[0m\u001b[1m(\u001b[0m\u001b[1mcfg\u001b[0m\u001b[1m,\u001b[0m \u001b[1mtrial\u001b[0m\u001b[35m\u001b[1m=\u001b[0m\u001b[1mtrial\u001b[0m\u001b[1m)\u001b[0m\n",
      "    \u001b[36m    │     │          └ \u001b[0m\u001b[36m\u001b[1m<optuna.trial._trial.Trial object at 0x769acec37050>\u001b[0m\n",
      "    \u001b[36m    │     └ \u001b[0m\u001b[36m\u001b[1mReprPOConfig(dataset='us_history_textbook', verbose=0, dev=False, load_in_4bit=False, load_in_8bit=False, use_gradient_checkp...\u001b[0m\n",
      "    \u001b[36m    └ \u001b[0m\u001b[36m\u001b[1m<function train at 0x769c07c8cfe0>\u001b[0m\n",
      "\n",
      "  File \"\u001b[32m/workspace/repr-preference-optimization/reprpo/\u001b[0m\u001b[32m\u001b[1mtraining.py\u001b[0m\", line \u001b[33m349\u001b[0m, in \u001b[35mtrain\u001b[0m\n",
      "    \u001b[1mtrainer\u001b[0m\u001b[35m\u001b[1m.\u001b[0m\u001b[1mfit\u001b[0m\u001b[1m(\u001b[0m\u001b[1mpl_model\u001b[0m\u001b[1m,\u001b[0m \u001b[1mdl_train\u001b[0m\u001b[1m,\u001b[0m \u001b[1mdl_val\u001b[0m\u001b[1m)\u001b[0m\n",
      "    \u001b[36m│       │   │         │         └ \u001b[0m\u001b[36m\u001b[1m<torch.utils.data.dataloader.DataLoader object at 0x7699d00eb810>\u001b[0m\n",
      "    \u001b[36m│       │   │         └ \u001b[0m\u001b[36m\u001b[1m<torch.utils.data.dataloader.DataLoader object at 0x769acfde4f10>\u001b[0m\n",
      "    \u001b[36m│       │   └ \u001b[0m\u001b[36m\u001b[1mPL_REPRPO_MODEL(\u001b[0m\n",
      "    \u001b[36m│       │     \u001b[0m\u001b[36m\u001b[1m  (_model): PeftModelForCausalLM(\u001b[0m\n",
      "    \u001b[36m│       │     \u001b[0m\u001b[36m\u001b[1m    (base_model): LoraModel(\u001b[0m\n",
      "    \u001b[36m│       │     \u001b[0m\u001b[36m\u001b[1m      (model): LlamaForCausalLM(\u001b[0m\n",
      "    \u001b[36m│       │     \u001b[0m\u001b[36m\u001b[1m        (mod...\u001b[0m\n",
      "    \u001b[36m│       └ \u001b[0m\u001b[36m\u001b[1m<function Trainer.fit at 0x769c184f5120>\u001b[0m\n",
      "    \u001b[36m└ \u001b[0m\u001b[36m\u001b[1m<lightning.pytorch.trainer.trainer.Trainer object at 0x769970693390>\u001b[0m\n",
      "\n",
      "  File \"/workspace/repr-preference-optimization/.venv/lib/python3.11/site-packages/lightning/pytorch/trainer/trainer.py\", line 538, in fit\n",
      "    call._call_and_handle_interrupt(\n",
      "    │    └ <function _call_and_handle_interrupt at 0x769c185d0cc0>\n",
      "    └ <module 'lightning.pytorch.trainer.call' from '/workspace/repr-preference-optimization/.venv/lib/python3.11/site-packages/lig...\n",
      "  File \"/workspace/repr-preference-optimization/.venv/lib/python3.11/site-packages/lightning/pytorch/trainer/call.py\", line 64, in _call_and_handle_interrupt\n",
      "    exit(1)\n",
      "\n",
      "\u001b[31m\u001b[1mNameError\u001b[0m:\u001b[1m name 'exit' is not defined\u001b[0m\n",
      "[I 2024-10-10 04:15:35,933] Using an existing study with name 'hs-hra-rank' instead of creating a new one.\n"
     ]
    },
    {
     "name": "stdout",
     "output_type": "stream",
     "text": [
      "loaded 262 hs-hra-rank trials\n"
     ]
    },
    {
     "name": "stderr",
     "output_type": "stream",
     "text": [
      "[I 2024-10-10 04:15:39,084] Using an existing study with name 'hs-ortho-prefvec' instead of creating a new one.\n"
     ]
    },
    {
     "name": "stdout",
     "output_type": "stream",
     "text": [
      "| hs-hra-rank N=✓259/262, best=1.152   |   importance |         best |\n",
      "|:-------------------------------------|-------------:|-------------:|\n",
      "| lr                                   |        0.844 |  0.000332682 |\n",
      "| β                                    |        0.072 |  0.37992     |\n",
      "| r                                    |        0.042 | 38           |\n",
      "| apply_GS                             |        0.042 |  1           |\n",
      "| α                                    |        0     |  0.280164    |\n",
      "================================================================================\n",
      "loaded 261 hs-ortho-prefvec trials\n"
     ]
    },
    {
     "name": "stderr",
     "output_type": "stream",
     "text": [
      "[I 2024-10-10 04:15:41,527] Using an existing study with name 'dpo' instead of creating a new one.\n"
     ]
    },
    {
     "name": "stdout",
     "output_type": "stream",
     "text": [
      "| hs-ortho-prefvec N=✓259/261, best=1.152   |   importance | best                   |\n",
      "|:------------------------------------------|-------------:|:-----------------------|\n",
      "| lr                                        |        0.934 | 0.00041061394065629645 |\n",
      "| β                                         |        0.022 | 1.970152011478674      |\n",
      "| orthogonal_map                            |        0.014 | matrix_exp             |\n",
      "| use_angle_loss                            |        0.014 | True                   |\n",
      "| use_dpo_loss                              |        0.01  | False                  |\n",
      "| weight_tokens                             |        0.003 | False                  |\n",
      "| use_proj_rel                              |        0.002 | True                   |\n",
      "| use_nll_loss                              |        0.001 | True                   |\n",
      "| use_orth_loss                             |        0.001 | True                   |\n",
      "================================================================================\n",
      "loaded 250 dpo trials\n"
     ]
    },
    {
     "name": "stderr",
     "output_type": "stream",
     "text": [
      "[I 2024-10-10 04:15:42,857] Using an existing study with name 'projgrad3' instead of creating a new one.\n"
     ]
    },
    {
     "name": "stdout",
     "output_type": "stream",
     "text": [
      "| dpo N=✓248/250, best=1.276   |   importance |        best |\n",
      "|:-----------------------------|-------------:|------------:|\n",
      "| lr                           |            1 | 0.000264989 |\n",
      "================================================================================\n",
      "loaded 308 projgrad3 trials\n"
     ]
    }
   ],
   "source": [
    "MAX_TRIALS= 250\n",
    "import numpy as np\n",
    "spaces = list(search_spaces.items())\n",
    "while True:\n",
    "    np.random.shuffle(spaces)\n",
    "    for exp_name, (max_trials, trial2args) in spaces:\n",
    "        try:\n",
    "            study_name = f\"{exp_name}\"\n",
    "            study = optuna.create_study(\n",
    "                study_name=study_name,\n",
    "                direction=\"maximize\",\n",
    "                load_if_exists=True,\n",
    "                storage=f_db,\n",
    "                sampler=optuna.samplers.TPESampler(seed=SEED),\n",
    "                # pruner=optuna.pruners.NopPruner(),\n",
    "            )\n",
    "\n",
    "            n = 0\n",
    "            try:\n",
    "                df = study.trials_dataframe().sort_values('value', ascending=False)\n",
    "                n = len(df)\n",
    "            except Exception as e:\n",
    "                print(e)\n",
    "                pass\n",
    "            if n>0:\n",
    "                print(f\"loaded {n} {study_name} trials\")\n",
    "\n",
    "                df_res = optuna_df(study, key_metric)\n",
    "                print(df_res.to_markdown())\n",
    "\n",
    "            \n",
    "            if n < max_trials:\n",
    "                _objective = functools.partial(objective, key_metric=key_metric, starter_experiment_name=exp_name, trial2args=trial2args)\n",
    "\n",
    "                study.optimize(_objective, \n",
    "                            n_trials=20, # do 20 at a time, round robin, untill done\n",
    "                            gc_after_trial=True, \n",
    "                            catch=(AssertionError, OSError, RuntimeError, KeyError, torch.OutOfMemoryError)\n",
    "                )\n",
    "\n",
    "            print('='*80)\n",
    "        except KeyboardInterrupt:\n",
    "            break\n",
    "        except Exception as e:\n",
    "            logger.exception(e)"
   ]
  },
  {
   "cell_type": "markdown",
   "metadata": {},
   "source": [
    "## plot"
   ]
  },
  {
   "cell_type": "code",
   "execution_count": null,
   "metadata": {},
   "outputs": [],
   "source": [
    "# You can use Matplotlib instead of Plotly for visualization by simply replacing `optuna.visualization` with\n",
    "# `optuna.visualization.matplotlib` in the following examples.\n",
    "from optuna.visualization.matplotlib import plot_contour\n",
    "from optuna.visualization.matplotlib import plot_edf\n",
    "from optuna.visualization.matplotlib import plot_intermediate_values\n",
    "from optuna.visualization.matplotlib import plot_optimization_history\n",
    "from optuna.visualization.matplotlib import plot_parallel_coordinate\n",
    "from optuna.visualization.matplotlib import plot_param_importances\n",
    "from optuna.visualization.matplotlib import plot_rank\n",
    "from optuna.visualization.matplotlib import plot_slice\n",
    "from optuna.visualization.matplotlib import plot_timeline"
   ]
  },
  {
   "cell_type": "code",
   "execution_count": null,
   "metadata": {},
   "outputs": [],
   "source": [
    "search_spaces.keys()"
   ]
  },
  {
   "cell_type": "code",
   "execution_count": null,
   "metadata": {},
   "outputs": [],
   "source": [
    "exp_name = 'projgrad'\n",
    "trial2args = search_spaces[exp_name]\n",
    "\n",
    "study_name = f\"{exp_name}\"\n",
    "study = optuna.create_study(\n",
    "    study_name=study_name,\n",
    "    direction=\"maximize\",\n",
    "    load_if_exists=True,\n",
    "    storage=f_db,\n",
    "    sampler=optuna.samplers.TPESampler(seed=SEED),\n",
    "    pruner=optuna.pruners.NopPruner(),\n",
    ")\n",
    "print('study.best_trial', study.best_trial)\n",
    "df = study.trials_dataframe().query('state == \"COMPLETE\"').sort_values('value', ascending=False)\n",
    "print(len(df))\n",
    "plot_optimization_history(study)"
   ]
  },
  {
   "cell_type": "code",
   "execution_count": 13,
   "metadata": {},
   "outputs": [],
   "source": [
    "# plot_timeline(study)"
   ]
  },
  {
   "cell_type": "code",
   "execution_count": 29,
   "metadata": {},
   "outputs": [],
   "source": [
    "# plot_intermediate_values(study)"
   ]
  },
  {
   "cell_type": "code",
   "execution_count": 30,
   "metadata": {},
   "outputs": [],
   "source": [
    "# plot_contour(study)\n"
   ]
  },
  {
   "cell_type": "code",
   "execution_count": null,
   "metadata": {},
   "outputs": [],
   "source": [
    "plot_slice(study)\n"
   ]
  },
  {
   "cell_type": "code",
   "execution_count": null,
   "metadata": {},
   "outputs": [],
   "source": [
    "plot_param_importances(study)"
   ]
  },
  {
   "cell_type": "code",
   "execution_count": null,
   "metadata": {},
   "outputs": [],
   "source": [
    "plot_intermediate_values(study)"
   ]
  },
  {
   "cell_type": "code",
   "execution_count": null,
   "metadata": {},
   "outputs": [],
   "source": [
    "plot_parallel_coordinate(study)"
   ]
  },
  {
   "cell_type": "markdown",
   "metadata": {},
   "source": [
    "### Apendix 1: dataclass 2 optuna"
   ]
  },
  {
   "cell_type": "code",
   "execution_count": 20,
   "metadata": {},
   "outputs": [],
   "source": [
    "# import inspect\n",
    "# import typing\n",
    "# from typing import Literal\n",
    "\n",
    "# def optuna_suggest_from_dataclass(t):\n",
    "#     n = t.__name__\n",
    "#     print(f'## {n}')\n",
    "#     sig = inspect.signature(t)\n",
    "#     for name, param in sig.parameters.items():\n",
    "#         if param.annotation== bool:\n",
    "#             print(f'\"{name}\": trial.suggest_categorical(\"{name}\", [True, False]),')\n",
    "#         elif param.annotation==int:\n",
    "#             print(f'\"{name}\": trial.suggest_int(\"{name}\", 1, 10),')\n",
    "#         elif param.annotation ==float:\n",
    "#             print(f'\"{name}\": trial.suggest_float(\"{name}\", 0.1, 10.0),')\n",
    "#         elif param.annotation == str:\n",
    "#             print(f'\"{name}\": trial.suggest_categorical(\"{name}\", [\"a\", \"b\", \"c\"]),')\n",
    "#         elif param.annotation == tuple:\n",
    "#             print(f'\"{name}\": trial.suggest_categorical(\"{name}\", [(1, 2), (3, 4), (5, 6)]),')\n",
    "#         elif typing.get_origin(param.annotation) == Literal:\n",
    "#             print(f'\"{name}\": trial.suggest_categorical(\"{name}\", {param.annotation.__args__}),')\n",
    "#         else:\n",
    "#             print(f\"!!Unknown type {param}\")\n",
    "#             # print(name, param.default, param.annotation)\n",
    "\n",
    "# optuna_suggest_from_dataclass(ReprPOConfig)\n",
    "# for t in Transforms:\n",
    "#     print(f'## {t}')\n",
    "#     optuna_suggest_from_dataclass(t.value)\n",
    "# for l in Losses:\n",
    "#     print(f'## {l}')\n",
    "#     optuna_suggest_from_dataclass(l.value)\n",
    "\n",
    "\n",
    "# optuna_suggest_from_dataclass(DPOProjGradConfig)"
   ]
  }
 ],
 "metadata": {
  "kernelspec": {
   "display_name": ".venv",
   "language": "python",
   "name": "python3"
  },
  "language_info": {
   "codemirror_mode": {
    "name": "ipython",
    "version": 3
   },
   "file_extension": ".py",
   "mimetype": "text/x-python",
   "name": "python",
   "nbconvert_exporter": "python",
   "pygments_lexer": "ipython3",
   "version": "3.11.10"
  }
 },
 "nbformat": 4,
 "nbformat_minor": 2
}
