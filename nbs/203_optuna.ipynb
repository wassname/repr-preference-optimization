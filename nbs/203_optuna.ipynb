{
 "cells": [
  {
   "cell_type": "markdown",
   "metadata": {},
   "source": [
    "https://optuna.readthedocs.io/en/stable/tutorial/10_key_features/005_visualization.html#sphx-glr-download-tutorial-10-key-features-005-visualization-py"
   ]
  },
  {
   "cell_type": "code",
   "execution_count": 1,
   "metadata": {},
   "outputs": [],
   "source": [
    "%reload_ext autoreload\n",
    "%autoreload 2"
   ]
  },
  {
   "cell_type": "code",
   "execution_count": 2,
   "metadata": {},
   "outputs": [],
   "source": [
    "import torch\n",
    "import pandas as pd\n",
    "from pathlib import Path\n",
    "import optuna\n",
    "from reprpo.hp.helpers import optuna_df"
   ]
  },
  {
   "cell_type": "code",
   "execution_count": 3,
   "metadata": {},
   "outputs": [
    {
     "name": "stdout",
     "output_type": "stream",
     "text": [
      "[2024-10-03 12:43:18,833] [INFO] [real_accelerator.py:203:get_accelerator] Setting ds_accelerator to cuda (auto detect)\n"
     ]
    },
    {
     "name": "stderr",
     "output_type": "stream",
     "text": [
      "/usr/bin/ld: cannot find -laio: No such file or directory\n",
      "collect2: error: ld returned 1 exit status\n",
      "/usr/bin/ld: cannot find -laio: No such file or directory\n",
      "collect2: error: ld returned 1 exit status\n"
     ]
    }
   ],
   "source": [
    "from reprpo.training import train\n",
    "from reprpo.experiments import experiment_configs\n",
    "from reprpo.hp.space import search_spaces"
   ]
  },
  {
   "cell_type": "markdown",
   "metadata": {},
   "source": [
    "## Objective"
   ]
  },
  {
   "cell_type": "markdown",
   "metadata": {},
   "source": []
  },
  {
   "cell_type": "code",
   "execution_count": 4,
   "metadata": {},
   "outputs": [],
   "source": [
    "SEED=42\n",
    "key_metric = \"acc_gain_vs_ref/oos\"\n",
    "torch.manual_seed(SEED)\n",
    "DEVICE = torch.device(\"cuda\") if torch.cuda.is_available() else torch.device(\"cpu\")"
   ]
  },
  {
   "cell_type": "code",
   "execution_count": 5,
   "metadata": {},
   "outputs": [],
   "source": [
    "# silence please\n",
    "import os\n",
    "from loguru import logger\n",
    "logger.remove()\n",
    "logger.remove()\n",
    "logger.add(os.sys.stderr, level=\"WARNING\")\n",
    "\n",
    "os.environ[\"WANDB_MODE\"] = \"disabled\"\n",
    "os.environ[\"HF_DATASETS_OFFLINE\"] = \"1\"\n",
    "os.environ[\"TQDM_DISABLE\"] = \"true\""
   ]
  },
  {
   "cell_type": "code",
   "execution_count": 6,
   "metadata": {},
   "outputs": [
    {
     "name": "stdout",
     "output_type": "stream",
     "text": [
      "./optuna.db\n"
     ]
    },
    {
     "data": {
      "text/plain": [
       "'sqlite:///optuna.db'"
      ]
     },
     "execution_count": 6,
     "metadata": {},
     "output_type": "execute_result"
    }
   ],
   "source": [
    "f_db = f\"sqlite:///optuna.db\"\n",
    "f = f_db.replace('sqlite:///', './')\n",
    "print(f)\n",
    "Path(f).parent.mkdir(parents=True, exist_ok=True)\n",
    "f_db"
   ]
  },
  {
   "cell_type": "code",
   "execution_count": 7,
   "metadata": {},
   "outputs": [],
   "source": [
    "# print(f'to visualise run in cli\\ncd nbs\\noptuna-dashboard {f_db}')"
   ]
  },
  {
   "cell_type": "code",
   "execution_count": 8,
   "metadata": {},
   "outputs": [],
   "source": [
    "from reprpo.hp.target import override, default_tuner_kwargs\n",
    "from reprpo.experiments import experiment_configs\n",
    "import copy\n",
    "import wandb\n",
    "\n",
    "import optuna.pruners\n",
    "from optuna_integration.wandb import WeightsAndBiasesCallback"
   ]
  },
  {
   "cell_type": "code",
   "execution_count": 9,
   "metadata": {},
   "outputs": [],
   "source": [
    "\n",
    "\n",
    "import functools\n",
    "\n",
    "def list2tuples(d):\n",
    "    for k, v in d.items():\n",
    "        if isinstance(v, list):\n",
    "            d[k] = tuple(v)\n",
    "    return d\n",
    "\n",
    "def objective_func(kwargs, trial, starter_experiment_name):\n",
    "    cfg = copy.deepcopy(experiment_configs[starter_experiment_name][1])\n",
    "    override(cfg, default_tuner_kwargs)\n",
    "    \n",
    "    override(cfg, kwargs)\n",
    "    kwargs = list2tuples(kwargs)\n",
    "    r = train(cfg, trial=trial)\n",
    "    return r\n",
    "\n",
    "def objective(trial: optuna.Trial, starter_experiment_name, trial2args, key_metric=key_metric) -> float:\n",
    "    kwargs = trial2args(trial)\n",
    "    r = objective_func(kwargs, trial, starter_experiment_name)\n",
    "    return r[key_metric]\n",
    "\n"
   ]
  },
  {
   "cell_type": "markdown",
   "metadata": {},
   "source": [
    "## Opt"
   ]
  },
  {
   "cell_type": "markdown",
   "metadata": {},
   "source": [
    "Note on pruning. It's only really usefull with validation metrics and for long jobs over many epochs. I've got a small proxy job so there is no need."
   ]
  },
  {
   "cell_type": "code",
   "execution_count": 10,
   "metadata": {},
   "outputs": [
    {
     "name": "stderr",
     "output_type": "stream",
     "text": [
      "[I 2024-10-03 12:44:21,375] A new study created in RDB with name: projgrad2\n",
      "[W 2024-10-03 12:44:22,090] Trial 0 failed with parameters: {'β': 0.3745401188473625, 'reverse_pref': True, 'scale_orth': True, 'weight_dim': 0, 'neg_slope': 0.01, 'mag_clip': None, 'lr': 1.9762189340280066e-05, 'collect_input': False, 'collect_hs': False} because of the following error: KeyError('projgrad2').\n",
      "Traceback (most recent call last):\n",
      "  File \"/workspace/repr-preference-optimization/.venv/lib/python3.11/site-packages/optuna/study/_optimize.py\", line 197, in _run_trial\n",
      "    value_or_values = func(trial)\n",
      "                      ^^^^^^^^^^^\n",
      "  File \"/tmp/ipykernel_1099294/2880211868.py\", line 20, in objective\n",
      "    r = objective_func(kwargs, trial, starter_experiment_name)\n",
      "        ^^^^^^^^^^^^^^^^^^^^^^^^^^^^^^^^^^^^^^^^^^^^^^^^^^^^^^\n",
      "  File \"/tmp/ipykernel_1099294/2880211868.py\", line 10, in objective_func\n",
      "    cfg = copy.deepcopy(experiment_configs[starter_experiment_name][1])\n",
      "                        ~~~~~~~~~~~~~~~~~~^^^^^^^^^^^^^^^^^^^^^^^^^\n",
      "KeyError: 'projgrad2'\n",
      "[W 2024-10-03 12:44:22,097] Trial 0 failed with value None.\n",
      "[W 2024-10-03 12:44:23,331] Trial 1 failed with parameters: {'β': 0.3663618432936917, 'reverse_pref': False, 'scale_orth': False, 'weight_dim': 1, 'neg_slope': 1, 'mag_clip': None, 'lr': 3.058656666978529e-05, 'collect_input': False, 'collect_hs': False} because of the following error: KeyError('projgrad2').\n",
      "Traceback (most recent call last):\n",
      "  File \"/workspace/repr-preference-optimization/.venv/lib/python3.11/site-packages/optuna/study/_optimize.py\", line 197, in _run_trial\n",
      "    value_or_values = func(trial)\n",
      "                      ^^^^^^^^^^^\n",
      "  File \"/tmp/ipykernel_1099294/2880211868.py\", line 20, in objective\n",
      "    r = objective_func(kwargs, trial, starter_experiment_name)\n",
      "        ^^^^^^^^^^^^^^^^^^^^^^^^^^^^^^^^^^^^^^^^^^^^^^^^^^^^^^\n",
      "  File \"/tmp/ipykernel_1099294/2880211868.py\", line 10, in objective_func\n",
      "    cfg = copy.deepcopy(experiment_configs[starter_experiment_name][1])\n",
      "                        ~~~~~~~~~~~~~~~~~~^^^^^^^^^^^^^^^^^^^^^^^^^\n",
      "KeyError: 'projgrad2'\n",
      "[W 2024-10-03 12:44:23,337] Trial 1 failed with value None.\n",
      "[W 2024-10-03 12:44:24,497] Trial 2 failed with parameters: {'β': 0.31171107608941095, 'reverse_pref': False, 'scale_orth': False, 'weight_dim': 2, 'neg_slope': 0, 'mag_clip': 10, 'lr': 6.963114377829292e-06, 'collect_input': True, 'collect_hs': True} because of the following error: KeyError('projgrad2').\n",
      "Traceback (most recent call last):\n",
      "  File \"/workspace/repr-preference-optimization/.venv/lib/python3.11/site-packages/optuna/study/_optimize.py\", line 197, in _run_trial\n",
      "    value_or_values = func(trial)\n",
      "                      ^^^^^^^^^^^\n",
      "  File \"/tmp/ipykernel_1099294/2880211868.py\", line 20, in objective\n",
      "    r = objective_func(kwargs, trial, starter_experiment_name)\n",
      "        ^^^^^^^^^^^^^^^^^^^^^^^^^^^^^^^^^^^^^^^^^^^^^^^^^^^^^^\n",
      "  File \"/tmp/ipykernel_1099294/2880211868.py\", line 10, in objective_func\n",
      "    cfg = copy.deepcopy(experiment_configs[starter_experiment_name][1])\n",
      "                        ~~~~~~~~~~~~~~~~~~^^^^^^^^^^^^^^^^^^^^^^^^^\n",
      "KeyError: 'projgrad2'\n",
      "[W 2024-10-03 12:44:24,502] Trial 2 failed with value None.\n",
      "[W 2024-10-03 12:44:25,347] Trial 3 failed with parameters: {'β': 0.9868869366005173, 'reverse_pref': True, 'scale_orth': False, 'weight_dim': 2, 'neg_slope': 0.01, 'mag_clip': None, 'lr': 8.178476574339548e-05, 'collect_input': True, 'collect_hs': False} because of the following error: KeyError('projgrad2').\n",
      "Traceback (most recent call last):\n",
      "  File \"/workspace/repr-preference-optimization/.venv/lib/python3.11/site-packages/optuna/study/_optimize.py\", line 197, in _run_trial\n",
      "    value_or_values = func(trial)\n",
      "                      ^^^^^^^^^^^\n",
      "  File \"/tmp/ipykernel_1099294/2880211868.py\", line 20, in objective\n",
      "    r = objective_func(kwargs, trial, starter_experiment_name)\n",
      "        ^^^^^^^^^^^^^^^^^^^^^^^^^^^^^^^^^^^^^^^^^^^^^^^^^^^^^^\n",
      "  File \"/tmp/ipykernel_1099294/2880211868.py\", line 10, in objective_func\n",
      "    cfg = copy.deepcopy(experiment_configs[starter_experiment_name][1])\n",
      "                        ~~~~~~~~~~~~~~~~~~^^^^^^^^^^^^^^^^^^^^^^^^^\n",
      "KeyError: 'projgrad2'\n",
      "[W 2024-10-03 12:44:25,349] Trial 3 failed with value None.\n",
      "[W 2024-10-03 12:44:26,188] Trial 4 failed with parameters: {'β': 0.7607850486168974, 'reverse_pref': False, 'scale_orth': False, 'weight_dim': 1, 'neg_slope': 0.5, 'mag_clip': 0.03, 'lr': 7.400385759087375e-06, 'collect_input': False, 'collect_hs': True} because of the following error: KeyError('projgrad2').\n",
      "Traceback (most recent call last):\n",
      "  File \"/workspace/repr-preference-optimization/.venv/lib/python3.11/site-packages/optuna/study/_optimize.py\", line 197, in _run_trial\n",
      "    value_or_values = func(trial)\n",
      "                      ^^^^^^^^^^^\n",
      "  File \"/tmp/ipykernel_1099294/2880211868.py\", line 20, in objective\n",
      "    r = objective_func(kwargs, trial, starter_experiment_name)\n",
      "        ^^^^^^^^^^^^^^^^^^^^^^^^^^^^^^^^^^^^^^^^^^^^^^^^^^^^^^\n",
      "  File \"/tmp/ipykernel_1099294/2880211868.py\", line 10, in objective_func\n",
      "    cfg = copy.deepcopy(experiment_configs[starter_experiment_name][1])\n",
      "                        ~~~~~~~~~~~~~~~~~~^^^^^^^^^^^^^^^^^^^^^^^^^\n",
      "KeyError: 'projgrad2'\n",
      "[W 2024-10-03 12:44:26,193] Trial 4 failed with value None.\n",
      "[W 2024-10-03 12:44:27,030] Trial 5 failed with parameters: {'β': 0.8714605901877177, 'reverse_pref': True, 'scale_orth': True, 'weight_dim': 2, 'neg_slope': 0, 'mag_clip': 0.03, 'lr': 1.0300196600986763e-05, 'collect_input': True, 'collect_hs': False} because of the following error: KeyError('projgrad2').\n",
      "Traceback (most recent call last):\n",
      "  File \"/workspace/repr-preference-optimization/.venv/lib/python3.11/site-packages/optuna/study/_optimize.py\", line 197, in _run_trial\n",
      "    value_or_values = func(trial)\n",
      "                      ^^^^^^^^^^^\n",
      "  File \"/tmp/ipykernel_1099294/2880211868.py\", line 20, in objective\n",
      "    r = objective_func(kwargs, trial, starter_experiment_name)\n",
      "        ^^^^^^^^^^^^^^^^^^^^^^^^^^^^^^^^^^^^^^^^^^^^^^^^^^^^^^\n",
      "  File \"/tmp/ipykernel_1099294/2880211868.py\", line 10, in objective_func\n",
      "    cfg = copy.deepcopy(experiment_configs[starter_experiment_name][1])\n",
      "                        ~~~~~~~~~~~~~~~~~~^^^^^^^^^^^^^^^^^^^^^^^^^\n",
      "KeyError: 'projgrad2'\n",
      "[W 2024-10-03 12:44:27,031] Trial 5 failed with value None.\n",
      "[W 2024-10-03 12:44:27,917] Trial 6 failed with parameters: {'β': 0.363629602379294, 'reverse_pref': True, 'scale_orth': False, 'weight_dim': 0, 'neg_slope': 0.1, 'mag_clip': 10, 'lr': 0.00010385003379927417, 'collect_input': True, 'collect_hs': True} because of the following error: KeyError('projgrad2').\n",
      "Traceback (most recent call last):\n",
      "  File \"/workspace/repr-preference-optimization/.venv/lib/python3.11/site-packages/optuna/study/_optimize.py\", line 197, in _run_trial\n",
      "    value_or_values = func(trial)\n",
      "                      ^^^^^^^^^^^\n",
      "  File \"/tmp/ipykernel_1099294/2880211868.py\", line 20, in objective\n",
      "    r = objective_func(kwargs, trial, starter_experiment_name)\n",
      "        ^^^^^^^^^^^^^^^^^^^^^^^^^^^^^^^^^^^^^^^^^^^^^^^^^^^^^^\n",
      "  File \"/tmp/ipykernel_1099294/2880211868.py\", line 10, in objective_func\n",
      "    cfg = copy.deepcopy(experiment_configs[starter_experiment_name][1])\n",
      "                        ~~~~~~~~~~~~~~~~~~^^^^^^^^^^^^^^^^^^^^^^^^^\n",
      "KeyError: 'projgrad2'\n",
      "[W 2024-10-03 12:44:27,924] Trial 6 failed with value None.\n",
      "[W 2024-10-03 12:44:28,810] Trial 7 failed with parameters: {'β': 0.6323058305935795, 'reverse_pref': True, 'scale_orth': False, 'weight_dim': 0, 'neg_slope': 0.5, 'mag_clip': 100, 'lr': 2.585608890731339e-06, 'collect_input': True, 'collect_hs': True} because of the following error: KeyError('projgrad2').\n",
      "Traceback (most recent call last):\n",
      "  File \"/workspace/repr-preference-optimization/.venv/lib/python3.11/site-packages/optuna/study/_optimize.py\", line 197, in _run_trial\n",
      "    value_or_values = func(trial)\n",
      "                      ^^^^^^^^^^^\n",
      "  File \"/tmp/ipykernel_1099294/2880211868.py\", line 20, in objective\n",
      "    r = objective_func(kwargs, trial, starter_experiment_name)\n",
      "        ^^^^^^^^^^^^^^^^^^^^^^^^^^^^^^^^^^^^^^^^^^^^^^^^^^^^^^\n",
      "  File \"/tmp/ipykernel_1099294/2880211868.py\", line 10, in objective_func\n",
      "    cfg = copy.deepcopy(experiment_configs[starter_experiment_name][1])\n",
      "                        ~~~~~~~~~~~~~~~~~~^^^^^^^^^^^^^^^^^^^^^^^^^\n",
      "KeyError: 'projgrad2'\n",
      "[W 2024-10-03 12:44:28,812] Trial 7 failed with value None.\n",
      "[W 2024-10-03 12:44:29,686] Trial 8 failed with parameters: {'β': 0.2579416277151556, 'reverse_pref': False, 'scale_orth': True, 'weight_dim': 0, 'neg_slope': 0.1, 'mag_clip': 0.1, 'lr': 3.054120318443385e-06, 'collect_input': True, 'collect_hs': False} because of the following error: KeyError('projgrad2').\n",
      "Traceback (most recent call last):\n",
      "  File \"/workspace/repr-preference-optimization/.venv/lib/python3.11/site-packages/optuna/study/_optimize.py\", line 197, in _run_trial\n",
      "    value_or_values = func(trial)\n",
      "                      ^^^^^^^^^^^\n",
      "  File \"/tmp/ipykernel_1099294/2880211868.py\", line 20, in objective\n",
      "    r = objective_func(kwargs, trial, starter_experiment_name)\n",
      "        ^^^^^^^^^^^^^^^^^^^^^^^^^^^^^^^^^^^^^^^^^^^^^^^^^^^^^^\n",
      "  File \"/tmp/ipykernel_1099294/2880211868.py\", line 10, in objective_func\n",
      "    cfg = copy.deepcopy(experiment_configs[starter_experiment_name][1])\n",
      "                        ~~~~~~~~~~~~~~~~~~^^^^^^^^^^^^^^^^^^^^^^^^^\n",
      "KeyError: 'projgrad2'\n",
      "[W 2024-10-03 12:44:29,689] Trial 8 failed with value None.\n",
      "[W 2024-10-03 12:44:30,561] Trial 9 failed with parameters: {'β': 0.6635017691080558, 'reverse_pref': False, 'scale_orth': False, 'weight_dim': 1, 'neg_slope': 1, 'mag_clip': 0.03, 'lr': 5.394720267647737e-06, 'collect_input': True, 'collect_hs': True} because of the following error: KeyError('projgrad2').\n",
      "Traceback (most recent call last):\n",
      "  File \"/workspace/repr-preference-optimization/.venv/lib/python3.11/site-packages/optuna/study/_optimize.py\", line 197, in _run_trial\n",
      "    value_or_values = func(trial)\n",
      "                      ^^^^^^^^^^^\n",
      "  File \"/tmp/ipykernel_1099294/2880211868.py\", line 20, in objective\n",
      "    r = objective_func(kwargs, trial, starter_experiment_name)\n",
      "        ^^^^^^^^^^^^^^^^^^^^^^^^^^^^^^^^^^^^^^^^^^^^^^^^^^^^^^\n",
      "  File \"/tmp/ipykernel_1099294/2880211868.py\", line 10, in objective_func\n",
      "    cfg = copy.deepcopy(experiment_configs[starter_experiment_name][1])\n",
      "                        ~~~~~~~~~~~~~~~~~~^^^^^^^^^^^^^^^^^^^^^^^^^\n",
      "KeyError: 'projgrad2'\n",
      "[W 2024-10-03 12:44:30,563] Trial 9 failed with value None.\n",
      "[W 2024-10-03 12:44:31,417] Trial 10 failed with parameters: {'β': 0.7948113035416484, 'reverse_pref': False, 'scale_orth': True, 'weight_dim': 2, 'neg_slope': 1, 'mag_clip': 100, 'lr': 0.0007777856590163645, 'collect_input': True, 'collect_hs': False} because of the following error: KeyError('projgrad2').\n",
      "Traceback (most recent call last):\n",
      "  File \"/workspace/repr-preference-optimization/.venv/lib/python3.11/site-packages/optuna/study/_optimize.py\", line 197, in _run_trial\n",
      "    value_or_values = func(trial)\n",
      "                      ^^^^^^^^^^^\n",
      "  File \"/tmp/ipykernel_1099294/2880211868.py\", line 20, in objective\n",
      "    r = objective_func(kwargs, trial, starter_experiment_name)\n",
      "        ^^^^^^^^^^^^^^^^^^^^^^^^^^^^^^^^^^^^^^^^^^^^^^^^^^^^^^\n",
      "  File \"/tmp/ipykernel_1099294/2880211868.py\", line 10, in objective_func\n",
      "    cfg = copy.deepcopy(experiment_configs[starter_experiment_name][1])\n",
      "                        ~~~~~~~~~~~~~~~~~~^^^^^^^^^^^^^^^^^^^^^^^^^\n",
      "KeyError: 'projgrad2'\n",
      "[W 2024-10-03 12:44:31,421] Trial 10 failed with value None.\n",
      "[W 2024-10-03 12:44:32,531] Trial 11 failed with parameters: {'β': 0.31692200515627766, 'reverse_pref': False, 'scale_orth': True, 'weight_dim': 1, 'neg_slope': 0.1, 'mag_clip': None, 'lr': 0.00026936439163179407, 'collect_input': False, 'collect_hs': True} because of the following error: KeyError('projgrad2').\n",
      "Traceback (most recent call last):\n",
      "  File \"/workspace/repr-preference-optimization/.venv/lib/python3.11/site-packages/optuna/study/_optimize.py\", line 197, in _run_trial\n",
      "    value_or_values = func(trial)\n",
      "                      ^^^^^^^^^^^\n",
      "  File \"/tmp/ipykernel_1099294/2880211868.py\", line 20, in objective\n",
      "    r = objective_func(kwargs, trial, starter_experiment_name)\n",
      "        ^^^^^^^^^^^^^^^^^^^^^^^^^^^^^^^^^^^^^^^^^^^^^^^^^^^^^^\n",
      "  File \"/tmp/ipykernel_1099294/2880211868.py\", line 10, in objective_func\n",
      "    cfg = copy.deepcopy(experiment_configs[starter_experiment_name][1])\n",
      "                        ~~~~~~~~~~~~~~~~~~^^^^^^^^^^^^^^^^^^^^^^^^^\n",
      "KeyError: 'projgrad2'\n",
      "[W 2024-10-03 12:44:32,535] Trial 11 failed with value None.\n",
      "[W 2024-10-03 12:44:33,523] Trial 12 failed with parameters: {'β': 0.7982951789667752, 'reverse_pref': False, 'scale_orth': False, 'weight_dim': 1, 'neg_slope': 0.1, 'mag_clip': 10, 'lr': 2.405368049589135e-06, 'collect_input': False, 'collect_hs': False} because of the following error: KeyError('projgrad2').\n",
      "Traceback (most recent call last):\n",
      "  File \"/workspace/repr-preference-optimization/.venv/lib/python3.11/site-packages/optuna/study/_optimize.py\", line 197, in _run_trial\n",
      "    value_or_values = func(trial)\n",
      "                      ^^^^^^^^^^^\n",
      "  File \"/tmp/ipykernel_1099294/2880211868.py\", line 20, in objective\n",
      "    r = objective_func(kwargs, trial, starter_experiment_name)\n",
      "        ^^^^^^^^^^^^^^^^^^^^^^^^^^^^^^^^^^^^^^^^^^^^^^^^^^^^^^\n",
      "  File \"/tmp/ipykernel_1099294/2880211868.py\", line 10, in objective_func\n",
      "    cfg = copy.deepcopy(experiment_configs[starter_experiment_name][1])\n",
      "                        ~~~~~~~~~~~~~~~~~~^^^^^^^^^^^^^^^^^^^^^^^^^\n",
      "KeyError: 'projgrad2'\n",
      "[W 2024-10-03 12:44:33,525] Trial 12 failed with value None.\n",
      "[W 2024-10-03 12:44:34,362] Trial 13 failed with parameters: {'β': 0.085347464993768, 'reverse_pref': False, 'scale_orth': False, 'weight_dim': 2, 'neg_slope': 0, 'mag_clip': 0.5, 'lr': 3.3104189563245155e-06, 'collect_input': False, 'collect_hs': False} because of the following error: KeyError('projgrad2').\n",
      "Traceback (most recent call last):\n",
      "  File \"/workspace/repr-preference-optimization/.venv/lib/python3.11/site-packages/optuna/study/_optimize.py\", line 197, in _run_trial\n",
      "    value_or_values = func(trial)\n",
      "                      ^^^^^^^^^^^\n",
      "  File \"/tmp/ipykernel_1099294/2880211868.py\", line 20, in objective\n",
      "    r = objective_func(kwargs, trial, starter_experiment_name)\n",
      "        ^^^^^^^^^^^^^^^^^^^^^^^^^^^^^^^^^^^^^^^^^^^^^^^^^^^^^^\n",
      "  File \"/tmp/ipykernel_1099294/2880211868.py\", line 10, in objective_func\n",
      "    cfg = copy.deepcopy(experiment_configs[starter_experiment_name][1])\n",
      "                        ~~~~~~~~~~~~~~~~~~^^^^^^^^^^^^^^^^^^^^^^^^^\n",
      "KeyError: 'projgrad2'\n",
      "[W 2024-10-03 12:44:34,365] Trial 13 failed with value None.\n",
      "[W 2024-10-03 12:44:35,193] Trial 14 failed with parameters: {'β': 0.6601973767177313, 'reverse_pref': False, 'scale_orth': True, 'weight_dim': 1, 'neg_slope': 0.5, 'mag_clip': 0.5, 'lr': 2.9843353644467214e-05, 'collect_input': True, 'collect_hs': True} because of the following error: KeyError('projgrad2').\n",
      "Traceback (most recent call last):\n",
      "  File \"/workspace/repr-preference-optimization/.venv/lib/python3.11/site-packages/optuna/study/_optimize.py\", line 197, in _run_trial\n",
      "    value_or_values = func(trial)\n",
      "                      ^^^^^^^^^^^\n",
      "  File \"/tmp/ipykernel_1099294/2880211868.py\", line 20, in objective\n",
      "    r = objective_func(kwargs, trial, starter_experiment_name)\n",
      "        ^^^^^^^^^^^^^^^^^^^^^^^^^^^^^^^^^^^^^^^^^^^^^^^^^^^^^^\n",
      "  File \"/tmp/ipykernel_1099294/2880211868.py\", line 10, in objective_func\n",
      "    cfg = copy.deepcopy(experiment_configs[starter_experiment_name][1])\n",
      "                        ~~~~~~~~~~~~~~~~~~^^^^^^^^^^^^^^^^^^^^^^^^^\n",
      "KeyError: 'projgrad2'\n",
      "[W 2024-10-03 12:44:35,195] Trial 14 failed with value None.\n",
      "[W 2024-10-03 12:44:36,030] Trial 15 failed with parameters: {'β': 0.6158500980522165, 'reverse_pref': True, 'scale_orth': False, 'weight_dim': 1, 'neg_slope': 0, 'mag_clip': 0.1, 'lr': 4.333615420461953e-05, 'collect_input': True, 'collect_hs': True} because of the following error: KeyError('projgrad2').\n",
      "Traceback (most recent call last):\n",
      "  File \"/workspace/repr-preference-optimization/.venv/lib/python3.11/site-packages/optuna/study/_optimize.py\", line 197, in _run_trial\n",
      "    value_or_values = func(trial)\n",
      "                      ^^^^^^^^^^^\n",
      "  File \"/tmp/ipykernel_1099294/2880211868.py\", line 20, in objective\n",
      "    r = objective_func(kwargs, trial, starter_experiment_name)\n",
      "        ^^^^^^^^^^^^^^^^^^^^^^^^^^^^^^^^^^^^^^^^^^^^^^^^^^^^^^\n",
      "  File \"/tmp/ipykernel_1099294/2880211868.py\", line 10, in objective_func\n",
      "    cfg = copy.deepcopy(experiment_configs[starter_experiment_name][1])\n",
      "                        ~~~~~~~~~~~~~~~~~~^^^^^^^^^^^^^^^^^^^^^^^^^\n",
      "KeyError: 'projgrad2'\n",
      "[W 2024-10-03 12:44:36,034] Trial 15 failed with value None.\n",
      "[W 2024-10-03 12:44:37,173] Trial 16 failed with parameters: {'β': 0.19579113478929644, 'reverse_pref': False, 'scale_orth': False, 'weight_dim': 2, 'neg_slope': 0.1, 'mag_clip': 1.0, 'lr': 7.016228391811996e-06, 'collect_input': False, 'collect_hs': False} because of the following error: KeyError('projgrad2').\n",
      "Traceback (most recent call last):\n",
      "  File \"/workspace/repr-preference-optimization/.venv/lib/python3.11/site-packages/optuna/study/_optimize.py\", line 197, in _run_trial\n",
      "    value_or_values = func(trial)\n",
      "                      ^^^^^^^^^^^\n",
      "  File \"/tmp/ipykernel_1099294/2880211868.py\", line 20, in objective\n",
      "    r = objective_func(kwargs, trial, starter_experiment_name)\n",
      "        ^^^^^^^^^^^^^^^^^^^^^^^^^^^^^^^^^^^^^^^^^^^^^^^^^^^^^^\n",
      "  File \"/tmp/ipykernel_1099294/2880211868.py\", line 10, in objective_func\n",
      "    cfg = copy.deepcopy(experiment_configs[starter_experiment_name][1])\n",
      "                        ~~~~~~~~~~~~~~~~~~^^^^^^^^^^^^^^^^^^^^^^^^^\n",
      "KeyError: 'projgrad2'\n",
      "[W 2024-10-03 12:44:37,177] Trial 16 failed with value None.\n",
      "[W 2024-10-03 12:44:38,247] Trial 17 failed with parameters: {'β': 0.4126176769114265, 'reverse_pref': False, 'scale_orth': False, 'weight_dim': 2, 'neg_slope': 1, 'mag_clip': 100, 'lr': 1.878711225602388e-06, 'collect_input': False, 'collect_hs': True} because of the following error: KeyError('projgrad2').\n",
      "Traceback (most recent call last):\n",
      "  File \"/workspace/repr-preference-optimization/.venv/lib/python3.11/site-packages/optuna/study/_optimize.py\", line 197, in _run_trial\n",
      "    value_or_values = func(trial)\n",
      "                      ^^^^^^^^^^^\n",
      "  File \"/tmp/ipykernel_1099294/2880211868.py\", line 20, in objective\n",
      "    r = objective_func(kwargs, trial, starter_experiment_name)\n",
      "        ^^^^^^^^^^^^^^^^^^^^^^^^^^^^^^^^^^^^^^^^^^^^^^^^^^^^^^\n",
      "  File \"/tmp/ipykernel_1099294/2880211868.py\", line 10, in objective_func\n",
      "    cfg = copy.deepcopy(experiment_configs[starter_experiment_name][1])\n",
      "                        ~~~~~~~~~~~~~~~~~~^^^^^^^^^^^^^^^^^^^^^^^^^\n",
      "KeyError: 'projgrad2'\n",
      "[W 2024-10-03 12:44:38,251] Trial 17 failed with value None.\n",
      "[W 2024-10-03 12:44:39,089] Trial 18 failed with parameters: {'β': 0.6318372121697993, 'reverse_pref': True, 'scale_orth': False, 'weight_dim': 2, 'neg_slope': 0, 'mag_clip': 0.1, 'lr': 7.15573402926428e-05, 'collect_input': True, 'collect_hs': True} because of the following error: KeyError('projgrad2').\n",
      "Traceback (most recent call last):\n",
      "  File \"/workspace/repr-preference-optimization/.venv/lib/python3.11/site-packages/optuna/study/_optimize.py\", line 197, in _run_trial\n",
      "    value_or_values = func(trial)\n",
      "                      ^^^^^^^^^^^\n",
      "  File \"/tmp/ipykernel_1099294/2880211868.py\", line 20, in objective\n",
      "    r = objective_func(kwargs, trial, starter_experiment_name)\n",
      "        ^^^^^^^^^^^^^^^^^^^^^^^^^^^^^^^^^^^^^^^^^^^^^^^^^^^^^^\n",
      "  File \"/tmp/ipykernel_1099294/2880211868.py\", line 10, in objective_func\n",
      "    cfg = copy.deepcopy(experiment_configs[starter_experiment_name][1])\n",
      "                        ~~~~~~~~~~~~~~~~~~^^^^^^^^^^^^^^^^^^^^^^^^^\n",
      "KeyError: 'projgrad2'\n",
      "[W 2024-10-03 12:44:39,092] Trial 18 failed with value None.\n",
      "[W 2024-10-03 12:44:40,000] Trial 19 failed with parameters: {'β': 0.8218600592903562, 'reverse_pref': True, 'scale_orth': False, 'weight_dim': 1, 'neg_slope': 0.5, 'mag_clip': 10, 'lr': 3.005213373823073e-05, 'collect_input': False, 'collect_hs': False} because of the following error: KeyError('projgrad2').\n",
      "Traceback (most recent call last):\n",
      "  File \"/workspace/repr-preference-optimization/.venv/lib/python3.11/site-packages/optuna/study/_optimize.py\", line 197, in _run_trial\n",
      "    value_or_values = func(trial)\n",
      "                      ^^^^^^^^^^^\n",
      "  File \"/tmp/ipykernel_1099294/2880211868.py\", line 20, in objective\n",
      "    r = objective_func(kwargs, trial, starter_experiment_name)\n",
      "        ^^^^^^^^^^^^^^^^^^^^^^^^^^^^^^^^^^^^^^^^^^^^^^^^^^^^^^\n",
      "  File \"/tmp/ipykernel_1099294/2880211868.py\", line 10, in objective_func\n",
      "    cfg = copy.deepcopy(experiment_configs[starter_experiment_name][1])\n",
      "                        ~~~~~~~~~~~~~~~~~~^^^^^^^^^^^^^^^^^^^^^^^^^\n",
      "KeyError: 'projgrad2'\n",
      "[W 2024-10-03 12:44:40,009] Trial 19 failed with value None.\n",
      "[W 2024-10-03 12:44:40,922] Trial 20 failed with parameters: {'β': 0.11752624677710488, 'reverse_pref': False, 'scale_orth': False, 'weight_dim': 1, 'neg_slope': 0.5, 'mag_clip': 1.0, 'lr': 0.0008089237879387585, 'collect_input': False, 'collect_hs': True} because of the following error: KeyError('projgrad2').\n",
      "Traceback (most recent call last):\n",
      "  File \"/workspace/repr-preference-optimization/.venv/lib/python3.11/site-packages/optuna/study/_optimize.py\", line 197, in _run_trial\n",
      "    value_or_values = func(trial)\n",
      "                      ^^^^^^^^^^^\n",
      "  File \"/tmp/ipykernel_1099294/2880211868.py\", line 20, in objective\n",
      "    r = objective_func(kwargs, trial, starter_experiment_name)\n",
      "        ^^^^^^^^^^^^^^^^^^^^^^^^^^^^^^^^^^^^^^^^^^^^^^^^^^^^^^\n",
      "  File \"/tmp/ipykernel_1099294/2880211868.py\", line 10, in objective_func\n",
      "    cfg = copy.deepcopy(experiment_configs[starter_experiment_name][1])\n",
      "                        ~~~~~~~~~~~~~~~~~~^^^^^^^^^^^^^^^^^^^^^^^^^\n",
      "KeyError: 'projgrad2'\n",
      "[W 2024-10-03 12:44:40,924] Trial 20 failed with value None.\n",
      "[W 2024-10-03 12:44:41,786] Trial 21 failed with parameters: {'β': 0.6275580800840634, 'reverse_pref': False, 'scale_orth': False, 'weight_dim': 2, 'neg_slope': 0, 'mag_clip': 10, 'lr': 4.057785622574114e-05, 'collect_input': False, 'collect_hs': True} because of the following error: KeyError('projgrad2').\n",
      "Traceback (most recent call last):\n",
      "  File \"/workspace/repr-preference-optimization/.venv/lib/python3.11/site-packages/optuna/study/_optimize.py\", line 197, in _run_trial\n",
      "    value_or_values = func(trial)\n",
      "                      ^^^^^^^^^^^\n",
      "  File \"/tmp/ipykernel_1099294/2880211868.py\", line 20, in objective\n",
      "    r = objective_func(kwargs, trial, starter_experiment_name)\n",
      "        ^^^^^^^^^^^^^^^^^^^^^^^^^^^^^^^^^^^^^^^^^^^^^^^^^^^^^^\n",
      "  File \"/tmp/ipykernel_1099294/2880211868.py\", line 10, in objective_func\n",
      "    cfg = copy.deepcopy(experiment_configs[starter_experiment_name][1])\n",
      "                        ~~~~~~~~~~~~~~~~~~^^^^^^^^^^^^^^^^^^^^^^^^^\n",
      "KeyError: 'projgrad2'\n",
      "[W 2024-10-03 12:44:41,790] Trial 21 failed with value None.\n",
      "[W 2024-10-03 12:44:42,628] Trial 22 failed with parameters: {'β': 0.9109271844938425, 'reverse_pref': False, 'scale_orth': True, 'weight_dim': 1, 'neg_slope': 0, 'mag_clip': 0.03, 'lr': 0.00032733022885465075, 'collect_input': True, 'collect_hs': True} because of the following error: KeyError('projgrad2').\n",
      "Traceback (most recent call last):\n",
      "  File \"/workspace/repr-preference-optimization/.venv/lib/python3.11/site-packages/optuna/study/_optimize.py\", line 197, in _run_trial\n",
      "    value_or_values = func(trial)\n",
      "                      ^^^^^^^^^^^\n",
      "  File \"/tmp/ipykernel_1099294/2880211868.py\", line 20, in objective\n",
      "    r = objective_func(kwargs, trial, starter_experiment_name)\n",
      "        ^^^^^^^^^^^^^^^^^^^^^^^^^^^^^^^^^^^^^^^^^^^^^^^^^^^^^^\n",
      "  File \"/tmp/ipykernel_1099294/2880211868.py\", line 10, in objective_func\n",
      "    cfg = copy.deepcopy(experiment_configs[starter_experiment_name][1])\n",
      "                        ~~~~~~~~~~~~~~~~~~^^^^^^^^^^^^^^^^^^^^^^^^^\n",
      "KeyError: 'projgrad2'\n",
      "[W 2024-10-03 12:44:42,630] Trial 22 failed with value None.\n",
      "[W 2024-10-03 12:44:43,531] Trial 23 failed with parameters: {'β': 0.8647223762550532, 'reverse_pref': False, 'scale_orth': True, 'weight_dim': 2, 'neg_slope': 0, 'mag_clip': None, 'lr': 0.00010344740166734468, 'collect_input': False, 'collect_hs': False} because of the following error: KeyError('projgrad2').\n",
      "Traceback (most recent call last):\n",
      "  File \"/workspace/repr-preference-optimization/.venv/lib/python3.11/site-packages/optuna/study/_optimize.py\", line 197, in _run_trial\n",
      "    value_or_values = func(trial)\n",
      "                      ^^^^^^^^^^^\n",
      "  File \"/tmp/ipykernel_1099294/2880211868.py\", line 20, in objective\n",
      "    r = objective_func(kwargs, trial, starter_experiment_name)\n",
      "        ^^^^^^^^^^^^^^^^^^^^^^^^^^^^^^^^^^^^^^^^^^^^^^^^^^^^^^\n",
      "  File \"/tmp/ipykernel_1099294/2880211868.py\", line 10, in objective_func\n",
      "    cfg = copy.deepcopy(experiment_configs[starter_experiment_name][1])\n",
      "                        ~~~~~~~~~~~~~~~~~~^^^^^^^^^^^^^^^^^^^^^^^^^\n",
      "KeyError: 'projgrad2'\n",
      "[W 2024-10-03 12:44:43,535] Trial 23 failed with value None.\n",
      "[W 2024-10-03 12:44:44,368] Trial 24 failed with parameters: {'β': 0.5519068387744855, 'reverse_pref': False, 'scale_orth': True, 'weight_dim': 0, 'neg_slope': 0, 'mag_clip': 10, 'lr': 3.4831202446644246e-05, 'collect_input': True, 'collect_hs': False} because of the following error: KeyError('projgrad2').\n",
      "Traceback (most recent call last):\n",
      "  File \"/workspace/repr-preference-optimization/.venv/lib/python3.11/site-packages/optuna/study/_optimize.py\", line 197, in _run_trial\n",
      "    value_or_values = func(trial)\n",
      "                      ^^^^^^^^^^^\n",
      "  File \"/tmp/ipykernel_1099294/2880211868.py\", line 20, in objective\n",
      "    r = objective_func(kwargs, trial, starter_experiment_name)\n",
      "        ^^^^^^^^^^^^^^^^^^^^^^^^^^^^^^^^^^^^^^^^^^^^^^^^^^^^^^\n",
      "  File \"/tmp/ipykernel_1099294/2880211868.py\", line 10, in objective_func\n",
      "    cfg = copy.deepcopy(experiment_configs[starter_experiment_name][1])\n",
      "                        ~~~~~~~~~~~~~~~~~~^^^^^^^^^^^^^^^^^^^^^^^^^\n",
      "KeyError: 'projgrad2'\n",
      "[W 2024-10-03 12:44:44,370] Trial 24 failed with value None.\n",
      "[W 2024-10-03 12:44:45,531] Trial 25 failed with parameters: {'β': 0.9495206236576421, 'reverse_pref': False, 'scale_orth': True, 'weight_dim': 1, 'neg_slope': 0, 'mag_clip': 10, 'lr': 1.0889347318773485e-05, 'collect_input': True, 'collect_hs': True} because of the following error: KeyError('projgrad2').\n",
      "Traceback (most recent call last):\n",
      "  File \"/workspace/repr-preference-optimization/.venv/lib/python3.11/site-packages/optuna/study/_optimize.py\", line 197, in _run_trial\n",
      "    value_or_values = func(trial)\n",
      "                      ^^^^^^^^^^^\n",
      "  File \"/tmp/ipykernel_1099294/2880211868.py\", line 20, in objective\n",
      "    r = objective_func(kwargs, trial, starter_experiment_name)\n",
      "        ^^^^^^^^^^^^^^^^^^^^^^^^^^^^^^^^^^^^^^^^^^^^^^^^^^^^^^\n",
      "  File \"/tmp/ipykernel_1099294/2880211868.py\", line 10, in objective_func\n",
      "    cfg = copy.deepcopy(experiment_configs[starter_experiment_name][1])\n",
      "                        ~~~~~~~~~~~~~~~~~~^^^^^^^^^^^^^^^^^^^^^^^^^\n",
      "KeyError: 'projgrad2'\n",
      "[W 2024-10-03 12:44:45,535] Trial 25 failed with value None.\n",
      "[W 2024-10-03 12:44:46,435] Trial 26 failed with parameters: {'β': 0.19228901880867078, 'reverse_pref': False, 'scale_orth': True, 'weight_dim': 0, 'neg_slope': 1, 'mag_clip': 100, 'lr': 1.5248737193039703e-06, 'collect_input': False, 'collect_hs': True} because of the following error: KeyError('projgrad2').\n",
      "Traceback (most recent call last):\n",
      "  File \"/workspace/repr-preference-optimization/.venv/lib/python3.11/site-packages/optuna/study/_optimize.py\", line 197, in _run_trial\n",
      "    value_or_values = func(trial)\n",
      "                      ^^^^^^^^^^^\n",
      "  File \"/tmp/ipykernel_1099294/2880211868.py\", line 20, in objective\n",
      "    r = objective_func(kwargs, trial, starter_experiment_name)\n",
      "        ^^^^^^^^^^^^^^^^^^^^^^^^^^^^^^^^^^^^^^^^^^^^^^^^^^^^^^\n",
      "  File \"/tmp/ipykernel_1099294/2880211868.py\", line 10, in objective_func\n",
      "    cfg = copy.deepcopy(experiment_configs[starter_experiment_name][1])\n",
      "                        ~~~~~~~~~~~~~~~~~~^^^^^^^^^^^^^^^^^^^^^^^^^\n",
      "KeyError: 'projgrad2'\n",
      "[W 2024-10-03 12:44:46,437] Trial 26 failed with value None.\n",
      "[W 2024-10-03 12:44:47,381] Trial 27 failed with parameters: {'β': 0.2093493233367103, 'reverse_pref': False, 'scale_orth': True, 'weight_dim': 1, 'neg_slope': 1, 'mag_clip': 1.0, 'lr': 1.3547291924247343e-05, 'collect_input': False, 'collect_hs': False} because of the following error: KeyError('projgrad2').\n",
      "Traceback (most recent call last):\n",
      "  File \"/workspace/repr-preference-optimization/.venv/lib/python3.11/site-packages/optuna/study/_optimize.py\", line 197, in _run_trial\n",
      "    value_or_values = func(trial)\n",
      "                      ^^^^^^^^^^^\n",
      "  File \"/tmp/ipykernel_1099294/2880211868.py\", line 20, in objective\n",
      "    r = objective_func(kwargs, trial, starter_experiment_name)\n",
      "        ^^^^^^^^^^^^^^^^^^^^^^^^^^^^^^^^^^^^^^^^^^^^^^^^^^^^^^\n",
      "  File \"/tmp/ipykernel_1099294/2880211868.py\", line 10, in objective_func\n",
      "    cfg = copy.deepcopy(experiment_configs[starter_experiment_name][1])\n",
      "                        ~~~~~~~~~~~~~~~~~~^^^^^^^^^^^^^^^^^^^^^^^^^\n",
      "KeyError: 'projgrad2'\n",
      "[W 2024-10-03 12:44:47,385] Trial 27 failed with value None.\n",
      "[W 2024-10-03 12:44:48,284] Trial 28 failed with parameters: {'β': 0.11976213181925122, 'reverse_pref': True, 'scale_orth': False, 'weight_dim': 1, 'neg_slope': 0.5, 'mag_clip': 100, 'lr': 6.56635650548411e-05, 'collect_input': True, 'collect_hs': False} because of the following error: KeyError('projgrad2').\n",
      "Traceback (most recent call last):\n",
      "  File \"/workspace/repr-preference-optimization/.venv/lib/python3.11/site-packages/optuna/study/_optimize.py\", line 197, in _run_trial\n",
      "    value_or_values = func(trial)\n",
      "                      ^^^^^^^^^^^\n",
      "  File \"/tmp/ipykernel_1099294/2880211868.py\", line 20, in objective\n",
      "    r = objective_func(kwargs, trial, starter_experiment_name)\n",
      "        ^^^^^^^^^^^^^^^^^^^^^^^^^^^^^^^^^^^^^^^^^^^^^^^^^^^^^^\n",
      "  File \"/tmp/ipykernel_1099294/2880211868.py\", line 10, in objective_func\n",
      "    cfg = copy.deepcopy(experiment_configs[starter_experiment_name][1])\n",
      "                        ~~~~~~~~~~~~~~~~~~^^^^^^^^^^^^^^^^^^^^^^^^^\n",
      "KeyError: 'projgrad2'\n",
      "[W 2024-10-03 12:44:48,286] Trial 28 failed with value None.\n",
      "[W 2024-10-03 12:44:49,197] Trial 29 failed with parameters: {'β': 0.16068137325955567, 'reverse_pref': False, 'scale_orth': False, 'weight_dim': 0, 'neg_slope': 0.1, 'mag_clip': None, 'lr': 4.680461519589534e-05, 'collect_input': True, 'collect_hs': True} because of the following error: KeyError('projgrad2').\n",
      "Traceback (most recent call last):\n",
      "  File \"/workspace/repr-preference-optimization/.venv/lib/python3.11/site-packages/optuna/study/_optimize.py\", line 197, in _run_trial\n",
      "    value_or_values = func(trial)\n",
      "                      ^^^^^^^^^^^\n",
      "  File \"/tmp/ipykernel_1099294/2880211868.py\", line 20, in objective\n",
      "    r = objective_func(kwargs, trial, starter_experiment_name)\n",
      "        ^^^^^^^^^^^^^^^^^^^^^^^^^^^^^^^^^^^^^^^^^^^^^^^^^^^^^^\n",
      "  File \"/tmp/ipykernel_1099294/2880211868.py\", line 10, in objective_func\n",
      "    cfg = copy.deepcopy(experiment_configs[starter_experiment_name][1])\n",
      "                        ~~~~~~~~~~~~~~~~~~^^^^^^^^^^^^^^^^^^^^^^^^^\n",
      "KeyError: 'projgrad2'\n",
      "[W 2024-10-03 12:44:49,200] Trial 29 failed with value None.\n",
      "[W 2024-10-03 12:44:50,092] Trial 30 failed with parameters: {'β': 0.3236792364042437, 'reverse_pref': False, 'scale_orth': True, 'weight_dim': 1, 'neg_slope': 0.01, 'mag_clip': 1.0, 'lr': 5.8066007290406025e-06, 'collect_input': False, 'collect_hs': True} because of the following error: KeyError('projgrad2').\n",
      "Traceback (most recent call last):\n",
      "  File \"/workspace/repr-preference-optimization/.venv/lib/python3.11/site-packages/optuna/study/_optimize.py\", line 197, in _run_trial\n",
      "    value_or_values = func(trial)\n",
      "                      ^^^^^^^^^^^\n",
      "  File \"/tmp/ipykernel_1099294/2880211868.py\", line 20, in objective\n",
      "    r = objective_func(kwargs, trial, starter_experiment_name)\n",
      "        ^^^^^^^^^^^^^^^^^^^^^^^^^^^^^^^^^^^^^^^^^^^^^^^^^^^^^^\n",
      "  File \"/tmp/ipykernel_1099294/2880211868.py\", line 10, in objective_func\n",
      "    cfg = copy.deepcopy(experiment_configs[starter_experiment_name][1])\n",
      "                        ~~~~~~~~~~~~~~~~~~^^^^^^^^^^^^^^^^^^^^^^^^^\n",
      "KeyError: 'projgrad2'\n",
      "[W 2024-10-03 12:44:50,099] Trial 30 failed with value None.\n",
      "[W 2024-10-03 12:44:51,035] Trial 31 failed with parameters: {'β': 0.41184091414726853, 'reverse_pref': False, 'scale_orth': False, 'weight_dim': 0, 'neg_slope': 0.01, 'mag_clip': 0.03, 'lr': 0.00027779483115779877, 'collect_input': True, 'collect_hs': False} because of the following error: KeyError('projgrad2').\n",
      "Traceback (most recent call last):\n",
      "  File \"/workspace/repr-preference-optimization/.venv/lib/python3.11/site-packages/optuna/study/_optimize.py\", line 197, in _run_trial\n",
      "    value_or_values = func(trial)\n",
      "                      ^^^^^^^^^^^\n",
      "  File \"/tmp/ipykernel_1099294/2880211868.py\", line 20, in objective\n",
      "    r = objective_func(kwargs, trial, starter_experiment_name)\n",
      "        ^^^^^^^^^^^^^^^^^^^^^^^^^^^^^^^^^^^^^^^^^^^^^^^^^^^^^^\n",
      "  File \"/tmp/ipykernel_1099294/2880211868.py\", line 10, in objective_func\n",
      "    cfg = copy.deepcopy(experiment_configs[starter_experiment_name][1])\n",
      "                        ~~~~~~~~~~~~~~~~~~^^^^^^^^^^^^^^^^^^^^^^^^^\n",
      "KeyError: 'projgrad2'\n",
      "[W 2024-10-03 12:44:51,039] Trial 31 failed with value None.\n",
      "[W 2024-10-03 12:44:51,991] Trial 32 failed with parameters: {'β': 0.3924451074226354, 'reverse_pref': True, 'scale_orth': False, 'weight_dim': 0, 'neg_slope': 0.5, 'mag_clip': 1.0, 'lr': 2.6170752963794674e-06, 'collect_input': True, 'collect_hs': False} because of the following error: KeyError('projgrad2').\n",
      "Traceback (most recent call last):\n",
      "  File \"/workspace/repr-preference-optimization/.venv/lib/python3.11/site-packages/optuna/study/_optimize.py\", line 197, in _run_trial\n",
      "    value_or_values = func(trial)\n",
      "                      ^^^^^^^^^^^\n",
      "  File \"/tmp/ipykernel_1099294/2880211868.py\", line 20, in objective\n",
      "    r = objective_func(kwargs, trial, starter_experiment_name)\n",
      "        ^^^^^^^^^^^^^^^^^^^^^^^^^^^^^^^^^^^^^^^^^^^^^^^^^^^^^^\n",
      "  File \"/tmp/ipykernel_1099294/2880211868.py\", line 10, in objective_func\n",
      "    cfg = copy.deepcopy(experiment_configs[starter_experiment_name][1])\n",
      "                        ~~~~~~~~~~~~~~~~~~^^^^^^^^^^^^^^^^^^^^^^^^^\n",
      "KeyError: 'projgrad2'\n",
      "[W 2024-10-03 12:44:51,993] Trial 32 failed with value None.\n",
      "[W 2024-10-03 12:44:52,848] Trial 33 failed with parameters: {'β': 0.7885972112245307, 'reverse_pref': False, 'scale_orth': False, 'weight_dim': 0, 'neg_slope': 0.1, 'mag_clip': 0.03, 'lr': 0.0001468106985712441, 'collect_input': True, 'collect_hs': True} because of the following error: KeyError('projgrad2').\n",
      "Traceback (most recent call last):\n",
      "  File \"/workspace/repr-preference-optimization/.venv/lib/python3.11/site-packages/optuna/study/_optimize.py\", line 197, in _run_trial\n",
      "    value_or_values = func(trial)\n",
      "                      ^^^^^^^^^^^\n",
      "  File \"/tmp/ipykernel_1099294/2880211868.py\", line 20, in objective\n",
      "    r = objective_func(kwargs, trial, starter_experiment_name)\n",
      "        ^^^^^^^^^^^^^^^^^^^^^^^^^^^^^^^^^^^^^^^^^^^^^^^^^^^^^^\n",
      "  File \"/tmp/ipykernel_1099294/2880211868.py\", line 10, in objective_func\n",
      "    cfg = copy.deepcopy(experiment_configs[starter_experiment_name][1])\n",
      "                        ~~~~~~~~~~~~~~~~~~^^^^^^^^^^^^^^^^^^^^^^^^^\n",
      "KeyError: 'projgrad2'\n",
      "[W 2024-10-03 12:44:52,853] Trial 33 failed with value None.\n",
      "[W 2024-10-03 12:44:53,713] Trial 34 failed with parameters: {'β': 0.25179905890695276, 'reverse_pref': True, 'scale_orth': True, 'weight_dim': 1, 'neg_slope': 0.01, 'mag_clip': 0.5, 'lr': 0.00013234754903375766, 'collect_input': False, 'collect_hs': True} because of the following error: KeyError('projgrad2').\n",
      "Traceback (most recent call last):\n",
      "  File \"/workspace/repr-preference-optimization/.venv/lib/python3.11/site-packages/optuna/study/_optimize.py\", line 197, in _run_trial\n",
      "    value_or_values = func(trial)\n",
      "                      ^^^^^^^^^^^\n",
      "  File \"/tmp/ipykernel_1099294/2880211868.py\", line 20, in objective\n",
      "    r = objective_func(kwargs, trial, starter_experiment_name)\n",
      "        ^^^^^^^^^^^^^^^^^^^^^^^^^^^^^^^^^^^^^^^^^^^^^^^^^^^^^^\n",
      "  File \"/tmp/ipykernel_1099294/2880211868.py\", line 10, in objective_func\n",
      "    cfg = copy.deepcopy(experiment_configs[starter_experiment_name][1])\n",
      "                        ~~~~~~~~~~~~~~~~~~^^^^^^^^^^^^^^^^^^^^^^^^^\n",
      "KeyError: 'projgrad2'\n",
      "[W 2024-10-03 12:44:53,715] Trial 34 failed with value None.\n",
      "[W 2024-10-03 12:44:54,625] Trial 35 failed with parameters: {'β': 0.7364442356247228, 'reverse_pref': True, 'scale_orth': True, 'weight_dim': 2, 'neg_slope': 0.1, 'mag_clip': 1.0, 'lr': 1.564970230997267e-05, 'collect_input': False, 'collect_hs': False} because of the following error: KeyError('projgrad2').\n",
      "Traceback (most recent call last):\n",
      "  File \"/workspace/repr-preference-optimization/.venv/lib/python3.11/site-packages/optuna/study/_optimize.py\", line 197, in _run_trial\n",
      "    value_or_values = func(trial)\n",
      "                      ^^^^^^^^^^^\n",
      "  File \"/tmp/ipykernel_1099294/2880211868.py\", line 20, in objective\n",
      "    r = objective_func(kwargs, trial, starter_experiment_name)\n",
      "        ^^^^^^^^^^^^^^^^^^^^^^^^^^^^^^^^^^^^^^^^^^^^^^^^^^^^^^\n",
      "  File \"/tmp/ipykernel_1099294/2880211868.py\", line 10, in objective_func\n",
      "    cfg = copy.deepcopy(experiment_configs[starter_experiment_name][1])\n",
      "                        ~~~~~~~~~~~~~~~~~~^^^^^^^^^^^^^^^^^^^^^^^^^\n",
      "KeyError: 'projgrad2'\n",
      "[W 2024-10-03 12:44:54,629] Trial 35 failed with value None.\n",
      "[W 2024-10-03 12:44:55,564] Trial 36 failed with parameters: {'β': 0.7375012481097484, 'reverse_pref': True, 'scale_orth': True, 'weight_dim': 0, 'neg_slope': 0.1, 'mag_clip': 1.0, 'lr': 1.8032211984108182e-06, 'collect_input': True, 'collect_hs': True} because of the following error: KeyError('projgrad2').\n",
      "Traceback (most recent call last):\n",
      "  File \"/workspace/repr-preference-optimization/.venv/lib/python3.11/site-packages/optuna/study/_optimize.py\", line 197, in _run_trial\n",
      "    value_or_values = func(trial)\n",
      "                      ^^^^^^^^^^^\n",
      "  File \"/tmp/ipykernel_1099294/2880211868.py\", line 20, in objective\n",
      "    r = objective_func(kwargs, trial, starter_experiment_name)\n",
      "        ^^^^^^^^^^^^^^^^^^^^^^^^^^^^^^^^^^^^^^^^^^^^^^^^^^^^^^\n",
      "  File \"/tmp/ipykernel_1099294/2880211868.py\", line 10, in objective_func\n",
      "    cfg = copy.deepcopy(experiment_configs[starter_experiment_name][1])\n",
      "                        ~~~~~~~~~~~~~~~~~~^^^^^^^^^^^^^^^^^^^^^^^^^\n",
      "KeyError: 'projgrad2'\n",
      "[W 2024-10-03 12:44:55,566] Trial 36 failed with value None.\n",
      "[W 2024-10-03 12:44:56,458] Trial 37 failed with parameters: {'β': 0.7499604703991778, 'reverse_pref': False, 'scale_orth': True, 'weight_dim': 0, 'neg_slope': 0.5, 'mag_clip': 100, 'lr': 0.0006892017736077922, 'collect_input': True, 'collect_hs': True} because of the following error: KeyError('projgrad2').\n",
      "Traceback (most recent call last):\n",
      "  File \"/workspace/repr-preference-optimization/.venv/lib/python3.11/site-packages/optuna/study/_optimize.py\", line 197, in _run_trial\n",
      "    value_or_values = func(trial)\n",
      "                      ^^^^^^^^^^^\n",
      "  File \"/tmp/ipykernel_1099294/2880211868.py\", line 20, in objective\n",
      "    r = objective_func(kwargs, trial, starter_experiment_name)\n",
      "        ^^^^^^^^^^^^^^^^^^^^^^^^^^^^^^^^^^^^^^^^^^^^^^^^^^^^^^\n",
      "  File \"/tmp/ipykernel_1099294/2880211868.py\", line 10, in objective_func\n",
      "    cfg = copy.deepcopy(experiment_configs[starter_experiment_name][1])\n",
      "                        ~~~~~~~~~~~~~~~~~~^^^^^^^^^^^^^^^^^^^^^^^^^\n",
      "KeyError: 'projgrad2'\n",
      "[W 2024-10-03 12:44:56,467] Trial 37 failed with value None.\n",
      "[W 2024-10-03 12:44:57,300] Trial 38 failed with parameters: {'β': 0.02538635566034486, 'reverse_pref': False, 'scale_orth': True, 'weight_dim': 0, 'neg_slope': 1, 'mag_clip': 100, 'lr': 0.0003094992448375787, 'collect_input': False, 'collect_hs': False} because of the following error: KeyError('projgrad2').\n",
      "Traceback (most recent call last):\n",
      "  File \"/workspace/repr-preference-optimization/.venv/lib/python3.11/site-packages/optuna/study/_optimize.py\", line 197, in _run_trial\n",
      "    value_or_values = func(trial)\n",
      "                      ^^^^^^^^^^^\n",
      "  File \"/tmp/ipykernel_1099294/2880211868.py\", line 20, in objective\n",
      "    r = objective_func(kwargs, trial, starter_experiment_name)\n",
      "        ^^^^^^^^^^^^^^^^^^^^^^^^^^^^^^^^^^^^^^^^^^^^^^^^^^^^^^\n",
      "  File \"/tmp/ipykernel_1099294/2880211868.py\", line 10, in objective_func\n",
      "    cfg = copy.deepcopy(experiment_configs[starter_experiment_name][1])\n",
      "                        ~~~~~~~~~~~~~~~~~~^^^^^^^^^^^^^^^^^^^^^^^^^\n",
      "KeyError: 'projgrad2'\n",
      "[W 2024-10-03 12:44:57,307] Trial 38 failed with value None.\n",
      "[W 2024-10-03 12:44:58,213] Trial 39 failed with parameters: {'β': 0.8963358185211198, 'reverse_pref': False, 'scale_orth': True, 'weight_dim': 0, 'neg_slope': 0.1, 'mag_clip': 1.0, 'lr': 2.0341341331318177e-05, 'collect_input': False, 'collect_hs': True} because of the following error: KeyError('projgrad2').\n",
      "Traceback (most recent call last):\n",
      "  File \"/workspace/repr-preference-optimization/.venv/lib/python3.11/site-packages/optuna/study/_optimize.py\", line 197, in _run_trial\n",
      "    value_or_values = func(trial)\n",
      "                      ^^^^^^^^^^^\n",
      "  File \"/tmp/ipykernel_1099294/2880211868.py\", line 20, in objective\n",
      "    r = objective_func(kwargs, trial, starter_experiment_name)\n",
      "        ^^^^^^^^^^^^^^^^^^^^^^^^^^^^^^^^^^^^^^^^^^^^^^^^^^^^^^\n",
      "  File \"/tmp/ipykernel_1099294/2880211868.py\", line 10, in objective_func\n",
      "    cfg = copy.deepcopy(experiment_configs[starter_experiment_name][1])\n",
      "                        ~~~~~~~~~~~~~~~~~~^^^^^^^^^^^^^^^^^^^^^^^^^\n",
      "KeyError: 'projgrad2'\n",
      "[W 2024-10-03 12:44:58,216] Trial 39 failed with value None.\n",
      "[W 2024-10-03 12:44:59,092] Trial 40 failed with parameters: {'β': 0.8684679758979128, 'reverse_pref': False, 'scale_orth': True, 'weight_dim': 0, 'neg_slope': 0.1, 'mag_clip': 0.03, 'lr': 2.2555541023663458e-06, 'collect_input': True, 'collect_hs': False} because of the following error: KeyError('projgrad2').\n",
      "Traceback (most recent call last):\n",
      "  File \"/workspace/repr-preference-optimization/.venv/lib/python3.11/site-packages/optuna/study/_optimize.py\", line 197, in _run_trial\n",
      "    value_or_values = func(trial)\n",
      "                      ^^^^^^^^^^^\n",
      "  File \"/tmp/ipykernel_1099294/2880211868.py\", line 20, in objective\n",
      "    r = objective_func(kwargs, trial, starter_experiment_name)\n",
      "        ^^^^^^^^^^^^^^^^^^^^^^^^^^^^^^^^^^^^^^^^^^^^^^^^^^^^^^\n",
      "  File \"/tmp/ipykernel_1099294/2880211868.py\", line 10, in objective_func\n",
      "    cfg = copy.deepcopy(experiment_configs[starter_experiment_name][1])\n",
      "                        ~~~~~~~~~~~~~~~~~~^^^^^^^^^^^^^^^^^^^^^^^^^\n",
      "KeyError: 'projgrad2'\n",
      "[W 2024-10-03 12:44:59,095] Trial 40 failed with value None.\n",
      "[W 2024-10-03 12:44:59,919] Trial 41 failed with parameters: {'β': 0.8297418037072016, 'reverse_pref': True, 'scale_orth': False, 'weight_dim': 2, 'neg_slope': 1, 'mag_clip': 10, 'lr': 6.4484647240886e-05, 'collect_input': False, 'collect_hs': False} because of the following error: KeyError('projgrad2').\n",
      "Traceback (most recent call last):\n",
      "  File \"/workspace/repr-preference-optimization/.venv/lib/python3.11/site-packages/optuna/study/_optimize.py\", line 197, in _run_trial\n",
      "    value_or_values = func(trial)\n",
      "                      ^^^^^^^^^^^\n",
      "  File \"/tmp/ipykernel_1099294/2880211868.py\", line 20, in objective\n",
      "    r = objective_func(kwargs, trial, starter_experiment_name)\n",
      "        ^^^^^^^^^^^^^^^^^^^^^^^^^^^^^^^^^^^^^^^^^^^^^^^^^^^^^^\n",
      "  File \"/tmp/ipykernel_1099294/2880211868.py\", line 10, in objective_func\n",
      "    cfg = copy.deepcopy(experiment_configs[starter_experiment_name][1])\n",
      "                        ~~~~~~~~~~~~~~~~~~^^^^^^^^^^^^^^^^^^^^^^^^^\n",
      "KeyError: 'projgrad2'\n",
      "[W 2024-10-03 12:44:59,924] Trial 41 failed with value None.\n",
      "[W 2024-10-03 12:45:00,867] Trial 42 failed with parameters: {'β': 0.7190459051842455, 'reverse_pref': False, 'scale_orth': False, 'weight_dim': 2, 'neg_slope': 0, 'mag_clip': 1.0, 'lr': 0.00015295591226864458, 'collect_input': False, 'collect_hs': True} because of the following error: KeyError('projgrad2').\n",
      "Traceback (most recent call last):\n",
      "  File \"/workspace/repr-preference-optimization/.venv/lib/python3.11/site-packages/optuna/study/_optimize.py\", line 197, in _run_trial\n",
      "    value_or_values = func(trial)\n",
      "                      ^^^^^^^^^^^\n",
      "  File \"/tmp/ipykernel_1099294/2880211868.py\", line 20, in objective\n",
      "    r = objective_func(kwargs, trial, starter_experiment_name)\n",
      "        ^^^^^^^^^^^^^^^^^^^^^^^^^^^^^^^^^^^^^^^^^^^^^^^^^^^^^^\n",
      "  File \"/tmp/ipykernel_1099294/2880211868.py\", line 10, in objective_func\n",
      "    cfg = copy.deepcopy(experiment_configs[starter_experiment_name][1])\n",
      "                        ~~~~~~~~~~~~~~~~~~^^^^^^^^^^^^^^^^^^^^^^^^^\n",
      "KeyError: 'projgrad2'\n",
      "[W 2024-10-03 12:45:00,870] Trial 42 failed with value None.\n",
      "[W 2024-10-03 12:45:01,740] Trial 43 failed with parameters: {'β': 0.8191023176741997, 'reverse_pref': True, 'scale_orth': False, 'weight_dim': 1, 'neg_slope': 0.5, 'mag_clip': 0.1, 'lr': 0.0003528474268656371, 'collect_input': False, 'collect_hs': False} because of the following error: KeyError('projgrad2').\n",
      "Traceback (most recent call last):\n",
      "  File \"/workspace/repr-preference-optimization/.venv/lib/python3.11/site-packages/optuna/study/_optimize.py\", line 197, in _run_trial\n",
      "    value_or_values = func(trial)\n",
      "                      ^^^^^^^^^^^\n",
      "  File \"/tmp/ipykernel_1099294/2880211868.py\", line 20, in objective\n",
      "    r = objective_func(kwargs, trial, starter_experiment_name)\n",
      "        ^^^^^^^^^^^^^^^^^^^^^^^^^^^^^^^^^^^^^^^^^^^^^^^^^^^^^^\n",
      "  File \"/tmp/ipykernel_1099294/2880211868.py\", line 10, in objective_func\n",
      "    cfg = copy.deepcopy(experiment_configs[starter_experiment_name][1])\n",
      "                        ~~~~~~~~~~~~~~~~~~^^^^^^^^^^^^^^^^^^^^^^^^^\n",
      "KeyError: 'projgrad2'\n",
      "[W 2024-10-03 12:45:01,745] Trial 43 failed with value None.\n",
      "[W 2024-10-03 12:45:02,571] Trial 44 failed with parameters: {'β': 0.9440593396866133, 'reverse_pref': False, 'scale_orth': True, 'weight_dim': 1, 'neg_slope': 1, 'mag_clip': None, 'lr': 1.2912873726948706e-06, 'collect_input': True, 'collect_hs': True} because of the following error: KeyError('projgrad2').\n",
      "Traceback (most recent call last):\n",
      "  File \"/workspace/repr-preference-optimization/.venv/lib/python3.11/site-packages/optuna/study/_optimize.py\", line 197, in _run_trial\n",
      "    value_or_values = func(trial)\n",
      "                      ^^^^^^^^^^^\n",
      "  File \"/tmp/ipykernel_1099294/2880211868.py\", line 20, in objective\n",
      "    r = objective_func(kwargs, trial, starter_experiment_name)\n",
      "        ^^^^^^^^^^^^^^^^^^^^^^^^^^^^^^^^^^^^^^^^^^^^^^^^^^^^^^\n",
      "  File \"/tmp/ipykernel_1099294/2880211868.py\", line 10, in objective_func\n",
      "    cfg = copy.deepcopy(experiment_configs[starter_experiment_name][1])\n",
      "                        ~~~~~~~~~~~~~~~~~~^^^^^^^^^^^^^^^^^^^^^^^^^\n",
      "KeyError: 'projgrad2'\n",
      "[W 2024-10-03 12:45:02,573] Trial 44 failed with value None.\n",
      "[W 2024-10-03 12:45:03,739] Trial 45 failed with parameters: {'β': 0.6962887758781398, 'reverse_pref': False, 'scale_orth': False, 'weight_dim': 1, 'neg_slope': 0.5, 'mag_clip': 100, 'lr': 0.0002490862230111866, 'collect_input': True, 'collect_hs': True} because of the following error: KeyError('projgrad2').\n",
      "Traceback (most recent call last):\n",
      "  File \"/workspace/repr-preference-optimization/.venv/lib/python3.11/site-packages/optuna/study/_optimize.py\", line 197, in _run_trial\n",
      "    value_or_values = func(trial)\n",
      "                      ^^^^^^^^^^^\n",
      "  File \"/tmp/ipykernel_1099294/2880211868.py\", line 20, in objective\n",
      "    r = objective_func(kwargs, trial, starter_experiment_name)\n",
      "        ^^^^^^^^^^^^^^^^^^^^^^^^^^^^^^^^^^^^^^^^^^^^^^^^^^^^^^\n",
      "  File \"/tmp/ipykernel_1099294/2880211868.py\", line 10, in objective_func\n",
      "    cfg = copy.deepcopy(experiment_configs[starter_experiment_name][1])\n",
      "                        ~~~~~~~~~~~~~~~~~~^^^^^^^^^^^^^^^^^^^^^^^^^\n",
      "KeyError: 'projgrad2'\n",
      "[W 2024-10-03 12:45:03,744] Trial 45 failed with value None.\n",
      "[W 2024-10-03 12:45:04,928] Trial 46 failed with parameters: {'β': 0.47987562030390885, 'reverse_pref': False, 'scale_orth': True, 'weight_dim': 1, 'neg_slope': 0.01, 'mag_clip': 10, 'lr': 1.4222630963205302e-05, 'collect_input': True, 'collect_hs': True} because of the following error: KeyError('projgrad2').\n",
      "Traceback (most recent call last):\n",
      "  File \"/workspace/repr-preference-optimization/.venv/lib/python3.11/site-packages/optuna/study/_optimize.py\", line 197, in _run_trial\n",
      "    value_or_values = func(trial)\n",
      "                      ^^^^^^^^^^^\n",
      "  File \"/tmp/ipykernel_1099294/2880211868.py\", line 20, in objective\n",
      "    r = objective_func(kwargs, trial, starter_experiment_name)\n",
      "        ^^^^^^^^^^^^^^^^^^^^^^^^^^^^^^^^^^^^^^^^^^^^^^^^^^^^^^\n",
      "  File \"/tmp/ipykernel_1099294/2880211868.py\", line 10, in objective_func\n",
      "    cfg = copy.deepcopy(experiment_configs[starter_experiment_name][1])\n",
      "                        ~~~~~~~~~~~~~~~~~~^^^^^^^^^^^^^^^^^^^^^^^^^\n",
      "KeyError: 'projgrad2'\n",
      "[W 2024-10-03 12:45:04,933] Trial 46 failed with value None.\n",
      "[W 2024-10-03 12:45:05,823] Trial 47 failed with parameters: {'β': 0.08941100231225951, 'reverse_pref': False, 'scale_orth': True, 'weight_dim': 1, 'neg_slope': 0.01, 'mag_clip': 100, 'lr': 1.1229897117540705e-05, 'collect_input': False, 'collect_hs': False} because of the following error: KeyError('projgrad2').\n",
      "Traceback (most recent call last):\n",
      "  File \"/workspace/repr-preference-optimization/.venv/lib/python3.11/site-packages/optuna/study/_optimize.py\", line 197, in _run_trial\n",
      "    value_or_values = func(trial)\n",
      "                      ^^^^^^^^^^^\n",
      "  File \"/tmp/ipykernel_1099294/2880211868.py\", line 20, in objective\n",
      "    r = objective_func(kwargs, trial, starter_experiment_name)\n",
      "        ^^^^^^^^^^^^^^^^^^^^^^^^^^^^^^^^^^^^^^^^^^^^^^^^^^^^^^\n",
      "  File \"/tmp/ipykernel_1099294/2880211868.py\", line 10, in objective_func\n",
      "    cfg = copy.deepcopy(experiment_configs[starter_experiment_name][1])\n",
      "                        ~~~~~~~~~~~~~~~~~~^^^^^^^^^^^^^^^^^^^^^^^^^\n",
      "KeyError: 'projgrad2'\n",
      "[W 2024-10-03 12:45:05,824] Trial 47 failed with value None.\n",
      "[W 2024-10-03 12:45:06,684] Trial 48 failed with parameters: {'β': 0.9949078226464353, 'reverse_pref': False, 'scale_orth': True, 'weight_dim': 0, 'neg_slope': 0, 'mag_clip': 100, 'lr': 0.00038581832549157706, 'collect_input': True, 'collect_hs': True} because of the following error: KeyError('projgrad2').\n",
      "Traceback (most recent call last):\n",
      "  File \"/workspace/repr-preference-optimization/.venv/lib/python3.11/site-packages/optuna/study/_optimize.py\", line 197, in _run_trial\n",
      "    value_or_values = func(trial)\n",
      "                      ^^^^^^^^^^^\n",
      "  File \"/tmp/ipykernel_1099294/2880211868.py\", line 20, in objective\n",
      "    r = objective_func(kwargs, trial, starter_experiment_name)\n",
      "        ^^^^^^^^^^^^^^^^^^^^^^^^^^^^^^^^^^^^^^^^^^^^^^^^^^^^^^\n",
      "  File \"/tmp/ipykernel_1099294/2880211868.py\", line 10, in objective_func\n",
      "    cfg = copy.deepcopy(experiment_configs[starter_experiment_name][1])\n",
      "                        ~~~~~~~~~~~~~~~~~~^^^^^^^^^^^^^^^^^^^^^^^^^\n",
      "KeyError: 'projgrad2'\n",
      "[W 2024-10-03 12:45:06,688] Trial 48 failed with value None.\n",
      "[W 2024-10-03 12:45:07,589] Trial 49 failed with parameters: {'β': 0.4084532130706987, 'reverse_pref': True, 'scale_orth': True, 'weight_dim': 0, 'neg_slope': 0.5, 'mag_clip': 0.1, 'lr': 0.00043240425516201196, 'collect_input': True, 'collect_hs': False} because of the following error: KeyError('projgrad2').\n",
      "Traceback (most recent call last):\n",
      "  File \"/workspace/repr-preference-optimization/.venv/lib/python3.11/site-packages/optuna/study/_optimize.py\", line 197, in _run_trial\n",
      "    value_or_values = func(trial)\n",
      "                      ^^^^^^^^^^^\n",
      "  File \"/tmp/ipykernel_1099294/2880211868.py\", line 20, in objective\n",
      "    r = objective_func(kwargs, trial, starter_experiment_name)\n",
      "        ^^^^^^^^^^^^^^^^^^^^^^^^^^^^^^^^^^^^^^^^^^^^^^^^^^^^^^\n",
      "  File \"/tmp/ipykernel_1099294/2880211868.py\", line 10, in objective_func\n",
      "    cfg = copy.deepcopy(experiment_configs[starter_experiment_name][1])\n",
      "                        ~~~~~~~~~~~~~~~~~~^^^^^^^^^^^^^^^^^^^^^^^^^\n",
      "KeyError: 'projgrad2'\n",
      "[W 2024-10-03 12:45:07,591] Trial 49 failed with value None.\n",
      "[W 2024-10-03 12:45:08,498] Trial 50 failed with parameters: {'β': 0.7083629767150348, 'reverse_pref': True, 'scale_orth': True, 'weight_dim': 2, 'neg_slope': 0.01, 'mag_clip': 10, 'lr': 1.045099440291138e-06, 'collect_input': False, 'collect_hs': True} because of the following error: KeyError('projgrad2').\n",
      "Traceback (most recent call last):\n",
      "  File \"/workspace/repr-preference-optimization/.venv/lib/python3.11/site-packages/optuna/study/_optimize.py\", line 197, in _run_trial\n",
      "    value_or_values = func(trial)\n",
      "                      ^^^^^^^^^^^\n",
      "  File \"/tmp/ipykernel_1099294/2880211868.py\", line 20, in objective\n",
      "    r = objective_func(kwargs, trial, starter_experiment_name)\n",
      "        ^^^^^^^^^^^^^^^^^^^^^^^^^^^^^^^^^^^^^^^^^^^^^^^^^^^^^^\n",
      "  File \"/tmp/ipykernel_1099294/2880211868.py\", line 10, in objective_func\n",
      "    cfg = copy.deepcopy(experiment_configs[starter_experiment_name][1])\n",
      "                        ~~~~~~~~~~~~~~~~~~^^^^^^^^^^^^^^^^^^^^^^^^^\n",
      "KeyError: 'projgrad2'\n",
      "[W 2024-10-03 12:45:08,508] Trial 50 failed with value None.\n",
      "[W 2024-10-03 12:45:09,409] Trial 51 failed with parameters: {'β': 0.2598035810641598, 'reverse_pref': True, 'scale_orth': True, 'weight_dim': 2, 'neg_slope': 0.01, 'mag_clip': 0.03, 'lr': 5.578422200019994e-05, 'collect_input': False, 'collect_hs': False} because of the following error: KeyError('projgrad2').\n",
      "Traceback (most recent call last):\n",
      "  File \"/workspace/repr-preference-optimization/.venv/lib/python3.11/site-packages/optuna/study/_optimize.py\", line 197, in _run_trial\n",
      "    value_or_values = func(trial)\n",
      "                      ^^^^^^^^^^^\n",
      "  File \"/tmp/ipykernel_1099294/2880211868.py\", line 20, in objective\n",
      "    r = objective_func(kwargs, trial, starter_experiment_name)\n",
      "        ^^^^^^^^^^^^^^^^^^^^^^^^^^^^^^^^^^^^^^^^^^^^^^^^^^^^^^\n",
      "  File \"/tmp/ipykernel_1099294/2880211868.py\", line 10, in objective_func\n",
      "    cfg = copy.deepcopy(experiment_configs[starter_experiment_name][1])\n",
      "                        ~~~~~~~~~~~~~~~~~~^^^^^^^^^^^^^^^^^^^^^^^^^\n",
      "KeyError: 'projgrad2'\n",
      "[W 2024-10-03 12:45:09,411] Trial 51 failed with value None.\n",
      "[W 2024-10-03 12:45:10,293] Trial 52 failed with parameters: {'β': 0.9734889691773969, 'reverse_pref': True, 'scale_orth': False, 'weight_dim': 0, 'neg_slope': 0.5, 'mag_clip': 0.1, 'lr': 0.00012051654628567824, 'collect_input': True, 'collect_hs': True} because of the following error: KeyError('projgrad2').\n",
      "Traceback (most recent call last):\n",
      "  File \"/workspace/repr-preference-optimization/.venv/lib/python3.11/site-packages/optuna/study/_optimize.py\", line 197, in _run_trial\n",
      "    value_or_values = func(trial)\n",
      "                      ^^^^^^^^^^^\n",
      "  File \"/tmp/ipykernel_1099294/2880211868.py\", line 20, in objective\n",
      "    r = objective_func(kwargs, trial, starter_experiment_name)\n",
      "        ^^^^^^^^^^^^^^^^^^^^^^^^^^^^^^^^^^^^^^^^^^^^^^^^^^^^^^\n",
      "  File \"/tmp/ipykernel_1099294/2880211868.py\", line 10, in objective_func\n",
      "    cfg = copy.deepcopy(experiment_configs[starter_experiment_name][1])\n",
      "                        ~~~~~~~~~~~~~~~~~~^^^^^^^^^^^^^^^^^^^^^^^^^\n",
      "KeyError: 'projgrad2'\n",
      "[W 2024-10-03 12:45:10,297] Trial 52 failed with value None.\n",
      "[W 2024-10-03 12:45:11,180] Trial 53 failed with parameters: {'β': 0.2732595269982093, 'reverse_pref': True, 'scale_orth': False, 'weight_dim': 1, 'neg_slope': 0.5, 'mag_clip': None, 'lr': 2.6280263784165364e-05, 'collect_input': True, 'collect_hs': True} because of the following error: KeyError('projgrad2').\n",
      "Traceback (most recent call last):\n",
      "  File \"/workspace/repr-preference-optimization/.venv/lib/python3.11/site-packages/optuna/study/_optimize.py\", line 197, in _run_trial\n",
      "    value_or_values = func(trial)\n",
      "                      ^^^^^^^^^^^\n",
      "  File \"/tmp/ipykernel_1099294/2880211868.py\", line 20, in objective\n",
      "    r = objective_func(kwargs, trial, starter_experiment_name)\n",
      "        ^^^^^^^^^^^^^^^^^^^^^^^^^^^^^^^^^^^^^^^^^^^^^^^^^^^^^^\n",
      "  File \"/tmp/ipykernel_1099294/2880211868.py\", line 10, in objective_func\n",
      "    cfg = copy.deepcopy(experiment_configs[starter_experiment_name][1])\n",
      "                        ~~~~~~~~~~~~~~~~~~^^^^^^^^^^^^^^^^^^^^^^^^^\n",
      "KeyError: 'projgrad2'\n",
      "[W 2024-10-03 12:45:11,182] Trial 53 failed with value None.\n",
      "[W 2024-10-03 12:45:12,050] Trial 54 failed with parameters: {'β': 0.770921844644052, 'reverse_pref': True, 'scale_orth': True, 'weight_dim': 0, 'neg_slope': 0, 'mag_clip': 0.03, 'lr': 6.411803633907851e-06, 'collect_input': True, 'collect_hs': True} because of the following error: KeyError('projgrad2').\n",
      "Traceback (most recent call last):\n",
      "  File \"/workspace/repr-preference-optimization/.venv/lib/python3.11/site-packages/optuna/study/_optimize.py\", line 197, in _run_trial\n",
      "    value_or_values = func(trial)\n",
      "                      ^^^^^^^^^^^\n",
      "  File \"/tmp/ipykernel_1099294/2880211868.py\", line 20, in objective\n",
      "    r = objective_func(kwargs, trial, starter_experiment_name)\n",
      "        ^^^^^^^^^^^^^^^^^^^^^^^^^^^^^^^^^^^^^^^^^^^^^^^^^^^^^^\n",
      "  File \"/tmp/ipykernel_1099294/2880211868.py\", line 10, in objective_func\n",
      "    cfg = copy.deepcopy(experiment_configs[starter_experiment_name][1])\n",
      "                        ~~~~~~~~~~~~~~~~~~^^^^^^^^^^^^^^^^^^^^^^^^^\n",
      "KeyError: 'projgrad2'\n",
      "[W 2024-10-03 12:45:12,054] Trial 54 failed with value None.\n",
      "[W 2024-10-03 12:45:12,909] Trial 55 failed with parameters: {'β': 0.07244688779455888, 'reverse_pref': False, 'scale_orth': True, 'weight_dim': 2, 'neg_slope': 0, 'mag_clip': 0.03, 'lr': 1.0698245069648845e-06, 'collect_input': False, 'collect_hs': False} because of the following error: KeyError('projgrad2').\n",
      "Traceback (most recent call last):\n",
      "  File \"/workspace/repr-preference-optimization/.venv/lib/python3.11/site-packages/optuna/study/_optimize.py\", line 197, in _run_trial\n",
      "    value_or_values = func(trial)\n",
      "                      ^^^^^^^^^^^\n",
      "  File \"/tmp/ipykernel_1099294/2880211868.py\", line 20, in objective\n",
      "    r = objective_func(kwargs, trial, starter_experiment_name)\n",
      "        ^^^^^^^^^^^^^^^^^^^^^^^^^^^^^^^^^^^^^^^^^^^^^^^^^^^^^^\n",
      "  File \"/tmp/ipykernel_1099294/2880211868.py\", line 10, in objective_func\n",
      "    cfg = copy.deepcopy(experiment_configs[starter_experiment_name][1])\n",
      "                        ~~~~~~~~~~~~~~~~~~^^^^^^^^^^^^^^^^^^^^^^^^^\n",
      "KeyError: 'projgrad2'\n",
      "[W 2024-10-03 12:45:12,911] Trial 55 failed with value None.\n",
      "[W 2024-10-03 12:45:13,757] Trial 56 failed with parameters: {'β': 0.033203108791366565, 'reverse_pref': False, 'scale_orth': False, 'weight_dim': 2, 'neg_slope': 0, 'mag_clip': 0.1, 'lr': 0.0001387588834011614, 'collect_input': True, 'collect_hs': True} because of the following error: KeyError('projgrad2').\n",
      "Traceback (most recent call last):\n",
      "  File \"/workspace/repr-preference-optimization/.venv/lib/python3.11/site-packages/optuna/study/_optimize.py\", line 197, in _run_trial\n",
      "    value_or_values = func(trial)\n",
      "                      ^^^^^^^^^^^\n",
      "  File \"/tmp/ipykernel_1099294/2880211868.py\", line 20, in objective\n",
      "    r = objective_func(kwargs, trial, starter_experiment_name)\n",
      "        ^^^^^^^^^^^^^^^^^^^^^^^^^^^^^^^^^^^^^^^^^^^^^^^^^^^^^^\n",
      "  File \"/tmp/ipykernel_1099294/2880211868.py\", line 10, in objective_func\n",
      "    cfg = copy.deepcopy(experiment_configs[starter_experiment_name][1])\n",
      "                        ~~~~~~~~~~~~~~~~~~^^^^^^^^^^^^^^^^^^^^^^^^^\n",
      "KeyError: 'projgrad2'\n",
      "[W 2024-10-03 12:45:13,760] Trial 56 failed with value None.\n",
      "[W 2024-10-03 12:45:14,919] Trial 57 failed with parameters: {'β': 0.8948166560605276, 'reverse_pref': False, 'scale_orth': False, 'weight_dim': 1, 'neg_slope': 0, 'mag_clip': 0.1, 'lr': 3.123109053942489e-05, 'collect_input': False, 'collect_hs': False} because of the following error: KeyError('projgrad2').\n",
      "Traceback (most recent call last):\n",
      "  File \"/workspace/repr-preference-optimization/.venv/lib/python3.11/site-packages/optuna/study/_optimize.py\", line 197, in _run_trial\n",
      "    value_or_values = func(trial)\n",
      "                      ^^^^^^^^^^^\n",
      "  File \"/tmp/ipykernel_1099294/2880211868.py\", line 20, in objective\n",
      "    r = objective_func(kwargs, trial, starter_experiment_name)\n",
      "        ^^^^^^^^^^^^^^^^^^^^^^^^^^^^^^^^^^^^^^^^^^^^^^^^^^^^^^\n",
      "  File \"/tmp/ipykernel_1099294/2880211868.py\", line 10, in objective_func\n",
      "    cfg = copy.deepcopy(experiment_configs[starter_experiment_name][1])\n",
      "                        ~~~~~~~~~~~~~~~~~~^^^^^^^^^^^^^^^^^^^^^^^^^\n",
      "KeyError: 'projgrad2'\n",
      "[W 2024-10-03 12:45:14,925] Trial 57 failed with value None.\n",
      "[W 2024-10-03 12:45:16,113] Trial 58 failed with parameters: {'β': 0.9747931621467831, 'reverse_pref': True, 'scale_orth': True, 'weight_dim': 0, 'neg_slope': 0.1, 'mag_clip': 0.5, 'lr': 2.0694086380394207e-05, 'collect_input': True, 'collect_hs': False} because of the following error: KeyError('projgrad2').\n",
      "Traceback (most recent call last):\n",
      "  File \"/workspace/repr-preference-optimization/.venv/lib/python3.11/site-packages/optuna/study/_optimize.py\", line 197, in _run_trial\n",
      "    value_or_values = func(trial)\n",
      "                      ^^^^^^^^^^^\n",
      "  File \"/tmp/ipykernel_1099294/2880211868.py\", line 20, in objective\n",
      "    r = objective_func(kwargs, trial, starter_experiment_name)\n",
      "        ^^^^^^^^^^^^^^^^^^^^^^^^^^^^^^^^^^^^^^^^^^^^^^^^^^^^^^\n",
      "  File \"/tmp/ipykernel_1099294/2880211868.py\", line 10, in objective_func\n",
      "    cfg = copy.deepcopy(experiment_configs[starter_experiment_name][1])\n",
      "                        ~~~~~~~~~~~~~~~~~~^^^^^^^^^^^^^^^^^^^^^^^^^\n",
      "KeyError: 'projgrad2'\n",
      "[W 2024-10-03 12:45:16,117] Trial 58 failed with value None.\n",
      "[W 2024-10-03 12:45:17,149] Trial 59 failed with parameters: {'β': 0.4217209268734554, 'reverse_pref': False, 'scale_orth': True, 'weight_dim': 1, 'neg_slope': 1, 'mag_clip': 0.1, 'lr': 0.0004094960376542715, 'collect_input': False, 'collect_hs': False} because of the following error: KeyError('projgrad2').\n",
      "Traceback (most recent call last):\n",
      "  File \"/workspace/repr-preference-optimization/.venv/lib/python3.11/site-packages/optuna/study/_optimize.py\", line 197, in _run_trial\n",
      "    value_or_values = func(trial)\n",
      "                      ^^^^^^^^^^^\n",
      "  File \"/tmp/ipykernel_1099294/2880211868.py\", line 20, in objective\n",
      "    r = objective_func(kwargs, trial, starter_experiment_name)\n",
      "        ^^^^^^^^^^^^^^^^^^^^^^^^^^^^^^^^^^^^^^^^^^^^^^^^^^^^^^\n",
      "  File \"/tmp/ipykernel_1099294/2880211868.py\", line 10, in objective_func\n",
      "    cfg = copy.deepcopy(experiment_configs[starter_experiment_name][1])\n",
      "                        ~~~~~~~~~~~~~~~~~~^^^^^^^^^^^^^^^^^^^^^^^^^\n",
      "KeyError: 'projgrad2'\n",
      "[W 2024-10-03 12:45:17,154] Trial 59 failed with value None.\n",
      "[W 2024-10-03 12:45:18,067] Trial 60 failed with parameters: {'β': 0.16352387258502277, 'reverse_pref': False, 'scale_orth': False, 'weight_dim': 0, 'neg_slope': 0.1, 'mag_clip': 1.0, 'lr': 7.102887887854668e-05, 'collect_input': True, 'collect_hs': True} because of the following error: KeyError('projgrad2').\n",
      "Traceback (most recent call last):\n",
      "  File \"/workspace/repr-preference-optimization/.venv/lib/python3.11/site-packages/optuna/study/_optimize.py\", line 197, in _run_trial\n",
      "    value_or_values = func(trial)\n",
      "                      ^^^^^^^^^^^\n",
      "  File \"/tmp/ipykernel_1099294/2880211868.py\", line 20, in objective\n",
      "    r = objective_func(kwargs, trial, starter_experiment_name)\n",
      "        ^^^^^^^^^^^^^^^^^^^^^^^^^^^^^^^^^^^^^^^^^^^^^^^^^^^^^^\n",
      "  File \"/tmp/ipykernel_1099294/2880211868.py\", line 10, in objective_func\n",
      "    cfg = copy.deepcopy(experiment_configs[starter_experiment_name][1])\n",
      "                        ~~~~~~~~~~~~~~~~~~^^^^^^^^^^^^^^^^^^^^^^^^^\n",
      "KeyError: 'projgrad2'\n",
      "[W 2024-10-03 12:45:18,069] Trial 60 failed with value None.\n",
      "[W 2024-10-03 12:45:18,978] Trial 61 failed with parameters: {'β': 0.7364020150656405, 'reverse_pref': True, 'scale_orth': True, 'weight_dim': 1, 'neg_slope': 0, 'mag_clip': 0.03, 'lr': 3.324332275048841e-05, 'collect_input': False, 'collect_hs': True} because of the following error: KeyError('projgrad2').\n",
      "Traceback (most recent call last):\n",
      "  File \"/workspace/repr-preference-optimization/.venv/lib/python3.11/site-packages/optuna/study/_optimize.py\", line 197, in _run_trial\n",
      "    value_or_values = func(trial)\n",
      "                      ^^^^^^^^^^^\n",
      "  File \"/tmp/ipykernel_1099294/2880211868.py\", line 20, in objective\n",
      "    r = objective_func(kwargs, trial, starter_experiment_name)\n",
      "        ^^^^^^^^^^^^^^^^^^^^^^^^^^^^^^^^^^^^^^^^^^^^^^^^^^^^^^\n",
      "  File \"/tmp/ipykernel_1099294/2880211868.py\", line 10, in objective_func\n",
      "    cfg = copy.deepcopy(experiment_configs[starter_experiment_name][1])\n",
      "                        ~~~~~~~~~~~~~~~~~~^^^^^^^^^^^^^^^^^^^^^^^^^\n",
      "KeyError: 'projgrad2'\n",
      "[W 2024-10-03 12:45:18,983] Trial 61 failed with value None.\n",
      "[W 2024-10-03 12:45:19,919] Trial 62 failed with parameters: {'β': 0.004939980934409616, 'reverse_pref': True, 'scale_orth': True, 'weight_dim': 1, 'neg_slope': 0.01, 'mag_clip': 0.5, 'lr': 0.0004021858280268739, 'collect_input': False, 'collect_hs': False} because of the following error: KeyError('projgrad2').\n",
      "Traceback (most recent call last):\n",
      "  File \"/workspace/repr-preference-optimization/.venv/lib/python3.11/site-packages/optuna/study/_optimize.py\", line 197, in _run_trial\n",
      "    value_or_values = func(trial)\n",
      "                      ^^^^^^^^^^^\n",
      "  File \"/tmp/ipykernel_1099294/2880211868.py\", line 20, in objective\n",
      "    r = objective_func(kwargs, trial, starter_experiment_name)\n",
      "        ^^^^^^^^^^^^^^^^^^^^^^^^^^^^^^^^^^^^^^^^^^^^^^^^^^^^^^\n",
      "  File \"/tmp/ipykernel_1099294/2880211868.py\", line 10, in objective_func\n",
      "    cfg = copy.deepcopy(experiment_configs[starter_experiment_name][1])\n",
      "                        ~~~~~~~~~~~~~~~~~~^^^^^^^^^^^^^^^^^^^^^^^^^\n",
      "KeyError: 'projgrad2'\n",
      "[W 2024-10-03 12:45:19,920] Trial 62 failed with value None.\n",
      "[W 2024-10-03 12:45:20,780] Trial 63 failed with parameters: {'β': 0.6832480282896458, 'reverse_pref': False, 'scale_orth': True, 'weight_dim': 0, 'neg_slope': 0, 'mag_clip': 1.0, 'lr': 1.6623554140098567e-05, 'collect_input': True, 'collect_hs': False} because of the following error: KeyError('projgrad2').\n",
      "Traceback (most recent call last):\n",
      "  File \"/workspace/repr-preference-optimization/.venv/lib/python3.11/site-packages/optuna/study/_optimize.py\", line 197, in _run_trial\n",
      "    value_or_values = func(trial)\n",
      "                      ^^^^^^^^^^^\n",
      "  File \"/tmp/ipykernel_1099294/2880211868.py\", line 20, in objective\n",
      "    r = objective_func(kwargs, trial, starter_experiment_name)\n",
      "        ^^^^^^^^^^^^^^^^^^^^^^^^^^^^^^^^^^^^^^^^^^^^^^^^^^^^^^\n",
      "  File \"/tmp/ipykernel_1099294/2880211868.py\", line 10, in objective_func\n",
      "    cfg = copy.deepcopy(experiment_configs[starter_experiment_name][1])\n",
      "                        ~~~~~~~~~~~~~~~~~~^^^^^^^^^^^^^^^^^^^^^^^^^\n",
      "KeyError: 'projgrad2'\n",
      "[W 2024-10-03 12:45:20,785] Trial 63 failed with value None.\n",
      "[W 2024-10-03 12:45:21,672] Trial 64 failed with parameters: {'β': 0.8785155613013479, 'reverse_pref': True, 'scale_orth': False, 'weight_dim': 2, 'neg_slope': 0.1, 'mag_clip': 1.0, 'lr': 5.1597943499497915e-06, 'collect_input': True, 'collect_hs': False} because of the following error: KeyError('projgrad2').\n",
      "Traceback (most recent call last):\n",
      "  File \"/workspace/repr-preference-optimization/.venv/lib/python3.11/site-packages/optuna/study/_optimize.py\", line 197, in _run_trial\n",
      "    value_or_values = func(trial)\n",
      "                      ^^^^^^^^^^^\n",
      "  File \"/tmp/ipykernel_1099294/2880211868.py\", line 20, in objective\n",
      "    r = objective_func(kwargs, trial, starter_experiment_name)\n",
      "        ^^^^^^^^^^^^^^^^^^^^^^^^^^^^^^^^^^^^^^^^^^^^^^^^^^^^^^\n",
      "  File \"/tmp/ipykernel_1099294/2880211868.py\", line 10, in objective_func\n",
      "    cfg = copy.deepcopy(experiment_configs[starter_experiment_name][1])\n",
      "                        ~~~~~~~~~~~~~~~~~~^^^^^^^^^^^^^^^^^^^^^^^^^\n",
      "KeyError: 'projgrad2'\n",
      "[W 2024-10-03 12:45:21,674] Trial 64 failed with value None.\n",
      "[W 2024-10-03 12:45:22,547] Trial 65 failed with parameters: {'β': 0.6682127985550163, 'reverse_pref': True, 'scale_orth': False, 'weight_dim': 1, 'neg_slope': 0, 'mag_clip': 100, 'lr': 1.134221167357371e-06, 'collect_input': True, 'collect_hs': False} because of the following error: KeyError('projgrad2').\n",
      "Traceback (most recent call last):\n",
      "  File \"/workspace/repr-preference-optimization/.venv/lib/python3.11/site-packages/optuna/study/_optimize.py\", line 197, in _run_trial\n",
      "    value_or_values = func(trial)\n",
      "                      ^^^^^^^^^^^\n",
      "  File \"/tmp/ipykernel_1099294/2880211868.py\", line 20, in objective\n",
      "    r = objective_func(kwargs, trial, starter_experiment_name)\n",
      "        ^^^^^^^^^^^^^^^^^^^^^^^^^^^^^^^^^^^^^^^^^^^^^^^^^^^^^^\n",
      "  File \"/tmp/ipykernel_1099294/2880211868.py\", line 10, in objective_func\n",
      "    cfg = copy.deepcopy(experiment_configs[starter_experiment_name][1])\n",
      "                        ~~~~~~~~~~~~~~~~~~^^^^^^^^^^^^^^^^^^^^^^^^^\n",
      "KeyError: 'projgrad2'\n",
      "[W 2024-10-03 12:45:22,551] Trial 65 failed with value None.\n",
      "[W 2024-10-03 12:45:23,685] Trial 66 failed with parameters: {'β': 0.24348229657629927, 'reverse_pref': True, 'scale_orth': True, 'weight_dim': 0, 'neg_slope': 1, 'mag_clip': 0.5, 'lr': 3.495006989470841e-06, 'collect_input': True, 'collect_hs': False} because of the following error: KeyError('projgrad2').\n",
      "Traceback (most recent call last):\n",
      "  File \"/workspace/repr-preference-optimization/.venv/lib/python3.11/site-packages/optuna/study/_optimize.py\", line 197, in _run_trial\n",
      "    value_or_values = func(trial)\n",
      "                      ^^^^^^^^^^^\n",
      "  File \"/tmp/ipykernel_1099294/2880211868.py\", line 20, in objective\n",
      "    r = objective_func(kwargs, trial, starter_experiment_name)\n",
      "        ^^^^^^^^^^^^^^^^^^^^^^^^^^^^^^^^^^^^^^^^^^^^^^^^^^^^^^\n",
      "  File \"/tmp/ipykernel_1099294/2880211868.py\", line 10, in objective_func\n",
      "    cfg = copy.deepcopy(experiment_configs[starter_experiment_name][1])\n",
      "                        ~~~~~~~~~~~~~~~~~~^^^^^^^^^^^^^^^^^^^^^^^^^\n",
      "KeyError: 'projgrad2'\n",
      "[W 2024-10-03 12:45:23,694] Trial 66 failed with value None.\n",
      "[W 2024-10-03 12:45:24,543] Trial 67 failed with parameters: {'β': 0.10687692309474384, 'reverse_pref': True, 'scale_orth': True, 'weight_dim': 2, 'neg_slope': 0.5, 'mag_clip': 0.03, 'lr': 0.0005012672950463251, 'collect_input': True, 'collect_hs': True} because of the following error: KeyError('projgrad2').\n",
      "Traceback (most recent call last):\n",
      "  File \"/workspace/repr-preference-optimization/.venv/lib/python3.11/site-packages/optuna/study/_optimize.py\", line 197, in _run_trial\n",
      "    value_or_values = func(trial)\n",
      "                      ^^^^^^^^^^^\n",
      "  File \"/tmp/ipykernel_1099294/2880211868.py\", line 20, in objective\n",
      "    r = objective_func(kwargs, trial, starter_experiment_name)\n",
      "        ^^^^^^^^^^^^^^^^^^^^^^^^^^^^^^^^^^^^^^^^^^^^^^^^^^^^^^\n",
      "  File \"/tmp/ipykernel_1099294/2880211868.py\", line 10, in objective_func\n",
      "    cfg = copy.deepcopy(experiment_configs[starter_experiment_name][1])\n",
      "                        ~~~~~~~~~~~~~~~~~~^^^^^^^^^^^^^^^^^^^^^^^^^\n",
      "KeyError: 'projgrad2'\n",
      "[W 2024-10-03 12:45:24,545] Trial 67 failed with value None.\n",
      "[W 2024-10-03 12:45:25,483] Trial 68 failed with parameters: {'β': 0.8226143185136784, 'reverse_pref': False, 'scale_orth': False, 'weight_dim': 1, 'neg_slope': 0.5, 'mag_clip': 0.1, 'lr': 6.0733597308576504e-05, 'collect_input': False, 'collect_hs': False} because of the following error: KeyError('projgrad2').\n",
      "Traceback (most recent call last):\n",
      "  File \"/workspace/repr-preference-optimization/.venv/lib/python3.11/site-packages/optuna/study/_optimize.py\", line 197, in _run_trial\n",
      "    value_or_values = func(trial)\n",
      "                      ^^^^^^^^^^^\n",
      "  File \"/tmp/ipykernel_1099294/2880211868.py\", line 20, in objective\n",
      "    r = objective_func(kwargs, trial, starter_experiment_name)\n",
      "        ^^^^^^^^^^^^^^^^^^^^^^^^^^^^^^^^^^^^^^^^^^^^^^^^^^^^^^\n",
      "  File \"/tmp/ipykernel_1099294/2880211868.py\", line 10, in objective_func\n",
      "    cfg = copy.deepcopy(experiment_configs[starter_experiment_name][1])\n",
      "                        ~~~~~~~~~~~~~~~~~~^^^^^^^^^^^^^^^^^^^^^^^^^\n",
      "KeyError: 'projgrad2'\n",
      "[W 2024-10-03 12:45:25,487] Trial 68 failed with value None.\n",
      "[W 2024-10-03 12:45:26,362] Trial 69 failed with parameters: {'β': 0.4043187681042921, 'reverse_pref': False, 'scale_orth': False, 'weight_dim': 0, 'neg_slope': 0.01, 'mag_clip': 0.03, 'lr': 3.607276003188718e-05, 'collect_input': False, 'collect_hs': False} because of the following error: KeyError('projgrad2').\n",
      "Traceback (most recent call last):\n",
      "  File \"/workspace/repr-preference-optimization/.venv/lib/python3.11/site-packages/optuna/study/_optimize.py\", line 197, in _run_trial\n",
      "    value_or_values = func(trial)\n",
      "                      ^^^^^^^^^^^\n",
      "  File \"/tmp/ipykernel_1099294/2880211868.py\", line 20, in objective\n",
      "    r = objective_func(kwargs, trial, starter_experiment_name)\n",
      "        ^^^^^^^^^^^^^^^^^^^^^^^^^^^^^^^^^^^^^^^^^^^^^^^^^^^^^^\n",
      "  File \"/tmp/ipykernel_1099294/2880211868.py\", line 10, in objective_func\n",
      "    cfg = copy.deepcopy(experiment_configs[starter_experiment_name][1])\n",
      "                        ~~~~~~~~~~~~~~~~~~^^^^^^^^^^^^^^^^^^^^^^^^^\n",
      "KeyError: 'projgrad2'\n",
      "[W 2024-10-03 12:45:26,363] Trial 69 failed with value None.\n",
      "[W 2024-10-03 12:45:27,217] Trial 70 failed with parameters: {'β': 0.8800790875614583, 'reverse_pref': True, 'scale_orth': False, 'weight_dim': 2, 'neg_slope': 0, 'mag_clip': 0.1, 'lr': 1.949976371651364e-06, 'collect_input': False, 'collect_hs': False} because of the following error: KeyError('projgrad2').\n",
      "Traceback (most recent call last):\n",
      "  File \"/workspace/repr-preference-optimization/.venv/lib/python3.11/site-packages/optuna/study/_optimize.py\", line 197, in _run_trial\n",
      "    value_or_values = func(trial)\n",
      "                      ^^^^^^^^^^^\n",
      "  File \"/tmp/ipykernel_1099294/2880211868.py\", line 20, in objective\n",
      "    r = objective_func(kwargs, trial, starter_experiment_name)\n",
      "        ^^^^^^^^^^^^^^^^^^^^^^^^^^^^^^^^^^^^^^^^^^^^^^^^^^^^^^\n",
      "  File \"/tmp/ipykernel_1099294/2880211868.py\", line 10, in objective_func\n",
      "    cfg = copy.deepcopy(experiment_configs[starter_experiment_name][1])\n",
      "                        ~~~~~~~~~~~~~~~~~~^^^^^^^^^^^^^^^^^^^^^^^^^\n",
      "KeyError: 'projgrad2'\n",
      "[W 2024-10-03 12:45:27,222] Trial 70 failed with value None.\n",
      "[W 2024-10-03 12:45:28,112] Trial 71 failed with parameters: {'β': 0.7954499607897292, 'reverse_pref': True, 'scale_orth': True, 'weight_dim': 2, 'neg_slope': 0, 'mag_clip': 0.5, 'lr': 8.116804165220035e-06, 'collect_input': False, 'collect_hs': False} because of the following error: KeyError('projgrad2').\n",
      "Traceback (most recent call last):\n",
      "  File \"/workspace/repr-preference-optimization/.venv/lib/python3.11/site-packages/optuna/study/_optimize.py\", line 197, in _run_trial\n",
      "    value_or_values = func(trial)\n",
      "                      ^^^^^^^^^^^\n",
      "  File \"/tmp/ipykernel_1099294/2880211868.py\", line 20, in objective\n",
      "    r = objective_func(kwargs, trial, starter_experiment_name)\n",
      "        ^^^^^^^^^^^^^^^^^^^^^^^^^^^^^^^^^^^^^^^^^^^^^^^^^^^^^^\n",
      "  File \"/tmp/ipykernel_1099294/2880211868.py\", line 10, in objective_func\n",
      "    cfg = copy.deepcopy(experiment_configs[starter_experiment_name][1])\n",
      "                        ~~~~~~~~~~~~~~~~~~^^^^^^^^^^^^^^^^^^^^^^^^^\n",
      "KeyError: 'projgrad2'\n",
      "[W 2024-10-03 12:45:28,113] Trial 71 failed with value None.\n",
      "[W 2024-10-03 12:45:28,967] Trial 72 failed with parameters: {'β': 0.5538022407123763, 'reverse_pref': False, 'scale_orth': False, 'weight_dim': 1, 'neg_slope': 0.1, 'mag_clip': None, 'lr': 0.00023447217331813407, 'collect_input': True, 'collect_hs': True} because of the following error: KeyError('projgrad2').\n",
      "Traceback (most recent call last):\n",
      "  File \"/workspace/repr-preference-optimization/.venv/lib/python3.11/site-packages/optuna/study/_optimize.py\", line 197, in _run_trial\n",
      "    value_or_values = func(trial)\n",
      "                      ^^^^^^^^^^^\n",
      "  File \"/tmp/ipykernel_1099294/2880211868.py\", line 20, in objective\n",
      "    r = objective_func(kwargs, trial, starter_experiment_name)\n",
      "        ^^^^^^^^^^^^^^^^^^^^^^^^^^^^^^^^^^^^^^^^^^^^^^^^^^^^^^\n",
      "  File \"/tmp/ipykernel_1099294/2880211868.py\", line 10, in objective_func\n",
      "    cfg = copy.deepcopy(experiment_configs[starter_experiment_name][1])\n",
      "                        ~~~~~~~~~~~~~~~~~~^^^^^^^^^^^^^^^^^^^^^^^^^\n",
      "KeyError: 'projgrad2'\n",
      "[W 2024-10-03 12:45:28,971] Trial 72 failed with value None.\n",
      "[W 2024-10-03 12:45:29,750] Trial 73 failed with parameters: {'β': 0.6949510889024617, 'reverse_pref': False, 'scale_orth': False, 'weight_dim': 0, 'neg_slope': 0.01, 'mag_clip': 0.03, 'lr': 2.543893159259769e-06, 'collect_input': True, 'collect_hs': True} because of the following error: KeyError('projgrad2').\n",
      "Traceback (most recent call last):\n",
      "  File \"/workspace/repr-preference-optimization/.venv/lib/python3.11/site-packages/optuna/study/_optimize.py\", line 197, in _run_trial\n",
      "    value_or_values = func(trial)\n",
      "                      ^^^^^^^^^^^\n",
      "  File \"/tmp/ipykernel_1099294/2880211868.py\", line 20, in objective\n",
      "    r = objective_func(kwargs, trial, starter_experiment_name)\n",
      "        ^^^^^^^^^^^^^^^^^^^^^^^^^^^^^^^^^^^^^^^^^^^^^^^^^^^^^^\n",
      "  File \"/tmp/ipykernel_1099294/2880211868.py\", line 10, in objective_func\n",
      "    cfg = copy.deepcopy(experiment_configs[starter_experiment_name][1])\n",
      "                        ~~~~~~~~~~~~~~~~~~^^^^^^^^^^^^^^^^^^^^^^^^^\n",
      "KeyError: 'projgrad2'\n",
      "[W 2024-10-03 12:45:29,752] Trial 73 failed with value None.\n",
      "[W 2024-10-03 12:45:30,563] Trial 74 failed with parameters: {'β': 0.3118161330852596, 'reverse_pref': True, 'scale_orth': False, 'weight_dim': 0, 'neg_slope': 1, 'mag_clip': 0.1, 'lr': 2.6714564951508316e-06, 'collect_input': False, 'collect_hs': False} because of the following error: KeyError('projgrad2').\n",
      "Traceback (most recent call last):\n",
      "  File \"/workspace/repr-preference-optimization/.venv/lib/python3.11/site-packages/optuna/study/_optimize.py\", line 197, in _run_trial\n",
      "    value_or_values = func(trial)\n",
      "                      ^^^^^^^^^^^\n",
      "  File \"/tmp/ipykernel_1099294/2880211868.py\", line 20, in objective\n",
      "    r = objective_func(kwargs, trial, starter_experiment_name)\n",
      "        ^^^^^^^^^^^^^^^^^^^^^^^^^^^^^^^^^^^^^^^^^^^^^^^^^^^^^^\n",
      "  File \"/tmp/ipykernel_1099294/2880211868.py\", line 10, in objective_func\n",
      "    cfg = copy.deepcopy(experiment_configs[starter_experiment_name][1])\n",
      "                        ~~~~~~~~~~~~~~~~~~^^^^^^^^^^^^^^^^^^^^^^^^^\n",
      "KeyError: 'projgrad2'\n",
      "[W 2024-10-03 12:45:30,567] Trial 74 failed with value None.\n",
      "[W 2024-10-03 12:45:31,447] Trial 75 failed with parameters: {'β': 0.06229179813006269, 'reverse_pref': False, 'scale_orth': True, 'weight_dim': 0, 'neg_slope': 1, 'mag_clip': 1.0, 'lr': 1.079179764304157e-06, 'collect_input': False, 'collect_hs': False} because of the following error: KeyError('projgrad2').\n",
      "Traceback (most recent call last):\n",
      "  File \"/workspace/repr-preference-optimization/.venv/lib/python3.11/site-packages/optuna/study/_optimize.py\", line 197, in _run_trial\n",
      "    value_or_values = func(trial)\n",
      "                      ^^^^^^^^^^^\n",
      "  File \"/tmp/ipykernel_1099294/2880211868.py\", line 20, in objective\n",
      "    r = objective_func(kwargs, trial, starter_experiment_name)\n",
      "        ^^^^^^^^^^^^^^^^^^^^^^^^^^^^^^^^^^^^^^^^^^^^^^^^^^^^^^\n",
      "  File \"/tmp/ipykernel_1099294/2880211868.py\", line 10, in objective_func\n",
      "    cfg = copy.deepcopy(experiment_configs[starter_experiment_name][1])\n",
      "                        ~~~~~~~~~~~~~~~~~~^^^^^^^^^^^^^^^^^^^^^^^^^\n",
      "KeyError: 'projgrad2'\n",
      "[W 2024-10-03 12:45:31,449] Trial 75 failed with value None.\n",
      "[W 2024-10-03 12:45:32,417] Trial 76 failed with parameters: {'β': 0.760289823122135, 'reverse_pref': False, 'scale_orth': True, 'weight_dim': 0, 'neg_slope': 0, 'mag_clip': 0.1, 'lr': 0.00016295632886247985, 'collect_input': True, 'collect_hs': False} because of the following error: KeyError('projgrad2').\n",
      "Traceback (most recent call last):\n",
      "  File \"/workspace/repr-preference-optimization/.venv/lib/python3.11/site-packages/optuna/study/_optimize.py\", line 197, in _run_trial\n",
      "    value_or_values = func(trial)\n",
      "                      ^^^^^^^^^^^\n",
      "  File \"/tmp/ipykernel_1099294/2880211868.py\", line 20, in objective\n",
      "    r = objective_func(kwargs, trial, starter_experiment_name)\n",
      "        ^^^^^^^^^^^^^^^^^^^^^^^^^^^^^^^^^^^^^^^^^^^^^^^^^^^^^^\n",
      "  File \"/tmp/ipykernel_1099294/2880211868.py\", line 10, in objective_func\n",
      "    cfg = copy.deepcopy(experiment_configs[starter_experiment_name][1])\n",
      "                        ~~~~~~~~~~~~~~~~~~^^^^^^^^^^^^^^^^^^^^^^^^^\n",
      "KeyError: 'projgrad2'\n",
      "[W 2024-10-03 12:45:32,422] Trial 76 failed with value None.\n",
      "[W 2024-10-03 12:45:33,339] Trial 77 failed with parameters: {'β': 0.7850165438370569, 'reverse_pref': False, 'scale_orth': True, 'weight_dim': 2, 'neg_slope': 1, 'mag_clip': 0.5, 'lr': 3.591071612510309e-05, 'collect_input': False, 'collect_hs': False} because of the following error: KeyError('projgrad2').\n",
      "Traceback (most recent call last):\n",
      "  File \"/workspace/repr-preference-optimization/.venv/lib/python3.11/site-packages/optuna/study/_optimize.py\", line 197, in _run_trial\n",
      "    value_or_values = func(trial)\n",
      "                      ^^^^^^^^^^^\n",
      "  File \"/tmp/ipykernel_1099294/2880211868.py\", line 20, in objective\n",
      "    r = objective_func(kwargs, trial, starter_experiment_name)\n",
      "        ^^^^^^^^^^^^^^^^^^^^^^^^^^^^^^^^^^^^^^^^^^^^^^^^^^^^^^\n",
      "  File \"/tmp/ipykernel_1099294/2880211868.py\", line 10, in objective_func\n",
      "    cfg = copy.deepcopy(experiment_configs[starter_experiment_name][1])\n",
      "                        ~~~~~~~~~~~~~~~~~~^^^^^^^^^^^^^^^^^^^^^^^^^\n",
      "KeyError: 'projgrad2'\n",
      "[W 2024-10-03 12:45:33,340] Trial 77 failed with value None.\n",
      "[W 2024-10-03 12:45:34,633] Trial 78 failed with parameters: {'β': 0.041672900602384266, 'reverse_pref': False, 'scale_orth': True, 'weight_dim': 0, 'neg_slope': 0, 'mag_clip': None, 'lr': 6.239349089981276e-06, 'collect_input': False, 'collect_hs': True} because of the following error: KeyError('projgrad2').\n",
      "Traceback (most recent call last):\n",
      "  File \"/workspace/repr-preference-optimization/.venv/lib/python3.11/site-packages/optuna/study/_optimize.py\", line 197, in _run_trial\n",
      "    value_or_values = func(trial)\n",
      "                      ^^^^^^^^^^^\n",
      "  File \"/tmp/ipykernel_1099294/2880211868.py\", line 20, in objective\n",
      "    r = objective_func(kwargs, trial, starter_experiment_name)\n",
      "        ^^^^^^^^^^^^^^^^^^^^^^^^^^^^^^^^^^^^^^^^^^^^^^^^^^^^^^\n",
      "  File \"/tmp/ipykernel_1099294/2880211868.py\", line 10, in objective_func\n",
      "    cfg = copy.deepcopy(experiment_configs[starter_experiment_name][1])\n",
      "                        ~~~~~~~~~~~~~~~~~~^^^^^^^^^^^^^^^^^^^^^^^^^\n",
      "KeyError: 'projgrad2'\n",
      "[W 2024-10-03 12:45:34,638] Trial 78 failed with value None.\n",
      "[W 2024-10-03 12:45:35,543] Trial 79 failed with parameters: {'β': 0.7692231478381336, 'reverse_pref': True, 'scale_orth': True, 'weight_dim': 1, 'neg_slope': 1, 'mag_clip': 0.1, 'lr': 9.320427272532419e-05, 'collect_input': False, 'collect_hs': True} because of the following error: KeyError('projgrad2').\n",
      "Traceback (most recent call last):\n",
      "  File \"/workspace/repr-preference-optimization/.venv/lib/python3.11/site-packages/optuna/study/_optimize.py\", line 197, in _run_trial\n",
      "    value_or_values = func(trial)\n",
      "                      ^^^^^^^^^^^\n",
      "  File \"/tmp/ipykernel_1099294/2880211868.py\", line 20, in objective\n",
      "    r = objective_func(kwargs, trial, starter_experiment_name)\n",
      "        ^^^^^^^^^^^^^^^^^^^^^^^^^^^^^^^^^^^^^^^^^^^^^^^^^^^^^^\n",
      "  File \"/tmp/ipykernel_1099294/2880211868.py\", line 10, in objective_func\n",
      "    cfg = copy.deepcopy(experiment_configs[starter_experiment_name][1])\n",
      "                        ~~~~~~~~~~~~~~~~~~^^^^^^^^^^^^^^^^^^^^^^^^^\n",
      "KeyError: 'projgrad2'\n",
      "[W 2024-10-03 12:45:35,545] Trial 79 failed with value None.\n",
      "[W 2024-10-03 12:45:36,629] Trial 80 failed with parameters: {'β': 0.3721670238375133, 'reverse_pref': False, 'scale_orth': False, 'weight_dim': 0, 'neg_slope': 0.1, 'mag_clip': 0.5, 'lr': 0.0003357342581320886, 'collect_input': False, 'collect_hs': True} because of the following error: KeyError('projgrad2').\n",
      "Traceback (most recent call last):\n",
      "  File \"/workspace/repr-preference-optimization/.venv/lib/python3.11/site-packages/optuna/study/_optimize.py\", line 197, in _run_trial\n",
      "    value_or_values = func(trial)\n",
      "                      ^^^^^^^^^^^\n",
      "  File \"/tmp/ipykernel_1099294/2880211868.py\", line 20, in objective\n",
      "    r = objective_func(kwargs, trial, starter_experiment_name)\n",
      "        ^^^^^^^^^^^^^^^^^^^^^^^^^^^^^^^^^^^^^^^^^^^^^^^^^^^^^^\n",
      "  File \"/tmp/ipykernel_1099294/2880211868.py\", line 10, in objective_func\n",
      "    cfg = copy.deepcopy(experiment_configs[starter_experiment_name][1])\n",
      "                        ~~~~~~~~~~~~~~~~~~^^^^^^^^^^^^^^^^^^^^^^^^^\n",
      "KeyError: 'projgrad2'\n",
      "[W 2024-10-03 12:45:36,634] Trial 80 failed with value None.\n",
      "[W 2024-10-03 12:45:37,749] Trial 81 failed with parameters: {'β': 0.5450269188969383, 'reverse_pref': True, 'scale_orth': False, 'weight_dim': 0, 'neg_slope': 1, 'mag_clip': None, 'lr': 0.00041683938606572, 'collect_input': False, 'collect_hs': False} because of the following error: KeyError('projgrad2').\n",
      "Traceback (most recent call last):\n",
      "  File \"/workspace/repr-preference-optimization/.venv/lib/python3.11/site-packages/optuna/study/_optimize.py\", line 197, in _run_trial\n",
      "    value_or_values = func(trial)\n",
      "                      ^^^^^^^^^^^\n",
      "  File \"/tmp/ipykernel_1099294/2880211868.py\", line 20, in objective\n",
      "    r = objective_func(kwargs, trial, starter_experiment_name)\n",
      "        ^^^^^^^^^^^^^^^^^^^^^^^^^^^^^^^^^^^^^^^^^^^^^^^^^^^^^^\n",
      "  File \"/tmp/ipykernel_1099294/2880211868.py\", line 10, in objective_func\n",
      "    cfg = copy.deepcopy(experiment_configs[starter_experiment_name][1])\n",
      "                        ~~~~~~~~~~~~~~~~~~^^^^^^^^^^^^^^^^^^^^^^^^^\n",
      "KeyError: 'projgrad2'\n",
      "[W 2024-10-03 12:45:37,758] Trial 81 failed with value None.\n",
      "[W 2024-10-03 12:45:38,625] Trial 82 failed with parameters: {'β': 0.009331619827093296, 'reverse_pref': False, 'scale_orth': True, 'weight_dim': 1, 'neg_slope': 0, 'mag_clip': 0.1, 'lr': 0.0001726638212790941, 'collect_input': False, 'collect_hs': True} because of the following error: KeyError('projgrad2').\n",
      "Traceback (most recent call last):\n",
      "  File \"/workspace/repr-preference-optimization/.venv/lib/python3.11/site-packages/optuna/study/_optimize.py\", line 197, in _run_trial\n",
      "    value_or_values = func(trial)\n",
      "                      ^^^^^^^^^^^\n",
      "  File \"/tmp/ipykernel_1099294/2880211868.py\", line 20, in objective\n",
      "    r = objective_func(kwargs, trial, starter_experiment_name)\n",
      "        ^^^^^^^^^^^^^^^^^^^^^^^^^^^^^^^^^^^^^^^^^^^^^^^^^^^^^^\n",
      "  File \"/tmp/ipykernel_1099294/2880211868.py\", line 10, in objective_func\n",
      "    cfg = copy.deepcopy(experiment_configs[starter_experiment_name][1])\n",
      "                        ~~~~~~~~~~~~~~~~~~^^^^^^^^^^^^^^^^^^^^^^^^^\n",
      "KeyError: 'projgrad2'\n",
      "[W 2024-10-03 12:45:38,627] Trial 82 failed with value None.\n",
      "[W 2024-10-03 12:45:39,746] Trial 83 failed with parameters: {'β': 0.14888805033244468, 'reverse_pref': False, 'scale_orth': True, 'weight_dim': 1, 'neg_slope': 0.01, 'mag_clip': 1.0, 'lr': 2.7728007935336456e-05, 'collect_input': True, 'collect_hs': True} because of the following error: KeyError('projgrad2').\n",
      "Traceback (most recent call last):\n",
      "  File \"/workspace/repr-preference-optimization/.venv/lib/python3.11/site-packages/optuna/study/_optimize.py\", line 197, in _run_trial\n",
      "    value_or_values = func(trial)\n",
      "                      ^^^^^^^^^^^\n",
      "  File \"/tmp/ipykernel_1099294/2880211868.py\", line 20, in objective\n",
      "    r = objective_func(kwargs, trial, starter_experiment_name)\n",
      "        ^^^^^^^^^^^^^^^^^^^^^^^^^^^^^^^^^^^^^^^^^^^^^^^^^^^^^^\n",
      "  File \"/tmp/ipykernel_1099294/2880211868.py\", line 10, in objective_func\n",
      "    cfg = copy.deepcopy(experiment_configs[starter_experiment_name][1])\n",
      "                        ~~~~~~~~~~~~~~~~~~^^^^^^^^^^^^^^^^^^^^^^^^^\n",
      "KeyError: 'projgrad2'\n",
      "[W 2024-10-03 12:45:39,751] Trial 83 failed with value None.\n",
      "[W 2024-10-03 12:45:40,942] Trial 84 failed with parameters: {'β': 0.5606600944161709, 'reverse_pref': False, 'scale_orth': True, 'weight_dim': 2, 'neg_slope': 1, 'mag_clip': 0.03, 'lr': 1.8441714275080166e-06, 'collect_input': False, 'collect_hs': False} because of the following error: KeyError('projgrad2').\n",
      "Traceback (most recent call last):\n",
      "  File \"/workspace/repr-preference-optimization/.venv/lib/python3.11/site-packages/optuna/study/_optimize.py\", line 197, in _run_trial\n",
      "    value_or_values = func(trial)\n",
      "                      ^^^^^^^^^^^\n",
      "  File \"/tmp/ipykernel_1099294/2880211868.py\", line 20, in objective\n",
      "    r = objective_func(kwargs, trial, starter_experiment_name)\n",
      "        ^^^^^^^^^^^^^^^^^^^^^^^^^^^^^^^^^^^^^^^^^^^^^^^^^^^^^^\n",
      "  File \"/tmp/ipykernel_1099294/2880211868.py\", line 10, in objective_func\n",
      "    cfg = copy.deepcopy(experiment_configs[starter_experiment_name][1])\n",
      "                        ~~~~~~~~~~~~~~~~~~^^^^^^^^^^^^^^^^^^^^^^^^^\n",
      "KeyError: 'projgrad2'\n",
      "[W 2024-10-03 12:45:40,946] Trial 84 failed with value None.\n",
      "[W 2024-10-03 12:45:41,840] Trial 85 failed with parameters: {'β': 0.9331133313435577, 'reverse_pref': True, 'scale_orth': False, 'weight_dim': 0, 'neg_slope': 0.01, 'mag_clip': 10, 'lr': 3.582913296382727e-05, 'collect_input': False, 'collect_hs': False} because of the following error: KeyError('projgrad2').\n",
      "Traceback (most recent call last):\n",
      "  File \"/workspace/repr-preference-optimization/.venv/lib/python3.11/site-packages/optuna/study/_optimize.py\", line 197, in _run_trial\n",
      "    value_or_values = func(trial)\n",
      "                      ^^^^^^^^^^^\n",
      "  File \"/tmp/ipykernel_1099294/2880211868.py\", line 20, in objective\n",
      "    r = objective_func(kwargs, trial, starter_experiment_name)\n",
      "        ^^^^^^^^^^^^^^^^^^^^^^^^^^^^^^^^^^^^^^^^^^^^^^^^^^^^^^\n",
      "  File \"/tmp/ipykernel_1099294/2880211868.py\", line 10, in objective_func\n",
      "    cfg = copy.deepcopy(experiment_configs[starter_experiment_name][1])\n",
      "                        ~~~~~~~~~~~~~~~~~~^^^^^^^^^^^^^^^^^^^^^^^^^\n",
      "KeyError: 'projgrad2'\n",
      "[W 2024-10-03 12:45:41,842] Trial 85 failed with value None.\n",
      "[W 2024-10-03 12:45:42,707] Trial 86 failed with parameters: {'β': 0.8727302504846018, 'reverse_pref': True, 'scale_orth': True, 'weight_dim': 1, 'neg_slope': 0.1, 'mag_clip': 0.03, 'lr': 0.000741043774715447, 'collect_input': True, 'collect_hs': True} because of the following error: KeyError('projgrad2').\n",
      "Traceback (most recent call last):\n",
      "  File \"/workspace/repr-preference-optimization/.venv/lib/python3.11/site-packages/optuna/study/_optimize.py\", line 197, in _run_trial\n",
      "    value_or_values = func(trial)\n",
      "                      ^^^^^^^^^^^\n",
      "  File \"/tmp/ipykernel_1099294/2880211868.py\", line 20, in objective\n",
      "    r = objective_func(kwargs, trial, starter_experiment_name)\n",
      "        ^^^^^^^^^^^^^^^^^^^^^^^^^^^^^^^^^^^^^^^^^^^^^^^^^^^^^^\n",
      "  File \"/tmp/ipykernel_1099294/2880211868.py\", line 10, in objective_func\n",
      "    cfg = copy.deepcopy(experiment_configs[starter_experiment_name][1])\n",
      "                        ~~~~~~~~~~~~~~~~~~^^^^^^^^^^^^^^^^^^^^^^^^^\n",
      "KeyError: 'projgrad2'\n",
      "[W 2024-10-03 12:45:42,710] Trial 86 failed with value None.\n",
      "[W 2024-10-03 12:45:43,594] Trial 87 failed with parameters: {'β': 0.24697879907199982, 'reverse_pref': True, 'scale_orth': False, 'weight_dim': 1, 'neg_slope': 0, 'mag_clip': None, 'lr': 9.803226986580418e-05, 'collect_input': True, 'collect_hs': True} because of the following error: KeyError('projgrad2').\n",
      "Traceback (most recent call last):\n",
      "  File \"/workspace/repr-preference-optimization/.venv/lib/python3.11/site-packages/optuna/study/_optimize.py\", line 197, in _run_trial\n",
      "    value_or_values = func(trial)\n",
      "                      ^^^^^^^^^^^\n",
      "  File \"/tmp/ipykernel_1099294/2880211868.py\", line 20, in objective\n",
      "    r = objective_func(kwargs, trial, starter_experiment_name)\n",
      "        ^^^^^^^^^^^^^^^^^^^^^^^^^^^^^^^^^^^^^^^^^^^^^^^^^^^^^^\n",
      "  File \"/tmp/ipykernel_1099294/2880211868.py\", line 10, in objective_func\n",
      "    cfg = copy.deepcopy(experiment_configs[starter_experiment_name][1])\n",
      "                        ~~~~~~~~~~~~~~~~~~^^^^^^^^^^^^^^^^^^^^^^^^^\n",
      "KeyError: 'projgrad2'\n",
      "[W 2024-10-03 12:45:43,597] Trial 87 failed with value None.\n",
      "[W 2024-10-03 12:45:44,464] Trial 88 failed with parameters: {'β': 0.4187933190741614, 'reverse_pref': False, 'scale_orth': True, 'weight_dim': 1, 'neg_slope': 0.5, 'mag_clip': 10, 'lr': 3.7168303105885586e-05, 'collect_input': False, 'collect_hs': True} because of the following error: KeyError('projgrad2').\n",
      "Traceback (most recent call last):\n",
      "  File \"/workspace/repr-preference-optimization/.venv/lib/python3.11/site-packages/optuna/study/_optimize.py\", line 197, in _run_trial\n",
      "    value_or_values = func(trial)\n",
      "                      ^^^^^^^^^^^\n",
      "  File \"/tmp/ipykernel_1099294/2880211868.py\", line 20, in objective\n",
      "    r = objective_func(kwargs, trial, starter_experiment_name)\n",
      "        ^^^^^^^^^^^^^^^^^^^^^^^^^^^^^^^^^^^^^^^^^^^^^^^^^^^^^^\n",
      "  File \"/tmp/ipykernel_1099294/2880211868.py\", line 10, in objective_func\n",
      "    cfg = copy.deepcopy(experiment_configs[starter_experiment_name][1])\n",
      "                        ~~~~~~~~~~~~~~~~~~^^^^^^^^^^^^^^^^^^^^^^^^^\n",
      "KeyError: 'projgrad2'\n",
      "[W 2024-10-03 12:45:44,468] Trial 88 failed with value None.\n",
      "[W 2024-10-03 12:45:45,377] Trial 89 failed with parameters: {'β': 0.7078350972297687, 'reverse_pref': True, 'scale_orth': False, 'weight_dim': 0, 'neg_slope': 0, 'mag_clip': 1.0, 'lr': 0.00022847284946299126, 'collect_input': False, 'collect_hs': False} because of the following error: KeyError('projgrad2').\n",
      "Traceback (most recent call last):\n",
      "  File \"/workspace/repr-preference-optimization/.venv/lib/python3.11/site-packages/optuna/study/_optimize.py\", line 197, in _run_trial\n",
      "    value_or_values = func(trial)\n",
      "                      ^^^^^^^^^^^\n",
      "  File \"/tmp/ipykernel_1099294/2880211868.py\", line 20, in objective\n",
      "    r = objective_func(kwargs, trial, starter_experiment_name)\n",
      "        ^^^^^^^^^^^^^^^^^^^^^^^^^^^^^^^^^^^^^^^^^^^^^^^^^^^^^^\n",
      "  File \"/tmp/ipykernel_1099294/2880211868.py\", line 10, in objective_func\n",
      "    cfg = copy.deepcopy(experiment_configs[starter_experiment_name][1])\n",
      "                        ~~~~~~~~~~~~~~~~~~^^^^^^^^^^^^^^^^^^^^^^^^^\n",
      "KeyError: 'projgrad2'\n",
      "[W 2024-10-03 12:45:45,379] Trial 89 failed with value None.\n",
      "[W 2024-10-03 12:45:46,334] Trial 90 failed with parameters: {'β': 0.756751505688635, 'reverse_pref': True, 'scale_orth': False, 'weight_dim': 2, 'neg_slope': 0.1, 'mag_clip': 0.1, 'lr': 0.0002926236895383578, 'collect_input': False, 'collect_hs': True} because of the following error: KeyError('projgrad2').\n",
      "Traceback (most recent call last):\n",
      "  File \"/workspace/repr-preference-optimization/.venv/lib/python3.11/site-packages/optuna/study/_optimize.py\", line 197, in _run_trial\n",
      "    value_or_values = func(trial)\n",
      "                      ^^^^^^^^^^^\n",
      "  File \"/tmp/ipykernel_1099294/2880211868.py\", line 20, in objective\n",
      "    r = objective_func(kwargs, trial, starter_experiment_name)\n",
      "        ^^^^^^^^^^^^^^^^^^^^^^^^^^^^^^^^^^^^^^^^^^^^^^^^^^^^^^\n",
      "  File \"/tmp/ipykernel_1099294/2880211868.py\", line 10, in objective_func\n",
      "    cfg = copy.deepcopy(experiment_configs[starter_experiment_name][1])\n",
      "                        ~~~~~~~~~~~~~~~~~~^^^^^^^^^^^^^^^^^^^^^^^^^\n",
      "KeyError: 'projgrad2'\n",
      "[W 2024-10-03 12:45:46,339] Trial 90 failed with value None.\n",
      "[W 2024-10-03 12:45:47,280] Trial 91 failed with parameters: {'β': 0.5233296311947413, 'reverse_pref': False, 'scale_orth': False, 'weight_dim': 2, 'neg_slope': 0.01, 'mag_clip': 10, 'lr': 4.036890832815484e-06, 'collect_input': False, 'collect_hs': True} because of the following error: KeyError('projgrad2').\n",
      "Traceback (most recent call last):\n",
      "  File \"/workspace/repr-preference-optimization/.venv/lib/python3.11/site-packages/optuna/study/_optimize.py\", line 197, in _run_trial\n",
      "    value_or_values = func(trial)\n",
      "                      ^^^^^^^^^^^\n",
      "  File \"/tmp/ipykernel_1099294/2880211868.py\", line 20, in objective\n",
      "    r = objective_func(kwargs, trial, starter_experiment_name)\n",
      "        ^^^^^^^^^^^^^^^^^^^^^^^^^^^^^^^^^^^^^^^^^^^^^^^^^^^^^^\n",
      "  File \"/tmp/ipykernel_1099294/2880211868.py\", line 10, in objective_func\n",
      "    cfg = copy.deepcopy(experiment_configs[starter_experiment_name][1])\n",
      "                        ~~~~~~~~~~~~~~~~~~^^^^^^^^^^^^^^^^^^^^^^^^^\n",
      "KeyError: 'projgrad2'\n",
      "[W 2024-10-03 12:45:47,282] Trial 91 failed with value None.\n",
      "[W 2024-10-03 12:45:48,123] Trial 92 failed with parameters: {'β': 0.440323418368349, 'reverse_pref': True, 'scale_orth': True, 'weight_dim': 1, 'neg_slope': 0.1, 'mag_clip': 0.03, 'lr': 0.00014390002424458434, 'collect_input': True, 'collect_hs': True} because of the following error: KeyError('projgrad2').\n",
      "Traceback (most recent call last):\n",
      "  File \"/workspace/repr-preference-optimization/.venv/lib/python3.11/site-packages/optuna/study/_optimize.py\", line 197, in _run_trial\n",
      "    value_or_values = func(trial)\n",
      "                      ^^^^^^^^^^^\n",
      "  File \"/tmp/ipykernel_1099294/2880211868.py\", line 20, in objective\n",
      "    r = objective_func(kwargs, trial, starter_experiment_name)\n",
      "        ^^^^^^^^^^^^^^^^^^^^^^^^^^^^^^^^^^^^^^^^^^^^^^^^^^^^^^\n",
      "  File \"/tmp/ipykernel_1099294/2880211868.py\", line 10, in objective_func\n",
      "    cfg = copy.deepcopy(experiment_configs[starter_experiment_name][1])\n",
      "                        ~~~~~~~~~~~~~~~~~~^^^^^^^^^^^^^^^^^^^^^^^^^\n",
      "KeyError: 'projgrad2'\n",
      "[W 2024-10-03 12:45:48,127] Trial 92 failed with value None.\n",
      "[W 2024-10-03 12:45:48,984] Trial 93 failed with parameters: {'β': 0.858177053157164, 'reverse_pref': True, 'scale_orth': True, 'weight_dim': 1, 'neg_slope': 1, 'mag_clip': 0.5, 'lr': 1.1061760079555537e-05, 'collect_input': False, 'collect_hs': True} because of the following error: KeyError('projgrad2').\n",
      "Traceback (most recent call last):\n",
      "  File \"/workspace/repr-preference-optimization/.venv/lib/python3.11/site-packages/optuna/study/_optimize.py\", line 197, in _run_trial\n",
      "    value_or_values = func(trial)\n",
      "                      ^^^^^^^^^^^\n",
      "  File \"/tmp/ipykernel_1099294/2880211868.py\", line 20, in objective\n",
      "    r = objective_func(kwargs, trial, starter_experiment_name)\n",
      "        ^^^^^^^^^^^^^^^^^^^^^^^^^^^^^^^^^^^^^^^^^^^^^^^^^^^^^^\n",
      "  File \"/tmp/ipykernel_1099294/2880211868.py\", line 10, in objective_func\n",
      "    cfg = copy.deepcopy(experiment_configs[starter_experiment_name][1])\n",
      "                        ~~~~~~~~~~~~~~~~~~^^^^^^^^^^^^^^^^^^^^^^^^^\n",
      "KeyError: 'projgrad2'\n",
      "[W 2024-10-03 12:45:48,986] Trial 93 failed with value None.\n",
      "[W 2024-10-03 12:45:49,874] Trial 94 failed with parameters: {'β': 0.3523749466096544, 'reverse_pref': True, 'scale_orth': True, 'weight_dim': 0, 'neg_slope': 0.1, 'mag_clip': None, 'lr': 8.240091421330163e-06, 'collect_input': True, 'collect_hs': False} because of the following error: KeyError('projgrad2').\n",
      "Traceback (most recent call last):\n",
      "  File \"/workspace/repr-preference-optimization/.venv/lib/python3.11/site-packages/optuna/study/_optimize.py\", line 197, in _run_trial\n",
      "    value_or_values = func(trial)\n",
      "                      ^^^^^^^^^^^\n",
      "  File \"/tmp/ipykernel_1099294/2880211868.py\", line 20, in objective\n",
      "    r = objective_func(kwargs, trial, starter_experiment_name)\n",
      "        ^^^^^^^^^^^^^^^^^^^^^^^^^^^^^^^^^^^^^^^^^^^^^^^^^^^^^^\n",
      "  File \"/tmp/ipykernel_1099294/2880211868.py\", line 10, in objective_func\n",
      "    cfg = copy.deepcopy(experiment_configs[starter_experiment_name][1])\n",
      "                        ~~~~~~~~~~~~~~~~~~^^^^^^^^^^^^^^^^^^^^^^^^^\n",
      "KeyError: 'projgrad2'\n",
      "[W 2024-10-03 12:45:49,878] Trial 94 failed with value None.\n",
      "[W 2024-10-03 12:45:50,737] Trial 95 failed with parameters: {'β': 0.9383048184484827, 'reverse_pref': True, 'scale_orth': True, 'weight_dim': 0, 'neg_slope': 0, 'mag_clip': 1.0, 'lr': 1.336823358730404e-06, 'collect_input': False, 'collect_hs': False} because of the following error: KeyError('projgrad2').\n",
      "Traceback (most recent call last):\n",
      "  File \"/workspace/repr-preference-optimization/.venv/lib/python3.11/site-packages/optuna/study/_optimize.py\", line 197, in _run_trial\n",
      "    value_or_values = func(trial)\n",
      "                      ^^^^^^^^^^^\n",
      "  File \"/tmp/ipykernel_1099294/2880211868.py\", line 20, in objective\n",
      "    r = objective_func(kwargs, trial, starter_experiment_name)\n",
      "        ^^^^^^^^^^^^^^^^^^^^^^^^^^^^^^^^^^^^^^^^^^^^^^^^^^^^^^\n",
      "  File \"/tmp/ipykernel_1099294/2880211868.py\", line 10, in objective_func\n",
      "    cfg = copy.deepcopy(experiment_configs[starter_experiment_name][1])\n",
      "                        ~~~~~~~~~~~~~~~~~~^^^^^^^^^^^^^^^^^^^^^^^^^\n",
      "KeyError: 'projgrad2'\n",
      "[W 2024-10-03 12:45:50,738] Trial 95 failed with value None.\n",
      "[W 2024-10-03 12:45:51,659] Trial 96 failed with parameters: {'β': 0.29221823046189777, 'reverse_pref': True, 'scale_orth': True, 'weight_dim': 2, 'neg_slope': 1, 'mag_clip': 0.03, 'lr': 8.013011799895507e-06, 'collect_input': True, 'collect_hs': False} because of the following error: KeyError('projgrad2').\n",
      "Traceback (most recent call last):\n",
      "  File \"/workspace/repr-preference-optimization/.venv/lib/python3.11/site-packages/optuna/study/_optimize.py\", line 197, in _run_trial\n",
      "    value_or_values = func(trial)\n",
      "                      ^^^^^^^^^^^\n",
      "  File \"/tmp/ipykernel_1099294/2880211868.py\", line 20, in objective\n",
      "    r = objective_func(kwargs, trial, starter_experiment_name)\n",
      "        ^^^^^^^^^^^^^^^^^^^^^^^^^^^^^^^^^^^^^^^^^^^^^^^^^^^^^^\n",
      "  File \"/tmp/ipykernel_1099294/2880211868.py\", line 10, in objective_func\n",
      "    cfg = copy.deepcopy(experiment_configs[starter_experiment_name][1])\n",
      "                        ~~~~~~~~~~~~~~~~~~^^^^^^^^^^^^^^^^^^^^^^^^^\n",
      "KeyError: 'projgrad2'\n",
      "[W 2024-10-03 12:45:51,663] Trial 96 failed with value None.\n",
      "[W 2024-10-03 12:45:52,532] Trial 97 failed with parameters: {'β': 0.04814283597835345, 'reverse_pref': True, 'scale_orth': True, 'weight_dim': 2, 'neg_slope': 0.5, 'mag_clip': 0.03, 'lr': 2.212070638046163e-06, 'collect_input': False, 'collect_hs': False} because of the following error: KeyError('projgrad2').\n",
      "Traceback (most recent call last):\n",
      "  File \"/workspace/repr-preference-optimization/.venv/lib/python3.11/site-packages/optuna/study/_optimize.py\", line 197, in _run_trial\n",
      "    value_or_values = func(trial)\n",
      "                      ^^^^^^^^^^^\n",
      "  File \"/tmp/ipykernel_1099294/2880211868.py\", line 20, in objective\n",
      "    r = objective_func(kwargs, trial, starter_experiment_name)\n",
      "        ^^^^^^^^^^^^^^^^^^^^^^^^^^^^^^^^^^^^^^^^^^^^^^^^^^^^^^\n",
      "  File \"/tmp/ipykernel_1099294/2880211868.py\", line 10, in objective_func\n",
      "    cfg = copy.deepcopy(experiment_configs[starter_experiment_name][1])\n",
      "                        ~~~~~~~~~~~~~~~~~~^^^^^^^^^^^^^^^^^^^^^^^^^\n",
      "KeyError: 'projgrad2'\n",
      "[W 2024-10-03 12:45:52,534] Trial 97 failed with value None.\n",
      "[W 2024-10-03 12:45:53,710] Trial 98 failed with parameters: {'β': 0.8789789002822673, 'reverse_pref': True, 'scale_orth': True, 'weight_dim': 1, 'neg_slope': 0.1, 'mag_clip': 0.1, 'lr': 2.9040307177965488e-05, 'collect_input': False, 'collect_hs': False} because of the following error: KeyError('projgrad2').\n",
      "Traceback (most recent call last):\n",
      "  File \"/workspace/repr-preference-optimization/.venv/lib/python3.11/site-packages/optuna/study/_optimize.py\", line 197, in _run_trial\n",
      "    value_or_values = func(trial)\n",
      "                      ^^^^^^^^^^^\n",
      "  File \"/tmp/ipykernel_1099294/2880211868.py\", line 20, in objective\n",
      "    r = objective_func(kwargs, trial, starter_experiment_name)\n",
      "        ^^^^^^^^^^^^^^^^^^^^^^^^^^^^^^^^^^^^^^^^^^^^^^^^^^^^^^\n",
      "  File \"/tmp/ipykernel_1099294/2880211868.py\", line 10, in objective_func\n",
      "    cfg = copy.deepcopy(experiment_configs[starter_experiment_name][1])\n",
      "                        ~~~~~~~~~~~~~~~~~~^^^^^^^^^^^^^^^^^^^^^^^^^\n",
      "KeyError: 'projgrad2'\n",
      "[W 2024-10-03 12:45:53,714] Trial 98 failed with value None.\n",
      "[W 2024-10-03 12:45:54,663] Trial 99 failed with parameters: {'β': 0.5062660594952028, 'reverse_pref': True, 'scale_orth': False, 'weight_dim': 1, 'neg_slope': 0.5, 'mag_clip': 0.1, 'lr': 1.0543677118402839e-06, 'collect_input': True, 'collect_hs': False} because of the following error: KeyError('projgrad2').\n",
      "Traceback (most recent call last):\n",
      "  File \"/workspace/repr-preference-optimization/.venv/lib/python3.11/site-packages/optuna/study/_optimize.py\", line 197, in _run_trial\n",
      "    value_or_values = func(trial)\n",
      "                      ^^^^^^^^^^^\n",
      "  File \"/tmp/ipykernel_1099294/2880211868.py\", line 20, in objective\n",
      "    r = objective_func(kwargs, trial, starter_experiment_name)\n",
      "        ^^^^^^^^^^^^^^^^^^^^^^^^^^^^^^^^^^^^^^^^^^^^^^^^^^^^^^\n",
      "  File \"/tmp/ipykernel_1099294/2880211868.py\", line 10, in objective_func\n",
      "    cfg = copy.deepcopy(experiment_configs[starter_experiment_name][1])\n",
      "                        ~~~~~~~~~~~~~~~~~~^^^^^^^^^^^^^^^^^^^^^^^^^\n",
      "KeyError: 'projgrad2'\n",
      "[W 2024-10-03 12:45:54,664] Trial 99 failed with value None.\n",
      "[W 2024-10-03 12:45:55,550] Trial 100 failed with parameters: {'β': 0.8025856795798129, 'reverse_pref': True, 'scale_orth': False, 'weight_dim': 1, 'neg_slope': 0.01, 'mag_clip': 0.5, 'lr': 1.84282686831452e-05, 'collect_input': False, 'collect_hs': True} because of the following error: KeyError('projgrad2').\n",
      "Traceback (most recent call last):\n",
      "  File \"/workspace/repr-preference-optimization/.venv/lib/python3.11/site-packages/optuna/study/_optimize.py\", line 197, in _run_trial\n",
      "    value_or_values = func(trial)\n",
      "                      ^^^^^^^^^^^\n",
      "  File \"/tmp/ipykernel_1099294/2880211868.py\", line 20, in objective\n",
      "    r = objective_func(kwargs, trial, starter_experiment_name)\n",
      "        ^^^^^^^^^^^^^^^^^^^^^^^^^^^^^^^^^^^^^^^^^^^^^^^^^^^^^^\n",
      "  File \"/tmp/ipykernel_1099294/2880211868.py\", line 10, in objective_func\n",
      "    cfg = copy.deepcopy(experiment_configs[starter_experiment_name][1])\n",
      "                        ~~~~~~~~~~~~~~~~~~^^^^^^^^^^^^^^^^^^^^^^^^^\n",
      "KeyError: 'projgrad2'\n",
      "[W 2024-10-03 12:45:55,555] Trial 100 failed with value None.\n",
      "[W 2024-10-03 12:45:56,429] Trial 101 failed with parameters: {'β': 0.3093727178627821, 'reverse_pref': False, 'scale_orth': True, 'weight_dim': 1, 'neg_slope': 1, 'mag_clip': 100, 'lr': 1.6331384116614349e-06, 'collect_input': False, 'collect_hs': True} because of the following error: KeyError('projgrad2').\n",
      "Traceback (most recent call last):\n",
      "  File \"/workspace/repr-preference-optimization/.venv/lib/python3.11/site-packages/optuna/study/_optimize.py\", line 197, in _run_trial\n",
      "    value_or_values = func(trial)\n",
      "                      ^^^^^^^^^^^\n",
      "  File \"/tmp/ipykernel_1099294/2880211868.py\", line 20, in objective\n",
      "    r = objective_func(kwargs, trial, starter_experiment_name)\n",
      "        ^^^^^^^^^^^^^^^^^^^^^^^^^^^^^^^^^^^^^^^^^^^^^^^^^^^^^^\n",
      "  File \"/tmp/ipykernel_1099294/2880211868.py\", line 10, in objective_func\n",
      "    cfg = copy.deepcopy(experiment_configs[starter_experiment_name][1])\n",
      "                        ~~~~~~~~~~~~~~~~~~^^^^^^^^^^^^^^^^^^^^^^^^^\n",
      "KeyError: 'projgrad2'\n",
      "[W 2024-10-03 12:45:56,430] Trial 101 failed with value None.\n",
      "[W 2024-10-03 12:45:57,543] Trial 102 failed with parameters: {'β': 0.6786699566725648, 'reverse_pref': False, 'scale_orth': False, 'weight_dim': 2, 'neg_slope': 1, 'mag_clip': 0.03, 'lr': 5.3901352190281405e-05, 'collect_input': False, 'collect_hs': True} because of the following error: KeyError('projgrad2').\n",
      "Traceback (most recent call last):\n",
      "  File \"/workspace/repr-preference-optimization/.venv/lib/python3.11/site-packages/optuna/study/_optimize.py\", line 197, in _run_trial\n",
      "    value_or_values = func(trial)\n",
      "                      ^^^^^^^^^^^\n",
      "  File \"/tmp/ipykernel_1099294/2880211868.py\", line 20, in objective\n",
      "    r = objective_func(kwargs, trial, starter_experiment_name)\n",
      "        ^^^^^^^^^^^^^^^^^^^^^^^^^^^^^^^^^^^^^^^^^^^^^^^^^^^^^^\n",
      "  File \"/tmp/ipykernel_1099294/2880211868.py\", line 10, in objective_func\n",
      "    cfg = copy.deepcopy(experiment_configs[starter_experiment_name][1])\n",
      "                        ~~~~~~~~~~~~~~~~~~^^^^^^^^^^^^^^^^^^^^^^^^^\n",
      "KeyError: 'projgrad2'\n",
      "[W 2024-10-03 12:45:57,548] Trial 102 failed with value None.\n",
      "[W 2024-10-03 12:45:58,516] Trial 103 failed with parameters: {'β': 0.729173487549448, 'reverse_pref': False, 'scale_orth': True, 'weight_dim': 2, 'neg_slope': 1, 'mag_clip': 0.1, 'lr': 6.356565118684248e-05, 'collect_input': True, 'collect_hs': True} because of the following error: KeyError('projgrad2').\n",
      "Traceback (most recent call last):\n",
      "  File \"/workspace/repr-preference-optimization/.venv/lib/python3.11/site-packages/optuna/study/_optimize.py\", line 197, in _run_trial\n",
      "    value_or_values = func(trial)\n",
      "                      ^^^^^^^^^^^\n",
      "  File \"/tmp/ipykernel_1099294/2880211868.py\", line 20, in objective\n",
      "    r = objective_func(kwargs, trial, starter_experiment_name)\n",
      "        ^^^^^^^^^^^^^^^^^^^^^^^^^^^^^^^^^^^^^^^^^^^^^^^^^^^^^^\n",
      "  File \"/tmp/ipykernel_1099294/2880211868.py\", line 10, in objective_func\n",
      "    cfg = copy.deepcopy(experiment_configs[starter_experiment_name][1])\n",
      "                        ~~~~~~~~~~~~~~~~~~^^^^^^^^^^^^^^^^^^^^^^^^^\n",
      "KeyError: 'projgrad2'\n",
      "[W 2024-10-03 12:45:58,518] Trial 103 failed with value None.\n",
      "[W 2024-10-03 12:45:59,426] Trial 104 failed with parameters: {'β': 0.43052933846220753, 'reverse_pref': False, 'scale_orth': True, 'weight_dim': 0, 'neg_slope': 0, 'mag_clip': 10, 'lr': 0.00011609745707729852, 'collect_input': False, 'collect_hs': False} because of the following error: KeyError('projgrad2').\n",
      "Traceback (most recent call last):\n",
      "  File \"/workspace/repr-preference-optimization/.venv/lib/python3.11/site-packages/optuna/study/_optimize.py\", line 197, in _run_trial\n",
      "    value_or_values = func(trial)\n",
      "                      ^^^^^^^^^^^\n",
      "  File \"/tmp/ipykernel_1099294/2880211868.py\", line 20, in objective\n",
      "    r = objective_func(kwargs, trial, starter_experiment_name)\n",
      "        ^^^^^^^^^^^^^^^^^^^^^^^^^^^^^^^^^^^^^^^^^^^^^^^^^^^^^^\n",
      "  File \"/tmp/ipykernel_1099294/2880211868.py\", line 10, in objective_func\n",
      "    cfg = copy.deepcopy(experiment_configs[starter_experiment_name][1])\n",
      "                        ~~~~~~~~~~~~~~~~~~^^^^^^^^^^^^^^^^^^^^^^^^^\n",
      "KeyError: 'projgrad2'\n",
      "[W 2024-10-03 12:45:59,430] Trial 104 failed with value None.\n",
      "[W 2024-10-03 12:46:00,783] Trial 105 failed with parameters: {'β': 0.9640174071177023, 'reverse_pref': True, 'scale_orth': False, 'weight_dim': 0, 'neg_slope': 1, 'mag_clip': 100, 'lr': 7.331896294008293e-06, 'collect_input': True, 'collect_hs': True} because of the following error: KeyError('projgrad2').\n",
      "Traceback (most recent call last):\n",
      "  File \"/workspace/repr-preference-optimization/.venv/lib/python3.11/site-packages/optuna/study/_optimize.py\", line 197, in _run_trial\n",
      "    value_or_values = func(trial)\n",
      "                      ^^^^^^^^^^^\n",
      "  File \"/tmp/ipykernel_1099294/2880211868.py\", line 20, in objective\n",
      "    r = objective_func(kwargs, trial, starter_experiment_name)\n",
      "        ^^^^^^^^^^^^^^^^^^^^^^^^^^^^^^^^^^^^^^^^^^^^^^^^^^^^^^\n",
      "  File \"/tmp/ipykernel_1099294/2880211868.py\", line 10, in objective_func\n",
      "    cfg = copy.deepcopy(experiment_configs[starter_experiment_name][1])\n",
      "                        ~~~~~~~~~~~~~~~~~~^^^^^^^^^^^^^^^^^^^^^^^^^\n",
      "KeyError: 'projgrad2'\n",
      "[W 2024-10-03 12:46:00,787] Trial 105 failed with value None.\n",
      "[W 2024-10-03 12:46:01,711] Trial 106 failed with parameters: {'β': 0.5414076073475852, 'reverse_pref': False, 'scale_orth': False, 'weight_dim': 2, 'neg_slope': 0, 'mag_clip': 0.1, 'lr': 2.1484796654537873e-05, 'collect_input': True, 'collect_hs': False} because of the following error: KeyError('projgrad2').\n",
      "Traceback (most recent call last):\n",
      "  File \"/workspace/repr-preference-optimization/.venv/lib/python3.11/site-packages/optuna/study/_optimize.py\", line 197, in _run_trial\n",
      "    value_or_values = func(trial)\n",
      "                      ^^^^^^^^^^^\n",
      "  File \"/tmp/ipykernel_1099294/2880211868.py\", line 20, in objective\n",
      "    r = objective_func(kwargs, trial, starter_experiment_name)\n",
      "        ^^^^^^^^^^^^^^^^^^^^^^^^^^^^^^^^^^^^^^^^^^^^^^^^^^^^^^\n",
      "  File \"/tmp/ipykernel_1099294/2880211868.py\", line 10, in objective_func\n",
      "    cfg = copy.deepcopy(experiment_configs[starter_experiment_name][1])\n",
      "                        ~~~~~~~~~~~~~~~~~~^^^^^^^^^^^^^^^^^^^^^^^^^\n",
      "KeyError: 'projgrad2'\n",
      "[W 2024-10-03 12:46:01,713] Trial 106 failed with value None.\n",
      "[W 2024-10-03 12:46:02,580] Trial 107 failed with parameters: {'β': 0.880314762148927, 'reverse_pref': True, 'scale_orth': True, 'weight_dim': 1, 'neg_slope': 1, 'mag_clip': None, 'lr': 0.0002413414888803102, 'collect_input': False, 'collect_hs': True} because of the following error: KeyError('projgrad2').\n",
      "Traceback (most recent call last):\n",
      "  File \"/workspace/repr-preference-optimization/.venv/lib/python3.11/site-packages/optuna/study/_optimize.py\", line 197, in _run_trial\n",
      "    value_or_values = func(trial)\n",
      "                      ^^^^^^^^^^^\n",
      "  File \"/tmp/ipykernel_1099294/2880211868.py\", line 20, in objective\n",
      "    r = objective_func(kwargs, trial, starter_experiment_name)\n",
      "        ^^^^^^^^^^^^^^^^^^^^^^^^^^^^^^^^^^^^^^^^^^^^^^^^^^^^^^\n",
      "  File \"/tmp/ipykernel_1099294/2880211868.py\", line 10, in objective_func\n",
      "    cfg = copy.deepcopy(experiment_configs[starter_experiment_name][1])\n",
      "                        ~~~~~~~~~~~~~~~~~~^^^^^^^^^^^^^^^^^^^^^^^^^\n",
      "KeyError: 'projgrad2'\n",
      "[W 2024-10-03 12:46:02,584] Trial 107 failed with value None.\n",
      "[W 2024-10-03 12:46:03,440] Trial 108 failed with parameters: {'β': 0.4626756050653935, 'reverse_pref': True, 'scale_orth': True, 'weight_dim': 1, 'neg_slope': 0.1, 'mag_clip': 0.5, 'lr': 5.255171025409365e-05, 'collect_input': True, 'collect_hs': False} because of the following error: KeyError('projgrad2').\n",
      "Traceback (most recent call last):\n",
      "  File \"/workspace/repr-preference-optimization/.venv/lib/python3.11/site-packages/optuna/study/_optimize.py\", line 197, in _run_trial\n",
      "    value_or_values = func(trial)\n",
      "                      ^^^^^^^^^^^\n",
      "  File \"/tmp/ipykernel_1099294/2880211868.py\", line 20, in objective\n",
      "    r = objective_func(kwargs, trial, starter_experiment_name)\n",
      "        ^^^^^^^^^^^^^^^^^^^^^^^^^^^^^^^^^^^^^^^^^^^^^^^^^^^^^^\n",
      "  File \"/tmp/ipykernel_1099294/2880211868.py\", line 10, in objective_func\n",
      "    cfg = copy.deepcopy(experiment_configs[starter_experiment_name][1])\n",
      "                        ~~~~~~~~~~~~~~~~~~^^^^^^^^^^^^^^^^^^^^^^^^^\n",
      "KeyError: 'projgrad2'\n",
      "[W 2024-10-03 12:46:03,442] Trial 108 failed with value None.\n",
      "[W 2024-10-03 12:46:04,487] Trial 109 failed with parameters: {'β': 0.4391498166337483, 'reverse_pref': False, 'scale_orth': False, 'weight_dim': 1, 'neg_slope': 0.1, 'mag_clip': 100, 'lr': 6.859297150133382e-06, 'collect_input': False, 'collect_hs': False} because of the following error: KeyError('projgrad2').\n",
      "Traceback (most recent call last):\n",
      "  File \"/workspace/repr-preference-optimization/.venv/lib/python3.11/site-packages/optuna/study/_optimize.py\", line 197, in _run_trial\n",
      "    value_or_values = func(trial)\n",
      "                      ^^^^^^^^^^^\n",
      "  File \"/tmp/ipykernel_1099294/2880211868.py\", line 20, in objective\n",
      "    r = objective_func(kwargs, trial, starter_experiment_name)\n",
      "        ^^^^^^^^^^^^^^^^^^^^^^^^^^^^^^^^^^^^^^^^^^^^^^^^^^^^^^\n",
      "  File \"/tmp/ipykernel_1099294/2880211868.py\", line 10, in objective_func\n",
      "    cfg = copy.deepcopy(experiment_configs[starter_experiment_name][1])\n",
      "                        ~~~~~~~~~~~~~~~~~~^^^^^^^^^^^^^^^^^^^^^^^^^\n",
      "KeyError: 'projgrad2'\n",
      "[W 2024-10-03 12:46:04,491] Trial 109 failed with value None.\n",
      "[W 2024-10-03 12:46:05,324] Trial 110 failed with parameters: {'β': 0.6768212988573956, 'reverse_pref': True, 'scale_orth': False, 'weight_dim': 2, 'neg_slope': 0.5, 'mag_clip': 0.03, 'lr': 1.6646367082330847e-05, 'collect_input': False, 'collect_hs': False} because of the following error: KeyError('projgrad2').\n",
      "Traceback (most recent call last):\n",
      "  File \"/workspace/repr-preference-optimization/.venv/lib/python3.11/site-packages/optuna/study/_optimize.py\", line 197, in _run_trial\n",
      "    value_or_values = func(trial)\n",
      "                      ^^^^^^^^^^^\n",
      "  File \"/tmp/ipykernel_1099294/2880211868.py\", line 20, in objective\n",
      "    r = objective_func(kwargs, trial, starter_experiment_name)\n",
      "        ^^^^^^^^^^^^^^^^^^^^^^^^^^^^^^^^^^^^^^^^^^^^^^^^^^^^^^\n",
      "  File \"/tmp/ipykernel_1099294/2880211868.py\", line 10, in objective_func\n",
      "    cfg = copy.deepcopy(experiment_configs[starter_experiment_name][1])\n",
      "                        ~~~~~~~~~~~~~~~~~~^^^^^^^^^^^^^^^^^^^^^^^^^\n",
      "KeyError: 'projgrad2'\n",
      "[W 2024-10-03 12:46:05,325] Trial 110 failed with value None.\n",
      "[W 2024-10-03 12:46:06,172] Trial 111 failed with parameters: {'β': 0.9476880259644708, 'reverse_pref': False, 'scale_orth': True, 'weight_dim': 0, 'neg_slope': 0.01, 'mag_clip': 10, 'lr': 0.0005227969032423124, 'collect_input': False, 'collect_hs': False} because of the following error: KeyError('projgrad2').\n",
      "Traceback (most recent call last):\n",
      "  File \"/workspace/repr-preference-optimization/.venv/lib/python3.11/site-packages/optuna/study/_optimize.py\", line 197, in _run_trial\n",
      "    value_or_values = func(trial)\n",
      "                      ^^^^^^^^^^^\n",
      "  File \"/tmp/ipykernel_1099294/2880211868.py\", line 20, in objective\n",
      "    r = objective_func(kwargs, trial, starter_experiment_name)\n",
      "        ^^^^^^^^^^^^^^^^^^^^^^^^^^^^^^^^^^^^^^^^^^^^^^^^^^^^^^\n",
      "  File \"/tmp/ipykernel_1099294/2880211868.py\", line 10, in objective_func\n",
      "    cfg = copy.deepcopy(experiment_configs[starter_experiment_name][1])\n",
      "                        ~~~~~~~~~~~~~~~~~~^^^^^^^^^^^^^^^^^^^^^^^^^\n",
      "KeyError: 'projgrad2'\n",
      "[W 2024-10-03 12:46:06,177] Trial 111 failed with value None.\n",
      "[W 2024-10-03 12:46:07,112] Trial 112 failed with parameters: {'β': 0.9789811151748089, 'reverse_pref': True, 'scale_orth': True, 'weight_dim': 2, 'neg_slope': 0.5, 'mag_clip': 0.5, 'lr': 2.6830445508832254e-06, 'collect_input': True, 'collect_hs': True} because of the following error: KeyError('projgrad2').\n",
      "Traceback (most recent call last):\n",
      "  File \"/workspace/repr-preference-optimization/.venv/lib/python3.11/site-packages/optuna/study/_optimize.py\", line 197, in _run_trial\n",
      "    value_or_values = func(trial)\n",
      "                      ^^^^^^^^^^^\n",
      "  File \"/tmp/ipykernel_1099294/2880211868.py\", line 20, in objective\n",
      "    r = objective_func(kwargs, trial, starter_experiment_name)\n",
      "        ^^^^^^^^^^^^^^^^^^^^^^^^^^^^^^^^^^^^^^^^^^^^^^^^^^^^^^\n",
      "  File \"/tmp/ipykernel_1099294/2880211868.py\", line 10, in objective_func\n",
      "    cfg = copy.deepcopy(experiment_configs[starter_experiment_name][1])\n",
      "                        ~~~~~~~~~~~~~~~~~~^^^^^^^^^^^^^^^^^^^^^^^^^\n",
      "KeyError: 'projgrad2'\n",
      "[W 2024-10-03 12:46:07,114] Trial 112 failed with value None.\n",
      "[W 2024-10-03 12:46:08,018] Trial 113 failed with parameters: {'β': 0.13382836299969314, 'reverse_pref': True, 'scale_orth': True, 'weight_dim': 0, 'neg_slope': 0.5, 'mag_clip': None, 'lr': 6.474106795466812e-06, 'collect_input': True, 'collect_hs': False} because of the following error: KeyError('projgrad2').\n",
      "Traceback (most recent call last):\n",
      "  File \"/workspace/repr-preference-optimization/.venv/lib/python3.11/site-packages/optuna/study/_optimize.py\", line 197, in _run_trial\n",
      "    value_or_values = func(trial)\n",
      "                      ^^^^^^^^^^^\n",
      "  File \"/tmp/ipykernel_1099294/2880211868.py\", line 20, in objective\n",
      "    r = objective_func(kwargs, trial, starter_experiment_name)\n",
      "        ^^^^^^^^^^^^^^^^^^^^^^^^^^^^^^^^^^^^^^^^^^^^^^^^^^^^^^\n",
      "  File \"/tmp/ipykernel_1099294/2880211868.py\", line 10, in objective_func\n",
      "    cfg = copy.deepcopy(experiment_configs[starter_experiment_name][1])\n",
      "                        ~~~~~~~~~~~~~~~~~~^^^^^^^^^^^^^^^^^^^^^^^^^\n",
      "KeyError: 'projgrad2'\n",
      "[W 2024-10-03 12:46:08,021] Trial 113 failed with value None.\n",
      "[W 2024-10-03 12:46:09,146] Trial 114 failed with parameters: {'β': 0.43381741957652953, 'reverse_pref': True, 'scale_orth': True, 'weight_dim': 2, 'neg_slope': 0.5, 'mag_clip': 0.5, 'lr': 7.837122333160135e-06, 'collect_input': False, 'collect_hs': True} because of the following error: KeyError('projgrad2').\n",
      "Traceback (most recent call last):\n",
      "  File \"/workspace/repr-preference-optimization/.venv/lib/python3.11/site-packages/optuna/study/_optimize.py\", line 197, in _run_trial\n",
      "    value_or_values = func(trial)\n",
      "                      ^^^^^^^^^^^\n",
      "  File \"/tmp/ipykernel_1099294/2880211868.py\", line 20, in objective\n",
      "    r = objective_func(kwargs, trial, starter_experiment_name)\n",
      "        ^^^^^^^^^^^^^^^^^^^^^^^^^^^^^^^^^^^^^^^^^^^^^^^^^^^^^^\n",
      "  File \"/tmp/ipykernel_1099294/2880211868.py\", line 10, in objective_func\n",
      "    cfg = copy.deepcopy(experiment_configs[starter_experiment_name][1])\n",
      "                        ~~~~~~~~~~~~~~~~~~^^^^^^^^^^^^^^^^^^^^^^^^^\n",
      "KeyError: 'projgrad2'\n",
      "[W 2024-10-03 12:46:09,155] Trial 114 failed with value None.\n",
      "[W 2024-10-03 12:46:10,084] Trial 115 failed with parameters: {'β': 0.36005046590097833, 'reverse_pref': True, 'scale_orth': False, 'weight_dim': 0, 'neg_slope': 0.5, 'mag_clip': 10, 'lr': 0.00010800394050386172, 'collect_input': True, 'collect_hs': False} because of the following error: KeyError('projgrad2').\n",
      "Traceback (most recent call last):\n",
      "  File \"/workspace/repr-preference-optimization/.venv/lib/python3.11/site-packages/optuna/study/_optimize.py\", line 197, in _run_trial\n",
      "    value_or_values = func(trial)\n",
      "                      ^^^^^^^^^^^\n",
      "  File \"/tmp/ipykernel_1099294/2880211868.py\", line 20, in objective\n",
      "    r = objective_func(kwargs, trial, starter_experiment_name)\n",
      "        ^^^^^^^^^^^^^^^^^^^^^^^^^^^^^^^^^^^^^^^^^^^^^^^^^^^^^^\n",
      "  File \"/tmp/ipykernel_1099294/2880211868.py\", line 10, in objective_func\n",
      "    cfg = copy.deepcopy(experiment_configs[starter_experiment_name][1])\n",
      "                        ~~~~~~~~~~~~~~~~~~^^^^^^^^^^^^^^^^^^^^^^^^^\n",
      "KeyError: 'projgrad2'\n",
      "[W 2024-10-03 12:46:10,086] Trial 115 failed with value None.\n",
      "[W 2024-10-03 12:46:10,991] Trial 116 failed with parameters: {'β': 0.7385974581323307, 'reverse_pref': False, 'scale_orth': False, 'weight_dim': 0, 'neg_slope': 0, 'mag_clip': 0.1, 'lr': 2.3610500693865873e-06, 'collect_input': False, 'collect_hs': False} because of the following error: KeyError('projgrad2').\n",
      "Traceback (most recent call last):\n",
      "  File \"/workspace/repr-preference-optimization/.venv/lib/python3.11/site-packages/optuna/study/_optimize.py\", line 197, in _run_trial\n",
      "    value_or_values = func(trial)\n",
      "                      ^^^^^^^^^^^\n",
      "  File \"/tmp/ipykernel_1099294/2880211868.py\", line 20, in objective\n",
      "    r = objective_func(kwargs, trial, starter_experiment_name)\n",
      "        ^^^^^^^^^^^^^^^^^^^^^^^^^^^^^^^^^^^^^^^^^^^^^^^^^^^^^^\n",
      "  File \"/tmp/ipykernel_1099294/2880211868.py\", line 10, in objective_func\n",
      "    cfg = copy.deepcopy(experiment_configs[starter_experiment_name][1])\n",
      "                        ~~~~~~~~~~~~~~~~~~^^^^^^^^^^^^^^^^^^^^^^^^^\n",
      "KeyError: 'projgrad2'\n",
      "[W 2024-10-03 12:46:10,995] Trial 116 failed with value None.\n",
      "[W 2024-10-03 12:46:11,943] Trial 117 failed with parameters: {'β': 0.5951316749056815, 'reverse_pref': False, 'scale_orth': True, 'weight_dim': 2, 'neg_slope': 1, 'mag_clip': 0.5, 'lr': 7.584480382266919e-06, 'collect_input': True, 'collect_hs': False} because of the following error: KeyError('projgrad2').\n",
      "Traceback (most recent call last):\n",
      "  File \"/workspace/repr-preference-optimization/.venv/lib/python3.11/site-packages/optuna/study/_optimize.py\", line 197, in _run_trial\n",
      "    value_or_values = func(trial)\n",
      "                      ^^^^^^^^^^^\n",
      "  File \"/tmp/ipykernel_1099294/2880211868.py\", line 20, in objective\n",
      "    r = objective_func(kwargs, trial, starter_experiment_name)\n",
      "        ^^^^^^^^^^^^^^^^^^^^^^^^^^^^^^^^^^^^^^^^^^^^^^^^^^^^^^\n",
      "  File \"/tmp/ipykernel_1099294/2880211868.py\", line 10, in objective_func\n",
      "    cfg = copy.deepcopy(experiment_configs[starter_experiment_name][1])\n",
      "                        ~~~~~~~~~~~~~~~~~~^^^^^^^^^^^^^^^^^^^^^^^^^\n",
      "KeyError: 'projgrad2'\n",
      "[W 2024-10-03 12:46:11,945] Trial 117 failed with value None.\n",
      "[W 2024-10-03 12:46:12,880] Trial 118 failed with parameters: {'β': 0.0013536257154681541, 'reverse_pref': False, 'scale_orth': True, 'weight_dim': 0, 'neg_slope': 0, 'mag_clip': 10, 'lr': 1.491191255747014e-06, 'collect_input': True, 'collect_hs': False} because of the following error: KeyError('projgrad2').\n",
      "Traceback (most recent call last):\n",
      "  File \"/workspace/repr-preference-optimization/.venv/lib/python3.11/site-packages/optuna/study/_optimize.py\", line 197, in _run_trial\n",
      "    value_or_values = func(trial)\n",
      "                      ^^^^^^^^^^^\n",
      "  File \"/tmp/ipykernel_1099294/2880211868.py\", line 20, in objective\n",
      "    r = objective_func(kwargs, trial, starter_experiment_name)\n",
      "        ^^^^^^^^^^^^^^^^^^^^^^^^^^^^^^^^^^^^^^^^^^^^^^^^^^^^^^\n",
      "  File \"/tmp/ipykernel_1099294/2880211868.py\", line 10, in objective_func\n",
      "    cfg = copy.deepcopy(experiment_configs[starter_experiment_name][1])\n",
      "                        ~~~~~~~~~~~~~~~~~~^^^^^^^^^^^^^^^^^^^^^^^^^\n",
      "KeyError: 'projgrad2'\n",
      "[W 2024-10-03 12:46:12,884] Trial 118 failed with value None.\n",
      "[W 2024-10-03 12:46:14,064] Trial 119 failed with parameters: {'β': 0.5444823328002629, 'reverse_pref': True, 'scale_orth': True, 'weight_dim': 0, 'neg_slope': 0.1, 'mag_clip': 100, 'lr': 7.438982156915194e-06, 'collect_input': False, 'collect_hs': True} because of the following error: KeyError('projgrad2').\n",
      "Traceback (most recent call last):\n",
      "  File \"/workspace/repr-preference-optimization/.venv/lib/python3.11/site-packages/optuna/study/_optimize.py\", line 197, in _run_trial\n",
      "    value_or_values = func(trial)\n",
      "                      ^^^^^^^^^^^\n",
      "  File \"/tmp/ipykernel_1099294/2880211868.py\", line 20, in objective\n",
      "    r = objective_func(kwargs, trial, starter_experiment_name)\n",
      "        ^^^^^^^^^^^^^^^^^^^^^^^^^^^^^^^^^^^^^^^^^^^^^^^^^^^^^^\n",
      "  File \"/tmp/ipykernel_1099294/2880211868.py\", line 10, in objective_func\n",
      "    cfg = copy.deepcopy(experiment_configs[starter_experiment_name][1])\n",
      "                        ~~~~~~~~~~~~~~~~~~^^^^^^^^^^^^^^^^^^^^^^^^^\n",
      "KeyError: 'projgrad2'\n",
      "[W 2024-10-03 12:46:14,074] Trial 119 failed with value None.\n",
      "[W 2024-10-03 12:46:14,957] Trial 120 failed with parameters: {'β': 0.14730304427897034, 'reverse_pref': False, 'scale_orth': True, 'weight_dim': 2, 'neg_slope': 0.5, 'mag_clip': 0.03, 'lr': 2.1708255088396823e-05, 'collect_input': True, 'collect_hs': False} because of the following error: KeyError('projgrad2').\n",
      "Traceback (most recent call last):\n",
      "  File \"/workspace/repr-preference-optimization/.venv/lib/python3.11/site-packages/optuna/study/_optimize.py\", line 197, in _run_trial\n",
      "    value_or_values = func(trial)\n",
      "                      ^^^^^^^^^^^\n",
      "  File \"/tmp/ipykernel_1099294/2880211868.py\", line 20, in objective\n",
      "    r = objective_func(kwargs, trial, starter_experiment_name)\n",
      "        ^^^^^^^^^^^^^^^^^^^^^^^^^^^^^^^^^^^^^^^^^^^^^^^^^^^^^^\n",
      "  File \"/tmp/ipykernel_1099294/2880211868.py\", line 10, in objective_func\n",
      "    cfg = copy.deepcopy(experiment_configs[starter_experiment_name][1])\n",
      "                        ~~~~~~~~~~~~~~~~~~^^^^^^^^^^^^^^^^^^^^^^^^^\n",
      "KeyError: 'projgrad2'\n",
      "[W 2024-10-03 12:46:14,958] Trial 120 failed with value None.\n",
      "[W 2024-10-03 12:46:15,857] Trial 121 failed with parameters: {'β': 0.7931428739967394, 'reverse_pref': True, 'scale_orth': True, 'weight_dim': 2, 'neg_slope': 0, 'mag_clip': 1.0, 'lr': 0.0005292932814518177, 'collect_input': False, 'collect_hs': False} because of the following error: KeyError('projgrad2').\n",
      "Traceback (most recent call last):\n",
      "  File \"/workspace/repr-preference-optimization/.venv/lib/python3.11/site-packages/optuna/study/_optimize.py\", line 197, in _run_trial\n",
      "    value_or_values = func(trial)\n",
      "                      ^^^^^^^^^^^\n",
      "  File \"/tmp/ipykernel_1099294/2880211868.py\", line 20, in objective\n",
      "    r = objective_func(kwargs, trial, starter_experiment_name)\n",
      "        ^^^^^^^^^^^^^^^^^^^^^^^^^^^^^^^^^^^^^^^^^^^^^^^^^^^^^^\n",
      "  File \"/tmp/ipykernel_1099294/2880211868.py\", line 10, in objective_func\n",
      "    cfg = copy.deepcopy(experiment_configs[starter_experiment_name][1])\n",
      "                        ~~~~~~~~~~~~~~~~~~^^^^^^^^^^^^^^^^^^^^^^^^^\n",
      "KeyError: 'projgrad2'\n",
      "[W 2024-10-03 12:46:15,862] Trial 121 failed with value None.\n",
      "[W 2024-10-03 12:46:16,778] Trial 122 failed with parameters: {'β': 0.7573102071344389, 'reverse_pref': False, 'scale_orth': True, 'weight_dim': 1, 'neg_slope': 0.5, 'mag_clip': 0.5, 'lr': 9.225926044913346e-06, 'collect_input': True, 'collect_hs': False} because of the following error: KeyError('projgrad2').\n",
      "Traceback (most recent call last):\n",
      "  File \"/workspace/repr-preference-optimization/.venv/lib/python3.11/site-packages/optuna/study/_optimize.py\", line 197, in _run_trial\n",
      "    value_or_values = func(trial)\n",
      "                      ^^^^^^^^^^^\n",
      "  File \"/tmp/ipykernel_1099294/2880211868.py\", line 20, in objective\n",
      "    r = objective_func(kwargs, trial, starter_experiment_name)\n",
      "        ^^^^^^^^^^^^^^^^^^^^^^^^^^^^^^^^^^^^^^^^^^^^^^^^^^^^^^\n",
      "  File \"/tmp/ipykernel_1099294/2880211868.py\", line 10, in objective_func\n",
      "    cfg = copy.deepcopy(experiment_configs[starter_experiment_name][1])\n",
      "                        ~~~~~~~~~~~~~~~~~~^^^^^^^^^^^^^^^^^^^^^^^^^\n",
      "KeyError: 'projgrad2'\n",
      "[W 2024-10-03 12:46:16,780] Trial 122 failed with value None.\n",
      "[W 2024-10-03 12:46:17,692] Trial 123 failed with parameters: {'β': 0.029169763645264468, 'reverse_pref': False, 'scale_orth': False, 'weight_dim': 1, 'neg_slope': 0.01, 'mag_clip': 0.5, 'lr': 5.662446996149672e-06, 'collect_input': True, 'collect_hs': True} because of the following error: KeyError('projgrad2').\n",
      "Traceback (most recent call last):\n",
      "  File \"/workspace/repr-preference-optimization/.venv/lib/python3.11/site-packages/optuna/study/_optimize.py\", line 197, in _run_trial\n",
      "    value_or_values = func(trial)\n",
      "                      ^^^^^^^^^^^\n",
      "  File \"/tmp/ipykernel_1099294/2880211868.py\", line 20, in objective\n",
      "    r = objective_func(kwargs, trial, starter_experiment_name)\n",
      "        ^^^^^^^^^^^^^^^^^^^^^^^^^^^^^^^^^^^^^^^^^^^^^^^^^^^^^^\n",
      "  File \"/tmp/ipykernel_1099294/2880211868.py\", line 10, in objective_func\n",
      "    cfg = copy.deepcopy(experiment_configs[starter_experiment_name][1])\n",
      "                        ~~~~~~~~~~~~~~~~~~^^^^^^^^^^^^^^^^^^^^^^^^^\n",
      "KeyError: 'projgrad2'\n",
      "[W 2024-10-03 12:46:17,697] Trial 123 failed with value None.\n",
      "[W 2024-10-03 12:46:18,547] Trial 124 failed with parameters: {'β': 0.19159294573482577, 'reverse_pref': True, 'scale_orth': True, 'weight_dim': 0, 'neg_slope': 1, 'mag_clip': 1.0, 'lr': 0.0004811526782950107, 'collect_input': True, 'collect_hs': False} because of the following error: KeyError('projgrad2').\n",
      "Traceback (most recent call last):\n",
      "  File \"/workspace/repr-preference-optimization/.venv/lib/python3.11/site-packages/optuna/study/_optimize.py\", line 197, in _run_trial\n",
      "    value_or_values = func(trial)\n",
      "                      ^^^^^^^^^^^\n",
      "  File \"/tmp/ipykernel_1099294/2880211868.py\", line 20, in objective\n",
      "    r = objective_func(kwargs, trial, starter_experiment_name)\n",
      "        ^^^^^^^^^^^^^^^^^^^^^^^^^^^^^^^^^^^^^^^^^^^^^^^^^^^^^^\n",
      "  File \"/tmp/ipykernel_1099294/2880211868.py\", line 10, in objective_func\n",
      "    cfg = copy.deepcopy(experiment_configs[starter_experiment_name][1])\n",
      "                        ~~~~~~~~~~~~~~~~~~^^^^^^^^^^^^^^^^^^^^^^^^^\n",
      "KeyError: 'projgrad2'\n",
      "[W 2024-10-03 12:46:18,548] Trial 124 failed with value None.\n",
      "[W 2024-10-03 12:46:19,406] Trial 125 failed with parameters: {'β': 0.4763357333010988, 'reverse_pref': True, 'scale_orth': True, 'weight_dim': 0, 'neg_slope': 1, 'mag_clip': 0.5, 'lr': 9.203479739464037e-05, 'collect_input': False, 'collect_hs': True} because of the following error: KeyError('projgrad2').\n",
      "Traceback (most recent call last):\n",
      "  File \"/workspace/repr-preference-optimization/.venv/lib/python3.11/site-packages/optuna/study/_optimize.py\", line 197, in _run_trial\n",
      "    value_or_values = func(trial)\n",
      "                      ^^^^^^^^^^^\n",
      "  File \"/tmp/ipykernel_1099294/2880211868.py\", line 20, in objective\n",
      "    r = objective_func(kwargs, trial, starter_experiment_name)\n",
      "        ^^^^^^^^^^^^^^^^^^^^^^^^^^^^^^^^^^^^^^^^^^^^^^^^^^^^^^\n",
      "  File \"/tmp/ipykernel_1099294/2880211868.py\", line 10, in objective_func\n",
      "    cfg = copy.deepcopy(experiment_configs[starter_experiment_name][1])\n",
      "                        ~~~~~~~~~~~~~~~~~~^^^^^^^^^^^^^^^^^^^^^^^^^\n",
      "KeyError: 'projgrad2'\n",
      "[W 2024-10-03 12:46:19,411] Trial 125 failed with value None.\n",
      "[W 2024-10-03 12:46:20,567] Trial 126 failed with parameters: {'β': 0.4252281854376939, 'reverse_pref': False, 'scale_orth': True, 'weight_dim': 1, 'neg_slope': 0.1, 'mag_clip': 1.0, 'lr': 0.00016814694488017837, 'collect_input': True, 'collect_hs': False} because of the following error: KeyError('projgrad2').\n",
      "Traceback (most recent call last):\n",
      "  File \"/workspace/repr-preference-optimization/.venv/lib/python3.11/site-packages/optuna/study/_optimize.py\", line 197, in _run_trial\n",
      "    value_or_values = func(trial)\n",
      "                      ^^^^^^^^^^^\n",
      "  File \"/tmp/ipykernel_1099294/2880211868.py\", line 20, in objective\n",
      "    r = objective_func(kwargs, trial, starter_experiment_name)\n",
      "        ^^^^^^^^^^^^^^^^^^^^^^^^^^^^^^^^^^^^^^^^^^^^^^^^^^^^^^\n",
      "  File \"/tmp/ipykernel_1099294/2880211868.py\", line 10, in objective_func\n",
      "    cfg = copy.deepcopy(experiment_configs[starter_experiment_name][1])\n",
      "                        ~~~~~~~~~~~~~~~~~~^^^^^^^^^^^^^^^^^^^^^^^^^\n",
      "KeyError: 'projgrad2'\n",
      "[W 2024-10-03 12:46:20,572] Trial 126 failed with value None.\n",
      "[W 2024-10-03 12:46:21,494] Trial 127 failed with parameters: {'β': 0.7126213330985128, 'reverse_pref': True, 'scale_orth': False, 'weight_dim': 2, 'neg_slope': 0, 'mag_clip': 100, 'lr': 1.340500235514255e-06, 'collect_input': False, 'collect_hs': False} because of the following error: KeyError('projgrad2').\n",
      "Traceback (most recent call last):\n",
      "  File \"/workspace/repr-preference-optimization/.venv/lib/python3.11/site-packages/optuna/study/_optimize.py\", line 197, in _run_trial\n",
      "    value_or_values = func(trial)\n",
      "                      ^^^^^^^^^^^\n",
      "  File \"/tmp/ipykernel_1099294/2880211868.py\", line 20, in objective\n",
      "    r = objective_func(kwargs, trial, starter_experiment_name)\n",
      "        ^^^^^^^^^^^^^^^^^^^^^^^^^^^^^^^^^^^^^^^^^^^^^^^^^^^^^^\n",
      "  File \"/tmp/ipykernel_1099294/2880211868.py\", line 10, in objective_func\n",
      "    cfg = copy.deepcopy(experiment_configs[starter_experiment_name][1])\n",
      "                        ~~~~~~~~~~~~~~~~~~^^^^^^^^^^^^^^^^^^^^^^^^^\n",
      "KeyError: 'projgrad2'\n",
      "[W 2024-10-03 12:46:21,496] Trial 127 failed with value None.\n",
      "[W 2024-10-03 12:46:22,369] Trial 128 failed with parameters: {'β': 0.759005282521931, 'reverse_pref': False, 'scale_orth': True, 'weight_dim': 2, 'neg_slope': 1, 'mag_clip': 0.1, 'lr': 1.0158541586023648e-05, 'collect_input': True, 'collect_hs': False} because of the following error: KeyError('projgrad2').\n",
      "Traceback (most recent call last):\n",
      "  File \"/workspace/repr-preference-optimization/.venv/lib/python3.11/site-packages/optuna/study/_optimize.py\", line 197, in _run_trial\n",
      "    value_or_values = func(trial)\n",
      "                      ^^^^^^^^^^^\n",
      "  File \"/tmp/ipykernel_1099294/2880211868.py\", line 20, in objective\n",
      "    r = objective_func(kwargs, trial, starter_experiment_name)\n",
      "        ^^^^^^^^^^^^^^^^^^^^^^^^^^^^^^^^^^^^^^^^^^^^^^^^^^^^^^\n",
      "  File \"/tmp/ipykernel_1099294/2880211868.py\", line 10, in objective_func\n",
      "    cfg = copy.deepcopy(experiment_configs[starter_experiment_name][1])\n",
      "                        ~~~~~~~~~~~~~~~~~~^^^^^^^^^^^^^^^^^^^^^^^^^\n",
      "KeyError: 'projgrad2'\n",
      "[W 2024-10-03 12:46:22,373] Trial 128 failed with value None.\n",
      "[W 2024-10-03 12:46:23,247] Trial 129 failed with parameters: {'β': 0.5620727944025711, 'reverse_pref': True, 'scale_orth': True, 'weight_dim': 2, 'neg_slope': 0.5, 'mag_clip': 0.03, 'lr': 0.000796353376463307, 'collect_input': False, 'collect_hs': False} because of the following error: KeyError('projgrad2').\n",
      "Traceback (most recent call last):\n",
      "  File \"/workspace/repr-preference-optimization/.venv/lib/python3.11/site-packages/optuna/study/_optimize.py\", line 197, in _run_trial\n",
      "    value_or_values = func(trial)\n",
      "                      ^^^^^^^^^^^\n",
      "  File \"/tmp/ipykernel_1099294/2880211868.py\", line 20, in objective\n",
      "    r = objective_func(kwargs, trial, starter_experiment_name)\n",
      "        ^^^^^^^^^^^^^^^^^^^^^^^^^^^^^^^^^^^^^^^^^^^^^^^^^^^^^^\n",
      "  File \"/tmp/ipykernel_1099294/2880211868.py\", line 10, in objective_func\n",
      "    cfg = copy.deepcopy(experiment_configs[starter_experiment_name][1])\n",
      "                        ~~~~~~~~~~~~~~~~~~^^^^^^^^^^^^^^^^^^^^^^^^^\n",
      "KeyError: 'projgrad2'\n",
      "[W 2024-10-03 12:46:23,249] Trial 129 failed with value None.\n",
      "[W 2024-10-03 12:46:24,160] Trial 130 failed with parameters: {'β': 0.17925561190779005, 'reverse_pref': True, 'scale_orth': True, 'weight_dim': 2, 'neg_slope': 0.5, 'mag_clip': 10, 'lr': 0.0001052106629510558, 'collect_input': False, 'collect_hs': False} because of the following error: KeyError('projgrad2').\n",
      "Traceback (most recent call last):\n",
      "  File \"/workspace/repr-preference-optimization/.venv/lib/python3.11/site-packages/optuna/study/_optimize.py\", line 197, in _run_trial\n",
      "    value_or_values = func(trial)\n",
      "                      ^^^^^^^^^^^\n",
      "  File \"/tmp/ipykernel_1099294/2880211868.py\", line 20, in objective\n",
      "    r = objective_func(kwargs, trial, starter_experiment_name)\n",
      "        ^^^^^^^^^^^^^^^^^^^^^^^^^^^^^^^^^^^^^^^^^^^^^^^^^^^^^^\n",
      "  File \"/tmp/ipykernel_1099294/2880211868.py\", line 10, in objective_func\n",
      "    cfg = copy.deepcopy(experiment_configs[starter_experiment_name][1])\n",
      "                        ~~~~~~~~~~~~~~~~~~^^^^^^^^^^^^^^^^^^^^^^^^^\n",
      "KeyError: 'projgrad2'\n",
      "[W 2024-10-03 12:46:24,164] Trial 130 failed with value None.\n",
      "[W 2024-10-03 12:46:25,069] Trial 131 failed with parameters: {'β': 0.3529585034523566, 'reverse_pref': True, 'scale_orth': True, 'weight_dim': 0, 'neg_slope': 0, 'mag_clip': 0.1, 'lr': 1.7988775105607686e-05, 'collect_input': True, 'collect_hs': True} because of the following error: KeyError('projgrad2').\n",
      "Traceback (most recent call last):\n",
      "  File \"/workspace/repr-preference-optimization/.venv/lib/python3.11/site-packages/optuna/study/_optimize.py\", line 197, in _run_trial\n",
      "    value_or_values = func(trial)\n",
      "                      ^^^^^^^^^^^\n",
      "  File \"/tmp/ipykernel_1099294/2880211868.py\", line 20, in objective\n",
      "    r = objective_func(kwargs, trial, starter_experiment_name)\n",
      "        ^^^^^^^^^^^^^^^^^^^^^^^^^^^^^^^^^^^^^^^^^^^^^^^^^^^^^^\n",
      "  File \"/tmp/ipykernel_1099294/2880211868.py\", line 10, in objective_func\n",
      "    cfg = copy.deepcopy(experiment_configs[starter_experiment_name][1])\n",
      "                        ~~~~~~~~~~~~~~~~~~^^^^^^^^^^^^^^^^^^^^^^^^^\n",
      "KeyError: 'projgrad2'\n",
      "[W 2024-10-03 12:46:25,072] Trial 131 failed with value None.\n",
      "[W 2024-10-03 12:46:25,944] Trial 132 failed with parameters: {'β': 0.432018927594506, 'reverse_pref': True, 'scale_orth': True, 'weight_dim': 2, 'neg_slope': 0.1, 'mag_clip': 1.0, 'lr': 9.338307924946206e-05, 'collect_input': True, 'collect_hs': True} because of the following error: KeyError('projgrad2').\n",
      "Traceback (most recent call last):\n",
      "  File \"/workspace/repr-preference-optimization/.venv/lib/python3.11/site-packages/optuna/study/_optimize.py\", line 197, in _run_trial\n",
      "    value_or_values = func(trial)\n",
      "                      ^^^^^^^^^^^\n",
      "  File \"/tmp/ipykernel_1099294/2880211868.py\", line 20, in objective\n",
      "    r = objective_func(kwargs, trial, starter_experiment_name)\n",
      "        ^^^^^^^^^^^^^^^^^^^^^^^^^^^^^^^^^^^^^^^^^^^^^^^^^^^^^^\n",
      "  File \"/tmp/ipykernel_1099294/2880211868.py\", line 10, in objective_func\n",
      "    cfg = copy.deepcopy(experiment_configs[starter_experiment_name][1])\n",
      "                        ~~~~~~~~~~~~~~~~~~^^^^^^^^^^^^^^^^^^^^^^^^^\n",
      "KeyError: 'projgrad2'\n",
      "[W 2024-10-03 12:46:25,949] Trial 132 failed with value None.\n",
      "[W 2024-10-03 12:46:27,155] Trial 133 failed with parameters: {'β': 0.951423220845566, 'reverse_pref': True, 'scale_orth': False, 'weight_dim': 1, 'neg_slope': 0.1, 'mag_clip': 100, 'lr': 2.078343909959125e-06, 'collect_input': False, 'collect_hs': False} because of the following error: KeyError('projgrad2').\n",
      "Traceback (most recent call last):\n",
      "  File \"/workspace/repr-preference-optimization/.venv/lib/python3.11/site-packages/optuna/study/_optimize.py\", line 197, in _run_trial\n",
      "    value_or_values = func(trial)\n",
      "                      ^^^^^^^^^^^\n",
      "  File \"/tmp/ipykernel_1099294/2880211868.py\", line 20, in objective\n",
      "    r = objective_func(kwargs, trial, starter_experiment_name)\n",
      "        ^^^^^^^^^^^^^^^^^^^^^^^^^^^^^^^^^^^^^^^^^^^^^^^^^^^^^^\n",
      "  File \"/tmp/ipykernel_1099294/2880211868.py\", line 10, in objective_func\n",
      "    cfg = copy.deepcopy(experiment_configs[starter_experiment_name][1])\n",
      "                        ~~~~~~~~~~~~~~~~~~^^^^^^^^^^^^^^^^^^^^^^^^^\n",
      "KeyError: 'projgrad2'\n",
      "[W 2024-10-03 12:46:27,160] Trial 133 failed with value None.\n",
      "[W 2024-10-03 12:46:28,143] Trial 134 failed with parameters: {'β': 0.20263263413534316, 'reverse_pref': False, 'scale_orth': True, 'weight_dim': 0, 'neg_slope': 0.5, 'mag_clip': 0.5, 'lr': 1.8961664110384402e-06, 'collect_input': False, 'collect_hs': True} because of the following error: KeyError('projgrad2').\n",
      "Traceback (most recent call last):\n",
      "  File \"/workspace/repr-preference-optimization/.venv/lib/python3.11/site-packages/optuna/study/_optimize.py\", line 197, in _run_trial\n",
      "    value_or_values = func(trial)\n",
      "                      ^^^^^^^^^^^\n",
      "  File \"/tmp/ipykernel_1099294/2880211868.py\", line 20, in objective\n",
      "    r = objective_func(kwargs, trial, starter_experiment_name)\n",
      "        ^^^^^^^^^^^^^^^^^^^^^^^^^^^^^^^^^^^^^^^^^^^^^^^^^^^^^^\n",
      "  File \"/tmp/ipykernel_1099294/2880211868.py\", line 10, in objective_func\n",
      "    cfg = copy.deepcopy(experiment_configs[starter_experiment_name][1])\n",
      "                        ~~~~~~~~~~~~~~~~~~^^^^^^^^^^^^^^^^^^^^^^^^^\n",
      "KeyError: 'projgrad2'\n",
      "[W 2024-10-03 12:46:28,144] Trial 134 failed with value None.\n",
      "[W 2024-10-03 12:46:29,070] Trial 135 failed with parameters: {'β': 0.4344033190066098, 'reverse_pref': True, 'scale_orth': False, 'weight_dim': 1, 'neg_slope': 1, 'mag_clip': None, 'lr': 2.381340783013747e-05, 'collect_input': True, 'collect_hs': True} because of the following error: KeyError('projgrad2').\n",
      "Traceback (most recent call last):\n",
      "  File \"/workspace/repr-preference-optimization/.venv/lib/python3.11/site-packages/optuna/study/_optimize.py\", line 197, in _run_trial\n",
      "    value_or_values = func(trial)\n",
      "                      ^^^^^^^^^^^\n",
      "  File \"/tmp/ipykernel_1099294/2880211868.py\", line 20, in objective\n",
      "    r = objective_func(kwargs, trial, starter_experiment_name)\n",
      "        ^^^^^^^^^^^^^^^^^^^^^^^^^^^^^^^^^^^^^^^^^^^^^^^^^^^^^^\n",
      "  File \"/tmp/ipykernel_1099294/2880211868.py\", line 10, in objective_func\n",
      "    cfg = copy.deepcopy(experiment_configs[starter_experiment_name][1])\n",
      "                        ~~~~~~~~~~~~~~~~~~^^^^^^^^^^^^^^^^^^^^^^^^^\n",
      "KeyError: 'projgrad2'\n",
      "[W 2024-10-03 12:46:29,075] Trial 135 failed with value None.\n",
      "[W 2024-10-03 12:46:29,909] Trial 136 failed with parameters: {'β': 0.9514907101767872, 'reverse_pref': True, 'scale_orth': False, 'weight_dim': 1, 'neg_slope': 0.1, 'mag_clip': 0.1, 'lr': 0.0004853312627966933, 'collect_input': False, 'collect_hs': False} because of the following error: KeyError('projgrad2').\n",
      "Traceback (most recent call last):\n",
      "  File \"/workspace/repr-preference-optimization/.venv/lib/python3.11/site-packages/optuna/study/_optimize.py\", line 197, in _run_trial\n",
      "    value_or_values = func(trial)\n",
      "                      ^^^^^^^^^^^\n",
      "  File \"/tmp/ipykernel_1099294/2880211868.py\", line 20, in objective\n",
      "    r = objective_func(kwargs, trial, starter_experiment_name)\n",
      "        ^^^^^^^^^^^^^^^^^^^^^^^^^^^^^^^^^^^^^^^^^^^^^^^^^^^^^^\n",
      "  File \"/tmp/ipykernel_1099294/2880211868.py\", line 10, in objective_func\n",
      "    cfg = copy.deepcopy(experiment_configs[starter_experiment_name][1])\n",
      "                        ~~~~~~~~~~~~~~~~~~^^^^^^^^^^^^^^^^^^^^^^^^^\n",
      "KeyError: 'projgrad2'\n",
      "[W 2024-10-03 12:46:29,911] Trial 136 failed with value None.\n",
      "[W 2024-10-03 12:46:31,143] Trial 137 failed with parameters: {'β': 0.24838360874320753, 'reverse_pref': True, 'scale_orth': False, 'weight_dim': 2, 'neg_slope': 0.01, 'mag_clip': 1.0, 'lr': 1.6943891435821397e-05, 'collect_input': True, 'collect_hs': False} because of the following error: KeyError('projgrad2').\n",
      "Traceback (most recent call last):\n",
      "  File \"/workspace/repr-preference-optimization/.venv/lib/python3.11/site-packages/optuna/study/_optimize.py\", line 197, in _run_trial\n",
      "    value_or_values = func(trial)\n",
      "                      ^^^^^^^^^^^\n",
      "  File \"/tmp/ipykernel_1099294/2880211868.py\", line 20, in objective\n",
      "    r = objective_func(kwargs, trial, starter_experiment_name)\n",
      "        ^^^^^^^^^^^^^^^^^^^^^^^^^^^^^^^^^^^^^^^^^^^^^^^^^^^^^^\n",
      "  File \"/tmp/ipykernel_1099294/2880211868.py\", line 10, in objective_func\n",
      "    cfg = copy.deepcopy(experiment_configs[starter_experiment_name][1])\n",
      "                        ~~~~~~~~~~~~~~~~~~^^^^^^^^^^^^^^^^^^^^^^^^^\n",
      "KeyError: 'projgrad2'\n",
      "[W 2024-10-03 12:46:31,148] Trial 137 failed with value None.\n",
      "[W 2024-10-03 12:46:32,125] Trial 138 failed with parameters: {'β': 0.07049194564314465, 'reverse_pref': False, 'scale_orth': True, 'weight_dim': 2, 'neg_slope': 1, 'mag_clip': 100, 'lr': 0.0007218468256836538, 'collect_input': False, 'collect_hs': False} because of the following error: KeyError('projgrad2').\n",
      "Traceback (most recent call last):\n",
      "  File \"/workspace/repr-preference-optimization/.venv/lib/python3.11/site-packages/optuna/study/_optimize.py\", line 197, in _run_trial\n",
      "    value_or_values = func(trial)\n",
      "                      ^^^^^^^^^^^\n",
      "  File \"/tmp/ipykernel_1099294/2880211868.py\", line 20, in objective\n",
      "    r = objective_func(kwargs, trial, starter_experiment_name)\n",
      "        ^^^^^^^^^^^^^^^^^^^^^^^^^^^^^^^^^^^^^^^^^^^^^^^^^^^^^^\n",
      "  File \"/tmp/ipykernel_1099294/2880211868.py\", line 10, in objective_func\n",
      "    cfg = copy.deepcopy(experiment_configs[starter_experiment_name][1])\n",
      "                        ~~~~~~~~~~~~~~~~~~^^^^^^^^^^^^^^^^^^^^^^^^^\n",
      "KeyError: 'projgrad2'\n",
      "[W 2024-10-03 12:46:32,127] Trial 138 failed with value None.\n",
      "[W 2024-10-03 12:46:32,996] Trial 139 failed with parameters: {'β': 0.8763194331423115, 'reverse_pref': False, 'scale_orth': True, 'weight_dim': 0, 'neg_slope': 0, 'mag_clip': 10, 'lr': 2.2524434712114597e-06, 'collect_input': True, 'collect_hs': False} because of the following error: KeyError('projgrad2').\n",
      "Traceback (most recent call last):\n",
      "  File \"/workspace/repr-preference-optimization/.venv/lib/python3.11/site-packages/optuna/study/_optimize.py\", line 197, in _run_trial\n",
      "    value_or_values = func(trial)\n",
      "                      ^^^^^^^^^^^\n",
      "  File \"/tmp/ipykernel_1099294/2880211868.py\", line 20, in objective\n",
      "    r = objective_func(kwargs, trial, starter_experiment_name)\n",
      "        ^^^^^^^^^^^^^^^^^^^^^^^^^^^^^^^^^^^^^^^^^^^^^^^^^^^^^^\n",
      "  File \"/tmp/ipykernel_1099294/2880211868.py\", line 10, in objective_func\n",
      "    cfg = copy.deepcopy(experiment_configs[starter_experiment_name][1])\n",
      "                        ~~~~~~~~~~~~~~~~~~^^^^^^^^^^^^^^^^^^^^^^^^^\n",
      "KeyError: 'projgrad2'\n",
      "[W 2024-10-03 12:46:33,000] Trial 139 failed with value None.\n",
      "[W 2024-10-03 12:46:33,857] Trial 140 failed with parameters: {'β': 0.5149333499132595, 'reverse_pref': True, 'scale_orth': False, 'weight_dim': 2, 'neg_slope': 1, 'mag_clip': 100, 'lr': 7.061573076816824e-05, 'collect_input': True, 'collect_hs': False} because of the following error: KeyError('projgrad2').\n",
      "Traceback (most recent call last):\n",
      "  File \"/workspace/repr-preference-optimization/.venv/lib/python3.11/site-packages/optuna/study/_optimize.py\", line 197, in _run_trial\n",
      "    value_or_values = func(trial)\n",
      "                      ^^^^^^^^^^^\n",
      "  File \"/tmp/ipykernel_1099294/2880211868.py\", line 20, in objective\n",
      "    r = objective_func(kwargs, trial, starter_experiment_name)\n",
      "        ^^^^^^^^^^^^^^^^^^^^^^^^^^^^^^^^^^^^^^^^^^^^^^^^^^^^^^\n",
      "  File \"/tmp/ipykernel_1099294/2880211868.py\", line 10, in objective_func\n",
      "    cfg = copy.deepcopy(experiment_configs[starter_experiment_name][1])\n",
      "                        ~~~~~~~~~~~~~~~~~~^^^^^^^^^^^^^^^^^^^^^^^^^\n",
      "KeyError: 'projgrad2'\n",
      "[W 2024-10-03 12:46:33,859] Trial 140 failed with value None.\n",
      "[W 2024-10-03 12:46:34,813] Trial 141 failed with parameters: {'β': 0.6964298070361072, 'reverse_pref': True, 'scale_orth': True, 'weight_dim': 2, 'neg_slope': 0, 'mag_clip': 10, 'lr': 3.3374532570869074e-05, 'collect_input': True, 'collect_hs': True} because of the following error: KeyError('projgrad2').\n",
      "Traceback (most recent call last):\n",
      "  File \"/workspace/repr-preference-optimization/.venv/lib/python3.11/site-packages/optuna/study/_optimize.py\", line 197, in _run_trial\n",
      "    value_or_values = func(trial)\n",
      "                      ^^^^^^^^^^^\n",
      "  File \"/tmp/ipykernel_1099294/2880211868.py\", line 20, in objective\n",
      "    r = objective_func(kwargs, trial, starter_experiment_name)\n",
      "        ^^^^^^^^^^^^^^^^^^^^^^^^^^^^^^^^^^^^^^^^^^^^^^^^^^^^^^\n",
      "  File \"/tmp/ipykernel_1099294/2880211868.py\", line 10, in objective_func\n",
      "    cfg = copy.deepcopy(experiment_configs[starter_experiment_name][1])\n",
      "                        ~~~~~~~~~~~~~~~~~~^^^^^^^^^^^^^^^^^^^^^^^^^\n",
      "KeyError: 'projgrad2'\n",
      "[W 2024-10-03 12:46:34,817] Trial 141 failed with value None.\n",
      "[W 2024-10-03 12:46:35,753] Trial 142 failed with parameters: {'β': 0.4742550209769536, 'reverse_pref': False, 'scale_orth': True, 'weight_dim': 0, 'neg_slope': 1, 'mag_clip': 100, 'lr': 2.5057011275800193e-05, 'collect_input': False, 'collect_hs': False} because of the following error: KeyError('projgrad2').\n",
      "Traceback (most recent call last):\n",
      "  File \"/workspace/repr-preference-optimization/.venv/lib/python3.11/site-packages/optuna/study/_optimize.py\", line 197, in _run_trial\n",
      "    value_or_values = func(trial)\n",
      "                      ^^^^^^^^^^^\n",
      "  File \"/tmp/ipykernel_1099294/2880211868.py\", line 20, in objective\n",
      "    r = objective_func(kwargs, trial, starter_experiment_name)\n",
      "        ^^^^^^^^^^^^^^^^^^^^^^^^^^^^^^^^^^^^^^^^^^^^^^^^^^^^^^\n",
      "  File \"/tmp/ipykernel_1099294/2880211868.py\", line 10, in objective_func\n",
      "    cfg = copy.deepcopy(experiment_configs[starter_experiment_name][1])\n",
      "                        ~~~~~~~~~~~~~~~~~~^^^^^^^^^^^^^^^^^^^^^^^^^\n",
      "KeyError: 'projgrad2'\n",
      "[W 2024-10-03 12:46:35,754] Trial 142 failed with value None.\n",
      "[W 2024-10-03 12:46:36,665] Trial 143 failed with parameters: {'β': 0.20347274249759584, 'reverse_pref': False, 'scale_orth': False, 'weight_dim': 2, 'neg_slope': 1, 'mag_clip': 0.03, 'lr': 1.6074631772686816e-06, 'collect_input': False, 'collect_hs': True} because of the following error: KeyError('projgrad2').\n",
      "Traceback (most recent call last):\n",
      "  File \"/workspace/repr-preference-optimization/.venv/lib/python3.11/site-packages/optuna/study/_optimize.py\", line 197, in _run_trial\n",
      "    value_or_values = func(trial)\n",
      "                      ^^^^^^^^^^^\n",
      "  File \"/tmp/ipykernel_1099294/2880211868.py\", line 20, in objective\n",
      "    r = objective_func(kwargs, trial, starter_experiment_name)\n",
      "        ^^^^^^^^^^^^^^^^^^^^^^^^^^^^^^^^^^^^^^^^^^^^^^^^^^^^^^\n",
      "  File \"/tmp/ipykernel_1099294/2880211868.py\", line 10, in objective_func\n",
      "    cfg = copy.deepcopy(experiment_configs[starter_experiment_name][1])\n",
      "                        ~~~~~~~~~~~~~~~~~~^^^^^^^^^^^^^^^^^^^^^^^^^\n",
      "KeyError: 'projgrad2'\n",
      "[W 2024-10-03 12:46:36,669] Trial 143 failed with value None.\n",
      "[W 2024-10-03 12:46:37,659] Trial 144 failed with parameters: {'β': 0.7087656552291542, 'reverse_pref': False, 'scale_orth': True, 'weight_dim': 0, 'neg_slope': 0, 'mag_clip': 0.5, 'lr': 7.268107717171999e-05, 'collect_input': True, 'collect_hs': False} because of the following error: KeyError('projgrad2').\n",
      "Traceback (most recent call last):\n",
      "  File \"/workspace/repr-preference-optimization/.venv/lib/python3.11/site-packages/optuna/study/_optimize.py\", line 197, in _run_trial\n",
      "    value_or_values = func(trial)\n",
      "                      ^^^^^^^^^^^\n",
      "  File \"/tmp/ipykernel_1099294/2880211868.py\", line 20, in objective\n",
      "    r = objective_func(kwargs, trial, starter_experiment_name)\n",
      "        ^^^^^^^^^^^^^^^^^^^^^^^^^^^^^^^^^^^^^^^^^^^^^^^^^^^^^^\n",
      "  File \"/tmp/ipykernel_1099294/2880211868.py\", line 10, in objective_func\n",
      "    cfg = copy.deepcopy(experiment_configs[starter_experiment_name][1])\n",
      "                        ~~~~~~~~~~~~~~~~~~^^^^^^^^^^^^^^^^^^^^^^^^^\n",
      "KeyError: 'projgrad2'\n",
      "[W 2024-10-03 12:46:37,661] Trial 144 failed with value None.\n",
      "[W 2024-10-03 12:46:38,472] Trial 145 failed with parameters: {'β': 0.7499777984520708, 'reverse_pref': True, 'scale_orth': False, 'weight_dim': 2, 'neg_slope': 1, 'mag_clip': 100, 'lr': 3.320312345669732e-05, 'collect_input': True, 'collect_hs': True} because of the following error: KeyError('projgrad2').\n",
      "Traceback (most recent call last):\n",
      "  File \"/workspace/repr-preference-optimization/.venv/lib/python3.11/site-packages/optuna/study/_optimize.py\", line 197, in _run_trial\n",
      "    value_or_values = func(trial)\n",
      "                      ^^^^^^^^^^^\n",
      "  File \"/tmp/ipykernel_1099294/2880211868.py\", line 20, in objective\n",
      "    r = objective_func(kwargs, trial, starter_experiment_name)\n",
      "        ^^^^^^^^^^^^^^^^^^^^^^^^^^^^^^^^^^^^^^^^^^^^^^^^^^^^^^\n",
      "  File \"/tmp/ipykernel_1099294/2880211868.py\", line 10, in objective_func\n",
      "    cfg = copy.deepcopy(experiment_configs[starter_experiment_name][1])\n",
      "                        ~~~~~~~~~~~~~~~~~~^^^^^^^^^^^^^^^^^^^^^^^^^\n",
      "KeyError: 'projgrad2'\n",
      "[W 2024-10-03 12:46:38,475] Trial 145 failed with value None.\n",
      "[W 2024-10-03 12:46:39,322] Trial 146 failed with parameters: {'β': 0.8218309465853593, 'reverse_pref': False, 'scale_orth': False, 'weight_dim': 0, 'neg_slope': 0, 'mag_clip': 10, 'lr': 0.00019166993377329805, 'collect_input': True, 'collect_hs': True} because of the following error: KeyError('projgrad2').\n",
      "Traceback (most recent call last):\n",
      "  File \"/workspace/repr-preference-optimization/.venv/lib/python3.11/site-packages/optuna/study/_optimize.py\", line 197, in _run_trial\n",
      "    value_or_values = func(trial)\n",
      "                      ^^^^^^^^^^^\n",
      "  File \"/tmp/ipykernel_1099294/2880211868.py\", line 20, in objective\n",
      "    r = objective_func(kwargs, trial, starter_experiment_name)\n",
      "        ^^^^^^^^^^^^^^^^^^^^^^^^^^^^^^^^^^^^^^^^^^^^^^^^^^^^^^\n",
      "  File \"/tmp/ipykernel_1099294/2880211868.py\", line 10, in objective_func\n",
      "    cfg = copy.deepcopy(experiment_configs[starter_experiment_name][1])\n",
      "                        ~~~~~~~~~~~~~~~~~~^^^^^^^^^^^^^^^^^^^^^^^^^\n",
      "KeyError: 'projgrad2'\n",
      "[W 2024-10-03 12:46:39,323] Trial 146 failed with value None.\n",
      "[W 2024-10-03 12:46:40,180] Trial 147 failed with parameters: {'β': 0.4323462264033473, 'reverse_pref': False, 'scale_orth': False, 'weight_dim': 0, 'neg_slope': 1, 'mag_clip': 0.5, 'lr': 5.371643678764999e-05, 'collect_input': False, 'collect_hs': True} because of the following error: KeyError('projgrad2').\n",
      "Traceback (most recent call last):\n",
      "  File \"/workspace/repr-preference-optimization/.venv/lib/python3.11/site-packages/optuna/study/_optimize.py\", line 197, in _run_trial\n",
      "    value_or_values = func(trial)\n",
      "                      ^^^^^^^^^^^\n",
      "  File \"/tmp/ipykernel_1099294/2880211868.py\", line 20, in objective\n",
      "    r = objective_func(kwargs, trial, starter_experiment_name)\n",
      "        ^^^^^^^^^^^^^^^^^^^^^^^^^^^^^^^^^^^^^^^^^^^^^^^^^^^^^^\n",
      "  File \"/tmp/ipykernel_1099294/2880211868.py\", line 10, in objective_func\n",
      "    cfg = copy.deepcopy(experiment_configs[starter_experiment_name][1])\n",
      "                        ~~~~~~~~~~~~~~~~~~^^^^^^^^^^^^^^^^^^^^^^^^^\n",
      "KeyError: 'projgrad2'\n",
      "[W 2024-10-03 12:46:40,185] Trial 147 failed with value None.\n",
      "[W 2024-10-03 12:46:41,099] Trial 148 failed with parameters: {'β': 0.7481839120488464, 'reverse_pref': False, 'scale_orth': True, 'weight_dim': 0, 'neg_slope': 1, 'mag_clip': 10, 'lr': 0.00019360112360654365, 'collect_input': False, 'collect_hs': True} because of the following error: KeyError('projgrad2').\n",
      "Traceback (most recent call last):\n",
      "  File \"/workspace/repr-preference-optimization/.venv/lib/python3.11/site-packages/optuna/study/_optimize.py\", line 197, in _run_trial\n",
      "    value_or_values = func(trial)\n",
      "                      ^^^^^^^^^^^\n",
      "  File \"/tmp/ipykernel_1099294/2880211868.py\", line 20, in objective\n",
      "    r = objective_func(kwargs, trial, starter_experiment_name)\n",
      "        ^^^^^^^^^^^^^^^^^^^^^^^^^^^^^^^^^^^^^^^^^^^^^^^^^^^^^^\n",
      "  File \"/tmp/ipykernel_1099294/2880211868.py\", line 10, in objective_func\n",
      "    cfg = copy.deepcopy(experiment_configs[starter_experiment_name][1])\n",
      "                        ~~~~~~~~~~~~~~~~~~^^^^^^^^^^^^^^^^^^^^^^^^^\n",
      "KeyError: 'projgrad2'\n",
      "[W 2024-10-03 12:46:41,100] Trial 148 failed with value None.\n",
      "[W 2024-10-03 12:46:41,997] Trial 149 failed with parameters: {'β': 0.6246140481145316, 'reverse_pref': True, 'scale_orth': False, 'weight_dim': 2, 'neg_slope': 0.01, 'mag_clip': 10, 'lr': 8.882327645869287e-05, 'collect_input': True, 'collect_hs': True} because of the following error: KeyError('projgrad2').\n",
      "Traceback (most recent call last):\n",
      "  File \"/workspace/repr-preference-optimization/.venv/lib/python3.11/site-packages/optuna/study/_optimize.py\", line 197, in _run_trial\n",
      "    value_or_values = func(trial)\n",
      "                      ^^^^^^^^^^^\n",
      "  File \"/tmp/ipykernel_1099294/2880211868.py\", line 20, in objective\n",
      "    r = objective_func(kwargs, trial, starter_experiment_name)\n",
      "        ^^^^^^^^^^^^^^^^^^^^^^^^^^^^^^^^^^^^^^^^^^^^^^^^^^^^^^\n",
      "  File \"/tmp/ipykernel_1099294/2880211868.py\", line 10, in objective_func\n",
      "    cfg = copy.deepcopy(experiment_configs[starter_experiment_name][1])\n",
      "                        ~~~~~~~~~~~~~~~~~~^^^^^^^^^^^^^^^^^^^^^^^^^\n",
      "KeyError: 'projgrad2'\n",
      "[W 2024-10-03 12:46:42,001] Trial 149 failed with value None.\n",
      "[W 2024-10-03 12:46:42,874] Trial 150 failed with parameters: {'β': 0.45476434255266107, 'reverse_pref': False, 'scale_orth': False, 'weight_dim': 0, 'neg_slope': 0.1, 'mag_clip': 1.0, 'lr': 0.0003251630880103259, 'collect_input': True, 'collect_hs': True} because of the following error: KeyError('projgrad2').\n",
      "Traceback (most recent call last):\n",
      "  File \"/workspace/repr-preference-optimization/.venv/lib/python3.11/site-packages/optuna/study/_optimize.py\", line 197, in _run_trial\n",
      "    value_or_values = func(trial)\n",
      "                      ^^^^^^^^^^^\n",
      "  File \"/tmp/ipykernel_1099294/2880211868.py\", line 20, in objective\n",
      "    r = objective_func(kwargs, trial, starter_experiment_name)\n",
      "        ^^^^^^^^^^^^^^^^^^^^^^^^^^^^^^^^^^^^^^^^^^^^^^^^^^^^^^\n",
      "  File \"/tmp/ipykernel_1099294/2880211868.py\", line 10, in objective_func\n",
      "    cfg = copy.deepcopy(experiment_configs[starter_experiment_name][1])\n",
      "                        ~~~~~~~~~~~~~~~~~~^^^^^^^^^^^^^^^^^^^^^^^^^\n",
      "KeyError: 'projgrad2'\n",
      "[W 2024-10-03 12:46:42,875] Trial 150 failed with value None.\n",
      "[W 2024-10-03 12:46:43,781] Trial 151 failed with parameters: {'β': 0.6996395696221217, 'reverse_pref': True, 'scale_orth': True, 'weight_dim': 1, 'neg_slope': 1, 'mag_clip': 0.03, 'lr': 6.615167825377867e-05, 'collect_input': False, 'collect_hs': True} because of the following error: KeyError('projgrad2').\n",
      "Traceback (most recent call last):\n",
      "  File \"/workspace/repr-preference-optimization/.venv/lib/python3.11/site-packages/optuna/study/_optimize.py\", line 197, in _run_trial\n",
      "    value_or_values = func(trial)\n",
      "                      ^^^^^^^^^^^\n",
      "  File \"/tmp/ipykernel_1099294/2880211868.py\", line 20, in objective\n",
      "    r = objective_func(kwargs, trial, starter_experiment_name)\n",
      "        ^^^^^^^^^^^^^^^^^^^^^^^^^^^^^^^^^^^^^^^^^^^^^^^^^^^^^^\n",
      "  File \"/tmp/ipykernel_1099294/2880211868.py\", line 10, in objective_func\n",
      "    cfg = copy.deepcopy(experiment_configs[starter_experiment_name][1])\n",
      "                        ~~~~~~~~~~~~~~~~~~^^^^^^^^^^^^^^^^^^^^^^^^^\n",
      "KeyError: 'projgrad2'\n",
      "[W 2024-10-03 12:46:43,785] Trial 151 failed with value None.\n",
      "[W 2024-10-03 12:46:44,933] Trial 152 failed with parameters: {'β': 0.8629968313588721, 'reverse_pref': True, 'scale_orth': True, 'weight_dim': 2, 'neg_slope': 0, 'mag_clip': 10, 'lr': 0.0003611122853405106, 'collect_input': True, 'collect_hs': True} because of the following error: KeyError('projgrad2').\n",
      "Traceback (most recent call last):\n",
      "  File \"/workspace/repr-preference-optimization/.venv/lib/python3.11/site-packages/optuna/study/_optimize.py\", line 197, in _run_trial\n",
      "    value_or_values = func(trial)\n",
      "                      ^^^^^^^^^^^\n",
      "  File \"/tmp/ipykernel_1099294/2880211868.py\", line 20, in objective\n",
      "    r = objective_func(kwargs, trial, starter_experiment_name)\n",
      "        ^^^^^^^^^^^^^^^^^^^^^^^^^^^^^^^^^^^^^^^^^^^^^^^^^^^^^^\n",
      "  File \"/tmp/ipykernel_1099294/2880211868.py\", line 10, in objective_func\n",
      "    cfg = copy.deepcopy(experiment_configs[starter_experiment_name][1])\n",
      "                        ~~~~~~~~~~~~~~~~~~^^^^^^^^^^^^^^^^^^^^^^^^^\n",
      "KeyError: 'projgrad2'\n",
      "[W 2024-10-03 12:46:44,942] Trial 152 failed with value None.\n",
      "[W 2024-10-03 12:46:45,813] Trial 153 failed with parameters: {'β': 0.21079310155002862, 'reverse_pref': False, 'scale_orth': True, 'weight_dim': 0, 'neg_slope': 0.01, 'mag_clip': 0.03, 'lr': 1.164016791919716e-05, 'collect_input': True, 'collect_hs': False} because of the following error: KeyError('projgrad2').\n",
      "Traceback (most recent call last):\n",
      "  File \"/workspace/repr-preference-optimization/.venv/lib/python3.11/site-packages/optuna/study/_optimize.py\", line 197, in _run_trial\n",
      "    value_or_values = func(trial)\n",
      "                      ^^^^^^^^^^^\n",
      "  File \"/tmp/ipykernel_1099294/2880211868.py\", line 20, in objective\n",
      "    r = objective_func(kwargs, trial, starter_experiment_name)\n",
      "        ^^^^^^^^^^^^^^^^^^^^^^^^^^^^^^^^^^^^^^^^^^^^^^^^^^^^^^\n",
      "  File \"/tmp/ipykernel_1099294/2880211868.py\", line 10, in objective_func\n",
      "    cfg = copy.deepcopy(experiment_configs[starter_experiment_name][1])\n",
      "                        ~~~~~~~~~~~~~~~~~~^^^^^^^^^^^^^^^^^^^^^^^^^\n",
      "KeyError: 'projgrad2'\n",
      "[W 2024-10-03 12:46:45,814] Trial 153 failed with value None.\n",
      "[W 2024-10-03 12:46:46,761] Trial 154 failed with parameters: {'β': 0.14692192358377076, 'reverse_pref': False, 'scale_orth': True, 'weight_dim': 1, 'neg_slope': 0.1, 'mag_clip': 0.1, 'lr': 8.305970879043982e-06, 'collect_input': True, 'collect_hs': False} because of the following error: KeyError('projgrad2').\n",
      "Traceback (most recent call last):\n",
      "  File \"/workspace/repr-preference-optimization/.venv/lib/python3.11/site-packages/optuna/study/_optimize.py\", line 197, in _run_trial\n",
      "    value_or_values = func(trial)\n",
      "                      ^^^^^^^^^^^\n",
      "  File \"/tmp/ipykernel_1099294/2880211868.py\", line 20, in objective\n",
      "    r = objective_func(kwargs, trial, starter_experiment_name)\n",
      "        ^^^^^^^^^^^^^^^^^^^^^^^^^^^^^^^^^^^^^^^^^^^^^^^^^^^^^^\n",
      "  File \"/tmp/ipykernel_1099294/2880211868.py\", line 10, in objective_func\n",
      "    cfg = copy.deepcopy(experiment_configs[starter_experiment_name][1])\n",
      "                        ~~~~~~~~~~~~~~~~~~^^^^^^^^^^^^^^^^^^^^^^^^^\n",
      "KeyError: 'projgrad2'\n",
      "[W 2024-10-03 12:46:46,766] Trial 154 failed with value None.\n",
      "[W 2024-10-03 12:46:47,948] Trial 155 failed with parameters: {'β': 0.7250060762991187, 'reverse_pref': False, 'scale_orth': False, 'weight_dim': 0, 'neg_slope': 0.1, 'mag_clip': 10, 'lr': 0.0003796505421829683, 'collect_input': True, 'collect_hs': False} because of the following error: KeyError('projgrad2').\n",
      "Traceback (most recent call last):\n",
      "  File \"/workspace/repr-preference-optimization/.venv/lib/python3.11/site-packages/optuna/study/_optimize.py\", line 197, in _run_trial\n",
      "    value_or_values = func(trial)\n",
      "                      ^^^^^^^^^^^\n",
      "  File \"/tmp/ipykernel_1099294/2880211868.py\", line 20, in objective\n",
      "    r = objective_func(kwargs, trial, starter_experiment_name)\n",
      "        ^^^^^^^^^^^^^^^^^^^^^^^^^^^^^^^^^^^^^^^^^^^^^^^^^^^^^^\n",
      "  File \"/tmp/ipykernel_1099294/2880211868.py\", line 10, in objective_func\n",
      "    cfg = copy.deepcopy(experiment_configs[starter_experiment_name][1])\n",
      "                        ~~~~~~~~~~~~~~~~~~^^^^^^^^^^^^^^^^^^^^^^^^^\n",
      "KeyError: 'projgrad2'\n",
      "[W 2024-10-03 12:46:47,953] Trial 155 failed with value None.\n",
      "[W 2024-10-03 12:46:48,834] Trial 156 failed with parameters: {'β': 0.12600202786399428, 'reverse_pref': False, 'scale_orth': False, 'weight_dim': 1, 'neg_slope': 0.01, 'mag_clip': None, 'lr': 0.0003000080130771221, 'collect_input': False, 'collect_hs': True} because of the following error: KeyError('projgrad2').\n",
      "Traceback (most recent call last):\n",
      "  File \"/workspace/repr-preference-optimization/.venv/lib/python3.11/site-packages/optuna/study/_optimize.py\", line 197, in _run_trial\n",
      "    value_or_values = func(trial)\n",
      "                      ^^^^^^^^^^^\n",
      "  File \"/tmp/ipykernel_1099294/2880211868.py\", line 20, in objective\n",
      "    r = objective_func(kwargs, trial, starter_experiment_name)\n",
      "        ^^^^^^^^^^^^^^^^^^^^^^^^^^^^^^^^^^^^^^^^^^^^^^^^^^^^^^\n",
      "  File \"/tmp/ipykernel_1099294/2880211868.py\", line 10, in objective_func\n",
      "    cfg = copy.deepcopy(experiment_configs[starter_experiment_name][1])\n",
      "                        ~~~~~~~~~~~~~~~~~~^^^^^^^^^^^^^^^^^^^^^^^^^\n",
      "KeyError: 'projgrad2'\n",
      "[W 2024-10-03 12:46:48,836] Trial 156 failed with value None.\n",
      "[W 2024-10-03 12:46:49,693] Trial 157 failed with parameters: {'β': 0.1430011226657264, 'reverse_pref': False, 'scale_orth': True, 'weight_dim': 1, 'neg_slope': 0, 'mag_clip': 0.03, 'lr': 7.620558569049038e-05, 'collect_input': True, 'collect_hs': True} because of the following error: KeyError('projgrad2').\n",
      "Traceback (most recent call last):\n",
      "  File \"/workspace/repr-preference-optimization/.venv/lib/python3.11/site-packages/optuna/study/_optimize.py\", line 197, in _run_trial\n",
      "    value_or_values = func(trial)\n",
      "                      ^^^^^^^^^^^\n",
      "  File \"/tmp/ipykernel_1099294/2880211868.py\", line 20, in objective\n",
      "    r = objective_func(kwargs, trial, starter_experiment_name)\n",
      "        ^^^^^^^^^^^^^^^^^^^^^^^^^^^^^^^^^^^^^^^^^^^^^^^^^^^^^^\n",
      "  File \"/tmp/ipykernel_1099294/2880211868.py\", line 10, in objective_func\n",
      "    cfg = copy.deepcopy(experiment_configs[starter_experiment_name][1])\n",
      "                        ~~~~~~~~~~~~~~~~~~^^^^^^^^^^^^^^^^^^^^^^^^^\n",
      "KeyError: 'projgrad2'\n",
      "[W 2024-10-03 12:46:49,697] Trial 157 failed with value None.\n",
      "[W 2024-10-03 12:46:50,568] Trial 158 failed with parameters: {'β': 0.09377652625701649, 'reverse_pref': False, 'scale_orth': False, 'weight_dim': 0, 'neg_slope': 0.01, 'mag_clip': 1.0, 'lr': 0.00030384994132731945, 'collect_input': True, 'collect_hs': False} because of the following error: KeyError('projgrad2').\n",
      "Traceback (most recent call last):\n",
      "  File \"/workspace/repr-preference-optimization/.venv/lib/python3.11/site-packages/optuna/study/_optimize.py\", line 197, in _run_trial\n",
      "    value_or_values = func(trial)\n",
      "                      ^^^^^^^^^^^\n",
      "  File \"/tmp/ipykernel_1099294/2880211868.py\", line 20, in objective\n",
      "    r = objective_func(kwargs, trial, starter_experiment_name)\n",
      "        ^^^^^^^^^^^^^^^^^^^^^^^^^^^^^^^^^^^^^^^^^^^^^^^^^^^^^^\n",
      "  File \"/tmp/ipykernel_1099294/2880211868.py\", line 10, in objective_func\n",
      "    cfg = copy.deepcopy(experiment_configs[starter_experiment_name][1])\n",
      "                        ~~~~~~~~~~~~~~~~~~^^^^^^^^^^^^^^^^^^^^^^^^^\n",
      "KeyError: 'projgrad2'\n",
      "[W 2024-10-03 12:46:50,570] Trial 158 failed with value None.\n",
      "[W 2024-10-03 12:46:51,740] Trial 159 failed with parameters: {'β': 0.5105807574595599, 'reverse_pref': False, 'scale_orth': True, 'weight_dim': 0, 'neg_slope': 0.5, 'mag_clip': 1.0, 'lr': 6.968659592982538e-06, 'collect_input': False, 'collect_hs': True} because of the following error: KeyError('projgrad2').\n",
      "Traceback (most recent call last):\n",
      "  File \"/workspace/repr-preference-optimization/.venv/lib/python3.11/site-packages/optuna/study/_optimize.py\", line 197, in _run_trial\n",
      "    value_or_values = func(trial)\n",
      "                      ^^^^^^^^^^^\n",
      "  File \"/tmp/ipykernel_1099294/2880211868.py\", line 20, in objective\n",
      "    r = objective_func(kwargs, trial, starter_experiment_name)\n",
      "        ^^^^^^^^^^^^^^^^^^^^^^^^^^^^^^^^^^^^^^^^^^^^^^^^^^^^^^\n",
      "  File \"/tmp/ipykernel_1099294/2880211868.py\", line 10, in objective_func\n",
      "    cfg = copy.deepcopy(experiment_configs[starter_experiment_name][1])\n",
      "                        ~~~~~~~~~~~~~~~~~~^^^^^^^^^^^^^^^^^^^^^^^^^\n",
      "KeyError: 'projgrad2'\n",
      "[W 2024-10-03 12:46:51,745] Trial 159 failed with value None.\n",
      "[W 2024-10-03 12:46:52,688] Trial 160 failed with parameters: {'β': 0.7507696492110557, 'reverse_pref': False, 'scale_orth': False, 'weight_dim': 1, 'neg_slope': 0, 'mag_clip': 10, 'lr': 0.0006303986337977599, 'collect_input': False, 'collect_hs': True} because of the following error: KeyError('projgrad2').\n",
      "Traceback (most recent call last):\n",
      "  File \"/workspace/repr-preference-optimization/.venv/lib/python3.11/site-packages/optuna/study/_optimize.py\", line 197, in _run_trial\n",
      "    value_or_values = func(trial)\n",
      "                      ^^^^^^^^^^^\n",
      "  File \"/tmp/ipykernel_1099294/2880211868.py\", line 20, in objective\n",
      "    r = objective_func(kwargs, trial, starter_experiment_name)\n",
      "        ^^^^^^^^^^^^^^^^^^^^^^^^^^^^^^^^^^^^^^^^^^^^^^^^^^^^^^\n",
      "  File \"/tmp/ipykernel_1099294/2880211868.py\", line 10, in objective_func\n",
      "    cfg = copy.deepcopy(experiment_configs[starter_experiment_name][1])\n",
      "                        ~~~~~~~~~~~~~~~~~~^^^^^^^^^^^^^^^^^^^^^^^^^\n",
      "KeyError: 'projgrad2'\n",
      "[W 2024-10-03 12:46:52,690] Trial 160 failed with value None.\n",
      "[W 2024-10-03 12:46:54,090] Trial 161 failed with parameters: {'β': 0.8481092350156301, 'reverse_pref': True, 'scale_orth': True, 'weight_dim': 0, 'neg_slope': 0, 'mag_clip': None, 'lr': 0.0003189446860629456, 'collect_input': True, 'collect_hs': False} because of the following error: KeyError('projgrad2').\n",
      "Traceback (most recent call last):\n",
      "  File \"/workspace/repr-preference-optimization/.venv/lib/python3.11/site-packages/optuna/study/_optimize.py\", line 197, in _run_trial\n",
      "    value_or_values = func(trial)\n",
      "                      ^^^^^^^^^^^\n",
      "  File \"/tmp/ipykernel_1099294/2880211868.py\", line 20, in objective\n",
      "    r = objective_func(kwargs, trial, starter_experiment_name)\n",
      "        ^^^^^^^^^^^^^^^^^^^^^^^^^^^^^^^^^^^^^^^^^^^^^^^^^^^^^^\n",
      "  File \"/tmp/ipykernel_1099294/2880211868.py\", line 10, in objective_func\n",
      "    cfg = copy.deepcopy(experiment_configs[starter_experiment_name][1])\n",
      "                        ~~~~~~~~~~~~~~~~~~^^^^^^^^^^^^^^^^^^^^^^^^^\n",
      "KeyError: 'projgrad2'\n",
      "[W 2024-10-03 12:46:54,094] Trial 161 failed with value None.\n",
      "[W 2024-10-03 12:46:55,011] Trial 162 failed with parameters: {'β': 0.06180846068922263, 'reverse_pref': False, 'scale_orth': True, 'weight_dim': 2, 'neg_slope': 1, 'mag_clip': 0.5, 'lr': 1.0486580297403681e-06, 'collect_input': False, 'collect_hs': True} because of the following error: KeyError('projgrad2').\n",
      "Traceback (most recent call last):\n",
      "  File \"/workspace/repr-preference-optimization/.venv/lib/python3.11/site-packages/optuna/study/_optimize.py\", line 197, in _run_trial\n",
      "    value_or_values = func(trial)\n",
      "                      ^^^^^^^^^^^\n",
      "  File \"/tmp/ipykernel_1099294/2880211868.py\", line 20, in objective\n",
      "    r = objective_func(kwargs, trial, starter_experiment_name)\n",
      "        ^^^^^^^^^^^^^^^^^^^^^^^^^^^^^^^^^^^^^^^^^^^^^^^^^^^^^^\n",
      "  File \"/tmp/ipykernel_1099294/2880211868.py\", line 10, in objective_func\n",
      "    cfg = copy.deepcopy(experiment_configs[starter_experiment_name][1])\n",
      "                        ~~~~~~~~~~~~~~~~~~^^^^^^^^^^^^^^^^^^^^^^^^^\n",
      "KeyError: 'projgrad2'\n",
      "[W 2024-10-03 12:46:55,013] Trial 162 failed with value None.\n",
      "[W 2024-10-03 12:46:55,957] Trial 163 failed with parameters: {'β': 0.8845868882296137, 'reverse_pref': False, 'scale_orth': False, 'weight_dim': 0, 'neg_slope': 1, 'mag_clip': 0.03, 'lr': 2.0023120850124675e-05, 'collect_input': True, 'collect_hs': False} because of the following error: KeyError('projgrad2').\n",
      "Traceback (most recent call last):\n",
      "  File \"/workspace/repr-preference-optimization/.venv/lib/python3.11/site-packages/optuna/study/_optimize.py\", line 197, in _run_trial\n",
      "    value_or_values = func(trial)\n",
      "                      ^^^^^^^^^^^\n",
      "  File \"/tmp/ipykernel_1099294/2880211868.py\", line 20, in objective\n",
      "    r = objective_func(kwargs, trial, starter_experiment_name)\n",
      "        ^^^^^^^^^^^^^^^^^^^^^^^^^^^^^^^^^^^^^^^^^^^^^^^^^^^^^^\n",
      "  File \"/tmp/ipykernel_1099294/2880211868.py\", line 10, in objective_func\n",
      "    cfg = copy.deepcopy(experiment_configs[starter_experiment_name][1])\n",
      "                        ~~~~~~~~~~~~~~~~~~^^^^^^^^^^^^^^^^^^^^^^^^^\n",
      "KeyError: 'projgrad2'\n",
      "[W 2024-10-03 12:46:55,963] Trial 163 failed with value None.\n",
      "[W 2024-10-03 12:46:56,900] Trial 164 failed with parameters: {'β': 0.34395768655768555, 'reverse_pref': True, 'scale_orth': True, 'weight_dim': 1, 'neg_slope': 0.01, 'mag_clip': 100, 'lr': 4.406437985308212e-06, 'collect_input': False, 'collect_hs': True} because of the following error: KeyError('projgrad2').\n",
      "Traceback (most recent call last):\n",
      "  File \"/workspace/repr-preference-optimization/.venv/lib/python3.11/site-packages/optuna/study/_optimize.py\", line 197, in _run_trial\n",
      "    value_or_values = func(trial)\n",
      "                      ^^^^^^^^^^^\n",
      "  File \"/tmp/ipykernel_1099294/2880211868.py\", line 20, in objective\n",
      "    r = objective_func(kwargs, trial, starter_experiment_name)\n",
      "        ^^^^^^^^^^^^^^^^^^^^^^^^^^^^^^^^^^^^^^^^^^^^^^^^^^^^^^\n",
      "  File \"/tmp/ipykernel_1099294/2880211868.py\", line 10, in objective_func\n",
      "    cfg = copy.deepcopy(experiment_configs[starter_experiment_name][1])\n",
      "                        ~~~~~~~~~~~~~~~~~~^^^^^^^^^^^^^^^^^^^^^^^^^\n",
      "KeyError: 'projgrad2'\n",
      "[W 2024-10-03 12:46:56,907] Trial 164 failed with value None.\n",
      "[W 2024-10-03 12:46:57,797] Trial 165 failed with parameters: {'β': 0.6587176387270222, 'reverse_pref': True, 'scale_orth': False, 'weight_dim': 0, 'neg_slope': 0.1, 'mag_clip': 1.0, 'lr': 6.948817711568315e-05, 'collect_input': False, 'collect_hs': False} because of the following error: KeyError('projgrad2').\n",
      "Traceback (most recent call last):\n",
      "  File \"/workspace/repr-preference-optimization/.venv/lib/python3.11/site-packages/optuna/study/_optimize.py\", line 197, in _run_trial\n",
      "    value_or_values = func(trial)\n",
      "                      ^^^^^^^^^^^\n",
      "  File \"/tmp/ipykernel_1099294/2880211868.py\", line 20, in objective\n",
      "    r = objective_func(kwargs, trial, starter_experiment_name)\n",
      "        ^^^^^^^^^^^^^^^^^^^^^^^^^^^^^^^^^^^^^^^^^^^^^^^^^^^^^^\n",
      "  File \"/tmp/ipykernel_1099294/2880211868.py\", line 10, in objective_func\n",
      "    cfg = copy.deepcopy(experiment_configs[starter_experiment_name][1])\n",
      "                        ~~~~~~~~~~~~~~~~~~^^^^^^^^^^^^^^^^^^^^^^^^^\n",
      "KeyError: 'projgrad2'\n",
      "[W 2024-10-03 12:46:57,801] Trial 165 failed with value None.\n",
      "[W 2024-10-03 12:46:58,629] Trial 166 failed with parameters: {'β': 0.8206961607667793, 'reverse_pref': True, 'scale_orth': False, 'weight_dim': 0, 'neg_slope': 1, 'mag_clip': 0.5, 'lr': 0.0006275735556788638, 'collect_input': False, 'collect_hs': True} because of the following error: KeyError('projgrad2').\n",
      "Traceback (most recent call last):\n",
      "  File \"/workspace/repr-preference-optimization/.venv/lib/python3.11/site-packages/optuna/study/_optimize.py\", line 197, in _run_trial\n",
      "    value_or_values = func(trial)\n",
      "                      ^^^^^^^^^^^\n",
      "  File \"/tmp/ipykernel_1099294/2880211868.py\", line 20, in objective\n",
      "    r = objective_func(kwargs, trial, starter_experiment_name)\n",
      "        ^^^^^^^^^^^^^^^^^^^^^^^^^^^^^^^^^^^^^^^^^^^^^^^^^^^^^^\n",
      "  File \"/tmp/ipykernel_1099294/2880211868.py\", line 10, in objective_func\n",
      "    cfg = copy.deepcopy(experiment_configs[starter_experiment_name][1])\n",
      "                        ~~~~~~~~~~~~~~~~~~^^^^^^^^^^^^^^^^^^^^^^^^^\n",
      "KeyError: 'projgrad2'\n",
      "[W 2024-10-03 12:46:58,630] Trial 166 failed with value None.\n",
      "[W 2024-10-03 12:46:59,845] Trial 167 failed with parameters: {'β': 0.032659060784495875, 'reverse_pref': True, 'scale_orth': False, 'weight_dim': 2, 'neg_slope': 0.01, 'mag_clip': 0.03, 'lr': 0.0003169071453689921, 'collect_input': True, 'collect_hs': True} because of the following error: KeyError('projgrad2').\n",
      "Traceback (most recent call last):\n",
      "  File \"/workspace/repr-preference-optimization/.venv/lib/python3.11/site-packages/optuna/study/_optimize.py\", line 197, in _run_trial\n",
      "    value_or_values = func(trial)\n",
      "                      ^^^^^^^^^^^\n",
      "  File \"/tmp/ipykernel_1099294/2880211868.py\", line 20, in objective\n",
      "    r = objective_func(kwargs, trial, starter_experiment_name)\n",
      "        ^^^^^^^^^^^^^^^^^^^^^^^^^^^^^^^^^^^^^^^^^^^^^^^^^^^^^^\n",
      "  File \"/tmp/ipykernel_1099294/2880211868.py\", line 10, in objective_func\n",
      "    cfg = copy.deepcopy(experiment_configs[starter_experiment_name][1])\n",
      "                        ~~~~~~~~~~~~~~~~~~^^^^^^^^^^^^^^^^^^^^^^^^^\n",
      "KeyError: 'projgrad2'\n",
      "[W 2024-10-03 12:46:59,849] Trial 167 failed with value None.\n",
      "[W 2024-10-03 12:47:00,853] Trial 168 failed with parameters: {'β': 0.10587431821312931, 'reverse_pref': False, 'scale_orth': True, 'weight_dim': 0, 'neg_slope': 0.5, 'mag_clip': 0.1, 'lr': 0.0007487796395344765, 'collect_input': False, 'collect_hs': True} because of the following error: KeyError('projgrad2').\n",
      "Traceback (most recent call last):\n",
      "  File \"/workspace/repr-preference-optimization/.venv/lib/python3.11/site-packages/optuna/study/_optimize.py\", line 197, in _run_trial\n",
      "    value_or_values = func(trial)\n",
      "                      ^^^^^^^^^^^\n",
      "  File \"/tmp/ipykernel_1099294/2880211868.py\", line 20, in objective\n",
      "    r = objective_func(kwargs, trial, starter_experiment_name)\n",
      "        ^^^^^^^^^^^^^^^^^^^^^^^^^^^^^^^^^^^^^^^^^^^^^^^^^^^^^^\n",
      "  File \"/tmp/ipykernel_1099294/2880211868.py\", line 10, in objective_func\n",
      "    cfg = copy.deepcopy(experiment_configs[starter_experiment_name][1])\n",
      "                        ~~~~~~~~~~~~~~~~~~^^^^^^^^^^^^^^^^^^^^^^^^^\n",
      "KeyError: 'projgrad2'\n",
      "[W 2024-10-03 12:47:00,858] Trial 168 failed with value None.\n",
      "[W 2024-10-03 12:47:01,766] Trial 169 failed with parameters: {'β': 0.6354143568619098, 'reverse_pref': True, 'scale_orth': True, 'weight_dim': 2, 'neg_slope': 1, 'mag_clip': 1.0, 'lr': 2.831794393112383e-05, 'collect_input': True, 'collect_hs': True} because of the following error: KeyError('projgrad2').\n",
      "Traceback (most recent call last):\n",
      "  File \"/workspace/repr-preference-optimization/.venv/lib/python3.11/site-packages/optuna/study/_optimize.py\", line 197, in _run_trial\n",
      "    value_or_values = func(trial)\n",
      "                      ^^^^^^^^^^^\n",
      "  File \"/tmp/ipykernel_1099294/2880211868.py\", line 20, in objective\n",
      "    r = objective_func(kwargs, trial, starter_experiment_name)\n",
      "        ^^^^^^^^^^^^^^^^^^^^^^^^^^^^^^^^^^^^^^^^^^^^^^^^^^^^^^\n",
      "  File \"/tmp/ipykernel_1099294/2880211868.py\", line 10, in objective_func\n",
      "    cfg = copy.deepcopy(experiment_configs[starter_experiment_name][1])\n",
      "                        ~~~~~~~~~~~~~~~~~~^^^^^^^^^^^^^^^^^^^^^^^^^\n",
      "KeyError: 'projgrad2'\n",
      "[W 2024-10-03 12:47:01,768] Trial 169 failed with value None.\n",
      "[W 2024-10-03 12:47:02,735] Trial 170 failed with parameters: {'β': 0.03926941424165231, 'reverse_pref': True, 'scale_orth': True, 'weight_dim': 1, 'neg_slope': 1, 'mag_clip': 0.5, 'lr': 0.00011591420774363867, 'collect_input': False, 'collect_hs': False} because of the following error: KeyError('projgrad2').\n",
      "Traceback (most recent call last):\n",
      "  File \"/workspace/repr-preference-optimization/.venv/lib/python3.11/site-packages/optuna/study/_optimize.py\", line 197, in _run_trial\n",
      "    value_or_values = func(trial)\n",
      "                      ^^^^^^^^^^^\n",
      "  File \"/tmp/ipykernel_1099294/2880211868.py\", line 20, in objective\n",
      "    r = objective_func(kwargs, trial, starter_experiment_name)\n",
      "        ^^^^^^^^^^^^^^^^^^^^^^^^^^^^^^^^^^^^^^^^^^^^^^^^^^^^^^\n",
      "  File \"/tmp/ipykernel_1099294/2880211868.py\", line 10, in objective_func\n",
      "    cfg = copy.deepcopy(experiment_configs[starter_experiment_name][1])\n",
      "                        ~~~~~~~~~~~~~~~~~~^^^^^^^^^^^^^^^^^^^^^^^^^\n",
      "KeyError: 'projgrad2'\n",
      "[W 2024-10-03 12:47:02,740] Trial 170 failed with value None.\n",
      "[W 2024-10-03 12:47:03,731] Trial 171 failed with parameters: {'β': 0.22267607912308496, 'reverse_pref': False, 'scale_orth': True, 'weight_dim': 0, 'neg_slope': 0.1, 'mag_clip': 0.1, 'lr': 0.00031977287168747314, 'collect_input': True, 'collect_hs': False} because of the following error: KeyError('projgrad2').\n",
      "Traceback (most recent call last):\n",
      "  File \"/workspace/repr-preference-optimization/.venv/lib/python3.11/site-packages/optuna/study/_optimize.py\", line 197, in _run_trial\n",
      "    value_or_values = func(trial)\n",
      "                      ^^^^^^^^^^^\n",
      "  File \"/tmp/ipykernel_1099294/2880211868.py\", line 20, in objective\n",
      "    r = objective_func(kwargs, trial, starter_experiment_name)\n",
      "        ^^^^^^^^^^^^^^^^^^^^^^^^^^^^^^^^^^^^^^^^^^^^^^^^^^^^^^\n",
      "  File \"/tmp/ipykernel_1099294/2880211868.py\", line 10, in objective_func\n",
      "    cfg = copy.deepcopy(experiment_configs[starter_experiment_name][1])\n",
      "                        ~~~~~~~~~~~~~~~~~~^^^^^^^^^^^^^^^^^^^^^^^^^\n",
      "KeyError: 'projgrad2'\n",
      "[W 2024-10-03 12:47:03,733] Trial 171 failed with value None.\n",
      "[W 2024-10-03 12:47:04,637] Trial 172 failed with parameters: {'β': 0.9264637979561848, 'reverse_pref': True, 'scale_orth': False, 'weight_dim': 1, 'neg_slope': 0.5, 'mag_clip': 0.5, 'lr': 6.523430016542557e-06, 'collect_input': True, 'collect_hs': True} because of the following error: KeyError('projgrad2').\n",
      "Traceback (most recent call last):\n",
      "  File \"/workspace/repr-preference-optimization/.venv/lib/python3.11/site-packages/optuna/study/_optimize.py\", line 197, in _run_trial\n",
      "    value_or_values = func(trial)\n",
      "                      ^^^^^^^^^^^\n",
      "  File \"/tmp/ipykernel_1099294/2880211868.py\", line 20, in objective\n",
      "    r = objective_func(kwargs, trial, starter_experiment_name)\n",
      "        ^^^^^^^^^^^^^^^^^^^^^^^^^^^^^^^^^^^^^^^^^^^^^^^^^^^^^^\n",
      "  File \"/tmp/ipykernel_1099294/2880211868.py\", line 10, in objective_func\n",
      "    cfg = copy.deepcopy(experiment_configs[starter_experiment_name][1])\n",
      "                        ~~~~~~~~~~~~~~~~~~^^^^^^^^^^^^^^^^^^^^^^^^^\n",
      "KeyError: 'projgrad2'\n",
      "[W 2024-10-03 12:47:04,641] Trial 172 failed with value None.\n",
      "[W 2024-10-03 12:47:05,542] Trial 173 failed with parameters: {'β': 0.4261212379522308, 'reverse_pref': True, 'scale_orth': False, 'weight_dim': 2, 'neg_slope': 0, 'mag_clip': 0.1, 'lr': 1.5265707822367752e-05, 'collect_input': True, 'collect_hs': False} because of the following error: KeyError('projgrad2').\n",
      "Traceback (most recent call last):\n",
      "  File \"/workspace/repr-preference-optimization/.venv/lib/python3.11/site-packages/optuna/study/_optimize.py\", line 197, in _run_trial\n",
      "    value_or_values = func(trial)\n",
      "                      ^^^^^^^^^^^\n",
      "  File \"/tmp/ipykernel_1099294/2880211868.py\", line 20, in objective\n",
      "    r = objective_func(kwargs, trial, starter_experiment_name)\n",
      "        ^^^^^^^^^^^^^^^^^^^^^^^^^^^^^^^^^^^^^^^^^^^^^^^^^^^^^^\n",
      "  File \"/tmp/ipykernel_1099294/2880211868.py\", line 10, in objective_func\n",
      "    cfg = copy.deepcopy(experiment_configs[starter_experiment_name][1])\n",
      "                        ~~~~~~~~~~~~~~~~~~^^^^^^^^^^^^^^^^^^^^^^^^^\n",
      "KeyError: 'projgrad2'\n",
      "[W 2024-10-03 12:47:05,545] Trial 173 failed with value None.\n",
      "[W 2024-10-03 12:47:06,452] Trial 174 failed with parameters: {'β': 0.760160929790159, 'reverse_pref': True, 'scale_orth': False, 'weight_dim': 1, 'neg_slope': 1, 'mag_clip': 1.0, 'lr': 1.713609717170176e-05, 'collect_input': False, 'collect_hs': True} because of the following error: KeyError('projgrad2').\n",
      "Traceback (most recent call last):\n",
      "  File \"/workspace/repr-preference-optimization/.venv/lib/python3.11/site-packages/optuna/study/_optimize.py\", line 197, in _run_trial\n",
      "    value_or_values = func(trial)\n",
      "                      ^^^^^^^^^^^\n",
      "  File \"/tmp/ipykernel_1099294/2880211868.py\", line 20, in objective\n",
      "    r = objective_func(kwargs, trial, starter_experiment_name)\n",
      "        ^^^^^^^^^^^^^^^^^^^^^^^^^^^^^^^^^^^^^^^^^^^^^^^^^^^^^^\n",
      "  File \"/tmp/ipykernel_1099294/2880211868.py\", line 10, in objective_func\n",
      "    cfg = copy.deepcopy(experiment_configs[starter_experiment_name][1])\n",
      "                        ~~~~~~~~~~~~~~~~~~^^^^^^^^^^^^^^^^^^^^^^^^^\n",
      "KeyError: 'projgrad2'\n",
      "[W 2024-10-03 12:47:06,456] Trial 174 failed with value None.\n",
      "[W 2024-10-03 12:47:07,350] Trial 175 failed with parameters: {'β': 0.8243504472493495, 'reverse_pref': True, 'scale_orth': True, 'weight_dim': 2, 'neg_slope': 0.1, 'mag_clip': None, 'lr': 7.213896517099977e-05, 'collect_input': False, 'collect_hs': False} because of the following error: KeyError('projgrad2').\n",
      "Traceback (most recent call last):\n",
      "  File \"/workspace/repr-preference-optimization/.venv/lib/python3.11/site-packages/optuna/study/_optimize.py\", line 197, in _run_trial\n",
      "    value_or_values = func(trial)\n",
      "                      ^^^^^^^^^^^\n",
      "  File \"/tmp/ipykernel_1099294/2880211868.py\", line 20, in objective\n",
      "    r = objective_func(kwargs, trial, starter_experiment_name)\n",
      "        ^^^^^^^^^^^^^^^^^^^^^^^^^^^^^^^^^^^^^^^^^^^^^^^^^^^^^^\n",
      "  File \"/tmp/ipykernel_1099294/2880211868.py\", line 10, in objective_func\n",
      "    cfg = copy.deepcopy(experiment_configs[starter_experiment_name][1])\n",
      "                        ~~~~~~~~~~~~~~~~~~^^^^^^^^^^^^^^^^^^^^^^^^^\n",
      "KeyError: 'projgrad2'\n",
      "[W 2024-10-03 12:47:07,352] Trial 175 failed with value None.\n",
      "[W 2024-10-03 12:47:08,298] Trial 176 failed with parameters: {'β': 0.850574528015116, 'reverse_pref': False, 'scale_orth': False, 'weight_dim': 1, 'neg_slope': 1, 'mag_clip': None, 'lr': 2.3870723877033845e-06, 'collect_input': True, 'collect_hs': True} because of the following error: KeyError('projgrad2').\n",
      "Traceback (most recent call last):\n",
      "  File \"/workspace/repr-preference-optimization/.venv/lib/python3.11/site-packages/optuna/study/_optimize.py\", line 197, in _run_trial\n",
      "    value_or_values = func(trial)\n",
      "                      ^^^^^^^^^^^\n",
      "  File \"/tmp/ipykernel_1099294/2880211868.py\", line 20, in objective\n",
      "    r = objective_func(kwargs, trial, starter_experiment_name)\n",
      "        ^^^^^^^^^^^^^^^^^^^^^^^^^^^^^^^^^^^^^^^^^^^^^^^^^^^^^^\n",
      "  File \"/tmp/ipykernel_1099294/2880211868.py\", line 10, in objective_func\n",
      "    cfg = copy.deepcopy(experiment_configs[starter_experiment_name][1])\n",
      "                        ~~~~~~~~~~~~~~~~~~^^^^^^^^^^^^^^^^^^^^^^^^^\n",
      "KeyError: 'projgrad2'\n",
      "[W 2024-10-03 12:47:08,306] Trial 176 failed with value None.\n",
      "[W 2024-10-03 12:47:09,153] Trial 177 failed with parameters: {'β': 0.6764837495206044, 'reverse_pref': False, 'scale_orth': True, 'weight_dim': 1, 'neg_slope': 0.01, 'mag_clip': 100, 'lr': 1.3645531732270193e-06, 'collect_input': True, 'collect_hs': False} because of the following error: KeyError('projgrad2').\n",
      "Traceback (most recent call last):\n",
      "  File \"/workspace/repr-preference-optimization/.venv/lib/python3.11/site-packages/optuna/study/_optimize.py\", line 197, in _run_trial\n",
      "    value_or_values = func(trial)\n",
      "                      ^^^^^^^^^^^\n",
      "  File \"/tmp/ipykernel_1099294/2880211868.py\", line 20, in objective\n",
      "    r = objective_func(kwargs, trial, starter_experiment_name)\n",
      "        ^^^^^^^^^^^^^^^^^^^^^^^^^^^^^^^^^^^^^^^^^^^^^^^^^^^^^^\n",
      "  File \"/tmp/ipykernel_1099294/2880211868.py\", line 10, in objective_func\n",
      "    cfg = copy.deepcopy(experiment_configs[starter_experiment_name][1])\n",
      "                        ~~~~~~~~~~~~~~~~~~^^^^^^^^^^^^^^^^^^^^^^^^^\n",
      "KeyError: 'projgrad2'\n",
      "[W 2024-10-03 12:47:09,155] Trial 177 failed with value None.\n",
      "[W 2024-10-03 12:47:10,035] Trial 178 failed with parameters: {'β': 0.33197150473584547, 'reverse_pref': True, 'scale_orth': False, 'weight_dim': 0, 'neg_slope': 0, 'mag_clip': 0.03, 'lr': 1.6150361870000441e-06, 'collect_input': False, 'collect_hs': False} because of the following error: KeyError('projgrad2').\n",
      "Traceback (most recent call last):\n",
      "  File \"/workspace/repr-preference-optimization/.venv/lib/python3.11/site-packages/optuna/study/_optimize.py\", line 197, in _run_trial\n",
      "    value_or_values = func(trial)\n",
      "                      ^^^^^^^^^^^\n",
      "  File \"/tmp/ipykernel_1099294/2880211868.py\", line 20, in objective\n",
      "    r = objective_func(kwargs, trial, starter_experiment_name)\n",
      "        ^^^^^^^^^^^^^^^^^^^^^^^^^^^^^^^^^^^^^^^^^^^^^^^^^^^^^^\n",
      "  File \"/tmp/ipykernel_1099294/2880211868.py\", line 10, in objective_func\n",
      "    cfg = copy.deepcopy(experiment_configs[starter_experiment_name][1])\n",
      "                        ~~~~~~~~~~~~~~~~~~^^^^^^^^^^^^^^^^^^^^^^^^^\n",
      "KeyError: 'projgrad2'\n",
      "[W 2024-10-03 12:47:10,040] Trial 178 failed with value None.\n",
      "[W 2024-10-03 12:47:10,949] Trial 179 failed with parameters: {'β': 0.40659053735947226, 'reverse_pref': False, 'scale_orth': False, 'weight_dim': 2, 'neg_slope': 1, 'mag_clip': 1.0, 'lr': 1.1187429966156205e-06, 'collect_input': True, 'collect_hs': True} because of the following error: KeyError('projgrad2').\n",
      "Traceback (most recent call last):\n",
      "  File \"/workspace/repr-preference-optimization/.venv/lib/python3.11/site-packages/optuna/study/_optimize.py\", line 197, in _run_trial\n",
      "    value_or_values = func(trial)\n",
      "                      ^^^^^^^^^^^\n",
      "  File \"/tmp/ipykernel_1099294/2880211868.py\", line 20, in objective\n",
      "    r = objective_func(kwargs, trial, starter_experiment_name)\n",
      "        ^^^^^^^^^^^^^^^^^^^^^^^^^^^^^^^^^^^^^^^^^^^^^^^^^^^^^^\n",
      "  File \"/tmp/ipykernel_1099294/2880211868.py\", line 10, in objective_func\n",
      "    cfg = copy.deepcopy(experiment_configs[starter_experiment_name][1])\n",
      "                        ~~~~~~~~~~~~~~~~~~^^^^^^^^^^^^^^^^^^^^^^^^^\n",
      "KeyError: 'projgrad2'\n",
      "[W 2024-10-03 12:47:10,951] Trial 179 failed with value None.\n",
      "[W 2024-10-03 12:47:12,097] Trial 180 failed with parameters: {'β': 0.3427309254279072, 'reverse_pref': True, 'scale_orth': False, 'weight_dim': 1, 'neg_slope': 0.5, 'mag_clip': 100, 'lr': 0.0007462682051049925, 'collect_input': True, 'collect_hs': False} because of the following error: KeyError('projgrad2').\n",
      "Traceback (most recent call last):\n",
      "  File \"/workspace/repr-preference-optimization/.venv/lib/python3.11/site-packages/optuna/study/_optimize.py\", line 197, in _run_trial\n",
      "    value_or_values = func(trial)\n",
      "                      ^^^^^^^^^^^\n",
      "  File \"/tmp/ipykernel_1099294/2880211868.py\", line 20, in objective\n",
      "    r = objective_func(kwargs, trial, starter_experiment_name)\n",
      "        ^^^^^^^^^^^^^^^^^^^^^^^^^^^^^^^^^^^^^^^^^^^^^^^^^^^^^^\n",
      "  File \"/tmp/ipykernel_1099294/2880211868.py\", line 10, in objective_func\n",
      "    cfg = copy.deepcopy(experiment_configs[starter_experiment_name][1])\n",
      "                        ~~~~~~~~~~~~~~~~~~^^^^^^^^^^^^^^^^^^^^^^^^^\n",
      "KeyError: 'projgrad2'\n",
      "[W 2024-10-03 12:47:12,101] Trial 180 failed with value None.\n",
      "[W 2024-10-03 12:47:12,952] Trial 181 failed with parameters: {'β': 0.3799790789653946, 'reverse_pref': True, 'scale_orth': True, 'weight_dim': 0, 'neg_slope': 0.1, 'mag_clip': 0.03, 'lr': 0.00010411703405507752, 'collect_input': True, 'collect_hs': False} because of the following error: KeyError('projgrad2').\n",
      "Traceback (most recent call last):\n",
      "  File \"/workspace/repr-preference-optimization/.venv/lib/python3.11/site-packages/optuna/study/_optimize.py\", line 197, in _run_trial\n",
      "    value_or_values = func(trial)\n",
      "                      ^^^^^^^^^^^\n",
      "  File \"/tmp/ipykernel_1099294/2880211868.py\", line 20, in objective\n",
      "    r = objective_func(kwargs, trial, starter_experiment_name)\n",
      "        ^^^^^^^^^^^^^^^^^^^^^^^^^^^^^^^^^^^^^^^^^^^^^^^^^^^^^^\n",
      "  File \"/tmp/ipykernel_1099294/2880211868.py\", line 10, in objective_func\n",
      "    cfg = copy.deepcopy(experiment_configs[starter_experiment_name][1])\n",
      "                        ~~~~~~~~~~~~~~~~~~^^^^^^^^^^^^^^^^^^^^^^^^^\n",
      "KeyError: 'projgrad2'\n",
      "[W 2024-10-03 12:47:12,954] Trial 181 failed with value None.\n",
      "[W 2024-10-03 12:47:13,810] Trial 182 failed with parameters: {'β': 0.12832586218876452, 'reverse_pref': False, 'scale_orth': False, 'weight_dim': 2, 'neg_slope': 0.01, 'mag_clip': 100, 'lr': 2.109277296685529e-06, 'collect_input': False, 'collect_hs': True} because of the following error: KeyError('projgrad2').\n",
      "Traceback (most recent call last):\n",
      "  File \"/workspace/repr-preference-optimization/.venv/lib/python3.11/site-packages/optuna/study/_optimize.py\", line 197, in _run_trial\n",
      "    value_or_values = func(trial)\n",
      "                      ^^^^^^^^^^^\n",
      "  File \"/tmp/ipykernel_1099294/2880211868.py\", line 20, in objective\n",
      "    r = objective_func(kwargs, trial, starter_experiment_name)\n",
      "        ^^^^^^^^^^^^^^^^^^^^^^^^^^^^^^^^^^^^^^^^^^^^^^^^^^^^^^\n",
      "  File \"/tmp/ipykernel_1099294/2880211868.py\", line 10, in objective_func\n",
      "    cfg = copy.deepcopy(experiment_configs[starter_experiment_name][1])\n",
      "                        ~~~~~~~~~~~~~~~~~~^^^^^^^^^^^^^^^^^^^^^^^^^\n",
      "KeyError: 'projgrad2'\n",
      "[W 2024-10-03 12:47:13,814] Trial 182 failed with value None.\n",
      "[W 2024-10-03 12:47:14,712] Trial 183 failed with parameters: {'β': 0.05702691400361937, 'reverse_pref': False, 'scale_orth': True, 'weight_dim': 1, 'neg_slope': 0, 'mag_clip': 0.1, 'lr': 8.37329870501464e-05, 'collect_input': True, 'collect_hs': True} because of the following error: KeyError('projgrad2').\n",
      "Traceback (most recent call last):\n",
      "  File \"/workspace/repr-preference-optimization/.venv/lib/python3.11/site-packages/optuna/study/_optimize.py\", line 197, in _run_trial\n",
      "    value_or_values = func(trial)\n",
      "                      ^^^^^^^^^^^\n",
      "  File \"/tmp/ipykernel_1099294/2880211868.py\", line 20, in objective\n",
      "    r = objective_func(kwargs, trial, starter_experiment_name)\n",
      "        ^^^^^^^^^^^^^^^^^^^^^^^^^^^^^^^^^^^^^^^^^^^^^^^^^^^^^^\n",
      "  File \"/tmp/ipykernel_1099294/2880211868.py\", line 10, in objective_func\n",
      "    cfg = copy.deepcopy(experiment_configs[starter_experiment_name][1])\n",
      "                        ~~~~~~~~~~~~~~~~~~^^^^^^^^^^^^^^^^^^^^^^^^^\n",
      "KeyError: 'projgrad2'\n",
      "[W 2024-10-03 12:47:14,714] Trial 183 failed with value None.\n",
      "[W 2024-10-03 12:47:15,900] Trial 184 failed with parameters: {'β': 0.3586215819535914, 'reverse_pref': True, 'scale_orth': True, 'weight_dim': 2, 'neg_slope': 1, 'mag_clip': 100, 'lr': 1.359933403094884e-05, 'collect_input': False, 'collect_hs': True} because of the following error: KeyError('projgrad2').\n",
      "Traceback (most recent call last):\n",
      "  File \"/workspace/repr-preference-optimization/.venv/lib/python3.11/site-packages/optuna/study/_optimize.py\", line 197, in _run_trial\n",
      "    value_or_values = func(trial)\n",
      "                      ^^^^^^^^^^^\n",
      "  File \"/tmp/ipykernel_1099294/2880211868.py\", line 20, in objective\n",
      "    r = objective_func(kwargs, trial, starter_experiment_name)\n",
      "        ^^^^^^^^^^^^^^^^^^^^^^^^^^^^^^^^^^^^^^^^^^^^^^^^^^^^^^\n",
      "  File \"/tmp/ipykernel_1099294/2880211868.py\", line 10, in objective_func\n",
      "    cfg = copy.deepcopy(experiment_configs[starter_experiment_name][1])\n",
      "                        ~~~~~~~~~~~~~~~~~~^^^^^^^^^^^^^^^^^^^^^^^^^\n",
      "KeyError: 'projgrad2'\n",
      "[W 2024-10-03 12:47:15,910] Trial 184 failed with value None.\n",
      "[W 2024-10-03 12:47:16,840] Trial 185 failed with parameters: {'β': 0.658102218056492, 'reverse_pref': True, 'scale_orth': False, 'weight_dim': 0, 'neg_slope': 0, 'mag_clip': 10, 'lr': 2.7055064176152698e-05, 'collect_input': True, 'collect_hs': True} because of the following error: KeyError('projgrad2').\n",
      "Traceback (most recent call last):\n",
      "  File \"/workspace/repr-preference-optimization/.venv/lib/python3.11/site-packages/optuna/study/_optimize.py\", line 197, in _run_trial\n",
      "    value_or_values = func(trial)\n",
      "                      ^^^^^^^^^^^\n",
      "  File \"/tmp/ipykernel_1099294/2880211868.py\", line 20, in objective\n",
      "    r = objective_func(kwargs, trial, starter_experiment_name)\n",
      "        ^^^^^^^^^^^^^^^^^^^^^^^^^^^^^^^^^^^^^^^^^^^^^^^^^^^^^^\n",
      "  File \"/tmp/ipykernel_1099294/2880211868.py\", line 10, in objective_func\n",
      "    cfg = copy.deepcopy(experiment_configs[starter_experiment_name][1])\n",
      "                        ~~~~~~~~~~~~~~~~~~^^^^^^^^^^^^^^^^^^^^^^^^^\n",
      "KeyError: 'projgrad2'\n",
      "[W 2024-10-03 12:47:16,841] Trial 185 failed with value None.\n",
      "[W 2024-10-03 12:47:17,753] Trial 186 failed with parameters: {'β': 0.1268240225504188, 'reverse_pref': True, 'scale_orth': True, 'weight_dim': 0, 'neg_slope': 0.1, 'mag_clip': 1.0, 'lr': 2.6940668688753144e-06, 'collect_input': False, 'collect_hs': True} because of the following error: KeyError('projgrad2').\n",
      "Traceback (most recent call last):\n",
      "  File \"/workspace/repr-preference-optimization/.venv/lib/python3.11/site-packages/optuna/study/_optimize.py\", line 197, in _run_trial\n",
      "    value_or_values = func(trial)\n",
      "                      ^^^^^^^^^^^\n",
      "  File \"/tmp/ipykernel_1099294/2880211868.py\", line 20, in objective\n",
      "    r = objective_func(kwargs, trial, starter_experiment_name)\n",
      "        ^^^^^^^^^^^^^^^^^^^^^^^^^^^^^^^^^^^^^^^^^^^^^^^^^^^^^^\n",
      "  File \"/tmp/ipykernel_1099294/2880211868.py\", line 10, in objective_func\n",
      "    cfg = copy.deepcopy(experiment_configs[starter_experiment_name][1])\n",
      "                        ~~~~~~~~~~~~~~~~~~^^^^^^^^^^^^^^^^^^^^^^^^^\n",
      "KeyError: 'projgrad2'\n",
      "[W 2024-10-03 12:47:17,759] Trial 186 failed with value None.\n",
      "[W 2024-10-03 12:47:18,660] Trial 187 failed with parameters: {'β': 0.9395685890251657, 'reverse_pref': True, 'scale_orth': True, 'weight_dim': 1, 'neg_slope': 1, 'mag_clip': 0.1, 'lr': 3.5387501240156015e-05, 'collect_input': False, 'collect_hs': True} because of the following error: KeyError('projgrad2').\n",
      "Traceback (most recent call last):\n",
      "  File \"/workspace/repr-preference-optimization/.venv/lib/python3.11/site-packages/optuna/study/_optimize.py\", line 197, in _run_trial\n",
      "    value_or_values = func(trial)\n",
      "                      ^^^^^^^^^^^\n",
      "  File \"/tmp/ipykernel_1099294/2880211868.py\", line 20, in objective\n",
      "    r = objective_func(kwargs, trial, starter_experiment_name)\n",
      "        ^^^^^^^^^^^^^^^^^^^^^^^^^^^^^^^^^^^^^^^^^^^^^^^^^^^^^^\n",
      "  File \"/tmp/ipykernel_1099294/2880211868.py\", line 10, in objective_func\n",
      "    cfg = copy.deepcopy(experiment_configs[starter_experiment_name][1])\n",
      "                        ~~~~~~~~~~~~~~~~~~^^^^^^^^^^^^^^^^^^^^^^^^^\n",
      "KeyError: 'projgrad2'\n",
      "[W 2024-10-03 12:47:18,662] Trial 187 failed with value None.\n",
      "[W 2024-10-03 12:47:19,598] Trial 188 failed with parameters: {'β': 0.8096750362658893, 'reverse_pref': True, 'scale_orth': True, 'weight_dim': 2, 'neg_slope': 0.5, 'mag_clip': 0.1, 'lr': 0.00028937616276676815, 'collect_input': True, 'collect_hs': False} because of the following error: KeyError('projgrad2').\n",
      "Traceback (most recent call last):\n",
      "  File \"/workspace/repr-preference-optimization/.venv/lib/python3.11/site-packages/optuna/study/_optimize.py\", line 197, in _run_trial\n",
      "    value_or_values = func(trial)\n",
      "                      ^^^^^^^^^^^\n",
      "  File \"/tmp/ipykernel_1099294/2880211868.py\", line 20, in objective\n",
      "    r = objective_func(kwargs, trial, starter_experiment_name)\n",
      "        ^^^^^^^^^^^^^^^^^^^^^^^^^^^^^^^^^^^^^^^^^^^^^^^^^^^^^^\n",
      "  File \"/tmp/ipykernel_1099294/2880211868.py\", line 10, in objective_func\n",
      "    cfg = copy.deepcopy(experiment_configs[starter_experiment_name][1])\n",
      "                        ~~~~~~~~~~~~~~~~~~^^^^^^^^^^^^^^^^^^^^^^^^^\n",
      "KeyError: 'projgrad2'\n",
      "[W 2024-10-03 12:47:19,607] Trial 188 failed with value None.\n",
      "[W 2024-10-03 12:47:20,546] Trial 189 failed with parameters: {'β': 0.5546870247883672, 'reverse_pref': True, 'scale_orth': True, 'weight_dim': 1, 'neg_slope': 0, 'mag_clip': 1.0, 'lr': 9.990010163875265e-05, 'collect_input': False, 'collect_hs': False} because of the following error: KeyError('projgrad2').\n",
      "Traceback (most recent call last):\n",
      "  File \"/workspace/repr-preference-optimization/.venv/lib/python3.11/site-packages/optuna/study/_optimize.py\", line 197, in _run_trial\n",
      "    value_or_values = func(trial)\n",
      "                      ^^^^^^^^^^^\n",
      "  File \"/tmp/ipykernel_1099294/2880211868.py\", line 20, in objective\n",
      "    r = objective_func(kwargs, trial, starter_experiment_name)\n",
      "        ^^^^^^^^^^^^^^^^^^^^^^^^^^^^^^^^^^^^^^^^^^^^^^^^^^^^^^\n",
      "  File \"/tmp/ipykernel_1099294/2880211868.py\", line 10, in objective_func\n",
      "    cfg = copy.deepcopy(experiment_configs[starter_experiment_name][1])\n",
      "                        ~~~~~~~~~~~~~~~~~~^^^^^^^^^^^^^^^^^^^^^^^^^\n",
      "KeyError: 'projgrad2'\n",
      "[W 2024-10-03 12:47:20,548] Trial 189 failed with value None.\n",
      "[W 2024-10-03 12:47:21,394] Trial 190 failed with parameters: {'β': 0.20229394915820365, 'reverse_pref': True, 'scale_orth': False, 'weight_dim': 1, 'neg_slope': 0.01, 'mag_clip': 10, 'lr': 1.9679907569061084e-06, 'collect_input': False, 'collect_hs': False} because of the following error: KeyError('projgrad2').\n",
      "Traceback (most recent call last):\n",
      "  File \"/workspace/repr-preference-optimization/.venv/lib/python3.11/site-packages/optuna/study/_optimize.py\", line 197, in _run_trial\n",
      "    value_or_values = func(trial)\n",
      "                      ^^^^^^^^^^^\n",
      "  File \"/tmp/ipykernel_1099294/2880211868.py\", line 20, in objective\n",
      "    r = objective_func(kwargs, trial, starter_experiment_name)\n",
      "        ^^^^^^^^^^^^^^^^^^^^^^^^^^^^^^^^^^^^^^^^^^^^^^^^^^^^^^\n",
      "  File \"/tmp/ipykernel_1099294/2880211868.py\", line 10, in objective_func\n",
      "    cfg = copy.deepcopy(experiment_configs[starter_experiment_name][1])\n",
      "                        ~~~~~~~~~~~~~~~~~~^^^^^^^^^^^^^^^^^^^^^^^^^\n",
      "KeyError: 'projgrad2'\n",
      "[W 2024-10-03 12:47:21,398] Trial 190 failed with value None.\n",
      "[W 2024-10-03 12:47:22,278] Trial 191 failed with parameters: {'β': 0.0455851579486688, 'reverse_pref': True, 'scale_orth': True, 'weight_dim': 0, 'neg_slope': 0.1, 'mag_clip': None, 'lr': 1.029348250881882e-06, 'collect_input': True, 'collect_hs': False} because of the following error: KeyError('projgrad2').\n",
      "Traceback (most recent call last):\n",
      "  File \"/workspace/repr-preference-optimization/.venv/lib/python3.11/site-packages/optuna/study/_optimize.py\", line 197, in _run_trial\n",
      "    value_or_values = func(trial)\n",
      "                      ^^^^^^^^^^^\n",
      "  File \"/tmp/ipykernel_1099294/2880211868.py\", line 20, in objective\n",
      "    r = objective_func(kwargs, trial, starter_experiment_name)\n",
      "        ^^^^^^^^^^^^^^^^^^^^^^^^^^^^^^^^^^^^^^^^^^^^^^^^^^^^^^\n",
      "  File \"/tmp/ipykernel_1099294/2880211868.py\", line 10, in objective_func\n",
      "    cfg = copy.deepcopy(experiment_configs[starter_experiment_name][1])\n",
      "                        ~~~~~~~~~~~~~~~~~~^^^^^^^^^^^^^^^^^^^^^^^^^\n",
      "KeyError: 'projgrad2'\n",
      "[W 2024-10-03 12:47:22,280] Trial 191 failed with value None.\n",
      "[W 2024-10-03 12:47:23,128] Trial 192 failed with parameters: {'β': 0.4154430005920896, 'reverse_pref': False, 'scale_orth': True, 'weight_dim': 2, 'neg_slope': 0.01, 'mag_clip': 100, 'lr': 1.65274116153484e-06, 'collect_input': False, 'collect_hs': False} because of the following error: KeyError('projgrad2').\n",
      "Traceback (most recent call last):\n",
      "  File \"/workspace/repr-preference-optimization/.venv/lib/python3.11/site-packages/optuna/study/_optimize.py\", line 197, in _run_trial\n",
      "    value_or_values = func(trial)\n",
      "                      ^^^^^^^^^^^\n",
      "  File \"/tmp/ipykernel_1099294/2880211868.py\", line 20, in objective\n",
      "    r = objective_func(kwargs, trial, starter_experiment_name)\n",
      "        ^^^^^^^^^^^^^^^^^^^^^^^^^^^^^^^^^^^^^^^^^^^^^^^^^^^^^^\n",
      "  File \"/tmp/ipykernel_1099294/2880211868.py\", line 10, in objective_func\n",
      "    cfg = copy.deepcopy(experiment_configs[starter_experiment_name][1])\n",
      "                        ~~~~~~~~~~~~~~~~~~^^^^^^^^^^^^^^^^^^^^^^^^^\n",
      "KeyError: 'projgrad2'\n",
      "[W 2024-10-03 12:47:23,132] Trial 192 failed with value None.\n",
      "[W 2024-10-03 12:47:24,034] Trial 193 failed with parameters: {'β': 0.24067051475715306, 'reverse_pref': True, 'scale_orth': False, 'weight_dim': 1, 'neg_slope': 0, 'mag_clip': 1.0, 'lr': 2.6300386464269296e-06, 'collect_input': False, 'collect_hs': False} because of the following error: KeyError('projgrad2').\n",
      "Traceback (most recent call last):\n",
      "  File \"/workspace/repr-preference-optimization/.venv/lib/python3.11/site-packages/optuna/study/_optimize.py\", line 197, in _run_trial\n",
      "    value_or_values = func(trial)\n",
      "                      ^^^^^^^^^^^\n",
      "  File \"/tmp/ipykernel_1099294/2880211868.py\", line 20, in objective\n",
      "    r = objective_func(kwargs, trial, starter_experiment_name)\n",
      "        ^^^^^^^^^^^^^^^^^^^^^^^^^^^^^^^^^^^^^^^^^^^^^^^^^^^^^^\n",
      "  File \"/tmp/ipykernel_1099294/2880211868.py\", line 10, in objective_func\n",
      "    cfg = copy.deepcopy(experiment_configs[starter_experiment_name][1])\n",
      "                        ~~~~~~~~~~~~~~~~~~^^^^^^^^^^^^^^^^^^^^^^^^^\n",
      "KeyError: 'projgrad2'\n",
      "[W 2024-10-03 12:47:24,036] Trial 193 failed with value None.\n",
      "[W 2024-10-03 12:47:24,962] Trial 194 failed with parameters: {'β': 0.9965263087986191, 'reverse_pref': False, 'scale_orth': True, 'weight_dim': 0, 'neg_slope': 0.5, 'mag_clip': 0.03, 'lr': 3.0505173695369846e-06, 'collect_input': False, 'collect_hs': True} because of the following error: KeyError('projgrad2').\n",
      "Traceback (most recent call last):\n",
      "  File \"/workspace/repr-preference-optimization/.venv/lib/python3.11/site-packages/optuna/study/_optimize.py\", line 197, in _run_trial\n",
      "    value_or_values = func(trial)\n",
      "                      ^^^^^^^^^^^\n",
      "  File \"/tmp/ipykernel_1099294/2880211868.py\", line 20, in objective\n",
      "    r = objective_func(kwargs, trial, starter_experiment_name)\n",
      "        ^^^^^^^^^^^^^^^^^^^^^^^^^^^^^^^^^^^^^^^^^^^^^^^^^^^^^^\n",
      "  File \"/tmp/ipykernel_1099294/2880211868.py\", line 10, in objective_func\n",
      "    cfg = copy.deepcopy(experiment_configs[starter_experiment_name][1])\n",
      "                        ~~~~~~~~~~~~~~~~~~^^^^^^^^^^^^^^^^^^^^^^^^^\n",
      "KeyError: 'projgrad2'\n",
      "[W 2024-10-03 12:47:24,966] Trial 194 failed with value None.\n",
      "[W 2024-10-03 12:47:25,832] Trial 195 failed with parameters: {'β': 0.7422713922522868, 'reverse_pref': False, 'scale_orth': True, 'weight_dim': 0, 'neg_slope': 0.1, 'mag_clip': 1.0, 'lr': 1.0456662077306431e-06, 'collect_input': True, 'collect_hs': True} because of the following error: KeyError('projgrad2').\n",
      "Traceback (most recent call last):\n",
      "  File \"/workspace/repr-preference-optimization/.venv/lib/python3.11/site-packages/optuna/study/_optimize.py\", line 197, in _run_trial\n",
      "    value_or_values = func(trial)\n",
      "                      ^^^^^^^^^^^\n",
      "  File \"/tmp/ipykernel_1099294/2880211868.py\", line 20, in objective\n",
      "    r = objective_func(kwargs, trial, starter_experiment_name)\n",
      "        ^^^^^^^^^^^^^^^^^^^^^^^^^^^^^^^^^^^^^^^^^^^^^^^^^^^^^^\n",
      "  File \"/tmp/ipykernel_1099294/2880211868.py\", line 10, in objective_func\n",
      "    cfg = copy.deepcopy(experiment_configs[starter_experiment_name][1])\n",
      "                        ~~~~~~~~~~~~~~~~~~^^^^^^^^^^^^^^^^^^^^^^^^^\n",
      "KeyError: 'projgrad2'\n",
      "[W 2024-10-03 12:47:25,834] Trial 195 failed with value None.\n",
      "[W 2024-10-03 12:47:26,707] Trial 196 failed with parameters: {'β': 0.5848278113057909, 'reverse_pref': True, 'scale_orth': True, 'weight_dim': 1, 'neg_slope': 0.5, 'mag_clip': 0.5, 'lr': 0.0001776559649452346, 'collect_input': True, 'collect_hs': False} because of the following error: KeyError('projgrad2').\n",
      "Traceback (most recent call last):\n",
      "  File \"/workspace/repr-preference-optimization/.venv/lib/python3.11/site-packages/optuna/study/_optimize.py\", line 197, in _run_trial\n",
      "    value_or_values = func(trial)\n",
      "                      ^^^^^^^^^^^\n",
      "  File \"/tmp/ipykernel_1099294/2880211868.py\", line 20, in objective\n",
      "    r = objective_func(kwargs, trial, starter_experiment_name)\n",
      "        ^^^^^^^^^^^^^^^^^^^^^^^^^^^^^^^^^^^^^^^^^^^^^^^^^^^^^^\n",
      "  File \"/tmp/ipykernel_1099294/2880211868.py\", line 10, in objective_func\n",
      "    cfg = copy.deepcopy(experiment_configs[starter_experiment_name][1])\n",
      "                        ~~~~~~~~~~~~~~~~~~^^^^^^^^^^^^^^^^^^^^^^^^^\n",
      "KeyError: 'projgrad2'\n",
      "[W 2024-10-03 12:47:26,714] Trial 196 failed with value None.\n",
      "[W 2024-10-03 12:47:27,630] Trial 197 failed with parameters: {'β': 0.19864457689740578, 'reverse_pref': False, 'scale_orth': False, 'weight_dim': 1, 'neg_slope': 0, 'mag_clip': 0.5, 'lr': 0.0002488670163334835, 'collect_input': True, 'collect_hs': False} because of the following error: KeyError('projgrad2').\n",
      "Traceback (most recent call last):\n",
      "  File \"/workspace/repr-preference-optimization/.venv/lib/python3.11/site-packages/optuna/study/_optimize.py\", line 197, in _run_trial\n",
      "    value_or_values = func(trial)\n",
      "                      ^^^^^^^^^^^\n",
      "  File \"/tmp/ipykernel_1099294/2880211868.py\", line 20, in objective\n",
      "    r = objective_func(kwargs, trial, starter_experiment_name)\n",
      "        ^^^^^^^^^^^^^^^^^^^^^^^^^^^^^^^^^^^^^^^^^^^^^^^^^^^^^^\n",
      "  File \"/tmp/ipykernel_1099294/2880211868.py\", line 10, in objective_func\n",
      "    cfg = copy.deepcopy(experiment_configs[starter_experiment_name][1])\n",
      "                        ~~~~~~~~~~~~~~~~~~^^^^^^^^^^^^^^^^^^^^^^^^^\n",
      "KeyError: 'projgrad2'\n",
      "[W 2024-10-03 12:47:27,632] Trial 197 failed with value None.\n",
      "[W 2024-10-03 12:47:28,554] Trial 198 failed with parameters: {'β': 0.45851856218701537, 'reverse_pref': False, 'scale_orth': False, 'weight_dim': 2, 'neg_slope': 0.1, 'mag_clip': None, 'lr': 5.214337675362313e-06, 'collect_input': False, 'collect_hs': False} because of the following error: KeyError('projgrad2').\n",
      "Traceback (most recent call last):\n",
      "  File \"/workspace/repr-preference-optimization/.venv/lib/python3.11/site-packages/optuna/study/_optimize.py\", line 197, in _run_trial\n",
      "    value_or_values = func(trial)\n",
      "                      ^^^^^^^^^^^\n",
      "  File \"/tmp/ipykernel_1099294/2880211868.py\", line 20, in objective\n",
      "    r = objective_func(kwargs, trial, starter_experiment_name)\n",
      "        ^^^^^^^^^^^^^^^^^^^^^^^^^^^^^^^^^^^^^^^^^^^^^^^^^^^^^^\n",
      "  File \"/tmp/ipykernel_1099294/2880211868.py\", line 10, in objective_func\n",
      "    cfg = copy.deepcopy(experiment_configs[starter_experiment_name][1])\n",
      "                        ~~~~~~~~~~~~~~~~~~^^^^^^^^^^^^^^^^^^^^^^^^^\n",
      "KeyError: 'projgrad2'\n",
      "[W 2024-10-03 12:47:28,560] Trial 198 failed with value None.\n",
      "[W 2024-10-03 12:47:29,400] Trial 199 failed with parameters: {'β': 0.20969027743020086, 'reverse_pref': True, 'scale_orth': True, 'weight_dim': 2, 'neg_slope': 0.1, 'mag_clip': 0.03, 'lr': 8.622947213812408e-05, 'collect_input': True, 'collect_hs': True} because of the following error: KeyError('projgrad2').\n",
      "Traceback (most recent call last):\n",
      "  File \"/workspace/repr-preference-optimization/.venv/lib/python3.11/site-packages/optuna/study/_optimize.py\", line 197, in _run_trial\n",
      "    value_or_values = func(trial)\n",
      "                      ^^^^^^^^^^^\n",
      "  File \"/tmp/ipykernel_1099294/2880211868.py\", line 20, in objective\n",
      "    r = objective_func(kwargs, trial, starter_experiment_name)\n",
      "        ^^^^^^^^^^^^^^^^^^^^^^^^^^^^^^^^^^^^^^^^^^^^^^^^^^^^^^\n",
      "  File \"/tmp/ipykernel_1099294/2880211868.py\", line 10, in objective_func\n",
      "    cfg = copy.deepcopy(experiment_configs[starter_experiment_name][1])\n",
      "                        ~~~~~~~~~~~~~~~~~~^^^^^^^^^^^^^^^^^^^^^^^^^\n",
      "KeyError: 'projgrad2'\n",
      "[W 2024-10-03 12:47:29,401] Trial 199 failed with value None.\n",
      "[W 2024-10-03 12:47:30,231] Trial 200 failed with parameters: {'β': 0.19863161386186912, 'reverse_pref': False, 'scale_orth': False, 'weight_dim': 2, 'neg_slope': 0.1, 'mag_clip': 100, 'lr': 8.079769146593975e-06, 'collect_input': True, 'collect_hs': True} because of the following error: KeyError('projgrad2').\n",
      "Traceback (most recent call last):\n",
      "  File \"/workspace/repr-preference-optimization/.venv/lib/python3.11/site-packages/optuna/study/_optimize.py\", line 197, in _run_trial\n",
      "    value_or_values = func(trial)\n",
      "                      ^^^^^^^^^^^\n",
      "  File \"/tmp/ipykernel_1099294/2880211868.py\", line 20, in objective\n",
      "    r = objective_func(kwargs, trial, starter_experiment_name)\n",
      "        ^^^^^^^^^^^^^^^^^^^^^^^^^^^^^^^^^^^^^^^^^^^^^^^^^^^^^^\n",
      "  File \"/tmp/ipykernel_1099294/2880211868.py\", line 10, in objective_func\n",
      "    cfg = copy.deepcopy(experiment_configs[starter_experiment_name][1])\n",
      "                        ~~~~~~~~~~~~~~~~~~^^^^^^^^^^^^^^^^^^^^^^^^^\n",
      "KeyError: 'projgrad2'\n",
      "[W 2024-10-03 12:47:30,234] Trial 200 failed with value None.\n",
      "[W 2024-10-03 12:47:31,039] Trial 201 failed with parameters: {'β': 0.690322846900729, 'reverse_pref': True, 'scale_orth': False, 'weight_dim': 1, 'neg_slope': 1, 'mag_clip': 0.03, 'lr': 8.684776451843274e-06, 'collect_input': True, 'collect_hs': False} because of the following error: KeyError('projgrad2').\n",
      "Traceback (most recent call last):\n",
      "  File \"/workspace/repr-preference-optimization/.venv/lib/python3.11/site-packages/optuna/study/_optimize.py\", line 197, in _run_trial\n",
      "    value_or_values = func(trial)\n",
      "                      ^^^^^^^^^^^\n",
      "  File \"/tmp/ipykernel_1099294/2880211868.py\", line 20, in objective\n",
      "    r = objective_func(kwargs, trial, starter_experiment_name)\n",
      "        ^^^^^^^^^^^^^^^^^^^^^^^^^^^^^^^^^^^^^^^^^^^^^^^^^^^^^^\n",
      "  File \"/tmp/ipykernel_1099294/2880211868.py\", line 10, in objective_func\n",
      "    cfg = copy.deepcopy(experiment_configs[starter_experiment_name][1])\n",
      "                        ~~~~~~~~~~~~~~~~~~^^^^^^^^^^^^^^^^^^^^^^^^^\n",
      "KeyError: 'projgrad2'\n",
      "[W 2024-10-03 12:47:31,041] Trial 201 failed with value None.\n",
      "[W 2024-10-03 12:47:31,878] Trial 202 failed with parameters: {'β': 0.6777232412013204, 'reverse_pref': False, 'scale_orth': True, 'weight_dim': 2, 'neg_slope': 0.01, 'mag_clip': 100, 'lr': 0.000308097480646938, 'collect_input': True, 'collect_hs': True} because of the following error: KeyError('projgrad2').\n",
      "Traceback (most recent call last):\n",
      "  File \"/workspace/repr-preference-optimization/.venv/lib/python3.11/site-packages/optuna/study/_optimize.py\", line 197, in _run_trial\n",
      "    value_or_values = func(trial)\n",
      "                      ^^^^^^^^^^^\n",
      "  File \"/tmp/ipykernel_1099294/2880211868.py\", line 20, in objective\n",
      "    r = objective_func(kwargs, trial, starter_experiment_name)\n",
      "        ^^^^^^^^^^^^^^^^^^^^^^^^^^^^^^^^^^^^^^^^^^^^^^^^^^^^^^\n",
      "  File \"/tmp/ipykernel_1099294/2880211868.py\", line 10, in objective_func\n",
      "    cfg = copy.deepcopy(experiment_configs[starter_experiment_name][1])\n",
      "                        ~~~~~~~~~~~~~~~~~~^^^^^^^^^^^^^^^^^^^^^^^^^\n",
      "KeyError: 'projgrad2'\n",
      "[W 2024-10-03 12:47:31,882] Trial 202 failed with value None.\n",
      "[W 2024-10-03 12:47:32,732] Trial 203 failed with parameters: {'β': 0.6970241660042995, 'reverse_pref': False, 'scale_orth': True, 'weight_dim': 1, 'neg_slope': 0.1, 'mag_clip': 0.1, 'lr': 1.076826892675678e-06, 'collect_input': False, 'collect_hs': True} because of the following error: KeyError('projgrad2').\n",
      "Traceback (most recent call last):\n",
      "  File \"/workspace/repr-preference-optimization/.venv/lib/python3.11/site-packages/optuna/study/_optimize.py\", line 197, in _run_trial\n",
      "    value_or_values = func(trial)\n",
      "                      ^^^^^^^^^^^\n",
      "  File \"/tmp/ipykernel_1099294/2880211868.py\", line 20, in objective\n",
      "    r = objective_func(kwargs, trial, starter_experiment_name)\n",
      "        ^^^^^^^^^^^^^^^^^^^^^^^^^^^^^^^^^^^^^^^^^^^^^^^^^^^^^^\n",
      "  File \"/tmp/ipykernel_1099294/2880211868.py\", line 10, in objective_func\n",
      "    cfg = copy.deepcopy(experiment_configs[starter_experiment_name][1])\n",
      "                        ~~~~~~~~~~~~~~~~~~^^^^^^^^^^^^^^^^^^^^^^^^^\n",
      "KeyError: 'projgrad2'\n",
      "[W 2024-10-03 12:47:32,734] Trial 203 failed with value None.\n",
      "[W 2024-10-03 12:47:33,560] Trial 204 failed with parameters: {'β': 0.3440916178494421, 'reverse_pref': True, 'scale_orth': True, 'weight_dim': 1, 'neg_slope': 0.01, 'mag_clip': 10, 'lr': 1.8067968358751755e-05, 'collect_input': True, 'collect_hs': True} because of the following error: KeyError('projgrad2').\n",
      "Traceback (most recent call last):\n",
      "  File \"/workspace/repr-preference-optimization/.venv/lib/python3.11/site-packages/optuna/study/_optimize.py\", line 197, in _run_trial\n",
      "    value_or_values = func(trial)\n",
      "                      ^^^^^^^^^^^\n",
      "  File \"/tmp/ipykernel_1099294/2880211868.py\", line 20, in objective\n",
      "    r = objective_func(kwargs, trial, starter_experiment_name)\n",
      "        ^^^^^^^^^^^^^^^^^^^^^^^^^^^^^^^^^^^^^^^^^^^^^^^^^^^^^^\n",
      "  File \"/tmp/ipykernel_1099294/2880211868.py\", line 10, in objective_func\n",
      "    cfg = copy.deepcopy(experiment_configs[starter_experiment_name][1])\n",
      "                        ~~~~~~~~~~~~~~~~~~^^^^^^^^^^^^^^^^^^^^^^^^^\n",
      "KeyError: 'projgrad2'\n",
      "[W 2024-10-03 12:47:33,565] Trial 204 failed with value None.\n",
      "[W 2024-10-03 12:47:34,347] Trial 205 failed with parameters: {'β': 0.3208545427498436, 'reverse_pref': False, 'scale_orth': False, 'weight_dim': 1, 'neg_slope': 0.1, 'mag_clip': None, 'lr': 0.0006115386103964399, 'collect_input': True, 'collect_hs': True} because of the following error: KeyError('projgrad2').\n",
      "Traceback (most recent call last):\n",
      "  File \"/workspace/repr-preference-optimization/.venv/lib/python3.11/site-packages/optuna/study/_optimize.py\", line 197, in _run_trial\n",
      "    value_or_values = func(trial)\n",
      "                      ^^^^^^^^^^^\n",
      "  File \"/tmp/ipykernel_1099294/2880211868.py\", line 20, in objective\n",
      "    r = objective_func(kwargs, trial, starter_experiment_name)\n",
      "        ^^^^^^^^^^^^^^^^^^^^^^^^^^^^^^^^^^^^^^^^^^^^^^^^^^^^^^\n",
      "  File \"/tmp/ipykernel_1099294/2880211868.py\", line 10, in objective_func\n",
      "    cfg = copy.deepcopy(experiment_configs[starter_experiment_name][1])\n",
      "                        ~~~~~~~~~~~~~~~~~~^^^^^^^^^^^^^^^^^^^^^^^^^\n",
      "KeyError: 'projgrad2'\n",
      "[W 2024-10-03 12:47:34,348] Trial 205 failed with value None.\n",
      "[W 2024-10-03 12:47:35,207] Trial 206 failed with parameters: {'β': 0.3748249243499977, 'reverse_pref': False, 'scale_orth': True, 'weight_dim': 2, 'neg_slope': 1, 'mag_clip': 100, 'lr': 1.070858495582509e-06, 'collect_input': True, 'collect_hs': True} because of the following error: KeyError('projgrad2').\n",
      "Traceback (most recent call last):\n",
      "  File \"/workspace/repr-preference-optimization/.venv/lib/python3.11/site-packages/optuna/study/_optimize.py\", line 197, in _run_trial\n",
      "    value_or_values = func(trial)\n",
      "                      ^^^^^^^^^^^\n",
      "  File \"/tmp/ipykernel_1099294/2880211868.py\", line 20, in objective\n",
      "    r = objective_func(kwargs, trial, starter_experiment_name)\n",
      "        ^^^^^^^^^^^^^^^^^^^^^^^^^^^^^^^^^^^^^^^^^^^^^^^^^^^^^^\n",
      "  File \"/tmp/ipykernel_1099294/2880211868.py\", line 10, in objective_func\n",
      "    cfg = copy.deepcopy(experiment_configs[starter_experiment_name][1])\n",
      "                        ~~~~~~~~~~~~~~~~~~^^^^^^^^^^^^^^^^^^^^^^^^^\n",
      "KeyError: 'projgrad2'\n",
      "[W 2024-10-03 12:47:35,212] Trial 206 failed with value None.\n",
      "[W 2024-10-03 12:47:36,308] Trial 207 failed with parameters: {'β': 0.9868959453882975, 'reverse_pref': True, 'scale_orth': False, 'weight_dim': 2, 'neg_slope': 0.01, 'mag_clip': 0.5, 'lr': 5.0199811133697805e-06, 'collect_input': False, 'collect_hs': True} because of the following error: KeyError('projgrad2').\n",
      "Traceback (most recent call last):\n",
      "  File \"/workspace/repr-preference-optimization/.venv/lib/python3.11/site-packages/optuna/study/_optimize.py\", line 197, in _run_trial\n",
      "    value_or_values = func(trial)\n",
      "                      ^^^^^^^^^^^\n",
      "  File \"/tmp/ipykernel_1099294/2880211868.py\", line 20, in objective\n",
      "    r = objective_func(kwargs, trial, starter_experiment_name)\n",
      "        ^^^^^^^^^^^^^^^^^^^^^^^^^^^^^^^^^^^^^^^^^^^^^^^^^^^^^^\n",
      "  File \"/tmp/ipykernel_1099294/2880211868.py\", line 10, in objective_func\n",
      "    cfg = copy.deepcopy(experiment_configs[starter_experiment_name][1])\n",
      "                        ~~~~~~~~~~~~~~~~~~^^^^^^^^^^^^^^^^^^^^^^^^^\n",
      "KeyError: 'projgrad2'\n",
      "[W 2024-10-03 12:47:36,313] Trial 207 failed with value None.\n",
      "[W 2024-10-03 12:47:37,170] Trial 208 failed with parameters: {'β': 0.41739478232914795, 'reverse_pref': False, 'scale_orth': True, 'weight_dim': 0, 'neg_slope': 0.01, 'mag_clip': 0.1, 'lr': 0.0005349195998498324, 'collect_input': False, 'collect_hs': True} because of the following error: KeyError('projgrad2').\n",
      "Traceback (most recent call last):\n",
      "  File \"/workspace/repr-preference-optimization/.venv/lib/python3.11/site-packages/optuna/study/_optimize.py\", line 197, in _run_trial\n",
      "    value_or_values = func(trial)\n",
      "                      ^^^^^^^^^^^\n",
      "  File \"/tmp/ipykernel_1099294/2880211868.py\", line 20, in objective\n",
      "    r = objective_func(kwargs, trial, starter_experiment_name)\n",
      "        ^^^^^^^^^^^^^^^^^^^^^^^^^^^^^^^^^^^^^^^^^^^^^^^^^^^^^^\n",
      "  File \"/tmp/ipykernel_1099294/2880211868.py\", line 10, in objective_func\n",
      "    cfg = copy.deepcopy(experiment_configs[starter_experiment_name][1])\n",
      "                        ~~~~~~~~~~~~~~~~~~^^^^^^^^^^^^^^^^^^^^^^^^^\n",
      "KeyError: 'projgrad2'\n",
      "[W 2024-10-03 12:47:37,172] Trial 208 failed with value None.\n",
      "[W 2024-10-03 12:47:37,963] Trial 209 failed with parameters: {'β': 0.9554481914380675, 'reverse_pref': False, 'scale_orth': False, 'weight_dim': 0, 'neg_slope': 0.1, 'mag_clip': None, 'lr': 3.0174444948273305e-06, 'collect_input': True, 'collect_hs': False} because of the following error: KeyError('projgrad2').\n",
      "Traceback (most recent call last):\n",
      "  File \"/workspace/repr-preference-optimization/.venv/lib/python3.11/site-packages/optuna/study/_optimize.py\", line 197, in _run_trial\n",
      "    value_or_values = func(trial)\n",
      "                      ^^^^^^^^^^^\n",
      "  File \"/tmp/ipykernel_1099294/2880211868.py\", line 20, in objective\n",
      "    r = objective_func(kwargs, trial, starter_experiment_name)\n",
      "        ^^^^^^^^^^^^^^^^^^^^^^^^^^^^^^^^^^^^^^^^^^^^^^^^^^^^^^\n",
      "  File \"/tmp/ipykernel_1099294/2880211868.py\", line 10, in objective_func\n",
      "    cfg = copy.deepcopy(experiment_configs[starter_experiment_name][1])\n",
      "                        ~~~~~~~~~~~~~~~~~~^^^^^^^^^^^^^^^^^^^^^^^^^\n",
      "KeyError: 'projgrad2'\n",
      "[W 2024-10-03 12:47:37,966] Trial 209 failed with value None.\n",
      "[W 2024-10-03 12:47:38,713] Trial 210 failed with parameters: {'β': 0.7964405615234773, 'reverse_pref': True, 'scale_orth': False, 'weight_dim': 0, 'neg_slope': 1, 'mag_clip': None, 'lr': 0.00019523043907098374, 'collect_input': False, 'collect_hs': False} because of the following error: KeyError('projgrad2').\n",
      "Traceback (most recent call last):\n",
      "  File \"/workspace/repr-preference-optimization/.venv/lib/python3.11/site-packages/optuna/study/_optimize.py\", line 197, in _run_trial\n",
      "    value_or_values = func(trial)\n",
      "                      ^^^^^^^^^^^\n",
      "  File \"/tmp/ipykernel_1099294/2880211868.py\", line 20, in objective\n",
      "    r = objective_func(kwargs, trial, starter_experiment_name)\n",
      "        ^^^^^^^^^^^^^^^^^^^^^^^^^^^^^^^^^^^^^^^^^^^^^^^^^^^^^^\n",
      "  File \"/tmp/ipykernel_1099294/2880211868.py\", line 10, in objective_func\n",
      "    cfg = copy.deepcopy(experiment_configs[starter_experiment_name][1])\n",
      "                        ~~~~~~~~~~~~~~~~~~^^^^^^^^^^^^^^^^^^^^^^^^^\n",
      "KeyError: 'projgrad2'\n",
      "[W 2024-10-03 12:47:38,714] Trial 210 failed with value None.\n",
      "[W 2024-10-03 12:47:39,545] Trial 211 failed with parameters: {'β': 0.3425910828111318, 'reverse_pref': True, 'scale_orth': False, 'weight_dim': 2, 'neg_slope': 0, 'mag_clip': 10, 'lr': 2.4934814707747982e-06, 'collect_input': False, 'collect_hs': False} because of the following error: KeyError('projgrad2').\n",
      "Traceback (most recent call last):\n",
      "  File \"/workspace/repr-preference-optimization/.venv/lib/python3.11/site-packages/optuna/study/_optimize.py\", line 197, in _run_trial\n",
      "    value_or_values = func(trial)\n",
      "                      ^^^^^^^^^^^\n",
      "  File \"/tmp/ipykernel_1099294/2880211868.py\", line 20, in objective\n",
      "    r = objective_func(kwargs, trial, starter_experiment_name)\n",
      "        ^^^^^^^^^^^^^^^^^^^^^^^^^^^^^^^^^^^^^^^^^^^^^^^^^^^^^^\n",
      "  File \"/tmp/ipykernel_1099294/2880211868.py\", line 10, in objective_func\n",
      "    cfg = copy.deepcopy(experiment_configs[starter_experiment_name][1])\n",
      "                        ~~~~~~~~~~~~~~~~~~^^^^^^^^^^^^^^^^^^^^^^^^^\n",
      "KeyError: 'projgrad2'\n",
      "[W 2024-10-03 12:47:39,550] Trial 211 failed with value None.\n",
      "[W 2024-10-03 12:47:40,447] Trial 212 failed with parameters: {'β': 0.600945484537719, 'reverse_pref': True, 'scale_orth': True, 'weight_dim': 1, 'neg_slope': 0.5, 'mag_clip': 0.1, 'lr': 1.4468440617243613e-05, 'collect_input': False, 'collect_hs': True} because of the following error: KeyError('projgrad2').\n",
      "Traceback (most recent call last):\n",
      "  File \"/workspace/repr-preference-optimization/.venv/lib/python3.11/site-packages/optuna/study/_optimize.py\", line 197, in _run_trial\n",
      "    value_or_values = func(trial)\n",
      "                      ^^^^^^^^^^^\n",
      "  File \"/tmp/ipykernel_1099294/2880211868.py\", line 20, in objective\n",
      "    r = objective_func(kwargs, trial, starter_experiment_name)\n",
      "        ^^^^^^^^^^^^^^^^^^^^^^^^^^^^^^^^^^^^^^^^^^^^^^^^^^^^^^\n",
      "  File \"/tmp/ipykernel_1099294/2880211868.py\", line 10, in objective_func\n",
      "    cfg = copy.deepcopy(experiment_configs[starter_experiment_name][1])\n",
      "                        ~~~~~~~~~~~~~~~~~~^^^^^^^^^^^^^^^^^^^^^^^^^\n",
      "KeyError: 'projgrad2'\n",
      "[W 2024-10-03 12:47:40,448] Trial 212 failed with value None.\n",
      "[W 2024-10-03 12:47:41,279] Trial 213 failed with parameters: {'β': 0.9108262646863152, 'reverse_pref': False, 'scale_orth': False, 'weight_dim': 2, 'neg_slope': 0.01, 'mag_clip': 10, 'lr': 1.3069132616006077e-05, 'collect_input': True, 'collect_hs': True} because of the following error: KeyError('projgrad2').\n",
      "Traceback (most recent call last):\n",
      "  File \"/workspace/repr-preference-optimization/.venv/lib/python3.11/site-packages/optuna/study/_optimize.py\", line 197, in _run_trial\n",
      "    value_or_values = func(trial)\n",
      "                      ^^^^^^^^^^^\n",
      "  File \"/tmp/ipykernel_1099294/2880211868.py\", line 20, in objective\n",
      "    r = objective_func(kwargs, trial, starter_experiment_name)\n",
      "        ^^^^^^^^^^^^^^^^^^^^^^^^^^^^^^^^^^^^^^^^^^^^^^^^^^^^^^\n",
      "  File \"/tmp/ipykernel_1099294/2880211868.py\", line 10, in objective_func\n",
      "    cfg = copy.deepcopy(experiment_configs[starter_experiment_name][1])\n",
      "                        ~~~~~~~~~~~~~~~~~~^^^^^^^^^^^^^^^^^^^^^^^^^\n",
      "KeyError: 'projgrad2'\n",
      "[W 2024-10-03 12:47:41,284] Trial 213 failed with value None.\n",
      "[W 2024-10-03 12:47:42,081] Trial 214 failed with parameters: {'β': 0.59742924257342, 'reverse_pref': True, 'scale_orth': False, 'weight_dim': 0, 'neg_slope': 1, 'mag_clip': 0.5, 'lr': 1.0605890177602096e-05, 'collect_input': False, 'collect_hs': False} because of the following error: KeyError('projgrad2').\n",
      "Traceback (most recent call last):\n",
      "  File \"/workspace/repr-preference-optimization/.venv/lib/python3.11/site-packages/optuna/study/_optimize.py\", line 197, in _run_trial\n",
      "    value_or_values = func(trial)\n",
      "                      ^^^^^^^^^^^\n",
      "  File \"/tmp/ipykernel_1099294/2880211868.py\", line 20, in objective\n",
      "    r = objective_func(kwargs, trial, starter_experiment_name)\n",
      "        ^^^^^^^^^^^^^^^^^^^^^^^^^^^^^^^^^^^^^^^^^^^^^^^^^^^^^^\n",
      "  File \"/tmp/ipykernel_1099294/2880211868.py\", line 10, in objective_func\n",
      "    cfg = copy.deepcopy(experiment_configs[starter_experiment_name][1])\n",
      "                        ~~~~~~~~~~~~~~~~~~^^^^^^^^^^^^^^^^^^^^^^^^^\n",
      "KeyError: 'projgrad2'\n",
      "[W 2024-10-03 12:47:42,083] Trial 214 failed with value None.\n",
      "[W 2024-10-03 12:47:42,851] Trial 215 failed with parameters: {'β': 0.9409923225744371, 'reverse_pref': False, 'scale_orth': False, 'weight_dim': 1, 'neg_slope': 1, 'mag_clip': 0.5, 'lr': 0.00017612707624054338, 'collect_input': True, 'collect_hs': True} because of the following error: KeyError('projgrad2').\n",
      "Traceback (most recent call last):\n",
      "  File \"/workspace/repr-preference-optimization/.venv/lib/python3.11/site-packages/optuna/study/_optimize.py\", line 197, in _run_trial\n",
      "    value_or_values = func(trial)\n",
      "                      ^^^^^^^^^^^\n",
      "  File \"/tmp/ipykernel_1099294/2880211868.py\", line 20, in objective\n",
      "    r = objective_func(kwargs, trial, starter_experiment_name)\n",
      "        ^^^^^^^^^^^^^^^^^^^^^^^^^^^^^^^^^^^^^^^^^^^^^^^^^^^^^^\n",
      "  File \"/tmp/ipykernel_1099294/2880211868.py\", line 10, in objective_func\n",
      "    cfg = copy.deepcopy(experiment_configs[starter_experiment_name][1])\n",
      "                        ~~~~~~~~~~~~~~~~~~^^^^^^^^^^^^^^^^^^^^^^^^^\n",
      "KeyError: 'projgrad2'\n",
      "[W 2024-10-03 12:47:42,855] Trial 215 failed with value None.\n",
      "[W 2024-10-03 12:47:43,722] Trial 216 failed with parameters: {'β': 0.9571348325397961, 'reverse_pref': False, 'scale_orth': True, 'weight_dim': 2, 'neg_slope': 0.01, 'mag_clip': 0.03, 'lr': 0.00015287952053705156, 'collect_input': False, 'collect_hs': False} because of the following error: KeyError('projgrad2').\n",
      "Traceback (most recent call last):\n",
      "  File \"/workspace/repr-preference-optimization/.venv/lib/python3.11/site-packages/optuna/study/_optimize.py\", line 197, in _run_trial\n",
      "    value_or_values = func(trial)\n",
      "                      ^^^^^^^^^^^\n",
      "  File \"/tmp/ipykernel_1099294/2880211868.py\", line 20, in objective\n",
      "    r = objective_func(kwargs, trial, starter_experiment_name)\n",
      "        ^^^^^^^^^^^^^^^^^^^^^^^^^^^^^^^^^^^^^^^^^^^^^^^^^^^^^^\n",
      "  File \"/tmp/ipykernel_1099294/2880211868.py\", line 10, in objective_func\n",
      "    cfg = copy.deepcopy(experiment_configs[starter_experiment_name][1])\n",
      "                        ~~~~~~~~~~~~~~~~~~^^^^^^^^^^^^^^^^^^^^^^^^^\n",
      "KeyError: 'projgrad2'\n",
      "[W 2024-10-03 12:47:43,723] Trial 216 failed with value None.\n",
      "[W 2024-10-03 12:47:44,511] Trial 217 failed with parameters: {'β': 0.57356328002671, 'reverse_pref': False, 'scale_orth': False, 'weight_dim': 0, 'neg_slope': 0.01, 'mag_clip': 0.1, 'lr': 1.9545176522262207e-05, 'collect_input': False, 'collect_hs': False} because of the following error: KeyError('projgrad2').\n",
      "Traceback (most recent call last):\n",
      "  File \"/workspace/repr-preference-optimization/.venv/lib/python3.11/site-packages/optuna/study/_optimize.py\", line 197, in _run_trial\n",
      "    value_or_values = func(trial)\n",
      "                      ^^^^^^^^^^^\n",
      "  File \"/tmp/ipykernel_1099294/2880211868.py\", line 20, in objective\n",
      "    r = objective_func(kwargs, trial, starter_experiment_name)\n",
      "        ^^^^^^^^^^^^^^^^^^^^^^^^^^^^^^^^^^^^^^^^^^^^^^^^^^^^^^\n",
      "  File \"/tmp/ipykernel_1099294/2880211868.py\", line 10, in objective_func\n",
      "    cfg = copy.deepcopy(experiment_configs[starter_experiment_name][1])\n",
      "                        ~~~~~~~~~~~~~~~~~~^^^^^^^^^^^^^^^^^^^^^^^^^\n",
      "KeyError: 'projgrad2'\n",
      "[W 2024-10-03 12:47:44,516] Trial 217 failed with value None.\n",
      "[W 2024-10-03 12:47:45,347] Trial 218 failed with parameters: {'β': 0.19648696695621115, 'reverse_pref': True, 'scale_orth': False, 'weight_dim': 2, 'neg_slope': 0.1, 'mag_clip': 0.5, 'lr': 4.934575104434619e-05, 'collect_input': True, 'collect_hs': False} because of the following error: KeyError('projgrad2').\n",
      "Traceback (most recent call last):\n",
      "  File \"/workspace/repr-preference-optimization/.venv/lib/python3.11/site-packages/optuna/study/_optimize.py\", line 197, in _run_trial\n",
      "    value_or_values = func(trial)\n",
      "                      ^^^^^^^^^^^\n",
      "  File \"/tmp/ipykernel_1099294/2880211868.py\", line 20, in objective\n",
      "    r = objective_func(kwargs, trial, starter_experiment_name)\n",
      "        ^^^^^^^^^^^^^^^^^^^^^^^^^^^^^^^^^^^^^^^^^^^^^^^^^^^^^^\n",
      "  File \"/tmp/ipykernel_1099294/2880211868.py\", line 10, in objective_func\n",
      "    cfg = copy.deepcopy(experiment_configs[starter_experiment_name][1])\n",
      "                        ~~~~~~~~~~~~~~~~~~^^^^^^^^^^^^^^^^^^^^^^^^^\n",
      "KeyError: 'projgrad2'\n",
      "[W 2024-10-03 12:47:45,348] Trial 218 failed with value None.\n",
      "[W 2024-10-03 12:47:46,154] Trial 219 failed with parameters: {'β': 0.9698188646337847, 'reverse_pref': False, 'scale_orth': True, 'weight_dim': 0, 'neg_slope': 0, 'mag_clip': 0.5, 'lr': 9.438920288966636e-05, 'collect_input': True, 'collect_hs': True} because of the following error: KeyError('projgrad2').\n",
      "Traceback (most recent call last):\n",
      "  File \"/workspace/repr-preference-optimization/.venv/lib/python3.11/site-packages/optuna/study/_optimize.py\", line 197, in _run_trial\n",
      "    value_or_values = func(trial)\n",
      "                      ^^^^^^^^^^^\n",
      "  File \"/tmp/ipykernel_1099294/2880211868.py\", line 20, in objective\n",
      "    r = objective_func(kwargs, trial, starter_experiment_name)\n",
      "        ^^^^^^^^^^^^^^^^^^^^^^^^^^^^^^^^^^^^^^^^^^^^^^^^^^^^^^\n",
      "  File \"/tmp/ipykernel_1099294/2880211868.py\", line 10, in objective_func\n",
      "    cfg = copy.deepcopy(experiment_configs[starter_experiment_name][1])\n",
      "                        ~~~~~~~~~~~~~~~~~~^^^^^^^^^^^^^^^^^^^^^^^^^\n",
      "KeyError: 'projgrad2'\n",
      "[W 2024-10-03 12:47:46,158] Trial 219 failed with value None.\n",
      "[W 2024-10-03 12:47:47,012] Trial 220 failed with parameters: {'β': 0.9328676901266331, 'reverse_pref': True, 'scale_orth': False, 'weight_dim': 0, 'neg_slope': 0.1, 'mag_clip': 0.5, 'lr': 2.8215922599118495e-05, 'collect_input': True, 'collect_hs': False} because of the following error: KeyError('projgrad2').\n",
      "Traceback (most recent call last):\n",
      "  File \"/workspace/repr-preference-optimization/.venv/lib/python3.11/site-packages/optuna/study/_optimize.py\", line 197, in _run_trial\n",
      "    value_or_values = func(trial)\n",
      "                      ^^^^^^^^^^^\n",
      "  File \"/tmp/ipykernel_1099294/2880211868.py\", line 20, in objective\n",
      "    r = objective_func(kwargs, trial, starter_experiment_name)\n",
      "        ^^^^^^^^^^^^^^^^^^^^^^^^^^^^^^^^^^^^^^^^^^^^^^^^^^^^^^\n",
      "  File \"/tmp/ipykernel_1099294/2880211868.py\", line 10, in objective_func\n",
      "    cfg = copy.deepcopy(experiment_configs[starter_experiment_name][1])\n",
      "                        ~~~~~~~~~~~~~~~~~~^^^^^^^^^^^^^^^^^^^^^^^^^\n",
      "KeyError: 'projgrad2'\n",
      "[W 2024-10-03 12:47:47,014] Trial 220 failed with value None.\n",
      "[W 2024-10-03 12:47:47,910] Trial 221 failed with parameters: {'β': 0.23981995220659025, 'reverse_pref': False, 'scale_orth': True, 'weight_dim': 1, 'neg_slope': 0.5, 'mag_clip': 0.1, 'lr': 5.4055419481160856e-05, 'collect_input': True, 'collect_hs': True} because of the following error: KeyError('projgrad2').\n",
      "Traceback (most recent call last):\n",
      "  File \"/workspace/repr-preference-optimization/.venv/lib/python3.11/site-packages/optuna/study/_optimize.py\", line 197, in _run_trial\n",
      "    value_or_values = func(trial)\n",
      "                      ^^^^^^^^^^^\n",
      "  File \"/tmp/ipykernel_1099294/2880211868.py\", line 20, in objective\n",
      "    r = objective_func(kwargs, trial, starter_experiment_name)\n",
      "        ^^^^^^^^^^^^^^^^^^^^^^^^^^^^^^^^^^^^^^^^^^^^^^^^^^^^^^\n",
      "  File \"/tmp/ipykernel_1099294/2880211868.py\", line 10, in objective_func\n",
      "    cfg = copy.deepcopy(experiment_configs[starter_experiment_name][1])\n",
      "                        ~~~~~~~~~~~~~~~~~~^^^^^^^^^^^^^^^^^^^^^^^^^\n",
      "KeyError: 'projgrad2'\n",
      "[W 2024-10-03 12:47:47,916] Trial 221 failed with value None.\n",
      "[W 2024-10-03 12:47:48,839] Trial 222 failed with parameters: {'β': 0.3667983206462684, 'reverse_pref': False, 'scale_orth': False, 'weight_dim': 2, 'neg_slope': 0.01, 'mag_clip': 1.0, 'lr': 0.0005475230425621455, 'collect_input': True, 'collect_hs': False} because of the following error: KeyError('projgrad2').\n",
      "Traceback (most recent call last):\n",
      "  File \"/workspace/repr-preference-optimization/.venv/lib/python3.11/site-packages/optuna/study/_optimize.py\", line 197, in _run_trial\n",
      "    value_or_values = func(trial)\n",
      "                      ^^^^^^^^^^^\n",
      "  File \"/tmp/ipykernel_1099294/2880211868.py\", line 20, in objective\n",
      "    r = objective_func(kwargs, trial, starter_experiment_name)\n",
      "        ^^^^^^^^^^^^^^^^^^^^^^^^^^^^^^^^^^^^^^^^^^^^^^^^^^^^^^\n",
      "  File \"/tmp/ipykernel_1099294/2880211868.py\", line 10, in objective_func\n",
      "    cfg = copy.deepcopy(experiment_configs[starter_experiment_name][1])\n",
      "                        ~~~~~~~~~~~~~~~~~~^^^^^^^^^^^^^^^^^^^^^^^^^\n",
      "KeyError: 'projgrad2'\n",
      "[W 2024-10-03 12:47:48,840] Trial 222 failed with value None.\n",
      "[W 2024-10-03 12:47:49,730] Trial 223 failed with parameters: {'β': 0.8520484158046929, 'reverse_pref': True, 'scale_orth': True, 'weight_dim': 2, 'neg_slope': 1, 'mag_clip': 10, 'lr': 0.0004985936635032648, 'collect_input': True, 'collect_hs': True} because of the following error: KeyError('projgrad2').\n",
      "Traceback (most recent call last):\n",
      "  File \"/workspace/repr-preference-optimization/.venv/lib/python3.11/site-packages/optuna/study/_optimize.py\", line 197, in _run_trial\n",
      "    value_or_values = func(trial)\n",
      "                      ^^^^^^^^^^^\n",
      "  File \"/tmp/ipykernel_1099294/2880211868.py\", line 20, in objective\n",
      "    r = objective_func(kwargs, trial, starter_experiment_name)\n",
      "        ^^^^^^^^^^^^^^^^^^^^^^^^^^^^^^^^^^^^^^^^^^^^^^^^^^^^^^\n",
      "  File \"/tmp/ipykernel_1099294/2880211868.py\", line 10, in objective_func\n",
      "    cfg = copy.deepcopy(experiment_configs[starter_experiment_name][1])\n",
      "                        ~~~~~~~~~~~~~~~~~~^^^^^^^^^^^^^^^^^^^^^^^^^\n",
      "KeyError: 'projgrad2'\n",
      "[W 2024-10-03 12:47:49,733] Trial 223 failed with value None.\n",
      "[W 2024-10-03 12:47:50,867] Trial 224 failed with parameters: {'β': 0.9088264977168623, 'reverse_pref': True, 'scale_orth': True, 'weight_dim': 2, 'neg_slope': 0.1, 'mag_clip': 0.1, 'lr': 1.890240124644447e-05, 'collect_input': True, 'collect_hs': False} because of the following error: KeyError('projgrad2').\n",
      "Traceback (most recent call last):\n",
      "  File \"/workspace/repr-preference-optimization/.venv/lib/python3.11/site-packages/optuna/study/_optimize.py\", line 197, in _run_trial\n",
      "    value_or_values = func(trial)\n",
      "                      ^^^^^^^^^^^\n",
      "  File \"/tmp/ipykernel_1099294/2880211868.py\", line 20, in objective\n",
      "    r = objective_func(kwargs, trial, starter_experiment_name)\n",
      "        ^^^^^^^^^^^^^^^^^^^^^^^^^^^^^^^^^^^^^^^^^^^^^^^^^^^^^^\n",
      "  File \"/tmp/ipykernel_1099294/2880211868.py\", line 10, in objective_func\n",
      "    cfg = copy.deepcopy(experiment_configs[starter_experiment_name][1])\n",
      "                        ~~~~~~~~~~~~~~~~~~^^^^^^^^^^^^^^^^^^^^^^^^^\n",
      "KeyError: 'projgrad2'\n",
      "[W 2024-10-03 12:47:50,871] Trial 224 failed with value None.\n",
      "[W 2024-10-03 12:47:51,738] Trial 225 failed with parameters: {'β': 0.8166552432016235, 'reverse_pref': True, 'scale_orth': False, 'weight_dim': 1, 'neg_slope': 1, 'mag_clip': 0.1, 'lr': 0.0006140594956241004, 'collect_input': False, 'collect_hs': True} because of the following error: KeyError('projgrad2').\n",
      "Traceback (most recent call last):\n",
      "  File \"/workspace/repr-preference-optimization/.venv/lib/python3.11/site-packages/optuna/study/_optimize.py\", line 197, in _run_trial\n",
      "    value_or_values = func(trial)\n",
      "                      ^^^^^^^^^^^\n",
      "  File \"/tmp/ipykernel_1099294/2880211868.py\", line 20, in objective\n",
      "    r = objective_func(kwargs, trial, starter_experiment_name)\n",
      "        ^^^^^^^^^^^^^^^^^^^^^^^^^^^^^^^^^^^^^^^^^^^^^^^^^^^^^^\n",
      "  File \"/tmp/ipykernel_1099294/2880211868.py\", line 10, in objective_func\n",
      "    cfg = copy.deepcopy(experiment_configs[starter_experiment_name][1])\n",
      "                        ~~~~~~~~~~~~~~~~~~^^^^^^^^^^^^^^^^^^^^^^^^^\n",
      "KeyError: 'projgrad2'\n",
      "[W 2024-10-03 12:47:51,739] Trial 225 failed with value None.\n",
      "[W 2024-10-03 12:47:52,620] Trial 226 failed with parameters: {'β': 0.38722314121020696, 'reverse_pref': False, 'scale_orth': True, 'weight_dim': 2, 'neg_slope': 0, 'mag_clip': 0.03, 'lr': 2.1563562068038935e-05, 'collect_input': True, 'collect_hs': False} because of the following error: KeyError('projgrad2').\n",
      "Traceback (most recent call last):\n",
      "  File \"/workspace/repr-preference-optimization/.venv/lib/python3.11/site-packages/optuna/study/_optimize.py\", line 197, in _run_trial\n",
      "    value_or_values = func(trial)\n",
      "                      ^^^^^^^^^^^\n",
      "  File \"/tmp/ipykernel_1099294/2880211868.py\", line 20, in objective\n",
      "    r = objective_func(kwargs, trial, starter_experiment_name)\n",
      "        ^^^^^^^^^^^^^^^^^^^^^^^^^^^^^^^^^^^^^^^^^^^^^^^^^^^^^^\n",
      "  File \"/tmp/ipykernel_1099294/2880211868.py\", line 10, in objective_func\n",
      "    cfg = copy.deepcopy(experiment_configs[starter_experiment_name][1])\n",
      "                        ~~~~~~~~~~~~~~~~~~^^^^^^^^^^^^^^^^^^^^^^^^^\n",
      "KeyError: 'projgrad2'\n",
      "[W 2024-10-03 12:47:52,624] Trial 226 failed with value None.\n",
      "[W 2024-10-03 12:47:53,528] Trial 227 failed with parameters: {'β': 0.47430866486843026, 'reverse_pref': False, 'scale_orth': True, 'weight_dim': 1, 'neg_slope': 0, 'mag_clip': None, 'lr': 1.2727711488898691e-05, 'collect_input': True, 'collect_hs': False} because of the following error: KeyError('projgrad2').\n",
      "Traceback (most recent call last):\n",
      "  File \"/workspace/repr-preference-optimization/.venv/lib/python3.11/site-packages/optuna/study/_optimize.py\", line 197, in _run_trial\n",
      "    value_or_values = func(trial)\n",
      "                      ^^^^^^^^^^^\n",
      "  File \"/tmp/ipykernel_1099294/2880211868.py\", line 20, in objective\n",
      "    r = objective_func(kwargs, trial, starter_experiment_name)\n",
      "        ^^^^^^^^^^^^^^^^^^^^^^^^^^^^^^^^^^^^^^^^^^^^^^^^^^^^^^\n",
      "  File \"/tmp/ipykernel_1099294/2880211868.py\", line 10, in objective_func\n",
      "    cfg = copy.deepcopy(experiment_configs[starter_experiment_name][1])\n",
      "                        ~~~~~~~~~~~~~~~~~~^^^^^^^^^^^^^^^^^^^^^^^^^\n",
      "KeyError: 'projgrad2'\n",
      "[W 2024-10-03 12:47:53,529] Trial 227 failed with value None.\n",
      "[W 2024-10-03 12:47:54,422] Trial 228 failed with parameters: {'β': 0.7172618758657564, 'reverse_pref': False, 'scale_orth': True, 'weight_dim': 1, 'neg_slope': 0.01, 'mag_clip': 1.0, 'lr': 4.710489863317881e-05, 'collect_input': False, 'collect_hs': True} because of the following error: KeyError('projgrad2').\n",
      "Traceback (most recent call last):\n",
      "  File \"/workspace/repr-preference-optimization/.venv/lib/python3.11/site-packages/optuna/study/_optimize.py\", line 197, in _run_trial\n",
      "    value_or_values = func(trial)\n",
      "                      ^^^^^^^^^^^\n",
      "  File \"/tmp/ipykernel_1099294/2880211868.py\", line 20, in objective\n",
      "    r = objective_func(kwargs, trial, starter_experiment_name)\n",
      "        ^^^^^^^^^^^^^^^^^^^^^^^^^^^^^^^^^^^^^^^^^^^^^^^^^^^^^^\n",
      "  File \"/tmp/ipykernel_1099294/2880211868.py\", line 10, in objective_func\n",
      "    cfg = copy.deepcopy(experiment_configs[starter_experiment_name][1])\n",
      "                        ~~~~~~~~~~~~~~~~~~^^^^^^^^^^^^^^^^^^^^^^^^^\n",
      "KeyError: 'projgrad2'\n",
      "[W 2024-10-03 12:47:54,425] Trial 228 failed with value None.\n",
      "[W 2024-10-03 12:47:55,272] Trial 229 failed with parameters: {'β': 0.4694068419892581, 'reverse_pref': True, 'scale_orth': True, 'weight_dim': 0, 'neg_slope': 0, 'mag_clip': 0.1, 'lr': 0.00013459038347304186, 'collect_input': True, 'collect_hs': False} because of the following error: KeyError('projgrad2').\n",
      "Traceback (most recent call last):\n",
      "  File \"/workspace/repr-preference-optimization/.venv/lib/python3.11/site-packages/optuna/study/_optimize.py\", line 197, in _run_trial\n",
      "    value_or_values = func(trial)\n",
      "                      ^^^^^^^^^^^\n",
      "  File \"/tmp/ipykernel_1099294/2880211868.py\", line 20, in objective\n",
      "    r = objective_func(kwargs, trial, starter_experiment_name)\n",
      "        ^^^^^^^^^^^^^^^^^^^^^^^^^^^^^^^^^^^^^^^^^^^^^^^^^^^^^^\n",
      "  File \"/tmp/ipykernel_1099294/2880211868.py\", line 10, in objective_func\n",
      "    cfg = copy.deepcopy(experiment_configs[starter_experiment_name][1])\n",
      "                        ~~~~~~~~~~~~~~~~~~^^^^^^^^^^^^^^^^^^^^^^^^^\n",
      "KeyError: 'projgrad2'\n",
      "[W 2024-10-03 12:47:55,274] Trial 229 failed with value None.\n",
      "[W 2024-10-03 12:47:56,444] Trial 230 failed with parameters: {'β': 0.281825003295472, 'reverse_pref': True, 'scale_orth': False, 'weight_dim': 0, 'neg_slope': 1, 'mag_clip': 0.1, 'lr': 0.0004594873993535021, 'collect_input': True, 'collect_hs': False} because of the following error: KeyError('projgrad2').\n",
      "Traceback (most recent call last):\n",
      "  File \"/workspace/repr-preference-optimization/.venv/lib/python3.11/site-packages/optuna/study/_optimize.py\", line 197, in _run_trial\n",
      "    value_or_values = func(trial)\n",
      "                      ^^^^^^^^^^^\n",
      "  File \"/tmp/ipykernel_1099294/2880211868.py\", line 20, in objective\n",
      "    r = objective_func(kwargs, trial, starter_experiment_name)\n",
      "        ^^^^^^^^^^^^^^^^^^^^^^^^^^^^^^^^^^^^^^^^^^^^^^^^^^^^^^\n",
      "  File \"/tmp/ipykernel_1099294/2880211868.py\", line 10, in objective_func\n",
      "    cfg = copy.deepcopy(experiment_configs[starter_experiment_name][1])\n",
      "                        ~~~~~~~~~~~~~~~~~~^^^^^^^^^^^^^^^^^^^^^^^^^\n",
      "KeyError: 'projgrad2'\n",
      "[W 2024-10-03 12:47:56,449] Trial 230 failed with value None.\n",
      "[W 2024-10-03 12:47:57,360] Trial 231 failed with parameters: {'β': 0.9620584989413515, 'reverse_pref': True, 'scale_orth': False, 'weight_dim': 0, 'neg_slope': 1, 'mag_clip': 0.03, 'lr': 8.899618550892234e-06, 'collect_input': False, 'collect_hs': True} because of the following error: KeyError('projgrad2').\n",
      "Traceback (most recent call last):\n",
      "  File \"/workspace/repr-preference-optimization/.venv/lib/python3.11/site-packages/optuna/study/_optimize.py\", line 197, in _run_trial\n",
      "    value_or_values = func(trial)\n",
      "                      ^^^^^^^^^^^\n",
      "  File \"/tmp/ipykernel_1099294/2880211868.py\", line 20, in objective\n",
      "    r = objective_func(kwargs, trial, starter_experiment_name)\n",
      "        ^^^^^^^^^^^^^^^^^^^^^^^^^^^^^^^^^^^^^^^^^^^^^^^^^^^^^^\n",
      "  File \"/tmp/ipykernel_1099294/2880211868.py\", line 10, in objective_func\n",
      "    cfg = copy.deepcopy(experiment_configs[starter_experiment_name][1])\n",
      "                        ~~~~~~~~~~~~~~~~~~^^^^^^^^^^^^^^^^^^^^^^^^^\n",
      "KeyError: 'projgrad2'\n",
      "[W 2024-10-03 12:47:57,364] Trial 231 failed with value None.\n",
      "[W 2024-10-03 12:47:58,280] Trial 232 failed with parameters: {'β': 0.334878290136985, 'reverse_pref': False, 'scale_orth': False, 'weight_dim': 2, 'neg_slope': 0.1, 'mag_clip': 1.0, 'lr': 3.980802611469169e-05, 'collect_input': True, 'collect_hs': True} because of the following error: KeyError('projgrad2').\n",
      "Traceback (most recent call last):\n",
      "  File \"/workspace/repr-preference-optimization/.venv/lib/python3.11/site-packages/optuna/study/_optimize.py\", line 197, in _run_trial\n",
      "    value_or_values = func(trial)\n",
      "                      ^^^^^^^^^^^\n",
      "  File \"/tmp/ipykernel_1099294/2880211868.py\", line 20, in objective\n",
      "    r = objective_func(kwargs, trial, starter_experiment_name)\n",
      "        ^^^^^^^^^^^^^^^^^^^^^^^^^^^^^^^^^^^^^^^^^^^^^^^^^^^^^^\n",
      "  File \"/tmp/ipykernel_1099294/2880211868.py\", line 10, in objective_func\n",
      "    cfg = copy.deepcopy(experiment_configs[starter_experiment_name][1])\n",
      "                        ~~~~~~~~~~~~~~~~~~^^^^^^^^^^^^^^^^^^^^^^^^^\n",
      "KeyError: 'projgrad2'\n",
      "[W 2024-10-03 12:47:58,284] Trial 232 failed with value None.\n",
      "[W 2024-10-03 12:47:59,200] Trial 233 failed with parameters: {'β': 0.4983330282942372, 'reverse_pref': True, 'scale_orth': False, 'weight_dim': 1, 'neg_slope': 0, 'mag_clip': 10, 'lr': 1.0622049084736087e-05, 'collect_input': True, 'collect_hs': False} because of the following error: KeyError('projgrad2').\n",
      "Traceback (most recent call last):\n",
      "  File \"/workspace/repr-preference-optimization/.venv/lib/python3.11/site-packages/optuna/study/_optimize.py\", line 197, in _run_trial\n",
      "    value_or_values = func(trial)\n",
      "                      ^^^^^^^^^^^\n",
      "  File \"/tmp/ipykernel_1099294/2880211868.py\", line 20, in objective\n",
      "    r = objective_func(kwargs, trial, starter_experiment_name)\n",
      "        ^^^^^^^^^^^^^^^^^^^^^^^^^^^^^^^^^^^^^^^^^^^^^^^^^^^^^^\n",
      "  File \"/tmp/ipykernel_1099294/2880211868.py\", line 10, in objective_func\n",
      "    cfg = copy.deepcopy(experiment_configs[starter_experiment_name][1])\n",
      "                        ~~~~~~~~~~~~~~~~~~^^^^^^^^^^^^^^^^^^^^^^^^^\n",
      "KeyError: 'projgrad2'\n",
      "[W 2024-10-03 12:47:59,208] Trial 233 failed with value None.\n",
      "[W 2024-10-03 12:48:00,076] Trial 234 failed with parameters: {'β': 0.2608492459620889, 'reverse_pref': False, 'scale_orth': True, 'weight_dim': 2, 'neg_slope': 1, 'mag_clip': 100, 'lr': 5.394931155718434e-06, 'collect_input': True, 'collect_hs': False} because of the following error: KeyError('projgrad2').\n",
      "Traceback (most recent call last):\n",
      "  File \"/workspace/repr-preference-optimization/.venv/lib/python3.11/site-packages/optuna/study/_optimize.py\", line 197, in _run_trial\n",
      "    value_or_values = func(trial)\n",
      "                      ^^^^^^^^^^^\n",
      "  File \"/tmp/ipykernel_1099294/2880211868.py\", line 20, in objective\n",
      "    r = objective_func(kwargs, trial, starter_experiment_name)\n",
      "        ^^^^^^^^^^^^^^^^^^^^^^^^^^^^^^^^^^^^^^^^^^^^^^^^^^^^^^\n",
      "  File \"/tmp/ipykernel_1099294/2880211868.py\", line 10, in objective_func\n",
      "    cfg = copy.deepcopy(experiment_configs[starter_experiment_name][1])\n",
      "                        ~~~~~~~~~~~~~~~~~~^^^^^^^^^^^^^^^^^^^^^^^^^\n",
      "KeyError: 'projgrad2'\n",
      "[W 2024-10-03 12:48:00,079] Trial 234 failed with value None.\n",
      "[W 2024-10-03 12:48:00,979] Trial 235 failed with parameters: {'β': 0.895555740873885, 'reverse_pref': True, 'scale_orth': False, 'weight_dim': 2, 'neg_slope': 0.01, 'mag_clip': 100, 'lr': 1.7113555632385046e-05, 'collect_input': False, 'collect_hs': True} because of the following error: KeyError('projgrad2').\n",
      "Traceback (most recent call last):\n",
      "  File \"/workspace/repr-preference-optimization/.venv/lib/python3.11/site-packages/optuna/study/_optimize.py\", line 197, in _run_trial\n",
      "    value_or_values = func(trial)\n",
      "                      ^^^^^^^^^^^\n",
      "  File \"/tmp/ipykernel_1099294/2880211868.py\", line 20, in objective\n",
      "    r = objective_func(kwargs, trial, starter_experiment_name)\n",
      "        ^^^^^^^^^^^^^^^^^^^^^^^^^^^^^^^^^^^^^^^^^^^^^^^^^^^^^^\n",
      "  File \"/tmp/ipykernel_1099294/2880211868.py\", line 10, in objective_func\n",
      "    cfg = copy.deepcopy(experiment_configs[starter_experiment_name][1])\n",
      "                        ~~~~~~~~~~~~~~~~~~^^^^^^^^^^^^^^^^^^^^^^^^^\n",
      "KeyError: 'projgrad2'\n",
      "[W 2024-10-03 12:48:00,981] Trial 235 failed with value None.\n",
      "[W 2024-10-03 12:48:01,901] Trial 236 failed with parameters: {'β': 0.6812821105324338, 'reverse_pref': True, 'scale_orth': False, 'weight_dim': 0, 'neg_slope': 0.5, 'mag_clip': 1.0, 'lr': 1.1052665898278885e-05, 'collect_input': True, 'collect_hs': False} because of the following error: KeyError('projgrad2').\n",
      "Traceback (most recent call last):\n",
      "  File \"/workspace/repr-preference-optimization/.venv/lib/python3.11/site-packages/optuna/study/_optimize.py\", line 197, in _run_trial\n",
      "    value_or_values = func(trial)\n",
      "                      ^^^^^^^^^^^\n",
      "  File \"/tmp/ipykernel_1099294/2880211868.py\", line 20, in objective\n",
      "    r = objective_func(kwargs, trial, starter_experiment_name)\n",
      "        ^^^^^^^^^^^^^^^^^^^^^^^^^^^^^^^^^^^^^^^^^^^^^^^^^^^^^^\n",
      "  File \"/tmp/ipykernel_1099294/2880211868.py\", line 10, in objective_func\n",
      "    cfg = copy.deepcopy(experiment_configs[starter_experiment_name][1])\n",
      "                        ~~~~~~~~~~~~~~~~~~^^^^^^^^^^^^^^^^^^^^^^^^^\n",
      "KeyError: 'projgrad2'\n",
      "[W 2024-10-03 12:48:01,912] Trial 236 failed with value None.\n",
      "[W 2024-10-03 12:48:02,730] Trial 237 failed with parameters: {'β': 0.23875177108602408, 'reverse_pref': False, 'scale_orth': True, 'weight_dim': 1, 'neg_slope': 0.01, 'mag_clip': 10, 'lr': 1.1995730043527048e-05, 'collect_input': True, 'collect_hs': False} because of the following error: KeyError('projgrad2').\n",
      "Traceback (most recent call last):\n",
      "  File \"/workspace/repr-preference-optimization/.venv/lib/python3.11/site-packages/optuna/study/_optimize.py\", line 197, in _run_trial\n",
      "    value_or_values = func(trial)\n",
      "                      ^^^^^^^^^^^\n",
      "  File \"/tmp/ipykernel_1099294/2880211868.py\", line 20, in objective\n",
      "    r = objective_func(kwargs, trial, starter_experiment_name)\n",
      "        ^^^^^^^^^^^^^^^^^^^^^^^^^^^^^^^^^^^^^^^^^^^^^^^^^^^^^^\n",
      "  File \"/tmp/ipykernel_1099294/2880211868.py\", line 10, in objective_func\n",
      "    cfg = copy.deepcopy(experiment_configs[starter_experiment_name][1])\n",
      "                        ~~~~~~~~~~~~~~~~~~^^^^^^^^^^^^^^^^^^^^^^^^^\n",
      "KeyError: 'projgrad2'\n",
      "[W 2024-10-03 12:48:02,732] Trial 237 failed with value None.\n",
      "[W 2024-10-03 12:48:03,652] Trial 238 failed with parameters: {'β': 0.009827552569787845, 'reverse_pref': True, 'scale_orth': False, 'weight_dim': 0, 'neg_slope': 0, 'mag_clip': None, 'lr': 5.067641089132174e-05, 'collect_input': False, 'collect_hs': False} because of the following error: KeyError('projgrad2').\n",
      "Traceback (most recent call last):\n",
      "  File \"/workspace/repr-preference-optimization/.venv/lib/python3.11/site-packages/optuna/study/_optimize.py\", line 197, in _run_trial\n",
      "    value_or_values = func(trial)\n",
      "                      ^^^^^^^^^^^\n",
      "  File \"/tmp/ipykernel_1099294/2880211868.py\", line 20, in objective\n",
      "    r = objective_func(kwargs, trial, starter_experiment_name)\n",
      "        ^^^^^^^^^^^^^^^^^^^^^^^^^^^^^^^^^^^^^^^^^^^^^^^^^^^^^^\n",
      "  File \"/tmp/ipykernel_1099294/2880211868.py\", line 10, in objective_func\n",
      "    cfg = copy.deepcopy(experiment_configs[starter_experiment_name][1])\n",
      "                        ~~~~~~~~~~~~~~~~~~^^^^^^^^^^^^^^^^^^^^^^^^^\n",
      "KeyError: 'projgrad2'\n",
      "[W 2024-10-03 12:48:03,656] Trial 238 failed with value None.\n",
      "[W 2024-10-03 12:48:04,520] Trial 239 failed with parameters: {'β': 0.8890006108146659, 'reverse_pref': False, 'scale_orth': True, 'weight_dim': 0, 'neg_slope': 0.5, 'mag_clip': 0.5, 'lr': 0.00021263353699903622, 'collect_input': True, 'collect_hs': False} because of the following error: KeyError('projgrad2').\n",
      "Traceback (most recent call last):\n",
      "  File \"/workspace/repr-preference-optimization/.venv/lib/python3.11/site-packages/optuna/study/_optimize.py\", line 197, in _run_trial\n",
      "    value_or_values = func(trial)\n",
      "                      ^^^^^^^^^^^\n",
      "  File \"/tmp/ipykernel_1099294/2880211868.py\", line 20, in objective\n",
      "    r = objective_func(kwargs, trial, starter_experiment_name)\n",
      "        ^^^^^^^^^^^^^^^^^^^^^^^^^^^^^^^^^^^^^^^^^^^^^^^^^^^^^^\n",
      "  File \"/tmp/ipykernel_1099294/2880211868.py\", line 10, in objective_func\n",
      "    cfg = copy.deepcopy(experiment_configs[starter_experiment_name][1])\n",
      "                        ~~~~~~~~~~~~~~~~~~^^^^^^^^^^^^^^^^^^^^^^^^^\n",
      "KeyError: 'projgrad2'\n",
      "[W 2024-10-03 12:48:04,522] Trial 239 failed with value None.\n",
      "[W 2024-10-03 12:48:05,427] Trial 240 failed with parameters: {'β': 0.8343247957493986, 'reverse_pref': False, 'scale_orth': False, 'weight_dim': 0, 'neg_slope': 0, 'mag_clip': 100, 'lr': 3.842092223932127e-05, 'collect_input': True, 'collect_hs': False} because of the following error: KeyError('projgrad2').\n",
      "Traceback (most recent call last):\n",
      "  File \"/workspace/repr-preference-optimization/.venv/lib/python3.11/site-packages/optuna/study/_optimize.py\", line 197, in _run_trial\n",
      "    value_or_values = func(trial)\n",
      "                      ^^^^^^^^^^^\n",
      "  File \"/tmp/ipykernel_1099294/2880211868.py\", line 20, in objective\n",
      "    r = objective_func(kwargs, trial, starter_experiment_name)\n",
      "        ^^^^^^^^^^^^^^^^^^^^^^^^^^^^^^^^^^^^^^^^^^^^^^^^^^^^^^\n",
      "  File \"/tmp/ipykernel_1099294/2880211868.py\", line 10, in objective_func\n",
      "    cfg = copy.deepcopy(experiment_configs[starter_experiment_name][1])\n",
      "                        ~~~~~~~~~~~~~~~~~~^^^^^^^^^^^^^^^^^^^^^^^^^\n",
      "KeyError: 'projgrad2'\n",
      "[W 2024-10-03 12:48:05,431] Trial 240 failed with value None.\n",
      "[W 2024-10-03 12:48:06,255] Trial 241 failed with parameters: {'β': 0.828185869323453, 'reverse_pref': True, 'scale_orth': True, 'weight_dim': 0, 'neg_slope': 0.5, 'mag_clip': None, 'lr': 0.0009840491482962963, 'collect_input': False, 'collect_hs': True} because of the following error: KeyError('projgrad2').\n",
      "Traceback (most recent call last):\n",
      "  File \"/workspace/repr-preference-optimization/.venv/lib/python3.11/site-packages/optuna/study/_optimize.py\", line 197, in _run_trial\n",
      "    value_or_values = func(trial)\n",
      "                      ^^^^^^^^^^^\n",
      "  File \"/tmp/ipykernel_1099294/2880211868.py\", line 20, in objective\n",
      "    r = objective_func(kwargs, trial, starter_experiment_name)\n",
      "        ^^^^^^^^^^^^^^^^^^^^^^^^^^^^^^^^^^^^^^^^^^^^^^^^^^^^^^\n",
      "  File \"/tmp/ipykernel_1099294/2880211868.py\", line 10, in objective_func\n",
      "    cfg = copy.deepcopy(experiment_configs[starter_experiment_name][1])\n",
      "                        ~~~~~~~~~~~~~~~~~~^^^^^^^^^^^^^^^^^^^^^^^^^\n",
      "KeyError: 'projgrad2'\n",
      "[W 2024-10-03 12:48:06,257] Trial 241 failed with value None.\n",
      "[W 2024-10-03 12:48:07,112] Trial 242 failed with parameters: {'β': 0.6966889878731969, 'reverse_pref': False, 'scale_orth': False, 'weight_dim': 0, 'neg_slope': 0, 'mag_clip': None, 'lr': 2.3879815486441137e-05, 'collect_input': False, 'collect_hs': False} because of the following error: KeyError('projgrad2').\n",
      "Traceback (most recent call last):\n",
      "  File \"/workspace/repr-preference-optimization/.venv/lib/python3.11/site-packages/optuna/study/_optimize.py\", line 197, in _run_trial\n",
      "    value_or_values = func(trial)\n",
      "                      ^^^^^^^^^^^\n",
      "  File \"/tmp/ipykernel_1099294/2880211868.py\", line 20, in objective\n",
      "    r = objective_func(kwargs, trial, starter_experiment_name)\n",
      "        ^^^^^^^^^^^^^^^^^^^^^^^^^^^^^^^^^^^^^^^^^^^^^^^^^^^^^^\n",
      "  File \"/tmp/ipykernel_1099294/2880211868.py\", line 10, in objective_func\n",
      "    cfg = copy.deepcopy(experiment_configs[starter_experiment_name][1])\n",
      "                        ~~~~~~~~~~~~~~~~~~^^^^^^^^^^^^^^^^^^^^^^^^^\n",
      "KeyError: 'projgrad2'\n",
      "[W 2024-10-03 12:48:07,116] Trial 242 failed with value None.\n",
      "[W 2024-10-03 12:48:07,979] Trial 243 failed with parameters: {'β': 0.6410861035821595, 'reverse_pref': False, 'scale_orth': False, 'weight_dim': 1, 'neg_slope': 1, 'mag_clip': 100, 'lr': 0.0004704315547613301, 'collect_input': False, 'collect_hs': False} because of the following error: KeyError('projgrad2').\n",
      "Traceback (most recent call last):\n",
      "  File \"/workspace/repr-preference-optimization/.venv/lib/python3.11/site-packages/optuna/study/_optimize.py\", line 197, in _run_trial\n",
      "    value_or_values = func(trial)\n",
      "                      ^^^^^^^^^^^\n",
      "  File \"/tmp/ipykernel_1099294/2880211868.py\", line 20, in objective\n",
      "    r = objective_func(kwargs, trial, starter_experiment_name)\n",
      "        ^^^^^^^^^^^^^^^^^^^^^^^^^^^^^^^^^^^^^^^^^^^^^^^^^^^^^^\n",
      "  File \"/tmp/ipykernel_1099294/2880211868.py\", line 10, in objective_func\n",
      "    cfg = copy.deepcopy(experiment_configs[starter_experiment_name][1])\n",
      "                        ~~~~~~~~~~~~~~~~~~^^^^^^^^^^^^^^^^^^^^^^^^^\n",
      "KeyError: 'projgrad2'\n",
      "[W 2024-10-03 12:48:07,981] Trial 243 failed with value None.\n",
      "[W 2024-10-03 12:48:08,799] Trial 244 failed with parameters: {'β': 0.8212594203728455, 'reverse_pref': False, 'scale_orth': False, 'weight_dim': 0, 'neg_slope': 0.5, 'mag_clip': 0.1, 'lr': 0.00018618283888019124, 'collect_input': True, 'collect_hs': True} because of the following error: KeyError('projgrad2').\n",
      "Traceback (most recent call last):\n",
      "  File \"/workspace/repr-preference-optimization/.venv/lib/python3.11/site-packages/optuna/study/_optimize.py\", line 197, in _run_trial\n",
      "    value_or_values = func(trial)\n",
      "                      ^^^^^^^^^^^\n",
      "  File \"/tmp/ipykernel_1099294/2880211868.py\", line 20, in objective\n",
      "    r = objective_func(kwargs, trial, starter_experiment_name)\n",
      "        ^^^^^^^^^^^^^^^^^^^^^^^^^^^^^^^^^^^^^^^^^^^^^^^^^^^^^^\n",
      "  File \"/tmp/ipykernel_1099294/2880211868.py\", line 10, in objective_func\n",
      "    cfg = copy.deepcopy(experiment_configs[starter_experiment_name][1])\n",
      "                        ~~~~~~~~~~~~~~~~~~^^^^^^^^^^^^^^^^^^^^^^^^^\n",
      "KeyError: 'projgrad2'\n",
      "[W 2024-10-03 12:48:08,807] Trial 244 failed with value None.\n",
      "[W 2024-10-03 12:48:09,692] Trial 245 failed with parameters: {'β': 0.057002387551933986, 'reverse_pref': False, 'scale_orth': False, 'weight_dim': 1, 'neg_slope': 0, 'mag_clip': 1.0, 'lr': 1.1414138574215368e-05, 'collect_input': False, 'collect_hs': False} because of the following error: KeyError('projgrad2').\n",
      "Traceback (most recent call last):\n",
      "  File \"/workspace/repr-preference-optimization/.venv/lib/python3.11/site-packages/optuna/study/_optimize.py\", line 197, in _run_trial\n",
      "    value_or_values = func(trial)\n",
      "                      ^^^^^^^^^^^\n",
      "  File \"/tmp/ipykernel_1099294/2880211868.py\", line 20, in objective\n",
      "    r = objective_func(kwargs, trial, starter_experiment_name)\n",
      "        ^^^^^^^^^^^^^^^^^^^^^^^^^^^^^^^^^^^^^^^^^^^^^^^^^^^^^^\n",
      "  File \"/tmp/ipykernel_1099294/2880211868.py\", line 10, in objective_func\n",
      "    cfg = copy.deepcopy(experiment_configs[starter_experiment_name][1])\n",
      "                        ~~~~~~~~~~~~~~~~~~^^^^^^^^^^^^^^^^^^^^^^^^^\n",
      "KeyError: 'projgrad2'\n",
      "[W 2024-10-03 12:48:09,693] Trial 245 failed with value None.\n",
      "[W 2024-10-03 12:48:10,548] Trial 246 failed with parameters: {'β': 0.962732583861139, 'reverse_pref': True, 'scale_orth': False, 'weight_dim': 1, 'neg_slope': 0.5, 'mag_clip': 10, 'lr': 5.4875505198467396e-05, 'collect_input': False, 'collect_hs': False} because of the following error: KeyError('projgrad2').\n",
      "Traceback (most recent call last):\n",
      "  File \"/workspace/repr-preference-optimization/.venv/lib/python3.11/site-packages/optuna/study/_optimize.py\", line 197, in _run_trial\n",
      "    value_or_values = func(trial)\n",
      "                      ^^^^^^^^^^^\n",
      "  File \"/tmp/ipykernel_1099294/2880211868.py\", line 20, in objective\n",
      "    r = objective_func(kwargs, trial, starter_experiment_name)\n",
      "        ^^^^^^^^^^^^^^^^^^^^^^^^^^^^^^^^^^^^^^^^^^^^^^^^^^^^^^\n",
      "  File \"/tmp/ipykernel_1099294/2880211868.py\", line 10, in objective_func\n",
      "    cfg = copy.deepcopy(experiment_configs[starter_experiment_name][1])\n",
      "                        ~~~~~~~~~~~~~~~~~~^^^^^^^^^^^^^^^^^^^^^^^^^\n",
      "KeyError: 'projgrad2'\n",
      "[W 2024-10-03 12:48:10,556] Trial 246 failed with value None.\n",
      "[W 2024-10-03 12:48:11,373] Trial 247 failed with parameters: {'β': 0.4943708110457581, 'reverse_pref': True, 'scale_orth': False, 'weight_dim': 1, 'neg_slope': 0, 'mag_clip': 100, 'lr': 7.52916596226265e-06, 'collect_input': False, 'collect_hs': True} because of the following error: KeyError('projgrad2').\n",
      "Traceback (most recent call last):\n",
      "  File \"/workspace/repr-preference-optimization/.venv/lib/python3.11/site-packages/optuna/study/_optimize.py\", line 197, in _run_trial\n",
      "    value_or_values = func(trial)\n",
      "                      ^^^^^^^^^^^\n",
      "  File \"/tmp/ipykernel_1099294/2880211868.py\", line 20, in objective\n",
      "    r = objective_func(kwargs, trial, starter_experiment_name)\n",
      "        ^^^^^^^^^^^^^^^^^^^^^^^^^^^^^^^^^^^^^^^^^^^^^^^^^^^^^^\n",
      "  File \"/tmp/ipykernel_1099294/2880211868.py\", line 10, in objective_func\n",
      "    cfg = copy.deepcopy(experiment_configs[starter_experiment_name][1])\n",
      "                        ~~~~~~~~~~~~~~~~~~^^^^^^^^^^^^^^^^^^^^^^^^^\n",
      "KeyError: 'projgrad2'\n",
      "[W 2024-10-03 12:48:11,375] Trial 247 failed with value None.\n",
      "[W 2024-10-03 12:48:12,215] Trial 248 failed with parameters: {'β': 0.9152899403792739, 'reverse_pref': False, 'scale_orth': False, 'weight_dim': 2, 'neg_slope': 0.01, 'mag_clip': 100, 'lr': 0.00024363244787861958, 'collect_input': True, 'collect_hs': True} because of the following error: KeyError('projgrad2').\n",
      "Traceback (most recent call last):\n",
      "  File \"/workspace/repr-preference-optimization/.venv/lib/python3.11/site-packages/optuna/study/_optimize.py\", line 197, in _run_trial\n",
      "    value_or_values = func(trial)\n",
      "                      ^^^^^^^^^^^\n",
      "  File \"/tmp/ipykernel_1099294/2880211868.py\", line 20, in objective\n",
      "    r = objective_func(kwargs, trial, starter_experiment_name)\n",
      "        ^^^^^^^^^^^^^^^^^^^^^^^^^^^^^^^^^^^^^^^^^^^^^^^^^^^^^^\n",
      "  File \"/tmp/ipykernel_1099294/2880211868.py\", line 10, in objective_func\n",
      "    cfg = copy.deepcopy(experiment_configs[starter_experiment_name][1])\n",
      "                        ~~~~~~~~~~~~~~~~~~^^^^^^^^^^^^^^^^^^^^^^^^^\n",
      "KeyError: 'projgrad2'\n",
      "[W 2024-10-03 12:48:12,218] Trial 248 failed with value None.\n",
      "[W 2024-10-03 12:48:13,090] Trial 249 failed with parameters: {'β': 0.0976100381089916, 'reverse_pref': False, 'scale_orth': True, 'weight_dim': 1, 'neg_slope': 0.1, 'mag_clip': 10, 'lr': 0.00011894136477134622, 'collect_input': False, 'collect_hs': True} because of the following error: KeyError('projgrad2').\n",
      "Traceback (most recent call last):\n",
      "  File \"/workspace/repr-preference-optimization/.venv/lib/python3.11/site-packages/optuna/study/_optimize.py\", line 197, in _run_trial\n",
      "    value_or_values = func(trial)\n",
      "                      ^^^^^^^^^^^\n",
      "  File \"/tmp/ipykernel_1099294/2880211868.py\", line 20, in objective\n",
      "    r = objective_func(kwargs, trial, starter_experiment_name)\n",
      "        ^^^^^^^^^^^^^^^^^^^^^^^^^^^^^^^^^^^^^^^^^^^^^^^^^^^^^^\n",
      "  File \"/tmp/ipykernel_1099294/2880211868.py\", line 10, in objective_func\n",
      "    cfg = copy.deepcopy(experiment_configs[starter_experiment_name][1])\n",
      "                        ~~~~~~~~~~~~~~~~~~^^^^^^^^^^^^^^^^^^^^^^^^^\n",
      "KeyError: 'projgrad2'\n",
      "[W 2024-10-03 12:48:13,092] Trial 249 failed with value None.\n"
     ]
    },
    {
     "name": "stdout",
     "output_type": "stream",
     "text": [
      "================================================================================\n"
     ]
    },
    {
     "name": "stderr",
     "output_type": "stream",
     "text": [
      "[I 2024-10-03 12:48:13,538] A new study created in RDB with name: side-ether-prefvec\n",
      "\u001b[34m\u001b[1mwandb\u001b[0m: \u001b[33mWARNING\u001b[0m Disabling the wandb service is deprecated as of version 0.18.0 and will be removed in version 0.19.0.\n",
      "[I 2024-10-03 12:51:31,978] Trial 0 finished with value: 1.0076923076923077 and parameters: {'lr': 1.329291894316217e-05, 'collect_input': True, 'collect_hs': True, 'nb': 5, 'Htype': 'etherplus', 'flip_side': False, 'reduction': 167, 'β': 2.177484667394932e-05, 'use_orth_loss': False, 'use_angle_loss': False, 'use_dpo_loss': True, 'use_nll_loss': True, 'weight_tokens': False}. Best is trial 0 with value: 1.0076923076923077.\n"
     ]
    },
    {
     "name": "stdout",
     "output_type": "stream",
     "text": [
      "\n",
      "| acc_inc/eval_ds [pp]                                                                                                                                                                                                            |   train |   test |   oos |   rnd |\n",
      "|:--------------------------------------------------------------------------------------------------------------------------------------------------------------------------------------------------------------------------------|--------:|-------:|------:|------:|\n",
      "| ReprPO collect_hs=True collect_input=True loss.use_angle_loss=False loss.use_dpo_loss=True loss.use_nll_loss=True loss.use_orth_loss=False loss.β=0.00 lr=0.00 transform.Htype=etherplus transform.nb=5 transform.reduction=167 |   1.653 |      0 | 0.769 | 5.263 |\n"
     ]
    },
    {
     "name": "stderr",
     "output_type": "stream",
     "text": [
      "[I 2024-10-03 12:54:37,159] Trial 1 finished with value: 0.6557692307692308 and parameters: {'lr': 2.334586407601622e-05, 'collect_input': True, 'collect_hs': False, 'nb': 2, 'Htype': 'etherplusHH', 'flip_side': True, 'reduction': 61, 'β': 4.125104169651939e-06, 'use_orth_loss': True, 'use_angle_loss': False, 'use_dpo_loss': False, 'use_nll_loss': False, 'weight_tokens': False}. Best is trial 0 with value: 1.0076923076923077.\n"
     ]
    },
    {
     "name": "stdout",
     "output_type": "stream",
     "text": [
      "\n",
      "| acc_inc/eval_ds [pp]                                                                                                                   |   train |    test |     oos |    rnd |\n",
      "|:---------------------------------------------------------------------------------------------------------------------------------------|--------:|--------:|--------:|-------:|\n",
      "| ReprPO collect_input=True loss.use_angle_loss=False loss.β=0.00 lr=0.00 transform.flip_side=True transform.nb=2 transform.reduction=61 | -26.446 | -25.984 | -34.423 | 17.544 |\n"
     ]
    },
    {
     "name": "stderr",
     "output_type": "stream",
     "text": [
      "[I 2024-10-03 12:57:51,753] Trial 2 finished with value: 0.4115384615384615 and parameters: {'lr': 4.366473592979636e-05, 'collect_input': False, 'collect_hs': False, 'nb': 29, 'Htype': 'etherplus', 'flip_side': False, 'reduction': 78, 'β': 5.125997481860622e-05, 'use_orth_loss': True, 'use_angle_loss': False, 'use_dpo_loss': False, 'use_nll_loss': False, 'weight_tokens': True}. Best is trial 0 with value: 1.0076923076923077.\n"
     ]
    },
    {
     "name": "stdout",
     "output_type": "stream",
     "text": [
      "\n",
      "| acc_inc/eval_ds [pp]                                                                                                                          |   train |    test |     oos |   rnd |\n",
      "|:----------------------------------------------------------------------------------------------------------------------------------------------|--------:|--------:|--------:|------:|\n",
      "| ReprPO loss.use_angle_loss=False loss.weight_tokens=True loss.β=0.00 lr=0.00 transform.Htype=etherplus transform.nb=29 transform.reduction=78 | -45.455 | -38.583 | -58.846 | 3.509 |\n"
     ]
    },
    {
     "name": "stderr",
     "output_type": "stream",
     "text": [
      "[I 2024-10-03 13:01:05,807] Trial 3 finished with value: 0.998076923076923 and parameters: {'lr': 1.0388823104027941e-06, 'collect_input': True, 'collect_hs': False, 'nb': 3, 'Htype': 'oft', 'flip_side': True, 'reduction': 63, 'β': 0.00011194117628280075, 'use_orth_loss': True, 'use_angle_loss': True, 'use_dpo_loss': False, 'use_nll_loss': True, 'weight_tokens': True}. Best is trial 0 with value: 1.0076923076923077.\n"
     ]
    },
    {
     "name": "stdout",
     "output_type": "stream",
     "text": [
      "\n",
      "| acc_inc/eval_ds [pp]                                                                                                                                                            |   train |   test |    oos |   rnd |\n",
      "|:--------------------------------------------------------------------------------------------------------------------------------------------------------------------------------|--------:|-------:|-------:|------:|\n",
      "| ReprPO collect_input=True loss.use_nll_loss=True loss.weight_tokens=True loss.β=0.00 lr=0.00 transform.Htype=oft transform.flip_side=True transform.nb=3 transform.reduction=63 |   0.826 |      0 | -0.192 | 7.018 |\n"
     ]
    },
    {
     "name": "stderr",
     "output_type": "stream",
     "text": [
      "[I 2024-10-03 13:04:06,426] Trial 4 finished with value: 0.9942307692307693 and parameters: {'lr': 3.69997243146381e-05, 'collect_input': True, 'collect_hs': True, 'nb': 21, 'Htype': 'oft', 'flip_side': False, 'reduction': 46, 'β': 3.0552919858775247e-06, 'use_orth_loss': True, 'use_angle_loss': True, 'use_dpo_loss': False, 'use_nll_loss': True, 'weight_tokens': True}. Best is trial 0 with value: 1.0076923076923077.\n"
     ]
    },
    {
     "name": "stdout",
     "output_type": "stream",
     "text": [
      "\n",
      "| acc_inc/eval_ds [pp]                                                                                                                                                    |   train |   test |    oos |   rnd |\n",
      "|:------------------------------------------------------------------------------------------------------------------------------------------------------------------------|--------:|-------:|-------:|------:|\n",
      "| ReprPO collect_hs=True collect_input=True loss.use_nll_loss=True loss.weight_tokens=True loss.β=0.00 lr=0.00 transform.Htype=oft transform.nb=21 transform.reduction=46 |       0 |      0 | -0.577 | 3.509 |\n"
     ]
    },
    {
     "name": "stderr",
     "output_type": "stream",
     "text": [
      "[I 2024-10-03 13:07:14,352] Trial 5 finished with value: 0.75 and parameters: {'lr': 0.00026443593078398644, 'collect_input': True, 'collect_hs': False, 'nb': 14, 'Htype': 'etherplus', 'flip_side': True, 'reduction': 24, 'β': 0.00013406744164904714, 'use_orth_loss': True, 'use_angle_loss': False, 'use_dpo_loss': False, 'use_nll_loss': True, 'weight_tokens': True}. Best is trial 0 with value: 1.0076923076923077.\n"
     ]
    },
    {
     "name": "stdout",
     "output_type": "stream",
     "text": [
      "\n",
      "| acc_inc/eval_ds [pp]                                                                                                                                                                                             |   train |   test |   oos |     rnd |\n",
      "|:-----------------------------------------------------------------------------------------------------------------------------------------------------------------------------------------------------------------|--------:|-------:|------:|--------:|\n",
      "| ReprPO collect_input=True loss.use_angle_loss=False loss.use_nll_loss=True loss.weight_tokens=True loss.β=0.00 lr=0.00 transform.Htype=etherplus transform.flip_side=True transform.nb=14 transform.reduction=24 | -13.223 | -2.362 |   -25 | -14.035 |\n"
     ]
    },
    {
     "name": "stderr",
     "output_type": "stream",
     "text": [
      "[I 2024-10-03 13:10:22,959] Trial 6 finished with value: 1.0076923076923077 and parameters: {'lr': 7.153547794693157e-06, 'collect_input': False, 'collect_hs': True, 'nb': 9, 'Htype': 'ether', 'flip_side': True, 'reduction': 135, 'β': 0.0629488849310978, 'use_orth_loss': False, 'use_angle_loss': False, 'use_dpo_loss': True, 'use_nll_loss': False, 'weight_tokens': True}. Best is trial 0 with value: 1.0076923076923077.\n"
     ]
    },
    {
     "name": "stdout",
     "output_type": "stream",
     "text": [
      "\n",
      "| acc_inc/eval_ds [pp]                                                                                                                                                                                                               |   train |   test |   oos |   rnd |\n",
      "|:-----------------------------------------------------------------------------------------------------------------------------------------------------------------------------------------------------------------------------------|--------:|-------:|------:|------:|\n",
      "| ReprPO collect_hs=True loss.use_angle_loss=False loss.use_dpo_loss=True loss.use_orth_loss=False loss.weight_tokens=True loss.β=0.06 lr=0.00 transform.Htype=ether transform.flip_side=True transform.nb=9 transform.reduction=135 |   1.653 |      0 | 0.769 | 1.754 |\n"
     ]
    },
    {
     "name": "stderr",
     "output_type": "stream",
     "text": [
      "[I 2024-10-03 13:13:49,093] Trial 7 finished with value: 1.001923076923077 and parameters: {'lr': 1.3253342600066535e-06, 'collect_input': False, 'collect_hs': False, 'nb': 8, 'Htype': 'oft', 'flip_side': True, 'reduction': 69, 'β': 5.188001118588271e-06, 'use_orth_loss': True, 'use_angle_loss': False, 'use_dpo_loss': True, 'use_nll_loss': True, 'weight_tokens': False}. Best is trial 0 with value: 1.0076923076923077.\n"
     ]
    },
    {
     "name": "stdout",
     "output_type": "stream",
     "text": [
      "\n",
      "| acc_inc/eval_ds [pp]                                                                                                                                                                  |   train |   test |   oos |   rnd |\n",
      "|:--------------------------------------------------------------------------------------------------------------------------------------------------------------------------------------|--------:|-------:|------:|------:|\n",
      "| ReprPO loss.use_angle_loss=False loss.use_dpo_loss=True loss.use_nll_loss=True loss.β=0.00 lr=0.00 transform.Htype=oft transform.flip_side=True transform.nb=8 transform.reduction=69 |       0 |      0 | 0.192 | 1.754 |\n"
     ]
    },
    {
     "name": "stderr",
     "output_type": "stream",
     "text": [
      "[I 2024-10-03 13:16:56,858] Trial 8 finished with value: 0.4461538461538462 and parameters: {'lr': 0.0005026366723161421, 'collect_input': True, 'collect_hs': False, 'nb': 29, 'Htype': 'ether', 'flip_side': False, 'reduction': 122, 'β': 1.1427491268016368e-06, 'use_orth_loss': False, 'use_angle_loss': False, 'use_dpo_loss': False, 'use_nll_loss': True, 'weight_tokens': True}. Best is trial 0 with value: 1.0076923076923077.\n"
     ]
    },
    {
     "name": "stdout",
     "output_type": "stream",
     "text": [
      "\n",
      "| acc_inc/eval_ds [pp]                                                                                                                                                                                          |   train |    test |     oos |   rnd |\n",
      "|:--------------------------------------------------------------------------------------------------------------------------------------------------------------------------------------------------------------|--------:|--------:|--------:|------:|\n",
      "| ReprPO collect_input=True loss.use_angle_loss=False loss.use_nll_loss=True loss.use_orth_loss=False loss.weight_tokens=True loss.β=0.00 lr=0.00 transform.Htype=ether transform.nb=29 transform.reduction=122 | -39.669 | -37.008 | -55.385 | 1.754 |\n"
     ]
    },
    {
     "name": "stderr",
     "output_type": "stream",
     "text": [
      "[I 2024-10-03 13:19:58,324] Trial 9 finished with value: 1.0076923076923077 and parameters: {'lr': 9.466710461838324e-06, 'collect_input': True, 'collect_hs': True, 'nb': 19, 'Htype': 'etherplus', 'flip_side': True, 'reduction': 179, 'β': 0.009480329103037007, 'use_orth_loss': True, 'use_angle_loss': True, 'use_dpo_loss': False, 'use_nll_loss': True, 'weight_tokens': True}. Best is trial 0 with value: 1.0076923076923077.\n"
     ]
    },
    {
     "name": "stdout",
     "output_type": "stream",
     "text": [
      "\n",
      "| acc_inc/eval_ds [pp]                                                                                                                                                                                    |   train |   test |   oos |   rnd |\n",
      "|:--------------------------------------------------------------------------------------------------------------------------------------------------------------------------------------------------------|--------:|-------:|------:|------:|\n",
      "| ReprPO collect_hs=True collect_input=True loss.use_nll_loss=True loss.weight_tokens=True loss.β=0.01 lr=0.00 transform.Htype=etherplus transform.flip_side=True transform.nb=19 transform.reduction=179 |   0.826 |      0 | 0.769 |     0 |\n"
     ]
    },
    {
     "name": "stderr",
     "output_type": "stream",
     "text": [
      "[I 2024-10-03 13:23:07,659] Trial 10 finished with value: 1.0884615384615386 and parameters: {'lr': 0.00021464035477145843, 'collect_input': False, 'collect_hs': True, 'nb': 12, 'Htype': 'etherplusHH', 'flip_side': False, 'reduction': 195, 'β': 0.3061018059043467, 'use_orth_loss': False, 'use_angle_loss': True, 'use_dpo_loss': True, 'use_nll_loss': False, 'weight_tokens': False}. Best is trial 10 with value: 1.0884615384615386.\n"
     ]
    },
    {
     "name": "stdout",
     "output_type": "stream",
     "text": [
      "\n",
      "| acc_inc/eval_ds [pp]                                                                                                               |   train |   test |   oos |   rnd |\n",
      "|:-----------------------------------------------------------------------------------------------------------------------------------|--------:|-------:|------:|------:|\n",
      "| ReprPO collect_hs=True loss.use_dpo_loss=True loss.use_orth_loss=False loss.β=0.31 lr=0.00 transform.nb=12 transform.reduction=195 |   5.785 |      0 | 8.846 | 5.263 |\n"
     ]
    },
    {
     "name": "stderr",
     "output_type": "stream",
     "text": [
      "[I 2024-10-03 13:26:16,826] Trial 11 finished with value: 1.0692307692307692 and parameters: {'lr': 0.00012864512482649277, 'collect_input': False, 'collect_hs': True, 'nb': 11, 'Htype': 'etherplusHH', 'flip_side': False, 'reduction': 195, 'β': 0.659967806764974, 'use_orth_loss': False, 'use_angle_loss': True, 'use_dpo_loss': True, 'use_nll_loss': False, 'weight_tokens': False}. Best is trial 10 with value: 1.0884615384615386.\n"
     ]
    },
    {
     "name": "stdout",
     "output_type": "stream",
     "text": [
      "\n",
      "| acc_inc/eval_ds [pp]                                                                                                               |   train |   test |   oos |   rnd |\n",
      "|:-----------------------------------------------------------------------------------------------------------------------------------|--------:|-------:|------:|------:|\n",
      "| ReprPO collect_hs=True loss.use_dpo_loss=True loss.use_orth_loss=False loss.β=0.66 lr=0.00 transform.nb=11 transform.reduction=195 |   4.132 |      0 | 6.923 |     0 |\n"
     ]
    },
    {
     "name": "stderr",
     "output_type": "stream",
     "text": [
      "[I 2024-10-03 13:29:25,784] Trial 12 finished with value: 1.0634615384615385 and parameters: {'lr': 0.00012971108814785514, 'collect_input': False, 'collect_hs': True, 'nb': 13, 'Htype': 'etherplusHH', 'flip_side': False, 'reduction': 191, 'β': 1.8975987191914625, 'use_orth_loss': False, 'use_angle_loss': True, 'use_dpo_loss': True, 'use_nll_loss': False, 'weight_tokens': False}. Best is trial 10 with value: 1.0884615384615386.\n"
     ]
    },
    {
     "name": "stdout",
     "output_type": "stream",
     "text": [
      "\n",
      "| acc_inc/eval_ds [pp]                                                                                                               |   train |   test |   oos |    rnd |\n",
      "|:-----------------------------------------------------------------------------------------------------------------------------------|--------:|-------:|------:|-------:|\n",
      "| ReprPO collect_hs=True loss.use_dpo_loss=True loss.use_orth_loss=False loss.β=1.90 lr=0.00 transform.nb=13 transform.reduction=191 |   1.653 |      0 | 6.346 | -1.754 |\n"
     ]
    },
    {
     "name": "stderr",
     "output_type": "stream",
     "text": [
      "[I 2024-10-03 13:32:35,750] Trial 13 finished with value: 0.49807692307692303 and parameters: {'lr': 0.0009728613904848096, 'collect_input': False, 'collect_hs': True, 'nb': 24, 'Htype': 'etherplusHH', 'flip_side': False, 'reduction': 152, 'β': 1.9197900904217455, 'use_orth_loss': False, 'use_angle_loss': True, 'use_dpo_loss': True, 'use_nll_loss': False, 'weight_tokens': False}. Best is trial 10 with value: 1.0884615384615386.\n"
     ]
    },
    {
     "name": "stdout",
     "output_type": "stream",
     "text": [
      "\n",
      "| acc_inc/eval_ds [pp]                                                                                                               |   train |    test |     oos |    rnd |\n",
      "|:-----------------------------------------------------------------------------------------------------------------------------------|--------:|--------:|--------:|-------:|\n",
      "| ReprPO collect_hs=True loss.use_dpo_loss=True loss.use_orth_loss=False loss.β=1.92 lr=0.00 transform.nb=24 transform.reduction=152 | -19.008 | -23.622 | -50.192 | 15.789 |\n"
     ]
    },
    {
     "name": "stderr",
     "output_type": "stream",
     "text": [
      "[I 2024-10-03 13:35:45,211] Trial 14 finished with value: 1.0596153846153846 and parameters: {'lr': 0.0001027153683243513, 'collect_input': False, 'collect_hs': True, 'nb': 12, 'Htype': 'etherplusHH', 'flip_side': False, 'reduction': 192, 'β': 0.18104117126650143, 'use_orth_loss': False, 'use_angle_loss': True, 'use_dpo_loss': True, 'use_nll_loss': False, 'weight_tokens': False}. Best is trial 10 with value: 1.0884615384615386.\n"
     ]
    },
    {
     "name": "stdout",
     "output_type": "stream",
     "text": [
      "\n",
      "| acc_inc/eval_ds [pp]                                                                                                               |   train |   test |   oos |   rnd |\n",
      "|:-----------------------------------------------------------------------------------------------------------------------------------|--------:|-------:|------:|------:|\n",
      "| ReprPO collect_hs=True loss.use_dpo_loss=True loss.use_orth_loss=False loss.β=0.18 lr=0.00 transform.nb=12 transform.reduction=192 |   3.306 |      0 | 5.962 | 1.754 |\n"
     ]
    },
    {
     "name": "stderr",
     "output_type": "stream",
     "text": [
      "[I 2024-10-03 13:38:55,154] Trial 15 finished with value: 1.0557692307692308 and parameters: {'lr': 0.00012460145760560812, 'collect_input': False, 'collect_hs': True, 'nb': 16, 'Htype': 'etherplusHH', 'flip_side': False, 'reduction': 113, 'β': 0.0018469350337445294, 'use_orth_loss': False, 'use_angle_loss': True, 'use_dpo_loss': True, 'use_nll_loss': False, 'weight_tokens': False}. Best is trial 10 with value: 1.0884615384615386.\n"
     ]
    },
    {
     "name": "stdout",
     "output_type": "stream",
     "text": [
      "\n",
      "| acc_inc/eval_ds [pp]                                                                                                               |   train |   test |   oos |   rnd |\n",
      "|:-----------------------------------------------------------------------------------------------------------------------------------|--------:|-------:|------:|------:|\n",
      "| ReprPO collect_hs=True loss.use_dpo_loss=True loss.use_orth_loss=False loss.β=0.00 lr=0.00 transform.nb=16 transform.reduction=113 |   4.132 |      0 | 5.577 | 7.018 |\n"
     ]
    },
    {
     "name": "stderr",
     "output_type": "stream",
     "text": [
      "[I 2024-10-03 13:42:05,450] Trial 16 finished with value: 1.0596153846153846 and parameters: {'lr': 0.00028593710397532363, 'collect_input': False, 'collect_hs': True, 'nb': 9, 'Htype': 'etherplusHH', 'flip_side': False, 'reduction': 153, 'β': 0.14951216272677859, 'use_orth_loss': False, 'use_angle_loss': True, 'use_dpo_loss': True, 'use_nll_loss': False, 'weight_tokens': False}. Best is trial 10 with value: 1.0884615384615386.\n"
     ]
    },
    {
     "name": "stdout",
     "output_type": "stream",
     "text": [
      "\n",
      "| acc_inc/eval_ds [pp]                                                                                                              |   train |   test |   oos |    rnd |\n",
      "|:----------------------------------------------------------------------------------------------------------------------------------|--------:|-------:|------:|-------:|\n",
      "| ReprPO collect_hs=True loss.use_dpo_loss=True loss.use_orth_loss=False loss.β=0.15 lr=0.00 transform.nb=9 transform.reduction=153 |   5.785 |      0 | 5.962 | 19.298 |\n"
     ]
    },
    {
     "name": "stderr",
     "output_type": "stream",
     "text": [
      "[I 2024-10-03 13:45:14,994] Trial 17 finished with value: 1.0461538461538462 and parameters: {'lr': 6.408031620951145e-05, 'collect_input': False, 'collect_hs': True, 'nb': 19, 'Htype': 'etherplusHH', 'flip_side': False, 'reduction': 197, 'β': 0.014076879542587663, 'use_orth_loss': False, 'use_angle_loss': True, 'use_dpo_loss': True, 'use_nll_loss': False, 'weight_tokens': False}. Best is trial 10 with value: 1.0884615384615386.\n"
     ]
    },
    {
     "name": "stdout",
     "output_type": "stream",
     "text": [
      "\n",
      "| acc_inc/eval_ds [pp]                                                                                                               |   train |   test |   oos |   rnd |\n",
      "|:-----------------------------------------------------------------------------------------------------------------------------------|--------:|-------:|------:|------:|\n",
      "| ReprPO collect_hs=True loss.use_dpo_loss=True loss.use_orth_loss=False loss.β=0.01 lr=0.00 transform.nb=19 transform.reduction=197 |   3.306 |      0 | 4.615 | 3.509 |\n"
     ]
    },
    {
     "name": "stderr",
     "output_type": "stream",
     "text": [
      "[I 2024-10-03 13:48:23,501] Trial 18 finished with value: 1.0788461538461538 and parameters: {'lr': 0.00025852418158143716, 'collect_input': False, 'collect_hs': True, 'nb': 6, 'Htype': 'etherplusHH', 'flip_side': False, 'reduction': 101, 'β': 0.21384039312498337, 'use_orth_loss': False, 'use_angle_loss': True, 'use_dpo_loss': True, 'use_nll_loss': False, 'weight_tokens': False}. Best is trial 10 with value: 1.0884615384615386.\n"
     ]
    },
    {
     "name": "stdout",
     "output_type": "stream",
     "text": [
      "\n",
      "| acc_inc/eval_ds [pp]                                                                                               |   train |   test |   oos |    rnd |\n",
      "|:-------------------------------------------------------------------------------------------------------------------|--------:|-------:|------:|-------:|\n",
      "| ReprPO collect_hs=True loss.use_dpo_loss=True loss.use_orth_loss=False loss.β=0.21 lr=0.00 transform.reduction=101 |   4.132 |      0 | 7.885 | 15.789 |\n"
     ]
    },
    {
     "name": "stderr",
     "output_type": "stream",
     "text": [
      "[I 2024-10-03 13:51:32,328] Trial 19 finished with value: 0.8365384615384615 and parameters: {'lr': 0.0008293441206553162, 'collect_input': False, 'collect_hs': True, 'nb': 6, 'Htype': 'ether', 'flip_side': False, 'reduction': 3, 'β': 0.0008051718286843946, 'use_orth_loss': False, 'use_angle_loss': True, 'use_dpo_loss': True, 'use_nll_loss': False, 'weight_tokens': False}. Best is trial 10 with value: 1.0884615384615386.\n"
     ]
    },
    {
     "name": "stdout",
     "output_type": "stream",
     "text": [
      "\n",
      "| acc_inc/eval_ds [pp]                                                                                                                   |   train |   test |     oos |    rnd |\n",
      "|:---------------------------------------------------------------------------------------------------------------------------------------|--------:|-------:|--------:|-------:|\n",
      "| ReprPO collect_hs=True loss.use_dpo_loss=True loss.use_orth_loss=False loss.β=0.00 lr=0.00 transform.Htype=ether transform.reduction=3 |   3.306 |  -3.15 | -16.346 | 15.789 |\n"
     ]
    },
    {
     "name": "stderr",
     "output_type": "stream",
     "text": [
      "[I 2024-10-03 13:54:42,314] Trial 20 finished with value: 1.0807692307692307 and parameters: {'lr': 0.0003197663175133415, 'collect_input': False, 'collect_hs': True, 'nb': 1, 'Htype': 'etherplusHH', 'flip_side': False, 'reduction': 82, 'β': 0.03842803161437499, 'use_orth_loss': False, 'use_angle_loss': True, 'use_dpo_loss': True, 'use_nll_loss': False, 'weight_tokens': False}. Best is trial 10 with value: 1.0884615384615386.\n"
     ]
    },
    {
     "name": "stdout",
     "output_type": "stream",
     "text": [
      "\n",
      "| acc_inc/eval_ds [pp]                                                                                                             |   train |   test |   oos |     rnd |\n",
      "|:---------------------------------------------------------------------------------------------------------------------------------|--------:|-------:|------:|--------:|\n",
      "| ReprPO collect_hs=True loss.use_dpo_loss=True loss.use_orth_loss=False loss.β=0.04 lr=0.00 transform.nb=1 transform.reduction=82 |   4.959 |  0.787 | 8.077 | -22.807 |\n"
     ]
    },
    {
     "name": "stderr",
     "output_type": "stream",
     "text": [
      "[I 2024-10-03 13:57:50,913] Trial 21 finished with value: 1.0192307692307692 and parameters: {'lr': 0.00029497308489698617, 'collect_input': False, 'collect_hs': True, 'nb': 1, 'Htype': 'etherplusHH', 'flip_side': False, 'reduction': 92, 'β': 0.034234182243321705, 'use_orth_loss': False, 'use_angle_loss': True, 'use_dpo_loss': True, 'use_nll_loss': False, 'weight_tokens': False}. Best is trial 10 with value: 1.0884615384615386.\n"
     ]
    },
    {
     "name": "stdout",
     "output_type": "stream",
     "text": [
      "\n",
      "| acc_inc/eval_ds [pp]                                                                                                             |   train |   test |   oos |    rnd |\n",
      "|:---------------------------------------------------------------------------------------------------------------------------------|--------:|-------:|------:|-------:|\n",
      "| ReprPO collect_hs=True loss.use_dpo_loss=True loss.use_orth_loss=False loss.β=0.03 lr=0.00 transform.nb=1 transform.reduction=92 |   4.959 |      0 | 1.923 | 15.789 |\n"
     ]
    },
    {
     "name": "stderr",
     "output_type": "stream",
     "text": [
      "[I 2024-10-03 14:01:00,665] Trial 22 finished with value: 1.025 and parameters: {'lr': 0.0004219513095616896, 'collect_input': False, 'collect_hs': True, 'nb': 5, 'Htype': 'etherplusHH', 'flip_side': False, 'reduction': 30, 'β': 0.29485653737200374, 'use_orth_loss': False, 'use_angle_loss': True, 'use_dpo_loss': True, 'use_nll_loss': False, 'weight_tokens': False}. Best is trial 10 with value: 1.0884615384615386.\n"
     ]
    },
    {
     "name": "stdout",
     "output_type": "stream",
     "text": [
      "\n",
      "| acc_inc/eval_ds [pp]                                                                                                             |   train |   test |   oos |    rnd |\n",
      "|:---------------------------------------------------------------------------------------------------------------------------------|--------:|-------:|------:|-------:|\n",
      "| ReprPO collect_hs=True loss.use_dpo_loss=True loss.use_orth_loss=False loss.β=0.29 lr=0.00 transform.nb=5 transform.reduction=30 |   4.132 | -0.787 |   2.5 | -5.263 |\n"
     ]
    },
    {
     "name": "stderr",
     "output_type": "stream",
     "text": [
      "[I 2024-10-03 14:04:10,293] Trial 23 finished with value: 1.0653846153846154 and parameters: {'lr': 0.00021788166973709302, 'collect_input': False, 'collect_hs': True, 'nb': 7, 'Htype': 'etherplusHH', 'flip_side': False, 'reduction': 92, 'β': 0.0030380378180206473, 'use_orth_loss': False, 'use_angle_loss': True, 'use_dpo_loss': True, 'use_nll_loss': False, 'weight_tokens': False}. Best is trial 10 with value: 1.0884615384615386.\n"
     ]
    },
    {
     "name": "stdout",
     "output_type": "stream",
     "text": [
      "\n",
      "| acc_inc/eval_ds [pp]                                                                                                             |   train |   test |   oos |    rnd |\n",
      "|:---------------------------------------------------------------------------------------------------------------------------------|--------:|-------:|------:|-------:|\n",
      "| ReprPO collect_hs=True loss.use_dpo_loss=True loss.use_orth_loss=False loss.β=0.00 lr=0.00 transform.nb=7 transform.reduction=92 |   5.785 |      0 | 6.538 | 19.298 |\n"
     ]
    },
    {
     "name": "stderr",
     "output_type": "stream",
     "text": [
      "[I 2024-10-03 14:07:18,232] Trial 24 finished with value: 0.9884615384615385 and parameters: {'lr': 0.0005722792420528559, 'collect_input': False, 'collect_hs': True, 'nb': 3, 'Htype': 'etherplusHH', 'flip_side': False, 'reduction': 110, 'β': 0.03133484740818314, 'use_orth_loss': False, 'use_angle_loss': True, 'use_dpo_loss': True, 'use_nll_loss': False, 'weight_tokens': False}. Best is trial 10 with value: 1.0884615384615386.\n"
     ]
    },
    {
     "name": "stdout",
     "output_type": "stream",
     "text": [
      "\n",
      "| acc_inc/eval_ds [pp]                                                                                                              |   train |   test |    oos |   rnd |\n",
      "|:----------------------------------------------------------------------------------------------------------------------------------|--------:|-------:|-------:|------:|\n",
      "| ReprPO collect_hs=True loss.use_dpo_loss=True loss.use_orth_loss=False loss.β=0.03 lr=0.00 transform.nb=3 transform.reduction=110 |   0.826 | -0.787 | -1.154 | 7.018 |\n"
     ]
    },
    {
     "name": "stderr",
     "output_type": "stream",
     "text": [
      "[I 2024-10-03 14:10:28,100] Trial 25 finished with value: 1.0942307692307693 and parameters: {'lr': 0.0001735399258456692, 'collect_input': False, 'collect_hs': True, 'nb': 1, 'Htype': 'etherplusHH', 'flip_side': False, 'reduction': 129, 'β': 0.5134688717243842, 'use_orth_loss': False, 'use_angle_loss': True, 'use_dpo_loss': True, 'use_nll_loss': False, 'weight_tokens': False}. Best is trial 25 with value: 1.0942307692307693.\n"
     ]
    },
    {
     "name": "stdout",
     "output_type": "stream",
     "text": [
      "\n",
      "| acc_inc/eval_ds [pp]                                                                                                              |   train |   test |   oos |   rnd |\n",
      "|:----------------------------------------------------------------------------------------------------------------------------------|--------:|-------:|------:|------:|\n",
      "| ReprPO collect_hs=True loss.use_dpo_loss=True loss.use_orth_loss=False loss.β=0.51 lr=0.00 transform.nb=1 transform.reduction=129 |   5.785 |      0 | 9.423 | 3.509 |\n"
     ]
    },
    {
     "name": "stderr",
     "output_type": "stream",
     "text": [
      "[I 2024-10-03 14:13:36,443] Trial 26 finished with value: 1.0557692307692308 and parameters: {'lr': 6.352152426000522e-05, 'collect_input': False, 'collect_hs': True, 'nb': 1, 'Htype': 'etherplusHH', 'flip_side': False, 'reduction': 138, 'β': 0.6712472323545516, 'use_orth_loss': False, 'use_angle_loss': True, 'use_dpo_loss': True, 'use_nll_loss': False, 'weight_tokens': False}. Best is trial 25 with value: 1.0942307692307693.\n"
     ]
    },
    {
     "name": "stdout",
     "output_type": "stream",
     "text": [
      "\n",
      "| acc_inc/eval_ds [pp]                                                                                                              |   train |   test |   oos |    rnd |\n",
      "|:----------------------------------------------------------------------------------------------------------------------------------|--------:|-------:|------:|-------:|\n",
      "| ReprPO collect_hs=True loss.use_dpo_loss=True loss.use_orth_loss=False loss.β=0.67 lr=0.00 transform.nb=1 transform.reduction=138 |   2.479 |      0 | 5.577 | -1.754 |\n"
     ]
    },
    {
     "name": "stderr",
     "output_type": "stream",
     "text": [
      "[I 2024-10-03 14:16:48,237] Trial 27 finished with value: 1.0538461538461539 and parameters: {'lr': 7.444064768688397e-05, 'collect_input': False, 'collect_hs': True, 'nb': 23, 'Htype': 'oft', 'flip_side': False, 'reduction': 166, 'β': 0.07591122972980818, 'use_orth_loss': False, 'use_angle_loss': True, 'use_dpo_loss': True, 'use_nll_loss': False, 'weight_tokens': False}. Best is trial 25 with value: 1.0942307692307693.\n"
     ]
    },
    {
     "name": "stdout",
     "output_type": "stream",
     "text": [
      "\n",
      "| acc_inc/eval_ds [pp]                                                                                                                                   |   train |   test |   oos |   rnd |\n",
      "|:-------------------------------------------------------------------------------------------------------------------------------------------------------|--------:|-------:|------:|------:|\n",
      "| ReprPO collect_hs=True loss.use_dpo_loss=True loss.use_orth_loss=False loss.β=0.08 lr=0.00 transform.Htype=oft transform.nb=23 transform.reduction=166 |   2.479 |      0 | 5.385 | 3.509 |\n"
     ]
    },
    {
     "name": "stderr",
     "output_type": "stream",
     "text": [
      "[I 2024-10-03 14:19:57,500] Trial 28 finished with value: 1.0884615384615386 and parameters: {'lr': 0.00018223909279876919, 'collect_input': False, 'collect_hs': True, 'nb': 10, 'Htype': 'ether', 'flip_side': False, 'reduction': 126, 'β': 0.612356813333024, 'use_orth_loss': False, 'use_angle_loss': True, 'use_dpo_loss': True, 'use_nll_loss': False, 'weight_tokens': False}. Best is trial 25 with value: 1.0942307692307693.\n"
     ]
    },
    {
     "name": "stdout",
     "output_type": "stream",
     "text": [
      "\n",
      "| acc_inc/eval_ds [pp]                                                                                                                                     |   train |   test |   oos |    rnd |\n",
      "|:---------------------------------------------------------------------------------------------------------------------------------------------------------|--------:|-------:|------:|-------:|\n",
      "| ReprPO collect_hs=True loss.use_dpo_loss=True loss.use_orth_loss=False loss.β=0.61 lr=0.00 transform.Htype=ether transform.nb=10 transform.reduction=126 |   4.959 |      0 | 8.846 | -5.263 |\n"
     ]
    },
    {
     "name": "stderr",
     "output_type": "stream",
     "text": [
      "[I 2024-10-03 14:23:07,562] Trial 29 finished with value: 1.0173076923076922 and parameters: {'lr': 2.1617229514140064e-05, 'collect_input': False, 'collect_hs': True, 'nb': 16, 'Htype': 'ether', 'flip_side': False, 'reduction': 166, 'β': 0.6572298672386104, 'use_orth_loss': False, 'use_angle_loss': True, 'use_dpo_loss': True, 'use_nll_loss': False, 'weight_tokens': False}. Best is trial 25 with value: 1.0942307692307693.\n"
     ]
    },
    {
     "name": "stdout",
     "output_type": "stream",
     "text": [
      "\n",
      "| acc_inc/eval_ds [pp]                                                                                                                                     |   train |   test |   oos |   rnd |\n",
      "|:---------------------------------------------------------------------------------------------------------------------------------------------------------|--------:|-------:|------:|------:|\n",
      "| ReprPO collect_hs=True loss.use_dpo_loss=True loss.use_orth_loss=False loss.β=0.66 lr=0.00 transform.Htype=ether transform.nb=16 transform.reduction=166 |   2.479 |      0 | 1.731 |     0 |\n"
     ]
    },
    {
     "name": "stderr",
     "output_type": "stream",
     "text": [
      "[I 2024-10-03 14:26:17,257] Trial 30 finished with value: 1.0038461538461538 and parameters: {'lr': 2.7058233459565626e-06, 'collect_input': False, 'collect_hs': True, 'nb': 10, 'Htype': 'ether', 'flip_side': False, 'reduction': 128, 'β': 0.010800540764236085, 'use_orth_loss': False, 'use_angle_loss': True, 'use_dpo_loss': True, 'use_nll_loss': False, 'weight_tokens': False}. Best is trial 25 with value: 1.0942307692307693.\n"
     ]
    },
    {
     "name": "stdout",
     "output_type": "stream",
     "text": [
      "\n",
      "| acc_inc/eval_ds [pp]                                                                                                                                     |   train |   test |   oos |   rnd |\n",
      "|:---------------------------------------------------------------------------------------------------------------------------------------------------------|--------:|-------:|------:|------:|\n",
      "| ReprPO collect_hs=True loss.use_dpo_loss=True loss.use_orth_loss=False loss.β=0.01 lr=0.00 transform.Htype=ether transform.nb=10 transform.reduction=128 |   0.826 |      0 | 0.385 | 1.754 |\n"
     ]
    },
    {
     "name": "stderr",
     "output_type": "stream",
     "text": [
      "[I 2024-10-03 14:29:27,193] Trial 31 finished with value: 1.0826923076923076 and parameters: {'lr': 0.0001878056000973007, 'collect_input': False, 'collect_hs': True, 'nb': 4, 'Htype': 'ether', 'flip_side': False, 'reduction': 153, 'β': 0.5091483826110411, 'use_orth_loss': False, 'use_angle_loss': True, 'use_dpo_loss': True, 'use_nll_loss': False, 'weight_tokens': False}. Best is trial 25 with value: 1.0942307692307693.\n"
     ]
    },
    {
     "name": "stdout",
     "output_type": "stream",
     "text": [
      "\n",
      "| acc_inc/eval_ds [pp]                                                                                                                                    |   train |   test |   oos |    rnd |\n",
      "|:--------------------------------------------------------------------------------------------------------------------------------------------------------|--------:|-------:|------:|-------:|\n",
      "| ReprPO collect_hs=True loss.use_dpo_loss=True loss.use_orth_loss=False loss.β=0.51 lr=0.00 transform.Htype=ether transform.nb=4 transform.reduction=153 |   5.785 |      0 | 8.269 | 14.035 |\n"
     ]
    },
    {
     "name": "stderr",
     "output_type": "stream",
     "text": [
      "[I 2024-10-03 14:32:39,523] Trial 32 finished with value: 1.0788461538461538 and parameters: {'lr': 0.0001713777646184868, 'collect_input': False, 'collect_hs': True, 'nb': 5, 'Htype': 'ether', 'flip_side': False, 'reduction': 152, 'β': 0.5349403416580834, 'use_orth_loss': False, 'use_angle_loss': True, 'use_dpo_loss': True, 'use_nll_loss': False, 'weight_tokens': False}. Best is trial 25 with value: 1.0942307692307693.\n"
     ]
    },
    {
     "name": "stdout",
     "output_type": "stream",
     "text": [
      "\n",
      "| acc_inc/eval_ds [pp]                                                                                                                                    |   train |   test |   oos |   rnd |\n",
      "|:--------------------------------------------------------------------------------------------------------------------------------------------------------|--------:|-------:|------:|------:|\n",
      "| ReprPO collect_hs=True loss.use_dpo_loss=True loss.use_orth_loss=False loss.β=0.53 lr=0.00 transform.Htype=ether transform.nb=5 transform.reduction=152 |   5.785 |      0 | 7.885 | 3.509 |\n"
     ]
    },
    {
     "name": "stderr",
     "output_type": "stream",
     "text": [
      "[I 2024-10-03 14:35:49,741] Trial 33 finished with value: 1.0769230769230769 and parameters: {'lr': 0.00017180518215617082, 'collect_input': False, 'collect_hs': True, 'nb': 3, 'Htype': 'ether', 'flip_side': False, 'reduction': 174, 'β': 1.7349984742510394, 'use_orth_loss': False, 'use_angle_loss': True, 'use_dpo_loss': True, 'use_nll_loss': False, 'weight_tokens': False}. Best is trial 25 with value: 1.0942307692307693.\n"
     ]
    },
    {
     "name": "stdout",
     "output_type": "stream",
     "text": [
      "\n",
      "| acc_inc/eval_ds [pp]                                                                                                                                    |   train |   test |   oos |    rnd |\n",
      "|:--------------------------------------------------------------------------------------------------------------------------------------------------------|--------:|-------:|------:|-------:|\n",
      "| ReprPO collect_hs=True loss.use_dpo_loss=True loss.use_orth_loss=False loss.β=1.73 lr=0.00 transform.Htype=ether transform.nb=3 transform.reduction=174 |   4.959 |  0.787 | 7.692 | -7.018 |\n"
     ]
    },
    {
     "name": "stderr",
     "output_type": "stream",
     "text": [
      "[I 2024-10-03 14:39:05,599] Trial 34 finished with value: 1.0153846153846153 and parameters: {'lr': 2.566939099182168e-05, 'collect_input': True, 'collect_hs': False, 'nb': 14, 'Htype': 'ether', 'flip_side': True, 'reduction': 144, 'β': 0.12607033322398803, 'use_orth_loss': False, 'use_angle_loss': False, 'use_dpo_loss': True, 'use_nll_loss': False, 'weight_tokens': False}. Best is trial 25 with value: 1.0942307692307693.\n"
     ]
    },
    {
     "name": "stdout",
     "output_type": "stream",
     "text": [
      "\n",
      "| acc_inc/eval_ds [pp]                                                                                                                                                                                           |   train |   test |   oos |    rnd |\n",
      "|:---------------------------------------------------------------------------------------------------------------------------------------------------------------------------------------------------------------|--------:|-------:|------:|-------:|\n",
      "| ReprPO collect_input=True loss.use_angle_loss=False loss.use_dpo_loss=True loss.use_orth_loss=False loss.β=0.13 lr=0.00 transform.Htype=ether transform.flip_side=True transform.nb=14 transform.reduction=144 |   0.826 |      0 | 1.538 | -1.754 |\n"
     ]
    },
    {
     "name": "stderr",
     "output_type": "stream",
     "text": [
      "[I 2024-10-03 14:42:02,361] Trial 35 finished with value: 1.0307692307692307 and parameters: {'lr': 8.949193964829417e-05, 'collect_input': False, 'collect_hs': True, 'nb': 4, 'Htype': 'ether', 'flip_side': False, 'reduction': 118, 'β': 0.4233627428579185, 'use_orth_loss': True, 'use_angle_loss': True, 'use_dpo_loss': False, 'use_nll_loss': False, 'weight_tokens': False}. Best is trial 25 with value: 1.0942307692307693.\n"
     ]
    },
    {
     "name": "stdout",
     "output_type": "stream",
     "text": [
      "\n",
      "| acc_inc/eval_ds [pp]                                                                                    |   train |   test |   oos |   rnd |\n",
      "|:--------------------------------------------------------------------------------------------------------|--------:|-------:|------:|------:|\n",
      "| ReprPO collect_hs=True loss.β=0.42 lr=0.00 transform.Htype=ether transform.nb=4 transform.reduction=118 |   0.826 |      0 | 3.077 |     0 |\n",
      "\n",
      "| acc_inc/eval_ds [pp]                                                                                                                                                                  |   train |   test |   oos |   rnd |\n",
      "|:--------------------------------------------------------------------------------------------------------------------------------------------------------------------------------------|--------:|-------:|------:|------:|\n",
      "| ReprPO collect_input=True loss.use_dpo_loss=True loss.use_nll_loss=True loss.use_orth_loss=False loss.β=0.98 lr=0.00 transform.Htype=etherplus transform.nb=8 transform.reduction=180 |   1.653 |      0 | 3.654 | 1.754 |\n"
     ]
    },
    {
     "name": "stderr",
     "output_type": "stream",
     "text": [
      "[I 2024-10-03 14:45:20,645] Trial 36 finished with value: 1.0365384615384614 and parameters: {'lr': 4.523350684924699e-05, 'collect_input': True, 'collect_hs': False, 'nb': 8, 'Htype': 'etherplus', 'flip_side': False, 'reduction': 180, 'β': 0.9764502101221318, 'use_orth_loss': False, 'use_angle_loss': True, 'use_dpo_loss': True, 'use_nll_loss': True, 'weight_tokens': False}. Best is trial 25 with value: 1.0942307692307693.\n",
      "[I 2024-10-03 14:48:18,167] Trial 37 finished with value: 0.41538461538461535 and parameters: {'lr': 0.00018322616563377523, 'collect_input': False, 'collect_hs': True, 'nb': 11, 'Htype': 'ether', 'flip_side': True, 'reduction': 159, 'β': 0.07781838586422447, 'use_orth_loss': True, 'use_angle_loss': False, 'use_dpo_loss': False, 'use_nll_loss': False, 'weight_tokens': True}. Best is trial 25 with value: 1.0942307692307693.\n"
     ]
    },
    {
     "name": "stdout",
     "output_type": "stream",
     "text": [
      "\n",
      "| acc_inc/eval_ds [pp]                                                                                                                                                                |   train |    test |     oos |   rnd |\n",
      "|:------------------------------------------------------------------------------------------------------------------------------------------------------------------------------------|--------:|--------:|--------:|------:|\n",
      "| ReprPO collect_hs=True loss.use_angle_loss=False loss.weight_tokens=True loss.β=0.08 lr=0.00 transform.Htype=ether transform.flip_side=True transform.nb=11 transform.reduction=159 | -45.455 | -33.858 | -58.462 | 3.509 |\n"
     ]
    },
    {
     "name": "stderr",
     "output_type": "stream",
     "text": [
      "[I 2024-10-03 14:51:44,351] Trial 38 finished with value: 0.7692307692307692 and parameters: {'lr': 0.0006297998144471293, 'collect_input': False, 'collect_hs': False, 'nb': 32, 'Htype': 'oft', 'flip_side': False, 'reduction': 136, 'β': 0.0005231450782614883, 'use_orth_loss': False, 'use_angle_loss': True, 'use_dpo_loss': True, 'use_nll_loss': True, 'weight_tokens': False}. Best is trial 25 with value: 1.0942307692307693.\n"
     ]
    },
    {
     "name": "stdout",
     "output_type": "stream",
     "text": [
      "\n",
      "| acc_inc/eval_ds [pp]                                                                                                                                          |   train |   test |     oos |   rnd |\n",
      "|:--------------------------------------------------------------------------------------------------------------------------------------------------------------|--------:|-------:|--------:|------:|\n",
      "| ReprPO loss.use_dpo_loss=True loss.use_nll_loss=True loss.use_orth_loss=False loss.β=0.00 lr=0.00 transform.Htype=oft transform.nb=32 transform.reduction=136 |  -0.826 | -3.937 | -23.077 | 3.509 |\n"
     ]
    },
    {
     "name": "stderr",
     "output_type": "stream",
     "text": [
      "[I 2024-10-03 14:54:39,487] Trial 39 finished with value: 0.45769230769230773 and parameters: {'lr': 0.0003687945127020835, 'collect_input': True, 'collect_hs': True, 'nb': 14, 'Htype': 'etherplus', 'flip_side': True, 'reduction': 125, 'β': 0.2836034754839211, 'use_orth_loss': True, 'use_angle_loss': False, 'use_dpo_loss': False, 'use_nll_loss': False, 'weight_tokens': True}. Best is trial 25 with value: 1.0942307692307693.\n"
     ]
    },
    {
     "name": "stdout",
     "output_type": "stream",
     "text": [
      "\n",
      "| acc_inc/eval_ds [pp]                                                                                                                                                                                       |   train |    test |     oos |    rnd |\n",
      "|:-----------------------------------------------------------------------------------------------------------------------------------------------------------------------------------------------------------|--------:|--------:|--------:|-------:|\n",
      "| ReprPO collect_hs=True collect_input=True loss.use_angle_loss=False loss.weight_tokens=True loss.β=0.28 lr=0.00 transform.Htype=etherplus transform.flip_side=True transform.nb=14 transform.reduction=125 |  -37.19 | -25.984 | -54.231 | -3.509 |\n"
     ]
    },
    {
     "name": "stderr",
     "output_type": "stream",
     "text": [
      "[I 2024-10-03 14:58:09,080] Trial 40 finished with value: 1.0192307692307692 and parameters: {'lr': 4.82980972491762e-05, 'collect_input': False, 'collect_hs': False, 'nb': 7, 'Htype': 'ether', 'flip_side': False, 'reduction': 146, 'β': 1.495070410162666e-05, 'use_orth_loss': False, 'use_angle_loss': True, 'use_dpo_loss': True, 'use_nll_loss': True, 'weight_tokens': True}. Best is trial 25 with value: 1.0942307692307693.\n"
     ]
    },
    {
     "name": "stdout",
     "output_type": "stream",
     "text": [
      "\n",
      "| acc_inc/eval_ds [pp]                                                                                                                                                                   |   train |   test |   oos |   rnd |\n",
      "|:---------------------------------------------------------------------------------------------------------------------------------------------------------------------------------------|--------:|-------:|------:|------:|\n",
      "| ReprPO loss.use_dpo_loss=True loss.use_nll_loss=True loss.use_orth_loss=False loss.weight_tokens=True loss.β=0.00 lr=0.00 transform.Htype=ether transform.nb=7 transform.reduction=146 |   2.479 |      0 | 1.923 |     0 |\n",
      "\n",
      "| acc_inc/eval_ds [pp]                                                                                                             |   train |   test |   oos |    rnd |\n",
      "|:---------------------------------------------------------------------------------------------------------------------------------|--------:|-------:|------:|-------:|\n",
      "| ReprPO collect_hs=True loss.use_dpo_loss=True loss.use_orth_loss=False loss.β=0.03 lr=0.00 transform.nb=1 transform.reduction=73 |   4.959 |      0 | 1.538 | 29.825 |\n"
     ]
    },
    {
     "name": "stderr",
     "output_type": "stream",
     "text": [
      "[I 2024-10-03 15:01:17,493] Trial 41 finished with value: 1.0153846153846153 and parameters: {'lr': 0.00039431242079507144, 'collect_input': False, 'collect_hs': True, 'nb': 1, 'Htype': 'etherplusHH', 'flip_side': False, 'reduction': 73, 'β': 0.03203112963349447, 'use_orth_loss': False, 'use_angle_loss': True, 'use_dpo_loss': True, 'use_nll_loss': False, 'weight_tokens': False}. Best is trial 25 with value: 1.0942307692307693.\n",
      "[I 2024-10-03 15:04:26,933] Trial 42 finished with value: 1.073076923076923 and parameters: {'lr': 0.0001551822678093344, 'collect_input': False, 'collect_hs': True, 'nb': 3, 'Htype': 'ether', 'flip_side': False, 'reduction': 53, 'β': 0.9881954106854233, 'use_orth_loss': False, 'use_angle_loss': True, 'use_dpo_loss': True, 'use_nll_loss': False, 'weight_tokens': False}. Best is trial 25 with value: 1.0942307692307693.\n"
     ]
    },
    {
     "name": "stdout",
     "output_type": "stream",
     "text": [
      "\n",
      "| acc_inc/eval_ds [pp]                                                                                                                                   |   train |   test |   oos |   rnd |\n",
      "|:-------------------------------------------------------------------------------------------------------------------------------------------------------|--------:|-------:|------:|------:|\n",
      "| ReprPO collect_hs=True loss.use_dpo_loss=True loss.use_orth_loss=False loss.β=0.99 lr=0.00 transform.Htype=ether transform.nb=3 transform.reduction=53 |   4.959 |      0 | 7.308 |     0 |\n"
     ]
    },
    {
     "name": "stderr",
     "output_type": "stream",
     "text": [
      "[I 2024-10-03 15:07:35,384] Trial 43 finished with value: 0.85 and parameters: {'lr': 0.0006899736336910508, 'collect_input': False, 'collect_hs': True, 'nb': 2, 'Htype': 'oft', 'flip_side': False, 'reduction': 86, 'β': 0.09854684331482261, 'use_orth_loss': False, 'use_angle_loss': True, 'use_dpo_loss': True, 'use_nll_loss': False, 'weight_tokens': False}. Best is trial 25 with value: 1.0942307692307693.\n"
     ]
    },
    {
     "name": "stdout",
     "output_type": "stream",
     "text": [
      "\n",
      "| acc_inc/eval_ds [pp]                                                                                                                                 |   train |   test |   oos |    rnd |\n",
      "|:-----------------------------------------------------------------------------------------------------------------------------------------------------|--------:|-------:|------:|-------:|\n",
      "| ReprPO collect_hs=True loss.use_dpo_loss=True loss.use_orth_loss=False loss.β=0.10 lr=0.00 transform.Htype=oft transform.nb=2 transform.reduction=86 |   2.479 | -1.575 |   -15 | 12.281 |\n"
     ]
    },
    {
     "name": "stderr",
     "output_type": "stream",
     "text": [
      "[I 2024-10-03 15:10:46,057] Trial 44 finished with value: 1.0711538461538461 and parameters: {'lr': 0.000365987514564278, 'collect_input': False, 'collect_hs': True, 'nb': 4, 'Htype': 'etherplusHH', 'flip_side': False, 'reduction': 106, 'β': 0.33541825551423965, 'use_orth_loss': False, 'use_angle_loss': True, 'use_dpo_loss': True, 'use_nll_loss': False, 'weight_tokens': False}. Best is trial 25 with value: 1.0942307692307693.\n"
     ]
    },
    {
     "name": "stdout",
     "output_type": "stream",
     "text": [
      "\n",
      "| acc_inc/eval_ds [pp]                                                                                                              |   train |   test |   oos |    rnd |\n",
      "|:----------------------------------------------------------------------------------------------------------------------------------|--------:|-------:|------:|-------:|\n",
      "| ReprPO collect_hs=True loss.use_dpo_loss=True loss.use_orth_loss=False loss.β=0.34 lr=0.00 transform.nb=4 transform.reduction=106 |   4.959 |      0 | 7.115 | 36.842 |\n"
     ]
    },
    {
     "name": "stderr",
     "output_type": "stream",
     "text": [
      "[I 2024-10-03 15:13:54,039] Trial 45 finished with value: 1.073076923076923 and parameters: {'lr': 0.0002150462260765335, 'collect_input': True, 'collect_hs': True, 'nb': 9, 'Htype': 'etherplus', 'flip_side': False, 'reduction': 83, 'β': 0.004197082202323044, 'use_orth_loss': False, 'use_angle_loss': False, 'use_dpo_loss': True, 'use_nll_loss': False, 'weight_tokens': False}. Best is trial 25 with value: 1.0942307692307693.\n"
     ]
    },
    {
     "name": "stdout",
     "output_type": "stream",
     "text": [
      "\n",
      "| acc_inc/eval_ds [pp]                                                                                                                                                                                    |   train |   test |   oos |    rnd |\n",
      "|:--------------------------------------------------------------------------------------------------------------------------------------------------------------------------------------------------------|--------:|-------:|------:|-------:|\n",
      "| ReprPO collect_hs=True collect_input=True loss.use_angle_loss=False loss.use_dpo_loss=True loss.use_orth_loss=False loss.β=0.00 lr=0.00 transform.Htype=etherplus transform.nb=9 transform.reduction=83 |   4.959 |      0 | 7.308 | 24.561 |\n"
     ]
    },
    {
     "name": "stderr",
     "output_type": "stream",
     "text": [
      "[I 2024-10-03 15:16:52,620] Trial 46 finished with value: 1.0423076923076924 and parameters: {'lr': 0.00010614411708079782, 'collect_input': False, 'collect_hs': True, 'nb': 4, 'Htype': 'etherplusHH', 'flip_side': True, 'reduction': 129, 'β': 0.05563972849190952, 'use_orth_loss': True, 'use_angle_loss': True, 'use_dpo_loss': False, 'use_nll_loss': False, 'weight_tokens': False}. Best is trial 25 with value: 1.0942307692307693.\n"
     ]
    },
    {
     "name": "stdout",
     "output_type": "stream",
     "text": [
      "\n",
      "| acc_inc/eval_ds [pp]                                                                                       |   train |   test |   oos |   rnd |\n",
      "|:-----------------------------------------------------------------------------------------------------------|--------:|-------:|------:|------:|\n",
      "| ReprPO collect_hs=True loss.β=0.06 lr=0.00 transform.flip_side=True transform.nb=4 transform.reduction=129 |   0.826 |  0.787 | 4.231 |     0 |\n"
     ]
    },
    {
     "name": "stderr",
     "output_type": "stream",
     "text": [
      "[I 2024-10-03 15:20:03,568] Trial 47 finished with value: 1.0576923076923075 and parameters: {'lr': 0.0005215648520082464, 'collect_input': False, 'collect_hs': True, 'nb': 18, 'Htype': 'ether', 'flip_side': False, 'reduction': 181, 'β': 0.907467173026695, 'use_orth_loss': False, 'use_angle_loss': True, 'use_dpo_loss': True, 'use_nll_loss': True, 'weight_tokens': True}. Best is trial 25 with value: 1.0942307692307693.\n"
     ]
    },
    {
     "name": "stdout",
     "output_type": "stream",
     "text": [
      "\n",
      "| acc_inc/eval_ds [pp]                                                                                                                                                                                    |   train |   test |   oos |   rnd |\n",
      "|:--------------------------------------------------------------------------------------------------------------------------------------------------------------------------------------------------------|--------:|-------:|------:|------:|\n",
      "| ReprPO collect_hs=True loss.use_dpo_loss=True loss.use_nll_loss=True loss.use_orth_loss=False loss.weight_tokens=True loss.β=0.91 lr=0.00 transform.Htype=ether transform.nb=18 transform.reduction=181 |   4.959 |      0 | 5.769 | 5.263 |\n"
     ]
    },
    {
     "name": "stderr",
     "output_type": "stream",
     "text": [
      "[I 2024-10-03 15:23:12,767] Trial 48 finished with value: 1.0903846153846153 and parameters: {'lr': 0.00027606147096841994, 'collect_input': False, 'collect_hs': True, 'nb': 12, 'Htype': 'etherplusHH', 'flip_side': False, 'reduction': 98, 'β': 0.00020105709606307027, 'use_orth_loss': False, 'use_angle_loss': True, 'use_dpo_loss': True, 'use_nll_loss': False, 'weight_tokens': False}. Best is trial 25 with value: 1.0942307692307693.\n"
     ]
    },
    {
     "name": "stdout",
     "output_type": "stream",
     "text": [
      "\n",
      "| acc_inc/eval_ds [pp]                                                                                                              |   train |   test |   oos |   rnd |\n",
      "|:----------------------------------------------------------------------------------------------------------------------------------|--------:|-------:|------:|------:|\n",
      "| ReprPO collect_hs=True loss.use_dpo_loss=True loss.use_orth_loss=False loss.β=0.00 lr=0.00 transform.nb=12 transform.reduction=98 |   4.959 |      0 | 9.038 | 3.509 |\n"
     ]
    },
    {
     "name": "stderr",
     "output_type": "stream",
     "text": [
      "[I 2024-10-03 15:26:35,898] Trial 49 finished with value: 1.028846153846154 and parameters: {'lr': 8.24189973372596e-05, 'collect_input': False, 'collect_hs': False, 'nb': 12, 'Htype': 'etherplusHH', 'flip_side': False, 'reduction': 116, 'β': 0.00025429982871467917, 'use_orth_loss': False, 'use_angle_loss': True, 'use_dpo_loss': True, 'use_nll_loss': False, 'weight_tokens': False}. Best is trial 25 with value: 1.0942307692307693.\n"
     ]
    },
    {
     "name": "stdout",
     "output_type": "stream",
     "text": [
      "\n",
      "| acc_inc/eval_ds [pp]                                                                                               |   train |   test |   oos |   rnd |\n",
      "|:-------------------------------------------------------------------------------------------------------------------|--------:|-------:|------:|------:|\n",
      "| ReprPO loss.use_dpo_loss=True loss.use_orth_loss=False loss.β=0.00 lr=0.00 transform.nb=12 transform.reduction=116 |   2.479 |      0 | 2.885 | 1.754 |\n"
     ]
    },
    {
     "name": "stderr",
     "output_type": "stream",
     "text": [
      "[I 2024-10-03 15:29:44,849] Trial 50 finished with value: 1.0153846153846153 and parameters: {'lr': 1.5599515791628085e-05, 'collect_input': True, 'collect_hs': True, 'nb': 15, 'Htype': 'oft', 'flip_side': True, 'reduction': 96, 'β': 0.0001899849633468564, 'use_orth_loss': True, 'use_angle_loss': False, 'use_dpo_loss': True, 'use_nll_loss': False, 'weight_tokens': False}. Best is trial 25 with value: 1.0942307692307693.\n"
     ]
    },
    {
     "name": "stdout",
     "output_type": "stream",
     "text": [
      "\n",
      "| acc_inc/eval_ds [pp]                                                                                                                                                                               |   train |   test |   oos |    rnd |\n",
      "|:---------------------------------------------------------------------------------------------------------------------------------------------------------------------------------------------------|--------:|-------:|------:|-------:|\n",
      "| ReprPO collect_hs=True collect_input=True loss.use_angle_loss=False loss.use_dpo_loss=True loss.β=0.00 lr=0.00 transform.Htype=oft transform.flip_side=True transform.nb=15 transform.reduction=96 |   1.653 |      0 | 1.538 | -1.754 |\n"
     ]
    },
    {
     "name": "stderr",
     "output_type": "stream",
     "text": [
      "[I 2024-10-03 15:32:55,681] Trial 51 finished with value: 1.0865384615384615 and parameters: {'lr': 0.0002815836713400256, 'collect_input': False, 'collect_hs': True, 'nb': 11, 'Htype': 'etherplusHH', 'flip_side': False, 'reduction': 104, 'β': 0.15601187347880643, 'use_orth_loss': False, 'use_angle_loss': True, 'use_dpo_loss': True, 'use_nll_loss': False, 'weight_tokens': False}. Best is trial 25 with value: 1.0942307692307693.\n"
     ]
    },
    {
     "name": "stdout",
     "output_type": "stream",
     "text": [
      "\n",
      "| acc_inc/eval_ds [pp]                                                                                                               |   train |   test |   oos |    rnd |\n",
      "|:-----------------------------------------------------------------------------------------------------------------------------------|--------:|-------:|------:|-------:|\n",
      "| ReprPO collect_hs=True loss.use_dpo_loss=True loss.use_orth_loss=False loss.β=0.16 lr=0.00 transform.nb=11 transform.reduction=104 |   4.959 |      0 | 8.654 | 17.544 |\n"
     ]
    },
    {
     "name": "stderr",
     "output_type": "stream",
     "text": [
      "[I 2024-10-03 15:36:06,924] Trial 52 finished with value: 1.0865384615384615 and parameters: {'lr': 0.00022439931964673477, 'collect_input': False, 'collect_hs': True, 'nb': 11, 'Htype': 'etherplusHH', 'flip_side': False, 'reduction': 109, 'β': 1.70219043582585e-05, 'use_orth_loss': False, 'use_angle_loss': True, 'use_dpo_loss': True, 'use_nll_loss': False, 'weight_tokens': False}. Best is trial 25 with value: 1.0942307692307693.\n"
     ]
    },
    {
     "name": "stdout",
     "output_type": "stream",
     "text": [
      "\n",
      "| acc_inc/eval_ds [pp]                                                                                                               |   train |   test |   oos |    rnd |\n",
      "|:-----------------------------------------------------------------------------------------------------------------------------------|--------:|-------:|------:|-------:|\n",
      "| ReprPO collect_hs=True loss.use_dpo_loss=True loss.use_orth_loss=False loss.β=0.00 lr=0.00 transform.nb=11 transform.reduction=109 |   4.132 |      0 | 8.654 | 24.561 |\n"
     ]
    },
    {
     "name": "stderr",
     "output_type": "stream",
     "text": [
      "[I 2024-10-03 15:39:17,433] Trial 53 finished with value: 1.1442307692307692 and parameters: {'lr': 0.0002530795227521169, 'collect_input': False, 'collect_hs': True, 'nb': 12, 'Htype': 'etherplusHH', 'flip_side': False, 'reduction': 102, 'β': 2.8394724468099277e-05, 'use_orth_loss': False, 'use_angle_loss': True, 'use_dpo_loss': True, 'use_nll_loss': False, 'weight_tokens': False}. Best is trial 53 with value: 1.1442307692307692.\n"
     ]
    },
    {
     "name": "stdout",
     "output_type": "stream",
     "text": [
      "\n",
      "| acc_inc/eval_ds [pp]                                                                                                               |   train |   test |    oos |    rnd |\n",
      "|:-----------------------------------------------------------------------------------------------------------------------------------|--------:|-------:|-------:|-------:|\n",
      "| ReprPO collect_hs=True loss.use_dpo_loss=True loss.use_orth_loss=False loss.β=0.00 lr=0.00 transform.nb=12 transform.reduction=102 |   4.959 |      0 | 14.423 | 29.825 |\n"
     ]
    },
    {
     "name": "stderr",
     "output_type": "stream",
     "text": [
      "[I 2024-10-03 15:42:28,675] Trial 54 finished with value: 1.0557692307692308 and parameters: {'lr': 0.0001234444429027886, 'collect_input': False, 'collect_hs': True, 'nb': 13, 'Htype': 'etherplusHH', 'flip_side': False, 'reduction': 103, 'β': 6.508520941160412e-05, 'use_orth_loss': False, 'use_angle_loss': True, 'use_dpo_loss': True, 'use_nll_loss': False, 'weight_tokens': False}. Best is trial 53 with value: 1.1442307692307692.\n"
     ]
    },
    {
     "name": "stdout",
     "output_type": "stream",
     "text": [
      "\n",
      "| acc_inc/eval_ds [pp]                                                                                                               |   train |   test |   oos |   rnd |\n",
      "|:-----------------------------------------------------------------------------------------------------------------------------------|--------:|-------:|------:|------:|\n",
      "| ReprPO collect_hs=True loss.use_dpo_loss=True loss.use_orth_loss=False loss.β=0.00 lr=0.00 transform.nb=13 transform.reduction=103 |   4.132 |      0 | 5.577 | 3.509 |\n"
     ]
    },
    {
     "name": "stderr",
     "output_type": "stream",
     "text": [
      "[I 2024-10-03 15:45:37,999] Trial 55 finished with value: 1.0192307692307692 and parameters: {'lr': 0.00046095959802178876, 'collect_input': False, 'collect_hs': True, 'nb': 18, 'Htype': 'etherplusHH', 'flip_side': False, 'reduction': 62, 'β': 6.753615566960022e-06, 'use_orth_loss': False, 'use_angle_loss': True, 'use_dpo_loss': True, 'use_nll_loss': False, 'weight_tokens': False}. Best is trial 53 with value: 1.1442307692307692.\n"
     ]
    },
    {
     "name": "stdout",
     "output_type": "stream",
     "text": [
      "\n",
      "| acc_inc/eval_ds [pp]                                                                                                              |   train |   test |   oos |    rnd |\n",
      "|:----------------------------------------------------------------------------------------------------------------------------------|--------:|-------:|------:|-------:|\n",
      "| ReprPO collect_hs=True loss.use_dpo_loss=True loss.use_orth_loss=False loss.β=0.00 lr=0.00 transform.nb=18 transform.reduction=62 |   4.132 |      0 | 1.923 | 22.807 |\n"
     ]
    },
    {
     "name": "stderr",
     "output_type": "stream",
     "text": [
      "[I 2024-10-03 15:48:34,319] Trial 56 finished with value: 0.4269230769230769 and parameters: {'lr': 0.000268752801062154, 'collect_input': False, 'collect_hs': True, 'nb': 10, 'Htype': 'etherplusHH', 'flip_side': False, 'reduction': 98, 'β': 2.5373287112855317e-05, 'use_orth_loss': False, 'use_angle_loss': True, 'use_dpo_loss': False, 'use_nll_loss': False, 'weight_tokens': False}. Best is trial 53 with value: 1.1442307692307692.\n"
     ]
    },
    {
     "name": "stdout",
     "output_type": "stream",
     "text": [
      "\n",
      "| acc_inc/eval_ds [pp]                                                                                       |   train |    test |     oos |   rnd |\n",
      "|:-----------------------------------------------------------------------------------------------------------|--------:|--------:|--------:|------:|\n",
      "| ReprPO collect_hs=True loss.use_orth_loss=False loss.β=0.00 lr=0.00 transform.nb=10 transform.reduction=98 | -47.107 | -34.646 | -57.308 | 5.263 |\n"
     ]
    },
    {
     "name": "stderr",
     "output_type": "stream",
     "text": [
      "[I 2024-10-03 15:51:47,257] Trial 57 finished with value: 0.6192307692307693 and parameters: {'lr': 0.0007908245187602186, 'collect_input': False, 'collect_hs': True, 'nb': 13, 'Htype': 'etherplusHH', 'flip_side': False, 'reduction': 74, 'β': 0.00010516652861001278, 'use_orth_loss': False, 'use_angle_loss': True, 'use_dpo_loss': True, 'use_nll_loss': False, 'weight_tokens': False}. Best is trial 53 with value: 1.1442307692307692.\n"
     ]
    },
    {
     "name": "stdout",
     "output_type": "stream",
     "text": [
      "\n",
      "| acc_inc/eval_ds [pp]                                                                                                              |   train |   test |     oos |    rnd |\n",
      "|:----------------------------------------------------------------------------------------------------------------------------------|--------:|-------:|--------:|-------:|\n",
      "| ReprPO collect_hs=True loss.use_dpo_loss=True loss.use_orth_loss=False loss.β=0.00 lr=0.00 transform.nb=13 transform.reduction=74 | -13.223 | -18.11 | -38.077 | 29.825 |\n"
     ]
    },
    {
     "name": "stderr",
     "output_type": "stream",
     "text": [
      "[I 2024-10-03 15:55:01,437] Trial 58 finished with value: 1.0634615384615385 and parameters: {'lr': 0.00014358793067721182, 'collect_input': False, 'collect_hs': True, 'nb': 15, 'Htype': 'etherplusHH', 'flip_side': False, 'reduction': 119, 'β': 2.1872424656580165e-06, 'use_orth_loss': False, 'use_angle_loss': True, 'use_dpo_loss': True, 'use_nll_loss': True, 'weight_tokens': True}. Best is trial 53 with value: 1.1442307692307692.\n"
     ]
    },
    {
     "name": "stdout",
     "output_type": "stream",
     "text": [
      "\n",
      "| acc_inc/eval_ds [pp]                                                                                                                                                              |   train |   test |   oos |   rnd |\n",
      "|:----------------------------------------------------------------------------------------------------------------------------------------------------------------------------------|--------:|-------:|------:|------:|\n",
      "| ReprPO collect_hs=True loss.use_dpo_loss=True loss.use_nll_loss=True loss.use_orth_loss=False loss.weight_tokens=True loss.β=0.00 lr=0.00 transform.nb=15 transform.reduction=119 |   4.132 |      0 | 6.346 | 5.263 |\n"
     ]
    },
    {
     "name": "stderr",
     "output_type": "stream",
     "text": [
      "[I 2024-10-03 15:58:13,030] Trial 59 finished with value: 1.05 and parameters: {'lr': 0.00030902562746596, 'collect_input': False, 'collect_hs': True, 'nb': 21, 'Htype': 'etherplusHH', 'flip_side': False, 'reduction': 90, 'β': 0.0003630778426651487, 'use_orth_loss': False, 'use_angle_loss': True, 'use_dpo_loss': True, 'use_nll_loss': False, 'weight_tokens': False}. Best is trial 53 with value: 1.1442307692307692.\n"
     ]
    },
    {
     "name": "stdout",
     "output_type": "stream",
     "text": [
      "\n",
      "| acc_inc/eval_ds [pp]                                                                                                              |   train |   test |   oos |   rnd |\n",
      "|:----------------------------------------------------------------------------------------------------------------------------------|--------:|-------:|------:|------:|\n",
      "| ReprPO collect_hs=True loss.use_dpo_loss=True loss.use_orth_loss=False loss.β=0.00 lr=0.00 transform.nb=21 transform.reduction=90 |   3.306 | -0.787 |     5 | 7.018 |\n"
     ]
    },
    {
     "name": "stderr",
     "output_type": "stream",
     "text": [
      "[I 2024-10-03 16:01:22,856] Trial 60 finished with value: 1.0826923076923076 and parameters: {'lr': 0.00023395637687911126, 'collect_input': False, 'collect_hs': True, 'nb': 12, 'Htype': 'etherplusHH', 'flip_side': False, 'reduction': 41, 'β': 0.001084916517317752, 'use_orth_loss': False, 'use_angle_loss': True, 'use_dpo_loss': True, 'use_nll_loss': False, 'weight_tokens': False}. Best is trial 53 with value: 1.1442307692307692.\n"
     ]
    },
    {
     "name": "stdout",
     "output_type": "stream",
     "text": [
      "\n",
      "| acc_inc/eval_ds [pp]                                                                                                              |   train |   test |   oos |   rnd |\n",
      "|:----------------------------------------------------------------------------------------------------------------------------------|--------:|-------:|------:|------:|\n",
      "| ReprPO collect_hs=True loss.use_dpo_loss=True loss.use_orth_loss=False loss.β=0.00 lr=0.00 transform.nb=12 transform.reduction=41 |   5.785 |      0 | 8.269 | 1.754 |\n"
     ]
    },
    {
     "name": "stderr",
     "output_type": "stream",
     "text": [
      "[I 2024-10-03 16:04:33,991] Trial 61 finished with value: 1.0711538461538461 and parameters: {'lr': 0.00023661095189634837, 'collect_input': False, 'collect_hs': True, 'nb': 11, 'Htype': 'etherplusHH', 'flip_side': False, 'reduction': 109, 'β': 8.128648624130037e-06, 'use_orth_loss': False, 'use_angle_loss': True, 'use_dpo_loss': True, 'use_nll_loss': False, 'weight_tokens': False}. Best is trial 53 with value: 1.1442307692307692.\n"
     ]
    },
    {
     "name": "stdout",
     "output_type": "stream",
     "text": [
      "\n",
      "| acc_inc/eval_ds [pp]                                                                                                               |   train |   test |   oos |    rnd |\n",
      "|:-----------------------------------------------------------------------------------------------------------------------------------|--------:|-------:|------:|-------:|\n",
      "| ReprPO collect_hs=True loss.use_dpo_loss=True loss.use_orth_loss=False loss.β=0.00 lr=0.00 transform.nb=11 transform.reduction=109 |   5.785 |      0 | 7.115 | 10.526 |\n"
     ]
    },
    {
     "name": "stderr",
     "output_type": "stream",
     "text": [
      "[I 2024-10-03 16:07:44,377] Trial 62 finished with value: 1.0596153846153846 and parameters: {'lr': 0.00013520357187523613, 'collect_input': False, 'collect_hs': True, 'nb': 10, 'Htype': 'etherplusHH', 'flip_side': False, 'reduction': 112, 'β': 3.168800821096103e-05, 'use_orth_loss': False, 'use_angle_loss': True, 'use_dpo_loss': True, 'use_nll_loss': False, 'weight_tokens': False}. Best is trial 53 with value: 1.1442307692307692.\n"
     ]
    },
    {
     "name": "stdout",
     "output_type": "stream",
     "text": [
      "\n",
      "| acc_inc/eval_ds [pp]                                                                                                               |   train |   test |   oos |   rnd |\n",
      "|:-----------------------------------------------------------------------------------------------------------------------------------|--------:|-------:|------:|------:|\n",
      "| ReprPO collect_hs=True loss.use_dpo_loss=True loss.use_orth_loss=False loss.β=0.00 lr=0.00 transform.nb=10 transform.reduction=112 |   4.132 |      0 | 5.962 |     0 |\n"
     ]
    },
    {
     "name": "stderr",
     "output_type": "stream",
     "text": [
      "[I 2024-10-03 16:10:55,297] Trial 63 finished with value: 1.0538461538461539 and parameters: {'lr': 0.00043487925112576634, 'collect_input': False, 'collect_hs': True, 'nb': 8, 'Htype': 'etherplusHH', 'flip_side': False, 'reduction': 130, 'β': 1.0560949022378927e-05, 'use_orth_loss': False, 'use_angle_loss': True, 'use_dpo_loss': True, 'use_nll_loss': False, 'weight_tokens': False}. Best is trial 53 with value: 1.1442307692307692.\n"
     ]
    },
    {
     "name": "stdout",
     "output_type": "stream",
     "text": [
      "\n",
      "| acc_inc/eval_ds [pp]                                                                                                              |   train |   test |   oos |    rnd |\n",
      "|:----------------------------------------------------------------------------------------------------------------------------------|--------:|-------:|------:|-------:|\n",
      "| ReprPO collect_hs=True loss.use_dpo_loss=True loss.use_orth_loss=False loss.β=0.00 lr=0.00 transform.nb=8 transform.reduction=130 |   5.785 | -0.787 | 5.385 | 15.789 |\n"
     ]
    },
    {
     "name": "stderr",
     "output_type": "stream",
     "text": [
      "[I 2024-10-03 16:14:08,087] Trial 64 finished with value: 0.5384615384615384 and parameters: {'lr': 0.0009987091068010604, 'collect_input': False, 'collect_hs': True, 'nb': 12, 'Htype': 'etherplusHH', 'flip_side': False, 'reduction': 105, 'β': 3.317714625962871e-05, 'use_orth_loss': False, 'use_angle_loss': True, 'use_dpo_loss': True, 'use_nll_loss': False, 'weight_tokens': False}. Best is trial 53 with value: 1.1442307692307692.\n"
     ]
    },
    {
     "name": "stdout",
     "output_type": "stream",
     "text": [
      "\n",
      "| acc_inc/eval_ds [pp]                                                                                                               |   train |    test |     oos |    rnd |\n",
      "|:-----------------------------------------------------------------------------------------------------------------------------------|--------:|--------:|--------:|-------:|\n",
      "| ReprPO collect_hs=True loss.use_dpo_loss=True loss.use_orth_loss=False loss.β=0.00 lr=0.00 transform.nb=12 transform.reduction=105 |  -14.05 | -14.173 | -46.154 | 12.281 |\n"
     ]
    },
    {
     "name": "stderr",
     "output_type": "stream",
     "text": [
      "[I 2024-10-03 16:17:20,740] Trial 65 finished with value: 1.0461538461538462 and parameters: {'lr': 0.0001035020628448523, 'collect_input': False, 'collect_hs': True, 'nb': 17, 'Htype': 'etherplusHH', 'flip_side': False, 'reduction': 122, 'β': 6.158373517189922e-05, 'use_orth_loss': False, 'use_angle_loss': True, 'use_dpo_loss': True, 'use_nll_loss': False, 'weight_tokens': False}. Best is trial 53 with value: 1.1442307692307692.\n"
     ]
    },
    {
     "name": "stdout",
     "output_type": "stream",
     "text": [
      "\n",
      "| acc_inc/eval_ds [pp]                                                                                                               |   train |   test |   oos |   rnd |\n",
      "|:-----------------------------------------------------------------------------------------------------------------------------------|--------:|-------:|------:|------:|\n",
      "| ReprPO collect_hs=True loss.use_dpo_loss=True loss.use_orth_loss=False loss.β=0.00 lr=0.00 transform.nb=17 transform.reduction=122 |   3.306 |      0 | 4.615 | 7.018 |\n"
     ]
    },
    {
     "name": "stderr",
     "output_type": "stream",
     "text": [
      "[I 2024-10-03 16:20:33,524] Trial 66 finished with value: 0.998076923076923 and parameters: {'lr': 0.00031741849913592636, 'collect_input': False, 'collect_hs': True, 'nb': 15, 'Htype': 'etherplusHH', 'flip_side': False, 'reduction': 100, 'β': 2.559075246836413e-06, 'use_orth_loss': False, 'use_angle_loss': True, 'use_dpo_loss': True, 'use_nll_loss': False, 'weight_tokens': False}. Best is trial 53 with value: 1.1442307692307692.\n"
     ]
    },
    {
     "name": "stdout",
     "output_type": "stream",
     "text": [
      "\n",
      "| acc_inc/eval_ds [pp]                                                                                                               |   train |   test |    oos |    rnd |\n",
      "|:-----------------------------------------------------------------------------------------------------------------------------------|--------:|-------:|-------:|-------:|\n",
      "| ReprPO collect_hs=True loss.use_dpo_loss=True loss.use_orth_loss=False loss.β=0.00 lr=0.00 transform.nb=15 transform.reduction=100 |   5.785 |      0 | -0.192 | 29.825 |\n"
     ]
    },
    {
     "name": "stderr",
     "output_type": "stream",
     "text": [
      "[I 2024-10-03 16:23:43,762] Trial 67 finished with value: 1.0403846153846155 and parameters: {'lr': 5.8013471717480624e-05, 'collect_input': False, 'collect_hs': True, 'nb': 9, 'Htype': 'etherplusHH', 'flip_side': False, 'reduction': 92, 'β': 1.6214766765302548e-05, 'use_orth_loss': False, 'use_angle_loss': True, 'use_dpo_loss': True, 'use_nll_loss': False, 'weight_tokens': False}. Best is trial 53 with value: 1.1442307692307692.\n"
     ]
    },
    {
     "name": "stdout",
     "output_type": "stream",
     "text": [
      "\n",
      "| acc_inc/eval_ds [pp]                                                                                                             |   train |   test |   oos |    rnd |\n",
      "|:---------------------------------------------------------------------------------------------------------------------------------|--------:|-------:|------:|-------:|\n",
      "| ReprPO collect_hs=True loss.use_dpo_loss=True loss.use_orth_loss=False loss.β=0.00 lr=0.00 transform.nb=9 transform.reduction=92 |   4.132 |      0 | 4.038 | -3.509 |\n"
     ]
    },
    {
     "name": "stderr",
     "output_type": "stream",
     "text": [
      "[I 2024-10-03 16:26:55,191] Trial 68 finished with value: 1.0057692307692307 and parameters: {'lr': 7.232782580152902e-06, 'collect_input': False, 'collect_hs': True, 'nb': 11, 'Htype': 'etherplus', 'flip_side': False, 'reduction': 79, 'β': 9.990501490297616e-05, 'use_orth_loss': False, 'use_angle_loss': True, 'use_dpo_loss': True, 'use_nll_loss': False, 'weight_tokens': False}. Best is trial 53 with value: 1.1442307692307692.\n"
     ]
    },
    {
     "name": "stdout",
     "output_type": "stream",
     "text": [
      "\n",
      "| acc_inc/eval_ds [pp]                                                                                                                                        |   train |   test |   oos |   rnd |\n",
      "|:------------------------------------------------------------------------------------------------------------------------------------------------------------|--------:|-------:|------:|------:|\n",
      "| ReprPO collect_hs=True loss.use_dpo_loss=True loss.use_orth_loss=False loss.β=0.00 lr=0.00 transform.Htype=etherplus transform.nb=11 transform.reduction=79 |   0.826 |      0 | 0.577 |     0 |\n"
     ]
    },
    {
     "name": "stderr",
     "output_type": "stream",
     "text": [
      "[I 2024-10-03 16:30:13,630] Trial 69 finished with value: 1.0942307692307693 and parameters: {'lr': 0.00021557112041441993, 'collect_input': True, 'collect_hs': False, 'nb': 7, 'Htype': 'etherplusHH', 'flip_side': False, 'reduction': 144, 'β': 0.19865771754041459, 'use_orth_loss': False, 'use_angle_loss': False, 'use_dpo_loss': True, 'use_nll_loss': False, 'weight_tokens': False}. Best is trial 53 with value: 1.1442307692307692.\n"
     ]
    },
    {
     "name": "stdout",
     "output_type": "stream",
     "text": [
      "\n",
      "| acc_inc/eval_ds [pp]                                                                                                                                           |   train |   test |   oos |    rnd |\n",
      "|:---------------------------------------------------------------------------------------------------------------------------------------------------------------|--------:|-------:|------:|-------:|\n",
      "| ReprPO collect_input=True loss.use_angle_loss=False loss.use_dpo_loss=True loss.use_orth_loss=False loss.β=0.20 lr=0.00 transform.nb=7 transform.reduction=144 |   4.132 |      0 | 9.423 | 31.579 |\n"
     ]
    },
    {
     "name": "stderr",
     "output_type": "stream",
     "text": [
      "[I 2024-10-03 16:33:20,022] Trial 70 finished with value: 0.45 and parameters: {'lr': 0.00019425838001648434, 'collect_input': True, 'collect_hs': False, 'nb': 7, 'Htype': 'etherplusHH', 'flip_side': True, 'reduction': 139, 'β': 0.17756050578678034, 'use_orth_loss': True, 'use_angle_loss': False, 'use_dpo_loss': False, 'use_nll_loss': False, 'weight_tokens': False}. Best is trial 53 with value: 1.1442307692307692.\n"
     ]
    },
    {
     "name": "stdout",
     "output_type": "stream",
     "text": [
      "\n",
      "| acc_inc/eval_ds [pp]                                                                                                                    |   train |    test |   oos |    rnd |\n",
      "|:----------------------------------------------------------------------------------------------------------------------------------------|--------:|--------:|------:|-------:|\n",
      "| ReprPO collect_input=True loss.use_angle_loss=False loss.β=0.18 lr=0.00 transform.flip_side=True transform.nb=7 transform.reduction=139 | -42.149 | -29.921 |   -55 | 17.544 |\n"
     ]
    },
    {
     "name": "stderr",
     "output_type": "stream",
     "text": [
      "[I 2024-10-03 16:36:39,273] Trial 71 finished with value: 1.0692307692307692 and parameters: {'lr': 0.0002494098581171263, 'collect_input': True, 'collect_hs': False, 'nb': 10, 'Htype': 'etherplusHH', 'flip_side': False, 'reduction': 115, 'β': 1.3620681536521222, 'use_orth_loss': False, 'use_angle_loss': False, 'use_dpo_loss': True, 'use_nll_loss': False, 'weight_tokens': False}. Best is trial 53 with value: 1.1442307692307692.\n"
     ]
    },
    {
     "name": "stdout",
     "output_type": "stream",
     "text": [
      "\n",
      "| acc_inc/eval_ds [pp]                                                                                                                                            |   train |   test |   oos |    rnd |\n",
      "|:----------------------------------------------------------------------------------------------------------------------------------------------------------------|--------:|-------:|------:|-------:|\n",
      "| ReprPO collect_input=True loss.use_angle_loss=False loss.use_dpo_loss=True loss.use_orth_loss=False loss.β=1.36 lr=0.00 transform.nb=10 transform.reduction=115 |   5.785 |      0 | 6.923 | 21.053 |\n"
     ]
    },
    {
     "name": "stderr",
     "output_type": "stream",
     "text": [
      "[I 2024-10-03 16:39:59,713] Trial 72 finished with value: 1.05 and parameters: {'lr': 0.00034899789447784675, 'collect_input': True, 'collect_hs': False, 'nb': 6, 'Htype': 'etherplusHH', 'flip_side': False, 'reduction': 188, 'β': 0.25095278206580696, 'use_orth_loss': False, 'use_angle_loss': False, 'use_dpo_loss': True, 'use_nll_loss': False, 'weight_tokens': False}. Best is trial 53 with value: 1.1442307692307692.\n"
     ]
    },
    {
     "name": "stdout",
     "output_type": "stream",
     "text": [
      "\n",
      "| acc_inc/eval_ds [pp]                                                                                                                            |   train |   test |   oos |    rnd |\n",
      "|:------------------------------------------------------------------------------------------------------------------------------------------------|--------:|-------:|------:|-------:|\n",
      "| ReprPO collect_input=True loss.use_angle_loss=False loss.use_dpo_loss=True loss.use_orth_loss=False loss.β=0.25 lr=0.00 transform.reduction=188 |   5.785 | -0.787 |     5 | 26.316 |\n"
     ]
    },
    {
     "name": "stderr",
     "output_type": "stream",
     "text": [
      "[I 2024-10-03 16:43:18,042] Trial 73 finished with value: 1.0788461538461538 and parameters: {'lr': 0.00016161817099766767, 'collect_input': True, 'collect_hs': False, 'nb': 13, 'Htype': 'etherplusHH', 'flip_side': False, 'reduction': 146, 'β': 0.43014770322454476, 'use_orth_loss': False, 'use_angle_loss': False, 'use_dpo_loss': True, 'use_nll_loss': False, 'weight_tokens': False}. Best is trial 53 with value: 1.1442307692307692.\n"
     ]
    },
    {
     "name": "stdout",
     "output_type": "stream",
     "text": [
      "\n",
      "| acc_inc/eval_ds [pp]                                                                                                                                            |   train |   test |   oos |    rnd |\n",
      "|:----------------------------------------------------------------------------------------------------------------------------------------------------------------|--------:|-------:|------:|-------:|\n",
      "| ReprPO collect_input=True loss.use_angle_loss=False loss.use_dpo_loss=True loss.use_orth_loss=False loss.β=0.43 lr=0.00 transform.nb=13 transform.reduction=146 |   3.306 |      0 | 7.885 | 21.053 |\n"
     ]
    },
    {
     "name": "stderr",
     "output_type": "stream",
     "text": [
      "[I 2024-10-03 16:46:36,862] Trial 74 finished with value: 0.9576923076923077 and parameters: {'lr': 0.0005277920679520243, 'collect_input': True, 'collect_hs': False, 'nb': 9, 'Htype': 'etherplusHH', 'flip_side': False, 'reduction': 132, 'β': 3.8503637474662174e-06, 'use_orth_loss': False, 'use_angle_loss': False, 'use_dpo_loss': True, 'use_nll_loss': False, 'weight_tokens': False}. Best is trial 53 with value: 1.1442307692307692.\n"
     ]
    },
    {
     "name": "stdout",
     "output_type": "stream",
     "text": [
      "\n",
      "| acc_inc/eval_ds [pp]                                                                                                                                           |   train |   test |    oos |    rnd |\n",
      "|:---------------------------------------------------------------------------------------------------------------------------------------------------------------|--------:|-------:|-------:|-------:|\n",
      "| ReprPO collect_input=True loss.use_angle_loss=False loss.use_dpo_loss=True loss.use_orth_loss=False loss.β=0.00 lr=0.00 transform.nb=9 transform.reduction=132 |   0.826 |      0 | -4.231 | 19.298 |\n"
     ]
    },
    {
     "name": "stderr",
     "output_type": "stream",
     "text": [
      "[I 2024-10-03 16:49:48,848] Trial 75 finished with value: 1.0903846153846153 and parameters: {'lr': 0.00020946842906459086, 'collect_input': False, 'collect_hs': True, 'nb': 8, 'Htype': 'etherplusHH', 'flip_side': False, 'reduction': 122, 'β': 0.12508725340505567, 'use_orth_loss': False, 'use_angle_loss': True, 'use_dpo_loss': True, 'use_nll_loss': False, 'weight_tokens': False}. Best is trial 53 with value: 1.1442307692307692.\n"
     ]
    },
    {
     "name": "stdout",
     "output_type": "stream",
     "text": [
      "\n",
      "| acc_inc/eval_ds [pp]                                                                                                              |   train |   test |   oos |   rnd |\n",
      "|:----------------------------------------------------------------------------------------------------------------------------------|--------:|-------:|------:|------:|\n",
      "| ReprPO collect_hs=True loss.use_dpo_loss=True loss.use_orth_loss=False loss.β=0.13 lr=0.00 transform.nb=8 transform.reduction=122 |   5.785 |      0 | 9.038 |     0 |\n"
     ]
    },
    {
     "name": "stderr",
     "output_type": "stream",
     "text": [
      "[I 2024-10-03 16:53:16,469] Trial 76 finished with value: 1.023076923076923 and parameters: {'lr': 3.365476274221724e-05, 'collect_input': False, 'collect_hs': False, 'nb': 7, 'Htype': 'etherplusHH', 'flip_side': False, 'reduction': 125, 'β': 0.10646599580238504, 'use_orth_loss': False, 'use_angle_loss': True, 'use_dpo_loss': True, 'use_nll_loss': True, 'weight_tokens': False}. Best is trial 53 with value: 1.1442307692307692.\n"
     ]
    },
    {
     "name": "stdout",
     "output_type": "stream",
     "text": [
      "\n",
      "| acc_inc/eval_ds [pp]                                                                                                                     |   train |   test |   oos |    rnd |\n",
      "|:-----------------------------------------------------------------------------------------------------------------------------------------|--------:|-------:|------:|-------:|\n",
      "| ReprPO loss.use_dpo_loss=True loss.use_nll_loss=True loss.use_orth_loss=False loss.β=0.11 lr=0.00 transform.nb=7 transform.reduction=125 |   0.826 |      0 | 2.308 | -1.754 |\n"
     ]
    },
    {
     "name": "stderr",
     "output_type": "stream",
     "text": [
      "[I 2024-10-03 16:56:29,890] Trial 77 finished with value: 1.0596153846153846 and parameters: {'lr': 0.00011386421013600813, 'collect_input': True, 'collect_hs': True, 'nb': 8, 'Htype': 'oft', 'flip_side': False, 'reduction': 200, 'β': 0.015108709854634717, 'use_orth_loss': False, 'use_angle_loss': False, 'use_dpo_loss': True, 'use_nll_loss': False, 'weight_tokens': True}. Best is trial 53 with value: 1.1442307692307692.\n"
     ]
    },
    {
     "name": "stdout",
     "output_type": "stream",
     "text": [
      "\n",
      "| acc_inc/eval_ds [pp]                                                                                                                                                                                                       |   train |   test |   oos |   rnd |\n",
      "|:---------------------------------------------------------------------------------------------------------------------------------------------------------------------------------------------------------------------------|--------:|-------:|------:|------:|\n",
      "| ReprPO collect_hs=True collect_input=True loss.use_angle_loss=False loss.use_dpo_loss=True loss.use_orth_loss=False loss.weight_tokens=True loss.β=0.02 lr=0.00 transform.Htype=oft transform.nb=8 transform.reduction=200 |   4.132 |      0 | 5.962 | 3.509 |\n"
     ]
    },
    {
     "name": "stderr",
     "output_type": "stream",
     "text": [
      "[I 2024-10-03 16:59:41,889] Trial 78 finished with value: 1.0076923076923077 and parameters: {'lr': 2.5769915131279457e-06, 'collect_input': False, 'collect_hs': True, 'nb': 6, 'Htype': 'etherplusHH', 'flip_side': False, 'reduction': 162, 'β': 0.15383076589232778, 'use_orth_loss': False, 'use_angle_loss': True, 'use_dpo_loss': True, 'use_nll_loss': False, 'weight_tokens': False}. Best is trial 53 with value: 1.1442307692307692.\n"
     ]
    },
    {
     "name": "stdout",
     "output_type": "stream",
     "text": [
      "\n",
      "| acc_inc/eval_ds [pp]                                                                                               |   train |   test |   oos |   rnd |\n",
      "|:-------------------------------------------------------------------------------------------------------------------|--------:|-------:|------:|------:|\n",
      "| ReprPO collect_hs=True loss.use_dpo_loss=True loss.use_orth_loss=False loss.β=0.15 lr=0.00 transform.reduction=162 |   0.826 |      0 | 0.769 | 1.754 |\n"
     ]
    },
    {
     "name": "stderr",
     "output_type": "stream",
     "text": [
      "[I 2024-10-03 17:02:54,216] Trial 79 finished with value: 1.0538461538461539 and parameters: {'lr': 0.0001874469699086191, 'collect_input': False, 'collect_hs': True, 'nb': 14, 'Htype': 'etherplus', 'flip_side': False, 'reduction': 122, 'β': 0.05140605020111499, 'use_orth_loss': False, 'use_angle_loss': True, 'use_dpo_loss': True, 'use_nll_loss': False, 'weight_tokens': False}. Best is trial 53 with value: 1.1442307692307692.\n"
     ]
    },
    {
     "name": "stdout",
     "output_type": "stream",
     "text": [
      "\n",
      "| acc_inc/eval_ds [pp]                                                                                                                                         |   train |   test |   oos |    rnd |\n",
      "|:-------------------------------------------------------------------------------------------------------------------------------------------------------------|--------:|-------:|------:|-------:|\n",
      "| ReprPO collect_hs=True loss.use_dpo_loss=True loss.use_orth_loss=False loss.β=0.05 lr=0.00 transform.Htype=etherplus transform.nb=14 transform.reduction=122 |   3.306 |      0 | 5.385 | -7.018 |\n"
     ]
    },
    {
     "name": "stderr",
     "output_type": "stream",
     "text": [
      "[I 2024-10-03 17:06:05,712] Trial 80 finished with value: 1.0384615384615383 and parameters: {'lr': 0.0002830581995156249, 'collect_input': False, 'collect_hs': True, 'nb': 10, 'Htype': 'etherplusHH', 'flip_side': False, 'reduction': 172, 'β': 0.20559187177953203, 'use_orth_loss': False, 'use_angle_loss': True, 'use_dpo_loss': True, 'use_nll_loss': False, 'weight_tokens': False}. Best is trial 53 with value: 1.1442307692307692.\n"
     ]
    },
    {
     "name": "stdout",
     "output_type": "stream",
     "text": [
      "\n",
      "| acc_inc/eval_ds [pp]                                                                                                               |   train |   test |   oos |    rnd |\n",
      "|:-----------------------------------------------------------------------------------------------------------------------------------|--------:|-------:|------:|-------:|\n",
      "| ReprPO collect_hs=True loss.use_dpo_loss=True loss.use_orth_loss=False loss.β=0.21 lr=0.00 transform.nb=10 transform.reduction=172 |   4.959 |  0.787 | 3.846 | 14.035 |\n"
     ]
    },
    {
     "name": "stderr",
     "output_type": "stream",
     "text": [
      "[I 2024-10-03 17:09:19,042] Trial 81 finished with value: 1.0884615384615386 and parameters: {'lr': 0.00020662291638057882, 'collect_input': False, 'collect_hs': True, 'nb': 9, 'Htype': 'etherplusHH', 'flip_side': False, 'reduction': 107, 'β': 0.7334462710098926, 'use_orth_loss': False, 'use_angle_loss': True, 'use_dpo_loss': True, 'use_nll_loss': False, 'weight_tokens': False}. Best is trial 53 with value: 1.1442307692307692.\n"
     ]
    },
    {
     "name": "stdout",
     "output_type": "stream",
     "text": [
      "\n",
      "| acc_inc/eval_ds [pp]                                                                                                              |   train |   test |   oos |   rnd |\n",
      "|:----------------------------------------------------------------------------------------------------------------------------------|--------:|-------:|------:|------:|\n",
      "| ReprPO collect_hs=True loss.use_dpo_loss=True loss.use_orth_loss=False loss.β=0.73 lr=0.00 transform.nb=9 transform.reduction=107 |   3.306 |      0 | 8.846 | 7.018 |\n"
     ]
    },
    {
     "name": "stderr",
     "output_type": "stream",
     "text": [
      "[I 2024-10-03 17:12:32,569] Trial 82 finished with value: 1.0519230769230767 and parameters: {'lr': 8.940201780626689e-05, 'collect_input': False, 'collect_hs': True, 'nb': 8, 'Htype': 'etherplusHH', 'flip_side': False, 'reduction': 97, 'β': 0.6838187042838659, 'use_orth_loss': False, 'use_angle_loss': True, 'use_dpo_loss': True, 'use_nll_loss': False, 'weight_tokens': False}. Best is trial 53 with value: 1.1442307692307692.\n"
     ]
    },
    {
     "name": "stdout",
     "output_type": "stream",
     "text": [
      "\n",
      "| acc_inc/eval_ds [pp]                                                                                                             |   train |   test |   oos |   rnd |\n",
      "|:---------------------------------------------------------------------------------------------------------------------------------|--------:|-------:|------:|------:|\n",
      "| ReprPO collect_hs=True loss.use_dpo_loss=True loss.use_orth_loss=False loss.β=0.68 lr=0.00 transform.nb=8 transform.reduction=97 |   4.959 |      0 | 5.192 | 3.509 |\n"
     ]
    },
    {
     "name": "stderr",
     "output_type": "stream",
     "text": [
      "[I 2024-10-03 17:15:47,149] Trial 83 finished with value: 1.0865384615384615 and parameters: {'lr': 0.00014675958362456648, 'collect_input': False, 'collect_hs': True, 'nb': 12, 'Htype': 'etherplusHH', 'flip_side': False, 'reduction': 135, 'β': 1.2377417017093961, 'use_orth_loss': False, 'use_angle_loss': True, 'use_dpo_loss': True, 'use_nll_loss': False, 'weight_tokens': False}. Best is trial 53 with value: 1.1442307692307692.\n"
     ]
    },
    {
     "name": "stdout",
     "output_type": "stream",
     "text": [
      "\n",
      "| acc_inc/eval_ds [pp]                                                                                                               |   train |   test |   oos |    rnd |\n",
      "|:-----------------------------------------------------------------------------------------------------------------------------------|--------:|-------:|------:|-------:|\n",
      "| ReprPO collect_hs=True loss.use_dpo_loss=True loss.use_orth_loss=False loss.β=1.24 lr=0.00 transform.nb=12 transform.reduction=135 |   4.132 |      0 | 8.654 | -8.772 |\n"
     ]
    },
    {
     "name": "stderr",
     "output_type": "stream",
     "text": [
      "[I 2024-10-03 17:18:59,878] Trial 84 finished with value: 1.0942307692307693 and parameters: {'lr': 0.0002085052807700747, 'collect_input': False, 'collect_hs': True, 'nb': 26, 'Htype': 'etherplusHH', 'flip_side': False, 'reduction': 113, 'β': 0.47626345298398914, 'use_orth_loss': False, 'use_angle_loss': True, 'use_dpo_loss': True, 'use_nll_loss': False, 'weight_tokens': False}. Best is trial 53 with value: 1.1442307692307692.\n"
     ]
    },
    {
     "name": "stdout",
     "output_type": "stream",
     "text": [
      "\n",
      "| acc_inc/eval_ds [pp]                                                                                                               |   train |   test |   oos |   rnd |\n",
      "|:-----------------------------------------------------------------------------------------------------------------------------------|--------:|-------:|------:|------:|\n",
      "| ReprPO collect_hs=True loss.use_dpo_loss=True loss.use_orth_loss=False loss.β=0.48 lr=0.00 transform.nb=26 transform.reduction=113 |   5.785 |      0 | 9.423 | 1.754 |\n"
     ]
    },
    {
     "name": "stderr",
     "output_type": "stream",
     "text": [
      "[I 2024-10-03 17:22:11,755] Trial 85 finished with value: 1.0692307692307692 and parameters: {'lr': 0.0002066280652448455, 'collect_input': False, 'collect_hs': True, 'nb': 32, 'Htype': 'etherplusHH', 'flip_side': False, 'reduction': 141, 'β': 0.40911044169901595, 'use_orth_loss': False, 'use_angle_loss': True, 'use_dpo_loss': True, 'use_nll_loss': False, 'weight_tokens': False}. Best is trial 53 with value: 1.1442307692307692.\n"
     ]
    },
    {
     "name": "stdout",
     "output_type": "stream",
     "text": [
      "\n",
      "| acc_inc/eval_ds [pp]                                                                                                               |   train |   test |   oos |    rnd |\n",
      "|:-----------------------------------------------------------------------------------------------------------------------------------|--------:|-------:|------:|-------:|\n",
      "| ReprPO collect_hs=True loss.use_dpo_loss=True loss.use_orth_loss=False loss.β=0.41 lr=0.00 transform.nb=32 transform.reduction=141 |   4.132 |      0 | 6.923 | 22.807 |\n"
     ]
    },
    {
     "name": "stderr",
     "output_type": "stream",
     "text": [
      "[I 2024-10-03 17:25:23,673] Trial 86 finished with value: 1.0884615384615386 and parameters: {'lr': 0.00015899369106324926, 'collect_input': False, 'collect_hs': True, 'nb': 25, 'Htype': 'ether', 'flip_side': False, 'reduction': 114, 'β': 0.756181115373038, 'use_orth_loss': True, 'use_angle_loss': True, 'use_dpo_loss': True, 'use_nll_loss': False, 'weight_tokens': False}. Best is trial 53 with value: 1.1442307692307692.\n"
     ]
    },
    {
     "name": "stdout",
     "output_type": "stream",
     "text": [
      "\n",
      "| acc_inc/eval_ds [pp]                                                                                                            |   train |   test |   oos |   rnd |\n",
      "|:--------------------------------------------------------------------------------------------------------------------------------|--------:|-------:|------:|------:|\n",
      "| ReprPO collect_hs=True loss.use_dpo_loss=True loss.β=0.76 lr=0.00 transform.Htype=ether transform.nb=25 transform.reduction=114 |   4.959 |      0 | 8.846 | 5.263 |\n"
     ]
    },
    {
     "name": "stderr",
     "output_type": "stream",
     "text": [
      "[I 2024-10-03 17:28:39,808] Trial 87 finished with value: 1.1307692307692307 and parameters: {'lr': 0.00039966666856537745, 'collect_input': False, 'collect_hs': False, 'nb': 2, 'Htype': 'etherplusHH', 'flip_side': True, 'reduction': 88, 'β': 1.8306584471490974, 'use_orth_loss': False, 'use_angle_loss': True, 'use_dpo_loss': False, 'use_nll_loss': False, 'weight_tokens': False}. Best is trial 53 with value: 1.1442307692307692.\n"
     ]
    },
    {
     "name": "stdout",
     "output_type": "stream",
     "text": [
      "\n",
      "| acc_inc/eval_ds [pp]                                                                                               |   train |   test |    oos |    rnd |\n",
      "|:-------------------------------------------------------------------------------------------------------------------|--------:|-------:|-------:|-------:|\n",
      "| ReprPO loss.use_orth_loss=False loss.β=1.83 lr=0.00 transform.flip_side=True transform.nb=2 transform.reduction=88 |   3.306 |  0.787 | 13.077 | -1.754 |\n"
     ]
    },
    {
     "name": "stderr",
     "output_type": "stream",
     "text": [
      "[I 2024-10-03 17:31:51,710] Trial 88 finished with value: 0.6884615384615385 and parameters: {'lr': 0.0004072297090333147, 'collect_input': True, 'collect_hs': False, 'nb': 2, 'Htype': 'etherplusHH', 'flip_side': True, 'reduction': 86, 'β': 1.9308987050457898, 'use_orth_loss': False, 'use_angle_loss': False, 'use_dpo_loss': False, 'use_nll_loss': True, 'weight_tokens': True}. Best is trial 53 with value: 1.1442307692307692.\n"
     ]
    },
    {
     "name": "stdout",
     "output_type": "stream",
     "text": [
      "\n",
      "| acc_inc/eval_ds [pp]                                                                                                                                                                                           |   train |   test |     oos |     rnd |\n",
      "|:---------------------------------------------------------------------------------------------------------------------------------------------------------------------------------------------------------------|--------:|-------:|--------:|--------:|\n",
      "| ReprPO collect_input=True loss.use_angle_loss=False loss.use_nll_loss=True loss.use_orth_loss=False loss.weight_tokens=True loss.β=1.93 lr=0.00 transform.flip_side=True transform.nb=2 transform.reduction=86 | -14.876 | -2.362 | -31.154 | -12.281 |\n"
     ]
    },
    {
     "name": "stderr",
     "output_type": "stream",
     "text": [
      "[I 2024-10-03 17:35:08,009] Trial 89 finished with value: 1.1115384615384616 and parameters: {'lr': 0.0007594432088333472, 'collect_input': False, 'collect_hs': False, 'nb': 26, 'Htype': 'etherplusHH', 'flip_side': True, 'reduction': 119, 'β': 1.3381362206067464, 'use_orth_loss': False, 'use_angle_loss': True, 'use_dpo_loss': False, 'use_nll_loss': False, 'weight_tokens': False}. Best is trial 53 with value: 1.1442307692307692.\n"
     ]
    },
    {
     "name": "stdout",
     "output_type": "stream",
     "text": [
      "\n",
      "| acc_inc/eval_ds [pp]                                                                                                 |   train |   test |    oos |    rnd |\n",
      "|:---------------------------------------------------------------------------------------------------------------------|--------:|-------:|-------:|-------:|\n",
      "| ReprPO loss.use_orth_loss=False loss.β=1.34 lr=0.00 transform.flip_side=True transform.nb=26 transform.reduction=119 |   2.479 | -0.787 | 11.154 | -1.754 |\n"
     ]
    },
    {
     "name": "stderr",
     "output_type": "stream",
     "text": [
      "[I 2024-10-03 17:38:24,593] Trial 90 finished with value: 1.148076923076923 and parameters: {'lr': 0.0006490290629693709, 'collect_input': False, 'collect_hs': False, 'nb': 29, 'Htype': 'etherplusHH', 'flip_side': True, 'reduction': 120, 'β': 1.2501117987398898, 'use_orth_loss': False, 'use_angle_loss': True, 'use_dpo_loss': False, 'use_nll_loss': False, 'weight_tokens': False}. Best is trial 90 with value: 1.148076923076923.\n"
     ]
    },
    {
     "name": "stdout",
     "output_type": "stream",
     "text": [
      "\n",
      "| acc_inc/eval_ds [pp]                                                                                                 |   train |   test |    oos |   rnd |\n",
      "|:---------------------------------------------------------------------------------------------------------------------|--------:|-------:|-------:|------:|\n",
      "| ReprPO loss.use_orth_loss=False loss.β=1.25 lr=0.00 transform.flip_side=True transform.nb=29 transform.reduction=120 |   3.306 | -0.787 | 14.808 | 7.018 |\n"
     ]
    },
    {
     "name": "stderr",
     "output_type": "stream",
     "text": [
      "[I 2024-10-03 17:41:40,433] Trial 91 finished with value: 1.1346153846153846 and parameters: {'lr': 0.0006825034099735031, 'collect_input': False, 'collect_hs': False, 'nb': 27, 'Htype': 'etherplusHH', 'flip_side': True, 'reduction': 69, 'β': 1.506051657910658, 'use_orth_loss': False, 'use_angle_loss': True, 'use_dpo_loss': False, 'use_nll_loss': False, 'weight_tokens': False}. Best is trial 90 with value: 1.148076923076923.\n"
     ]
    },
    {
     "name": "stdout",
     "output_type": "stream",
     "text": [
      "\n",
      "| acc_inc/eval_ds [pp]                                                                                                |   train |   test |    oos |   rnd |\n",
      "|:--------------------------------------------------------------------------------------------------------------------|--------:|-------:|-------:|------:|\n",
      "| ReprPO loss.use_orth_loss=False loss.β=1.51 lr=0.00 transform.flip_side=True transform.nb=27 transform.reduction=69 |   4.959 | -0.787 | 13.462 |     0 |\n"
     ]
    },
    {
     "name": "stderr",
     "output_type": "stream",
     "text": [
      "[I 2024-10-03 17:44:57,728] Trial 92 finished with value: 1.1384615384615384 and parameters: {'lr': 0.0007268972882439341, 'collect_input': False, 'collect_hs': False, 'nb': 29, 'Htype': 'etherplusHH', 'flip_side': True, 'reduction': 66, 'β': 1.6712187050746141, 'use_orth_loss': False, 'use_angle_loss': True, 'use_dpo_loss': False, 'use_nll_loss': False, 'weight_tokens': False}. Best is trial 90 with value: 1.148076923076923.\n"
     ]
    },
    {
     "name": "stdout",
     "output_type": "stream",
     "text": [
      "\n",
      "| acc_inc/eval_ds [pp]                                                                                                |   train |   test |    oos |   rnd |\n",
      "|:--------------------------------------------------------------------------------------------------------------------|--------:|-------:|-------:|------:|\n",
      "| ReprPO loss.use_orth_loss=False loss.β=1.67 lr=0.00 transform.flip_side=True transform.nb=29 transform.reduction=66 |   4.132 | -0.787 | 13.846 | 3.509 |\n"
     ]
    },
    {
     "name": "stderr",
     "output_type": "stream",
     "text": [
      "[I 2024-10-03 17:48:13,312] Trial 93 finished with value: 1.101923076923077 and parameters: {'lr': 0.0007945262039264666, 'collect_input': False, 'collect_hs': False, 'nb': 28, 'Htype': 'etherplusHH', 'flip_side': True, 'reduction': 55, 'β': 1.3480654366620521, 'use_orth_loss': False, 'use_angle_loss': True, 'use_dpo_loss': False, 'use_nll_loss': False, 'weight_tokens': False}. Best is trial 90 with value: 1.148076923076923.\n"
     ]
    },
    {
     "name": "stdout",
     "output_type": "stream",
     "text": [
      "\n",
      "| acc_inc/eval_ds [pp]                                                                                                |   train |   test |    oos |    rnd |\n",
      "|:--------------------------------------------------------------------------------------------------------------------|--------:|-------:|-------:|-------:|\n",
      "| ReprPO loss.use_orth_loss=False loss.β=1.35 lr=0.00 transform.flip_side=True transform.nb=28 transform.reduction=55 |   2.479 | -0.787 | 10.192 | -3.509 |\n"
     ]
    },
    {
     "name": "stderr",
     "output_type": "stream",
     "text": [
      "[I 2024-10-03 17:51:28,965] Trial 94 finished with value: 1.0903846153846153 and parameters: {'lr': 0.0007918233325776889, 'collect_input': False, 'collect_hs': False, 'nb': 28, 'Htype': 'etherplusHH', 'flip_side': True, 'reduction': 53, 'β': 1.2542822315361986, 'use_orth_loss': False, 'use_angle_loss': True, 'use_dpo_loss': False, 'use_nll_loss': False, 'weight_tokens': False}. Best is trial 90 with value: 1.148076923076923.\n"
     ]
    },
    {
     "name": "stdout",
     "output_type": "stream",
     "text": [
      "\n",
      "| acc_inc/eval_ds [pp]                                                                                                |   train |   test |   oos |   rnd |\n",
      "|:--------------------------------------------------------------------------------------------------------------------|--------:|-------:|------:|------:|\n",
      "| ReprPO loss.use_orth_loss=False loss.β=1.25 lr=0.00 transform.flip_side=True transform.nb=28 transform.reduction=53 |   3.306 | -0.787 | 9.038 | 1.754 |\n"
     ]
    },
    {
     "name": "stderr",
     "output_type": "stream",
     "text": [
      "[I 2024-10-03 17:54:42,942] Trial 95 finished with value: 1.148076923076923 and parameters: {'lr': 0.0006270005595880638, 'collect_input': False, 'collect_hs': False, 'nb': 27, 'Htype': 'etherplusHH', 'flip_side': True, 'reduction': 70, 'β': 1.542179055501016, 'use_orth_loss': False, 'use_angle_loss': True, 'use_dpo_loss': False, 'use_nll_loss': False, 'weight_tokens': False}. Best is trial 90 with value: 1.148076923076923.\n"
     ]
    },
    {
     "name": "stdout",
     "output_type": "stream",
     "text": [
      "\n",
      "| acc_inc/eval_ds [pp]                                                                                                |   train |   test |    oos |    rnd |\n",
      "|:--------------------------------------------------------------------------------------------------------------------|--------:|-------:|-------:|-------:|\n",
      "| ReprPO loss.use_orth_loss=False loss.β=1.54 lr=0.00 transform.flip_side=True transform.nb=27 transform.reduction=70 |   4.132 | -0.787 | 14.808 | -3.509 |\n",
      "\n",
      "| acc_inc/eval_ds [pp]                                                                                                |   train |   test |    oos |    rnd |\n",
      "|:--------------------------------------------------------------------------------------------------------------------|--------:|-------:|-------:|-------:|\n",
      "| ReprPO loss.use_orth_loss=False loss.β=1.48 lr=0.00 transform.flip_side=True transform.nb=30 transform.reduction=67 |   3.306 | -0.787 | 15.577 | -7.018 |\n"
     ]
    },
    {
     "name": "stderr",
     "output_type": "stream",
     "text": [
      "[I 2024-10-03 17:57:59,521] Trial 96 finished with value: 1.1557692307692307 and parameters: {'lr': 0.0006314692353997515, 'collect_input': False, 'collect_hs': False, 'nb': 30, 'Htype': 'etherplusHH', 'flip_side': True, 'reduction': 67, 'β': 1.4758426649356646, 'use_orth_loss': False, 'use_angle_loss': True, 'use_dpo_loss': False, 'use_nll_loss': False, 'weight_tokens': False}. Best is trial 96 with value: 1.1557692307692307.\n",
      "[I 2024-10-03 18:01:16,987] Trial 97 finished with value: 1.1384615384615384 and parameters: {'lr': 0.0006959839445778579, 'collect_input': False, 'collect_hs': False, 'nb': 30, 'Htype': 'etherplusHH', 'flip_side': True, 'reduction': 53, 'β': 1.5123388243421256, 'use_orth_loss': False, 'use_angle_loss': True, 'use_dpo_loss': False, 'use_nll_loss': False, 'weight_tokens': False}. Best is trial 96 with value: 1.1557692307692307.\n"
     ]
    },
    {
     "name": "stdout",
     "output_type": "stream",
     "text": [
      "\n",
      "| acc_inc/eval_ds [pp]                                                                                                |   train |   test |    oos |   rnd |\n",
      "|:--------------------------------------------------------------------------------------------------------------------|--------:|-------:|-------:|------:|\n",
      "| ReprPO loss.use_orth_loss=False loss.β=1.51 lr=0.00 transform.flip_side=True transform.nb=30 transform.reduction=53 |   4.959 | -0.787 | 13.846 | 1.754 |\n"
     ]
    },
    {
     "name": "stderr",
     "output_type": "stream",
     "text": [
      "[I 2024-10-03 18:04:54,198] Trial 98 finished with value: 1.1519230769230768 and parameters: {'lr': 0.0006148382427726709, 'collect_input': False, 'collect_hs': False, 'nb': 30, 'Htype': 'etherplusHH', 'flip_side': True, 'reduction': 67, 'β': 1.522856783870399, 'use_orth_loss': False, 'use_angle_loss': True, 'use_dpo_loss': False, 'use_nll_loss': False, 'weight_tokens': False}. Best is trial 96 with value: 1.1557692307692307.\n"
     ]
    },
    {
     "name": "stdout",
     "output_type": "stream",
     "text": [
      "\n",
      "| acc_inc/eval_ds [pp]                                                                                                |   train |   test |    oos |    rnd |\n",
      "|:--------------------------------------------------------------------------------------------------------------------|--------:|-------:|-------:|-------:|\n",
      "| ReprPO loss.use_orth_loss=False loss.β=1.52 lr=0.00 transform.flip_side=True transform.nb=30 transform.reduction=67 |   4.132 | -0.787 | 15.192 | -1.754 |\n"
     ]
    },
    {
     "name": "stderr",
     "output_type": "stream",
     "text": [
      "[I 2024-10-03 18:08:08,558] Trial 99 finished with value: 1.146153846153846 and parameters: {'lr': 0.0006994039380108175, 'collect_input': False, 'collect_hs': False, 'nb': 30, 'Htype': 'etherplusHH', 'flip_side': True, 'reduction': 70, 'β': 1.9777611243684334, 'use_orth_loss': False, 'use_angle_loss': True, 'use_dpo_loss': False, 'use_nll_loss': False, 'weight_tokens': False}. Best is trial 96 with value: 1.1557692307692307.\n"
     ]
    },
    {
     "name": "stdout",
     "output_type": "stream",
     "text": [
      "\n",
      "| acc_inc/eval_ds [pp]                                                                                                |   train |   test |    oos |   rnd |\n",
      "|:--------------------------------------------------------------------------------------------------------------------|--------:|-------:|-------:|------:|\n",
      "| ReprPO loss.use_orth_loss=False loss.β=1.98 lr=0.00 transform.flip_side=True transform.nb=30 transform.reduction=70 |   2.479 | -0.787 | 14.615 | 1.754 |\n"
     ]
    },
    {
     "name": "stderr",
     "output_type": "stream",
     "text": [
      "[I 2024-10-03 18:11:25,669] Trial 100 finished with value: 1.1442307692307692 and parameters: {'lr': 0.0006337318959937189, 'collect_input': False, 'collect_hs': False, 'nb': 31, 'Htype': 'oft', 'flip_side': True, 'reduction': 67, 'β': 1.9867513749980394, 'use_orth_loss': False, 'use_angle_loss': True, 'use_dpo_loss': False, 'use_nll_loss': False, 'weight_tokens': False}. Best is trial 96 with value: 1.1557692307692307.\n"
     ]
    },
    {
     "name": "stdout",
     "output_type": "stream",
     "text": [
      "\n",
      "| acc_inc/eval_ds [pp]                                                                                                                    |   train |   test |    oos |   rnd |\n",
      "|:----------------------------------------------------------------------------------------------------------------------------------------|--------:|-------:|-------:|------:|\n",
      "| ReprPO loss.use_orth_loss=False loss.β=1.99 lr=0.00 transform.Htype=oft transform.flip_side=True transform.nb=31 transform.reduction=67 |   4.132 | -0.787 | 14.423 | 7.018 |\n"
     ]
    },
    {
     "name": "stderr",
     "output_type": "stream",
     "text": [
      "[I 2024-10-03 18:14:42,500] Trial 101 finished with value: 1.146153846153846 and parameters: {'lr': 0.0005991438334993949, 'collect_input': False, 'collect_hs': False, 'nb': 31, 'Htype': 'oft', 'flip_side': True, 'reduction': 68, 'β': 1.9785897778167283, 'use_orth_loss': False, 'use_angle_loss': True, 'use_dpo_loss': False, 'use_nll_loss': False, 'weight_tokens': False}. Best is trial 96 with value: 1.1557692307692307.\n"
     ]
    },
    {
     "name": "stdout",
     "output_type": "stream",
     "text": [
      "\n",
      "| acc_inc/eval_ds [pp]                                                                                                                    |   train |   test |    oos |    rnd |\n",
      "|:----------------------------------------------------------------------------------------------------------------------------------------|--------:|-------:|-------:|-------:|\n",
      "| ReprPO loss.use_orth_loss=False loss.β=1.98 lr=0.00 transform.Htype=oft transform.flip_side=True transform.nb=31 transform.reduction=68 |   3.306 | -0.787 | 14.615 | -3.509 |\n"
     ]
    },
    {
     "name": "stderr",
     "output_type": "stream",
     "text": [
      "[I 2024-10-03 18:17:58,154] Trial 102 finished with value: 1.1557692307692307 and parameters: {'lr': 0.0006397485228186326, 'collect_input': False, 'collect_hs': False, 'nb': 31, 'Htype': 'oft', 'flip_side': True, 'reduction': 68, 'β': 0.976456894611589, 'use_orth_loss': False, 'use_angle_loss': True, 'use_dpo_loss': False, 'use_nll_loss': False, 'weight_tokens': False}. Best is trial 96 with value: 1.1557692307692307.\n"
     ]
    },
    {
     "name": "stdout",
     "output_type": "stream",
     "text": [
      "\n",
      "| acc_inc/eval_ds [pp]                                                                                                                    |   train |   test |    oos |   rnd |\n",
      "|:----------------------------------------------------------------------------------------------------------------------------------------|--------:|-------:|-------:|------:|\n",
      "| ReprPO loss.use_orth_loss=False loss.β=0.98 lr=0.00 transform.Htype=oft transform.flip_side=True transform.nb=31 transform.reduction=68 |   4.959 | -0.787 | 15.577 | 5.263 |\n"
     ]
    },
    {
     "name": "stderr",
     "output_type": "stream",
     "text": [
      "[I 2024-10-03 18:21:13,616] Trial 103 finished with value: 1.1596153846153847 and parameters: {'lr': 0.0005984807571391362, 'collect_input': False, 'collect_hs': False, 'nb': 31, 'Htype': 'oft', 'flip_side': True, 'reduction': 66, 'β': 0.9575078137672474, 'use_orth_loss': False, 'use_angle_loss': True, 'use_dpo_loss': False, 'use_nll_loss': False, 'weight_tokens': False}. Best is trial 103 with value: 1.1596153846153847.\n"
     ]
    },
    {
     "name": "stdout",
     "output_type": "stream",
     "text": [
      "\n",
      "| acc_inc/eval_ds [pp]                                                                                                                    |   train |   test |    oos |    rnd |\n",
      "|:----------------------------------------------------------------------------------------------------------------------------------------|--------:|-------:|-------:|-------:|\n",
      "| ReprPO loss.use_orth_loss=False loss.β=0.96 lr=0.00 transform.Htype=oft transform.flip_side=True transform.nb=31 transform.reduction=66 |   3.306 | -0.787 | 15.962 | 10.526 |\n"
     ]
    },
    {
     "name": "stderr",
     "output_type": "stream",
     "text": [
      "[I 2024-10-03 18:24:28,698] Trial 104 finished with value: 1.1615384615384614 and parameters: {'lr': 0.0005839953850646561, 'collect_input': False, 'collect_hs': False, 'nb': 31, 'Htype': 'oft', 'flip_side': True, 'reduction': 67, 'β': 0.9550600444500353, 'use_orth_loss': False, 'use_angle_loss': True, 'use_dpo_loss': False, 'use_nll_loss': False, 'weight_tokens': False}. Best is trial 104 with value: 1.1615384615384614.\n"
     ]
    },
    {
     "name": "stdout",
     "output_type": "stream",
     "text": [
      "\n",
      "| acc_inc/eval_ds [pp]                                                                                                                    |   train |   test |    oos |   rnd |\n",
      "|:----------------------------------------------------------------------------------------------------------------------------------------|--------:|-------:|-------:|------:|\n",
      "| ReprPO loss.use_orth_loss=False loss.β=0.96 lr=0.00 transform.Htype=oft transform.flip_side=True transform.nb=31 transform.reduction=67 |   1.653 | -0.787 | 16.154 | 5.263 |\n"
     ]
    },
    {
     "name": "stderr",
     "output_type": "stream",
     "text": [
      "[I 2024-10-03 18:27:57,457] Trial 105 finished with value: 1.15 and parameters: {'lr': 0.0005571222563586829, 'collect_input': False, 'collect_hs': False, 'nb': 31, 'Htype': 'oft', 'flip_side': True, 'reduction': 58, 'β': 0.953588448478076, 'use_orth_loss': False, 'use_angle_loss': True, 'use_dpo_loss': False, 'use_nll_loss': False, 'weight_tokens': False}. Best is trial 104 with value: 1.1615384615384614.\n"
     ]
    },
    {
     "name": "stdout",
     "output_type": "stream",
     "text": [
      "\n",
      "| acc_inc/eval_ds [pp]                                                                                                                    |   train |   test |   oos |    rnd |\n",
      "|:----------------------------------------------------------------------------------------------------------------------------------------|--------:|-------:|------:|-------:|\n",
      "| ReprPO loss.use_orth_loss=False loss.β=0.95 lr=0.00 transform.Htype=oft transform.flip_side=True transform.nb=31 transform.reduction=58 |   3.306 | -0.787 |    15 | 12.281 |\n"
     ]
    },
    {
     "name": "stderr",
     "output_type": "stream",
     "text": [
      "[I 2024-10-03 18:31:15,040] Trial 106 finished with value: 1.0865384615384615 and parameters: {'lr': 0.0009222895170302763, 'collect_input': False, 'collect_hs': False, 'nb': 31, 'Htype': 'oft', 'flip_side': True, 'reduction': 44, 'β': 0.9622945728206731, 'use_orth_loss': True, 'use_angle_loss': True, 'use_dpo_loss': False, 'use_nll_loss': False, 'weight_tokens': False}. Best is trial 104 with value: 1.1615384615384614.\n"
     ]
    },
    {
     "name": "stdout",
     "output_type": "stream",
     "text": [
      "\n",
      "| acc_inc/eval_ds [pp]                                                                                           |   train |   test |   oos |    rnd |\n",
      "|:---------------------------------------------------------------------------------------------------------------|--------:|-------:|------:|-------:|\n",
      "| ReprPO loss.β=0.96 lr=0.00 transform.Htype=oft transform.flip_side=True transform.nb=31 transform.reduction=44 |   2.479 | -1.575 | 8.654 | -7.018 |\n"
     ]
    },
    {
     "name": "stderr",
     "output_type": "stream",
     "text": [
      "[I 2024-10-03 18:34:30,321] Trial 107 finished with value: 1.1596153846153847 and parameters: {'lr': 0.0005788967553353346, 'collect_input': False, 'collect_hs': False, 'nb': 30, 'Htype': 'oft', 'flip_side': True, 'reduction': 76, 'β': 0.9955911313775138, 'use_orth_loss': False, 'use_angle_loss': True, 'use_dpo_loss': False, 'use_nll_loss': False, 'weight_tokens': False}. Best is trial 104 with value: 1.1615384615384614.\n"
     ]
    },
    {
     "name": "stdout",
     "output_type": "stream",
     "text": [
      "\n",
      "| acc_inc/eval_ds [pp]                                                                                                                    |   train |   test |    oos |   rnd |\n",
      "|:----------------------------------------------------------------------------------------------------------------------------------------|--------:|-------:|-------:|------:|\n",
      "| ReprPO loss.use_orth_loss=False loss.β=1.00 lr=0.00 transform.Htype=oft transform.flip_side=True transform.nb=30 transform.reduction=76 |   4.132 | -0.787 | 15.962 | 7.018 |\n"
     ]
    },
    {
     "name": "stderr",
     "output_type": "stream",
     "text": [
      "[I 2024-10-03 18:37:52,026] Trial 108 finished with value: 1.126923076923077 and parameters: {'lr': 0.0005873390571428544, 'collect_input': False, 'collect_hs': False, 'nb': 30, 'Htype': 'oft', 'flip_side': True, 'reduction': 58, 'β': 0.968376632604158, 'use_orth_loss': False, 'use_angle_loss': True, 'use_dpo_loss': False, 'use_nll_loss': True, 'weight_tokens': False}. Best is trial 104 with value: 1.1615384615384614.\n"
     ]
    },
    {
     "name": "stdout",
     "output_type": "stream",
     "text": [
      "\n",
      "| acc_inc/eval_ds [pp]                                                                                                                                           |   train |   test |    oos |   rnd |\n",
      "|:---------------------------------------------------------------------------------------------------------------------------------------------------------------|--------:|-------:|-------:|------:|\n",
      "| ReprPO loss.use_nll_loss=True loss.use_orth_loss=False loss.β=0.97 lr=0.00 transform.Htype=oft transform.flip_side=True transform.nb=30 transform.reduction=58 |   0.826 | -0.787 | 12.692 |     0 |\n"
     ]
    },
    {
     "name": "stderr",
     "output_type": "stream",
     "text": [
      "[I 2024-10-03 18:41:08,707] Trial 109 finished with value: 1.0903846153846153 and parameters: {'lr': 0.0004858037362800749, 'collect_input': False, 'collect_hs': False, 'nb': 30, 'Htype': 'oft', 'flip_side': True, 'reduction': 74, 'β': 0.310268068133188, 'use_orth_loss': False, 'use_angle_loss': True, 'use_dpo_loss': False, 'use_nll_loss': False, 'weight_tokens': True}. Best is trial 104 with value: 1.1615384615384614.\n"
     ]
    },
    {
     "name": "stdout",
     "output_type": "stream",
     "text": [
      "\n",
      "| acc_inc/eval_ds [pp]                                                                                                                                            |   train |   test |   oos |    rnd |\n",
      "|:----------------------------------------------------------------------------------------------------------------------------------------------------------------|--------:|-------:|------:|-------:|\n",
      "| ReprPO loss.use_orth_loss=False loss.weight_tokens=True loss.β=0.31 lr=0.00 transform.Htype=oft transform.flip_side=True transform.nb=30 transform.reduction=74 |  -0.826 | -0.787 | 9.038 | -8.772 |\n"
     ]
    },
    {
     "name": "stderr",
     "output_type": "stream",
     "text": [
      "[I 2024-10-03 18:44:27,119] Trial 110 finished with value: 1.146153846153846 and parameters: {'lr': 0.0005526961150595648, 'collect_input': False, 'collect_hs': False, 'nb': 31, 'Htype': 'oft', 'flip_side': True, 'reduction': 60, 'β': 0.9379518074532771, 'use_orth_loss': False, 'use_angle_loss': True, 'use_dpo_loss': False, 'use_nll_loss': False, 'weight_tokens': False}. Best is trial 104 with value: 1.1615384615384614.\n"
     ]
    },
    {
     "name": "stdout",
     "output_type": "stream",
     "text": [
      "\n",
      "| acc_inc/eval_ds [pp]                                                                                             |   train |   test |    oos |   rnd |\n",
      "|:-----------------------------------------------------------------------------------------------------------------|--------:|-------:|-------:|------:|\n",
      "| ReprPO loss.use_orth_loss=False loss.β=0.94 lr=0.00 transform.Htype=oft transform.flip_side=True transform.nb=31 |   4.132 | -0.787 | 14.615 | 5.263 |\n"
     ]
    },
    {
     "name": "stderr",
     "output_type": "stream",
     "text": [
      "[I 2024-10-03 18:47:41,564] Trial 111 finished with value: 1.146153846153846 and parameters: {'lr': 0.000547555780396083, 'collect_input': False, 'collect_hs': False, 'nb': 31, 'Htype': 'oft', 'flip_side': True, 'reduction': 61, 'β': 0.988884060933006, 'use_orth_loss': False, 'use_angle_loss': True, 'use_dpo_loss': False, 'use_nll_loss': False, 'weight_tokens': False}. Best is trial 104 with value: 1.1615384615384614.\n"
     ]
    },
    {
     "name": "stdout",
     "output_type": "stream",
     "text": [
      "\n",
      "| acc_inc/eval_ds [pp]                                                                                                                    |   train |   test |    oos |   rnd |\n",
      "|:----------------------------------------------------------------------------------------------------------------------------------------|--------:|-------:|-------:|------:|\n",
      "| ReprPO loss.use_orth_loss=False loss.β=0.99 lr=0.00 transform.Htype=oft transform.flip_side=True transform.nb=31 transform.reduction=61 |   3.306 | -0.787 | 14.615 | 8.772 |\n"
     ]
    },
    {
     "name": "stderr",
     "output_type": "stream",
     "text": [
      "[I 2024-10-03 18:50:56,517] Trial 112 finished with value: 1.0865384615384615 and parameters: {'lr': 0.0008811436691325868, 'collect_input': False, 'collect_hs': False, 'nb': 29, 'Htype': 'oft', 'flip_side': True, 'reduction': 71, 'β': 0.5758180898649035, 'use_orth_loss': False, 'use_angle_loss': True, 'use_dpo_loss': False, 'use_nll_loss': False, 'weight_tokens': False}. Best is trial 104 with value: 1.1615384615384614.\n"
     ]
    },
    {
     "name": "stdout",
     "output_type": "stream",
     "text": [
      "\n",
      "| acc_inc/eval_ds [pp]                                                                                                                    |   train |   test |   oos |   rnd |\n",
      "|:----------------------------------------------------------------------------------------------------------------------------------------|--------:|-------:|------:|------:|\n",
      "| ReprPO loss.use_orth_loss=False loss.β=0.58 lr=0.00 transform.Htype=oft transform.flip_side=True transform.nb=29 transform.reduction=71 |  -0.826 | -0.787 | 8.654 | 3.509 |\n"
     ]
    },
    {
     "name": "stderr",
     "output_type": "stream",
     "text": [
      "[I 2024-10-03 18:54:10,378] Trial 113 finished with value: 1.153846153846154 and parameters: {'lr': 0.0005960069302750159, 'collect_input': False, 'collect_hs': False, 'nb': 32, 'Htype': 'oft', 'flip_side': True, 'reduction': 48, 'β': 0.7863179536577947, 'use_orth_loss': False, 'use_angle_loss': True, 'use_dpo_loss': False, 'use_nll_loss': False, 'weight_tokens': False}. Best is trial 104 with value: 1.1615384615384614.\n"
     ]
    },
    {
     "name": "stdout",
     "output_type": "stream",
     "text": [
      "\n",
      "| acc_inc/eval_ds [pp]                                                                                                                    |   train |   test |    oos |   rnd |\n",
      "|:----------------------------------------------------------------------------------------------------------------------------------------|--------:|-------:|-------:|------:|\n",
      "| ReprPO loss.use_orth_loss=False loss.β=0.79 lr=0.00 transform.Htype=oft transform.flip_side=True transform.nb=32 transform.reduction=48 |   3.306 | -0.787 | 15.385 | 3.509 |\n"
     ]
    },
    {
     "name": "stderr",
     "output_type": "stream",
     "text": [
      "[I 2024-10-03 18:57:23,362] Trial 114 finished with value: 1.1673076923076924 and parameters: {'lr': 0.000628840182348705, 'collect_input': False, 'collect_hs': False, 'nb': 29, 'Htype': 'oft', 'flip_side': True, 'reduction': 37, 'β': 0.3860877070517134, 'use_orth_loss': False, 'use_angle_loss': True, 'use_dpo_loss': False, 'use_nll_loss': False, 'weight_tokens': False}. Best is trial 114 with value: 1.1673076923076924.\n"
     ]
    },
    {
     "name": "stdout",
     "output_type": "stream",
     "text": [
      "\n",
      "| acc_inc/eval_ds [pp]                                                                                                                    |   train |   test |    oos |   rnd |\n",
      "|:----------------------------------------------------------------------------------------------------------------------------------------|--------:|-------:|-------:|------:|\n",
      "| ReprPO loss.use_orth_loss=False loss.β=0.39 lr=0.00 transform.Htype=oft transform.flip_side=True transform.nb=29 transform.reduction=37 |   0.826 | -1.575 | 16.731 |     0 |\n"
     ]
    },
    {
     "name": "stderr",
     "output_type": "stream",
     "text": [
      "[I 2024-10-03 19:00:37,042] Trial 115 finished with value: 1.1346153846153846 and parameters: {'lr': 0.0004577444886635925, 'collect_input': False, 'collect_hs': False, 'nb': 32, 'Htype': 'oft', 'flip_side': True, 'reduction': 35, 'β': 0.36334400717174226, 'use_orth_loss': False, 'use_angle_loss': True, 'use_dpo_loss': False, 'use_nll_loss': False, 'weight_tokens': False}. Best is trial 114 with value: 1.1673076923076924.\n"
     ]
    },
    {
     "name": "stdout",
     "output_type": "stream",
     "text": [
      "\n",
      "| acc_inc/eval_ds [pp]                                                                                                                    |   train |   test |    oos |   rnd |\n",
      "|:----------------------------------------------------------------------------------------------------------------------------------------|--------:|-------:|-------:|------:|\n",
      "| ReprPO loss.use_orth_loss=False loss.β=0.36 lr=0.00 transform.Htype=oft transform.flip_side=True transform.nb=32 transform.reduction=35 |   2.479 |  0.787 | 13.462 | 5.263 |\n"
     ]
    },
    {
     "name": "stderr",
     "output_type": "stream",
     "text": [
      "[I 2024-10-03 19:03:50,955] Trial 116 finished with value: 1.1230769230769229 and parameters: {'lr': 0.0008610318837599524, 'collect_input': False, 'collect_hs': False, 'nb': 28, 'Htype': 'oft', 'flip_side': True, 'reduction': 49, 'β': 0.5751259529631295, 'use_orth_loss': False, 'use_angle_loss': True, 'use_dpo_loss': False, 'use_nll_loss': False, 'weight_tokens': False}. Best is trial 114 with value: 1.1673076923076924.\n"
     ]
    },
    {
     "name": "stdout",
     "output_type": "stream",
     "text": [
      "\n",
      "| acc_inc/eval_ds [pp]                                                                                                                    |   train |   test |    oos |    rnd |\n",
      "|:----------------------------------------------------------------------------------------------------------------------------------------|--------:|-------:|-------:|-------:|\n",
      "| ReprPO loss.use_orth_loss=False loss.β=0.58 lr=0.00 transform.Htype=oft transform.flip_side=True transform.nb=28 transform.reduction=49 |       0 | -0.787 | 12.308 | -1.754 |\n"
     ]
    },
    {
     "name": "stderr",
     "output_type": "stream",
     "text": [
      "[I 2024-10-03 19:07:03,408] Trial 117 finished with value: 1.1384615384615384 and parameters: {'lr': 0.00048460102212569107, 'collect_input': False, 'collect_hs': False, 'nb': 30, 'Htype': 'oft', 'flip_side': True, 'reduction': 77, 'β': 0.7748431375404004, 'use_orth_loss': False, 'use_angle_loss': True, 'use_dpo_loss': False, 'use_nll_loss': False, 'weight_tokens': False}. Best is trial 114 with value: 1.1673076923076924.\n"
     ]
    },
    {
     "name": "stdout",
     "output_type": "stream",
     "text": [
      "\n",
      "| acc_inc/eval_ds [pp]                                                                                                                    |   train |   test |    oos |   rnd |\n",
      "|:----------------------------------------------------------------------------------------------------------------------------------------|--------:|-------:|-------:|------:|\n",
      "| ReprPO loss.use_orth_loss=False loss.β=0.77 lr=0.00 transform.Htype=oft transform.flip_side=True transform.nb=30 transform.reduction=77 |   3.306 |      0 | 13.846 |     0 |\n"
     ]
    },
    {
     "name": "stderr",
     "output_type": "stream",
     "text": [
      "[I 2024-10-03 19:10:17,561] Trial 118 finished with value: 1.15 and parameters: {'lr': 0.0006387950365773929, 'collect_input': False, 'collect_hs': False, 'nb': 30, 'Htype': 'oft', 'flip_side': True, 'reduction': 19, 'β': 1.169524783469957, 'use_orth_loss': False, 'use_angle_loss': True, 'use_dpo_loss': False, 'use_nll_loss': False, 'weight_tokens': False}. Best is trial 114 with value: 1.1673076923076924.\n"
     ]
    },
    {
     "name": "stdout",
     "output_type": "stream",
     "text": [
      "\n",
      "| acc_inc/eval_ds [pp]                                                                                                                    |   train |   test |   oos |   rnd |\n",
      "|:----------------------------------------------------------------------------------------------------------------------------------------|--------:|-------:|------:|------:|\n",
      "| ReprPO loss.use_orth_loss=False loss.β=1.17 lr=0.00 transform.Htype=oft transform.flip_side=True transform.nb=30 transform.reduction=19 |   4.132 | -0.787 |    15 | 7.018 |\n"
     ]
    },
    {
     "name": "stderr",
     "output_type": "stream",
     "text": [
      "[I 2024-10-03 19:13:31,044] Trial 119 finished with value: 1.1096153846153844 and parameters: {'lr': 0.0003602148750854116, 'collect_input': False, 'collect_hs': False, 'nb': 29, 'Htype': 'oft', 'flip_side': True, 'reduction': 12, 'β': 1.113062303388354, 'use_orth_loss': False, 'use_angle_loss': True, 'use_dpo_loss': False, 'use_nll_loss': False, 'weight_tokens': False}. Best is trial 114 with value: 1.1673076923076924.\n"
     ]
    },
    {
     "name": "stdout",
     "output_type": "stream",
     "text": [
      "\n",
      "| acc_inc/eval_ds [pp]                                                                                                                    |   train |   test |    oos |    rnd |\n",
      "|:----------------------------------------------------------------------------------------------------------------------------------------|--------:|-------:|-------:|-------:|\n",
      "| ReprPO loss.use_orth_loss=False loss.β=1.11 lr=0.00 transform.Htype=oft transform.flip_side=True transform.nb=29 transform.reduction=12 |   3.306 |  0.787 | 10.962 | -5.263 |\n"
     ]
    },
    {
     "name": "stderr",
     "output_type": "stream",
     "text": [
      "[I 2024-10-03 19:16:43,468] Trial 120 finished with value: 1.1634615384615383 and parameters: {'lr': 0.0006293070271756891, 'collect_input': False, 'collect_hs': False, 'nb': 32, 'Htype': 'oft', 'flip_side': True, 'reduction': 19, 'β': 0.512191269056221, 'use_orth_loss': False, 'use_angle_loss': True, 'use_dpo_loss': False, 'use_nll_loss': False, 'weight_tokens': False}. Best is trial 114 with value: 1.1673076923076924.\n"
     ]
    },
    {
     "name": "stdout",
     "output_type": "stream",
     "text": [
      "\n",
      "| acc_inc/eval_ds [pp]                                                                                                                    |   train |   test |    oos |   rnd |\n",
      "|:----------------------------------------------------------------------------------------------------------------------------------------|--------:|-------:|-------:|------:|\n",
      "| ReprPO loss.use_orth_loss=False loss.β=0.51 lr=0.00 transform.Htype=oft transform.flip_side=True transform.nb=32 transform.reduction=19 |   1.653 | -0.787 | 16.346 | 1.754 |\n"
     ]
    },
    {
     "name": "stderr",
     "output_type": "stream",
     "text": [
      "[I 2024-10-03 19:19:58,820] Trial 121 finished with value: 1.1615384615384614 and parameters: {'lr': 0.0006317391394308807, 'collect_input': False, 'collect_hs': False, 'nb': 32, 'Htype': 'oft', 'flip_side': True, 'reduction': 16, 'β': 0.5193971153357431, 'use_orth_loss': False, 'use_angle_loss': True, 'use_dpo_loss': False, 'use_nll_loss': False, 'weight_tokens': False}. Best is trial 114 with value: 1.1673076923076924.\n"
     ]
    },
    {
     "name": "stdout",
     "output_type": "stream",
     "text": [
      "\n",
      "| acc_inc/eval_ds [pp]                                                                                                                    |   train |   test |    oos |   rnd |\n",
      "|:----------------------------------------------------------------------------------------------------------------------------------------|--------:|-------:|-------:|------:|\n",
      "| ReprPO loss.use_orth_loss=False loss.β=0.52 lr=0.00 transform.Htype=oft transform.flip_side=True transform.nb=32 transform.reduction=16 |   3.306 | -0.787 | 16.154 | 5.263 |\n"
     ]
    },
    {
     "name": "stderr",
     "output_type": "stream",
     "text": [
      "[I 2024-10-03 19:23:12,312] Trial 122 finished with value: 1.148076923076923 and parameters: {'lr': 0.0005064331826504, 'collect_input': False, 'collect_hs': False, 'nb': 32, 'Htype': 'oft', 'flip_side': True, 'reduction': 23, 'β': 0.4563187228151014, 'use_orth_loss': False, 'use_angle_loss': True, 'use_dpo_loss': False, 'use_nll_loss': False, 'weight_tokens': False}. Best is trial 114 with value: 1.1673076923076924.\n"
     ]
    },
    {
     "name": "stdout",
     "output_type": "stream",
     "text": [
      "\n",
      "| acc_inc/eval_ds [pp]                                                                                                                    |   train |   test |    oos |   rnd |\n",
      "|:----------------------------------------------------------------------------------------------------------------------------------------|--------:|-------:|-------:|------:|\n",
      "| ReprPO loss.use_orth_loss=False loss.β=0.46 lr=0.00 transform.Htype=oft transform.flip_side=True transform.nb=32 transform.reduction=23 |   3.306 | -0.787 | 14.808 | 7.018 |\n"
     ]
    },
    {
     "name": "stderr",
     "output_type": "stream",
     "text": [
      "[I 2024-10-03 19:26:25,085] Trial 123 finished with value: 1.0596153846153846 and parameters: {'lr': 0.0009330834431805889, 'collect_input': False, 'collect_hs': False, 'nb': 32, 'Htype': 'oft', 'flip_side': True, 'reduction': 18, 'β': 0.28057675810028726, 'use_orth_loss': False, 'use_angle_loss': True, 'use_dpo_loss': False, 'use_nll_loss': False, 'weight_tokens': False}. Best is trial 114 with value: 1.1673076923076924.\n"
     ]
    },
    {
     "name": "stdout",
     "output_type": "stream",
     "text": [
      "\n",
      "| acc_inc/eval_ds [pp]                                                                                                                    |   train |   test |   oos |   rnd |\n",
      "|:----------------------------------------------------------------------------------------------------------------------------------------|--------:|-------:|------:|------:|\n",
      "| ReprPO loss.use_orth_loss=False loss.β=0.28 lr=0.00 transform.Htype=oft transform.flip_side=True transform.nb=32 transform.reduction=18 |  -1.653 | -1.575 | 5.962 | 8.772 |\n"
     ]
    },
    {
     "name": "stderr",
     "output_type": "stream",
     "text": [
      "[I 2024-10-03 19:29:40,329] Trial 124 finished with value: 1.025 and parameters: {'lr': 0.00099974277674717, 'collect_input': False, 'collect_hs': False, 'nb': 31, 'Htype': 'oft', 'flip_side': True, 'reduction': 6, 'β': 0.7355757961227563, 'use_orth_loss': False, 'use_angle_loss': True, 'use_dpo_loss': False, 'use_nll_loss': False, 'weight_tokens': False}. Best is trial 114 with value: 1.1673076923076924.\n"
     ]
    },
    {
     "name": "stdout",
     "output_type": "stream",
     "text": [
      "\n",
      "| acc_inc/eval_ds [pp]                                                                                                                   |   train |   test |   oos |    rnd |\n",
      "|:---------------------------------------------------------------------------------------------------------------------------------------|--------:|-------:|------:|-------:|\n",
      "| ReprPO loss.use_orth_loss=False loss.β=0.74 lr=0.00 transform.Htype=oft transform.flip_side=True transform.nb=31 transform.reduction=6 |  -0.826 | -1.575 |   2.5 | -3.509 |\n"
     ]
    },
    {
     "name": "stderr",
     "output_type": "stream",
     "text": [
      "[I 2024-10-03 19:33:06,992] Trial 125 finished with value: 1.1365384615384615 and parameters: {'lr': 0.00044705071808941833, 'collect_input': False, 'collect_hs': False, 'nb': 30, 'Htype': 'oft', 'flip_side': True, 'reduction': 39, 'β': 0.5467070946410334, 'use_orth_loss': False, 'use_angle_loss': True, 'use_dpo_loss': False, 'use_nll_loss': False, 'weight_tokens': False}. Best is trial 114 with value: 1.1673076923076924.\n"
     ]
    },
    {
     "name": "stdout",
     "output_type": "stream",
     "text": [
      "\n",
      "| acc_inc/eval_ds [pp]                                                                                                                    |   train |   test |    oos |    rnd |\n",
      "|:----------------------------------------------------------------------------------------------------------------------------------------|--------:|-------:|-------:|-------:|\n",
      "| ReprPO loss.use_orth_loss=False loss.β=0.55 lr=0.00 transform.Htype=oft transform.flip_side=True transform.nb=30 transform.reduction=39 |   1.653 |      0 | 13.654 | -1.754 |\n"
     ]
    },
    {
     "name": "stderr",
     "output_type": "stream",
     "text": [
      "[I 2024-10-03 19:36:31,817] Trial 126 finished with value: 1.1615384615384614 and parameters: {'lr': 0.0006339622548221963, 'collect_input': False, 'collect_hs': False, 'nb': 32, 'Htype': 'oft', 'flip_side': True, 'reduction': 27, 'β': 0.36204708305233013, 'use_orth_loss': False, 'use_angle_loss': True, 'use_dpo_loss': False, 'use_nll_loss': False, 'weight_tokens': False}. Best is trial 114 with value: 1.1673076923076924.\n"
     ]
    },
    {
     "name": "stdout",
     "output_type": "stream",
     "text": [
      "\n",
      "| acc_inc/eval_ds [pp]                                                                                                                    |   train |   test |    oos |   rnd |\n",
      "|:----------------------------------------------------------------------------------------------------------------------------------------|--------:|-------:|-------:|------:|\n",
      "| ReprPO loss.use_orth_loss=False loss.β=0.36 lr=0.00 transform.Htype=oft transform.flip_side=True transform.nb=32 transform.reduction=27 |   1.653 | -1.575 | 16.154 | 5.263 |\n",
      "\n",
      "| acc_inc/eval_ds [pp]                                                                                           |   train |   test |   oos |    rnd |\n",
      "|:---------------------------------------------------------------------------------------------------------------|--------:|-------:|------:|-------:|\n",
      "| ReprPO loss.β=0.25 lr=0.00 transform.Htype=oft transform.flip_side=True transform.nb=32 transform.reduction=30 |   3.306 | -0.787 |    15 | 10.526 |\n"
     ]
    },
    {
     "name": "stderr",
     "output_type": "stream",
     "text": [
      "[I 2024-10-03 19:39:54,794] Trial 127 finished with value: 1.15 and parameters: {'lr': 0.0005640037571467027, 'collect_input': False, 'collect_hs': False, 'nb': 32, 'Htype': 'oft', 'flip_side': True, 'reduction': 30, 'β': 0.2495113318558368, 'use_orth_loss': True, 'use_angle_loss': True, 'use_dpo_loss': False, 'use_nll_loss': False, 'weight_tokens': False}. Best is trial 114 with value: 1.1673076923076924.\n",
      "[I 2024-10-03 19:43:16,930] Trial 128 finished with value: 1.1173076923076921 and parameters: {'lr': 0.0008114777075295383, 'collect_input': False, 'collect_hs': False, 'nb': 31, 'Htype': 'oft', 'flip_side': True, 'reduction': 19, 'β': 0.3463147966707115, 'use_orth_loss': False, 'use_angle_loss': True, 'use_dpo_loss': False, 'use_nll_loss': False, 'weight_tokens': False}. Best is trial 114 with value: 1.1673076923076924.\n"
     ]
    },
    {
     "name": "stdout",
     "output_type": "stream",
     "text": [
      "\n",
      "| acc_inc/eval_ds [pp]                                                                                                                    |   train |   test |    oos |   rnd |\n",
      "|:----------------------------------------------------------------------------------------------------------------------------------------|--------:|-------:|-------:|------:|\n",
      "| ReprPO loss.use_orth_loss=False loss.β=0.35 lr=0.00 transform.Htype=oft transform.flip_side=True transform.nb=31 transform.reduction=19 |       0 | -0.787 | 11.731 | 5.263 |\n"
     ]
    },
    {
     "name": "stderr",
     "output_type": "stream",
     "text": [
      "[I 2024-10-03 19:46:43,974] Trial 129 finished with value: 1.0903846153846153 and parameters: {'lr': 0.00034299384152514974, 'collect_input': False, 'collect_hs': False, 'nb': 32, 'Htype': 'oft', 'flip_side': True, 'reduction': 32, 'β': 0.8366339492056389, 'use_orth_loss': False, 'use_angle_loss': True, 'use_dpo_loss': False, 'use_nll_loss': True, 'weight_tokens': False}. Best is trial 114 with value: 1.1673076923076924.\n"
     ]
    },
    {
     "name": "stdout",
     "output_type": "stream",
     "text": [
      "\n",
      "| acc_inc/eval_ds [pp]                                                                                                                                           |   train |   test |   oos |   rnd |\n",
      "|:---------------------------------------------------------------------------------------------------------------------------------------------------------------|--------:|-------:|------:|------:|\n",
      "| ReprPO loss.use_nll_loss=True loss.use_orth_loss=False loss.β=0.84 lr=0.00 transform.Htype=oft transform.flip_side=True transform.nb=32 transform.reduction=32 |   1.653 |  0.787 | 9.038 |     0 |\n"
     ]
    },
    {
     "name": "stderr",
     "output_type": "stream",
     "text": [
      "[I 2024-10-03 19:50:08,049] Trial 130 finished with value: 1.1288461538461538 and parameters: {'lr': 0.00040291505141749786, 'collect_input': False, 'collect_hs': False, 'nb': 30, 'Htype': 'oft', 'flip_side': True, 'reduction': 27, 'β': 0.5980961899306926, 'use_orth_loss': False, 'use_angle_loss': True, 'use_dpo_loss': False, 'use_nll_loss': False, 'weight_tokens': True}. Best is trial 114 with value: 1.1673076923076924.\n"
     ]
    },
    {
     "name": "stdout",
     "output_type": "stream",
     "text": [
      "\n",
      "| acc_inc/eval_ds [pp]                                                                                                                                            |   train |   test |    oos |    rnd |\n",
      "|:----------------------------------------------------------------------------------------------------------------------------------------------------------------|--------:|-------:|-------:|-------:|\n",
      "| ReprPO loss.use_orth_loss=False loss.weight_tokens=True loss.β=0.60 lr=0.00 transform.Htype=oft transform.flip_side=True transform.nb=30 transform.reduction=27 |       0 | -0.787 | 12.885 | -1.754 |\n"
     ]
    },
    {
     "name": "stderr",
     "output_type": "stream",
     "text": [
      "[I 2024-10-03 19:53:30,323] Trial 131 finished with value: 1.15 and parameters: {'lr': 0.0005844653872705915, 'collect_input': False, 'collect_hs': False, 'nb': 32, 'Htype': 'oft', 'flip_side': True, 'reduction': 12, 'β': 0.23619262351367742, 'use_orth_loss': True, 'use_angle_loss': True, 'use_dpo_loss': False, 'use_nll_loss': False, 'weight_tokens': False}. Best is trial 114 with value: 1.1673076923076924.\n"
     ]
    },
    {
     "name": "stdout",
     "output_type": "stream",
     "text": [
      "\n",
      "| acc_inc/eval_ds [pp]                                                                                           |   train |   test |   oos |    rnd |\n",
      "|:---------------------------------------------------------------------------------------------------------------|--------:|-------:|------:|-------:|\n",
      "| ReprPO loss.β=0.24 lr=0.00 transform.Htype=oft transform.flip_side=True transform.nb=32 transform.reduction=12 |   4.132 | -0.787 |    15 | 10.526 |\n"
     ]
    },
    {
     "name": "stderr",
     "output_type": "stream",
     "text": [
      "[I 2024-10-03 19:56:53,958] Trial 132 finished with value: 1.146153846153846 and parameters: {'lr': 0.0005314985583056384, 'collect_input': False, 'collect_hs': False, 'nb': 31, 'Htype': 'oft', 'flip_side': True, 'reduction': 48, 'β': 0.4024435147302122, 'use_orth_loss': True, 'use_angle_loss': True, 'use_dpo_loss': False, 'use_nll_loss': False, 'weight_tokens': False}. Best is trial 114 with value: 1.1673076923076924.\n"
     ]
    },
    {
     "name": "stdout",
     "output_type": "stream",
     "text": [
      "\n",
      "| acc_inc/eval_ds [pp]                                                                                           |   train |   test |    oos |   rnd |\n",
      "|:---------------------------------------------------------------------------------------------------------------|--------:|-------:|-------:|------:|\n",
      "| ReprPO loss.β=0.40 lr=0.00 transform.Htype=oft transform.flip_side=True transform.nb=31 transform.reduction=48 |   3.306 |      0 | 14.615 | 3.509 |\n"
     ]
    },
    {
     "name": "stderr",
     "output_type": "stream",
     "text": [
      "[I 2024-10-03 20:00:18,712] Trial 133 finished with value: 1.1423076923076922 and parameters: {'lr': 0.0006954049549316696, 'collect_input': False, 'collect_hs': False, 'nb': 32, 'Htype': 'oft', 'flip_side': True, 'reduction': 36, 'β': 0.7153987706309995, 'use_orth_loss': True, 'use_angle_loss': True, 'use_dpo_loss': False, 'use_nll_loss': False, 'weight_tokens': False}. Best is trial 114 with value: 1.1673076923076924.\n"
     ]
    },
    {
     "name": "stdout",
     "output_type": "stream",
     "text": [
      "\n",
      "| acc_inc/eval_ds [pp]                                                                                           |   train |   test |    oos |   rnd |\n",
      "|:---------------------------------------------------------------------------------------------------------------|--------:|-------:|-------:|------:|\n",
      "| ReprPO loss.β=0.72 lr=0.00 transform.Htype=oft transform.flip_side=True transform.nb=32 transform.reduction=36 |   3.306 |      0 | 14.231 |     0 |\n"
     ]
    },
    {
     "name": "stderr",
     "output_type": "stream",
     "text": [
      "[I 2024-10-03 20:03:46,296] Trial 134 finished with value: 1.1307692307692307 and parameters: {'lr': 0.0004571327495637534, 'collect_input': False, 'collect_hs': False, 'nb': 29, 'Htype': 'oft', 'flip_side': True, 'reduction': 27, 'β': 0.48558070127401337, 'use_orth_loss': True, 'use_angle_loss': True, 'use_dpo_loss': False, 'use_nll_loss': False, 'weight_tokens': False}. Best is trial 114 with value: 1.1673076923076924.\n"
     ]
    },
    {
     "name": "stdout",
     "output_type": "stream",
     "text": [
      "\n",
      "| acc_inc/eval_ds [pp]                                                                                           |   train |   test |    oos |    rnd |\n",
      "|:---------------------------------------------------------------------------------------------------------------|--------:|-------:|-------:|-------:|\n",
      "| ReprPO loss.β=0.49 lr=0.00 transform.Htype=oft transform.flip_side=True transform.nb=29 transform.reduction=27 |   2.479 |      0 | 13.077 | -1.754 |\n"
     ]
    },
    {
     "name": "stderr",
     "output_type": "stream",
     "text": [
      "[I 2024-10-03 20:07:18,048] Trial 135 finished with value: 1.146153846153846 and parameters: {'lr': 0.0006007180864226607, 'collect_input': False, 'collect_hs': False, 'nb': 31, 'Htype': 'oft', 'flip_side': True, 'reduction': 20, 'β': 1.097435099187715, 'use_orth_loss': True, 'use_angle_loss': True, 'use_dpo_loss': False, 'use_nll_loss': False, 'weight_tokens': False}. Best is trial 114 with value: 1.1673076923076924.\n"
     ]
    },
    {
     "name": "stdout",
     "output_type": "stream",
     "text": [
      "\n",
      "| acc_inc/eval_ds [pp]                                                                                           |   train |   test |    oos |   rnd |\n",
      "|:---------------------------------------------------------------------------------------------------------------|--------:|-------:|-------:|------:|\n",
      "| ReprPO loss.β=1.10 lr=0.00 transform.Htype=oft transform.flip_side=True transform.nb=31 transform.reduction=20 |   4.132 |      0 | 14.615 |     0 |\n"
     ]
    },
    {
     "name": "stderr",
     "output_type": "stream",
     "text": [
      "[I 2024-10-03 20:10:42,570] Trial 136 finished with value: 1.153846153846154 and parameters: {'lr': 0.0007395349436439219, 'collect_input': False, 'collect_hs': False, 'nb': 32, 'Htype': 'oft', 'flip_side': True, 'reduction': 44, 'β': 0.26744152190543385, 'use_orth_loss': False, 'use_angle_loss': True, 'use_dpo_loss': False, 'use_nll_loss': False, 'weight_tokens': False}. Best is trial 114 with value: 1.1673076923076924.\n"
     ]
    },
    {
     "name": "stdout",
     "output_type": "stream",
     "text": [
      "\n",
      "| acc_inc/eval_ds [pp]                                                                                                                    |   train |   test |    oos |   rnd |\n",
      "|:----------------------------------------------------------------------------------------------------------------------------------------|--------:|-------:|-------:|------:|\n",
      "| ReprPO loss.use_orth_loss=False loss.β=0.27 lr=0.00 transform.Htype=oft transform.flip_side=True transform.nb=32 transform.reduction=44 |   4.959 | -1.575 | 15.385 | 1.754 |\n"
     ]
    },
    {
     "name": "stderr",
     "output_type": "stream",
     "text": [
      "[I 2024-10-03 20:14:07,766] Trial 137 finished with value: 1.146153846153846 and parameters: {'lr': 0.000762496068338516, 'collect_input': False, 'collect_hs': False, 'nb': 30, 'Htype': 'oft', 'flip_side': True, 'reduction': 64, 'β': 0.3361460474341818, 'use_orth_loss': False, 'use_angle_loss': True, 'use_dpo_loss': False, 'use_nll_loss': False, 'weight_tokens': False}. Best is trial 114 with value: 1.1673076923076924.\n"
     ]
    },
    {
     "name": "stdout",
     "output_type": "stream",
     "text": [
      "\n",
      "| acc_inc/eval_ds [pp]                                                                                                                    |   train |   test |    oos |   rnd |\n",
      "|:----------------------------------------------------------------------------------------------------------------------------------------|--------:|-------:|-------:|------:|\n",
      "| ReprPO loss.use_orth_loss=False loss.β=0.34 lr=0.00 transform.Htype=oft transform.flip_side=True transform.nb=30 transform.reduction=64 |   3.306 | -1.575 | 14.615 | 5.263 |\n"
     ]
    },
    {
     "name": "stderr",
     "output_type": "stream",
     "text": [
      "[I 2024-10-03 20:17:32,731] Trial 138 finished with value: 1.0769230769230769 and parameters: {'lr': 0.0008332359903006805, 'collect_input': False, 'collect_hs': False, 'nb': 28, 'Htype': 'oft', 'flip_side': True, 'reduction': 45, 'β': 0.9367115391583416, 'use_orth_loss': False, 'use_angle_loss': True, 'use_dpo_loss': False, 'use_nll_loss': False, 'weight_tokens': False}. Best is trial 114 with value: 1.1673076923076924.\n"
     ]
    },
    {
     "name": "stdout",
     "output_type": "stream",
     "text": [
      "\n",
      "| acc_inc/eval_ds [pp]                                                                                                                    |   train |   test |   oos |    rnd |\n",
      "|:----------------------------------------------------------------------------------------------------------------------------------------|--------:|-------:|------:|-------:|\n",
      "| ReprPO loss.use_orth_loss=False loss.β=0.94 lr=0.00 transform.Htype=oft transform.flip_side=True transform.nb=28 transform.reduction=45 |   2.479 | -0.787 | 7.692 | -3.509 |\n"
     ]
    },
    {
     "name": "stderr",
     "output_type": "stream",
     "text": [
      "[I 2024-10-03 20:20:57,793] Trial 139 finished with value: 1.1596153846153847 and parameters: {'lr': 0.0006632693293801753, 'collect_input': False, 'collect_hs': False, 'nb': 29, 'Htype': 'oft', 'flip_side': True, 'reduction': 14, 'β': 0.5925294721350756, 'use_orth_loss': False, 'use_angle_loss': True, 'use_dpo_loss': False, 'use_nll_loss': False, 'weight_tokens': False}. Best is trial 114 with value: 1.1673076923076924.\n"
     ]
    },
    {
     "name": "stdout",
     "output_type": "stream",
     "text": [
      "\n",
      "| acc_inc/eval_ds [pp]                                                                                                                    |   train |   test |    oos |    rnd |\n",
      "|:----------------------------------------------------------------------------------------------------------------------------------------|--------:|-------:|-------:|-------:|\n",
      "| ReprPO loss.use_orth_loss=False loss.β=0.59 lr=0.00 transform.Htype=oft transform.flip_side=True transform.nb=29 transform.reduction=14 |   1.653 | -0.787 | 15.962 | 15.789 |\n"
     ]
    },
    {
     "name": "stderr",
     "output_type": "stream",
     "text": [
      "[I 2024-10-03 20:24:22,463] Trial 140 finished with value: 1.1403846153846153 and parameters: {'lr': 0.0005077748980191982, 'collect_input': False, 'collect_hs': False, 'nb': 31, 'Htype': 'oft', 'flip_side': True, 'reduction': 12, 'β': 0.6183314873790574, 'use_orth_loss': False, 'use_angle_loss': True, 'use_dpo_loss': False, 'use_nll_loss': False, 'weight_tokens': False}. Best is trial 114 with value: 1.1673076923076924.\n"
     ]
    },
    {
     "name": "stdout",
     "output_type": "stream",
     "text": [
      "\n",
      "| acc_inc/eval_ds [pp]                                                                                                                    |   train |   test |    oos |   rnd |\n",
      "|:----------------------------------------------------------------------------------------------------------------------------------------|--------:|-------:|-------:|------:|\n",
      "| ReprPO loss.use_orth_loss=False loss.β=0.62 lr=0.00 transform.Htype=oft transform.flip_side=True transform.nb=31 transform.reduction=12 |   2.479 | -0.787 | 14.038 | 1.754 |\n"
     ]
    },
    {
     "name": "stderr",
     "output_type": "stream",
     "text": [
      "[I 2024-10-03 20:27:48,648] Trial 141 finished with value: 1.153846153846154 and parameters: {'lr': 0.0006686557507663246, 'collect_input': False, 'collect_hs': False, 'nb': 29, 'Htype': 'oft', 'flip_side': True, 'reduction': 5, 'β': 0.7964197928868928, 'use_orth_loss': False, 'use_angle_loss': True, 'use_dpo_loss': False, 'use_nll_loss': False, 'weight_tokens': False}. Best is trial 114 with value: 1.1673076923076924.\n"
     ]
    },
    {
     "name": "stdout",
     "output_type": "stream",
     "text": [
      "\n",
      "| acc_inc/eval_ds [pp]                                                                                                                   |   train |   test |    oos |    rnd |\n",
      "|:---------------------------------------------------------------------------------------------------------------------------------------|--------:|-------:|-------:|-------:|\n",
      "| ReprPO loss.use_orth_loss=False loss.β=0.80 lr=0.00 transform.Htype=oft transform.flip_side=True transform.nb=29 transform.reduction=5 |   2.479 | -0.787 | 15.385 | 10.526 |\n"
     ]
    },
    {
     "name": "stderr",
     "output_type": "stream",
     "text": [
      "[I 2024-10-03 20:31:20,089] Trial 142 finished with value: 1.1596153846153847 and parameters: {'lr': 0.0007251631027146852, 'collect_input': False, 'collect_hs': False, 'nb': 29, 'Htype': 'oft', 'flip_side': True, 'reduction': 2, 'β': 0.43513346489446597, 'use_orth_loss': False, 'use_angle_loss': True, 'use_dpo_loss': False, 'use_nll_loss': False, 'weight_tokens': False}. Best is trial 114 with value: 1.1673076923076924.\n"
     ]
    },
    {
     "name": "stdout",
     "output_type": "stream",
     "text": [
      "\n",
      "| acc_inc/eval_ds [pp]                                                                                                                   |   train |   test |    oos |   rnd |\n",
      "|:---------------------------------------------------------------------------------------------------------------------------------------|--------:|-------:|-------:|------:|\n",
      "| ReprPO loss.use_orth_loss=False loss.β=0.44 lr=0.00 transform.Htype=oft transform.flip_side=True transform.nb=29 transform.reduction=2 |   2.479 | -1.575 | 15.962 | 5.263 |\n"
     ]
    },
    {
     "name": "stderr",
     "output_type": "stream",
     "text": [
      "[I 2024-10-03 20:34:49,723] Trial 143 finished with value: 1.153846153846154 and parameters: {'lr': 0.0007271689053852743, 'collect_input': False, 'collect_hs': False, 'nb': 27, 'Htype': 'oft', 'flip_side': True, 'reduction': 3, 'β': 0.4582451723116851, 'use_orth_loss': False, 'use_angle_loss': True, 'use_dpo_loss': False, 'use_nll_loss': False, 'weight_tokens': False}. Best is trial 114 with value: 1.1673076923076924.\n"
     ]
    },
    {
     "name": "stdout",
     "output_type": "stream",
     "text": [
      "\n",
      "| acc_inc/eval_ds [pp]                                                                                                                   |   train |   test |    oos |    rnd |\n",
      "|:---------------------------------------------------------------------------------------------------------------------------------------|--------:|-------:|-------:|-------:|\n",
      "| ReprPO loss.use_orth_loss=False loss.β=0.46 lr=0.00 transform.Htype=oft transform.flip_side=True transform.nb=27 transform.reduction=3 |   4.132 | -2.362 | 15.385 | 12.281 |\n"
     ]
    },
    {
     "name": "stderr",
     "output_type": "stream",
     "text": [
      "[I 2024-10-03 20:38:16,514] Trial 144 finished with value: 1.1403846153846153 and parameters: {'lr': 0.0007679049812924348, 'collect_input': False, 'collect_hs': False, 'nb': 27, 'Htype': 'oft', 'flip_side': True, 'reduction': 3, 'β': 0.39576431774411863, 'use_orth_loss': False, 'use_angle_loss': True, 'use_dpo_loss': False, 'use_nll_loss': False, 'weight_tokens': False}. Best is trial 114 with value: 1.1673076923076924.\n"
     ]
    },
    {
     "name": "stdout",
     "output_type": "stream",
     "text": [
      "\n",
      "| acc_inc/eval_ds [pp]                                                                                                                   |   train |   test |    oos |   rnd |\n",
      "|:---------------------------------------------------------------------------------------------------------------------------------------|--------:|-------:|-------:|------:|\n",
      "| ReprPO loss.use_orth_loss=False loss.β=0.40 lr=0.00 transform.Htype=oft transform.flip_side=True transform.nb=27 transform.reduction=3 |   4.132 | -1.575 | 14.038 | 5.263 |\n"
     ]
    },
    {
     "name": "stderr",
     "output_type": "stream",
     "text": [
      "[I 2024-10-03 20:41:42,319] Trial 145 finished with value: 1.0173076923076922 and parameters: {'lr': 0.0008840969156265744, 'collect_input': False, 'collect_hs': False, 'nb': 28, 'Htype': 'oft', 'flip_side': True, 'reduction': 7, 'β': 0.16532843786543036, 'use_orth_loss': False, 'use_angle_loss': True, 'use_dpo_loss': False, 'use_nll_loss': False, 'weight_tokens': False}. Best is trial 114 with value: 1.1673076923076924.\n"
     ]
    },
    {
     "name": "stdout",
     "output_type": "stream",
     "text": [
      "\n",
      "| acc_inc/eval_ds [pp]                                                                                                                   |   train |   test |   oos |    rnd |\n",
      "|:---------------------------------------------------------------------------------------------------------------------------------------|--------:|-------:|------:|-------:|\n",
      "| ReprPO loss.use_orth_loss=False loss.β=0.17 lr=0.00 transform.Htype=oft transform.flip_side=True transform.nb=28 transform.reduction=7 |  -5.785 | -2.362 | 1.731 | 15.789 |\n"
     ]
    },
    {
     "name": "stderr",
     "output_type": "stream",
     "text": [
      "[I 2024-10-03 20:45:08,893] Trial 146 finished with value: 1.153846153846154 and parameters: {'lr': 0.0007073073145506467, 'collect_input': False, 'collect_hs': False, 'nb': 29, 'Htype': 'oft', 'flip_side': True, 'reduction': 9, 'β': 0.22054728463422804, 'use_orth_loss': False, 'use_angle_loss': True, 'use_dpo_loss': False, 'use_nll_loss': False, 'weight_tokens': False}. Best is trial 114 with value: 1.1673076923076924.\n"
     ]
    },
    {
     "name": "stdout",
     "output_type": "stream",
     "text": [
      "\n",
      "| acc_inc/eval_ds [pp]                                                                                                                   |   train |   test |    oos |    rnd |\n",
      "|:---------------------------------------------------------------------------------------------------------------------------------------|--------:|-------:|-------:|-------:|\n",
      "| ReprPO loss.use_orth_loss=False loss.β=0.22 lr=0.00 transform.Htype=oft transform.flip_side=True transform.nb=29 transform.reduction=9 |   1.653 | -0.787 | 15.385 | 12.281 |\n"
     ]
    },
    {
     "name": "stderr",
     "output_type": "stream",
     "text": [
      "[I 2024-10-03 20:48:44,617] Trial 147 finished with value: 1.1673076923076924 and parameters: {'lr': 0.0006742192285624987, 'collect_input': False, 'collect_hs': False, 'nb': 32, 'Htype': 'oft', 'flip_side': True, 'reduction': 1, 'β': 0.504318514862572, 'use_orth_loss': False, 'use_angle_loss': True, 'use_dpo_loss': False, 'use_nll_loss': False, 'weight_tokens': False}. Best is trial 114 with value: 1.1673076923076924.\n"
     ]
    },
    {
     "name": "stdout",
     "output_type": "stream",
     "text": [
      "\n",
      "| acc_inc/eval_ds [pp]                                                                                                                   |   train |   test |    oos |   rnd |\n",
      "|:---------------------------------------------------------------------------------------------------------------------------------------|--------:|-------:|-------:|------:|\n",
      "| ReprPO loss.use_orth_loss=False loss.β=0.50 lr=0.00 transform.Htype=oft transform.flip_side=True transform.nb=32 transform.reduction=1 |   1.653 | -0.787 | 16.731 | 7.018 |\n"
     ]
    },
    {
     "name": "stderr",
     "output_type": "stream",
     "text": [
      "[I 2024-10-03 20:52:08,740] Trial 148 finished with value: 1.023076923076923 and parameters: {'lr': 0.00098770983545422, 'collect_input': False, 'collect_hs': False, 'nb': 32, 'Htype': 'oft', 'flip_side': True, 'reduction': 15, 'β': 0.27972601336246566, 'use_orth_loss': False, 'use_angle_loss': True, 'use_dpo_loss': False, 'use_nll_loss': False, 'weight_tokens': False}. Best is trial 114 with value: 1.1673076923076924.\n"
     ]
    },
    {
     "name": "stdout",
     "output_type": "stream",
     "text": [
      "\n",
      "| acc_inc/eval_ds [pp]                                                                                                                    |   train |   test |   oos |    rnd |\n",
      "|:----------------------------------------------------------------------------------------------------------------------------------------|--------:|-------:|------:|-------:|\n",
      "| ReprPO loss.use_orth_loss=False loss.β=0.28 lr=0.00 transform.Htype=oft transform.flip_side=True transform.nb=32 transform.reduction=15 |  -5.785 | -0.787 | 2.308 | 26.316 |\n"
     ]
    },
    {
     "name": "stderr",
     "output_type": "stream",
     "text": [
      "[I 2024-10-03 20:55:32,200] Trial 149 finished with value: 0.40961538461538455 and parameters: {'lr': 0.00041856735213724054, 'collect_input': False, 'collect_hs': False, 'nb': 32, 'Htype': 'oft', 'flip_side': True, 'reduction': 5, 'β': 0.005313571261078511, 'use_orth_loss': False, 'use_angle_loss': True, 'use_dpo_loss': False, 'use_nll_loss': False, 'weight_tokens': False}. Best is trial 114 with value: 1.1673076923076924.\n"
     ]
    },
    {
     "name": "stdout",
     "output_type": "stream",
     "text": [
      "\n",
      "| acc_inc/eval_ds [pp]                                                                                                                   |   train |   test |     oos |   rnd |\n",
      "|:---------------------------------------------------------------------------------------------------------------------------------------|--------:|-------:|--------:|------:|\n",
      "| ReprPO loss.use_orth_loss=False loss.β=0.01 lr=0.00 transform.Htype=oft transform.flip_side=True transform.nb=32 transform.reduction=5 | -40.496 | -36.22 | -59.038 |     0 |\n"
     ]
    },
    {
     "name": "stderr",
     "output_type": "stream",
     "text": [
      "[I 2024-10-03 20:58:56,464] Trial 150 finished with value: 1.1615384615384614 and parameters: {'lr': 0.0006597745144528898, 'collect_input': False, 'collect_hs': False, 'nb': 29, 'Htype': 'oft', 'flip_side': True, 'reduction': 24, 'β': 0.7031292419402059, 'use_orth_loss': False, 'use_angle_loss': True, 'use_dpo_loss': False, 'use_nll_loss': False, 'weight_tokens': False}. Best is trial 114 with value: 1.1673076923076924.\n"
     ]
    },
    {
     "name": "stdout",
     "output_type": "stream",
     "text": [
      "\n",
      "| acc_inc/eval_ds [pp]                                                                                                                    |   train |   test |    oos |   rnd |\n",
      "|:----------------------------------------------------------------------------------------------------------------------------------------|--------:|-------:|-------:|------:|\n",
      "| ReprPO loss.use_orth_loss=False loss.β=0.70 lr=0.00 transform.Htype=oft transform.flip_side=True transform.nb=29 transform.reduction=24 |   1.653 | -0.787 | 16.154 | 7.018 |\n"
     ]
    },
    {
     "name": "stderr",
     "output_type": "stream",
     "text": [
      "[I 2024-10-03 21:02:22,075] Trial 151 finished with value: 1.1557692307692307 and parameters: {'lr': 0.0006704853345025762, 'collect_input': False, 'collect_hs': False, 'nb': 29, 'Htype': 'oft', 'flip_side': True, 'reduction': 15, 'β': 0.6805600033970841, 'use_orth_loss': False, 'use_angle_loss': True, 'use_dpo_loss': False, 'use_nll_loss': False, 'weight_tokens': False}. Best is trial 114 with value: 1.1673076923076924.\n"
     ]
    },
    {
     "name": "stdout",
     "output_type": "stream",
     "text": [
      "\n",
      "| acc_inc/eval_ds [pp]                                                                                                                    |   train |   test |    oos |   rnd |\n",
      "|:----------------------------------------------------------------------------------------------------------------------------------------|--------:|-------:|-------:|------:|\n",
      "| ReprPO loss.use_orth_loss=False loss.β=0.68 lr=0.00 transform.Htype=oft transform.flip_side=True transform.nb=29 transform.reduction=15 |   1.653 | -0.787 | 15.577 | 5.263 |\n"
     ]
    },
    {
     "name": "stderr",
     "output_type": "stream",
     "text": [
      "[I 2024-10-03 21:05:45,479] Trial 152 finished with value: 1.148076923076923 and parameters: {'lr': 0.0005012305767723652, 'collect_input': False, 'collect_hs': False, 'nb': 22, 'Htype': 'oft', 'flip_side': True, 'reduction': 25, 'β': 0.5734932948188722, 'use_orth_loss': False, 'use_angle_loss': True, 'use_dpo_loss': False, 'use_nll_loss': False, 'weight_tokens': False}. Best is trial 114 with value: 1.1673076923076924.\n"
     ]
    },
    {
     "name": "stdout",
     "output_type": "stream",
     "text": [
      "\n",
      "| acc_inc/eval_ds [pp]                                                                                                                    |   train |   test |    oos |   rnd |\n",
      "|:----------------------------------------------------------------------------------------------------------------------------------------|--------:|-------:|-------:|------:|\n",
      "| ReprPO loss.use_orth_loss=False loss.β=0.57 lr=0.00 transform.Htype=oft transform.flip_side=True transform.nb=22 transform.reduction=25 |   1.653 | -0.787 | 14.808 | 5.263 |\n"
     ]
    },
    {
     "name": "stderr",
     "output_type": "stream",
     "text": [
      "[I 2024-10-03 21:09:17,207] Trial 153 finished with value: 1.1192307692307693 and parameters: {'lr': 0.0008194789123456218, 'collect_input': False, 'collect_hs': False, 'nb': 31, 'Htype': 'oft', 'flip_side': True, 'reduction': 23, 'β': 0.36538028700983144, 'use_orth_loss': False, 'use_angle_loss': True, 'use_dpo_loss': False, 'use_nll_loss': False, 'weight_tokens': False}. Best is trial 114 with value: 1.1673076923076924.\n"
     ]
    },
    {
     "name": "stdout",
     "output_type": "stream",
     "text": [
      "\n",
      "| acc_inc/eval_ds [pp]                                                                                                                    |   train |   test |    oos |    rnd |\n",
      "|:----------------------------------------------------------------------------------------------------------------------------------------|--------:|-------:|-------:|-------:|\n",
      "| ReprPO loss.use_orth_loss=False loss.β=0.37 lr=0.00 transform.Htype=oft transform.flip_side=True transform.nb=31 transform.reduction=23 |   0.826 | -0.787 | 11.923 | -1.754 |\n"
     ]
    },
    {
     "name": "stderr",
     "output_type": "stream",
     "text": [
      "[I 2024-10-03 21:12:45,658] Trial 154 finished with value: 1.1596153846153847 and parameters: {'lr': 0.0006271793219945134, 'collect_input': False, 'collect_hs': False, 'nb': 29, 'Htype': 'oft', 'flip_side': True, 'reduction': 15, 'β': 0.6966100067994814, 'use_orth_loss': False, 'use_angle_loss': True, 'use_dpo_loss': False, 'use_nll_loss': False, 'weight_tokens': False}. Best is trial 114 with value: 1.1673076923076924.\n"
     ]
    },
    {
     "name": "stdout",
     "output_type": "stream",
     "text": [
      "\n",
      "| acc_inc/eval_ds [pp]                                                                                                                    |   train |   test |    oos |   rnd |\n",
      "|:----------------------------------------------------------------------------------------------------------------------------------------|--------:|-------:|-------:|------:|\n",
      "| ReprPO loss.use_orth_loss=False loss.β=0.70 lr=0.00 transform.Htype=oft transform.flip_side=True transform.nb=29 transform.reduction=15 |   1.653 | -0.787 | 15.962 | 8.772 |\n"
     ]
    },
    {
     "name": "stderr",
     "output_type": "stream",
     "text": [
      "[I 2024-10-03 21:15:59,895] Trial 155 finished with value: 1.1596153846153847 and parameters: {'lr': 0.0006260070509030753, 'collect_input': False, 'collect_hs': False, 'nb': 28, 'Htype': 'oft', 'flip_side': True, 'reduction': 15, 'β': 0.6882279960908023, 'use_orth_loss': False, 'use_angle_loss': True, 'use_dpo_loss': False, 'use_nll_loss': False, 'weight_tokens': False}. Best is trial 114 with value: 1.1673076923076924.\n"
     ]
    },
    {
     "name": "stdout",
     "output_type": "stream",
     "text": [
      "\n",
      "| acc_inc/eval_ds [pp]                                                                                                                    |   train |   test |    oos |   rnd |\n",
      "|:----------------------------------------------------------------------------------------------------------------------------------------|--------:|-------:|-------:|------:|\n",
      "| ReprPO loss.use_orth_loss=False loss.β=0.69 lr=0.00 transform.Htype=oft transform.flip_side=True transform.nb=28 transform.reduction=15 |   2.479 | -0.787 | 15.962 | 7.018 |\n"
     ]
    },
    {
     "name": "stderr",
     "output_type": "stream",
     "text": [
      "[I 2024-10-03 21:19:12,859] Trial 156 finished with value: 1.1384615384615384 and parameters: {'lr': 0.00046001213608760867, 'collect_input': False, 'collect_hs': False, 'nb': 28, 'Htype': 'oft', 'flip_side': True, 'reduction': 15, 'β': 0.5258930387698281, 'use_orth_loss': False, 'use_angle_loss': True, 'use_dpo_loss': False, 'use_nll_loss': False, 'weight_tokens': False}. Best is trial 114 with value: 1.1673076923076924.\n"
     ]
    },
    {
     "name": "stdout",
     "output_type": "stream",
     "text": [
      "\n",
      "| acc_inc/eval_ds [pp]                                                                                                                    |   train |   test |    oos |    rnd |\n",
      "|:----------------------------------------------------------------------------------------------------------------------------------------|--------:|-------:|-------:|-------:|\n",
      "| ReprPO loss.use_orth_loss=False loss.β=0.53 lr=0.00 transform.Htype=oft transform.flip_side=True transform.nb=28 transform.reduction=15 |   2.479 |      0 | 13.846 | -1.754 |\n"
     ]
    },
    {
     "name": "stderr",
     "output_type": "stream",
     "text": [
      "[I 2024-10-03 21:22:23,135] Trial 157 finished with value: 1.0461538461538462 and parameters: {'lr': 0.0006458682583766693, 'collect_input': False, 'collect_hs': False, 'nb': 29, 'Htype': 'etherplus', 'flip_side': True, 'reduction': 9, 'β': 0.6974677181843785, 'use_orth_loss': False, 'use_angle_loss': True, 'use_dpo_loss': False, 'use_nll_loss': False, 'weight_tokens': True}. Best is trial 114 with value: 1.1673076923076924.\n"
     ]
    },
    {
     "name": "stdout",
     "output_type": "stream",
     "text": [
      "\n",
      "| acc_inc/eval_ds [pp]                                                                                                                                                 |   train |   test |   oos |    rnd |\n",
      "|:---------------------------------------------------------------------------------------------------------------------------------------------------------------------|--------:|-------:|------:|-------:|\n",
      "| ReprPO loss.use_orth_loss=False loss.weight_tokens=True loss.β=0.70 lr=0.00 transform.Htype=etherplus transform.flip_side=True transform.nb=29 transform.reduction=9 |  -2.479 | -1.575 | 4.615 | 12.281 |\n"
     ]
    },
    {
     "name": "stderr",
     "output_type": "stream",
     "text": [
      "[I 2024-10-03 21:25:41,860] Trial 158 finished with value: 1.1057692307692308 and parameters: {'lr': 0.0003769797888821487, 'collect_input': False, 'collect_hs': False, 'nb': 29, 'Htype': 'oft', 'flip_side': True, 'reduction': 14, 'β': 1.118598485937562, 'use_orth_loss': False, 'use_angle_loss': True, 'use_dpo_loss': False, 'use_nll_loss': True, 'weight_tokens': False}. Best is trial 114 with value: 1.1673076923076924.\n"
     ]
    },
    {
     "name": "stdout",
     "output_type": "stream",
     "text": [
      "\n",
      "| acc_inc/eval_ds [pp]                                                                                                                                           |   train |   test |    oos |   rnd |\n",
      "|:---------------------------------------------------------------------------------------------------------------------------------------------------------------|--------:|-------:|-------:|------:|\n",
      "| ReprPO loss.use_nll_loss=True loss.use_orth_loss=False loss.β=1.12 lr=0.00 transform.Htype=oft transform.flip_side=True transform.nb=29 transform.reduction=14 |   1.653 |      0 | 10.577 |     0 |\n"
     ]
    },
    {
     "name": "stderr",
     "output_type": "stream",
     "text": [
      "[I 2024-10-03 21:29:29,839] Trial 159 finished with value: 1.0096153846153846 and parameters: {'lr': 1.3549878280970072e-05, 'collect_input': False, 'collect_hs': False, 'nb': 30, 'Htype': 'oft', 'flip_side': True, 'reduction': 1, 'β': 0.4553209808630079, 'use_orth_loss': False, 'use_angle_loss': True, 'use_dpo_loss': False, 'use_nll_loss': False, 'weight_tokens': False}. Best is trial 114 with value: 1.1673076923076924.\n"
     ]
    },
    {
     "name": "stdout",
     "output_type": "stream",
     "text": [
      "\n",
      "| acc_inc/eval_ds [pp]                                                                                                                   |   train |   test |   oos |   rnd |\n",
      "|:---------------------------------------------------------------------------------------------------------------------------------------|--------:|-------:|------:|------:|\n",
      "| ReprPO loss.use_orth_loss=False loss.β=0.46 lr=0.00 transform.Htype=oft transform.flip_side=True transform.nb=30 transform.reduction=1 |       0 |      0 | 0.962 | 5.263 |\n"
     ]
    },
    {
     "name": "stderr",
     "output_type": "stream",
     "text": [
      "[I 2024-10-03 21:33:01,681] Trial 160 finished with value: 1.146153846153846 and parameters: {'lr': 0.0005240872908495988, 'collect_input': False, 'collect_hs': False, 'nb': 26, 'Htype': 'oft', 'flip_side': True, 'reduction': 22, 'β': 0.6324781126076989, 'use_orth_loss': False, 'use_angle_loss': True, 'use_dpo_loss': False, 'use_nll_loss': False, 'weight_tokens': False}. Best is trial 114 with value: 1.1673076923076924.\n"
     ]
    },
    {
     "name": "stdout",
     "output_type": "stream",
     "text": [
      "\n",
      "| acc_inc/eval_ds [pp]                                                                                                                    |   train |   test |    oos |   rnd |\n",
      "|:----------------------------------------------------------------------------------------------------------------------------------------|--------:|-------:|-------:|------:|\n",
      "| ReprPO loss.use_orth_loss=False loss.β=0.63 lr=0.00 transform.Htype=oft transform.flip_side=True transform.nb=26 transform.reduction=22 |   3.306 | -0.787 | 14.615 | 1.754 |\n"
     ]
    },
    {
     "name": "stderr",
     "output_type": "stream",
     "text": [
      "[I 2024-10-03 21:36:33,444] Trial 161 finished with value: 1.1615384615384614 and parameters: {'lr': 0.0005973867198568006, 'collect_input': False, 'collect_hs': False, 'nb': 30, 'Htype': 'oft', 'flip_side': True, 'reduction': 18, 'β': 0.76500650199872, 'use_orth_loss': False, 'use_angle_loss': True, 'use_dpo_loss': False, 'use_nll_loss': False, 'weight_tokens': False}. Best is trial 114 with value: 1.1673076923076924.\n"
     ]
    },
    {
     "name": "stdout",
     "output_type": "stream",
     "text": [
      "\n",
      "| acc_inc/eval_ds [pp]                                                                                                                    |   train |   test |    oos |   rnd |\n",
      "|:----------------------------------------------------------------------------------------------------------------------------------------|--------:|-------:|-------:|------:|\n",
      "| ReprPO loss.use_orth_loss=False loss.β=0.77 lr=0.00 transform.Htype=oft transform.flip_side=True transform.nb=30 transform.reduction=18 |   3.306 | -0.787 | 16.154 | 5.263 |\n"
     ]
    },
    {
     "name": "stderr",
     "output_type": "stream",
     "text": [
      "[I 2024-10-03 21:40:04,867] Trial 162 finished with value: 1.1557692307692307 and parameters: {'lr': 0.0006368664027359889, 'collect_input': False, 'collect_hs': False, 'nb': 28, 'Htype': 'oft', 'flip_side': True, 'reduction': 17, 'β': 0.8347780944405646, 'use_orth_loss': False, 'use_angle_loss': True, 'use_dpo_loss': False, 'use_nll_loss': False, 'weight_tokens': False}. Best is trial 114 with value: 1.1673076923076924.\n"
     ]
    },
    {
     "name": "stdout",
     "output_type": "stream",
     "text": [
      "\n",
      "| acc_inc/eval_ds [pp]                                                                                                                    |   train |   test |    oos |   rnd |\n",
      "|:----------------------------------------------------------------------------------------------------------------------------------------|--------:|-------:|-------:|------:|\n",
      "| ReprPO loss.use_orth_loss=False loss.β=0.83 lr=0.00 transform.Htype=oft transform.flip_side=True transform.nb=28 transform.reduction=17 |   3.306 | -1.575 | 15.577 | 5.263 |\n"
     ]
    },
    {
     "name": "stderr",
     "output_type": "stream",
     "text": [
      "[I 2024-10-03 21:43:37,017] Trial 163 finished with value: 1.1576923076923076 and parameters: {'lr': 0.0005470773543664662, 'collect_input': False, 'collect_hs': False, 'nb': 30, 'Htype': 'oft', 'flip_side': True, 'reduction': 28, 'β': 1.380515256564371, 'use_orth_loss': False, 'use_angle_loss': True, 'use_dpo_loss': False, 'use_nll_loss': False, 'weight_tokens': False}. Best is trial 114 with value: 1.1673076923076924.\n"
     ]
    },
    {
     "name": "stdout",
     "output_type": "stream",
     "text": [
      "\n",
      "| acc_inc/eval_ds [pp]                                                                                                                    |   train |   test |    oos |   rnd |\n",
      "|:----------------------------------------------------------------------------------------------------------------------------------------|--------:|-------:|-------:|------:|\n",
      "| ReprPO loss.use_orth_loss=False loss.β=1.38 lr=0.00 transform.Htype=oft transform.flip_side=True transform.nb=30 transform.reduction=28 |   3.306 |      0 | 15.769 | 8.772 |\n"
     ]
    },
    {
     "name": "stderr",
     "output_type": "stream",
     "text": [
      "[I 2024-10-03 21:47:07,616] Trial 164 finished with value: 1.1576923076923076 and parameters: {'lr': 0.0005587475538045817, 'collect_input': False, 'collect_hs': False, 'nb': 30, 'Htype': 'oft', 'flip_side': True, 'reduction': 30, 'β': 1.2831274017589103, 'use_orth_loss': False, 'use_angle_loss': True, 'use_dpo_loss': False, 'use_nll_loss': False, 'weight_tokens': False}. Best is trial 114 with value: 1.1673076923076924.\n"
     ]
    },
    {
     "name": "stdout",
     "output_type": "stream",
     "text": [
      "\n",
      "| acc_inc/eval_ds [pp]                                                                                                                    |   train |   test |    oos |    rnd |\n",
      "|:----------------------------------------------------------------------------------------------------------------------------------------|--------:|-------:|-------:|-------:|\n",
      "| ReprPO loss.use_orth_loss=False loss.β=1.28 lr=0.00 transform.Htype=oft transform.flip_side=True transform.nb=30 transform.reduction=30 |   4.132 | -0.787 | 15.769 | 12.281 |\n"
     ]
    },
    {
     "name": "stderr",
     "output_type": "stream",
     "text": [
      "[I 2024-10-03 21:50:38,468] Trial 165 finished with value: 1.1423076923076922 and parameters: {'lr': 0.00043749171101745995, 'collect_input': False, 'collect_hs': False, 'nb': 30, 'Htype': 'oft', 'flip_side': True, 'reduction': 29, 'β': 1.2375925029308317, 'use_orth_loss': False, 'use_angle_loss': True, 'use_dpo_loss': False, 'use_nll_loss': False, 'weight_tokens': False}. Best is trial 114 with value: 1.1673076923076924.\n"
     ]
    },
    {
     "name": "stdout",
     "output_type": "stream",
     "text": [
      "\n",
      "| acc_inc/eval_ds [pp]                                                                                                                    |   train |   test |    oos |   rnd |\n",
      "|:----------------------------------------------------------------------------------------------------------------------------------------|--------:|-------:|-------:|------:|\n",
      "| ReprPO loss.use_orth_loss=False loss.β=1.24 lr=0.00 transform.Htype=oft transform.flip_side=True transform.nb=30 transform.reduction=29 |   2.479 |  0.787 | 14.231 |     0 |\n"
     ]
    },
    {
     "name": "stderr",
     "output_type": "stream",
     "text": [
      "[I 2024-10-03 21:54:11,971] Trial 166 finished with value: 1.1519230769230768 and parameters: {'lr': 0.0005470140731562236, 'collect_input': False, 'collect_hs': False, 'nb': 30, 'Htype': 'oft', 'flip_side': True, 'reduction': 25, 'β': 1.4885679963692782, 'use_orth_loss': False, 'use_angle_loss': True, 'use_dpo_loss': False, 'use_nll_loss': False, 'weight_tokens': False}. Best is trial 114 with value: 1.1673076923076924.\n"
     ]
    },
    {
     "name": "stdout",
     "output_type": "stream",
     "text": [
      "\n",
      "| acc_inc/eval_ds [pp]                                                                                                                    |   train |   test |    oos |   rnd |\n",
      "|:----------------------------------------------------------------------------------------------------------------------------------------|--------:|-------:|-------:|------:|\n",
      "| ReprPO loss.use_orth_loss=False loss.β=1.49 lr=0.00 transform.Htype=oft transform.flip_side=True transform.nb=30 transform.reduction=25 |   3.306 |      0 | 15.192 |     0 |\n"
     ]
    },
    {
     "name": "stderr",
     "output_type": "stream",
     "text": [
      "[I 2024-10-03 21:57:29,248] Trial 167 finished with value: 1.1423076923076922 and parameters: {'lr': 0.0004890845460338328, 'collect_input': False, 'collect_hs': False, 'nb': 29, 'Htype': 'oft', 'flip_side': True, 'reduction': 36, 'β': 0.502675650103667, 'use_orth_loss': False, 'use_angle_loss': True, 'use_dpo_loss': False, 'use_nll_loss': False, 'weight_tokens': False}. Best is trial 114 with value: 1.1673076923076924.\n"
     ]
    },
    {
     "name": "stdout",
     "output_type": "stream",
     "text": [
      "\n",
      "| acc_inc/eval_ds [pp]                                                                                                                    |   train |   test |    oos |   rnd |\n",
      "|:----------------------------------------------------------------------------------------------------------------------------------------|--------:|-------:|-------:|------:|\n",
      "| ReprPO loss.use_orth_loss=False loss.β=0.50 lr=0.00 transform.Htype=oft transform.flip_side=True transform.nb=29 transform.reduction=36 |   2.479 |      0 | 14.231 | 8.772 |\n"
     ]
    },
    {
     "name": "stderr",
     "output_type": "stream",
     "text": [
      "[I 2024-10-03 22:00:43,857] Trial 168 finished with value: 1.0692307692307692 and parameters: {'lr': 0.0008395206555874239, 'collect_input': False, 'collect_hs': False, 'nb': 31, 'Htype': 'oft', 'flip_side': True, 'reduction': 33, 'β': 1.324727972742101, 'use_orth_loss': False, 'use_angle_loss': True, 'use_dpo_loss': False, 'use_nll_loss': False, 'weight_tokens': False}. Best is trial 114 with value: 1.1673076923076924.\n"
     ]
    },
    {
     "name": "stdout",
     "output_type": "stream",
     "text": [
      "\n",
      "| acc_inc/eval_ds [pp]                                                                                                                    |   train |   test |   oos |    rnd |\n",
      "|:----------------------------------------------------------------------------------------------------------------------------------------|--------:|-------:|------:|-------:|\n",
      "| ReprPO loss.use_orth_loss=False loss.β=1.32 lr=0.00 transform.Htype=oft transform.flip_side=True transform.nb=31 transform.reduction=33 |       0 | -0.787 | 6.923 | 10.526 |\n"
     ]
    },
    {
     "name": "stderr",
     "output_type": "stream",
     "text": [
      "[I 2024-10-03 22:03:59,783] Trial 169 finished with value: 1.1653846153846155 and parameters: {'lr': 0.0005751955115027161, 'collect_input': False, 'collect_hs': False, 'nb': 30, 'Htype': 'oft', 'flip_side': True, 'reduction': 11, 'β': 0.3492618838542798, 'use_orth_loss': False, 'use_angle_loss': True, 'use_dpo_loss': False, 'use_nll_loss': False, 'weight_tokens': False}. Best is trial 114 with value: 1.1673076923076924.\n"
     ]
    },
    {
     "name": "stdout",
     "output_type": "stream",
     "text": [
      "\n",
      "| acc_inc/eval_ds [pp]                                                                                                                    |   train |   test |    oos |    rnd |\n",
      "|:----------------------------------------------------------------------------------------------------------------------------------------|--------:|-------:|-------:|-------:|\n",
      "| ReprPO loss.use_orth_loss=False loss.β=0.35 lr=0.00 transform.Htype=oft transform.flip_side=True transform.nb=30 transform.reduction=11 |   2.479 | -0.787 | 16.538 | 14.035 |\n"
     ]
    },
    {
     "name": "stderr",
     "output_type": "stream",
     "text": [
      "[I 2024-10-03 22:07:14,357] Trial 170 finished with value: 1.0884615384615386 and parameters: {'lr': 0.0003288225454138079, 'collect_input': False, 'collect_hs': False, 'nb': 28, 'Htype': 'oft', 'flip_side': True, 'reduction': 10, 'β': 0.3326762388545266, 'use_orth_loss': False, 'use_angle_loss': True, 'use_dpo_loss': False, 'use_nll_loss': False, 'weight_tokens': False}. Best is trial 114 with value: 1.1673076923076924.\n"
     ]
    },
    {
     "name": "stdout",
     "output_type": "stream",
     "text": [
      "\n",
      "| acc_inc/eval_ds [pp]                                                                                                                    |   train |   test |   oos |   rnd |\n",
      "|:----------------------------------------------------------------------------------------------------------------------------------------|--------:|-------:|------:|------:|\n",
      "| ReprPO loss.use_orth_loss=False loss.β=0.33 lr=0.00 transform.Htype=oft transform.flip_side=True transform.nb=28 transform.reduction=10 |   3.306 |  0.787 | 8.846 |     0 |\n"
     ]
    },
    {
     "name": "stderr",
     "output_type": "stream",
     "text": [
      "[I 2024-10-03 22:10:29,388] Trial 171 finished with value: 1.148076923076923 and parameters: {'lr': 0.0005583170933454609, 'collect_input': False, 'collect_hs': False, 'nb': 30, 'Htype': 'oft', 'flip_side': True, 'reduction': 21, 'β': 0.858758999708714, 'use_orth_loss': False, 'use_angle_loss': True, 'use_dpo_loss': False, 'use_nll_loss': False, 'weight_tokens': False}. Best is trial 114 with value: 1.1673076923076924.\n"
     ]
    },
    {
     "name": "stdout",
     "output_type": "stream",
     "text": [
      "\n",
      "| acc_inc/eval_ds [pp]                                                                                                                    |   train |   test |    oos |   rnd |\n",
      "|:----------------------------------------------------------------------------------------------------------------------------------------|--------:|-------:|-------:|------:|\n",
      "| ReprPO loss.use_orth_loss=False loss.β=0.86 lr=0.00 transform.Htype=oft transform.flip_side=True transform.nb=30 transform.reduction=21 |   4.959 | -0.787 | 14.808 | 3.509 |\n"
     ]
    },
    {
     "name": "stderr",
     "output_type": "stream",
     "text": [
      "[I 2024-10-03 22:13:44,032] Trial 172 finished with value: 1.148076923076923 and parameters: {'lr': 0.0007623367242096015, 'collect_input': False, 'collect_hs': False, 'nb': 30, 'Htype': 'oft', 'flip_side': True, 'reduction': 9, 'β': 0.4332446191149495, 'use_orth_loss': False, 'use_angle_loss': True, 'use_dpo_loss': False, 'use_nll_loss': False, 'weight_tokens': False}. Best is trial 114 with value: 1.1673076923076924.\n"
     ]
    },
    {
     "name": "stdout",
     "output_type": "stream",
     "text": [
      "\n",
      "| acc_inc/eval_ds [pp]                                                                                                                   |   train |   test |    oos |   rnd |\n",
      "|:---------------------------------------------------------------------------------------------------------------------------------------|--------:|-------:|-------:|------:|\n",
      "| ReprPO loss.use_orth_loss=False loss.β=0.43 lr=0.00 transform.Htype=oft transform.flip_side=True transform.nb=30 transform.reduction=9 |   3.306 | -1.575 | 14.808 | 5.263 |\n"
     ]
    },
    {
     "name": "stderr",
     "output_type": "stream",
     "text": [
      "[I 2024-10-03 22:16:58,076] Trial 173 finished with value: 1.1615384615384614 and parameters: {'lr': 0.0005868353847175419, 'collect_input': False, 'collect_hs': False, 'nb': 31, 'Htype': 'oft', 'flip_side': True, 'reduction': 17, 'β': 0.5993481790570023, 'use_orth_loss': False, 'use_angle_loss': True, 'use_dpo_loss': False, 'use_nll_loss': False, 'weight_tokens': False}. Best is trial 114 with value: 1.1673076923076924.\n"
     ]
    },
    {
     "name": "stdout",
     "output_type": "stream",
     "text": [
      "\n",
      "| acc_inc/eval_ds [pp]                                                                                                                    |   train |   test |    oos |   rnd |\n",
      "|:----------------------------------------------------------------------------------------------------------------------------------------|--------:|-------:|-------:|------:|\n",
      "| ReprPO loss.use_orth_loss=False loss.β=0.60 lr=0.00 transform.Htype=oft transform.flip_side=True transform.nb=31 transform.reduction=17 |   2.479 | -0.787 | 16.154 | 1.754 |\n"
     ]
    },
    {
     "name": "stderr",
     "output_type": "stream",
     "text": [
      "[I 2024-10-03 22:20:12,164] Trial 174 finished with value: 1.1038461538461537 and parameters: {'lr': 0.00039349119033902724, 'collect_input': False, 'collect_hs': False, 'nb': 31, 'Htype': 'oft', 'flip_side': True, 'reduction': 17, 'β': 0.20291883049617132, 'use_orth_loss': False, 'use_angle_loss': True, 'use_dpo_loss': False, 'use_nll_loss': False, 'weight_tokens': False}. Best is trial 114 with value: 1.1673076923076924.\n"
     ]
    },
    {
     "name": "stdout",
     "output_type": "stream",
     "text": [
      "\n",
      "| acc_inc/eval_ds [pp]                                                                                                                    |   train |   test |    oos |    rnd |\n",
      "|:----------------------------------------------------------------------------------------------------------------------------------------|--------:|-------:|-------:|-------:|\n",
      "| ReprPO loss.use_orth_loss=False loss.β=0.20 lr=0.00 transform.Htype=oft transform.flip_side=True transform.nb=31 transform.reduction=17 |   3.306 |  0.787 | 10.385 | -7.018 |\n"
     ]
    },
    {
     "name": "stderr",
     "output_type": "stream",
     "text": [
      "[I 2024-10-03 22:23:35,273] Trial 175 finished with value: 1.0057692307692307 and parameters: {'lr': 1.6178934434076653e-06, 'collect_input': False, 'collect_hs': False, 'nb': 29, 'Htype': 'oft', 'flip_side': True, 'reduction': 1, 'β': 0.5673195544737741, 'use_orth_loss': False, 'use_angle_loss': True, 'use_dpo_loss': False, 'use_nll_loss': False, 'weight_tokens': False}. Best is trial 114 with value: 1.1673076923076924.\n"
     ]
    },
    {
     "name": "stdout",
     "output_type": "stream",
     "text": [
      "\n",
      "| acc_inc/eval_ds [pp]                                                                                                                   |   train |   test |   oos |   rnd |\n",
      "|:---------------------------------------------------------------------------------------------------------------------------------------|--------:|-------:|------:|------:|\n",
      "| ReprPO loss.use_orth_loss=False loss.β=0.57 lr=0.00 transform.Htype=oft transform.flip_side=True transform.nb=29 transform.reduction=1 |       0 |      0 | 0.577 | 3.509 |\n"
     ]
    },
    {
     "name": "stderr",
     "output_type": "stream",
     "text": [
      "[I 2024-10-03 22:26:48,670] Trial 176 finished with value: 1.153846153846154 and parameters: {'lr': 0.0005556405491070329, 'collect_input': False, 'collect_hs': False, 'nb': 31, 'Htype': 'oft', 'flip_side': True, 'reduction': 26, 'β': 0.3434179355934216, 'use_orth_loss': False, 'use_angle_loss': True, 'use_dpo_loss': False, 'use_nll_loss': False, 'weight_tokens': False}. Best is trial 114 with value: 1.1673076923076924.\n"
     ]
    },
    {
     "name": "stdout",
     "output_type": "stream",
     "text": [
      "\n",
      "| acc_inc/eval_ds [pp]                                                                                                                    |   train |   test |    oos |    rnd |\n",
      "|:----------------------------------------------------------------------------------------------------------------------------------------|--------:|-------:|-------:|-------:|\n",
      "| ReprPO loss.use_orth_loss=False loss.β=0.34 lr=0.00 transform.Htype=oft transform.flip_side=True transform.nb=31 transform.reduction=26 |   4.132 | -0.787 | 15.385 | 15.789 |\n"
     ]
    },
    {
     "name": "stderr",
     "output_type": "stream",
     "text": [
      "[I 2024-10-03 22:30:02,194] Trial 177 finished with value: 1.1403846153846153 and parameters: {'lr': 0.00047277943957011934, 'collect_input': False, 'collect_hs': False, 'nb': 31, 'Htype': 'oft', 'flip_side': True, 'reduction': 20, 'β': 0.6640313877047207, 'use_orth_loss': False, 'use_angle_loss': True, 'use_dpo_loss': False, 'use_nll_loss': False, 'weight_tokens': False}. Best is trial 114 with value: 1.1673076923076924.\n"
     ]
    },
    {
     "name": "stdout",
     "output_type": "stream",
     "text": [
      "\n",
      "| acc_inc/eval_ds [pp]                                                                                                                    |   train |   test |    oos |   rnd |\n",
      "|:----------------------------------------------------------------------------------------------------------------------------------------|--------:|-------:|-------:|------:|\n",
      "| ReprPO loss.use_orth_loss=False loss.β=0.66 lr=0.00 transform.Htype=oft transform.flip_side=True transform.nb=31 transform.reduction=20 |   2.479 |      0 | 14.038 | 5.263 |\n"
     ]
    },
    {
     "name": "stderr",
     "output_type": "stream",
     "text": [
      "[I 2024-10-03 22:33:16,555] Trial 178 finished with value: 1.0538461538461539 and parameters: {'lr': 0.000887403944441335, 'collect_input': False, 'collect_hs': False, 'nb': 32, 'Htype': 'oft', 'flip_side': True, 'reduction': 12, 'β': 0.9652976523783805, 'use_orth_loss': False, 'use_angle_loss': True, 'use_dpo_loss': False, 'use_nll_loss': False, 'weight_tokens': False}. Best is trial 114 with value: 1.1673076923076924.\n"
     ]
    },
    {
     "name": "stdout",
     "output_type": "stream",
     "text": [
      "\n",
      "| acc_inc/eval_ds [pp]                                                                                                                    |   train |   test |   oos |    rnd |\n",
      "|:----------------------------------------------------------------------------------------------------------------------------------------|--------:|-------:|------:|-------:|\n",
      "| ReprPO loss.use_orth_loss=False loss.β=0.97 lr=0.00 transform.Htype=oft transform.flip_side=True transform.nb=32 transform.reduction=12 |       0 | -0.787 | 5.385 | -8.772 |\n"
     ]
    },
    {
     "name": "stderr",
     "output_type": "stream",
     "text": [
      "[I 2024-10-03 22:36:30,562] Trial 179 finished with value: 1.1615384615384614 and parameters: {'lr': 0.0005892591554344112, 'collect_input': False, 'collect_hs': False, 'nb': 29, 'Htype': 'oft', 'flip_side': True, 'reduction': 30, 'β': 0.3810830623660028, 'use_orth_loss': False, 'use_angle_loss': True, 'use_dpo_loss': False, 'use_nll_loss': False, 'weight_tokens': False}. Best is trial 114 with value: 1.1673076923076924.\n"
     ]
    },
    {
     "name": "stdout",
     "output_type": "stream",
     "text": [
      "\n",
      "| acc_inc/eval_ds [pp]                                                                                                                    |   train |   test |    oos |    rnd |\n",
      "|:----------------------------------------------------------------------------------------------------------------------------------------|--------:|-------:|-------:|-------:|\n",
      "| ReprPO loss.use_orth_loss=False loss.β=0.38 lr=0.00 transform.Htype=oft transform.flip_side=True transform.nb=29 transform.reduction=30 |   1.653 | -1.575 | 16.154 | 12.281 |\n"
     ]
    },
    {
     "name": "stderr",
     "output_type": "stream",
     "text": [
      "[I 2024-10-03 22:39:46,457] Trial 180 finished with value: 1.073076923076923 and parameters: {'lr': 0.000716453269687511, 'collect_input': False, 'collect_hs': False, 'nb': 27, 'Htype': 'oft', 'flip_side': True, 'reduction': 16, 'β': 0.12054483864182013, 'use_orth_loss': False, 'use_angle_loss': True, 'use_dpo_loss': False, 'use_nll_loss': False, 'weight_tokens': False}. Best is trial 114 with value: 1.1673076923076924.\n"
     ]
    },
    {
     "name": "stdout",
     "output_type": "stream",
     "text": [
      "\n",
      "| acc_inc/eval_ds [pp]                                                                                                                    |   train |   test |   oos |    rnd |\n",
      "|:----------------------------------------------------------------------------------------------------------------------------------------|--------:|-------:|------:|-------:|\n",
      "| ReprPO loss.use_orth_loss=False loss.β=0.12 lr=0.00 transform.Htype=oft transform.flip_side=True transform.nb=27 transform.reduction=16 |  -4.132 |  -3.15 | 7.308 | 14.035 |\n"
     ]
    },
    {
     "name": "stderr",
     "output_type": "stream",
     "text": [
      "[I 2024-10-03 22:42:56,654] Trial 181 finished with value: 1.1634615384615383 and parameters: {'lr': 0.0005947332116894646, 'collect_input': False, 'collect_hs': False, 'nb': 30, 'Htype': 'oft', 'flip_side': True, 'reduction': 29, 'β': 0.3959275394509415, 'use_orth_loss': False, 'use_angle_loss': True, 'use_dpo_loss': False, 'use_nll_loss': False, 'weight_tokens': False}. Best is trial 114 with value: 1.1673076923076924.\n"
     ]
    },
    {
     "name": "stdout",
     "output_type": "stream",
     "text": [
      "\n",
      "| acc_inc/eval_ds [pp]                                                                                                                    |   train |   test |    oos |    rnd |\n",
      "|:----------------------------------------------------------------------------------------------------------------------------------------|--------:|-------:|-------:|-------:|\n",
      "| ReprPO loss.use_orth_loss=False loss.β=0.40 lr=0.00 transform.Htype=oft transform.flip_side=True transform.nb=30 transform.reduction=29 |   1.653 | -0.787 | 16.346 | 10.526 |\n"
     ]
    },
    {
     "name": "stderr",
     "output_type": "stream",
     "text": [
      "[I 2024-10-03 22:46:09,999] Trial 182 finished with value: 1.1634615384615383 and parameters: {'lr': 0.0006178626227674861, 'collect_input': False, 'collect_hs': False, 'nb': 29, 'Htype': 'oft', 'flip_side': True, 'reduction': 22, 'β': 0.4022011360892444, 'use_orth_loss': False, 'use_angle_loss': True, 'use_dpo_loss': False, 'use_nll_loss': False, 'weight_tokens': False}. Best is trial 114 with value: 1.1673076923076924.\n"
     ]
    },
    {
     "name": "stdout",
     "output_type": "stream",
     "text": [
      "\n",
      "| acc_inc/eval_ds [pp]                                                                                                                    |   train |   test |    oos |   rnd |\n",
      "|:----------------------------------------------------------------------------------------------------------------------------------------|--------:|-------:|-------:|------:|\n",
      "| ReprPO loss.use_orth_loss=False loss.β=0.40 lr=0.00 transform.Htype=oft transform.flip_side=True transform.nb=29 transform.reduction=22 |   1.653 | -0.787 | 16.346 | 5.263 |\n"
     ]
    },
    {
     "name": "stderr",
     "output_type": "stream",
     "text": [
      "[I 2024-10-03 22:49:24,889] Trial 183 finished with value: 1.1576923076923076 and parameters: {'lr': 0.0006528309178035707, 'collect_input': False, 'collect_hs': False, 'nb': 28, 'Htype': 'oft', 'flip_side': True, 'reduction': 23, 'β': 0.3039234849347967, 'use_orth_loss': False, 'use_angle_loss': True, 'use_dpo_loss': False, 'use_nll_loss': False, 'weight_tokens': False}. Best is trial 114 with value: 1.1673076923076924.\n"
     ]
    },
    {
     "name": "stdout",
     "output_type": "stream",
     "text": [
      "\n",
      "| acc_inc/eval_ds [pp]                                                                                                                    |   train |   test |    oos |    rnd |\n",
      "|:----------------------------------------------------------------------------------------------------------------------------------------|--------:|-------:|-------:|-------:|\n",
      "| ReprPO loss.use_orth_loss=False loss.β=0.30 lr=0.00 transform.Htype=oft transform.flip_side=True transform.nb=28 transform.reduction=23 |   3.306 | -1.575 | 15.769 | 14.035 |\n"
     ]
    },
    {
     "name": "stderr",
     "output_type": "stream",
     "text": [
      "[I 2024-10-03 22:52:38,480] Trial 184 finished with value: 1.1634615384615383 and parameters: {'lr': 0.0007135953171594513, 'collect_input': False, 'collect_hs': False, 'nb': 29, 'Htype': 'oft', 'flip_side': True, 'reduction': 8, 'β': 0.44567952707960534, 'use_orth_loss': False, 'use_angle_loss': True, 'use_dpo_loss': False, 'use_nll_loss': False, 'weight_tokens': False}. Best is trial 114 with value: 1.1673076923076924.\n"
     ]
    },
    {
     "name": "stdout",
     "output_type": "stream",
     "text": [
      "\n",
      "| acc_inc/eval_ds [pp]                                                                                                                   |   train |   test |    oos |   rnd |\n",
      "|:---------------------------------------------------------------------------------------------------------------------------------------|--------:|-------:|-------:|------:|\n",
      "| ReprPO loss.use_orth_loss=False loss.β=0.45 lr=0.00 transform.Htype=oft transform.flip_side=True transform.nb=29 transform.reduction=8 |   2.479 | -2.362 | 16.346 | 8.772 |\n"
     ]
    },
    {
     "name": "stderr",
     "output_type": "stream",
     "text": [
      "[I 2024-10-03 22:55:53,251] Trial 185 finished with value: 1.101923076923077 and parameters: {'lr': 0.0007704767903440115, 'collect_input': False, 'collect_hs': False, 'nb': 29, 'Htype': 'oft', 'flip_side': True, 'reduction': 7, 'β': 0.18912779195078044, 'use_orth_loss': False, 'use_angle_loss': True, 'use_dpo_loss': False, 'use_nll_loss': False, 'weight_tokens': False}. Best is trial 114 with value: 1.1673076923076924.\n"
     ]
    },
    {
     "name": "stdout",
     "output_type": "stream",
     "text": [
      "\n",
      "| acc_inc/eval_ds [pp]                                                                                                                   |   train |   test |    oos |    rnd |\n",
      "|:---------------------------------------------------------------------------------------------------------------------------------------|--------:|-------:|-------:|-------:|\n",
      "| ReprPO loss.use_orth_loss=False loss.β=0.19 lr=0.00 transform.Htype=oft transform.flip_side=True transform.nb=29 transform.reduction=7 |  -0.826 | -2.362 | 10.192 | 14.035 |\n"
     ]
    },
    {
     "name": "stderr",
     "output_type": "stream",
     "text": [
      "[I 2024-10-03 22:59:07,057] Trial 186 finished with value: 1.0653846153846154 and parameters: {'lr': 0.0008636222605365228, 'collect_input': False, 'collect_hs': False, 'nb': 29, 'Htype': 'oft', 'flip_side': True, 'reduction': 11, 'β': 0.41429116113084075, 'use_orth_loss': False, 'use_angle_loss': True, 'use_dpo_loss': False, 'use_nll_loss': False, 'weight_tokens': False}. Best is trial 114 with value: 1.1673076923076924.\n"
     ]
    },
    {
     "name": "stdout",
     "output_type": "stream",
     "text": [
      "\n",
      "| acc_inc/eval_ds [pp]                                                                                                                    |   train |   test |   oos |   rnd |\n",
      "|:----------------------------------------------------------------------------------------------------------------------------------------|--------:|-------:|------:|------:|\n",
      "| ReprPO loss.use_orth_loss=False loss.β=0.41 lr=0.00 transform.Htype=oft transform.flip_side=True transform.nb=29 transform.reduction=11 |  -2.479 | -0.787 | 6.538 | 1.754 |\n"
     ]
    },
    {
     "name": "stderr",
     "output_type": "stream",
     "text": [
      "[I 2024-10-03 23:02:25,163] Trial 187 finished with value: 0.85 and parameters: {'lr': 0.0007217435385359368, 'collect_input': False, 'collect_hs': False, 'nb': 31, 'Htype': 'etherplus', 'flip_side': True, 'reduction': 38, 'β': 0.24859295997429232, 'use_orth_loss': False, 'use_angle_loss': True, 'use_dpo_loss': False, 'use_nll_loss': True, 'weight_tokens': True}. Best is trial 114 with value: 1.1673076923076924.\n"
     ]
    },
    {
     "name": "stdout",
     "output_type": "stream",
     "text": [
      "\n",
      "| acc_inc/eval_ds [pp]                                                                                                                                                                         |   train |   test |   oos |   rnd |\n",
      "|:---------------------------------------------------------------------------------------------------------------------------------------------------------------------------------------------|--------:|-------:|------:|------:|\n",
      "| ReprPO loss.use_nll_loss=True loss.use_orth_loss=False loss.weight_tokens=True loss.β=0.25 lr=0.00 transform.Htype=etherplus transform.flip_side=True transform.nb=31 transform.reduction=38 | -12.397 | -4.724 |   -15 |     0 |\n"
     ]
    },
    {
     "name": "stderr",
     "output_type": "stream",
     "text": [
      "[I 2024-10-03 23:05:38,888] Trial 188 finished with value: 1.1384615384615384 and parameters: {'lr': 0.0004443877076847184, 'collect_input': False, 'collect_hs': False, 'nb': 32, 'Htype': 'oft', 'flip_side': True, 'reduction': 20, 'β': 0.44562951895382313, 'use_orth_loss': False, 'use_angle_loss': True, 'use_dpo_loss': False, 'use_nll_loss': False, 'weight_tokens': False}. Best is trial 114 with value: 1.1673076923076924.\n"
     ]
    },
    {
     "name": "stdout",
     "output_type": "stream",
     "text": [
      "\n",
      "| acc_inc/eval_ds [pp]                                                                                                                    |   train |   test |    oos |    rnd |\n",
      "|:----------------------------------------------------------------------------------------------------------------------------------------|--------:|-------:|-------:|-------:|\n",
      "| ReprPO loss.use_orth_loss=False loss.β=0.45 lr=0.00 transform.Htype=oft transform.flip_side=True transform.nb=32 transform.reduction=20 |   1.653 |  0.787 | 13.846 | -5.263 |\n"
     ]
    },
    {
     "name": "stderr",
     "output_type": "stream",
     "text": [
      "[I 2024-10-03 23:08:50,536] Trial 189 finished with value: 0.4211538461538461 and parameters: {'lr': 0.0006149452732294406, 'collect_input': False, 'collect_hs': False, 'nb': 29, 'Htype': 'oft', 'flip_side': True, 'reduction': 32, 'β': 0.02214148759738513, 'use_orth_loss': False, 'use_angle_loss': True, 'use_dpo_loss': False, 'use_nll_loss': False, 'weight_tokens': False}. Best is trial 114 with value: 1.1673076923076924.\n"
     ]
    },
    {
     "name": "stdout",
     "output_type": "stream",
     "text": [
      "\n",
      "| acc_inc/eval_ds [pp]                                                                                                                    |   train |   test |     oos |    rnd |\n",
      "|:----------------------------------------------------------------------------------------------------------------------------------------|--------:|-------:|--------:|-------:|\n",
      "| ReprPO loss.use_orth_loss=False loss.β=0.02 lr=0.00 transform.Htype=oft transform.flip_side=True transform.nb=29 transform.reduction=32 | -44.628 | -36.22 | -57.885 | -5.263 |\n"
     ]
    },
    {
     "name": "stderr",
     "output_type": "stream",
     "text": [
      "[I 2024-10-03 23:12:06,759] Trial 190 finished with value: 1.0076923076923077 and parameters: {'lr': 1.9398650098342803e-05, 'collect_input': False, 'collect_hs': False, 'nb': 20, 'Htype': 'oft', 'flip_side': True, 'reduction': 4, 'β': 0.32355017560556065, 'use_orth_loss': False, 'use_angle_loss': True, 'use_dpo_loss': False, 'use_nll_loss': False, 'weight_tokens': False}. Best is trial 114 with value: 1.1673076923076924.\n"
     ]
    },
    {
     "name": "stdout",
     "output_type": "stream",
     "text": [
      "\n",
      "| acc_inc/eval_ds [pp]                                                                                                                   |   train |   test |   oos |   rnd |\n",
      "|:---------------------------------------------------------------------------------------------------------------------------------------|--------:|-------:|------:|------:|\n",
      "| ReprPO loss.use_orth_loss=False loss.β=0.32 lr=0.00 transform.Htype=oft transform.flip_side=True transform.nb=20 transform.reduction=4 |       0 |      0 | 0.769 |     0 |\n"
     ]
    },
    {
     "name": "stderr",
     "output_type": "stream",
     "text": [
      "[I 2024-10-03 23:15:22,444] Trial 191 finished with value: 1.0057692307692307 and parameters: {'lr': 4.820067998208661e-06, 'collect_input': False, 'collect_hs': False, 'nb': 28, 'Htype': 'oft', 'flip_side': True, 'reduction': 15, 'β': 0.5417637489387258, 'use_orth_loss': False, 'use_angle_loss': True, 'use_dpo_loss': False, 'use_nll_loss': False, 'weight_tokens': False}. Best is trial 114 with value: 1.1673076923076924.\n"
     ]
    },
    {
     "name": "stdout",
     "output_type": "stream",
     "text": [
      "\n",
      "| acc_inc/eval_ds [pp]                                                                                                                    |   train |   test |   oos |   rnd |\n",
      "|:----------------------------------------------------------------------------------------------------------------------------------------|--------:|-------:|------:|------:|\n",
      "| ReprPO loss.use_orth_loss=False loss.β=0.54 lr=0.00 transform.Htype=oft transform.flip_side=True transform.nb=28 transform.reduction=15 |       0 |      0 | 0.577 | 3.509 |\n"
     ]
    },
    {
     "name": "stderr",
     "output_type": "stream",
     "text": [
      "[I 2024-10-03 23:18:36,682] Trial 192 finished with value: 1.169230769230769 and parameters: {'lr': 0.0006154373526393252, 'collect_input': False, 'collect_hs': False, 'nb': 30, 'Htype': 'oft', 'flip_side': True, 'reduction': 25, 'β': 0.403786668362524, 'use_orth_loss': False, 'use_angle_loss': True, 'use_dpo_loss': False, 'use_nll_loss': False, 'weight_tokens': False}. Best is trial 192 with value: 1.169230769230769.\n"
     ]
    },
    {
     "name": "stdout",
     "output_type": "stream",
     "text": [
      "\n",
      "| acc_inc/eval_ds [pp]                                                                                                                    |   train |   test |    oos |   rnd |\n",
      "|:----------------------------------------------------------------------------------------------------------------------------------------|--------:|-------:|-------:|------:|\n",
      "| ReprPO loss.use_orth_loss=False loss.β=0.40 lr=0.00 transform.Htype=oft transform.flip_side=True transform.nb=30 transform.reduction=25 |   1.653 | -0.787 | 16.923 | 7.018 |\n"
     ]
    },
    {
     "name": "stderr",
     "output_type": "stream",
     "text": [
      "[I 2024-10-03 23:21:55,460] Trial 193 finished with value: 1.146153846153846 and parameters: {'lr': 0.0004963770206885111, 'collect_input': False, 'collect_hs': False, 'nb': 30, 'Htype': 'oft', 'flip_side': True, 'reduction': 24, 'β': 0.3764030973746993, 'use_orth_loss': False, 'use_angle_loss': True, 'use_dpo_loss': False, 'use_nll_loss': False, 'weight_tokens': False}. Best is trial 192 with value: 1.169230769230769.\n"
     ]
    },
    {
     "name": "stdout",
     "output_type": "stream",
     "text": [
      "\n",
      "| acc_inc/eval_ds [pp]                                                                                                                    |   train |   test |    oos |   rnd |\n",
      "|:----------------------------------------------------------------------------------------------------------------------------------------|--------:|-------:|-------:|------:|\n",
      "| ReprPO loss.use_orth_loss=False loss.β=0.38 lr=0.00 transform.Htype=oft transform.flip_side=True transform.nb=30 transform.reduction=24 |   3.306 |      0 | 14.615 | 3.509 |\n"
     ]
    },
    {
     "name": "stderr",
     "output_type": "stream",
     "text": [
      "[I 2024-10-03 23:25:10,274] Trial 194 finished with value: 1.153846153846154 and parameters: {'lr': 0.0007207587784529827, 'collect_input': False, 'collect_hs': False, 'nb': 31, 'Htype': 'oft', 'flip_side': True, 'reduction': 19, 'β': 0.24269753335650185, 'use_orth_loss': False, 'use_angle_loss': True, 'use_dpo_loss': False, 'use_nll_loss': False, 'weight_tokens': False}. Best is trial 192 with value: 1.169230769230769.\n"
     ]
    },
    {
     "name": "stdout",
     "output_type": "stream",
     "text": [
      "\n",
      "| acc_inc/eval_ds [pp]                                                                                                                    |   train |   test |    oos |   rnd |\n",
      "|:----------------------------------------------------------------------------------------------------------------------------------------|--------:|-------:|-------:|------:|\n",
      "| ReprPO loss.use_orth_loss=False loss.β=0.24 lr=0.00 transform.Htype=oft transform.flip_side=True transform.nb=31 transform.reduction=19 |   4.132 | -1.575 | 15.385 |     0 |\n"
     ]
    },
    {
     "name": "stderr",
     "output_type": "stream",
     "text": [
      "[I 2024-10-03 23:28:23,720] Trial 195 finished with value: 1.0192307692307692 and parameters: {'lr': 0.0005859096268546425, 'collect_input': False, 'collect_hs': False, 'nb': 30, 'Htype': 'oft', 'flip_side': True, 'reduction': 27, 'β': 0.08414173897121625, 'use_orth_loss': False, 'use_angle_loss': True, 'use_dpo_loss': False, 'use_nll_loss': False, 'weight_tokens': False}. Best is trial 192 with value: 1.169230769230769.\n"
     ]
    },
    {
     "name": "stdout",
     "output_type": "stream",
     "text": [
      "\n",
      "| acc_inc/eval_ds [pp]                                                                                                                    |   train |   test |   oos |    rnd |\n",
      "|:----------------------------------------------------------------------------------------------------------------------------------------|--------:|-------:|------:|-------:|\n",
      "| ReprPO loss.use_orth_loss=False loss.β=0.08 lr=0.00 transform.Htype=oft transform.flip_side=True transform.nb=30 transform.reduction=27 |  -9.091 |  -3.15 | 1.923 | 10.526 |\n"
     ]
    },
    {
     "name": "stderr",
     "output_type": "stream",
     "text": [
      "[I 2024-10-03 23:31:28,378] Trial 196 finished with value: 0.4673076923076923 and parameters: {'lr': 0.0006953005278158099, 'collect_input': True, 'collect_hs': False, 'nb': 29, 'Htype': 'oft', 'flip_side': True, 'reduction': 7, 'β': 0.15770542568100177, 'use_orth_loss': False, 'use_angle_loss': False, 'use_dpo_loss': False, 'use_nll_loss': False, 'weight_tokens': False}. Best is trial 192 with value: 1.169230769230769.\n"
     ]
    },
    {
     "name": "stdout",
     "output_type": "stream",
     "text": [
      "\n",
      "| acc_inc/eval_ds [pp]                                                                                                                                                                |   train |    test |     oos |    rnd |\n",
      "|:------------------------------------------------------------------------------------------------------------------------------------------------------------------------------------|--------:|--------:|--------:|-------:|\n",
      "| ReprPO collect_input=True loss.use_angle_loss=False loss.use_orth_loss=False loss.β=0.16 lr=0.00 transform.Htype=oft transform.flip_side=True transform.nb=29 transform.reduction=7 | -42.149 | -33.071 | -53.269 | -5.263 |\n"
     ]
    },
    {
     "name": "stderr",
     "output_type": "stream",
     "text": [
      "[I 2024-10-03 23:34:43,713] Trial 197 finished with value: 1.0903846153846153 and parameters: {'lr': 0.0009670630563395565, 'collect_input': False, 'collect_hs': False, 'nb': 32, 'Htype': 'oft', 'flip_side': True, 'reduction': 22, 'β': 0.5238245628137651, 'use_orth_loss': False, 'use_angle_loss': True, 'use_dpo_loss': False, 'use_nll_loss': False, 'weight_tokens': False}. Best is trial 192 with value: 1.169230769230769.\n"
     ]
    },
    {
     "name": "stdout",
     "output_type": "stream",
     "text": [
      "\n",
      "| acc_inc/eval_ds [pp]                                                                                                                    |   train |   test |   oos |    rnd |\n",
      "|:----------------------------------------------------------------------------------------------------------------------------------------|--------:|-------:|------:|-------:|\n",
      "| ReprPO loss.use_orth_loss=False loss.β=0.52 lr=0.00 transform.Htype=oft transform.flip_side=True transform.nb=32 transform.reduction=22 |  -1.653 |  -3.15 | 9.038 | -1.754 |\n"
     ]
    },
    {
     "name": "stderr",
     "output_type": "stream",
     "text": [
      "[I 2024-10-03 23:37:56,879] Trial 198 finished with value: 0.4211538461538461 and parameters: {'lr': 0.0005174307215158109, 'collect_input': False, 'collect_hs': False, 'nb': 31, 'Htype': 'oft', 'flip_side': True, 'reduction': 11, 'β': 0.0019259151848340296, 'use_orth_loss': False, 'use_angle_loss': True, 'use_dpo_loss': False, 'use_nll_loss': False, 'weight_tokens': False}. Best is trial 192 with value: 1.169230769230769.\n"
     ]
    },
    {
     "name": "stdout",
     "output_type": "stream",
     "text": [
      "\n",
      "| acc_inc/eval_ds [pp]                                                                                                                    |   train |    test |     oos |   rnd |\n",
      "|:----------------------------------------------------------------------------------------------------------------------------------------|--------:|--------:|--------:|------:|\n",
      "| ReprPO loss.use_orth_loss=False loss.β=0.00 lr=0.00 transform.Htype=oft transform.flip_side=True transform.nb=31 transform.reduction=11 | -41.322 | -37.795 | -57.885 | 5.263 |\n"
     ]
    },
    {
     "name": "stderr",
     "output_type": "stream",
     "text": [
      "[I 2024-10-03 23:41:09,312] Trial 199 finished with value: 1.125 and parameters: {'lr': 0.0008013153037492187, 'collect_input': False, 'collect_hs': False, 'nb': 29, 'Htype': 'oft', 'flip_side': True, 'reduction': 33, 'β': 0.2864545171012439, 'use_orth_loss': False, 'use_angle_loss': True, 'use_dpo_loss': False, 'use_nll_loss': False, 'weight_tokens': False}. Best is trial 192 with value: 1.169230769230769.\n"
     ]
    },
    {
     "name": "stdout",
     "output_type": "stream",
     "text": [
      "\n",
      "| acc_inc/eval_ds [pp]                                                                                                                    |   train |   test |   oos |   rnd |\n",
      "|:----------------------------------------------------------------------------------------------------------------------------------------|--------:|-------:|------:|------:|\n",
      "| ReprPO loss.use_orth_loss=False loss.β=0.29 lr=0.00 transform.Htype=oft transform.flip_side=True transform.nb=29 transform.reduction=33 |   0.826 | -1.575 |  12.5 | 1.754 |\n"
     ]
    },
    {
     "name": "stderr",
     "output_type": "stream",
     "text": [
      "[I 2024-10-03 23:44:22,755] Trial 200 finished with value: 1.1615384615384614 and parameters: {'lr': 0.0006093550090270844, 'collect_input': False, 'collect_hs': False, 'nb': 30, 'Htype': 'oft', 'flip_side': True, 'reduction': 18, 'β': 0.395255164935135, 'use_orth_loss': False, 'use_angle_loss': True, 'use_dpo_loss': False, 'use_nll_loss': False, 'weight_tokens': False}. Best is trial 192 with value: 1.169230769230769.\n"
     ]
    },
    {
     "name": "stdout",
     "output_type": "stream",
     "text": [
      "\n",
      "| acc_inc/eval_ds [pp]                                                                                                                    |   train |   test |    oos |   rnd |\n",
      "|:----------------------------------------------------------------------------------------------------------------------------------------|--------:|-------:|-------:|------:|\n",
      "| ReprPO loss.use_orth_loss=False loss.β=0.40 lr=0.00 transform.Htype=oft transform.flip_side=True transform.nb=30 transform.reduction=18 |   2.479 | -0.787 | 16.154 | 1.754 |\n"
     ]
    },
    {
     "name": "stderr",
     "output_type": "stream",
     "text": [
      "[I 2024-10-03 23:47:37,161] Trial 201 finished with value: 1.169230769230769 and parameters: {'lr': 0.0006350398616143053, 'collect_input': False, 'collect_hs': False, 'nb': 30, 'Htype': 'oft', 'flip_side': True, 'reduction': 18, 'β': 0.4235587581977757, 'use_orth_loss': False, 'use_angle_loss': True, 'use_dpo_loss': False, 'use_nll_loss': False, 'weight_tokens': False}. Best is trial 192 with value: 1.169230769230769.\n"
     ]
    },
    {
     "name": "stdout",
     "output_type": "stream",
     "text": [
      "\n",
      "| acc_inc/eval_ds [pp]                                                                                                                    |   train |   test |    oos |   rnd |\n",
      "|:----------------------------------------------------------------------------------------------------------------------------------------|--------:|-------:|-------:|------:|\n",
      "| ReprPO loss.use_orth_loss=False loss.β=0.42 lr=0.00 transform.Htype=oft transform.flip_side=True transform.nb=30 transform.reduction=18 |   2.479 | -0.787 | 16.923 | 3.509 |\n"
     ]
    },
    {
     "name": "stderr",
     "output_type": "stream",
     "text": [
      "[I 2024-10-03 23:50:51,320] Trial 202 finished with value: 1.1634615384615383 and parameters: {'lr': 0.0005811629542892312, 'collect_input': False, 'collect_hs': False, 'nb': 30, 'Htype': 'oft', 'flip_side': True, 'reduction': 24, 'β': 0.40069274231484037, 'use_orth_loss': False, 'use_angle_loss': True, 'use_dpo_loss': False, 'use_nll_loss': False, 'weight_tokens': False}. Best is trial 192 with value: 1.169230769230769.\n"
     ]
    },
    {
     "name": "stdout",
     "output_type": "stream",
     "text": [
      "\n",
      "| acc_inc/eval_ds [pp]                                                                                                                    |   train |   test |    oos |    rnd |\n",
      "|:----------------------------------------------------------------------------------------------------------------------------------------|--------:|-------:|-------:|-------:|\n",
      "| ReprPO loss.use_orth_loss=False loss.β=0.40 lr=0.00 transform.Htype=oft transform.flip_side=True transform.nb=30 transform.reduction=24 |   1.653 | -0.787 | 16.346 | 14.035 |\n"
     ]
    },
    {
     "name": "stderr",
     "output_type": "stream",
     "text": [
      "[I 2024-10-03 23:54:05,478] Trial 203 finished with value: 1.1576923076923076 and parameters: {'lr': 0.0005787818148850057, 'collect_input': False, 'collect_hs': False, 'nb': 30, 'Htype': 'oft', 'flip_side': True, 'reduction': 27, 'β': 0.36031338563705284, 'use_orth_loss': False, 'use_angle_loss': True, 'use_dpo_loss': False, 'use_nll_loss': False, 'weight_tokens': False}. Best is trial 192 with value: 1.169230769230769.\n"
     ]
    },
    {
     "name": "stdout",
     "output_type": "stream",
     "text": [
      "\n",
      "| acc_inc/eval_ds [pp]                                                                                                                    |   train |   test |    oos |    rnd |\n",
      "|:----------------------------------------------------------------------------------------------------------------------------------------|--------:|-------:|-------:|-------:|\n",
      "| ReprPO loss.use_orth_loss=False loss.β=0.36 lr=0.00 transform.Htype=oft transform.flip_side=True transform.nb=30 transform.reduction=27 |   2.479 | -0.787 | 15.769 | 14.035 |\n"
     ]
    },
    {
     "name": "stderr",
     "output_type": "stream",
     "text": [
      "[I 2024-10-03 23:57:19,952] Trial 204 finished with value: 1.1365384615384615 and parameters: {'lr': 0.00047627984490590405, 'collect_input': False, 'collect_hs': False, 'nb': 31, 'Htype': 'oft', 'flip_side': True, 'reduction': 19, 'β': 0.5222190341639514, 'use_orth_loss': False, 'use_angle_loss': True, 'use_dpo_loss': False, 'use_nll_loss': False, 'weight_tokens': False}. Best is trial 192 with value: 1.169230769230769.\n"
     ]
    },
    {
     "name": "stdout",
     "output_type": "stream",
     "text": [
      "\n",
      "| acc_inc/eval_ds [pp]                                                                                                                    |   train |   test |    oos |   rnd |\n",
      "|:----------------------------------------------------------------------------------------------------------------------------------------|--------:|-------:|-------:|------:|\n",
      "| ReprPO loss.use_orth_loss=False loss.β=0.52 lr=0.00 transform.Htype=oft transform.flip_side=True transform.nb=31 transform.reduction=19 |   3.306 |      0 | 13.654 | 5.263 |\n"
     ]
    },
    {
     "name": "stderr",
     "output_type": "stream",
     "text": [
      "[I 2024-10-04 00:00:33,448] Trial 205 finished with value: 1.1134615384615385 and parameters: {'lr': 0.0004082554597602717, 'collect_input': False, 'collect_hs': False, 'nb': 31, 'Htype': 'oft', 'flip_side': True, 'reduction': 25, 'β': 0.2210893250648101, 'use_orth_loss': False, 'use_angle_loss': True, 'use_dpo_loss': False, 'use_nll_loss': False, 'weight_tokens': False}. Best is trial 192 with value: 1.169230769230769.\n"
     ]
    },
    {
     "name": "stdout",
     "output_type": "stream",
     "text": [
      "\n",
      "| acc_inc/eval_ds [pp]                                                                                                                    |   train |   test |    oos |    rnd |\n",
      "|:----------------------------------------------------------------------------------------------------------------------------------------|--------:|-------:|-------:|-------:|\n",
      "| ReprPO loss.use_orth_loss=False loss.β=0.22 lr=0.00 transform.Htype=oft transform.flip_side=True transform.nb=31 transform.reduction=25 |   3.306 |      0 | 11.346 | -5.263 |\n"
     ]
    },
    {
     "name": "stderr",
     "output_type": "stream",
     "text": [
      "[I 2024-10-04 00:03:47,063] Trial 206 finished with value: 1.169230769230769 and parameters: {'lr': 0.0006032647595682293, 'collect_input': False, 'collect_hs': False, 'nb': 32, 'Htype': 'oft', 'flip_side': True, 'reduction': 31, 'β': 0.30490860430415506, 'use_orth_loss': False, 'use_angle_loss': True, 'use_dpo_loss': False, 'use_nll_loss': False, 'weight_tokens': False}. Best is trial 192 with value: 1.169230769230769.\n"
     ]
    },
    {
     "name": "stdout",
     "output_type": "stream",
     "text": [
      "\n",
      "| acc_inc/eval_ds [pp]                                                                                                                    |   train |   test |    oos |    rnd |\n",
      "|:----------------------------------------------------------------------------------------------------------------------------------------|--------:|-------:|-------:|-------:|\n",
      "| ReprPO loss.use_orth_loss=False loss.β=0.30 lr=0.00 transform.Htype=oft transform.flip_side=True transform.nb=32 transform.reduction=31 |   2.479 | -1.575 | 16.923 | 12.281 |\n"
     ]
    }
   ],
   "source": [
    "MAX_TRIALS= 250\n",
    "\n",
    "\n",
    "for starter_experiment_name, trial2args in search_spaces.items():\n",
    "\n",
    "    study_name = f\"{starter_experiment_name}\"\n",
    "    study = optuna.create_study(\n",
    "        study_name=study_name,\n",
    "        direction=\"maximize\",\n",
    "        load_if_exists=True,\n",
    "        storage=f_db,\n",
    "        sampler=optuna.samplers.TPESampler(seed=SEED),\n",
    "        # pruner=optuna.pruners.NopPruner(),\n",
    "    )\n",
    "\n",
    "    n = 0\n",
    "    if len(study.trials)>0:\n",
    "        df = study.trials_dataframe().query('state == \"COMPLETE\"').sort_values('value', ascending=False)\n",
    "        n = len(df)\n",
    "        print(f\"loaded {n} {study_name} trials\")\n",
    "        # print('study.best_trial', study.best_trial)\n",
    "\n",
    "        df_res = optuna_df(study, key_metric)\n",
    "        print(df_res.to_markdown())\n",
    "\n",
    "    \n",
    "    if n < MAX_TRIALS:\n",
    "        _objective = functools.partial(objective, key_metric=key_metric, starter_experiment_name=starter_experiment_name, trial2args=trial2args)\n",
    "\n",
    "        study.optimize(_objective, \n",
    "                    n_trials=MAX_TRIALS, \n",
    "                    gc_after_trial=True, \n",
    "                    catch=(AssertionError, OSError, RuntimeError, KeyError)\n",
    "        )\n",
    "\n",
    "    print('='*80)"
   ]
  },
  {
   "cell_type": "code",
   "execution_count": null,
   "metadata": {},
   "outputs": [],
   "source": [
    "print(wandb.run.get_url())"
   ]
  },
  {
   "cell_type": "markdown",
   "metadata": {},
   "source": [
    "## plot"
   ]
  },
  {
   "cell_type": "code",
   "execution_count": null,
   "metadata": {},
   "outputs": [],
   "source": [
    "# You can use Matplotlib instead of Plotly for visualization by simply replacing `optuna.visualization` with\n",
    "# `optuna.visualization.matplotlib` in the following examples.\n",
    "from optuna.visualization.matplotlib import plot_contour\n",
    "from optuna.visualization.matplotlib import plot_edf\n",
    "from optuna.visualization.matplotlib import plot_intermediate_values\n",
    "from optuna.visualization.matplotlib import plot_optimization_history\n",
    "from optuna.visualization.matplotlib import plot_parallel_coordinate\n",
    "from optuna.visualization.matplotlib import plot_param_importances\n",
    "from optuna.visualization.matplotlib import plot_rank\n",
    "from optuna.visualization.matplotlib import plot_slice\n",
    "from optuna.visualization.matplotlib import plot_timeline"
   ]
  },
  {
   "cell_type": "code",
   "execution_count": null,
   "metadata": {},
   "outputs": [],
   "source": [
    "search_spaces.keys()"
   ]
  },
  {
   "cell_type": "code",
   "execution_count": null,
   "metadata": {},
   "outputs": [],
   "source": [
    "starter_experiment_name = 'projgrad'\n",
    "trial2args = search_spaces[starter_experiment_name]\n",
    "\n",
    "study_name = f\"{starter_experiment_name}\"\n",
    "study = optuna.create_study(\n",
    "    study_name=study_name,\n",
    "    direction=\"maximize\",\n",
    "    load_if_exists=True,\n",
    "    storage=f_db,\n",
    "    sampler=optuna.samplers.TPESampler(seed=SEED),\n",
    "    pruner=optuna.pruners.NopPruner(),\n",
    ")\n",
    "print('study.best_trial', study.best_trial)\n",
    "df = study.trials_dataframe().query('state == \"COMPLETE\"').sort_values('value', ascending=False)\n",
    "print(len(df))\n",
    "plot_optimization_history(study)"
   ]
  },
  {
   "cell_type": "code",
   "execution_count": 13,
   "metadata": {},
   "outputs": [],
   "source": [
    "# plot_timeline(study)"
   ]
  },
  {
   "cell_type": "code",
   "execution_count": 29,
   "metadata": {},
   "outputs": [],
   "source": [
    "# plot_intermediate_values(study)"
   ]
  },
  {
   "cell_type": "code",
   "execution_count": 30,
   "metadata": {},
   "outputs": [],
   "source": [
    "# plot_contour(study)\n"
   ]
  },
  {
   "cell_type": "code",
   "execution_count": null,
   "metadata": {},
   "outputs": [],
   "source": [
    "plot_slice(study)\n"
   ]
  },
  {
   "cell_type": "code",
   "execution_count": null,
   "metadata": {},
   "outputs": [],
   "source": [
    "plot_param_importances(study)"
   ]
  },
  {
   "cell_type": "code",
   "execution_count": null,
   "metadata": {},
   "outputs": [],
   "source": [
    "plot_intermediate_values(study)"
   ]
  },
  {
   "cell_type": "code",
   "execution_count": null,
   "metadata": {},
   "outputs": [],
   "source": [
    "plot_parallel_coordinate(study)"
   ]
  },
  {
   "cell_type": "markdown",
   "metadata": {},
   "source": [
    "### Apendix 1: dataclass 2 optuna"
   ]
  },
  {
   "cell_type": "code",
   "execution_count": 20,
   "metadata": {},
   "outputs": [],
   "source": [
    "# import inspect\n",
    "# import typing\n",
    "# from typing import Literal\n",
    "\n",
    "# def optuna_suggest_from_dataclass(t):\n",
    "#     n = t.__name__\n",
    "#     print(f'## {n}')\n",
    "#     sig = inspect.signature(t)\n",
    "#     for name, param in sig.parameters.items():\n",
    "#         if param.annotation== bool:\n",
    "#             print(f'\"{name}\": trial.suggest_categorical(\"{name}\", [True, False]),')\n",
    "#         elif param.annotation==int:\n",
    "#             print(f'\"{name}\": trial.suggest_int(\"{name}\", 1, 10),')\n",
    "#         elif param.annotation ==float:\n",
    "#             print(f'\"{name}\": trial.suggest_float(\"{name}\", 0.1, 10.0),')\n",
    "#         elif param.annotation == str:\n",
    "#             print(f'\"{name}\": trial.suggest_categorical(\"{name}\", [\"a\", \"b\", \"c\"]),')\n",
    "#         elif param.annotation == tuple:\n",
    "#             print(f'\"{name}\": trial.suggest_categorical(\"{name}\", [(1, 2), (3, 4), (5, 6)]),')\n",
    "#         elif typing.get_origin(param.annotation) == Literal:\n",
    "#             print(f'\"{name}\": trial.suggest_categorical(\"{name}\", {param.annotation.__args__}),')\n",
    "#         else:\n",
    "#             print(f\"!!Unknown type {param}\")\n",
    "#             # print(name, param.default, param.annotation)\n",
    "\n",
    "# optuna_suggest_from_dataclass(ReprPOConfig)\n",
    "# for t in Transforms:\n",
    "#     print(f'## {t}')\n",
    "#     optuna_suggest_from_dataclass(t.value)\n",
    "# for l in Losses:\n",
    "#     print(f'## {l}')\n",
    "#     optuna_suggest_from_dataclass(l.value)\n",
    "\n",
    "\n",
    "# optuna_suggest_from_dataclass(DPOProjGradConfig)"
   ]
  }
 ],
 "metadata": {
  "kernelspec": {
   "display_name": ".venv",
   "language": "python",
   "name": "python3"
  },
  "language_info": {
   "codemirror_mode": {
    "name": "ipython",
    "version": 3
   },
   "file_extension": ".py",
   "mimetype": "text/x-python",
   "name": "python",
   "nbconvert_exporter": "python",
   "pygments_lexer": "ipython3",
   "version": "3.11.10"
  }
 },
 "nbformat": 4,
 "nbformat_minor": 2
}
