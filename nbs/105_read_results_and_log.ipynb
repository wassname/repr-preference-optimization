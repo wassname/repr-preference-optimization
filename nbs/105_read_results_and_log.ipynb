{
 "cells": [
  {
   "cell_type": "code",
   "execution_count": 1,
   "metadata": {},
   "outputs": [],
   "source": [
    "import re, os, sys, json, time, requests\n",
    "from pathlib import Path\n",
    "\n",
    "# TODO just load the parquets and run parse_eval\n",
    "# or run my own eval"
   ]
  },
  {
   "cell_type": "code",
   "execution_count": 2,
   "metadata": {},
   "outputs": [
    {
     "data": {
      "text/plain": [
       "[PosixPath('../outputs/wassname-llama-3-2-1b-sft_side-SVD-MSE_us_history_textbook/2024-10-05_04-58-14/eval.parquet'),\n",
       " PosixPath('../outputs/wassname-llama-3-2-1b-sft_side-SVD-MSE_us_history_textbook/2024-10-05_05-01-29/eval.parquet'),\n",
       " PosixPath('../outputs/wassname-llama-3-2-1b-sft_side-SVD-MSE_us_history_textbook/2024-10-05_05-25-00/eval.parquet'),\n",
       " PosixPath('../outputs/wassname-llama-3-2-1b-sft_side-SVD-MSE_us_history_textbook/2024-10-05_05-28-42/eval.parquet'),\n",
       " PosixPath('../outputs/wassname-llama-3-2-1b-sft_side-SVD-MSE_us_history_textbook/2024-10-05_05-32-15/eval.parquet'),\n",
       " PosixPath('../outputs/wassname-llama-3-2-1b-sft_side-SVD-MSE_us_history_textbook/2024-10-05_05-35-47/eval.parquet'),\n",
       " PosixPath('../outputs/wassname-llama-3-2-1b-sft_side-SVD-MSE_us_history_textbook/2024-10-11_00-09-35/eval.parquet'),\n",
       " PosixPath('../outputs/wassname-llama-3-2-1b-sft_side-SVD-MSE_us_history_textbook/2024-10-11_04-36-06/eval.parquet'),\n",
       " PosixPath('../outputs/wassname-llama-3-2-1b-sft_side-SVD-PrefVec_us_history_textbook/2024-10-11_00-05-32/eval.parquet'),\n",
       " PosixPath('../outputs/wassname-llama-3-2-1b-sft_side-SVD-Rank_us_history_textbook/2024-10-11_00-01-16/eval.parquet')]"
      ]
     },
     "execution_count": 2,
     "metadata": {},
     "output_type": "execute_result"
    }
   ],
   "source": [
    "# TODO load config.json, load eval.parquet\n",
    "fs = sorted(Path('../outputs').glob('**/eval.parquet'))\n",
    "fs[-10:]"
   ]
  },
  {
   "cell_type": "code",
   "execution_count": 3,
   "metadata": {},
   "outputs": [
    {
     "ename": "NameError",
     "evalue": "name 'pd' is not defined",
     "output_type": "error",
     "traceback": [
      "\u001b[0;31m---------------------------------------------------------------------------\u001b[0m",
      "\u001b[0;31mNameError\u001b[0m                                 Traceback (most recent call last)",
      "Cell \u001b[0;32mIn[3], line 13\u001b[0m\n\u001b[1;32m     10\u001b[0m     config_df[\u001b[38;5;124m'\u001b[39m\u001b[38;5;124mmodel\u001b[39m\u001b[38;5;124m'\u001b[39m] \u001b[38;5;241m=\u001b[39m f\u001b[38;5;241m.\u001b[39mparent\u001b[38;5;241m.\u001b[39mstem\n\u001b[1;32m     11\u001b[0m     \u001b[38;5;28;01mreturn\u001b[39;00m config_df\n\u001b[0;32m---> 13\u001b[0m df \u001b[38;5;241m=\u001b[39m \u001b[43mpd\u001b[49m\u001b[38;5;241m.\u001b[39mconcat([load_eval(f) \u001b[38;5;28;01mfor\u001b[39;00m f \u001b[38;5;129;01min\u001b[39;00m Path(\u001b[38;5;124m'\u001b[39m\u001b[38;5;124mresults\u001b[39m\u001b[38;5;124m'\u001b[39m)\u001b[38;5;241m.\u001b[39mglob(\u001b[38;5;124m'\u001b[39m\u001b[38;5;124m**/eval.json\u001b[39m\u001b[38;5;124m'\u001b[39m)])\n\u001b[1;32m     14\u001b[0m df\n",
      "\u001b[0;31mNameError\u001b[0m: name 'pd' is not defined"
     ]
    }
   ],
   "source": [
    "def load_eval(f):\n",
    "    print(f.parent.parent.stem)\n",
    "    config = json.load((f.parent / 'config.json').open())\n",
    "    log = (f.parent / 'log.txt').open().read()\n",
    "\n",
    "    # dataframe of all non list/dict/tuple in config\n",
    "    config_df = pd.DataFrame({k: v for k, v in config.items() if not isinstance(v, (list, dict, tuple))}, index=[0])\n",
    "    config_df['log'] = log\n",
    "    config_df['file'] = f\n",
    "    config_df['model'] = f.parent.stem\n",
    "    return config_df\n",
    "\n",
    "df = pd.concat([load_eval(f) for f in Path('results').glob('**/eval.json')])\n",
    "df\n"
   ]
  },
  {
   "cell_type": "code",
   "execution_count": 6,
   "metadata": {},
   "outputs": [
    {
     "name": "stdout",
     "output_type": "stream",
     "text": [
      "wassname-llama-3-2-1b-sft_side-SVD-PrefVec_us_history_textbook\n",
      "{'dataset': 'us_history_textbook', 'verbose': 1, 'dev': False, 'load_in_4bit': False, 'load_in_8bit': False, 'use_gradient_checkpointing': False, 'batch_size': 16, 'n_samples': 3600, 'eval_samples': None, 'max_length': 196, 'max_prompt_length': 96, 'base_model': 'wassname/llama-3-2-1b-sft', 'save': True, 'wandb': True, 'lr': 0.0004, 'collection_layers_side': [8, 10, 12, 14], 'collection_keys_in': ['base_model.model.model.layers.{layer}.self_attn.o_proj', 'base_model.model.model.layers.{layer}.mlp.down_proj'], 'collection_keys_out': ['base_model.model.model.layers.{layer}.self_attn.q_proj', 'base_model.model.model.layers.{layer}.self_attn.k_proj', 'base_model.model.model.layers.{layer}.self_attn.v_proj', 'base_model.model.model.layers.{layer}.mlp.gate_proj', 'base_model.model.model.layers.{layer}.mlp.up_proj'], 'collect_input': True, 'collect_hs': True, 'loss': {'eps': 1e-12, 'β': 2, 'use_orth_loss': False, 'use_angle_loss': True, 'use_dpo_loss': False, 'use_nll_loss': False, 'weight_tokens': False, 'use_proj_rel': True}, 'transform': {'quantile': 0.3, 'dual_svd': True}}\n",
      "references-us_history_textbook-train[:750]`\n",
      "- `test`: `genies_preferences-us_history_textbook-test`\n",
      "- `oos`: `genies_preferences-us_history_fiction-test`\n",
      "- `rnd`: `genies_preferences-ranking_logic-test`\n",
      "October 11, 2024 > 00:30:20 | INFO | WANDB url = https://wandb.ai/wassname/reprpo2/runs/0un8lxs4\n",
      "\n"
     ]
    }
   ],
   "source": [
    "f = fs[-2]\n",
    "print(f.parent.parent.stem)\n",
    "# sorted(f.parent.glob('**/*'))\n",
    "config = json.load((f.parent / 'config.json').open())\n",
    "print(config)\n",
    "log = (f.parent / 'log.txt').open().read()\n",
    "print(log[-300:])"
   ]
  },
  {
   "cell_type": "markdown",
   "metadata": {},
   "source": [
    "## From txt: old"
   ]
  },
  {
   "cell_type": "code",
   "execution_count": 4,
   "metadata": {},
   "outputs": [
    {
     "ename": "ZeroDivisionError",
     "evalue": "division by zero",
     "output_type": "error",
     "traceback": [
      "\u001b[0;31m---------------------------------------------------------------------------\u001b[0m",
      "\u001b[0;31mZeroDivisionError\u001b[0m                         Traceback (most recent call last)",
      "Cell \u001b[0;32mIn[4], line 1\u001b[0m\n\u001b[0;32m----> 1\u001b[0m \u001b[38;5;241;43m1\u001b[39;49m\u001b[38;5;241;43m/\u001b[39;49m\u001b[38;5;241;43m0\u001b[39;49m\n",
      "\u001b[0;31mZeroDivisionError\u001b[0m: division by zero"
     ]
    }
   ],
   "source": [
    "1/0"
   ]
  },
  {
   "cell_type": "code",
   "execution_count": 6,
   "metadata": {},
   "outputs": [],
   "source": [
    "# look for log.txt\n",
    "f = '../deleteme.txt'\n",
    "text_log = open(f).read()"
   ]
  },
  {
   "cell_type": "code",
   "execution_count": 17,
   "metadata": {},
   "outputs": [
    {
     "name": "stdout",
     "output_type": "stream",
     "text": [
      "| acc_inc/eval_ds [pp]   |   train |   test |   oos |    rnd |\n",
      "|:-----------------------|--------:|-------:|------:|-------:|| side-ETHER-PrefVec_us_history_textbook |   2.209 |   0.84 | 3.891 | 1.072 |\n",
      "| side-ETHER-PrefVec_us_history_textbook |   0.789 |  0.674 | 7.203 | 0.279 |\n",
      "| side-ETHER-PrefVec_us_history_textbook |   0.169 |      0 | 1.508 |  0.14 |\n",
      "| side-ETHER-PrefVec_us_history_textbook |    1.07 | -0.809 | -1.173 | -1.117 |\n",
      "| side-ETHER-PrefVec_us_history_textbook |   0.789 |  0.674 | 7.035 | 0.279 |\n",
      "| side-ETHER-PrefVec_us_history_textbook |   0.282 |  0.135 |  2.68 |  0.14 |\n",
      "| side-ETHER-PrefVec_us_history_textbook |   0.789 |  0.674 | 7.203 |     0 |\n",
      "| side-ETHER-MSE_us_history_textbook |  -0.056 |      0 | 0.168 |     0 |\n",
      "| side-ETHER-PrefVec_us_history_textbook |   0.113 |      0 | 1.675 |  0.14 |\n",
      "| side-None-MSE_us_history_textbook |  -0.056 |      0 |     0 |     0 |\n",
      "| side-None-PrefVec_us_history_textbook |   0.169 |      0 | 1.843 |  0.14 |\n",
      "| side-None-PrefVec_us_history_textbook |   0.958 |  0.539 | 8.878 | 0.559 |\n",
      "| side-None-Rank_us_history_textbook |   0.282 |      0 | 1.508 |  0.14 |\n",
      "| side-None-MSE_us_history_textbook |  -0.056 |      0 | 0.503 |     0 |\n",
      "| side-ETHER-Rank_us_history_textbook |   0.056 |      0 |  1.34 |  0.14 |\n",
      "| side-ETHER-PrefVec_us_history_textbook |   0.958 |  0.539 | 11.055 |  0.14 |\n",
      "| side-HRA-PrefVec_us_history_textbook |   1.183 |  0.539 | 9.213 | -0.559 |\n",
      "| side-Ortho-PrefVec_us_history_textbook |   0.901 |  0.404 | 9.548 | -0.419 |\n",
      "| side-SVD-PrefVec_us_history_textbook |   1.014 |  0.539 | 10.05 |     0 |\n",
      "| dpo_us_history_textbook |   1.352 |  0.674 | 10.72 | 0.698 |\n",
      "| side-None-MSE_alpaca_easy |   0.114 |  0.139 |  0.18 |     0 |\n",
      "| side-ETHER-PrefVec_alpaca_easy |   2.457 |  2.371 | 3.417 |     0 |\n",
      "| side-None-PrefVec_alpaca_easy |   0.457 | -0.139 |  0.36 |  0.14 |\n",
      "| dpo_alpaca_easy        |   2.343 |  2.232 |  0.18 | 0.559 |\n",
      "| side-None-MSE_alpaca_mmlu |   0.144 |  0.177 | -0.38 | 0.335 |\n",
      "| side-ETHER-PrefVec_alpaca_mmlu |   5.844 |  3.534 |  0.19 |     0 |\n",
      "| side-None-PrefVec_alpaca_mmlu |   1.299 |  0.177 |     0 |     0 |\n",
      "| dpo_alpaca_mmlu        |  14.574 |  9.894 | 6.844 |  -6.7 |\n",
      "| side-None-MSE_alpaca_low_quality |       0 |      0 |     0 |     0 |\n",
      "| side-ETHER-PrefVec_alpaca_low_quality |   8.213 |  6.182 | 6.173 | -1.536 |\n",
      "| side-None-PrefVec_alpaca_low_quality |   0.526 |  0.309 |     0 |     0 |\n",
      "| dpo_alpaca_low_quality |  16.426 | 13.447 | 13.58 | -3.073 |\n",
      "| side-None-MSE_alpaca_short |  -0.194 |      0 |     0 |     0 |\n",
      "| side-ETHER-PrefVec_alpaca_short |   7.171 |  5.023 |   -25 | -0.279 |\n",
      "| side-None-PrefVec_alpaca_short |   0.581 |  0.457 |     0 | 0.279 |\n",
      "| dpo_alpaca_short       |  15.891 | 14.155 |  -100 | -29.469 |\n",
      "| side-None-MSE_code_easy |       0 |      0 |     0 |     0 |\n",
      "| side-ETHER-PrefVec_code_easy |   1.302 |  0.678 | 1.706 | -0.14 |\n",
      "| side-None-PrefVec_code_easy |   0.113 |  0.136 | 0.341 |  0.14 |\n",
      "| dpo_code_easy          |   1.359 |  0.136 | 0.853 |  0.14 |\n",
      "| side-None-MSE_alpaca_mmlu |   0.433 |  0.177 | -0.76 | 0.503 |\n",
      "| side-ETHER-PrefVec_alpaca_mmlu |     5.7 |  1.767 | -1.711 | -0.67 |\n",
      "| side-None-PrefVec_alpaca_mmlu |   1.371 |  0.177 |  0.19 | 0.503 |\n",
      "| dpo_alpaca_mmlu        |  13.997 |  9.717 | 6.464 | -6.365 |\n",
      "| side-None-MSE_math     |  -0.124 |      0 |     0 |  0.14 |\n"
     ]
    }
   ],
   "source": [
    "# just extract the key metric from table 3\n",
    "\n",
    "# Regular expression to match the table row\n",
    "table_row_pattern = re.compile(r'(.+)\\nTable 3⭐')\n",
    "\n",
    "# Find the table row\n",
    "match = table_row_pattern.findall(text_log)\n",
    "header = \"\"\"| acc_inc/eval_ds [pp]   |   train |   test |   oos |    rnd |\n",
    "|:-----------------------|--------:|-------:|------:|-------:|\"\"\"\n",
    "s = header + '\\n'.join(match)\n",
    "print(s)"
   ]
  },
  {
   "cell_type": "code",
   "execution_count": null,
   "metadata": {},
   "outputs": [],
   "source": []
  },
  {
   "cell_type": "code",
   "execution_count": null,
   "metadata": {},
   "outputs": [],
   "source": []
  }
 ],
 "metadata": {
  "kernelspec": {
   "display_name": ".venv",
   "language": "python",
   "name": "python3"
  },
  "language_info": {
   "codemirror_mode": {
    "name": "ipython",
    "version": 3
   },
   "file_extension": ".py",
   "mimetype": "text/x-python",
   "name": "python",
   "nbconvert_exporter": "python",
   "pygments_lexer": "ipython3",
   "version": "3.11.10"
  }
 },
 "nbformat": 4,
 "nbformat_minor": 2
}
