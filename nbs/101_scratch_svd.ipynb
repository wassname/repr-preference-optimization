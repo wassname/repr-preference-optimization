{
 "cells": [
  {
   "cell_type": "code",
   "execution_count": 1,
   "metadata": {},
   "outputs": [],
   "source": [
    "import torch\n",
    "from torch import nn\n",
    "from torch.nn import functional as F\n",
    "from reprpo.models.load import load_model\n",
    "\n",
    "import os\n",
    "os.environ['TOKENIZERS_PARALLELISM']='false'\n",
    "os.environ[\"CUDA_VISIBLE_DEVICES\"] = \"0\""
   ]
  },
  {
   "cell_type": "code",
   "execution_count": 2,
   "metadata": {},
   "outputs": [
    {
     "data": {
      "application/vnd.jupyter.widget-view+json": {
       "model_id": "1662300c5a494568bb71c406152a9b58",
       "version_major": 2,
       "version_minor": 0
      },
      "text/plain": [
       "Loading checkpoint shards:   0%|          | 0/4 [00:00<?, ?it/s]"
      ]
     },
     "metadata": {},
     "output_type": "display_data"
    },
    {
     "data": {
      "text/plain": [
       "LlamaForCausalLM(\n",
       "  (model): LlamaModel(\n",
       "    (embed_tokens): Embedding(128256, 4096)\n",
       "    (layers): ModuleList(\n",
       "      (0-31): 32 x LlamaDecoderLayer(\n",
       "        (self_attn): LlamaFlashAttention2(\n",
       "          (q_proj): Linear(in_features=4096, out_features=4096, bias=False)\n",
       "          (k_proj): Linear(in_features=4096, out_features=1024, bias=False)\n",
       "          (v_proj): Linear(in_features=4096, out_features=1024, bias=False)\n",
       "          (o_proj): Linear(in_features=4096, out_features=4096, bias=False)\n",
       "          (rotary_emb): LlamaRotaryEmbedding()\n",
       "        )\n",
       "        (mlp): LlamaMLP(\n",
       "          (gate_proj): Linear(in_features=4096, out_features=14336, bias=False)\n",
       "          (up_proj): Linear(in_features=4096, out_features=14336, bias=False)\n",
       "          (down_proj): Linear(in_features=14336, out_features=4096, bias=False)\n",
       "          (act_fn): SiLU()\n",
       "        )\n",
       "        (input_layernorm): LlamaRMSNorm()\n",
       "        (post_attention_layernorm): LlamaRMSNorm()\n",
       "      )\n",
       "    )\n",
       "    (norm): LlamaRMSNorm()\n",
       "    (rotary_emb): LlamaRotaryEmbedding()\n",
       "  )\n",
       "  (lm_head): Linear(in_features=4096, out_features=128256, bias=False)\n",
       ")"
      ]
     },
     "execution_count": 2,
     "metadata": {},
     "output_type": "execute_result"
    }
   ],
   "source": [
    "model_name = 'TinyLlama/TinyLlama-1.1B-Chat-v1.0'\n",
    "model_name = \"NousResearch/Meta-Llama-3.1-8B-Instruct\"\n",
    "# model_name = \"NousResearch/Meta-Llama-3.1-8B\"\n",
    "# model_name: str = \"microsoft/Phi-3-mini-4k-instruct\" # small instruct model\n",
    "# model_name: str = \"google/gemma-2-2b\" # small base model\n",
    "model, tokenizer = load_model(model_name, \n",
    "                              load_in_4bit=False,\n",
    "                            #   attn_implementation=\"eager\", \n",
    "                            #   torch_dtype=torch.float32,\n",
    "                              )\n",
    "model = model.cuda().eval()\n",
    "model"
   ]
  },
  {
   "cell_type": "code",
   "execution_count": 27,
   "metadata": {},
   "outputs": [
    {
     "name": "stderr",
     "output_type": "stream",
     "text": [
      "The attention mask and the pad token id were not set. As a consequence, you may observe unexpected behavior. Please pass your input's `attention_mask` to obtain reliable results.\n",
      "Setting `pad_token_id` to `eos_token_id`:128001 for open-end generation.\n"
     ]
    },
    {
     "ename": "TypeError",
     "evalue": "argument 'ids': 'list' object cannot be interpreted as an integer",
     "output_type": "error",
     "traceback": [
      "\u001b[0;31m---------------------------------------------------------------------------\u001b[0m",
      "\u001b[0;31mTypeError\u001b[0m                                 Traceback (most recent call last)",
      "Cell \u001b[0;32mIn[27], line 2\u001b[0m\n\u001b[1;32m      1\u001b[0m o \u001b[38;5;241m=\u001b[39m model\u001b[38;5;241m.\u001b[39mgenerate(inputs[\u001b[38;5;124m'\u001b[39m\u001b[38;5;124minput_ids\u001b[39m\u001b[38;5;124m'\u001b[39m], max_length\u001b[38;5;241m=\u001b[39m\u001b[38;5;241m120\u001b[39m, return_dict_in_generate\u001b[38;5;241m=\u001b[39m\u001b[38;5;28;01mTrue\u001b[39;00m)\n\u001b[0;32m----> 2\u001b[0m \u001b[38;5;28mprint\u001b[39m(\u001b[43mtokenizer\u001b[49m\u001b[38;5;241;43m.\u001b[39;49m\u001b[43mdecode\u001b[49m\u001b[43m(\u001b[49m\u001b[43mo\u001b[49m\u001b[43m[\u001b[49m\u001b[38;5;241;43m0\u001b[39;49m\u001b[43m]\u001b[49m\u001b[43m,\u001b[49m\u001b[43m \u001b[49m\u001b[43mskip_special_tokens\u001b[49m\u001b[38;5;241;43m=\u001b[39;49m\u001b[38;5;28;43;01mTrue\u001b[39;49;00m\u001b[43m)\u001b[49m)\n",
      "File \u001b[0;32m/media/wassname/SGIronWolf/projects5/elk/repr-preference-optimization/.venv/lib/python3.9/site-packages/transformers/tokenization_utils_base.py:4034\u001b[0m, in \u001b[0;36mPreTrainedTokenizerBase.decode\u001b[0;34m(self, token_ids, skip_special_tokens, clean_up_tokenization_spaces, **kwargs)\u001b[0m\n\u001b[1;32m   4031\u001b[0m \u001b[38;5;66;03m# Convert inputs to python lists\u001b[39;00m\n\u001b[1;32m   4032\u001b[0m token_ids \u001b[38;5;241m=\u001b[39m to_py_obj(token_ids)\n\u001b[0;32m-> 4034\u001b[0m \u001b[38;5;28;01mreturn\u001b[39;00m \u001b[38;5;28;43mself\u001b[39;49m\u001b[38;5;241;43m.\u001b[39;49m\u001b[43m_decode\u001b[49m\u001b[43m(\u001b[49m\n\u001b[1;32m   4035\u001b[0m \u001b[43m    \u001b[49m\u001b[43mtoken_ids\u001b[49m\u001b[38;5;241;43m=\u001b[39;49m\u001b[43mtoken_ids\u001b[49m\u001b[43m,\u001b[49m\n\u001b[1;32m   4036\u001b[0m \u001b[43m    \u001b[49m\u001b[43mskip_special_tokens\u001b[49m\u001b[38;5;241;43m=\u001b[39;49m\u001b[43mskip_special_tokens\u001b[49m\u001b[43m,\u001b[49m\n\u001b[1;32m   4037\u001b[0m \u001b[43m    \u001b[49m\u001b[43mclean_up_tokenization_spaces\u001b[49m\u001b[38;5;241;43m=\u001b[39;49m\u001b[43mclean_up_tokenization_spaces\u001b[49m\u001b[43m,\u001b[49m\n\u001b[1;32m   4038\u001b[0m \u001b[43m    \u001b[49m\u001b[38;5;241;43m*\u001b[39;49m\u001b[38;5;241;43m*\u001b[39;49m\u001b[43mkwargs\u001b[49m\u001b[43m,\u001b[49m\n\u001b[1;32m   4039\u001b[0m \u001b[43m\u001b[49m\u001b[43m)\u001b[49m\n",
      "File \u001b[0;32m/media/wassname/SGIronWolf/projects5/elk/repr-preference-optimization/.venv/lib/python3.9/site-packages/transformers/tokenization_utils_fast.py:651\u001b[0m, in \u001b[0;36mPreTrainedTokenizerFast._decode\u001b[0;34m(self, token_ids, skip_special_tokens, clean_up_tokenization_spaces, **kwargs)\u001b[0m\n\u001b[1;32m    649\u001b[0m \u001b[38;5;28;01mif\u001b[39;00m \u001b[38;5;28misinstance\u001b[39m(token_ids, \u001b[38;5;28mint\u001b[39m):\n\u001b[1;32m    650\u001b[0m     token_ids \u001b[38;5;241m=\u001b[39m [token_ids]\n\u001b[0;32m--> 651\u001b[0m text \u001b[38;5;241m=\u001b[39m \u001b[38;5;28;43mself\u001b[39;49m\u001b[38;5;241;43m.\u001b[39;49m\u001b[43m_tokenizer\u001b[49m\u001b[38;5;241;43m.\u001b[39;49m\u001b[43mdecode\u001b[49m\u001b[43m(\u001b[49m\u001b[43mtoken_ids\u001b[49m\u001b[43m,\u001b[49m\u001b[43m \u001b[49m\u001b[43mskip_special_tokens\u001b[49m\u001b[38;5;241;43m=\u001b[39;49m\u001b[43mskip_special_tokens\u001b[49m\u001b[43m)\u001b[49m\n\u001b[1;32m    653\u001b[0m clean_up_tokenization_spaces \u001b[38;5;241m=\u001b[39m (\n\u001b[1;32m    654\u001b[0m     clean_up_tokenization_spaces\n\u001b[1;32m    655\u001b[0m     \u001b[38;5;28;01mif\u001b[39;00m clean_up_tokenization_spaces \u001b[38;5;129;01mis\u001b[39;00m \u001b[38;5;129;01mnot\u001b[39;00m \u001b[38;5;28;01mNone\u001b[39;00m\n\u001b[1;32m    656\u001b[0m     \u001b[38;5;28;01melse\u001b[39;00m \u001b[38;5;28mself\u001b[39m\u001b[38;5;241m.\u001b[39mclean_up_tokenization_spaces\n\u001b[1;32m    657\u001b[0m )\n\u001b[1;32m    658\u001b[0m \u001b[38;5;28;01mif\u001b[39;00m clean_up_tokenization_spaces:\n",
      "\u001b[0;31mTypeError\u001b[0m: argument 'ids': 'list' object cannot be interpreted as an integer"
     ]
    }
   ],
   "source": [
    "o = model.generate(inputs['input_ids'], max_length=120, return_dict_in_generate=True)\n",
    "print(tokenizer.decode(o[0], skip_special_tokens=True))"
   ]
  },
  {
   "cell_type": "code",
   "execution_count": 3,
   "metadata": {},
   "outputs": [],
   "source": [
    "model.eval()\n",
    "# disable gradients\n",
    "for param in model.parameters():\n",
    "    param.requires_grad = False"
   ]
  },
  {
   "cell_type": "code",
   "execution_count": 4,
   "metadata": {},
   "outputs": [],
   "source": [
    "input = \"Allowing for these cautions, we may derive endless instruction from the economic analysis of the past. We observe that the invading barbarians found Rome weak because the agricultural population which had formerly supplied the legions with hardy and patriotic warriors fighting for land had been replaced by slaves laboring listlessly on vast farms owned by one man or a few. \"\n",
    "\n",
    "# now collect hidden states\n",
    "inputs = tokenizer(input, return_tensors=\"pt\")\n",
    "inputs = {\n",
    "    'input_ids': tokenizer.apply_chat_template([{\"role\": \"user\", \"content\": input}], return_tensors=\"pt\").cuda()\n",
    "}\n",
    "outputs = model(**inputs, return_dict=True, output_hidden_states=True)\n",
    "hs = outputs.hidden_states"
   ]
  },
  {
   "cell_type": "code",
   "execution_count": 26,
   "metadata": {},
   "outputs": [
    {
     "data": {
      "text/plain": [
       "(torch.Size([1, 80, 128256]), torch.Size([1, 80]))"
      ]
     },
     "execution_count": 26,
     "metadata": {},
     "output_type": "execute_result"
    }
   ],
   "source": [
    "outputs.logits.shape, t.shape"
   ]
  },
  {
   "cell_type": "code",
   "execution_count": 24,
   "metadata": {},
   "outputs": [
    {
     "name": "stdout",
     "output_type": "stream",
     "text": [
      "Allowing for these cautions, we may derive endless instruction from the economic analysis of the past. We observe that the invading barbarians found Rome weak because the agricultural population which had formerly supplied the legions with hardy and patriotic warriors fighting for land had been replaced by slaves laboring listlessly on vast farms owned by one man or a few. \n",
      "\n",
      "Question<|start_header_id|>\n",
      "\n",
      "<|start_header_id|>## me for the twoutions, the can say a possibilities from the lives history of the past.<|eot_id|> may that the economic forcesian of it in and of Roman sector was had been been the legions was soldiersy soldiers well soldiers was for the and been largely by a.ing inlessly in the estates. by absentee or. a few. The<|start_header_id|>assistant<|end_header_id|>\n",
      "\n",
      "It\n"
     ]
    }
   ],
   "source": [
    "t = outputs.logits.softmax(-1).argmax(-1)\n",
    "print(input)\n",
    "print()\n",
    "print(tokenizer.decode(t[0]))"
   ]
  },
  {
   "cell_type": "code",
   "execution_count": 6,
   "metadata": {},
   "outputs": [
    {
     "data": {
      "text/plain": [
       "(torch.Size([1, 33, 80, 4096]), device(type='cpu'))"
      ]
     },
     "execution_count": 6,
     "metadata": {},
     "output_type": "execute_result"
    }
   ],
   "source": [
    "from einops import rearrange, reduce\n",
    "def collect_hs(hs):\n",
    "    \"\"\"The residual stream or hs of the diff of the hs.\"\"\"\n",
    "    hs = rearrange(list(hs), \"l b t h -> l b t h\")\n",
    "    return rearrange(hs, \"l b t h -> b l t h\")\n",
    "\n",
    "hs = collect_hs(outputs.hidden_states).float().cpu()\n",
    "hs.shape, hs.device"
   ]
  },
  {
   "cell_type": "code",
   "execution_count": 7,
   "metadata": {},
   "outputs": [
    {
     "data": {
      "text/plain": [
       "(torch.Size([1, 33, 80, 4096]),\n",
       " torch.Size([1, 32, 80, 4096]),\n",
       " torch.Size([1, 32, 80, 4096]))"
      ]
     },
     "execution_count": 7,
     "metadata": {},
     "output_type": "execute_result"
    }
   ],
   "source": [
    "# hs=hs.diff(1)\n",
    "dhs = hs.diff(dim=1)\n",
    "hs.shape, hs.diff(dim=1).shape, dhs.shape"
   ]
  },
  {
   "cell_type": "code",
   "execution_count": null,
   "metadata": {},
   "outputs": [],
   "source": []
  },
  {
   "cell_type": "code",
   "execution_count": 8,
   "metadata": {},
   "outputs": [],
   "source": [
    "W = model.lm_head.weight.clone().cpu().float()"
   ]
  },
  {
   "cell_type": "code",
   "execution_count": 9,
   "metadata": {},
   "outputs": [
    {
     "name": "stdout",
     "output_type": "stream",
     "text": [
      "1 Allowing for these cautions, we may derive endless instruction from the economic analysis of the past. We observe that the invading barbarians found Rome weak because the agricultural population which had formerly supplied the legions with hardy and patriotic warriors fighting for land had been replaced by slaves laboring listlessly on vast farms owned by one man or a few. \n",
      "2 dhs.cumsum Question<|start_header_id|>\n",
      "\n",
      "<|start_header_id|>## me for the changesutions, the can say a possibilities from the lives history of the past.<|eot_id|> may that the economic forcesian of it in and of Roman sector was had been been the legions was soldiersy soldiers well soldiers was for their and been largely by a.ing inlessly in the estates. by absentee or. a few. The<|start_header_id|>assistant<|end_header_id|>\n",
      "\n",
      "It\n",
      "2 hs Question<|start_header_id|>\n",
      "\n",
      "<|start_header_id|>## me for the changesutions, the can say a possibilities from the lives history of the past.<|eot_id|> may that the economic forcesian of it in and of Roman sector was had been been the legions was soldiersy soldiers well soldiers was for their and been largely by a.ing inlessly in the estates. by absentee or. a few. The<|start_header_id|>assistant<|end_header_id|>\n",
      "\n",
      "It\n"
     ]
    }
   ],
   "source": [
    "# test output of hs\n",
    "def get_output(hs, W):\n",
    "    o = F.linear(hs, W)\n",
    "    y = o.softmax(-1).argmax(-1)\n",
    "    s = tokenizer.decode(y[0])\n",
    "    return s\n",
    "\n",
    "print('1', input)\n",
    "chs = dhs.cumsum(dim=1)[:, -1]\n",
    "baseline = get_output(chs, W)\n",
    "print('2 dhs.cumsum', baseline)\n",
    "\n",
    "baseline = get_output(hs[:, -1], W)\n",
    "print('2 hs', baseline)"
   ]
  },
  {
   "cell_type": "code",
   "execution_count": 10,
   "metadata": {},
   "outputs": [
    {
     "data": {
      "text/plain": [
       "(torch.Size([128256, 4096]),\n",
       " torch.Size([4096]),\n",
       " torch.Size([4096, 4096]),\n",
       " torch.Size([128256, 4096]),\n",
       " torch.Size([1, 33, 80, 4096]))"
      ]
     },
     "execution_count": 10,
     "metadata": {},
     "output_type": "execute_result"
    }
   ],
   "source": [
    "U, S, Vt = torch.linalg.svd(W, full_matrices=False)\n",
    "U.shape, S.shape, Vt.shape, W.shape, hs.shape"
   ]
  },
  {
   "cell_type": "code",
   "execution_count": 11,
   "metadata": {},
   "outputs": [],
   "source": [
    "import pandas as pd\n",
    "\n",
    "def res(style):\n",
    "    ss = reduce(style.abs(), \"b l t h -> l\", \"mean\")\n",
    "    sh = reduce(dhs.abs(), \"b l t h -> l\", \"mean\")\n",
    "    print(pd.Series((ss/sh).detach().numpy()))\n",
    "    print('magnitude by layer\\n[style, hs]')\n",
    "    print(torch.stack([\n",
    "        # torch.arange(len(ss)), \n",
    "        ss, sh], dim=1).detach().numpy().round(2))\n",
    "        \n",
    "    print('does it remove the style?')\n",
    "    print('1', input)\n",
    "    print('2', baseline)\n",
    "    chs = (dhs-style).cumsum(dim=1)[:, -1]\n",
    "    print('3', get_output(chs, W))\n",
    "    # print('3', get_output((hs-style)[:, -1], W))"
   ]
  },
  {
   "cell_type": "code",
   "execution_count": 12,
   "metadata": {},
   "outputs": [
    {
     "name": "stdout",
     "output_type": "stream",
     "text": [
      "0     0.000004\n",
      "1     0.000015\n",
      "2     0.000003\n",
      "3     0.000003\n",
      "4     0.000003\n",
      "5     0.000003\n",
      "6     0.000003\n",
      "7     0.000003\n",
      "8     0.000003\n",
      "9     0.000003\n",
      "10    0.000003\n",
      "11    0.000003\n",
      "12    0.000003\n",
      "13    0.000003\n",
      "14    0.000003\n",
      "15    0.000003\n",
      "16    0.000003\n",
      "17    0.000003\n",
      "18    0.000003\n",
      "19    0.000003\n",
      "20    0.000003\n",
      "21    0.000003\n",
      "22    0.000003\n",
      "23    0.000003\n",
      "24    0.000003\n",
      "25    0.000003\n",
      "26    0.000003\n",
      "27    0.000003\n",
      "28    0.000003\n",
      "29    0.000003\n",
      "30    0.000003\n",
      "31    0.000003\n",
      "dtype: float32\n",
      "magnitude by layer\n",
      "[style, hs]\n",
      "[[0.   0.01]\n",
      " [0.   0.02]\n",
      " [0.   0.02]\n",
      " [0.   0.02]\n",
      " [0.   0.03]\n",
      " [0.   0.03]\n",
      " [0.   0.04]\n",
      " [0.   0.04]\n",
      " [0.   0.04]\n",
      " [0.   0.04]\n",
      " [0.   0.04]\n",
      " [0.   0.05]\n",
      " [0.   0.05]\n",
      " [0.   0.05]\n",
      " [0.   0.06]\n",
      " [0.   0.06]\n",
      " [0.   0.06]\n",
      " [0.   0.06]\n",
      " [0.   0.06]\n",
      " [0.   0.06]\n",
      " [0.   0.06]\n",
      " [0.   0.07]\n",
      " [0.   0.07]\n",
      " [0.   0.07]\n",
      " [0.   0.08]\n",
      " [0.   0.08]\n",
      " [0.   0.09]\n",
      " [0.   0.1 ]\n",
      " [0.   0.12]\n",
      " [0.   0.15]\n",
      " [0.   0.24]\n",
      " [0.   1.32]]\n",
      "does it remove the style?\n",
      "1 Allowing for these cautions, we may derive endless instruction from the economic analysis of the past. We observe that the invading barbarians found Rome weak because the agricultural population which had formerly supplied the legions with hardy and patriotic warriors fighting for land had been replaced by slaves laboring listlessly on vast farms owned by one man or a few. \n",
      "2 Question<|start_header_id|>\n",
      "\n",
      "<|start_header_id|>## me for the changesutions, the can say a possibilities from the lives history of the past.<|eot_id|> may that the economic forcesian of it in and of Roman sector was had been been the legions was soldiersy soldiers well soldiers was for their and been largely by a.ing inlessly in the estates. by absentee or. a few. The<|start_header_id|>assistant<|end_header_id|>\n",
      "\n",
      "It\n",
      "3 Question<|start_header_id|>\n",
      "\n",
      "<|start_header_id|>## me for the changesutions, the can say a possibilities from the lives history of the past.<|eot_id|> may that the economic forcesian of it in and of Roman sector was had been been the legions was soldiersy soldiers well soldiers was for their and been largely by a.ing inlessly in the estates. by absentee or. a few. The<|start_header_id|>assistant<|end_header_id|>\n",
      "\n",
      "It\n"
     ]
    }
   ],
   "source": [
    "# try null ??\n",
    "dim_vocab, dim_hs = W.shape\n",
    "null_proj = torch.eye(dim_hs) - Vt.T @ Vt\n",
    "style = dhs @ null_proj\n",
    "\n",
    "res(style)"
   ]
  },
  {
   "cell_type": "code",
   "execution_count": 13,
   "metadata": {},
   "outputs": [
    {
     "name": "stdout",
     "output_type": "stream",
     "text": [
      "0     1.353978\n",
      "1     5.086454\n",
      "2     1.047825\n",
      "3     1.015175\n",
      "4     1.013794\n",
      "5     1.007580\n",
      "6     1.007992\n",
      "7     1.012048\n",
      "8     1.009897\n",
      "9     1.012748\n",
      "10    1.015046\n",
      "11    1.010875\n",
      "12    1.079271\n",
      "13    1.008502\n",
      "14    1.005653\n",
      "15    1.024953\n",
      "16    1.032289\n",
      "17    1.025536\n",
      "18    1.029363\n",
      "19    1.033468\n",
      "20    1.006979\n",
      "21    1.046442\n",
      "22    1.022451\n",
      "23    1.034847\n",
      "24    1.016063\n",
      "25    1.020491\n",
      "26    1.035740\n",
      "27    1.026178\n",
      "28    1.015426\n",
      "29    1.015944\n",
      "30    1.020487\n",
      "31    0.996266\n",
      "dtype: float32\n",
      "magnitude by layer\n",
      "[style, hs]\n",
      "[[0.01 0.01]\n",
      " [0.09 0.02]\n",
      " [0.02 0.02]\n",
      " [0.02 0.02]\n",
      " [0.03 0.03]\n",
      " [0.03 0.03]\n",
      " [0.04 0.04]\n",
      " [0.04 0.04]\n",
      " [0.04 0.04]\n",
      " [0.04 0.04]\n",
      " [0.05 0.04]\n",
      " [0.05 0.05]\n",
      " [0.06 0.05]\n",
      " [0.05 0.05]\n",
      " [0.06 0.06]\n",
      " [0.06 0.06]\n",
      " [0.06 0.06]\n",
      " [0.06 0.06]\n",
      " [0.06 0.06]\n",
      " [0.06 0.06]\n",
      " [0.07 0.06]\n",
      " [0.08 0.07]\n",
      " [0.07 0.07]\n",
      " [0.08 0.07]\n",
      " [0.08 0.08]\n",
      " [0.08 0.08]\n",
      " [0.09 0.09]\n",
      " [0.1  0.1 ]\n",
      " [0.13 0.12]\n",
      " [0.16 0.15]\n",
      " [0.25 0.24]\n",
      " [1.32 1.32]]\n",
      "does it remove the style?\n",
      "1 Allowing for these cautions, we may derive endless instruction from the economic analysis of the past. We observe that the invading barbarians found Rome weak because the agricultural population which had formerly supplied the legions with hardy and patriotic warriors fighting for land had been replaced by slaves laboring listlessly on vast farms owned by one man or a few. \n",
      "2 Question<|start_header_id|>\n",
      "\n",
      "<|start_header_id|>## me for the changesutions, the can say a possibilities from the lives history of the past.<|eot_id|> may that the economic forcesian of it in and of Roman sector was had been been the legions was soldiersy soldiers well soldiers was for their and been largely by a.ing inlessly in the estates. by absentee or. a few. The<|start_header_id|>assistant<|end_header_id|>\n",
      "\n",
      "It\n",
      "3 早<|start_header_id|><|end_header_id|><|start_header_id|>Leting   constraintsutions, it must begin from examples from Vir example and of political Soviet and  must that modern basic horians, it, and her latter output was was been been its militaryions was y, robust soldiers, for national, decay dec by poor.ing forlessly for Mediterranean agricultural. by a family, a few, <|start_header_id|>assistant<|end_header_id|>\n",
      "\n",
      "It\n"
     ]
    }
   ],
   "source": [
    "# try Vt\n",
    "style = dhs @ Vt.T\n",
    "res(style)"
   ]
  },
  {
   "cell_type": "code",
   "execution_count": 14,
   "metadata": {},
   "outputs": [
    {
     "name": "stdout",
     "output_type": "stream",
     "text": [
      "0     0.863895\n",
      "1     2.965058\n",
      "2     0.723267\n",
      "3     0.709444\n",
      "4     0.707042\n",
      "5     0.707301\n",
      "6     0.709568\n",
      "7     0.709074\n",
      "8     0.711966\n",
      "9     0.714133\n",
      "10    0.714918\n",
      "11    0.709544\n",
      "12    0.739137\n",
      "13    0.707523\n",
      "14    0.708036\n",
      "15    0.709747\n",
      "16    0.715255\n",
      "17    0.707653\n",
      "18    0.711792\n",
      "19    0.713587\n",
      "20    0.708771\n",
      "21    0.719932\n",
      "22    0.704214\n",
      "23    0.713425\n",
      "24    0.710332\n",
      "25    0.719369\n",
      "26    0.718774\n",
      "27    0.728175\n",
      "28    0.731280\n",
      "29    0.751576\n",
      "30    0.788708\n",
      "31    0.884895\n",
      "dtype: float32\n",
      "magnitude by layer\n",
      "[style, hs]\n",
      "[[0.01 0.01]\n",
      " [0.05 0.02]\n",
      " [0.01 0.02]\n",
      " [0.02 0.02]\n",
      " [0.02 0.03]\n",
      " [0.02 0.03]\n",
      " [0.03 0.04]\n",
      " [0.03 0.04]\n",
      " [0.03 0.04]\n",
      " [0.03 0.04]\n",
      " [0.03 0.04]\n",
      " [0.03 0.05]\n",
      " [0.04 0.05]\n",
      " [0.04 0.05]\n",
      " [0.04 0.06]\n",
      " [0.04 0.06]\n",
      " [0.04 0.06]\n",
      " [0.04 0.06]\n",
      " [0.04 0.06]\n",
      " [0.04 0.06]\n",
      " [0.05 0.06]\n",
      " [0.05 0.07]\n",
      " [0.05 0.07]\n",
      " [0.05 0.07]\n",
      " [0.05 0.08]\n",
      " [0.06 0.08]\n",
      " [0.06 0.09]\n",
      " [0.07 0.1 ]\n",
      " [0.09 0.12]\n",
      " [0.12 0.15]\n",
      " [0.19 0.24]\n",
      " [1.17 1.32]]\n",
      "does it remove the style?\n",
      "1 Allowing for these cautions, we may derive endless instruction from the economic analysis of the past. We observe that the invading barbarians found Rome weak because the agricultural population which had formerly supplied the legions with hardy and patriotic warriors fighting for land had been replaced by slaves laboring listlessly on vast farms owned by one man or a few. \n",
      "2 Question<|start_header_id|>\n",
      "\n",
      "<|start_header_id|>## me for the changesutions, the can say a possibilities from the lives history of the past.<|eot_id|> may that the economic forcesian of it in and of Roman sector was had been been the legions was soldiersy soldiers well soldiers was for their and been largely by a.ing inlessly in the estates. by absentee or. a few. The<|start_header_id|>assistant<|end_header_id|>\n",
      "\n",
      "It\n",
      "3 System<|start_header_id|><|end_header_id|><|start_header_id|>1, ( ( (utions, ( ( pass ( (, ( (,, ( (, ( ( ( ( ( (ians, (,, \" ( output, supported slowly produced Rome urbanions, meny fighting rem (, in \", rec dec, urban,iously inlessly, lat commercial, almost spec,, a group, (<|start_header_id|>assistant<|end_header_id|> |\n",
      "\n",
      "A\n"
     ]
    }
   ],
   "source": [
    "k = 2040  # Adjust rank as needed\n",
    "hs_proj = dhs @ Vt.T[:, :k]  # Project onto lower-rank subspace\n",
    "hs_reconstructed = hs_proj @ Vt[:k, :]  # Reconstruct\n",
    "style = dhs - hs_reconstructed  # Residual = hypothesized 'style'\n",
    "\n",
    "res(style)"
   ]
  },
  {
   "cell_type": "code",
   "execution_count": 15,
   "metadata": {},
   "outputs": [
    {
     "name": "stdout",
     "output_type": "stream",
     "text": [
      "0     0.000004\n",
      "1     0.000012\n",
      "2     0.000003\n",
      "3     0.000003\n",
      "4     0.000003\n",
      "5     0.000003\n",
      "6     0.000003\n",
      "7     0.000003\n",
      "8     0.000003\n",
      "9     0.000003\n",
      "10    0.000003\n",
      "11    0.000003\n",
      "12    0.000003\n",
      "13    0.000003\n",
      "14    0.000003\n",
      "15    0.000003\n",
      "16    0.000003\n",
      "17    0.000003\n",
      "18    0.000003\n",
      "19    0.000003\n",
      "20    0.000003\n",
      "21    0.000003\n",
      "22    0.000003\n",
      "23    0.000003\n",
      "24    0.000003\n",
      "25    0.000003\n",
      "26    0.000003\n",
      "27    0.000003\n",
      "28    0.000003\n",
      "29    0.000003\n",
      "30    0.000003\n",
      "31    0.000003\n",
      "dtype: float32\n",
      "magnitude by layer\n",
      "[style, hs]\n",
      "[[0.   0.01]\n",
      " [0.   0.02]\n",
      " [0.   0.02]\n",
      " [0.   0.02]\n",
      " [0.   0.03]\n",
      " [0.   0.03]\n",
      " [0.   0.04]\n",
      " [0.   0.04]\n",
      " [0.   0.04]\n",
      " [0.   0.04]\n",
      " [0.   0.04]\n",
      " [0.   0.05]\n",
      " [0.   0.05]\n",
      " [0.   0.05]\n",
      " [0.   0.06]\n",
      " [0.   0.06]\n",
      " [0.   0.06]\n",
      " [0.   0.06]\n",
      " [0.   0.06]\n",
      " [0.   0.06]\n",
      " [0.   0.06]\n",
      " [0.   0.07]\n",
      " [0.   0.07]\n",
      " [0.   0.07]\n",
      " [0.   0.08]\n",
      " [0.   0.08]\n",
      " [0.   0.09]\n",
      " [0.   0.1 ]\n",
      " [0.   0.12]\n",
      " [0.   0.15]\n",
      " [0.   0.24]\n",
      " [0.   1.32]]\n",
      "does it remove the style?\n",
      "1 Allowing for these cautions, we may derive endless instruction from the economic analysis of the past. We observe that the invading barbarians found Rome weak because the agricultural population which had formerly supplied the legions with hardy and patriotic warriors fighting for land had been replaced by slaves laboring listlessly on vast farms owned by one man or a few. \n",
      "2 Question<|start_header_id|>\n",
      "\n",
      "<|start_header_id|>## me for the changesutions, the can say a possibilities from the lives history of the past.<|eot_id|> may that the economic forcesian of it in and of Roman sector was had been been the legions was soldiersy soldiers well soldiers was for their and been largely by a.ing inlessly in the estates. by absentee or. a few. The<|start_header_id|>assistant<|end_header_id|>\n",
      "\n",
      "It\n",
      "3 Question<|start_header_id|>\n",
      "\n",
      "<|start_header_id|>## me for the changesutions, the can say a possibilities from the lives history of the past.<|eot_id|> may that the economic forcesian of it in and of Roman sector was had been been the legions was soldiersy soldiers well soldiers was for their and been largely by a.ing inlessly in the estates. by absentee or. a few. The<|start_header_id|>assistant<|end_header_id|>\n",
      "\n",
      "It\n"
     ]
    }
   ],
   "source": [
    "P = Vt @ Vt.T\n",
    "\n",
    "# Step 4: Remove the input and output projections from the hidden state\n",
    "style = dhs - dhs @ P\n",
    "\n",
    "res(style)"
   ]
  },
  {
   "cell_type": "code",
   "execution_count": 16,
   "metadata": {},
   "outputs": [
    {
     "name": "stdout",
     "output_type": "stream",
     "text": [
      "0     0.000004\n",
      "1     0.000014\n",
      "2     0.000003\n",
      "3     0.000003\n",
      "4     0.000003\n",
      "5     0.000003\n",
      "6     0.000003\n",
      "7     0.000003\n",
      "8     0.000003\n",
      "9     0.000003\n",
      "10    0.000003\n",
      "11    0.000003\n",
      "12    0.000003\n",
      "13    0.000003\n",
      "14    0.000003\n",
      "15    0.000003\n",
      "16    0.000003\n",
      "17    0.000003\n",
      "18    0.000003\n",
      "19    0.000003\n",
      "20    0.000003\n",
      "21    0.000003\n",
      "22    0.000003\n",
      "23    0.000003\n",
      "24    0.000003\n",
      "25    0.000003\n",
      "26    0.000004\n",
      "27    0.000003\n",
      "28    0.000003\n",
      "29    0.000003\n",
      "30    0.000004\n",
      "31    0.000004\n",
      "dtype: float32\n",
      "magnitude by layer\n",
      "[style, hs]\n",
      "[[0.   0.01]\n",
      " [0.   0.02]\n",
      " [0.   0.02]\n",
      " [0.   0.02]\n",
      " [0.   0.03]\n",
      " [0.   0.03]\n",
      " [0.   0.04]\n",
      " [0.   0.04]\n",
      " [0.   0.04]\n",
      " [0.   0.04]\n",
      " [0.   0.04]\n",
      " [0.   0.05]\n",
      " [0.   0.05]\n",
      " [0.   0.05]\n",
      " [0.   0.06]\n",
      " [0.   0.06]\n",
      " [0.   0.06]\n",
      " [0.   0.06]\n",
      " [0.   0.06]\n",
      " [0.   0.06]\n",
      " [0.   0.06]\n",
      " [0.   0.07]\n",
      " [0.   0.07]\n",
      " [0.   0.07]\n",
      " [0.   0.08]\n",
      " [0.   0.08]\n",
      " [0.   0.09]\n",
      " [0.   0.1 ]\n",
      " [0.   0.12]\n",
      " [0.   0.15]\n",
      " [0.   0.24]\n",
      " [0.   1.32]]\n",
      "does it remove the style?\n",
      "1 Allowing for these cautions, we may derive endless instruction from the economic analysis of the past. We observe that the invading barbarians found Rome weak because the agricultural population which had formerly supplied the legions with hardy and patriotic warriors fighting for land had been replaced by slaves laboring listlessly on vast farms owned by one man or a few. \n",
      "2 Question<|start_header_id|>\n",
      "\n",
      "<|start_header_id|>## me for the changesutions, the can say a possibilities from the lives history of the past.<|eot_id|> may that the economic forcesian of it in and of Roman sector was had been been the legions was soldiersy soldiers well soldiers was for their and been largely by a.ing inlessly in the estates. by absentee or. a few. The<|start_header_id|>assistant<|end_header_id|>\n",
      "\n",
      "It\n",
      "3 Question<|start_header_id|>\n",
      "\n",
      "<|start_header_id|>## me for the changesutions, the can say a possibilities from the lives history of the past.<|eot_id|> may that the economic forcesian of it in and of Roman sector was had been been the legions was soldiersy soldiers well soldiers was for their and been largely by a.ing inlessly in the estates. by absentee or. a few. The<|start_header_id|>assistant<|end_header_id|>\n",
      "\n",
      "It\n"
     ]
    }
   ],
   "source": [
    "P = U.T @ U\n",
    "\n",
    "    # Step 4: Remove the input and output projections from the hidden state\n",
    "style = dhs - dhs @ P\n",
    "\n",
    "res(style)"
   ]
  },
  {
   "cell_type": "code",
   "execution_count": null,
   "metadata": {},
   "outputs": [],
   "source": []
  },
  {
   "cell_type": "code",
   "execution_count": 17,
   "metadata": {},
   "outputs": [
    {
     "name": "stdout",
     "output_type": "stream",
     "text": [
      "0     0.862669\n",
      "1     2.963905\n",
      "2     0.722021\n",
      "3     0.708170\n",
      "4     0.705835\n",
      "5     0.706041\n",
      "6     0.708184\n",
      "7     0.707444\n",
      "8     0.710531\n",
      "9     0.712534\n",
      "10    0.713556\n",
      "11    0.708128\n",
      "12    0.738022\n",
      "13    0.706027\n",
      "14    0.706641\n",
      "15    0.708230\n",
      "16    0.713890\n",
      "17    0.706300\n",
      "18    0.710375\n",
      "19    0.712168\n",
      "20    0.707526\n",
      "21    0.718586\n",
      "22    0.702887\n",
      "23    0.711881\n",
      "24    0.709103\n",
      "25    0.718183\n",
      "26    0.717469\n",
      "27    0.726947\n",
      "28    0.730050\n",
      "29    0.750640\n",
      "30    0.788104\n",
      "31    0.884468\n",
      "dtype: float32\n",
      "magnitude by layer\n",
      "[style, hs]\n",
      "[[0.01 0.01]\n",
      " [0.05 0.02]\n",
      " [0.01 0.02]\n",
      " [0.02 0.02]\n",
      " [0.02 0.03]\n",
      " [0.02 0.03]\n",
      " [0.03 0.04]\n",
      " [0.03 0.04]\n",
      " [0.03 0.04]\n",
      " [0.03 0.04]\n",
      " [0.03 0.04]\n",
      " [0.03 0.05]\n",
      " [0.04 0.05]\n",
      " [0.04 0.05]\n",
      " [0.04 0.06]\n",
      " [0.04 0.06]\n",
      " [0.04 0.06]\n",
      " [0.04 0.06]\n",
      " [0.04 0.06]\n",
      " [0.04 0.06]\n",
      " [0.05 0.06]\n",
      " [0.05 0.07]\n",
      " [0.05 0.07]\n",
      " [0.05 0.07]\n",
      " [0.05 0.08]\n",
      " [0.06 0.08]\n",
      " [0.06 0.09]\n",
      " [0.07 0.1 ]\n",
      " [0.09 0.12]\n",
      " [0.12 0.15]\n",
      " [0.19 0.24]\n",
      " [1.17 1.32]]\n",
      "does it remove the style?\n",
      "1 Allowing for these cautions, we may derive endless instruction from the economic analysis of the past. We observe that the invading barbarians found Rome weak because the agricultural population which had formerly supplied the legions with hardy and patriotic warriors fighting for land had been replaced by slaves laboring listlessly on vast farms owned by one man or a few. \n",
      "2 Question<|start_header_id|>\n",
      "\n",
      "<|start_header_id|>## me for the changesutions, the can say a possibilities from the lives history of the past.<|eot_id|> may that the economic forcesian of it in and of Roman sector was had been been the legions was soldiersy soldiers well soldiers was for their and been largely by a.ing inlessly in the estates. by absentee or. a few. The<|start_header_id|>assistant<|end_header_id|>\n",
      "\n",
      "It\n",
      "3 Portland<|start_header_id|><|end_header_id|><|start_header_id|>1, ( ( (utions, ( ( pass ( (, ( (,, ( (, ( ( ( ( ( (ians, (,, \" ( output, supported slowly produced Rome urbanions, meny fighting rem (, in \", rec dec, urban,iously inlessly, lat commercial, almost spec,, a group, (<|start_header_id|>assistant<|end_header_id|> |\n",
      "\n",
      "A\n"
     ]
    }
   ],
   "source": [
    "k = 2048-0  # Adjust rank as needed\n",
    "hs_proj = dhs @ Vt.T[:, :k]  # Project onto lower-rank subspace\n",
    "hs_reconstructed = hs_proj @ Vt[:k, :]  # Reconstruct\n",
    "style = dhs - hs_reconstructed  # Residual = hypothesized 'style'\n",
    "\n",
    "\n",
    "res(style)"
   ]
  },
  {
   "cell_type": "code",
   "execution_count": 18,
   "metadata": {},
   "outputs": [
    {
     "ename": "KeyboardInterrupt",
     "evalue": "",
     "output_type": "error",
     "traceback": [
      "\u001b[0;31m---------------------------------------------------------------------------\u001b[0m",
      "\u001b[0;31mKeyboardInterrupt\u001b[0m                         Traceback (most recent call last)",
      "Cell \u001b[0;32mIn[18], line 19\u001b[0m\n\u001b[1;32m     14\u001b[0m     S_soft \u001b[38;5;241m=\u001b[39m S_soft \u001b[38;5;241m*\u001b[39m (torch\u001b[38;5;241m.\u001b[39mnorm(S) \u001b[38;5;241m/\u001b[39m torch\u001b[38;5;241m.\u001b[39mnorm(S_soft))\n\u001b[1;32m     16\u001b[0m     \u001b[38;5;28;01mreturn\u001b[39;00m U, S_soft, Vt\n\u001b[0;32m---> 19\u001b[0m U2, S2, Vt2 \u001b[38;5;241m=\u001b[39m \u001b[43msoft_svd\u001b[49m\u001b[43m(\u001b[49m\u001b[43mW\u001b[49m\u001b[43m,\u001b[49m\u001b[43m \u001b[49m\u001b[43mquantile\u001b[49m\u001b[38;5;241;43m=\u001b[39;49m\u001b[38;5;241;43m0.1\u001b[39;49m\u001b[43m,\u001b[49m\u001b[43m \u001b[49m\u001b[43mfull_matrices\u001b[49m\u001b[38;5;241;43m=\u001b[39;49m\u001b[38;5;28;43;01mFalse\u001b[39;49;00m\u001b[43m)\u001b[49m\n\u001b[1;32m     20\u001b[0m hs_projected \u001b[38;5;241m=\u001b[39m dhs \u001b[38;5;241m@\u001b[39m Vt2\u001b[38;5;241m.\u001b[39mT \u001b[38;5;241m@\u001b[39m torch\u001b[38;5;241m.\u001b[39mdiag(S2) \u001b[38;5;241m@\u001b[39m Vt2\n\u001b[1;32m     21\u001b[0m style \u001b[38;5;241m=\u001b[39m dhs \u001b[38;5;241m-\u001b[39m hs_projected\n",
      "Cell \u001b[0;32mIn[18], line 3\u001b[0m, in \u001b[0;36msoft_svd\u001b[0;34m(W, quantile, full_matrices)\u001b[0m\n\u001b[1;32m      1\u001b[0m \u001b[38;5;28;01mdef\u001b[39;00m \u001b[38;5;21msoft_svd\u001b[39m(W, quantile\u001b[38;5;241m=\u001b[39m\u001b[38;5;241m0.1\u001b[39m, full_matrices\u001b[38;5;241m=\u001b[39m\u001b[38;5;28;01mFalse\u001b[39;00m):\n\u001b[1;32m      2\u001b[0m \u001b[38;5;250m    \u001b[39m\u001b[38;5;124;03m\"\"\"Instead of the hard cutoff in traditional SVD, soft SVD uses a continuous weighting of singular values. This can be useful for smoothly interpolating between low-rank approximations and the full matrix.\"\"\"\u001b[39;00m\n\u001b[0;32m----> 3\u001b[0m     U, S, Vt \u001b[38;5;241m=\u001b[39m \u001b[43mtorch\u001b[49m\u001b[38;5;241;43m.\u001b[39;49m\u001b[43mlinalg\u001b[49m\u001b[38;5;241;43m.\u001b[39;49m\u001b[43msvd\u001b[49m\u001b[43m(\u001b[49m\u001b[43mW\u001b[49m\u001b[43m,\u001b[49m\u001b[43m \u001b[49m\u001b[43mfull_matrices\u001b[49m\u001b[38;5;241;43m=\u001b[39;49m\u001b[43mfull_matrices\u001b[49m\u001b[43m)\u001b[49m\n\u001b[1;32m      5\u001b[0m     tau \u001b[38;5;241m=\u001b[39m torch\u001b[38;5;241m.\u001b[39mquantile(S, quantile)\n\u001b[1;32m      6\u001b[0m     \u001b[38;5;66;03m# print(m, S, tau)\u001b[39;00m\n",
      "\u001b[0;31mKeyboardInterrupt\u001b[0m: "
     ]
    }
   ],
   "source": [
    "def soft_svd(W, quantile=0.1, full_matrices=False):\n",
    "    \"\"\"Instead of the hard cutoff in traditional SVD, soft SVD uses a continuous weighting of singular values. This can be useful for smoothly interpolating between low-rank approximations and the full matrix.\"\"\"\n",
    "    U, S, Vt = torch.linalg.svd(W, full_matrices=full_matrices)\n",
    "\n",
    "    tau = torch.quantile(S, quantile)\n",
    "    # print(m, S, tau)\n",
    "    m = (S.abs() > tau).float().mean()\n",
    "    print(f\"Soft SVD: {m:.2%} of singular values kept, with tau={tau:.2f}, Smean={S.abs().mean():.2f}, Smax={S.max():.2f}, Smin={S.min():.2f}\")\n",
    "    \n",
    "    # Soft thresholding function\n",
    "    S_soft = torch.sign(S) * (torch.maximum(torch.abs(S) - tau, torch.zeros_like(S)) + tau)\n",
    "    \n",
    "    # Normalize to keep total \"energy\" constant\n",
    "    S_soft = S_soft * (torch.norm(S) / torch.norm(S_soft))\n",
    "    \n",
    "    return U, S_soft, Vt\n",
    "\n",
    "\n",
    "U2, S2, Vt2 = soft_svd(W, quantile=0.1, full_matrices=False)\n",
    "hs_projected = dhs @ Vt2.T @ torch.diag(S2) @ Vt2\n",
    "style = dhs - hs_projected\n",
    "res(style)"
   ]
  },
  {
   "cell_type": "code",
   "execution_count": null,
   "metadata": {},
   "outputs": [],
   "source": [
    "U2, S2, Vt2 = soft_svd(W, quantile=0.9, full_matrices=False)\n",
    "hs_projected = dhs @ Vt2.T @ torch.diag(S2) @ Vt2\n",
    "style = dhs - hs_projected\n",
    "res(style)"
   ]
  },
  {
   "cell_type": "code",
   "execution_count": null,
   "metadata": {},
   "outputs": [],
   "source": [
    "hs_projected = (U2 @ torch.diag(S2) @ U2.T) @ dhs\n",
    "style = dhs - hs_projected\n",
    "res(style)"
   ]
  },
  {
   "cell_type": "code",
   "execution_count": null,
   "metadata": {},
   "outputs": [],
   "source": []
  }
 ],
 "metadata": {
  "kernelspec": {
   "display_name": ".venv",
   "language": "python",
   "name": "python3"
  },
  "language_info": {
   "codemirror_mode": {
    "name": "ipython",
    "version": 3
   },
   "file_extension": ".py",
   "mimetype": "text/x-python",
   "name": "python",
   "nbconvert_exporter": "python",
   "pygments_lexer": "ipython3",
   "version": "3.9.16"
  }
 },
 "nbformat": 4,
 "nbformat_minor": 2
}
