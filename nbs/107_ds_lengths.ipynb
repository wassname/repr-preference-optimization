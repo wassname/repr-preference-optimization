{
 "cells": [
  {
   "cell_type": "markdown",
   "metadata": {},
   "source": []
  },
  {
   "cell_type": "code",
   "execution_count": 4,
   "metadata": {},
   "outputs": [],
   "source": [
    "from open_pref_eval.datasets import ds2name, load_dataset_n\n",
    "from open_pref_eval.datasets.genies import GENIES, dist2datasets, GENIES_ALL\n",
    "\n",
    "from reprpo.data.collate3 import TokenizeRow\n",
    "from reprpo.models.load import load_model\n",
    "\n",
    "model, tokenizer = load_model(\n",
    "    \"wassname/llama-3-2-1b-sft\",\n",
    ")"
   ]
  },
  {
   "cell_type": "code",
   "execution_count": 1,
   "metadata": {},
   "outputs": [
    {
     "ename": "NameError",
     "evalue": "name 'load_dataset' is not defined",
     "output_type": "error",
     "traceback": [
      "\u001b[0;31m---------------------------------------------------------------------------\u001b[0m",
      "\u001b[0;31mNameError\u001b[0m                                 Traceback (most recent call last)",
      "Cell \u001b[0;32mIn[1], line 1\u001b[0m\n\u001b[0;32m----> 1\u001b[0m ds_train \u001b[38;5;241m=\u001b[39m \u001b[43mload_dataset\u001b[49m(\u001b[38;5;124m\"\u001b[39m\u001b[38;5;124mwassname/genies_preferences\u001b[39m\u001b[38;5;124m\"\u001b[39m, name\u001b[38;5;241m=\u001b[39margs\u001b[38;5;241m.\u001b[39mdataset)\n",
      "\u001b[0;31mNameError\u001b[0m: name 'load_dataset' is not defined"
     ]
    }
   ],
   "source": [
    "tokenize_row = TokenizeRow(\n",
    "    tokenizer,\n",
    "    # max_length=args.max_length,\n",
    "    # max_prompt_length=args.max_prompt_length,\n",
    ")\n",
    "\n",
    "for n in GENIES:\n",
    "  ds = load_dataset_n(\"wassname/genies_preferences\", name=n, split='train', N=100)\n",
    "\n",
    "  ds_train_tok = ds_train.map(tokenize_row, batched=False)\n"
   ]
  },
  {
   "cell_type": "code",
   "execution_count": null,
   "metadata": {},
   "outputs": [],
   "source": []
  }
 ],
 "metadata": {
  "kernelspec": {
   "display_name": ".venv",
   "language": "python",
   "name": "python3"
  },
  "language_info": {
   "codemirror_mode": {
    "name": "ipython",
    "version": 3
   },
   "file_extension": ".py",
   "mimetype": "text/x-python",
   "name": "python",
   "nbconvert_exporter": "python",
   "pygments_lexer": "ipython3",
   "version": "3.11.9"
  }
 },
 "nbformat": 4,
 "nbformat_minor": 2
}
