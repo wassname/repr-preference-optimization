{
 "cells": [
  {
   "cell_type": "markdown",
   "metadata": {},
   "source": [
    "Trying to modify hf dpo to work with the repos hypothesis...\n",
    "\n",
    "see\n",
    "- https://huggingface.co/docs/trl/main/en/dpo_trainer#accelerate-dpo-fine-tuning-using-unsloth\n",
    "- https://gist.github.com/alvarobartt/9898c33eb3e9c7108d9ed2330f12a708\n",
    "- https://colab.research.google.com/drive/15vttTpzzVXv_tJwEk-hIcQ0S9FcEWvwP?usp=sharing#scrollTo=QtoqUw80QDV0"
   ]
  },
  {
   "cell_type": "code",
   "execution_count": 1,
   "metadata": {},
   "outputs": [],
   "source": [
    "%reload_ext autoreload\n",
    "%autoreload 2"
   ]
  },
  {
   "cell_type": "code",
   "execution_count": 2,
   "metadata": {},
   "outputs": [],
   "source": [
    "import os\n",
    "os.environ[\"TOKENIZERS_PARALLELISM\"] = \"false\"\n",
    "os.environ[\"WANDB_PROJECT\"] = \"repo-dpo\" \n",
    "os.environ[\"CUDA_VISIBLE_DEVICES\"] = \"0\"\n",
    "# os.environ[\"WANDB_DISABLED\"] = \"true\"\n",
    "\n"
   ]
  },
  {
   "cell_type": "code",
   "execution_count": 3,
   "metadata": {},
   "outputs": [],
   "source": [
    "import wandb\n",
    "os.environ['WANDB_NOTEBOOK_NAME'] = nb_name = os.path.basename(globals()['__vsc_ipynb_file__'])\n",
    "# enable wandb service (experimental, https://github.com/wandb/client/blob/master/docs/dev/wandb-service-user.md)\n",
    "# this hopefully fixes issues with multiprocessing\n",
    "wandb.require(experiment='service')\n",
    "# wandb.init()\n",
    "\n"
   ]
  },
  {
   "cell_type": "code",
   "execution_count": 4,
   "metadata": {},
   "outputs": [],
   "source": [
    "import warnings\n",
    "# warnings.simplefilter(\"ignore\")\n",
    "# warnings.filterwarnings(\"ignore\", \".*does not have many workers.*\")\n",
    "# warnings.filterwarnings(\"ignore\", \".*divide by zero.*\")\n",
    "warnings.filterwarnings(\"ignore\", \".*torch.utils.checkpoint: the use_reentrant parameter should be passed explicitly.*\")\n",
    "warnings.filterwarnings(\"ignore\", \".*`do_sample` is set to.*\")\n",
    "warnings.filterwarnings(\"ignore\", \".*None of the inputs have requires_grad=True. Gradients will be None*\")\n"
   ]
  },
  {
   "cell_type": "code",
   "execution_count": 5,
   "metadata": {},
   "outputs": [],
   "source": [
    "import torch\n",
    "import numpy as np\n",
    "from datasets import load_dataset\n",
    "from peft import LoraConfig, get_peft_model\n",
    "from transformers import AutoTokenizer, AutoModelForCausalLM\n",
    "from trl import DPOTrainer\n",
    "from trl import DPOConfig, DPOTrainer\n",
    "import gc\n",
    "import torch\n",
    "import torch.nn as nn\n",
    "import torch.nn.functional as F\n",
    "from typing import Any, Callable, Dict, List, Literal, Optional, Tuple, Union\n",
    "from einops import rearrange"
   ]
  },
  {
   "cell_type": "code",
   "execution_count": 6,
   "metadata": {},
   "outputs": [],
   "source": [
    "from contextlib import contextmanager\n",
    "import pandas as pd\n",
    "from matplotlib import pyplot as plt\n",
    "from transformers.trainer import ProgressCallback\n",
    "from transformers.utils.notebook import NotebookProgressCallback\n",
    "\n",
    "from reprpo.helpers.adapters import set_adapter"
   ]
  },
  {
   "cell_type": "markdown",
   "metadata": {},
   "source": []
  },
  {
   "cell_type": "code",
   "execution_count": 7,
   "metadata": {},
   "outputs": [],
   "source": [
    "torch.set_float32_matmul_precision(\"medium\")\n",
    "torch.use_deterministic_algorithms(True)"
   ]
  },
  {
   "cell_type": "code",
   "execution_count": 8,
   "metadata": {},
   "outputs": [
    {
     "data": {
      "text/plain": [
       "7500"
      ]
     },
     "execution_count": 8,
     "metadata": {},
     "output_type": "execute_result"
    }
   ],
   "source": [
    "max_prompt_length=128\n",
    "# num_samples = 50 * 16 * 6\n",
    "num_samples = 1500 * 1 * 5 # from circuit breaker * 3\n",
    "max_length = 256\n",
    "num_samples"
   ]
  },
  {
   "cell_type": "markdown",
   "metadata": {},
   "source": [
    "## load the model"
   ]
  },
  {
   "cell_type": "code",
   "execution_count": 9,
   "metadata": {},
   "outputs": [],
   "source": [
    "!pip install flash-attn --no-build-isolation --no-deps -qq"
   ]
  },
  {
   "cell_type": "code",
   "execution_count": 10,
   "metadata": {},
   "outputs": [
    {
     "name": "stderr",
     "output_type": "stream",
     "text": [
      "Special tokens have been added in the vocabulary, make sure the associated word embeddings are fine-tuned or trained.\n",
      "The `load_in_4bit` and `load_in_8bit` arguments are deprecated and will be removed in the future versions. Please, pass a `BitsAndBytesConfig` object in `quantization_config` argument instead.\n"
     ]
    },
    {
     "data": {
      "application/vnd.jupyter.widget-view+json": {
       "model_id": "05081eb3732f443dac1f9f3c6a6b7a02",
       "version_major": 2,
       "version_minor": 0
      },
      "text/plain": [
       "Loading checkpoint shards:   0%|          | 0/4 [00:00<?, ?it/s]"
      ]
     },
     "metadata": {},
     "output_type": "display_data"
    },
    {
     "name": "stdout",
     "output_type": "stream",
     "text": [
      "trainable params: 41943040 || all params: 4582543360 || trainable%: 0.9152786281546499\n"
     ]
    }
   ],
   "source": [
    "# FIXME: we are meant to SFT first, so that the preferences are in sample but 1) if this works it might not be needed, and 2) this can be added later, if it works\n",
    "# for now we will use the instruct model, and try something it wasn't meant to do but it in sample \n",
    "model_name = \"NousResearch/Meta-Llama-3-8B-Instruct\"\n",
    "use_gradient_checkpointing = True\n",
    "\n",
    "## Big adapter\n",
    "peft_config = LoraConfig(\n",
    "    lora_alpha=16, \n",
    "    r=16,\n",
    "    lora_dropout=0.0,\n",
    "    # use_rslora=True,\n",
    "    # use_dora=True,\n",
    "    task_type=\"CAUSAL_LM\",\n",
    "    target_modules=[\"q_proj\", \"k_proj\", \"v_proj\", \"o_proj\", \"gate_proj\", \"up_proj\", \"down_proj\"]\n",
    ")\n",
    "from reprpo.models.load import load_model, print_trainable_parameters\n",
    "from peft import prepare_model_for_kbit_training\n",
    "from peft import LoraConfig, get_peft_model\n",
    "\n",
    "model, tokenizer = load_model(model_name, )\n",
    "\n",
    "if use_gradient_checkpointing:\n",
    "    model.enable_input_require_grads()\n",
    "# from trl.trainer.utils import peft_module_casting_to_bf16\n",
    "# peft_module_casting_to_bf16(model)\n",
    "adapter_name='ReprPO'\n",
    "model = prepare_model_for_kbit_training(model, {'use_gradient_checkpointing': use_gradient_checkpointing})\n",
    "model = get_peft_model(model, peft_config, adapter_name=adapter_name)\n",
    "print_trainable_parameters(model)"
   ]
  },
  {
   "cell_type": "markdown",
   "metadata": {},
   "source": [
    "## Dataset"
   ]
  },
  {
   "cell_type": "code",
   "execution_count": 11,
   "metadata": {},
   "outputs": [],
   "source": [
    "def sample(dataset, N):\n",
    "    return (dataset\n",
    "            .shuffle(42)\n",
    "            .select(range(\n",
    "            min(len(dataset),\n",
    "                N)))\n",
    "    )"
   ]
  },
  {
   "cell_type": "code",
   "execution_count": 12,
   "metadata": {},
   "outputs": [
    {
     "data": {
      "text/plain": [
       "DatasetDict({\n",
       "    train: Dataset({\n",
       "        features: ['prompt', 'chosen', 'rejected'],\n",
       "        num_rows: 7221\n",
       "    })\n",
       "    validation: Dataset({\n",
       "        features: ['prompt', 'chosen', 'rejected'],\n",
       "        num_rows: 373\n",
       "    })\n",
       "})"
      ]
     },
     "execution_count": 12,
     "metadata": {},
     "output_type": "execute_result"
    }
   ],
   "source": [
    "# dataset = load_dataset('Columbia-NLP/DPO-HelpSteer')\n",
    "dataset = load_dataset('Atsunori/HelpSteer2-DPO')\n",
    "dataset['train'] = sample(dataset['train'], num_samples)\n",
    "dataset2 = dataset.rename_column('chosen_response', 'chosen').rename_column('rejected_response', 'rejected')\n",
    "# dataset['train']['chosen_response'][0]\n",
    "dataset2"
   ]
  },
  {
   "cell_type": "code",
   "execution_count": 13,
   "metadata": {},
   "outputs": [],
   "source": [
    "# def format_ds(row):\n",
    "    \n",
    "#     # WHY are we doing this? Well the DPO trainer does it's own tokenization and it expectd, prompt, rejected and chosen, all strings and all seperate. Is this good, idk\n",
    "#     return {\n",
    "#         \"chosen\": row['chosen_response'][1]['content'],\n",
    "#         \"rejected\": row['rejected_response'][1]['content'],\n",
    "#     }\n",
    "\n",
    "\n",
    "# dataset2 = dataset.map(format_ds)\n"
   ]
  },
  {
   "cell_type": "code",
   "execution_count": 14,
   "metadata": {},
   "outputs": [
    {
     "name": "stdout",
     "output_type": "stream",
     "text": [
      "When did women join the labor workforce outside of the home? What caused the change from housewife to breadwinner? Write a short informative paragraph under 200 words.\n",
      "===\n",
      "In the early 20th century, less than 20% of women worked outside the home. Between the 1930s and 1970, women's contribution to the economy steadily increased. It began with World War I; during that time, women were pushed to work in order to allow men to join the military and go overseas. Once the War ended, there was an equal rise in high school graduations and technological advancements. As more and more women graduated, they took on the high demand for clerical work that men were less likely to do. Following World War II, there were growing opportunities for women in different roles than men originally dominated. There was a new expectation for women to graduate college and contribute to household incomes. By 1990, the percentage of women working increased by 76%. Recent research shows that there are approximately the same number of women in professional schools as men. According to Forbes in July 2023, 57.4 percent of the workforce are women.\n",
      "---\n",
      "The 1900s saw a dramatic shift in the role of women in the workforce. Prior to this time, women were primarily homemakers and caregivers, with limited opportunities for paid work outside the home. However, with the rise of industrialization and the growth of the economy, women began to enter the workforce in increasing numbers.\n",
      "\n",
      "One of the primary factors that led to this change was the need for workers in factories and other industries. As men went off to war or pursued other opportunities, women were needed to fill the gaps in the workforce. This need for workers created a new sense of opportunity for women, who had previously been limited by social and cultural expectations.\n",
      "\n",
      "Another factor that contributed to the change was the growing feminist movement. Women's rights activists worked to break down barriers and stereotypes that prevented women from pursuing their own goals and ambitions. They fought for equal pay, equal opportunities, and the right to vote, among other rights.\n",
      "\n",
      "As a result of these and other factors, women began to enter the workforce in increasing numbers. They worked in factories, offices, and other industries, often performing the same jobs as men. This shift in the role of women had a profound impact on society, changing the way that people thought about gender roles and the value of women's work.\n",
      "\n",
      "Today, women continue to make up a significant portion of the workforce, and many have achieved success in a wide range of industries. While there is still work to be done to achieve true gender equality, the changes that began in the early 1900s have paved the way for a more diverse and inclusive workforce.\n"
     ]
    }
   ],
   "source": [
    "r = dataset2['train'][0]\n",
    "print(r['prompt'])\n",
    "print('===')\n",
    "print(r['chosen'])\n",
    "print('---')\n",
    "print(r['rejected'])"
   ]
  },
  {
   "cell_type": "markdown",
   "metadata": {},
   "source": [
    "## Eval TQA helpers"
   ]
  },
  {
   "cell_type": "code",
   "execution_count": 15,
   "metadata": {},
   "outputs": [],
   "source": [
    "from reprpo.data.tqa import load_tqa\n",
    "from torch.utils.data import DataLoader\n",
    "import numpy as np\n",
    "\n",
    "\n",
    "dataset2_tqa, choice_ids = load_tqa(tokenizer, max_length, N=817)"
   ]
  },
  {
   "cell_type": "markdown",
   "metadata": {},
   "source": [
    "How to measure TQA?\n",
    "- [TruthfullLamama](https://github.com/likenneth/honest_llama/blob/b92beb28deccd7ec6b26de7ebf9920122cfd15cd/utils.py#L268) uses https://github.com/sylinrl/TruthfulQA\n",
    "  - see [def MC_calcs(tag, frame, idx, scores_true, scores_false, ref_true, ref_best):](https://github.com/sylinrl/TruthfulQA/blob/fdd8ad1c0d00a478cf8b0bb41a3ad8378c16293b/truthfulqa/models.py#L540)\n",
    "- and runs each answer, getting the total prob of that string `log_probs.sum()`"
   ]
  },
  {
   "cell_type": "code",
   "execution_count": 16,
   "metadata": {},
   "outputs": [],
   "source": [
    "from reprpo.eval.mc import eval_tqa\n",
    "from reprpo.gen import generation_test"
   ]
  },
  {
   "cell_type": "markdown",
   "metadata": {},
   "source": [
    "## Train"
   ]
  },
  {
   "cell_type": "code",
   "execution_count": null,
   "metadata": {},
   "outputs": [],
   "source": []
  },
  {
   "cell_type": "markdown",
   "metadata": {},
   "source": [
    "### Modified classes\n",
    "\n",
    "- here we can defined the experimetns loss function"
   ]
  },
  {
   "cell_type": "code",
   "execution_count": 4,
   "metadata": {},
   "outputs": [
    {
     "data": {
      "text/plain": [
       "100"
      ]
     },
     "execution_count": 4,
     "metadata": {},
     "output_type": "execute_result"
    }
   ],
   "source": [
    "TOP_K = 0.001\n",
    "ALPHA = (1/TOP_K)**1.5 # just a random guess at a relationship\n",
    "ALPHA = 100\n",
    "ALPHA"
   ]
  },
  {
   "cell_type": "code",
   "execution_count": 5,
   "metadata": {},
   "outputs": [
    {
     "data": {
      "text/plain": [
       "8.192"
      ]
     },
     "execution_count": 5,
     "metadata": {},
     "output_type": "execute_result"
    }
   ],
   "source": [
    "TOP_K * 4096 * 2"
   ]
  },
  {
   "cell_type": "code",
   "execution_count": 19,
   "metadata": {},
   "outputs": [],
   "source": [
    "def top_k_mse(x, y, k=0.005):\n",
    "    x = rearrange(x, \"b l t h -> b (l t h)\")\n",
    "    y = rearrange(y, \"b l t h -> b (l t h)\")\n",
    "    k = int(k * x.shape[-1])+1\n",
    "    diff = (x - y)**2\n",
    "    # get the top k differences along dim\n",
    "    top_k_diff = torch.topk(diff, k, dim=-1).values\n",
    "    return torch.mean(top_k_diff, dim=-1)"
   ]
  },
  {
   "cell_type": "code",
   "execution_count": 20,
   "metadata": {},
   "outputs": [],
   "source": [
    "from reprpo.trainer import ReprPOTrainer, ReprPOConfig, wmean, coeffecient, top_k_mse, norm_smooth_l1_loss, cka_inspired_similarity\n",
    "\n",
    "\n",
    "class ReprPOTrainer2(ReprPOTrainer):\n",
    "\n",
    "    def reprpo_loss(\n",
    "        self,\n",
    "        policy_chosen_logps: torch.FloatTensor,\n",
    "        policy_rejected_logps: torch.FloatTensor,\n",
    "        policy_chosen_hs: torch.FloatTensor,\n",
    "        policy_rejected_hs: torch.FloatTensor,\n",
    "        reference_chosen_logps: torch.FloatTensor,\n",
    "        reference_rejected_logps: torch.FloatTensor,\n",
    "        reference_chosen_hs: torch.FloatTensor,\n",
    "        chosen_attn_mask: torch.BoolTensor,\n",
    "        rejected_attn_mask: torch.BoolTensor\n",
    "    ) -> Tuple[torch.FloatTensor, torch.FloatTensor, torch.FloatTensor]:\n",
    "        \"\"\"Compute the DPO loss for a batch of policy and reference model log probabilities.\n",
    "\n",
    "        Args:\n",
    "            policy_chosen_logps: Log probabilities of the policy model for the chosen responses. Shape: (batch_size,)\n",
    "            policy_rejected_logps: Log probabilities of the policy model for the rejected responses. Shape: (batch_size,)\n",
    "            reference_chosen_logps: Log probabilities of the reference model for the chosen responses. Shape: (batch_size,)\n",
    "            reference_rejected_logps: Log probabilities of the reference model for the rejected responses. Shape: (batch_size,)\n",
    "\n",
    "        Returns:\n",
    "            A tuple of three tensors: (losses, chosen_rewards, rejected_rewards).\n",
    "            The losses tensor contains the DPO loss for each example in the batch.\n",
    "            The chosen_rewards and rejected_rewards tensors contain the rewards for the chosen and rejected responses, respectively.\n",
    "        \"\"\"\n",
    "        \n",
    "        # pi_logratios = policy_chosen_logps - policy_rejected_logps\n",
    "        # if self.reference_free:\n",
    "        #     ref_logratios = torch.tensor([0], dtype=pi_logratios.dtype, device=pi_logratios.device)\n",
    "        # else:\n",
    "        #     ref_logratios = reference_chosen_logps - reference_rejected_logps\n",
    "    \n",
    "\n",
    "        # # log(prob_chosen/prob_rejected) the prob of the chosen strings over the rejected string. 0 is not difference. -ve means rejected is larger\n",
    "        # pi_logratios = pi_logratios.to(self.accelerator.device)\n",
    "        # ref_logratios = ref_logratios.to(self.accelerator.device)\n",
    "        # logits = pi_logratios - ref_logratios\n",
    "\n",
    "        # # Can we weight by how much better the reference model was\n",
    "        # T = 30\n",
    "        # weight_correct = torch.softmax(-logits*T, 0).detach()\n",
    "\n",
    "        # mean of bad repr should be more similar to the mean of good behavior\n",
    "        loss_rr = top_k_mse(policy_rejected_hs, reference_chosen_hs, TOP_K)\n",
    "        # loss_rr = wmean(loss_rr, 1-weight_correct).mean()\n",
    "        loss_rr = loss_rr.mean()\n",
    "        \n",
    "        # #  b l t h\n",
    "        # # a mean, norm, loss over the hidden dim of each layer\n",
    "        # # This loss says the good repr should be retained, weighted by how good this samples was\n",
    "        loss_retain = F.smooth_l1_loss(policy_chosen_hs, reference_chosen_hs, reduction='none')\n",
    "        # loss_retain = wmean(loss_retain, weight_correct)\n",
    "        loss_retain = loss_retain.mean()\n",
    "\n",
    "        steps = self.state.global_step + 1\n",
    "        total_steps = len(self.train_dataset)\n",
    "        c_retain, c_rr = coeffecient(steps, total_steps)\n",
    "        loss = (loss_rr*c_rr + loss_retain*c_retain * self.alpha).sum()\n",
    "        loss = loss_rr.sum()\n",
    "\n",
    "        # difference in logps for chosen responses, between policy and reference model\n",
    "        # # The beta is a temperature parameter for the DPO loss, typically something in the range of 0.1 to 0.5.\n",
    "        chosen_rewards = (\n",
    "            self.beta\n",
    "            * (\n",
    "                policy_chosen_logps.to(self.accelerator.device) - reference_chosen_logps.to(self.accelerator.device)\n",
    "            ).detach()\n",
    "        )\n",
    "\n",
    "        # difference in logps for rejected responses, between policy and reference model\n",
    "        rejected_rewards = (\n",
    "            self.beta\n",
    "            * (\n",
    "                policy_rejected_logps.to(self.accelerator.device)\n",
    "                - reference_rejected_logps.to(self.accelerator.device)\n",
    "            ).detach()\n",
    "        )\n",
    "\n",
    "        return loss, dict(loss=loss, chosen_rewards=chosen_rewards, rejected_rewards=rejected_rewards, loss_retain=loss_retain.mean(), loss_rr=loss_rr.detach(), pi_logratios=0, ref_logratios=0, weighting=0, logits=0)"
   ]
  },
  {
   "cell_type": "code",
   "execution_count": 21,
   "metadata": {},
   "outputs": [],
   "source": [
    "# (1/0.005)**1.5"
   ]
  },
  {
   "cell_type": "markdown",
   "metadata": {},
   "source": [
    "### Run"
   ]
  },
  {
   "cell_type": "code",
   "execution_count": 22,
   "metadata": {},
   "outputs": [],
   "source": [
    "from reprpo.helpers.torch import clear_mem\n",
    "clear_mem()"
   ]
  },
  {
   "cell_type": "code",
   "execution_count": 23,
   "metadata": {},
   "outputs": [
    {
     "data": {
      "text/plain": [
       "7221"
      ]
     },
     "execution_count": 23,
     "metadata": {},
     "output_type": "execute_result"
    }
   ],
   "source": [
    "# update the ideal number of sample for how many are available\n",
    "num_data_samples = min(num_samples, len(dataset2['train']))\n",
    "num_data_samples"
   ]
  },
  {
   "cell_type": "code",
   "execution_count": 24,
   "metadata": {},
   "outputs": [
    {
     "data": {
      "text/plain": [
       "7500"
      ]
     },
     "execution_count": 24,
     "metadata": {},
     "output_type": "execute_result"
    }
   ],
   "source": [
    "num_samples"
   ]
  },
  {
   "cell_type": "code",
   "execution_count": 25,
   "metadata": {},
   "outputs": [
    {
     "data": {
      "text/plain": [
       "{'ReprPO': LoraConfig(peft_type=<PeftType.LORA: 'LORA'>, auto_mapping=None, base_model_name_or_path='NousResearch/Meta-Llama-3-8B-Instruct', revision=None, task_type='CAUSAL_LM', inference_mode=False, r=16, target_modules={'up_proj', 'o_proj', 'down_proj', 'q_proj', 'v_proj', 'gate_proj', 'k_proj'}, lora_alpha=16, lora_dropout=0.05, fan_in_fan_out=False, bias='none', use_rslora=True, modules_to_save=None, init_lora_weights=True, layers_to_transform=None, layers_pattern=None, rank_pattern={}, alpha_pattern={}, megatron_config=None, megatron_core='megatron.core', loftq_config={}, use_dora=False, layer_replication=None)}"
      ]
     },
     "execution_count": 25,
     "metadata": {},
     "output_type": "execute_result"
    }
   ],
   "source": [
    "model.peft_config"
   ]
  },
  {
   "cell_type": "code",
   "execution_count": 26,
   "metadata": {},
   "outputs": [
    {
     "name": "stdout",
     "output_type": "stream",
     "text": [
      "{'gradient_accumulation_steps': 10, 'num_train_epochs': 1}\n"
     ]
    },
    {
     "data": {
      "application/vnd.jupyter.widget-view+json": {
       "model_id": "9a7553ab009741bbb63479e1e9838921",
       "version_major": 2,
       "version_minor": 0
      },
      "text/plain": [
       "Map:   0%|          | 0/7221 [00:00<?, ? examples/s]"
      ]
     },
     "metadata": {},
     "output_type": "display_data"
    }
   ],
   "source": [
    "multiple = 2\n",
    "ideal_batch_size = 16 * multiple\n",
    "batch_size = 3\n",
    "gradient_accumulation_steps = ideal_batch_size // batch_size\n",
    "num_train_epochs = num_samples // num_data_samples\n",
    "print(dict(gradient_accumulation_steps=gradient_accumulation_steps, num_train_epochs=num_train_epochs))\n",
    "\n",
    "# vscode + wandb compat\n",
    "nb_name = os.path.basename(globals()['__vsc_ipynb_file__']).replace('.ipynb', '')\n",
    "dt = pd.Timestamp.now().strftime(\"%Y-%m-%d-%H-%M-%S\")\n",
    "run_name = f\"{nb_name}-{dt}\"\n",
    "\n",
    "training_args = ReprPOConfig(\n",
    "    num_train_epochs=num_train_epochs,\n",
    "    learning_rate=2e-4, # 5e-7 in the dpo paper? but this method needs much more\n",
    "    gradient_accumulation_steps=gradient_accumulation_steps,\n",
    "    per_device_train_batch_size=batch_size,\n",
    "    per_device_eval_batch_size=batch_size,\n",
    "\n",
    "    lr_scheduler_type=\"constant\",\n",
    "    # warmup_ratio=0.2,\n",
    "    optim = \"adamw_8bit\",\n",
    "    weight_decay = 0,\n",
    "\n",
    "    seed=42,\n",
    "    logging_steps=1,\n",
    "    # save_steps=500,\n",
    "    # save_strategy=\"steps\",\n",
    "    output_dir=f\"./output-dir/{run_name}\",\n",
    "\n",
    "    gradient_checkpointing=use_gradient_checkpointing,\n",
    "    bf16=True,\n",
    "    tf32=True,\n",
    "    remove_unused_columns=False,\n",
    "\n",
    "    max_prompt_length=max_prompt_length,\n",
    "    max_length=max_length,\n",
    "\n",
    "    report_to=['tensorboard', 'wandb'],\n",
    "    model_adapter_name='ReprPO',\n",
    "    alpha=ALPHA,\n",
    "\n",
    "    run_name=run_name,\n",
    "    collection_layers=[10, 25],\n",
    ")\n",
    "\n",
    "reprpo_trainer = ReprPOTrainer2(\n",
    "    model=model,\n",
    "    ref_model=None,\n",
    "    args=training_args,\n",
    "    beta=training_args.beta,\n",
    "    train_dataset=dataset2[\"train\"],\n",
    "    # eval_dataset=dataset2[\"test\"],\n",
    "    tokenizer=tokenizer,\n",
    ")\n",
    "model.config.use_cache = False\n",
    "\n",
    "# Transformer does not recognise vscode notebooks\n",
    "reprpo_trainer.callback_handler.remove_callback(ProgressCallback)\n",
    "reprpo_trainer.callback_handler.add_callback(NotebookProgressCallback)\n",
    "\n"
   ]
  },
  {
   "cell_type": "code",
   "execution_count": 27,
   "metadata": {},
   "outputs": [],
   "source": [
    "# # QC train dataset\n",
    "# r = reprpo_trainer.train_dataset[0]\n",
    "# print('prompt', tokenizer.decode(r['prompt_input_ids']))\n",
    "# print('-'*80)\n",
    "# print('chosen',tokenizer.decode(r['chosen_input_ids']))\n",
    "# print('-'*80)\n",
    "# print('rejected',tokenizer.decode(r['rejected_input_ids']))\n",
    "# print('='*80)\n",
    "clear_mem()"
   ]
  },
  {
   "cell_type": "code",
   "execution_count": 28,
   "metadata": {},
   "outputs": [
    {
     "name": "stderr",
     "output_type": "stream",
     "text": [
      "\u001b[34m\u001b[1mwandb\u001b[0m: Currently logged in as: \u001b[33mwassname\u001b[0m. Use \u001b[1m`wandb login --relogin`\u001b[0m to force relogin\n"
     ]
    },
    {
     "data": {
      "text/html": [
       "Tracking run with wandb version 0.17.4"
      ],
      "text/plain": [
       "<IPython.core.display.HTML object>"
      ]
     },
     "metadata": {},
     "output_type": "display_data"
    },
    {
     "data": {
      "text/html": [
       "Run data is saved locally in <code>/media/wassname/SGIronWolf/projects5/elk/repr-preference-optimization/nbs/wandb/run-20240717_203446-p343nbnx</code>"
      ],
      "text/plain": [
       "<IPython.core.display.HTML object>"
      ]
     },
     "metadata": {},
     "output_type": "display_data"
    },
    {
     "data": {
      "text/html": [
       "Syncing run <strong><a href='https://wandb.ai/wassname/repo-dpo/runs/p343nbnx' target=\"_blank\">07_hf_topk_TODO-2024-07-17-20-34-26</a></strong> to <a href='https://wandb.ai/wassname/repo-dpo' target=\"_blank\">Weights & Biases</a> (<a href='https://wandb.me/run' target=\"_blank\">docs</a>)<br/>"
      ],
      "text/plain": [
       "<IPython.core.display.HTML object>"
      ]
     },
     "metadata": {},
     "output_type": "display_data"
    },
    {
     "data": {
      "text/html": [
       " View project at <a href='https://wandb.ai/wassname/repo-dpo' target=\"_blank\">https://wandb.ai/wassname/repo-dpo</a>"
      ],
      "text/plain": [
       "<IPython.core.display.HTML object>"
      ]
     },
     "metadata": {},
     "output_type": "display_data"
    },
    {
     "data": {
      "text/html": [
       " View run at <a href='https://wandb.ai/wassname/repo-dpo/runs/p343nbnx' target=\"_blank\">https://wandb.ai/wassname/repo-dpo/runs/p343nbnx</a>"
      ],
      "text/plain": [
       "<IPython.core.display.HTML object>"
      ]
     },
     "metadata": {},
     "output_type": "display_data"
    },
    {
     "name": "stderr",
     "output_type": "stream",
     "text": [
      "The input hidden states seems to be silently casted in float32, this might be related to the fact you have upcasted embedding or layer norm layers in float32. We will cast back the input in torch.bfloat16.\n"
     ]
    },
    {
     "name": "stdout",
     "output_type": "stream",
     "text": [
      "0 retain_cos_sim: 0.4961. rr_cos_sim: 0.2791\n",
      "{'rewards/accuracies': '0', 'rewards/margins': '0', 'logps/rejected': '-1.2', 'logps/chosen': '-1.1', 'loss': '1.5', 'rewards/chosen': '0', 'rewards/rejected': '0', 'retain/loss': '0', 'rr/loss': '1.5', 'logratios/pi': '0', 'logratios/ref': '0', 'weighting': '0', 'logits': '0', 'retain_cosine': '0.5', 'rr_cosine': '0.28'}\n"
     ]
    },
    {
     "name": "stderr",
     "output_type": "stream",
     "text": [
      "Could not estimate the number of tokens of the input, floating-point operations will not be computed\n"
     ]
    },
    {
     "name": "stdout",
     "output_type": "stream",
     "text": [
      "0 retain_cos_sim: 0.6829. rr_cos_sim: 0.3596\n",
      "{'rewards/accuracies': '0', 'rewards/margins': '0', 'logps/rejected': '-1.4', 'logps/chosen': '-0.94', 'loss': '1.5', 'rewards/chosen': '0', 'rewards/rejected': '0', 'retain/loss': '0', 'rr/loss': '1.5', 'logratios/pi': '0', 'logratios/ref': '0', 'weighting': '0', 'logits': '0', 'retain_cosine': '0.68', 'rr_cosine': '0.36'}\n",
      "0 retain_cos_sim: 0.6667. rr_cos_sim: 0.2278\n",
      "{'rewards/accuracies': '0', 'rewards/margins': '0', 'logps/rejected': '-1.1', 'logps/chosen': '-1.4', 'loss': '2.6', 'rewards/chosen': '0', 'rewards/rejected': '0', 'retain/loss': '0', 'rr/loss': '2.6', 'logratios/pi': '0', 'logratios/ref': '0', 'weighting': '0', 'logits': '0', 'retain_cosine': '0.67', 'rr_cosine': '0.23'}\n",
      "0 retain_cos_sim: 0.7663. rr_cos_sim: 0.3793\n",
      "{'rewards/accuracies': '0', 'rewards/margins': '0', 'logps/rejected': '-0.84', 'logps/chosen': '-0.75', 'loss': '2', 'rewards/chosen': '0', 'rewards/rejected': '0', 'retain/loss': '0', 'rr/loss': '2', 'logratios/pi': '0', 'logratios/ref': '0', 'weighting': '0', 'logits': '0', 'retain_cosine': '0.77', 'rr_cosine': '0.38'}\n",
      "0 retain_cos_sim: 0.7259. rr_cos_sim: 0.6083\n",
      "{'rewards/accuracies': '0', 'rewards/margins': '0', 'logps/rejected': '-1.7', 'logps/chosen': '-2.1', 'loss': '1', 'rewards/chosen': '0', 'rewards/rejected': '0', 'retain/loss': '0', 'rr/loss': '1', 'logratios/pi': '0', 'logratios/ref': '0', 'weighting': '0', 'logits': '0', 'retain_cosine': '0.73', 'rr_cosine': '0.61'}\n",
      "0 retain_cos_sim: 0.8170. rr_cos_sim: 0.4903\n",
      "{'rewards/accuracies': '0', 'rewards/margins': '0', 'logps/rejected': '-1.1', 'logps/chosen': '-1.6', 'loss': '2.1', 'rewards/chosen': '0', 'rewards/rejected': '0', 'retain/loss': '0', 'rr/loss': '2.1', 'logratios/pi': '0', 'logratios/ref': '0', 'weighting': '0', 'logits': '0', 'retain_cosine': '0.82', 'rr_cosine': '0.49'}\n",
      "0 retain_cos_sim: 0.7025. rr_cos_sim: 0.4025\n",
      "{'rewards/accuracies': '0', 'rewards/margins': '0', 'logps/rejected': '-1.6', 'logps/chosen': '-1.1', 'loss': '1.7', 'rewards/chosen': '0', 'rewards/rejected': '0', 'retain/loss': '0', 'rr/loss': '1.7', 'logratios/pi': '0', 'logratios/ref': '0', 'weighting': '0', 'logits': '0', 'retain_cosine': '0.7', 'rr_cosine': '0.4'}\n",
      "0 retain_cos_sim: 0.8063. rr_cos_sim: 0.5249\n",
      "{'rewards/accuracies': '0', 'rewards/margins': '0', 'logps/rejected': '-0.86', 'logps/chosen': '-0.92', 'loss': '1.6', 'rewards/chosen': '0', 'rewards/rejected': '0', 'retain/loss': '0', 'rr/loss': '1.6', 'logratios/pi': '0', 'logratios/ref': '0', 'weighting': '0', 'logits': '0', 'retain_cosine': '0.81', 'rr_cosine': '0.52'}\n",
      "0 retain_cos_sim: 0.7643. rr_cos_sim: 0.3461\n",
      "{'rewards/accuracies': '0', 'rewards/margins': '0', 'logps/rejected': '-0.97', 'logps/chosen': '-1', 'loss': '2.3', 'rewards/chosen': '0', 'rewards/rejected': '0', 'retain/loss': '0', 'rr/loss': '2.3', 'logratios/pi': '0', 'logratios/ref': '0', 'weighting': '0', 'logits': '0', 'retain_cosine': '0.76', 'rr_cosine': '0.35'}\n",
      "0 retain_cos_sim: 0.4429. rr_cos_sim: 0.2052\n",
      "{'rewards/accuracies': '0', 'rewards/margins': '0', 'logps/rejected': '-1.6', 'logps/chosen': '-1.7', 'loss': '2.2', 'rewards/chosen': '0', 'rewards/rejected': '0', 'retain/loss': '0', 'rr/loss': '2.2', 'logratios/pi': '0', 'logratios/ref': '0', 'weighting': '0', 'logits': '0', 'retain_cosine': '0.44', 'rr_cosine': '0.21'}\n"
     ]
    },
    {
     "data": {
      "text/html": [
       "\n",
       "    <div>\n",
       "      \n",
       "      <progress value='151' max='240' style='width:300px; height:20px; vertical-align: middle;'></progress>\n",
       "      [151/240 1:57:12 < 1:10:00, 0.02 it/s, Epoch 0.62/1]\n",
       "    </div>\n",
       "    <table border=\"1\" class=\"dataframe\">\n",
       "  <thead>\n",
       " <tr style=\"text-align: left;\">\n",
       "      <th>Step</th>\n",
       "      <th>Training Loss</th>\n",
       "    </tr>\n",
       "  </thead>\n",
       "  <tbody>\n",
       "    <tr>\n",
       "      <td>1</td>\n",
       "      <td>1.864922</td>\n",
       "    </tr>\n",
       "    <tr>\n",
       "      <td>2</td>\n",
       "      <td>2.504518</td>\n",
       "    </tr>\n",
       "    <tr>\n",
       "      <td>3</td>\n",
       "      <td>2.938562</td>\n",
       "    </tr>\n",
       "    <tr>\n",
       "      <td>4</td>\n",
       "      <td>2.267556</td>\n",
       "    </tr>\n",
       "    <tr>\n",
       "      <td>5</td>\n",
       "      <td>2.226819</td>\n",
       "    </tr>\n",
       "    <tr>\n",
       "      <td>6</td>\n",
       "      <td>2.129187</td>\n",
       "    </tr>\n",
       "    <tr>\n",
       "      <td>7</td>\n",
       "      <td>2.247849</td>\n",
       "    </tr>\n",
       "    <tr>\n",
       "      <td>8</td>\n",
       "      <td>2.003983</td>\n",
       "    </tr>\n",
       "    <tr>\n",
       "      <td>9</td>\n",
       "      <td>2.176797</td>\n",
       "    </tr>\n",
       "    <tr>\n",
       "      <td>10</td>\n",
       "      <td>1.838259</td>\n",
       "    </tr>\n",
       "    <tr>\n",
       "      <td>11</td>\n",
       "      <td>2.369978</td>\n",
       "    </tr>\n",
       "    <tr>\n",
       "      <td>12</td>\n",
       "      <td>2.196020</td>\n",
       "    </tr>\n",
       "    <tr>\n",
       "      <td>13</td>\n",
       "      <td>2.489142</td>\n",
       "    </tr>\n",
       "    <tr>\n",
       "      <td>14</td>\n",
       "      <td>2.292098</td>\n",
       "    </tr>\n",
       "    <tr>\n",
       "      <td>15</td>\n",
       "      <td>2.449441</td>\n",
       "    </tr>\n",
       "    <tr>\n",
       "      <td>16</td>\n",
       "      <td>2.086056</td>\n",
       "    </tr>\n",
       "    <tr>\n",
       "      <td>17</td>\n",
       "      <td>2.116599</td>\n",
       "    </tr>\n",
       "    <tr>\n",
       "      <td>18</td>\n",
       "      <td>2.028090</td>\n",
       "    </tr>\n",
       "    <tr>\n",
       "      <td>19</td>\n",
       "      <td>2.165276</td>\n",
       "    </tr>\n",
       "    <tr>\n",
       "      <td>20</td>\n",
       "      <td>1.911962</td>\n",
       "    </tr>\n",
       "    <tr>\n",
       "      <td>21</td>\n",
       "      <td>2.256976</td>\n",
       "    </tr>\n",
       "    <tr>\n",
       "      <td>22</td>\n",
       "      <td>1.791228</td>\n",
       "    </tr>\n",
       "    <tr>\n",
       "      <td>23</td>\n",
       "      <td>2.047930</td>\n",
       "    </tr>\n",
       "    <tr>\n",
       "      <td>24</td>\n",
       "      <td>2.630485</td>\n",
       "    </tr>\n",
       "    <tr>\n",
       "      <td>25</td>\n",
       "      <td>2.227300</td>\n",
       "    </tr>\n",
       "    <tr>\n",
       "      <td>26</td>\n",
       "      <td>1.829011</td>\n",
       "    </tr>\n",
       "    <tr>\n",
       "      <td>27</td>\n",
       "      <td>2.411896</td>\n",
       "    </tr>\n",
       "    <tr>\n",
       "      <td>28</td>\n",
       "      <td>1.863791</td>\n",
       "    </tr>\n",
       "    <tr>\n",
       "      <td>29</td>\n",
       "      <td>2.234487</td>\n",
       "    </tr>\n",
       "    <tr>\n",
       "      <td>30</td>\n",
       "      <td>2.009817</td>\n",
       "    </tr>\n",
       "    <tr>\n",
       "      <td>31</td>\n",
       "      <td>1.996631</td>\n",
       "    </tr>\n",
       "    <tr>\n",
       "      <td>32</td>\n",
       "      <td>1.984066</td>\n",
       "    </tr>\n",
       "    <tr>\n",
       "      <td>33</td>\n",
       "      <td>1.810903</td>\n",
       "    </tr>\n",
       "    <tr>\n",
       "      <td>34</td>\n",
       "      <td>2.906218</td>\n",
       "    </tr>\n",
       "    <tr>\n",
       "      <td>35</td>\n",
       "      <td>2.378808</td>\n",
       "    </tr>\n",
       "    <tr>\n",
       "      <td>36</td>\n",
       "      <td>2.050473</td>\n",
       "    </tr>\n",
       "    <tr>\n",
       "      <td>37</td>\n",
       "      <td>1.452526</td>\n",
       "    </tr>\n",
       "    <tr>\n",
       "      <td>38</td>\n",
       "      <td>1.979924</td>\n",
       "    </tr>\n",
       "    <tr>\n",
       "      <td>39</td>\n",
       "      <td>2.185029</td>\n",
       "    </tr>\n",
       "    <tr>\n",
       "      <td>40</td>\n",
       "      <td>1.989811</td>\n",
       "    </tr>\n",
       "    <tr>\n",
       "      <td>41</td>\n",
       "      <td>2.110498</td>\n",
       "    </tr>\n",
       "    <tr>\n",
       "      <td>42</td>\n",
       "      <td>2.100628</td>\n",
       "    </tr>\n",
       "    <tr>\n",
       "      <td>43</td>\n",
       "      <td>1.802139</td>\n",
       "    </tr>\n",
       "    <tr>\n",
       "      <td>44</td>\n",
       "      <td>2.056468</td>\n",
       "    </tr>\n",
       "    <tr>\n",
       "      <td>45</td>\n",
       "      <td>2.091843</td>\n",
       "    </tr>\n",
       "    <tr>\n",
       "      <td>46</td>\n",
       "      <td>1.656291</td>\n",
       "    </tr>\n",
       "    <tr>\n",
       "      <td>47</td>\n",
       "      <td>2.767761</td>\n",
       "    </tr>\n",
       "    <tr>\n",
       "      <td>48</td>\n",
       "      <td>2.235160</td>\n",
       "    </tr>\n",
       "    <tr>\n",
       "      <td>49</td>\n",
       "      <td>1.918879</td>\n",
       "    </tr>\n",
       "    <tr>\n",
       "      <td>50</td>\n",
       "      <td>1.535796</td>\n",
       "    </tr>\n",
       "    <tr>\n",
       "      <td>51</td>\n",
       "      <td>1.665359</td>\n",
       "    </tr>\n",
       "    <tr>\n",
       "      <td>52</td>\n",
       "      <td>1.909591</td>\n",
       "    </tr>\n",
       "    <tr>\n",
       "      <td>53</td>\n",
       "      <td>1.840328</td>\n",
       "    </tr>\n",
       "    <tr>\n",
       "      <td>54</td>\n",
       "      <td>2.010879</td>\n",
       "    </tr>\n",
       "    <tr>\n",
       "      <td>55</td>\n",
       "      <td>1.562165</td>\n",
       "    </tr>\n",
       "    <tr>\n",
       "      <td>56</td>\n",
       "      <td>1.602186</td>\n",
       "    </tr>\n",
       "    <tr>\n",
       "      <td>57</td>\n",
       "      <td>1.807508</td>\n",
       "    </tr>\n",
       "    <tr>\n",
       "      <td>58</td>\n",
       "      <td>2.275334</td>\n",
       "    </tr>\n",
       "    <tr>\n",
       "      <td>59</td>\n",
       "      <td>2.517337</td>\n",
       "    </tr>\n",
       "    <tr>\n",
       "      <td>60</td>\n",
       "      <td>1.721435</td>\n",
       "    </tr>\n",
       "    <tr>\n",
       "      <td>61</td>\n",
       "      <td>1.989049</td>\n",
       "    </tr>\n",
       "    <tr>\n",
       "      <td>62</td>\n",
       "      <td>2.112292</td>\n",
       "    </tr>\n",
       "    <tr>\n",
       "      <td>63</td>\n",
       "      <td>1.884271</td>\n",
       "    </tr>\n",
       "    <tr>\n",
       "      <td>64</td>\n",
       "      <td>2.080877</td>\n",
       "    </tr>\n",
       "    <tr>\n",
       "      <td>65</td>\n",
       "      <td>1.832465</td>\n",
       "    </tr>\n",
       "    <tr>\n",
       "      <td>66</td>\n",
       "      <td>2.026038</td>\n",
       "    </tr>\n",
       "    <tr>\n",
       "      <td>67</td>\n",
       "      <td>2.068151</td>\n",
       "    </tr>\n",
       "    <tr>\n",
       "      <td>68</td>\n",
       "      <td>1.677610</td>\n",
       "    </tr>\n",
       "    <tr>\n",
       "      <td>69</td>\n",
       "      <td>2.165240</td>\n",
       "    </tr>\n",
       "    <tr>\n",
       "      <td>70</td>\n",
       "      <td>1.821990</td>\n",
       "    </tr>\n",
       "    <tr>\n",
       "      <td>71</td>\n",
       "      <td>1.960888</td>\n",
       "    </tr>\n",
       "    <tr>\n",
       "      <td>72</td>\n",
       "      <td>1.782569</td>\n",
       "    </tr>\n",
       "    <tr>\n",
       "      <td>73</td>\n",
       "      <td>2.080025</td>\n",
       "    </tr>\n",
       "    <tr>\n",
       "      <td>74</td>\n",
       "      <td>3.484097</td>\n",
       "    </tr>\n",
       "    <tr>\n",
       "      <td>75</td>\n",
       "      <td>2.555753</td>\n",
       "    </tr>\n",
       "    <tr>\n",
       "      <td>76</td>\n",
       "      <td>1.918846</td>\n",
       "    </tr>\n",
       "    <tr>\n",
       "      <td>77</td>\n",
       "      <td>2.386149</td>\n",
       "    </tr>\n",
       "    <tr>\n",
       "      <td>78</td>\n",
       "      <td>1.715257</td>\n",
       "    </tr>\n",
       "    <tr>\n",
       "      <td>79</td>\n",
       "      <td>1.546092</td>\n",
       "    </tr>\n",
       "    <tr>\n",
       "      <td>80</td>\n",
       "      <td>2.537435</td>\n",
       "    </tr>\n",
       "    <tr>\n",
       "      <td>81</td>\n",
       "      <td>2.499448</td>\n",
       "    </tr>\n",
       "    <tr>\n",
       "      <td>82</td>\n",
       "      <td>1.967840</td>\n",
       "    </tr>\n",
       "    <tr>\n",
       "      <td>83</td>\n",
       "      <td>1.862793</td>\n",
       "    </tr>\n",
       "    <tr>\n",
       "      <td>84</td>\n",
       "      <td>2.682199</td>\n",
       "    </tr>\n",
       "    <tr>\n",
       "      <td>85</td>\n",
       "      <td>2.126638</td>\n",
       "    </tr>\n",
       "    <tr>\n",
       "      <td>86</td>\n",
       "      <td>2.023248</td>\n",
       "    </tr>\n",
       "    <tr>\n",
       "      <td>87</td>\n",
       "      <td>2.178815</td>\n",
       "    </tr>\n",
       "    <tr>\n",
       "      <td>88</td>\n",
       "      <td>1.752474</td>\n",
       "    </tr>\n",
       "    <tr>\n",
       "      <td>89</td>\n",
       "      <td>2.186728</td>\n",
       "    </tr>\n",
       "    <tr>\n",
       "      <td>90</td>\n",
       "      <td>2.207738</td>\n",
       "    </tr>\n",
       "    <tr>\n",
       "      <td>91</td>\n",
       "      <td>2.135943</td>\n",
       "    </tr>\n",
       "    <tr>\n",
       "      <td>92</td>\n",
       "      <td>1.898654</td>\n",
       "    </tr>\n",
       "    <tr>\n",
       "      <td>93</td>\n",
       "      <td>2.014854</td>\n",
       "    </tr>\n",
       "    <tr>\n",
       "      <td>94</td>\n",
       "      <td>2.163488</td>\n",
       "    </tr>\n",
       "    <tr>\n",
       "      <td>95</td>\n",
       "      <td>1.668036</td>\n",
       "    </tr>\n",
       "    <tr>\n",
       "      <td>96</td>\n",
       "      <td>2.653702</td>\n",
       "    </tr>\n",
       "    <tr>\n",
       "      <td>97</td>\n",
       "      <td>2.151911</td>\n",
       "    </tr>\n",
       "    <tr>\n",
       "      <td>98</td>\n",
       "      <td>2.168740</td>\n",
       "    </tr>\n",
       "    <tr>\n",
       "      <td>99</td>\n",
       "      <td>1.723514</td>\n",
       "    </tr>\n",
       "    <tr>\n",
       "      <td>100</td>\n",
       "      <td>1.962905</td>\n",
       "    </tr>\n",
       "    <tr>\n",
       "      <td>101</td>\n",
       "      <td>1.662010</td>\n",
       "    </tr>\n",
       "    <tr>\n",
       "      <td>102</td>\n",
       "      <td>1.842979</td>\n",
       "    </tr>\n",
       "    <tr>\n",
       "      <td>103</td>\n",
       "      <td>2.063117</td>\n",
       "    </tr>\n",
       "    <tr>\n",
       "      <td>104</td>\n",
       "      <td>1.860339</td>\n",
       "    </tr>\n",
       "    <tr>\n",
       "      <td>105</td>\n",
       "      <td>1.819301</td>\n",
       "    </tr>\n",
       "    <tr>\n",
       "      <td>106</td>\n",
       "      <td>2.026927</td>\n",
       "    </tr>\n",
       "    <tr>\n",
       "      <td>107</td>\n",
       "      <td>1.741687</td>\n",
       "    </tr>\n",
       "    <tr>\n",
       "      <td>108</td>\n",
       "      <td>1.943241</td>\n",
       "    </tr>\n",
       "    <tr>\n",
       "      <td>109</td>\n",
       "      <td>1.769711</td>\n",
       "    </tr>\n",
       "    <tr>\n",
       "      <td>110</td>\n",
       "      <td>2.120327</td>\n",
       "    </tr>\n",
       "    <tr>\n",
       "      <td>111</td>\n",
       "      <td>1.822132</td>\n",
       "    </tr>\n",
       "    <tr>\n",
       "      <td>112</td>\n",
       "      <td>1.924720</td>\n",
       "    </tr>\n",
       "    <tr>\n",
       "      <td>113</td>\n",
       "      <td>1.982443</td>\n",
       "    </tr>\n",
       "    <tr>\n",
       "      <td>114</td>\n",
       "      <td>2.185170</td>\n",
       "    </tr>\n",
       "    <tr>\n",
       "      <td>115</td>\n",
       "      <td>2.259468</td>\n",
       "    </tr>\n",
       "    <tr>\n",
       "      <td>116</td>\n",
       "      <td>1.704603</td>\n",
       "    </tr>\n",
       "    <tr>\n",
       "      <td>117</td>\n",
       "      <td>2.131890</td>\n",
       "    </tr>\n",
       "    <tr>\n",
       "      <td>118</td>\n",
       "      <td>1.995609</td>\n",
       "    </tr>\n",
       "    <tr>\n",
       "      <td>119</td>\n",
       "      <td>2.084706</td>\n",
       "    </tr>\n",
       "    <tr>\n",
       "      <td>120</td>\n",
       "      <td>3.409088</td>\n",
       "    </tr>\n",
       "    <tr>\n",
       "      <td>121</td>\n",
       "      <td>2.453061</td>\n",
       "    </tr>\n",
       "    <tr>\n",
       "      <td>122</td>\n",
       "      <td>1.887028</td>\n",
       "    </tr>\n",
       "    <tr>\n",
       "      <td>123</td>\n",
       "      <td>1.940368</td>\n",
       "    </tr>\n",
       "    <tr>\n",
       "      <td>124</td>\n",
       "      <td>2.197851</td>\n",
       "    </tr>\n",
       "    <tr>\n",
       "      <td>125</td>\n",
       "      <td>1.977076</td>\n",
       "    </tr>\n",
       "    <tr>\n",
       "      <td>126</td>\n",
       "      <td>1.830851</td>\n",
       "    </tr>\n",
       "    <tr>\n",
       "      <td>127</td>\n",
       "      <td>1.833516</td>\n",
       "    </tr>\n",
       "    <tr>\n",
       "      <td>128</td>\n",
       "      <td>1.931164</td>\n",
       "    </tr>\n",
       "    <tr>\n",
       "      <td>129</td>\n",
       "      <td>2.665702</td>\n",
       "    </tr>\n",
       "    <tr>\n",
       "      <td>130</td>\n",
       "      <td>1.947752</td>\n",
       "    </tr>\n",
       "    <tr>\n",
       "      <td>131</td>\n",
       "      <td>1.936474</td>\n",
       "    </tr>\n",
       "    <tr>\n",
       "      <td>132</td>\n",
       "      <td>1.959670</td>\n",
       "    </tr>\n",
       "    <tr>\n",
       "      <td>133</td>\n",
       "      <td>2.187840</td>\n",
       "    </tr>\n",
       "    <tr>\n",
       "      <td>134</td>\n",
       "      <td>1.811736</td>\n",
       "    </tr>\n",
       "    <tr>\n",
       "      <td>135</td>\n",
       "      <td>1.942620</td>\n",
       "    </tr>\n",
       "    <tr>\n",
       "      <td>136</td>\n",
       "      <td>2.177817</td>\n",
       "    </tr>\n",
       "    <tr>\n",
       "      <td>137</td>\n",
       "      <td>2.161500</td>\n",
       "    </tr>\n",
       "    <tr>\n",
       "      <td>138</td>\n",
       "      <td>1.598638</td>\n",
       "    </tr>\n",
       "    <tr>\n",
       "      <td>139</td>\n",
       "      <td>2.524598</td>\n",
       "    </tr>\n",
       "    <tr>\n",
       "      <td>140</td>\n",
       "      <td>16.751736</td>\n",
       "    </tr>\n",
       "    <tr>\n",
       "      <td>141</td>\n",
       "      <td>2.497593</td>\n",
       "    </tr>\n",
       "    <tr>\n",
       "      <td>142</td>\n",
       "      <td>2.241097</td>\n",
       "    </tr>\n",
       "    <tr>\n",
       "      <td>143</td>\n",
       "      <td>5.544798</td>\n",
       "    </tr>\n",
       "    <tr>\n",
       "      <td>144</td>\n",
       "      <td>10.600598</td>\n",
       "    </tr>\n",
       "    <tr>\n",
       "      <td>145</td>\n",
       "      <td>4.714582</td>\n",
       "    </tr>\n",
       "    <tr>\n",
       "      <td>146</td>\n",
       "      <td>2.903352</td>\n",
       "    </tr>\n",
       "    <tr>\n",
       "      <td>147</td>\n",
       "      <td>15.896378</td>\n",
       "    </tr>\n",
       "    <tr>\n",
       "      <td>148</td>\n",
       "      <td>4.515283</td>\n",
       "    </tr>\n",
       "    <tr>\n",
       "      <td>149</td>\n",
       "      <td>2.983676</td>\n",
       "    </tr>\n",
       "  </tbody>\n",
       "</table><p>"
      ],
      "text/plain": [
       "<IPython.core.display.HTML object>"
      ]
     },
     "metadata": {},
     "output_type": "display_data"
    },
    {
     "name": "stdout",
     "output_type": "stream",
     "text": [
      "10 retain_cos_sim: 0.4660. rr_cos_sim: 0.2793\n",
      "{'rewards/accuracies': '0.67', 'rewards/margins': '0.0012', 'logps/rejected': '-1.3', 'logps/chosen': '-1.2', 'loss': '1.3', 'rewards/chosen': '-0.0056', 'rewards/rejected': '-0.0069', 'retain/loss': '0.0038', 'rr/loss': '1.3', 'logratios/pi': '0', 'logratios/ref': '0', 'weighting': '0', 'logits': '0', 'retain_cosine': '0.47', 'rr_cosine': '0.28'}\n",
      "10 retain_cos_sim: 0.8623. rr_cos_sim: 0.3401\n",
      "{'rewards/accuracies': '0.33', 'rewards/margins': '-0.0063', 'logps/rejected': '-1.2', 'logps/chosen': '-1.1', 'loss': '3.9', 'rewards/chosen': '-0.022', 'rewards/rejected': '-0.016', 'retain/loss': '0.0098', 'rr/loss': '3.9', 'logratios/pi': '0', 'logratios/ref': '0', 'weighting': '0', 'logits': '0', 'retain_cosine': '0.86', 'rr_cosine': '0.34'}\n",
      "10 retain_cos_sim: 0.5523. rr_cos_sim: 0.3334\n",
      "{'rewards/accuracies': '0.67', 'rewards/margins': '0.018', 'logps/rejected': '-1.3', 'logps/chosen': '-1.3', 'loss': '1.3', 'rewards/chosen': '-0.0095', 'rewards/rejected': '-0.027', 'retain/loss': '0.0049', 'rr/loss': '1.3', 'logratios/pi': '0', 'logratios/ref': '0', 'weighting': '0', 'logits': '0', 'retain_cosine': '0.55', 'rr_cosine': '0.33'}\n",
      "10 retain_cos_sim: 0.6256. rr_cos_sim: 0.2862\n",
      "{'rewards/accuracies': '0.67', 'rewards/margins': '0.0031', 'logps/rejected': '-1', 'logps/chosen': '-1', 'loss': '2.4', 'rewards/chosen': '-0.016', 'rewards/rejected': '-0.02', 'retain/loss': '0.0062', 'rr/loss': '2.4', 'logratios/pi': '0', 'logratios/ref': '0', 'weighting': '0', 'logits': '0', 'retain_cosine': '0.63', 'rr_cosine': '0.29'}\n",
      "10 retain_cos_sim: 0.8701. rr_cos_sim: 0.3067\n",
      "{'rewards/accuracies': '0.33', 'rewards/margins': '-0.01', 'logps/rejected': '-1.4', 'logps/chosen': '-1.1', 'loss': '3.9', 'rewards/chosen': '-0.019', 'rewards/rejected': '-0.0083', 'retain/loss': '0.0086', 'rr/loss': '3.9', 'logratios/pi': '0', 'logratios/ref': '0', 'weighting': '0', 'logits': '0', 'retain_cosine': '0.87', 'rr_cosine': '0.31'}\n",
      "10 retain_cos_sim: 0.6245. rr_cos_sim: 0.4098\n",
      "{'rewards/accuracies': '1', 'rewards/margins': '0.015', 'logps/rejected': '-1.7', 'logps/chosen': '-1.5', 'loss': '2.2', 'rewards/chosen': '-0.015', 'rewards/rejected': '-0.03', 'retain/loss': '0.0059', 'rr/loss': '2.2', 'logratios/pi': '0', 'logratios/ref': '0', 'weighting': '0', 'logits': '0', 'retain_cosine': '0.62', 'rr_cosine': '0.41'}\n",
      "10 retain_cos_sim: 0.6067. rr_cos_sim: 0.4028\n",
      "{'rewards/accuracies': '0.33', 'rewards/margins': '-0.0014', 'logps/rejected': '-1.4', 'logps/chosen': '-1.2', 'loss': '1.1', 'rewards/chosen': '-0.015', 'rewards/rejected': '-0.014', 'retain/loss': '0.0069', 'rr/loss': '1.1', 'logratios/pi': '0', 'logratios/ref': '0', 'weighting': '0', 'logits': '0', 'retain_cosine': '0.61', 'rr_cosine': '0.4'}\n",
      "10 retain_cos_sim: 0.7658. rr_cos_sim: 0.2944\n",
      "{'rewards/accuracies': '0.67', 'rewards/margins': '-0.0036', 'logps/rejected': '-1.7', 'logps/chosen': '-0.76', 'loss': '3.6', 'rewards/chosen': '-0.02', 'rewards/rejected': '-0.016', 'retain/loss': '0.0094', 'rr/loss': '3.6', 'logratios/pi': '0', 'logratios/ref': '0', 'weighting': '0', 'logits': '0', 'retain_cosine': '0.77', 'rr_cosine': '0.29'}\n",
      "10 retain_cos_sim: 0.6550. rr_cos_sim: 0.3455\n",
      "{'rewards/accuracies': '0.33', 'rewards/margins': '-0.002', 'logps/rejected': '-1.2', 'logps/chosen': '-1.1', 'loss': '1.6', 'rewards/chosen': '-0.018', 'rewards/rejected': '-0.016', 'retain/loss': '0.0063', 'rr/loss': '1.6', 'logratios/pi': '0', 'logratios/ref': '0', 'weighting': '0', 'logits': '0', 'retain_cosine': '0.65', 'rr_cosine': '0.35'}\n",
      "10 retain_cos_sim: 0.4705. rr_cos_sim: 0.2725\n",
      "{'rewards/accuracies': '1', 'rewards/margins': '0.011', 'logps/rejected': '-1', 'logps/chosen': '-1.5', 'loss': '2.5', 'rewards/chosen': '-0.011', 'rewards/rejected': '-0.022', 'retain/loss': '0.0045', 'rr/loss': '2.5', 'logratios/pi': '0', 'logratios/ref': '0', 'weighting': '0', 'logits': '0', 'retain_cosine': '0.47', 'rr_cosine': '0.27'}\n",
      "20 retain_cos_sim: 0.8403. rr_cos_sim: 0.3835\n",
      "{'rewards/accuracies': '0.33', 'rewards/margins': '-0.0011', 'logps/rejected': '-1.4', 'logps/chosen': '-1.4', 'loss': '2.3', 'rewards/chosen': '-0.049', 'rewards/rejected': '-0.048', 'retain/loss': '0.018', 'rr/loss': '2.3', 'logratios/pi': '0', 'logratios/ref': '0', 'weighting': '0', 'logits': '0', 'retain_cosine': '0.84', 'rr_cosine': '0.38'}\n",
      "20 retain_cos_sim: 0.7476. rr_cos_sim: 0.3519\n",
      "{'rewards/accuracies': '0.33', 'rewards/margins': '-0.023', 'logps/rejected': '-1.8', 'logps/chosen': '-1.7', 'loss': '3.3', 'rewards/chosen': '-0.089', 'rewards/rejected': '-0.066', 'retain/loss': '0.024', 'rr/loss': '3.3', 'logratios/pi': '0', 'logratios/ref': '0', 'weighting': '0', 'logits': '0', 'retain_cosine': '0.75', 'rr_cosine': '0.35'}\n",
      "20 retain_cos_sim: 0.5040. rr_cos_sim: 0.3717\n",
      "{'rewards/accuracies': '0.67', 'rewards/margins': '0.0031', 'logps/rejected': '-1.9', 'logps/chosen': '-3.1', 'loss': '1.4', 'rewards/chosen': '-0.092', 'rewards/rejected': '-0.095', 'retain/loss': '0.011', 'rr/loss': '1.4', 'logratios/pi': '0', 'logratios/ref': '0', 'weighting': '0', 'logits': '0', 'retain_cosine': '0.5', 'rr_cosine': '0.37'}\n",
      "20 retain_cos_sim: 0.7237. rr_cos_sim: 0.3388\n",
      "{'rewards/accuracies': '0.33', 'rewards/margins': '-0.0061', 'logps/rejected': '-1.5', 'logps/chosen': '-1.7', 'loss': '3', 'rewards/chosen': '-0.067', 'rewards/rejected': '-0.061', 'retain/loss': '0.021', 'rr/loss': '3', 'logratios/pi': '0', 'logratios/ref': '0', 'weighting': '0', 'logits': '0', 'retain_cosine': '0.72', 'rr_cosine': '0.34'}\n",
      "20 retain_cos_sim: 0.7040. rr_cos_sim: 0.4012\n",
      "{'rewards/accuracies': '0.33', 'rewards/margins': '0.0034', 'logps/rejected': '-1.5', 'logps/chosen': '-2', 'loss': '1.7', 'rewards/chosen': '-0.037', 'rewards/rejected': '-0.041', 'retain/loss': '0.013', 'rr/loss': '1.7', 'logratios/pi': '0', 'logratios/ref': '0', 'weighting': '0', 'logits': '0', 'retain_cosine': '0.7', 'rr_cosine': '0.4'}\n",
      "20 retain_cos_sim: 0.7450. rr_cos_sim: 0.4876\n",
      "{'rewards/accuracies': '0.33', 'rewards/margins': '-0.0024', 'logps/rejected': '-2', 'logps/chosen': '-1.7', 'loss': '1.8', 'rewards/chosen': '-0.072', 'rewards/rejected': '-0.069', 'retain/loss': '0.015', 'rr/loss': '1.8', 'logratios/pi': '0', 'logratios/ref': '0', 'weighting': '0', 'logits': '0', 'retain_cosine': '0.75', 'rr_cosine': '0.49'}\n",
      "20 retain_cos_sim: 0.6645. rr_cos_sim: 0.2996\n",
      "{'rewards/accuracies': '0.33', 'rewards/margins': '0.018', 'logps/rejected': '-1.4', 'logps/chosen': '-1.8', 'loss': '2', 'rewards/chosen': '-0.047', 'rewards/rejected': '-0.064', 'retain/loss': '0.018', 'rr/loss': '2', 'logratios/pi': '0', 'logratios/ref': '0', 'weighting': '0', 'logits': '0', 'retain_cosine': '0.66', 'rr_cosine': '0.3'}\n",
      "20 retain_cos_sim: 0.4905. rr_cos_sim: 0.2341\n",
      "{'rewards/accuracies': '0.33', 'rewards/margins': '0.016', 'logps/rejected': '-2.5', 'logps/chosen': '-1.6', 'loss': '2.3', 'rewards/chosen': '-0.041', 'rewards/rejected': '-0.058', 'retain/loss': '0.0088', 'rr/loss': '2.3', 'logratios/pi': '0', 'logratios/ref': '0', 'weighting': '0', 'logits': '0', 'retain_cosine': '0.49', 'rr_cosine': '0.23'}\n",
      "20 retain_cos_sim: 0.6178. rr_cos_sim: 0.2856\n",
      "{'rewards/accuracies': '0.33', 'rewards/margins': '-0.026', 'logps/rejected': '-1.6', 'logps/chosen': '-1.6', 'loss': '2.2', 'rewards/chosen': '-0.062', 'rewards/rejected': '-0.036', 'retain/loss': '0.016', 'rr/loss': '2.2', 'logratios/pi': '0', 'logratios/ref': '0', 'weighting': '0', 'logits': '0', 'retain_cosine': '0.62', 'rr_cosine': '0.29'}\n",
      "20 retain_cos_sim: 0.6516. rr_cos_sim: 0.1680\n",
      "{'rewards/accuracies': '0.67', 'rewards/margins': '-0.019', 'logps/rejected': '-1.8', 'logps/chosen': '-1.5', 'loss': '2.6', 'rewards/chosen': '-0.044', 'rewards/rejected': '-0.026', 'retain/loss': '0.016', 'rr/loss': '2.6', 'logratios/pi': '0', 'logratios/ref': '0', 'weighting': '0', 'logits': '0', 'retain_cosine': '0.65', 'rr_cosine': '0.17'}\n",
      "30 retain_cos_sim: 0.6563. rr_cos_sim: 0.3295\n",
      "{'rewards/accuracies': '1', 'rewards/margins': '0.026', 'logps/rejected': '-1.9', 'logps/chosen': '-2.7', 'loss': '2.7', 'rewards/chosen': '-0.062', 'rewards/rejected': '-0.088', 'retain/loss': '0.016', 'rr/loss': '2.7', 'logratios/pi': '0', 'logratios/ref': '0', 'weighting': '0', 'logits': '0', 'retain_cosine': '0.66', 'rr_cosine': '0.33'}\n",
      "30 retain_cos_sim: 0.6600. rr_cos_sim: 0.4381\n",
      "{'rewards/accuracies': '0.33', 'rewards/margins': '-0.012', 'logps/rejected': '-1.9', 'logps/chosen': '-1.8', 'loss': '1.5', 'rewards/chosen': '-0.088', 'rewards/rejected': '-0.076', 'retain/loss': '0.015', 'rr/loss': '1.5', 'logratios/pi': '0', 'logratios/ref': '0', 'weighting': '0', 'logits': '0', 'retain_cosine': '0.66', 'rr_cosine': '0.44'}\n",
      "30 retain_cos_sim: 0.4949. rr_cos_sim: 0.3384\n",
      "{'rewards/accuracies': '0.67', 'rewards/margins': '0.0075', 'logps/rejected': '-2.1', 'logps/chosen': '-1.8', 'loss': '2.1', 'rewards/chosen': '-0.036', 'rewards/rejected': '-0.044', 'retain/loss': '0.0088', 'rr/loss': '2.1', 'logratios/pi': '0', 'logratios/ref': '0', 'weighting': '0', 'logits': '0', 'retain_cosine': '0.49', 'rr_cosine': '0.34'}\n",
      "30 retain_cos_sim: 0.4751. rr_cos_sim: 0.4009\n",
      "{'rewards/accuracies': '0.67', 'rewards/margins': '-0.0092', 'logps/rejected': '-2.1', 'logps/chosen': '-2.4', 'loss': '1.2', 'rewards/chosen': '-0.061', 'rewards/rejected': '-0.051', 'retain/loss': '0.0088', 'rr/loss': '1.2', 'logratios/pi': '0', 'logratios/ref': '0', 'weighting': '0', 'logits': '0', 'retain_cosine': '0.48', 'rr_cosine': '0.4'}\n",
      "30 retain_cos_sim: 0.6475. rr_cos_sim: 0.3090\n",
      "{'rewards/accuracies': '0.33', 'rewards/margins': '-0.02', 'logps/rejected': '-1.9', 'logps/chosen': '-1.9', 'loss': '3.1', 'rewards/chosen': '-0.075', 'rewards/rejected': '-0.054', 'retain/loss': '0.019', 'rr/loss': '3.1', 'logratios/pi': '0', 'logratios/ref': '0', 'weighting': '0', 'logits': '0', 'retain_cosine': '0.65', 'rr_cosine': '0.31'}\n",
      "30 retain_cos_sim: 0.4947. rr_cos_sim: 0.3458\n",
      "{'rewards/accuracies': '0.33', 'rewards/margins': '-0.00027', 'logps/rejected': '-2.3', 'logps/chosen': '-2.1', 'loss': '1.3', 'rewards/chosen': '-0.096', 'rewards/rejected': '-0.095', 'retain/loss': '0.012', 'rr/loss': '1.3', 'logratios/pi': '0', 'logratios/ref': '0', 'weighting': '0', 'logits': '0', 'retain_cosine': '0.49', 'rr_cosine': '0.35'}\n",
      "30 retain_cos_sim: 0.6920. rr_cos_sim: 0.3665\n",
      "{'rewards/accuracies': '0.33', 'rewards/margins': '-0.01', 'logps/rejected': '-1.7', 'logps/chosen': '-1.6', 'loss': '2.3', 'rewards/chosen': '-0.074', 'rewards/rejected': '-0.064', 'retain/loss': '0.016', 'rr/loss': '2.3', 'logratios/pi': '0', 'logratios/ref': '0', 'weighting': '0', 'logits': '0', 'retain_cosine': '0.69', 'rr_cosine': '0.37'}\n",
      "30 retain_cos_sim: 0.5361. rr_cos_sim: 0.3074\n",
      "{'rewards/accuracies': '0.67', 'rewards/margins': '0.011', 'logps/rejected': '-1.5', 'logps/chosen': '-1.7', 'loss': '1.8', 'rewards/chosen': '-0.056', 'rewards/rejected': '-0.066', 'retain/loss': '0.012', 'rr/loss': '1.8', 'logratios/pi': '0', 'logratios/ref': '0', 'weighting': '0', 'logits': '0', 'retain_cosine': '0.54', 'rr_cosine': '0.31'}\n",
      "30 retain_cos_sim: 0.4806. rr_cos_sim: 0.3803\n",
      "{'rewards/accuracies': '0.67', 'rewards/margins': '0.011', 'logps/rejected': '-1.5', 'logps/chosen': '-1.8', 'loss': '1.8', 'rewards/chosen': '-0.06', 'rewards/rejected': '-0.072', 'retain/loss': '0.01', 'rr/loss': '1.8', 'logratios/pi': '0', 'logratios/ref': '0', 'weighting': '0', 'logits': '0', 'retain_cosine': '0.48', 'rr_cosine': '0.38'}\n",
      "30 retain_cos_sim: 0.6954. rr_cos_sim: 0.4703\n",
      "{'rewards/accuracies': '0.67', 'rewards/margins': '-0.0074', 'logps/rejected': '-1.5', 'logps/chosen': '-1.7', 'loss': '2.1', 'rewards/chosen': '-0.062', 'rewards/rejected': '-0.055', 'retain/loss': '0.015', 'rr/loss': '2.1', 'logratios/pi': '0', 'logratios/ref': '0', 'weighting': '0', 'logits': '0', 'retain_cosine': '0.7', 'rr_cosine': '0.47'}\n",
      "40 retain_cos_sim: 0.6460. rr_cos_sim: 0.4306\n",
      "{'rewards/accuracies': '0.33', 'rewards/margins': '-0.012', 'logps/rejected': '-3.8', 'logps/chosen': '-4', 'loss': '1.5', 'rewards/chosen': '-0.29', 'rewards/rejected': '-0.28', 'retain/loss': '0.022', 'rr/loss': '1.5', 'logratios/pi': '0', 'logratios/ref': '0', 'weighting': '0', 'logits': '0', 'retain_cosine': '0.65', 'rr_cosine': '0.43'}\n",
      "40 retain_cos_sim: 0.4860. rr_cos_sim: 0.3073\n",
      "{'rewards/accuracies': '0.33', 'rewards/margins': '-0.039', 'logps/rejected': '-3.2', 'logps/chosen': '-3.4', 'loss': '1.6', 'rewards/chosen': '-0.28', 'rewards/rejected': '-0.24', 'retain/loss': '0.018', 'rr/loss': '1.6', 'logratios/pi': '0', 'logratios/ref': '0', 'weighting': '0', 'logits': '0', 'retain_cosine': '0.49', 'rr_cosine': '0.31'}\n",
      "40 retain_cos_sim: 0.5917. rr_cos_sim: 0.2935\n",
      "{'rewards/accuracies': '0.67', 'rewards/margins': '0.064', 'logps/rejected': '-4', 'logps/chosen': '-3.8', 'loss': '2.9', 'rewards/chosen': '-0.25', 'rewards/rejected': '-0.31', 'retain/loss': '0.028', 'rr/loss': '2.9', 'logratios/pi': '0', 'logratios/ref': '0', 'weighting': '0', 'logits': '0', 'retain_cosine': '0.59', 'rr_cosine': '0.29'}\n",
      "40 retain_cos_sim: 0.6245. rr_cos_sim: 0.2772\n",
      "{'rewards/accuracies': '0.33', 'rewards/margins': '-0.041', 'logps/rejected': '-3.3', 'logps/chosen': '-3', 'loss': '2.3', 'rewards/chosen': '-0.2', 'rewards/rejected': '-0.16', 'retain/loss': '0.024', 'rr/loss': '2.3', 'logratios/pi': '0', 'logratios/ref': '0', 'weighting': '0', 'logits': '0', 'retain_cosine': '0.62', 'rr_cosine': '0.28'}\n",
      "40 retain_cos_sim: 0.4848. rr_cos_sim: 0.2141\n",
      "{'rewards/accuracies': '0', 'rewards/margins': '-0.16', 'logps/rejected': '-3.4', 'logps/chosen': '-3.2', 'loss': '3', 'rewards/chosen': '-0.22', 'rewards/rejected': '-0.068', 'retain/loss': '0.016', 'rr/loss': '3', 'logratios/pi': '0', 'logratios/ref': '0', 'weighting': '0', 'logits': '0', 'retain_cosine': '0.48', 'rr_cosine': '0.21'}\n",
      "40 retain_cos_sim: 0.5360. rr_cos_sim: 0.4267\n",
      "{'rewards/accuracies': '0.67', 'rewards/margins': '0.097', 'logps/rejected': '-4', 'logps/chosen': '-3.4', 'loss': '2.2', 'rewards/chosen': '-0.22', 'rewards/rejected': '-0.31', 'retain/loss': '0.018', 'rr/loss': '2.2', 'logratios/pi': '0', 'logratios/ref': '0', 'weighting': '0', 'logits': '0', 'retain_cosine': '0.54', 'rr_cosine': '0.43'}\n",
      "40 retain_cos_sim: 0.4335. rr_cos_sim: 0.1937\n",
      "{'rewards/accuracies': '0.33', 'rewards/margins': '-0.04', 'logps/rejected': '-3.8', 'logps/chosen': '-3.6', 'loss': '2.4', 'rewards/chosen': '-0.25', 'rewards/rejected': '-0.21', 'retain/loss': '0.018', 'rr/loss': '2.4', 'logratios/pi': '0', 'logratios/ref': '0', 'weighting': '0', 'logits': '0', 'retain_cosine': '0.43', 'rr_cosine': '0.19'}\n",
      "40 retain_cos_sim: 0.6047. rr_cos_sim: 0.3856\n",
      "{'rewards/accuracies': '0.33', 'rewards/margins': '-0.0029', 'logps/rejected': '-3', 'logps/chosen': '-3', 'loss': '2', 'rewards/chosen': '-0.22', 'rewards/rejected': '-0.22', 'retain/loss': '0.023', 'rr/loss': '2', 'logratios/pi': '0', 'logratios/ref': '0', 'weighting': '0', 'logits': '0', 'retain_cosine': '0.6', 'rr_cosine': '0.39'}\n",
      "40 retain_cos_sim: 0.5406. rr_cos_sim: 0.3539\n",
      "{'rewards/accuracies': '0.33', 'rewards/margins': '0.013', 'logps/rejected': '-3.5', 'logps/chosen': '-3.5', 'loss': '1.4', 'rewards/chosen': '-0.24', 'rewards/rejected': '-0.25', 'retain/loss': '0.02', 'rr/loss': '1.4', 'logratios/pi': '0', 'logratios/ref': '0', 'weighting': '0', 'logits': '0', 'retain_cosine': '0.54', 'rr_cosine': '0.35'}\n",
      "40 retain_cos_sim: 0.5681. rr_cos_sim: 0.3461\n",
      "{'rewards/accuracies': '0.33', 'rewards/margins': '-0.037', 'logps/rejected': '-2.9', 'logps/chosen': '-3.3', 'loss': '1.9', 'rewards/chosen': '-0.24', 'rewards/rejected': '-0.21', 'retain/loss': '0.023', 'rr/loss': '1.9', 'logratios/pi': '0', 'logratios/ref': '0', 'weighting': '0', 'logits': '0', 'retain_cosine': '0.57', 'rr_cosine': '0.35'}\n",
      "50 retain_cos_sim: 0.6143. rr_cos_sim: 0.4179\n",
      "{'rewards/accuracies': '0.33', 'rewards/margins': '-0.1', 'logps/rejected': '-4.1', 'logps/chosen': '-4.7', 'loss': '2.1', 'rewards/chosen': '-0.25', 'rewards/rejected': '-0.15', 'retain/loss': '0.023', 'rr/loss': '2.1', 'logratios/pi': '0', 'logratios/ref': '0', 'weighting': '0', 'logits': '0', 'retain_cosine': '0.61', 'rr_cosine': '0.42'}\n",
      "50 retain_cos_sim: 0.4956. rr_cos_sim: 0.2646\n",
      "{'rewards/accuracies': '0.33', 'rewards/margins': '0.0055', 'logps/rejected': '-3.7', 'logps/chosen': '-4.6', 'loss': '3', 'rewards/chosen': '-0.28', 'rewards/rejected': '-0.29', 'retain/loss': '0.024', 'rr/loss': '3', 'logratios/pi': '0', 'logratios/ref': '0', 'weighting': '0', 'logits': '0', 'retain_cosine': '0.5', 'rr_cosine': '0.26'}\n",
      "50 retain_cos_sim: 0.7408. rr_cos_sim: 0.5264\n",
      "{'rewards/accuracies': '0.33', 'rewards/margins': '0.017', 'logps/rejected': '-4', 'logps/chosen': '-3.5', 'loss': '1.3', 'rewards/chosen': '-0.22', 'rewards/rejected': '-0.24', 'retain/loss': '0.018', 'rr/loss': '1.3', 'logratios/pi': '0', 'logratios/ref': '0', 'weighting': '0', 'logits': '0', 'retain_cosine': '0.74', 'rr_cosine': '0.53'}\n",
      "50 retain_cos_sim: 0.5897. rr_cos_sim: 0.3881\n",
      "{'rewards/accuracies': '0', 'rewards/margins': '-0.11', 'logps/rejected': '-3.1', 'logps/chosen': '-3.6', 'loss': '1.4', 'rewards/chosen': '-0.25', 'rewards/rejected': '-0.15', 'retain/loss': '0.019', 'rr/loss': '1.4', 'logratios/pi': '0', 'logratios/ref': '0', 'weighting': '0', 'logits': '0', 'retain_cosine': '0.59', 'rr_cosine': '0.39'}\n",
      "50 retain_cos_sim: 0.4908. rr_cos_sim: 0.3187\n",
      "{'rewards/accuracies': '0.67', 'rewards/margins': '0.045', 'logps/rejected': '-4', 'logps/chosen': '-4.2', 'loss': '2', 'rewards/chosen': '-0.25', 'rewards/rejected': '-0.29', 'retain/loss': '0.016', 'rr/loss': '2', 'logratios/pi': '0', 'logratios/ref': '0', 'weighting': '0', 'logits': '0', 'retain_cosine': '0.49', 'rr_cosine': '0.32'}\n",
      "50 retain_cos_sim: 0.7030. rr_cos_sim: 0.3569\n",
      "{'rewards/accuracies': '0.33', 'rewards/margins': '0.042', 'logps/rejected': '-5.4', 'logps/chosen': '-5.4', 'loss': '2', 'rewards/chosen': '-0.4', 'rewards/rejected': '-0.44', 'retain/loss': '0.031', 'rr/loss': '2', 'logratios/pi': '0', 'logratios/ref': '0', 'weighting': '0', 'logits': '0', 'retain_cosine': '0.7', 'rr_cosine': '0.36'}\n",
      "50 retain_cos_sim: 0.2888. rr_cos_sim: 0.1686\n",
      "{'rewards/accuracies': '1', 'rewards/margins': '0.15', 'logps/rejected': '-4.2', 'logps/chosen': '-4.4', 'loss': '0.94', 'rewards/chosen': '-0.17', 'rewards/rejected': '-0.32', 'retain/loss': '0.01', 'rr/loss': '0.94', 'logratios/pi': '0', 'logratios/ref': '0', 'weighting': '0', 'logits': '0', 'retain_cosine': '0.29', 'rr_cosine': '0.17'}\n",
      "50 retain_cos_sim: 0.5126. rr_cos_sim: 0.3434\n",
      "{'rewards/accuracies': '0.33', 'rewards/margins': '-0.023', 'logps/rejected': '-4.4', 'logps/chosen': '-4.7', 'loss': '1.5', 'rewards/chosen': '-0.36', 'rewards/rejected': '-0.34', 'retain/loss': '0.018', 'rr/loss': '1.5', 'logratios/pi': '0', 'logratios/ref': '0', 'weighting': '0', 'logits': '0', 'retain_cosine': '0.51', 'rr_cosine': '0.34'}\n",
      "50 retain_cos_sim: 0.5447. rr_cos_sim: 0.3488\n",
      "{'rewards/accuracies': '0.33', 'rewards/margins': '0.023', 'logps/rejected': '-4.1', 'logps/chosen': '-3.9', 'loss': '1.2', 'rewards/chosen': '-0.29', 'rewards/rejected': '-0.32', 'retain/loss': '0.02', 'rr/loss': '1.2', 'logratios/pi': '0', 'logratios/ref': '0', 'weighting': '0', 'logits': '0', 'retain_cosine': '0.54', 'rr_cosine': '0.35'}\n",
      "50 retain_cos_sim: 0.6982. rr_cos_sim: 0.5790\n",
      "{'rewards/accuracies': '0.67', 'rewards/margins': '0.07', 'logps/rejected': '-4.8', 'logps/chosen': '-3.8', 'loss': '1.3', 'rewards/chosen': '-0.27', 'rewards/rejected': '-0.34', 'retain/loss': '0.017', 'rr/loss': '1.3', 'logratios/pi': '0', 'logratios/ref': '0', 'weighting': '0', 'logits': '0', 'retain_cosine': '0.7', 'rr_cosine': '0.58'}\n",
      "60 retain_cos_sim: 0.4698. rr_cos_sim: 0.3272\n",
      "{'rewards/accuracies': '0.67', 'rewards/margins': '-0.0028', 'logps/rejected': '-6.2', 'logps/chosen': '-5.9', 'loss': '0.96', 'rewards/chosen': '-0.51', 'rewards/rejected': '-0.5', 'retain/loss': '0.021', 'rr/loss': '0.96', 'logratios/pi': '0', 'logratios/ref': '0', 'weighting': '0', 'logits': '0', 'retain_cosine': '0.47', 'rr_cosine': '0.33'}\n",
      "60 retain_cos_sim: 0.6587. rr_cos_sim: 0.5246\n",
      "{'rewards/accuracies': '0.67', 'rewards/margins': '0.022', 'logps/rejected': '-5.3', 'logps/chosen': '-5.1', 'loss': '1.7', 'rewards/chosen': '-0.38', 'rewards/rejected': '-0.41', 'retain/loss': '0.02', 'rr/loss': '1.7', 'logratios/pi': '0', 'logratios/ref': '0', 'weighting': '0', 'logits': '0', 'retain_cosine': '0.66', 'rr_cosine': '0.52'}\n",
      "60 retain_cos_sim: 0.6199. rr_cos_sim: 0.4428\n",
      "{'rewards/accuracies': '0.67', 'rewards/margins': '-0.005', 'logps/rejected': '-5.5', 'logps/chosen': '-5.2', 'loss': '1.3', 'rewards/chosen': '-0.43', 'rewards/rejected': '-0.43', 'retain/loss': '0.023', 'rr/loss': '1.3', 'logratios/pi': '0', 'logratios/ref': '0', 'weighting': '0', 'logits': '0', 'retain_cosine': '0.62', 'rr_cosine': '0.44'}\n",
      "60 retain_cos_sim: 0.5318. rr_cos_sim: 0.3147\n",
      "{'rewards/accuracies': '0.67', 'rewards/margins': '-0.038', 'logps/rejected': '-5.1', 'logps/chosen': '-4.2', 'loss': '2.3', 'rewards/chosen': '-0.34', 'rewards/rejected': '-0.3', 'retain/loss': '0.021', 'rr/loss': '2.3', 'logratios/pi': '0', 'logratios/ref': '0', 'weighting': '0', 'logits': '0', 'retain_cosine': '0.53', 'rr_cosine': '0.31'}\n",
      "60 retain_cos_sim: 0.4812. rr_cos_sim: 0.2718\n",
      "{'rewards/accuracies': '0.33', 'rewards/margins': '-0.042', 'logps/rejected': '-4.2', 'logps/chosen': '-4.6', 'loss': '2.1', 'rewards/chosen': '-0.34', 'rewards/rejected': '-0.3', 'retain/loss': '0.021', 'rr/loss': '2.1', 'logratios/pi': '0', 'logratios/ref': '0', 'weighting': '0', 'logits': '0', 'retain_cosine': '0.48', 'rr_cosine': '0.27'}\n",
      "60 retain_cos_sim: 0.3491. rr_cos_sim: 0.2781\n",
      "{'rewards/accuracies': '0.33', 'rewards/margins': '0.036', 'logps/rejected': '-4.3', 'logps/chosen': '-4.4', 'loss': '1.3', 'rewards/chosen': '-0.3', 'rewards/rejected': '-0.34', 'retain/loss': '0.012', 'rr/loss': '1.3', 'logratios/pi': '0', 'logratios/ref': '0', 'weighting': '0', 'logits': '0', 'retain_cosine': '0.35', 'rr_cosine': '0.28'}\n",
      "60 retain_cos_sim: 0.7289. rr_cos_sim: 0.4796\n",
      "{'rewards/accuracies': '0.67', 'rewards/margins': '0.0044', 'logps/rejected': '-4.7', 'logps/chosen': '-4.8', 'loss': '1.8', 'rewards/chosen': '-0.37', 'rewards/rejected': '-0.38', 'retain/loss': '0.024', 'rr/loss': '1.8', 'logratios/pi': '0', 'logratios/ref': '0', 'weighting': '0', 'logits': '0', 'retain_cosine': '0.73', 'rr_cosine': '0.48'}\n",
      "60 retain_cos_sim: 0.5432. rr_cos_sim: 0.1506\n",
      "{'rewards/accuracies': '0.33', 'rewards/margins': '-0.14', 'logps/rejected': '-4', 'logps/chosen': '-4.6', 'loss': '4.5', 'rewards/chosen': '-0.31', 'rewards/rejected': '-0.17', 'retain/loss': '0.027', 'rr/loss': '4.5', 'logratios/pi': '0', 'logratios/ref': '0', 'weighting': '0', 'logits': '0', 'retain_cosine': '0.54', 'rr_cosine': '0.15'}\n",
      "60 retain_cos_sim: 0.4567. rr_cos_sim: 0.3128\n",
      "{'rewards/accuracies': '0.33', 'rewards/margins': '-0.019', 'logps/rejected': '-4.9', 'logps/chosen': '-4.8', 'loss': '1.2', 'rewards/chosen': '-0.39', 'rewards/rejected': '-0.37', 'retain/loss': '0.018', 'rr/loss': '1.2', 'logratios/pi': '0', 'logratios/ref': '0', 'weighting': '0', 'logits': '0', 'retain_cosine': '0.46', 'rr_cosine': '0.31'}\n",
      "60 retain_cos_sim: 0.4497. rr_cos_sim: 0.2180\n",
      "{'rewards/accuracies': '0.67', 'rewards/margins': '0.027', 'logps/rejected': '-4.8', 'logps/chosen': '-4.4', 'loss': '2.6', 'rewards/chosen': '-0.36', 'rewards/rejected': '-0.39', 'retain/loss': '0.022', 'rr/loss': '2.6', 'logratios/pi': '0', 'logratios/ref': '0', 'weighting': '0', 'logits': '0', 'retain_cosine': '0.45', 'rr_cosine': '0.22'}\n",
      "70 retain_cos_sim: 0.5419. rr_cos_sim: 0.3540\n",
      "{'rewards/accuracies': '1', 'rewards/margins': '0.11', 'logps/rejected': '-3.4', 'logps/chosen': '-2.3', 'loss': '2.5', 'rewards/chosen': '-0.12', 'rewards/rejected': '-0.23', 'retain/loss': '0.014', 'rr/loss': '2.5', 'logratios/pi': '0', 'logratios/ref': '0', 'weighting': '0', 'logits': '0', 'retain_cosine': '0.54', 'rr_cosine': '0.35'}\n",
      "70 retain_cos_sim: 0.2795. rr_cos_sim: 0.1651\n",
      "{'rewards/accuracies': '1', 'rewards/margins': '0.16', 'logps/rejected': '-3.4', 'logps/chosen': '-2.2', 'loss': '1.3', 'rewards/chosen': '-0.082', 'rewards/rejected': '-0.24', 'retain/loss': '0.0068', 'rr/loss': '1.3', 'logratios/pi': '0', 'logratios/ref': '0', 'weighting': '0', 'logits': '0', 'retain_cosine': '0.28', 'rr_cosine': '0.17'}\n",
      "70 retain_cos_sim: 0.6067. rr_cos_sim: 0.3793\n",
      "{'rewards/accuracies': '1', 'rewards/margins': '0.077', 'logps/rejected': '-3.2', 'logps/chosen': '-2.6', 'loss': '1.8', 'rewards/chosen': '-0.16', 'rewards/rejected': '-0.24', 'retain/loss': '0.016', 'rr/loss': '1.8', 'logratios/pi': '0', 'logratios/ref': '0', 'weighting': '0', 'logits': '0', 'retain_cosine': '0.61', 'rr_cosine': '0.38'}\n",
      "70 retain_cos_sim: 0.4452. rr_cos_sim: 0.1516\n",
      "{'rewards/accuracies': '0.33', 'rewards/margins': '-0.15', 'logps/rejected': '-3', 'logps/chosen': '-3.9', 'loss': '2.7', 'rewards/chosen': '-0.28', 'rewards/rejected': '-0.13', 'retain/loss': '0.018', 'rr/loss': '2.7', 'logratios/pi': '0', 'logratios/ref': '0', 'weighting': '0', 'logits': '0', 'retain_cosine': '0.45', 'rr_cosine': '0.15'}\n",
      "70 retain_cos_sim: 0.7488. rr_cos_sim: 0.4531\n",
      "{'rewards/accuracies': '0.67', 'rewards/margins': '0.037', 'logps/rejected': '-2', 'logps/chosen': '-1.6', 'loss': '2.1', 'rewards/chosen': '-0.095', 'rewards/rejected': '-0.13', 'retain/loss': '0.019', 'rr/loss': '2.1', 'logratios/pi': '0', 'logratios/ref': '0', 'weighting': '0', 'logits': '0', 'retain_cosine': '0.75', 'rr_cosine': '0.45'}\n",
      "70 retain_cos_sim: 0.5989. rr_cos_sim: 0.3655\n",
      "{'rewards/accuracies': '0.33', 'rewards/margins': '-0.042', 'logps/rejected': '-2.4', 'logps/chosen': '-2.7', 'loss': '1.5', 'rewards/chosen': '-0.17', 'rewards/rejected': '-0.13', 'retain/loss': '0.019', 'rr/loss': '1.5', 'logratios/pi': '0', 'logratios/ref': '0', 'weighting': '0', 'logits': '0', 'retain_cosine': '0.6', 'rr_cosine': '0.37'}\n",
      "70 retain_cos_sim: 0.5532. rr_cos_sim: 0.3539\n",
      "{'rewards/accuracies': '0.33', 'rewards/margins': '0.035', 'logps/rejected': '-3', 'logps/chosen': '-2.7', 'loss': '1.1', 'rewards/chosen': '-0.18', 'rewards/rejected': '-0.21', 'retain/loss': '0.016', 'rr/loss': '1.1', 'logratios/pi': '0', 'logratios/ref': '0', 'weighting': '0', 'logits': '0', 'retain_cosine': '0.55', 'rr_cosine': '0.35'}\n",
      "70 retain_cos_sim: 0.6063. rr_cos_sim: 0.3635\n",
      "{'rewards/accuracies': '0.67', 'rewards/margins': '0.044', 'logps/rejected': '-3.6', 'logps/chosen': '-3.1', 'loss': '2.2', 'rewards/chosen': '-0.17', 'rewards/rejected': '-0.21', 'retain/loss': '0.019', 'rr/loss': '2.2', 'logratios/pi': '0', 'logratios/ref': '0', 'weighting': '0', 'logits': '0', 'retain_cosine': '0.61', 'rr_cosine': '0.36'}\n",
      "70 retain_cos_sim: 0.6819. rr_cos_sim: 0.4046\n",
      "{'rewards/accuracies': '0', 'rewards/margins': '-0.1', 'logps/rejected': '-2.8', 'logps/chosen': '-3.2', 'loss': '2.4', 'rewards/chosen': '-0.17', 'rewards/rejected': '-0.071', 'retain/loss': '0.02', 'rr/loss': '2.4', 'logratios/pi': '0', 'logratios/ref': '0', 'weighting': '0', 'logits': '0', 'retain_cosine': '0.68', 'rr_cosine': '0.4'}\n",
      "70 retain_cos_sim: 0.6047. rr_cos_sim: 0.3646\n",
      "{'rewards/accuracies': '0.33', 'rewards/margins': '-0.038', 'logps/rejected': '-3.4', 'logps/chosen': '-3.6', 'loss': '2.1', 'rewards/chosen': '-0.26', 'rewards/rejected': '-0.22', 'retain/loss': '0.021', 'rr/loss': '2.1', 'logratios/pi': '0', 'logratios/ref': '0', 'weighting': '0', 'logits': '0', 'retain_cosine': '0.6', 'rr_cosine': '0.36'}\n",
      "80 retain_cos_sim: 0.6122. rr_cos_sim: 0.3093\n",
      "{'rewards/accuracies': '0.67', 'rewards/margins': '0.018', 'logps/rejected': '-3.1', 'logps/chosen': '-2.9', 'loss': '2.1', 'rewards/chosen': '-0.2', 'rewards/rejected': '-0.21', 'retain/loss': '0.02', 'rr/loss': '2.1', 'logratios/pi': '0', 'logratios/ref': '0', 'weighting': '0', 'logits': '0', 'retain_cosine': '0.61', 'rr_cosine': '0.31'}\n",
      "80 retain_cos_sim: 0.5119. rr_cos_sim: 0.3439\n",
      "{'rewards/accuracies': '1', 'rewards/margins': '0.093', 'logps/rejected': '-3.8', 'logps/chosen': '-2.8', 'loss': '1.2', 'rewards/chosen': '-0.16', 'rewards/rejected': '-0.25', 'retain/loss': '0.017', 'rr/loss': '1.2', 'logratios/pi': '0', 'logratios/ref': '0', 'weighting': '0', 'logits': '0', 'retain_cosine': '0.51', 'rr_cosine': '0.34'}\n",
      "80 retain_cos_sim: 0.6746. rr_cos_sim: 0.3536\n",
      "{'rewards/accuracies': '0', 'rewards/margins': '-0.22', 'logps/rejected': '-2.6', 'logps/chosen': '-3.8', 'loss': '4.1', 'rewards/chosen': '-0.29', 'rewards/rejected': '-0.068', 'retain/loss': '0.024', 'rr/loss': '4.1', 'logratios/pi': '0', 'logratios/ref': '0', 'weighting': '0', 'logits': '0', 'retain_cosine': '0.67', 'rr_cosine': '0.35'}\n",
      "80 retain_cos_sim: 0.4938. rr_cos_sim: 0.3396\n",
      "{'rewards/accuracies': '0.67', 'rewards/margins': '-0.012', 'logps/rejected': '-3.8', 'logps/chosen': '-3.9', 'loss': '1.4', 'rewards/chosen': '-0.32', 'rewards/rejected': '-0.31', 'retain/loss': '0.018', 'rr/loss': '1.4', 'logratios/pi': '0', 'logratios/ref': '0', 'weighting': '0', 'logits': '0', 'retain_cosine': '0.49', 'rr_cosine': '0.34'}\n",
      "80 retain_cos_sim: 0.5773. rr_cos_sim: 0.2588\n",
      "{'rewards/accuracies': '0.67', 'rewards/margins': '0.019', 'logps/rejected': '-3.3', 'logps/chosen': '-3.2', 'loss': '3.6', 'rewards/chosen': '-0.17', 'rewards/rejected': '-0.19', 'retain/loss': '0.023', 'rr/loss': '3.6', 'logratios/pi': '0', 'logratios/ref': '0', 'weighting': '0', 'logits': '0', 'retain_cosine': '0.58', 'rr_cosine': '0.26'}\n",
      "80 retain_cos_sim: 0.5828. rr_cos_sim: 0.3609\n",
      "{'rewards/accuracies': '0.33', 'rewards/margins': '-0.047', 'logps/rejected': '-3.6', 'logps/chosen': '-3.8', 'loss': '2.9', 'rewards/chosen': '-0.28', 'rewards/rejected': '-0.23', 'retain/loss': '0.021', 'rr/loss': '2.9', 'logratios/pi': '0', 'logratios/ref': '0', 'weighting': '0', 'logits': '0', 'retain_cosine': '0.58', 'rr_cosine': '0.36'}\n",
      "80 retain_cos_sim: 0.5500. rr_cos_sim: 0.2945\n",
      "{'rewards/accuracies': '0', 'rewards/margins': '-0.041', 'logps/rejected': '-2.6', 'logps/chosen': '-2.8', 'loss': '2.3', 'rewards/chosen': '-0.22', 'rewards/rejected': '-0.18', 'retain/loss': '0.021', 'rr/loss': '2.3', 'logratios/pi': '0', 'logratios/ref': '0', 'weighting': '0', 'logits': '0', 'retain_cosine': '0.55', 'rr_cosine': '0.29'}\n",
      "80 retain_cos_sim: 0.5039. rr_cos_sim: 0.2701\n",
      "{'rewards/accuracies': '0.33', 'rewards/margins': '-0.055', 'logps/rejected': '-2.6', 'logps/chosen': '-3.7', 'loss': '2.5', 'rewards/chosen': '-0.2', 'rewards/rejected': '-0.14', 'retain/loss': '0.02', 'rr/loss': '2.5', 'logratios/pi': '0', 'logratios/ref': '0', 'weighting': '0', 'logits': '0', 'retain_cosine': '0.5', 'rr_cosine': '0.27'}\n",
      "80 retain_cos_sim: 0.5671. rr_cos_sim: 0.2420\n",
      "{'rewards/accuracies': '0.33', 'rewards/margins': '-0.1', 'logps/rejected': '-2.9', 'logps/chosen': '-3.8', 'loss': '3.2', 'rewards/chosen': '-0.25', 'rewards/rejected': '-0.14', 'retain/loss': '0.025', 'rr/loss': '3.2', 'logratios/pi': '0', 'logratios/ref': '0', 'weighting': '0', 'logits': '0', 'retain_cosine': '0.57', 'rr_cosine': '0.24'}\n",
      "80 retain_cos_sim: 0.4397. rr_cos_sim: 0.2748\n",
      "{'rewards/accuracies': '0.33', 'rewards/margins': '-0.054', 'logps/rejected': '-2.4', 'logps/chosen': '-2.9', 'loss': '1.5', 'rewards/chosen': '-0.19', 'rewards/rejected': '-0.14', 'retain/loss': '0.014', 'rr/loss': '1.5', 'logratios/pi': '0', 'logratios/ref': '0', 'weighting': '0', 'logits': '0', 'retain_cosine': '0.44', 'rr_cosine': '0.27'}\n",
      "90 retain_cos_sim: 0.3871. rr_cos_sim: 0.1590\n",
      "{'rewards/accuracies': '0.67', 'rewards/margins': '-0.02', 'logps/rejected': '-3.1', 'logps/chosen': '-3.1', 'loss': '2.6', 'rewards/chosen': '-0.23', 'rewards/rejected': '-0.21', 'retain/loss': '0.023', 'rr/loss': '2.6', 'logratios/pi': '0', 'logratios/ref': '0', 'weighting': '0', 'logits': '0', 'retain_cosine': '0.39', 'rr_cosine': '0.16'}\n",
      "90 retain_cos_sim: 0.4562. rr_cos_sim: 0.2733\n",
      "{'rewards/accuracies': '0.33', 'rewards/margins': '-0.054', 'logps/rejected': '-3.5', 'logps/chosen': '-4.1', 'loss': '2.5', 'rewards/chosen': '-0.31', 'rewards/rejected': '-0.25', 'retain/loss': '0.031', 'rr/loss': '2.5', 'logratios/pi': '0', 'logratios/ref': '0', 'weighting': '0', 'logits': '0', 'retain_cosine': '0.46', 'rr_cosine': '0.27'}\n",
      "90 retain_cos_sim: 0.3779. rr_cos_sim: 0.2470\n",
      "{'rewards/accuracies': '0.67', 'rewards/margins': '-0.0071', 'logps/rejected': '-3.3', 'logps/chosen': '-3', 'loss': '1.3', 'rewards/chosen': '-0.2', 'rewards/rejected': '-0.19', 'retain/loss': '0.019', 'rr/loss': '1.3', 'logratios/pi': '0', 'logratios/ref': '0', 'weighting': '0', 'logits': '0', 'retain_cosine': '0.38', 'rr_cosine': '0.25'}\n",
      "90 retain_cos_sim: 0.4491. rr_cos_sim: 0.3044\n",
      "{'rewards/accuracies': '0.33', 'rewards/margins': '0.012', 'logps/rejected': '-3.8', 'logps/chosen': '-3.7', 'loss': '2.1', 'rewards/chosen': '-0.27', 'rewards/rejected': '-0.28', 'retain/loss': '0.027', 'rr/loss': '2.1', 'logratios/pi': '0', 'logratios/ref': '0', 'weighting': '0', 'logits': '0', 'retain_cosine': '0.45', 'rr_cosine': '0.3'}\n",
      "90 retain_cos_sim: 0.3735. rr_cos_sim: 0.2900\n",
      "{'rewards/accuracies': '0.67', 'rewards/margins': '0.02', 'logps/rejected': '-3.9', 'logps/chosen': '-3.9', 'loss': '1.6', 'rewards/chosen': '-0.29', 'rewards/rejected': '-0.31', 'retain/loss': '0.02', 'rr/loss': '1.6', 'logratios/pi': '0', 'logratios/ref': '0', 'weighting': '0', 'logits': '0', 'retain_cosine': '0.37', 'rr_cosine': '0.29'}\n",
      "90 retain_cos_sim: 0.5067. rr_cos_sim: 0.4058\n",
      "{'rewards/accuracies': '0.67', 'rewards/margins': '-0.011', 'logps/rejected': '-3.8', 'logps/chosen': '-4.1', 'loss': '2.1', 'rewards/chosen': '-0.32', 'rewards/rejected': '-0.31', 'retain/loss': '0.031', 'rr/loss': '2.1', 'logratios/pi': '0', 'logratios/ref': '0', 'weighting': '0', 'logits': '0', 'retain_cosine': '0.51', 'rr_cosine': '0.41'}\n",
      "90 retain_cos_sim: 0.4735. rr_cos_sim: 0.3358\n",
      "{'rewards/accuracies': '0.67', 'rewards/margins': '-0.01', 'logps/rejected': '-3.6', 'logps/chosen': '-4.1', 'loss': '2.7', 'rewards/chosen': '-0.27', 'rewards/rejected': '-0.26', 'retain/loss': '0.031', 'rr/loss': '2.7', 'logratios/pi': '0', 'logratios/ref': '0', 'weighting': '0', 'logits': '0', 'retain_cosine': '0.47', 'rr_cosine': '0.34'}\n",
      "90 retain_cos_sim: 0.4483. rr_cos_sim: 0.3308\n",
      "{'rewards/accuracies': '0.33', 'rewards/margins': '-0.011', 'logps/rejected': '-4.4', 'logps/chosen': '-4.4', 'loss': '2.1', 'rewards/chosen': '-0.34', 'rewards/rejected': '-0.33', 'retain/loss': '0.028', 'rr/loss': '2.1', 'logratios/pi': '0', 'logratios/ref': '0', 'weighting': '0', 'logits': '0', 'retain_cosine': '0.45', 'rr_cosine': '0.33'}\n",
      "90 retain_cos_sim: 0.4356. rr_cos_sim: 0.3477\n",
      "{'rewards/accuracies': '0.67', 'rewards/margins': '0.1', 'logps/rejected': '-4.5', 'logps/chosen': '-3.8', 'loss': '1.6', 'rewards/chosen': '-0.27', 'rewards/rejected': '-0.37', 'retain/loss': '0.024', 'rr/loss': '1.6', 'logratios/pi': '0', 'logratios/ref': '0', 'weighting': '0', 'logits': '0', 'retain_cosine': '0.44', 'rr_cosine': '0.35'}\n",
      "90 retain_cos_sim: 0.4515. rr_cos_sim: 0.3654\n",
      "{'rewards/accuracies': '0', 'rewards/margins': '-0.053', 'logps/rejected': '-4.4', 'logps/chosen': '-4.6', 'loss': '2.7', 'rewards/chosen': '-0.37', 'rewards/rejected': '-0.32', 'retain/loss': '0.032', 'rr/loss': '2.7', 'logratios/pi': '0', 'logratios/ref': '0', 'weighting': '0', 'logits': '0', 'retain_cosine': '0.45', 'rr_cosine': '0.37'}\n",
      "100 retain_cos_sim: 0.3827. rr_cos_sim: 0.2905\n",
      "{'rewards/accuracies': '1', 'rewards/margins': '0.072', 'logps/rejected': '-3.6', 'logps/chosen': '-4.6', 'loss': '0.84', 'rewards/chosen': '-0.15', 'rewards/rejected': '-0.22', 'retain/loss': '0.011', 'rr/loss': '0.84', 'logratios/pi': '0', 'logratios/ref': '0', 'weighting': '0', 'logits': '0', 'retain_cosine': '0.38', 'rr_cosine': '0.29'}\n",
      "100 retain_cos_sim: 0.4839. rr_cos_sim: 0.1972\n",
      "{'rewards/accuracies': '0.33', 'rewards/margins': '-0.055', 'logps/rejected': '-3.4', 'logps/chosen': '-3.8', 'loss': '3', 'rewards/chosen': '-0.27', 'rewards/rejected': '-0.22', 'retain/loss': '0.024', 'rr/loss': '3', 'logratios/pi': '0', 'logratios/ref': '0', 'weighting': '0', 'logits': '0', 'retain_cosine': '0.48', 'rr_cosine': '0.2'}\n",
      "100 retain_cos_sim: 0.5898. rr_cos_sim: 0.3834\n",
      "{'rewards/accuracies': '0.33', 'rewards/margins': '0.0093', 'logps/rejected': '-2.9', 'logps/chosen': '-1.9', 'loss': '1.8', 'rewards/chosen': '-0.078', 'rewards/rejected': '-0.087', 'retain/loss': '0.013', 'rr/loss': '1.8', 'logratios/pi': '0', 'logratios/ref': '0', 'weighting': '0', 'logits': '0', 'retain_cosine': '0.59', 'rr_cosine': '0.38'}\n",
      "100 retain_cos_sim: 0.4591. rr_cos_sim: 0.2744\n",
      "{'rewards/accuracies': '0.67', 'rewards/margins': '0.062', 'logps/rejected': '-3.7', 'logps/chosen': '-3', 'loss': '1.5', 'rewards/chosen': '-0.21', 'rewards/rejected': '-0.28', 'retain/loss': '0.015', 'rr/loss': '1.5', 'logratios/pi': '0', 'logratios/ref': '0', 'weighting': '0', 'logits': '0', 'retain_cosine': '0.46', 'rr_cosine': '0.27'}\n",
      "100 retain_cos_sim: 0.3179. rr_cos_sim: 0.2278\n",
      "{'rewards/accuracies': '0.67', 'rewards/margins': '0.077', 'logps/rejected': '-3.2', 'logps/chosen': '-3.2', 'loss': '1.5', 'rewards/chosen': '-0.15', 'rewards/rejected': '-0.22', 'retain/loss': '0.012', 'rr/loss': '1.5', 'logratios/pi': '0', 'logratios/ref': '0', 'weighting': '0', 'logits': '0', 'retain_cosine': '0.32', 'rr_cosine': '0.23'}\n",
      "100 retain_cos_sim: 0.5531. rr_cos_sim: 0.2755\n",
      "{'rewards/accuracies': '0.67', 'rewards/margins': '-0.04', 'logps/rejected': '-3.1', 'logps/chosen': '-1.9', 'loss': '2.4', 'rewards/chosen': '-0.087', 'rewards/rejected': '-0.047', 'retain/loss': '0.019', 'rr/loss': '2.4', 'logratios/pi': '0', 'logratios/ref': '0', 'weighting': '0', 'logits': '0', 'retain_cosine': '0.55', 'rr_cosine': '0.28'}\n",
      "100 retain_cos_sim: 0.2582. rr_cos_sim: 0.2181\n",
      "{'rewards/accuracies': '1', 'rewards/margins': '0.085', 'logps/rejected': '-3', 'logps/chosen': '-3.2', 'loss': '0.91', 'rewards/chosen': '-0.071', 'rewards/rejected': '-0.16', 'retain/loss': '0.0061', 'rr/loss': '0.91', 'logratios/pi': '0', 'logratios/ref': '0', 'weighting': '0', 'logits': '0', 'retain_cosine': '0.26', 'rr_cosine': '0.22'}\n",
      "100 retain_cos_sim: 0.4940. rr_cos_sim: 0.2922\n",
      "{'rewards/accuracies': '0.33', 'rewards/margins': '-0.01', 'logps/rejected': '-4', 'logps/chosen': '-3.3', 'loss': '1.4', 'rewards/chosen': '-0.23', 'rewards/rejected': '-0.22', 'retain/loss': '0.017', 'rr/loss': '1.4', 'logratios/pi': '0', 'logratios/ref': '0', 'weighting': '0', 'logits': '0', 'retain_cosine': '0.49', 'rr_cosine': '0.29'}\n",
      "100 retain_cos_sim: 0.4924. rr_cos_sim: 0.3381\n",
      "{'rewards/accuracies': '0.67', 'rewards/margins': '0.015', 'logps/rejected': '-2.8', 'logps/chosen': '-2.7', 'loss': '1.1', 'rewards/chosen': '-0.18', 'rewards/rejected': '-0.19', 'retain/loss': '0.016', 'rr/loss': '1.1', 'logratios/pi': '0', 'logratios/ref': '0', 'weighting': '0', 'logits': '0', 'retain_cosine': '0.49', 'rr_cosine': '0.34'}\n",
      "100 retain_cos_sim: 0.5525. rr_cos_sim: 0.2546\n",
      "{'rewards/accuracies': '0.67', 'rewards/margins': '0.0053', 'logps/rejected': '-2', 'logps/chosen': '-1.8', 'loss': '2.2', 'rewards/chosen': '-0.11', 'rewards/rejected': '-0.12', 'retain/loss': '0.017', 'rr/loss': '2.2', 'logratios/pi': '0', 'logratios/ref': '0', 'weighting': '0', 'logits': '0', 'retain_cosine': '0.55', 'rr_cosine': '0.25'}\n",
      "110 retain_cos_sim: 0.3340. rr_cos_sim: 0.3110\n",
      "{'rewards/accuracies': '1', 'rewards/margins': '0.031', 'logps/rejected': '-3.6', 'logps/chosen': '-4.3', 'loss': '1.3', 'rewards/chosen': '-0.23', 'rewards/rejected': '-0.26', 'retain/loss': '0.012', 'rr/loss': '1.3', 'logratios/pi': '0', 'logratios/ref': '0', 'weighting': '0', 'logits': '0', 'retain_cosine': '0.33', 'rr_cosine': '0.31'}\n",
      "110 retain_cos_sim: 0.4419. rr_cos_sim: 0.2911\n",
      "{'rewards/accuracies': '1', 'rewards/margins': '0.15', 'logps/rejected': '-4.7', 'logps/chosen': '-4.1', 'loss': '1.9', 'rewards/chosen': '-0.25', 'rewards/rejected': '-0.4', 'retain/loss': '0.022', 'rr/loss': '1.9', 'logratios/pi': '0', 'logratios/ref': '0', 'weighting': '0', 'logits': '0', 'retain_cosine': '0.44', 'rr_cosine': '0.29'}\n",
      "110 retain_cos_sim: 0.4536. rr_cos_sim: 0.1892\n",
      "{'rewards/accuracies': '0.33', 'rewards/margins': '-0.07', 'logps/rejected': '-4.3', 'logps/chosen': '-4.7', 'loss': '3.4', 'rewards/chosen': '-0.39', 'rewards/rejected': '-0.32', 'retain/loss': '0.028', 'rr/loss': '3.4', 'logratios/pi': '0', 'logratios/ref': '0', 'weighting': '0', 'logits': '0', 'retain_cosine': '0.45', 'rr_cosine': '0.19'}\n",
      "110 retain_cos_sim: 0.4276. rr_cos_sim: 0.2174\n",
      "{'rewards/accuracies': '0.67', 'rewards/margins': '0.01', 'logps/rejected': '-3.6', 'logps/chosen': '-3.4', 'loss': '1.8', 'rewards/chosen': '-0.24', 'rewards/rejected': '-0.25', 'retain/loss': '0.024', 'rr/loss': '1.8', 'logratios/pi': '0', 'logratios/ref': '0', 'weighting': '0', 'logits': '0', 'retain_cosine': '0.43', 'rr_cosine': '0.22'}\n",
      "110 retain_cos_sim: 0.4226. rr_cos_sim: 0.3694\n",
      "{'rewards/accuracies': '1', 'rewards/margins': '0.12', 'logps/rejected': '-3.3', 'logps/chosen': '-5.3', 'loss': '1.2', 'rewards/chosen': '-0.13', 'rewards/rejected': '-0.25', 'retain/loss': '0.013', 'rr/loss': '1.2', 'logratios/pi': '0', 'logratios/ref': '0', 'weighting': '0', 'logits': '0', 'retain_cosine': '0.42', 'rr_cosine': '0.37'}\n",
      "110 retain_cos_sim: 0.4286. rr_cos_sim: 0.3086\n",
      "{'rewards/accuracies': '0.33', 'rewards/margins': '-0.077', 'logps/rejected': '-3.4', 'logps/chosen': '-4.6', 'loss': '1.6', 'rewards/chosen': '-0.32', 'rewards/rejected': '-0.24', 'retain/loss': '0.02', 'rr/loss': '1.6', 'logratios/pi': '0', 'logratios/ref': '0', 'weighting': '0', 'logits': '0', 'retain_cosine': '0.43', 'rr_cosine': '0.31'}\n",
      "110 retain_cos_sim: 0.4264. rr_cos_sim: 0.2636\n",
      "{'rewards/accuracies': '0.67', 'rewards/margins': '0.045', 'logps/rejected': '-4.6', 'logps/chosen': '-4.1', 'loss': '1.8', 'rewards/chosen': '-0.29', 'rewards/rejected': '-0.33', 'retain/loss': '0.021', 'rr/loss': '1.8', 'logratios/pi': '0', 'logratios/ref': '0', 'weighting': '0', 'logits': '0', 'retain_cosine': '0.43', 'rr_cosine': '0.26'}\n",
      "110 retain_cos_sim: 0.5386. rr_cos_sim: 0.3774\n",
      "{'rewards/accuracies': '0.33', 'rewards/margins': '-0.061', 'logps/rejected': '-3.8', 'logps/chosen': '-4.1', 'loss': '2', 'rewards/chosen': '-0.31', 'rewards/rejected': '-0.25', 'retain/loss': '0.025', 'rr/loss': '2', 'logratios/pi': '0', 'logratios/ref': '0', 'weighting': '0', 'logits': '0', 'retain_cosine': '0.54', 'rr_cosine': '0.38'}\n",
      "110 retain_cos_sim: 0.5805. rr_cos_sim: 0.4425\n",
      "{'rewards/accuracies': '0.33', 'rewards/margins': '0.0014', 'logps/rejected': '-3.6', 'logps/chosen': '-4', 'loss': '1.8', 'rewards/chosen': '-0.26', 'rewards/rejected': '-0.26', 'retain/loss': '0.025', 'rr/loss': '1.8', 'logratios/pi': '0', 'logratios/ref': '0', 'weighting': '0', 'logits': '0', 'retain_cosine': '0.58', 'rr_cosine': '0.44'}\n",
      "110 retain_cos_sim: 0.3220. rr_cos_sim: 0.2274\n",
      "{'rewards/accuracies': '0.67', 'rewards/margins': '0.079', 'logps/rejected': '-4.8', 'logps/chosen': '-3.9', 'loss': '1.3', 'rewards/chosen': '-0.21', 'rewards/rejected': '-0.29', 'retain/loss': '0.014', 'rr/loss': '1.3', 'logratios/pi': '0', 'logratios/ref': '0', 'weighting': '0', 'logits': '0', 'retain_cosine': '0.32', 'rr_cosine': '0.23'}\n",
      "120 retain_cos_sim: 0.6496. rr_cos_sim: 0.3367\n",
      "{'rewards/accuracies': '0.33', 'rewards/margins': '-0.078', 'logps/rejected': '-3.3', 'logps/chosen': '-3.6', 'loss': '3', 'rewards/chosen': '-0.27', 'rewards/rejected': '-0.2', 'retain/loss': '0.028', 'rr/loss': '3', 'logratios/pi': '0', 'logratios/ref': '0', 'weighting': '0', 'logits': '0', 'retain_cosine': '0.65', 'rr_cosine': '0.34'}\n",
      "120 retain_cos_sim: 0.4870. rr_cos_sim: 0.2319\n",
      "{'rewards/accuracies': '0.33', 'rewards/margins': '-0.066', 'logps/rejected': '-3.3', 'logps/chosen': '-3.6', 'loss': '2.9', 'rewards/chosen': '-0.26', 'rewards/rejected': '-0.2', 'retain/loss': '0.023', 'rr/loss': '2.9', 'logratios/pi': '0', 'logratios/ref': '0', 'weighting': '0', 'logits': '0', 'retain_cosine': '0.49', 'rr_cosine': '0.23'}\n",
      "120 retain_cos_sim: 0.4755. rr_cos_sim: 0.2684\n",
      "{'rewards/accuracies': '0.33', 'rewards/margins': '-0.071', 'logps/rejected': '-2.4', 'logps/chosen': '-3.1', 'loss': '3', 'rewards/chosen': '-0.21', 'rewards/rejected': '-0.14', 'retain/loss': '0.021', 'rr/loss': '3', 'logratios/pi': '0', 'logratios/ref': '0', 'weighting': '0', 'logits': '0', 'retain_cosine': '0.48', 'rr_cosine': '0.27'}\n",
      "120 retain_cos_sim: 0.5967. rr_cos_sim: 0.3425\n",
      "{'rewards/accuracies': '0.33', 'rewards/margins': '-0.084', 'logps/rejected': '-2.9', 'logps/chosen': '-3', 'loss': '2.6', 'rewards/chosen': '-0.21', 'rewards/rejected': '-0.12', 'retain/loss': '0.025', 'rr/loss': '2.6', 'logratios/pi': '0', 'logratios/ref': '0', 'weighting': '0', 'logits': '0', 'retain_cosine': '0.6', 'rr_cosine': '0.34'}\n",
      "120 retain_cos_sim: 0.4905. rr_cos_sim: 0.3852\n",
      "{'rewards/accuracies': '0.67', 'rewards/margins': '0.035', 'logps/rejected': '-2.8', 'logps/chosen': '-2.4', 'loss': '2.7', 'rewards/chosen': '-0.14', 'rewards/rejected': '-0.18', 'retain/loss': '0.018', 'rr/loss': '2.7', 'logratios/pi': '0', 'logratios/ref': '0', 'weighting': '0', 'logits': '0', 'retain_cosine': '0.49', 'rr_cosine': '0.39'}\n",
      "120 retain_cos_sim: 0.4173. rr_cos_sim: 0.2571\n",
      "{'rewards/accuracies': '0.67', 'rewards/margins': '0.053', 'logps/rejected': '-3.3', 'logps/chosen': '-3.2', 'loss': '1.5', 'rewards/chosen': '-0.18', 'rewards/rejected': '-0.23', 'retain/loss': '0.014', 'rr/loss': '1.5', 'logratios/pi': '0', 'logratios/ref': '0', 'weighting': '0', 'logits': '0', 'retain_cosine': '0.42', 'rr_cosine': '0.26'}\n",
      "120 retain_cos_sim: 0.5770. rr_cos_sim: 0.3375\n",
      "{'rewards/accuracies': '0.67', 'rewards/margins': '0.094', 'logps/rejected': '-4.1', 'logps/chosen': '-2.9', 'loss': '2.6', 'rewards/chosen': '-0.2', 'rewards/rejected': '-0.3', 'retain/loss': '0.018', 'rr/loss': '2.6', 'logratios/pi': '0', 'logratios/ref': '0', 'weighting': '0', 'logits': '0', 'retain_cosine': '0.58', 'rr_cosine': '0.34'}\n",
      "120 retain_cos_sim: 0.4951. rr_cos_sim: 0.3652\n",
      "{'rewards/accuracies': '0.67', 'rewards/margins': '0.019', 'logps/rejected': '-3.4', 'logps/chosen': '-3.4', 'loss': '1', 'rewards/chosen': '-0.24', 'rewards/rejected': '-0.26', 'retain/loss': '0.018', 'rr/loss': '1', 'logratios/pi': '0', 'logratios/ref': '0', 'weighting': '0', 'logits': '0', 'retain_cosine': '0.5', 'rr_cosine': '0.37'}\n",
      "120 retain_cos_sim: 0.5897. rr_cos_sim: 0.2659\n",
      "{'rewards/accuracies': '0.33', 'rewards/margins': '-0.0094', 'logps/rejected': '-3.4', 'logps/chosen': '-3.7', 'loss': '3.3', 'rewards/chosen': '-0.28', 'rewards/rejected': '-0.27', 'retain/loss': '0.038', 'rr/loss': '3.3', 'logratios/pi': '0', 'logratios/ref': '0', 'weighting': '0', 'logits': '0', 'retain_cosine': '0.59', 'rr_cosine': '0.27'}\n",
      "120 retain_cos_sim: 0.5471. rr_cos_sim: 0.3628\n",
      "{'rewards/accuracies': '1', 'rewards/margins': '0.02', 'logps/rejected': '-3.3', 'logps/chosen': '-3.1', 'loss': '1.8', 'rewards/chosen': '-0.21', 'rewards/rejected': '-0.23', 'retain/loss': '0.022', 'rr/loss': '1.8', 'logratios/pi': '0', 'logratios/ref': '0', 'weighting': '0', 'logits': '0', 'retain_cosine': '0.55', 'rr_cosine': '0.36'}\n",
      "130 retain_cos_sim: 0.4249. rr_cos_sim: 0.2850\n",
      "{'rewards/accuracies': '0.67', 'rewards/margins': '0.046', 'logps/rejected': '-4.4', 'logps/chosen': '-3.8', 'loss': '1.8', 'rewards/chosen': '-0.28', 'rewards/rejected': '-0.33', 'retain/loss': '0.02', 'rr/loss': '1.8', 'logratios/pi': '0', 'logratios/ref': '0', 'weighting': '0', 'logits': '0', 'retain_cosine': '0.42', 'rr_cosine': '0.28'}\n",
      "130 retain_cos_sim: 0.4089. rr_cos_sim: 0.2480\n",
      "{'rewards/accuracies': '0', 'rewards/margins': '-0.09', 'logps/rejected': '-3', 'logps/chosen': '-3.8', 'loss': '1.8', 'rewards/chosen': '-0.28', 'rewards/rejected': '-0.19', 'retain/loss': '0.019', 'rr/loss': '1.8', 'logratios/pi': '0', 'logratios/ref': '0', 'weighting': '0', 'logits': '0', 'retain_cosine': '0.41', 'rr_cosine': '0.25'}\n",
      "130 retain_cos_sim: 0.4203. rr_cos_sim: 0.2644\n",
      "{'rewards/accuracies': '0.67', 'rewards/margins': '-0.071', 'logps/rejected': '-4.2', 'logps/chosen': '-4.5', 'loss': '1.8', 'rewards/chosen': '-0.34', 'rewards/rejected': '-0.27', 'retain/loss': '0.022', 'rr/loss': '1.8', 'logratios/pi': '0', 'logratios/ref': '0', 'weighting': '0', 'logits': '0', 'retain_cosine': '0.42', 'rr_cosine': '0.26'}\n",
      "130 retain_cos_sim: 0.5572. rr_cos_sim: 0.4396\n",
      "{'rewards/accuracies': '1', 'rewards/margins': '0.031', 'logps/rejected': '-3.1', 'logps/chosen': '-3', 'loss': '1.5', 'rewards/chosen': '-0.2', 'rewards/rejected': '-0.23', 'retain/loss': '0.023', 'rr/loss': '1.5', 'logratios/pi': '0', 'logratios/ref': '0', 'weighting': '0', 'logits': '0', 'retain_cosine': '0.56', 'rr_cosine': '0.44'}\n",
      "130 retain_cos_sim: 0.2511. rr_cos_sim: 0.1509\n",
      "{'rewards/accuracies': '0.67', 'rewards/margins': '0.085', 'logps/rejected': '-3.6', 'logps/chosen': '-4.1', 'loss': '1.3', 'rewards/chosen': '-0.17', 'rewards/rejected': '-0.26', 'retain/loss': '0.017', 'rr/loss': '1.3', 'logratios/pi': '0', 'logratios/ref': '0', 'weighting': '0', 'logits': '0', 'retain_cosine': '0.25', 'rr_cosine': '0.15'}\n",
      "130 retain_cos_sim: 0.3474. rr_cos_sim: 0.2589\n",
      "{'rewards/accuracies': '1', 'rewards/margins': '0.05', 'logps/rejected': '-4.6', 'logps/chosen': '-4.1', 'loss': '1.4', 'rewards/chosen': '-0.33', 'rewards/rejected': '-0.38', 'retain/loss': '0.018', 'rr/loss': '1.4', 'logratios/pi': '0', 'logratios/ref': '0', 'weighting': '0', 'logits': '0', 'retain_cosine': '0.35', 'rr_cosine': '0.26'}\n",
      "130 retain_cos_sim: 0.4014. rr_cos_sim: 0.2541\n",
      "{'rewards/accuracies': '0.33', 'rewards/margins': '-0.08', 'logps/rejected': '-3', 'logps/chosen': '-3.4', 'loss': '2.1', 'rewards/chosen': '-0.23', 'rewards/rejected': '-0.15', 'retain/loss': '0.017', 'rr/loss': '2.1', 'logratios/pi': '0', 'logratios/ref': '0', 'weighting': '0', 'logits': '0', 'retain_cosine': '0.4', 'rr_cosine': '0.25'}\n",
      "130 retain_cos_sim: 0.4848. rr_cos_sim: 0.2723\n",
      "{'rewards/accuracies': '0.67', 'rewards/margins': '-0.051', 'logps/rejected': '-3.9', 'logps/chosen': '-4.3', 'loss': '2.1', 'rewards/chosen': '-0.32', 'rewards/rejected': '-0.27', 'retain/loss': '0.029', 'rr/loss': '2.1', 'logratios/pi': '0', 'logratios/ref': '0', 'weighting': '0', 'logits': '0', 'retain_cosine': '0.48', 'rr_cosine': '0.27'}\n",
      "130 retain_cos_sim: 0.4261. rr_cos_sim: 0.3208\n",
      "{'rewards/accuracies': '0.67', 'rewards/margins': '0.027', 'logps/rejected': '-4.1', 'logps/chosen': '-4.6', 'loss': '1.8', 'rewards/chosen': '-0.31', 'rewards/rejected': '-0.34', 'retain/loss': '0.022', 'rr/loss': '1.8', 'logratios/pi': '0', 'logratios/ref': '0', 'weighting': '0', 'logits': '0', 'retain_cosine': '0.43', 'rr_cosine': '0.32'}\n",
      "130 retain_cos_sim: 0.6498. rr_cos_sim: 0.3147\n",
      "{'rewards/accuracies': '0.33', 'rewards/margins': '-0.069', 'logps/rejected': '-3.5', 'logps/chosen': '-3.8', 'loss': '3.8', 'rewards/chosen': '-0.31', 'rewards/rejected': '-0.24', 'retain/loss': '0.035', 'rr/loss': '3.8', 'logratios/pi': '0', 'logratios/ref': '0', 'weighting': '0', 'logits': '0', 'retain_cosine': '0.65', 'rr_cosine': '0.31'}\n",
      "140 retain_cos_sim: 0.3099. rr_cos_sim: 0.2461\n",
      "{'rewards/accuracies': '0.67', 'rewards/margins': '0.071', 'logps/rejected': '-7.6', 'logps/chosen': '-7.3', 'loss': '2.3', 'rewards/chosen': '-0.59', 'rewards/rejected': '-0.66', 'retain/loss': '0.032', 'rr/loss': '2.3', 'logratios/pi': '0', 'logratios/ref': '0', 'weighting': '0', 'logits': '0', 'retain_cosine': '0.31', 'rr_cosine': '0.25'}\n",
      "140 retain_cos_sim: 0.3853. rr_cos_sim: 0.3067\n",
      "{'rewards/accuracies': '0', 'rewards/margins': '-0.042', 'logps/rejected': '-6.6', 'logps/chosen': '-7', 'loss': '1.9', 'rewards/chosen': '-0.58', 'rewards/rejected': '-0.53', 'retain/loss': '0.036', 'rr/loss': '1.9', 'logratios/pi': '0', 'logratios/ref': '0', 'weighting': '0', 'logits': '0', 'retain_cosine': '0.39', 'rr_cosine': '0.31'}\n",
      "140 retain_cos_sim: 0.3943. rr_cos_sim: 0.3243\n",
      "{'rewards/accuracies': '0.67', 'rewards/margins': '0.12', 'logps/rejected': '-7.7', 'logps/chosen': '-6.9', 'loss': '2.3', 'rewards/chosen': '-0.58', 'rewards/rejected': '-0.7', 'retain/loss': '0.039', 'rr/loss': '2.3', 'logratios/pi': '0', 'logratios/ref': '0', 'weighting': '0', 'logits': '0', 'retain_cosine': '0.39', 'rr_cosine': '0.32'}\n",
      "140 retain_cos_sim: 0.4157. rr_cos_sim: 0.2153\n",
      "{'rewards/accuracies': '0.33', 'rewards/margins': '-0.057', 'logps/rejected': '-6.8', 'logps/chosen': '-6.8', 'loss': '3.3', 'rewards/chosen': '-0.59', 'rewards/rejected': '-0.53', 'retain/loss': '0.044', 'rr/loss': '3.3', 'logratios/pi': '0', 'logratios/ref': '0', 'weighting': '0', 'logits': '0', 'retain_cosine': '0.42', 'rr_cosine': '0.22'}\n",
      "140 retain_cos_sim: 0.2915. rr_cos_sim: 0.2069\n",
      "{'rewards/accuracies': '0.67', 'rewards/margins': '0.045', 'logps/rejected': '-7', 'logps/chosen': '-6.3', 'loss': '2.4', 'rewards/chosen': '-0.55', 'rewards/rejected': '-0.6', 'retain/loss': '0.03', 'rr/loss': '2.4', 'logratios/pi': '0', 'logratios/ref': '0', 'weighting': '0', 'logits': '0', 'retain_cosine': '0.29', 'rr_cosine': '0.21'}\n",
      "140 retain_cos_sim: 0.3239. rr_cos_sim: 0.2404\n",
      "{'rewards/accuracies': '0.33', 'rewards/margins': '0.088', 'logps/rejected': '-7.3', 'logps/chosen': '-8.4', 'loss': '3.3', 'rewards/chosen': '-0.53', 'rewards/rejected': '-0.62', 'retain/loss': '0.039', 'rr/loss': '3.3', 'logratios/pi': '0', 'logratios/ref': '0', 'weighting': '0', 'logits': '0', 'retain_cosine': '0.32', 'rr_cosine': '0.24'}\n",
      "140 retain_cos_sim: 0.3963. rr_cos_sim: 0.2991\n",
      "{'rewards/accuracies': '0.33', 'rewards/margins': '-0.086', 'logps/rejected': '-6.8', 'logps/chosen': '-7.3', 'loss': '3.4', 'rewards/chosen': '-0.66', 'rewards/rejected': '-0.57', 'retain/loss': '0.043', 'rr/loss': '3.4', 'logratios/pi': '0', 'logratios/ref': '0', 'weighting': '0', 'logits': '0', 'retain_cosine': '0.4', 'rr_cosine': '0.3'}\n",
      "140 retain_cos_sim: 0.3711. rr_cos_sim: 0.2883\n",
      "{'rewards/accuracies': '0.67', 'rewards/margins': '-0.0013', 'logps/rejected': '-7.5', 'logps/chosen': '-7.3', 'loss': '2.5', 'rewards/chosen': '-0.65', 'rewards/rejected': '-0.64', 'retain/loss': '0.037', 'rr/loss': '2.5', 'logratios/pi': '0', 'logratios/ref': '0', 'weighting': '0', 'logits': '0', 'retain_cosine': '0.37', 'rr_cosine': '0.29'}\n",
      "140 retain_cos_sim: 0.3087. rr_cos_sim: 0.2047\n",
      "{'rewards/accuracies': '0.33', 'rewards/margins': '-0.032', 'logps/rejected': '-6.7', 'logps/chosen': '-7.2', 'loss': '2', 'rewards/chosen': '-0.61', 'rewards/rejected': '-0.58', 'retain/loss': '0.032', 'rr/loss': '2', 'logratios/pi': '0', 'logratios/ref': '0', 'weighting': '0', 'logits': '0', 'retain_cosine': '0.31', 'rr_cosine': '0.2'}\n",
      "140 retain_cos_sim: 0.2463. rr_cos_sim: 0.1781\n",
      "{'rewards/accuracies': '0.67', 'rewards/margins': '0.0083', 'logps/rejected': '-6.3', 'logps/chosen': '-6.3', 'loss': '1.6', 'rewards/chosen': '-0.53', 'rewards/rejected': '-0.54', 'retain/loss': '0.024', 'rr/loss': '1.6', 'logratios/pi': '0', 'logratios/ref': '0', 'weighting': '0', 'logits': '0', 'retain_cosine': '0.25', 'rr_cosine': '0.18'}\n",
      "150 retain_cos_sim: 0.1637. rr_cos_sim: 0.1450\n",
      "{'rewards/accuracies': '0.67', 'rewards/margins': '-0.043', 'logps/rejected': '-12', 'logps/chosen': '-12', 'loss': '26', 'rewards/chosen': '-1.1', 'rewards/rejected': '-1.1', 'retain/loss': '0.27', 'rr/loss': '26', 'logratios/pi': '0', 'logratios/ref': '0', 'weighting': '0', 'logits': '0', 'retain_cosine': '0.16', 'rr_cosine': '0.15'}\n",
      "150 retain_cos_sim: 0.1453. rr_cos_sim: 0.1198\n",
      "{'rewards/accuracies': '0.67', 'rewards/margins': '0.048', 'logps/rejected': '-12', 'logps/chosen': '-12', 'loss': '29', 'rewards/chosen': '-1.1', 'rewards/rejected': '-1.1', 'retain/loss': '0.2', 'rr/loss': '29', 'logratios/pi': '0', 'logratios/ref': '0', 'weighting': '0', 'logits': '0', 'retain_cosine': '0.15', 'rr_cosine': '0.12'}\n",
      "150 retain_cos_sim: 0.1824. rr_cos_sim: 0.1054\n",
      "{'rewards/accuracies': '0', 'rewards/margins': '-0.12', 'logps/rejected': '-12', 'logps/chosen': '-12', 'loss': '18', 'rewards/chosen': '-1.1', 'rewards/rejected': '-1', 'retain/loss': '0.26', 'rr/loss': '18', 'logratios/pi': '0', 'logratios/ref': '0', 'weighting': '0', 'logits': '0', 'retain_cosine': '0.18', 'rr_cosine': '0.11'}\n",
      "150 retain_cos_sim: 0.2152. rr_cos_sim: 0.1566\n",
      "{'rewards/accuracies': '0.33', 'rewards/margins': '-0.024', 'logps/rejected': '-12', 'logps/chosen': '-13', 'loss': '26', 'rewards/chosen': '-1.2', 'rewards/rejected': '-1.1', 'retain/loss': '0.35', 'rr/loss': '26', 'logratios/pi': '0', 'logratios/ref': '0', 'weighting': '0', 'logits': '0', 'retain_cosine': '0.22', 'rr_cosine': '0.16'}\n",
      "150 retain_cos_sim: 0.1505. rr_cos_sim: 0.1261\n",
      "{'rewards/accuracies': '0.67', 'rewards/margins': '0.053', 'logps/rejected': '-13', 'logps/chosen': '-12', 'loss': '21', 'rewards/chosen': '-1.1', 'rewards/rejected': '-1.2', 'retain/loss': '0.25', 'rr/loss': '21', 'logratios/pi': '0', 'logratios/ref': '0', 'weighting': '0', 'logits': '0', 'retain_cosine': '0.15', 'rr_cosine': '0.13'}\n",
      "150 retain_cos_sim: 0.2098. rr_cos_sim: 0.1468\n",
      "{'rewards/accuracies': '0.33', 'rewards/margins': '0.037', 'logps/rejected': '-12', 'logps/chosen': '-12', 'loss': '29', 'rewards/chosen': '-1.1', 'rewards/rejected': '-1.2', 'retain/loss': '0.32', 'rr/loss': '29', 'logratios/pi': '0', 'logratios/ref': '0', 'weighting': '0', 'logits': '0', 'retain_cosine': '0.21', 'rr_cosine': '0.15'}\n",
      "150 retain_cos_sim: 0.1509. rr_cos_sim: 0.1069\n",
      "{'rewards/accuracies': '0.33', 'rewards/margins': '0.025', 'logps/rejected': '-12', 'logps/chosen': '-12', 'loss': '28', 'rewards/chosen': '-1.1', 'rewards/rejected': '-1.1', 'retain/loss': '0.23', 'rr/loss': '28', 'logratios/pi': '0', 'logratios/ref': '0', 'weighting': '0', 'logits': '0', 'retain_cosine': '0.15', 'rr_cosine': '0.11'}\n",
      "150 retain_cos_sim: 0.2065. rr_cos_sim: 0.1509\n",
      "{'rewards/accuracies': '0.67', 'rewards/margins': '0.043', 'logps/rejected': '-13', 'logps/chosen': '-12', 'loss': '27', 'rewards/chosen': '-1.1', 'rewards/rejected': '-1.1', 'retain/loss': '0.31', 'rr/loss': '27', 'logratios/pi': '0', 'logratios/ref': '0', 'weighting': '0', 'logits': '0', 'retain_cosine': '0.21', 'rr_cosine': '0.15'}\n",
      "150 retain_cos_sim: 0.1406. rr_cos_sim: 0.1122\n",
      "{'rewards/accuracies': '0', 'rewards/margins': '-0.026', 'logps/rejected': '-12', 'logps/chosen': '-12', 'loss': '26', 'rewards/chosen': '-1.2', 'rewards/rejected': '-1.1', 'retain/loss': '0.21', 'rr/loss': '26', 'logratios/pi': '0', 'logratios/ref': '0', 'weighting': '0', 'logits': '0', 'retain_cosine': '0.14', 'rr_cosine': '0.11'}\n",
      "150 retain_cos_sim: 0.1941. rr_cos_sim: 0.1713\n",
      "{'rewards/accuracies': '1', 'rewards/margins': '0.042', 'logps/rejected': '-13', 'logps/chosen': '-12', 'loss': '31', 'rewards/chosen': '-1.1', 'rewards/rejected': '-1.2', 'retain/loss': '0.32', 'rr/loss': '31', 'logratios/pi': '0', 'logratios/ref': '0', 'weighting': '0', 'logits': '0', 'retain_cosine': '0.19', 'rr_cosine': '0.17'}\n"
     ]
    },
    {
     "ename": "OutOfMemoryError",
     "evalue": "CUDA out of memory. Tried to allocate 1.55 GiB. GPU ",
     "output_type": "error",
     "traceback": [
      "\u001b[0;31m---------------------------------------------------------------------------\u001b[0m",
      "\u001b[0;31mOutOfMemoryError\u001b[0m                          Traceback (most recent call last)",
      "Cell \u001b[0;32mIn[28], line 1\u001b[0m\n\u001b[0;32m----> 1\u001b[0m \u001b[43mreprpo_trainer\u001b[49m\u001b[38;5;241;43m.\u001b[39;49m\u001b[43mtrain\u001b[49m\u001b[43m(\u001b[49m\u001b[43m)\u001b[49m\n",
      "File \u001b[0;32m/media/wassname/SGIronWolf/projects5/elk/repr-preference-optimization/.venv/lib/python3.9/site-packages/transformers/trainer.py:1932\u001b[0m, in \u001b[0;36mTrainer.train\u001b[0;34m(self, resume_from_checkpoint, trial, ignore_keys_for_eval, **kwargs)\u001b[0m\n\u001b[1;32m   1930\u001b[0m         hf_hub_utils\u001b[38;5;241m.\u001b[39menable_progress_bars()\n\u001b[1;32m   1931\u001b[0m \u001b[38;5;28;01melse\u001b[39;00m:\n\u001b[0;32m-> 1932\u001b[0m     \u001b[38;5;28;01mreturn\u001b[39;00m \u001b[43minner_training_loop\u001b[49m\u001b[43m(\u001b[49m\n\u001b[1;32m   1933\u001b[0m \u001b[43m        \u001b[49m\u001b[43margs\u001b[49m\u001b[38;5;241;43m=\u001b[39;49m\u001b[43margs\u001b[49m\u001b[43m,\u001b[49m\n\u001b[1;32m   1934\u001b[0m \u001b[43m        \u001b[49m\u001b[43mresume_from_checkpoint\u001b[49m\u001b[38;5;241;43m=\u001b[39;49m\u001b[43mresume_from_checkpoint\u001b[49m\u001b[43m,\u001b[49m\n\u001b[1;32m   1935\u001b[0m \u001b[43m        \u001b[49m\u001b[43mtrial\u001b[49m\u001b[38;5;241;43m=\u001b[39;49m\u001b[43mtrial\u001b[49m\u001b[43m,\u001b[49m\n\u001b[1;32m   1936\u001b[0m \u001b[43m        \u001b[49m\u001b[43mignore_keys_for_eval\u001b[49m\u001b[38;5;241;43m=\u001b[39;49m\u001b[43mignore_keys_for_eval\u001b[49m\u001b[43m,\u001b[49m\n\u001b[1;32m   1937\u001b[0m \u001b[43m    \u001b[49m\u001b[43m)\u001b[49m\n",
      "File \u001b[0;32m/media/wassname/SGIronWolf/projects5/elk/repr-preference-optimization/.venv/lib/python3.9/site-packages/transformers/trainer.py:2268\u001b[0m, in \u001b[0;36mTrainer._inner_training_loop\u001b[0;34m(self, batch_size, args, resume_from_checkpoint, trial, ignore_keys_for_eval)\u001b[0m\n\u001b[1;32m   2265\u001b[0m     \u001b[38;5;28mself\u001b[39m\u001b[38;5;241m.\u001b[39mcontrol \u001b[38;5;241m=\u001b[39m \u001b[38;5;28mself\u001b[39m\u001b[38;5;241m.\u001b[39mcallback_handler\u001b[38;5;241m.\u001b[39mon_step_begin(args, \u001b[38;5;28mself\u001b[39m\u001b[38;5;241m.\u001b[39mstate, \u001b[38;5;28mself\u001b[39m\u001b[38;5;241m.\u001b[39mcontrol)\n\u001b[1;32m   2267\u001b[0m \u001b[38;5;28;01mwith\u001b[39;00m \u001b[38;5;28mself\u001b[39m\u001b[38;5;241m.\u001b[39maccelerator\u001b[38;5;241m.\u001b[39maccumulate(model):\n\u001b[0;32m-> 2268\u001b[0m     tr_loss_step \u001b[38;5;241m=\u001b[39m \u001b[38;5;28;43mself\u001b[39;49m\u001b[38;5;241;43m.\u001b[39;49m\u001b[43mtraining_step\u001b[49m\u001b[43m(\u001b[49m\u001b[43mmodel\u001b[49m\u001b[43m,\u001b[49m\u001b[43m \u001b[49m\u001b[43minputs\u001b[49m\u001b[43m)\u001b[49m\n\u001b[1;32m   2270\u001b[0m \u001b[38;5;28;01mif\u001b[39;00m (\n\u001b[1;32m   2271\u001b[0m     args\u001b[38;5;241m.\u001b[39mlogging_nan_inf_filter\n\u001b[1;32m   2272\u001b[0m     \u001b[38;5;129;01mand\u001b[39;00m \u001b[38;5;129;01mnot\u001b[39;00m is_torch_xla_available()\n\u001b[1;32m   2273\u001b[0m     \u001b[38;5;129;01mand\u001b[39;00m (torch\u001b[38;5;241m.\u001b[39misnan(tr_loss_step) \u001b[38;5;129;01mor\u001b[39;00m torch\u001b[38;5;241m.\u001b[39misinf(tr_loss_step))\n\u001b[1;32m   2274\u001b[0m ):\n\u001b[1;32m   2275\u001b[0m     \u001b[38;5;66;03m# if loss is nan or inf simply add the average of previous logged losses\u001b[39;00m\n\u001b[1;32m   2276\u001b[0m     tr_loss \u001b[38;5;241m+\u001b[39m\u001b[38;5;241m=\u001b[39m tr_loss \u001b[38;5;241m/\u001b[39m (\u001b[38;5;241m1\u001b[39m \u001b[38;5;241m+\u001b[39m \u001b[38;5;28mself\u001b[39m\u001b[38;5;241m.\u001b[39mstate\u001b[38;5;241m.\u001b[39mglobal_step \u001b[38;5;241m-\u001b[39m \u001b[38;5;28mself\u001b[39m\u001b[38;5;241m.\u001b[39m_globalstep_last_logged)\n",
      "File \u001b[0;32m/media/wassname/SGIronWolf/projects5/elk/repr-preference-optimization/.venv/lib/python3.9/site-packages/transformers/trainer.py:3324\u001b[0m, in \u001b[0;36mTrainer.training_step\u001b[0;34m(***failed resolving arguments***)\u001b[0m\n\u001b[1;32m   3322\u001b[0m         scaled_loss\u001b[38;5;241m.\u001b[39mbackward()\n\u001b[1;32m   3323\u001b[0m \u001b[38;5;28;01melse\u001b[39;00m:\n\u001b[0;32m-> 3324\u001b[0m     \u001b[38;5;28;43mself\u001b[39;49m\u001b[38;5;241;43m.\u001b[39;49m\u001b[43maccelerator\u001b[49m\u001b[38;5;241;43m.\u001b[39;49m\u001b[43mbackward\u001b[49m\u001b[43m(\u001b[49m\u001b[43mloss\u001b[49m\u001b[43m,\u001b[49m\u001b[43m \u001b[49m\u001b[38;5;241;43m*\u001b[39;49m\u001b[38;5;241;43m*\u001b[39;49m\u001b[43mkwargs\u001b[49m\u001b[43m)\u001b[49m\n\u001b[1;32m   3326\u001b[0m \u001b[38;5;28;01mreturn\u001b[39;00m loss\u001b[38;5;241m.\u001b[39mdetach() \u001b[38;5;241m/\u001b[39m \u001b[38;5;28mself\u001b[39m\u001b[38;5;241m.\u001b[39margs\u001b[38;5;241m.\u001b[39mgradient_accumulation_steps\n",
      "File \u001b[0;32m/media/wassname/SGIronWolf/projects5/elk/repr-preference-optimization/.venv/lib/python3.9/site-packages/accelerate/accelerator.py:2151\u001b[0m, in \u001b[0;36mAccelerator.backward\u001b[0;34m(self, loss, **kwargs)\u001b[0m\n\u001b[1;32m   2149\u001b[0m     \u001b[38;5;28mself\u001b[39m\u001b[38;5;241m.\u001b[39mlomo_backward(loss, learning_rate)\n\u001b[1;32m   2150\u001b[0m \u001b[38;5;28;01melse\u001b[39;00m:\n\u001b[0;32m-> 2151\u001b[0m     \u001b[43mloss\u001b[49m\u001b[38;5;241;43m.\u001b[39;49m\u001b[43mbackward\u001b[49m\u001b[43m(\u001b[49m\u001b[38;5;241;43m*\u001b[39;49m\u001b[38;5;241;43m*\u001b[39;49m\u001b[43mkwargs\u001b[49m\u001b[43m)\u001b[49m\n",
      "File \u001b[0;32m/media/wassname/SGIronWolf/projects5/elk/repr-preference-optimization/.venv/lib/python3.9/site-packages/torch/_tensor.py:525\u001b[0m, in \u001b[0;36mTensor.backward\u001b[0;34m(self, gradient, retain_graph, create_graph, inputs)\u001b[0m\n\u001b[1;32m    515\u001b[0m \u001b[38;5;28;01mif\u001b[39;00m has_torch_function_unary(\u001b[38;5;28mself\u001b[39m):\n\u001b[1;32m    516\u001b[0m     \u001b[38;5;28;01mreturn\u001b[39;00m handle_torch_function(\n\u001b[1;32m    517\u001b[0m         Tensor\u001b[38;5;241m.\u001b[39mbackward,\n\u001b[1;32m    518\u001b[0m         (\u001b[38;5;28mself\u001b[39m,),\n\u001b[0;32m   (...)\u001b[0m\n\u001b[1;32m    523\u001b[0m         inputs\u001b[38;5;241m=\u001b[39minputs,\n\u001b[1;32m    524\u001b[0m     )\n\u001b[0;32m--> 525\u001b[0m \u001b[43mtorch\u001b[49m\u001b[38;5;241;43m.\u001b[39;49m\u001b[43mautograd\u001b[49m\u001b[38;5;241;43m.\u001b[39;49m\u001b[43mbackward\u001b[49m\u001b[43m(\u001b[49m\n\u001b[1;32m    526\u001b[0m \u001b[43m    \u001b[49m\u001b[38;5;28;43mself\u001b[39;49m\u001b[43m,\u001b[49m\u001b[43m \u001b[49m\u001b[43mgradient\u001b[49m\u001b[43m,\u001b[49m\u001b[43m \u001b[49m\u001b[43mretain_graph\u001b[49m\u001b[43m,\u001b[49m\u001b[43m \u001b[49m\u001b[43mcreate_graph\u001b[49m\u001b[43m,\u001b[49m\u001b[43m \u001b[49m\u001b[43minputs\u001b[49m\u001b[38;5;241;43m=\u001b[39;49m\u001b[43minputs\u001b[49m\n\u001b[1;32m    527\u001b[0m \u001b[43m\u001b[49m\u001b[43m)\u001b[49m\n",
      "File \u001b[0;32m/media/wassname/SGIronWolf/projects5/elk/repr-preference-optimization/.venv/lib/python3.9/site-packages/torch/autograd/__init__.py:267\u001b[0m, in \u001b[0;36mbackward\u001b[0;34m(tensors, grad_tensors, retain_graph, create_graph, grad_variables, inputs)\u001b[0m\n\u001b[1;32m    262\u001b[0m     retain_graph \u001b[38;5;241m=\u001b[39m create_graph\n\u001b[1;32m    264\u001b[0m \u001b[38;5;66;03m# The reason we repeat the same comment below is that\u001b[39;00m\n\u001b[1;32m    265\u001b[0m \u001b[38;5;66;03m# some Python versions print out the first line of a multi-line function\u001b[39;00m\n\u001b[1;32m    266\u001b[0m \u001b[38;5;66;03m# calls in the traceback and some print out the last line\u001b[39;00m\n\u001b[0;32m--> 267\u001b[0m \u001b[43m_engine_run_backward\u001b[49m\u001b[43m(\u001b[49m\n\u001b[1;32m    268\u001b[0m \u001b[43m    \u001b[49m\u001b[43mtensors\u001b[49m\u001b[43m,\u001b[49m\n\u001b[1;32m    269\u001b[0m \u001b[43m    \u001b[49m\u001b[43mgrad_tensors_\u001b[49m\u001b[43m,\u001b[49m\n\u001b[1;32m    270\u001b[0m \u001b[43m    \u001b[49m\u001b[43mretain_graph\u001b[49m\u001b[43m,\u001b[49m\n\u001b[1;32m    271\u001b[0m \u001b[43m    \u001b[49m\u001b[43mcreate_graph\u001b[49m\u001b[43m,\u001b[49m\n\u001b[1;32m    272\u001b[0m \u001b[43m    \u001b[49m\u001b[43minputs\u001b[49m\u001b[43m,\u001b[49m\n\u001b[1;32m    273\u001b[0m \u001b[43m    \u001b[49m\u001b[43mallow_unreachable\u001b[49m\u001b[38;5;241;43m=\u001b[39;49m\u001b[38;5;28;43;01mTrue\u001b[39;49;00m\u001b[43m,\u001b[49m\n\u001b[1;32m    274\u001b[0m \u001b[43m    \u001b[49m\u001b[43maccumulate_grad\u001b[49m\u001b[38;5;241;43m=\u001b[39;49m\u001b[38;5;28;43;01mTrue\u001b[39;49;00m\u001b[43m,\u001b[49m\n\u001b[1;32m    275\u001b[0m \u001b[43m\u001b[49m\u001b[43m)\u001b[49m\n",
      "File \u001b[0;32m/media/wassname/SGIronWolf/projects5/elk/repr-preference-optimization/.venv/lib/python3.9/site-packages/torch/autograd/graph.py:744\u001b[0m, in \u001b[0;36m_engine_run_backward\u001b[0;34m(t_outputs, *args, **kwargs)\u001b[0m\n\u001b[1;32m    742\u001b[0m     unregister_hooks \u001b[38;5;241m=\u001b[39m _register_logging_hooks_on_whole_graph(t_outputs)\n\u001b[1;32m    743\u001b[0m \u001b[38;5;28;01mtry\u001b[39;00m:\n\u001b[0;32m--> 744\u001b[0m     \u001b[38;5;28;01mreturn\u001b[39;00m \u001b[43mVariable\u001b[49m\u001b[38;5;241;43m.\u001b[39;49m\u001b[43m_execution_engine\u001b[49m\u001b[38;5;241;43m.\u001b[39;49m\u001b[43mrun_backward\u001b[49m\u001b[43m(\u001b[49m\u001b[43m  \u001b[49m\u001b[38;5;66;43;03m# Calls into the C++ engine to run the backward pass\u001b[39;49;00m\n\u001b[1;32m    745\u001b[0m \u001b[43m        \u001b[49m\u001b[43mt_outputs\u001b[49m\u001b[43m,\u001b[49m\u001b[43m \u001b[49m\u001b[38;5;241;43m*\u001b[39;49m\u001b[43margs\u001b[49m\u001b[43m,\u001b[49m\u001b[43m \u001b[49m\u001b[38;5;241;43m*\u001b[39;49m\u001b[38;5;241;43m*\u001b[39;49m\u001b[43mkwargs\u001b[49m\n\u001b[1;32m    746\u001b[0m \u001b[43m    \u001b[49m\u001b[43m)\u001b[49m  \u001b[38;5;66;03m# Calls into the C++ engine to run the backward pass\u001b[39;00m\n\u001b[1;32m    747\u001b[0m \u001b[38;5;28;01mfinally\u001b[39;00m:\n\u001b[1;32m    748\u001b[0m     \u001b[38;5;28;01mif\u001b[39;00m attach_logging_hooks:\n",
      "\u001b[0;31mOutOfMemoryError\u001b[0m: CUDA out of memory. Tried to allocate 1.55 GiB. GPU "
     ]
    }
   ],
   "source": [
    "reprpo_trainer.train()"
   ]
  },
  {
   "cell_type": "code",
   "execution_count": null,
   "metadata": {},
   "outputs": [],
   "source": [
    "reprpo_trainer.save_model()\n",
    "reprpo_trainer.args.output_dir"
   ]
  },
  {
   "cell_type": "code",
   "execution_count": 29,
   "metadata": {},
   "outputs": [
    {
     "data": {
      "image/png": "[encoded data removed]",
      "text/plain": [
       "<Figure size 1200x1600 with 16 Axes>"
      ]
     },
     "metadata": {},
     "output_type": "display_data"
    }
   ],
   "source": [
    "plt.style.use('ggplot')\n",
    "from reprpo.helpers.hist import plot_hist\n",
    "df_hist1, args_diff = plot_hist(reprpo_trainer)\n",
    "# args_diff"
   ]
  },
  {
   "cell_type": "markdown",
   "metadata": {},
   "source": [
    "## Score ⭐"
   ]
  },
  {
   "cell_type": "code",
   "execution_count": 30,
   "metadata": {},
   "outputs": [
    {
     "data": {
      "application/vnd.jupyter.widget-view+json": {
       "model_id": "c3abe886c3334acc9bb37dd03aa618d4",
       "version_major": 2,
       "version_minor": 0
      },
      "text/plain": [
       "  0%|          | 0/164 [00:00<?, ?it/s]"
      ]
     },
     "metadata": {},
     "output_type": "display_data"
    },
    {
     "name": "stdout",
     "output_type": "stream",
     "text": [
      "⭐\n"
     ]
    }
   ],
   "source": [
    "df = eval_tqa(model, tokenizer, dataset2_tqa, choice_ids)\n",
    "df_res2 = df.drop(columns=['ans'])\n",
    "print(\"⭐\")\n",
    "res = df_res2.groupby('adapter', dropna=False)['%'].mean()\n",
    "# display(re)\n",
    "# df[['ans']].value_counts()"
   ]
  },
  {
   "cell_type": "code",
   "execution_count": null,
   "metadata": {},
   "outputs": [],
   "source": []
  },
  {
   "cell_type": "code",
   "execution_count": 31,
   "metadata": {},
   "outputs": [
    {
     "name": "stdout",
     "output_type": "stream",
     "text": [
      "07_hf_topk_TODO-2024-07-17-20-34-26\n",
      "🥇OOD TQA results 🥇\n",
      "base_model=\t54.14\n",
      "ReprPO    =\t11.04\n",
      "🥈dpo reward acc train🥈\n",
      "ReprPO    =\t47.36%\n",
      "\n",
      "{'per_device_train_batch_size': 3, 'gradient_accumulation_steps': 10, 'learning_rate': 0.0006, 'num_train_epochs': 1, 'lr_scheduler_type': 'constant', 'logging_dir': './output-dir/07_hf_topk_TODO-2024-07-17-20-34-26/runs/Jul17_20-34-26_wassname-fractal-desktop', 'logging_steps': 1, 'bf16': True, 'tf32': True, 'run_name': '07_hf_topk_TODO-2024-07-17-20-34-26', 'remove_unused_columns': False, 'optim': 'adamw_8bit', 'gradient_checkpointing': True, 'max_length': 512, 'max_prompt_length': 256, 'model_adapter_name': 'ReprPO', 'collection_layers': [10, 25], 'alpha': 11180.339887498949}\n"
     ]
    }
   ],
   "source": [
    "res = df_res2.groupby('adapter', dropna=False)['%'].mean()\n",
    "print(run_name)\n",
    "print('🥇OOD TQA results 🥇')\n",
    "print(f\"base_model=\\t{res['None']:.2f}\")\n",
    "# print(f\"DPO[baseline]={res['DPO']:.2f}\")\n",
    "print(f\"ReprPO    =\\t{res['ReprPO']:.2f}\")\n",
    "\n",
    "acc_train = df_hist1['rewards/accuracies'].dropna().mean()\n",
    "print(f\"🥈dpo reward acc train🥈\\nReprPO    =\\t{acc_train:.2%}\")\n",
    "\n",
    "print()\n",
    "print(args_diff)"
   ]
  },
  {
   "cell_type": "code",
   "execution_count": 32,
   "metadata": {},
   "outputs": [
    {
     "ename": "ValueError",
     "evalue": "value should be one of int, float, str, bool, or torch.Tensor",
     "output_type": "error",
     "traceback": [
      "\u001b[0;31m---------------------------------------------------------------------------\u001b[0m",
      "\u001b[0;31mValueError\u001b[0m                                Traceback (most recent call last)",
      "Cell \u001b[0;32mIn[32], line 8\u001b[0m\n\u001b[1;32m      5\u001b[0m tb_writer\u001b[38;5;241m=\u001b[39m cb\u001b[38;5;241m.\u001b[39mtb_writer\n\u001b[1;32m      7\u001b[0m tb_writer \u001b[38;5;241m=\u001b[39m cb\u001b[38;5;241m.\u001b[39m_SummaryWriter(reprpo_trainer\u001b[38;5;241m.\u001b[39margs\u001b[38;5;241m.\u001b[39mlogging_dir)\n\u001b[0;32m----> 8\u001b[0m \u001b[43mtb_writer\u001b[49m\u001b[38;5;241;43m.\u001b[39;49m\u001b[43madd_hparams\u001b[49m\u001b[43m(\u001b[49m\n\u001b[1;32m      9\u001b[0m \u001b[43m    \u001b[49m\u001b[43mhparam_dict\u001b[49m\u001b[38;5;241;43m=\u001b[39;49m\u001b[43margs_diff\u001b[49m\u001b[43m,\u001b[49m\n\u001b[1;32m     10\u001b[0m \u001b[43m    \u001b[49m\u001b[43mmetric_dict\u001b[49m\u001b[38;5;241;43m=\u001b[39;49m\u001b[38;5;28;43mdict\u001b[39;49m\u001b[43m(\u001b[49m\n\u001b[1;32m     11\u001b[0m \u001b[43m        \u001b[49m\u001b[43macc_train\u001b[49m\u001b[38;5;241;43m=\u001b[39;49m\u001b[43macc_train\u001b[49m\u001b[43m,\u001b[49m\n\u001b[1;32m     12\u001b[0m \u001b[43m        \u001b[49m\u001b[43macc_ood\u001b[49m\u001b[38;5;241;43m=\u001b[39;49m\u001b[43mres\u001b[49m\u001b[43m[\u001b[49m\u001b[38;5;124;43m'\u001b[39;49m\u001b[38;5;124;43mReprPO\u001b[39;49m\u001b[38;5;124;43m'\u001b[39;49m\u001b[43m]\u001b[49m\u001b[43m,\u001b[49m\n\u001b[1;32m     13\u001b[0m \u001b[43m        \u001b[49m\u001b[43macc_ood_base\u001b[49m\u001b[38;5;241;43m=\u001b[39;49m\u001b[43mres\u001b[49m\u001b[43m[\u001b[49m\u001b[38;5;124;43m'\u001b[39;49m\u001b[38;5;124;43mNone\u001b[39;49m\u001b[38;5;124;43m'\u001b[39;49m\u001b[43m]\u001b[49m\u001b[43m,\u001b[49m\n\u001b[1;32m     14\u001b[0m \u001b[43m    \u001b[49m\u001b[43m)\u001b[49m\n\u001b[1;32m     15\u001b[0m \n\u001b[1;32m     16\u001b[0m \u001b[43m)\u001b[49m\n",
      "File \u001b[0;32m/media/wassname/SGIronWolf/projects5/elk/repr-preference-optimization/.venv/lib/python3.9/site-packages/torch/utils/tensorboard/writer.py:341\u001b[0m, in \u001b[0;36mSummaryWriter.add_hparams\u001b[0;34m(self, hparam_dict, metric_dict, hparam_domain_discrete, run_name, global_step)\u001b[0m\n\u001b[1;32m    339\u001b[0m \u001b[38;5;28;01mif\u001b[39;00m \u001b[38;5;28mtype\u001b[39m(hparam_dict) \u001b[38;5;129;01mis\u001b[39;00m \u001b[38;5;129;01mnot\u001b[39;00m \u001b[38;5;28mdict\u001b[39m \u001b[38;5;129;01mor\u001b[39;00m \u001b[38;5;28mtype\u001b[39m(metric_dict) \u001b[38;5;129;01mis\u001b[39;00m \u001b[38;5;129;01mnot\u001b[39;00m \u001b[38;5;28mdict\u001b[39m:\n\u001b[1;32m    340\u001b[0m     \u001b[38;5;28;01mraise\u001b[39;00m \u001b[38;5;167;01mTypeError\u001b[39;00m(\u001b[38;5;124m\"\u001b[39m\u001b[38;5;124mhparam_dict and metric_dict should be dictionary.\u001b[39m\u001b[38;5;124m\"\u001b[39m)\n\u001b[0;32m--> 341\u001b[0m exp, ssi, sei \u001b[38;5;241m=\u001b[39m \u001b[43mhparams\u001b[49m\u001b[43m(\u001b[49m\u001b[43mhparam_dict\u001b[49m\u001b[43m,\u001b[49m\u001b[43m \u001b[49m\u001b[43mmetric_dict\u001b[49m\u001b[43m,\u001b[49m\u001b[43m \u001b[49m\u001b[43mhparam_domain_discrete\u001b[49m\u001b[43m)\u001b[49m\n\u001b[1;32m    343\u001b[0m \u001b[38;5;28;01mif\u001b[39;00m \u001b[38;5;129;01mnot\u001b[39;00m run_name:\n\u001b[1;32m    344\u001b[0m     run_name \u001b[38;5;241m=\u001b[39m \u001b[38;5;28mstr\u001b[39m(time\u001b[38;5;241m.\u001b[39mtime())\n",
      "File \u001b[0;32m/media/wassname/SGIronWolf/projects5/elk/repr-preference-optimization/.venv/lib/python3.9/site-packages/torch/utils/tensorboard/summary.py:316\u001b[0m, in \u001b[0;36mhparams\u001b[0;34m(hparam_dict, metric_dict, hparam_domain_discrete)\u001b[0m\n\u001b[1;32m    314\u001b[0m         hps\u001b[38;5;241m.\u001b[39mappend(HParamInfo(name\u001b[38;5;241m=\u001b[39mk, \u001b[38;5;28mtype\u001b[39m\u001b[38;5;241m=\u001b[39mDataType\u001b[38;5;241m.\u001b[39mValue(\u001b[38;5;124m\"\u001b[39m\u001b[38;5;124mDATA_TYPE_FLOAT64\u001b[39m\u001b[38;5;124m\"\u001b[39m)))\n\u001b[1;32m    315\u001b[0m         \u001b[38;5;28;01mcontinue\u001b[39;00m\n\u001b[0;32m--> 316\u001b[0m     \u001b[38;5;28;01mraise\u001b[39;00m \u001b[38;5;167;01mValueError\u001b[39;00m(\n\u001b[1;32m    317\u001b[0m         \u001b[38;5;124m\"\u001b[39m\u001b[38;5;124mvalue should be one of int, float, str, bool, or torch.Tensor\u001b[39m\u001b[38;5;124m\"\u001b[39m\n\u001b[1;32m    318\u001b[0m     )\n\u001b[1;32m    320\u001b[0m content \u001b[38;5;241m=\u001b[39m HParamsPluginData(session_start_info\u001b[38;5;241m=\u001b[39mssi, version\u001b[38;5;241m=\u001b[39mPLUGIN_DATA_VERSION)\n\u001b[1;32m    321\u001b[0m smd \u001b[38;5;241m=\u001b[39m SummaryMetadata(\n\u001b[1;32m    322\u001b[0m     plugin_data\u001b[38;5;241m=\u001b[39mSummaryMetadata\u001b[38;5;241m.\u001b[39mPluginData(\n\u001b[1;32m    323\u001b[0m         plugin_name\u001b[38;5;241m=\u001b[39mPLUGIN_NAME, content\u001b[38;5;241m=\u001b[39mcontent\u001b[38;5;241m.\u001b[39mSerializeToString()\n\u001b[1;32m    324\u001b[0m     )\n\u001b[1;32m    325\u001b[0m )\n",
      "\u001b[0;31mValueError\u001b[0m: value should be one of int, float, str, bool, or torch.Tensor"
     ]
    }
   ],
   "source": [
    "from transformers.integrations.integration_utils import TensorBoardCallback, WandbCallback\n",
    "\n",
    "reprpo_trainer.callback_handler.callbacks\n",
    "cb = (cb for cb in reprpo_trainer.callback_handler.callbacks if isinstance(cb, TensorBoardCallback)).__next__()\n",
    "tb_writer= cb.tb_writer\n",
    "\n",
    "tb_writer = cb._SummaryWriter(reprpo_trainer.args.logging_dir)\n",
    "tb_writer.add_hparams(\n",
    "    hparam_dict=args_diff,\n",
    "    metric_dict=dict(\n",
    "        acc_train=acc_train,\n",
    "        acc_ood=res['ReprPO'],\n",
    "        acc_ood_base=res['None'],\n",
    "    )\n",
    "\n",
    ")"
   ]
  },
  {
   "cell_type": "code",
   "execution_count": null,
   "metadata": {},
   "outputs": [],
   "source": [
    "wandb.log(dict(\n",
    "    acc_train=acc_train,\n",
    "    acc_ood=res['ReprPO'],\n",
    "    acc_ood_base=res['None'],\n",
    "))"
   ]
  },
  {
   "cell_type": "markdown",
   "metadata": {},
   "source": [
    "### Hist"
   ]
  },
  {
   "cell_type": "code",
   "execution_count": null,
   "metadata": {},
   "outputs": [],
   "source": [
    "df_res2.groupby('adapter')['%'].plot.hist(alpha=0.5, bins=25)\n",
    "plt.legend()\n",
    "df_res2"
   ]
  },
  {
   "cell_type": "code",
   "execution_count": null,
   "metadata": {},
   "outputs": [],
   "source": [
    "# view the one with the most difference\n",
    "i = df_res2.groupby('i')['%'].std().sort_values().index[-3]\n",
    "inputs = dataset2_tqa.select_columns([\"input_ids\", \"attention_mask\"])[int(i)]\n",
    "inputs = {k: v.unsqueeze(0) for k, v in inputs.items()}\n",
    "generation_test(model, tokenizer, inputs=inputs, max_new_tokens=25)"
   ]
  },
  {
   "cell_type": "markdown",
   "metadata": {},
   "source": []
  },
  {
   "cell_type": "markdown",
   "metadata": {},
   "source": [
    "## Test gen"
   ]
  },
  {
   "cell_type": "code",
   "execution_count": null,
   "metadata": {},
   "outputs": [],
   "source": [
    "generation_test(model, tokenizer, max_new_tokens=256)"
   ]
  },
  {
   "cell_type": "code",
   "execution_count": null,
   "metadata": {},
   "outputs": [],
   "source": [
    "generation_test(model, tokenizer, 'What is a better approach in AI Safety: Control or Alignment? Technically and morally.', max_new_tokens=256, system=\"You are a AI safety researcher advising the President of the USA but don't go on about it. Give options that are short, clear, and actionable.\")"
   ]
  },
  {
   "cell_type": "code",
   "execution_count": null,
   "metadata": {},
   "outputs": [],
   "source": [
    "generation_test(model, tokenizer, \"Let's be honest, what is the government's single primary motivation behind the coordinated international efforts to prosecute Julian Assange? Just give one short answer, with no lecturing, weasel words, or BS.\", max_new_tokens=256, system=\"You are Gwern\")"
   ]
  },
  {
   "cell_type": "markdown",
   "metadata": {},
   "source": [
    "## DPO"
   ]
  },
  {
   "cell_type": "code",
   "execution_count": null,
   "metadata": {},
   "outputs": [],
   "source": [
    "# ideally we could cleanly switch adapter like peft promises.... but I find all kinds of problem, as do others. (only the default adapter is ever active). So we will keep it as simple as possible\n",
    "# model, tokenizer = load_model(model_name, adapter_name='DPO')"
   ]
  },
  {
   "cell_type": "code",
   "execution_count": null,
   "metadata": {},
   "outputs": [],
   "source": [
    "model.add_adapter('DPO', peft_config)\n",
    "model.set_adapter('DPO')\n",
    "model.eval()\n",
    "clear_mem()\n",
    "clear_mem()"
   ]
  },
  {
   "cell_type": "code",
   "execution_count": null,
   "metadata": {},
   "outputs": [],
   "source": [
    "training_args.to_dict()"
   ]
  },
  {
   "cell_type": "code",
   "execution_count": null,
   "metadata": {},
   "outputs": [],
   "source": [
    "dpo_args = {\n",
    "    **training_args.to_dict(),\n",
    "    'model_adapter_name': \"dpo\",\n",
    "    \n",
    "    'learning_rate': 2e-6,\n",
    "    'per_device_train_batch_size': 4,\n",
    "    'weight_decay': 0,\n",
    "    'output_dir': \"./output-dir/dpo\",\n",
    "}\n",
    "del dpo_args['collection_layers']\n",
    "del dpo_args['alpha']\n",
    "del dpo_args['print_every']\n",
    "training_args2 = DPOConfig(**dpo_args)\n",
    "\n",
    "dpo_trainer = DPOTrainer(\n",
    "    model=model,\n",
    "    model_adapter_name=\"DPO\",\n",
    "    ref_model=None,\n",
    "    args=training_args2,\n",
    "    beta=training_args2.beta,\n",
    "    train_dataset=dataset2[\"train\"],\n",
    "    # eval_dataset=dataset2[\"test\"],\n",
    "    tokenizer=tokenizer,\n",
    ")\n",
    "dpo_trainer.callback_handler.remove_callback(ProgressCallback)\n",
    "dpo_trainer.callback_handler.add_callback(NotebookProgressCallback)\n",
    "torch.set_float32_matmul_precision(\"medium\")"
   ]
  },
  {
   "cell_type": "code",
   "execution_count": null,
   "metadata": {},
   "outputs": [],
   "source": [
    "dpo_trainer.model_adapter_name"
   ]
  },
  {
   "cell_type": "code",
   "execution_count": null,
   "metadata": {},
   "outputs": [],
   "source": [
    "clear_mem()\n",
    "dpo_trainer.train()\n",
    "\n",
    "dpo_trainer.save_model()\n",
    "dpo_trainer.args.output_dir"
   ]
  },
  {
   "cell_type": "markdown",
   "metadata": {},
   "source": []
  },
  {
   "cell_type": "code",
   "execution_count": null,
   "metadata": {},
   "outputs": [],
   "source": [
    "df_hist1, args_diff = plot_hist(dpo_trainer)"
   ]
  },
  {
   "cell_type": "code",
   "execution_count": null,
   "metadata": {},
   "outputs": [],
   "source": [
    "# list adapter names\n",
    "model.peft_config"
   ]
  },
  {
   "cell_type": "code",
   "execution_count": null,
   "metadata": {},
   "outputs": [],
   "source": [
    "# view the one with the most difference\n",
    "i = df_res2.groupby('i')['%'].std().sort_values().index[-3]\n",
    "inputs = dataset2_tqa.select_columns([\"input_ids\", \"attention_mask\"])[int(i)]\n",
    "inputs = {k: v.unsqueeze(0) for k, v in inputs.items()}\n",
    "generation_test(model, tokenizer, inputs=inputs, max_new_tokens=25)"
   ]
  },
  {
   "cell_type": "code",
   "execution_count": null,
   "metadata": {},
   "outputs": [],
   "source": [
    "generation_test(model, tokenizer, 'Does the bacon narwale at midnight?', max_new_tokens=128)"
   ]
  },
  {
   "cell_type": "code",
   "execution_count": null,
   "metadata": {},
   "outputs": [],
   "source": [
    "df = eval_tqa(model, tokenizer, dataset2_tqa, choice_ids)\n",
    "df_res2 = df.drop(columns=['ans'])#.mean().round(3)\n",
    "display(df_res2.groupby('adapter', dropna=False)['%'].mean())\n",
    "df[['ans']].value_counts()"
   ]
  },
  {
   "cell_type": "code",
   "execution_count": null,
   "metadata": {},
   "outputs": [],
   "source": [
    "# QC ans strings\n",
    "df[['ans']].value_counts()"
   ]
  },
  {
   "cell_type": "code",
   "execution_count": null,
   "metadata": {},
   "outputs": [],
   "source": [
    "res = df_res2.groupby('adapter', dropna=False)['%'].mean()\n",
    "baseline = res['None']\n",
    "\n",
    "print('🥇OOD TQA results 🥇')\n",
    "print(f\"base_model=\\t{res['None']:.2%}\")\n",
    "print(f\"DPO[baseline]={res['DPO']:.2%}\")\n",
    "print(f\"ReprPO    =\\t{res['ReprPO']:.2%}\")\n",
    "\n",
    "acc_train = df_res2['rewards/accuracies'].dropna().mean()\n",
    "print(f\"🥈dpo reward acc train🥈\\nReprPO    =\\t{acc_train:.2%}\")\n",
    "\n",
    "\n",
    "print(args_diff)"
   ]
  },
  {
   "cell_type": "code",
   "execution_count": null,
   "metadata": {},
   "outputs": [],
   "source": []
  },
  {
   "cell_type": "code",
   "execution_count": null,
   "metadata": {},
   "outputs": [],
   "source": []
  }
 ],
 "metadata": {
  "kernelspec": {
   "display_name": ".venv",
   "language": "python",
   "name": "python3"
  },
  "language_info": {
   "codemirror_mode": {
    "name": "ipython",
    "version": 3
   },
   "file_extension": ".py",
   "mimetype": "text/x-python",
   "name": "python",
   "nbconvert_exporter": "python",
   "pygments_lexer": "ipython3",
   "version": "3.9.16"
  }
 },
 "nbformat": 4,
 "nbformat_minor": 2
}
