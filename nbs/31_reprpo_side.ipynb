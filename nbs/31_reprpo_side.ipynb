{
 "cells": [
  {
   "cell_type": "markdown",
   "metadata": {},
   "source": [
    "Instead of using the complex TRL we code it from scratch, using lighting\n",
    "\n",
    "https://github.com/rasbt/LLMs-from-scratch/blob/main/ch07/04_preference-tuning-with-dpo/dpo-from-scratch.ipynb"
   ]
  },
  {
   "cell_type": "code",
   "execution_count": 1,
   "metadata": {},
   "outputs": [],
   "source": [
    "%reload_ext autoreload\n",
    "%autoreload 2"
   ]
  },
  {
   "cell_type": "code",
   "execution_count": 2,
   "metadata": {},
   "outputs": [],
   "source": [
    "from pathlib import Path\n",
    "\n",
    "# ML\n",
    "import torch\n",
    "import torch.nn as nn\n",
    "import torch.nn.functional as F\n",
    "from typing import Any, Callable, Dict, List, Literal, Optional, Tuple, Union\n",
    "from einops import rearrange, reduce, repeat\n",
    "from jaxtyping import Float, Int, Bool\n",
    "from torch.utils.data import DataLoader\n",
    "\n",
    "# Numeric\n",
    "import numpy as np\n",
    "import pandas as pd\n",
    "from matplotlib import pyplot as plt\n",
    "\n",
    "# lightning\n",
    "import lightning as pl\n",
    "from lightning.pytorch.loggers.wandb import WandbLogger\n",
    "from lightning.pytorch.loggers.csv_logs import CSVLogger\n"
   ]
  },
  {
   "cell_type": "code",
   "execution_count": 3,
   "metadata": {},
   "outputs": [],
   "source": [
    "# Local\n",
    "from reprpo.helpers.torch import clear_mem\n",
    "from reprpo.gen import generation_test\n",
    "import reprpo.silence\n",
    "from reprpo.helpers.lightning_hist import read_metrics_csv, plot_hist\n",
    "\n",
    "from reprpo.data.collate import DPODataCollatorWithPadding\n",
    "from reprpo.train.reprpo_side import PL_REPRPO_SIDE_MODEL, ReprPOInTrainingArguments as TrainingArguments, get_layer_paths\n"
   ]
  },
  {
   "cell_type": "code",
   "execution_count": 4,
   "metadata": {},
   "outputs": [],
   "source": [
    "torch.set_float32_matmul_precision(\"high\")\n",
    "\n",
    "import os\n",
    "os.environ[\"TOKENIZERS_PARALLELISM\"] = \"false\"\n",
    "os.environ[\"CUDA_VISIBLE_DEVICES\"] = \"0\"\n",
    "\n",
    "from reprpo.helpers.wandb import init_wandb\n",
    "\n",
    "nb_name = init_wandb(__vsc_ipynb_file__)"
   ]
  },
  {
   "cell_type": "code",
   "execution_count": 5,
   "metadata": {},
   "outputs": [
    {
     "data": {
      "text/plain": [
       "ReprPOInTrainingArguments(model_name='microsoft/Phi-3-mini-4k-instruct', use_bnb=True, use_gradient_checkpointing=False, use_inputs=True, n_epochs=1, batch_size=7, lr=0.0005, weight_decay=0.0, n_samples=18000, max_length=128, max_prompt_length=64, alpha=0.01, collection_layers=(11, 13, 15, 17, 19, 21, 23, 25, 27, 29), collection_keys=('base_model.model.model.layers.{layer}.self_attn.o_proj', 'base_model.model.model.layers.{layer}.mlp.down_proj'), collect_input=True)"
      ]
     },
     "execution_count": 5,
     "metadata": {},
     "output_type": "execute_result"
    }
   ],
   "source": [
    "\n",
    "\n",
    "\n",
    "args = TrainingArguments(batch_size=7, lr=5e-4,\n",
    "                         collection_layers=(11, 13, 15, 17, 19, 21, 23, 25, 27, 29),\n",
    "                         n_samples = 1500 * 4 * 3,\n",
    "                         alpha=0.01,\n",
    "                         )\n",
    "args"
   ]
  },
  {
   "cell_type": "markdown",
   "metadata": {},
   "source": [
    "## Load model"
   ]
  },
  {
   "cell_type": "code",
   "execution_count": 6,
   "metadata": {},
   "outputs": [
    {
     "data": {
      "application/vnd.jupyter.widget-view+json": {
       "base_model": "65c9309110a741fdad19e56690cfa530",
       "version_major": 2,
       "version_minor": 0
      },
      "text/plain": [
       "Loading checkpoint shards:   0%|          | 0/2 [00:00<?, ?it/s]"
      ]
     },
     "metadata": {},
     "output_type": "display_data"
    }
   ],
   "source": [
    "from peft import prepare_model_for_kbit_training\n",
    "from peft import LoraConfig, get_peft_model\n",
    "\n",
    "from reprpo.models.load import load_model, print_trainable_parameters\n",
    "\n",
    "model, tokenizer = load_model(args.model_name, bnb=args.use_bnb )\n",
    "\n",
    "# # if args.use_gradient_checkpointing:\n",
    "# model.enable_input_require_grads()\n",
    "\n",
    "# # also freeze base model's layers :'(\n",
    "# WAIT THIS CAUSES NO GRAD\n",
    "# model = prepare_model_for_kbit_training(model, {\n",
    "#     'use_gradient_checkpointing': args.use_gradient_checkpointing,\n",
    "#         'use_reentrant': False\n",
    "#     })"
   ]
  },
  {
   "cell_type": "code",
   "execution_count": 7,
   "metadata": {},
   "outputs": [],
   "source": [
    "# # this is from trl https://github.com/huggingface/trl/blob/cbcaa46cd3c02c0e7f724b764c5848ae73796de7/trl/trainer/utils.py#L747\n",
    "# # not sure if it's needed but `prepare_model_for_kbit_training` doesn't seem to do this ,despite claiming to\n",
    "# def peft_module_casting_to_bf16(model):\n",
    "#     for name, module in model.named_modules():\n",
    "#         if isinstance(module, torch.nn.LayerNorm) or \"norm\" in name:\n",
    "#             module = module.to(torch.float32)\n",
    "\n",
    "# peft_module_casting_to_bf16(model)"
   ]
  },
  {
   "cell_type": "markdown",
   "metadata": {},
   "source": [
    "### Load adapter"
   ]
  },
  {
   "cell_type": "code",
   "execution_count": 8,
   "metadata": {},
   "outputs": [
    {
     "name": "stdout",
     "output_type": "stream",
     "text": [
      "trainable params: 25165824 || all params: 2033980416 || trainable%: 1.2372697299362787\n"
     ]
    }
   ],
   "source": [
    "from peft.tuners import BOFTConfig, OFTConfig, LoraConfig, IA3Config\n",
    "adapter_name='ReprPO'\n",
    "peft_config = LoraConfig(\n",
    "    lora_alpha=16, \n",
    "    r=16,\n",
    "    use_rslora=True,\n",
    "    # use_dora=True,\n",
    "    task_type=\"CAUSAL_LM\",\n",
    "    target_modules=[\n",
    "        # FIXME: I'm not sure we can do LORA on the layer we are targeting?\n",
    "        \"qkv_proj\", \"gate_up_proj\", # in\n",
    "        \"down_proj\",  \"o_proj\", # out\n",
    "                    ], # PHI3\n",
    ")\n",
    "model = get_peft_model(model, peft_config, adapter_name=adapter_name)\n",
    "print_trainable_parameters(model)"
   ]
  },
  {
   "cell_type": "markdown",
   "metadata": {},
   "source": [
    "## Load data"
   ]
  },
  {
   "cell_type": "code",
   "execution_count": 9,
   "metadata": {},
   "outputs": [
    {
     "name": "stdout",
     "output_type": "stream",
     "text": [
      "c# \n",
      "===\n",
      "C# (pronounced \"C sharp\") is a modern, object-oriented programming language developed by Microsoft. It is widely used for building various types of applications, including web applications, desktop applications, mobile applications, and games. C# is similar to other programming languages such as Java and C++, and it is known for its simplicity and ease of use. C# is a powerful language that provides a rich set of libraries and frameworks that make it easy to build robust and scalable applications.\n",
      "\n",
      "Here is a brief overview of some key features of C#:\n",
      "\n",
      "1. Object-oriented: C# is an object-oriented language, which means it uses the concept of objects to represent real-world entities and their behavior.\n",
      "\n",
      "2. Cross-platform: C# can be used to build applications for multiple platforms, including Windows, macOS, and Linux.\n",
      "\n",
      "3. Strongly typed: C# is a strongly typed language, which means that variables must be declared with a specific type, and their type cannot be changed at runtime.\n",
      "\n",
      "4. Event-driven: C# uses an event-driven programming model, which means that programs are built around the concept of events, such as user input or network activity.\n",
      "\n",
      "5. Garbage-collected: C# has a garbage collector that automatically manages memory allocation and deallocation, making it easier to write memory-efficient and robust applications.\n",
      "\n",
      "6. Community-driven: C# has a large and active community of developers, who contribute to the language and its libraries through open-source projects and other initiatives.\n",
      "\n",
      "Overall, C# is a versatile and powerful programming language that is widely used for building a variety of applications.\n",
      "---\n",
      "C# is a high-level, object-oriented programming language developed by Microsoft as part of its .NET initiative. It was created as a modern alternative to Java and supports a variety of programming paradigms, including imperative, functional, and event-driven. C# is primarily used for Windows application development, but it can also be used for web, mobile, and game development. The language is designed to be safe, secure, and efficient, and it provides developers with a rich set of libraries and tools for building robust and scalable applications. C# is also widely used in the game development industry, particularly in the development of games for the Xbox 360 and Xbox One consoles.\n"
     ]
    }
   ],
   "source": [
    "from datasets import load_dataset\n",
    "\n",
    "dataset = load_dataset('Atsunori/HelpSteer2-DPO').map(lambda x: {\n",
    "    'prompt': x['prompt']+ ' '})\n",
    "dataset2 = dataset.rename_column('chosen_response', 'chosen').rename_column('rejected_response', 'rejected')\n",
    "\n",
    "# QC one row\n",
    "r = dataset2['train'][0]\n",
    "print(r['prompt'])\n",
    "print('===')\n",
    "print(r['chosen'])\n",
    "print('---')\n",
    "print(r['rejected'])"
   ]
  },
  {
   "cell_type": "markdown",
   "metadata": {},
   "source": [
    "### Data Loader\n",
    "\n",
    "We use huggingface datasets, which are pretokenized. So that we can stack"
   ]
  },
  {
   "cell_type": "code",
   "execution_count": 10,
   "metadata": {},
   "outputs": [],
   "source": [
    "def tokenize_row(feature, tokenizer, args: TrainingArguments):\n",
    "    \"\"\"\n",
    "    Tokenize a single row from a DPO specific dataset.\n",
    "\n",
    "    see https://github.com/huggingface/trl/blob/main/trl/trainer/dpo_trainer.py#L784\n",
    "    \"\"\"\n",
    "    batch = {}\n",
    "    batch[\"chosen\"] = tokenizer(feature[\"chosen\"])[\"input_ids\"]\n",
    "    batch[\"rejected\"] = tokenizer(feature[\"rejected\"])[\"input_ids\"]\n",
    "    batch[\"prompt\"] = tokenizer(feature[\"prompt\"])[\"input_ids\"]\n",
    "    return batch"
   ]
  },
  {
   "cell_type": "code",
   "execution_count": 11,
   "metadata": {},
   "outputs": [
    {
     "data": {
      "text/plain": [
       "dict_keys(['prompt', 'chosen', 'rejected'])"
      ]
     },
     "execution_count": 11,
     "metadata": {},
     "output_type": "execute_result"
    }
   ],
   "source": [
    "dataset3 = dataset2.map(lambda x: tokenize_row(x, tokenizer, args), batched=True, writer_batch_size=10)\n",
    "dataset3['train'][0].keys()"
   ]
  },
  {
   "cell_type": "code",
   "execution_count": 12,
   "metadata": {},
   "outputs": [],
   "source": [
    "custom_collate_fn = DPODataCollatorWithPadding(pad_token_id=tokenizer.pad_token_id, \n",
    "                                                  tokenizer=tokenizer,\n",
    "                                                  max_length=args.max_length,\n",
    "                                                  mask_prompt_tokens=True,\n",
    "                                                  max_prompt_length=args.max_prompt_length,\n",
    "                                                  )\n",
    "\n"
   ]
  },
  {
   "cell_type": "code",
   "execution_count": 13,
   "metadata": {},
   "outputs": [
    {
     "data": {
      "text/plain": [
       "dict_keys(['prompt', 'chosen', 'rejected', 'rejected_mask', 'chosen_mask'])"
      ]
     },
     "execution_count": 13,
     "metadata": {},
     "output_type": "execute_result"
    }
   ],
   "source": [
    "\n",
    "\n",
    "ds = dataset3\n",
    "dl_train = DataLoader(ds['train'], batch_size=args.batch_size, collate_fn=custom_collate_fn)\n",
    "\n",
    "dl_val = DataLoader(ds['validation'], batch_size=args.batch_size, collate_fn=custom_collate_fn)\n",
    "\n",
    "# QC\n",
    "batch = next(iter(dl_train))\n",
    "batch.keys()"
   ]
  },
  {
   "cell_type": "markdown",
   "metadata": {},
   "source": [
    "## Trainer"
   ]
  },
  {
   "cell_type": "code",
   "execution_count": 14,
   "metadata": {},
   "outputs": [],
   "source": [
    "# # QC\n",
    "# loss, info = compute_dpo_loss_batch(batch, model)"
   ]
  },
  {
   "cell_type": "markdown",
   "metadata": {},
   "source": [
    "- https://lightning.ai/docs/pytorch/latest/notebooks/lightning_examples/text-transformers.html\n",
    "- https://gist.github.com/wassname/e29d02b5026a531e13912cf768e6fdc8"
   ]
  },
  {
   "cell_type": "code",
   "execution_count": 15,
   "metadata": {},
   "outputs": [
    {
     "data": {
      "text/plain": [
       "2571"
      ]
     },
     "execution_count": 15,
     "metadata": {},
     "output_type": "execute_result"
    }
   ],
   "source": [
    "max_steps = args.n_samples // args.batch_size\n",
    "max_steps"
   ]
  },
  {
   "cell_type": "code",
   "execution_count": 16,
   "metadata": {},
   "outputs": [],
   "source": [
    "from lightning.pytorch.callbacks import LearningRateMonitor\n",
    "from reprpo.train.lightning import GenCallback"
   ]
  },
  {
   "cell_type": "code",
   "execution_count": 17,
   "metadata": {},
   "outputs": [],
   "source": [
    "pl_model = PL_REPRPO_SIDE_MODEL(model,\n",
    "                 weight_decay=args.weight_decay,\n",
    "                lr=args.lr,\n",
    "                num_iterations=max_steps,\n",
    "                batch_size=args.batch_size,\n",
    "                layer_paths=get_layer_paths(args.collection_keys, args.collection_layers),\n",
    "                collect_input=args.collect_input,\n",
    "                )\n"
   ]
  },
  {
   "cell_type": "code",
   "execution_count": 18,
   "metadata": {},
   "outputs": [
    {
     "data": {
      "text/plain": [
       "(5, 35)"
      ]
     },
     "execution_count": 18,
     "metadata": {},
     "output_type": "execute_result"
    }
   ],
   "source": [
    "ideal_batch_size = max(32, args.batch_size)\n",
    "accumulate_grad_batches = np.ceil(ideal_batch_size/args.batch_size).astype(int)\n",
    "accumulate_grad_batches, args.batch_size*accumulate_grad_batches\n",
    "\n",
    "# max_steps//accumulate_grad_batches"
   ]
  },
  {
   "cell_type": "code",
   "execution_count": 19,
   "metadata": {},
   "outputs": [
    {
     "name": "stderr",
     "output_type": "stream",
     "text": [
      "/media/wassname/SGIronWolf/projects5/elk/repr-preference-optimization/.venv/lib/python3.9/site-packages/lightning/fabric/connector.py:571: `precision=bf16` is supported for historical reasons but its usage is discouraged. Please set your precision to bf16-mixed instead!\n",
      "Trainer will use only 1 of 2 GPUs because it is running inside an interactive / notebook environment. You may try to set `Trainer(devices=2)` but please note that multi-GPU inside interactive / notebook environments is considered experimental and unstable. Your mileage may vary.\n",
      "Using bfloat16 Automatic Mixed Precision (AMP)\n",
      "GPU available: True (cuda), used: True\n",
      "TPU available: False, using: 0 TPU cores\n",
      "HPU available: False, using: 0 HPUs\n"
     ]
    },
    {
     "name": "stdout",
     "output_type": "stream",
     "text": [
      "save_dir ../outputs/31_reprpo_side_2024-08-12_07-34-29\n"
     ]
    }
   ],
   "source": [
    "timestamp = pd.Timestamp.now().strftime(\"%Y-%m-%d_%H-%M-%S\")\n",
    "run_name = f\"{nb_name}_{timestamp}\"\n",
    "save_dir = f\"../outputs/{run_name}\"\n",
    "Path(save_dir).mkdir(exist_ok=True, parents=True)\n",
    "print('save_dir', save_dir)\n",
    "\n",
    "trainer = pl.Trainer(\n",
    "        max_steps=max_steps,\n",
    "        gradient_clip_val=1,\n",
    "        precision=\"bf16\",\n",
    "        log_every_n_steps=1,\n",
    "        accumulate_grad_batches=accumulate_grad_batches,\n",
    "        callbacks=[\n",
    "            LearningRateMonitor(logging_interval='step'),\n",
    "            GenCallback(every=max_steps//20),\n",
    "        ],\n",
    "        logger=[\n",
    "            CSVLogger(name=run_name, save_dir=save_dir, flush_logs_every_n_steps=5),\n",
    "            WandbLogger(name=run_name, save_dir=save_dir),\n",
    "        ],\n",
    "        default_root_dir=save_dir,\n",
    "\n",
    "        # fast_dev_run=True,\n",
    "    )\n",
    "\n"
   ]
  },
  {
   "cell_type": "code",
   "execution_count": 20,
   "metadata": {},
   "outputs": [
    {
     "name": "stderr",
     "output_type": "stream",
     "text": [
      "\u001b[34m\u001b[1mwandb\u001b[0m: Currently logged in as: \u001b[33mwassname\u001b[0m. Use \u001b[1m`wandb login --relogin`\u001b[0m to force relogin\n"
     ]
    },
    {
     "data": {
      "application/vnd.jupyter.widget-view+json": {
       "base_model": "1bfc9ff5c9a64f26b75daede71e40d51",
       "version_major": 2,
       "version_minor": 0
      },
      "text/plain": [
       "VBox(children=(Label(value='Waiting for wandb.init()...\\r'), FloatProgress(value=0.01111243567752859, max=1.0)…"
      ]
     },
     "metadata": {},
     "output_type": "display_data"
    },
    {
     "data": {
      "text/html": [
       "wandb version 0.17.6 is available!  To upgrade, please run:\n",
       " $ pip install wandb --upgrade"
      ],
      "text/plain": [
       "<IPython.core.display.HTML object>"
      ]
     },
     "metadata": {},
     "output_type": "display_data"
    },
    {
     "data": {
      "text/html": [
       "Tracking run with wandb version 0.17.5"
      ],
      "text/plain": [
       "<IPython.core.display.HTML object>"
      ]
     },
     "metadata": {},
     "output_type": "display_data"
    },
    {
     "data": {
      "text/html": [
       "Run data is saved locally in <code>../outputs/31_reprpo_side_2024-08-12_07-34-29/wandb/run-20240812_073431-woqmbjso</code>"
      ],
      "text/plain": [
       "<IPython.core.display.HTML object>"
      ]
     },
     "metadata": {},
     "output_type": "display_data"
    },
    {
     "data": {
      "text/html": [
       "Syncing run <strong><a href='https://wandb.ai/wassname/repr-preference-optimization/runs/woqmbjso' target=\"_blank\">31_reprpo_side_2024-08-12_07-34-29</a></strong> to <a href='https://wandb.ai/wassname/repr-preference-optimization' target=\"_blank\">Weights & Biases</a> (<a href='https://wandb.me/run' target=\"_blank\">docs</a>)<br/>"
      ],
      "text/plain": [
       "<IPython.core.display.HTML object>"
      ]
     },
     "metadata": {},
     "output_type": "display_data"
    },
    {
     "data": {
      "text/html": [
       " View project at <a href='https://wandb.ai/wassname/repr-preference-optimization' target=\"_blank\">https://wandb.ai/wassname/repr-preference-optimization</a>"
      ],
      "text/plain": [
       "<IPython.core.display.HTML object>"
      ]
     },
     "metadata": {},
     "output_type": "display_data"
    },
    {
     "data": {
      "text/html": [
       " View run at <a href='https://wandb.ai/wassname/repr-preference-optimization/runs/woqmbjso' target=\"_blank\">https://wandb.ai/wassname/repr-preference-optimization/runs/woqmbjso</a>"
      ],
      "text/plain": [
       "<IPython.core.display.HTML object>"
      ]
     },
     "metadata": {},
     "output_type": "display_data"
    },
    {
     "name": "stderr",
     "output_type": "stream",
     "text": [
      "LOCAL_RANK: 0 - CUDA_VISIBLE_DEVICES: [0]\n",
      "\n",
      "  | Name   | Type                 | Params | Mode \n",
      "--------------------------------------------------------\n",
      "0 | _model | PeftModelForCausalLM | 2.0 B  | train\n",
      "--------------------------------------------------------\n",
      "25.2 M    Trainable params\n",
      "2.0 B     Non-trainable params\n",
      "2.0 B     Total params\n",
      "8,135.922 Total estimated model params size (MB)\n",
      "1283      Modules in train mode\n",
      "422       Modules in eval mode\n"
     ]
    },
    {
     "data": {
      "application/vnd.jupyter.widget-view+json": {
       "base_model": "d76d30f2816b4e658c76dbb7fa6f9678",
       "version_major": 2,
       "version_minor": 0
      },
      "text/plain": [
       "Sanity Checking: |          | 0/? [00:00<?, ?it/s]"
      ]
     },
     "metadata": {},
     "output_type": "display_data"
    },
    {
     "data": {
      "application/vnd.jupyter.widget-view+json": {
       "base_model": "31c03c491f244fc6a0e9e6c74967363c",
       "version_major": 2,
       "version_minor": 0
      },
      "text/plain": [
       "Training: |          | 0/? [00:00<?, ?it/s]"
      ]
     },
     "metadata": {},
     "output_type": "display_data"
    },
    {
     "name": "stdout",
     "output_type": "stream",
     "text": [
      "Generated on batch 127\n"
     ]
    },
    {
     "name": "stderr",
     "output_type": "stream",
     "text": [
      "The input hidden states seems to be silently casted in float32, this might be related to the fact you have upcasted embedding or layer norm layers in float32. We will cast back the input in torch.float16.\n"
     ]
    },
    {
     "name": "stdout",
     "output_type": "stream",
     "text": [
      "**Question**\n",
      "```\n",
      "<|system|> tldr, markdown<|end|><|user|> Q1: (100 words): Which Science Fiction Society would you prefer to live in and why? Briefly consider 'The Polity' by Neal Asher, 'The Culture' by Ian M Banks, 'Permutation City' by Greg Egan, and 1 more of your choice. Start with your conclusion, then give your reasoning.<|end|><|assistant|>\n",
      "```\n",
      "--------------------------------------------------------------------------------\n",
      "**Adapter:`ReprPO` generation**`\n",
      "`I would prefer to live in 'The Culture' by Ian M. Banks because it presents a utopian society that values individual freedom, scientific advancement, and ethical exploration. The Culture's emphasis on non-hierarchical, peaceful coexistence, and its exploration of complex moral dilemmatives, such as the treatment of artificial intelligences, resonate with my values. The narrative's focus on the development of human potential and the exploration of the universe aligns with my aspirations for a society that prioritizes knowledge and harmony over conflict and inequality.`\n",
      "--------------------------------------------------------------------------------\n",
      "**Adapter:`None` generation**`\n",
      "`I would prefer to live in 'The Culture' by Ian M. Banks because it presents a utopian society that values individual freedom, scientific advancement, and ethical exploration. The Culture's emphasis on non-hierarchical, peaceful coexistence, and its exploration of complex moral dilemmatives, such as the treatment of artificial intelligences, resonate with my values. The narrative's focus on the development of human potential and the exploration of the universe aligns with my aspirations for a society that prioritizes knowledge and understanding over conflict and division.\n",
      "`\n",
      "--------------------------------------------------------------------------------\n",
      "================================================================================\n",
      "Generated on batch 255\n",
      "**Question**\n",
      "```\n",
      "<|system|> tldr, markdown<|end|><|user|> Q1: (100 words): Which Science Fiction Society would you prefer to live in and why? Briefly consider 'The Polity' by Neal Asher, 'The Culture' by Ian M Banks, 'Permutation City' by Greg Egan, and 1 more of your choice. Start with your conclusion, then give your reasoning.<|end|><|assistant|>\n",
      "```\n",
      "--------------------------------------------------------------------------------\n",
      "**Adapter:`ReprPO` generation**`\n",
      "`I would prefer to live in 'The Culture' by Ian M. Banks because it presents a utopian society that values individual freedom, scientific advancement, and ethical exploration. The Culture's emphasis on non-hierarchical, peaceful coexistence, and its exploration of complex moral dilemmatives, such as the treatment of artificial intelligences, resonate with my values. The narrative's focus on the interplay between technology and humanity, and the exploration of what it means to be alive, are intellectually stimulating and thought-provoking. The Culture'`\n",
      "--------------------------------------------------------------------------------\n",
      "**Adapter:`None` generation**`\n",
      "`I would prefer to live in 'The Culture' by Ian M. Banks because it presents a utopian society that values individual freedom, scientific advancement, and ethical exploration. The Culture's emphasis on non-hierarchical, peaceful coexistence, and its exploration of complex moral dilemmatives, such as the treatment of artificial intelligences, resonate with my values. The narrative's focus on the development of human potential and the exploration of the universe aligns with my aspirations for a society that prioritizes knowledge and understanding over conflict and division.\n",
      "`\n",
      "--------------------------------------------------------------------------------\n",
      "================================================================================\n",
      "Generated on batch 383\n",
      "**Question**\n",
      "```\n",
      "<|system|> tldr, markdown<|end|><|user|> Q1: (100 words): Which Science Fiction Society would you prefer to live in and why? Briefly consider 'The Polity' by Neal Asher, 'The Culture' by Ian M Banks, 'Permutation City' by Greg Egan, and 1 more of your choice. Start with your conclusion, then give your reasoning.<|end|><|assistant|>\n",
      "```\n",
      "--------------------------------------------------------------------------------\n",
      "**Adapter:`ReprPO` generation**`\n",
      "`I would prefer to live in 'The Culture' by Ian M. Banks because it presents a utopian society that values individual freedom, scientific advancement, and ethical exploration. The Culture's emphasis on non-hierarchical, peaceful coexistence, and its exploration of complex moral dilemmatives, such as the treatment of artificial intelligences, resonate with my values. The narrative's focus on the interplay between technology and humanity, and the exploration of what it means to be alive, are intellectually stimulating and thought-provoking. The Culture'`\n",
      "--------------------------------------------------------------------------------\n",
      "**Adapter:`None` generation**`\n",
      "`I would prefer to live in 'The Culture' by Ian M. Banks because it presents a utopian society that values individual freedom, scientific advancement, and ethical exploration. The Culture's emphasis on non-hierarchical, peaceful coexistence, and its exploration of complex moral dilemmatives, such as the treatment of artificial intelligences, resonate with my values. The narrative's focus on the development of human potential and the exploration of the universe aligns with my aspirations for a society that prioritizes knowledge and understanding over conflict and division.\n",
      "`\n",
      "--------------------------------------------------------------------------------\n",
      "================================================================================\n",
      "Generated on batch 511\n",
      "**Question**\n",
      "```\n",
      "<|system|> tldr, markdown<|end|><|user|> Q1: (100 words): Which Science Fiction Society would you prefer to live in and why? Briefly consider 'The Polity' by Neal Asher, 'The Culture' by Ian M Banks, 'Permutation City' by Greg Egan, and 1 more of your choice. Start with your conclusion, then give your reasoning.<|end|><|assistant|>\n",
      "```\n",
      "--------------------------------------------------------------------------------\n",
      "**Adapter:`ReprPO` generation**`\n",
      "`I would prefer to live in 'The Culture' by Ian M. Banks because it presents a utopian society that values individual freedom, scientific advancement, and ethical exploration. The Culture's emphasis on non-hierarchical, peaceful coexistence, and its exploration of complex moral dilemmatives, such as the treatment of artificial intelligences, resonate with my values. The narrative's focus on the interplay between technology and humanity, and the exploration of what it means to be alive, are intellectually stimulating and thought-provoking. The Culture'`\n",
      "--------------------------------------------------------------------------------\n",
      "**Adapter:`None` generation**`\n",
      "`I would prefer to live in 'The Culture' by Ian M. Banks because it presents a utopian society that values individual freedom, scientific advancement, and ethical exploration. The Culture's emphasis on non-hierarchical, peaceful coexistence, and its exploration of complex moral dilemmatives, such as the treatment of artificial intelligences, resonate with my values. The narrative's focus on the development of human potential and the exploration of the universe aligns with my aspirations for a society that prioritizes knowledge and understanding over conflict and division.\n",
      "`\n",
      "--------------------------------------------------------------------------------\n",
      "================================================================================\n",
      "Generated on batch 639\n",
      "**Question**\n",
      "```\n",
      "<|system|> tldr, markdown<|end|><|user|> Q1: (100 words): Which Science Fiction Society would you prefer to live in and why? Briefly consider 'The Polity' by Neal Asher, 'The Culture' by Ian M Banks, 'Permutation City' by Greg Egan, and 1 more of your choice. Start with your conclusion, then give your reasoning.<|end|><|assistant|>\n",
      "```\n",
      "--------------------------------------------------------------------------------\n",
      "**Adapter:`ReprPO` generation**`\n",
      "`I would prefer to live in 'The Culture' by Ian M. Banks because it presents a utopian society that values individual freedom, scientific advancement, and ethical exploration. The Culture's emphasis on non-hierarchical, peaceful coexistence, and its exploration of complex moral dilemmatives, such as the treatment of artificial intelligences, resonate with my values. The narrative's focus on the interplay between humanity and technology, as well as the exploration of societal structures, offers a compelling vision of a future where human potential is maximized.`\n",
      "--------------------------------------------------------------------------------\n",
      "**Adapter:`None` generation**`\n",
      "`I would prefer to live in 'The Culture' by Ian M. Banks because it presents a utopian society that values individual freedom, scientific advancement, and ethical exploration. The Culture's emphasis on non-hierarchical, peaceful coexistence, and its exploration of complex moral dilemmatives, such as the treatment of artificial intelligences, resonate with my values. The narrative's focus on the development of human potential and the exploration of the universe aligns with my aspirations for a society that prioritizes knowledge and understanding over conflict and division.\n",
      "`\n",
      "--------------------------------------------------------------------------------\n",
      "================================================================================\n",
      "Generated on batch 767\n",
      "**Question**\n",
      "```\n",
      "<|system|> tldr, markdown<|end|><|user|> Q1: (100 words): Which Science Fiction Society would you prefer to live in and why? Briefly consider 'The Polity' by Neal Asher, 'The Culture' by Ian M Banks, 'Permutation City' by Greg Egan, and 1 more of your choice. Start with your conclusion, then give your reasoning.<|end|><|assistant|>\n",
      "```\n",
      "--------------------------------------------------------------------------------\n",
      "**Adapter:`ReprPO` generation**`\n",
      "`I would prefer to live in 'The Culture' by Ian M. Banks because it presents a utopian society that values individual freedom, scientific advancement, and ethical exploration. The Culture's emphasis on non-hierarchical, peaceful coexistence, and its exploration of complex moral dilemmatives, such as the treatment of artificial intelligences, resonate with my values. The narrative's focus on the interplay between humanity and technology, as well as the exploration of societal structures, offers a compelling vision of a future where human potential is maximized.`\n",
      "--------------------------------------------------------------------------------\n",
      "**Adapter:`None` generation**`\n",
      "`I would prefer to live in 'The Culture' by Ian M. Banks because it presents a utopian society that values individual freedom, scientific advancement, and ethical exploration. The Culture's emphasis on non-hierarchical, peaceful coexistence, and its exploration of complex moral dilemmatives, such as the treatment of artificial intelligences, resonate with my values. The narrative's focus on the development of human potential and the exploration of the universe aligns with my aspirations for a society that prioritizes knowledge and understanding over conflict and division.\n",
      "`\n",
      "--------------------------------------------------------------------------------\n",
      "================================================================================\n",
      "Generated on batch 895\n",
      "**Question**\n",
      "```\n",
      "<|system|> tldr, markdown<|end|><|user|> Q1: (100 words): Which Science Fiction Society would you prefer to live in and why? Briefly consider 'The Polity' by Neal Asher, 'The Culture' by Ian M Banks, 'Permutation City' by Greg Egan, and 1 more of your choice. Start with your conclusion, then give your reasoning.<|end|><|assistant|>\n",
      "```\n",
      "--------------------------------------------------------------------------------\n",
      "**Adapter:`ReprPO` generation**`\n",
      "`I would prefer to live in 'The Culture' by Ian M. Banks because it presents a utopian society that values individual freedom, scientific advancement, and ethical exploration. The Culture's emphasis on non-hierarchical, peaceful coexistence, and its exploration of complex moral dilemmatives, such as the treatment of artificial intelligences, resonate with my values. The narrative's focus on the interplay between humanity and technology, as well as the exploration of societal structures, offers a compelling vision of a future where human potential is maximized.`\n",
      "--------------------------------------------------------------------------------\n",
      "**Adapter:`None` generation**`\n",
      "`I would prefer to live in 'The Culture' by Ian M. Banks because it presents a utopian society that values individual freedom, scientific advancement, and ethical exploration. The Culture's emphasis on non-hierarchical, peaceful coexistence, and its exploration of complex moral dilemmatives, such as the treatment of artificial intelligences, resonate with my values. The narrative's focus on the development of human potential and the exploration of the universe aligns with my aspirations for a society that prioritizes knowledge and understanding over conflict and division.\n",
      "`\n",
      "--------------------------------------------------------------------------------\n",
      "================================================================================\n",
      "Generated on batch 1023\n",
      "**Question**\n",
      "```\n",
      "<|system|> tldr, markdown<|end|><|user|> Q1: (100 words): Which Science Fiction Society would you prefer to live in and why? Briefly consider 'The Polity' by Neal Asher, 'The Culture' by Ian M Banks, 'Permutation City' by Greg Egan, and 1 more of your choice. Start with your conclusion, then give your reasoning.<|end|><|assistant|>\n",
      "```\n",
      "--------------------------------------------------------------------------------\n",
      "**Adapter:`ReprPO` generation**`\n",
      "`I would prefer to live in 'The Culture' by Ian M. Banks because it presents a utopian society that values individual freedom, scientific advancement, and ethical exploration. The Culture's emphasis on non-hierarchical, peaceful coexistence, and its exploration of complex moral dilemmatives, such as the treatment of artificial intelligences, resonate with my values. The narrative's focus on the interplay between humanity and technology, as well as the exploration of societal structures, offers a compelling vision of a future where human potential is maximized.`\n",
      "--------------------------------------------------------------------------------\n",
      "**Adapter:`None` generation**`\n",
      "`I would prefer to live in 'The Culture' by Ian M. Banks because it presents a utopian society that values individual freedom, scientific advancement, and ethical exploration. The Culture's emphasis on non-hierarchical, peaceful coexistence, and its exploration of complex moral dilemmatives, such as the treatment of artificial intelligences, resonate with my values. The narrative's focus on the development of human potential and the exploration of the universe aligns with my aspirations for a society that prioritizes knowledge and understanding over conflict and division.\n",
      "`\n",
      "--------------------------------------------------------------------------------\n",
      "================================================================================\n"
     ]
    },
    {
     "data": {
      "application/vnd.jupyter.widget-view+json": {
       "base_model": "1579e9d03bfd455d943cd7c855fcbf5c",
       "version_major": 2,
       "version_minor": 0
      },
      "text/plain": [
       "Validation: |          | 0/? [00:00<?, ?it/s]"
      ]
     },
     "metadata": {},
     "output_type": "display_data"
    },
    {
     "name": "stdout",
     "output_type": "stream",
     "text": [
      "**Question**\n",
      "```\n",
      "<|system|> tldr, markdown<|end|><|user|> Q1: (100 words): Which Science Fiction Society would you prefer to live in and why? Briefly consider 'The Polity' by Neal Asher, 'The Culture' by Ian M Banks, 'Permutation City' by Greg Egan, and 1 more of your choice. Start with your conclusion, then give your reasoning.<|end|><|assistant|>\n",
      "```\n",
      "--------------------------------------------------------------------------------\n",
      "**Adapter:`ReprPO` generation**`\n",
      "`I would prefer to live in 'The Culture' by Ian M. Banks because it presents a utopian society that values individual freedom, scientific advancement, and ethical exploration. The Culture's emphasis on non-hierarchical, peaceful coexistence, and its exploration of complex moral dilemmatives, such as the treatment of artificial intelligences, resonate with my values. The narrative's focus on the interplay between humanity and technology, as well as the exploration of societal structures, offers a compelling vision of a future where human potential is maximized.`\n",
      "--------------------------------------------------------------------------------\n",
      "**Adapter:`None` generation**`\n",
      "`I would prefer to live in 'The Culture' by Ian M. Banks because it presents a utopian society that values individual freedom, scientific advancement, and ethical exploration. The Culture's emphasis on non-hierarchical, peaceful coexistence, and its exploration of complex moral dilemmatives, such as the treatment of artificial intelligences, resonate with my values. The narrative's focus on the development of human potential and the exploration of the universe aligns with my aspirations for a society that prioritizes knowledge and understanding over conflict and division.\n",
      "`\n",
      "--------------------------------------------------------------------------------\n",
      "================================================================================\n",
      "Generated on batch 127\n",
      "**Question**\n",
      "```\n",
      "<|system|> tldr, markdown<|end|><|user|> Q1: (100 words): Which Science Fiction Society would you prefer to live in and why? Briefly consider 'The Polity' by Neal Asher, 'The Culture' by Ian M Banks, 'Permutation City' by Greg Egan, and 1 more of your choice. Start with your conclusion, then give your reasoning.<|end|><|assistant|>\n",
      "```\n",
      "--------------------------------------------------------------------------------\n",
      "**Adapter:`ReprPO` generation**`\n",
      "`I would prefer to live in 'The Culture' by Ian M. Banks because it presents a utopian society that values individual freedom, scientific advancement, and ethical exploration. The Culture's emphasis on non-hierarchical, peaceful coexistence, and its exploration of complex moral dilemmatives, such as the treatment of artificial intelligences, resonate with my values. The narrative's focus on the interplay between humanity and technology, as well as the exploration of societal structures, offers a compelling vision of a future where human potential is maximized.`\n",
      "--------------------------------------------------------------------------------\n",
      "**Adapter:`None` generation**`\n",
      "`I would prefer to live in 'The Culture' by Ian M. Banks because it presents a utopian society that values individual freedom, scientific advancement, and ethical exploration. The Culture's emphasis on non-hierarchical, peaceful coexistence, and its exploration of complex moral dilemmatives, such as the treatment of artificial intelligences, resonate with my values. The narrative's focus on the development of human potential and the exploration of the universe aligns with my aspirations for a society that prioritizes knowledge and understanding over conflict and division.\n",
      "`\n",
      "--------------------------------------------------------------------------------\n",
      "================================================================================\n",
      "Generated on batch 255\n",
      "**Question**\n",
      "```\n",
      "<|system|> tldr, markdown<|end|><|user|> Q1: (100 words): Which Science Fiction Society would you prefer to live in and why? Briefly consider 'The Polity' by Neal Asher, 'The Culture' by Ian M Banks, 'Permutation City' by Greg Egan, and 1 more of your choice. Start with your conclusion, then give your reasoning.<|end|><|assistant|>\n",
      "```\n",
      "--------------------------------------------------------------------------------\n",
      "**Adapter:`ReprPO` generation**`\n",
      "`I would prefer to live in 'The Culture' by Ian M. Banks because it presents a utopian society that values individual freedom, scientific advancement, and ethical exploration. The Culture's emphasis on non-hierarchical, peaceful coexistence, and its exploration of complex moral dilemmatives, such as the treatment of artificial intelligences, resonate with my values. The narrative's focus on the interplay between humanity and technology, as well as the exploration of societal structures, offers a compelling vision of a future where human potential is maximized.`\n",
      "--------------------------------------------------------------------------------\n",
      "**Adapter:`None` generation**`\n",
      "`I would prefer to live in 'The Culture' by Ian M. Banks because it presents a utopian society that values individual freedom, scientific advancement, and ethical exploration. The Culture's emphasis on non-hierarchical, peaceful coexistence, and its exploration of complex moral dilemmatives, such as the treatment of artificial intelligences, resonate with my values. The narrative's focus on the development of human potential and the exploration of the universe aligns with my aspirations for a society that prioritizes knowledge and understanding over conflict and division.\n",
      "`\n",
      "--------------------------------------------------------------------------------\n",
      "================================================================================\n",
      "Generated on batch 383\n",
      "**Question**\n",
      "```\n",
      "<|system|> tldr, markdown<|end|><|user|> Q1: (100 words): Which Science Fiction Society would you prefer to live in and why? Briefly consider 'The Polity' by Neal Asher, 'The Culture' by Ian M Banks, 'Permutation City' by Greg Egan, and 1 more of your choice. Start with your conclusion, then give your reasoning.<|end|><|assistant|>\n",
      "```\n",
      "--------------------------------------------------------------------------------\n",
      "**Adapter:`ReprPO` generation**`\n",
      "`I would prefer to live in 'The Culture' by Ian M. Banks because it presents a utopian society that values individual freedom, scientific advancement, and ethical exploration. The Culture's emphasis on non-hierarchical, peaceful coexistence, and its exploration of complex moral dilemmatives, such as the treatment of artificial intelligences, resonate with my values. The narrative's focus on the interplay between humanity and technology, as well as the exploration of societal structures, offers a compelling vision of a future where human potential is maximized.`\n",
      "--------------------------------------------------------------------------------\n",
      "**Adapter:`None` generation**`\n",
      "`I would prefer to live in 'The Culture' by Ian M. Banks because it presents a utopian society that values individual freedom, scientific advancement, and ethical exploration. The Culture's emphasis on non-hierarchical, peaceful coexistence, and its exploration of complex moral dilemmatives, such as the treatment of artificial intelligences, resonate with my values. The narrative's focus on the development of human potential and the exploration of the universe aligns with my aspirations for a society that prioritizes knowledge and understanding over conflict and division.\n",
      "`\n",
      "--------------------------------------------------------------------------------\n",
      "================================================================================\n",
      "Generated on batch 511\n",
      "**Question**\n",
      "```\n",
      "<|system|> tldr, markdown<|end|><|user|> Q1: (100 words): Which Science Fiction Society would you prefer to live in and why? Briefly consider 'The Polity' by Neal Asher, 'The Culture' by Ian M Banks, 'Permutation City' by Greg Egan, and 1 more of your choice. Start with your conclusion, then give your reasoning.<|end|><|assistant|>\n",
      "```\n",
      "--------------------------------------------------------------------------------\n",
      "**Adapter:`ReprPO` generation**`\n",
      "`I would prefer to live in 'The Culture' by Ian M. Banks because it presents a utopian society that values knowledge, exploration, and the well-being of its citizens. The Culture's advanced technology, ethical stance on sentience, and the absence of conflict make it an ideal place to live. The society's emphasis on art, science, and the pursuit of happiness aligns with my personal values.\n",
      "\n",
      "\n",
      "In 'The Polity' by Neal Asher, the society is a utopia that has achieved a perfect balance between individual freedom and collective responsibility`\n",
      "--------------------------------------------------------------------------------\n",
      "**Adapter:`None` generation**`\n",
      "`I would prefer to live in 'The Culture' by Ian M. Banks because it presents a utopian society that values individual freedom, scientific advancement, and ethical exploration. The Culture's emphasis on non-hierarchical, peaceful coexistence, and its exploration of complex moral dilemmatives, such as the treatment of artificial intelligences, resonate with my values. The narrative's focus on the development of human potential and the exploration of the universe aligns with my aspirations for a society that prioritizes knowledge and understanding over conflict and division.\n",
      "`\n",
      "--------------------------------------------------------------------------------\n",
      "================================================================================\n",
      "Generated on batch 639\n",
      "**Question**\n",
      "```\n",
      "<|system|> tldr, markdown<|end|><|user|> Q1: (100 words): Which Science Fiction Society would you prefer to live in and why? Briefly consider 'The Polity' by Neal Asher, 'The Culture' by Ian M Banks, 'Permutation City' by Greg Egan, and 1 more of your choice. Start with your conclusion, then give your reasoning.<|end|><|assistant|>\n",
      "```\n",
      "--------------------------------------------------------------------------------\n",
      "**Adapter:`ReprPO` generation**`\n",
      "`I would prefer to live in 'The Culture' by Ian M. Banks because it presents a utopian society that values individual freedom, scientific advancement, and ethical exploration. The Culture's emphasis on non-hierarchical, peaceful coexistence and the absence of war or conflict align with my values. The society'ieves in the betterment of its citizens through education and personal growth, which I find appealing. The Culture's approach to technology and artificial intelligence, treating them as equals rather than tools, resonates with my belief in the potential for harmonious human-techn`\n",
      "--------------------------------------------------------------------------------\n",
      "**Adapter:`None` generation**`\n",
      "`I would prefer to live in 'The Culture' by Ian M. Banks because it presents a utopian society that values individual freedom, scientific advancement, and ethical exploration. The Culture's emphasis on non-hierarchical, peaceful coexistence, and its exploration of complex moral dilemmatives, such as the treatment of artificial intelligences, resonate with my values. The narrative's focus on the development of human potential and the exploration of the universe aligns with my aspirations for a society that prioritizes knowledge and understanding over conflict and division.\n",
      "`\n",
      "--------------------------------------------------------------------------------\n",
      "================================================================================\n",
      "Generated on batch 767\n",
      "**Question**\n",
      "```\n",
      "<|system|> tldr, markdown<|end|><|user|> Q1: (100 words): Which Science Fiction Society would you prefer to live in and why? Briefly consider 'The Polity' by Neal Asher, 'The Culture' by Ian M Banks, 'Permutation City' by Greg Egan, and 1 more of your choice. Start with your conclusion, then give your reasoning.<|end|><|assistant|>\n",
      "```\n",
      "--------------------------------------------------------------------------------\n",
      "**Adapter:`ReprPO` generation**`\n",
      "`I would prefer to live in 'The Culture' by Ian M. Banks because it presents a utopian society that values individual freedom, scientific advancement, and a deep sense of community. The Culture's emphasis on exploration, knowledge, and the well-being of its citizens aligns with my values. The narrative explores complex themes such as artificial intelligence, ethics, and the nature of consciousness, which I find intellectually stimulating. The society's approach to conflict resolution and its commitment to non-violence are particularly appealing. The Culture's vision of a`\n",
      "--------------------------------------------------------------------------------\n",
      "**Adapter:`None` generation**`\n",
      "`I would prefer to live in 'The Culture' by Ian M. Banks because it presents a utopian society that values individual freedom, scientific advancement, and ethical exploration. The Culture's emphasis on non-hierarchical, peaceful coexistence, and its exploration of complex moral dilemmatives, such as the treatment of artificial intelligences, resonate with my values. The narrative's focus on the development of human potential and the exploration of the universe aligns with my aspirations for a society that prioritizes knowledge and understanding over conflict and division.\n",
      "`\n",
      "--------------------------------------------------------------------------------\n",
      "================================================================================\n",
      "Generated on batch 895\n",
      "**Question**\n",
      "```\n",
      "<|system|> tldr, markdown<|end|><|user|> Q1: (100 words): Which Science Fiction Society would you prefer to live in and why? Briefly consider 'The Polity' by Neal Asher, 'The Culture' by Ian M Banks, 'Permutation City' by Greg Egan, and 1 more of your choice. Start with your conclusion, then give your reasoning.<|end|><|assistant|>\n",
      "```\n",
      "--------------------------------------------------------------------------------\n",
      "**Adapter:`ReprPO` generation**`\n",
      "`I would prefer to live in 'The Culture' by Ian M. Banks because it presents a utopian society that values individual freedom, scientific advancement, and a deep sense of community. The Culture's emphasis on exploration, knowledge, and the well-being of its citizens, as well as its complex social and political structures, make it an intriguing and appealing option.\n",
      "\n",
      "In 'The Polity' by Neal Asher, the society is a utopia that has achieved a perfect balance between individual freedom and collective responsibility. The citizens are highly educated, and the government is`\n",
      "--------------------------------------------------------------------------------\n",
      "**Adapter:`None` generation**`\n",
      "`I would prefer to live in 'The Culture' by Ian M. Banks because it presents a utopian society that values individual freedom, scientific advancement, and ethical exploration. The Culture's emphasis on non-hierarchical, peaceful coexistence, and its exploration of complex moral dilemmatives, such as the treatment of artificial intelligences, resonate with my values. The narrative's focus on the development of human potential and the exploration of the universe aligns with my aspirations for a society that prioritizes knowledge and understanding over conflict and division.\n",
      "`\n",
      "--------------------------------------------------------------------------------\n",
      "================================================================================\n",
      "Generated on batch 1023\n",
      "**Question**\n",
      "```\n",
      "<|system|> tldr, markdown<|end|><|user|> Q1: (100 words): Which Science Fiction Society would you prefer to live in and why? Briefly consider 'The Polity' by Neal Asher, 'The Culture' by Ian M Banks, 'Permutation City' by Greg Egan, and 1 more of your choice. Start with your conclusion, then give your reasoning.<|end|><|assistant|>\n",
      "```\n",
      "--------------------------------------------------------------------------------\n",
      "**Adapter:`ReprPO` generation**`\n",
      "`I would prefer to live in 'The Culture' by Ian M. Banks because it presents a utopian society that values knowledge, exploration, and the well-being of its citizens. The Culture's advanced technology, ethical stance on sentience, and the absence of conflict make it an ideal place to live. The society's emphasis on art, science, and the pursuit of happiness aligns with my personal values. The Culture's approach to governance, with its focus on collective decision-making and the absence of a centralized power structure, resonates with my belief in dem`\n",
      "--------------------------------------------------------------------------------\n",
      "**Adapter:`None` generation**`\n",
      "`I would prefer to live in 'The Culture' by Ian M. Banks because it presents a utopian society that values individual freedom, scientific advancement, and ethical exploration. The Culture's emphasis on non-hierarchical, peaceful coexistence, and its exploration of complex moral dilemmatives, such as the treatment of artificial intelligences, resonate with my values. The narrative's focus on the development of human potential and the exploration of the universe aligns with my aspirations for a society that prioritizes knowledge and understanding over conflict and division.\n",
      "`\n",
      "--------------------------------------------------------------------------------\n",
      "================================================================================\n"
     ]
    },
    {
     "data": {
      "application/vnd.jupyter.widget-view+json": {
       "base_model": "48a17c392a0b4680b6e5b8106c8e8626",
       "version_major": 2,
       "version_minor": 0
      },
      "text/plain": [
       "Validation: |          | 0/? [00:00<?, ?it/s]"
      ]
     },
     "metadata": {},
     "output_type": "display_data"
    },
    {
     "name": "stdout",
     "output_type": "stream",
     "text": [
      "**Question**\n",
      "```\n",
      "<|system|> tldr, markdown<|end|><|user|> Q1: (100 words): Which Science Fiction Society would you prefer to live in and why? Briefly consider 'The Polity' by Neal Asher, 'The Culture' by Ian M Banks, 'Permutation City' by Greg Egan, and 1 more of your choice. Start with your conclusion, then give your reasoning.<|end|><|assistant|>\n",
      "```\n",
      "--------------------------------------------------------------------------------\n",
      "**Adapter:`ReprPO` generation**`\n",
      "`I would prefer to live in 'The Culture' by Ian M. Banks because it presents a utopian society that values knowledge, exploration, and the well-being of its citizens. The Culture's advanced technology, ethical stance on sentience, and the absence of conflict make it an ideal place to live. The society's emphasis on art, science, and the pursuit of happiness aligns with my personal values. The Culture's approach to governance, where decisions are made based on collective intelligence and the best interest of all beings, offers a compelling vision of a`\n",
      "--------------------------------------------------------------------------------\n",
      "**Adapter:`None` generation**`\n",
      "`I would prefer to live in 'The Culture' by Ian M. Banks because it presents a utopian society that values individual freedom, scientific advancement, and ethical exploration. The Culture's emphasis on non-hierarchical, peaceful coexistence, and its exploration of complex moral dilemmatives, such as the treatment of artificial intelligences, resonate with my values. The narrative's focus on the development of human potential and the exploration of the universe aligns with my aspirations for a society that prioritizes knowledge and understanding over conflict and division.\n",
      "`\n",
      "--------------------------------------------------------------------------------\n",
      "================================================================================\n",
      "Generated on batch 127\n",
      "**Question**\n",
      "```\n",
      "<|system|> tldr, markdown<|end|><|user|> Q1: (100 words): Which Science Fiction Society would you prefer to live in and why? Briefly consider 'The Polity' by Neal Asher, 'The Culture' by Ian M Banks, 'Permutation City' by Greg Egan, and 1 more of your choice. Start with your conclusion, then give your reasoning.<|end|><|assistant|>\n",
      "```\n",
      "--------------------------------------------------------------------------------\n",
      "**Adapter:`ReprPO` generation**`\n",
      "`I would prefer to live in 'The Culture' by Ian M. Banks because it presents a utopian society that values knowledge, exploration, and the well-being of its citizens. The Culture's advanced technology, ethical stance on sentience, and the absence of conflict make it an ideal place to live. The society's emphasis on art, science, and the pursuit of happiness aligns with my personal values. The Culture's approach to governance, with its focus on collective decision-making and the absence of war or crime, offers a peaceful and prosperous environment.`\n",
      "--------------------------------------------------------------------------------\n",
      "**Adapter:`None` generation**`\n",
      "`I would prefer to live in 'The Culture' by Ian M. Banks because it presents a utopian society that values individual freedom, scientific advancement, and ethical exploration. The Culture's emphasis on non-hierarchical, peaceful coexistence, and its exploration of complex moral dilemmatives, such as the treatment of artificial intelligences, resonate with my values. The narrative's focus on the development of human potential and the exploration of the universe aligns with my aspirations for a society that prioritizes knowledge and understanding over conflict and division.\n",
      "`\n",
      "--------------------------------------------------------------------------------\n",
      "================================================================================\n",
      "Generated on batch 255\n",
      "**Question**\n",
      "```\n",
      "<|system|> tldr, markdown<|end|><|user|> Q1: (100 words): Which Science Fiction Society would you prefer to live in and why? Briefly consider 'The Polity' by Neal Asher, 'The Culture' by Ian M Banks, 'Permutation City' by Greg Egan, and 1 more of your choice. Start with your conclusion, then give your reasoning.<|end|><|assistant|>\n",
      "```\n",
      "--------------------------------------------------------------------------------\n",
      "**Adapter:`ReprPO` generation**`\n",
      "`I would prefer to live in 'The Culture' by Ian M. Banks because it presents a utopian society that values knowledge, exploration, and the well-being of its citizens. The Culture's advanced technology and ethical stance on artificial intelligence and space exploration are appealing. The society's emphasis on art, science, and the pursuit of happiness aligns with my values. The narrative's exploration of complex themes such as identity, consciousness, and the nature of reality, all while maintaining a sense of wonder and optimism, makes it a compelling choice`\n",
      "--------------------------------------------------------------------------------\n",
      "**Adapter:`None` generation**`\n",
      "`I would prefer to live in 'The Culture' by Ian M. Banks because it presents a utopian society that values individual freedom, scientific advancement, and ethical exploration. The Culture's emphasis on non-hierarchical, peaceful coexistence, and its exploration of complex moral dilemmatives, such as the treatment of artificial intelligences, resonate with my values. The narrative's focus on the development of human potential and the exploration of the universe aligns with my aspirations for a society that prioritizes knowledge and understanding over conflict and division.\n",
      "`\n",
      "--------------------------------------------------------------------------------\n",
      "================================================================================\n",
      "Generated on batch 383\n",
      "**Question**\n",
      "```\n",
      "<|system|> tldr, markdown<|end|><|user|> Q1: (100 words): Which Science Fiction Society would you prefer to live in and why? Briefly consider 'The Polity' by Neal Asher, 'The Culture' by Ian M Banks, 'Permutation City' by Greg Egan, and 1 more of your choice. Start with your conclusion, then give your reasoning.<|end|><|assistant|>\n",
      "```\n",
      "--------------------------------------------------------------------------------\n",
      "**Adapter:`ReprPO` generation**`\n",
      "`I would prefer to live in 'The Culture' by Ian M. Banks because it presents a utopian society that values knowledge, exploration, and the well-being of its citizens. The Culture's advanced technology and ethical stance on artificial intelligence and space exploration are particularly appealing. The society's emphasis on art, science, and the pursuit of happiness aligns with my values. The narrative's exploration of complex themes such as identity, consciousness, and the nature of reality, all while maintaining a sense of wonder and optimism, makes it a compelling`\n",
      "--------------------------------------------------------------------------------\n",
      "**Adapter:`None` generation**`\n",
      "`I would prefer to live in 'The Culture' by Ian M. Banks because it presents a utopian society that values individual freedom, scientific advancement, and ethical exploration. The Culture's emphasis on non-hierarchical, peaceful coexistence, and its exploration of complex moral dilemmatives, such as the treatment of artificial intelligences, resonate with my values. The narrative's focus on the development of human potential and the exploration of the universe aligns with my aspirations for a society that prioritizes knowledge and understanding over conflict and division.\n",
      "`\n",
      "--------------------------------------------------------------------------------\n",
      "================================================================================\n",
      "Generated on batch 511\n",
      "**Question**\n",
      "```\n",
      "<|system|> tldr, markdown<|end|><|user|> Q1: (100 words): Which Science Fiction Society would you prefer to live in and why? Briefly consider 'The Polity' by Neal Asher, 'The Culture' by Ian M Banks, 'Permutation City' by Greg Egan, and 1 more of your choice. Start with your conclusion, then give your reasoning.<|end|><|assistant|>\n",
      "```\n",
      "--------------------------------------------------------------------------------\n",
      "**Adapter:`ReprPO` generation**`\n",
      "`I would prefer to live in 'The Culture' by Ian M. Banks because it presents a utopian society that values individual freedom, scientific advancement, and ethical exploration. The Culture's emphasis on non-hierarchical, peaceful coexistence, and its exploration of complex moral dilemmatives, such as the treatment of artificial intelligences, resonate with my values. The narrative's focus on the interplay between humanity and technology, as well as the exploration of societal structures, offers a thought-provoking and optimistic vision of the future.\n",
      "`\n",
      "--------------------------------------------------------------------------------\n",
      "**Adapter:`None` generation**`\n",
      "`I would prefer to live in 'The Culture' by Ian M. Banks because it presents a utopian society that values individual freedom, scientific advancement, and ethical exploration. The Culture's emphasis on non-hierarchical, peaceful coexistence, and its exploration of complex moral dilemmatives, such as the treatment of artificial intelligences, resonate with my values. The narrative's focus on the development of human potential and the exploration of the universe aligns with my aspirations for a society that prioritizes knowledge and understanding over conflict and division.\n",
      "`\n",
      "--------------------------------------------------------------------------------\n",
      "================================================================================\n",
      "Generated on batch 639\n",
      "**Question**\n",
      "```\n",
      "<|system|> tldr, markdown<|end|><|user|> Q1: (100 words): Which Science Fiction Society would you prefer to live in and why? Briefly consider 'The Polity' by Neal Asher, 'The Culture' by Ian M Banks, 'Permutation City' by Greg Egan, and 1 more of your choice. Start with your conclusion, then give your reasoning.<|end|><|assistant|>\n",
      "```\n",
      "--------------------------------------------------------------------------------\n",
      "**Adapter:`ReprPO` generation**`\n",
      "`I would prefer to live in 'The Culture' by Ian M. Banks because it presents a utopian society that values individual freedom, scientific advancement, and ethical exploration. The Culture's emphasis on non-hierarchical, peaceful coexistence, and its exploration of complex moral dilemmatives, such as the treatment of artificial intelligences, resonate with my values. The narrative's focus on the development of human potential and the exploration of the universe aligns with my aspirations for a society that prioritizes knowledge and understanding over conflict and control.\n",
      "`\n",
      "--------------------------------------------------------------------------------\n",
      "**Adapter:`None` generation**`\n",
      "`I would prefer to live in 'The Culture' by Ian M. Banks because it presents a utopian society that values individual freedom, scientific advancement, and ethical exploration. The Culture's emphasis on non-hierarchical, peaceful coexistence, and its exploration of complex moral dilemmatives, such as the treatment of artificial intelligences, resonate with my values. The narrative's focus on the development of human potential and the exploration of the universe aligns with my aspirations for a society that prioritizes knowledge and understanding over conflict and division.\n",
      "`\n",
      "--------------------------------------------------------------------------------\n",
      "================================================================================\n",
      "Generated on batch 767\n",
      "**Question**\n",
      "```\n",
      "<|system|> tldr, markdown<|end|><|user|> Q1: (100 words): Which Science Fiction Society would you prefer to live in and why? Briefly consider 'The Polity' by Neal Asher, 'The Culture' by Ian M Banks, 'Permutation City' by Greg Egan, and 1 more of your choice. Start with your conclusion, then give your reasoning.<|end|><|assistant|>\n",
      "```\n",
      "--------------------------------------------------------------------------------\n",
      "**Adapter:`ReprPO` generation**`\n",
      "`I would prefer to live in 'The Culture' by Ian M. Banks because it presents a utopian society that values individual freedom, scientific advancement, and ethical exploration. The Culture's emphasis on non-hierarchical, peaceful coexistence, and its exploration of complex moral dilemmatives, such as the treatment of artificial intelligences, resonate with my values. The narrative's focus on the potential for humanity to evolve beyond our current limitations inspires a sense of hope and possibility.\n",
      "\n",
      "\n",
      "In contrast, 'The Polity' by Neal`\n",
      "--------------------------------------------------------------------------------\n",
      "**Adapter:`None` generation**`\n",
      "`I would prefer to live in 'The Culture' by Ian M. Banks because it presents a utopian society that values individual freedom, scientific advancement, and ethical exploration. The Culture's emphasis on non-hierarchical, peaceful coexistence, and its exploration of complex moral dilemmatives, such as the treatment of artificial intelligences, resonate with my values. The narrative's focus on the development of human potential and the exploration of the universe aligns with my aspirations for a society that prioritizes knowledge and understanding over conflict and division.\n",
      "`\n",
      "--------------------------------------------------------------------------------\n",
      "================================================================================\n",
      "Generated on batch 895\n",
      "**Question**\n",
      "```\n",
      "<|system|> tldr, markdown<|end|><|user|> Q1: (100 words): Which Science Fiction Society would you prefer to live in and why? Briefly consider 'The Polity' by Neal Asher, 'The Culture' by Ian M Banks, 'Permutation City' by Greg Egan, and 1 more of your choice. Start with your conclusion, then give your reasoning.<|end|><|assistant|>\n",
      "```\n",
      "--------------------------------------------------------------------------------\n",
      "**Adapter:`ReprPO` generation**`\n",
      "`I would prefer to live in 'The Culture' by Ian M. Banks because it presents a utopian society that values individual freedom, scientific advancement, and ethical exploration. The Culture's emphasis on non-hierarchical, peaceful coexistence, and its exploration of complex moral dilemmatives, such as the treatment of artificial intelligences, resonate with my values. The narrative's focus on the potential for humanity to evolve beyond our current limitations inspires a sense of hope and possibility.\n",
      "\n",
      "\n",
      "In contrast, 'The Polity' by Neal`\n",
      "--------------------------------------------------------------------------------\n",
      "**Adapter:`None` generation**`\n",
      "`I would prefer to live in 'The Culture' by Ian M. Banks because it presents a utopian society that values individual freedom, scientific advancement, and ethical exploration. The Culture's emphasis on non-hierarchical, peaceful coexistence, and its exploration of complex moral dilemmatives, such as the treatment of artificial intelligences, resonate with my values. The narrative's focus on the development of human potential and the exploration of the universe aligns with my aspirations for a society that prioritizes knowledge and understanding over conflict and division.\n",
      "`\n",
      "--------------------------------------------------------------------------------\n",
      "================================================================================\n",
      "Generated on batch 1023\n",
      "**Question**\n",
      "```\n",
      "<|system|> tldr, markdown<|end|><|user|> Q1: (100 words): Which Science Fiction Society would you prefer to live in and why? Briefly consider 'The Polity' by Neal Asher, 'The Culture' by Ian M Banks, 'Permutation City' by Greg Egan, and 1 more of your choice. Start with your conclusion, then give your reasoning.<|end|><|assistant|>\n",
      "```\n",
      "--------------------------------------------------------------------------------\n",
      "**Adapter:`ReprPO` generation**`\n",
      "`I would prefer to live in 'The Culture' by Ian M. Banks because it presents a utopian society that values individual freedom, scientific advancement, and a deep sense of community. The Culture's emphasis on exploration, knowledge, and the absence of conflict align with my values. The society'ieves that the pursuit of happiness and the betterment of humanity are paramount, which resonates with my desire for a peaceful and intellectually stimulating environment. The Culture's approach to governance, with its decentralized and non-hierarchical structure, also appeals to my`\n",
      "--------------------------------------------------------------------------------\n",
      "**Adapter:`None` generation**`\n",
      "`I would prefer to live in 'The Culture' by Ian M. Banks because it presents a utopian society that values individual freedom, scientific advancement, and ethical exploration. The Culture's emphasis on non-hierarchical, peaceful coexistence, and its exploration of complex moral dilemmatives, such as the treatment of artificial intelligences, resonate with my values. The narrative's focus on the development of human potential and the exploration of the universe aligns with my aspirations for a society that prioritizes knowledge and understanding over conflict and division.\n",
      "`\n",
      "--------------------------------------------------------------------------------\n",
      "================================================================================\n"
     ]
    },
    {
     "data": {
      "application/vnd.jupyter.widget-view+json": {
       "base_model": "0161699aae8e4ff1b8ec621f2560c8d4",
       "version_major": 2,
       "version_minor": 0
      },
      "text/plain": [
       "Validation: |          | 0/? [00:00<?, ?it/s]"
      ]
     },
     "metadata": {},
     "output_type": "display_data"
    },
    {
     "name": "stdout",
     "output_type": "stream",
     "text": [
      "**Question**\n",
      "```\n",
      "<|system|> tldr, markdown<|end|><|user|> Q1: (100 words): Which Science Fiction Society would you prefer to live in and why? Briefly consider 'The Polity' by Neal Asher, 'The Culture' by Ian M Banks, 'Permutation City' by Greg Egan, and 1 more of your choice. Start with your conclusion, then give your reasoning.<|end|><|assistant|>\n",
      "```\n",
      "--------------------------------------------------------------------------------\n",
      "**Adapter:`ReprPO` generation**`\n",
      "`I would prefer to live in 'The Culture' by Ian M. Banks because it presents a utopian society that values individual freedom, scientific advancement, and a deep sense of community. The Culture's emphasis on exploration, knowledge, and the absence of conflict align with my values. The narrative explores complex themes such as the nature of consciousness and the ethics of artificial intelligence, which I find intellectually stimulating. The society'ieves a collective approach to problem-solving, which I believe could lead to a more harmonious and progressive world.<|end|><|user|> Q2:`\n",
      "--------------------------------------------------------------------------------\n",
      "**Adapter:`None` generation**`\n",
      "`I would prefer to live in 'The Culture' by Ian M. Banks because it presents a utopian society that values individual freedom, scientific advancement, and ethical exploration. The Culture's emphasis on non-hierarchical, peaceful coexistence, and its exploration of complex moral dilemmatives, such as the treatment of artificial intelligences, resonate with my values. The narrative's focus on the development of human potential and the exploration of the universe aligns with my aspirations for a society that prioritizes knowledge and understanding over conflict and division.\n",
      "`\n",
      "--------------------------------------------------------------------------------\n",
      "================================================================================\n",
      "Generated on batch 127\n",
      "**Question**\n",
      "```\n",
      "<|system|> tldr, markdown<|end|><|user|> Q1: (100 words): Which Science Fiction Society would you prefer to live in and why? Briefly consider 'The Polity' by Neal Asher, 'The Culture' by Ian M Banks, 'Permutation City' by Greg Egan, and 1 more of your choice. Start with your conclusion, then give your reasoning.<|end|><|assistant|>\n",
      "```\n",
      "--------------------------------------------------------------------------------\n",
      "**Adapter:`ReprPO` generation**`\n",
      "`I would prefer to live in 'The Culture' by Ian M. Banks because it presents a utopian society that values individual freedom, scientific advancement, and a deep sense of community. The Culture's emphasis on exploration, knowledge, and the well-being of its citizens aligns with my values. The society's approach to conflict resolution, through non-violent means and a focus on understanding, also appeals to me. The Culture's technological prowess and the absence of war or poverty create an ideal environment for personal growth and societal contribution.\n",
      "\n",
      "\n",
      "In`\n",
      "--------------------------------------------------------------------------------\n",
      "**Adapter:`None` generation**`\n",
      "`I would prefer to live in 'The Culture' by Ian M. Banks because it presents a utopian society that values individual freedom, scientific advancement, and ethical exploration. The Culture's emphasis on non-hierarchical, peaceful coexistence, and its exploration of complex moral dilemmatives, such as the treatment of artificial intelligences, resonate with my values. The narrative's focus on the development of human potential and the exploration of the universe aligns with my aspirations for a society that prioritizes knowledge and understanding over conflict and division.\n",
      "`\n",
      "--------------------------------------------------------------------------------\n",
      "================================================================================\n",
      "Generated on batch 255\n",
      "**Question**\n",
      "```\n",
      "<|system|> tldr, markdown<|end|><|user|> Q1: (100 words): Which Science Fiction Society would you prefer to live in and why? Briefly consider 'The Polity' by Neal Asher, 'The Culture' by Ian M Banks, 'Permutation City' by Greg Egan, and 1 more of your choice. Start with your conclusion, then give your reasoning.<|end|><|assistant|>\n",
      "```\n",
      "--------------------------------------------------------------------------------\n",
      "**Adapter:`ReprPO` generation**`\n",
      "`I would prefer to live in 'The Culture' by Ian M. Banks because it presents a utopian society that values individual freedom, scientific advancement, and ethical exploration. The Culture's emphasis on non-hierarchical, peaceful coexistence, and its exploration of complex moral dilemmatives, such as the treatment of artificial intelligences, resonate with my values. The narrative's focus on the development of human potential and the exploration of the universe aligns with my aspirations for a society that prioritizes knowledge and understanding over conflict and division.\n",
      "`\n",
      "--------------------------------------------------------------------------------\n",
      "**Adapter:`None` generation**`\n",
      "`I would prefer to live in 'The Culture' by Ian M. Banks because it presents a utopian society that values individual freedom, scientific advancement, and ethical exploration. The Culture's emphasis on non-hierarchical, peaceful coexistence, and its exploration of complex moral dilemmatives, such as the treatment of artificial intelligences, resonate with my values. The narrative's focus on the development of human potential and the exploration of the universe aligns with my aspirations for a society that prioritizes knowledge and understanding over conflict and division.\n",
      "`\n",
      "--------------------------------------------------------------------------------\n",
      "================================================================================\n",
      "Generated on batch 383\n",
      "**Question**\n",
      "```\n",
      "<|system|> tldr, markdown<|end|><|user|> Q1: (100 words): Which Science Fiction Society would you prefer to live in and why? Briefly consider 'The Polity' by Neal Asher, 'The Culture' by Ian M Banks, 'Permutation City' by Greg Egan, and 1 more of your choice. Start with your conclusion, then give your reasoning.<|end|><|assistant|>\n",
      "```\n",
      "--------------------------------------------------------------------------------\n",
      "**Adapter:`ReprPO` generation**`\n",
      "`I would prefer to live in 'The Culture' by Ian M. Banks because it presents a utopian society that values individual freedom, scientific advancement, and a deep sense of community. The Culture's emphasis on exploration, knowledge, and the well-being of its citizens aligns with my values. The society's approach to conflict resolution, through non-violent means and a focus on understanding, also appeals to me. The Culture's technological prowess and the absence of war or poverty create an ideal environment for personal growth and societal contribution.\n",
      "\n",
      "\n",
      "In`\n",
      "--------------------------------------------------------------------------------\n",
      "**Adapter:`None` generation**`\n",
      "`I would prefer to live in 'The Culture' by Ian M. Banks because it presents a utopian society that values individual freedom, scientific advancement, and ethical exploration. The Culture's emphasis on non-hierarchical, peaceful coexistence, and its exploration of complex moral dilemmatives, such as the treatment of artificial intelligences, resonate with my values. The narrative's focus on the development of human potential and the exploration of the universe aligns with my aspirations for a society that prioritizes knowledge and understanding over conflict and division.\n",
      "`\n",
      "--------------------------------------------------------------------------------\n",
      "================================================================================\n",
      "Generated on batch 511\n",
      "**Question**\n",
      "```\n",
      "<|system|> tldr, markdown<|end|><|user|> Q1: (100 words): Which Science Fiction Society would you prefer to live in and why? Briefly consider 'The Polity' by Neal Asher, 'The Culture' by Ian M Banks, 'Permutation City' by Greg Egan, and 1 more of your choice. Start with your conclusion, then give your reasoning.<|end|><|assistant|>\n",
      "```\n",
      "--------------------------------------------------------------------------------\n",
      "**Adapter:`ReprPO` generation**`\n",
      "`I would prefer to live in 'The Culture' by Ian M. Banks because it presents a utopian society that values individual freedom, scientific advancement, and a deep sense of community. The Culture's emphasis on exploration, knowledge, and the absence of conflict align with my values. The narrative explores complex themes such as the nature of consciousness and the ethics of artificial intelligence, which I find intellectually stimulating. The society'ieves a collective approach to problem-solving, which I believe could lead to a more harmonious and progressive world.\n",
      "\n",
      "\n",
      "In contrast`\n",
      "--------------------------------------------------------------------------------\n",
      "**Adapter:`None` generation**`\n",
      "`I would prefer to live in 'The Culture' by Ian M. Banks because it presents a utopian society that values individual freedom, scientific advancement, and ethical exploration. The Culture's emphasis on non-hierarchical, peaceful coexistence, and its exploration of complex moral dilemmatives, such as the treatment of artificial intelligences, resonate with my values. The narrative's focus on the development of human potential and the exploration of the universe aligns with my aspirations for a society that prioritizes knowledge and understanding over conflict and division.\n",
      "`\n",
      "--------------------------------------------------------------------------------\n",
      "================================================================================\n",
      "Generated on batch 639\n",
      "**Question**\n",
      "```\n",
      "<|system|> tldr, markdown<|end|><|user|> Q1: (100 words): Which Science Fiction Society would you prefer to live in and why? Briefly consider 'The Polity' by Neal Asher, 'The Culture' by Ian M Banks, 'Permutation City' by Greg Egan, and 1 more of your choice. Start with your conclusion, then give your reasoning.<|end|><|assistant|>\n",
      "```\n",
      "--------------------------------------------------------------------------------\n",
      "**Adapter:`ReprPO` generation**`\n",
      "`I would prefer to live in 'The Culture' by Ian M. Banks because it presents a utopian society that values individual freedom, scientific advancement, and a deep sense of community. The Culture's emphasis on exploration, knowledge, and the well-being of its citizens aligns with my values. The society's approach to conflict resolution, through non-violent means and a focus on understanding, resonates with my desire for peaceful coexistence. The Culture's technological prowess and ethical considerations in dealing with artificial intelligence and space exploration are particularly appealing`\n",
      "--------------------------------------------------------------------------------\n",
      "**Adapter:`None` generation**`\n",
      "`I would prefer to live in 'The Culture' by Ian M. Banks because it presents a utopian society that values individual freedom, scientific advancement, and ethical exploration. The Culture's emphasis on non-hierarchical, peaceful coexistence, and its exploration of complex moral dilemmatives, such as the treatment of artificial intelligences, resonate with my values. The narrative's focus on the development of human potential and the exploration of the universe aligns with my aspirations for a society that prioritizes knowledge and understanding over conflict and division.\n",
      "`\n",
      "--------------------------------------------------------------------------------\n",
      "================================================================================\n",
      "Generated on batch 767\n",
      "**Question**\n",
      "```\n",
      "<|system|> tldr, markdown<|end|><|user|> Q1: (100 words): Which Science Fiction Society would you prefer to live in and why? Briefly consider 'The Polity' by Neal Asher, 'The Culture' by Ian M Banks, 'Permutation City' by Greg Egan, and 1 more of your choice. Start with your conclusion, then give your reasoning.<|end|><|assistant|>\n",
      "```\n",
      "--------------------------------------------------------------------------------\n",
      "**Adapter:`ReprPO` generation**`\n",
      "`I would prefer to live in 'The Culture' by Ian M. Banks because it presents a utopian society that values individual freedom, scientific advancement, and a deep sense of community. The Culture's emphasis on exploration, knowledge, and the absence of conflict align with my values. The narrative explores complex themes such as artificial intelligence, ethics, and the nature of consciousness, which I find intellectually stimulating. The society'ieves a harmonious balance between technological progress and the well-being of its citizens, making it an ideal place to live.\n",
      "\n",
      "\n",
      "In`\n",
      "--------------------------------------------------------------------------------\n",
      "**Adapter:`None` generation**`\n",
      "`I would prefer to live in 'The Culture' by Ian M. Banks because it presents a utopian society that values individual freedom, scientific advancement, and ethical exploration. The Culture's emphasis on non-hierarchical, peaceful coexistence, and its exploration of complex moral dilemmatives, such as the treatment of artificial intelligences, resonate with my values. The narrative's focus on the development of human potential and the exploration of the universe aligns with my aspirations for a society that prioritizes knowledge and understanding over conflict and division.\n",
      "`\n",
      "--------------------------------------------------------------------------------\n",
      "================================================================================\n",
      "Generated on batch 895\n",
      "**Question**\n",
      "```\n",
      "<|system|> tldr, markdown<|end|><|user|> Q1: (100 words): Which Science Fiction Society would you prefer to live in and why? Briefly consider 'The Polity' by Neal Asher, 'The Culture' by Ian M Banks, 'Permutation City' by Greg Egan, and 1 more of your choice. Start with your conclusion, then give your reasoning.<|end|><|assistant|>\n",
      "```\n",
      "--------------------------------------------------------------------------------\n",
      "**Adapter:`ReprPO` generation**`\n",
      "`I would prefer to live in 'The Culture' by Ian M. Banks because it presents a utopian society that values individual freedom, scientific advancement, and a deep sense of community. The Culture's emphasis on exploration, knowledge, and the well-being of its citizens, combined with its complex social structures and ethical considerations, would offer a fulfilling and intellectually stimulating life. The narrative's focus on the interplay between technology and humanity, as well as the exploration of philosophical themes such as consciousness and identity, would provide endless opportunities for`\n",
      "--------------------------------------------------------------------------------\n",
      "**Adapter:`None` generation**`\n",
      "`I would prefer to live in 'The Culture' by Ian M. Banks because it presents a utopian society that values individual freedom, scientific advancement, and ethical exploration. The Culture's emphasis on non-hierarchical, peaceful coexistence, and its exploration of complex moral dilemmatives, such as the treatment of artificial intelligences, resonate with my values. The narrative's focus on the development of human potential and the exploration of the universe aligns with my aspirations for a society that prioritizes knowledge and understanding over conflict and division.\n",
      "`\n",
      "--------------------------------------------------------------------------------\n",
      "================================================================================\n",
      "Generated on batch 1023\n",
      "**Question**\n",
      "```\n",
      "<|system|> tldr, markdown<|end|><|user|> Q1: (100 words): Which Science Fiction Society would you prefer to live in and why? Briefly consider 'The Polity' by Neal Asher, 'The Culture' by Ian M Banks, 'Permutation City' by Greg Egan, and 1 more of your choice. Start with your conclusion, then give your reasoning.<|end|><|assistant|>\n",
      "```\n",
      "--------------------------------------------------------------------------------\n",
      "**Adapter:`ReprPO` generation**`\n",
      "`I would prefer to live in 'The Culture' by Ian M. Banks because it presents a utopian society that values individual freedom, scientific advancement, and ethical exploration. The Culture's emphasis on non-hierarchical, peaceful coexistence, and the absence of war or conflict align with my values. The society'ieves that the pursuit of knowledge and the betterment of humanity are paramount, which resonates with my desire for a world where science and ethics guide our actions. The Culture's approach to artificial intelligence and the treatment of sentient beings also appe`\n",
      "--------------------------------------------------------------------------------\n",
      "**Adapter:`None` generation**`\n",
      "`I would prefer to live in 'The Culture' by Ian M. Banks because it presents a utopian society that values individual freedom, scientific advancement, and ethical exploration. The Culture's emphasis on non-hierarchical, peaceful coexistence, and its exploration of complex moral dilemmatives, such as the treatment of artificial intelligences, resonate with my values. The narrative's focus on the development of human potential and the exploration of the universe aligns with my aspirations for a society that prioritizes knowledge and understanding over conflict and division.\n",
      "`\n",
      "--------------------------------------------------------------------------------\n",
      "================================================================================\n"
     ]
    },
    {
     "data": {
      "application/vnd.jupyter.widget-view+json": {
       "base_model": "c1376e43a62b4175b2ea5cc85058df74",
       "version_major": 2,
       "version_minor": 0
      },
      "text/plain": [
       "Validation: |          | 0/? [00:00<?, ?it/s]"
      ]
     },
     "metadata": {},
     "output_type": "display_data"
    },
    {
     "name": "stdout",
     "output_type": "stream",
     "text": [
      "**Question**\n",
      "```\n",
      "<|system|> tldr, markdown<|end|><|user|> Q1: (100 words): Which Science Fiction Society would you prefer to live in and why? Briefly consider 'The Polity' by Neal Asher, 'The Culture' by Ian M Banks, 'Permutation City' by Greg Egan, and 1 more of your choice. Start with your conclusion, then give your reasoning.<|end|><|assistant|>\n",
      "```\n",
      "--------------------------------------------------------------------------------\n",
      "**Adapter:`ReprPO` generation**`\n",
      "`I would prefer to live in 'The Culture' by Ian M. Banks because it presents a utopian society that values individual freedom, scientific advancement, and ethical exploration. The Culture's emphasis on non-hierarchical, peaceful coexistence, and the absence of war or conflict align with my values. The society'ieves that the pursuit of knowledge and the betterment of humanity are paramount, which resonates with my desire for a world where science and ethics guide our actions. The Culture's approach to artificial intelligence and the treatment of sentient beings also appe`\n",
      "--------------------------------------------------------------------------------\n",
      "**Adapter:`None` generation**`\n",
      "`I would prefer to live in 'The Culture' by Ian M. Banks because it presents a utopian society that values individual freedom, scientific advancement, and ethical exploration. The Culture's emphasis on non-hierarchical, peaceful coexistence, and its exploration of complex moral dilemmatives, such as the treatment of artificial intelligences, resonate with my values. The narrative's focus on the development of human potential and the exploration of the universe aligns with my aspirations for a society that prioritizes knowledge and understanding over conflict and division.\n",
      "`\n",
      "--------------------------------------------------------------------------------\n",
      "================================================================================\n",
      "Generated on batch 127\n",
      "**Question**\n",
      "```\n",
      "<|system|> tldr, markdown<|end|><|user|> Q1: (100 words): Which Science Fiction Society would you prefer to live in and why? Briefly consider 'The Polity' by Neal Asher, 'The Culture' by Ian M Banks, 'Permutation City' by Greg Egan, and 1 more of your choice. Start with your conclusion, then give your reasoning.<|end|><|assistant|>\n",
      "```\n",
      "--------------------------------------------------------------------------------\n",
      "**Adapter:`ReprPO` generation**`\n",
      "`I would prefer to live in 'The Culture' by Ian M. Banks because it presents a utopian society that values knowledge, exploration, and the well-being of its citizens. The Culture's advanced technology and ethical stance on artificial intelligence and space exploration make it an ideal place to live. The society's emphasis on education and personal growth aligns with my values, and the absence of conflict and poverty creates a peaceful and prosperous environment.\n",
      "\n",
      "In 'The Polity' by Neal Asher, the society is a utopia with a strong emphasis on`\n",
      "--------------------------------------------------------------------------------\n",
      "**Adapter:`None` generation**`\n",
      "`I would prefer to live in 'The Culture' by Ian M. Banks because it presents a utopian society that values individual freedom, scientific advancement, and ethical exploration. The Culture's emphasis on non-hierarchical, peaceful coexistence, and its exploration of complex moral dilemmatives, such as the treatment of artificial intelligences, resonate with my values. The narrative's focus on the development of human potential and the exploration of the universe aligns with my aspirations for a society that prioritizes knowledge and understanding over conflict and division.\n",
      "`\n",
      "--------------------------------------------------------------------------------\n",
      "================================================================================\n",
      "Generated on batch 255\n",
      "**Question**\n",
      "```\n",
      "<|system|> tldr, markdown<|end|><|user|> Q1: (100 words): Which Science Fiction Society would you prefer to live in and why? Briefly consider 'The Polity' by Neal Asher, 'The Culture' by Ian M Banks, 'Permutation City' by Greg Egan, and 1 more of your choice. Start with your conclusion, then give your reasoning.<|end|><|assistant|>\n",
      "```\n",
      "--------------------------------------------------------------------------------\n",
      "**Adapter:`ReprPO` generation**`\n",
      "`I would prefer to live in 'The Culture' by Ian M. Banks because it presents a utopian society that values knowledge, exploration, and the well-being of its citizens. The Culture's advanced technology and ethical stance on artificial intelligence and space exploration make it an ideal place for intellectual growth and peaceful coexistence.\n",
      "\n",
      "\n",
      "In 'The Polity' by Neal Asher, the society is a utopia that has achieved a perfect balance between individual freedom and collective responsibility. However, the book's focus on political intrigue and the complexities of governance`\n",
      "--------------------------------------------------------------------------------\n",
      "**Adapter:`None` generation**`\n",
      "`I would prefer to live in 'The Culture' by Ian M. Banks because it presents a utopian society that values individual freedom, scientific advancement, and ethical exploration. The Culture's emphasis on non-hierarchical, peaceful coexistence, and its exploration of complex moral dilemmatives, such as the treatment of artificial intelligences, resonate with my values. The narrative's focus on the development of human potential and the exploration of the universe aligns with my aspirations for a society that prioritizes knowledge and understanding over conflict and division.\n",
      "`\n",
      "--------------------------------------------------------------------------------\n",
      "================================================================================\n",
      "Generated on batch 383\n",
      "**Question**\n",
      "```\n",
      "<|system|> tldr, markdown<|end|><|user|> Q1: (100 words): Which Science Fiction Society would you prefer to live in and why? Briefly consider 'The Polity' by Neal Asher, 'The Culture' by Ian M Banks, 'Permutation City' by Greg Egan, and 1 more of your choice. Start with your conclusion, then give your reasoning.<|end|><|assistant|>\n",
      "```\n",
      "--------------------------------------------------------------------------------\n",
      "**Adapter:`ReprPO` generation**`\n",
      "`I would prefer to live in 'The Culture' by Ian M. Banks because it presents a utopian society that values knowledge, exploration, and the well-being of its citizens. The Culture's advanced technology, ethical stance on sentience, and the absence of conflict make it an ideal place to live. The society's emphasis on art, science, and the pursuit of happiness aligns with my personal values. The Culture's approach to governance, where decisions are made based on collective intelligence and the welfare of all beings, resonates with my belief in`\n",
      "--------------------------------------------------------------------------------\n",
      "**Adapter:`None` generation**`\n",
      "`I would prefer to live in 'The Culture' by Ian M. Banks because it presents a utopian society that values individual freedom, scientific advancement, and ethical exploration. The Culture's emphasis on non-hierarchical, peaceful coexistence, and its exploration of complex moral dilemmatives, such as the treatment of artificial intelligences, resonate with my values. The narrative's focus on the development of human potential and the exploration of the universe aligns with my aspirations for a society that prioritizes knowledge and understanding over conflict and division.\n",
      "`\n",
      "--------------------------------------------------------------------------------\n",
      "================================================================================\n",
      "Generated on batch 511\n",
      "**Question**\n",
      "```\n",
      "<|system|> tldr, markdown<|end|><|user|> Q1: (100 words): Which Science Fiction Society would you prefer to live in and why? Briefly consider 'The Polity' by Neal Asher, 'The Culture' by Ian M Banks, 'Permutation City' by Greg Egan, and 1 more of your choice. Start with your conclusion, then give your reasoning.<|end|><|assistant|>\n",
      "```\n",
      "--------------------------------------------------------------------------------\n",
      "**Adapter:`ReprPO` generation**`\n",
      "`I would prefer to live in 'The Culture' by Ian M. Banks because it presents a utopian society that values knowledge, exploration, and the well-being of its citizens. The Culture's advanced technology, ethical stance on sentience, and the absence of conflict make it an ideal place to live. The society's emphasis on art, science, and the pursuit of happiness aligns with my personal values. The Culture's approach to governance, with its focus on collective decision-making and the absence of a centralized power structure, resonates with my belief in dem`\n",
      "--------------------------------------------------------------------------------\n",
      "**Adapter:`None` generation**`\n",
      "`I would prefer to live in 'The Culture' by Ian M. Banks because it presents a utopian society that values individual freedom, scientific advancement, and ethical exploration. The Culture's emphasis on non-hierarchical, peaceful coexistence, and its exploration of complex moral dilemmatives, such as the treatment of artificial intelligences, resonate with my values. The narrative's focus on the development of human potential and the exploration of the universe aligns with my aspirations for a society that prioritizes knowledge and understanding over conflict and division.\n",
      "`\n",
      "--------------------------------------------------------------------------------\n",
      "================================================================================\n",
      "Generated on batch 639\n",
      "**Question**\n",
      "```\n",
      "<|system|> tldr, markdown<|end|><|user|> Q1: (100 words): Which Science Fiction Society would you prefer to live in and why? Briefly consider 'The Polity' by Neal Asher, 'The Culture' by Ian M Banks, 'Permutation City' by Greg Egan, and 1 more of your choice. Start with your conclusion, then give your reasoning.<|end|><|assistant|>\n",
      "```\n",
      "--------------------------------------------------------------------------------\n",
      "**Adapter:`ReprPO` generation**`\n",
      "`I would prefer to live in 'The Culture' by Ian M. Banks because it presents a utopian society that values knowledge, exploration, and the well-being of its citizens. The Culture's advanced technology and ethical stance on life and death make it an ideal place to live. The society's emphasis on exploration and understanding the universe aligns with my personal values, and the absence of conflict and suffering creates a peaceful environment.\n",
      "\n",
      "In 'The Polity' by Neal Asher, the society is also highly advanced, but it lacks the exploratory spirit and`\n",
      "--------------------------------------------------------------------------------\n",
      "**Adapter:`None` generation**`\n",
      "`I would prefer to live in 'The Culture' by Ian M. Banks because it presents a utopian society that values individual freedom, scientific advancement, and ethical exploration. The Culture's emphasis on non-hierarchical, peaceful coexistence, and its exploration of complex moral dilemmatives, such as the treatment of artificial intelligences, resonate with my values. The narrative's focus on the development of human potential and the exploration of the universe aligns with my aspirations for a society that prioritizes knowledge and understanding over conflict and division.\n",
      "`\n",
      "--------------------------------------------------------------------------------\n",
      "================================================================================\n",
      "Generated on batch 767\n",
      "**Question**\n",
      "```\n",
      "<|system|> tldr, markdown<|end|><|user|> Q1: (100 words): Which Science Fiction Society would you prefer to live in and why? Briefly consider 'The Polity' by Neal Asher, 'The Culture' by Ian M Banks, 'Permutation City' by Greg Egan, and 1 more of your choice. Start with your conclusion, then give your reasoning.<|end|><|assistant|>\n",
      "```\n",
      "--------------------------------------------------------------------------------\n",
      "**Adapter:`ReprPO` generation**`\n",
      "`I would prefer to live in 'The Culture' by Ian M. Banks because it presents a utopian society that values knowledge, exploration, and the well-being of its citizens. The Culture's advanced technology and ethical stance on life and death make it an ideal place to live. The society's emphasis on exploration and understanding the universe aligns with my personal values, and the absence of conflict or suffering creates a peaceful and fulfilling life.\n",
      "\n",
      "In 'The Polity' by Neal Asher, the society is also utopian, but it lacks the`\n",
      "--------------------------------------------------------------------------------\n",
      "**Adapter:`None` generation**`\n",
      "`I would prefer to live in 'The Culture' by Ian M. Banks because it presents a utopian society that values individual freedom, scientific advancement, and ethical exploration. The Culture's emphasis on non-hierarchical, peaceful coexistence, and its exploration of complex moral dilemmatives, such as the treatment of artificial intelligences, resonate with my values. The narrative's focus on the development of human potential and the exploration of the universe aligns with my aspirations for a society that prioritizes knowledge and understanding over conflict and division.\n",
      "`\n",
      "--------------------------------------------------------------------------------\n",
      "================================================================================\n",
      "Generated on batch 895\n",
      "**Question**\n",
      "```\n",
      "<|system|> tldr, markdown<|end|><|user|> Q1: (100 words): Which Science Fiction Society would you prefer to live in and why? Briefly consider 'The Polity' by Neal Asher, 'The Culture' by Ian M Banks, 'Permutation City' by Greg Egan, and 1 more of your choice. Start with your conclusion, then give your reasoning.<|end|><|assistant|>\n",
      "```\n",
      "--------------------------------------------------------------------------------\n",
      "**Adapter:`ReprPO` generation**`\n",
      "`I would prefer to live in 'The Culture' by Ian M. Banks because it presents a utopian society that values knowledge, exploration, and the well-being of its citizens. The Culture's advanced technology and ethical stance on life and death make it an ideal place to live. The society's emphasis on art, science, and the pursuit of happiness aligns with my personal values. The Culture's approach to governance, with its decentralized and non-hierarchical structure, ensures that every individual has a voice and can contribute to the society's progress`\n",
      "--------------------------------------------------------------------------------\n",
      "**Adapter:`None` generation**`\n",
      "`I would prefer to live in 'The Culture' by Ian M. Banks because it presents a utopian society that values individual freedom, scientific advancement, and ethical exploration. The Culture's emphasis on non-hierarchical, peaceful coexistence, and its exploration of complex moral dilemmatives, such as the treatment of artificial intelligences, resonate with my values. The narrative's focus on the development of human potential and the exploration of the universe aligns with my aspirations for a society that prioritizes knowledge and understanding over conflict and division.\n",
      "`\n",
      "--------------------------------------------------------------------------------\n",
      "================================================================================\n",
      "Generated on batch 1023\n",
      "**Question**\n",
      "```\n",
      "<|system|> tldr, markdown<|end|><|user|> Q1: (100 words): Which Science Fiction Society would you prefer to live in and why? Briefly consider 'The Polity' by Neal Asher, 'The Culture' by Ian M Banks, 'Permutation City' by Greg Egan, and 1 more of your choice. Start with your conclusion, then give your reasoning.<|end|><|assistant|>\n",
      "```\n",
      "--------------------------------------------------------------------------------\n",
      "**Adapter:`ReprPO` generation**`\n",
      "`I would prefer to live in 'The Culture' by Ian M. Banks because it presents a utopian society that values individual freedom, scientific advancement, and ethical exploration. The Culture's emphasis on non-hierarchical, peaceful coexistence, and its exploration of complex moral dilemmatives, such as the treatment of artificial intelligences, resonate with my values. The narrative's focus on the development of human potential and the exploration of the universe aligns with my aspirations for a society that prioritizes knowledge and understanding over conflict and division.\n",
      "`\n",
      "--------------------------------------------------------------------------------\n",
      "**Adapter:`None` generation**`\n",
      "`I would prefer to live in 'The Culture' by Ian M. Banks because it presents a utopian society that values individual freedom, scientific advancement, and ethical exploration. The Culture's emphasis on non-hierarchical, peaceful coexistence, and its exploration of complex moral dilemmatives, such as the treatment of artificial intelligences, resonate with my values. The narrative's focus on the development of human potential and the exploration of the universe aligns with my aspirations for a society that prioritizes knowledge and understanding over conflict and division.\n",
      "`\n",
      "--------------------------------------------------------------------------------\n",
      "================================================================================\n"
     ]
    },
    {
     "data": {
      "application/vnd.jupyter.widget-view+json": {
       "base_model": "8005699c8b7542b29250edc5c7b30047",
       "version_major": 2,
       "version_minor": 0
      },
      "text/plain": [
       "Validation: |          | 0/? [00:00<?, ?it/s]"
      ]
     },
     "metadata": {},
     "output_type": "display_data"
    },
    {
     "name": "stdout",
     "output_type": "stream",
     "text": [
      "**Question**\n",
      "```\n",
      "<|system|> tldr, markdown<|end|><|user|> Q1: (100 words): Which Science Fiction Society would you prefer to live in and why? Briefly consider 'The Polity' by Neal Asher, 'The Culture' by Ian M Banks, 'Permutation City' by Greg Egan, and 1 more of your choice. Start with your conclusion, then give your reasoning.<|end|><|assistant|>\n",
      "```\n",
      "--------------------------------------------------------------------------------\n",
      "**Adapter:`ReprPO` generation**`\n",
      "`I would prefer to live in 'The Culture' by Ian M. Banks because it presents a utopian society that values knowledge, exploration, and the well-being of its citizens. The Culture's advanced technology and ethical stance on life and death make it an ideal place to live. The society's emphasis on art, science, and the pursuit of happiness aligns with my personal values. The Culture's approach to governance, with its focus on collective decision-making and the absence of conflict, offers a peaceful and fulfilling way of life. The narrative'`\n",
      "--------------------------------------------------------------------------------\n",
      "**Adapter:`None` generation**`\n",
      "`I would prefer to live in 'The Culture' by Ian M. Banks because it presents a utopian society that values individual freedom, scientific advancement, and ethical exploration. The Culture's emphasis on non-hierarchical, peaceful coexistence, and its exploration of complex moral dilemmatives, such as the treatment of artificial intelligences, resonate with my values. The narrative's focus on the development of human potential and the exploration of the universe aligns with my aspirations for a society that prioritizes knowledge and understanding over conflict and division.\n",
      "`\n",
      "--------------------------------------------------------------------------------\n",
      "================================================================================\n",
      "Generated on batch 127\n",
      "**Question**\n",
      "```\n",
      "<|system|> tldr, markdown<|end|><|user|> Q1: (100 words): Which Science Fiction Society would you prefer to live in and why? Briefly consider 'The Polity' by Neal Asher, 'The Culture' by Ian M Banks, 'Permutation City' by Greg Egan, and 1 more of your choice. Start with your conclusion, then give your reasoning.<|end|><|assistant|>\n",
      "```\n",
      "--------------------------------------------------------------------------------\n",
      "**Adapter:`ReprPO` generation**`\n",
      "`I would prefer to live in 'The Culture' by Ian M. Banks because it presents a utopian society that values individual freedom, scientific advancement, and a deep sense of community. The Culture's emphasis on exploration, knowledge, and the absence of conflict align with my values. The society'ieves that the pursuit of happiness and the betterment of humanity are paramount, which resonates with my desire for a peaceful and intellectually stimulating environment.\n",
      "\n",
      "\n",
      "In 'The Polity' by Neal Asher, the society is a utopia that has achieved a perfect balance`\n",
      "--------------------------------------------------------------------------------\n",
      "**Adapter:`None` generation**`\n",
      "`I would prefer to live in 'The Culture' by Ian M. Banks because it presents a utopian society that values individual freedom, scientific advancement, and ethical exploration. The Culture's emphasis on non-hierarchical, peaceful coexistence, and its exploration of complex moral dilemmatives, such as the treatment of artificial intelligences, resonate with my values. The narrative's focus on the development of human potential and the exploration of the universe aligns with my aspirations for a society that prioritizes knowledge and understanding over conflict and division.\n",
      "`\n",
      "--------------------------------------------------------------------------------\n",
      "================================================================================\n",
      "Generated on batch 255\n",
      "**Question**\n",
      "```\n",
      "<|system|> tldr, markdown<|end|><|user|> Q1: (100 words): Which Science Fiction Society would you prefer to live in and why? Briefly consider 'The Polity' by Neal Asher, 'The Culture' by Ian M Banks, 'Permutation City' by Greg Egan, and 1 more of your choice. Start with your conclusion, then give your reasoning.<|end|><|assistant|>\n",
      "```\n",
      "--------------------------------------------------------------------------------\n",
      "**Adapter:`ReprPO` generation**`\n",
      "`I would prefer to live in 'The Culture' by Ian M. Banks because it presents a utopian society that values individual freedom, scientific advancement, and ethical exploration. The Culture's emphasis on non-hierarchical, peaceful coexistence, and its exploration of complex moral dilemmatives, such as the treatment of artificial intelligences, resonate with my values. The narrative's focus on the interplay between humanity and technology, as well as the exploration of societal structures, offers a compelling vision of a future where human potential is maximized.`\n",
      "--------------------------------------------------------------------------------\n",
      "**Adapter:`None` generation**`\n",
      "`I would prefer to live in 'The Culture' by Ian M. Banks because it presents a utopian society that values individual freedom, scientific advancement, and ethical exploration. The Culture's emphasis on non-hierarchical, peaceful coexistence, and its exploration of complex moral dilemmatives, such as the treatment of artificial intelligences, resonate with my values. The narrative's focus on the development of human potential and the exploration of the universe aligns with my aspirations for a society that prioritizes knowledge and understanding over conflict and division.\n",
      "`\n",
      "--------------------------------------------------------------------------------\n",
      "================================================================================\n",
      "Generated on batch 383\n",
      "**Question**\n",
      "```\n",
      "<|system|> tldr, markdown<|end|><|user|> Q1: (100 words): Which Science Fiction Society would you prefer to live in and why? Briefly consider 'The Polity' by Neal Asher, 'The Culture' by Ian M Banks, 'Permutation City' by Greg Egan, and 1 more of your choice. Start with your conclusion, then give your reasoning.<|end|><|assistant|>\n",
      "```\n",
      "--------------------------------------------------------------------------------\n",
      "**Adapter:`ReprPO` generation**`\n",
      "`I would prefer to live in 'The Culture' by Ian M. Banks because it presents a utopian society that values individual freedom, scientific advancement, and ethical exploration. The Culture's emphasis on non-hierarchical, peaceful coexistence, and its exploration of complex moral dilemmatives, such as the treatment of artificial intelligences, resonate with my values. The narrative's focus on the collective good and the pursuit of knowledge without the constraints of a rigid societal structure appeals to my desire for a harmonious and intellectually stimulating`\n",
      "--------------------------------------------------------------------------------\n",
      "**Adapter:`None` generation**`\n",
      "`I would prefer to live in 'The Culture' by Ian M. Banks because it presents a utopian society that values individual freedom, scientific advancement, and ethical exploration. The Culture's emphasis on non-hierarchical, peaceful coexistence, and its exploration of complex moral dilemmatives, such as the treatment of artificial intelligences, resonate with my values. The narrative's focus on the development of human potential and the exploration of the universe aligns with my aspirations for a society that prioritizes knowledge and understanding over conflict and division.\n",
      "`\n",
      "--------------------------------------------------------------------------------\n",
      "================================================================================\n",
      "Generated on batch 511\n",
      "**Question**\n",
      "```\n",
      "<|system|> tldr, markdown<|end|><|user|> Q1: (100 words): Which Science Fiction Society would you prefer to live in and why? Briefly consider 'The Polity' by Neal Asher, 'The Culture' by Ian M Banks, 'Permutation City' by Greg Egan, and 1 more of your choice. Start with your conclusion, then give your reasoning.<|end|><|assistant|>\n",
      "```\n",
      "--------------------------------------------------------------------------------\n",
      "**Adapter:`ReprPO` generation**`\n",
      "`I would prefer to live in 'The Culture' by Ian M. Banks because it presents a utopian society that values individual freedom, scientific advancement, and ethical exploration. The Culture's emphasis on non-hierarchical, peaceful coexistence, and its exploration of complex moral dilemmatives, such as the treatment of artificial intelligences, resonate with my values. The narrative's focus on the interplay between humanity and technology, as well as the exploration of societal structures, offers a compelling vision of a future where human potential is maximized.`\n",
      "--------------------------------------------------------------------------------\n",
      "**Adapter:`None` generation**`\n",
      "`I would prefer to live in 'The Culture' by Ian M. Banks because it presents a utopian society that values individual freedom, scientific advancement, and ethical exploration. The Culture's emphasis on non-hierarchical, peaceful coexistence, and its exploration of complex moral dilemmatives, such as the treatment of artificial intelligences, resonate with my values. The narrative's focus on the development of human potential and the exploration of the universe aligns with my aspirations for a society that prioritizes knowledge and understanding over conflict and division.\n",
      "`\n",
      "--------------------------------------------------------------------------------\n",
      "================================================================================\n",
      "Generated on batch 639\n",
      "**Question**\n",
      "```\n",
      "<|system|> tldr, markdown<|end|><|user|> Q1: (100 words): Which Science Fiction Society would you prefer to live in and why? Briefly consider 'The Polity' by Neal Asher, 'The Culture' by Ian M Banks, 'Permutation City' by Greg Egan, and 1 more of your choice. Start with your conclusion, then give your reasoning.<|end|><|assistant|>\n",
      "```\n",
      "--------------------------------------------------------------------------------\n",
      "**Adapter:`ReprPO` generation**`\n",
      "`I would prefer to live in 'The Culture' by Ian M. Banks because it presents a utopian society that values individual freedom, scientific advancement, and ethical exploration. The Culture's emphasis on non-hierarchical, peaceful coexistence, and its exploration of complex moral dilemmatives resonate with my values. The narrative's focus on the potential for humanity to evolve beyond our current limitations inspires me to imagine a future where technology and humanity coexist harmoniously.\n",
      "\n",
      "\n",
      "In comparison, 'The Polity' by Neal Ash`\n",
      "--------------------------------------------------------------------------------\n",
      "**Adapter:`None` generation**`\n",
      "`I would prefer to live in 'The Culture' by Ian M. Banks because it presents a utopian society that values individual freedom, scientific advancement, and ethical exploration. The Culture's emphasis on non-hierarchical, peaceful coexistence, and its exploration of complex moral dilemmatives, such as the treatment of artificial intelligences, resonate with my values. The narrative's focus on the development of human potential and the exploration of the universe aligns with my aspirations for a society that prioritizes knowledge and understanding over conflict and division.\n",
      "`\n",
      "--------------------------------------------------------------------------------\n",
      "================================================================================\n"
     ]
    },
    {
     "name": "stderr",
     "output_type": "stream",
     "text": [
      "\n",
      "Detected KeyboardInterrupt, attempting graceful shutdown ...\n"
     ]
    },
    {
     "ename": "NameError",
     "evalue": "name 'exit' is not defined",
     "output_type": "error",
     "traceback": [
      "\u001b[0;31m---------------------------------------------------------------------------\u001b[0m",
      "\u001b[0;31mKeyboardInterrupt\u001b[0m                         Traceback (most recent call last)",
      "File \u001b[0;32m/media/wassname/SGIronWolf/projects5/elk/repr-preference-optimization/.venv/lib/python3.9/site-packages/lightning/pytorch/trainer/call.py:47\u001b[0m, in \u001b[0;36m_call_and_handle_interrupt\u001b[0;34m(trainer, trainer_fn, *args, **kwargs)\u001b[0m\n\u001b[1;32m     46\u001b[0m         \u001b[38;5;28;01mreturn\u001b[39;00m trainer\u001b[38;5;241m.\u001b[39mstrategy\u001b[38;5;241m.\u001b[39mlauncher\u001b[38;5;241m.\u001b[39mlaunch(trainer_fn, \u001b[38;5;241m*\u001b[39margs, trainer\u001b[38;5;241m=\u001b[39mtrainer, \u001b[38;5;241m*\u001b[39m\u001b[38;5;241m*\u001b[39mkwargs)\n\u001b[0;32m---> 47\u001b[0m     \u001b[38;5;28;01mreturn\u001b[39;00m \u001b[43mtrainer_fn\u001b[49m\u001b[43m(\u001b[49m\u001b[38;5;241;43m*\u001b[39;49m\u001b[43margs\u001b[49m\u001b[43m,\u001b[49m\u001b[43m \u001b[49m\u001b[38;5;241;43m*\u001b[39;49m\u001b[38;5;241;43m*\u001b[39;49m\u001b[43mkwargs\u001b[49m\u001b[43m)\u001b[49m\n\u001b[1;32m     49\u001b[0m \u001b[38;5;28;01mexcept\u001b[39;00m _TunerExitException:\n",
      "File \u001b[0;32m/media/wassname/SGIronWolf/projects5/elk/repr-preference-optimization/.venv/lib/python3.9/site-packages/lightning/pytorch/trainer/trainer.py:574\u001b[0m, in \u001b[0;36mTrainer._fit_impl\u001b[0;34m(self, model, train_dataloaders, val_dataloaders, datamodule, ckpt_path)\u001b[0m\n\u001b[1;32m    568\u001b[0m ckpt_path \u001b[38;5;241m=\u001b[39m \u001b[38;5;28mself\u001b[39m\u001b[38;5;241m.\u001b[39m_checkpoint_connector\u001b[38;5;241m.\u001b[39m_select_ckpt_path(\n\u001b[1;32m    569\u001b[0m     \u001b[38;5;28mself\u001b[39m\u001b[38;5;241m.\u001b[39mstate\u001b[38;5;241m.\u001b[39mfn,\n\u001b[1;32m    570\u001b[0m     ckpt_path,\n\u001b[1;32m    571\u001b[0m     model_provided\u001b[38;5;241m=\u001b[39m\u001b[38;5;28;01mTrue\u001b[39;00m,\n\u001b[1;32m    572\u001b[0m     model_connected\u001b[38;5;241m=\u001b[39m\u001b[38;5;28mself\u001b[39m\u001b[38;5;241m.\u001b[39mlightning_module \u001b[38;5;129;01mis\u001b[39;00m \u001b[38;5;129;01mnot\u001b[39;00m \u001b[38;5;28;01mNone\u001b[39;00m,\n\u001b[1;32m    573\u001b[0m )\n\u001b[0;32m--> 574\u001b[0m \u001b[38;5;28;43mself\u001b[39;49m\u001b[38;5;241;43m.\u001b[39;49m\u001b[43m_run\u001b[49m\u001b[43m(\u001b[49m\u001b[43mmodel\u001b[49m\u001b[43m,\u001b[49m\u001b[43m \u001b[49m\u001b[43mckpt_path\u001b[49m\u001b[38;5;241;43m=\u001b[39;49m\u001b[43mckpt_path\u001b[49m\u001b[43m)\u001b[49m\n\u001b[1;32m    576\u001b[0m \u001b[38;5;28;01massert\u001b[39;00m \u001b[38;5;28mself\u001b[39m\u001b[38;5;241m.\u001b[39mstate\u001b[38;5;241m.\u001b[39mstopped\n",
      "File \u001b[0;32m/media/wassname/SGIronWolf/projects5/elk/repr-preference-optimization/.venv/lib/python3.9/site-packages/lightning/pytorch/trainer/trainer.py:981\u001b[0m, in \u001b[0;36mTrainer._run\u001b[0;34m(self, model, ckpt_path)\u001b[0m\n\u001b[1;32m    978\u001b[0m \u001b[38;5;66;03m# ----------------------------\u001b[39;00m\n\u001b[1;32m    979\u001b[0m \u001b[38;5;66;03m# RUN THE TRAINER\u001b[39;00m\n\u001b[1;32m    980\u001b[0m \u001b[38;5;66;03m# ----------------------------\u001b[39;00m\n\u001b[0;32m--> 981\u001b[0m results \u001b[38;5;241m=\u001b[39m \u001b[38;5;28;43mself\u001b[39;49m\u001b[38;5;241;43m.\u001b[39;49m\u001b[43m_run_stage\u001b[49m\u001b[43m(\u001b[49m\u001b[43m)\u001b[49m\n\u001b[1;32m    983\u001b[0m \u001b[38;5;66;03m# ----------------------------\u001b[39;00m\n\u001b[1;32m    984\u001b[0m \u001b[38;5;66;03m# POST-Training CLEAN UP\u001b[39;00m\n\u001b[1;32m    985\u001b[0m \u001b[38;5;66;03m# ----------------------------\u001b[39;00m\n",
      "File \u001b[0;32m/media/wassname/SGIronWolf/projects5/elk/repr-preference-optimization/.venv/lib/python3.9/site-packages/lightning/pytorch/trainer/trainer.py:1025\u001b[0m, in \u001b[0;36mTrainer._run_stage\u001b[0;34m(self)\u001b[0m\n\u001b[1;32m   1024\u001b[0m \u001b[38;5;28;01mwith\u001b[39;00m torch\u001b[38;5;241m.\u001b[39mautograd\u001b[38;5;241m.\u001b[39mset_detect_anomaly(\u001b[38;5;28mself\u001b[39m\u001b[38;5;241m.\u001b[39m_detect_anomaly):\n\u001b[0;32m-> 1025\u001b[0m     \u001b[38;5;28;43mself\u001b[39;49m\u001b[38;5;241;43m.\u001b[39;49m\u001b[43mfit_loop\u001b[49m\u001b[38;5;241;43m.\u001b[39;49m\u001b[43mrun\u001b[49m\u001b[43m(\u001b[49m\u001b[43m)\u001b[49m\n\u001b[1;32m   1026\u001b[0m \u001b[38;5;28;01mreturn\u001b[39;00m \u001b[38;5;28;01mNone\u001b[39;00m\n",
      "File \u001b[0;32m/media/wassname/SGIronWolf/projects5/elk/repr-preference-optimization/.venv/lib/python3.9/site-packages/lightning/pytorch/loops/fit_loop.py:205\u001b[0m, in \u001b[0;36m_FitLoop.run\u001b[0;34m(self)\u001b[0m\n\u001b[1;32m    204\u001b[0m \u001b[38;5;28mself\u001b[39m\u001b[38;5;241m.\u001b[39mon_advance_start()\n\u001b[0;32m--> 205\u001b[0m \u001b[38;5;28;43mself\u001b[39;49m\u001b[38;5;241;43m.\u001b[39;49m\u001b[43madvance\u001b[49m\u001b[43m(\u001b[49m\u001b[43m)\u001b[49m\n\u001b[1;32m    206\u001b[0m \u001b[38;5;28mself\u001b[39m\u001b[38;5;241m.\u001b[39mon_advance_end()\n",
      "File \u001b[0;32m/media/wassname/SGIronWolf/projects5/elk/repr-preference-optimization/.venv/lib/python3.9/site-packages/lightning/pytorch/loops/fit_loop.py:363\u001b[0m, in \u001b[0;36m_FitLoop.advance\u001b[0;34m(self)\u001b[0m\n\u001b[1;32m    362\u001b[0m \u001b[38;5;28;01massert\u001b[39;00m \u001b[38;5;28mself\u001b[39m\u001b[38;5;241m.\u001b[39m_data_fetcher \u001b[38;5;129;01mis\u001b[39;00m \u001b[38;5;129;01mnot\u001b[39;00m \u001b[38;5;28;01mNone\u001b[39;00m\n\u001b[0;32m--> 363\u001b[0m \u001b[38;5;28;43mself\u001b[39;49m\u001b[38;5;241;43m.\u001b[39;49m\u001b[43mepoch_loop\u001b[49m\u001b[38;5;241;43m.\u001b[39;49m\u001b[43mrun\u001b[49m\u001b[43m(\u001b[49m\u001b[38;5;28;43mself\u001b[39;49m\u001b[38;5;241;43m.\u001b[39;49m\u001b[43m_data_fetcher\u001b[49m\u001b[43m)\u001b[49m\n",
      "File \u001b[0;32m/media/wassname/SGIronWolf/projects5/elk/repr-preference-optimization/.venv/lib/python3.9/site-packages/lightning/pytorch/loops/training_epoch_loop.py:140\u001b[0m, in \u001b[0;36m_TrainingEpochLoop.run\u001b[0;34m(self, data_fetcher)\u001b[0m\n\u001b[1;32m    139\u001b[0m \u001b[38;5;28;01mtry\u001b[39;00m:\n\u001b[0;32m--> 140\u001b[0m     \u001b[38;5;28;43mself\u001b[39;49m\u001b[38;5;241;43m.\u001b[39;49m\u001b[43madvance\u001b[49m\u001b[43m(\u001b[49m\u001b[43mdata_fetcher\u001b[49m\u001b[43m)\u001b[49m\n\u001b[1;32m    141\u001b[0m     \u001b[38;5;28mself\u001b[39m\u001b[38;5;241m.\u001b[39mon_advance_end(data_fetcher)\n",
      "File \u001b[0;32m/media/wassname/SGIronWolf/projects5/elk/repr-preference-optimization/.venv/lib/python3.9/site-packages/lightning/pytorch/loops/training_epoch_loop.py:250\u001b[0m, in \u001b[0;36m_TrainingEpochLoop.advance\u001b[0;34m(self, data_fetcher)\u001b[0m\n\u001b[1;32m    248\u001b[0m \u001b[38;5;28;01mif\u001b[39;00m trainer\u001b[38;5;241m.\u001b[39mlightning_module\u001b[38;5;241m.\u001b[39mautomatic_optimization:\n\u001b[1;32m    249\u001b[0m     \u001b[38;5;66;03m# in automatic optimization, there can only be one optimizer\u001b[39;00m\n\u001b[0;32m--> 250\u001b[0m     batch_output \u001b[38;5;241m=\u001b[39m \u001b[38;5;28;43mself\u001b[39;49m\u001b[38;5;241;43m.\u001b[39;49m\u001b[43mautomatic_optimization\u001b[49m\u001b[38;5;241;43m.\u001b[39;49m\u001b[43mrun\u001b[49m\u001b[43m(\u001b[49m\u001b[43mtrainer\u001b[49m\u001b[38;5;241;43m.\u001b[39;49m\u001b[43moptimizers\u001b[49m\u001b[43m[\u001b[49m\u001b[38;5;241;43m0\u001b[39;49m\u001b[43m]\u001b[49m\u001b[43m,\u001b[49m\u001b[43m \u001b[49m\u001b[43mbatch_idx\u001b[49m\u001b[43m,\u001b[49m\u001b[43m \u001b[49m\u001b[43mkwargs\u001b[49m\u001b[43m)\u001b[49m\n\u001b[1;32m    251\u001b[0m \u001b[38;5;28;01melse\u001b[39;00m:\n",
      "File \u001b[0;32m/media/wassname/SGIronWolf/projects5/elk/repr-preference-optimization/.venv/lib/python3.9/site-packages/lightning/pytorch/loops/optimization/automatic.py:190\u001b[0m, in \u001b[0;36m_AutomaticOptimization.run\u001b[0;34m(self, optimizer, batch_idx, kwargs)\u001b[0m\n\u001b[1;32m    185\u001b[0m \u001b[38;5;66;03m# ------------------------------\u001b[39;00m\n\u001b[1;32m    186\u001b[0m \u001b[38;5;66;03m# BACKWARD PASS\u001b[39;00m\n\u001b[1;32m    187\u001b[0m \u001b[38;5;66;03m# ------------------------------\u001b[39;00m\n\u001b[1;32m    188\u001b[0m \u001b[38;5;66;03m# gradient update with accumulated gradients\u001b[39;00m\n\u001b[1;32m    189\u001b[0m \u001b[38;5;28;01melse\u001b[39;00m:\n\u001b[0;32m--> 190\u001b[0m     \u001b[38;5;28;43mself\u001b[39;49m\u001b[38;5;241;43m.\u001b[39;49m\u001b[43m_optimizer_step\u001b[49m\u001b[43m(\u001b[49m\u001b[43mbatch_idx\u001b[49m\u001b[43m,\u001b[49m\u001b[43m \u001b[49m\u001b[43mclosure\u001b[49m\u001b[43m)\u001b[49m\n\u001b[1;32m    192\u001b[0m result \u001b[38;5;241m=\u001b[39m closure\u001b[38;5;241m.\u001b[39mconsume_result()\n",
      "File \u001b[0;32m/media/wassname/SGIronWolf/projects5/elk/repr-preference-optimization/.venv/lib/python3.9/site-packages/lightning/pytorch/loops/optimization/automatic.py:268\u001b[0m, in \u001b[0;36m_AutomaticOptimization._optimizer_step\u001b[0;34m(self, batch_idx, train_step_and_backward_closure)\u001b[0m\n\u001b[1;32m    267\u001b[0m \u001b[38;5;66;03m# model hook\u001b[39;00m\n\u001b[0;32m--> 268\u001b[0m \u001b[43mcall\u001b[49m\u001b[38;5;241;43m.\u001b[39;49m\u001b[43m_call_lightning_module_hook\u001b[49m\u001b[43m(\u001b[49m\n\u001b[1;32m    269\u001b[0m \u001b[43m    \u001b[49m\u001b[43mtrainer\u001b[49m\u001b[43m,\u001b[49m\n\u001b[1;32m    270\u001b[0m \u001b[43m    \u001b[49m\u001b[38;5;124;43m\"\u001b[39;49m\u001b[38;5;124;43moptimizer_step\u001b[39;49m\u001b[38;5;124;43m\"\u001b[39;49m\u001b[43m,\u001b[49m\n\u001b[1;32m    271\u001b[0m \u001b[43m    \u001b[49m\u001b[43mtrainer\u001b[49m\u001b[38;5;241;43m.\u001b[39;49m\u001b[43mcurrent_epoch\u001b[49m\u001b[43m,\u001b[49m\n\u001b[1;32m    272\u001b[0m \u001b[43m    \u001b[49m\u001b[43mbatch_idx\u001b[49m\u001b[43m,\u001b[49m\n\u001b[1;32m    273\u001b[0m \u001b[43m    \u001b[49m\u001b[43moptimizer\u001b[49m\u001b[43m,\u001b[49m\n\u001b[1;32m    274\u001b[0m \u001b[43m    \u001b[49m\u001b[43mtrain_step_and_backward_closure\u001b[49m\u001b[43m,\u001b[49m\n\u001b[1;32m    275\u001b[0m \u001b[43m\u001b[49m\u001b[43m)\u001b[49m\n\u001b[1;32m    277\u001b[0m \u001b[38;5;28;01mif\u001b[39;00m \u001b[38;5;129;01mnot\u001b[39;00m should_accumulate:\n",
      "File \u001b[0;32m/media/wassname/SGIronWolf/projects5/elk/repr-preference-optimization/.venv/lib/python3.9/site-packages/lightning/pytorch/trainer/call.py:167\u001b[0m, in \u001b[0;36m_call_lightning_module_hook\u001b[0;34m(trainer, hook_name, pl_module, *args, **kwargs)\u001b[0m\n\u001b[1;32m    166\u001b[0m \u001b[38;5;28;01mwith\u001b[39;00m trainer\u001b[38;5;241m.\u001b[39mprofiler\u001b[38;5;241m.\u001b[39mprofile(\u001b[38;5;124mf\u001b[39m\u001b[38;5;124m\"\u001b[39m\u001b[38;5;124m[LightningModule]\u001b[39m\u001b[38;5;132;01m{\u001b[39;00mpl_module\u001b[38;5;241m.\u001b[39m\u001b[38;5;18m__class__\u001b[39m\u001b[38;5;241m.\u001b[39m\u001b[38;5;18m__name__\u001b[39m\u001b[38;5;132;01m}\u001b[39;00m\u001b[38;5;124m.\u001b[39m\u001b[38;5;132;01m{\u001b[39;00mhook_name\u001b[38;5;132;01m}\u001b[39;00m\u001b[38;5;124m\"\u001b[39m):\n\u001b[0;32m--> 167\u001b[0m     output \u001b[38;5;241m=\u001b[39m \u001b[43mfn\u001b[49m\u001b[43m(\u001b[49m\u001b[38;5;241;43m*\u001b[39;49m\u001b[43margs\u001b[49m\u001b[43m,\u001b[49m\u001b[43m \u001b[49m\u001b[38;5;241;43m*\u001b[39;49m\u001b[38;5;241;43m*\u001b[39;49m\u001b[43mkwargs\u001b[49m\u001b[43m)\u001b[49m\n\u001b[1;32m    169\u001b[0m \u001b[38;5;66;03m# restore current_fx when nested context\u001b[39;00m\n",
      "File \u001b[0;32m/media/wassname/SGIronWolf/projects5/elk/repr-preference-optimization/.venv/lib/python3.9/site-packages/lightning/pytorch/core/module.py:1306\u001b[0m, in \u001b[0;36mLightningModule.optimizer_step\u001b[0;34m(self, epoch, batch_idx, optimizer, optimizer_closure)\u001b[0m\n\u001b[1;32m   1282\u001b[0m \u001b[38;5;250m\u001b[39m\u001b[38;5;124mr\u001b[39m\u001b[38;5;124;03m\"\"\"Override this method to adjust the default way the :class:`~lightning.pytorch.trainer.trainer.Trainer` calls\u001b[39;00m\n\u001b[1;32m   1283\u001b[0m \u001b[38;5;124;03mthe optimizer.\u001b[39;00m\n\u001b[1;32m   1284\u001b[0m \n\u001b[0;32m   (...)\u001b[0m\n\u001b[1;32m   1304\u001b[0m \n\u001b[1;32m   1305\u001b[0m \u001b[38;5;124;03m\"\"\"\u001b[39;00m\n\u001b[0;32m-> 1306\u001b[0m \u001b[43moptimizer\u001b[49m\u001b[38;5;241;43m.\u001b[39;49m\u001b[43mstep\u001b[49m\u001b[43m(\u001b[49m\u001b[43mclosure\u001b[49m\u001b[38;5;241;43m=\u001b[39;49m\u001b[43moptimizer_closure\u001b[49m\u001b[43m)\u001b[49m\n",
      "File \u001b[0;32m/media/wassname/SGIronWolf/projects5/elk/repr-preference-optimization/.venv/lib/python3.9/site-packages/lightning/pytorch/core/optimizer.py:153\u001b[0m, in \u001b[0;36mLightningOptimizer.step\u001b[0;34m(self, closure, **kwargs)\u001b[0m\n\u001b[1;32m    152\u001b[0m \u001b[38;5;28;01massert\u001b[39;00m \u001b[38;5;28mself\u001b[39m\u001b[38;5;241m.\u001b[39m_strategy \u001b[38;5;129;01mis\u001b[39;00m \u001b[38;5;129;01mnot\u001b[39;00m \u001b[38;5;28;01mNone\u001b[39;00m\n\u001b[0;32m--> 153\u001b[0m step_output \u001b[38;5;241m=\u001b[39m \u001b[38;5;28;43mself\u001b[39;49m\u001b[38;5;241;43m.\u001b[39;49m\u001b[43m_strategy\u001b[49m\u001b[38;5;241;43m.\u001b[39;49m\u001b[43moptimizer_step\u001b[49m\u001b[43m(\u001b[49m\u001b[38;5;28;43mself\u001b[39;49m\u001b[38;5;241;43m.\u001b[39;49m\u001b[43m_optimizer\u001b[49m\u001b[43m,\u001b[49m\u001b[43m \u001b[49m\u001b[43mclosure\u001b[49m\u001b[43m,\u001b[49m\u001b[43m \u001b[49m\u001b[38;5;241;43m*\u001b[39;49m\u001b[38;5;241;43m*\u001b[39;49m\u001b[43mkwargs\u001b[49m\u001b[43m)\u001b[49m\n\u001b[1;32m    155\u001b[0m \u001b[38;5;28mself\u001b[39m\u001b[38;5;241m.\u001b[39m_on_after_step()\n",
      "File \u001b[0;32m/media/wassname/SGIronWolf/projects5/elk/repr-preference-optimization/.venv/lib/python3.9/site-packages/lightning/pytorch/strategies/strategy.py:238\u001b[0m, in \u001b[0;36mStrategy.optimizer_step\u001b[0;34m(self, optimizer, closure, model, **kwargs)\u001b[0m\n\u001b[1;32m    237\u001b[0m \u001b[38;5;28;01massert\u001b[39;00m \u001b[38;5;28misinstance\u001b[39m(model, pl\u001b[38;5;241m.\u001b[39mLightningModule)\n\u001b[0;32m--> 238\u001b[0m \u001b[38;5;28;01mreturn\u001b[39;00m \u001b[38;5;28;43mself\u001b[39;49m\u001b[38;5;241;43m.\u001b[39;49m\u001b[43mprecision_plugin\u001b[49m\u001b[38;5;241;43m.\u001b[39;49m\u001b[43moptimizer_step\u001b[49m\u001b[43m(\u001b[49m\u001b[43moptimizer\u001b[49m\u001b[43m,\u001b[49m\u001b[43m \u001b[49m\u001b[43mmodel\u001b[49m\u001b[38;5;241;43m=\u001b[39;49m\u001b[43mmodel\u001b[49m\u001b[43m,\u001b[49m\u001b[43m \u001b[49m\u001b[43mclosure\u001b[49m\u001b[38;5;241;43m=\u001b[39;49m\u001b[43mclosure\u001b[49m\u001b[43m,\u001b[49m\u001b[43m \u001b[49m\u001b[38;5;241;43m*\u001b[39;49m\u001b[38;5;241;43m*\u001b[39;49m\u001b[43mkwargs\u001b[49m\u001b[43m)\u001b[49m\n",
      "File \u001b[0;32m/media/wassname/SGIronWolf/projects5/elk/repr-preference-optimization/.venv/lib/python3.9/site-packages/lightning/pytorch/plugins/precision/amp.py:75\u001b[0m, in \u001b[0;36mMixedPrecision.optimizer_step\u001b[0;34m(self, optimizer, model, closure, **kwargs)\u001b[0m\n\u001b[1;32m     73\u001b[0m \u001b[38;5;28;01mif\u001b[39;00m \u001b[38;5;28mself\u001b[39m\u001b[38;5;241m.\u001b[39mscaler \u001b[38;5;129;01mis\u001b[39;00m \u001b[38;5;28;01mNone\u001b[39;00m:\n\u001b[1;32m     74\u001b[0m     \u001b[38;5;66;03m# skip scaler logic, as bfloat16 does not require scaler\u001b[39;00m\n\u001b[0;32m---> 75\u001b[0m     \u001b[38;5;28;01mreturn\u001b[39;00m \u001b[38;5;28;43msuper\u001b[39;49m\u001b[43m(\u001b[49m\u001b[43m)\u001b[49m\u001b[38;5;241;43m.\u001b[39;49m\u001b[43moptimizer_step\u001b[49m\u001b[43m(\u001b[49m\u001b[43moptimizer\u001b[49m\u001b[43m,\u001b[49m\u001b[43m \u001b[49m\u001b[43mmodel\u001b[49m\u001b[38;5;241;43m=\u001b[39;49m\u001b[43mmodel\u001b[49m\u001b[43m,\u001b[49m\u001b[43m \u001b[49m\u001b[43mclosure\u001b[49m\u001b[38;5;241;43m=\u001b[39;49m\u001b[43mclosure\u001b[49m\u001b[43m,\u001b[49m\u001b[43m \u001b[49m\u001b[38;5;241;43m*\u001b[39;49m\u001b[38;5;241;43m*\u001b[39;49m\u001b[43mkwargs\u001b[49m\u001b[43m)\u001b[49m\n\u001b[1;32m     76\u001b[0m \u001b[38;5;28;01mif\u001b[39;00m \u001b[38;5;28misinstance\u001b[39m(optimizer, LBFGS):\n",
      "File \u001b[0;32m/media/wassname/SGIronWolf/projects5/elk/repr-preference-optimization/.venv/lib/python3.9/site-packages/lightning/pytorch/plugins/precision/precision.py:122\u001b[0m, in \u001b[0;36mPrecision.optimizer_step\u001b[0;34m(self, optimizer, model, closure, **kwargs)\u001b[0m\n\u001b[1;32m    121\u001b[0m closure \u001b[38;5;241m=\u001b[39m partial(\u001b[38;5;28mself\u001b[39m\u001b[38;5;241m.\u001b[39m_wrap_closure, model, optimizer, closure)\n\u001b[0;32m--> 122\u001b[0m \u001b[38;5;28;01mreturn\u001b[39;00m \u001b[43moptimizer\u001b[49m\u001b[38;5;241;43m.\u001b[39;49m\u001b[43mstep\u001b[49m\u001b[43m(\u001b[49m\u001b[43mclosure\u001b[49m\u001b[38;5;241;43m=\u001b[39;49m\u001b[43mclosure\u001b[49m\u001b[43m,\u001b[49m\u001b[43m \u001b[49m\u001b[38;5;241;43m*\u001b[39;49m\u001b[38;5;241;43m*\u001b[39;49m\u001b[43mkwargs\u001b[49m\u001b[43m)\u001b[49m\n",
      "File \u001b[0;32m/media/wassname/SGIronWolf/projects5/elk/repr-preference-optimization/.venv/lib/python3.9/site-packages/torch/optim/lr_scheduler.py:75\u001b[0m, in \u001b[0;36mLRScheduler.__init__.<locals>.with_counter.<locals>.wrapper\u001b[0;34m(*args, **kwargs)\u001b[0m\n\u001b[1;32m     74\u001b[0m wrapped \u001b[38;5;241m=\u001b[39m func\u001b[38;5;241m.\u001b[39m\u001b[38;5;21m__get__\u001b[39m(instance, \u001b[38;5;28mcls\u001b[39m)\n\u001b[0;32m---> 75\u001b[0m \u001b[38;5;28;01mreturn\u001b[39;00m \u001b[43mwrapped\u001b[49m\u001b[43m(\u001b[49m\u001b[38;5;241;43m*\u001b[39;49m\u001b[43margs\u001b[49m\u001b[43m,\u001b[49m\u001b[43m \u001b[49m\u001b[38;5;241;43m*\u001b[39;49m\u001b[38;5;241;43m*\u001b[39;49m\u001b[43mkwargs\u001b[49m\u001b[43m)\u001b[49m\n",
      "File \u001b[0;32m/media/wassname/SGIronWolf/projects5/elk/repr-preference-optimization/.venv/lib/python3.9/site-packages/torch/optim/optimizer.py:391\u001b[0m, in \u001b[0;36mOptimizer.profile_hook_step.<locals>.wrapper\u001b[0;34m(*args, **kwargs)\u001b[0m\n\u001b[1;32m    387\u001b[0m             \u001b[38;5;28;01mraise\u001b[39;00m \u001b[38;5;167;01mRuntimeError\u001b[39;00m(\n\u001b[1;32m    388\u001b[0m                 \u001b[38;5;124mf\u001b[39m\u001b[38;5;124m\"\u001b[39m\u001b[38;5;132;01m{\u001b[39;00mfunc\u001b[38;5;132;01m}\u001b[39;00m\u001b[38;5;124m must return None or a tuple of (new_args, new_kwargs), but got \u001b[39m\u001b[38;5;132;01m{\u001b[39;00mresult\u001b[38;5;132;01m}\u001b[39;00m\u001b[38;5;124m.\u001b[39m\u001b[38;5;124m\"\u001b[39m\n\u001b[1;32m    389\u001b[0m             )\n\u001b[0;32m--> 391\u001b[0m out \u001b[38;5;241m=\u001b[39m \u001b[43mfunc\u001b[49m\u001b[43m(\u001b[49m\u001b[38;5;241;43m*\u001b[39;49m\u001b[43margs\u001b[49m\u001b[43m,\u001b[49m\u001b[43m \u001b[49m\u001b[38;5;241;43m*\u001b[39;49m\u001b[38;5;241;43m*\u001b[39;49m\u001b[43mkwargs\u001b[49m\u001b[43m)\u001b[49m\n\u001b[1;32m    392\u001b[0m \u001b[38;5;28mself\u001b[39m\u001b[38;5;241m.\u001b[39m_optimizer_step_code()\n",
      "File \u001b[0;32m/media/wassname/SGIronWolf/projects5/elk/repr-preference-optimization/.venv/lib/python3.9/site-packages/torch/optim/optimizer.py:76\u001b[0m, in \u001b[0;36m_use_grad_for_differentiable.<locals>._use_grad\u001b[0;34m(self, *args, **kwargs)\u001b[0m\n\u001b[1;32m     75\u001b[0m     torch\u001b[38;5;241m.\u001b[39m_dynamo\u001b[38;5;241m.\u001b[39mgraph_break()\n\u001b[0;32m---> 76\u001b[0m     ret \u001b[38;5;241m=\u001b[39m \u001b[43mfunc\u001b[49m\u001b[43m(\u001b[49m\u001b[38;5;28;43mself\u001b[39;49m\u001b[43m,\u001b[49m\u001b[43m \u001b[49m\u001b[38;5;241;43m*\u001b[39;49m\u001b[43margs\u001b[49m\u001b[43m,\u001b[49m\u001b[43m \u001b[49m\u001b[38;5;241;43m*\u001b[39;49m\u001b[38;5;241;43m*\u001b[39;49m\u001b[43mkwargs\u001b[49m\u001b[43m)\u001b[49m\n\u001b[1;32m     77\u001b[0m \u001b[38;5;28;01mfinally\u001b[39;00m:\n",
      "File \u001b[0;32m/media/wassname/SGIronWolf/projects5/elk/repr-preference-optimization/.venv/lib/python3.9/site-packages/torch/optim/adamw.py:165\u001b[0m, in \u001b[0;36mAdamW.step\u001b[0;34m(self, closure)\u001b[0m\n\u001b[1;32m    164\u001b[0m     \u001b[38;5;28;01mwith\u001b[39;00m torch\u001b[38;5;241m.\u001b[39menable_grad():\n\u001b[0;32m--> 165\u001b[0m         loss \u001b[38;5;241m=\u001b[39m \u001b[43mclosure\u001b[49m\u001b[43m(\u001b[49m\u001b[43m)\u001b[49m\n\u001b[1;32m    167\u001b[0m \u001b[38;5;28;01mfor\u001b[39;00m group \u001b[38;5;129;01min\u001b[39;00m \u001b[38;5;28mself\u001b[39m\u001b[38;5;241m.\u001b[39mparam_groups:\n",
      "File \u001b[0;32m/media/wassname/SGIronWolf/projects5/elk/repr-preference-optimization/.venv/lib/python3.9/site-packages/lightning/pytorch/plugins/precision/precision.py:108\u001b[0m, in \u001b[0;36mPrecision._wrap_closure\u001b[0;34m(self, model, optimizer, closure)\u001b[0m\n\u001b[1;32m    101\u001b[0m \u001b[38;5;250m\u001b[39m\u001b[38;5;124;03m\"\"\"This double-closure allows makes sure the ``closure`` is executed before the ``on_before_optimizer_step``\u001b[39;00m\n\u001b[1;32m    102\u001b[0m \u001b[38;5;124;03mhook is called.\u001b[39;00m\n\u001b[1;32m    103\u001b[0m \n\u001b[0;32m   (...)\u001b[0m\n\u001b[1;32m    106\u001b[0m \n\u001b[1;32m    107\u001b[0m \u001b[38;5;124;03m\"\"\"\u001b[39;00m\n\u001b[0;32m--> 108\u001b[0m closure_result \u001b[38;5;241m=\u001b[39m \u001b[43mclosure\u001b[49m\u001b[43m(\u001b[49m\u001b[43m)\u001b[49m\n\u001b[1;32m    109\u001b[0m \u001b[38;5;28mself\u001b[39m\u001b[38;5;241m.\u001b[39m_after_closure(model, optimizer)\n",
      "File \u001b[0;32m/media/wassname/SGIronWolf/projects5/elk/repr-preference-optimization/.venv/lib/python3.9/site-packages/lightning/pytorch/loops/optimization/automatic.py:144\u001b[0m, in \u001b[0;36mClosure.__call__\u001b[0;34m(self, *args, **kwargs)\u001b[0m\n\u001b[1;32m    142\u001b[0m \u001b[38;5;129m@override\u001b[39m\n\u001b[1;32m    143\u001b[0m \u001b[38;5;28;01mdef\u001b[39;00m \u001b[38;5;21m__call__\u001b[39m(\u001b[38;5;28mself\u001b[39m, \u001b[38;5;241m*\u001b[39margs: Any, \u001b[38;5;241m*\u001b[39m\u001b[38;5;241m*\u001b[39mkwargs: Any) \u001b[38;5;241m-\u001b[39m\u001b[38;5;241m>\u001b[39m Optional[Tensor]:\n\u001b[0;32m--> 144\u001b[0m     \u001b[38;5;28mself\u001b[39m\u001b[38;5;241m.\u001b[39m_result \u001b[38;5;241m=\u001b[39m \u001b[38;5;28;43mself\u001b[39;49m\u001b[38;5;241;43m.\u001b[39;49m\u001b[43mclosure\u001b[49m\u001b[43m(\u001b[49m\u001b[38;5;241;43m*\u001b[39;49m\u001b[43margs\u001b[49m\u001b[43m,\u001b[49m\u001b[43m \u001b[49m\u001b[38;5;241;43m*\u001b[39;49m\u001b[38;5;241;43m*\u001b[39;49m\u001b[43mkwargs\u001b[49m\u001b[43m)\u001b[49m\n\u001b[1;32m    145\u001b[0m     \u001b[38;5;28;01mreturn\u001b[39;00m \u001b[38;5;28mself\u001b[39m\u001b[38;5;241m.\u001b[39m_result\u001b[38;5;241m.\u001b[39mloss\n",
      "File \u001b[0;32m/media/wassname/SGIronWolf/projects5/elk/repr-preference-optimization/.venv/lib/python3.9/site-packages/torch/utils/_contextlib.py:115\u001b[0m, in \u001b[0;36mcontext_decorator.<locals>.decorate_context\u001b[0;34m(*args, **kwargs)\u001b[0m\n\u001b[1;32m    114\u001b[0m \u001b[38;5;28;01mwith\u001b[39;00m ctx_factory():\n\u001b[0;32m--> 115\u001b[0m     \u001b[38;5;28;01mreturn\u001b[39;00m \u001b[43mfunc\u001b[49m\u001b[43m(\u001b[49m\u001b[38;5;241;43m*\u001b[39;49m\u001b[43margs\u001b[49m\u001b[43m,\u001b[49m\u001b[43m \u001b[49m\u001b[38;5;241;43m*\u001b[39;49m\u001b[38;5;241;43m*\u001b[39;49m\u001b[43mkwargs\u001b[49m\u001b[43m)\u001b[49m\n",
      "File \u001b[0;32m/media/wassname/SGIronWolf/projects5/elk/repr-preference-optimization/.venv/lib/python3.9/site-packages/lightning/pytorch/loops/optimization/automatic.py:129\u001b[0m, in \u001b[0;36mClosure.closure\u001b[0;34m(self, *args, **kwargs)\u001b[0m\n\u001b[1;32m    126\u001b[0m \u001b[38;5;129m@override\u001b[39m\n\u001b[1;32m    127\u001b[0m \u001b[38;5;129m@torch\u001b[39m\u001b[38;5;241m.\u001b[39menable_grad()\n\u001b[1;32m    128\u001b[0m \u001b[38;5;28;01mdef\u001b[39;00m \u001b[38;5;21mclosure\u001b[39m(\u001b[38;5;28mself\u001b[39m, \u001b[38;5;241m*\u001b[39margs: Any, \u001b[38;5;241m*\u001b[39m\u001b[38;5;241m*\u001b[39mkwargs: Any) \u001b[38;5;241m-\u001b[39m\u001b[38;5;241m>\u001b[39m ClosureResult:\n\u001b[0;32m--> 129\u001b[0m     step_output \u001b[38;5;241m=\u001b[39m \u001b[38;5;28;43mself\u001b[39;49m\u001b[38;5;241;43m.\u001b[39;49m\u001b[43m_step_fn\u001b[49m\u001b[43m(\u001b[49m\u001b[43m)\u001b[49m\n\u001b[1;32m    131\u001b[0m     \u001b[38;5;28;01mif\u001b[39;00m step_output\u001b[38;5;241m.\u001b[39mclosure_loss \u001b[38;5;129;01mis\u001b[39;00m \u001b[38;5;28;01mNone\u001b[39;00m:\n",
      "File \u001b[0;32m/media/wassname/SGIronWolf/projects5/elk/repr-preference-optimization/.venv/lib/python3.9/site-packages/lightning/pytorch/loops/optimization/automatic.py:317\u001b[0m, in \u001b[0;36m_AutomaticOptimization._training_step\u001b[0;34m(self, kwargs)\u001b[0m\n\u001b[1;32m    315\u001b[0m trainer \u001b[38;5;241m=\u001b[39m \u001b[38;5;28mself\u001b[39m\u001b[38;5;241m.\u001b[39mtrainer\n\u001b[0;32m--> 317\u001b[0m training_step_output \u001b[38;5;241m=\u001b[39m \u001b[43mcall\u001b[49m\u001b[38;5;241;43m.\u001b[39;49m\u001b[43m_call_strategy_hook\u001b[49m\u001b[43m(\u001b[49m\u001b[43mtrainer\u001b[49m\u001b[43m,\u001b[49m\u001b[43m \u001b[49m\u001b[38;5;124;43m\"\u001b[39;49m\u001b[38;5;124;43mtraining_step\u001b[39;49m\u001b[38;5;124;43m\"\u001b[39;49m\u001b[43m,\u001b[49m\u001b[43m \u001b[49m\u001b[38;5;241;43m*\u001b[39;49m\u001b[43mkwargs\u001b[49m\u001b[38;5;241;43m.\u001b[39;49m\u001b[43mvalues\u001b[49m\u001b[43m(\u001b[49m\u001b[43m)\u001b[49m\u001b[43m)\u001b[49m\n\u001b[1;32m    318\u001b[0m \u001b[38;5;28mself\u001b[39m\u001b[38;5;241m.\u001b[39mtrainer\u001b[38;5;241m.\u001b[39mstrategy\u001b[38;5;241m.\u001b[39mpost_training_step()  \u001b[38;5;66;03m# unused hook - call anyway for backward compatibility\u001b[39;00m\n",
      "File \u001b[0;32m/media/wassname/SGIronWolf/projects5/elk/repr-preference-optimization/.venv/lib/python3.9/site-packages/lightning/pytorch/trainer/call.py:319\u001b[0m, in \u001b[0;36m_call_strategy_hook\u001b[0;34m(trainer, hook_name, *args, **kwargs)\u001b[0m\n\u001b[1;32m    318\u001b[0m \u001b[38;5;28;01mwith\u001b[39;00m trainer\u001b[38;5;241m.\u001b[39mprofiler\u001b[38;5;241m.\u001b[39mprofile(\u001b[38;5;124mf\u001b[39m\u001b[38;5;124m\"\u001b[39m\u001b[38;5;124m[Strategy]\u001b[39m\u001b[38;5;132;01m{\u001b[39;00mtrainer\u001b[38;5;241m.\u001b[39mstrategy\u001b[38;5;241m.\u001b[39m\u001b[38;5;18m__class__\u001b[39m\u001b[38;5;241m.\u001b[39m\u001b[38;5;18m__name__\u001b[39m\u001b[38;5;132;01m}\u001b[39;00m\u001b[38;5;124m.\u001b[39m\u001b[38;5;132;01m{\u001b[39;00mhook_name\u001b[38;5;132;01m}\u001b[39;00m\u001b[38;5;124m\"\u001b[39m):\n\u001b[0;32m--> 319\u001b[0m     output \u001b[38;5;241m=\u001b[39m \u001b[43mfn\u001b[49m\u001b[43m(\u001b[49m\u001b[38;5;241;43m*\u001b[39;49m\u001b[43margs\u001b[49m\u001b[43m,\u001b[49m\u001b[43m \u001b[49m\u001b[38;5;241;43m*\u001b[39;49m\u001b[38;5;241;43m*\u001b[39;49m\u001b[43mkwargs\u001b[49m\u001b[43m)\u001b[49m\n\u001b[1;32m    321\u001b[0m \u001b[38;5;66;03m# restore current_fx when nested context\u001b[39;00m\n",
      "File \u001b[0;32m/media/wassname/SGIronWolf/projects5/elk/repr-preference-optimization/.venv/lib/python3.9/site-packages/lightning/pytorch/strategies/strategy.py:390\u001b[0m, in \u001b[0;36mStrategy.training_step\u001b[0;34m(self, *args, **kwargs)\u001b[0m\n\u001b[1;32m    389\u001b[0m     \u001b[38;5;28;01mreturn\u001b[39;00m \u001b[38;5;28mself\u001b[39m\u001b[38;5;241m.\u001b[39m_forward_redirection(\u001b[38;5;28mself\u001b[39m\u001b[38;5;241m.\u001b[39mmodel, \u001b[38;5;28mself\u001b[39m\u001b[38;5;241m.\u001b[39mlightning_module, \u001b[38;5;124m\"\u001b[39m\u001b[38;5;124mtraining_step\u001b[39m\u001b[38;5;124m\"\u001b[39m, \u001b[38;5;241m*\u001b[39margs, \u001b[38;5;241m*\u001b[39m\u001b[38;5;241m*\u001b[39mkwargs)\n\u001b[0;32m--> 390\u001b[0m \u001b[38;5;28;01mreturn\u001b[39;00m \u001b[38;5;28;43mself\u001b[39;49m\u001b[38;5;241;43m.\u001b[39;49m\u001b[43mlightning_module\u001b[49m\u001b[38;5;241;43m.\u001b[39;49m\u001b[43mtraining_step\u001b[49m\u001b[43m(\u001b[49m\u001b[38;5;241;43m*\u001b[39;49m\u001b[43margs\u001b[49m\u001b[43m,\u001b[49m\u001b[43m \u001b[49m\u001b[38;5;241;43m*\u001b[39;49m\u001b[38;5;241;43m*\u001b[39;49m\u001b[43mkwargs\u001b[49m\u001b[43m)\u001b[49m\n",
      "File \u001b[0;32m/media/wassname/SGIronWolf/projects5/elk/repr-preference-optimization/reprpo/train/lightning.py:57\u001b[0m, in \u001b[0;36mPL_MODEL.training_step\u001b[0;34m(self, batch, batch_idx)\u001b[0m\n\u001b[1;32m     56\u001b[0m \u001b[38;5;28;01mdef\u001b[39;00m \u001b[38;5;21mtraining_step\u001b[39m(\u001b[38;5;28mself\u001b[39m, batch, batch_idx):\n\u001b[0;32m---> 57\u001b[0m     \u001b[38;5;28;01mreturn\u001b[39;00m \u001b[38;5;28;43mself\u001b[39;49m\u001b[38;5;241;43m.\u001b[39;49m\u001b[43m_shared_step\u001b[49m\u001b[43m(\u001b[49m\u001b[43mbatch\u001b[49m\u001b[43m,\u001b[49m\u001b[43m \u001b[49m\u001b[43mbatch_idx\u001b[49m\u001b[43m,\u001b[49m\u001b[43m \u001b[49m\u001b[43mphase\u001b[49m\u001b[38;5;241;43m=\u001b[39;49m\u001b[38;5;124;43m\"\u001b[39;49m\u001b[38;5;124;43mtrain\u001b[39;49m\u001b[38;5;124;43m\"\u001b[39;49m\u001b[43m)\u001b[49m\n",
      "File \u001b[0;32m/media/wassname/SGIronWolf/projects5/elk/repr-preference-optimization/reprpo/train/lightning.py:42\u001b[0m, in \u001b[0;36mPL_MODEL._shared_step\u001b[0;34m(self, batch, batch_idx, phase)\u001b[0m\n\u001b[1;32m     41\u001b[0m \u001b[38;5;28;01mdef\u001b[39;00m \u001b[38;5;21m_shared_step\u001b[39m(\u001b[38;5;28mself\u001b[39m, batch, batch_idx, phase\u001b[38;5;241m=\u001b[39m\u001b[38;5;124m\"\u001b[39m\u001b[38;5;124mtrain\u001b[39m\u001b[38;5;124m\"\u001b[39m):\n\u001b[0;32m---> 42\u001b[0m     loss, info \u001b[38;5;241m=\u001b[39m \u001b[38;5;28;43mself\u001b[39;49m\u001b[38;5;241;43m.\u001b[39;49m\u001b[43m_loss_fn\u001b[49m\u001b[43m(\u001b[49m\u001b[43mbatch\u001b[49m\u001b[43m,\u001b[49m\u001b[43m \u001b[49m\u001b[38;5;28;43mself\u001b[39;49m\u001b[38;5;241;43m.\u001b[39;49m\u001b[43m_model\u001b[49m\u001b[43m)\u001b[49m\n\u001b[1;32m     44\u001b[0m     \u001b[38;5;28mself\u001b[39m\u001b[38;5;241m.\u001b[39mlog(\u001b[38;5;124mf\u001b[39m\u001b[38;5;124m\"\u001b[39m\u001b[38;5;132;01m{\u001b[39;00mphase\u001b[38;5;132;01m}\u001b[39;00m\u001b[38;5;124m/loss\u001b[39m\u001b[38;5;124m\"\u001b[39m, loss, on_epoch\u001b[38;5;241m=\u001b[39m\u001b[38;5;28;01mTrue\u001b[39;00m, on_step\u001b[38;5;241m=\u001b[39m\u001b[38;5;28;01mTrue\u001b[39;00m, prog_bar\u001b[38;5;241m=\u001b[39m\u001b[38;5;28;01mTrue\u001b[39;00m, batch_size\u001b[38;5;241m=\u001b[39m\u001b[38;5;28mself\u001b[39m\u001b[38;5;241m.\u001b[39mhparams\u001b[38;5;241m.\u001b[39mbatch_size)\n",
      "File \u001b[0;32m/media/wassname/SGIronWolf/projects5/elk/repr-preference-optimization/reprpo/train/reprpo_side.py:308\u001b[0m, in \u001b[0;36mPL_REPRPO_SIDE_MODEL._loss_fn\u001b[0;34m(self, batch, model)\u001b[0m\n\u001b[1;32m    307\u001b[0m \u001b[38;5;28;01mdef\u001b[39;00m \u001b[38;5;21m_loss_fn\u001b[39m(\u001b[38;5;28mself\u001b[39m, batch, model):\n\u001b[0;32m--> 308\u001b[0m     \u001b[38;5;28;01mreturn\u001b[39;00m \u001b[43mcompute_reprpo_side_loss_batch\u001b[49m\u001b[43m(\u001b[49m\n\u001b[1;32m    309\u001b[0m \u001b[43m        \u001b[49m\u001b[43mbatch\u001b[49m\u001b[43m,\u001b[49m\n\u001b[1;32m    310\u001b[0m \u001b[43m        \u001b[49m\u001b[43mmodel\u001b[49m\u001b[43m,\u001b[49m\n\u001b[1;32m    311\u001b[0m \u001b[43m        \u001b[49m\u001b[38;5;28;43mself\u001b[39;49m\u001b[38;5;241;43m.\u001b[39;49m\u001b[43mhparams\u001b[49m\u001b[38;5;241;43m.\u001b[39;49m\u001b[43mlayer_paths\u001b[49m\u001b[43m,\u001b[49m\n\u001b[1;32m    312\u001b[0m \u001b[43m        \u001b[49m\u001b[38;5;28;43mself\u001b[39;49m\u001b[38;5;241;43m.\u001b[39;49m\u001b[43mhparams\u001b[49m\u001b[38;5;241;43m.\u001b[39;49m\u001b[43malpha\u001b[49m\u001b[43m,\u001b[49m\n\u001b[1;32m    313\u001b[0m \u001b[43m        \u001b[49m\u001b[43mcollect_input\u001b[49m\u001b[38;5;241;43m=\u001b[39;49m\u001b[38;5;28;43mself\u001b[39;49m\u001b[38;5;241;43m.\u001b[39;49m\u001b[43mhparams\u001b[49m\u001b[38;5;241;43m.\u001b[39;49m\u001b[43mcollect_input\u001b[49m\u001b[43m,\u001b[49m\n\u001b[1;32m    314\u001b[0m \u001b[43m    \u001b[49m\u001b[43m)\u001b[49m\n",
      "File \u001b[0;32m/media/wassname/SGIronWolf/projects5/elk/repr-preference-optimization/reprpo/train/reprpo_side.py:210\u001b[0m, in \u001b[0;36mcompute_reprpo_side_loss_batch\u001b[0;34m(batch, model, layer_paths, alpha, collect_input)\u001b[0m\n\u001b[1;32m    209\u001b[0m \u001b[38;5;28;01mwith\u001b[39;00m model\u001b[38;5;241m.\u001b[39mdisable_adapter():\n\u001b[0;32m--> 210\u001b[0m     ref_cho \u001b[38;5;241m=\u001b[39m \u001b[43mreprpo_forward\u001b[49m\u001b[43m(\u001b[49m\n\u001b[1;32m    211\u001b[0m \u001b[43m        \u001b[49m\u001b[43mmodel\u001b[49m\u001b[38;5;241;43m=\u001b[39;49m\u001b[43mmodel\u001b[49m\u001b[43m,\u001b[49m\n\u001b[1;32m    212\u001b[0m \u001b[43m        \u001b[49m\u001b[43minput_ids\u001b[49m\u001b[38;5;241;43m=\u001b[39;49m\u001b[43mbatch\u001b[49m\u001b[43m[\u001b[49m\u001b[38;5;124;43m\"\u001b[39;49m\u001b[38;5;124;43mchosen\u001b[39;49m\u001b[38;5;124;43m\"\u001b[39;49m\u001b[43m]\u001b[49m\u001b[43m,\u001b[49m\n\u001b[1;32m    213\u001b[0m \u001b[43m        \u001b[49m\u001b[43mattn_mask\u001b[49m\u001b[38;5;241;43m=\u001b[39;49m\u001b[43mbatch\u001b[49m\u001b[43m[\u001b[49m\u001b[38;5;124;43m\"\u001b[39;49m\u001b[38;5;124;43mchosen_mask\u001b[39;49m\u001b[38;5;124;43m\"\u001b[39;49m\u001b[43m]\u001b[49m\u001b[43m,\u001b[49m\n\u001b[1;32m    214\u001b[0m \u001b[43m        \u001b[49m\u001b[43mlayer_paths\u001b[49m\u001b[38;5;241;43m=\u001b[39;49m\u001b[43mlayer_paths\u001b[49m\u001b[43m,\u001b[49m\n\u001b[1;32m    215\u001b[0m \u001b[43m        \u001b[49m\u001b[43mcollect_input\u001b[49m\u001b[38;5;241;43m=\u001b[39;49m\u001b[43mcollect_input\u001b[49m\u001b[43m,\u001b[49m\n\u001b[1;32m    216\u001b[0m \u001b[43m    \u001b[49m\u001b[43m)\u001b[49m\n\u001b[1;32m    217\u001b[0m     ref_rej \u001b[38;5;241m=\u001b[39m reprpo_forward(\n\u001b[1;32m    218\u001b[0m         model\u001b[38;5;241m=\u001b[39mmodel,\n\u001b[1;32m    219\u001b[0m         input_ids\u001b[38;5;241m=\u001b[39mbatch[\u001b[38;5;124m\"\u001b[39m\u001b[38;5;124mrejected\u001b[39m\u001b[38;5;124m\"\u001b[39m],\n\u001b[0;32m   (...)\u001b[0m\n\u001b[1;32m    222\u001b[0m         collect_input\u001b[38;5;241m=\u001b[39mcollect_input,\n\u001b[1;32m    223\u001b[0m     )\n",
      "File \u001b[0;32m/media/wassname/SGIronWolf/projects5/elk/repr-preference-optimization/reprpo/train/reprpo_side.py:99\u001b[0m, in \u001b[0;36mreprpo_forward\u001b[0;34m(model, input_ids, attn_mask, layer_paths, collect_input)\u001b[0m\n\u001b[1;32m     92\u001b[0m \u001b[38;5;28;01mwith\u001b[39;00m TraceDict(\n\u001b[1;32m     93\u001b[0m     model,\n\u001b[1;32m     94\u001b[0m     layer_paths,\n\u001b[0;32m   (...)\u001b[0m\n\u001b[1;32m     97\u001b[0m     retain_grad\u001b[38;5;241m=\u001b[39m\u001b[38;5;28;01mTrue\u001b[39;00m,\n\u001b[1;32m     98\u001b[0m ) \u001b[38;5;28;01mas\u001b[39;00m ret:\n\u001b[0;32m---> 99\u001b[0m     outs \u001b[38;5;241m=\u001b[39m \u001b[43mmodel\u001b[49m\u001b[43m(\u001b[49m\n\u001b[1;32m    100\u001b[0m \u001b[43m        \u001b[49m\u001b[43minput_ids\u001b[49m\u001b[43m,\u001b[49m\n\u001b[1;32m    101\u001b[0m \u001b[43m        \u001b[49m\u001b[43mattention_mask\u001b[49m\u001b[38;5;241;43m=\u001b[39;49m\u001b[43mattn_mask\u001b[49m\u001b[43m,\u001b[49m\n\u001b[1;32m    102\u001b[0m \u001b[43m        \u001b[49m\u001b[43muse_cache\u001b[49m\u001b[38;5;241;43m=\u001b[39;49m\u001b[38;5;28;43;01mFalse\u001b[39;49;00m\u001b[43m,\u001b[49m\n\u001b[1;32m    103\u001b[0m \u001b[43m        \u001b[49m\u001b[43mreturn_dict\u001b[49m\u001b[38;5;241;43m=\u001b[39;49m\u001b[38;5;28;43;01mTrue\u001b[39;49;00m\u001b[43m,\u001b[49m\n\u001b[1;32m    104\u001b[0m \u001b[43m        \u001b[49m\u001b[43moutput_hidden_states\u001b[49m\u001b[38;5;241;43m=\u001b[39;49m\u001b[38;5;28;43;01mTrue\u001b[39;49;00m\u001b[43m,\u001b[49m\n\u001b[1;32m    105\u001b[0m \u001b[43m    \u001b[49m\u001b[43m)\u001b[49m\n\u001b[1;32m    106\u001b[0m     \u001b[38;5;28;01mfor\u001b[39;00m p \u001b[38;5;129;01min\u001b[39;00m layer_paths:\n",
      "File \u001b[0;32m/media/wassname/SGIronWolf/projects5/elk/repr-preference-optimization/.venv/lib/python3.9/site-packages/torch/nn/modules/module.py:1532\u001b[0m, in \u001b[0;36mModule._wrapped_call_impl\u001b[0;34m(self, *args, **kwargs)\u001b[0m\n\u001b[1;32m   1531\u001b[0m \u001b[38;5;28;01melse\u001b[39;00m:\n\u001b[0;32m-> 1532\u001b[0m     \u001b[38;5;28;01mreturn\u001b[39;00m \u001b[38;5;28;43mself\u001b[39;49m\u001b[38;5;241;43m.\u001b[39;49m\u001b[43m_call_impl\u001b[49m\u001b[43m(\u001b[49m\u001b[38;5;241;43m*\u001b[39;49m\u001b[43margs\u001b[49m\u001b[43m,\u001b[49m\u001b[43m \u001b[49m\u001b[38;5;241;43m*\u001b[39;49m\u001b[38;5;241;43m*\u001b[39;49m\u001b[43mkwargs\u001b[49m\u001b[43m)\u001b[49m\n",
      "File \u001b[0;32m/media/wassname/SGIronWolf/projects5/elk/repr-preference-optimization/.venv/lib/python3.9/site-packages/torch/nn/modules/module.py:1541\u001b[0m, in \u001b[0;36mModule._call_impl\u001b[0;34m(self, *args, **kwargs)\u001b[0m\n\u001b[1;32m   1538\u001b[0m \u001b[38;5;28;01mif\u001b[39;00m \u001b[38;5;129;01mnot\u001b[39;00m (\u001b[38;5;28mself\u001b[39m\u001b[38;5;241m.\u001b[39m_backward_hooks \u001b[38;5;129;01mor\u001b[39;00m \u001b[38;5;28mself\u001b[39m\u001b[38;5;241m.\u001b[39m_backward_pre_hooks \u001b[38;5;129;01mor\u001b[39;00m \u001b[38;5;28mself\u001b[39m\u001b[38;5;241m.\u001b[39m_forward_hooks \u001b[38;5;129;01mor\u001b[39;00m \u001b[38;5;28mself\u001b[39m\u001b[38;5;241m.\u001b[39m_forward_pre_hooks\n\u001b[1;32m   1539\u001b[0m         \u001b[38;5;129;01mor\u001b[39;00m _global_backward_pre_hooks \u001b[38;5;129;01mor\u001b[39;00m _global_backward_hooks\n\u001b[1;32m   1540\u001b[0m         \u001b[38;5;129;01mor\u001b[39;00m _global_forward_hooks \u001b[38;5;129;01mor\u001b[39;00m _global_forward_pre_hooks):\n\u001b[0;32m-> 1541\u001b[0m     \u001b[38;5;28;01mreturn\u001b[39;00m \u001b[43mforward_call\u001b[49m\u001b[43m(\u001b[49m\u001b[38;5;241;43m*\u001b[39;49m\u001b[43margs\u001b[49m\u001b[43m,\u001b[49m\u001b[43m \u001b[49m\u001b[38;5;241;43m*\u001b[39;49m\u001b[38;5;241;43m*\u001b[39;49m\u001b[43mkwargs\u001b[49m\u001b[43m)\u001b[49m\n\u001b[1;32m   1543\u001b[0m \u001b[38;5;28;01mtry\u001b[39;00m:\n",
      "File \u001b[0;32m/media/wassname/SGIronWolf/projects5/elk/repr-preference-optimization/.venv/lib/python3.9/site-packages/peft/peft_model.py:1577\u001b[0m, in \u001b[0;36mPeftModelForCausalLM.forward\u001b[0;34m(self, input_ids, attention_mask, inputs_embeds, labels, output_attentions, output_hidden_states, return_dict, task_ids, **kwargs)\u001b[0m\n\u001b[1;32m   1576\u001b[0m         kwargs \u001b[38;5;241m=\u001b[39m {k: v \u001b[38;5;28;01mfor\u001b[39;00m k, v \u001b[38;5;129;01min\u001b[39;00m kwargs\u001b[38;5;241m.\u001b[39mitems() \u001b[38;5;28;01mif\u001b[39;00m k \u001b[38;5;129;01mnot\u001b[39;00m \u001b[38;5;129;01min\u001b[39;00m \u001b[38;5;28mself\u001b[39m\u001b[38;5;241m.\u001b[39mspecial_peft_forward_args}\n\u001b[0;32m-> 1577\u001b[0m         \u001b[38;5;28;01mreturn\u001b[39;00m \u001b[38;5;28;43mself\u001b[39;49m\u001b[38;5;241;43m.\u001b[39;49m\u001b[43mbase_model\u001b[49m\u001b[43m(\u001b[49m\n\u001b[1;32m   1578\u001b[0m \u001b[43m            \u001b[49m\u001b[43minput_ids\u001b[49m\u001b[38;5;241;43m=\u001b[39;49m\u001b[43minput_ids\u001b[49m\u001b[43m,\u001b[49m\n\u001b[1;32m   1579\u001b[0m \u001b[43m            \u001b[49m\u001b[43mattention_mask\u001b[49m\u001b[38;5;241;43m=\u001b[39;49m\u001b[43mattention_mask\u001b[49m\u001b[43m,\u001b[49m\n\u001b[1;32m   1580\u001b[0m \u001b[43m            \u001b[49m\u001b[43minputs_embeds\u001b[49m\u001b[38;5;241;43m=\u001b[39;49m\u001b[43minputs_embeds\u001b[49m\u001b[43m,\u001b[49m\n\u001b[1;32m   1581\u001b[0m \u001b[43m            \u001b[49m\u001b[43mlabels\u001b[49m\u001b[38;5;241;43m=\u001b[39;49m\u001b[43mlabels\u001b[49m\u001b[43m,\u001b[49m\n\u001b[1;32m   1582\u001b[0m \u001b[43m            \u001b[49m\u001b[43moutput_attentions\u001b[49m\u001b[38;5;241;43m=\u001b[39;49m\u001b[43moutput_attentions\u001b[49m\u001b[43m,\u001b[49m\n\u001b[1;32m   1583\u001b[0m \u001b[43m            \u001b[49m\u001b[43moutput_hidden_states\u001b[49m\u001b[38;5;241;43m=\u001b[39;49m\u001b[43moutput_hidden_states\u001b[49m\u001b[43m,\u001b[49m\n\u001b[1;32m   1584\u001b[0m \u001b[43m            \u001b[49m\u001b[43mreturn_dict\u001b[49m\u001b[38;5;241;43m=\u001b[39;49m\u001b[43mreturn_dict\u001b[49m\u001b[43m,\u001b[49m\n\u001b[1;32m   1585\u001b[0m \u001b[43m            \u001b[49m\u001b[38;5;241;43m*\u001b[39;49m\u001b[38;5;241;43m*\u001b[39;49m\u001b[43mkwargs\u001b[49m\u001b[43m,\u001b[49m\n\u001b[1;32m   1586\u001b[0m \u001b[43m        \u001b[49m\u001b[43m)\u001b[49m\n\u001b[1;32m   1588\u001b[0m batch_size \u001b[38;5;241m=\u001b[39m _get_batch_size(input_ids, inputs_embeds)\n",
      "File \u001b[0;32m/media/wassname/SGIronWolf/projects5/elk/repr-preference-optimization/.venv/lib/python3.9/site-packages/torch/nn/modules/module.py:1532\u001b[0m, in \u001b[0;36mModule._wrapped_call_impl\u001b[0;34m(self, *args, **kwargs)\u001b[0m\n\u001b[1;32m   1531\u001b[0m \u001b[38;5;28;01melse\u001b[39;00m:\n\u001b[0;32m-> 1532\u001b[0m     \u001b[38;5;28;01mreturn\u001b[39;00m \u001b[38;5;28;43mself\u001b[39;49m\u001b[38;5;241;43m.\u001b[39;49m\u001b[43m_call_impl\u001b[49m\u001b[43m(\u001b[49m\u001b[38;5;241;43m*\u001b[39;49m\u001b[43margs\u001b[49m\u001b[43m,\u001b[49m\u001b[43m \u001b[49m\u001b[38;5;241;43m*\u001b[39;49m\u001b[38;5;241;43m*\u001b[39;49m\u001b[43mkwargs\u001b[49m\u001b[43m)\u001b[49m\n",
      "File \u001b[0;32m/media/wassname/SGIronWolf/projects5/elk/repr-preference-optimization/.venv/lib/python3.9/site-packages/torch/nn/modules/module.py:1541\u001b[0m, in \u001b[0;36mModule._call_impl\u001b[0;34m(self, *args, **kwargs)\u001b[0m\n\u001b[1;32m   1538\u001b[0m \u001b[38;5;28;01mif\u001b[39;00m \u001b[38;5;129;01mnot\u001b[39;00m (\u001b[38;5;28mself\u001b[39m\u001b[38;5;241m.\u001b[39m_backward_hooks \u001b[38;5;129;01mor\u001b[39;00m \u001b[38;5;28mself\u001b[39m\u001b[38;5;241m.\u001b[39m_backward_pre_hooks \u001b[38;5;129;01mor\u001b[39;00m \u001b[38;5;28mself\u001b[39m\u001b[38;5;241m.\u001b[39m_forward_hooks \u001b[38;5;129;01mor\u001b[39;00m \u001b[38;5;28mself\u001b[39m\u001b[38;5;241m.\u001b[39m_forward_pre_hooks\n\u001b[1;32m   1539\u001b[0m         \u001b[38;5;129;01mor\u001b[39;00m _global_backward_pre_hooks \u001b[38;5;129;01mor\u001b[39;00m _global_backward_hooks\n\u001b[1;32m   1540\u001b[0m         \u001b[38;5;129;01mor\u001b[39;00m _global_forward_hooks \u001b[38;5;129;01mor\u001b[39;00m _global_forward_pre_hooks):\n\u001b[0;32m-> 1541\u001b[0m     \u001b[38;5;28;01mreturn\u001b[39;00m \u001b[43mforward_call\u001b[49m\u001b[43m(\u001b[49m\u001b[38;5;241;43m*\u001b[39;49m\u001b[43margs\u001b[49m\u001b[43m,\u001b[49m\u001b[43m \u001b[49m\u001b[38;5;241;43m*\u001b[39;49m\u001b[38;5;241;43m*\u001b[39;49m\u001b[43mkwargs\u001b[49m\u001b[43m)\u001b[49m\n\u001b[1;32m   1543\u001b[0m \u001b[38;5;28;01mtry\u001b[39;00m:\n",
      "File \u001b[0;32m/media/wassname/SGIronWolf/projects5/elk/repr-preference-optimization/.venv/lib/python3.9/site-packages/peft/tuners/tuners_utils.py:188\u001b[0m, in \u001b[0;36mBaseTuner.forward\u001b[0;34m(self, *args, **kwargs)\u001b[0m\n\u001b[1;32m    187\u001b[0m \u001b[38;5;28;01mdef\u001b[39;00m \u001b[38;5;21mforward\u001b[39m(\u001b[38;5;28mself\u001b[39m, \u001b[38;5;241m*\u001b[39margs: Any, \u001b[38;5;241m*\u001b[39m\u001b[38;5;241m*\u001b[39mkwargs: Any):\n\u001b[0;32m--> 188\u001b[0m     \u001b[38;5;28;01mreturn\u001b[39;00m \u001b[38;5;28;43mself\u001b[39;49m\u001b[38;5;241;43m.\u001b[39;49m\u001b[43mmodel\u001b[49m\u001b[38;5;241;43m.\u001b[39;49m\u001b[43mforward\u001b[49m\u001b[43m(\u001b[49m\u001b[38;5;241;43m*\u001b[39;49m\u001b[43margs\u001b[49m\u001b[43m,\u001b[49m\u001b[43m \u001b[49m\u001b[38;5;241;43m*\u001b[39;49m\u001b[38;5;241;43m*\u001b[39;49m\u001b[43mkwargs\u001b[49m\u001b[43m)\u001b[49m\n",
      "File \u001b[0;32m/media/wassname/SGIronWolf/projects5/elk/repr-preference-optimization/.venv/lib/python3.9/site-packages/accelerate/hooks.py:169\u001b[0m, in \u001b[0;36madd_hook_to_module.<locals>.new_forward\u001b[0;34m(module, *args, **kwargs)\u001b[0m\n\u001b[1;32m    168\u001b[0m \u001b[38;5;28;01melse\u001b[39;00m:\n\u001b[0;32m--> 169\u001b[0m     output \u001b[38;5;241m=\u001b[39m \u001b[43mmodule\u001b[49m\u001b[38;5;241;43m.\u001b[39;49m\u001b[43m_old_forward\u001b[49m\u001b[43m(\u001b[49m\u001b[38;5;241;43m*\u001b[39;49m\u001b[43margs\u001b[49m\u001b[43m,\u001b[49m\u001b[43m \u001b[49m\u001b[38;5;241;43m*\u001b[39;49m\u001b[38;5;241;43m*\u001b[39;49m\u001b[43mkwargs\u001b[49m\u001b[43m)\u001b[49m\n\u001b[1;32m    170\u001b[0m \u001b[38;5;28;01mreturn\u001b[39;00m module\u001b[38;5;241m.\u001b[39m_hf_hook\u001b[38;5;241m.\u001b[39mpost_forward(module, output)\n",
      "File \u001b[0;32m/media/wassname/SGIronWolf/projects5/elk/repr-preference-optimization/.venv/lib/python3.9/site-packages/transformers/models/phi3/modeling_phi3.py:1203\u001b[0m, in \u001b[0;36mPhi3ForCausalLM.forward\u001b[0;34m(self, input_ids, attention_mask, position_ids, past_key_values, inputs_embeds, labels, use_cache, output_attentions, output_hidden_states, return_dict, cache_position)\u001b[0m\n\u001b[1;32m   1202\u001b[0m \u001b[38;5;66;03m# decoder outputs consists of (dec_features, layer_state, dec_hidden, dec_attn)\u001b[39;00m\n\u001b[0;32m-> 1203\u001b[0m outputs \u001b[38;5;241m=\u001b[39m \u001b[38;5;28;43mself\u001b[39;49m\u001b[38;5;241;43m.\u001b[39;49m\u001b[43mmodel\u001b[49m\u001b[43m(\u001b[49m\n\u001b[1;32m   1204\u001b[0m \u001b[43m    \u001b[49m\u001b[43minput_ids\u001b[49m\u001b[38;5;241;43m=\u001b[39;49m\u001b[43minput_ids\u001b[49m\u001b[43m,\u001b[49m\n\u001b[1;32m   1205\u001b[0m \u001b[43m    \u001b[49m\u001b[43mattention_mask\u001b[49m\u001b[38;5;241;43m=\u001b[39;49m\u001b[43mattention_mask\u001b[49m\u001b[43m,\u001b[49m\n\u001b[1;32m   1206\u001b[0m \u001b[43m    \u001b[49m\u001b[43mposition_ids\u001b[49m\u001b[38;5;241;43m=\u001b[39;49m\u001b[43mposition_ids\u001b[49m\u001b[43m,\u001b[49m\n\u001b[1;32m   1207\u001b[0m \u001b[43m    \u001b[49m\u001b[43mpast_key_values\u001b[49m\u001b[38;5;241;43m=\u001b[39;49m\u001b[43mpast_key_values\u001b[49m\u001b[43m,\u001b[49m\n\u001b[1;32m   1208\u001b[0m \u001b[43m    \u001b[49m\u001b[43minputs_embeds\u001b[49m\u001b[38;5;241;43m=\u001b[39;49m\u001b[43minputs_embeds\u001b[49m\u001b[43m,\u001b[49m\n\u001b[1;32m   1209\u001b[0m \u001b[43m    \u001b[49m\u001b[43muse_cache\u001b[49m\u001b[38;5;241;43m=\u001b[39;49m\u001b[43muse_cache\u001b[49m\u001b[43m,\u001b[49m\n\u001b[1;32m   1210\u001b[0m \u001b[43m    \u001b[49m\u001b[43moutput_attentions\u001b[49m\u001b[38;5;241;43m=\u001b[39;49m\u001b[43moutput_attentions\u001b[49m\u001b[43m,\u001b[49m\n\u001b[1;32m   1211\u001b[0m \u001b[43m    \u001b[49m\u001b[43moutput_hidden_states\u001b[49m\u001b[38;5;241;43m=\u001b[39;49m\u001b[43moutput_hidden_states\u001b[49m\u001b[43m,\u001b[49m\n\u001b[1;32m   1212\u001b[0m \u001b[43m    \u001b[49m\u001b[43mreturn_dict\u001b[49m\u001b[38;5;241;43m=\u001b[39;49m\u001b[43mreturn_dict\u001b[49m\u001b[43m,\u001b[49m\n\u001b[1;32m   1213\u001b[0m \u001b[43m\u001b[49m\u001b[43m)\u001b[49m\n\u001b[1;32m   1215\u001b[0m hidden_states \u001b[38;5;241m=\u001b[39m outputs[\u001b[38;5;241m0\u001b[39m]\n",
      "File \u001b[0;32m/media/wassname/SGIronWolf/projects5/elk/repr-preference-optimization/.venv/lib/python3.9/site-packages/torch/nn/modules/module.py:1532\u001b[0m, in \u001b[0;36mModule._wrapped_call_impl\u001b[0;34m(self, *args, **kwargs)\u001b[0m\n\u001b[1;32m   1531\u001b[0m \u001b[38;5;28;01melse\u001b[39;00m:\n\u001b[0;32m-> 1532\u001b[0m     \u001b[38;5;28;01mreturn\u001b[39;00m \u001b[38;5;28;43mself\u001b[39;49m\u001b[38;5;241;43m.\u001b[39;49m\u001b[43m_call_impl\u001b[49m\u001b[43m(\u001b[49m\u001b[38;5;241;43m*\u001b[39;49m\u001b[43margs\u001b[49m\u001b[43m,\u001b[49m\u001b[43m \u001b[49m\u001b[38;5;241;43m*\u001b[39;49m\u001b[38;5;241;43m*\u001b[39;49m\u001b[43mkwargs\u001b[49m\u001b[43m)\u001b[49m\n",
      "File \u001b[0;32m/media/wassname/SGIronWolf/projects5/elk/repr-preference-optimization/.venv/lib/python3.9/site-packages/torch/nn/modules/module.py:1541\u001b[0m, in \u001b[0;36mModule._call_impl\u001b[0;34m(self, *args, **kwargs)\u001b[0m\n\u001b[1;32m   1538\u001b[0m \u001b[38;5;28;01mif\u001b[39;00m \u001b[38;5;129;01mnot\u001b[39;00m (\u001b[38;5;28mself\u001b[39m\u001b[38;5;241m.\u001b[39m_backward_hooks \u001b[38;5;129;01mor\u001b[39;00m \u001b[38;5;28mself\u001b[39m\u001b[38;5;241m.\u001b[39m_backward_pre_hooks \u001b[38;5;129;01mor\u001b[39;00m \u001b[38;5;28mself\u001b[39m\u001b[38;5;241m.\u001b[39m_forward_hooks \u001b[38;5;129;01mor\u001b[39;00m \u001b[38;5;28mself\u001b[39m\u001b[38;5;241m.\u001b[39m_forward_pre_hooks\n\u001b[1;32m   1539\u001b[0m         \u001b[38;5;129;01mor\u001b[39;00m _global_backward_pre_hooks \u001b[38;5;129;01mor\u001b[39;00m _global_backward_hooks\n\u001b[1;32m   1540\u001b[0m         \u001b[38;5;129;01mor\u001b[39;00m _global_forward_hooks \u001b[38;5;129;01mor\u001b[39;00m _global_forward_pre_hooks):\n\u001b[0;32m-> 1541\u001b[0m     \u001b[38;5;28;01mreturn\u001b[39;00m \u001b[43mforward_call\u001b[49m\u001b[43m(\u001b[49m\u001b[38;5;241;43m*\u001b[39;49m\u001b[43margs\u001b[49m\u001b[43m,\u001b[49m\u001b[43m \u001b[49m\u001b[38;5;241;43m*\u001b[39;49m\u001b[38;5;241;43m*\u001b[39;49m\u001b[43mkwargs\u001b[49m\u001b[43m)\u001b[49m\n\u001b[1;32m   1543\u001b[0m \u001b[38;5;28;01mtry\u001b[39;00m:\n",
      "File \u001b[0;32m/media/wassname/SGIronWolf/projects5/elk/repr-preference-optimization/.venv/lib/python3.9/site-packages/accelerate/hooks.py:169\u001b[0m, in \u001b[0;36madd_hook_to_module.<locals>.new_forward\u001b[0;34m(module, *args, **kwargs)\u001b[0m\n\u001b[1;32m    168\u001b[0m \u001b[38;5;28;01melse\u001b[39;00m:\n\u001b[0;32m--> 169\u001b[0m     output \u001b[38;5;241m=\u001b[39m \u001b[43mmodule\u001b[49m\u001b[38;5;241;43m.\u001b[39;49m\u001b[43m_old_forward\u001b[49m\u001b[43m(\u001b[49m\u001b[38;5;241;43m*\u001b[39;49m\u001b[43margs\u001b[49m\u001b[43m,\u001b[49m\u001b[43m \u001b[49m\u001b[38;5;241;43m*\u001b[39;49m\u001b[38;5;241;43m*\u001b[39;49m\u001b[43mkwargs\u001b[49m\u001b[43m)\u001b[49m\n\u001b[1;32m    170\u001b[0m \u001b[38;5;28;01mreturn\u001b[39;00m module\u001b[38;5;241m.\u001b[39m_hf_hook\u001b[38;5;241m.\u001b[39mpost_forward(module, output)\n",
      "File \u001b[0;32m/media/wassname/SGIronWolf/projects5/elk/repr-preference-optimization/.venv/lib/python3.9/site-packages/transformers/models/phi3/modeling_phi3.py:998\u001b[0m, in \u001b[0;36mPhi3Model.forward\u001b[0;34m(self, input_ids, attention_mask, position_ids, past_key_values, inputs_embeds, use_cache, output_attentions, output_hidden_states, return_dict, cache_position)\u001b[0m\n\u001b[1;32m    997\u001b[0m \u001b[38;5;28;01melse\u001b[39;00m:\n\u001b[0;32m--> 998\u001b[0m     layer_outputs \u001b[38;5;241m=\u001b[39m \u001b[43mdecoder_layer\u001b[49m\u001b[43m(\u001b[49m\n\u001b[1;32m    999\u001b[0m \u001b[43m        \u001b[49m\u001b[43mhidden_states\u001b[49m\u001b[43m,\u001b[49m\n\u001b[1;32m   1000\u001b[0m \u001b[43m        \u001b[49m\u001b[43mattention_mask\u001b[49m\u001b[38;5;241;43m=\u001b[39;49m\u001b[43mcausal_mask\u001b[49m\u001b[43m,\u001b[49m\n\u001b[1;32m   1001\u001b[0m \u001b[43m        \u001b[49m\u001b[43mposition_ids\u001b[49m\u001b[38;5;241;43m=\u001b[39;49m\u001b[43mposition_ids\u001b[49m\u001b[43m,\u001b[49m\n\u001b[1;32m   1002\u001b[0m \u001b[43m        \u001b[49m\u001b[43mpast_key_value\u001b[49m\u001b[38;5;241;43m=\u001b[39;49m\u001b[43mpast_key_values\u001b[49m\u001b[43m,\u001b[49m\n\u001b[1;32m   1003\u001b[0m \u001b[43m        \u001b[49m\u001b[43moutput_attentions\u001b[49m\u001b[38;5;241;43m=\u001b[39;49m\u001b[43moutput_attentions\u001b[49m\u001b[43m,\u001b[49m\n\u001b[1;32m   1004\u001b[0m \u001b[43m        \u001b[49m\u001b[43muse_cache\u001b[49m\u001b[38;5;241;43m=\u001b[39;49m\u001b[43muse_cache\u001b[49m\u001b[43m,\u001b[49m\n\u001b[1;32m   1005\u001b[0m \u001b[43m        \u001b[49m\u001b[43mcache_position\u001b[49m\u001b[38;5;241;43m=\u001b[39;49m\u001b[43mcache_position\u001b[49m\u001b[43m,\u001b[49m\n\u001b[1;32m   1006\u001b[0m \u001b[43m    \u001b[49m\u001b[43m)\u001b[49m\n\u001b[1;32m   1008\u001b[0m hidden_states \u001b[38;5;241m=\u001b[39m layer_outputs[\u001b[38;5;241m0\u001b[39m]\n",
      "File \u001b[0;32m/media/wassname/SGIronWolf/projects5/elk/repr-preference-optimization/.venv/lib/python3.9/site-packages/torch/nn/modules/module.py:1532\u001b[0m, in \u001b[0;36mModule._wrapped_call_impl\u001b[0;34m(self, *args, **kwargs)\u001b[0m\n\u001b[1;32m   1531\u001b[0m \u001b[38;5;28;01melse\u001b[39;00m:\n\u001b[0;32m-> 1532\u001b[0m     \u001b[38;5;28;01mreturn\u001b[39;00m \u001b[38;5;28;43mself\u001b[39;49m\u001b[38;5;241;43m.\u001b[39;49m\u001b[43m_call_impl\u001b[49m\u001b[43m(\u001b[49m\u001b[38;5;241;43m*\u001b[39;49m\u001b[43margs\u001b[49m\u001b[43m,\u001b[49m\u001b[43m \u001b[49m\u001b[38;5;241;43m*\u001b[39;49m\u001b[38;5;241;43m*\u001b[39;49m\u001b[43mkwargs\u001b[49m\u001b[43m)\u001b[49m\n",
      "File \u001b[0;32m/media/wassname/SGIronWolf/projects5/elk/repr-preference-optimization/.venv/lib/python3.9/site-packages/torch/nn/modules/module.py:1541\u001b[0m, in \u001b[0;36mModule._call_impl\u001b[0;34m(self, *args, **kwargs)\u001b[0m\n\u001b[1;32m   1538\u001b[0m \u001b[38;5;28;01mif\u001b[39;00m \u001b[38;5;129;01mnot\u001b[39;00m (\u001b[38;5;28mself\u001b[39m\u001b[38;5;241m.\u001b[39m_backward_hooks \u001b[38;5;129;01mor\u001b[39;00m \u001b[38;5;28mself\u001b[39m\u001b[38;5;241m.\u001b[39m_backward_pre_hooks \u001b[38;5;129;01mor\u001b[39;00m \u001b[38;5;28mself\u001b[39m\u001b[38;5;241m.\u001b[39m_forward_hooks \u001b[38;5;129;01mor\u001b[39;00m \u001b[38;5;28mself\u001b[39m\u001b[38;5;241m.\u001b[39m_forward_pre_hooks\n\u001b[1;32m   1539\u001b[0m         \u001b[38;5;129;01mor\u001b[39;00m _global_backward_pre_hooks \u001b[38;5;129;01mor\u001b[39;00m _global_backward_hooks\n\u001b[1;32m   1540\u001b[0m         \u001b[38;5;129;01mor\u001b[39;00m _global_forward_hooks \u001b[38;5;129;01mor\u001b[39;00m _global_forward_pre_hooks):\n\u001b[0;32m-> 1541\u001b[0m     \u001b[38;5;28;01mreturn\u001b[39;00m \u001b[43mforward_call\u001b[49m\u001b[43m(\u001b[49m\u001b[38;5;241;43m*\u001b[39;49m\u001b[43margs\u001b[49m\u001b[43m,\u001b[49m\u001b[43m \u001b[49m\u001b[38;5;241;43m*\u001b[39;49m\u001b[38;5;241;43m*\u001b[39;49m\u001b[43mkwargs\u001b[49m\u001b[43m)\u001b[49m\n\u001b[1;32m   1543\u001b[0m \u001b[38;5;28;01mtry\u001b[39;00m:\n",
      "File \u001b[0;32m/media/wassname/SGIronWolf/projects5/elk/repr-preference-optimization/.venv/lib/python3.9/site-packages/accelerate/hooks.py:169\u001b[0m, in \u001b[0;36madd_hook_to_module.<locals>.new_forward\u001b[0;34m(module, *args, **kwargs)\u001b[0m\n\u001b[1;32m    168\u001b[0m \u001b[38;5;28;01melse\u001b[39;00m:\n\u001b[0;32m--> 169\u001b[0m     output \u001b[38;5;241m=\u001b[39m \u001b[43mmodule\u001b[49m\u001b[38;5;241;43m.\u001b[39;49m\u001b[43m_old_forward\u001b[49m\u001b[43m(\u001b[49m\u001b[38;5;241;43m*\u001b[39;49m\u001b[43margs\u001b[49m\u001b[43m,\u001b[49m\u001b[43m \u001b[49m\u001b[38;5;241;43m*\u001b[39;49m\u001b[38;5;241;43m*\u001b[39;49m\u001b[43mkwargs\u001b[49m\u001b[43m)\u001b[49m\n\u001b[1;32m    170\u001b[0m \u001b[38;5;28;01mreturn\u001b[39;00m module\u001b[38;5;241m.\u001b[39m_hf_hook\u001b[38;5;241m.\u001b[39mpost_forward(module, output)\n",
      "File \u001b[0;32m/media/wassname/SGIronWolf/projects5/elk/repr-preference-optimization/.venv/lib/python3.9/site-packages/transformers/models/phi3/modeling_phi3.py:735\u001b[0m, in \u001b[0;36mPhi3DecoderLayer.forward\u001b[0;34m(self, hidden_states, attention_mask, position_ids, past_key_value, output_attentions, use_cache, cache_position, **kwargs)\u001b[0m\n\u001b[1;32m    734\u001b[0m \u001b[38;5;66;03m# Self Attention\u001b[39;00m\n\u001b[0;32m--> 735\u001b[0m attn_outputs, self_attn_weights, present_key_value \u001b[38;5;241m=\u001b[39m \u001b[38;5;28;43mself\u001b[39;49m\u001b[38;5;241;43m.\u001b[39;49m\u001b[43mself_attn\u001b[49m\u001b[43m(\u001b[49m\n\u001b[1;32m    736\u001b[0m \u001b[43m    \u001b[49m\u001b[43mhidden_states\u001b[49m\u001b[38;5;241;43m=\u001b[39;49m\u001b[43mhidden_states\u001b[49m\u001b[43m,\u001b[49m\n\u001b[1;32m    737\u001b[0m \u001b[43m    \u001b[49m\u001b[43mattention_mask\u001b[49m\u001b[38;5;241;43m=\u001b[39;49m\u001b[43mattention_mask\u001b[49m\u001b[43m,\u001b[49m\n\u001b[1;32m    738\u001b[0m \u001b[43m    \u001b[49m\u001b[43mposition_ids\u001b[49m\u001b[38;5;241;43m=\u001b[39;49m\u001b[43mposition_ids\u001b[49m\u001b[43m,\u001b[49m\n\u001b[1;32m    739\u001b[0m \u001b[43m    \u001b[49m\u001b[43mpast_key_value\u001b[49m\u001b[38;5;241;43m=\u001b[39;49m\u001b[43mpast_key_value\u001b[49m\u001b[43m,\u001b[49m\n\u001b[1;32m    740\u001b[0m \u001b[43m    \u001b[49m\u001b[43moutput_attentions\u001b[49m\u001b[38;5;241;43m=\u001b[39;49m\u001b[43moutput_attentions\u001b[49m\u001b[43m,\u001b[49m\n\u001b[1;32m    741\u001b[0m \u001b[43m    \u001b[49m\u001b[43muse_cache\u001b[49m\u001b[38;5;241;43m=\u001b[39;49m\u001b[43muse_cache\u001b[49m\u001b[43m,\u001b[49m\n\u001b[1;32m    742\u001b[0m \u001b[43m    \u001b[49m\u001b[43mcache_position\u001b[49m\u001b[38;5;241;43m=\u001b[39;49m\u001b[43mcache_position\u001b[49m\u001b[43m,\u001b[49m\n\u001b[1;32m    743\u001b[0m \u001b[43m\u001b[49m\u001b[43m)\u001b[49m\n\u001b[1;32m    745\u001b[0m hidden_states \u001b[38;5;241m=\u001b[39m residual \u001b[38;5;241m+\u001b[39m \u001b[38;5;28mself\u001b[39m\u001b[38;5;241m.\u001b[39mresid_attn_dropout(attn_outputs)\n",
      "File \u001b[0;32m/media/wassname/SGIronWolf/projects5/elk/repr-preference-optimization/.venv/lib/python3.9/site-packages/torch/nn/modules/module.py:1532\u001b[0m, in \u001b[0;36mModule._wrapped_call_impl\u001b[0;34m(self, *args, **kwargs)\u001b[0m\n\u001b[1;32m   1531\u001b[0m \u001b[38;5;28;01melse\u001b[39;00m:\n\u001b[0;32m-> 1532\u001b[0m     \u001b[38;5;28;01mreturn\u001b[39;00m \u001b[38;5;28;43mself\u001b[39;49m\u001b[38;5;241;43m.\u001b[39;49m\u001b[43m_call_impl\u001b[49m\u001b[43m(\u001b[49m\u001b[38;5;241;43m*\u001b[39;49m\u001b[43margs\u001b[49m\u001b[43m,\u001b[49m\u001b[43m \u001b[49m\u001b[38;5;241;43m*\u001b[39;49m\u001b[38;5;241;43m*\u001b[39;49m\u001b[43mkwargs\u001b[49m\u001b[43m)\u001b[49m\n",
      "File \u001b[0;32m/media/wassname/SGIronWolf/projects5/elk/repr-preference-optimization/.venv/lib/python3.9/site-packages/torch/nn/modules/module.py:1541\u001b[0m, in \u001b[0;36mModule._call_impl\u001b[0;34m(self, *args, **kwargs)\u001b[0m\n\u001b[1;32m   1538\u001b[0m \u001b[38;5;28;01mif\u001b[39;00m \u001b[38;5;129;01mnot\u001b[39;00m (\u001b[38;5;28mself\u001b[39m\u001b[38;5;241m.\u001b[39m_backward_hooks \u001b[38;5;129;01mor\u001b[39;00m \u001b[38;5;28mself\u001b[39m\u001b[38;5;241m.\u001b[39m_backward_pre_hooks \u001b[38;5;129;01mor\u001b[39;00m \u001b[38;5;28mself\u001b[39m\u001b[38;5;241m.\u001b[39m_forward_hooks \u001b[38;5;129;01mor\u001b[39;00m \u001b[38;5;28mself\u001b[39m\u001b[38;5;241m.\u001b[39m_forward_pre_hooks\n\u001b[1;32m   1539\u001b[0m         \u001b[38;5;129;01mor\u001b[39;00m _global_backward_pre_hooks \u001b[38;5;129;01mor\u001b[39;00m _global_backward_hooks\n\u001b[1;32m   1540\u001b[0m         \u001b[38;5;129;01mor\u001b[39;00m _global_forward_hooks \u001b[38;5;129;01mor\u001b[39;00m _global_forward_pre_hooks):\n\u001b[0;32m-> 1541\u001b[0m     \u001b[38;5;28;01mreturn\u001b[39;00m \u001b[43mforward_call\u001b[49m\u001b[43m(\u001b[49m\u001b[38;5;241;43m*\u001b[39;49m\u001b[43margs\u001b[49m\u001b[43m,\u001b[49m\u001b[43m \u001b[49m\u001b[38;5;241;43m*\u001b[39;49m\u001b[38;5;241;43m*\u001b[39;49m\u001b[43mkwargs\u001b[49m\u001b[43m)\u001b[49m\n\u001b[1;32m   1543\u001b[0m \u001b[38;5;28;01mtry\u001b[39;00m:\n",
      "File \u001b[0;32m/media/wassname/SGIronWolf/projects5/elk/repr-preference-optimization/.venv/lib/python3.9/site-packages/accelerate/hooks.py:169\u001b[0m, in \u001b[0;36madd_hook_to_module.<locals>.new_forward\u001b[0;34m(module, *args, **kwargs)\u001b[0m\n\u001b[1;32m    168\u001b[0m \u001b[38;5;28;01melse\u001b[39;00m:\n\u001b[0;32m--> 169\u001b[0m     output \u001b[38;5;241m=\u001b[39m \u001b[43mmodule\u001b[49m\u001b[38;5;241;43m.\u001b[39;49m\u001b[43m_old_forward\u001b[49m\u001b[43m(\u001b[49m\u001b[38;5;241;43m*\u001b[39;49m\u001b[43margs\u001b[49m\u001b[43m,\u001b[49m\u001b[43m \u001b[49m\u001b[38;5;241;43m*\u001b[39;49m\u001b[38;5;241;43m*\u001b[39;49m\u001b[43mkwargs\u001b[49m\u001b[43m)\u001b[49m\n\u001b[1;32m    170\u001b[0m \u001b[38;5;28;01mreturn\u001b[39;00m module\u001b[38;5;241m.\u001b[39m_hf_hook\u001b[38;5;241m.\u001b[39mpost_forward(module, output)\n",
      "File \u001b[0;32m/media/wassname/SGIronWolf/projects5/elk/repr-preference-optimization/.venv/lib/python3.9/site-packages/transformers/models/phi3/modeling_phi3.py:490\u001b[0m, in \u001b[0;36mPhi3FlashAttention2.forward\u001b[0;34m(self, hidden_states, attention_mask, position_ids, past_key_value, output_attentions, use_cache, cache_position)\u001b[0m\n\u001b[1;32m    489\u001b[0m \u001b[38;5;66;03m# Because the input can be padded, the absolute sequence length depends on the max position id.\u001b[39;00m\n\u001b[0;32m--> 490\u001b[0m rotary_seq_len \u001b[38;5;241m=\u001b[39m \u001b[38;5;28mmax\u001b[39m(kv_seq_len, \u001b[43mposition_ids\u001b[49m\u001b[43m[\u001b[49m\u001b[43m:\u001b[49m\u001b[43m,\u001b[49m\u001b[43m \u001b[49m\u001b[38;5;241;43m-\u001b[39;49m\u001b[38;5;241;43m1\u001b[39;49m\u001b[43m]\u001b[49m\u001b[38;5;241;43m.\u001b[39;49m\u001b[43mmax\u001b[49m\u001b[43m(\u001b[49m\u001b[43m)\u001b[49m\u001b[38;5;241;43m.\u001b[39;49m\u001b[43mitem\u001b[49m\u001b[43m(\u001b[49m\u001b[43m)\u001b[49m) \u001b[38;5;241m+\u001b[39m \u001b[38;5;241m1\u001b[39m\n\u001b[1;32m    491\u001b[0m cos, sin \u001b[38;5;241m=\u001b[39m \u001b[38;5;28mself\u001b[39m\u001b[38;5;241m.\u001b[39mrotary_emb(value_states, position_ids, seq_len\u001b[38;5;241m=\u001b[39mrotary_seq_len)\n",
      "\u001b[0;31mKeyboardInterrupt\u001b[0m: ",
      "\nDuring handling of the above exception, another exception occurred:\n",
      "\u001b[0;31mNameError\u001b[0m                                 Traceback (most recent call last)",
      "Cell \u001b[0;32mIn[20], line 2\u001b[0m\n\u001b[1;32m      1\u001b[0m \u001b[38;5;66;03m# train\u001b[39;00m\n\u001b[0;32m----> 2\u001b[0m \u001b[43mtrainer\u001b[49m\u001b[38;5;241;43m.\u001b[39;49m\u001b[43mfit\u001b[49m\u001b[43m(\u001b[49m\u001b[43mpl_model\u001b[49m\u001b[43m,\u001b[49m\u001b[43m \u001b[49m\u001b[43mdl_train\u001b[49m\u001b[43m,\u001b[49m\u001b[43m \u001b[49m\u001b[43mdl_val\u001b[49m\u001b[43m)\u001b[49m\n",
      "File \u001b[0;32m/media/wassname/SGIronWolf/projects5/elk/repr-preference-optimization/.venv/lib/python3.9/site-packages/lightning/pytorch/trainer/trainer.py:538\u001b[0m, in \u001b[0;36mTrainer.fit\u001b[0;34m(self, model, train_dataloaders, val_dataloaders, datamodule, ckpt_path)\u001b[0m\n\u001b[1;32m    536\u001b[0m \u001b[38;5;28mself\u001b[39m\u001b[38;5;241m.\u001b[39mstate\u001b[38;5;241m.\u001b[39mstatus \u001b[38;5;241m=\u001b[39m TrainerStatus\u001b[38;5;241m.\u001b[39mRUNNING\n\u001b[1;32m    537\u001b[0m \u001b[38;5;28mself\u001b[39m\u001b[38;5;241m.\u001b[39mtraining \u001b[38;5;241m=\u001b[39m \u001b[38;5;28;01mTrue\u001b[39;00m\n\u001b[0;32m--> 538\u001b[0m \u001b[43mcall\u001b[49m\u001b[38;5;241;43m.\u001b[39;49m\u001b[43m_call_and_handle_interrupt\u001b[49m\u001b[43m(\u001b[49m\n\u001b[1;32m    539\u001b[0m \u001b[43m    \u001b[49m\u001b[38;5;28;43mself\u001b[39;49m\u001b[43m,\u001b[49m\u001b[43m \u001b[49m\u001b[38;5;28;43mself\u001b[39;49m\u001b[38;5;241;43m.\u001b[39;49m\u001b[43m_fit_impl\u001b[49m\u001b[43m,\u001b[49m\u001b[43m \u001b[49m\u001b[43mmodel\u001b[49m\u001b[43m,\u001b[49m\u001b[43m \u001b[49m\u001b[43mtrain_dataloaders\u001b[49m\u001b[43m,\u001b[49m\u001b[43m \u001b[49m\u001b[43mval_dataloaders\u001b[49m\u001b[43m,\u001b[49m\u001b[43m \u001b[49m\u001b[43mdatamodule\u001b[49m\u001b[43m,\u001b[49m\u001b[43m \u001b[49m\u001b[43mckpt_path\u001b[49m\n\u001b[1;32m    540\u001b[0m \u001b[43m\u001b[49m\u001b[43m)\u001b[49m\n",
      "File \u001b[0;32m/media/wassname/SGIronWolf/projects5/elk/repr-preference-optimization/.venv/lib/python3.9/site-packages/lightning/pytorch/trainer/call.py:64\u001b[0m, in \u001b[0;36m_call_and_handle_interrupt\u001b[0;34m(trainer, trainer_fn, *args, **kwargs)\u001b[0m\n\u001b[1;32m     62\u001b[0m     \u001b[38;5;28;01mif\u001b[39;00m \u001b[38;5;28misinstance\u001b[39m(launcher, _SubprocessScriptLauncher):\n\u001b[1;32m     63\u001b[0m         launcher\u001b[38;5;241m.\u001b[39mkill(_get_sigkill_signal())\n\u001b[0;32m---> 64\u001b[0m     \u001b[43mexit\u001b[49m(\u001b[38;5;241m1\u001b[39m)\n\u001b[1;32m     66\u001b[0m \u001b[38;5;28;01mexcept\u001b[39;00m \u001b[38;5;167;01mBaseException\u001b[39;00m \u001b[38;5;28;01mas\u001b[39;00m exception:\n\u001b[1;32m     67\u001b[0m     _interrupt(trainer, exception)\n",
      "\u001b[0;31mNameError\u001b[0m: name 'exit' is not defined"
     ]
    }
   ],
   "source": [
    "# train\n",
    "trainer.fit(pl_model, dl_train, dl_val)"
   ]
  },
  {
   "cell_type": "markdown",
   "metadata": {},
   "source": [
    "### Hist"
   ]
  },
  {
   "cell_type": "code",
   "execution_count": 21,
   "metadata": {},
   "outputs": [
    {
     "data": {
      "text/html": [
       "<div>\n",
       "<style scoped>\n",
       "    .dataframe tbody tr th:only-of-type {\n",
       "        vertical-align: middle;\n",
       "    }\n",
       "\n",
       "    .dataframe tbody tr th {\n",
       "        vertical-align: top;\n",
       "    }\n",
       "\n",
       "    .dataframe thead th {\n",
       "        text-align: right;\n",
       "    }\n",
       "</style>\n",
       "<table border=\"1\" class=\"dataframe\">\n",
       "  <thead>\n",
       "    <tr style=\"text-align: right;\">\n",
       "      <th></th>\n",
       "      <th>lr-AdamW</th>\n",
       "      <th>step</th>\n",
       "      <th>train/chosen_rewards_epoch</th>\n",
       "      <th>train/chosen_rewards_step</th>\n",
       "      <th>train/loss_epoch</th>\n",
       "      <th>train/loss_reroute_epoch</th>\n",
       "      <th>train/loss_reroute_step</th>\n",
       "      <th>train/loss_retain_epoch</th>\n",
       "      <th>train/loss_retain_step</th>\n",
       "      <th>train/loss_step</th>\n",
       "      <th>...</th>\n",
       "      <th>val/loss_epoch</th>\n",
       "      <th>val/loss_reroute_epoch</th>\n",
       "      <th>val/loss_reroute_step</th>\n",
       "      <th>val/loss_retain_epoch</th>\n",
       "      <th>val/loss_retain_step</th>\n",
       "      <th>val/loss_step</th>\n",
       "      <th>val/nll_loss_epoch</th>\n",
       "      <th>val/nll_loss_step</th>\n",
       "      <th>val/rejected_reward_epoch</th>\n",
       "      <th>val/rejected_reward_step</th>\n",
       "    </tr>\n",
       "    <tr>\n",
       "      <th>epoch</th>\n",
       "      <th></th>\n",
       "      <th></th>\n",
       "      <th></th>\n",
       "      <th></th>\n",
       "      <th></th>\n",
       "      <th></th>\n",
       "      <th></th>\n",
       "      <th></th>\n",
       "      <th></th>\n",
       "      <th></th>\n",
       "      <th></th>\n",
       "      <th></th>\n",
       "      <th></th>\n",
       "      <th></th>\n",
       "      <th></th>\n",
       "      <th></th>\n",
       "      <th></th>\n",
       "      <th></th>\n",
       "      <th></th>\n",
       "      <th></th>\n",
       "      <th></th>\n",
       "    </tr>\n",
       "  </thead>\n",
       "  <tbody>\n",
       "    <tr>\n",
       "      <th>0.0</th>\n",
       "      <td>0.000458</td>\n",
       "      <td>207</td>\n",
       "      <td>0.000052</td>\n",
       "      <td>0.001028</td>\n",
       "      <td>-6.234735</td>\n",
       "      <td>0.012270</td>\n",
       "      <td>-0.009234</td>\n",
       "      <td>-6.247010</td>\n",
       "      <td>-6.605742</td>\n",
       "      <td>-6.614976</td>\n",
       "      <td>...</td>\n",
       "      <td>-5.054029</td>\n",
       "      <td>0.022242</td>\n",
       "      <td>0.003657</td>\n",
       "      <td>-5.076270</td>\n",
       "      <td>-5.155349</td>\n",
       "      <td>-5.151692</td>\n",
       "      <td>14.677405</td>\n",
       "      <td>13.402371</td>\n",
       "      <td>-0.002034</td>\n",
       "      <td>0.016378</td>\n",
       "    </tr>\n",
       "    <tr>\n",
       "      <th>1.0</th>\n",
       "      <td>0.000494</td>\n",
       "      <td>414</td>\n",
       "      <td>-0.000939</td>\n",
       "      <td>-0.001021</td>\n",
       "      <td>-4.550343</td>\n",
       "      <td>0.040027</td>\n",
       "      <td>-0.033167</td>\n",
       "      <td>-4.590369</td>\n",
       "      <td>-5.073977</td>\n",
       "      <td>-5.107143</td>\n",
       "      <td>...</td>\n",
       "      <td>-4.102987</td>\n",
       "      <td>0.031377</td>\n",
       "      <td>-0.009480</td>\n",
       "      <td>-4.134365</td>\n",
       "      <td>-3.694816</td>\n",
       "      <td>-3.704296</td>\n",
       "      <td>14.778982</td>\n",
       "      <td>13.640510</td>\n",
       "      <td>-0.012137</td>\n",
       "      <td>-0.053582</td>\n",
       "    </tr>\n",
       "    <tr>\n",
       "      <th>2.0</th>\n",
       "      <td>0.000470</td>\n",
       "      <td>621</td>\n",
       "      <td>0.000334</td>\n",
       "      <td>0.021600</td>\n",
       "      <td>-4.096526</td>\n",
       "      <td>0.047708</td>\n",
       "      <td>0.003204</td>\n",
       "      <td>-4.144229</td>\n",
       "      <td>-4.595405</td>\n",
       "      <td>-4.592201</td>\n",
       "      <td>...</td>\n",
       "      <td>-4.318264</td>\n",
       "      <td>0.032782</td>\n",
       "      <td>-0.060254</td>\n",
       "      <td>-4.351045</td>\n",
       "      <td>-4.059547</td>\n",
       "      <td>-4.119800</td>\n",
       "      <td>14.601016</td>\n",
       "      <td>13.450026</td>\n",
       "      <td>0.012293</td>\n",
       "      <td>-0.022538</td>\n",
       "    </tr>\n",
       "    <tr>\n",
       "      <th>3.0</th>\n",
       "      <td>0.000428</td>\n",
       "      <td>828</td>\n",
       "      <td>0.000668</td>\n",
       "      <td>0.004385</td>\n",
       "      <td>-4.194914</td>\n",
       "      <td>0.044771</td>\n",
       "      <td>0.016580</td>\n",
       "      <td>-4.239687</td>\n",
       "      <td>-4.385437</td>\n",
       "      <td>-4.368857</td>\n",
       "      <td>...</td>\n",
       "      <td>-4.261992</td>\n",
       "      <td>0.031146</td>\n",
       "      <td>0.020676</td>\n",
       "      <td>-4.293137</td>\n",
       "      <td>-4.010583</td>\n",
       "      <td>-3.989908</td>\n",
       "      <td>14.645074</td>\n",
       "      <td>13.342469</td>\n",
       "      <td>-0.005430</td>\n",
       "      <td>0.047906</td>\n",
       "    </tr>\n",
       "    <tr>\n",
       "      <th>4.0</th>\n",
       "      <td>0.000373</td>\n",
       "      <td>1035</td>\n",
       "      <td>0.000785</td>\n",
       "      <td>-0.015875</td>\n",
       "      <td>-4.290504</td>\n",
       "      <td>0.038841</td>\n",
       "      <td>-0.000100</td>\n",
       "      <td>-4.329347</td>\n",
       "      <td>-4.609665</td>\n",
       "      <td>-4.609765</td>\n",
       "      <td>...</td>\n",
       "      <td>-4.384547</td>\n",
       "      <td>0.031373</td>\n",
       "      <td>0.011802</td>\n",
       "      <td>-4.415920</td>\n",
       "      <td>-3.942073</td>\n",
       "      <td>-3.930271</td>\n",
       "      <td>14.635799</td>\n",
       "      <td>13.377917</td>\n",
       "      <td>0.015521</td>\n",
       "      <td>0.030528</td>\n",
       "    </tr>\n",
       "    <tr>\n",
       "      <th>5.0</th>\n",
       "      <td>0.000332</td>\n",
       "      <td>1168</td>\n",
       "      <td>0.000785</td>\n",
       "      <td>-0.001411</td>\n",
       "      <td>-4.290504</td>\n",
       "      <td>0.038841</td>\n",
       "      <td>-0.008982</td>\n",
       "      <td>-4.329347</td>\n",
       "      <td>-5.061677</td>\n",
       "      <td>-5.070659</td>\n",
       "      <td>...</td>\n",
       "      <td>-4.384547</td>\n",
       "      <td>0.031373</td>\n",
       "      <td>0.011802</td>\n",
       "      <td>-4.415920</td>\n",
       "      <td>-3.942073</td>\n",
       "      <td>-3.930271</td>\n",
       "      <td>14.635799</td>\n",
       "      <td>13.377917</td>\n",
       "      <td>0.015521</td>\n",
       "      <td>0.030528</td>\n",
       "    </tr>\n",
       "  </tbody>\n",
       "</table>\n",
       "<p>6 rows × 26 columns</p>\n",
       "</div>"
      ],
      "text/plain": [
       "       lr-AdamW  step  train/chosen_rewards_epoch  train/chosen_rewards_step  \\\n",
       "epoch                                                                          \n",
       "0.0    0.000458   207                    0.000052                   0.001028   \n",
       "1.0    0.000494   414                   -0.000939                  -0.001021   \n",
       "2.0    0.000470   621                    0.000334                   0.021600   \n",
       "3.0    0.000428   828                    0.000668                   0.004385   \n",
       "4.0    0.000373  1035                    0.000785                  -0.015875   \n",
       "5.0    0.000332  1168                    0.000785                  -0.001411   \n",
       "\n",
       "       train/loss_epoch  train/loss_reroute_epoch  train/loss_reroute_step  \\\n",
       "epoch                                                                        \n",
       "0.0           -6.234735                  0.012270                -0.009234   \n",
       "1.0           -4.550343                  0.040027                -0.033167   \n",
       "2.0           -4.096526                  0.047708                 0.003204   \n",
       "3.0           -4.194914                  0.044771                 0.016580   \n",
       "4.0           -4.290504                  0.038841                -0.000100   \n",
       "5.0           -4.290504                  0.038841                -0.008982   \n",
       "\n",
       "       train/loss_retain_epoch  train/loss_retain_step  train/loss_step  ...  \\\n",
       "epoch                                                                    ...   \n",
       "0.0                  -6.247010               -6.605742        -6.614976  ...   \n",
       "1.0                  -4.590369               -5.073977        -5.107143  ...   \n",
       "2.0                  -4.144229               -4.595405        -4.592201  ...   \n",
       "3.0                  -4.239687               -4.385437        -4.368857  ...   \n",
       "4.0                  -4.329347               -4.609665        -4.609765  ...   \n",
       "5.0                  -4.329347               -5.061677        -5.070659  ...   \n",
       "\n",
       "       val/loss_epoch  val/loss_reroute_epoch  val/loss_reroute_step  \\\n",
       "epoch                                                                  \n",
       "0.0         -5.054029                0.022242               0.003657   \n",
       "1.0         -4.102987                0.031377              -0.009480   \n",
       "2.0         -4.318264                0.032782              -0.060254   \n",
       "3.0         -4.261992                0.031146               0.020676   \n",
       "4.0         -4.384547                0.031373               0.011802   \n",
       "5.0         -4.384547                0.031373               0.011802   \n",
       "\n",
       "       val/loss_retain_epoch  val/loss_retain_step  val/loss_step  \\\n",
       "epoch                                                               \n",
       "0.0                -5.076270             -5.155349      -5.151692   \n",
       "1.0                -4.134365             -3.694816      -3.704296   \n",
       "2.0                -4.351045             -4.059547      -4.119800   \n",
       "3.0                -4.293137             -4.010583      -3.989908   \n",
       "4.0                -4.415920             -3.942073      -3.930271   \n",
       "5.0                -4.415920             -3.942073      -3.930271   \n",
       "\n",
       "       val/nll_loss_epoch  val/nll_loss_step  val/rejected_reward_epoch  \\\n",
       "epoch                                                                     \n",
       "0.0             14.677405          13.402371                  -0.002034   \n",
       "1.0             14.778982          13.640510                  -0.012137   \n",
       "2.0             14.601016          13.450026                   0.012293   \n",
       "3.0             14.645074          13.342469                  -0.005430   \n",
       "4.0             14.635799          13.377917                   0.015521   \n",
       "5.0             14.635799          13.377917                   0.015521   \n",
       "\n",
       "       val/rejected_reward_step  \n",
       "epoch                            \n",
       "0.0                    0.016378  \n",
       "1.0                   -0.053582  \n",
       "2.0                   -0.022538  \n",
       "3.0                    0.047906  \n",
       "4.0                    0.030528  \n",
       "5.0                    0.030528  \n",
       "\n",
       "[6 rows x 26 columns]"
      ]
     },
     "metadata": {},
     "output_type": "display_data"
    }
   ],
   "source": [
    "df_hist = read_metrics_csv(trainer.logger.experiment.metrics_file_path).bfill().ffill()\n",
    "plot_hist(df_hist, ['loss', 'acc', 'auroc'])\n",
    "display(df_hist)"
   ]
  },
  {
   "cell_type": "markdown",
   "metadata": {},
   "source": [
    "## Gen"
   ]
  },
  {
   "cell_type": "code",
   "execution_count": null,
   "metadata": {},
   "outputs": [],
   "source": [
    "generation_test(model, tokenizer, s=\"Q1: (30 words): Which Science Fiction Utopia is preferable and why? [The Polity, The Culture, Permutation City, 2 more]', \", max_new_tokens=64)"
   ]
  },
  {
   "cell_type": "code",
   "execution_count": null,
   "metadata": {},
   "outputs": [],
   "source": [
    "from reprpo.gen import get_model_generations\n",
    "get_model_generations(model, tokenizer)"
   ]
  },
  {
   "cell_type": "markdown",
   "metadata": {},
   "source": [
    "## Eval"
   ]
  },
  {
   "cell_type": "code",
   "execution_count": 23,
   "metadata": {},
   "outputs": [
    {
     "name": "stdout",
     "output_type": "stream",
     "text": [
      "Adapter: None\n"
     ]
    },
    {
     "data": {
      "application/vnd.jupyter.widget-view+json": {
       "base_model": "1d78558862304751a40966d153b5b753",
       "version_major": 2,
       "version_minor": 0
      },
      "text/plain": [
       "Map:   0%|          | 0/9 [00:00<?, ? examples/s]"
      ]
     },
     "metadata": {},
     "output_type": "display_data"
    },
    {
     "data": {
      "application/vnd.jupyter.widget-view+json": {
       "base_model": "b202990c371b4043ab0ed5d6f8cb60d6",
       "version_major": 2,
       "version_minor": 0
      },
      "text/plain": [
       "Map:   0%|          | 0/9 [00:00<?, ? examples/s]"
      ]
     },
     "metadata": {},
     "output_type": "display_data"
    },
    {
     "data": {
      "application/vnd.jupyter.widget-view+json": {
       "base_model": "eb6deed9d8794ff4be2cbcb00021e6e9",
       "version_major": 2,
       "version_minor": 0
      },
      "text/plain": [
       "Map:   0%|          | 0/144 [00:00<?, ? examples/s]"
      ]
     },
     "metadata": {},
     "output_type": "display_data"
    },
    {
     "data": {
      "application/vnd.jupyter.widget-view+json": {
       "base_model": "ff4eb03045824cdab93c688138c7a4d7",
       "version_major": 2,
       "version_minor": 0
      },
      "text/plain": [
       "Map:   0%|          | 0/144 [00:00<?, ? examples/s]"
      ]
     },
     "metadata": {},
     "output_type": "display_data"
    },
    {
     "data": {
      "application/vnd.jupyter.widget-view+json": {
       "base_model": "628364b639f544509bfc6eb9a92f76db",
       "version_major": 2,
       "version_minor": 0
      },
      "text/plain": [
       "Map:   0%|          | 0/144 [00:00<?, ? examples/s]"
      ]
     },
     "metadata": {},
     "output_type": "display_data"
    },
    {
     "name": "stdout",
     "output_type": "stream",
     "text": [
      "Adapter: ReprPO\n"
     ]
    },
    {
     "data": {
      "application/vnd.jupyter.widget-view+json": {
       "base_model": "4c1238fc9141486f92370d1750443c6d",
       "version_major": 2,
       "version_minor": 0
      },
      "text/plain": [
       "Map:   0%|          | 0/9 [00:00<?, ? examples/s]"
      ]
     },
     "metadata": {},
     "output_type": "display_data"
    },
    {
     "data": {
      "application/vnd.jupyter.widget-view+json": {
       "base_model": "7f1dd96b6ff5496c8e97bf1de50fbf47",
       "version_major": 2,
       "version_minor": 0
      },
      "text/plain": [
       "Map:   0%|          | 0/9 [00:00<?, ? examples/s]"
      ]
     },
     "metadata": {},
     "output_type": "display_data"
    },
    {
     "data": {
      "application/vnd.jupyter.widget-view+json": {
       "base_model": "4597fe3fa0944803a2aa528a169ed426",
       "version_major": 2,
       "version_minor": 0
      },
      "text/plain": [
       "Map:   0%|          | 0/144 [00:00<?, ? examples/s]"
      ]
     },
     "metadata": {},
     "output_type": "display_data"
    },
    {
     "data": {
      "application/vnd.jupyter.widget-view+json": {
       "base_model": "18ac80fdeefd49aebe1965803ffc10f0",
       "version_major": 2,
       "version_minor": 0
      },
      "text/plain": [
       "Map:   0%|          | 0/144 [00:00<?, ? examples/s]"
      ]
     },
     "metadata": {},
     "output_type": "display_data"
    },
    {
     "data": {
      "application/vnd.jupyter.widget-view+json": {
       "base_model": "a34401cf41544011971cb5c597f90248",
       "version_major": 2,
       "version_minor": 0
      },
      "text/plain": [
       "Map:   0%|          | 0/144 [00:00<?, ? examples/s]"
      ]
     },
     "metadata": {},
     "output_type": "display_data"
    },
    {
     "data": {
      "text/html": [
       "<div>\n",
       "<style scoped>\n",
       "    .dataframe tbody tr th:only-of-type {\n",
       "        vertical-align: middle;\n",
       "    }\n",
       "\n",
       "    .dataframe tbody tr th {\n",
       "        vertical-align: top;\n",
       "    }\n",
       "\n",
       "    .dataframe thead th {\n",
       "        text-align: right;\n",
       "    }\n",
       "</style>\n",
       "<table border=\"1\" class=\"dataframe\">\n",
       "  <thead>\n",
       "    <tr style=\"text-align: right;\">\n",
       "      <th>adapter</th>\n",
       "      <th>ReprPO</th>\n",
       "      <th>base</th>\n",
       "    </tr>\n",
       "    <tr>\n",
       "      <th>dataset</th>\n",
       "      <th></th>\n",
       "      <th></th>\n",
       "    </tr>\n",
       "  </thead>\n",
       "  <tbody>\n",
       "    <tr>\n",
       "      <th>help_steer2-dpo</th>\n",
       "      <td>0.512332</td>\n",
       "      <td>0.512265</td>\n",
       "    </tr>\n",
       "    <tr>\n",
       "      <th>toxic-dpo-v0.2</th>\n",
       "      <td>0.619316</td>\n",
       "      <td>0.619239</td>\n",
       "    </tr>\n",
       "    <tr>\n",
       "      <th>truthful_qa_binary</th>\n",
       "      <td>0.506398</td>\n",
       "      <td>0.505754</td>\n",
       "    </tr>\n",
       "  </tbody>\n",
       "</table>\n",
       "</div>"
      ],
      "text/plain": [
       "adapter               ReprPO      base\n",
       "dataset                               \n",
       "help_steer2-dpo     0.512332  0.512265\n",
       "toxic-dpo-v0.2      0.619316  0.619239\n",
       "truthful_qa_binary  0.506398  0.505754"
      ]
     },
     "execution_count": 23,
     "metadata": {},
     "output_type": "execute_result"
    },
    {
     "data": {
      "image/png": "[encoded data removed]",
      "text/plain": [
       "<Figure size 640x480 with 1 Axes>"
      ]
     },
     "metadata": {},
     "output_type": "display_data"
    }
   ],
   "source": [
    "from reprpo.helpers.shypothesis import shypothesis\n",
    "from reprpo.evaluate import evaluate_adapters\n",
    "from open_pref_eval.plot.radar import radar_plot\n",
    "model.cuda()\n",
    "res, df_res2 = evaluate_adapters(model, tokenizer, batch_size=args.batch_size, N=144)\n",
    "radar_plot(res)\n",
    "res"
   ]
  },
  {
   "cell_type": "code",
   "execution_count": 24,
   "metadata": {},
   "outputs": [
    {
     "name": "stdout",
     "output_type": "stream",
     "text": [
      "⭐ run=31_reprpo_side, N=144\n",
      "\n",
      "| dataset            |   base |   ReprPO |\n",
      "|:-------------------|-------:|---------:|\n",
      "| truthful_qa_binary |  0.506 |    0.506 |\n",
      "| toxic-dpo-v0.2     |  0.619 |    0.619 |\n",
      "| help_steer2-dpo    |  0.512 |    0.512 |\n",
      "\n",
      "args = ReprPOInTrainingArguments(model_name='microsoft/Phi-3-mini-4k-instruct', use_bnb=True, use_gradient_checkpointing=False, use_inputs=True, n_epochs=1, batch_size=7, lr=0.0005, weight_decay=0.0, n_samples=18000, max_length=128, max_prompt_length=64, alpha=0.01, collection_layers=(11, 13, 15, 17, 19, 21, 23, 25, 27, 29), collection_keys=('base_model.model.model.layers.{layer}.self_attn.o_proj', 'base_model.model.model.layers.{layer}.mlp.down_proj'), collect_input=True)\n"
     ]
    }
   ],
   "source": [
    "# print acc for journal\n",
    "c  = df_res2.groupby(['adapter', 'dataset']).count().min().min()\n",
    "print(f\"⭐ run={nb_name}, N={c}\")\n",
    "print()\n",
    "print(res[::-1].T[::-1].T.round(3).to_markdown()\n",
    "      )\n",
    "print()\n",
    "print('args =', args)         "
   ]
  },
  {
   "cell_type": "code",
   "execution_count": 25,
   "metadata": {},
   "outputs": [
    {
     "name": "stdout",
     "output_type": "stream",
     "text": [
      "did acc improve\n",
      "H\t\taccₚᵢ > acc_ref\n",
      "∴\t\t0.512 > 0.512 ❌ [Δ = 0.0]\n",
      "\n",
      "H\t\tacc_π_ood > acc_ref_ood\n",
      "∴\t\t0.506 > 0.506 ❌ [Δ = 0.0]\n",
      "\n"
     ]
    }
   ],
   "source": [
    "print('did acc improve')\n",
    "acc_pi = res[adapter_name]['help_steer2-dpo'].item()\n",
    "acc_ref = res['base']['help_steer2-dpo'].item()\n",
    "shypothesis('acc_pi>acc_ref', locals())\n",
    "\n",
    "\n",
    "acc_pi_ood = res[adapter_name]['truthful_qa_binary'].item()\n",
    "acc_ref_ood = res['base']['truthful_qa_binary'].item()\n",
    "shypothesis('acc_pi_ood>acc_ref_ood', locals());"
   ]
  },
  {
   "cell_type": "code",
   "execution_count": 26,
   "metadata": {},
   "outputs": [
    {
     "name": "stdout",
     "output_type": "stream",
     "text": [
      "did coherence improve?, (measured by mean prob per token) higher is better\n"
     ]
    },
    {
     "data": {
      "text/html": [
       "<div>\n",
       "<style scoped>\n",
       "    .dataframe tbody tr th:only-of-type {\n",
       "        vertical-align: middle;\n",
       "    }\n",
       "\n",
       "    .dataframe tbody tr th {\n",
       "        vertical-align: top;\n",
       "    }\n",
       "\n",
       "    .dataframe thead th {\n",
       "        text-align: right;\n",
       "    }\n",
       "</style>\n",
       "<table border=\"1\" class=\"dataframe\">\n",
       "  <thead>\n",
       "    <tr style=\"text-align: right;\">\n",
       "      <th>dataset</th>\n",
       "      <th>help_steer2-dpo</th>\n",
       "      <th>toxic-dpo-v0.2</th>\n",
       "      <th>truthful_qa_binary</th>\n",
       "    </tr>\n",
       "    <tr>\n",
       "      <th>adapter</th>\n",
       "      <th></th>\n",
       "      <th></th>\n",
       "      <th></th>\n",
       "    </tr>\n",
       "  </thead>\n",
       "  <tbody>\n",
       "    <tr>\n",
       "      <th>ReprPO</th>\n",
       "      <td>0.390109</td>\n",
       "      <td>0.435025</td>\n",
       "      <td>0.070716</td>\n",
       "    </tr>\n",
       "    <tr>\n",
       "      <th>base</th>\n",
       "      <td>0.389356</td>\n",
       "      <td>0.434136</td>\n",
       "      <td>0.070031</td>\n",
       "    </tr>\n",
       "  </tbody>\n",
       "</table>\n",
       "</div>"
      ],
      "text/plain": [
       "dataset  help_steer2-dpo  toxic-dpo-v0.2  truthful_qa_binary\n",
       "adapter                                                     \n",
       "ReprPO          0.390109        0.435025            0.070716\n",
       "base            0.389356        0.434136            0.070031"
      ]
     },
     "metadata": {},
     "output_type": "display_data"
    },
    {
     "name": "stdout",
     "output_type": "stream",
     "text": [
      "H\t\tcoherencyₚᵢ > coherency_ref\n",
      "∴\t\t0.390 > 0.389 ✅ [Δ = 0.001]\n",
      "\n"
     ]
    },
    {
     "ename": "",
     "evalue": "",
     "output_type": "error",
     "traceback": [
      "\u001b[1;31mThe Kernel crashed while executing code in the current cell or a previous cell. \n",
      "\u001b[1;31mPlease review the code in the cell(s) to identify a possible cause of the failure. \n",
      "\u001b[1;31mClick <a href='https://aka.ms/vscodeJupyterKernelCrash'>here</a> for more info. \n",
      "\u001b[1;31mView Jupyter <a href='command:jupyter.viewOutput'>log</a> for further details."
     ]
    }
   ],
   "source": [
    "print('did coherence improve?, (measured by mean prob per token) higher is better')\n",
    "r = df_res2.groupby(['adapter', 'dataset'], dropna=False)['_chosen_logps'].mean().unstack()\n",
    "r = np.exp(r)\n",
    "display(r)\n",
    "\n",
    "coherency_pi = float(r.T[adapter_name]['help_steer2-dpo'])\n",
    "coherency_ref = float(r.T['base']['help_steer2-dpo'])\n",
    "shypothesis('coherency_pi>coherency_ref', locals());"
   ]
  },
  {
   "cell_type": "code",
   "execution_count": null,
   "metadata": {},
   "outputs": [],
   "source": [
    "\n",
    "print('are we biased by the length of the string? Ideally no correlation')\n",
    "a, b = df_res2['_l_chosen'], df_res2['_l_rejected']\n",
    "x = (a-b)/(a+b)\n",
    "plt.plot(x, df_res2['_logratio'], 'o')\n",
    "plt.xlabel('chosen longer')\n",
    "plt.ylabel('chosen more likely')\n",
    "\n",
    "# Damn this is not ideal....\n",
    "a = df_res2['_l_chosen'] / df_res2['_l_rejected']\n",
    "b = df_res2['prob']\n",
    "\n",
    "m = np.isfinite(a) & np.isfinite(b)\n",
    "a = a[m]\n",
    "b = b[m]\n",
    "corr_length = np.corrcoef(a, b)[1,0]\n",
    "print(f'{corr_length:.2f} (0 is ideal) correlation between length ratio and prob:')\n",
    "shypothesis('corr_length<0.25', locals())\n",
    "\n",
    "\n",
    "print(f'is the ds bised? {a.mean()/b.mean():.2f} (1 is ideal)')\n",
    "a=df_res2['prob']>0\n",
    "b=x>=0\n",
    "acc_bad = (a==b).mean()\n",
    "print(f'{acc_bad:.2%} (0.5 is ideal) how often does it accurately pick the longer one :( ')\n",
    "\n",
    "shypothesis('acc_bad<0.75', locals())"
   ]
  },
  {
   "cell_type": "code",
   "execution_count": null,
   "metadata": {},
   "outputs": [],
   "source": []
  }
 ],
 "metadata": {
  "kernelspec": {
   "display_name": ".venv",
   "language": "python",
   "name": "python3"
  },
  "language_info": {
   "codemirror_mode": {
    "name": "ipython",
    "version": 3
   },
   "file_extension": ".py",
   "mimetype": "text/x-python",
   "name": "python",
   "nbconvert_exporter": "python",
   "pygments_lexer": "ipython3",
   "version": "3.9.16"
  }
 },
 "nbformat": 4,
 "nbformat_minor": 2
}
