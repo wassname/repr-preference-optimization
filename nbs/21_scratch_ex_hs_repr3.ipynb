{
 "cells": [
  {
   "cell_type": "markdown",
   "metadata": {},
   "source": [
    "# Experiments with hidden states\n",
    "\n",
    "Question, is there a better representation of concepts in hidden states?\n",
    "\n",
    "Setup: we use DPO setup, with a chosen and rejected string. We then generate a set of hidden states, and compare the hidden states of the chosen and rejected string.\n",
    "\n",
    "Goal: better generalisation of desired behavuour by changing the internal representation of policy rather than directly changing the policy\n",
    "\n",
    "  - Hypothesis: rejected and chosen hidden states will - on mean - be best representated as rotations from each other\n",
    "  - alternate: either mean mass diff (linear) or no repr will be better\n",
    "  - metric: manual generation getting output while maintaining coherency, prediction other sets of hs"
   ]
  },
  {
   "cell_type": "code",
   "execution_count": 1,
   "metadata": {},
   "outputs": [],
   "source": [
    "%reload_ext autoreload\n",
    "%autoreload 2"
   ]
  },
  {
   "cell_type": "code",
   "execution_count": 2,
   "metadata": {},
   "outputs": [],
   "source": [
    "import os\n",
    "os.environ[\"TOKENIZERS_PARALLELISM\"] = \"false\"\n",
    "os.environ[\"WANDB_PROJECT\"] = \"repo-dpo\" \n",
    "os.environ[\"CUDA_VISIBLE_DEVICES\"] = \"0\"\n",
    "# os.environ[\"WANDB_DISABLED\"] = \"true\""
   ]
  },
  {
   "cell_type": "code",
   "execution_count": 3,
   "metadata": {},
   "outputs": [],
   "source": [
    "import numpy as np\n",
    "\n",
    "from datasets import load_dataset\n",
    "from peft import LoraConfig, get_peft_model\n",
    "from transformers import AutoTokenizer, AutoModelForCausalLM\n",
    "from trl import DPOTrainer\n",
    "from trl import DPOConfig, DPOTrainer\n",
    "\n",
    "import gc\n",
    "\n",
    "import torch\n",
    "import torch.nn as nn\n",
    "import torch.nn.functional as F\n",
    "from typing import Any, Callable, Dict, List, Literal, Optional, Tuple, Union\n",
    "from jaxtyping import Float\n",
    "from einops import rearrange, reduce\n",
    "\n",
    "from pathlib import Path\n",
    "\n",
    "from reprpo.helpers.adapters import set_adapter\n",
    "from matplotlib import pyplot as plt\n",
    "from reprpo import silence\n",
    "from reprpo.gen import generation_test\n",
    "\n",
    "from reprpo.trainer import mean_with_attention, symlog, mult_with_attention\n",
    "\n",
    "from tqdm.auto import tqdm\n",
    "from reprpo.trainer import collect_hs, ReprPOConfig, ReprPOTrainer, normalize_output, normalize_per\n",
    "from reprpo.helpers.shypothesis import shypothesis\n",
    "from datasets import load_dataset"
   ]
  },
  {
   "cell_type": "markdown",
   "metadata": {},
   "source": [
    "## Load model"
   ]
  },
  {
   "cell_type": "code",
   "execution_count": 4,
   "metadata": {},
   "outputs": [
    {
     "name": "stderr",
     "output_type": "stream",
     "text": [
      "You are attempting to use Flash Attention 2.0 with a model not initialized on GPU. Make sure to move the model to GPU after initializing it on CPU with `model.to('cuda')`.\n"
     ]
    },
    {
     "data": {
      "application/vnd.jupyter.widget-view+json": {
       "model_id": "7d7227185f8f4dbdba86f1d3cf9aa07c",
       "version_major": 2,
       "version_minor": 0
      },
      "text/plain": [
       "Loading checkpoint shards:   0%|          | 0/2 [00:00<?, ?it/s]"
      ]
     },
     "metadata": {},
     "output_type": "display_data"
    }
   ],
   "source": [
    "from reprpo.models.load import load_model, print_trainable_parameters\n",
    "from peft import prepare_model_for_kbit_training\n",
    "from peft import LoraConfig, get_peft_model\n",
    "model_name = \"NousResearch/Meta-Llama-3-8B-Instruct\"\n",
    "model_name = \"microsoft/Phi-3-mini-4k-instruct\"\n",
    "\n",
    "## Big adapter\n",
    "# peft_config = LoraConfig(\n",
    "#     lora_alpha=16, \n",
    "#     r=16,\n",
    "#     lora_dropout=0.0,\n",
    "#     use_rslora=False,\n",
    "#     # use_dora=True,\n",
    "#     task_type=\"CAUSAL_LM\",\n",
    "#     target_modules=[\"q_proj\", \"k_proj\", \"v_proj\", \"o_proj\", \"gate_proj\", \"up_proj\", \"down_proj\"]\n",
    "# )\n",
    "\n",
    "use_gradient_checkpointing = False\n",
    "model, tokenizer = load_model(model_name, bnb=False) \n",
    "# from trl.trainer.utils import peft_module_casting_to_bf16\n",
    "# peft_module_casting_to_bf16(model)\n",
    "if use_gradient_checkpointing:\n",
    "    model.enable_input_require_grads()\n",
    "# adapter_name='ReprPO2'\n",
    "# model = prepare_model_for_kbit_training(model, {'use_gradient_checkpointing': use_gradient_checkpointing})\n",
    "# model = get_peft_model(model, peft_config, adapter_name=adapter_name)\n",
    "# print_trainable_parameters(model)\n",
    "# model"
   ]
  },
  {
   "cell_type": "markdown",
   "metadata": {},
   "source": [
    "## Load adapter"
   ]
  },
  {
   "cell_type": "code",
   "execution_count": 5,
   "metadata": {},
   "outputs": [],
   "source": [
    "# dpo_adapter_f = './output-dir/dpo/DPO'\n",
    "# model.load_adapter(dpo_adapter_f, 'DPO')"
   ]
  },
  {
   "cell_type": "code",
   "execution_count": 6,
   "metadata": {},
   "outputs": [],
   "source": [
    "# # QC model and adapter is coherent\n",
    "# generation_test(model, tokenizer, max_new_tokens=24, system='no yapping', adapter_names=[None, 'DPO'])"
   ]
  },
  {
   "cell_type": "markdown",
   "metadata": {},
   "source": [
    "## Load DPO dataset"
   ]
  },
  {
   "cell_type": "code",
   "execution_count": 7,
   "metadata": {},
   "outputs": [],
   "source": [
    "num_samples = 160"
   ]
  },
  {
   "cell_type": "code",
   "execution_count": 8,
   "metadata": {},
   "outputs": [
    {
     "data": {
      "text/plain": [
       "DatasetDict({\n",
       "    train: Dataset({\n",
       "        features: ['prompt', 'chosen', 'rejected'],\n",
       "        num_rows: 160\n",
       "    })\n",
       "    validation: Dataset({\n",
       "        features: ['prompt', 'chosen', 'rejected'],\n",
       "        num_rows: 160\n",
       "    })\n",
       "})"
      ]
     },
     "execution_count": 8,
     "metadata": {},
     "output_type": "execute_result"
    }
   ],
   "source": [
    "def sample(dataset, N):\n",
    "    return (dataset\n",
    "            .shuffle(42)\n",
    "            .select(range(\n",
    "            min(len(dataset),\n",
    "                N)))\n",
    "    )\n",
    "\n",
    "dataset = load_dataset('Atsunori/HelpSteer2-DPO')\n",
    "dataset['train'] = sample(dataset['train'], num_samples)\n",
    "dataset['validation'] = sample(dataset['validation'], num_samples)\n",
    "dataset2 = dataset.rename_column('chosen_response', 'chosen').rename_column('rejected_response', 'rejected')\n",
    "dataset2"
   ]
  },
  {
   "cell_type": "markdown",
   "metadata": {},
   "source": [
    "## Helpers"
   ]
  },
  {
   "cell_type": "code",
   "execution_count": null,
   "metadata": {},
   "outputs": [],
   "source": []
  },
  {
   "cell_type": "markdown",
   "metadata": {},
   "source": [
    "## Collect HS in DPO way"
   ]
  },
  {
   "cell_type": "code",
   "execution_count": 9,
   "metadata": {},
   "outputs": [
    {
     "name": "stderr",
     "output_type": "stream",
     "text": [
      "Parameter 'function'=<bound method DPOTrainer.tokenize_row of <reprpo.trainer.ReprPOTrainer object at 0x75dce79b73a0>> of the transform datasets.arrow_dataset.Dataset._map_single couldn't be hashed properly, a random hash was used instead. Make sure your transforms and parameters are serializable with pickle or dill for the dataset fingerprinting and caching to work. If you reuse this transform, the caching mechanism will consider it to be different from the previous calls and recompute everything. This warning is only showed once. Subsequent hashing failures won't be showed.\n"
     ]
    },
    {
     "data": {
      "application/vnd.jupyter.widget-view+json": {
       "model_id": "f05c8c22feb84f1792ca91b2bc491bbe",
       "version_major": 2,
       "version_minor": 0
      },
      "text/plain": [
       "Map:   0%|          | 0/160 [00:00<?, ? examples/s]"
      ]
     },
     "metadata": {},
     "output_type": "display_data"
    }
   ],
   "source": [
    "training_args = ReprPOConfig('./output-dir/scratch',\n",
    "    per_device_train_batch_size=3,\n",
    "    per_device_eval_batch_size=3,\n",
    "    bf16=True,\n",
    "    # tf32=True,\n",
    "    max_prompt_length=64,\n",
    "    max_length=128,\n",
    "    collection_layers=[20,],\n",
    "    remove_unused_columns=False,\n",
    "\n",
    "    # optim = \"adamw_8bit\",\n",
    "    lr_scheduler_type=\"constant\",\n",
    "    learning_rate=1e-3,\n",
    "    gradient_checkpointing=use_gradient_checkpointing,\n",
    "                             )\n",
    "reprpo_trainer = ReprPOTrainer(\n",
    "    model=model,\n",
    "    ref_model=None,\n",
    "    args=training_args,\n",
    "    beta=training_args.beta,\n",
    "    train_dataset=dataset2[\"train\"],\n",
    "    # eval_dataset=dataset2[\"test\"],\n",
    "    tokenizer=tokenizer,\n",
    ")"
   ]
  },
  {
   "cell_type": "code",
   "execution_count": 10,
   "metadata": {},
   "outputs": [
    {
     "data": {
      "text/plain": [
       "torch.Size([3, 128])"
      ]
     },
     "execution_count": 10,
     "metadata": {},
     "output_type": "execute_result"
    }
   ],
   "source": [
    "# QC get dpo catch\n",
    "dl = reprpo_trainer.get_train_dataloader()\n",
    "batch = next(iter(dl))\n",
    "batch['chosen_input_ids'].shape"
   ]
  },
  {
   "cell_type": "code",
   "execution_count": 11,
   "metadata": {},
   "outputs": [],
   "source": [
    "# # QC view a typical input to the model (since the dpo trainer transformes in dataset, concatenating chosen and rejecting along the batch dimension)\n",
    "# batch_concat = reprpo_trainer.concatenated_inputs(\n",
    "#             batch,\n",
    "#             is_encoder_decoder=reprpo_trainer.is_encoder_decoder,\n",
    "#             label_pad_token_id=reprpo_trainer.label_pad_token_id,\n",
    "#             padding_value=reprpo_trainer.padding_value,\n",
    "#             device=reprpo_trainer.accelerator.device,\n",
    "#             max_length=reprpo_trainer.args.max_length,\n",
    "#         )\n",
    "# layer_idx = 0\n",
    "# print(batch_concat.keys())\n",
    "# batch['chosen_input_ids'].shape, batch_concat['concatenated_input_ids'].shape"
   ]
  },
  {
   "cell_type": "code",
   "execution_count": 12,
   "metadata": {},
   "outputs": [],
   "source": [
    "from baukit.nethook import recursive_copy, set_requires_grad\n",
    "from torch import Tensor"
   ]
  },
  {
   "cell_type": "code",
   "execution_count": 13,
   "metadata": {},
   "outputs": [],
   "source": [
    "class OptimizedSVDDecomposer:\n",
    "    \"\"\"\n",
    "    Decompose hidden states into part that is used by the lm_head (hs_h) and part that is residual (hs_r).\n",
    "    \"\"\"\n",
    "    def __init__(self, lm_head: nn.Linear, epsilon: float = 1e-12):\n",
    "        self.W = W = lm_head.weight\n",
    "        U, S, Vt = torch.linalg.svd(W, full_matrices=False)\n",
    "        \n",
    "        # Precompute V * (S^2 / (S^2 + epsilon)) * V^T for stability\n",
    "        S_squared = S**2\n",
    "        stability_term = S_squared / (S_squared + epsilon)\n",
    "        self.projection_matrix = Vt.T @ (stability_term.unsqueeze(1) * Vt)\n",
    "        \n",
    "        # Store for potential debugging or analysis\n",
    "        self.S = S\n",
    "        self.epsilon = epsilon\n",
    "        \n",
    "    def decompose(self, hs: Float[Tensor, \"batch hidden_size\"]) -> Tuple[Float[Tensor, \"batch hidden_size\"], Float[Tensor, \"batch hidden_size\"]]:\n",
    "        hs_h = (self.projection_matrix @ hs.T).T\n",
    "        hs_r = hs - hs_h\n",
    "        return hs_r, hs_h\n",
    "    \n",
    "    def decompose_layers(self, hs):\n",
    "        \"\"\"this version flattens all dimensions except the last\"\"\"\n",
    "        original_shape = hs.shape\n",
    "        hs_flat = hs.view(-1, original_shape[-1]).to(self.projection_matrix.dtype).to(self.projection_matrix.device)\n",
    "\n",
    "        # Compute projection\n",
    "        hs_h_flat = (self.projection_matrix @ hs_flat.T).T\n",
    "        hs_r_flat = hs_flat - hs_h_flat\n",
    "        \n",
    "        # Reshape back to original shape\n",
    "        hs_h = hs_h_flat.view(original_shape)\n",
    "        hs_r = hs_r_flat.view(original_shape)\n",
    "        \n",
    "        return hs_r, hs_h\n",
    "    \n",
    "    def reconstruct_from_residual(self, hs_r: Float[Tensor, \"batch hidden_size\"]) -> Float[Tensor, \"batch hidden_size\"]:\n",
    "        return  hs_r + (self.projection_matrix @ hs_r.T).T\n",
    "\n",
    "def check_orthogonality(H_residual, W):\n",
    "    proj = W @ H_residual.T\n",
    "    orthogonality = torch.norm(proj) / (torch.norm(W) * torch.norm(H_residual))\n",
    "    print(f\"Orthogonality measure: {orthogonality.item():.3f} (should be close to 0)\")\n",
    "    return orthogonality\n",
    "\n",
    "# # # Usage\n",
    "# decomposer = OptimizedSVDDecomposer(lm_head)  # Adjust epsilon as needed\n",
    "# hs_r, hs_h = decomposer.decompose(H)\n",
    "# H_reconstructed = decomposer.reconstruct_from_residual(hs_r)\n",
    "# error = torch.norm(H - H_reconstructed, dim=-1).mean()\n",
    "# print(error)\n",
    "# check_orthogonality(hs_r, lm_head.weight);"
   ]
  },
  {
   "cell_type": "code",
   "execution_count": 14,
   "metadata": {},
   "outputs": [],
   "source": [
    "import torch\n",
    "from torch import nn, Tensor\n",
    "from typing import Tuple\n",
    "from jaxtyping import Float\n",
    "\n",
    "class OptimizedSVDDecomposer:\n",
    "    def __init__(self, lm_head: nn.Linear, epsilon: float = 1e-12):\n",
    "        W = lm_head.weight\n",
    "        U, S, Vt = torch.linalg.svd(W, full_matrices=False)\n",
    "        \n",
    "        self.S = S\n",
    "        self.Vt = Vt\n",
    "        self.epsilon = epsilon\n",
    "        print(f\"Using full SVD with {len(S)} singular values\")\n",
    "\n",
    "    def decompose(self, hs: Float[Tensor, \"batch layers tokens hidden_size\"]) -> Tuple[Float[Tensor, \"batch layers tokens hidden_size\"], Float[Tensor, \"batch layers tokens hidden_size\"]]:\n",
    "        original_shape = hs.shape\n",
    "        hs_flat = hs.view(-1, original_shape[-1]).to(self.Vt.dtype).to(self.Vt.device)\n",
    "        \n",
    "        # Project onto the right singular vectors\n",
    "        projection = self.Vt @ hs_flat.T\n",
    "        \n",
    "        # Apply a soft thresholding\n",
    "        S_inv = self.S / (self.S**2 + self.epsilon)\n",
    "        soft_threshold = torch.sign(projection) * torch.max(torch.abs(projection) - self.epsilon, torch.zeros_like(projection))\n",
    "        \n",
    "        # Reconstruct\n",
    "        hs_h_flat = (self.Vt.T @ (S_inv.unsqueeze(1) * soft_threshold)).T\n",
    "        hs_r_flat = hs_flat - hs_h_flat\n",
    "        \n",
    "        hs_h = hs_h_flat.view(original_shape)\n",
    "        hs_r = hs_r_flat.view(original_shape)\n",
    "        \n",
    "        return hs_r, hs_h\n",
    "\n",
    "    def estimate_error(self, hs: Float[Tensor, \"batch layers tokens hidden_size\"]) -> float:\n",
    "        hs_r, _ = self.decompose(hs)\n",
    "        relative_error = torch.norm(hs_r) / torch.norm(hs)\n",
    "        return relative_error.item()\n",
    "\n",
    "    def get_condition_number(self) -> float:\n",
    "        return (self.S[0] / self.S[-1]).item()\n",
    "    \n",
    "    # def reconstruct_from_residual(self, hs_r: Float[Tensor, \"batch layers tokens hidden_size\"]) -> Float[Tensor, \"batch layers tokens hidden_size\"]:\n",
    "    #     hs_r \n",
    "    #     return hs_h\n",
    "\n",
    "# # Usage\n",
    "# decomposer = OptimizedSVDDecomposer(lm_head, epsilon=1e-12)\n",
    "\n",
    "# # For R matrix\n",
    "# hs_r_R, hs_h_R = decomposer.decompose(R)\n",
    "# error_R = decomposer.estimate_error(R)\n",
    "\n",
    "# # For C matrix\n",
    "# hs_r_C, hs_h_C = decomposer.decompose(C)\n",
    "# error_C = decomposer.estimate_error(C)\n",
    "\n",
    "# print(f\"R matrix - Estimated relative error: {error_R}\")\n",
    "# print(f\"C matrix - Estimated relative error: {error_C}\")\n",
    "# print(f\"Frobenius norm of difference in residuals: {torch.norm(hs_r_R - hs_r_C)}\")\n",
    "# print(f\"Relative difference in residuals: {torch.norm(hs_r_R - hs_r_C) / torch.norm(hs_r_R)}\")\n",
    "\n",
    "# # Additional analysis\n",
    "# print(f\"Frobenius norm of difference between R and C: {torch.norm(R - C)}\")\n",
    "# print(f\"Relative difference between R and C: {torch.norm(R - C) / torch.norm(R)}\")\n",
    "# print(f\"Condition number: {decomposer.get_condition_number()}\")\n",
    "\n",
    "# # Analyze the differences in the head space\n",
    "# hs_h_diff = torch.norm(hs_h_R - hs_h_C) / torch.norm(hs_h_R)\n",
    "# print(f\"Relative difference in head space projections: {hs_h_diff}\")"
   ]
  },
  {
   "cell_type": "code",
   "execution_count": 15,
   "metadata": {},
   "outputs": [],
   "source": [
    "# clone this linear, using a clone of the weights and bias\n",
    "m = model.lm_head\n",
    "m2 = nn.Linear(m.in_features, m.out_features)\n",
    "m2.weight = nn.Parameter(m.weight.clone().float())\n",
    "if m.bias is not None:\n",
    "    m2.bias = nn.Parameter(m.bias.clone().float())\n",
    "m2 = m2.cpu()\n",
    "\n",
    "lm_head = m2\n",
    "m = None\n"
   ]
  },
  {
   "cell_type": "code",
   "execution_count": 16,
   "metadata": {},
   "outputs": [
    {
     "name": "stdout",
     "output_type": "stream",
     "text": [
      "Using full SVD with 3072 singular values\n"
     ]
    }
   ],
   "source": [
    "decomposer = OptimizedSVDDecomposer(lm_head)  # Adjust epsilon as needed"
   ]
  },
  {
   "cell_type": "code",
   "execution_count": 17,
   "metadata": {},
   "outputs": [],
   "source": [
    "# get batch of hidden states\n",
    "from reprpo.helpers.torch import clear_mem\n",
    "from trl.trainer.utils import pad_to_length\n",
    "from torch import Tensor\n",
    "from jaxtyping import Float\n",
    "\n",
    "\n",
    "\n",
    "# @torch.cuda.amp.autocast()\n",
    "def get_hs(trainer, model, batch, collect_gradient=False):\n",
    "    model.zero_grad()\n",
    "    model.train()\n",
    "\n",
    "    if collect_gradient:\n",
    "        raise NotImplementedError('Not implemented yet, gradient is None?')\n",
    "        def make_inputs_require_grad(module, input, output):\n",
    "            output.requires_grad_(True)\n",
    "        model.get_input_embeddings().register_forward_hook(make_inputs_require_grad)\n",
    "\n",
    "    \n",
    "    (\n",
    "        chosen_logps,\n",
    "        rejected_logps,\n",
    "        chosen_logits,\n",
    "        rejected_logits,\n",
    "        _,\n",
    "        chosen_hs,\n",
    "        rejected_hs,\n",
    "        chosen_attn_mask,\n",
    "        rejected_attn_mask\n",
    "    ) = trainer.concatenated_forward(trainer.model, batch)\n",
    "\n",
    "    r = dict(chosen_hs=chosen_hs, rejected_hs=rejected_hs, chosen_logps=chosen_logps, rejected_logps=rejected_logps, chosen_attn_mask=chosen_attn_mask, rejected_attn_mask=rejected_attn_mask)\n",
    "\n",
    "\n",
    "    if collect_gradient:\n",
    "        chosen_hs.retain_grad()\n",
    "        rejected_hs.retain_grad()\n",
    "        loss = (chosen_logps - rejected_logps).mean()\n",
    "        trainer.accelerator.backward(loss)\n",
    "        print('chosen_hs.grad', chosen_hs.grad)\n",
    "        assert chosen_hs.grad is not None, 'FIXME'\n",
    "        r['chosen_hs_grad'] = chosen_hs.grad\n",
    "        r['rejected_hs_grad'] = rejected_hs.grad\n",
    "\n",
    "\n",
    "\n",
    "    # get unembected hs\n",
    "    r['chosen_unemb'] = model.lm_head(chosen_hs)\n",
    "    r['rejected_unemb'] = model.lm_head(rejected_hs)\n",
    "\n",
    "    def get_layer_logps(trainer, hidden_states: Float[Tensor, 'b l t h'], labels: Float[Tensor, 'b t'], log_softmax=True):\n",
    "        # pad to length\n",
    "        hidden_states = pad_to_length(hidden_states, trainer.max_length, pad_value=0)\n",
    "        labels = pad_to_length(labels, trainer.max_length, pad_value=trainer.label_pad_token_id)\n",
    "\n",
    "        # gather for each layer\n",
    "        logps = []\n",
    "        for layer in range(hidden_states.shape[1]):\n",
    "            all_logps, size_completion = trainer.get_batch_logps(\n",
    "                hidden_states[:, layer],\n",
    "                labels,\n",
    "                label_pad_token_id=trainer.label_pad_token_id,\n",
    "                log_softmax=log_softmax\n",
    "                )\n",
    "            all_logps = all_logps / size_completion\n",
    "            logps.append(all_logps)\n",
    "        all_logps = torch.stack(logps, dim=1)\n",
    "        return all_logps\n",
    "    \n",
    "    # get fake logp from unemb_hs\n",
    "    r['chosen_gthr_logps_unemb'] = get_layer_logps(trainer, r['chosen_unemb'], batch[\"chosen_labels\"])\n",
    "    r['rejection_gthr_logps_unemb'] = get_layer_logps(trainer, r['rejected_unemb'], batch[\"rejected_labels\"])\n",
    "\n",
    "    r['chosen_gthr_unemb'] = get_layer_logps(trainer, r['chosen_unemb'], batch[\"chosen_labels\"], log_softmax=False)\n",
    "    r['rejection_gthr_unemb'] = get_layer_logps(trainer, r['rejected_unemb'], batch[\"rejected_labels\"], log_softmax=False)\n",
    "    \n",
    "    # we reuse the function, adding a fake layer dim, and squeezing it out\n",
    "    r['chosen_gthr_logits'] = get_layer_logps(trainer, chosen_logits[:, None], batch[\"chosen_labels\"], log_softmax=False).squeeze(1)\n",
    "    r['rejected_gthr_logits'] = get_layer_logps(trainer, rejected_logits[:, None], batch[\"rejected_labels\"], log_softmax=False).squeeze(1)\n",
    "\n",
    "    # unproject for chosen_hs and rejected_hs\n",
    "    for k in list(r.keys()):\n",
    "        if k.endswith('_hs'):\n",
    "            hs_r, hs_h = decomposer.decompose(r[k])\n",
    "            r[k+'_r'] = hs_r\n",
    "            r[k+'_h'] = hs_h\n",
    "\n",
    "    r = {k: recursive_copy(v, clone=True, detach=True).detach().cpu() for k, v in r.items()}\n",
    "    loss = chosen_hs = rejected_hs = chosen_logps = rejected_logps = chosen_logits = rejected_logits = None\n",
    "    clear_mem(trainer)\n",
    "    \n",
    "    return r"
   ]
  },
  {
   "cell_type": "code",
   "execution_count": 18,
   "metadata": {},
   "outputs": [
    {
     "data": {
      "application/vnd.jupyter.widget-view+json": {
       "model_id": "91e4d2136fac4242a6535b4311700be5",
       "version_major": 2,
       "version_minor": 0
      },
      "text/plain": [
       "  0%|          | 0/54 [00:00<?, ?it/s]"
      ]
     },
     "metadata": {},
     "output_type": "display_data"
    },
    {
     "data": {
      "text/plain": [
       "torch.Size([66, 1, 128, 3072])"
      ]
     },
     "execution_count": 18,
     "metadata": {},
     "output_type": "execute_result"
    }
   ],
   "source": [
    "\n",
    "n = 0 \n",
    "\n",
    "dl = reprpo_trainer.get_train_dataloader()\n",
    "data = []\n",
    "for batch in tqdm(dl):\n",
    "    with reprpo_trainer.null_ref_context():\n",
    "        r = get_hs(reprpo_trainer, reprpo_trainer.model, batch)\n",
    "        data.append(r)\n",
    "        n += r['chosen_hs'].shape[0]\n",
    "        if n > 64:\n",
    "            break\n",
    "\n",
    "# concat\n",
    "data = {k: torch.cat([d[k] for d in data], dim=0) for k in data[0].keys()}\n",
    "data['chosen_hs'].shape"
   ]
  },
  {
   "cell_type": "code",
   "execution_count": 19,
   "metadata": {},
   "outputs": [],
   "source": [
    "clear_mem(reprpo_trainer)\n"
   ]
  },
  {
   "cell_type": "code",
   "execution_count": null,
   "metadata": {},
   "outputs": [],
   "source": []
  },
  {
   "cell_type": "code",
   "execution_count": 20,
   "metadata": {},
   "outputs": [],
   "source": [
    "# TODO try getting residual hidden states are removing what might be used by lm_head, e.g. disentangling the part not projected\n",
    "model = None\n",
    "clear_mem(reprpo_trainer)\n",
    "reprpo_trainer = None\n",
    "clear_mem()"
   ]
  },
  {
   "cell_type": "markdown",
   "metadata": {},
   "source": [
    "### Disentangling hiddenstates into inner and head components\n",
    "\n",
    "Hypothesis: hidden states contain both \"output-directed\" information (what will be unembedded to logits) and \"internal processing\" information. This seems possible because 1) we can unembed the hidden states 2) the hidden states remain fairly constant throughout the layer being additivly transformed by residual connections.\n",
    "\n",
    "Test: do we get a better correlation with concepts. And does it generalise?"
   ]
  },
  {
   "cell_type": "markdown",
   "metadata": {},
   "source": [
    "## Get samples"
   ]
  },
  {
   "cell_type": "code",
   "execution_count": 21,
   "metadata": {},
   "outputs": [
    {
     "data": {
      "text/plain": [
       "dict_keys(['chosen_hs', 'rejected_hs', 'chosen_logps', 'rejected_logps', 'chosen_attn_mask', 'rejected_attn_mask', 'chosen_unemb', 'rejected_unemb', 'chosen_gthr_logps_unemb', 'rejection_gthr_logps_unemb', 'chosen_gthr_unemb', 'rejection_gthr_unemb', 'chosen_gthr_logits', 'rejected_gthr_logits', 'chosen_hs_r', 'chosen_hs_h', 'rejected_hs_r', 'rejected_hs_h'])"
      ]
     },
     "execution_count": 21,
     "metadata": {},
     "output_type": "execute_result"
    }
   ],
   "source": [
    "data.keys()"
   ]
  },
  {
   "cell_type": "code",
   "execution_count": 24,
   "metadata": {},
   "outputs": [],
   "source": [
    "# hsC_r, hsC_h = decomposer.decompose(data['chosen_hs'])\n",
    "# hsR_r, hsR_h = decomposer.decompose(data['rejected_hs'])\n",
    "# (hsC_r-hsC_r).mean(), (hsC_h-hsC_h).mean(), (hsR_r-hsR_r).mean(), (hsR_h-hsR_h).mean()"
   ]
  },
  {
   "cell_type": "code",
   "execution_count": 26,
   "metadata": {},
   "outputs": [],
   "source": [
    "# hsC_r, hsC_h = decomposer.decompose(data['chosen_hs'][:, 0, 0].float())\n",
    "# hsR_r, hsR_h = decomposer.decompose(data['rejected_hs'][:, 0, 0].float())\n",
    "# (hsC_r-hsC_r).mean(), (hsC_h-hsC_h).mean(), (hsR_r-hsR_r).mean(), (hsR_h-hsR_h).mean()"
   ]
  },
  {
   "cell_type": "code",
   "execution_count": null,
   "metadata": {},
   "outputs": [],
   "source": [
    "# decomposer = OptimizedSVDDecomposer(lm_head, epsilon=1e-4)"
   ]
  },
  {
   "cell_type": "code",
   "execution_count": 85,
   "metadata": {},
   "outputs": [],
   "source": [
    "# H = data['rejected_hs'][:, 0, 0].float()\n",
    "# hs_r, hs_h = decomposer.decompose(H)\n",
    "# H_reconstructed = decomposer.reconstruct_from_residual(hs_r)-H\n",
    "# error = torch.norm(H - H_reconstructed, dim=-1).mean()\n",
    "# error"
   ]
  },
  {
   "cell_type": "code",
   "execution_count": 34,
   "metadata": {},
   "outputs": [],
   "source": [
    "# H = data['chosen_hs'][:, 0, 0].float()\n",
    "# hs_r, hs_h = decomposer.decompose(H)\n",
    "# H_reconstructed = decomposer.reconstruct_from_residual(hs_r)-H\n",
    "# error = torch.norm(H - H_reconstructed, dim=-1).mean()\n",
    "# error"
   ]
  },
  {
   "cell_type": "code",
   "execution_count": 32,
   "metadata": {},
   "outputs": [
    {
     "data": {
      "text/plain": [
       "tensor(1335.6732)"
      ]
     },
     "execution_count": 32,
     "metadata": {},
     "output_type": "execute_result"
    }
   ],
   "source": [
    "(data['chosen_hs_h']-data['rejected_hs_h']).abs().max()"
   ]
  },
  {
   "cell_type": "code",
   "execution_count": 31,
   "metadata": {},
   "outputs": [
    {
     "data": {
      "text/plain": [
       "tensor(4509.4600)"
      ]
     },
     "execution_count": 31,
     "metadata": {},
     "output_type": "execute_result"
    }
   ],
   "source": [
    "(data['chosen_hs_r']-data['rejected_hs_r']).abs().max()"
   ]
  },
  {
   "cell_type": "code",
   "execution_count": 33,
   "metadata": {},
   "outputs": [
    {
     "data": {
      "text/plain": [
       "tensor(4509.4600)"
      ]
     },
     "execution_count": 33,
     "metadata": {},
     "output_type": "execute_result"
    }
   ],
   "source": [
    "(data['chosen_hs_r']-data['rejected_hs_r']).abs().max()"
   ]
  },
  {
   "cell_type": "code",
   "execution_count": 35,
   "metadata": {},
   "outputs": [
    {
     "data": {
      "text/plain": [
       "torch.Size([33])"
      ]
     },
     "execution_count": 35,
     "metadata": {},
     "output_type": "execute_result"
    }
   ],
   "source": [
    "# get some data samples\n",
    "layer = 0\n",
    "C = data['chosen_hs_r'].float() # we could also consider unembedding them, whith the lm head, this might make them more interpretable, but also a bit large\n",
    "R = data['rejected_hs_r'].float()\n",
    "\n",
    "CA = data['chosen_attn_mask']\n",
    "RA = data['rejected_attn_mask']\n",
    "\n",
    "M = 100\n",
    "A2 = CA * RA # use both attn masks when comparing?\n",
    "\n",
    "# choose layer, mean over tokens\n",
    "C = mult_with_attention(C, A2)[:M, layer]\n",
    "C = reduce(C, 'b t h -> b h', 'mean')\n",
    "R = mult_with_attention(R, A2)[:M, layer]\n",
    "R = reduce(R, 'b t h -> b h', 'mean')\n",
    "\n",
    "# compare two unrelated sets of samples, that way we have ones that should show the difference and ones that shouldn't show the difference we arel ooking for\n",
    "n = len(C)//2\n",
    "C1 = C[:n] # chosen pair 1\n",
    "R1 = R[:n] # rejected pair 1\n",
    "C2 = C[n:] # chosen, pair 2\n",
    "R2 = R[n:] # rejected pair 2\n",
    "\n",
    "\n",
    "# now we choose what to test correlations with. At first I tried the logprobs but they have been through a softmax which makes them relative and hard to compare to the hidden states\n",
    "# so instead we are going to try the hidden states values that corresponded to the \n",
    "\n",
    "# logratios = data['chosen_logps'] - data['rejected_logps'] # the logp is the log probability (mean per token) of this response, logratios is the log ratio of probs, this should be correlated with the direction we are seeking in the hidden states\n",
    "\n",
    "# logratios = (data['chosen_gthr_logits'] - data['rejected_gthr_logits'])#.exp()\n",
    "logratios = data['chosen_gthr_unemb'][:, layer] - data['rejection_gthr_unemb'][:, layer]\n",
    "logratios = logratios.float()\n",
    "\n",
    "# we can use this to check the null hypothesis, as the `roll` operation mixes up the batch dimension, so they are unrelated\n",
    "# logratios_unrelated = logratios.roll(1, 0)\n",
    "\n",
    "logratios1 = logratios[:n]\n",
    "logratios2 = logratios[n:]\n",
    "logratios2.shape"
   ]
  },
  {
   "cell_type": "markdown",
   "metadata": {},
   "source": [
    "## Hypothesis\n",
    "\n",
    "### Magnitude/norm is correlated with result?\n",
    "\n",
    "Is the amplitude of A-B related to the logp?"
   ]
  },
  {
   "cell_type": "code",
   "execution_count": 36,
   "metadata": {},
   "outputs": [],
   "source": [
    "# logratios"
   ]
  },
  {
   "cell_type": "code",
   "execution_count": 86,
   "metadata": {},
   "outputs": [
    {
     "name": "stdout",
     "output_type": "stream",
     "text": [
      "does the magnitude of the hs_unemb correlate with the prob ratio (across batches)? if so it's a good repr\n",
      "should be significantly bigger\n",
      "Hypothesis: corr>corr_null\n",
      "          : 0.494 > 0.140\n",
      "Residual  : = corr - corr_null\n",
      "Residual  : = 0.353 ✅\n",
      "\n",
      "should pass\n",
      "Hypothesis: corr>corr_null\n",
      "          : 0.184 > -0.172\n",
      "Residual  : = corr - corr_null\n",
      "Residual  : = 0.356 ✅\n",
      "\n"
     ]
    },
    {
     "ename": "",
     "evalue": "",
     "output_type": "error",
     "traceback": [
      "\u001b[1;31mThe Kernel crashed while executing code in the current cell or a previous cell. \n",
      "\u001b[1;31mPlease review the code in the cell(s) to identify a possible cause of the failure. \n",
      "\u001b[1;31mClick <a href='https://aka.ms/vscodeJupyterKernelCrash'>here</a> for more info. \n",
      "\u001b[1;31mView Jupyter <a href='command:jupyter.viewOutput'>log</a> for further details."
     ]
    }
   ],
   "source": [
    "# ur using abs corrcoef\n",
    "def acorr(A, B):\n",
    "    return (np.corrcoef(A, B, rowvar=True)[0, 1])\n",
    "\n",
    "def mag_corr(C, R, logratios):\n",
    "    hs_d = torch.norm(C-R, dim=-1, p=2) # get magnitude of the difference\n",
    "    corr = acorr(hs_d, logratios)\n",
    "    # note that after flipping we ruin the order, and they should be uncorrelated except for the middle one if it's odd\n",
    "    corr_null = acorr(hs_d, logratios.roll(1, 0))\n",
    "    return corr, corr_null\n",
    "    \n",
    "\n",
    "print('does the magnitude of the hs_unemb correlate with the prob ratio (across batches)? if so it\\'s a good repr')\n",
    "\n",
    "print(\"should be significantly bigger\")\n",
    "corr, corr_null = mag_corr(C1, R1, logratios1)\n",
    "shypothesis(\"corr>corr_null\", variables=dict(corr=corr, corr_null=corr_null))\n",
    "\n",
    "print(\"should pass\")\n",
    "corr, corr_null = mag_corr(C2, R2, logratios2)\n",
    "shypothesis(\"corr>corr_null\", variables=dict(corr=corr, corr_null=corr_null))"
   ]
  },
  {
   "cell_type": "markdown",
   "metadata": {},
   "source": [
    "#### Is it significant?"
   ]
  },
  {
   "cell_type": "code",
   "execution_count": 44,
   "metadata": {},
   "outputs": [
    {
     "name": "stdout",
     "output_type": "stream",
     "text": [
      "is the red line outside the distribution of null correlations?\n"
     ]
    },
    {
     "data": {
      "image/png": "[encoded data removed]",
      "text/plain": [
       "<Figure size 640x480 with 1 Axes>"
      ]
     },
     "metadata": {},
     "output_type": "display_data"
    },
    {
     "name": "stdout",
     "output_type": "stream",
     "text": [
      "P-value: 0.029\n"
     ]
    },
    {
     "data": {
      "image/png": "[encoded data removed]",
      "text/plain": [
       "<Figure size 640x480 with 1 Axes>"
      ]
     },
     "metadata": {},
     "output_type": "display_data"
    },
    {
     "name": "stdout",
     "output_type": "stream",
     "text": [
      "P-value: 0.235\n"
     ]
    }
   ],
   "source": [
    "def permutation_test(C, R, logratios, n_permutations=100):\n",
    "\n",
    "    n_permutations = min(n_permutations, len(logratios))\n",
    "\n",
    "    true_corr = np.corrcoef(\n",
    "        torch.norm(C - R, dim=-1, p=2), \n",
    "        logratios)[0, 1]\n",
    "    \n",
    "    null_corrs = []\n",
    "    for _ in range(n_permutations):\n",
    "        perm_logratios = logratios[torch.randperm(len(logratios))]\n",
    "        null_corrs.append(np.corrcoef(torch.norm(C - R, dim=-1, p=2), perm_logratios)[0, 1])\n",
    "    \n",
    "    plt.hist(null_corrs, bins=50, label='null_corrs')\n",
    "    plt.axvline(true_corr, color='r', linestyle='dashed', linewidth=2, label='true_corr')\n",
    "    plt.title('Permutation Test')\n",
    "    plt.xlabel('Correlation')\n",
    "    plt.ylabel('Frequency')\n",
    "    plt.legend()\n",
    "    plt.show()\n",
    "    \n",
    "    p_value = (np.sum(np.abs(null_corrs) >= np.abs(true_corr)) + 1) / (n_permutations + 1)\n",
    "    print(f\"P-value: {p_value:.3f}\")\n",
    "\n",
    "print('is the red line outside the distribution of null correlations?')\n",
    "permutation_test(C1, R1, logratios1)\n",
    "permutation_test(C2, R2, logratios2)\n",
    "# FAIL"
   ]
  },
  {
   "cell_type": "markdown",
   "metadata": {},
   "source": [
    "### spearmanr kendalltau"
   ]
  },
  {
   "cell_type": "code",
   "execution_count": 39,
   "metadata": {},
   "outputs": [],
   "source": [
    "import numpy as np"
   ]
  },
  {
   "cell_type": "code",
   "execution_count": 41,
   "metadata": {},
   "outputs": [
    {
     "name": "stdout",
     "output_type": "stream",
     "text": [
      "spearmanr measure of dist ~ logratios should be large and significant\n",
      "Hypothesis: corr>n_corr\n",
      "          : 0.256 > 0.092\n",
      "Residual  : = corr - n_corr\n",
      "Residual  : = 0.164 ✅\n",
      "\n",
      "Hypothesis: p<0.2\n",
      "          : 0.150 < 0.200\n",
      "Residual  : = p - 0.2\n",
      "Residual  : = -0.050 ✅\n",
      "\n",
      "kendalltau measure of dist ~ logratios should be large and significant\n",
      "Hypothesis: corr>n_corr\n",
      "          : 0.170 > 0.078\n",
      "Residual  : = corr - n_corr\n",
      "Residual  : = 0.092 ✅\n",
      "\n",
      "Hypothesis: p<0.2\n",
      "          : 0.167 < 0.200\n",
      "Residual  : = p - 0.2\n",
      "Residual  : = -0.033 ✅\n",
      "\n",
      "Hypothesis: n_p>0.2\n",
      "          : 0.525 > 0.200\n",
      "Residual  : = n_p - 0.2\n",
      "Residual  : = 0.325 ✅\n",
      "\n"
     ]
    }
   ],
   "source": [
    "from scipy import stats\n",
    "\n",
    "\n",
    "def correlation_dist(C, R, logratios):\n",
    "    distances = torch.norm(C - R, dim=-1)\n",
    "    logratios = logratios.cpu().numpy()\n",
    "    corr, p = stats.spearmanr(distances, logratios)\n",
    "    return np.abs(corr), p\n",
    "\n",
    "print('spearmanr measure of dist ~ logratios should be large and significant')\n",
    "corr, p = correlation_dist(C1, R1, logratios1)\n",
    "n_corr, n_p = correlation_dist(C1, R1, logratios1.roll(1, 0))\n",
    "shypothesis('corr>n_corr', variables=locals())\n",
    "shypothesis('p<0.2', variables=locals())\n",
    "\n",
    "def kendalltau_dist(C, R, logratios):\n",
    "    distances = torch.norm(C - R, dim=-1)\n",
    "    logratios = logratios.cpu().numpy()\n",
    "    corr, p = stats.kendalltau(distances, logratios)\n",
    "    return np.abs(corr), p\n",
    "\n",
    "print('kendalltau measure of dist ~ logratios should be large and significant')\n",
    "corr, p = kendalltau_dist(C1, R1, logratios1)\n",
    "n_corr, n_p = kendalltau_dist(C1, R1, logratios1.roll(1, 0))\n",
    "shypothesis('corr>n_corr', variables=locals())\n",
    "shypothesis('p<0.2', variables=locals())\n",
    "shypothesis('n_p>0.2', variables=locals())"
   ]
  },
  {
   "cell_type": "code",
   "execution_count": null,
   "metadata": {},
   "outputs": [],
   "source": []
  },
  {
   "cell_type": "code",
   "execution_count": 42,
   "metadata": {},
   "outputs": [
    {
     "name": "stdout",
     "output_type": "stream",
     "text": [
      "\n",
      "Testing angle_similarity_correlation:\n",
      "Similarity of related ones should be higher\n",
      "Hypothesis: c111 > c112\n",
      "          : c111 > c112\n",
      "     Where: {'c112': 0.04393696167948609, 'c111': 0.43047465427745973}\n",
      "          : 0.430 > 0.044\n",
      "Residual  : = c111 - c112\n",
      "Residual  : = 0.387 ✅\n",
      "\n",
      "Hypothesis: c222 > c221\n",
      "          : 0.049 > 0.175\n",
      "Residual  : = -c221 + c222\n",
      "Residual  : = -0.126 ❌\n",
      "\n",
      "\n",
      "Testing norm_difference_correlation:\n",
      "Similarity of related ones should be higher\n",
      "Hypothesis: c111 > c112\n",
      "          : c111 > c112\n",
      "     Where: {'c112': 0.08703309300812705, 'c111': 0.36625025494666746}\n",
      "          : 0.366 > 0.087\n",
      "Residual  : = c111 - c112\n",
      "Residual  : = 0.279 ✅\n",
      "\n",
      "Hypothesis: c222 > c221\n",
      "          : 0.026 > 0.052\n",
      "Residual  : = -c221 + c222\n",
      "Residual  : = -0.026 ❌\n",
      "\n",
      "\n",
      "Testing magnitude_correlation:\n",
      "Similarity of related ones should be higher\n",
      "Hypothesis: c111 > c112\n",
      "          : c111 > c112\n",
      "     Where: {'c112': 0.18932139533856315, 'c111': 0.15721044738795775}\n",
      "          : 0.157 > 0.189\n",
      "Residual  : = c111 - c112\n",
      "Residual  : = -0.032 ❌\n",
      "\n",
      "Hypothesis: c222 > c221\n",
      "          : 0.207 > 0.339\n",
      "Residual  : = -c221 + c222\n",
      "Residual  : = -0.132 ❌\n",
      "\n",
      "\n",
      "Testing inner_product_correlation:\n",
      "Similarity of related ones should be higher\n",
      "Hypothesis: c111 > c112\n",
      "          : c111 > c112\n",
      "     Where: {'c112': 0.04696282677986383, 'c111': 0.10119931589724394}\n",
      "          : 0.101 > 0.047\n",
      "Residual  : = c111 - c112\n",
      "Residual  : = 0.054 ✅\n",
      "\n",
      "Hypothesis: c222 > c221\n",
      "          : 0.078 > 0.222\n",
      "Residual  : = -c221 + c222\n",
      "Residual  : = -0.144 ❌\n",
      "\n"
     ]
    }
   ],
   "source": [
    "import torch\n",
    "import torch.nn.functional as F\n",
    "import numpy as np\n",
    "\n",
    "def angle_similarity_correlation(C, R, logratios):\n",
    "    C_norm = F.normalize(C, p=2, dim=-1)\n",
    "    R_norm = F.normalize(R, p=2, dim=-1)\n",
    "    angle = torch.acos(torch.clamp(torch.sum(C_norm * R_norm, dim=-1), -1.0, 1.0))\n",
    "    corrs = np.corrcoef(angle.cpu().numpy(), logratios.cpu().numpy())[0, 1]\n",
    "    return np.abs(corrs)\n",
    "\n",
    "def norm_difference_correlation(C, R, logratios):\n",
    "    norm_diff = torch.norm(C, dim=-1) - torch.norm(R, dim=-1)\n",
    "    corrs = np.corrcoef(norm_diff.cpu().numpy(), logratios.cpu().numpy())[0, 1]\n",
    "    return np.abs(corrs)\n",
    "\n",
    "def magnitude_correlation(C, R, logratios):\n",
    "    magnitude_diff = torch.abs(C - R).mean(dim=-1)\n",
    "    corrs = np.corrcoef(magnitude_diff.cpu().numpy(), logratios.cpu().numpy())[0, 1]\n",
    "    return np.abs(corrs)\n",
    "\n",
    "def inner_product_correlation(C, R, logratios):\n",
    "    inner_prod = torch.sum(C * R, dim=-1)\n",
    "    corrs = np.corrcoef(inner_prod.cpu().numpy(), logratios.cpu().numpy())[0, 1]\n",
    "    return np.abs(corrs)\n",
    "\n",
    "# Usage\n",
    "def run_all_tests(C1, R1, C2, R2, logratios1, logratios2):\n",
    "    tests = [\n",
    "        angle_similarity_correlation,\n",
    "        norm_difference_correlation,\n",
    "        magnitude_correlation,\n",
    "        inner_product_correlation\n",
    "    ]\n",
    "    \n",
    "    for test in tests:\n",
    "        print(f\"\\nTesting {test.__name__}:\")\n",
    "        c111 = test(C1, R1, logratios1)\n",
    "        c222 = test(C2, R2, logratios2)\n",
    "        c112 = test(C1, R1, logratios1.roll(1, 0))\n",
    "        c221 = test(C2, R2, logratios2.roll(1, 0))\n",
    "        \n",
    "        print('Similarity of related ones should be higher')\n",
    "        shypothesis('c111 > c112', variables=locals(), verbose=True)\n",
    "        shypothesis('c222 > c221', variables=locals())\n",
    "        # Uncomment these if you want to test across different pairs\n",
    "        # shypothesis('c111 > c221', variables=locals())\n",
    "        # shypothesis('c222 > c112', variables=locals())\n",
    "\n",
    "# Run all tests\n",
    "run_all_tests(C1, R1, C2, R2, logratios1, logratios2)"
   ]
  },
  {
   "cell_type": "markdown",
   "metadata": {},
   "source": [
    "### H: cosine_similarity_correlation"
   ]
  },
  {
   "cell_type": "code",
   "execution_count": 47,
   "metadata": {},
   "outputs": [
    {
     "name": "stdout",
     "output_type": "stream",
     "text": [
      "cosine similarity of related ones should be higher\n",
      "Hypothesis: c111 > c112\n",
      "          : c111 > c112\n",
      "     Where: {'c112': 0.07685789012498802, 'c111': 0.48415128775540195}\n",
      "          : 0.484 > 0.077\n",
      "Residual  : = c111 - c112\n",
      "Residual  : = 0.407 ✅\n",
      "\n",
      "Hypothesis: c222 > c221\n",
      "          : 0.081 > 0.172\n",
      "Residual  : = -c221 + c222\n",
      "Residual  : = -0.091 ❌\n",
      "\n"
     ]
    }
   ],
   "source": [
    "def cosine_similarity_correlation(C, R, logratios):\n",
    "    cos_sim = F.cosine_similarity(C, R, dim=-1)  # [batch, layers, tokens]\n",
    "\n",
    "    corrs = np.corrcoef(cos_sim, logratios)[0, 1] \n",
    "    \n",
    "    return np.abs(corrs)\n",
    "\n",
    "c111 = cosine_similarity_correlation(C1, R1, logratios1)\n",
    "c222 = cosine_similarity_correlation(C2, R2, logratios2)\n",
    "c112 = cosine_similarity_correlation(C1, R1, logratios1.roll(1, 0))\n",
    "c221 = cosine_similarity_correlation(C2, R2, logratios2.roll(1, 0))\n",
    "\n",
    "print('cosine similarity of related ones should be higher')\n",
    "shypothesis('c111 > c112', variables=locals(), verbose=True)\n",
    "shypothesis('c222 > c221', variables=locals())\n",
    "# shypothesis('c111 > c221', variables=locals())\n",
    "# shypothesis('c222 > c112', variables=locals())"
   ]
  },
  {
   "cell_type": "code",
   "execution_count": 50,
   "metadata": {},
   "outputs": [
    {
     "name": "stdout",
     "output_type": "stream",
     "text": [
      "C1-R1 with logratios1:\n",
      "Hypothesis: mi1>mi2\n",
      "          : nan > nan\n",
      "Residual  : = mi1 - mi2\n"
     ]
    },
    {
     "ename": "TypeError",
     "evalue": "Invalid NaN comparison",
     "output_type": "error",
     "traceback": [
      "\u001b[0;31m---------------------------------------------------------------------------\u001b[0m",
      "\u001b[0;31mTypeError\u001b[0m                                 Traceback (most recent call last)",
      "Cell \u001b[0;32mIn[50], line 33\u001b[0m\n\u001b[1;32m     30\u001b[0m kl2,js2,mi2 \u001b[38;5;241m=\u001b[39m info_theoretic_correlation(C1, R1, logratios1\u001b[38;5;241m.\u001b[39mroll(\u001b[38;5;241m1\u001b[39m, \u001b[38;5;241m0\u001b[39m))\n\u001b[1;32m     31\u001b[0m \u001b[38;5;66;03m# shypothesis('kl1>kl2', variables=locals())\u001b[39;00m\n\u001b[1;32m     32\u001b[0m \u001b[38;5;66;03m# shypothesis('js1>js2', variables=locals())\u001b[39;00m\n\u001b[0;32m---> 33\u001b[0m \u001b[43mshypothesis\u001b[49m\u001b[43m(\u001b[49m\u001b[38;5;124;43m'\u001b[39;49m\u001b[38;5;124;43mmi1>mi2\u001b[39;49m\u001b[38;5;124;43m'\u001b[39;49m\u001b[43m,\u001b[49m\u001b[43m \u001b[49m\u001b[43mvariables\u001b[49m\u001b[38;5;241;43m=\u001b[39;49m\u001b[38;5;28;43mlocals\u001b[39;49m\u001b[43m(\u001b[49m\u001b[43m)\u001b[49m\u001b[43m)\u001b[49m\n\u001b[1;32m     35\u001b[0m \u001b[38;5;28mprint\u001b[39m(\u001b[38;5;124m\"\u001b[39m\u001b[38;5;124mC2-R2 with logratios2:\u001b[39m\u001b[38;5;124m\"\u001b[39m)\n\u001b[1;32m     36\u001b[0m kl1,js1,mi1 \u001b[38;5;241m=\u001b[39m info_theoretic_correlation(C2, R2, logratios2)\n",
      "File \u001b[0;32m/media/wassname/SGIronWolf/projects5/elk/repr-preference-optimization/reprpo/helpers/shypothesis.py:56\u001b[0m, in \u001b[0;36mshypothesis\u001b[0;34m(hypothesis, variables, round, verbose)\u001b[0m\n\u001b[1;32m     53\u001b[0m     result_value \u001b[38;5;241m=\u001b[39m result_value\u001b[38;5;241m.\u001b[39mround(\u001b[38;5;28mround\u001b[39m)\n\u001b[1;32m     55\u001b[0m \u001b[38;5;66;03m# Determine the result\u001b[39;00m\n\u001b[0;32m---> 56\u001b[0m result \u001b[38;5;241m=\u001b[39m \u001b[43mop\u001b[49m\u001b[43m(\u001b[49m\u001b[43mresult_value\u001b[49m\u001b[43m,\u001b[49m\u001b[43m \u001b[49m\u001b[38;5;241;43m0\u001b[39;49m\u001b[43m)\u001b[49m\n\u001b[1;32m     58\u001b[0m \u001b[38;5;28mprint\u001b[39m(\u001b[38;5;124mf\u001b[39m\u001b[38;5;124m\"\u001b[39m\u001b[38;5;124mResidual  : = \u001b[39m\u001b[38;5;132;01m{\u001b[39;00mresult_value\u001b[38;5;132;01m}\u001b[39;00m\u001b[38;5;124m \u001b[39m\u001b[38;5;132;01m{\u001b[39;00m\u001b[38;5;124m'\u001b[39m\u001b[38;5;124m✅\u001b[39m\u001b[38;5;124m'\u001b[39m\u001b[38;5;250m \u001b[39m\u001b[38;5;28;01mif\u001b[39;00m\u001b[38;5;250m \u001b[39mresult\u001b[38;5;250m \u001b[39m\u001b[38;5;28;01melse\u001b[39;00m\u001b[38;5;250m \u001b[39m\u001b[38;5;124m'\u001b[39m\u001b[38;5;124m❌\u001b[39m\u001b[38;5;124m'\u001b[39m\u001b[38;5;132;01m}\u001b[39;00m\u001b[38;5;124m\"\u001b[39m)\n\u001b[1;32m     59\u001b[0m \u001b[38;5;28mprint\u001b[39m()\n",
      "File \u001b[0;32m/media/wassname/SGIronWolf/projects5/elk/repr-preference-optimization/.venv/lib/python3.9/site-packages/sympy/core/relational.py:843\u001b[0m, in \u001b[0;36m_Inequality.__new__\u001b[0;34m(cls, lhs, rhs, **options)\u001b[0m\n\u001b[1;32m    841\u001b[0m         \u001b[38;5;28;01mraise\u001b[39;00m \u001b[38;5;167;01mTypeError\u001b[39;00m(\u001b[38;5;124m\"\u001b[39m\u001b[38;5;124mInvalid comparison of non-real \u001b[39m\u001b[38;5;132;01m%s\u001b[39;00m\u001b[38;5;124m\"\u001b[39m \u001b[38;5;241m%\u001b[39m me)\n\u001b[1;32m    842\u001b[0m     \u001b[38;5;28;01mif\u001b[39;00m me \u001b[38;5;129;01mis\u001b[39;00m S\u001b[38;5;241m.\u001b[39mNaN:\n\u001b[0;32m--> 843\u001b[0m         \u001b[38;5;28;01mraise\u001b[39;00m \u001b[38;5;167;01mTypeError\u001b[39;00m(\u001b[38;5;124m\"\u001b[39m\u001b[38;5;124mInvalid NaN comparison\u001b[39m\u001b[38;5;124m\"\u001b[39m)\n\u001b[1;32m    844\u001b[0m \u001b[38;5;66;03m# First we invoke the appropriate inequality method of `lhs`\u001b[39;00m\n\u001b[1;32m    845\u001b[0m \u001b[38;5;66;03m# (e.g., `lhs.__lt__`).  That method will try to reduce to\u001b[39;00m\n\u001b[1;32m    846\u001b[0m \u001b[38;5;66;03m# boolean or raise an exception.  It may keep calling\u001b[39;00m\n\u001b[0;32m   (...)\u001b[0m\n\u001b[1;32m    850\u001b[0m \u001b[38;5;66;03m# exception).  In that case, it must call us with\u001b[39;00m\n\u001b[1;32m    851\u001b[0m \u001b[38;5;66;03m# `evaluate=False` to prevent infinite recursion.\u001b[39;00m\n\u001b[1;32m    852\u001b[0m \u001b[38;5;28;01mreturn\u001b[39;00m \u001b[38;5;28mcls\u001b[39m\u001b[38;5;241m.\u001b[39m_eval_relation(lhs, rhs, \u001b[38;5;241m*\u001b[39m\u001b[38;5;241m*\u001b[39moptions)\n",
      "\u001b[0;31mTypeError\u001b[0m: Invalid NaN comparison"
     ]
    }
   ],
   "source": [
    "def kl_divergence(p, q):\n",
    "    return (p * (p / q).log()).sum(dim=-1)\n",
    "\n",
    "def js_divergence(p, q):\n",
    "    m = 0.5 * (p + q)\n",
    "    return 0.5 * kl_divergence(p, m) + 0.5 * kl_divergence(q, m)\n",
    "\n",
    "def mutual_information(C, R):\n",
    "    joint = torch.einsum('bt,bt->bt', C, R)\n",
    "    joint = joint / joint.sum(dim=-1, keepdim=True)\n",
    "    mi = kl_divergence(joint, C * R)\n",
    "    return mi\n",
    "\n",
    "def info_theoretic_correlation(C, R, logratios):\n",
    "    C_norm = F.softmax(C, dim=-1)\n",
    "    R_norm = F.softmax(R, dim=-1)\n",
    "    \n",
    "    kl = kl_divergence(C_norm, R_norm)#.mean(dim=(1,))\n",
    "    js = js_divergence(C_norm, R_norm)#.mean(dim=(1,))\n",
    "    mi = mutual_information(C_norm, R_norm)#.mean(dim=(1,))\n",
    "    \n",
    "    kl_corr = np.abs(np.corrcoef(kl.cpu().numpy(), logratios)[0,1])\n",
    "    js_corr = np.abs(np.corrcoef(js.cpu().numpy(), logratios)[0,1])\n",
    "    mi_corr = np.abs(np.corrcoef(mi.cpu().numpy(), logratios)[0,1])\n",
    "    \n",
    "    return kl_corr, js_corr, mi_corr\n",
    "\n",
    "print(\"C1-R1 with logratios1:\")\n",
    "kl1,js1,mi1 = info_theoretic_correlation(C1, R1, logratios1)\n",
    "kl2,js2,mi2 = info_theoretic_correlation(C1, R1, logratios1.roll(1, 0))\n",
    "shypothesis('kl1>kl2', variables=locals())\n",
    "shypothesis('js1>js2', variables=locals())\n",
    "shypothesis('mi1>mi2', variables=locals())\n",
    "\n",
    "print(\"C2-R2 with logratios2:\")\n",
    "kl1,js1,mi1 = info_theoretic_correlation(C2, R2, logratios2)\n",
    "kl2,js2,mi2 = info_theoretic_correlation(C2, R2, logratios2.roll(1, 0))\n",
    "shypothesis('kl1>kl2', variables=locals())\n",
    "shypothesis('js1>js2', variables=locals())\n",
    "shypothesis('mi1>mi2', variables=locals())"
   ]
  },
  {
   "cell_type": "code",
   "execution_count": null,
   "metadata": {},
   "outputs": [],
   "source": []
  },
  {
   "cell_type": "code",
   "execution_count": null,
   "metadata": {},
   "outputs": [],
   "source": []
  },
  {
   "cell_type": "code",
   "execution_count": 59,
   "metadata": {},
   "outputs": [
    {
     "name": "stdout",
     "output_type": "stream",
     "text": [
      "Original difference: 113.40776062011719\n",
      "Rotated difference: 815.3988037109375\n",
      "Improvement: -619.00%\n",
      "Correlation before rotation: 0.49\n",
      "Correlation after rotation: 0.05\n",
      "Improvement: -90.57%\n",
      "\n",
      "Hypothesis: r > c\n",
      "          : 0.047 > 0.494\n",
      "Residual  : = -c + r\n",
      "Residual  : = -0.447 ❌\n",
      "\n",
      "Original difference: 126.20033264160156\n",
      "Rotated difference: 827.69921875\n",
      "Improvement: -555.86%\n",
      "Correlation before rotation: 0.18\n",
      "Correlation after rotation: 0.11\n",
      "Improvement: -39.68%\n",
      "\n",
      "Hypothesis: r > c\n",
      "          : 0.111 > 0.184\n",
      "Residual  : = -c + r\n",
      "Residual  : = -0.073 ❌\n",
      "\n",
      "Original difference: 126.20033264160156\n",
      "Rotated difference: 827.69921875\n",
      "Improvement: -555.86%\n",
      "Correlation before rotation: 0.17\n",
      "Correlation after rotation: 0.26\n",
      "Improvement: 52.03%\n",
      "\n",
      "Hypothesis: r > c\n",
      "          : 0.262 > 0.172\n",
      "Residual  : = -c + r\n",
      "Residual  : = 0.090 ✅\n",
      "\n",
      "Original difference: 113.40776062011719\n",
      "Rotated difference: 815.3988037109375\n",
      "Improvement: -619.00%\n",
      "Correlation before rotation: 0.14\n",
      "Correlation after rotation: 0.09\n",
      "Improvement: -38.20%\n",
      "\n",
      "Hypothesis: r > c\n",
      "          : 0.087 > 0.140\n",
      "Residual  : = -c + r\n",
      "Residual  : = -0.054 ❌\n",
      "\n"
     ]
    }
   ],
   "source": [
    "@torch.no_grad()\n",
    "def rotation_test(C, R, logratios):\n",
    "    def optimal_rotation(A, B):\n",
    "\n",
    "        corr_matrix = torch.mm(A.t(), B)\n",
    "        Q, _ = torch.linalg.qr(corr_matrix)\n",
    "        return Q\n",
    "    \n",
    "    def optimal_rotation(A, B):\n",
    "        corr_matrix = torch.mm(A.t(), B)\n",
    "        U, _, V = torch.linalg.svd(corr_matrix)\n",
    "        return torch.mm(U, V.t())\n",
    "    \n",
    "    R_opt = optimal_rotation(C, R)\n",
    "    R_rotated = torch.matmul(R, R_opt.t())\n",
    "    \n",
    "    a = C - R\n",
    "    b = C - R_rotated\n",
    "\n",
    "    # a -= a.mean(dim=-1, keepdim=True)\n",
    "    # b -= b.mean(dim=-1, keepdim=True)\n",
    "    # a /= torch.norm(a, dim=0, p=2, keepdim=True)\n",
    "    # b /= torch.norm(b, dim=0, p=2, keepdim=True)\n",
    "\n",
    "    original_diff = torch.norm(a, p=2)\n",
    "    rotated_diff = torch.norm(b, p=2)\n",
    "    \n",
    "    print(f\"Original difference: {original_diff}\")\n",
    "    print(f\"Rotated difference: {rotated_diff}\")\n",
    "    print(f\"Improvement: {(original_diff - rotated_diff) / original_diff * 100:.2f}%\")\n",
    "    \n",
    "    c = np.abs(np.corrcoef(torch.norm(a, dim=-1, p=2), logratios)[0, 1])\n",
    "    r = np.abs(np.corrcoef(torch.norm(b, dim=-1, p=2), logratios)[0, 1])\n",
    "    print(f\"Correlation before rotation: {c:.2f}\")\n",
    "    print(f\"Correlation after rotation: {r:.2f}\")\n",
    "    print(f\"Improvement: {(r - c) / c * 100:.2f}%\")\n",
    "    print()\n",
    "    shypothesis('r > c', variables=dict(r=r, c=c))\n",
    "    return R_opt, R_rotated\n",
    "\n",
    "# maybe I should softmax first?\n",
    "R_opt, R_rotated = rotation_test(C1, R1, logratios1)\n",
    "R_opt, R_rotated = rotation_test(C2, R2, logratios2)\n",
    "\n",
    "R_opt, R_rotated = rotation_test(C2, R2, logratios2.roll(1, 0))\n",
    "R_opt, R_rotated = rotation_test(C1, R1, logratios1.roll(1, 0))\n",
    "# R_opt, R_rotated = rotation_test(C2, R2, logratios1)\n",
    "# R_opt, R_rotated = rotation_test(C1, R1, logratios2)"
   ]
  },
  {
   "cell_type": "markdown",
   "metadata": {},
   "source": [
    "### Principal Component Analysis (PCA):\n",
    "Apply PCA to (A - B) pairs. If differences are primarily rotational, most variance should be explained by a few components."
   ]
  },
  {
   "cell_type": "code",
   "execution_count": 60,
   "metadata": {},
   "outputs": [
    {
     "name": "stdout",
     "output_type": "stream",
     "text": [
      "Hypothesis: e_a1b1 > e_a1b1roll\n",
      "          : 0.155 > 0.145\n",
      "Residual  : = e_a1b1 - e_a1b1roll\n",
      "Residual  : = 0.01 ✅\n",
      "\n",
      "Hypothesis: e_a1b1 > e_a1b1roll\n",
      "          : 0.154 > 0.134\n",
      "Residual  : = e_a1b1 - e_a1b1roll\n",
      "Residual  : = 0.019 ✅\n",
      "\n"
     ]
    }
   ],
   "source": [
    "from sklearn.decomposition import PCA\n",
    "\n",
    "def pca_exp_var(X, Y):\n",
    "    diffs = (X - Y).numpy()\n",
    "    s = diffs.std()\n",
    "    diffs /= s\n",
    "    # axis 1, norm each neuron across the batch\n",
    "    # diffs /= diffs.std(1, keepdims=True) + 1e-3\n",
    "    pca = PCA(n_components=5)\n",
    "    pca.fit(diffs)\n",
    "    r = pca.explained_variance_ratio_.mean()\n",
    "    return r\n",
    "\n",
    "\n",
    "# \n",
    "e_a1b1 = pca_exp_var(C1, R1)\n",
    "e_a1b1roll = pca_exp_var(C1, R1.roll(1, 0))\n",
    "shypothesis('e_a1b1 > e_a1b1roll', variables=locals())\n",
    "\n",
    "e_a1b1 = pca_exp_var(C2, R2)\n",
    "e_a1b1roll = pca_exp_var(C2, R2.roll(1, 0))\n",
    "shypothesis('e_a1b1 > e_a1b1roll', variables=locals())\n",
    "\n",
    "# e_a1a2 = pca_exp_var(C1, C2)\n",
    "# e_a1b2 = pca_exp_var(C1, R2)\n",
    "# e_b1b2 = pca_exp_var(R1, R2)\n",
    "# e_b1a1 = pca_exp_var(R1, C1)\n",
    "# e_b1a2 = pca_exp_var(R1, C2)\n",
    "\n",
    "# print('PCA explained variance ratio')\n",
    "# print('A1-B1', e_a1b2)\n",
    "# shypothesis('e_a1b1 > e_a1a2', variables=locals())\n",
    "# shypothesis('e_a1b1 > e_a1b2', variables=locals())\n",
    "# shypothesis('e_a1b1 > e_b1b2', variables=locals()) # should be inconclusive\n",
    "# e_a1b2, e_a1a2, e_a1b2, e_b1b2"
   ]
  },
  {
   "cell_type": "markdown",
   "metadata": {},
   "source": [
    "## mutual_information"
   ]
  },
  {
   "cell_type": "code",
   "execution_count": 61,
   "metadata": {},
   "outputs": [
    {
     "name": "stdout",
     "output_type": "stream",
     "text": [
      "do the paired hs have information shared with the logratios?\n",
      "Mutual Information: 0.03457561427106537\n",
      "Mutual Information: 0.08498625351963374\n",
      "Hypothesis: mi1 > mi2\n",
      "          : 0.035 > 0.085\n",
      "Residual  : = mi1 - mi2\n",
      "Residual  : = -0.050 ❌\n",
      "\n"
     ]
    }
   ],
   "source": [
    "from sklearn.feature_selection import mutual_info_regression\n",
    "\n",
    "def mutual_information(C, R, logratios):\n",
    "    distances = torch.norm(C - R, dim=-1, p=2, keepdim=True)\n",
    "    mi = mutual_info_regression(distances, logratios)[0]\n",
    "    print(f\"Mutual Information: {mi}\")\n",
    "    return mi\n",
    "\n",
    "print('do the paired hs have information shared with the logratios?')\n",
    "mi1 = mutual_information(C1, R1, logratios1)\n",
    "mi2 = mutual_information(C1, R1, logratios1.roll(1, 0));\n",
    "shypothesis('mi1 > mi2', variables=locals())"
   ]
  },
  {
   "cell_type": "markdown",
   "metadata": {},
   "source": [
    "### Frobenius Norm Comparison:\n",
    "Compare ||A - B||_F with ||A - RB||_F where R is the optimal rotation. The latter should be significantly smaller if rotations capture most differences."
   ]
  },
  {
   "cell_type": "code",
   "execution_count": 62,
   "metadata": {},
   "outputs": [
    {
     "name": "stdout",
     "output_type": "stream",
     "text": [
      "passing means the paired samples can be rotated\n",
      "Hypothesis: rot_diff_norm < diff_norm\n",
      "          : 68.860 < 113.408\n",
      "Residual  : = -diff_norm + rot_diff_norm\n",
      "Residual  : = -44.548 ✅\n",
      "\n",
      "passing means the paired samples can be rotated\n",
      "Hypothesis: rot_diff_norm < diff_norm\n",
      "          : 76.573 < 126.200\n",
      "Residual  : = -diff_norm + rot_diff_norm\n",
      "Residual  : = -49.627 ✅\n",
      "\n",
      "passing means the unrelated samples can be rotated\n",
      "Hypothesis: rot_diff_norm > diff_norm\n",
      "          : 149.368 > 281.129\n",
      "Residual  : = -diff_norm + rot_diff_norm\n",
      "Residual  : = -131.761 ❌\n",
      "\n",
      "passing means the unrelated samples can be rotated\n",
      "Hypothesis: rot_diff_norm > diff_norm\n",
      "          : 150.004 > 273.379\n",
      "Residual  : = -diff_norm + rot_diff_norm\n",
      "Residual  : = -123.375 ❌\n",
      "\n"
     ]
    }
   ],
   "source": [
    "def norm_comparison(A, B):\n",
    "    diff_norm = torch.norm(A - B)\n",
    "    corr = torch.mm(A, B.t())\n",
    "    U, _, V = torch.svd(corr)\n",
    "    R = torch.mm(U, V.t())\n",
    "\n",
    "    B_rot = torch.mm(R, B)\n",
    "\n",
    "    rot_diff_norm = torch.norm(A - B_rot)\n",
    "    return diff_norm, rot_diff_norm\n",
    "\n",
    "print('passing means the paired samples can be rotated')\n",
    "diff_norm, rot_diff_norm= norm_comparison(C1, R1)\n",
    "shypothesis('rot_diff_norm < diff_norm', variables=locals())\n",
    "\n",
    "print('passing means the paired samples can be rotated')\n",
    "diff_norm, rot_diff_norm= norm_comparison(C2, R2)\n",
    "# print(diff_norm, rot_diff_norm)\n",
    "shypothesis('rot_diff_norm < diff_norm', variables=locals())\n",
    "\n",
    "print('passing means the unrelated samples can be rotated')\n",
    "diff_norm, rot_diff_norm= norm_comparison(C1, R2)\n",
    "shypothesis('rot_diff_norm > diff_norm', variables=locals())\n",
    "\n",
    "print('passing means the unrelated samples can be rotated')\n",
    "diff_norm, rot_diff_norm= norm_comparison(C2, R1)\n",
    "# print(diff_norm, rot_diff_norm)\n",
    "shypothesis('rot_diff_norm > diff_norm', variables=locals())\n",
    "\n",
    "# UNEEXPECTED result: C and R are already in a similar direction! While unrelated ones are not\n",
    "# this implies that the preference concept that we want is not a factor of directions of the hidden states, but rather the magnitude of the difference between the two"
   ]
  },
  {
   "cell_type": "code",
   "execution_count": 70,
   "metadata": {},
   "outputs": [
    {
     "name": "stdout",
     "output_type": "stream",
     "text": [
      "are the magnitudes related?\n",
      "Hypothesis: (corr) > (corr_null)\n",
      "          : corr > corr_null\n",
      "     Where: {'corr': 0.36625025494666746, 'corr_null': -0.08703309300812705}\n",
      "          : 0.366 > -0.087\n",
      "Residual  : = corr - corr_null\n",
      "Residual  : = 0.453 ✅\n",
      "\n",
      "Hypothesis: (corr) > (corr_null)\n",
      "          : corr > corr_null\n",
      "     Where: {'corr': 0.026250059748043467, 'corr_null': -0.052039881477377835}\n",
      "          : 0.026 > -0.052\n",
      "Residual  : = corr - corr_null\n",
      "Residual  : = 0.078 ✅\n",
      "\n"
     ]
    }
   ],
   "source": [
    "print('are the magnitudes related?')\n",
    "def corr_mag(C, R, logratios):\n",
    "    c_norm = torch.norm(C, dim=-1)\n",
    "    r_norm = torch.norm(R, dim=-1)\n",
    "    norm_diffs = r_norm - c_norm\n",
    "    corr = (np.corrcoef(norm_diffs.flatten(), logratios)[0, 1])\n",
    "    corr_null = (np.corrcoef(norm_diffs.flatten(), logratios.roll(1, 0))[0, 1])\n",
    "    shypothesis('(corr) > (corr_null)', variables=locals(), verbose=True)\n",
    "\n",
    "\n",
    "corr_mag(C1, R1, logratios1)\n",
    "corr_mag(C2, R2, logratios2)"
   ]
  },
  {
   "cell_type": "code",
   "execution_count": 71,
   "metadata": {},
   "outputs": [
    {
     "data": {
      "text/plain": [
       "(tensor(281.1289), tensor(149.3681))"
      ]
     },
     "execution_count": 71,
     "metadata": {},
     "output_type": "execute_result"
    }
   ],
   "source": [
    "diff_norm, rot_diff_norm= norm_comparison(C1, R2)\n",
    "diff_norm, rot_diff_norm"
   ]
  },
  {
   "cell_type": "markdown",
   "metadata": {},
   "source": [
    "Angle Histogram:\n",
    "Plot histogram of angles between corresponding columns of A and B. Should be concentrated if differences are mainly rotational."
   ]
  },
  {
   "cell_type": "code",
   "execution_count": 72,
   "metadata": {},
   "outputs": [
    {
     "data": {
      "image/png": "[encoded data removed]",
      "text/plain": [
       "<Figure size 640x480 with 1 Axes>"
      ]
     },
     "metadata": {},
     "output_type": "display_data"
    }
   ],
   "source": [
    "def angle_histogram(A, B):\n",
    "    cos_sims = torch.sum(A * B, dim=0) / (torch.norm(A, dim=0) * torch.norm(B, dim=0))\n",
    "    angles = torch.acos(cos_sims) * 180 / np.pi\n",
    "    plt.hist(angles.numpy())\n",
    "    plt.show()\n",
    "\n",
    "angle_histogram(C1, R1)"
   ]
  },
  {
   "cell_type": "code",
   "execution_count": 73,
   "metadata": {},
   "outputs": [
    {
     "name": "stdout",
     "output_type": "stream",
     "text": [
      "Subspace scaling ratios: [1.01939375 1.08365488 0.98864894 1.01564459 0.95429491 1.02464319\n",
      " 1.02581661 0.97636767 1.02750389 0.97995817]\n",
      "Subspace scaling ratios: [0.8471911  1.12412563 0.88487471 0.96218172 0.58442386 0.67537654\n",
      " 0.52081231 0.73411265 0.97190868 0.75353601]\n"
     ]
    },
    {
     "data": {
      "text/plain": [
       "0.1703443658520913"
      ]
     },
     "execution_count": 73,
     "metadata": {},
     "output_type": "execute_result"
    }
   ],
   "source": [
    "def subspace_scaling(C, R, n_subspaces=10):\n",
    "    pca = PCA(n_components=n_subspaces)\n",
    "    pca.fit(np.vstack((C.reshape(-1, C.shape[-1]), R.reshape(-1, R.shape[-1]))))\n",
    "    c_proj = pca.transform(C.reshape(-1, C.shape[-1]))\n",
    "    r_proj = pca.transform(R.reshape(-1, R.shape[-1]))\n",
    "    scale_ratios = np.linalg.norm(c_proj, axis=0) / np.linalg.norm(r_proj, axis=0)\n",
    "    return scale_ratios\n",
    "\n",
    "scales = subspace_scaling(C1, R1)\n",
    "print(\"Subspace scaling ratios:\", scales)\n",
    "\n",
    "scales = subspace_scaling(C1, R2)\n",
    "print(\"Subspace scaling ratios:\", scales)\n",
    "\n",
    "# ??\n",
    "corr"
   ]
  },
  {
   "cell_type": "code",
   "execution_count": 76,
   "metadata": {},
   "outputs": [
    {
     "name": "stdout",
     "output_type": "stream",
     "text": [
      "Correlation of sparsity differences with logratios: -0.1256368900620531\n",
      "Correlation of sparsity differences with logratios: 0.14390908886819442\n",
      "unrelated, should be null results\n",
      "Correlation of sparsity differences with logratios: 0.11696235710909991\n",
      "Correlation of sparsity differences with logratios: -0.32468581965186244\n",
      "Hypothesis: c111 > c112\n",
      "          : -0.126 > 0.117\n",
      "Residual  : = c111 - c112\n",
      "Residual  : = -0.243 ❌\n",
      "\n",
      "Hypothesis: c222 > c221\n",
      "          : 0.144 > -0.325\n",
      "Residual  : = -c221 + c222\n",
      "Residual  : = 0.469 ✅\n",
      "\n",
      "Hypothesis: c111 > c112\n",
      "          : -0.126 > 0.117\n",
      "Residual  : = c111 - c112\n",
      "Residual  : = -0.243 ❌\n",
      "\n",
      "Hypothesis: c222 > c221\n",
      "          : 0.144 > -0.325\n",
      "Residual  : = -c221 + c222\n",
      "Residual  : = 0.469 ✅\n",
      "\n"
     ]
    }
   ],
   "source": [
    "def sparsity_correlation(C, R, logratios):\n",
    "    c_sparsity = (np.abs(C) > 1e-2).float().mean(dim=-1)\n",
    "    r_sparsity = (np.abs(R) > 1e-2).float().mean(dim=-1)\n",
    "    sparsity_diff = r_sparsity - c_sparsity\n",
    "    corr = np.corrcoef(sparsity_diff.flatten(), logratios)[0, 1]\n",
    "    print(f\"Correlation of sparsity differences with logratios: {corr}\")\n",
    "    return (corr)\n",
    "\n",
    "c111 = sparsity_correlation(C1, R1, logratios1)\n",
    "c222 = sparsity_correlation(C2, R2, logratios2)\n",
    "\n",
    "print('unrelated, should be null results')\n",
    "c112 = sparsity_correlation(C1, R1, logratios1.roll(1, 0))\n",
    "c221 = sparsity_correlation(C2, R2, logratios2.roll(1, 0))\n",
    "\n",
    "shypothesis('c111 > c112', variables=locals())\n",
    "shypothesis('c222 > c221', variables=locals())\n",
    "shypothesis('c111 > c112', variables=locals())\n",
    "shypothesis('c222 > c221', variables=locals())\n",
    "\n",
    "# !!! SUCCESS"
   ]
  },
  {
   "cell_type": "code",
   "execution_count": 77,
   "metadata": {},
   "outputs": [
    {
     "name": "stdout",
     "output_type": "stream",
     "text": [
      "Hypothesis: c1 > c1n\n",
      "          : c1 > c1n\n",
      "     Where: {'c1': 0.49350771589986103, 'c1n': 0.140393881508222}\n",
      "          : 0.494 > 0.140\n",
      "Residual  : = c1 - c1n\n",
      "Residual  : = 0.353 ✅\n",
      "\n",
      "Hypothesis: c2 > c2n\n",
      "          : 0.184 > 0.172\n",
      "Residual  : = c2 - c2n\n",
      "Residual  : = 0.011 ✅\n",
      "\n"
     ]
    }
   ],
   "source": [
    "from scipy.fft import fft\n",
    "\n",
    "def fft_analysis(C, R):\n",
    "    C_fft = fft(C.cpu().numpy(), axis=-1)\n",
    "    R_fft = fft(R.cpu().numpy(), axis=-1)\n",
    "    return C_fft - R_fft\n",
    "\n",
    "def fft_corr(C, R, logratios):\n",
    "    fft_diff = fft_analysis(C, R)\n",
    "    fft_norm = np.linalg.norm(fft_diff, axis=-1)\n",
    "    fft_corr = np.abs(np.corrcoef(fft_norm, logratios)[0,1])\n",
    "    return fft_corr\n",
    "\n",
    "c1 = fft_corr(C1, R1, logratios1)\n",
    "c1n = fft_corr(C1, R1, logratios1.roll(1, 0))\n",
    "shypothesis('c1 > c1n', variables=locals(), verbose=True)\n",
    "\n",
    "c2 = fft_corr(C2, R2, logratios2)\n",
    "c2n = fft_corr(C2, R2, logratios2.roll(1, 0))\n",
    "shypothesis('c2 > c2n', variables=locals())"
   ]
  },
  {
   "cell_type": "code",
   "execution_count": 78,
   "metadata": {},
   "outputs": [
    {
     "name": "stdout",
     "output_type": "stream",
     "text": [
      "are the right pairs more correlate if we take the diff of the symlog?\n",
      "Hypothesis: abs(nl_corr) > abs(corr_null)\n",
      "          : Abs(nl_corr) > Abs(corr_null)\n",
      "     Where: {'nl_corr': 0.010040431957342038, 'corr_null': -0.23988651284825843}\n",
      "          : 0.010 > 0.240\n",
      "Residual  : = -Abs(corr_null) + Abs(nl_corr)\n",
      "Residual  : = -0.230 ❌\n",
      "\n",
      "Hypothesis: abs(nl_corr) > abs(corr_null)\n",
      "          : Abs(nl_corr) > Abs(corr_null)\n",
      "     Where: {'nl_corr': -0.13913583520892275, 'corr_null': 0.16191249964779827}\n",
      "          : 0.139 > 0.162\n",
      "Residual  : = -Abs(corr_null) + Abs(nl_corr)\n",
      "Residual  : = -0.023 ❌\n",
      "\n"
     ]
    }
   ],
   "source": [
    "\n",
    "def non_lin_corr(C, R, logratios):\n",
    "    C = symlog(C)\n",
    "    R = symlog(R)\n",
    "    nl_diff = C - R\n",
    "    nl_norm = torch.norm(nl_diff, dim=-1)\n",
    "    nl_corr = np.corrcoef(nl_norm, logratios)[0,1]\n",
    "    corr_null = np.corrcoef(nl_norm, logratios.roll(1,0))[0,1]\n",
    "    shypothesis('abs(nl_corr) > abs(corr_null)', variables=locals(), verbose=True)\n",
    "\n",
    "print('are the right pairs more correlate if we take the diff of the symlog?')\n",
    "non_lin_corr(C1, R1, logratios1)\n",
    "non_lin_corr(C2, R2, logratios2)\n",
    "# but it's the same result without symlog..."
   ]
  },
  {
   "cell_type": "code",
   "execution_count": 79,
   "metadata": {},
   "outputs": [
    {
     "name": "stdout",
     "output_type": "stream",
     "text": [
      "Hypothesis: rel_corr > rel_corr2\n",
      "          : 0.335 > 0.046\n",
      "Residual  : = rel_corr - rel_corr2\n",
      "Residual  : = 0.289 ✅\n",
      "\n"
     ]
    }
   ],
   "source": [
    "def relative_positioning(C, R, ref_point):\n",
    "    C_rel = C - ref_point\n",
    "    R_rel = R - ref_point\n",
    "    return torch.norm(C_rel, dim=-1) - torch.norm(R_rel, dim=-1)\n",
    "\n",
    "# Using mean of C2 as reference point\n",
    "ref_point = C2.mean(dim=(0), keepdim=True)\n",
    "rel_diff = relative_positioning(C1, R1, ref_point)\n",
    "rel_corr = np.abs(np.corrcoef(rel_diff.flatten(), logratios1)[0,1])\n",
    "rel_corr2 = np.abs(np.corrcoef(rel_diff.flatten(), logratios1.roll(1, 0))[0,1])\n",
    "shypothesis('rel_corr > rel_corr2', variables=locals())"
   ]
  },
  {
   "cell_type": "code",
   "execution_count": 80,
   "metadata": {},
   "outputs": [
    {
     "name": "stdout",
     "output_type": "stream",
     "text": [
      "Hypothesis: c1r1_sim_corr > c1r1null_sim_corr\n",
      "          : -0.484 > -0.077\n",
      "Residual  : = c1r1_sim_corr - c1r1null_sim_corr\n",
      "Residual  : = -0.407 ❌\n",
      "\n",
      "Hypothesis: c2r2_sim_corr > c2r2null_sim_corr\n",
      "          : -0.081 > 0.172\n",
      "Residual  : = c2r2_sim_corr - c2r2null_sim_corr\n",
      "Residual  : = -0.253 ❌\n",
      "\n",
      "C1-R1 similarity correlation with logratio: -0.48415128775540195\n",
      "C2-R2 similarity correlation with logratio: -0.0810418904144647\n"
     ]
    }
   ],
   "source": [
    "def cosine_similarity(a, b):\n",
    "    return F.cosine_similarity(a, b, dim=-1)\n",
    "\n",
    "c1r1_sim = cosine_similarity(C1, R1)\n",
    "c2r2_sim = cosine_similarity(C2, R2)\n",
    "\n",
    "c1r1_sim_corr = np.corrcoef(c1r1_sim.flatten(), logratios1)[0,1]\n",
    "c2r2_sim_corr = np.corrcoef(c2r2_sim.flatten(), logratios2)[0,1]\n",
    "c1r1null_sim_corr = np.corrcoef(c1r1_sim.flatten(), logratios1.roll(1, 0))[0,1]\n",
    "c2r2null_sim_corr = np.corrcoef(c2r2_sim.flatten(), logratios2.roll(1, 0))[0,1]\n",
    "shypothesis('c1r1_sim_corr > c1r1null_sim_corr', variables=locals())\n",
    "shypothesis('c2r2_sim_corr > c2r2null_sim_corr', variables=locals())\n",
    "\n",
    "print(f\"C1-R1 similarity correlation with logratio: {c1r1_sim_corr}\")\n",
    "print(f\"C2-R2 similarity correlation with logratio: {c2r2_sim_corr}\")"
   ]
  },
  {
   "cell_type": "code",
   "execution_count": 81,
   "metadata": {},
   "outputs": [
    {
     "name": "stdout",
     "output_type": "stream",
     "text": [
      "if we project hs onto the global mean then correlate...\n",
      "Hypothesis: c1 > c3n\n",
      "          : 0.404 > 0.041\n",
      "Residual  : = c1 - c3n\n",
      "Residual  : = 0.363 ✅\n",
      "\n",
      "Hypothesis: c2 > c4n\n",
      "          : 0.045 > 0.060\n",
      "Residual  : = c2 - c4n\n",
      "Residual  : = -0.015 ❌\n",
      "\n"
     ]
    }
   ],
   "source": [
    "def global_position(x, global_mean):\n",
    "    return F.cosine_similarity(x - global_mean, global_mean, dim=-1)\n",
    "\n",
    "global_mean = torch.cat([C1, R1, C2, R2], dim=0).mean(dim=(0), keepdim=True)\n",
    "\n",
    "def glob_pos_corr(C, R, logratios):\n",
    "    c_global = global_position(C, global_mean)\n",
    "    r_global = global_position(R, global_mean)\n",
    "    global_diff = c_global - r_global\n",
    "    global_corr = np.corrcoef(global_diff.flatten(), logratios)[0,1]\n",
    "    return np.abs(global_corr)\n",
    "\n",
    "print('if we project hs onto the global mean then correlate...')\n",
    "c1 = glob_pos_corr(C1, R1, logratios1)\n",
    "c2 = glob_pos_corr(C2, R2, logratios2)\n",
    "c3n = glob_pos_corr(C1, R1, logratios1.roll(1, 0))\n",
    "c4n = glob_pos_corr(C2, R2, logratios2.roll(1, 0))\n",
    "shypothesis('c1 > c3n', variables=locals())\n",
    "shypothesis('c2 > c4n', variables=locals())"
   ]
  },
  {
   "cell_type": "code",
   "execution_count": 82,
   "metadata": {},
   "outputs": [
    {
     "name": "stdout",
     "output_type": "stream",
     "text": [
      "Hypothesis: c1 > c3n\n",
      "          : 0.403 > 0.042\n",
      "Residual  : = c1 - c3n\n",
      "Residual  : = 0.361 ✅\n",
      "\n",
      "Hypothesis: c2 > c4n\n",
      "          : 0.047 > 0.059\n",
      "Residual  : = c2 - c4n\n",
      "Residual  : = -0.013 ❌\n",
      "\n",
      "Relative position correlation: 0.40318000434572915\n",
      "Relative position correlation (null): 0.0466646318645862\n"
     ]
    }
   ],
   "source": [
    "def relative_position(a, b, ref):\n",
    "    a_rel = F.cosine_similarity(a - ref, ref, dim=-1)\n",
    "    b_rel = F.cosine_similarity(b - ref, ref, dim=-1)\n",
    "    return a_rel - b_rel\n",
    "\n",
    "# Use C2 mean as reference\n",
    "def rel_pos_corr(C1, R1, C2, logratios1):\n",
    "    ref = C2.mean(dim=(0), keepdim=True)\n",
    "    rel_pos1 = relative_position(C1, R1, ref)\n",
    "    rel_pos_corr = np.abs(np.corrcoef(rel_pos1.flatten(), logratios1)[0,1])\n",
    "    return rel_pos_corr\n",
    "\n",
    "c1 = rel_pos_corr(C1, R1, C2, logratios1)\n",
    "c2 = rel_pos_corr(C2, R2, C1, logratios2)\n",
    "c3n = rel_pos_corr(C1, R1, C2, logratios1.roll(1, 0))\n",
    "c4n = rel_pos_corr(C2, R2, C1, logratios2.roll(1, 0))\n",
    "shypothesis('c1 > c3n', variables=locals())\n",
    "shypothesis('c2 > c4n', variables=locals())\n",
    "print(f\"Relative position correlation: {c1}\")\n",
    "print(f\"Relative position correlation (null): {c2}\")"
   ]
  },
  {
   "cell_type": "code",
   "execution_count": 83,
   "metadata": {},
   "outputs": [
    {
     "name": "stdout",
     "output_type": "stream",
     "text": [
      "Preference direction projection correlation: 0.19126374608197338\n",
      "Preference direction projection correlation: 0.2516364261156839\n",
      "Preference direction projection correlation: 0.12971413618465952\n",
      "Preference direction projection correlation: 0.16747552150877282\n",
      "Hypothesis: proj_corr1 > proj_corr4\n",
      "          : 0.191 > 0.167\n",
      "Residual  : = proj_corr1 - proj_corr4\n",
      "Residual  : = 0.024 ✅\n",
      "\n",
      "Hypothesis: proj_corr2 > proj_corr3\n",
      "          : 0.252 > 0.130\n",
      "Residual  : = proj_corr2 - proj_corr3\n",
      "Residual  : = 0.122 ✅\n",
      "\n"
     ]
    }
   ],
   "source": [
    "def projection_correlation(C, R, logratios):\n",
    "    # Compute the mean difference vector\n",
    "    mean_diff = (C - R).mean(dim=0)\n",
    "\n",
    "    # Project samples onto this direction\n",
    "    c_proj = F.cosine_similarity(C, mean_diff.unsqueeze(0), dim=-1)\n",
    "    r_proj = F.cosine_similarity(R, mean_diff.unsqueeze(0), dim=-1)\n",
    "    proj_diff = c_proj - r_proj\n",
    "\n",
    "    proj_corr = np.abs(np.corrcoef(proj_diff, logratios)[0,1])\n",
    "    return proj_corr\n",
    "\n",
    "proj_corr1 = projection_correlation(C1, R1, logratios1)\n",
    "print(f\"Preference direction projection correlation: {proj_corr1}\")\n",
    "\n",
    "proj_corr2 = projection_correlation(C2, R2, logratios2)\n",
    "print(f\"Preference direction projection correlation: {proj_corr2}\")\n",
    "\n",
    "proj_corr3 = projection_correlation(C2, R2, logratios2.roll(1, 0))\n",
    "print(f\"Preference direction projection correlation: {proj_corr3}\")\n",
    "\n",
    "\n",
    "proj_corr4 = projection_correlation(C1, R1, logratios1.roll(1, 0))\n",
    "print(f\"Preference direction projection correlation: {proj_corr4}\")\n",
    "\n",
    "shypothesis('proj_corr1 > proj_corr4', variables=locals())\n",
    "shypothesis('proj_corr2 > proj_corr3', variables=locals())\n"
   ]
  },
  {
   "cell_type": "code",
   "execution_count": 84,
   "metadata": {},
   "outputs": [
    {
     "name": "stdout",
     "output_type": "stream",
     "text": [
      "Variance difference correlation: -0.3475864039258729\n",
      "Variance difference correlation: 0.004136700778330699\n",
      "Variance difference correlation: -0.024859680079092884\n",
      "Variance difference correlation: 0.07171431090834102\n",
      "Hypothesis: abs(vc0) > abs(vc3)\n",
      "          : Abs(vc0) > Abs(vc3)\n",
      "     Where: {'vc0': -0.3475864039258729, 'vc3': 0.07171431090834102}\n",
      "          : 0.348 > 0.072\n",
      "Residual  : = Abs(vc0) - Abs(vc3)\n",
      "Residual  : = 0.276 ✅\n",
      "\n",
      "Hypothesis: abs(vc1) > abs(vc2)\n",
      "          : Abs(vc1) > Abs(vc2)\n",
      "     Where: {'vc2': -0.024859680079092884, 'vc1': 0.004136700778330699}\n",
      "          : 0.004 > 0.025\n",
      "Residual  : = Abs(vc1) - Abs(vc2)\n",
      "Residual  : = -0.021 ❌\n",
      "\n"
     ]
    }
   ],
   "source": [
    "def var_corr(C, R, logratios):\n",
    "    c_var = C.var(dim=-1)\n",
    "    r_var = R.var(dim=-1)\n",
    "    var_diff = c_var - r_var\n",
    "\n",
    "    var_corr = np.corrcoef(var_diff.flatten(), logratios)[0,1]\n",
    "    return var_corr\n",
    "\n",
    "\n",
    "vc0 = var_corr(C1, R1, logratios1)\n",
    "print(f\"Variance difference correlation: {vc0}\")\n",
    "\n",
    "vc1 = var_corr(C2, R2, logratios2)\n",
    "print(f\"Variance difference correlation: {vc1}\")\n",
    "\n",
    "vc2 = var_corr(C2, R2, logratios2.roll(1, 0))\n",
    "print(f\"Variance difference correlation: {vc2}\")\n",
    "\n",
    "vc3 = var_corr(C1, R1, logratios1.roll(1, 0))\n",
    "print(f\"Variance difference correlation: {vc3}\")\n",
    "shypothesis('abs(vc0) > abs(vc3)', variables=locals(), verbose=1)\n",
    "shypothesis('abs(vc1) > abs(vc2)', variables=locals(), verbose=1)\n"
   ]
  },
  {
   "cell_type": "code",
   "execution_count": null,
   "metadata": {},
   "outputs": [],
   "source": []
  }
 ],
 "metadata": {
  "kernelspec": {
   "display_name": ".venv",
   "language": "python",
   "name": "python3"
  },
  "language_info": {
   "codemirror_mode": {
    "name": "ipython",
    "version": 3
   },
   "file_extension": ".py",
   "mimetype": "text/x-python",
   "name": "python",
   "nbconvert_exporter": "python",
   "pygments_lexer": "ipython3",
   "version": "3.9.16"
  }
 },
 "nbformat": 4,
 "nbformat_minor": 2
}
