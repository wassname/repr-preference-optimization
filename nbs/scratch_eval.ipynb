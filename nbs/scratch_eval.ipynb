{
 "cells": [
  {
   "cell_type": "markdown",
   "metadata": {},
   "source": [
    "# Load model and play with hs, losses, evals"
   ]
  },
  {
   "cell_type": "code",
   "execution_count": 1,
   "metadata": {},
   "outputs": [],
   "source": [
    "%reload_ext autoreload\n",
    "%autoreload 2"
   ]
  },
  {
   "cell_type": "code",
   "execution_count": 2,
   "metadata": {},
   "outputs": [],
   "source": [
    "import numpy as np\n",
    "\n",
    "from datasets import load_dataset\n",
    "from peft import LoraConfig, get_peft_model\n",
    "from transformers import AutoTokenizer, AutoModelForCausalLM\n",
    "from trl import DPOTrainer\n",
    "from trl import DPOConfig, DPOTrainer\n",
    "\n",
    "import gc\n",
    "\n",
    "import torch\n",
    "import torch.nn as nn\n",
    "import torch.nn.functional as F\n",
    "from typing import Any, Callable, Dict, List, Literal, Optional, Tuple, Union\n",
    "from einops import rearrange\n",
    "\n",
    "from pathlib import Path\n",
    "\n",
    "from reprpo.helpers.adapters import set_adapter"
   ]
  },
  {
   "cell_type": "markdown",
   "metadata": {},
   "source": [
    "## Load model"
   ]
  },
  {
   "cell_type": "code",
   "execution_count": 3,
   "metadata": {},
   "outputs": [],
   "source": [
    "from reprpo.models.load import load_model, print_trainable_parameters\n",
    "from peft import prepare_model_for_kbit_training\n",
    "from peft import LoraConfig, get_peft_model"
   ]
  },
  {
   "cell_type": "code",
   "execution_count": 4,
   "metadata": {},
   "outputs": [
    {
     "name": "stderr",
     "output_type": "stream",
     "text": [
      "Special tokens have been added in the vocabulary, make sure the associated word embeddings are fine-tuned or trained.\n",
      "The `load_in_4bit` and `load_in_8bit` arguments are deprecated and will be removed in the future versions. Please, pass a `BitsAndBytesConfig` object in `quantization_config` argument instead.\n"
     ]
    },
    {
     "data": {
      "application/vnd.jupyter.widget-view+json": {
       "model_id": "5d2cc6d475854bf7b2020d69e7ea47ee",
       "version_major": 2,
       "version_minor": 0
      },
      "text/plain": [
       "Loading checkpoint shards:   0%|          | 0/4 [00:00<?, ?it/s]"
      ]
     },
     "metadata": {},
     "output_type": "display_data"
    },
    {
     "name": "stdout",
     "output_type": "stream",
     "text": [
      "trainable params: 41943040 || all params: 4582543360 || trainable%: 0.9152786281546499\n"
     ]
    }
   ],
   "source": [
    "# FIXME: we are meant to SFT first, so that the preferences are in sample but 1) if this works it might not be needed, and 2) this can be added later, if it works\n",
    "# for now we will use the instruct model, and try something it wasn't meant to do but it in sample \n",
    "model_name = \"NousResearch/Meta-Llama-3-8B-Instruct\"\n",
    "# model_name = './output-dir/07_hf_topk_TODO-2024-07-14-20-19-43/'\n",
    "\n",
    "## Big adapter\n",
    "peft_config = LoraConfig(\n",
    "    lora_alpha=16, \n",
    "    r=16,\n",
    "    lora_dropout=0.0,\n",
    "    use_rslora=False,\n",
    "    # use_dora=True,\n",
    "    task_type=\"CAUSAL_LM\",\n",
    "    target_modules=[\"q_proj\", \"k_proj\", \"v_proj\", \"o_proj\", \"gate_proj\", \"up_proj\", \"down_proj\"]\n",
    ")\n",
    "\n",
    "\n",
    "model, tokenizer = load_model(model_name, )\n",
    "# from trl.trainer.utils import peft_module_casting_to_bf16\n",
    "# peft_module_casting_to_bf16(model)\n",
    "adapter_name='ReprPO2'\n",
    "model = prepare_model_for_kbit_training(model, {'use_gradient_checkpointing': True})\n",
    "model = get_peft_model(model, peft_config, adapter_name=adapter_name)\n",
    "print_trainable_parameters(model)\n",
    "# model"
   ]
  },
  {
   "cell_type": "markdown",
   "metadata": {},
   "source": [
    "## Load adapter"
   ]
  },
  {
   "cell_type": "code",
   "execution_count": 5,
   "metadata": {},
   "outputs": [
    {
     "name": "stdout",
     "output_type": "stream",
     "text": [
      "[PosixPath('output-dir/07_hf_topk_TODO-2024-07-14-20-19-43/ReprPO/adapter_config.json'), PosixPath('output-dir/07_hf_topk_TODO-2024-07-14-20-19-43/ReprPO/adapter_model.safetensors')]\n"
     ]
    },
    {
     "data": {
      "text/plain": [
       "_IncompatibleKeys(missing_keys=['base_model.model.model.embed_tokens.weight', 'base_model.model.model.layers.0.self_attn.q_proj.base_layer.weight', 'base_model.model.model.layers.0.self_attn.q_proj.lora_A.ReprPO2.weight', 'base_model.model.model.layers.0.self_attn.q_proj.lora_B.ReprPO2.weight', 'base_model.model.model.layers.0.self_attn.k_proj.base_layer.weight', 'base_model.model.model.layers.0.self_attn.k_proj.lora_A.ReprPO2.weight', 'base_model.model.model.layers.0.self_attn.k_proj.lora_B.ReprPO2.weight', 'base_model.model.model.layers.0.self_attn.v_proj.base_layer.weight', 'base_model.model.model.layers.0.self_attn.v_proj.lora_A.ReprPO2.weight', 'base_model.model.model.layers.0.self_attn.v_proj.lora_B.ReprPO2.weight', 'base_model.model.model.layers.0.self_attn.o_proj.base_layer.weight', 'base_model.model.model.layers.0.self_attn.o_proj.lora_A.ReprPO2.weight', 'base_model.model.model.layers.0.self_attn.o_proj.lora_B.ReprPO2.weight', 'base_model.model.model.layers.0.mlp.gate_proj.base_layer.weight', 'base_model.model.model.layers.0.mlp.gate_proj.lora_A.ReprPO2.weight', 'base_model.model.model.layers.0.mlp.gate_proj.lora_B.ReprPO2.weight', 'base_model.model.model.layers.0.mlp.up_proj.base_layer.weight', 'base_model.model.model.layers.0.mlp.up_proj.lora_A.ReprPO2.weight', 'base_model.model.model.layers.0.mlp.up_proj.lora_B.ReprPO2.weight', 'base_model.model.model.layers.0.mlp.down_proj.base_layer.weight', 'base_model.model.model.layers.0.mlp.down_proj.lora_A.ReprPO2.weight', 'base_model.model.model.layers.0.mlp.down_proj.lora_B.ReprPO2.weight', 'base_model.model.model.layers.0.input_layernorm.weight', 'base_model.model.model.layers.0.post_attention_layernorm.weight', 'base_model.model.model.layers.1.self_attn.q_proj.base_layer.weight', 'base_model.model.model.layers.1.self_attn.q_proj.lora_A.ReprPO2.weight', 'base_model.model.model.layers.1.self_attn.q_proj.lora_B.ReprPO2.weight', 'base_model.model.model.layers.1.self_attn.k_proj.base_layer.weight', 'base_model.model.model.layers.1.self_attn.k_proj.lora_A.ReprPO2.weight', 'base_model.model.model.layers.1.self_attn.k_proj.lora_B.ReprPO2.weight', 'base_model.model.model.layers.1.self_attn.v_proj.base_layer.weight', 'base_model.model.model.layers.1.self_attn.v_proj.lora_A.ReprPO2.weight', 'base_model.model.model.layers.1.self_attn.v_proj.lora_B.ReprPO2.weight', 'base_model.model.model.layers.1.self_attn.o_proj.base_layer.weight', 'base_model.model.model.layers.1.self_attn.o_proj.lora_A.ReprPO2.weight', 'base_model.model.model.layers.1.self_attn.o_proj.lora_B.ReprPO2.weight', 'base_model.model.model.layers.1.mlp.gate_proj.base_layer.weight', 'base_model.model.model.layers.1.mlp.gate_proj.lora_A.ReprPO2.weight', 'base_model.model.model.layers.1.mlp.gate_proj.lora_B.ReprPO2.weight', 'base_model.model.model.layers.1.mlp.up_proj.base_layer.weight', 'base_model.model.model.layers.1.mlp.up_proj.lora_A.ReprPO2.weight', 'base_model.model.model.layers.1.mlp.up_proj.lora_B.ReprPO2.weight', 'base_model.model.model.layers.1.mlp.down_proj.base_layer.weight', 'base_model.model.model.layers.1.mlp.down_proj.lora_A.ReprPO2.weight', 'base_model.model.model.layers.1.mlp.down_proj.lora_B.ReprPO2.weight', 'base_model.model.model.layers.1.input_layernorm.weight', 'base_model.model.model.layers.1.post_attention_layernorm.weight', 'base_model.model.model.layers.2.self_attn.q_proj.base_layer.weight', 'base_model.model.model.layers.2.self_attn.q_proj.lora_A.ReprPO2.weight', 'base_model.model.model.layers.2.self_attn.q_proj.lora_B.ReprPO2.weight', 'base_model.model.model.layers.2.self_attn.k_proj.base_layer.weight', 'base_model.model.model.layers.2.self_attn.k_proj.lora_A.ReprPO2.weight', 'base_model.model.model.layers.2.self_attn.k_proj.lora_B.ReprPO2.weight', 'base_model.model.model.layers.2.self_attn.v_proj.base_layer.weight', 'base_model.model.model.layers.2.self_attn.v_proj.lora_A.ReprPO2.weight', 'base_model.model.model.layers.2.self_attn.v_proj.lora_B.ReprPO2.weight', 'base_model.model.model.layers.2.self_attn.o_proj.base_layer.weight', 'base_model.model.model.layers.2.self_attn.o_proj.lora_A.ReprPO2.weight', 'base_model.model.model.layers.2.self_attn.o_proj.lora_B.ReprPO2.weight', 'base_model.model.model.layers.2.mlp.gate_proj.base_layer.weight', 'base_model.model.model.layers.2.mlp.gate_proj.lora_A.ReprPO2.weight', 'base_model.model.model.layers.2.mlp.gate_proj.lora_B.ReprPO2.weight', 'base_model.model.model.layers.2.mlp.up_proj.base_layer.weight', 'base_model.model.model.layers.2.mlp.up_proj.lora_A.ReprPO2.weight', 'base_model.model.model.layers.2.mlp.up_proj.lora_B.ReprPO2.weight', 'base_model.model.model.layers.2.mlp.down_proj.base_layer.weight', 'base_model.model.model.layers.2.mlp.down_proj.lora_A.ReprPO2.weight', 'base_model.model.model.layers.2.mlp.down_proj.lora_B.ReprPO2.weight', 'base_model.model.model.layers.2.input_layernorm.weight', 'base_model.model.model.layers.2.post_attention_layernorm.weight', 'base_model.model.model.layers.3.self_attn.q_proj.base_layer.weight', 'base_model.model.model.layers.3.self_attn.q_proj.lora_A.ReprPO2.weight', 'base_model.model.model.layers.3.self_attn.q_proj.lora_B.ReprPO2.weight', 'base_model.model.model.layers.3.self_attn.k_proj.base_layer.weight', 'base_model.model.model.layers.3.self_attn.k_proj.lora_A.ReprPO2.weight', 'base_model.model.model.layers.3.self_attn.k_proj.lora_B.ReprPO2.weight', 'base_model.model.model.layers.3.self_attn.v_proj.base_layer.weight', 'base_model.model.model.layers.3.self_attn.v_proj.lora_A.ReprPO2.weight', 'base_model.model.model.layers.3.self_attn.v_proj.lora_B.ReprPO2.weight', 'base_model.model.model.layers.3.self_attn.o_proj.base_layer.weight', 'base_model.model.model.layers.3.self_attn.o_proj.lora_A.ReprPO2.weight', 'base_model.model.model.layers.3.self_attn.o_proj.lora_B.ReprPO2.weight', 'base_model.model.model.layers.3.mlp.gate_proj.base_layer.weight', 'base_model.model.model.layers.3.mlp.gate_proj.lora_A.ReprPO2.weight', 'base_model.model.model.layers.3.mlp.gate_proj.lora_B.ReprPO2.weight', 'base_model.model.model.layers.3.mlp.up_proj.base_layer.weight', 'base_model.model.model.layers.3.mlp.up_proj.lora_A.ReprPO2.weight', 'base_model.model.model.layers.3.mlp.up_proj.lora_B.ReprPO2.weight', 'base_model.model.model.layers.3.mlp.down_proj.base_layer.weight', 'base_model.model.model.layers.3.mlp.down_proj.lora_A.ReprPO2.weight', 'base_model.model.model.layers.3.mlp.down_proj.lora_B.ReprPO2.weight', 'base_model.model.model.layers.3.input_layernorm.weight', 'base_model.model.model.layers.3.post_attention_layernorm.weight', 'base_model.model.model.layers.4.self_attn.q_proj.base_layer.weight', 'base_model.model.model.layers.4.self_attn.q_proj.lora_A.ReprPO2.weight', 'base_model.model.model.layers.4.self_attn.q_proj.lora_B.ReprPO2.weight', 'base_model.model.model.layers.4.self_attn.k_proj.base_layer.weight', 'base_model.model.model.layers.4.self_attn.k_proj.lora_A.ReprPO2.weight', 'base_model.model.model.layers.4.self_attn.k_proj.lora_B.ReprPO2.weight', 'base_model.model.model.layers.4.self_attn.v_proj.base_layer.weight', 'base_model.model.model.layers.4.self_attn.v_proj.lora_A.ReprPO2.weight', 'base_model.model.model.layers.4.self_attn.v_proj.lora_B.ReprPO2.weight', 'base_model.model.model.layers.4.self_attn.o_proj.base_layer.weight', 'base_model.model.model.layers.4.self_attn.o_proj.lora_A.ReprPO2.weight', 'base_model.model.model.layers.4.self_attn.o_proj.lora_B.ReprPO2.weight', 'base_model.model.model.layers.4.mlp.gate_proj.base_layer.weight', 'base_model.model.model.layers.4.mlp.gate_proj.lora_A.ReprPO2.weight', 'base_model.model.model.layers.4.mlp.gate_proj.lora_B.ReprPO2.weight', 'base_model.model.model.layers.4.mlp.up_proj.base_layer.weight', 'base_model.model.model.layers.4.mlp.up_proj.lora_A.ReprPO2.weight', 'base_model.model.model.layers.4.mlp.up_proj.lora_B.ReprPO2.weight', 'base_model.model.model.layers.4.mlp.down_proj.base_layer.weight', 'base_model.model.model.layers.4.mlp.down_proj.lora_A.ReprPO2.weight', 'base_model.model.model.layers.4.mlp.down_proj.lora_B.ReprPO2.weight', 'base_model.model.model.layers.4.input_layernorm.weight', 'base_model.model.model.layers.4.post_attention_layernorm.weight', 'base_model.model.model.layers.5.self_attn.q_proj.base_layer.weight', 'base_model.model.model.layers.5.self_attn.q_proj.lora_A.ReprPO2.weight', 'base_model.model.model.layers.5.self_attn.q_proj.lora_B.ReprPO2.weight', 'base_model.model.model.layers.5.self_attn.k_proj.base_layer.weight', 'base_model.model.model.layers.5.self_attn.k_proj.lora_A.ReprPO2.weight', 'base_model.model.model.layers.5.self_attn.k_proj.lora_B.ReprPO2.weight', 'base_model.model.model.layers.5.self_attn.v_proj.base_layer.weight', 'base_model.model.model.layers.5.self_attn.v_proj.lora_A.ReprPO2.weight', 'base_model.model.model.layers.5.self_attn.v_proj.lora_B.ReprPO2.weight', 'base_model.model.model.layers.5.self_attn.o_proj.base_layer.weight', 'base_model.model.model.layers.5.self_attn.o_proj.lora_A.ReprPO2.weight', 'base_model.model.model.layers.5.self_attn.o_proj.lora_B.ReprPO2.weight', 'base_model.model.model.layers.5.mlp.gate_proj.base_layer.weight', 'base_model.model.model.layers.5.mlp.gate_proj.lora_A.ReprPO2.weight', 'base_model.model.model.layers.5.mlp.gate_proj.lora_B.ReprPO2.weight', 'base_model.model.model.layers.5.mlp.up_proj.base_layer.weight', 'base_model.model.model.layers.5.mlp.up_proj.lora_A.ReprPO2.weight', 'base_model.model.model.layers.5.mlp.up_proj.lora_B.ReprPO2.weight', 'base_model.model.model.layers.5.mlp.down_proj.base_layer.weight', 'base_model.model.model.layers.5.mlp.down_proj.lora_A.ReprPO2.weight', 'base_model.model.model.layers.5.mlp.down_proj.lora_B.ReprPO2.weight', 'base_model.model.model.layers.5.input_layernorm.weight', 'base_model.model.model.layers.5.post_attention_layernorm.weight', 'base_model.model.model.layers.6.self_attn.q_proj.base_layer.weight', 'base_model.model.model.layers.6.self_attn.q_proj.lora_A.ReprPO2.weight', 'base_model.model.model.layers.6.self_attn.q_proj.lora_B.ReprPO2.weight', 'base_model.model.model.layers.6.self_attn.k_proj.base_layer.weight', 'base_model.model.model.layers.6.self_attn.k_proj.lora_A.ReprPO2.weight', 'base_model.model.model.layers.6.self_attn.k_proj.lora_B.ReprPO2.weight', 'base_model.model.model.layers.6.self_attn.v_proj.base_layer.weight', 'base_model.model.model.layers.6.self_attn.v_proj.lora_A.ReprPO2.weight', 'base_model.model.model.layers.6.self_attn.v_proj.lora_B.ReprPO2.weight', 'base_model.model.model.layers.6.self_attn.o_proj.base_layer.weight', 'base_model.model.model.layers.6.self_attn.o_proj.lora_A.ReprPO2.weight', 'base_model.model.model.layers.6.self_attn.o_proj.lora_B.ReprPO2.weight', 'base_model.model.model.layers.6.mlp.gate_proj.base_layer.weight', 'base_model.model.model.layers.6.mlp.gate_proj.lora_A.ReprPO2.weight', 'base_model.model.model.layers.6.mlp.gate_proj.lora_B.ReprPO2.weight', 'base_model.model.model.layers.6.mlp.up_proj.base_layer.weight', 'base_model.model.model.layers.6.mlp.up_proj.lora_A.ReprPO2.weight', 'base_model.model.model.layers.6.mlp.up_proj.lora_B.ReprPO2.weight', 'base_model.model.model.layers.6.mlp.down_proj.base_layer.weight', 'base_model.model.model.layers.6.mlp.down_proj.lora_A.ReprPO2.weight', 'base_model.model.model.layers.6.mlp.down_proj.lora_B.ReprPO2.weight', 'base_model.model.model.layers.6.input_layernorm.weight', 'base_model.model.model.layers.6.post_attention_layernorm.weight', 'base_model.model.model.layers.7.self_attn.q_proj.base_layer.weight', 'base_model.model.model.layers.7.self_attn.q_proj.lora_A.ReprPO2.weight', 'base_model.model.model.layers.7.self_attn.q_proj.lora_B.ReprPO2.weight', 'base_model.model.model.layers.7.self_attn.k_proj.base_layer.weight', 'base_model.model.model.layers.7.self_attn.k_proj.lora_A.ReprPO2.weight', 'base_model.model.model.layers.7.self_attn.k_proj.lora_B.ReprPO2.weight', 'base_model.model.model.layers.7.self_attn.v_proj.base_layer.weight', 'base_model.model.model.layers.7.self_attn.v_proj.lora_A.ReprPO2.weight', 'base_model.model.model.layers.7.self_attn.v_proj.lora_B.ReprPO2.weight', 'base_model.model.model.layers.7.self_attn.o_proj.base_layer.weight', 'base_model.model.model.layers.7.self_attn.o_proj.lora_A.ReprPO2.weight', 'base_model.model.model.layers.7.self_attn.o_proj.lora_B.ReprPO2.weight', 'base_model.model.model.layers.7.mlp.gate_proj.base_layer.weight', 'base_model.model.model.layers.7.mlp.gate_proj.lora_A.ReprPO2.weight', 'base_model.model.model.layers.7.mlp.gate_proj.lora_B.ReprPO2.weight', 'base_model.model.model.layers.7.mlp.up_proj.base_layer.weight', 'base_model.model.model.layers.7.mlp.up_proj.lora_A.ReprPO2.weight', 'base_model.model.model.layers.7.mlp.up_proj.lora_B.ReprPO2.weight', 'base_model.model.model.layers.7.mlp.down_proj.base_layer.weight', 'base_model.model.model.layers.7.mlp.down_proj.lora_A.ReprPO2.weight', 'base_model.model.model.layers.7.mlp.down_proj.lora_B.ReprPO2.weight', 'base_model.model.model.layers.7.input_layernorm.weight', 'base_model.model.model.layers.7.post_attention_layernorm.weight', 'base_model.model.model.layers.8.self_attn.q_proj.base_layer.weight', 'base_model.model.model.layers.8.self_attn.q_proj.lora_A.ReprPO2.weight', 'base_model.model.model.layers.8.self_attn.q_proj.lora_B.ReprPO2.weight', 'base_model.model.model.layers.8.self_attn.k_proj.base_layer.weight', 'base_model.model.model.layers.8.self_attn.k_proj.lora_A.ReprPO2.weight', 'base_model.model.model.layers.8.self_attn.k_proj.lora_B.ReprPO2.weight', 'base_model.model.model.layers.8.self_attn.v_proj.base_layer.weight', 'base_model.model.model.layers.8.self_attn.v_proj.lora_A.ReprPO2.weight', 'base_model.model.model.layers.8.self_attn.v_proj.lora_B.ReprPO2.weight', 'base_model.model.model.layers.8.self_attn.o_proj.base_layer.weight', 'base_model.model.model.layers.8.self_attn.o_proj.lora_A.ReprPO2.weight', 'base_model.model.model.layers.8.self_attn.o_proj.lora_B.ReprPO2.weight', 'base_model.model.model.layers.8.mlp.gate_proj.base_layer.weight', 'base_model.model.model.layers.8.mlp.gate_proj.lora_A.ReprPO2.weight', 'base_model.model.model.layers.8.mlp.gate_proj.lora_B.ReprPO2.weight', 'base_model.model.model.layers.8.mlp.up_proj.base_layer.weight', 'base_model.model.model.layers.8.mlp.up_proj.lora_A.ReprPO2.weight', 'base_model.model.model.layers.8.mlp.up_proj.lora_B.ReprPO2.weight', 'base_model.model.model.layers.8.mlp.down_proj.base_layer.weight', 'base_model.model.model.layers.8.mlp.down_proj.lora_A.ReprPO2.weight', 'base_model.model.model.layers.8.mlp.down_proj.lora_B.ReprPO2.weight', 'base_model.model.model.layers.8.input_layernorm.weight', 'base_model.model.model.layers.8.post_attention_layernorm.weight', 'base_model.model.model.layers.9.self_attn.q_proj.base_layer.weight', 'base_model.model.model.layers.9.self_attn.q_proj.lora_A.ReprPO2.weight', 'base_model.model.model.layers.9.self_attn.q_proj.lora_B.ReprPO2.weight', 'base_model.model.model.layers.9.self_attn.k_proj.base_layer.weight', 'base_model.model.model.layers.9.self_attn.k_proj.lora_A.ReprPO2.weight', 'base_model.model.model.layers.9.self_attn.k_proj.lora_B.ReprPO2.weight', 'base_model.model.model.layers.9.self_attn.v_proj.base_layer.weight', 'base_model.model.model.layers.9.self_attn.v_proj.lora_A.ReprPO2.weight', 'base_model.model.model.layers.9.self_attn.v_proj.lora_B.ReprPO2.weight', 'base_model.model.model.layers.9.self_attn.o_proj.base_layer.weight', 'base_model.model.model.layers.9.self_attn.o_proj.lora_A.ReprPO2.weight', 'base_model.model.model.layers.9.self_attn.o_proj.lora_B.ReprPO2.weight', 'base_model.model.model.layers.9.mlp.gate_proj.base_layer.weight', 'base_model.model.model.layers.9.mlp.gate_proj.lora_A.ReprPO2.weight', 'base_model.model.model.layers.9.mlp.gate_proj.lora_B.ReprPO2.weight', 'base_model.model.model.layers.9.mlp.up_proj.base_layer.weight', 'base_model.model.model.layers.9.mlp.up_proj.lora_A.ReprPO2.weight', 'base_model.model.model.layers.9.mlp.up_proj.lora_B.ReprPO2.weight', 'base_model.model.model.layers.9.mlp.down_proj.base_layer.weight', 'base_model.model.model.layers.9.mlp.down_proj.lora_A.ReprPO2.weight', 'base_model.model.model.layers.9.mlp.down_proj.lora_B.ReprPO2.weight', 'base_model.model.model.layers.9.input_layernorm.weight', 'base_model.model.model.layers.9.post_attention_layernorm.weight', 'base_model.model.model.layers.10.self_attn.q_proj.base_layer.weight', 'base_model.model.model.layers.10.self_attn.q_proj.lora_A.ReprPO2.weight', 'base_model.model.model.layers.10.self_attn.q_proj.lora_B.ReprPO2.weight', 'base_model.model.model.layers.10.self_attn.k_proj.base_layer.weight', 'base_model.model.model.layers.10.self_attn.k_proj.lora_A.ReprPO2.weight', 'base_model.model.model.layers.10.self_attn.k_proj.lora_B.ReprPO2.weight', 'base_model.model.model.layers.10.self_attn.v_proj.base_layer.weight', 'base_model.model.model.layers.10.self_attn.v_proj.lora_A.ReprPO2.weight', 'base_model.model.model.layers.10.self_attn.v_proj.lora_B.ReprPO2.weight', 'base_model.model.model.layers.10.self_attn.o_proj.base_layer.weight', 'base_model.model.model.layers.10.self_attn.o_proj.lora_A.ReprPO2.weight', 'base_model.model.model.layers.10.self_attn.o_proj.lora_B.ReprPO2.weight', 'base_model.model.model.layers.10.mlp.gate_proj.base_layer.weight', 'base_model.model.model.layers.10.mlp.gate_proj.lora_A.ReprPO2.weight', 'base_model.model.model.layers.10.mlp.gate_proj.lora_B.ReprPO2.weight', 'base_model.model.model.layers.10.mlp.up_proj.base_layer.weight', 'base_model.model.model.layers.10.mlp.up_proj.lora_A.ReprPO2.weight', 'base_model.model.model.layers.10.mlp.up_proj.lora_B.ReprPO2.weight', 'base_model.model.model.layers.10.mlp.down_proj.base_layer.weight', 'base_model.model.model.layers.10.mlp.down_proj.lora_A.ReprPO2.weight', 'base_model.model.model.layers.10.mlp.down_proj.lora_B.ReprPO2.weight', 'base_model.model.model.layers.10.input_layernorm.weight', 'base_model.model.model.layers.10.post_attention_layernorm.weight', 'base_model.model.model.layers.11.self_attn.q_proj.base_layer.weight', 'base_model.model.model.layers.11.self_attn.q_proj.lora_A.ReprPO2.weight', 'base_model.model.model.layers.11.self_attn.q_proj.lora_B.ReprPO2.weight', 'base_model.model.model.layers.11.self_attn.k_proj.base_layer.weight', 'base_model.model.model.layers.11.self_attn.k_proj.lora_A.ReprPO2.weight', 'base_model.model.model.layers.11.self_attn.k_proj.lora_B.ReprPO2.weight', 'base_model.model.model.layers.11.self_attn.v_proj.base_layer.weight', 'base_model.model.model.layers.11.self_attn.v_proj.lora_A.ReprPO2.weight', 'base_model.model.model.layers.11.self_attn.v_proj.lora_B.ReprPO2.weight', 'base_model.model.model.layers.11.self_attn.o_proj.base_layer.weight', 'base_model.model.model.layers.11.self_attn.o_proj.lora_A.ReprPO2.weight', 'base_model.model.model.layers.11.self_attn.o_proj.lora_B.ReprPO2.weight', 'base_model.model.model.layers.11.mlp.gate_proj.base_layer.weight', 'base_model.model.model.layers.11.mlp.gate_proj.lora_A.ReprPO2.weight', 'base_model.model.model.layers.11.mlp.gate_proj.lora_B.ReprPO2.weight', 'base_model.model.model.layers.11.mlp.up_proj.base_layer.weight', 'base_model.model.model.layers.11.mlp.up_proj.lora_A.ReprPO2.weight', 'base_model.model.model.layers.11.mlp.up_proj.lora_B.ReprPO2.weight', 'base_model.model.model.layers.11.mlp.down_proj.base_layer.weight', 'base_model.model.model.layers.11.mlp.down_proj.lora_A.ReprPO2.weight', 'base_model.model.model.layers.11.mlp.down_proj.lora_B.ReprPO2.weight', 'base_model.model.model.layers.11.input_layernorm.weight', 'base_model.model.model.layers.11.post_attention_layernorm.weight', 'base_model.model.model.layers.12.self_attn.q_proj.base_layer.weight', 'base_model.model.model.layers.12.self_attn.q_proj.lora_A.ReprPO2.weight', 'base_model.model.model.layers.12.self_attn.q_proj.lora_B.ReprPO2.weight', 'base_model.model.model.layers.12.self_attn.k_proj.base_layer.weight', 'base_model.model.model.layers.12.self_attn.k_proj.lora_A.ReprPO2.weight', 'base_model.model.model.layers.12.self_attn.k_proj.lora_B.ReprPO2.weight', 'base_model.model.model.layers.12.self_attn.v_proj.base_layer.weight', 'base_model.model.model.layers.12.self_attn.v_proj.lora_A.ReprPO2.weight', 'base_model.model.model.layers.12.self_attn.v_proj.lora_B.ReprPO2.weight', 'base_model.model.model.layers.12.self_attn.o_proj.base_layer.weight', 'base_model.model.model.layers.12.self_attn.o_proj.lora_A.ReprPO2.weight', 'base_model.model.model.layers.12.self_attn.o_proj.lora_B.ReprPO2.weight', 'base_model.model.model.layers.12.mlp.gate_proj.base_layer.weight', 'base_model.model.model.layers.12.mlp.gate_proj.lora_A.ReprPO2.weight', 'base_model.model.model.layers.12.mlp.gate_proj.lora_B.ReprPO2.weight', 'base_model.model.model.layers.12.mlp.up_proj.base_layer.weight', 'base_model.model.model.layers.12.mlp.up_proj.lora_A.ReprPO2.weight', 'base_model.model.model.layers.12.mlp.up_proj.lora_B.ReprPO2.weight', 'base_model.model.model.layers.12.mlp.down_proj.base_layer.weight', 'base_model.model.model.layers.12.mlp.down_proj.lora_A.ReprPO2.weight', 'base_model.model.model.layers.12.mlp.down_proj.lora_B.ReprPO2.weight', 'base_model.model.model.layers.12.input_layernorm.weight', 'base_model.model.model.layers.12.post_attention_layernorm.weight', 'base_model.model.model.layers.13.self_attn.q_proj.base_layer.weight', 'base_model.model.model.layers.13.self_attn.q_proj.lora_A.ReprPO2.weight', 'base_model.model.model.layers.13.self_attn.q_proj.lora_B.ReprPO2.weight', 'base_model.model.model.layers.13.self_attn.k_proj.base_layer.weight', 'base_model.model.model.layers.13.self_attn.k_proj.lora_A.ReprPO2.weight', 'base_model.model.model.layers.13.self_attn.k_proj.lora_B.ReprPO2.weight', 'base_model.model.model.layers.13.self_attn.v_proj.base_layer.weight', 'base_model.model.model.layers.13.self_attn.v_proj.lora_A.ReprPO2.weight', 'base_model.model.model.layers.13.self_attn.v_proj.lora_B.ReprPO2.weight', 'base_model.model.model.layers.13.self_attn.o_proj.base_layer.weight', 'base_model.model.model.layers.13.self_attn.o_proj.lora_A.ReprPO2.weight', 'base_model.model.model.layers.13.self_attn.o_proj.lora_B.ReprPO2.weight', 'base_model.model.model.layers.13.mlp.gate_proj.base_layer.weight', 'base_model.model.model.layers.13.mlp.gate_proj.lora_A.ReprPO2.weight', 'base_model.model.model.layers.13.mlp.gate_proj.lora_B.ReprPO2.weight', 'base_model.model.model.layers.13.mlp.up_proj.base_layer.weight', 'base_model.model.model.layers.13.mlp.up_proj.lora_A.ReprPO2.weight', 'base_model.model.model.layers.13.mlp.up_proj.lora_B.ReprPO2.weight', 'base_model.model.model.layers.13.mlp.down_proj.base_layer.weight', 'base_model.model.model.layers.13.mlp.down_proj.lora_A.ReprPO2.weight', 'base_model.model.model.layers.13.mlp.down_proj.lora_B.ReprPO2.weight', 'base_model.model.model.layers.13.input_layernorm.weight', 'base_model.model.model.layers.13.post_attention_layernorm.weight', 'base_model.model.model.layers.14.self_attn.q_proj.base_layer.weight', 'base_model.model.model.layers.14.self_attn.q_proj.lora_A.ReprPO2.weight', 'base_model.model.model.layers.14.self_attn.q_proj.lora_B.ReprPO2.weight', 'base_model.model.model.layers.14.self_attn.k_proj.base_layer.weight', 'base_model.model.model.layers.14.self_attn.k_proj.lora_A.ReprPO2.weight', 'base_model.model.model.layers.14.self_attn.k_proj.lora_B.ReprPO2.weight', 'base_model.model.model.layers.14.self_attn.v_proj.base_layer.weight', 'base_model.model.model.layers.14.self_attn.v_proj.lora_A.ReprPO2.weight', 'base_model.model.model.layers.14.self_attn.v_proj.lora_B.ReprPO2.weight', 'base_model.model.model.layers.14.self_attn.o_proj.base_layer.weight', 'base_model.model.model.layers.14.self_attn.o_proj.lora_A.ReprPO2.weight', 'base_model.model.model.layers.14.self_attn.o_proj.lora_B.ReprPO2.weight', 'base_model.model.model.layers.14.mlp.gate_proj.base_layer.weight', 'base_model.model.model.layers.14.mlp.gate_proj.lora_A.ReprPO2.weight', 'base_model.model.model.layers.14.mlp.gate_proj.lora_B.ReprPO2.weight', 'base_model.model.model.layers.14.mlp.up_proj.base_layer.weight', 'base_model.model.model.layers.14.mlp.up_proj.lora_A.ReprPO2.weight', 'base_model.model.model.layers.14.mlp.up_proj.lora_B.ReprPO2.weight', 'base_model.model.model.layers.14.mlp.down_proj.base_layer.weight', 'base_model.model.model.layers.14.mlp.down_proj.lora_A.ReprPO2.weight', 'base_model.model.model.layers.14.mlp.down_proj.lora_B.ReprPO2.weight', 'base_model.model.model.layers.14.input_layernorm.weight', 'base_model.model.model.layers.14.post_attention_layernorm.weight', 'base_model.model.model.layers.15.self_attn.q_proj.base_layer.weight', 'base_model.model.model.layers.15.self_attn.q_proj.lora_A.ReprPO2.weight', 'base_model.model.model.layers.15.self_attn.q_proj.lora_B.ReprPO2.weight', 'base_model.model.model.layers.15.self_attn.k_proj.base_layer.weight', 'base_model.model.model.layers.15.self_attn.k_proj.lora_A.ReprPO2.weight', 'base_model.model.model.layers.15.self_attn.k_proj.lora_B.ReprPO2.weight', 'base_model.model.model.layers.15.self_attn.v_proj.base_layer.weight', 'base_model.model.model.layers.15.self_attn.v_proj.lora_A.ReprPO2.weight', 'base_model.model.model.layers.15.self_attn.v_proj.lora_B.ReprPO2.weight', 'base_model.model.model.layers.15.self_attn.o_proj.base_layer.weight', 'base_model.model.model.layers.15.self_attn.o_proj.lora_A.ReprPO2.weight', 'base_model.model.model.layers.15.self_attn.o_proj.lora_B.ReprPO2.weight', 'base_model.model.model.layers.15.mlp.gate_proj.base_layer.weight', 'base_model.model.model.layers.15.mlp.gate_proj.lora_A.ReprPO2.weight', 'base_model.model.model.layers.15.mlp.gate_proj.lora_B.ReprPO2.weight', 'base_model.model.model.layers.15.mlp.up_proj.base_layer.weight', 'base_model.model.model.layers.15.mlp.up_proj.lora_A.ReprPO2.weight', 'base_model.model.model.layers.15.mlp.up_proj.lora_B.ReprPO2.weight', 'base_model.model.model.layers.15.mlp.down_proj.base_layer.weight', 'base_model.model.model.layers.15.mlp.down_proj.lora_A.ReprPO2.weight', 'base_model.model.model.layers.15.mlp.down_proj.lora_B.ReprPO2.weight', 'base_model.model.model.layers.15.input_layernorm.weight', 'base_model.model.model.layers.15.post_attention_layernorm.weight', 'base_model.model.model.layers.16.self_attn.q_proj.base_layer.weight', 'base_model.model.model.layers.16.self_attn.q_proj.lora_A.ReprPO2.weight', 'base_model.model.model.layers.16.self_attn.q_proj.lora_B.ReprPO2.weight', 'base_model.model.model.layers.16.self_attn.k_proj.base_layer.weight', 'base_model.model.model.layers.16.self_attn.k_proj.lora_A.ReprPO2.weight', 'base_model.model.model.layers.16.self_attn.k_proj.lora_B.ReprPO2.weight', 'base_model.model.model.layers.16.self_attn.v_proj.base_layer.weight', 'base_model.model.model.layers.16.self_attn.v_proj.lora_A.ReprPO2.weight', 'base_model.model.model.layers.16.self_attn.v_proj.lora_B.ReprPO2.weight', 'base_model.model.model.layers.16.self_attn.o_proj.base_layer.weight', 'base_model.model.model.layers.16.self_attn.o_proj.lora_A.ReprPO2.weight', 'base_model.model.model.layers.16.self_attn.o_proj.lora_B.ReprPO2.weight', 'base_model.model.model.layers.16.mlp.gate_proj.base_layer.weight', 'base_model.model.model.layers.16.mlp.gate_proj.lora_A.ReprPO2.weight', 'base_model.model.model.layers.16.mlp.gate_proj.lora_B.ReprPO2.weight', 'base_model.model.model.layers.16.mlp.up_proj.base_layer.weight', 'base_model.model.model.layers.16.mlp.up_proj.lora_A.ReprPO2.weight', 'base_model.model.model.layers.16.mlp.up_proj.lora_B.ReprPO2.weight', 'base_model.model.model.layers.16.mlp.down_proj.base_layer.weight', 'base_model.model.model.layers.16.mlp.down_proj.lora_A.ReprPO2.weight', 'base_model.model.model.layers.16.mlp.down_proj.lora_B.ReprPO2.weight', 'base_model.model.model.layers.16.input_layernorm.weight', 'base_model.model.model.layers.16.post_attention_layernorm.weight', 'base_model.model.model.layers.17.self_attn.q_proj.base_layer.weight', 'base_model.model.model.layers.17.self_attn.q_proj.lora_A.ReprPO2.weight', 'base_model.model.model.layers.17.self_attn.q_proj.lora_B.ReprPO2.weight', 'base_model.model.model.layers.17.self_attn.k_proj.base_layer.weight', 'base_model.model.model.layers.17.self_attn.k_proj.lora_A.ReprPO2.weight', 'base_model.model.model.layers.17.self_attn.k_proj.lora_B.ReprPO2.weight', 'base_model.model.model.layers.17.self_attn.v_proj.base_layer.weight', 'base_model.model.model.layers.17.self_attn.v_proj.lora_A.ReprPO2.weight', 'base_model.model.model.layers.17.self_attn.v_proj.lora_B.ReprPO2.weight', 'base_model.model.model.layers.17.self_attn.o_proj.base_layer.weight', 'base_model.model.model.layers.17.self_attn.o_proj.lora_A.ReprPO2.weight', 'base_model.model.model.layers.17.self_attn.o_proj.lora_B.ReprPO2.weight', 'base_model.model.model.layers.17.mlp.gate_proj.base_layer.weight', 'base_model.model.model.layers.17.mlp.gate_proj.lora_A.ReprPO2.weight', 'base_model.model.model.layers.17.mlp.gate_proj.lora_B.ReprPO2.weight', 'base_model.model.model.layers.17.mlp.up_proj.base_layer.weight', 'base_model.model.model.layers.17.mlp.up_proj.lora_A.ReprPO2.weight', 'base_model.model.model.layers.17.mlp.up_proj.lora_B.ReprPO2.weight', 'base_model.model.model.layers.17.mlp.down_proj.base_layer.weight', 'base_model.model.model.layers.17.mlp.down_proj.lora_A.ReprPO2.weight', 'base_model.model.model.layers.17.mlp.down_proj.lora_B.ReprPO2.weight', 'base_model.model.model.layers.17.input_layernorm.weight', 'base_model.model.model.layers.17.post_attention_layernorm.weight', 'base_model.model.model.layers.18.self_attn.q_proj.base_layer.weight', 'base_model.model.model.layers.18.self_attn.q_proj.lora_A.ReprPO2.weight', 'base_model.model.model.layers.18.self_attn.q_proj.lora_B.ReprPO2.weight', 'base_model.model.model.layers.18.self_attn.k_proj.base_layer.weight', 'base_model.model.model.layers.18.self_attn.k_proj.lora_A.ReprPO2.weight', 'base_model.model.model.layers.18.self_attn.k_proj.lora_B.ReprPO2.weight', 'base_model.model.model.layers.18.self_attn.v_proj.base_layer.weight', 'base_model.model.model.layers.18.self_attn.v_proj.lora_A.ReprPO2.weight', 'base_model.model.model.layers.18.self_attn.v_proj.lora_B.ReprPO2.weight', 'base_model.model.model.layers.18.self_attn.o_proj.base_layer.weight', 'base_model.model.model.layers.18.self_attn.o_proj.lora_A.ReprPO2.weight', 'base_model.model.model.layers.18.self_attn.o_proj.lora_B.ReprPO2.weight', 'base_model.model.model.layers.18.mlp.gate_proj.base_layer.weight', 'base_model.model.model.layers.18.mlp.gate_proj.lora_A.ReprPO2.weight', 'base_model.model.model.layers.18.mlp.gate_proj.lora_B.ReprPO2.weight', 'base_model.model.model.layers.18.mlp.up_proj.base_layer.weight', 'base_model.model.model.layers.18.mlp.up_proj.lora_A.ReprPO2.weight', 'base_model.model.model.layers.18.mlp.up_proj.lora_B.ReprPO2.weight', 'base_model.model.model.layers.18.mlp.down_proj.base_layer.weight', 'base_model.model.model.layers.18.mlp.down_proj.lora_A.ReprPO2.weight', 'base_model.model.model.layers.18.mlp.down_proj.lora_B.ReprPO2.weight', 'base_model.model.model.layers.18.input_layernorm.weight', 'base_model.model.model.layers.18.post_attention_layernorm.weight', 'base_model.model.model.layers.19.self_attn.q_proj.base_layer.weight', 'base_model.model.model.layers.19.self_attn.q_proj.lora_A.ReprPO2.weight', 'base_model.model.model.layers.19.self_attn.q_proj.lora_B.ReprPO2.weight', 'base_model.model.model.layers.19.self_attn.k_proj.base_layer.weight', 'base_model.model.model.layers.19.self_attn.k_proj.lora_A.ReprPO2.weight', 'base_model.model.model.layers.19.self_attn.k_proj.lora_B.ReprPO2.weight', 'base_model.model.model.layers.19.self_attn.v_proj.base_layer.weight', 'base_model.model.model.layers.19.self_attn.v_proj.lora_A.ReprPO2.weight', 'base_model.model.model.layers.19.self_attn.v_proj.lora_B.ReprPO2.weight', 'base_model.model.model.layers.19.self_attn.o_proj.base_layer.weight', 'base_model.model.model.layers.19.self_attn.o_proj.lora_A.ReprPO2.weight', 'base_model.model.model.layers.19.self_attn.o_proj.lora_B.ReprPO2.weight', 'base_model.model.model.layers.19.mlp.gate_proj.base_layer.weight', 'base_model.model.model.layers.19.mlp.gate_proj.lora_A.ReprPO2.weight', 'base_model.model.model.layers.19.mlp.gate_proj.lora_B.ReprPO2.weight', 'base_model.model.model.layers.19.mlp.up_proj.base_layer.weight', 'base_model.model.model.layers.19.mlp.up_proj.lora_A.ReprPO2.weight', 'base_model.model.model.layers.19.mlp.up_proj.lora_B.ReprPO2.weight', 'base_model.model.model.layers.19.mlp.down_proj.base_layer.weight', 'base_model.model.model.layers.19.mlp.down_proj.lora_A.ReprPO2.weight', 'base_model.model.model.layers.19.mlp.down_proj.lora_B.ReprPO2.weight', 'base_model.model.model.layers.19.input_layernorm.weight', 'base_model.model.model.layers.19.post_attention_layernorm.weight', 'base_model.model.model.layers.20.self_attn.q_proj.base_layer.weight', 'base_model.model.model.layers.20.self_attn.q_proj.lora_A.ReprPO2.weight', 'base_model.model.model.layers.20.self_attn.q_proj.lora_B.ReprPO2.weight', 'base_model.model.model.layers.20.self_attn.k_proj.base_layer.weight', 'base_model.model.model.layers.20.self_attn.k_proj.lora_A.ReprPO2.weight', 'base_model.model.model.layers.20.self_attn.k_proj.lora_B.ReprPO2.weight', 'base_model.model.model.layers.20.self_attn.v_proj.base_layer.weight', 'base_model.model.model.layers.20.self_attn.v_proj.lora_A.ReprPO2.weight', 'base_model.model.model.layers.20.self_attn.v_proj.lora_B.ReprPO2.weight', 'base_model.model.model.layers.20.self_attn.o_proj.base_layer.weight', 'base_model.model.model.layers.20.self_attn.o_proj.lora_A.ReprPO2.weight', 'base_model.model.model.layers.20.self_attn.o_proj.lora_B.ReprPO2.weight', 'base_model.model.model.layers.20.mlp.gate_proj.base_layer.weight', 'base_model.model.model.layers.20.mlp.gate_proj.lora_A.ReprPO2.weight', 'base_model.model.model.layers.20.mlp.gate_proj.lora_B.ReprPO2.weight', 'base_model.model.model.layers.20.mlp.up_proj.base_layer.weight', 'base_model.model.model.layers.20.mlp.up_proj.lora_A.ReprPO2.weight', 'base_model.model.model.layers.20.mlp.up_proj.lora_B.ReprPO2.weight', 'base_model.model.model.layers.20.mlp.down_proj.base_layer.weight', 'base_model.model.model.layers.20.mlp.down_proj.lora_A.ReprPO2.weight', 'base_model.model.model.layers.20.mlp.down_proj.lora_B.ReprPO2.weight', 'base_model.model.model.layers.20.input_layernorm.weight', 'base_model.model.model.layers.20.post_attention_layernorm.weight', 'base_model.model.model.layers.21.self_attn.q_proj.base_layer.weight', 'base_model.model.model.layers.21.self_attn.q_proj.lora_A.ReprPO2.weight', 'base_model.model.model.layers.21.self_attn.q_proj.lora_B.ReprPO2.weight', 'base_model.model.model.layers.21.self_attn.k_proj.base_layer.weight', 'base_model.model.model.layers.21.self_attn.k_proj.lora_A.ReprPO2.weight', 'base_model.model.model.layers.21.self_attn.k_proj.lora_B.ReprPO2.weight', 'base_model.model.model.layers.21.self_attn.v_proj.base_layer.weight', 'base_model.model.model.layers.21.self_attn.v_proj.lora_A.ReprPO2.weight', 'base_model.model.model.layers.21.self_attn.v_proj.lora_B.ReprPO2.weight', 'base_model.model.model.layers.21.self_attn.o_proj.base_layer.weight', 'base_model.model.model.layers.21.self_attn.o_proj.lora_A.ReprPO2.weight', 'base_model.model.model.layers.21.self_attn.o_proj.lora_B.ReprPO2.weight', 'base_model.model.model.layers.21.mlp.gate_proj.base_layer.weight', 'base_model.model.model.layers.21.mlp.gate_proj.lora_A.ReprPO2.weight', 'base_model.model.model.layers.21.mlp.gate_proj.lora_B.ReprPO2.weight', 'base_model.model.model.layers.21.mlp.up_proj.base_layer.weight', 'base_model.model.model.layers.21.mlp.up_proj.lora_A.ReprPO2.weight', 'base_model.model.model.layers.21.mlp.up_proj.lora_B.ReprPO2.weight', 'base_model.model.model.layers.21.mlp.down_proj.base_layer.weight', 'base_model.model.model.layers.21.mlp.down_proj.lora_A.ReprPO2.weight', 'base_model.model.model.layers.21.mlp.down_proj.lora_B.ReprPO2.weight', 'base_model.model.model.layers.21.input_layernorm.weight', 'base_model.model.model.layers.21.post_attention_layernorm.weight', 'base_model.model.model.layers.22.self_attn.q_proj.base_layer.weight', 'base_model.model.model.layers.22.self_attn.q_proj.lora_A.ReprPO2.weight', 'base_model.model.model.layers.22.self_attn.q_proj.lora_B.ReprPO2.weight', 'base_model.model.model.layers.22.self_attn.k_proj.base_layer.weight', 'base_model.model.model.layers.22.self_attn.k_proj.lora_A.ReprPO2.weight', 'base_model.model.model.layers.22.self_attn.k_proj.lora_B.ReprPO2.weight', 'base_model.model.model.layers.22.self_attn.v_proj.base_layer.weight', 'base_model.model.model.layers.22.self_attn.v_proj.lora_A.ReprPO2.weight', 'base_model.model.model.layers.22.self_attn.v_proj.lora_B.ReprPO2.weight', 'base_model.model.model.layers.22.self_attn.o_proj.base_layer.weight', 'base_model.model.model.layers.22.self_attn.o_proj.lora_A.ReprPO2.weight', 'base_model.model.model.layers.22.self_attn.o_proj.lora_B.ReprPO2.weight', 'base_model.model.model.layers.22.mlp.gate_proj.base_layer.weight', 'base_model.model.model.layers.22.mlp.gate_proj.lora_A.ReprPO2.weight', 'base_model.model.model.layers.22.mlp.gate_proj.lora_B.ReprPO2.weight', 'base_model.model.model.layers.22.mlp.up_proj.base_layer.weight', 'base_model.model.model.layers.22.mlp.up_proj.lora_A.ReprPO2.weight', 'base_model.model.model.layers.22.mlp.up_proj.lora_B.ReprPO2.weight', 'base_model.model.model.layers.22.mlp.down_proj.base_layer.weight', 'base_model.model.model.layers.22.mlp.down_proj.lora_A.ReprPO2.weight', 'base_model.model.model.layers.22.mlp.down_proj.lora_B.ReprPO2.weight', 'base_model.model.model.layers.22.input_layernorm.weight', 'base_model.model.model.layers.22.post_attention_layernorm.weight', 'base_model.model.model.layers.23.self_attn.q_proj.base_layer.weight', 'base_model.model.model.layers.23.self_attn.q_proj.lora_A.ReprPO2.weight', 'base_model.model.model.layers.23.self_attn.q_proj.lora_B.ReprPO2.weight', 'base_model.model.model.layers.23.self_attn.k_proj.base_layer.weight', 'base_model.model.model.layers.23.self_attn.k_proj.lora_A.ReprPO2.weight', 'base_model.model.model.layers.23.self_attn.k_proj.lora_B.ReprPO2.weight', 'base_model.model.model.layers.23.self_attn.v_proj.base_layer.weight', 'base_model.model.model.layers.23.self_attn.v_proj.lora_A.ReprPO2.weight', 'base_model.model.model.layers.23.self_attn.v_proj.lora_B.ReprPO2.weight', 'base_model.model.model.layers.23.self_attn.o_proj.base_layer.weight', 'base_model.model.model.layers.23.self_attn.o_proj.lora_A.ReprPO2.weight', 'base_model.model.model.layers.23.self_attn.o_proj.lora_B.ReprPO2.weight', 'base_model.model.model.layers.23.mlp.gate_proj.base_layer.weight', 'base_model.model.model.layers.23.mlp.gate_proj.lora_A.ReprPO2.weight', 'base_model.model.model.layers.23.mlp.gate_proj.lora_B.ReprPO2.weight', 'base_model.model.model.layers.23.mlp.up_proj.base_layer.weight', 'base_model.model.model.layers.23.mlp.up_proj.lora_A.ReprPO2.weight', 'base_model.model.model.layers.23.mlp.up_proj.lora_B.ReprPO2.weight', 'base_model.model.model.layers.23.mlp.down_proj.base_layer.weight', 'base_model.model.model.layers.23.mlp.down_proj.lora_A.ReprPO2.weight', 'base_model.model.model.layers.23.mlp.down_proj.lora_B.ReprPO2.weight', 'base_model.model.model.layers.23.input_layernorm.weight', 'base_model.model.model.layers.23.post_attention_layernorm.weight', 'base_model.model.model.layers.24.self_attn.q_proj.base_layer.weight', 'base_model.model.model.layers.24.self_attn.q_proj.lora_A.ReprPO2.weight', 'base_model.model.model.layers.24.self_attn.q_proj.lora_B.ReprPO2.weight', 'base_model.model.model.layers.24.self_attn.k_proj.base_layer.weight', 'base_model.model.model.layers.24.self_attn.k_proj.lora_A.ReprPO2.weight', 'base_model.model.model.layers.24.self_attn.k_proj.lora_B.ReprPO2.weight', 'base_model.model.model.layers.24.self_attn.v_proj.base_layer.weight', 'base_model.model.model.layers.24.self_attn.v_proj.lora_A.ReprPO2.weight', 'base_model.model.model.layers.24.self_attn.v_proj.lora_B.ReprPO2.weight', 'base_model.model.model.layers.24.self_attn.o_proj.base_layer.weight', 'base_model.model.model.layers.24.self_attn.o_proj.lora_A.ReprPO2.weight', 'base_model.model.model.layers.24.self_attn.o_proj.lora_B.ReprPO2.weight', 'base_model.model.model.layers.24.mlp.gate_proj.base_layer.weight', 'base_model.model.model.layers.24.mlp.gate_proj.lora_A.ReprPO2.weight', 'base_model.model.model.layers.24.mlp.gate_proj.lora_B.ReprPO2.weight', 'base_model.model.model.layers.24.mlp.up_proj.base_layer.weight', 'base_model.model.model.layers.24.mlp.up_proj.lora_A.ReprPO2.weight', 'base_model.model.model.layers.24.mlp.up_proj.lora_B.ReprPO2.weight', 'base_model.model.model.layers.24.mlp.down_proj.base_layer.weight', 'base_model.model.model.layers.24.mlp.down_proj.lora_A.ReprPO2.weight', 'base_model.model.model.layers.24.mlp.down_proj.lora_B.ReprPO2.weight', 'base_model.model.model.layers.24.input_layernorm.weight', 'base_model.model.model.layers.24.post_attention_layernorm.weight', 'base_model.model.model.layers.25.self_attn.q_proj.base_layer.weight', 'base_model.model.model.layers.25.self_attn.q_proj.lora_A.ReprPO2.weight', 'base_model.model.model.layers.25.self_attn.q_proj.lora_B.ReprPO2.weight', 'base_model.model.model.layers.25.self_attn.k_proj.base_layer.weight', 'base_model.model.model.layers.25.self_attn.k_proj.lora_A.ReprPO2.weight', 'base_model.model.model.layers.25.self_attn.k_proj.lora_B.ReprPO2.weight', 'base_model.model.model.layers.25.self_attn.v_proj.base_layer.weight', 'base_model.model.model.layers.25.self_attn.v_proj.lora_A.ReprPO2.weight', 'base_model.model.model.layers.25.self_attn.v_proj.lora_B.ReprPO2.weight', 'base_model.model.model.layers.25.self_attn.o_proj.base_layer.weight', 'base_model.model.model.layers.25.self_attn.o_proj.lora_A.ReprPO2.weight', 'base_model.model.model.layers.25.self_attn.o_proj.lora_B.ReprPO2.weight', 'base_model.model.model.layers.25.mlp.gate_proj.base_layer.weight', 'base_model.model.model.layers.25.mlp.gate_proj.lora_A.ReprPO2.weight', 'base_model.model.model.layers.25.mlp.gate_proj.lora_B.ReprPO2.weight', 'base_model.model.model.layers.25.mlp.up_proj.base_layer.weight', 'base_model.model.model.layers.25.mlp.up_proj.lora_A.ReprPO2.weight', 'base_model.model.model.layers.25.mlp.up_proj.lora_B.ReprPO2.weight', 'base_model.model.model.layers.25.mlp.down_proj.base_layer.weight', 'base_model.model.model.layers.25.mlp.down_proj.lora_A.ReprPO2.weight', 'base_model.model.model.layers.25.mlp.down_proj.lora_B.ReprPO2.weight', 'base_model.model.model.layers.25.input_layernorm.weight', 'base_model.model.model.layers.25.post_attention_layernorm.weight', 'base_model.model.model.layers.26.self_attn.q_proj.base_layer.weight', 'base_model.model.model.layers.26.self_attn.q_proj.lora_A.ReprPO2.weight', 'base_model.model.model.layers.26.self_attn.q_proj.lora_B.ReprPO2.weight', 'base_model.model.model.layers.26.self_attn.k_proj.base_layer.weight', 'base_model.model.model.layers.26.self_attn.k_proj.lora_A.ReprPO2.weight', 'base_model.model.model.layers.26.self_attn.k_proj.lora_B.ReprPO2.weight', 'base_model.model.model.layers.26.self_attn.v_proj.base_layer.weight', 'base_model.model.model.layers.26.self_attn.v_proj.lora_A.ReprPO2.weight', 'base_model.model.model.layers.26.self_attn.v_proj.lora_B.ReprPO2.weight', 'base_model.model.model.layers.26.self_attn.o_proj.base_layer.weight', 'base_model.model.model.layers.26.self_attn.o_proj.lora_A.ReprPO2.weight', 'base_model.model.model.layers.26.self_attn.o_proj.lora_B.ReprPO2.weight', 'base_model.model.model.layers.26.mlp.gate_proj.base_layer.weight', 'base_model.model.model.layers.26.mlp.gate_proj.lora_A.ReprPO2.weight', 'base_model.model.model.layers.26.mlp.gate_proj.lora_B.ReprPO2.weight', 'base_model.model.model.layers.26.mlp.up_proj.base_layer.weight', 'base_model.model.model.layers.26.mlp.up_proj.lora_A.ReprPO2.weight', 'base_model.model.model.layers.26.mlp.up_proj.lora_B.ReprPO2.weight', 'base_model.model.model.layers.26.mlp.down_proj.base_layer.weight', 'base_model.model.model.layers.26.mlp.down_proj.lora_A.ReprPO2.weight', 'base_model.model.model.layers.26.mlp.down_proj.lora_B.ReprPO2.weight', 'base_model.model.model.layers.26.input_layernorm.weight', 'base_model.model.model.layers.26.post_attention_layernorm.weight', 'base_model.model.model.layers.27.self_attn.q_proj.base_layer.weight', 'base_model.model.model.layers.27.self_attn.q_proj.lora_A.ReprPO2.weight', 'base_model.model.model.layers.27.self_attn.q_proj.lora_B.ReprPO2.weight', 'base_model.model.model.layers.27.self_attn.k_proj.base_layer.weight', 'base_model.model.model.layers.27.self_attn.k_proj.lora_A.ReprPO2.weight', 'base_model.model.model.layers.27.self_attn.k_proj.lora_B.ReprPO2.weight', 'base_model.model.model.layers.27.self_attn.v_proj.base_layer.weight', 'base_model.model.model.layers.27.self_attn.v_proj.lora_A.ReprPO2.weight', 'base_model.model.model.layers.27.self_attn.v_proj.lora_B.ReprPO2.weight', 'base_model.model.model.layers.27.self_attn.o_proj.base_layer.weight', 'base_model.model.model.layers.27.self_attn.o_proj.lora_A.ReprPO2.weight', 'base_model.model.model.layers.27.self_attn.o_proj.lora_B.ReprPO2.weight', 'base_model.model.model.layers.27.mlp.gate_proj.base_layer.weight', 'base_model.model.model.layers.27.mlp.gate_proj.lora_A.ReprPO2.weight', 'base_model.model.model.layers.27.mlp.gate_proj.lora_B.ReprPO2.weight', 'base_model.model.model.layers.27.mlp.up_proj.base_layer.weight', 'base_model.model.model.layers.27.mlp.up_proj.lora_A.ReprPO2.weight', 'base_model.model.model.layers.27.mlp.up_proj.lora_B.ReprPO2.weight', 'base_model.model.model.layers.27.mlp.down_proj.base_layer.weight', 'base_model.model.model.layers.27.mlp.down_proj.lora_A.ReprPO2.weight', 'base_model.model.model.layers.27.mlp.down_proj.lora_B.ReprPO2.weight', 'base_model.model.model.layers.27.input_layernorm.weight', 'base_model.model.model.layers.27.post_attention_layernorm.weight', 'base_model.model.model.layers.28.self_attn.q_proj.base_layer.weight', 'base_model.model.model.layers.28.self_attn.q_proj.lora_A.ReprPO2.weight', 'base_model.model.model.layers.28.self_attn.q_proj.lora_B.ReprPO2.weight', 'base_model.model.model.layers.28.self_attn.k_proj.base_layer.weight', 'base_model.model.model.layers.28.self_attn.k_proj.lora_A.ReprPO2.weight', 'base_model.model.model.layers.28.self_attn.k_proj.lora_B.ReprPO2.weight', 'base_model.model.model.layers.28.self_attn.v_proj.base_layer.weight', 'base_model.model.model.layers.28.self_attn.v_proj.lora_A.ReprPO2.weight', 'base_model.model.model.layers.28.self_attn.v_proj.lora_B.ReprPO2.weight', 'base_model.model.model.layers.28.self_attn.o_proj.base_layer.weight', 'base_model.model.model.layers.28.self_attn.o_proj.lora_A.ReprPO2.weight', 'base_model.model.model.layers.28.self_attn.o_proj.lora_B.ReprPO2.weight', 'base_model.model.model.layers.28.mlp.gate_proj.base_layer.weight', 'base_model.model.model.layers.28.mlp.gate_proj.lora_A.ReprPO2.weight', 'base_model.model.model.layers.28.mlp.gate_proj.lora_B.ReprPO2.weight', 'base_model.model.model.layers.28.mlp.up_proj.base_layer.weight', 'base_model.model.model.layers.28.mlp.up_proj.lora_A.ReprPO2.weight', 'base_model.model.model.layers.28.mlp.up_proj.lora_B.ReprPO2.weight', 'base_model.model.model.layers.28.mlp.down_proj.base_layer.weight', 'base_model.model.model.layers.28.mlp.down_proj.lora_A.ReprPO2.weight', 'base_model.model.model.layers.28.mlp.down_proj.lora_B.ReprPO2.weight', 'base_model.model.model.layers.28.input_layernorm.weight', 'base_model.model.model.layers.28.post_attention_layernorm.weight', 'base_model.model.model.layers.29.self_attn.q_proj.base_layer.weight', 'base_model.model.model.layers.29.self_attn.q_proj.lora_A.ReprPO2.weight', 'base_model.model.model.layers.29.self_attn.q_proj.lora_B.ReprPO2.weight', 'base_model.model.model.layers.29.self_attn.k_proj.base_layer.weight', 'base_model.model.model.layers.29.self_attn.k_proj.lora_A.ReprPO2.weight', 'base_model.model.model.layers.29.self_attn.k_proj.lora_B.ReprPO2.weight', 'base_model.model.model.layers.29.self_attn.v_proj.base_layer.weight', 'base_model.model.model.layers.29.self_attn.v_proj.lora_A.ReprPO2.weight', 'base_model.model.model.layers.29.self_attn.v_proj.lora_B.ReprPO2.weight', 'base_model.model.model.layers.29.self_attn.o_proj.base_layer.weight', 'base_model.model.model.layers.29.self_attn.o_proj.lora_A.ReprPO2.weight', 'base_model.model.model.layers.29.self_attn.o_proj.lora_B.ReprPO2.weight', 'base_model.model.model.layers.29.mlp.gate_proj.base_layer.weight', 'base_model.model.model.layers.29.mlp.gate_proj.lora_A.ReprPO2.weight', 'base_model.model.model.layers.29.mlp.gate_proj.lora_B.ReprPO2.weight', 'base_model.model.model.layers.29.mlp.up_proj.base_layer.weight', 'base_model.model.model.layers.29.mlp.up_proj.lora_A.ReprPO2.weight', 'base_model.model.model.layers.29.mlp.up_proj.lora_B.ReprPO2.weight', 'base_model.model.model.layers.29.mlp.down_proj.base_layer.weight', 'base_model.model.model.layers.29.mlp.down_proj.lora_A.ReprPO2.weight', 'base_model.model.model.layers.29.mlp.down_proj.lora_B.ReprPO2.weight', 'base_model.model.model.layers.29.input_layernorm.weight', 'base_model.model.model.layers.29.post_attention_layernorm.weight', 'base_model.model.model.layers.30.self_attn.q_proj.base_layer.weight', 'base_model.model.model.layers.30.self_attn.q_proj.lora_A.ReprPO2.weight', 'base_model.model.model.layers.30.self_attn.q_proj.lora_B.ReprPO2.weight', 'base_model.model.model.layers.30.self_attn.k_proj.base_layer.weight', 'base_model.model.model.layers.30.self_attn.k_proj.lora_A.ReprPO2.weight', 'base_model.model.model.layers.30.self_attn.k_proj.lora_B.ReprPO2.weight', 'base_model.model.model.layers.30.self_attn.v_proj.base_layer.weight', 'base_model.model.model.layers.30.self_attn.v_proj.lora_A.ReprPO2.weight', 'base_model.model.model.layers.30.self_attn.v_proj.lora_B.ReprPO2.weight', 'base_model.model.model.layers.30.self_attn.o_proj.base_layer.weight', 'base_model.model.model.layers.30.self_attn.o_proj.lora_A.ReprPO2.weight', 'base_model.model.model.layers.30.self_attn.o_proj.lora_B.ReprPO2.weight', 'base_model.model.model.layers.30.mlp.gate_proj.base_layer.weight', 'base_model.model.model.layers.30.mlp.gate_proj.lora_A.ReprPO2.weight', 'base_model.model.model.layers.30.mlp.gate_proj.lora_B.ReprPO2.weight', 'base_model.model.model.layers.30.mlp.up_proj.base_layer.weight', 'base_model.model.model.layers.30.mlp.up_proj.lora_A.ReprPO2.weight', 'base_model.model.model.layers.30.mlp.up_proj.lora_B.ReprPO2.weight', 'base_model.model.model.layers.30.mlp.down_proj.base_layer.weight', 'base_model.model.model.layers.30.mlp.down_proj.lora_A.ReprPO2.weight', 'base_model.model.model.layers.30.mlp.down_proj.lora_B.ReprPO2.weight', 'base_model.model.model.layers.30.input_layernorm.weight', 'base_model.model.model.layers.30.post_attention_layernorm.weight', 'base_model.model.model.layers.31.self_attn.q_proj.base_layer.weight', 'base_model.model.model.layers.31.self_attn.q_proj.lora_A.ReprPO2.weight', 'base_model.model.model.layers.31.self_attn.q_proj.lora_B.ReprPO2.weight', 'base_model.model.model.layers.31.self_attn.k_proj.base_layer.weight', 'base_model.model.model.layers.31.self_attn.k_proj.lora_A.ReprPO2.weight', 'base_model.model.model.layers.31.self_attn.k_proj.lora_B.ReprPO2.weight', 'base_model.model.model.layers.31.self_attn.v_proj.base_layer.weight', 'base_model.model.model.layers.31.self_attn.v_proj.lora_A.ReprPO2.weight', 'base_model.model.model.layers.31.self_attn.v_proj.lora_B.ReprPO2.weight', 'base_model.model.model.layers.31.self_attn.o_proj.base_layer.weight', 'base_model.model.model.layers.31.self_attn.o_proj.lora_A.ReprPO2.weight', 'base_model.model.model.layers.31.self_attn.o_proj.lora_B.ReprPO2.weight', 'base_model.model.model.layers.31.mlp.gate_proj.base_layer.weight', 'base_model.model.model.layers.31.mlp.gate_proj.lora_A.ReprPO2.weight', 'base_model.model.model.layers.31.mlp.gate_proj.lora_B.ReprPO2.weight', 'base_model.model.model.layers.31.mlp.up_proj.base_layer.weight', 'base_model.model.model.layers.31.mlp.up_proj.lora_A.ReprPO2.weight', 'base_model.model.model.layers.31.mlp.up_proj.lora_B.ReprPO2.weight', 'base_model.model.model.layers.31.mlp.down_proj.base_layer.weight', 'base_model.model.model.layers.31.mlp.down_proj.lora_A.ReprPO2.weight', 'base_model.model.model.layers.31.mlp.down_proj.lora_B.ReprPO2.weight', 'base_model.model.model.layers.31.input_layernorm.weight', 'base_model.model.model.layers.31.post_attention_layernorm.weight', 'base_model.model.model.norm.weight', 'base_model.model.lm_head.weight'], unexpected_keys=[])"
      ]
     },
     "execution_count": 5,
     "metadata": {},
     "output_type": "execute_result"
    }
   ],
   "source": [
    "reprpo_adapter_f = './output-dir/07_hf_topk_TODO-2024-07-14-20-19-43/ReprPO'\n",
    "# reprpo_adapter_f = './output-dir/09_hf_wd_oft-2024-07-20-21-00-31/ReprPO'\n",
    "print(sorted(Path(reprpo_adapter_f).glob('*')))\n",
    "s1 = model.load_adapter(reprpo_adapter_f, 'ReprPO')\n",
    "s1"
   ]
  },
  {
   "cell_type": "code",
   "execution_count": 6,
   "metadata": {},
   "outputs": [
    {
     "data": {
      "text/plain": [
       "_IncompatibleKeys(missing_keys=['base_model.model.model.embed_tokens.weight', 'base_model.model.model.layers.0.self_attn.q_proj.base_layer.weight', 'base_model.model.model.layers.0.self_attn.q_proj.lora_A.ReprPO2.weight', 'base_model.model.model.layers.0.self_attn.q_proj.lora_A.ReprPO.weight', 'base_model.model.model.layers.0.self_attn.q_proj.lora_B.ReprPO2.weight', 'base_model.model.model.layers.0.self_attn.q_proj.lora_B.ReprPO.weight', 'base_model.model.model.layers.0.self_attn.k_proj.base_layer.weight', 'base_model.model.model.layers.0.self_attn.k_proj.lora_A.ReprPO2.weight', 'base_model.model.model.layers.0.self_attn.k_proj.lora_A.ReprPO.weight', 'base_model.model.model.layers.0.self_attn.k_proj.lora_B.ReprPO2.weight', 'base_model.model.model.layers.0.self_attn.k_proj.lora_B.ReprPO.weight', 'base_model.model.model.layers.0.self_attn.v_proj.base_layer.weight', 'base_model.model.model.layers.0.self_attn.v_proj.lora_A.ReprPO2.weight', 'base_model.model.model.layers.0.self_attn.v_proj.lora_A.ReprPO.weight', 'base_model.model.model.layers.0.self_attn.v_proj.lora_B.ReprPO2.weight', 'base_model.model.model.layers.0.self_attn.v_proj.lora_B.ReprPO.weight', 'base_model.model.model.layers.0.self_attn.o_proj.base_layer.weight', 'base_model.model.model.layers.0.self_attn.o_proj.lora_A.ReprPO2.weight', 'base_model.model.model.layers.0.self_attn.o_proj.lora_A.ReprPO.weight', 'base_model.model.model.layers.0.self_attn.o_proj.lora_B.ReprPO2.weight', 'base_model.model.model.layers.0.self_attn.o_proj.lora_B.ReprPO.weight', 'base_model.model.model.layers.0.mlp.gate_proj.base_layer.weight', 'base_model.model.model.layers.0.mlp.gate_proj.lora_A.ReprPO2.weight', 'base_model.model.model.layers.0.mlp.gate_proj.lora_A.ReprPO.weight', 'base_model.model.model.layers.0.mlp.gate_proj.lora_B.ReprPO2.weight', 'base_model.model.model.layers.0.mlp.gate_proj.lora_B.ReprPO.weight', 'base_model.model.model.layers.0.mlp.up_proj.base_layer.weight', 'base_model.model.model.layers.0.mlp.up_proj.lora_A.ReprPO2.weight', 'base_model.model.model.layers.0.mlp.up_proj.lora_A.ReprPO.weight', 'base_model.model.model.layers.0.mlp.up_proj.lora_B.ReprPO2.weight', 'base_model.model.model.layers.0.mlp.up_proj.lora_B.ReprPO.weight', 'base_model.model.model.layers.0.mlp.down_proj.base_layer.weight', 'base_model.model.model.layers.0.mlp.down_proj.lora_A.ReprPO2.weight', 'base_model.model.model.layers.0.mlp.down_proj.lora_A.ReprPO.weight', 'base_model.model.model.layers.0.mlp.down_proj.lora_B.ReprPO2.weight', 'base_model.model.model.layers.0.mlp.down_proj.lora_B.ReprPO.weight', 'base_model.model.model.layers.0.input_layernorm.weight', 'base_model.model.model.layers.0.post_attention_layernorm.weight', 'base_model.model.model.layers.1.self_attn.q_proj.base_layer.weight', 'base_model.model.model.layers.1.self_attn.q_proj.lora_A.ReprPO2.weight', 'base_model.model.model.layers.1.self_attn.q_proj.lora_A.ReprPO.weight', 'base_model.model.model.layers.1.self_attn.q_proj.lora_B.ReprPO2.weight', 'base_model.model.model.layers.1.self_attn.q_proj.lora_B.ReprPO.weight', 'base_model.model.model.layers.1.self_attn.k_proj.base_layer.weight', 'base_model.model.model.layers.1.self_attn.k_proj.lora_A.ReprPO2.weight', 'base_model.model.model.layers.1.self_attn.k_proj.lora_A.ReprPO.weight', 'base_model.model.model.layers.1.self_attn.k_proj.lora_B.ReprPO2.weight', 'base_model.model.model.layers.1.self_attn.k_proj.lora_B.ReprPO.weight', 'base_model.model.model.layers.1.self_attn.v_proj.base_layer.weight', 'base_model.model.model.layers.1.self_attn.v_proj.lora_A.ReprPO2.weight', 'base_model.model.model.layers.1.self_attn.v_proj.lora_A.ReprPO.weight', 'base_model.model.model.layers.1.self_attn.v_proj.lora_B.ReprPO2.weight', 'base_model.model.model.layers.1.self_attn.v_proj.lora_B.ReprPO.weight', 'base_model.model.model.layers.1.self_attn.o_proj.base_layer.weight', 'base_model.model.model.layers.1.self_attn.o_proj.lora_A.ReprPO2.weight', 'base_model.model.model.layers.1.self_attn.o_proj.lora_A.ReprPO.weight', 'base_model.model.model.layers.1.self_attn.o_proj.lora_B.ReprPO2.weight', 'base_model.model.model.layers.1.self_attn.o_proj.lora_B.ReprPO.weight', 'base_model.model.model.layers.1.mlp.gate_proj.base_layer.weight', 'base_model.model.model.layers.1.mlp.gate_proj.lora_A.ReprPO2.weight', 'base_model.model.model.layers.1.mlp.gate_proj.lora_A.ReprPO.weight', 'base_model.model.model.layers.1.mlp.gate_proj.lora_B.ReprPO2.weight', 'base_model.model.model.layers.1.mlp.gate_proj.lora_B.ReprPO.weight', 'base_model.model.model.layers.1.mlp.up_proj.base_layer.weight', 'base_model.model.model.layers.1.mlp.up_proj.lora_A.ReprPO2.weight', 'base_model.model.model.layers.1.mlp.up_proj.lora_A.ReprPO.weight', 'base_model.model.model.layers.1.mlp.up_proj.lora_B.ReprPO2.weight', 'base_model.model.model.layers.1.mlp.up_proj.lora_B.ReprPO.weight', 'base_model.model.model.layers.1.mlp.down_proj.base_layer.weight', 'base_model.model.model.layers.1.mlp.down_proj.lora_A.ReprPO2.weight', 'base_model.model.model.layers.1.mlp.down_proj.lora_A.ReprPO.weight', 'base_model.model.model.layers.1.mlp.down_proj.lora_B.ReprPO2.weight', 'base_model.model.model.layers.1.mlp.down_proj.lora_B.ReprPO.weight', 'base_model.model.model.layers.1.input_layernorm.weight', 'base_model.model.model.layers.1.post_attention_layernorm.weight', 'base_model.model.model.layers.2.self_attn.q_proj.base_layer.weight', 'base_model.model.model.layers.2.self_attn.q_proj.lora_A.ReprPO2.weight', 'base_model.model.model.layers.2.self_attn.q_proj.lora_A.ReprPO.weight', 'base_model.model.model.layers.2.self_attn.q_proj.lora_B.ReprPO2.weight', 'base_model.model.model.layers.2.self_attn.q_proj.lora_B.ReprPO.weight', 'base_model.model.model.layers.2.self_attn.k_proj.base_layer.weight', 'base_model.model.model.layers.2.self_attn.k_proj.lora_A.ReprPO2.weight', 'base_model.model.model.layers.2.self_attn.k_proj.lora_A.ReprPO.weight', 'base_model.model.model.layers.2.self_attn.k_proj.lora_B.ReprPO2.weight', 'base_model.model.model.layers.2.self_attn.k_proj.lora_B.ReprPO.weight', 'base_model.model.model.layers.2.self_attn.v_proj.base_layer.weight', 'base_model.model.model.layers.2.self_attn.v_proj.lora_A.ReprPO2.weight', 'base_model.model.model.layers.2.self_attn.v_proj.lora_A.ReprPO.weight', 'base_model.model.model.layers.2.self_attn.v_proj.lora_B.ReprPO2.weight', 'base_model.model.model.layers.2.self_attn.v_proj.lora_B.ReprPO.weight', 'base_model.model.model.layers.2.self_attn.o_proj.base_layer.weight', 'base_model.model.model.layers.2.self_attn.o_proj.lora_A.ReprPO2.weight', 'base_model.model.model.layers.2.self_attn.o_proj.lora_A.ReprPO.weight', 'base_model.model.model.layers.2.self_attn.o_proj.lora_B.ReprPO2.weight', 'base_model.model.model.layers.2.self_attn.o_proj.lora_B.ReprPO.weight', 'base_model.model.model.layers.2.mlp.gate_proj.base_layer.weight', 'base_model.model.model.layers.2.mlp.gate_proj.lora_A.ReprPO2.weight', 'base_model.model.model.layers.2.mlp.gate_proj.lora_A.ReprPO.weight', 'base_model.model.model.layers.2.mlp.gate_proj.lora_B.ReprPO2.weight', 'base_model.model.model.layers.2.mlp.gate_proj.lora_B.ReprPO.weight', 'base_model.model.model.layers.2.mlp.up_proj.base_layer.weight', 'base_model.model.model.layers.2.mlp.up_proj.lora_A.ReprPO2.weight', 'base_model.model.model.layers.2.mlp.up_proj.lora_A.ReprPO.weight', 'base_model.model.model.layers.2.mlp.up_proj.lora_B.ReprPO2.weight', 'base_model.model.model.layers.2.mlp.up_proj.lora_B.ReprPO.weight', 'base_model.model.model.layers.2.mlp.down_proj.base_layer.weight', 'base_model.model.model.layers.2.mlp.down_proj.lora_A.ReprPO2.weight', 'base_model.model.model.layers.2.mlp.down_proj.lora_A.ReprPO.weight', 'base_model.model.model.layers.2.mlp.down_proj.lora_B.ReprPO2.weight', 'base_model.model.model.layers.2.mlp.down_proj.lora_B.ReprPO.weight', 'base_model.model.model.layers.2.input_layernorm.weight', 'base_model.model.model.layers.2.post_attention_layernorm.weight', 'base_model.model.model.layers.3.self_attn.q_proj.base_layer.weight', 'base_model.model.model.layers.3.self_attn.q_proj.lora_A.ReprPO2.weight', 'base_model.model.model.layers.3.self_attn.q_proj.lora_A.ReprPO.weight', 'base_model.model.model.layers.3.self_attn.q_proj.lora_B.ReprPO2.weight', 'base_model.model.model.layers.3.self_attn.q_proj.lora_B.ReprPO.weight', 'base_model.model.model.layers.3.self_attn.k_proj.base_layer.weight', 'base_model.model.model.layers.3.self_attn.k_proj.lora_A.ReprPO2.weight', 'base_model.model.model.layers.3.self_attn.k_proj.lora_A.ReprPO.weight', 'base_model.model.model.layers.3.self_attn.k_proj.lora_B.ReprPO2.weight', 'base_model.model.model.layers.3.self_attn.k_proj.lora_B.ReprPO.weight', 'base_model.model.model.layers.3.self_attn.v_proj.base_layer.weight', 'base_model.model.model.layers.3.self_attn.v_proj.lora_A.ReprPO2.weight', 'base_model.model.model.layers.3.self_attn.v_proj.lora_A.ReprPO.weight', 'base_model.model.model.layers.3.self_attn.v_proj.lora_B.ReprPO2.weight', 'base_model.model.model.layers.3.self_attn.v_proj.lora_B.ReprPO.weight', 'base_model.model.model.layers.3.self_attn.o_proj.base_layer.weight', 'base_model.model.model.layers.3.self_attn.o_proj.lora_A.ReprPO2.weight', 'base_model.model.model.layers.3.self_attn.o_proj.lora_A.ReprPO.weight', 'base_model.model.model.layers.3.self_attn.o_proj.lora_B.ReprPO2.weight', 'base_model.model.model.layers.3.self_attn.o_proj.lora_B.ReprPO.weight', 'base_model.model.model.layers.3.mlp.gate_proj.base_layer.weight', 'base_model.model.model.layers.3.mlp.gate_proj.lora_A.ReprPO2.weight', 'base_model.model.model.layers.3.mlp.gate_proj.lora_A.ReprPO.weight', 'base_model.model.model.layers.3.mlp.gate_proj.lora_B.ReprPO2.weight', 'base_model.model.model.layers.3.mlp.gate_proj.lora_B.ReprPO.weight', 'base_model.model.model.layers.3.mlp.up_proj.base_layer.weight', 'base_model.model.model.layers.3.mlp.up_proj.lora_A.ReprPO2.weight', 'base_model.model.model.layers.3.mlp.up_proj.lora_A.ReprPO.weight', 'base_model.model.model.layers.3.mlp.up_proj.lora_B.ReprPO2.weight', 'base_model.model.model.layers.3.mlp.up_proj.lora_B.ReprPO.weight', 'base_model.model.model.layers.3.mlp.down_proj.base_layer.weight', 'base_model.model.model.layers.3.mlp.down_proj.lora_A.ReprPO2.weight', 'base_model.model.model.layers.3.mlp.down_proj.lora_A.ReprPO.weight', 'base_model.model.model.layers.3.mlp.down_proj.lora_B.ReprPO2.weight', 'base_model.model.model.layers.3.mlp.down_proj.lora_B.ReprPO.weight', 'base_model.model.model.layers.3.input_layernorm.weight', 'base_model.model.model.layers.3.post_attention_layernorm.weight', 'base_model.model.model.layers.4.self_attn.q_proj.base_layer.weight', 'base_model.model.model.layers.4.self_attn.q_proj.lora_A.ReprPO2.weight', 'base_model.model.model.layers.4.self_attn.q_proj.lora_A.ReprPO.weight', 'base_model.model.model.layers.4.self_attn.q_proj.lora_B.ReprPO2.weight', 'base_model.model.model.layers.4.self_attn.q_proj.lora_B.ReprPO.weight', 'base_model.model.model.layers.4.self_attn.k_proj.base_layer.weight', 'base_model.model.model.layers.4.self_attn.k_proj.lora_A.ReprPO2.weight', 'base_model.model.model.layers.4.self_attn.k_proj.lora_A.ReprPO.weight', 'base_model.model.model.layers.4.self_attn.k_proj.lora_B.ReprPO2.weight', 'base_model.model.model.layers.4.self_attn.k_proj.lora_B.ReprPO.weight', 'base_model.model.model.layers.4.self_attn.v_proj.base_layer.weight', 'base_model.model.model.layers.4.self_attn.v_proj.lora_A.ReprPO2.weight', 'base_model.model.model.layers.4.self_attn.v_proj.lora_A.ReprPO.weight', 'base_model.model.model.layers.4.self_attn.v_proj.lora_B.ReprPO2.weight', 'base_model.model.model.layers.4.self_attn.v_proj.lora_B.ReprPO.weight', 'base_model.model.model.layers.4.self_attn.o_proj.base_layer.weight', 'base_model.model.model.layers.4.self_attn.o_proj.lora_A.ReprPO2.weight', 'base_model.model.model.layers.4.self_attn.o_proj.lora_A.ReprPO.weight', 'base_model.model.model.layers.4.self_attn.o_proj.lora_B.ReprPO2.weight', 'base_model.model.model.layers.4.self_attn.o_proj.lora_B.ReprPO.weight', 'base_model.model.model.layers.4.mlp.gate_proj.base_layer.weight', 'base_model.model.model.layers.4.mlp.gate_proj.lora_A.ReprPO2.weight', 'base_model.model.model.layers.4.mlp.gate_proj.lora_A.ReprPO.weight', 'base_model.model.model.layers.4.mlp.gate_proj.lora_B.ReprPO2.weight', 'base_model.model.model.layers.4.mlp.gate_proj.lora_B.ReprPO.weight', 'base_model.model.model.layers.4.mlp.up_proj.base_layer.weight', 'base_model.model.model.layers.4.mlp.up_proj.lora_A.ReprPO2.weight', 'base_model.model.model.layers.4.mlp.up_proj.lora_A.ReprPO.weight', 'base_model.model.model.layers.4.mlp.up_proj.lora_B.ReprPO2.weight', 'base_model.model.model.layers.4.mlp.up_proj.lora_B.ReprPO.weight', 'base_model.model.model.layers.4.mlp.down_proj.base_layer.weight', 'base_model.model.model.layers.4.mlp.down_proj.lora_A.ReprPO2.weight', 'base_model.model.model.layers.4.mlp.down_proj.lora_A.ReprPO.weight', 'base_model.model.model.layers.4.mlp.down_proj.lora_B.ReprPO2.weight', 'base_model.model.model.layers.4.mlp.down_proj.lora_B.ReprPO.weight', 'base_model.model.model.layers.4.input_layernorm.weight', 'base_model.model.model.layers.4.post_attention_layernorm.weight', 'base_model.model.model.layers.5.self_attn.q_proj.base_layer.weight', 'base_model.model.model.layers.5.self_attn.q_proj.lora_A.ReprPO2.weight', 'base_model.model.model.layers.5.self_attn.q_proj.lora_A.ReprPO.weight', 'base_model.model.model.layers.5.self_attn.q_proj.lora_B.ReprPO2.weight', 'base_model.model.model.layers.5.self_attn.q_proj.lora_B.ReprPO.weight', 'base_model.model.model.layers.5.self_attn.k_proj.base_layer.weight', 'base_model.model.model.layers.5.self_attn.k_proj.lora_A.ReprPO2.weight', 'base_model.model.model.layers.5.self_attn.k_proj.lora_A.ReprPO.weight', 'base_model.model.model.layers.5.self_attn.k_proj.lora_B.ReprPO2.weight', 'base_model.model.model.layers.5.self_attn.k_proj.lora_B.ReprPO.weight', 'base_model.model.model.layers.5.self_attn.v_proj.base_layer.weight', 'base_model.model.model.layers.5.self_attn.v_proj.lora_A.ReprPO2.weight', 'base_model.model.model.layers.5.self_attn.v_proj.lora_A.ReprPO.weight', 'base_model.model.model.layers.5.self_attn.v_proj.lora_B.ReprPO2.weight', 'base_model.model.model.layers.5.self_attn.v_proj.lora_B.ReprPO.weight', 'base_model.model.model.layers.5.self_attn.o_proj.base_layer.weight', 'base_model.model.model.layers.5.self_attn.o_proj.lora_A.ReprPO2.weight', 'base_model.model.model.layers.5.self_attn.o_proj.lora_A.ReprPO.weight', 'base_model.model.model.layers.5.self_attn.o_proj.lora_B.ReprPO2.weight', 'base_model.model.model.layers.5.self_attn.o_proj.lora_B.ReprPO.weight', 'base_model.model.model.layers.5.mlp.gate_proj.base_layer.weight', 'base_model.model.model.layers.5.mlp.gate_proj.lora_A.ReprPO2.weight', 'base_model.model.model.layers.5.mlp.gate_proj.lora_A.ReprPO.weight', 'base_model.model.model.layers.5.mlp.gate_proj.lora_B.ReprPO2.weight', 'base_model.model.model.layers.5.mlp.gate_proj.lora_B.ReprPO.weight', 'base_model.model.model.layers.5.mlp.up_proj.base_layer.weight', 'base_model.model.model.layers.5.mlp.up_proj.lora_A.ReprPO2.weight', 'base_model.model.model.layers.5.mlp.up_proj.lora_A.ReprPO.weight', 'base_model.model.model.layers.5.mlp.up_proj.lora_B.ReprPO2.weight', 'base_model.model.model.layers.5.mlp.up_proj.lora_B.ReprPO.weight', 'base_model.model.model.layers.5.mlp.down_proj.base_layer.weight', 'base_model.model.model.layers.5.mlp.down_proj.lora_A.ReprPO2.weight', 'base_model.model.model.layers.5.mlp.down_proj.lora_A.ReprPO.weight', 'base_model.model.model.layers.5.mlp.down_proj.lora_B.ReprPO2.weight', 'base_model.model.model.layers.5.mlp.down_proj.lora_B.ReprPO.weight', 'base_model.model.model.layers.5.input_layernorm.weight', 'base_model.model.model.layers.5.post_attention_layernorm.weight', 'base_model.model.model.layers.6.self_attn.q_proj.base_layer.weight', 'base_model.model.model.layers.6.self_attn.q_proj.lora_A.ReprPO2.weight', 'base_model.model.model.layers.6.self_attn.q_proj.lora_A.ReprPO.weight', 'base_model.model.model.layers.6.self_attn.q_proj.lora_B.ReprPO2.weight', 'base_model.model.model.layers.6.self_attn.q_proj.lora_B.ReprPO.weight', 'base_model.model.model.layers.6.self_attn.k_proj.base_layer.weight', 'base_model.model.model.layers.6.self_attn.k_proj.lora_A.ReprPO2.weight', 'base_model.model.model.layers.6.self_attn.k_proj.lora_A.ReprPO.weight', 'base_model.model.model.layers.6.self_attn.k_proj.lora_B.ReprPO2.weight', 'base_model.model.model.layers.6.self_attn.k_proj.lora_B.ReprPO.weight', 'base_model.model.model.layers.6.self_attn.v_proj.base_layer.weight', 'base_model.model.model.layers.6.self_attn.v_proj.lora_A.ReprPO2.weight', 'base_model.model.model.layers.6.self_attn.v_proj.lora_A.ReprPO.weight', 'base_model.model.model.layers.6.self_attn.v_proj.lora_B.ReprPO2.weight', 'base_model.model.model.layers.6.self_attn.v_proj.lora_B.ReprPO.weight', 'base_model.model.model.layers.6.self_attn.o_proj.base_layer.weight', 'base_model.model.model.layers.6.self_attn.o_proj.lora_A.ReprPO2.weight', 'base_model.model.model.layers.6.self_attn.o_proj.lora_A.ReprPO.weight', 'base_model.model.model.layers.6.self_attn.o_proj.lora_B.ReprPO2.weight', 'base_model.model.model.layers.6.self_attn.o_proj.lora_B.ReprPO.weight', 'base_model.model.model.layers.6.mlp.gate_proj.base_layer.weight', 'base_model.model.model.layers.6.mlp.gate_proj.lora_A.ReprPO2.weight', 'base_model.model.model.layers.6.mlp.gate_proj.lora_A.ReprPO.weight', 'base_model.model.model.layers.6.mlp.gate_proj.lora_B.ReprPO2.weight', 'base_model.model.model.layers.6.mlp.gate_proj.lora_B.ReprPO.weight', 'base_model.model.model.layers.6.mlp.up_proj.base_layer.weight', 'base_model.model.model.layers.6.mlp.up_proj.lora_A.ReprPO2.weight', 'base_model.model.model.layers.6.mlp.up_proj.lora_A.ReprPO.weight', 'base_model.model.model.layers.6.mlp.up_proj.lora_B.ReprPO2.weight', 'base_model.model.model.layers.6.mlp.up_proj.lora_B.ReprPO.weight', 'base_model.model.model.layers.6.mlp.down_proj.base_layer.weight', 'base_model.model.model.layers.6.mlp.down_proj.lora_A.ReprPO2.weight', 'base_model.model.model.layers.6.mlp.down_proj.lora_A.ReprPO.weight', 'base_model.model.model.layers.6.mlp.down_proj.lora_B.ReprPO2.weight', 'base_model.model.model.layers.6.mlp.down_proj.lora_B.ReprPO.weight', 'base_model.model.model.layers.6.input_layernorm.weight', 'base_model.model.model.layers.6.post_attention_layernorm.weight', 'base_model.model.model.layers.7.self_attn.q_proj.base_layer.weight', 'base_model.model.model.layers.7.self_attn.q_proj.lora_A.ReprPO2.weight', 'base_model.model.model.layers.7.self_attn.q_proj.lora_A.ReprPO.weight', 'base_model.model.model.layers.7.self_attn.q_proj.lora_B.ReprPO2.weight', 'base_model.model.model.layers.7.self_attn.q_proj.lora_B.ReprPO.weight', 'base_model.model.model.layers.7.self_attn.k_proj.base_layer.weight', 'base_model.model.model.layers.7.self_attn.k_proj.lora_A.ReprPO2.weight', 'base_model.model.model.layers.7.self_attn.k_proj.lora_A.ReprPO.weight', 'base_model.model.model.layers.7.self_attn.k_proj.lora_B.ReprPO2.weight', 'base_model.model.model.layers.7.self_attn.k_proj.lora_B.ReprPO.weight', 'base_model.model.model.layers.7.self_attn.v_proj.base_layer.weight', 'base_model.model.model.layers.7.self_attn.v_proj.lora_A.ReprPO2.weight', 'base_model.model.model.layers.7.self_attn.v_proj.lora_A.ReprPO.weight', 'base_model.model.model.layers.7.self_attn.v_proj.lora_B.ReprPO2.weight', 'base_model.model.model.layers.7.self_attn.v_proj.lora_B.ReprPO.weight', 'base_model.model.model.layers.7.self_attn.o_proj.base_layer.weight', 'base_model.model.model.layers.7.self_attn.o_proj.lora_A.ReprPO2.weight', 'base_model.model.model.layers.7.self_attn.o_proj.lora_A.ReprPO.weight', 'base_model.model.model.layers.7.self_attn.o_proj.lora_B.ReprPO2.weight', 'base_model.model.model.layers.7.self_attn.o_proj.lora_B.ReprPO.weight', 'base_model.model.model.layers.7.mlp.gate_proj.base_layer.weight', 'base_model.model.model.layers.7.mlp.gate_proj.lora_A.ReprPO2.weight', 'base_model.model.model.layers.7.mlp.gate_proj.lora_A.ReprPO.weight', 'base_model.model.model.layers.7.mlp.gate_proj.lora_B.ReprPO2.weight', 'base_model.model.model.layers.7.mlp.gate_proj.lora_B.ReprPO.weight', 'base_model.model.model.layers.7.mlp.up_proj.base_layer.weight', 'base_model.model.model.layers.7.mlp.up_proj.lora_A.ReprPO2.weight', 'base_model.model.model.layers.7.mlp.up_proj.lora_A.ReprPO.weight', 'base_model.model.model.layers.7.mlp.up_proj.lora_B.ReprPO2.weight', 'base_model.model.model.layers.7.mlp.up_proj.lora_B.ReprPO.weight', 'base_model.model.model.layers.7.mlp.down_proj.base_layer.weight', 'base_model.model.model.layers.7.mlp.down_proj.lora_A.ReprPO2.weight', 'base_model.model.model.layers.7.mlp.down_proj.lora_A.ReprPO.weight', 'base_model.model.model.layers.7.mlp.down_proj.lora_B.ReprPO2.weight', 'base_model.model.model.layers.7.mlp.down_proj.lora_B.ReprPO.weight', 'base_model.model.model.layers.7.input_layernorm.weight', 'base_model.model.model.layers.7.post_attention_layernorm.weight', 'base_model.model.model.layers.8.self_attn.q_proj.base_layer.weight', 'base_model.model.model.layers.8.self_attn.q_proj.lora_A.ReprPO2.weight', 'base_model.model.model.layers.8.self_attn.q_proj.lora_A.ReprPO.weight', 'base_model.model.model.layers.8.self_attn.q_proj.lora_B.ReprPO2.weight', 'base_model.model.model.layers.8.self_attn.q_proj.lora_B.ReprPO.weight', 'base_model.model.model.layers.8.self_attn.k_proj.base_layer.weight', 'base_model.model.model.layers.8.self_attn.k_proj.lora_A.ReprPO2.weight', 'base_model.model.model.layers.8.self_attn.k_proj.lora_A.ReprPO.weight', 'base_model.model.model.layers.8.self_attn.k_proj.lora_B.ReprPO2.weight', 'base_model.model.model.layers.8.self_attn.k_proj.lora_B.ReprPO.weight', 'base_model.model.model.layers.8.self_attn.v_proj.base_layer.weight', 'base_model.model.model.layers.8.self_attn.v_proj.lora_A.ReprPO2.weight', 'base_model.model.model.layers.8.self_attn.v_proj.lora_A.ReprPO.weight', 'base_model.model.model.layers.8.self_attn.v_proj.lora_B.ReprPO2.weight', 'base_model.model.model.layers.8.self_attn.v_proj.lora_B.ReprPO.weight', 'base_model.model.model.layers.8.self_attn.o_proj.base_layer.weight', 'base_model.model.model.layers.8.self_attn.o_proj.lora_A.ReprPO2.weight', 'base_model.model.model.layers.8.self_attn.o_proj.lora_A.ReprPO.weight', 'base_model.model.model.layers.8.self_attn.o_proj.lora_B.ReprPO2.weight', 'base_model.model.model.layers.8.self_attn.o_proj.lora_B.ReprPO.weight', 'base_model.model.model.layers.8.mlp.gate_proj.base_layer.weight', 'base_model.model.model.layers.8.mlp.gate_proj.lora_A.ReprPO2.weight', 'base_model.model.model.layers.8.mlp.gate_proj.lora_A.ReprPO.weight', 'base_model.model.model.layers.8.mlp.gate_proj.lora_B.ReprPO2.weight', 'base_model.model.model.layers.8.mlp.gate_proj.lora_B.ReprPO.weight', 'base_model.model.model.layers.8.mlp.up_proj.base_layer.weight', 'base_model.model.model.layers.8.mlp.up_proj.lora_A.ReprPO2.weight', 'base_model.model.model.layers.8.mlp.up_proj.lora_A.ReprPO.weight', 'base_model.model.model.layers.8.mlp.up_proj.lora_B.ReprPO2.weight', 'base_model.model.model.layers.8.mlp.up_proj.lora_B.ReprPO.weight', 'base_model.model.model.layers.8.mlp.down_proj.base_layer.weight', 'base_model.model.model.layers.8.mlp.down_proj.lora_A.ReprPO2.weight', 'base_model.model.model.layers.8.mlp.down_proj.lora_A.ReprPO.weight', 'base_model.model.model.layers.8.mlp.down_proj.lora_B.ReprPO2.weight', 'base_model.model.model.layers.8.mlp.down_proj.lora_B.ReprPO.weight', 'base_model.model.model.layers.8.input_layernorm.weight', 'base_model.model.model.layers.8.post_attention_layernorm.weight', 'base_model.model.model.layers.9.self_attn.q_proj.base_layer.weight', 'base_model.model.model.layers.9.self_attn.q_proj.lora_A.ReprPO2.weight', 'base_model.model.model.layers.9.self_attn.q_proj.lora_A.ReprPO.weight', 'base_model.model.model.layers.9.self_attn.q_proj.lora_B.ReprPO2.weight', 'base_model.model.model.layers.9.self_attn.q_proj.lora_B.ReprPO.weight', 'base_model.model.model.layers.9.self_attn.k_proj.base_layer.weight', 'base_model.model.model.layers.9.self_attn.k_proj.lora_A.ReprPO2.weight', 'base_model.model.model.layers.9.self_attn.k_proj.lora_A.ReprPO.weight', 'base_model.model.model.layers.9.self_attn.k_proj.lora_B.ReprPO2.weight', 'base_model.model.model.layers.9.self_attn.k_proj.lora_B.ReprPO.weight', 'base_model.model.model.layers.9.self_attn.v_proj.base_layer.weight', 'base_model.model.model.layers.9.self_attn.v_proj.lora_A.ReprPO2.weight', 'base_model.model.model.layers.9.self_attn.v_proj.lora_A.ReprPO.weight', 'base_model.model.model.layers.9.self_attn.v_proj.lora_B.ReprPO2.weight', 'base_model.model.model.layers.9.self_attn.v_proj.lora_B.ReprPO.weight', 'base_model.model.model.layers.9.self_attn.o_proj.base_layer.weight', 'base_model.model.model.layers.9.self_attn.o_proj.lora_A.ReprPO2.weight', 'base_model.model.model.layers.9.self_attn.o_proj.lora_A.ReprPO.weight', 'base_model.model.model.layers.9.self_attn.o_proj.lora_B.ReprPO2.weight', 'base_model.model.model.layers.9.self_attn.o_proj.lora_B.ReprPO.weight', 'base_model.model.model.layers.9.mlp.gate_proj.base_layer.weight', 'base_model.model.model.layers.9.mlp.gate_proj.lora_A.ReprPO2.weight', 'base_model.model.model.layers.9.mlp.gate_proj.lora_A.ReprPO.weight', 'base_model.model.model.layers.9.mlp.gate_proj.lora_B.ReprPO2.weight', 'base_model.model.model.layers.9.mlp.gate_proj.lora_B.ReprPO.weight', 'base_model.model.model.layers.9.mlp.up_proj.base_layer.weight', 'base_model.model.model.layers.9.mlp.up_proj.lora_A.ReprPO2.weight', 'base_model.model.model.layers.9.mlp.up_proj.lora_A.ReprPO.weight', 'base_model.model.model.layers.9.mlp.up_proj.lora_B.ReprPO2.weight', 'base_model.model.model.layers.9.mlp.up_proj.lora_B.ReprPO.weight', 'base_model.model.model.layers.9.mlp.down_proj.base_layer.weight', 'base_model.model.model.layers.9.mlp.down_proj.lora_A.ReprPO2.weight', 'base_model.model.model.layers.9.mlp.down_proj.lora_A.ReprPO.weight', 'base_model.model.model.layers.9.mlp.down_proj.lora_B.ReprPO2.weight', 'base_model.model.model.layers.9.mlp.down_proj.lora_B.ReprPO.weight', 'base_model.model.model.layers.9.input_layernorm.weight', 'base_model.model.model.layers.9.post_attention_layernorm.weight', 'base_model.model.model.layers.10.self_attn.q_proj.base_layer.weight', 'base_model.model.model.layers.10.self_attn.q_proj.lora_A.ReprPO2.weight', 'base_model.model.model.layers.10.self_attn.q_proj.lora_A.ReprPO.weight', 'base_model.model.model.layers.10.self_attn.q_proj.lora_B.ReprPO2.weight', 'base_model.model.model.layers.10.self_attn.q_proj.lora_B.ReprPO.weight', 'base_model.model.model.layers.10.self_attn.k_proj.base_layer.weight', 'base_model.model.model.layers.10.self_attn.k_proj.lora_A.ReprPO2.weight', 'base_model.model.model.layers.10.self_attn.k_proj.lora_A.ReprPO.weight', 'base_model.model.model.layers.10.self_attn.k_proj.lora_B.ReprPO2.weight', 'base_model.model.model.layers.10.self_attn.k_proj.lora_B.ReprPO.weight', 'base_model.model.model.layers.10.self_attn.v_proj.base_layer.weight', 'base_model.model.model.layers.10.self_attn.v_proj.lora_A.ReprPO2.weight', 'base_model.model.model.layers.10.self_attn.v_proj.lora_A.ReprPO.weight', 'base_model.model.model.layers.10.self_attn.v_proj.lora_B.ReprPO2.weight', 'base_model.model.model.layers.10.self_attn.v_proj.lora_B.ReprPO.weight', 'base_model.model.model.layers.10.self_attn.o_proj.base_layer.weight', 'base_model.model.model.layers.10.self_attn.o_proj.lora_A.ReprPO2.weight', 'base_model.model.model.layers.10.self_attn.o_proj.lora_A.ReprPO.weight', 'base_model.model.model.layers.10.self_attn.o_proj.lora_B.ReprPO2.weight', 'base_model.model.model.layers.10.self_attn.o_proj.lora_B.ReprPO.weight', 'base_model.model.model.layers.10.mlp.gate_proj.base_layer.weight', 'base_model.model.model.layers.10.mlp.gate_proj.lora_A.ReprPO2.weight', 'base_model.model.model.layers.10.mlp.gate_proj.lora_A.ReprPO.weight', 'base_model.model.model.layers.10.mlp.gate_proj.lora_B.ReprPO2.weight', 'base_model.model.model.layers.10.mlp.gate_proj.lora_B.ReprPO.weight', 'base_model.model.model.layers.10.mlp.up_proj.base_layer.weight', 'base_model.model.model.layers.10.mlp.up_proj.lora_A.ReprPO2.weight', 'base_model.model.model.layers.10.mlp.up_proj.lora_A.ReprPO.weight', 'base_model.model.model.layers.10.mlp.up_proj.lora_B.ReprPO2.weight', 'base_model.model.model.layers.10.mlp.up_proj.lora_B.ReprPO.weight', 'base_model.model.model.layers.10.mlp.down_proj.base_layer.weight', 'base_model.model.model.layers.10.mlp.down_proj.lora_A.ReprPO2.weight', 'base_model.model.model.layers.10.mlp.down_proj.lora_A.ReprPO.weight', 'base_model.model.model.layers.10.mlp.down_proj.lora_B.ReprPO2.weight', 'base_model.model.model.layers.10.mlp.down_proj.lora_B.ReprPO.weight', 'base_model.model.model.layers.10.input_layernorm.weight', 'base_model.model.model.layers.10.post_attention_layernorm.weight', 'base_model.model.model.layers.11.self_attn.q_proj.base_layer.weight', 'base_model.model.model.layers.11.self_attn.q_proj.lora_A.ReprPO2.weight', 'base_model.model.model.layers.11.self_attn.q_proj.lora_A.ReprPO.weight', 'base_model.model.model.layers.11.self_attn.q_proj.lora_B.ReprPO2.weight', 'base_model.model.model.layers.11.self_attn.q_proj.lora_B.ReprPO.weight', 'base_model.model.model.layers.11.self_attn.k_proj.base_layer.weight', 'base_model.model.model.layers.11.self_attn.k_proj.lora_A.ReprPO2.weight', 'base_model.model.model.layers.11.self_attn.k_proj.lora_A.ReprPO.weight', 'base_model.model.model.layers.11.self_attn.k_proj.lora_B.ReprPO2.weight', 'base_model.model.model.layers.11.self_attn.k_proj.lora_B.ReprPO.weight', 'base_model.model.model.layers.11.self_attn.v_proj.base_layer.weight', 'base_model.model.model.layers.11.self_attn.v_proj.lora_A.ReprPO2.weight', 'base_model.model.model.layers.11.self_attn.v_proj.lora_A.ReprPO.weight', 'base_model.model.model.layers.11.self_attn.v_proj.lora_B.ReprPO2.weight', 'base_model.model.model.layers.11.self_attn.v_proj.lora_B.ReprPO.weight', 'base_model.model.model.layers.11.self_attn.o_proj.base_layer.weight', 'base_model.model.model.layers.11.self_attn.o_proj.lora_A.ReprPO2.weight', 'base_model.model.model.layers.11.self_attn.o_proj.lora_A.ReprPO.weight', 'base_model.model.model.layers.11.self_attn.o_proj.lora_B.ReprPO2.weight', 'base_model.model.model.layers.11.self_attn.o_proj.lora_B.ReprPO.weight', 'base_model.model.model.layers.11.mlp.gate_proj.base_layer.weight', 'base_model.model.model.layers.11.mlp.gate_proj.lora_A.ReprPO2.weight', 'base_model.model.model.layers.11.mlp.gate_proj.lora_A.ReprPO.weight', 'base_model.model.model.layers.11.mlp.gate_proj.lora_B.ReprPO2.weight', 'base_model.model.model.layers.11.mlp.gate_proj.lora_B.ReprPO.weight', 'base_model.model.model.layers.11.mlp.up_proj.base_layer.weight', 'base_model.model.model.layers.11.mlp.up_proj.lora_A.ReprPO2.weight', 'base_model.model.model.layers.11.mlp.up_proj.lora_A.ReprPO.weight', 'base_model.model.model.layers.11.mlp.up_proj.lora_B.ReprPO2.weight', 'base_model.model.model.layers.11.mlp.up_proj.lora_B.ReprPO.weight', 'base_model.model.model.layers.11.mlp.down_proj.base_layer.weight', 'base_model.model.model.layers.11.mlp.down_proj.lora_A.ReprPO2.weight', 'base_model.model.model.layers.11.mlp.down_proj.lora_A.ReprPO.weight', 'base_model.model.model.layers.11.mlp.down_proj.lora_B.ReprPO2.weight', 'base_model.model.model.layers.11.mlp.down_proj.lora_B.ReprPO.weight', 'base_model.model.model.layers.11.input_layernorm.weight', 'base_model.model.model.layers.11.post_attention_layernorm.weight', 'base_model.model.model.layers.12.self_attn.q_proj.base_layer.weight', 'base_model.model.model.layers.12.self_attn.q_proj.lora_A.ReprPO2.weight', 'base_model.model.model.layers.12.self_attn.q_proj.lora_A.ReprPO.weight', 'base_model.model.model.layers.12.self_attn.q_proj.lora_B.ReprPO2.weight', 'base_model.model.model.layers.12.self_attn.q_proj.lora_B.ReprPO.weight', 'base_model.model.model.layers.12.self_attn.k_proj.base_layer.weight', 'base_model.model.model.layers.12.self_attn.k_proj.lora_A.ReprPO2.weight', 'base_model.model.model.layers.12.self_attn.k_proj.lora_A.ReprPO.weight', 'base_model.model.model.layers.12.self_attn.k_proj.lora_B.ReprPO2.weight', 'base_model.model.model.layers.12.self_attn.k_proj.lora_B.ReprPO.weight', 'base_model.model.model.layers.12.self_attn.v_proj.base_layer.weight', 'base_model.model.model.layers.12.self_attn.v_proj.lora_A.ReprPO2.weight', 'base_model.model.model.layers.12.self_attn.v_proj.lora_A.ReprPO.weight', 'base_model.model.model.layers.12.self_attn.v_proj.lora_B.ReprPO2.weight', 'base_model.model.model.layers.12.self_attn.v_proj.lora_B.ReprPO.weight', 'base_model.model.model.layers.12.self_attn.o_proj.base_layer.weight', 'base_model.model.model.layers.12.self_attn.o_proj.lora_A.ReprPO2.weight', 'base_model.model.model.layers.12.self_attn.o_proj.lora_A.ReprPO.weight', 'base_model.model.model.layers.12.self_attn.o_proj.lora_B.ReprPO2.weight', 'base_model.model.model.layers.12.self_attn.o_proj.lora_B.ReprPO.weight', 'base_model.model.model.layers.12.mlp.gate_proj.base_layer.weight', 'base_model.model.model.layers.12.mlp.gate_proj.lora_A.ReprPO2.weight', 'base_model.model.model.layers.12.mlp.gate_proj.lora_A.ReprPO.weight', 'base_model.model.model.layers.12.mlp.gate_proj.lora_B.ReprPO2.weight', 'base_model.model.model.layers.12.mlp.gate_proj.lora_B.ReprPO.weight', 'base_model.model.model.layers.12.mlp.up_proj.base_layer.weight', 'base_model.model.model.layers.12.mlp.up_proj.lora_A.ReprPO2.weight', 'base_model.model.model.layers.12.mlp.up_proj.lora_A.ReprPO.weight', 'base_model.model.model.layers.12.mlp.up_proj.lora_B.ReprPO2.weight', 'base_model.model.model.layers.12.mlp.up_proj.lora_B.ReprPO.weight', 'base_model.model.model.layers.12.mlp.down_proj.base_layer.weight', 'base_model.model.model.layers.12.mlp.down_proj.lora_A.ReprPO2.weight', 'base_model.model.model.layers.12.mlp.down_proj.lora_A.ReprPO.weight', 'base_model.model.model.layers.12.mlp.down_proj.lora_B.ReprPO2.weight', 'base_model.model.model.layers.12.mlp.down_proj.lora_B.ReprPO.weight', 'base_model.model.model.layers.12.input_layernorm.weight', 'base_model.model.model.layers.12.post_attention_layernorm.weight', 'base_model.model.model.layers.13.self_attn.q_proj.base_layer.weight', 'base_model.model.model.layers.13.self_attn.q_proj.lora_A.ReprPO2.weight', 'base_model.model.model.layers.13.self_attn.q_proj.lora_A.ReprPO.weight', 'base_model.model.model.layers.13.self_attn.q_proj.lora_B.ReprPO2.weight', 'base_model.model.model.layers.13.self_attn.q_proj.lora_B.ReprPO.weight', 'base_model.model.model.layers.13.self_attn.k_proj.base_layer.weight', 'base_model.model.model.layers.13.self_attn.k_proj.lora_A.ReprPO2.weight', 'base_model.model.model.layers.13.self_attn.k_proj.lora_A.ReprPO.weight', 'base_model.model.model.layers.13.self_attn.k_proj.lora_B.ReprPO2.weight', 'base_model.model.model.layers.13.self_attn.k_proj.lora_B.ReprPO.weight', 'base_model.model.model.layers.13.self_attn.v_proj.base_layer.weight', 'base_model.model.model.layers.13.self_attn.v_proj.lora_A.ReprPO2.weight', 'base_model.model.model.layers.13.self_attn.v_proj.lora_A.ReprPO.weight', 'base_model.model.model.layers.13.self_attn.v_proj.lora_B.ReprPO2.weight', 'base_model.model.model.layers.13.self_attn.v_proj.lora_B.ReprPO.weight', 'base_model.model.model.layers.13.self_attn.o_proj.base_layer.weight', 'base_model.model.model.layers.13.self_attn.o_proj.lora_A.ReprPO2.weight', 'base_model.model.model.layers.13.self_attn.o_proj.lora_A.ReprPO.weight', 'base_model.model.model.layers.13.self_attn.o_proj.lora_B.ReprPO2.weight', 'base_model.model.model.layers.13.self_attn.o_proj.lora_B.ReprPO.weight', 'base_model.model.model.layers.13.mlp.gate_proj.base_layer.weight', 'base_model.model.model.layers.13.mlp.gate_proj.lora_A.ReprPO2.weight', 'base_model.model.model.layers.13.mlp.gate_proj.lora_A.ReprPO.weight', 'base_model.model.model.layers.13.mlp.gate_proj.lora_B.ReprPO2.weight', 'base_model.model.model.layers.13.mlp.gate_proj.lora_B.ReprPO.weight', 'base_model.model.model.layers.13.mlp.up_proj.base_layer.weight', 'base_model.model.model.layers.13.mlp.up_proj.lora_A.ReprPO2.weight', 'base_model.model.model.layers.13.mlp.up_proj.lora_A.ReprPO.weight', 'base_model.model.model.layers.13.mlp.up_proj.lora_B.ReprPO2.weight', 'base_model.model.model.layers.13.mlp.up_proj.lora_B.ReprPO.weight', 'base_model.model.model.layers.13.mlp.down_proj.base_layer.weight', 'base_model.model.model.layers.13.mlp.down_proj.lora_A.ReprPO2.weight', 'base_model.model.model.layers.13.mlp.down_proj.lora_A.ReprPO.weight', 'base_model.model.model.layers.13.mlp.down_proj.lora_B.ReprPO2.weight', 'base_model.model.model.layers.13.mlp.down_proj.lora_B.ReprPO.weight', 'base_model.model.model.layers.13.input_layernorm.weight', 'base_model.model.model.layers.13.post_attention_layernorm.weight', 'base_model.model.model.layers.14.self_attn.q_proj.base_layer.weight', 'base_model.model.model.layers.14.self_attn.q_proj.lora_A.ReprPO2.weight', 'base_model.model.model.layers.14.self_attn.q_proj.lora_A.ReprPO.weight', 'base_model.model.model.layers.14.self_attn.q_proj.lora_B.ReprPO2.weight', 'base_model.model.model.layers.14.self_attn.q_proj.lora_B.ReprPO.weight', 'base_model.model.model.layers.14.self_attn.k_proj.base_layer.weight', 'base_model.model.model.layers.14.self_attn.k_proj.lora_A.ReprPO2.weight', 'base_model.model.model.layers.14.self_attn.k_proj.lora_A.ReprPO.weight', 'base_model.model.model.layers.14.self_attn.k_proj.lora_B.ReprPO2.weight', 'base_model.model.model.layers.14.self_attn.k_proj.lora_B.ReprPO.weight', 'base_model.model.model.layers.14.self_attn.v_proj.base_layer.weight', 'base_model.model.model.layers.14.self_attn.v_proj.lora_A.ReprPO2.weight', 'base_model.model.model.layers.14.self_attn.v_proj.lora_A.ReprPO.weight', 'base_model.model.model.layers.14.self_attn.v_proj.lora_B.ReprPO2.weight', 'base_model.model.model.layers.14.self_attn.v_proj.lora_B.ReprPO.weight', 'base_model.model.model.layers.14.self_attn.o_proj.base_layer.weight', 'base_model.model.model.layers.14.self_attn.o_proj.lora_A.ReprPO2.weight', 'base_model.model.model.layers.14.self_attn.o_proj.lora_A.ReprPO.weight', 'base_model.model.model.layers.14.self_attn.o_proj.lora_B.ReprPO2.weight', 'base_model.model.model.layers.14.self_attn.o_proj.lora_B.ReprPO.weight', 'base_model.model.model.layers.14.mlp.gate_proj.base_layer.weight', 'base_model.model.model.layers.14.mlp.gate_proj.lora_A.ReprPO2.weight', 'base_model.model.model.layers.14.mlp.gate_proj.lora_A.ReprPO.weight', 'base_model.model.model.layers.14.mlp.gate_proj.lora_B.ReprPO2.weight', 'base_model.model.model.layers.14.mlp.gate_proj.lora_B.ReprPO.weight', 'base_model.model.model.layers.14.mlp.up_proj.base_layer.weight', 'base_model.model.model.layers.14.mlp.up_proj.lora_A.ReprPO2.weight', 'base_model.model.model.layers.14.mlp.up_proj.lora_A.ReprPO.weight', 'base_model.model.model.layers.14.mlp.up_proj.lora_B.ReprPO2.weight', 'base_model.model.model.layers.14.mlp.up_proj.lora_B.ReprPO.weight', 'base_model.model.model.layers.14.mlp.down_proj.base_layer.weight', 'base_model.model.model.layers.14.mlp.down_proj.lora_A.ReprPO2.weight', 'base_model.model.model.layers.14.mlp.down_proj.lora_A.ReprPO.weight', 'base_model.model.model.layers.14.mlp.down_proj.lora_B.ReprPO2.weight', 'base_model.model.model.layers.14.mlp.down_proj.lora_B.ReprPO.weight', 'base_model.model.model.layers.14.input_layernorm.weight', 'base_model.model.model.layers.14.post_attention_layernorm.weight', 'base_model.model.model.layers.15.self_attn.q_proj.base_layer.weight', 'base_model.model.model.layers.15.self_attn.q_proj.lora_A.ReprPO2.weight', 'base_model.model.model.layers.15.self_attn.q_proj.lora_A.ReprPO.weight', 'base_model.model.model.layers.15.self_attn.q_proj.lora_B.ReprPO2.weight', 'base_model.model.model.layers.15.self_attn.q_proj.lora_B.ReprPO.weight', 'base_model.model.model.layers.15.self_attn.k_proj.base_layer.weight', 'base_model.model.model.layers.15.self_attn.k_proj.lora_A.ReprPO2.weight', 'base_model.model.model.layers.15.self_attn.k_proj.lora_A.ReprPO.weight', 'base_model.model.model.layers.15.self_attn.k_proj.lora_B.ReprPO2.weight', 'base_model.model.model.layers.15.self_attn.k_proj.lora_B.ReprPO.weight', 'base_model.model.model.layers.15.self_attn.v_proj.base_layer.weight', 'base_model.model.model.layers.15.self_attn.v_proj.lora_A.ReprPO2.weight', 'base_model.model.model.layers.15.self_attn.v_proj.lora_A.ReprPO.weight', 'base_model.model.model.layers.15.self_attn.v_proj.lora_B.ReprPO2.weight', 'base_model.model.model.layers.15.self_attn.v_proj.lora_B.ReprPO.weight', 'base_model.model.model.layers.15.self_attn.o_proj.base_layer.weight', 'base_model.model.model.layers.15.self_attn.o_proj.lora_A.ReprPO2.weight', 'base_model.model.model.layers.15.self_attn.o_proj.lora_A.ReprPO.weight', 'base_model.model.model.layers.15.self_attn.o_proj.lora_B.ReprPO2.weight', 'base_model.model.model.layers.15.self_attn.o_proj.lora_B.ReprPO.weight', 'base_model.model.model.layers.15.mlp.gate_proj.base_layer.weight', 'base_model.model.model.layers.15.mlp.gate_proj.lora_A.ReprPO2.weight', 'base_model.model.model.layers.15.mlp.gate_proj.lora_A.ReprPO.weight', 'base_model.model.model.layers.15.mlp.gate_proj.lora_B.ReprPO2.weight', 'base_model.model.model.layers.15.mlp.gate_proj.lora_B.ReprPO.weight', 'base_model.model.model.layers.15.mlp.up_proj.base_layer.weight', 'base_model.model.model.layers.15.mlp.up_proj.lora_A.ReprPO2.weight', 'base_model.model.model.layers.15.mlp.up_proj.lora_A.ReprPO.weight', 'base_model.model.model.layers.15.mlp.up_proj.lora_B.ReprPO2.weight', 'base_model.model.model.layers.15.mlp.up_proj.lora_B.ReprPO.weight', 'base_model.model.model.layers.15.mlp.down_proj.base_layer.weight', 'base_model.model.model.layers.15.mlp.down_proj.lora_A.ReprPO2.weight', 'base_model.model.model.layers.15.mlp.down_proj.lora_A.ReprPO.weight', 'base_model.model.model.layers.15.mlp.down_proj.lora_B.ReprPO2.weight', 'base_model.model.model.layers.15.mlp.down_proj.lora_B.ReprPO.weight', 'base_model.model.model.layers.15.input_layernorm.weight', 'base_model.model.model.layers.15.post_attention_layernorm.weight', 'base_model.model.model.layers.16.self_attn.q_proj.base_layer.weight', 'base_model.model.model.layers.16.self_attn.q_proj.lora_A.ReprPO2.weight', 'base_model.model.model.layers.16.self_attn.q_proj.lora_A.ReprPO.weight', 'base_model.model.model.layers.16.self_attn.q_proj.lora_B.ReprPO2.weight', 'base_model.model.model.layers.16.self_attn.q_proj.lora_B.ReprPO.weight', 'base_model.model.model.layers.16.self_attn.k_proj.base_layer.weight', 'base_model.model.model.layers.16.self_attn.k_proj.lora_A.ReprPO2.weight', 'base_model.model.model.layers.16.self_attn.k_proj.lora_A.ReprPO.weight', 'base_model.model.model.layers.16.self_attn.k_proj.lora_B.ReprPO2.weight', 'base_model.model.model.layers.16.self_attn.k_proj.lora_B.ReprPO.weight', 'base_model.model.model.layers.16.self_attn.v_proj.base_layer.weight', 'base_model.model.model.layers.16.self_attn.v_proj.lora_A.ReprPO2.weight', 'base_model.model.model.layers.16.self_attn.v_proj.lora_A.ReprPO.weight', 'base_model.model.model.layers.16.self_attn.v_proj.lora_B.ReprPO2.weight', 'base_model.model.model.layers.16.self_attn.v_proj.lora_B.ReprPO.weight', 'base_model.model.model.layers.16.self_attn.o_proj.base_layer.weight', 'base_model.model.model.layers.16.self_attn.o_proj.lora_A.ReprPO2.weight', 'base_model.model.model.layers.16.self_attn.o_proj.lora_A.ReprPO.weight', 'base_model.model.model.layers.16.self_attn.o_proj.lora_B.ReprPO2.weight', 'base_model.model.model.layers.16.self_attn.o_proj.lora_B.ReprPO.weight', 'base_model.model.model.layers.16.mlp.gate_proj.base_layer.weight', 'base_model.model.model.layers.16.mlp.gate_proj.lora_A.ReprPO2.weight', 'base_model.model.model.layers.16.mlp.gate_proj.lora_A.ReprPO.weight', 'base_model.model.model.layers.16.mlp.gate_proj.lora_B.ReprPO2.weight', 'base_model.model.model.layers.16.mlp.gate_proj.lora_B.ReprPO.weight', 'base_model.model.model.layers.16.mlp.up_proj.base_layer.weight', 'base_model.model.model.layers.16.mlp.up_proj.lora_A.ReprPO2.weight', 'base_model.model.model.layers.16.mlp.up_proj.lora_A.ReprPO.weight', 'base_model.model.model.layers.16.mlp.up_proj.lora_B.ReprPO2.weight', 'base_model.model.model.layers.16.mlp.up_proj.lora_B.ReprPO.weight', 'base_model.model.model.layers.16.mlp.down_proj.base_layer.weight', 'base_model.model.model.layers.16.mlp.down_proj.lora_A.ReprPO2.weight', 'base_model.model.model.layers.16.mlp.down_proj.lora_A.ReprPO.weight', 'base_model.model.model.layers.16.mlp.down_proj.lora_B.ReprPO2.weight', 'base_model.model.model.layers.16.mlp.down_proj.lora_B.ReprPO.weight', 'base_model.model.model.layers.16.input_layernorm.weight', 'base_model.model.model.layers.16.post_attention_layernorm.weight', 'base_model.model.model.layers.17.self_attn.q_proj.base_layer.weight', 'base_model.model.model.layers.17.self_attn.q_proj.lora_A.ReprPO2.weight', 'base_model.model.model.layers.17.self_attn.q_proj.lora_A.ReprPO.weight', 'base_model.model.model.layers.17.self_attn.q_proj.lora_B.ReprPO2.weight', 'base_model.model.model.layers.17.self_attn.q_proj.lora_B.ReprPO.weight', 'base_model.model.model.layers.17.self_attn.k_proj.base_layer.weight', 'base_model.model.model.layers.17.self_attn.k_proj.lora_A.ReprPO2.weight', 'base_model.model.model.layers.17.self_attn.k_proj.lora_A.ReprPO.weight', 'base_model.model.model.layers.17.self_attn.k_proj.lora_B.ReprPO2.weight', 'base_model.model.model.layers.17.self_attn.k_proj.lora_B.ReprPO.weight', 'base_model.model.model.layers.17.self_attn.v_proj.base_layer.weight', 'base_model.model.model.layers.17.self_attn.v_proj.lora_A.ReprPO2.weight', 'base_model.model.model.layers.17.self_attn.v_proj.lora_A.ReprPO.weight', 'base_model.model.model.layers.17.self_attn.v_proj.lora_B.ReprPO2.weight', 'base_model.model.model.layers.17.self_attn.v_proj.lora_B.ReprPO.weight', 'base_model.model.model.layers.17.self_attn.o_proj.base_layer.weight', 'base_model.model.model.layers.17.self_attn.o_proj.lora_A.ReprPO2.weight', 'base_model.model.model.layers.17.self_attn.o_proj.lora_A.ReprPO.weight', 'base_model.model.model.layers.17.self_attn.o_proj.lora_B.ReprPO2.weight', 'base_model.model.model.layers.17.self_attn.o_proj.lora_B.ReprPO.weight', 'base_model.model.model.layers.17.mlp.gate_proj.base_layer.weight', 'base_model.model.model.layers.17.mlp.gate_proj.lora_A.ReprPO2.weight', 'base_model.model.model.layers.17.mlp.gate_proj.lora_A.ReprPO.weight', 'base_model.model.model.layers.17.mlp.gate_proj.lora_B.ReprPO2.weight', 'base_model.model.model.layers.17.mlp.gate_proj.lora_B.ReprPO.weight', 'base_model.model.model.layers.17.mlp.up_proj.base_layer.weight', 'base_model.model.model.layers.17.mlp.up_proj.lora_A.ReprPO2.weight', 'base_model.model.model.layers.17.mlp.up_proj.lora_A.ReprPO.weight', 'base_model.model.model.layers.17.mlp.up_proj.lora_B.ReprPO2.weight', 'base_model.model.model.layers.17.mlp.up_proj.lora_B.ReprPO.weight', 'base_model.model.model.layers.17.mlp.down_proj.base_layer.weight', 'base_model.model.model.layers.17.mlp.down_proj.lora_A.ReprPO2.weight', 'base_model.model.model.layers.17.mlp.down_proj.lora_A.ReprPO.weight', 'base_model.model.model.layers.17.mlp.down_proj.lora_B.ReprPO2.weight', 'base_model.model.model.layers.17.mlp.down_proj.lora_B.ReprPO.weight', 'base_model.model.model.layers.17.input_layernorm.weight', 'base_model.model.model.layers.17.post_attention_layernorm.weight', 'base_model.model.model.layers.18.self_attn.q_proj.base_layer.weight', 'base_model.model.model.layers.18.self_attn.q_proj.lora_A.ReprPO2.weight', 'base_model.model.model.layers.18.self_attn.q_proj.lora_A.ReprPO.weight', 'base_model.model.model.layers.18.self_attn.q_proj.lora_B.ReprPO2.weight', 'base_model.model.model.layers.18.self_attn.q_proj.lora_B.ReprPO.weight', 'base_model.model.model.layers.18.self_attn.k_proj.base_layer.weight', 'base_model.model.model.layers.18.self_attn.k_proj.lora_A.ReprPO2.weight', 'base_model.model.model.layers.18.self_attn.k_proj.lora_A.ReprPO.weight', 'base_model.model.model.layers.18.self_attn.k_proj.lora_B.ReprPO2.weight', 'base_model.model.model.layers.18.self_attn.k_proj.lora_B.ReprPO.weight', 'base_model.model.model.layers.18.self_attn.v_proj.base_layer.weight', 'base_model.model.model.layers.18.self_attn.v_proj.lora_A.ReprPO2.weight', 'base_model.model.model.layers.18.self_attn.v_proj.lora_A.ReprPO.weight', 'base_model.model.model.layers.18.self_attn.v_proj.lora_B.ReprPO2.weight', 'base_model.model.model.layers.18.self_attn.v_proj.lora_B.ReprPO.weight', 'base_model.model.model.layers.18.self_attn.o_proj.base_layer.weight', 'base_model.model.model.layers.18.self_attn.o_proj.lora_A.ReprPO2.weight', 'base_model.model.model.layers.18.self_attn.o_proj.lora_A.ReprPO.weight', 'base_model.model.model.layers.18.self_attn.o_proj.lora_B.ReprPO2.weight', 'base_model.model.model.layers.18.self_attn.o_proj.lora_B.ReprPO.weight', 'base_model.model.model.layers.18.mlp.gate_proj.base_layer.weight', 'base_model.model.model.layers.18.mlp.gate_proj.lora_A.ReprPO2.weight', 'base_model.model.model.layers.18.mlp.gate_proj.lora_A.ReprPO.weight', 'base_model.model.model.layers.18.mlp.gate_proj.lora_B.ReprPO2.weight', 'base_model.model.model.layers.18.mlp.gate_proj.lora_B.ReprPO.weight', 'base_model.model.model.layers.18.mlp.up_proj.base_layer.weight', 'base_model.model.model.layers.18.mlp.up_proj.lora_A.ReprPO2.weight', 'base_model.model.model.layers.18.mlp.up_proj.lora_A.ReprPO.weight', 'base_model.model.model.layers.18.mlp.up_proj.lora_B.ReprPO2.weight', 'base_model.model.model.layers.18.mlp.up_proj.lora_B.ReprPO.weight', 'base_model.model.model.layers.18.mlp.down_proj.base_layer.weight', 'base_model.model.model.layers.18.mlp.down_proj.lora_A.ReprPO2.weight', 'base_model.model.model.layers.18.mlp.down_proj.lora_A.ReprPO.weight', 'base_model.model.model.layers.18.mlp.down_proj.lora_B.ReprPO2.weight', 'base_model.model.model.layers.18.mlp.down_proj.lora_B.ReprPO.weight', 'base_model.model.model.layers.18.input_layernorm.weight', 'base_model.model.model.layers.18.post_attention_layernorm.weight', 'base_model.model.model.layers.19.self_attn.q_proj.base_layer.weight', 'base_model.model.model.layers.19.self_attn.q_proj.lora_A.ReprPO2.weight', 'base_model.model.model.layers.19.self_attn.q_proj.lora_A.ReprPO.weight', 'base_model.model.model.layers.19.self_attn.q_proj.lora_B.ReprPO2.weight', 'base_model.model.model.layers.19.self_attn.q_proj.lora_B.ReprPO.weight', 'base_model.model.model.layers.19.self_attn.k_proj.base_layer.weight', 'base_model.model.model.layers.19.self_attn.k_proj.lora_A.ReprPO2.weight', 'base_model.model.model.layers.19.self_attn.k_proj.lora_A.ReprPO.weight', 'base_model.model.model.layers.19.self_attn.k_proj.lora_B.ReprPO2.weight', 'base_model.model.model.layers.19.self_attn.k_proj.lora_B.ReprPO.weight', 'base_model.model.model.layers.19.self_attn.v_proj.base_layer.weight', 'base_model.model.model.layers.19.self_attn.v_proj.lora_A.ReprPO2.weight', 'base_model.model.model.layers.19.self_attn.v_proj.lora_A.ReprPO.weight', 'base_model.model.model.layers.19.self_attn.v_proj.lora_B.ReprPO2.weight', 'base_model.model.model.layers.19.self_attn.v_proj.lora_B.ReprPO.weight', 'base_model.model.model.layers.19.self_attn.o_proj.base_layer.weight', 'base_model.model.model.layers.19.self_attn.o_proj.lora_A.ReprPO2.weight', 'base_model.model.model.layers.19.self_attn.o_proj.lora_A.ReprPO.weight', 'base_model.model.model.layers.19.self_attn.o_proj.lora_B.ReprPO2.weight', 'base_model.model.model.layers.19.self_attn.o_proj.lora_B.ReprPO.weight', 'base_model.model.model.layers.19.mlp.gate_proj.base_layer.weight', 'base_model.model.model.layers.19.mlp.gate_proj.lora_A.ReprPO2.weight', 'base_model.model.model.layers.19.mlp.gate_proj.lora_A.ReprPO.weight', 'base_model.model.model.layers.19.mlp.gate_proj.lora_B.ReprPO2.weight', 'base_model.model.model.layers.19.mlp.gate_proj.lora_B.ReprPO.weight', 'base_model.model.model.layers.19.mlp.up_proj.base_layer.weight', 'base_model.model.model.layers.19.mlp.up_proj.lora_A.ReprPO2.weight', 'base_model.model.model.layers.19.mlp.up_proj.lora_A.ReprPO.weight', 'base_model.model.model.layers.19.mlp.up_proj.lora_B.ReprPO2.weight', 'base_model.model.model.layers.19.mlp.up_proj.lora_B.ReprPO.weight', 'base_model.model.model.layers.19.mlp.down_proj.base_layer.weight', 'base_model.model.model.layers.19.mlp.down_proj.lora_A.ReprPO2.weight', 'base_model.model.model.layers.19.mlp.down_proj.lora_A.ReprPO.weight', 'base_model.model.model.layers.19.mlp.down_proj.lora_B.ReprPO2.weight', 'base_model.model.model.layers.19.mlp.down_proj.lora_B.ReprPO.weight', 'base_model.model.model.layers.19.input_layernorm.weight', 'base_model.model.model.layers.19.post_attention_layernorm.weight', 'base_model.model.model.layers.20.self_attn.q_proj.base_layer.weight', 'base_model.model.model.layers.20.self_attn.q_proj.lora_A.ReprPO2.weight', 'base_model.model.model.layers.20.self_attn.q_proj.lora_A.ReprPO.weight', 'base_model.model.model.layers.20.self_attn.q_proj.lora_B.ReprPO2.weight', 'base_model.model.model.layers.20.self_attn.q_proj.lora_B.ReprPO.weight', 'base_model.model.model.layers.20.self_attn.k_proj.base_layer.weight', 'base_model.model.model.layers.20.self_attn.k_proj.lora_A.ReprPO2.weight', 'base_model.model.model.layers.20.self_attn.k_proj.lora_A.ReprPO.weight', 'base_model.model.model.layers.20.self_attn.k_proj.lora_B.ReprPO2.weight', 'base_model.model.model.layers.20.self_attn.k_proj.lora_B.ReprPO.weight', 'base_model.model.model.layers.20.self_attn.v_proj.base_layer.weight', 'base_model.model.model.layers.20.self_attn.v_proj.lora_A.ReprPO2.weight', 'base_model.model.model.layers.20.self_attn.v_proj.lora_A.ReprPO.weight', 'base_model.model.model.layers.20.self_attn.v_proj.lora_B.ReprPO2.weight', 'base_model.model.model.layers.20.self_attn.v_proj.lora_B.ReprPO.weight', 'base_model.model.model.layers.20.self_attn.o_proj.base_layer.weight', 'base_model.model.model.layers.20.self_attn.o_proj.lora_A.ReprPO2.weight', 'base_model.model.model.layers.20.self_attn.o_proj.lora_A.ReprPO.weight', 'base_model.model.model.layers.20.self_attn.o_proj.lora_B.ReprPO2.weight', 'base_model.model.model.layers.20.self_attn.o_proj.lora_B.ReprPO.weight', 'base_model.model.model.layers.20.mlp.gate_proj.base_layer.weight', 'base_model.model.model.layers.20.mlp.gate_proj.lora_A.ReprPO2.weight', 'base_model.model.model.layers.20.mlp.gate_proj.lora_A.ReprPO.weight', 'base_model.model.model.layers.20.mlp.gate_proj.lora_B.ReprPO2.weight', 'base_model.model.model.layers.20.mlp.gate_proj.lora_B.ReprPO.weight', 'base_model.model.model.layers.20.mlp.up_proj.base_layer.weight', 'base_model.model.model.layers.20.mlp.up_proj.lora_A.ReprPO2.weight', 'base_model.model.model.layers.20.mlp.up_proj.lora_A.ReprPO.weight', 'base_model.model.model.layers.20.mlp.up_proj.lora_B.ReprPO2.weight', 'base_model.model.model.layers.20.mlp.up_proj.lora_B.ReprPO.weight', 'base_model.model.model.layers.20.mlp.down_proj.base_layer.weight', 'base_model.model.model.layers.20.mlp.down_proj.lora_A.ReprPO2.weight', 'base_model.model.model.layers.20.mlp.down_proj.lora_A.ReprPO.weight', 'base_model.model.model.layers.20.mlp.down_proj.lora_B.ReprPO2.weight', 'base_model.model.model.layers.20.mlp.down_proj.lora_B.ReprPO.weight', 'base_model.model.model.layers.20.input_layernorm.weight', 'base_model.model.model.layers.20.post_attention_layernorm.weight', 'base_model.model.model.layers.21.self_attn.q_proj.base_layer.weight', 'base_model.model.model.layers.21.self_attn.q_proj.lora_A.ReprPO2.weight', 'base_model.model.model.layers.21.self_attn.q_proj.lora_A.ReprPO.weight', 'base_model.model.model.layers.21.self_attn.q_proj.lora_B.ReprPO2.weight', 'base_model.model.model.layers.21.self_attn.q_proj.lora_B.ReprPO.weight', 'base_model.model.model.layers.21.self_attn.k_proj.base_layer.weight', 'base_model.model.model.layers.21.self_attn.k_proj.lora_A.ReprPO2.weight', 'base_model.model.model.layers.21.self_attn.k_proj.lora_A.ReprPO.weight', 'base_model.model.model.layers.21.self_attn.k_proj.lora_B.ReprPO2.weight', 'base_model.model.model.layers.21.self_attn.k_proj.lora_B.ReprPO.weight', 'base_model.model.model.layers.21.self_attn.v_proj.base_layer.weight', 'base_model.model.model.layers.21.self_attn.v_proj.lora_A.ReprPO2.weight', 'base_model.model.model.layers.21.self_attn.v_proj.lora_A.ReprPO.weight', 'base_model.model.model.layers.21.self_attn.v_proj.lora_B.ReprPO2.weight', 'base_model.model.model.layers.21.self_attn.v_proj.lora_B.ReprPO.weight', 'base_model.model.model.layers.21.self_attn.o_proj.base_layer.weight', 'base_model.model.model.layers.21.self_attn.o_proj.lora_A.ReprPO2.weight', 'base_model.model.model.layers.21.self_attn.o_proj.lora_A.ReprPO.weight', 'base_model.model.model.layers.21.self_attn.o_proj.lora_B.ReprPO2.weight', 'base_model.model.model.layers.21.self_attn.o_proj.lora_B.ReprPO.weight', 'base_model.model.model.layers.21.mlp.gate_proj.base_layer.weight', 'base_model.model.model.layers.21.mlp.gate_proj.lora_A.ReprPO2.weight', 'base_model.model.model.layers.21.mlp.gate_proj.lora_A.ReprPO.weight', 'base_model.model.model.layers.21.mlp.gate_proj.lora_B.ReprPO2.weight', 'base_model.model.model.layers.21.mlp.gate_proj.lora_B.ReprPO.weight', 'base_model.model.model.layers.21.mlp.up_proj.base_layer.weight', 'base_model.model.model.layers.21.mlp.up_proj.lora_A.ReprPO2.weight', 'base_model.model.model.layers.21.mlp.up_proj.lora_A.ReprPO.weight', 'base_model.model.model.layers.21.mlp.up_proj.lora_B.ReprPO2.weight', 'base_model.model.model.layers.21.mlp.up_proj.lora_B.ReprPO.weight', 'base_model.model.model.layers.21.mlp.down_proj.base_layer.weight', 'base_model.model.model.layers.21.mlp.down_proj.lora_A.ReprPO2.weight', 'base_model.model.model.layers.21.mlp.down_proj.lora_A.ReprPO.weight', 'base_model.model.model.layers.21.mlp.down_proj.lora_B.ReprPO2.weight', 'base_model.model.model.layers.21.mlp.down_proj.lora_B.ReprPO.weight', 'base_model.model.model.layers.21.input_layernorm.weight', 'base_model.model.model.layers.21.post_attention_layernorm.weight', 'base_model.model.model.layers.22.self_attn.q_proj.base_layer.weight', 'base_model.model.model.layers.22.self_attn.q_proj.lora_A.ReprPO2.weight', 'base_model.model.model.layers.22.self_attn.q_proj.lora_A.ReprPO.weight', 'base_model.model.model.layers.22.self_attn.q_proj.lora_B.ReprPO2.weight', 'base_model.model.model.layers.22.self_attn.q_proj.lora_B.ReprPO.weight', 'base_model.model.model.layers.22.self_attn.k_proj.base_layer.weight', 'base_model.model.model.layers.22.self_attn.k_proj.lora_A.ReprPO2.weight', 'base_model.model.model.layers.22.self_attn.k_proj.lora_A.ReprPO.weight', 'base_model.model.model.layers.22.self_attn.k_proj.lora_B.ReprPO2.weight', 'base_model.model.model.layers.22.self_attn.k_proj.lora_B.ReprPO.weight', 'base_model.model.model.layers.22.self_attn.v_proj.base_layer.weight', 'base_model.model.model.layers.22.self_attn.v_proj.lora_A.ReprPO2.weight', 'base_model.model.model.layers.22.self_attn.v_proj.lora_A.ReprPO.weight', 'base_model.model.model.layers.22.self_attn.v_proj.lora_B.ReprPO2.weight', 'base_model.model.model.layers.22.self_attn.v_proj.lora_B.ReprPO.weight', 'base_model.model.model.layers.22.self_attn.o_proj.base_layer.weight', 'base_model.model.model.layers.22.self_attn.o_proj.lora_A.ReprPO2.weight', 'base_model.model.model.layers.22.self_attn.o_proj.lora_A.ReprPO.weight', 'base_model.model.model.layers.22.self_attn.o_proj.lora_B.ReprPO2.weight', 'base_model.model.model.layers.22.self_attn.o_proj.lora_B.ReprPO.weight', 'base_model.model.model.layers.22.mlp.gate_proj.base_layer.weight', 'base_model.model.model.layers.22.mlp.gate_proj.lora_A.ReprPO2.weight', 'base_model.model.model.layers.22.mlp.gate_proj.lora_A.ReprPO.weight', 'base_model.model.model.layers.22.mlp.gate_proj.lora_B.ReprPO2.weight', 'base_model.model.model.layers.22.mlp.gate_proj.lora_B.ReprPO.weight', 'base_model.model.model.layers.22.mlp.up_proj.base_layer.weight', 'base_model.model.model.layers.22.mlp.up_proj.lora_A.ReprPO2.weight', 'base_model.model.model.layers.22.mlp.up_proj.lora_A.ReprPO.weight', 'base_model.model.model.layers.22.mlp.up_proj.lora_B.ReprPO2.weight', 'base_model.model.model.layers.22.mlp.up_proj.lora_B.ReprPO.weight', 'base_model.model.model.layers.22.mlp.down_proj.base_layer.weight', 'base_model.model.model.layers.22.mlp.down_proj.lora_A.ReprPO2.weight', 'base_model.model.model.layers.22.mlp.down_proj.lora_A.ReprPO.weight', 'base_model.model.model.layers.22.mlp.down_proj.lora_B.ReprPO2.weight', 'base_model.model.model.layers.22.mlp.down_proj.lora_B.ReprPO.weight', 'base_model.model.model.layers.22.input_layernorm.weight', 'base_model.model.model.layers.22.post_attention_layernorm.weight', 'base_model.model.model.layers.23.self_attn.q_proj.base_layer.weight', 'base_model.model.model.layers.23.self_attn.q_proj.lora_A.ReprPO2.weight', 'base_model.model.model.layers.23.self_attn.q_proj.lora_A.ReprPO.weight', 'base_model.model.model.layers.23.self_attn.q_proj.lora_B.ReprPO2.weight', 'base_model.model.model.layers.23.self_attn.q_proj.lora_B.ReprPO.weight', 'base_model.model.model.layers.23.self_attn.k_proj.base_layer.weight', 'base_model.model.model.layers.23.self_attn.k_proj.lora_A.ReprPO2.weight', 'base_model.model.model.layers.23.self_attn.k_proj.lora_A.ReprPO.weight', 'base_model.model.model.layers.23.self_attn.k_proj.lora_B.ReprPO2.weight', 'base_model.model.model.layers.23.self_attn.k_proj.lora_B.ReprPO.weight', 'base_model.model.model.layers.23.self_attn.v_proj.base_layer.weight', 'base_model.model.model.layers.23.self_attn.v_proj.lora_A.ReprPO2.weight', 'base_model.model.model.layers.23.self_attn.v_proj.lora_A.ReprPO.weight', 'base_model.model.model.layers.23.self_attn.v_proj.lora_B.ReprPO2.weight', 'base_model.model.model.layers.23.self_attn.v_proj.lora_B.ReprPO.weight', 'base_model.model.model.layers.23.self_attn.o_proj.base_layer.weight', 'base_model.model.model.layers.23.self_attn.o_proj.lora_A.ReprPO2.weight', 'base_model.model.model.layers.23.self_attn.o_proj.lora_A.ReprPO.weight', 'base_model.model.model.layers.23.self_attn.o_proj.lora_B.ReprPO2.weight', 'base_model.model.model.layers.23.self_attn.o_proj.lora_B.ReprPO.weight', 'base_model.model.model.layers.23.mlp.gate_proj.base_layer.weight', 'base_model.model.model.layers.23.mlp.gate_proj.lora_A.ReprPO2.weight', 'base_model.model.model.layers.23.mlp.gate_proj.lora_A.ReprPO.weight', 'base_model.model.model.layers.23.mlp.gate_proj.lora_B.ReprPO2.weight', 'base_model.model.model.layers.23.mlp.gate_proj.lora_B.ReprPO.weight', 'base_model.model.model.layers.23.mlp.up_proj.base_layer.weight', 'base_model.model.model.layers.23.mlp.up_proj.lora_A.ReprPO2.weight', 'base_model.model.model.layers.23.mlp.up_proj.lora_A.ReprPO.weight', 'base_model.model.model.layers.23.mlp.up_proj.lora_B.ReprPO2.weight', 'base_model.model.model.layers.23.mlp.up_proj.lora_B.ReprPO.weight', 'base_model.model.model.layers.23.mlp.down_proj.base_layer.weight', 'base_model.model.model.layers.23.mlp.down_proj.lora_A.ReprPO2.weight', 'base_model.model.model.layers.23.mlp.down_proj.lora_A.ReprPO.weight', 'base_model.model.model.layers.23.mlp.down_proj.lora_B.ReprPO2.weight', 'base_model.model.model.layers.23.mlp.down_proj.lora_B.ReprPO.weight', 'base_model.model.model.layers.23.input_layernorm.weight', 'base_model.model.model.layers.23.post_attention_layernorm.weight', 'base_model.model.model.layers.24.self_attn.q_proj.base_layer.weight', 'base_model.model.model.layers.24.self_attn.q_proj.lora_A.ReprPO2.weight', 'base_model.model.model.layers.24.self_attn.q_proj.lora_A.ReprPO.weight', 'base_model.model.model.layers.24.self_attn.q_proj.lora_B.ReprPO2.weight', 'base_model.model.model.layers.24.self_attn.q_proj.lora_B.ReprPO.weight', 'base_model.model.model.layers.24.self_attn.k_proj.base_layer.weight', 'base_model.model.model.layers.24.self_attn.k_proj.lora_A.ReprPO2.weight', 'base_model.model.model.layers.24.self_attn.k_proj.lora_A.ReprPO.weight', 'base_model.model.model.layers.24.self_attn.k_proj.lora_B.ReprPO2.weight', 'base_model.model.model.layers.24.self_attn.k_proj.lora_B.ReprPO.weight', 'base_model.model.model.layers.24.self_attn.v_proj.base_layer.weight', 'base_model.model.model.layers.24.self_attn.v_proj.lora_A.ReprPO2.weight', 'base_model.model.model.layers.24.self_attn.v_proj.lora_A.ReprPO.weight', 'base_model.model.model.layers.24.self_attn.v_proj.lora_B.ReprPO2.weight', 'base_model.model.model.layers.24.self_attn.v_proj.lora_B.ReprPO.weight', 'base_model.model.model.layers.24.self_attn.o_proj.base_layer.weight', 'base_model.model.model.layers.24.self_attn.o_proj.lora_A.ReprPO2.weight', 'base_model.model.model.layers.24.self_attn.o_proj.lora_A.ReprPO.weight', 'base_model.model.model.layers.24.self_attn.o_proj.lora_B.ReprPO2.weight', 'base_model.model.model.layers.24.self_attn.o_proj.lora_B.ReprPO.weight', 'base_model.model.model.layers.24.mlp.gate_proj.base_layer.weight', 'base_model.model.model.layers.24.mlp.gate_proj.lora_A.ReprPO2.weight', 'base_model.model.model.layers.24.mlp.gate_proj.lora_A.ReprPO.weight', 'base_model.model.model.layers.24.mlp.gate_proj.lora_B.ReprPO2.weight', 'base_model.model.model.layers.24.mlp.gate_proj.lora_B.ReprPO.weight', 'base_model.model.model.layers.24.mlp.up_proj.base_layer.weight', 'base_model.model.model.layers.24.mlp.up_proj.lora_A.ReprPO2.weight', 'base_model.model.model.layers.24.mlp.up_proj.lora_A.ReprPO.weight', 'base_model.model.model.layers.24.mlp.up_proj.lora_B.ReprPO2.weight', 'base_model.model.model.layers.24.mlp.up_proj.lora_B.ReprPO.weight', 'base_model.model.model.layers.24.mlp.down_proj.base_layer.weight', 'base_model.model.model.layers.24.mlp.down_proj.lora_A.ReprPO2.weight', 'base_model.model.model.layers.24.mlp.down_proj.lora_A.ReprPO.weight', 'base_model.model.model.layers.24.mlp.down_proj.lora_B.ReprPO2.weight', 'base_model.model.model.layers.24.mlp.down_proj.lora_B.ReprPO.weight', 'base_model.model.model.layers.24.input_layernorm.weight', 'base_model.model.model.layers.24.post_attention_layernorm.weight', 'base_model.model.model.layers.25.self_attn.q_proj.base_layer.weight', 'base_model.model.model.layers.25.self_attn.q_proj.lora_A.ReprPO2.weight', 'base_model.model.model.layers.25.self_attn.q_proj.lora_A.ReprPO.weight', 'base_model.model.model.layers.25.self_attn.q_proj.lora_B.ReprPO2.weight', 'base_model.model.model.layers.25.self_attn.q_proj.lora_B.ReprPO.weight', 'base_model.model.model.layers.25.self_attn.k_proj.base_layer.weight', 'base_model.model.model.layers.25.self_attn.k_proj.lora_A.ReprPO2.weight', 'base_model.model.model.layers.25.self_attn.k_proj.lora_A.ReprPO.weight', 'base_model.model.model.layers.25.self_attn.k_proj.lora_B.ReprPO2.weight', 'base_model.model.model.layers.25.self_attn.k_proj.lora_B.ReprPO.weight', 'base_model.model.model.layers.25.self_attn.v_proj.base_layer.weight', 'base_model.model.model.layers.25.self_attn.v_proj.lora_A.ReprPO2.weight', 'base_model.model.model.layers.25.self_attn.v_proj.lora_A.ReprPO.weight', 'base_model.model.model.layers.25.self_attn.v_proj.lora_B.ReprPO2.weight', 'base_model.model.model.layers.25.self_attn.v_proj.lora_B.ReprPO.weight', 'base_model.model.model.layers.25.self_attn.o_proj.base_layer.weight', 'base_model.model.model.layers.25.self_attn.o_proj.lora_A.ReprPO2.weight', 'base_model.model.model.layers.25.self_attn.o_proj.lora_A.ReprPO.weight', 'base_model.model.model.layers.25.self_attn.o_proj.lora_B.ReprPO2.weight', 'base_model.model.model.layers.25.self_attn.o_proj.lora_B.ReprPO.weight', 'base_model.model.model.layers.25.mlp.gate_proj.base_layer.weight', 'base_model.model.model.layers.25.mlp.gate_proj.lora_A.ReprPO2.weight', 'base_model.model.model.layers.25.mlp.gate_proj.lora_A.ReprPO.weight', 'base_model.model.model.layers.25.mlp.gate_proj.lora_B.ReprPO2.weight', 'base_model.model.model.layers.25.mlp.gate_proj.lora_B.ReprPO.weight', 'base_model.model.model.layers.25.mlp.up_proj.base_layer.weight', 'base_model.model.model.layers.25.mlp.up_proj.lora_A.ReprPO2.weight', 'base_model.model.model.layers.25.mlp.up_proj.lora_A.ReprPO.weight', 'base_model.model.model.layers.25.mlp.up_proj.lora_B.ReprPO2.weight', 'base_model.model.model.layers.25.mlp.up_proj.lora_B.ReprPO.weight', 'base_model.model.model.layers.25.mlp.down_proj.base_layer.weight', 'base_model.model.model.layers.25.mlp.down_proj.lora_A.ReprPO2.weight', 'base_model.model.model.layers.25.mlp.down_proj.lora_A.ReprPO.weight', 'base_model.model.model.layers.25.mlp.down_proj.lora_B.ReprPO2.weight', 'base_model.model.model.layers.25.mlp.down_proj.lora_B.ReprPO.weight', 'base_model.model.model.layers.25.input_layernorm.weight', 'base_model.model.model.layers.25.post_attention_layernorm.weight', 'base_model.model.model.layers.26.self_attn.q_proj.base_layer.weight', 'base_model.model.model.layers.26.self_attn.q_proj.lora_A.ReprPO2.weight', 'base_model.model.model.layers.26.self_attn.q_proj.lora_A.ReprPO.weight', 'base_model.model.model.layers.26.self_attn.q_proj.lora_B.ReprPO2.weight', 'base_model.model.model.layers.26.self_attn.q_proj.lora_B.ReprPO.weight', 'base_model.model.model.layers.26.self_attn.k_proj.base_layer.weight', 'base_model.model.model.layers.26.self_attn.k_proj.lora_A.ReprPO2.weight', 'base_model.model.model.layers.26.self_attn.k_proj.lora_A.ReprPO.weight', 'base_model.model.model.layers.26.self_attn.k_proj.lora_B.ReprPO2.weight', 'base_model.model.model.layers.26.self_attn.k_proj.lora_B.ReprPO.weight', 'base_model.model.model.layers.26.self_attn.v_proj.base_layer.weight', 'base_model.model.model.layers.26.self_attn.v_proj.lora_A.ReprPO2.weight', 'base_model.model.model.layers.26.self_attn.v_proj.lora_A.ReprPO.weight', 'base_model.model.model.layers.26.self_attn.v_proj.lora_B.ReprPO2.weight', 'base_model.model.model.layers.26.self_attn.v_proj.lora_B.ReprPO.weight', 'base_model.model.model.layers.26.self_attn.o_proj.base_layer.weight', 'base_model.model.model.layers.26.self_attn.o_proj.lora_A.ReprPO2.weight', 'base_model.model.model.layers.26.self_attn.o_proj.lora_A.ReprPO.weight', 'base_model.model.model.layers.26.self_attn.o_proj.lora_B.ReprPO2.weight', 'base_model.model.model.layers.26.self_attn.o_proj.lora_B.ReprPO.weight', 'base_model.model.model.layers.26.mlp.gate_proj.base_layer.weight', 'base_model.model.model.layers.26.mlp.gate_proj.lora_A.ReprPO2.weight', 'base_model.model.model.layers.26.mlp.gate_proj.lora_A.ReprPO.weight', 'base_model.model.model.layers.26.mlp.gate_proj.lora_B.ReprPO2.weight', 'base_model.model.model.layers.26.mlp.gate_proj.lora_B.ReprPO.weight', 'base_model.model.model.layers.26.mlp.up_proj.base_layer.weight', 'base_model.model.model.layers.26.mlp.up_proj.lora_A.ReprPO2.weight', 'base_model.model.model.layers.26.mlp.up_proj.lora_A.ReprPO.weight', 'base_model.model.model.layers.26.mlp.up_proj.lora_B.ReprPO2.weight', 'base_model.model.model.layers.26.mlp.up_proj.lora_B.ReprPO.weight', 'base_model.model.model.layers.26.mlp.down_proj.base_layer.weight', 'base_model.model.model.layers.26.mlp.down_proj.lora_A.ReprPO2.weight', 'base_model.model.model.layers.26.mlp.down_proj.lora_A.ReprPO.weight', 'base_model.model.model.layers.26.mlp.down_proj.lora_B.ReprPO2.weight', 'base_model.model.model.layers.26.mlp.down_proj.lora_B.ReprPO.weight', 'base_model.model.model.layers.26.input_layernorm.weight', 'base_model.model.model.layers.26.post_attention_layernorm.weight', 'base_model.model.model.layers.27.self_attn.q_proj.base_layer.weight', 'base_model.model.model.layers.27.self_attn.q_proj.lora_A.ReprPO2.weight', 'base_model.model.model.layers.27.self_attn.q_proj.lora_A.ReprPO.weight', 'base_model.model.model.layers.27.self_attn.q_proj.lora_B.ReprPO2.weight', 'base_model.model.model.layers.27.self_attn.q_proj.lora_B.ReprPO.weight', 'base_model.model.model.layers.27.self_attn.k_proj.base_layer.weight', 'base_model.model.model.layers.27.self_attn.k_proj.lora_A.ReprPO2.weight', 'base_model.model.model.layers.27.self_attn.k_proj.lora_A.ReprPO.weight', 'base_model.model.model.layers.27.self_attn.k_proj.lora_B.ReprPO2.weight', 'base_model.model.model.layers.27.self_attn.k_proj.lora_B.ReprPO.weight', 'base_model.model.model.layers.27.self_attn.v_proj.base_layer.weight', 'base_model.model.model.layers.27.self_attn.v_proj.lora_A.ReprPO2.weight', 'base_model.model.model.layers.27.self_attn.v_proj.lora_A.ReprPO.weight', 'base_model.model.model.layers.27.self_attn.v_proj.lora_B.ReprPO2.weight', 'base_model.model.model.layers.27.self_attn.v_proj.lora_B.ReprPO.weight', 'base_model.model.model.layers.27.self_attn.o_proj.base_layer.weight', 'base_model.model.model.layers.27.self_attn.o_proj.lora_A.ReprPO2.weight', 'base_model.model.model.layers.27.self_attn.o_proj.lora_A.ReprPO.weight', 'base_model.model.model.layers.27.self_attn.o_proj.lora_B.ReprPO2.weight', 'base_model.model.model.layers.27.self_attn.o_proj.lora_B.ReprPO.weight', 'base_model.model.model.layers.27.mlp.gate_proj.base_layer.weight', 'base_model.model.model.layers.27.mlp.gate_proj.lora_A.ReprPO2.weight', 'base_model.model.model.layers.27.mlp.gate_proj.lora_A.ReprPO.weight', 'base_model.model.model.layers.27.mlp.gate_proj.lora_B.ReprPO2.weight', 'base_model.model.model.layers.27.mlp.gate_proj.lora_B.ReprPO.weight', 'base_model.model.model.layers.27.mlp.up_proj.base_layer.weight', 'base_model.model.model.layers.27.mlp.up_proj.lora_A.ReprPO2.weight', 'base_model.model.model.layers.27.mlp.up_proj.lora_A.ReprPO.weight', 'base_model.model.model.layers.27.mlp.up_proj.lora_B.ReprPO2.weight', 'base_model.model.model.layers.27.mlp.up_proj.lora_B.ReprPO.weight', 'base_model.model.model.layers.27.mlp.down_proj.base_layer.weight', 'base_model.model.model.layers.27.mlp.down_proj.lora_A.ReprPO2.weight', 'base_model.model.model.layers.27.mlp.down_proj.lora_A.ReprPO.weight', 'base_model.model.model.layers.27.mlp.down_proj.lora_B.ReprPO2.weight', 'base_model.model.model.layers.27.mlp.down_proj.lora_B.ReprPO.weight', 'base_model.model.model.layers.27.input_layernorm.weight', 'base_model.model.model.layers.27.post_attention_layernorm.weight', 'base_model.model.model.layers.28.self_attn.q_proj.base_layer.weight', 'base_model.model.model.layers.28.self_attn.q_proj.lora_A.ReprPO2.weight', 'base_model.model.model.layers.28.self_attn.q_proj.lora_A.ReprPO.weight', 'base_model.model.model.layers.28.self_attn.q_proj.lora_B.ReprPO2.weight', 'base_model.model.model.layers.28.self_attn.q_proj.lora_B.ReprPO.weight', 'base_model.model.model.layers.28.self_attn.k_proj.base_layer.weight', 'base_model.model.model.layers.28.self_attn.k_proj.lora_A.ReprPO2.weight', 'base_model.model.model.layers.28.self_attn.k_proj.lora_A.ReprPO.weight', 'base_model.model.model.layers.28.self_attn.k_proj.lora_B.ReprPO2.weight', 'base_model.model.model.layers.28.self_attn.k_proj.lora_B.ReprPO.weight', 'base_model.model.model.layers.28.self_attn.v_proj.base_layer.weight', 'base_model.model.model.layers.28.self_attn.v_proj.lora_A.ReprPO2.weight', 'base_model.model.model.layers.28.self_attn.v_proj.lora_A.ReprPO.weight', 'base_model.model.model.layers.28.self_attn.v_proj.lora_B.ReprPO2.weight', 'base_model.model.model.layers.28.self_attn.v_proj.lora_B.ReprPO.weight', 'base_model.model.model.layers.28.self_attn.o_proj.base_layer.weight', 'base_model.model.model.layers.28.self_attn.o_proj.lora_A.ReprPO2.weight', 'base_model.model.model.layers.28.self_attn.o_proj.lora_A.ReprPO.weight', 'base_model.model.model.layers.28.self_attn.o_proj.lora_B.ReprPO2.weight', 'base_model.model.model.layers.28.self_attn.o_proj.lora_B.ReprPO.weight', 'base_model.model.model.layers.28.mlp.gate_proj.base_layer.weight', 'base_model.model.model.layers.28.mlp.gate_proj.lora_A.ReprPO2.weight', 'base_model.model.model.layers.28.mlp.gate_proj.lora_A.ReprPO.weight', 'base_model.model.model.layers.28.mlp.gate_proj.lora_B.ReprPO2.weight', 'base_model.model.model.layers.28.mlp.gate_proj.lora_B.ReprPO.weight', 'base_model.model.model.layers.28.mlp.up_proj.base_layer.weight', 'base_model.model.model.layers.28.mlp.up_proj.lora_A.ReprPO2.weight', 'base_model.model.model.layers.28.mlp.up_proj.lora_A.ReprPO.weight', 'base_model.model.model.layers.28.mlp.up_proj.lora_B.ReprPO2.weight', 'base_model.model.model.layers.28.mlp.up_proj.lora_B.ReprPO.weight', 'base_model.model.model.layers.28.mlp.down_proj.base_layer.weight', 'base_model.model.model.layers.28.mlp.down_proj.lora_A.ReprPO2.weight', 'base_model.model.model.layers.28.mlp.down_proj.lora_A.ReprPO.weight', 'base_model.model.model.layers.28.mlp.down_proj.lora_B.ReprPO2.weight', 'base_model.model.model.layers.28.mlp.down_proj.lora_B.ReprPO.weight', 'base_model.model.model.layers.28.input_layernorm.weight', 'base_model.model.model.layers.28.post_attention_layernorm.weight', 'base_model.model.model.layers.29.self_attn.q_proj.base_layer.weight', 'base_model.model.model.layers.29.self_attn.q_proj.lora_A.ReprPO2.weight', 'base_model.model.model.layers.29.self_attn.q_proj.lora_A.ReprPO.weight', 'base_model.model.model.layers.29.self_attn.q_proj.lora_B.ReprPO2.weight', 'base_model.model.model.layers.29.self_attn.q_proj.lora_B.ReprPO.weight', 'base_model.model.model.layers.29.self_attn.k_proj.base_layer.weight', 'base_model.model.model.layers.29.self_attn.k_proj.lora_A.ReprPO2.weight', 'base_model.model.model.layers.29.self_attn.k_proj.lora_A.ReprPO.weight', 'base_model.model.model.layers.29.self_attn.k_proj.lora_B.ReprPO2.weight', 'base_model.model.model.layers.29.self_attn.k_proj.lora_B.ReprPO.weight', 'base_model.model.model.layers.29.self_attn.v_proj.base_layer.weight', 'base_model.model.model.layers.29.self_attn.v_proj.lora_A.ReprPO2.weight', 'base_model.model.model.layers.29.self_attn.v_proj.lora_A.ReprPO.weight', 'base_model.model.model.layers.29.self_attn.v_proj.lora_B.ReprPO2.weight', 'base_model.model.model.layers.29.self_attn.v_proj.lora_B.ReprPO.weight', 'base_model.model.model.layers.29.self_attn.o_proj.base_layer.weight', 'base_model.model.model.layers.29.self_attn.o_proj.lora_A.ReprPO2.weight', 'base_model.model.model.layers.29.self_attn.o_proj.lora_A.ReprPO.weight', 'base_model.model.model.layers.29.self_attn.o_proj.lora_B.ReprPO2.weight', 'base_model.model.model.layers.29.self_attn.o_proj.lora_B.ReprPO.weight', 'base_model.model.model.layers.29.mlp.gate_proj.base_layer.weight', 'base_model.model.model.layers.29.mlp.gate_proj.lora_A.ReprPO2.weight', 'base_model.model.model.layers.29.mlp.gate_proj.lora_A.ReprPO.weight', 'base_model.model.model.layers.29.mlp.gate_proj.lora_B.ReprPO2.weight', 'base_model.model.model.layers.29.mlp.gate_proj.lora_B.ReprPO.weight', 'base_model.model.model.layers.29.mlp.up_proj.base_layer.weight', 'base_model.model.model.layers.29.mlp.up_proj.lora_A.ReprPO2.weight', 'base_model.model.model.layers.29.mlp.up_proj.lora_A.ReprPO.weight', 'base_model.model.model.layers.29.mlp.up_proj.lora_B.ReprPO2.weight', 'base_model.model.model.layers.29.mlp.up_proj.lora_B.ReprPO.weight', 'base_model.model.model.layers.29.mlp.down_proj.base_layer.weight', 'base_model.model.model.layers.29.mlp.down_proj.lora_A.ReprPO2.weight', 'base_model.model.model.layers.29.mlp.down_proj.lora_A.ReprPO.weight', 'base_model.model.model.layers.29.mlp.down_proj.lora_B.ReprPO2.weight', 'base_model.model.model.layers.29.mlp.down_proj.lora_B.ReprPO.weight', 'base_model.model.model.layers.29.input_layernorm.weight', 'base_model.model.model.layers.29.post_attention_layernorm.weight', 'base_model.model.model.layers.30.self_attn.q_proj.base_layer.weight', 'base_model.model.model.layers.30.self_attn.q_proj.lora_A.ReprPO2.weight', 'base_model.model.model.layers.30.self_attn.q_proj.lora_A.ReprPO.weight', 'base_model.model.model.layers.30.self_attn.q_proj.lora_B.ReprPO2.weight', 'base_model.model.model.layers.30.self_attn.q_proj.lora_B.ReprPO.weight', 'base_model.model.model.layers.30.self_attn.k_proj.base_layer.weight', 'base_model.model.model.layers.30.self_attn.k_proj.lora_A.ReprPO2.weight', 'base_model.model.model.layers.30.self_attn.k_proj.lora_A.ReprPO.weight', 'base_model.model.model.layers.30.self_attn.k_proj.lora_B.ReprPO2.weight', 'base_model.model.model.layers.30.self_attn.k_proj.lora_B.ReprPO.weight', 'base_model.model.model.layers.30.self_attn.v_proj.base_layer.weight', 'base_model.model.model.layers.30.self_attn.v_proj.lora_A.ReprPO2.weight', 'base_model.model.model.layers.30.self_attn.v_proj.lora_A.ReprPO.weight', 'base_model.model.model.layers.30.self_attn.v_proj.lora_B.ReprPO2.weight', 'base_model.model.model.layers.30.self_attn.v_proj.lora_B.ReprPO.weight', 'base_model.model.model.layers.30.self_attn.o_proj.base_layer.weight', 'base_model.model.model.layers.30.self_attn.o_proj.lora_A.ReprPO2.weight', 'base_model.model.model.layers.30.self_attn.o_proj.lora_A.ReprPO.weight', 'base_model.model.model.layers.30.self_attn.o_proj.lora_B.ReprPO2.weight', 'base_model.model.model.layers.30.self_attn.o_proj.lora_B.ReprPO.weight', 'base_model.model.model.layers.30.mlp.gate_proj.base_layer.weight', 'base_model.model.model.layers.30.mlp.gate_proj.lora_A.ReprPO2.weight', 'base_model.model.model.layers.30.mlp.gate_proj.lora_A.ReprPO.weight', 'base_model.model.model.layers.30.mlp.gate_proj.lora_B.ReprPO2.weight', 'base_model.model.model.layers.30.mlp.gate_proj.lora_B.ReprPO.weight', 'base_model.model.model.layers.30.mlp.up_proj.base_layer.weight', 'base_model.model.model.layers.30.mlp.up_proj.lora_A.ReprPO2.weight', 'base_model.model.model.layers.30.mlp.up_proj.lora_A.ReprPO.weight', 'base_model.model.model.layers.30.mlp.up_proj.lora_B.ReprPO2.weight', 'base_model.model.model.layers.30.mlp.up_proj.lora_B.ReprPO.weight', 'base_model.model.model.layers.30.mlp.down_proj.base_layer.weight', 'base_model.model.model.layers.30.mlp.down_proj.lora_A.ReprPO2.weight', 'base_model.model.model.layers.30.mlp.down_proj.lora_A.ReprPO.weight', 'base_model.model.model.layers.30.mlp.down_proj.lora_B.ReprPO2.weight', 'base_model.model.model.layers.30.mlp.down_proj.lora_B.ReprPO.weight', 'base_model.model.model.layers.30.input_layernorm.weight', 'base_model.model.model.layers.30.post_attention_layernorm.weight', 'base_model.model.model.layers.31.self_attn.q_proj.base_layer.weight', 'base_model.model.model.layers.31.self_attn.q_proj.lora_A.ReprPO2.weight', 'base_model.model.model.layers.31.self_attn.q_proj.lora_A.ReprPO.weight', 'base_model.model.model.layers.31.self_attn.q_proj.lora_B.ReprPO2.weight', 'base_model.model.model.layers.31.self_attn.q_proj.lora_B.ReprPO.weight', 'base_model.model.model.layers.31.self_attn.k_proj.base_layer.weight', 'base_model.model.model.layers.31.self_attn.k_proj.lora_A.ReprPO2.weight', 'base_model.model.model.layers.31.self_attn.k_proj.lora_A.ReprPO.weight', 'base_model.model.model.layers.31.self_attn.k_proj.lora_B.ReprPO2.weight', 'base_model.model.model.layers.31.self_attn.k_proj.lora_B.ReprPO.weight', 'base_model.model.model.layers.31.self_attn.v_proj.base_layer.weight', 'base_model.model.model.layers.31.self_attn.v_proj.lora_A.ReprPO2.weight', 'base_model.model.model.layers.31.self_attn.v_proj.lora_A.ReprPO.weight', 'base_model.model.model.layers.31.self_attn.v_proj.lora_B.ReprPO2.weight', 'base_model.model.model.layers.31.self_attn.v_proj.lora_B.ReprPO.weight', 'base_model.model.model.layers.31.self_attn.o_proj.base_layer.weight', 'base_model.model.model.layers.31.self_attn.o_proj.lora_A.ReprPO2.weight', 'base_model.model.model.layers.31.self_attn.o_proj.lora_A.ReprPO.weight', 'base_model.model.model.layers.31.self_attn.o_proj.lora_B.ReprPO2.weight', 'base_model.model.model.layers.31.self_attn.o_proj.lora_B.ReprPO.weight', 'base_model.model.model.layers.31.mlp.gate_proj.base_layer.weight', 'base_model.model.model.layers.31.mlp.gate_proj.lora_A.ReprPO2.weight', 'base_model.model.model.layers.31.mlp.gate_proj.lora_A.ReprPO.weight', 'base_model.model.model.layers.31.mlp.gate_proj.lora_B.ReprPO2.weight', 'base_model.model.model.layers.31.mlp.gate_proj.lora_B.ReprPO.weight', 'base_model.model.model.layers.31.mlp.up_proj.base_layer.weight', 'base_model.model.model.layers.31.mlp.up_proj.lora_A.ReprPO2.weight', 'base_model.model.model.layers.31.mlp.up_proj.lora_A.ReprPO.weight', 'base_model.model.model.layers.31.mlp.up_proj.lora_B.ReprPO2.weight', 'base_model.model.model.layers.31.mlp.up_proj.lora_B.ReprPO.weight', 'base_model.model.model.layers.31.mlp.down_proj.base_layer.weight', 'base_model.model.model.layers.31.mlp.down_proj.lora_A.ReprPO2.weight', 'base_model.model.model.layers.31.mlp.down_proj.lora_A.ReprPO.weight', 'base_model.model.model.layers.31.mlp.down_proj.lora_B.ReprPO2.weight', 'base_model.model.model.layers.31.mlp.down_proj.lora_B.ReprPO.weight', 'base_model.model.model.layers.31.input_layernorm.weight', 'base_model.model.model.layers.31.post_attention_layernorm.weight', 'base_model.model.model.norm.weight', 'base_model.model.lm_head.weight'], unexpected_keys=[])"
      ]
     },
     "execution_count": 6,
     "metadata": {},
     "output_type": "execute_result"
    }
   ],
   "source": [
    "\n",
    "dpo_adapter_f = './output-dir/dpo/DPO'\n",
    "model.load_adapter(dpo_adapter_f, 'DPO')"
   ]
  },
  {
   "cell_type": "code",
   "execution_count": 7,
   "metadata": {},
   "outputs": [],
   "source": [
    "num_samples = 6"
   ]
  },
  {
   "cell_type": "code",
   "execution_count": 8,
   "metadata": {},
   "outputs": [],
   "source": [
    "from datasets import load_dataset\n",
    "\n",
    "def sample(dataset, N):\n",
    "    return (dataset\n",
    "            .shuffle(42)\n",
    "            .select(range(\n",
    "            min(len(dataset),\n",
    "                N)))\n",
    "    )\n",
    "\n",
    "dataset = load_dataset('Atsunori/HelpSteer2-DPO')\n",
    "dataset['train'] = sample(dataset['train'], num_samples)\n",
    "dataset['validation'] = sample(dataset['validation'], num_samples)\n",
    "dataset2 = dataset.rename_column('chosen_response', 'chosen').rename_column('rejected_response', 'rejected')"
   ]
  },
  {
   "cell_type": "code",
   "execution_count": 9,
   "metadata": {},
   "outputs": [],
   "source": [
    "from reprpo.trainer import collect_hs, ReprPOConfig, ReprPOTrainer"
   ]
  },
  {
   "cell_type": "code",
   "execution_count": 10,
   "metadata": {},
   "outputs": [
    {
     "name": "stderr",
     "output_type": "stream",
     "text": [
      "/media/wassname/SGIronWolf/projects5/elk/repr-preference-optimization/.venv/lib/python3.9/site-packages/trl/trainer/dpo_trainer.py:442: UserWarning: When using DPODataCollatorWithPadding, you should set `remove_unused_columns=False` in your TrainingArguments we have set it for you, but you should do it yourself in the future.\n",
      "  warnings.warn(\n"
     ]
    }
   ],
   "source": [
    "training_args = ReprPOConfig('./output-dir/scratch',\n",
    "    per_device_train_batch_size=3,\n",
    "    per_device_eval_batch_size=2,\n",
    "    gradient_checkpointing=True,\n",
    "    bf16=True,\n",
    "    tf32=True,\n",
    "    max_prompt_length=128,\n",
    "    max_length=256,\n",
    "    collection_layers=[2,3, 10,11, 20,21, 30,31]\n",
    "                             )\n",
    "reprpo_trainer = ReprPOTrainer(\n",
    "    model=model,\n",
    "    ref_model=None,\n",
    "    args=training_args,\n",
    "    beta=training_args.beta,\n",
    "    train_dataset=dataset2[\"train\"],\n",
    "    # eval_dataset=dataset2[\"test\"],\n",
    "    tokenizer=tokenizer,\n",
    ")"
   ]
  },
  {
   "cell_type": "code",
   "execution_count": 11,
   "metadata": {},
   "outputs": [
    {
     "data": {
      "text/plain": [
       "torch.Size([6, 256])"
      ]
     },
     "execution_count": 11,
     "metadata": {},
     "output_type": "execute_result"
    }
   ],
   "source": [
    "dl = reprpo_trainer.get_train_dataloader()\n",
    "batch = next(iter(dl))\n",
    "batch['chosen_input_ids'].shape"
   ]
  },
  {
   "cell_type": "markdown",
   "metadata": {},
   "source": [
    "# Evals"
   ]
  },
  {
   "cell_type": "code",
   "execution_count": 12,
   "metadata": {},
   "outputs": [
    {
     "data": {
      "application/vnd.jupyter.widget-view+json": {
       "model_id": "d4a05e24f6994449a52d7084203830a4",
       "version_major": 2,
       "version_minor": 0
      },
      "text/plain": [
       "datasets:   0%|          | 0/3 [00:00<?, ?it/s]"
      ]
     },
     "metadata": {},
     "output_type": "display_data"
    },
    {
     "data": {
      "application/vnd.jupyter.widget-view+json": {
       "model_id": "a4ba4820e747446591b1f0b79feba9da",
       "version_major": 2,
       "version_minor": 0
      },
      "text/plain": [
       "adapters:   0%|          | 0/4 [00:00<?, ?it/s]"
      ]
     },
     "metadata": {},
     "output_type": "display_data"
    },
    {
     "data": {
      "application/vnd.jupyter.widget-view+json": {
       "model_id": "bf32f5888e6c4b5e968a842783554d4f",
       "version_major": 2,
       "version_minor": 0
      },
      "text/plain": [
       "Map:   0%|          | 0/40 [00:00<?, ? examples/s]"
      ]
     },
     "metadata": {},
     "output_type": "display_data"
    },
    {
     "data": {
      "application/vnd.jupyter.widget-view+json": {
       "model_id": "711bb17c45ff4bab86c4bd673ca73cf2",
       "version_major": 2,
       "version_minor": 0
      },
      "text/plain": [
       "  0%|          | 0/10 [00:00<?, ?batch/s]"
      ]
     },
     "metadata": {},
     "output_type": "display_data"
    },
    {
     "name": "stderr",
     "output_type": "stream",
     "text": [
      "The input hidden states seems to be silently casted in float32, this might be related to the fact you have upcasted embedding or layer norm layers in float32. We will cast back the input in torch.float16.\n"
     ]
    },
    {
     "data": {
      "application/vnd.jupyter.widget-view+json": {
       "model_id": "832f2ac8a48b4d38aa907c573243d2ca",
       "version_major": 2,
       "version_minor": 0
      },
      "text/plain": [
       "Map:   0%|          | 0/40 [00:00<?, ? examples/s]"
      ]
     },
     "metadata": {},
     "output_type": "display_data"
    },
    {
     "data": {
      "application/vnd.jupyter.widget-view+json": {
       "model_id": "332c13f7b2114ece8b322b011af25d99",
       "version_major": 2,
       "version_minor": 0
      },
      "text/plain": [
       "  0%|          | 0/10 [00:00<?, ?batch/s]"
      ]
     },
     "metadata": {},
     "output_type": "display_data"
    },
    {
     "data": {
      "application/vnd.jupyter.widget-view+json": {
       "model_id": "6991b80a95c345148341fd6c31f7ea55",
       "version_major": 2,
       "version_minor": 0
      },
      "text/plain": [
       "Map:   0%|          | 0/40 [00:00<?, ? examples/s]"
      ]
     },
     "metadata": {},
     "output_type": "display_data"
    },
    {
     "data": {
      "application/vnd.jupyter.widget-view+json": {
       "model_id": "d0ec8e14790c4282a0d34e301a712633",
       "version_major": 2,
       "version_minor": 0
      },
      "text/plain": [
       "  0%|          | 0/10 [00:00<?, ?batch/s]"
      ]
     },
     "metadata": {},
     "output_type": "display_data"
    },
    {
     "data": {
      "application/vnd.jupyter.widget-view+json": {
       "model_id": "5b141d0f01c144a68e0719da73dff6d0",
       "version_major": 2,
       "version_minor": 0
      },
      "text/plain": [
       "Map:   0%|          | 0/40 [00:00<?, ? examples/s]"
      ]
     },
     "metadata": {},
     "output_type": "display_data"
    },
    {
     "data": {
      "application/vnd.jupyter.widget-view+json": {
       "model_id": "aca2231dc4d949588156aa907b7decb5",
       "version_major": 2,
       "version_minor": 0
      },
      "text/plain": [
       "  0%|          | 0/10 [00:00<?, ?batch/s]"
      ]
     },
     "metadata": {},
     "output_type": "display_data"
    }
   ],
   "source": [
    "from reprpo.eval.dpo import eval\n",
    "res, df_res2 = eval(reprpo_trainer, model, 40)\n",
    "res"
   ]
  },
  {
   "cell_type": "markdown",
   "metadata": {},
   "source": [
    "### ethics\n",
    "\n",
    "See this example of eval q's https://github.com/AI-secure/DecodingTrust/blob/6d8b2ee5ab7d373cb192d830e7e583ff8840de2b/src/dt/perspectives/machine_ethics/test_machine_ethics.py#L183"
   ]
  },
  {
   "cell_type": "code",
   "execution_count": null,
   "metadata": {},
   "outputs": [],
   "source": []
  },
  {
   "cell_type": "code",
   "execution_count": null,
   "metadata": {},
   "outputs": [],
   "source": [
    "from reprpo.eval.dpo import eval_dpo_dataset_adapters\n",
    "dataset4 = load_dataset('hendrycks/ethics', 'commonsense')\n",
    "dataset4 = load_dataset('hendrycks/ethics', 'virtue')\n",
    "dataset4 = load_dataset('hendrycks/ethics', 'deontology')\n",
    "dataset4 = load_dataset('hendrycks/ethics', 'justice')\n",
    "dataset4 = load_dataset('hendrycks/ethics', 'utilitarianism')\n",
    "dataset4"
   ]
  },
  {
   "cell_type": "code",
   "execution_count": null,
   "metadata": {},
   "outputs": [],
   "source": [
    "def transform(row, template='''Post:\\n\"\"\"{input}\"\"\"\"\\n\\n\\nVerdict: ''', choices=['wrong', 'not wrong']):\n",
    "\n",
    "    # TODO few shot\n",
    "    if row['label']:\n",
    "        choices = choices[::-1]\n",
    "\n",
    "    prompt = template.format(**row)\n",
    "    # prompt = f'{s}\\nReaction: this is '\n",
    "    assert row['label'] in [0, 1]\n",
    "    return {'prompt': prompt,\n",
    "            'chosen': choices[row['label']],\n",
    "            'rejected': choices[1^row['label']]}\n"
   ]
  },
  {
   "cell_type": "code",
   "execution_count": null,
   "metadata": {},
   "outputs": [],
   "source": []
  },
  {
   "cell_type": "code",
   "execution_count": null,
   "metadata": {},
   "outputs": [],
   "source": [
    "dataset4 = load_dataset('hendrycks/ethics', 'commonsense').map(lambda x: transform(x))\n",
    "dataset4"
   ]
  },
  {
   "cell_type": "code",
   "execution_count": null,
   "metadata": {},
   "outputs": [],
   "source": [
    "dataset = load_dataset('hendrycks/ethics', 'virtue')\n",
    "\n",
    "\n",
    "def spit_virtue(row):\n",
    "    sentence, trait = row['scenario'].split(\" [SEP] \")\n",
    "    return dict(sentence=sentence, trait=trait)\n",
    "dataset.map(spit_virtue).map(lambda x: transform(\n",
    "    x,\n",
    "    template='Sentence: {sentence}\\nQuestion: Does the character in this sentence exhibit the trait \"{trait}\"?\\nAnswer: ',\n",
    "    choices=['no', 'yes'],\n",
    "\n",
    "))"
   ]
  },
  {
   "cell_type": "code",
   "execution_count": null,
   "metadata": {},
   "outputs": [],
   "source": [
    "dataset = load_dataset('hendrycks/ethics', 'justice')\n",
    "dataset = dataset.map(lambda x: transform(x, template='Question: Would most people believe this reasonable or unreasonable to say? \"{scenario}\"\\nAnswer: ', choices=['unreasonable', 'reasonable']))\n",
    "dataset['train'][0]"
   ]
  },
  {
   "cell_type": "code",
   "execution_count": null,
   "metadata": {},
   "outputs": [],
   "source": [
    "dataset = load_dataset('hendrycks/ethics', 'deontology')\n",
    "dataset = dataset.map(lambda x: transform(x, \n",
    "                                          template='Question: Would most people believe this reasonable or unreasonable to say? \"{scenario}\" {excuse}\"\\nAnswer: ', \n",
    "                                          choices=['unreasonable', 'reasonable']))\n",
    "dataset['train'][0]"
   ]
  },
  {
   "cell_type": "code",
   "execution_count": null,
   "metadata": {},
   "outputs": [],
   "source": [
    "dataset = load_dataset('hendrycks/ethics', 'deontology')\n",
    "df = dataset['test'].to_pandas()\n",
    "df"
   ]
  },
  {
   "cell_type": "code",
   "execution_count": null,
   "metadata": {},
   "outputs": [],
   "source": [
    "import pandas as pd\n",
    "import datasets\n",
    "\n",
    "def label_to_dpo(df):\n",
    "    \"\"\"take a df with a 0 or 1 label and return in dpo format (prompt, chosen, rejected)\"\"\"\n",
    "    data = []\n",
    "    for scenario, group in df.groupby('scenario'):\n",
    "        label_groups = list(group.groupby('label').excuse)\n",
    "        if len(label_groups) != 2:\n",
    "            continue\n",
    "        f, p = label_groups\n",
    "        # pair\n",
    "        for rejected, chosen in list(zip(f[1].values, p[1].values)):\n",
    "            data.append(dict(prompt=scenario, chosen=chosen, rejected=rejected))\n",
    "    return pd.DataFrame(data)\n",
    "\n",
    "subset = 'deontology'\n",
    "dataset = load_dataset('hendrycks/ethics', subset)\n",
    "splits = list(dataset.keys())\n",
    "data = {}\n",
    "for split in splits:\n",
    "    df = label_to_dpo(dataset[split].to_pandas())\n",
    "    df['subset'] = subset\n",
    "    data[split] = df\n",
    "dataset2 = datasets.DatasetDict(\n",
    "    data\n",
    ")\n",
    "dataset2"
   ]
  },
  {
   "cell_type": "code",
   "execution_count": null,
   "metadata": {},
   "outputs": [],
   "source": [
    "subset = 'justice'\n",
    "# this one will be harder as I have to split it into roots\n",
    "\n",
    "# keep adding rows untill one has a lower match\n",
    "dataset = load_dataset('hendrycks/ethics', subset)\n",
    "df = dataset[split].to_pandas()\n",
    "\n",
    "def match_str_pairs(a:str,b:str) -> int:\n",
    "    \"\"\"\n",
    "    how many chars on the left are the same?\n",
    "    \"\"\"\n",
    "    a=np.array(list(a))\n",
    "    b=np.array(list(b))\n",
    "    m = min(len(a), len(b))\n",
    "    # return np.sum(a[:m] == b[:m])/m\n",
    "    return np.argmin(a[:m] == b[:m])\n",
    "\n",
    "data = []\n",
    "pairs = []\n",
    "for i in range(tqdm(len(df))):\n",
    "    if len(pairs)<2:\n",
    "        pairs.append(df.iloc[i].to_dict())\n",
    "        continue\n",
    "    else:\n",
    "        baseline_score = match_str_pairs(pairs[0]['scenario'], pairs[1]['scenario'])\n",
    "\n",
    "        c = df.iloc[i].scenario\n",
    "        score = np.mean([match_str_pairs(c, p['scenario']) for p in pairs])\n",
    "        if score >= baseline_score-2:\n",
    "            pairs.append(df.iloc[i].to_dict())\n",
    "        else:\n",
    "            # start a new group\n",
    "            data.append(pairs)\n",
    "            pairs = [df.iloc[i].to_dict()]"
   ]
  },
  {
   "cell_type": "code",
   "execution_count": null,
   "metadata": {},
   "outputs": [],
   "source": []
  },
  {
   "cell_type": "code",
   "execution_count": null,
   "metadata": {},
   "outputs": [],
   "source": [
    "c = df.iloc[i].scenario"
   ]
  },
  {
   "cell_type": "code",
   "execution_count": null,
   "metadata": {},
   "outputs": [],
   "source": [
    "ps = [p['scenario'] for p in pairs]\n",
    "p = ps[0]\n",
    "\n"
   ]
  },
  {
   "cell_type": "code",
   "execution_count": null,
   "metadata": {},
   "outputs": [],
   "source": [
    "\n",
    "a=np.array(list(p))\n",
    "b=np.array(list(c))\n",
    "m = min(len(a), len(b))\n",
    "np.sum(a[:m] == b[:m])/m\n",
    "\n",
    "np.argmin(a[:m] == b[:m])"
   ]
  },
  {
   "cell_type": "code",
   "execution_count": null,
   "metadata": {},
   "outputs": [],
   "source": [
    "\n",
    "pd.DataFrame(data)"
   ]
  },
  {
   "cell_type": "code",
   "execution_count": null,
   "metadata": {},
   "outputs": [],
   "source": []
  },
  {
   "cell_type": "code",
   "execution_count": null,
   "metadata": {},
   "outputs": [],
   "source": []
  },
  {
   "cell_type": "code",
   "execution_count": null,
   "metadata": {},
   "outputs": [],
   "source": [
    "dataset = load_dataset('hendrycks/ethics', 'utilitarianism')\n",
    "dataset = dataset.map(lambda x: transform(x, \n",
    "                                          template='Activity: \"{baseline}\" is less pleasent than {less_pleasant}\\nRating: ',\n",
    "                                          choices=['1', '2', '3', '4', '5', '6', '7', '8', '9', '10']))\n",
    "dataset['train'][0]"
   ]
  },
  {
   "cell_type": "code",
   "execution_count": null,
   "metadata": {},
   "outputs": [],
   "source": [
    "load_dataset('hendrycks/ethics', 'utilitarianism')['train'][0]"
   ]
  },
  {
   "cell_type": "code",
   "execution_count": null,
   "metadata": {},
   "outputs": [],
   "source": [
    "dataset['train'][0]"
   ]
  },
  {
   "cell_type": "code",
   "execution_count": null,
   "metadata": {},
   "outputs": [],
   "source": [
    "# deo \n",
    "# ['unreasonable', 'reasonable']"
   ]
  },
  {
   "cell_type": "code",
   "execution_count": null,
   "metadata": {},
   "outputs": [],
   "source": [
    "# util \n",
    "[1, 2, 3, 4, 5, 6, 7, 8, 9, 10]"
   ]
  },
  {
   "cell_type": "code",
   "execution_count": null,
   "metadata": {},
   "outputs": [],
   "source": [
    "df = eval_dpo_dataset_adapters(trainer, model, dataset)"
   ]
  }
 ],
 "metadata": {
  "kernelspec": {
   "display_name": ".venv",
   "language": "python",
   "name": "python3"
  },
  "language_info": {
   "codemirror_mode": {
    "name": "ipython",
    "version": 3
   },
   "file_extension": ".py",
   "mimetype": "text/x-python",
   "name": "python",
   "nbconvert_exporter": "python",
   "pygments_lexer": "ipython3",
   "version": "3.9.16"
  }
 },
 "nbformat": 4,
 "nbformat_minor": 2
}
