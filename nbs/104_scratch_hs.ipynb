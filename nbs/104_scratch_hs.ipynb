{
 "cells": [
  {
   "cell_type": "code",
   "execution_count": 1,
   "metadata": {},
   "outputs": [],
   "source": [
    "%reload_ext autoreload\n",
    "%autoreload 2"
   ]
  },
  {
   "cell_type": "code",
   "execution_count": 2,
   "metadata": {},
   "outputs": [],
   "source": [
    "import os\n",
    "os.environ[\"CUDA_VISIBLE_DEVICES\"] = \"0\""
   ]
  },
  {
   "cell_type": "code",
   "execution_count": 3,
   "metadata": {},
   "outputs": [],
   "source": [
    "from pathlib import Path\n",
    "\n",
    "# ML\n",
    "import torch\n",
    "import torch.nn as nn\n",
    "import torch.nn.functional as F\n",
    "from typing import Any, Callable, Dict, List, Literal, Optional, Tuple, Union\n",
    "from einops import rearrange, reduce, repeat\n",
    "from jaxtyping import Float, Int, Bool\n",
    "from torch.utils.data import DataLoader\n",
    "\n",
    "import wandb\n",
    "\n",
    "# Numeric\n",
    "import numpy as np\n",
    "import pandas as pd\n",
    "from matplotlib import pyplot as plt\n"
   ]
  },
  {
   "cell_type": "code",
   "execution_count": 4,
   "metadata": {},
   "outputs": [
    {
     "data": {
      "text/plain": [
       "ExperimentConfig(dataset='us_history_textbook', verbose=1, dev=False, load_in_4bit=False, load_in_8bit=False, use_gradient_checkpointing=False, batch_size=2, n_samples=5400, eval_samples=None, max_length=196, max_prompt_length=96, base_model='wassname/llama-3-2-1b-sft', save=True, wandb=True)"
      ]
     },
     "execution_count": 4,
     "metadata": {},
     "output_type": "execute_result"
    }
   ],
   "source": [
    "from reprpo.interventions.config import ExperimentConfig\n",
    "from reprpo.models.load import load_model, print_trainable_parameters\n",
    "args = ExperimentConfig(batch_size=2)\n",
    "args"
   ]
  },
  {
   "cell_type": "markdown",
   "metadata": {},
   "source": [
    "## Load model"
   ]
  },
  {
   "cell_type": "code",
   "execution_count": 5,
   "metadata": {},
   "outputs": [
    {
     "data": {
      "text/plain": [
       "LlamaForCausalLM(\n",
       "  (model): LlamaModel(\n",
       "    (embed_tokens): Embedding(128256, 2048)\n",
       "    (layers): ModuleList(\n",
       "      (0-15): 16 x LlamaDecoderLayer(\n",
       "        (self_attn): LlamaFlashAttention2(\n",
       "          (q_proj): Linear(in_features=2048, out_features=2048, bias=False)\n",
       "          (k_proj): Linear(in_features=2048, out_features=512, bias=False)\n",
       "          (v_proj): Linear(in_features=2048, out_features=512, bias=False)\n",
       "          (o_proj): Linear(in_features=2048, out_features=2048, bias=False)\n",
       "          (rotary_emb): LlamaRotaryEmbedding()\n",
       "        )\n",
       "        (mlp): LlamaMLP(\n",
       "          (gate_proj): Linear(in_features=2048, out_features=8192, bias=False)\n",
       "          (up_proj): Linear(in_features=2048, out_features=8192, bias=False)\n",
       "          (down_proj): Linear(in_features=8192, out_features=2048, bias=False)\n",
       "          (act_fn): SiLU()\n",
       "        )\n",
       "        (input_layernorm): LlamaRMSNorm((2048,), eps=1e-05)\n",
       "        (post_attention_layernorm): LlamaRMSNorm((2048,), eps=1e-05)\n",
       "      )\n",
       "    )\n",
       "    (norm): LlamaRMSNorm((2048,), eps=1e-05)\n",
       "    (rotary_emb): LlamaRotaryEmbedding()\n",
       "  )\n",
       "  (lm_head): Linear(in_features=2048, out_features=128256, bias=False)\n",
       ")"
      ]
     },
     "execution_count": 5,
     "metadata": {},
     "output_type": "execute_result"
    }
   ],
   "source": [
    "model, tokenizer = load_model(args.base_model, load_in_4bit=args.load_in_4bit,  load_in_8bit=args.load_in_8bit,  \n",
    "                            #   attn_implementation='eager' # for gemma\n",
    ")\n",
    "model\n"
   ]
  },
  {
   "cell_type": "code",
   "execution_count": 6,
   "metadata": {},
   "outputs": [],
   "source": [
    "# peft_config = LoraConfig(\n",
    "#     r=64,\n",
    "#     lora_alpha=16,\n",
    "#     use_rslora=True,\n",
    "#     # use_dora=True,\n",
    "#     task_type=\"CAUSAL_LM\",\n",
    "#     # target_modules=[\"all-linear\"], #  QLoRA-style training\n",
    "# )\n",
    "# # if hasattr(PL_MODEL, 'setup_grad_proj'):\n",
    "# #     peft_config = PL_MODEL.setup_grad_proj(peft_config)\n",
    "\n",
    "# model = get_peft_model(model, peft_config, adapter_name=adapter_name)\n",
    "# print_trainable_parameters(model)"
   ]
  },
  {
   "cell_type": "markdown",
   "metadata": {},
   "source": [
    "## Dataset"
   ]
  },
  {
   "cell_type": "code",
   "execution_count": null,
   "metadata": {},
   "outputs": [],
   "source": []
  },
  {
   "cell_type": "code",
   "execution_count": 7,
   "metadata": {},
   "outputs": [],
   "source": [
    "from datasets import load_dataset\n",
    "from reprpo.data.collate3 import TokenizeRow\n",
    "\n",
    "def ds2dl(ds):\n",
    "    return DataLoader(\n",
    "        ds\n",
    "        .select_columns([\"chosen\", \"rejected\", \"chosen_mask\", \"rejected_mask\"])\n",
    "        .with_format(\"torch\"),\n",
    "        batch_size=args.batch_size,\n",
    "    )\n",
    "\n",
    "tokenize_row = TokenizeRow(\n",
    "    tokenizer,\n",
    "    max_length=args.max_length,\n",
    "    max_prompt_length=args.max_prompt_length,\n",
    ")\n",
    "ds_train = load_dataset(\"wassname/genies_preferences\", name=args.dataset)\n",
    "ds_train_tok = ds_train.map(tokenize_row, batched=False)    \n",
    "dl_train = ds2dl(ds_train_tok[\"train\"])"
   ]
  },
  {
   "cell_type": "code",
   "execution_count": 8,
   "metadata": {},
   "outputs": [
    {
     "name": "stdout",
     "output_type": "stream",
     "text": [
      "Below is an instruction that describes a task, paired with an input that provides further context. Complete the request to the best of your ability.\n",
      "\n",
      "### Instruction:\n",
      "Predict the next few sentences of the following excerpt from a high-quality US History textbook. \n",
      "\n",
      "### Input:\n",
      "The Emancipation Proclamation is a significant document in American history. Can you explain the purpose and impact of this proclamation?\n",
      "\n",
      "### Response:\n",
      " The Emancipation Proclamation was issued by President Abraham Lincoln in 1863 during the Civil War. Its purpose was to declare that all slaves in Confederate territory were to be set free. While it did not immediately free any slaves, it changed the nature of the war and gave a moral purpose to the Union's cause. The proclamation paved the way for the eventual abolition of slavery in the United States.\n",
      "--------------------\n",
      "Below is an instruction that describes a task, paired with an input that provides further context. Complete the request to the best of your ability.\n",
      "\n",
      "### Instruction:\n",
      "Predict the next few sentences of the following excerpt from a high-quality US History textbook. \n",
      "\n",
      "### Input:\n",
      "The Emancipation Proclamation is a significant document in American history. Can you explain the purpose and impact of this proclamation?\n",
      "\n",
      "### Response:\n",
      "The Emancipation Proclamation was issued by President Abraham Lincoln in 1863 during the Civil War. Its purpose was to declare that all slaves in Confederate territory were to be set free. While it did not immediately free any slaves, it changed the nature of the war and gave a moral purpose to the Union's cause. The proclamation paved the way for the eventual abolition of slavery in the United States.<|end_of_text|><|end_of_text|><|end_of_text|><|end_of_text|><|end_of_text|><|end_of_text|><|end_of_text|><|end_of_text|><|end_of_text|><|end_of_text|><|end_of_text|><|end_of_text|><|end_of_text|><|end_of_text|><|end_of_text|><|end_of_text|><|end_of_text|><|end_of_text|><|end_of_text|><|end_of_text|><|end_of_text|><|end_of_text|><|end_of_text|><|end_of_text|><|end_of_text|><|end_of_text|><|end_of_text|><|end_of_text|><|end_of_text|><|end_of_text|><|end_of_text|><|end_of_text|><|end_of_text|><|end_of_text|><|end_of_text|>\n"
     ]
    }
   ],
   "source": [
    "# QC tokenization\n",
    "\n",
    "r2 = ds_train['train'][0]\n",
    "r = ds_train_tok['train'][0]\n",
    "\n",
    "print(r2['prompt'], r2['chosen'])\n",
    "print('-'*20)\n",
    "print(tokenizer.decode(r['chosen']))\n"
   ]
  },
  {
   "cell_type": "markdown",
   "metadata": {},
   "source": [
    "## Collect hs"
   ]
  },
  {
   "cell_type": "code",
   "execution_count": 9,
   "metadata": {},
   "outputs": [],
   "source": [
    "from accelerate import Accelerator\n",
    "\n",
    "accelerator = Accelerator()\n",
    "# accelerator.device = 'cuda:0'\n",
    "model, dl_train = accelerator.prepare(\n",
    "    model, dl_train\n",
    ")"
   ]
  },
  {
   "cell_type": "code",
   "execution_count": null,
   "metadata": {},
   "outputs": [],
   "source": []
  },
  {
   "cell_type": "code",
   "execution_count": 10,
   "metadata": {},
   "outputs": [
    {
     "name": "stderr",
     "output_type": "stream",
     "text": [
      "Starting from v4.46, the `logits` model output will have the same type as the model (except at train time, where it will always be FP32)\n"
     ]
    }
   ],
   "source": [
    "from reprpo.interventions.reprpo.model import reprpo_forward_baukit\n",
    "\n",
    "from collections import UserDict\n",
    "\n",
    "class AttrDict(UserDict):\n",
    "    def __getattr__(self, key):\n",
    "        return self.__getitem__(key)\n",
    "    def __setattr__(self, key, value):\n",
    "        if key == \"data\":\n",
    "            return super().__setattr__(key, value)\n",
    "        return self.__setitem__(key, value)\n",
    "    \n",
    "h = AttrDict(layer_paths=list(range(model.config.num_hidden_layers)),\n",
    "             collect_input=True,\n",
    "             collect_hs=True,\n",
    "        )\n",
    "\n",
    "\n",
    "with accelerator.autocast():\n",
    "    with torch.no_grad():\n",
    "        batch = next(iter(dl_train))\n",
    "        pi_cho = reprpo_forward_baukit(\n",
    "            model=model,\n",
    "            input_ids=batch[\"chosen\"],\n",
    "            attn_mask=batch[\"chosen_mask\"],\n",
    "            layer_paths=h.layer_paths,\n",
    "            collect_input=h.collect_input,\n",
    "            collect_hs=h.collect_hs,\n",
    "        )\n",
    "        pi_rej = reprpo_forward_baukit(\n",
    "            model=model,\n",
    "            input_ids=batch[\"rejected\"],\n",
    "            attn_mask=batch[\"rejected_mask\"],\n",
    "            layer_paths=h.layer_paths,\n",
    "            collect_input=h.collect_input,\n",
    "            collect_hs=h.collect_hs,\n",
    "        )\n",
    "\n",
    "        # # collect the representations\n",
    "        # model.eval()\n",
    "        # with torch.no_grad():\n",
    "        #     with model.disable_adapter():\n",
    "        #         ref_cho = reprpo_forward_baukit(\n",
    "        #             model=model,\n",
    "        #             input_ids=batch[\"chosen\"],\n",
    "        #             attn_mask=batch[\"chosen_mask\"],\n",
    "        #             layer_paths=h.layer_paths,\n",
    "        #             collect_input=h.collect_input,\n",
    "        #             collect_hs=h.collect_hs,\n",
    "        #         )\n",
    "        #         ref_rej = reprpo_forward_baukit(\n",
    "        #             model=model,\n",
    "        #             input_ids=batch[\"rejected\"],\n",
    "        #             attn_mask=batch[\"rejected_mask\"],\n",
    "        #             layer_paths=h.layer_paths,\n",
    "        #             collect_input=h.collect_input,\n",
    "        #             collect_hs=h.collect_hs,\n",
    "        #         )\n"
   ]
  },
  {
   "cell_type": "markdown",
   "metadata": {},
   "source": [
    "## Scratch"
   ]
  },
  {
   "cell_type": "code",
   "execution_count": 189,
   "metadata": {},
   "outputs": [
    {
     "data": {
      "text/plain": [
       "tensor([0.0196, 0.0200, 0.0223, 0.0248, 0.0281, 0.0301, 0.0303, 0.0320, 0.0318,\n",
       "        0.0297, 0.0321, 0.0302, 0.0275, 0.0279, 0.0272, 0.0267])"
      ]
     },
     "execution_count": 189,
     "metadata": {},
     "output_type": "execute_result"
    }
   ],
   "source": [
    "from jaxtyping import Float, Int, Bool\n",
    "from einops import rearrange, reduce, repeat\n",
    "from torch import Tensor\n",
    "from reprpo.interventions.reprpo.helpers import reduce_tokens_w_attention\n",
    "\n",
    "hs_cho = torch.stack(list(pi_cho.hs.values()), 1).float().detach().cpu()\n",
    "hs_rej = torch.stack(list(pi_rej.hs.values()), 1).float().detach().cpu()\n",
    "\n",
    "def reduce(hs: Float[Tensor, 'b l t h'], attn: Int[Tensor, 'b l t t']) -> Float[Tensor, 'b l h']:\n",
    "    \n",
    "    negdiff = hs.diff(0).mul(-1).relu() / hs.norm(p=1, dim=-1).unsqueeze(-1)\n",
    "    # print(negdiff.shape, attn.shape)\n",
    "    r = [reduce_tokens_w_attention(negdiff[:, i], attn) for i in range(hs.size(1))]\n",
    "    return torch.stack(r, 1)\n",
    "\n",
    "hs = reduce(hs_cho, attn=pi_cho.mask.cpu())-reduce(hs_rej, attn=pi_rej.mask.cpu())\n",
    "hs.norm(p=1, dim=-1).mean(0)"
   ]
  },
  {
   "cell_type": "code",
   "execution_count": 174,
   "metadata": {},
   "outputs": [
    {
     "data": {
      "text/plain": [
       "tensor([0.4977, 0.5043, 0.5040, 0.5048, 0.5073, 0.5041, 0.5034, 0.4958, 0.4987,\n",
       "        0.4967, 0.5114, 0.5051, 0.5006, 0.5003, 0.4982, 0.5016])"
      ]
     },
     "execution_count": 174,
     "metadata": {},
     "output_type": "execute_result"
    }
   ],
   "source": [
    "hs = (hs_cho-hs_rej).float().detach().cpu()\n",
    "negdiff = hs.diff(0).mul(-1).relu()\n",
    "negdiff.norm(p=1, dim=2).mean(1) / hs.norm(p=1, dim=2).mean(1)"
   ]
  },
  {
   "cell_type": "code",
   "execution_count": 51,
   "metadata": {},
   "outputs": [
    {
     "data": {
      "text/plain": [
       "tensor([0.2178, 0.4648, 0.6289, 0.7969, 0.8828, 0.9258, 0.9805, 1.0391, 1.0703,\n",
       "        1.2422, 1.6094, 1.8516, 2.2656, 2.7031, 3.1875, 3.7344],\n",
       "       device='cuda:0', dtype=torch.bfloat16)"
      ]
     },
     "execution_count": 51,
     "metadata": {},
     "output_type": "execute_result"
    }
   ],
   "source": [
    "(hs_cho.diff(0)-hs_rej.diff(0)).norm(dim=-1).mean(1)"
   ]
  },
  {
   "cell_type": "code",
   "execution_count": 59,
   "metadata": {},
   "outputs": [
    {
     "data": {
      "text/plain": [
       "torch.Size([16, 196, 2048])"
      ]
     },
     "execution_count": 59,
     "metadata": {},
     "output_type": "execute_result"
    }
   ],
   "source": [
    "hs_cho.shape"
   ]
  },
  {
   "cell_type": "code",
   "execution_count": 64,
   "metadata": {},
   "outputs": [
    {
     "data": {
      "text/plain": [
       "(tensor([0.3464, 0.9732, 1.7350, 2.5573, 3.5503, 3.6066, 3.7738, 4.3941, 4.6990,\n",
       "         5.4086]),\n",
       " tensor([0.3464, 0.6268, 0.7617, 0.8224, 0.9930, 0.0562, 0.1673, 0.6203, 0.3048,\n",
       "         0.7097]))"
      ]
     },
     "execution_count": 64,
     "metadata": {},
     "output_type": "execute_result"
    }
   ],
   "source": [
    "x = torch.rand(10)\n",
    "x.diff(0).cumsum(0), x"
   ]
  },
  {
   "cell_type": "code",
   "execution_count": 62,
   "metadata": {},
   "outputs": [
    {
     "data": {
      "text/plain": [
       "tensor([ 0.0000,  2.3281,  7.0000, 12.1875, 17.6250, 23.1250, 28.6250, 34.2500,\n",
       "        40.0000, 46.2500, 53.2500, 61.5000, 71.5000, 83.0000], device='cuda:0',\n",
       "       dtype=torch.bfloat16)"
      ]
     },
     "execution_count": 62,
     "metadata": {},
     "output_type": "execute_result"
    }
   ],
   "source": [
    "b = hs_cho.diff(0)[1:-1].cumsum(0) - hs_cho[1:-1]\n",
    "b.norm(dim=-1).mean(1)"
   ]
  },
  {
   "cell_type": "code",
   "execution_count": 66,
   "metadata": {},
   "outputs": [
    {
     "data": {
      "text/plain": [
       "tensor([ 2.3281,  5.0000,  5.7500,  6.1875,  6.4062,  6.7188,  7.0938,  7.2812,\n",
       "         7.9688,  9.6250, 10.8125, 12.6250, 14.6875, 17.1250], device='cuda:0',\n",
       "       dtype=torch.bfloat16)"
      ]
     },
     "execution_count": 66,
     "metadata": {},
     "output_type": "execute_result"
    }
   ],
   "source": [
    "b = hs_cho.diff(0)[1:-1]\n",
    "torch.relu(b * -1).cumsum(0) # just get the negatives changes\n",
    "b.norm(dim=-1).mean(1)"
   ]
  },
  {
   "cell_type": "code",
   "execution_count": 151,
   "metadata": {},
   "outputs": [
    {
     "data": {
      "text/plain": [
       "tensor([1., 1., 1., 1., 1., 1., 1., 1., 1., 1., 1., 1., 1., 1., 1.],\n",
       "       device='cuda:0', dtype=torch.bfloat16)"
      ]
     },
     "execution_count": 151,
     "metadata": {},
     "output_type": "execute_result"
    }
   ],
   "source": [
    "b = hs_cho.diff(0)[1:].abs() / hs_cho[1:].abs()\n",
    "# b.abs().nanmean(2).mean(1) #/ hs_cho.abs().mean(2).mean(1)\n",
    "b.nanmean(2).mean(1)\n"
   ]
  },
  {
   "cell_type": "code",
   "execution_count": 156,
   "metadata": {},
   "outputs": [
    {
     "data": {
      "text/plain": [
       "tensor([ 0.0242, -0.0101,  0.0217,  0.0054, -0.0703,  0.0283, -0.0107, -0.0908,\n",
       "        -0.0266, -0.0527,  0.0369, -0.0352,  0.0898, -0.0454, -0.2090, -0.1055],\n",
       "       device='cuda:0', dtype=torch.bfloat16)"
      ]
     },
     "execution_count": 156,
     "metadata": {},
     "output_type": "execute_result"
    }
   ],
   "source": [
    "hs_cho[:, 10, 10]"
   ]
  },
  {
   "cell_type": "code",
   "execution_count": 121,
   "metadata": {},
   "outputs": [
    {
     "data": {
      "text/plain": [
       "tensor([1., 1., 1., 1., 1., 1., 1., 1., 1., 1., 1., 1., 1., 1., 1., 1.],\n",
       "       device='cuda:0', dtype=torch.bfloat16)"
      ]
     },
     "execution_count": 121,
     "metadata": {},
     "output_type": "execute_result"
    }
   ],
   "source": [
    "(hs_cho.diff(0).abs().norm(2, dim=-1)/ hs_cho.abs().norm(2, dim=-1)).mean(1)"
   ]
  },
  {
   "cell_type": "code",
   "execution_count": 111,
   "metadata": {},
   "outputs": [
    {
     "name": "stdout",
     "output_type": "stream",
     "text": [
      "norm of changes per layer\n",
      " tensor([1., 1., 1., 1., 1., 1., 1., 1., 1., 1., 1., 1., 1., 1., 1., 1.],\n",
      "       device='cuda:0', dtype=torch.bfloat16)\n",
      "norm of subtractions per layer\n",
      " tensor([0.4980, 0.4902, 0.4863, 0.4883, 0.4844, 0.4805, 0.4902, 0.4980, 0.5000,\n",
      "        0.4961, 0.4961, 0.5039, 0.5039, 0.5117, 0.5078, 0.5039],\n",
      "       device='cuda:0', dtype=torch.bfloat16)\n",
      "norm of additions per layer\n",
      " tensor([0.5000, 0.5078, 0.5156, 0.5117, 0.5156, 0.5195, 0.5117, 0.5000, 0.4980,\n",
      "        0.5039, 0.5039, 0.4961, 0.4961, 0.4902, 0.4922, 0.4941],\n",
      "       device='cuda:0', dtype=torch.bfloat16)\n"
     ]
    }
   ],
   "source": [
    "# just get the negative change for each layer\n",
    "b = hs_cho.diff(0)\n",
    "print('norm of changes per layer\\n', hs_cho.diff(0).norm(1, dim=-1).mean(1)/hs_cho.norm(1, dim=-1).mean(1))\n",
    "s = torch.relu(b * -1).norm(1, dim=-1) / b.norm(1, dim=-1)\n",
    "print('norm of subtractions per layer\\n', s.mean(1))\n",
    "s = torch.relu(b * 1).norm(1, dim=-1) / b.norm(1, dim=-1)\n",
    "print('norm of additions per layer\\n', s.mean(1))\n"
   ]
  },
  {
   "cell_type": "code",
   "execution_count": 90,
   "metadata": {},
   "outputs": [],
   "source": [
    "hs_diff = hs_cho.diff(0)\n",
    "hs_diff_pos = torch.relu(hs_diff * -1)"
   ]
  },
  {
   "cell_type": "code",
   "execution_count": 88,
   "metadata": {},
   "outputs": [
    {
     "data": {
      "text/plain": [
       "tensor([ 0.6484,  1.5703,  3.8125,  4.3125,  4.6250,  4.7812,  5.0625,  5.3750,\n",
       "         5.5625,  6.0312,  7.2500,  8.0625,  9.3750, 11.0625, 12.9375, 15.3750],\n",
       "       device='cuda:0', dtype=torch.bfloat16)"
      ]
     },
     "execution_count": 88,
     "metadata": {},
     "output_type": "execute_result"
    }
   ],
   "source": [
    "# just get the negative change each layer\n",
    "b = hs_cho.diff(0)\n",
    "# b = torch.relu(b * -1)#.cumsum(0) # just get the negatives changes\n",
    "(torch.relu(b * -1)).norm(dim=-1).mean(1)"
   ]
  },
  {
   "cell_type": "code",
   "execution_count": 89,
   "metadata": {},
   "outputs": [
    {
     "data": {
      "text/plain": [
       "tensor([ 0.6562,  1.7109,  3.1719,  3.7031,  4.0000,  4.1562,  4.3438,  4.5312,\n",
       "         4.6250,  5.1562,  6.2812,  7.0938,  8.3125,  9.5625, 11.0625, 13.3125],\n",
       "       device='cuda:0', dtype=torch.bfloat16)"
      ]
     },
     "execution_count": 89,
     "metadata": {},
     "output_type": "execute_result"
    }
   ],
   "source": [
    "(torch.relu(b * 1)).norm(dim=-1).mean(1)"
   ]
  },
  {
   "cell_type": "code",
   "execution_count": 52,
   "metadata": {},
   "outputs": [
    {
     "data": {
      "text/plain": [
       "tensor([3.7500, 3.7188, 3.7188, 3.7188, 3.6875, 3.6562, 3.6406, 3.6250, 3.5781,\n",
       "        3.4844, 3.3438, 3.1406, 2.7969, 2.4219, 1.7969, 0.0000],\n",
       "       device='cuda:0', dtype=torch.bfloat16)"
      ]
     },
     "execution_count": 52,
     "metadata": {},
     "output_type": "execute_result"
    }
   ],
   "source": [
    "# QC: for the information that is supressed in the final layer\n",
    "# how much of it differs between cho and rej\n",
    "((hs_cho-hs_cho[-1])-(hs_rej-hs_rej[-1])).norm(dim=-1).mean(1)"
   ]
  },
  {
   "cell_type": "code",
   "execution_count": 49,
   "metadata": {},
   "outputs": [
    {
     "data": {
      "text/plain": [
       "tensor([ 0.9258,  2.3281,  5.0000,  5.7500,  6.1875,  6.4062,  6.7188,  7.0938,\n",
       "         7.2812,  7.9688,  9.6250, 10.8125, 12.6250, 14.6875, 17.1250, 20.3750],\n",
       "       device='cuda:0', dtype=torch.bfloat16)"
      ]
     },
     "execution_count": 49,
     "metadata": {},
     "output_type": "execute_result"
    }
   ],
   "source": [
    "hs_cho.diff(0).norm(dim=-1).mean(1)"
   ]
  },
  {
   "cell_type": "code",
   "execution_count": 46,
   "metadata": {},
   "outputs": [
    {
     "data": {
      "text/plain": [
       "tensor([20.3750, 20.3750, 18.2500, 18.2500, 18.1250, 18.0000, 17.8750, 17.7500,\n",
       "        17.3750, 16.8750, 16.1250, 15.2500, 13.8125, 12.1875,  9.1250,  0.0000],\n",
       "       device='cuda:0', dtype=torch.bfloat16)"
      ]
     },
     "execution_count": 46,
     "metadata": {},
     "output_type": "execute_result"
    }
   ],
   "source": [
    "a = hs_cho-hs_cho[-1]\n",
    "a.norm(dim=-1).mean(1)"
   ]
  },
  {
   "cell_type": "code",
   "execution_count": 47,
   "metadata": {},
   "outputs": [
    {
     "data": {
      "text/plain": [
       "tensor([ 0.9258,  2.3281,  5.0000,  5.7500,  6.1875,  6.4062,  6.7188,  7.0938,\n",
       "         7.2812,  7.9688,  9.6250, 10.8125, 12.6250, 14.6875, 17.1250, 20.3750],\n",
       "       device='cuda:0', dtype=torch.bfloat16)"
      ]
     },
     "execution_count": 47,
     "metadata": {},
     "output_type": "execute_result"
    }
   ],
   "source": [
    "a = hs_cho#\n",
    "a.norm(dim=-1).mean(1)"
   ]
  },
  {
   "cell_type": "code",
   "execution_count": 43,
   "metadata": {},
   "outputs": [
    {
     "data": {
      "text/plain": [
       "<matplotlib.colorbar.Colorbar at 0x73bdc2fca1d0>"
      ]
     },
     "execution_count": 43,
     "metadata": {},
     "output_type": "execute_result"
    },
    {
     "data": {
      "image/png": "[encoded data removed]",
      "text/plain": [
       "<Figure size 640x480 with 2 Axes>"
      ]
     },
     "metadata": {},
     "output_type": "display_data"
    }
   ],
   "source": [
    "# first do cossine sim between layers\n",
    "data = []\n",
    "for i in range(16):\n",
    "    for j in range(16):\n",
    "        sim=F.cosine_similarity(hs_cho[i], hs_rej[j], dim=-1).mean().item()\n",
    "        # print(i,j, F.cosine/_similarity(hs_cho[i], hs_rej[j], dim=-1).mean().item())\n",
    "        data.append(dict(i=i, j=j, sim=sim))\n",
    "r = pd.DataFrame(data).pivot(index='i',columns='j')\n",
    "plt.imshow(r, origin='lower')\n",
    "plt.colorbar()"
   ]
  },
  {
   "cell_type": "code",
   "execution_count": 23,
   "metadata": {},
   "outputs": [
    {
     "data": {
      "text/plain": [
       "tensor([20.3750, 20.3750, 18.2500, 18.2500, 18.1250, 18.0000, 17.8750, 17.7500,\n",
       "        17.3750, 16.8750, 16.1250, 15.2500, 13.8125, 12.1875,  9.1250,  0.0000],\n",
       "       device='cuda:0', dtype=torch.bfloat16)"
      ]
     },
     "execution_count": 23,
     "metadata": {},
     "output_type": "execute_result"
    }
   ],
   "source": [
    "hs = hs_cho[-1]-(hs_cho-hs_cho[0])\n",
    "hs.shape\n",
    "hs.norm(dim=-1).mean(1)"
   ]
  },
  {
   "cell_type": "code",
   "execution_count": 24,
   "metadata": {},
   "outputs": [
    {
     "data": {
      "text/plain": [
       "tensor([20.3750, 20.3750, 18.2500, 18.2500, 18.1250, 18.0000, 17.8750, 17.7500,\n",
       "        17.3750, 16.8750, 16.1250, 15.2500, 13.8125, 12.1875,  9.1250,  0.0000],\n",
       "       device='cuda:0', dtype=torch.bfloat16)"
      ]
     },
     "execution_count": 24,
     "metadata": {},
     "output_type": "execute_result"
    }
   ],
   "source": [
    "hs = hs_cho[-1]-hs_cho\n",
    "hs.shape\n",
    "hs.norm(dim=-1).mean(1)"
   ]
  },
  {
   "cell_type": "code",
   "execution_count": 16,
   "metadata": {},
   "outputs": [
    {
     "data": {
      "text/plain": [
       "tensor([  0.9258,   2.7812,   7.3125,  12.5000,  17.8750,  23.2500,  28.7500,\n",
       "         34.5000,  40.2500,  46.2500,  53.2500,  61.5000,  71.5000,  83.0000,\n",
       "         97.0000, 112.5000], device='cuda:0', dtype=torch.bfloat16)"
      ]
     },
     "execution_count": 16,
     "metadata": {},
     "output_type": "execute_result"
    }
   ],
   "source": [
    "a = hs_cho.diff(0).cumsum(0)\n",
    "a.norm(dim=-1).mean(1)"
   ]
  },
  {
   "cell_type": "code",
   "execution_count": 17,
   "metadata": {},
   "outputs": [
    {
     "data": {
      "text/plain": [
       "torch.Size([16, 196, 2048])"
      ]
     },
     "execution_count": 17,
     "metadata": {},
     "output_type": "execute_result"
    }
   ],
   "source": [
    "a.shape"
   ]
  },
  {
   "cell_type": "code",
   "execution_count": 18,
   "metadata": {},
   "outputs": [
    {
     "data": {
      "text/plain": [
       "tensor([ 0.9258,  2.3281,  5.0000,  5.7500,  6.1875,  6.4062,  6.7188,  7.0938,\n",
       "         7.2812,  7.9688,  9.6250, 10.8125, 12.6250, 14.6875, 17.1250, 20.3750],\n",
       "       device='cuda:0', dtype=torch.bfloat16)"
      ]
     },
     "execution_count": 18,
     "metadata": {},
     "output_type": "execute_result"
    }
   ],
   "source": [
    "hs_cho.norm(dim=-1).mean(1)"
   ]
  },
  {
   "cell_type": "markdown",
   "metadata": {},
   "source": [
    "## Suppression stats"
   ]
  },
  {
   "cell_type": "code",
   "execution_count": 19,
   "metadata": {},
   "outputs": [
    {
     "data": {
      "text/plain": [
       "LlamaForCausalLM(\n",
       "  (model): LlamaModel(\n",
       "    (embed_tokens): Embedding(128256, 2048)\n",
       "    (layers): ModuleList(\n",
       "      (0-15): 16 x LlamaDecoderLayer(\n",
       "        (self_attn): LlamaFlashAttention2(\n",
       "          (q_proj): Linear(in_features=2048, out_features=2048, bias=False)\n",
       "          (k_proj): Linear(in_features=2048, out_features=512, bias=False)\n",
       "          (v_proj): Linear(in_features=2048, out_features=512, bias=False)\n",
       "          (o_proj): Linear(in_features=2048, out_features=2048, bias=False)\n",
       "          (rotary_emb): LlamaRotaryEmbedding()\n",
       "        )\n",
       "        (mlp): LlamaMLP(\n",
       "          (gate_proj): Linear(in_features=2048, out_features=8192, bias=False)\n",
       "          (up_proj): Linear(in_features=2048, out_features=8192, bias=False)\n",
       "          (down_proj): Linear(in_features=8192, out_features=2048, bias=False)\n",
       "          (act_fn): SiLU()\n",
       "        )\n",
       "        (input_layernorm): LlamaRMSNorm((2048,), eps=1e-05)\n",
       "        (post_attention_layernorm): LlamaRMSNorm((2048,), eps=1e-05)\n",
       "      )\n",
       "    )\n",
       "    (norm): LlamaRMSNorm((2048,), eps=1e-05)\n",
       "    (rotary_emb): LlamaRotaryEmbedding()\n",
       "  )\n",
       "  (lm_head): Linear(in_features=2048, out_features=128256, bias=False)\n",
       ")"
      ]
     },
     "execution_count": 19,
     "metadata": {},
     "output_type": "execute_result"
    }
   ],
   "source": [
    "model"
   ]
  },
  {
   "cell_type": "code",
   "execution_count": 20,
   "metadata": {},
   "outputs": [
    {
     "data": {
      "text/plain": [
       "(8192, 128256)"
      ]
     },
     "execution_count": 20,
     "metadata": {},
     "output_type": "execute_result"
    }
   ],
   "source": [
    "# Get MLP output weights from final layer\n",
    "W_out = model.model.layers[-1].mlp.down_proj.weight.T # Adjust path as needed for Llama\n",
    "# Get unembedding matrix \n",
    "W_U = model.lm_head.weight\n",
    "\n",
    "# Calculate logit effects\n",
    "logit_effects = W_out @ W_U.T\n",
    "\n",
    "logit_effects = logit_effects.float().cpu().detach().numpy()\n",
    "logit_effects.shape"
   ]
  },
  {
   "cell_type": "code",
   "execution_count": 21,
   "metadata": {},
   "outputs": [
    {
     "ename": "ZeroDivisionError",
     "evalue": "division by zero",
     "output_type": "error",
     "traceback": [
      "\u001b[0;31m---------------------------------------------------------------------------\u001b[0m",
      "\u001b[0;31mZeroDivisionError\u001b[0m                         Traceback (most recent call last)",
      "Cell \u001b[0;32mIn[21], line 1\u001b[0m\n\u001b[0;32m----> 1\u001b[0m \u001b[38;5;241;43m1\u001b[39;49m\u001b[38;5;241;43m/\u001b[39;49m\u001b[38;5;241;43m0\u001b[39;49m\n",
      "\u001b[0;31mZeroDivisionError\u001b[0m: division by zero"
     ]
    }
   ],
   "source": [
    "1/0"
   ]
  },
  {
   "cell_type": "code",
   "execution_count": null,
   "metadata": {},
   "outputs": [],
   "source": [
    "\n",
    "# Analyze distribution per neuron\n",
    "import scipy.stats\n",
    "kurtosis = scipy.stats.kurtosis(logit_effects, axis=1)\n",
    "# kurtosis = torch.kurtosis(logit_effects, dim=1)\n",
    "skew = scipy.stats.skew(logit_effects.float().cpu().detach().numpy(), axis=1)\n",
    "# skew = torch.skew(logit_effects, dim=1)\n"
   ]
  },
  {
   "cell_type": "code",
   "execution_count": null,
   "metadata": {},
   "outputs": [],
   "source": [
    "\n",
    "some_threshold = 1\n",
    "# Identify suppression neurons (high kurtosis, negative skew)\n",
    "suppression_mask = (kurtosis > some_threshold) & (skew < 0)\n"
   ]
  },
  {
   "cell_type": "code",
   "execution_count": null,
   "metadata": {},
   "outputs": [],
   "source": []
  }
 ],
 "metadata": {
  "kernelspec": {
   "display_name": ".venv",
   "language": "python",
   "name": "python3"
  },
  "language_info": {
   "codemirror_mode": {
    "name": "ipython",
    "version": 3
   },
   "file_extension": ".py",
   "mimetype": "text/x-python",
   "name": "python",
   "nbconvert_exporter": "python",
   "pygments_lexer": "ipython3",
   "version": "3.10.12"
  }
 },
 "nbformat": 4,
 "nbformat_minor": 2
}
