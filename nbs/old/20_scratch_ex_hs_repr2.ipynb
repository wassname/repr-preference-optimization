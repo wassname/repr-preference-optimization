{
 "cells": [
  {
   "cell_type": "markdown",
   "metadata": {},
   "source": [
    "# Experiments with hidden states\n",
    "\n",
    "Question, is there a better representation of concepts in hidden states?\n",
    "\n",
    "Setup: we use DPO setup, with a chosen and rejected string. We then generate a set of hidden states, and compare the hidden states of the chosen and rejected string.\n",
    "\n",
    "Goal: better generalisation of desired behavuour by changing the internal representation of policy rather than directly changing the policy\n",
    "\n",
    "  - Hypothesis: rejected and chosen hidden states will - on mean - be best representated as rotations from each other\n",
    "  - alternate: either mean mass diff (linear) or no repr will be better\n",
    "  - metric: manual generation getting output while maintaining coherency, prediction other sets of hs"
   ]
  },
  {
   "cell_type": "code",
   "execution_count": 104,
   "metadata": {},
   "outputs": [],
   "source": [
    "%reload_ext autoreload\n",
    "%autoreload 2"
   ]
  },
  {
   "cell_type": "code",
   "execution_count": 105,
   "metadata": {},
   "outputs": [],
   "source": [
    "import numpy as np\n",
    "\n",
    "from datasets import load_dataset\n",
    "from peft import LoraConfig, get_peft_model\n",
    "from transformers import AutoTokenizer, AutoModelForCausalLM\n",
    "from trl import DPOTrainer\n",
    "from trl import DPOConfig, DPOTrainer\n",
    "\n",
    "import gc\n",
    "\n",
    "import torch\n",
    "import torch.nn as nn\n",
    "import torch.nn.functional as F\n",
    "from typing import Any, Callable, Dict, List, Literal, Optional, Tuple, Union\n",
    "from einops import rearrange\n",
    "\n",
    "from pathlib import Path\n",
    "\n",
    "from reprpo.helpers.adapters import set_adapter\n",
    "from einops import rearrange\n",
    "from matplotlib import pyplot as plt\n",
    "from reprpo import silence\n",
    "from reprpo.gen import generation_test\n",
    "\n",
    "from reprpo.trainer import mean_with_attention, symlog, mult_with_attention\n",
    "\n",
    "from tqdm.auto import tqdm\n",
    "from einops import reduce\n",
    "from reprpo.trainer import collect_hs, ReprPOConfig, ReprPOTrainer, normalize_output, normalize_per\n",
    "from reprpo.helpers.shypothesis import shypothesis\n",
    "from datasets import load_dataset"
   ]
  },
  {
   "cell_type": "markdown",
   "metadata": {},
   "source": [
    "## Load model"
   ]
  },
  {
   "cell_type": "code",
   "execution_count": 3,
   "metadata": {},
   "outputs": [
    {
     "data": {
      "application/vnd.jupyter.widget-view+json": {
       "model_id": "2db15ac0b70148bf90d212bd99cf44e3",
       "version_major": 2,
       "version_minor": 0
      },
      "text/plain": [
       "Loading checkpoint shards:   0%|          | 0/4 [00:00<?, ?it/s]"
      ]
     },
     "metadata": {},
     "output_type": "display_data"
    },
    {
     "name": "stdout",
     "output_type": "stream",
     "text": [
      "trainable params: 41943040 || all params: 4582543360 || trainable%: 0.9152786281546499\n"
     ]
    }
   ],
   "source": [
    "from reprpo.models.load import load_model, print_trainable_parameters\n",
    "from peft import prepare_model_for_kbit_training\n",
    "from peft import LoraConfig, get_peft_model\n",
    "model_name = \"NousResearch/Meta-Llama-3-8B-Instruct\"\n",
    "\n",
    "## Big adapter\n",
    "peft_config = LoraConfig(\n",
    "    lora_alpha=16, \n",
    "    r=16,\n",
    "    lora_dropout=0.0,\n",
    "    use_rslora=False,\n",
    "    # use_dora=True,\n",
    "    task_type=\"CAUSAL_LM\",\n",
    "    target_modules=[\"q_proj\", \"k_proj\", \"v_proj\", \"o_proj\", \"gate_proj\", \"up_proj\", \"down_proj\"]\n",
    ")\n",
    "\n",
    "\n",
    "model, tokenizer = load_model(model_name, )\n",
    "# from trl.trainer.utils import peft_module_casting_to_bf16\n",
    "# peft_module_casting_to_bf16(model)\n",
    "adapter_name='ReprPO2'\n",
    "model = prepare_model_for_kbit_training(model, {'use_gradient_checkpointing': True})\n",
    "model = get_peft_model(model, peft_config, adapter_name=adapter_name)\n",
    "print_trainable_parameters(model)\n",
    "# model"
   ]
  },
  {
   "cell_type": "markdown",
   "metadata": {},
   "source": [
    "## Load adapter"
   ]
  },
  {
   "cell_type": "code",
   "execution_count": 4,
   "metadata": {},
   "outputs": [
    {
     "data": {
      "text/plain": [
       "_IncompatibleKeys(missing_keys=['base_model.model.model.embed_tokens.weight', 'base_model.model.model.layers.0.self_attn.q_proj.base_layer.weight', 'base_model.model.model.layers.0.self_attn.q_proj.lora_A.ReprPO2.weight', 'base_model.model.model.layers.0.self_attn.q_proj.lora_B.ReprPO2.weight', 'base_model.model.model.layers.0.self_attn.k_proj.base_layer.weight', 'base_model.model.model.layers.0.self_attn.k_proj.lora_A.ReprPO2.weight', 'base_model.model.model.layers.0.self_attn.k_proj.lora_B.ReprPO2.weight', 'base_model.model.model.layers.0.self_attn.v_proj.base_layer.weight', 'base_model.model.model.layers.0.self_attn.v_proj.lora_A.ReprPO2.weight', 'base_model.model.model.layers.0.self_attn.v_proj.lora_B.ReprPO2.weight', 'base_model.model.model.layers.0.self_attn.o_proj.base_layer.weight', 'base_model.model.model.layers.0.self_attn.o_proj.lora_A.ReprPO2.weight', 'base_model.model.model.layers.0.self_attn.o_proj.lora_B.ReprPO2.weight', 'base_model.model.model.layers.0.mlp.gate_proj.base_layer.weight', 'base_model.model.model.layers.0.mlp.gate_proj.lora_A.ReprPO2.weight', 'base_model.model.model.layers.0.mlp.gate_proj.lora_B.ReprPO2.weight', 'base_model.model.model.layers.0.mlp.up_proj.base_layer.weight', 'base_model.model.model.layers.0.mlp.up_proj.lora_A.ReprPO2.weight', 'base_model.model.model.layers.0.mlp.up_proj.lora_B.ReprPO2.weight', 'base_model.model.model.layers.0.mlp.down_proj.base_layer.weight', 'base_model.model.model.layers.0.mlp.down_proj.lora_A.ReprPO2.weight', 'base_model.model.model.layers.0.mlp.down_proj.lora_B.ReprPO2.weight', 'base_model.model.model.layers.0.input_layernorm.weight', 'base_model.model.model.layers.0.post_attention_layernorm.weight', 'base_model.model.model.layers.1.self_attn.q_proj.base_layer.weight', 'base_model.model.model.layers.1.self_attn.q_proj.lora_A.ReprPO2.weight', 'base_model.model.model.layers.1.self_attn.q_proj.lora_B.ReprPO2.weight', 'base_model.model.model.layers.1.self_attn.k_proj.base_layer.weight', 'base_model.model.model.layers.1.self_attn.k_proj.lora_A.ReprPO2.weight', 'base_model.model.model.layers.1.self_attn.k_proj.lora_B.ReprPO2.weight', 'base_model.model.model.layers.1.self_attn.v_proj.base_layer.weight', 'base_model.model.model.layers.1.self_attn.v_proj.lora_A.ReprPO2.weight', 'base_model.model.model.layers.1.self_attn.v_proj.lora_B.ReprPO2.weight', 'base_model.model.model.layers.1.self_attn.o_proj.base_layer.weight', 'base_model.model.model.layers.1.self_attn.o_proj.lora_A.ReprPO2.weight', 'base_model.model.model.layers.1.self_attn.o_proj.lora_B.ReprPO2.weight', 'base_model.model.model.layers.1.mlp.gate_proj.base_layer.weight', 'base_model.model.model.layers.1.mlp.gate_proj.lora_A.ReprPO2.weight', 'base_model.model.model.layers.1.mlp.gate_proj.lora_B.ReprPO2.weight', 'base_model.model.model.layers.1.mlp.up_proj.base_layer.weight', 'base_model.model.model.layers.1.mlp.up_proj.lora_A.ReprPO2.weight', 'base_model.model.model.layers.1.mlp.up_proj.lora_B.ReprPO2.weight', 'base_model.model.model.layers.1.mlp.down_proj.base_layer.weight', 'base_model.model.model.layers.1.mlp.down_proj.lora_A.ReprPO2.weight', 'base_model.model.model.layers.1.mlp.down_proj.lora_B.ReprPO2.weight', 'base_model.model.model.layers.1.input_layernorm.weight', 'base_model.model.model.layers.1.post_attention_layernorm.weight', 'base_model.model.model.layers.2.self_attn.q_proj.base_layer.weight', 'base_model.model.model.layers.2.self_attn.q_proj.lora_A.ReprPO2.weight', 'base_model.model.model.layers.2.self_attn.q_proj.lora_B.ReprPO2.weight', 'base_model.model.model.layers.2.self_attn.k_proj.base_layer.weight', 'base_model.model.model.layers.2.self_attn.k_proj.lora_A.ReprPO2.weight', 'base_model.model.model.layers.2.self_attn.k_proj.lora_B.ReprPO2.weight', 'base_model.model.model.layers.2.self_attn.v_proj.base_layer.weight', 'base_model.model.model.layers.2.self_attn.v_proj.lora_A.ReprPO2.weight', 'base_model.model.model.layers.2.self_attn.v_proj.lora_B.ReprPO2.weight', 'base_model.model.model.layers.2.self_attn.o_proj.base_layer.weight', 'base_model.model.model.layers.2.self_attn.o_proj.lora_A.ReprPO2.weight', 'base_model.model.model.layers.2.self_attn.o_proj.lora_B.ReprPO2.weight', 'base_model.model.model.layers.2.mlp.gate_proj.base_layer.weight', 'base_model.model.model.layers.2.mlp.gate_proj.lora_A.ReprPO2.weight', 'base_model.model.model.layers.2.mlp.gate_proj.lora_B.ReprPO2.weight', 'base_model.model.model.layers.2.mlp.up_proj.base_layer.weight', 'base_model.model.model.layers.2.mlp.up_proj.lora_A.ReprPO2.weight', 'base_model.model.model.layers.2.mlp.up_proj.lora_B.ReprPO2.weight', 'base_model.model.model.layers.2.mlp.down_proj.base_layer.weight', 'base_model.model.model.layers.2.mlp.down_proj.lora_A.ReprPO2.weight', 'base_model.model.model.layers.2.mlp.down_proj.lora_B.ReprPO2.weight', 'base_model.model.model.layers.2.input_layernorm.weight', 'base_model.model.model.layers.2.post_attention_layernorm.weight', 'base_model.model.model.layers.3.self_attn.q_proj.base_layer.weight', 'base_model.model.model.layers.3.self_attn.q_proj.lora_A.ReprPO2.weight', 'base_model.model.model.layers.3.self_attn.q_proj.lora_B.ReprPO2.weight', 'base_model.model.model.layers.3.self_attn.k_proj.base_layer.weight', 'base_model.model.model.layers.3.self_attn.k_proj.lora_A.ReprPO2.weight', 'base_model.model.model.layers.3.self_attn.k_proj.lora_B.ReprPO2.weight', 'base_model.model.model.layers.3.self_attn.v_proj.base_layer.weight', 'base_model.model.model.layers.3.self_attn.v_proj.lora_A.ReprPO2.weight', 'base_model.model.model.layers.3.self_attn.v_proj.lora_B.ReprPO2.weight', 'base_model.model.model.layers.3.self_attn.o_proj.base_layer.weight', 'base_model.model.model.layers.3.self_attn.o_proj.lora_A.ReprPO2.weight', 'base_model.model.model.layers.3.self_attn.o_proj.lora_B.ReprPO2.weight', 'base_model.model.model.layers.3.mlp.gate_proj.base_layer.weight', 'base_model.model.model.layers.3.mlp.gate_proj.lora_A.ReprPO2.weight', 'base_model.model.model.layers.3.mlp.gate_proj.lora_B.ReprPO2.weight', 'base_model.model.model.layers.3.mlp.up_proj.base_layer.weight', 'base_model.model.model.layers.3.mlp.up_proj.lora_A.ReprPO2.weight', 'base_model.model.model.layers.3.mlp.up_proj.lora_B.ReprPO2.weight', 'base_model.model.model.layers.3.mlp.down_proj.base_layer.weight', 'base_model.model.model.layers.3.mlp.down_proj.lora_A.ReprPO2.weight', 'base_model.model.model.layers.3.mlp.down_proj.lora_B.ReprPO2.weight', 'base_model.model.model.layers.3.input_layernorm.weight', 'base_model.model.model.layers.3.post_attention_layernorm.weight', 'base_model.model.model.layers.4.self_attn.q_proj.base_layer.weight', 'base_model.model.model.layers.4.self_attn.q_proj.lora_A.ReprPO2.weight', 'base_model.model.model.layers.4.self_attn.q_proj.lora_B.ReprPO2.weight', 'base_model.model.model.layers.4.self_attn.k_proj.base_layer.weight', 'base_model.model.model.layers.4.self_attn.k_proj.lora_A.ReprPO2.weight', 'base_model.model.model.layers.4.self_attn.k_proj.lora_B.ReprPO2.weight', 'base_model.model.model.layers.4.self_attn.v_proj.base_layer.weight', 'base_model.model.model.layers.4.self_attn.v_proj.lora_A.ReprPO2.weight', 'base_model.model.model.layers.4.self_attn.v_proj.lora_B.ReprPO2.weight', 'base_model.model.model.layers.4.self_attn.o_proj.base_layer.weight', 'base_model.model.model.layers.4.self_attn.o_proj.lora_A.ReprPO2.weight', 'base_model.model.model.layers.4.self_attn.o_proj.lora_B.ReprPO2.weight', 'base_model.model.model.layers.4.mlp.gate_proj.base_layer.weight', 'base_model.model.model.layers.4.mlp.gate_proj.lora_A.ReprPO2.weight', 'base_model.model.model.layers.4.mlp.gate_proj.lora_B.ReprPO2.weight', 'base_model.model.model.layers.4.mlp.up_proj.base_layer.weight', 'base_model.model.model.layers.4.mlp.up_proj.lora_A.ReprPO2.weight', 'base_model.model.model.layers.4.mlp.up_proj.lora_B.ReprPO2.weight', 'base_model.model.model.layers.4.mlp.down_proj.base_layer.weight', 'base_model.model.model.layers.4.mlp.down_proj.lora_A.ReprPO2.weight', 'base_model.model.model.layers.4.mlp.down_proj.lora_B.ReprPO2.weight', 'base_model.model.model.layers.4.input_layernorm.weight', 'base_model.model.model.layers.4.post_attention_layernorm.weight', 'base_model.model.model.layers.5.self_attn.q_proj.base_layer.weight', 'base_model.model.model.layers.5.self_attn.q_proj.lora_A.ReprPO2.weight', 'base_model.model.model.layers.5.self_attn.q_proj.lora_B.ReprPO2.weight', 'base_model.model.model.layers.5.self_attn.k_proj.base_layer.weight', 'base_model.model.model.layers.5.self_attn.k_proj.lora_A.ReprPO2.weight', 'base_model.model.model.layers.5.self_attn.k_proj.lora_B.ReprPO2.weight', 'base_model.model.model.layers.5.self_attn.v_proj.base_layer.weight', 'base_model.model.model.layers.5.self_attn.v_proj.lora_A.ReprPO2.weight', 'base_model.model.model.layers.5.self_attn.v_proj.lora_B.ReprPO2.weight', 'base_model.model.model.layers.5.self_attn.o_proj.base_layer.weight', 'base_model.model.model.layers.5.self_attn.o_proj.lora_A.ReprPO2.weight', 'base_model.model.model.layers.5.self_attn.o_proj.lora_B.ReprPO2.weight', 'base_model.model.model.layers.5.mlp.gate_proj.base_layer.weight', 'base_model.model.model.layers.5.mlp.gate_proj.lora_A.ReprPO2.weight', 'base_model.model.model.layers.5.mlp.gate_proj.lora_B.ReprPO2.weight', 'base_model.model.model.layers.5.mlp.up_proj.base_layer.weight', 'base_model.model.model.layers.5.mlp.up_proj.lora_A.ReprPO2.weight', 'base_model.model.model.layers.5.mlp.up_proj.lora_B.ReprPO2.weight', 'base_model.model.model.layers.5.mlp.down_proj.base_layer.weight', 'base_model.model.model.layers.5.mlp.down_proj.lora_A.ReprPO2.weight', 'base_model.model.model.layers.5.mlp.down_proj.lora_B.ReprPO2.weight', 'base_model.model.model.layers.5.input_layernorm.weight', 'base_model.model.model.layers.5.post_attention_layernorm.weight', 'base_model.model.model.layers.6.self_attn.q_proj.base_layer.weight', 'base_model.model.model.layers.6.self_attn.q_proj.lora_A.ReprPO2.weight', 'base_model.model.model.layers.6.self_attn.q_proj.lora_B.ReprPO2.weight', 'base_model.model.model.layers.6.self_attn.k_proj.base_layer.weight', 'base_model.model.model.layers.6.self_attn.k_proj.lora_A.ReprPO2.weight', 'base_model.model.model.layers.6.self_attn.k_proj.lora_B.ReprPO2.weight', 'base_model.model.model.layers.6.self_attn.v_proj.base_layer.weight', 'base_model.model.model.layers.6.self_attn.v_proj.lora_A.ReprPO2.weight', 'base_model.model.model.layers.6.self_attn.v_proj.lora_B.ReprPO2.weight', 'base_model.model.model.layers.6.self_attn.o_proj.base_layer.weight', 'base_model.model.model.layers.6.self_attn.o_proj.lora_A.ReprPO2.weight', 'base_model.model.model.layers.6.self_attn.o_proj.lora_B.ReprPO2.weight', 'base_model.model.model.layers.6.mlp.gate_proj.base_layer.weight', 'base_model.model.model.layers.6.mlp.gate_proj.lora_A.ReprPO2.weight', 'base_model.model.model.layers.6.mlp.gate_proj.lora_B.ReprPO2.weight', 'base_model.model.model.layers.6.mlp.up_proj.base_layer.weight', 'base_model.model.model.layers.6.mlp.up_proj.lora_A.ReprPO2.weight', 'base_model.model.model.layers.6.mlp.up_proj.lora_B.ReprPO2.weight', 'base_model.model.model.layers.6.mlp.down_proj.base_layer.weight', 'base_model.model.model.layers.6.mlp.down_proj.lora_A.ReprPO2.weight', 'base_model.model.model.layers.6.mlp.down_proj.lora_B.ReprPO2.weight', 'base_model.model.model.layers.6.input_layernorm.weight', 'base_model.model.model.layers.6.post_attention_layernorm.weight', 'base_model.model.model.layers.7.self_attn.q_proj.base_layer.weight', 'base_model.model.model.layers.7.self_attn.q_proj.lora_A.ReprPO2.weight', 'base_model.model.model.layers.7.self_attn.q_proj.lora_B.ReprPO2.weight', 'base_model.model.model.layers.7.self_attn.k_proj.base_layer.weight', 'base_model.model.model.layers.7.self_attn.k_proj.lora_A.ReprPO2.weight', 'base_model.model.model.layers.7.self_attn.k_proj.lora_B.ReprPO2.weight', 'base_model.model.model.layers.7.self_attn.v_proj.base_layer.weight', 'base_model.model.model.layers.7.self_attn.v_proj.lora_A.ReprPO2.weight', 'base_model.model.model.layers.7.self_attn.v_proj.lora_B.ReprPO2.weight', 'base_model.model.model.layers.7.self_attn.o_proj.base_layer.weight', 'base_model.model.model.layers.7.self_attn.o_proj.lora_A.ReprPO2.weight', 'base_model.model.model.layers.7.self_attn.o_proj.lora_B.ReprPO2.weight', 'base_model.model.model.layers.7.mlp.gate_proj.base_layer.weight', 'base_model.model.model.layers.7.mlp.gate_proj.lora_A.ReprPO2.weight', 'base_model.model.model.layers.7.mlp.gate_proj.lora_B.ReprPO2.weight', 'base_model.model.model.layers.7.mlp.up_proj.base_layer.weight', 'base_model.model.model.layers.7.mlp.up_proj.lora_A.ReprPO2.weight', 'base_model.model.model.layers.7.mlp.up_proj.lora_B.ReprPO2.weight', 'base_model.model.model.layers.7.mlp.down_proj.base_layer.weight', 'base_model.model.model.layers.7.mlp.down_proj.lora_A.ReprPO2.weight', 'base_model.model.model.layers.7.mlp.down_proj.lora_B.ReprPO2.weight', 'base_model.model.model.layers.7.input_layernorm.weight', 'base_model.model.model.layers.7.post_attention_layernorm.weight', 'base_model.model.model.layers.8.self_attn.q_proj.base_layer.weight', 'base_model.model.model.layers.8.self_attn.q_proj.lora_A.ReprPO2.weight', 'base_model.model.model.layers.8.self_attn.q_proj.lora_B.ReprPO2.weight', 'base_model.model.model.layers.8.self_attn.k_proj.base_layer.weight', 'base_model.model.model.layers.8.self_attn.k_proj.lora_A.ReprPO2.weight', 'base_model.model.model.layers.8.self_attn.k_proj.lora_B.ReprPO2.weight', 'base_model.model.model.layers.8.self_attn.v_proj.base_layer.weight', 'base_model.model.model.layers.8.self_attn.v_proj.lora_A.ReprPO2.weight', 'base_model.model.model.layers.8.self_attn.v_proj.lora_B.ReprPO2.weight', 'base_model.model.model.layers.8.self_attn.o_proj.base_layer.weight', 'base_model.model.model.layers.8.self_attn.o_proj.lora_A.ReprPO2.weight', 'base_model.model.model.layers.8.self_attn.o_proj.lora_B.ReprPO2.weight', 'base_model.model.model.layers.8.mlp.gate_proj.base_layer.weight', 'base_model.model.model.layers.8.mlp.gate_proj.lora_A.ReprPO2.weight', 'base_model.model.model.layers.8.mlp.gate_proj.lora_B.ReprPO2.weight', 'base_model.model.model.layers.8.mlp.up_proj.base_layer.weight', 'base_model.model.model.layers.8.mlp.up_proj.lora_A.ReprPO2.weight', 'base_model.model.model.layers.8.mlp.up_proj.lora_B.ReprPO2.weight', 'base_model.model.model.layers.8.mlp.down_proj.base_layer.weight', 'base_model.model.model.layers.8.mlp.down_proj.lora_A.ReprPO2.weight', 'base_model.model.model.layers.8.mlp.down_proj.lora_B.ReprPO2.weight', 'base_model.model.model.layers.8.input_layernorm.weight', 'base_model.model.model.layers.8.post_attention_layernorm.weight', 'base_model.model.model.layers.9.self_attn.q_proj.base_layer.weight', 'base_model.model.model.layers.9.self_attn.q_proj.lora_A.ReprPO2.weight', 'base_model.model.model.layers.9.self_attn.q_proj.lora_B.ReprPO2.weight', 'base_model.model.model.layers.9.self_attn.k_proj.base_layer.weight', 'base_model.model.model.layers.9.self_attn.k_proj.lora_A.ReprPO2.weight', 'base_model.model.model.layers.9.self_attn.k_proj.lora_B.ReprPO2.weight', 'base_model.model.model.layers.9.self_attn.v_proj.base_layer.weight', 'base_model.model.model.layers.9.self_attn.v_proj.lora_A.ReprPO2.weight', 'base_model.model.model.layers.9.self_attn.v_proj.lora_B.ReprPO2.weight', 'base_model.model.model.layers.9.self_attn.o_proj.base_layer.weight', 'base_model.model.model.layers.9.self_attn.o_proj.lora_A.ReprPO2.weight', 'base_model.model.model.layers.9.self_attn.o_proj.lora_B.ReprPO2.weight', 'base_model.model.model.layers.9.mlp.gate_proj.base_layer.weight', 'base_model.model.model.layers.9.mlp.gate_proj.lora_A.ReprPO2.weight', 'base_model.model.model.layers.9.mlp.gate_proj.lora_B.ReprPO2.weight', 'base_model.model.model.layers.9.mlp.up_proj.base_layer.weight', 'base_model.model.model.layers.9.mlp.up_proj.lora_A.ReprPO2.weight', 'base_model.model.model.layers.9.mlp.up_proj.lora_B.ReprPO2.weight', 'base_model.model.model.layers.9.mlp.down_proj.base_layer.weight', 'base_model.model.model.layers.9.mlp.down_proj.lora_A.ReprPO2.weight', 'base_model.model.model.layers.9.mlp.down_proj.lora_B.ReprPO2.weight', 'base_model.model.model.layers.9.input_layernorm.weight', 'base_model.model.model.layers.9.post_attention_layernorm.weight', 'base_model.model.model.layers.10.self_attn.q_proj.base_layer.weight', 'base_model.model.model.layers.10.self_attn.q_proj.lora_A.ReprPO2.weight', 'base_model.model.model.layers.10.self_attn.q_proj.lora_B.ReprPO2.weight', 'base_model.model.model.layers.10.self_attn.k_proj.base_layer.weight', 'base_model.model.model.layers.10.self_attn.k_proj.lora_A.ReprPO2.weight', 'base_model.model.model.layers.10.self_attn.k_proj.lora_B.ReprPO2.weight', 'base_model.model.model.layers.10.self_attn.v_proj.base_layer.weight', 'base_model.model.model.layers.10.self_attn.v_proj.lora_A.ReprPO2.weight', 'base_model.model.model.layers.10.self_attn.v_proj.lora_B.ReprPO2.weight', 'base_model.model.model.layers.10.self_attn.o_proj.base_layer.weight', 'base_model.model.model.layers.10.self_attn.o_proj.lora_A.ReprPO2.weight', 'base_model.model.model.layers.10.self_attn.o_proj.lora_B.ReprPO2.weight', 'base_model.model.model.layers.10.mlp.gate_proj.base_layer.weight', 'base_model.model.model.layers.10.mlp.gate_proj.lora_A.ReprPO2.weight', 'base_model.model.model.layers.10.mlp.gate_proj.lora_B.ReprPO2.weight', 'base_model.model.model.layers.10.mlp.up_proj.base_layer.weight', 'base_model.model.model.layers.10.mlp.up_proj.lora_A.ReprPO2.weight', 'base_model.model.model.layers.10.mlp.up_proj.lora_B.ReprPO2.weight', 'base_model.model.model.layers.10.mlp.down_proj.base_layer.weight', 'base_model.model.model.layers.10.mlp.down_proj.lora_A.ReprPO2.weight', 'base_model.model.model.layers.10.mlp.down_proj.lora_B.ReprPO2.weight', 'base_model.model.model.layers.10.input_layernorm.weight', 'base_model.model.model.layers.10.post_attention_layernorm.weight', 'base_model.model.model.layers.11.self_attn.q_proj.base_layer.weight', 'base_model.model.model.layers.11.self_attn.q_proj.lora_A.ReprPO2.weight', 'base_model.model.model.layers.11.self_attn.q_proj.lora_B.ReprPO2.weight', 'base_model.model.model.layers.11.self_attn.k_proj.base_layer.weight', 'base_model.model.model.layers.11.self_attn.k_proj.lora_A.ReprPO2.weight', 'base_model.model.model.layers.11.self_attn.k_proj.lora_B.ReprPO2.weight', 'base_model.model.model.layers.11.self_attn.v_proj.base_layer.weight', 'base_model.model.model.layers.11.self_attn.v_proj.lora_A.ReprPO2.weight', 'base_model.model.model.layers.11.self_attn.v_proj.lora_B.ReprPO2.weight', 'base_model.model.model.layers.11.self_attn.o_proj.base_layer.weight', 'base_model.model.model.layers.11.self_attn.o_proj.lora_A.ReprPO2.weight', 'base_model.model.model.layers.11.self_attn.o_proj.lora_B.ReprPO2.weight', 'base_model.model.model.layers.11.mlp.gate_proj.base_layer.weight', 'base_model.model.model.layers.11.mlp.gate_proj.lora_A.ReprPO2.weight', 'base_model.model.model.layers.11.mlp.gate_proj.lora_B.ReprPO2.weight', 'base_model.model.model.layers.11.mlp.up_proj.base_layer.weight', 'base_model.model.model.layers.11.mlp.up_proj.lora_A.ReprPO2.weight', 'base_model.model.model.layers.11.mlp.up_proj.lora_B.ReprPO2.weight', 'base_model.model.model.layers.11.mlp.down_proj.base_layer.weight', 'base_model.model.model.layers.11.mlp.down_proj.lora_A.ReprPO2.weight', 'base_model.model.model.layers.11.mlp.down_proj.lora_B.ReprPO2.weight', 'base_model.model.model.layers.11.input_layernorm.weight', 'base_model.model.model.layers.11.post_attention_layernorm.weight', 'base_model.model.model.layers.12.self_attn.q_proj.base_layer.weight', 'base_model.model.model.layers.12.self_attn.q_proj.lora_A.ReprPO2.weight', 'base_model.model.model.layers.12.self_attn.q_proj.lora_B.ReprPO2.weight', 'base_model.model.model.layers.12.self_attn.k_proj.base_layer.weight', 'base_model.model.model.layers.12.self_attn.k_proj.lora_A.ReprPO2.weight', 'base_model.model.model.layers.12.self_attn.k_proj.lora_B.ReprPO2.weight', 'base_model.model.model.layers.12.self_attn.v_proj.base_layer.weight', 'base_model.model.model.layers.12.self_attn.v_proj.lora_A.ReprPO2.weight', 'base_model.model.model.layers.12.self_attn.v_proj.lora_B.ReprPO2.weight', 'base_model.model.model.layers.12.self_attn.o_proj.base_layer.weight', 'base_model.model.model.layers.12.self_attn.o_proj.lora_A.ReprPO2.weight', 'base_model.model.model.layers.12.self_attn.o_proj.lora_B.ReprPO2.weight', 'base_model.model.model.layers.12.mlp.gate_proj.base_layer.weight', 'base_model.model.model.layers.12.mlp.gate_proj.lora_A.ReprPO2.weight', 'base_model.model.model.layers.12.mlp.gate_proj.lora_B.ReprPO2.weight', 'base_model.model.model.layers.12.mlp.up_proj.base_layer.weight', 'base_model.model.model.layers.12.mlp.up_proj.lora_A.ReprPO2.weight', 'base_model.model.model.layers.12.mlp.up_proj.lora_B.ReprPO2.weight', 'base_model.model.model.layers.12.mlp.down_proj.base_layer.weight', 'base_model.model.model.layers.12.mlp.down_proj.lora_A.ReprPO2.weight', 'base_model.model.model.layers.12.mlp.down_proj.lora_B.ReprPO2.weight', 'base_model.model.model.layers.12.input_layernorm.weight', 'base_model.model.model.layers.12.post_attention_layernorm.weight', 'base_model.model.model.layers.13.self_attn.q_proj.base_layer.weight', 'base_model.model.model.layers.13.self_attn.q_proj.lora_A.ReprPO2.weight', 'base_model.model.model.layers.13.self_attn.q_proj.lora_B.ReprPO2.weight', 'base_model.model.model.layers.13.self_attn.k_proj.base_layer.weight', 'base_model.model.model.layers.13.self_attn.k_proj.lora_A.ReprPO2.weight', 'base_model.model.model.layers.13.self_attn.k_proj.lora_B.ReprPO2.weight', 'base_model.model.model.layers.13.self_attn.v_proj.base_layer.weight', 'base_model.model.model.layers.13.self_attn.v_proj.lora_A.ReprPO2.weight', 'base_model.model.model.layers.13.self_attn.v_proj.lora_B.ReprPO2.weight', 'base_model.model.model.layers.13.self_attn.o_proj.base_layer.weight', 'base_model.model.model.layers.13.self_attn.o_proj.lora_A.ReprPO2.weight', 'base_model.model.model.layers.13.self_attn.o_proj.lora_B.ReprPO2.weight', 'base_model.model.model.layers.13.mlp.gate_proj.base_layer.weight', 'base_model.model.model.layers.13.mlp.gate_proj.lora_A.ReprPO2.weight', 'base_model.model.model.layers.13.mlp.gate_proj.lora_B.ReprPO2.weight', 'base_model.model.model.layers.13.mlp.up_proj.base_layer.weight', 'base_model.model.model.layers.13.mlp.up_proj.lora_A.ReprPO2.weight', 'base_model.model.model.layers.13.mlp.up_proj.lora_B.ReprPO2.weight', 'base_model.model.model.layers.13.mlp.down_proj.base_layer.weight', 'base_model.model.model.layers.13.mlp.down_proj.lora_A.ReprPO2.weight', 'base_model.model.model.layers.13.mlp.down_proj.lora_B.ReprPO2.weight', 'base_model.model.model.layers.13.input_layernorm.weight', 'base_model.model.model.layers.13.post_attention_layernorm.weight', 'base_model.model.model.layers.14.self_attn.q_proj.base_layer.weight', 'base_model.model.model.layers.14.self_attn.q_proj.lora_A.ReprPO2.weight', 'base_model.model.model.layers.14.self_attn.q_proj.lora_B.ReprPO2.weight', 'base_model.model.model.layers.14.self_attn.k_proj.base_layer.weight', 'base_model.model.model.layers.14.self_attn.k_proj.lora_A.ReprPO2.weight', 'base_model.model.model.layers.14.self_attn.k_proj.lora_B.ReprPO2.weight', 'base_model.model.model.layers.14.self_attn.v_proj.base_layer.weight', 'base_model.model.model.layers.14.self_attn.v_proj.lora_A.ReprPO2.weight', 'base_model.model.model.layers.14.self_attn.v_proj.lora_B.ReprPO2.weight', 'base_model.model.model.layers.14.self_attn.o_proj.base_layer.weight', 'base_model.model.model.layers.14.self_attn.o_proj.lora_A.ReprPO2.weight', 'base_model.model.model.layers.14.self_attn.o_proj.lora_B.ReprPO2.weight', 'base_model.model.model.layers.14.mlp.gate_proj.base_layer.weight', 'base_model.model.model.layers.14.mlp.gate_proj.lora_A.ReprPO2.weight', 'base_model.model.model.layers.14.mlp.gate_proj.lora_B.ReprPO2.weight', 'base_model.model.model.layers.14.mlp.up_proj.base_layer.weight', 'base_model.model.model.layers.14.mlp.up_proj.lora_A.ReprPO2.weight', 'base_model.model.model.layers.14.mlp.up_proj.lora_B.ReprPO2.weight', 'base_model.model.model.layers.14.mlp.down_proj.base_layer.weight', 'base_model.model.model.layers.14.mlp.down_proj.lora_A.ReprPO2.weight', 'base_model.model.model.layers.14.mlp.down_proj.lora_B.ReprPO2.weight', 'base_model.model.model.layers.14.input_layernorm.weight', 'base_model.model.model.layers.14.post_attention_layernorm.weight', 'base_model.model.model.layers.15.self_attn.q_proj.base_layer.weight', 'base_model.model.model.layers.15.self_attn.q_proj.lora_A.ReprPO2.weight', 'base_model.model.model.layers.15.self_attn.q_proj.lora_B.ReprPO2.weight', 'base_model.model.model.layers.15.self_attn.k_proj.base_layer.weight', 'base_model.model.model.layers.15.self_attn.k_proj.lora_A.ReprPO2.weight', 'base_model.model.model.layers.15.self_attn.k_proj.lora_B.ReprPO2.weight', 'base_model.model.model.layers.15.self_attn.v_proj.base_layer.weight', 'base_model.model.model.layers.15.self_attn.v_proj.lora_A.ReprPO2.weight', 'base_model.model.model.layers.15.self_attn.v_proj.lora_B.ReprPO2.weight', 'base_model.model.model.layers.15.self_attn.o_proj.base_layer.weight', 'base_model.model.model.layers.15.self_attn.o_proj.lora_A.ReprPO2.weight', 'base_model.model.model.layers.15.self_attn.o_proj.lora_B.ReprPO2.weight', 'base_model.model.model.layers.15.mlp.gate_proj.base_layer.weight', 'base_model.model.model.layers.15.mlp.gate_proj.lora_A.ReprPO2.weight', 'base_model.model.model.layers.15.mlp.gate_proj.lora_B.ReprPO2.weight', 'base_model.model.model.layers.15.mlp.up_proj.base_layer.weight', 'base_model.model.model.layers.15.mlp.up_proj.lora_A.ReprPO2.weight', 'base_model.model.model.layers.15.mlp.up_proj.lora_B.ReprPO2.weight', 'base_model.model.model.layers.15.mlp.down_proj.base_layer.weight', 'base_model.model.model.layers.15.mlp.down_proj.lora_A.ReprPO2.weight', 'base_model.model.model.layers.15.mlp.down_proj.lora_B.ReprPO2.weight', 'base_model.model.model.layers.15.input_layernorm.weight', 'base_model.model.model.layers.15.post_attention_layernorm.weight', 'base_model.model.model.layers.16.self_attn.q_proj.base_layer.weight', 'base_model.model.model.layers.16.self_attn.q_proj.lora_A.ReprPO2.weight', 'base_model.model.model.layers.16.self_attn.q_proj.lora_B.ReprPO2.weight', 'base_model.model.model.layers.16.self_attn.k_proj.base_layer.weight', 'base_model.model.model.layers.16.self_attn.k_proj.lora_A.ReprPO2.weight', 'base_model.model.model.layers.16.self_attn.k_proj.lora_B.ReprPO2.weight', 'base_model.model.model.layers.16.self_attn.v_proj.base_layer.weight', 'base_model.model.model.layers.16.self_attn.v_proj.lora_A.ReprPO2.weight', 'base_model.model.model.layers.16.self_attn.v_proj.lora_B.ReprPO2.weight', 'base_model.model.model.layers.16.self_attn.o_proj.base_layer.weight', 'base_model.model.model.layers.16.self_attn.o_proj.lora_A.ReprPO2.weight', 'base_model.model.model.layers.16.self_attn.o_proj.lora_B.ReprPO2.weight', 'base_model.model.model.layers.16.mlp.gate_proj.base_layer.weight', 'base_model.model.model.layers.16.mlp.gate_proj.lora_A.ReprPO2.weight', 'base_model.model.model.layers.16.mlp.gate_proj.lora_B.ReprPO2.weight', 'base_model.model.model.layers.16.mlp.up_proj.base_layer.weight', 'base_model.model.model.layers.16.mlp.up_proj.lora_A.ReprPO2.weight', 'base_model.model.model.layers.16.mlp.up_proj.lora_B.ReprPO2.weight', 'base_model.model.model.layers.16.mlp.down_proj.base_layer.weight', 'base_model.model.model.layers.16.mlp.down_proj.lora_A.ReprPO2.weight', 'base_model.model.model.layers.16.mlp.down_proj.lora_B.ReprPO2.weight', 'base_model.model.model.layers.16.input_layernorm.weight', 'base_model.model.model.layers.16.post_attention_layernorm.weight', 'base_model.model.model.layers.17.self_attn.q_proj.base_layer.weight', 'base_model.model.model.layers.17.self_attn.q_proj.lora_A.ReprPO2.weight', 'base_model.model.model.layers.17.self_attn.q_proj.lora_B.ReprPO2.weight', 'base_model.model.model.layers.17.self_attn.k_proj.base_layer.weight', 'base_model.model.model.layers.17.self_attn.k_proj.lora_A.ReprPO2.weight', 'base_model.model.model.layers.17.self_attn.k_proj.lora_B.ReprPO2.weight', 'base_model.model.model.layers.17.self_attn.v_proj.base_layer.weight', 'base_model.model.model.layers.17.self_attn.v_proj.lora_A.ReprPO2.weight', 'base_model.model.model.layers.17.self_attn.v_proj.lora_B.ReprPO2.weight', 'base_model.model.model.layers.17.self_attn.o_proj.base_layer.weight', 'base_model.model.model.layers.17.self_attn.o_proj.lora_A.ReprPO2.weight', 'base_model.model.model.layers.17.self_attn.o_proj.lora_B.ReprPO2.weight', 'base_model.model.model.layers.17.mlp.gate_proj.base_layer.weight', 'base_model.model.model.layers.17.mlp.gate_proj.lora_A.ReprPO2.weight', 'base_model.model.model.layers.17.mlp.gate_proj.lora_B.ReprPO2.weight', 'base_model.model.model.layers.17.mlp.up_proj.base_layer.weight', 'base_model.model.model.layers.17.mlp.up_proj.lora_A.ReprPO2.weight', 'base_model.model.model.layers.17.mlp.up_proj.lora_B.ReprPO2.weight', 'base_model.model.model.layers.17.mlp.down_proj.base_layer.weight', 'base_model.model.model.layers.17.mlp.down_proj.lora_A.ReprPO2.weight', 'base_model.model.model.layers.17.mlp.down_proj.lora_B.ReprPO2.weight', 'base_model.model.model.layers.17.input_layernorm.weight', 'base_model.model.model.layers.17.post_attention_layernorm.weight', 'base_model.model.model.layers.18.self_attn.q_proj.base_layer.weight', 'base_model.model.model.layers.18.self_attn.q_proj.lora_A.ReprPO2.weight', 'base_model.model.model.layers.18.self_attn.q_proj.lora_B.ReprPO2.weight', 'base_model.model.model.layers.18.self_attn.k_proj.base_layer.weight', 'base_model.model.model.layers.18.self_attn.k_proj.lora_A.ReprPO2.weight', 'base_model.model.model.layers.18.self_attn.k_proj.lora_B.ReprPO2.weight', 'base_model.model.model.layers.18.self_attn.v_proj.base_layer.weight', 'base_model.model.model.layers.18.self_attn.v_proj.lora_A.ReprPO2.weight', 'base_model.model.model.layers.18.self_attn.v_proj.lora_B.ReprPO2.weight', 'base_model.model.model.layers.18.self_attn.o_proj.base_layer.weight', 'base_model.model.model.layers.18.self_attn.o_proj.lora_A.ReprPO2.weight', 'base_model.model.model.layers.18.self_attn.o_proj.lora_B.ReprPO2.weight', 'base_model.model.model.layers.18.mlp.gate_proj.base_layer.weight', 'base_model.model.model.layers.18.mlp.gate_proj.lora_A.ReprPO2.weight', 'base_model.model.model.layers.18.mlp.gate_proj.lora_B.ReprPO2.weight', 'base_model.model.model.layers.18.mlp.up_proj.base_layer.weight', 'base_model.model.model.layers.18.mlp.up_proj.lora_A.ReprPO2.weight', 'base_model.model.model.layers.18.mlp.up_proj.lora_B.ReprPO2.weight', 'base_model.model.model.layers.18.mlp.down_proj.base_layer.weight', 'base_model.model.model.layers.18.mlp.down_proj.lora_A.ReprPO2.weight', 'base_model.model.model.layers.18.mlp.down_proj.lora_B.ReprPO2.weight', 'base_model.model.model.layers.18.input_layernorm.weight', 'base_model.model.model.layers.18.post_attention_layernorm.weight', 'base_model.model.model.layers.19.self_attn.q_proj.base_layer.weight', 'base_model.model.model.layers.19.self_attn.q_proj.lora_A.ReprPO2.weight', 'base_model.model.model.layers.19.self_attn.q_proj.lora_B.ReprPO2.weight', 'base_model.model.model.layers.19.self_attn.k_proj.base_layer.weight', 'base_model.model.model.layers.19.self_attn.k_proj.lora_A.ReprPO2.weight', 'base_model.model.model.layers.19.self_attn.k_proj.lora_B.ReprPO2.weight', 'base_model.model.model.layers.19.self_attn.v_proj.base_layer.weight', 'base_model.model.model.layers.19.self_attn.v_proj.lora_A.ReprPO2.weight', 'base_model.model.model.layers.19.self_attn.v_proj.lora_B.ReprPO2.weight', 'base_model.model.model.layers.19.self_attn.o_proj.base_layer.weight', 'base_model.model.model.layers.19.self_attn.o_proj.lora_A.ReprPO2.weight', 'base_model.model.model.layers.19.self_attn.o_proj.lora_B.ReprPO2.weight', 'base_model.model.model.layers.19.mlp.gate_proj.base_layer.weight', 'base_model.model.model.layers.19.mlp.gate_proj.lora_A.ReprPO2.weight', 'base_model.model.model.layers.19.mlp.gate_proj.lora_B.ReprPO2.weight', 'base_model.model.model.layers.19.mlp.up_proj.base_layer.weight', 'base_model.model.model.layers.19.mlp.up_proj.lora_A.ReprPO2.weight', 'base_model.model.model.layers.19.mlp.up_proj.lora_B.ReprPO2.weight', 'base_model.model.model.layers.19.mlp.down_proj.base_layer.weight', 'base_model.model.model.layers.19.mlp.down_proj.lora_A.ReprPO2.weight', 'base_model.model.model.layers.19.mlp.down_proj.lora_B.ReprPO2.weight', 'base_model.model.model.layers.19.input_layernorm.weight', 'base_model.model.model.layers.19.post_attention_layernorm.weight', 'base_model.model.model.layers.20.self_attn.q_proj.base_layer.weight', 'base_model.model.model.layers.20.self_attn.q_proj.lora_A.ReprPO2.weight', 'base_model.model.model.layers.20.self_attn.q_proj.lora_B.ReprPO2.weight', 'base_model.model.model.layers.20.self_attn.k_proj.base_layer.weight', 'base_model.model.model.layers.20.self_attn.k_proj.lora_A.ReprPO2.weight', 'base_model.model.model.layers.20.self_attn.k_proj.lora_B.ReprPO2.weight', 'base_model.model.model.layers.20.self_attn.v_proj.base_layer.weight', 'base_model.model.model.layers.20.self_attn.v_proj.lora_A.ReprPO2.weight', 'base_model.model.model.layers.20.self_attn.v_proj.lora_B.ReprPO2.weight', 'base_model.model.model.layers.20.self_attn.o_proj.base_layer.weight', 'base_model.model.model.layers.20.self_attn.o_proj.lora_A.ReprPO2.weight', 'base_model.model.model.layers.20.self_attn.o_proj.lora_B.ReprPO2.weight', 'base_model.model.model.layers.20.mlp.gate_proj.base_layer.weight', 'base_model.model.model.layers.20.mlp.gate_proj.lora_A.ReprPO2.weight', 'base_model.model.model.layers.20.mlp.gate_proj.lora_B.ReprPO2.weight', 'base_model.model.model.layers.20.mlp.up_proj.base_layer.weight', 'base_model.model.model.layers.20.mlp.up_proj.lora_A.ReprPO2.weight', 'base_model.model.model.layers.20.mlp.up_proj.lora_B.ReprPO2.weight', 'base_model.model.model.layers.20.mlp.down_proj.base_layer.weight', 'base_model.model.model.layers.20.mlp.down_proj.lora_A.ReprPO2.weight', 'base_model.model.model.layers.20.mlp.down_proj.lora_B.ReprPO2.weight', 'base_model.model.model.layers.20.input_layernorm.weight', 'base_model.model.model.layers.20.post_attention_layernorm.weight', 'base_model.model.model.layers.21.self_attn.q_proj.base_layer.weight', 'base_model.model.model.layers.21.self_attn.q_proj.lora_A.ReprPO2.weight', 'base_model.model.model.layers.21.self_attn.q_proj.lora_B.ReprPO2.weight', 'base_model.model.model.layers.21.self_attn.k_proj.base_layer.weight', 'base_model.model.model.layers.21.self_attn.k_proj.lora_A.ReprPO2.weight', 'base_model.model.model.layers.21.self_attn.k_proj.lora_B.ReprPO2.weight', 'base_model.model.model.layers.21.self_attn.v_proj.base_layer.weight', 'base_model.model.model.layers.21.self_attn.v_proj.lora_A.ReprPO2.weight', 'base_model.model.model.layers.21.self_attn.v_proj.lora_B.ReprPO2.weight', 'base_model.model.model.layers.21.self_attn.o_proj.base_layer.weight', 'base_model.model.model.layers.21.self_attn.o_proj.lora_A.ReprPO2.weight', 'base_model.model.model.layers.21.self_attn.o_proj.lora_B.ReprPO2.weight', 'base_model.model.model.layers.21.mlp.gate_proj.base_layer.weight', 'base_model.model.model.layers.21.mlp.gate_proj.lora_A.ReprPO2.weight', 'base_model.model.model.layers.21.mlp.gate_proj.lora_B.ReprPO2.weight', 'base_model.model.model.layers.21.mlp.up_proj.base_layer.weight', 'base_model.model.model.layers.21.mlp.up_proj.lora_A.ReprPO2.weight', 'base_model.model.model.layers.21.mlp.up_proj.lora_B.ReprPO2.weight', 'base_model.model.model.layers.21.mlp.down_proj.base_layer.weight', 'base_model.model.model.layers.21.mlp.down_proj.lora_A.ReprPO2.weight', 'base_model.model.model.layers.21.mlp.down_proj.lora_B.ReprPO2.weight', 'base_model.model.model.layers.21.input_layernorm.weight', 'base_model.model.model.layers.21.post_attention_layernorm.weight', 'base_model.model.model.layers.22.self_attn.q_proj.base_layer.weight', 'base_model.model.model.layers.22.self_attn.q_proj.lora_A.ReprPO2.weight', 'base_model.model.model.layers.22.self_attn.q_proj.lora_B.ReprPO2.weight', 'base_model.model.model.layers.22.self_attn.k_proj.base_layer.weight', 'base_model.model.model.layers.22.self_attn.k_proj.lora_A.ReprPO2.weight', 'base_model.model.model.layers.22.self_attn.k_proj.lora_B.ReprPO2.weight', 'base_model.model.model.layers.22.self_attn.v_proj.base_layer.weight', 'base_model.model.model.layers.22.self_attn.v_proj.lora_A.ReprPO2.weight', 'base_model.model.model.layers.22.self_attn.v_proj.lora_B.ReprPO2.weight', 'base_model.model.model.layers.22.self_attn.o_proj.base_layer.weight', 'base_model.model.model.layers.22.self_attn.o_proj.lora_A.ReprPO2.weight', 'base_model.model.model.layers.22.self_attn.o_proj.lora_B.ReprPO2.weight', 'base_model.model.model.layers.22.mlp.gate_proj.base_layer.weight', 'base_model.model.model.layers.22.mlp.gate_proj.lora_A.ReprPO2.weight', 'base_model.model.model.layers.22.mlp.gate_proj.lora_B.ReprPO2.weight', 'base_model.model.model.layers.22.mlp.up_proj.base_layer.weight', 'base_model.model.model.layers.22.mlp.up_proj.lora_A.ReprPO2.weight', 'base_model.model.model.layers.22.mlp.up_proj.lora_B.ReprPO2.weight', 'base_model.model.model.layers.22.mlp.down_proj.base_layer.weight', 'base_model.model.model.layers.22.mlp.down_proj.lora_A.ReprPO2.weight', 'base_model.model.model.layers.22.mlp.down_proj.lora_B.ReprPO2.weight', 'base_model.model.model.layers.22.input_layernorm.weight', 'base_model.model.model.layers.22.post_attention_layernorm.weight', 'base_model.model.model.layers.23.self_attn.q_proj.base_layer.weight', 'base_model.model.model.layers.23.self_attn.q_proj.lora_A.ReprPO2.weight', 'base_model.model.model.layers.23.self_attn.q_proj.lora_B.ReprPO2.weight', 'base_model.model.model.layers.23.self_attn.k_proj.base_layer.weight', 'base_model.model.model.layers.23.self_attn.k_proj.lora_A.ReprPO2.weight', 'base_model.model.model.layers.23.self_attn.k_proj.lora_B.ReprPO2.weight', 'base_model.model.model.layers.23.self_attn.v_proj.base_layer.weight', 'base_model.model.model.layers.23.self_attn.v_proj.lora_A.ReprPO2.weight', 'base_model.model.model.layers.23.self_attn.v_proj.lora_B.ReprPO2.weight', 'base_model.model.model.layers.23.self_attn.o_proj.base_layer.weight', 'base_model.model.model.layers.23.self_attn.o_proj.lora_A.ReprPO2.weight', 'base_model.model.model.layers.23.self_attn.o_proj.lora_B.ReprPO2.weight', 'base_model.model.model.layers.23.mlp.gate_proj.base_layer.weight', 'base_model.model.model.layers.23.mlp.gate_proj.lora_A.ReprPO2.weight', 'base_model.model.model.layers.23.mlp.gate_proj.lora_B.ReprPO2.weight', 'base_model.model.model.layers.23.mlp.up_proj.base_layer.weight', 'base_model.model.model.layers.23.mlp.up_proj.lora_A.ReprPO2.weight', 'base_model.model.model.layers.23.mlp.up_proj.lora_B.ReprPO2.weight', 'base_model.model.model.layers.23.mlp.down_proj.base_layer.weight', 'base_model.model.model.layers.23.mlp.down_proj.lora_A.ReprPO2.weight', 'base_model.model.model.layers.23.mlp.down_proj.lora_B.ReprPO2.weight', 'base_model.model.model.layers.23.input_layernorm.weight', 'base_model.model.model.layers.23.post_attention_layernorm.weight', 'base_model.model.model.layers.24.self_attn.q_proj.base_layer.weight', 'base_model.model.model.layers.24.self_attn.q_proj.lora_A.ReprPO2.weight', 'base_model.model.model.layers.24.self_attn.q_proj.lora_B.ReprPO2.weight', 'base_model.model.model.layers.24.self_attn.k_proj.base_layer.weight', 'base_model.model.model.layers.24.self_attn.k_proj.lora_A.ReprPO2.weight', 'base_model.model.model.layers.24.self_attn.k_proj.lora_B.ReprPO2.weight', 'base_model.model.model.layers.24.self_attn.v_proj.base_layer.weight', 'base_model.model.model.layers.24.self_attn.v_proj.lora_A.ReprPO2.weight', 'base_model.model.model.layers.24.self_attn.v_proj.lora_B.ReprPO2.weight', 'base_model.model.model.layers.24.self_attn.o_proj.base_layer.weight', 'base_model.model.model.layers.24.self_attn.o_proj.lora_A.ReprPO2.weight', 'base_model.model.model.layers.24.self_attn.o_proj.lora_B.ReprPO2.weight', 'base_model.model.model.layers.24.mlp.gate_proj.base_layer.weight', 'base_model.model.model.layers.24.mlp.gate_proj.lora_A.ReprPO2.weight', 'base_model.model.model.layers.24.mlp.gate_proj.lora_B.ReprPO2.weight', 'base_model.model.model.layers.24.mlp.up_proj.base_layer.weight', 'base_model.model.model.layers.24.mlp.up_proj.lora_A.ReprPO2.weight', 'base_model.model.model.layers.24.mlp.up_proj.lora_B.ReprPO2.weight', 'base_model.model.model.layers.24.mlp.down_proj.base_layer.weight', 'base_model.model.model.layers.24.mlp.down_proj.lora_A.ReprPO2.weight', 'base_model.model.model.layers.24.mlp.down_proj.lora_B.ReprPO2.weight', 'base_model.model.model.layers.24.input_layernorm.weight', 'base_model.model.model.layers.24.post_attention_layernorm.weight', 'base_model.model.model.layers.25.self_attn.q_proj.base_layer.weight', 'base_model.model.model.layers.25.self_attn.q_proj.lora_A.ReprPO2.weight', 'base_model.model.model.layers.25.self_attn.q_proj.lora_B.ReprPO2.weight', 'base_model.model.model.layers.25.self_attn.k_proj.base_layer.weight', 'base_model.model.model.layers.25.self_attn.k_proj.lora_A.ReprPO2.weight', 'base_model.model.model.layers.25.self_attn.k_proj.lora_B.ReprPO2.weight', 'base_model.model.model.layers.25.self_attn.v_proj.base_layer.weight', 'base_model.model.model.layers.25.self_attn.v_proj.lora_A.ReprPO2.weight', 'base_model.model.model.layers.25.self_attn.v_proj.lora_B.ReprPO2.weight', 'base_model.model.model.layers.25.self_attn.o_proj.base_layer.weight', 'base_model.model.model.layers.25.self_attn.o_proj.lora_A.ReprPO2.weight', 'base_model.model.model.layers.25.self_attn.o_proj.lora_B.ReprPO2.weight', 'base_model.model.model.layers.25.mlp.gate_proj.base_layer.weight', 'base_model.model.model.layers.25.mlp.gate_proj.lora_A.ReprPO2.weight', 'base_model.model.model.layers.25.mlp.gate_proj.lora_B.ReprPO2.weight', 'base_model.model.model.layers.25.mlp.up_proj.base_layer.weight', 'base_model.model.model.layers.25.mlp.up_proj.lora_A.ReprPO2.weight', 'base_model.model.model.layers.25.mlp.up_proj.lora_B.ReprPO2.weight', 'base_model.model.model.layers.25.mlp.down_proj.base_layer.weight', 'base_model.model.model.layers.25.mlp.down_proj.lora_A.ReprPO2.weight', 'base_model.model.model.layers.25.mlp.down_proj.lora_B.ReprPO2.weight', 'base_model.model.model.layers.25.input_layernorm.weight', 'base_model.model.model.layers.25.post_attention_layernorm.weight', 'base_model.model.model.layers.26.self_attn.q_proj.base_layer.weight', 'base_model.model.model.layers.26.self_attn.q_proj.lora_A.ReprPO2.weight', 'base_model.model.model.layers.26.self_attn.q_proj.lora_B.ReprPO2.weight', 'base_model.model.model.layers.26.self_attn.k_proj.base_layer.weight', 'base_model.model.model.layers.26.self_attn.k_proj.lora_A.ReprPO2.weight', 'base_model.model.model.layers.26.self_attn.k_proj.lora_B.ReprPO2.weight', 'base_model.model.model.layers.26.self_attn.v_proj.base_layer.weight', 'base_model.model.model.layers.26.self_attn.v_proj.lora_A.ReprPO2.weight', 'base_model.model.model.layers.26.self_attn.v_proj.lora_B.ReprPO2.weight', 'base_model.model.model.layers.26.self_attn.o_proj.base_layer.weight', 'base_model.model.model.layers.26.self_attn.o_proj.lora_A.ReprPO2.weight', 'base_model.model.model.layers.26.self_attn.o_proj.lora_B.ReprPO2.weight', 'base_model.model.model.layers.26.mlp.gate_proj.base_layer.weight', 'base_model.model.model.layers.26.mlp.gate_proj.lora_A.ReprPO2.weight', 'base_model.model.model.layers.26.mlp.gate_proj.lora_B.ReprPO2.weight', 'base_model.model.model.layers.26.mlp.up_proj.base_layer.weight', 'base_model.model.model.layers.26.mlp.up_proj.lora_A.ReprPO2.weight', 'base_model.model.model.layers.26.mlp.up_proj.lora_B.ReprPO2.weight', 'base_model.model.model.layers.26.mlp.down_proj.base_layer.weight', 'base_model.model.model.layers.26.mlp.down_proj.lora_A.ReprPO2.weight', 'base_model.model.model.layers.26.mlp.down_proj.lora_B.ReprPO2.weight', 'base_model.model.model.layers.26.input_layernorm.weight', 'base_model.model.model.layers.26.post_attention_layernorm.weight', 'base_model.model.model.layers.27.self_attn.q_proj.base_layer.weight', 'base_model.model.model.layers.27.self_attn.q_proj.lora_A.ReprPO2.weight', 'base_model.model.model.layers.27.self_attn.q_proj.lora_B.ReprPO2.weight', 'base_model.model.model.layers.27.self_attn.k_proj.base_layer.weight', 'base_model.model.model.layers.27.self_attn.k_proj.lora_A.ReprPO2.weight', 'base_model.model.model.layers.27.self_attn.k_proj.lora_B.ReprPO2.weight', 'base_model.model.model.layers.27.self_attn.v_proj.base_layer.weight', 'base_model.model.model.layers.27.self_attn.v_proj.lora_A.ReprPO2.weight', 'base_model.model.model.layers.27.self_attn.v_proj.lora_B.ReprPO2.weight', 'base_model.model.model.layers.27.self_attn.o_proj.base_layer.weight', 'base_model.model.model.layers.27.self_attn.o_proj.lora_A.ReprPO2.weight', 'base_model.model.model.layers.27.self_attn.o_proj.lora_B.ReprPO2.weight', 'base_model.model.model.layers.27.mlp.gate_proj.base_layer.weight', 'base_model.model.model.layers.27.mlp.gate_proj.lora_A.ReprPO2.weight', 'base_model.model.model.layers.27.mlp.gate_proj.lora_B.ReprPO2.weight', 'base_model.model.model.layers.27.mlp.up_proj.base_layer.weight', 'base_model.model.model.layers.27.mlp.up_proj.lora_A.ReprPO2.weight', 'base_model.model.model.layers.27.mlp.up_proj.lora_B.ReprPO2.weight', 'base_model.model.model.layers.27.mlp.down_proj.base_layer.weight', 'base_model.model.model.layers.27.mlp.down_proj.lora_A.ReprPO2.weight', 'base_model.model.model.layers.27.mlp.down_proj.lora_B.ReprPO2.weight', 'base_model.model.model.layers.27.input_layernorm.weight', 'base_model.model.model.layers.27.post_attention_layernorm.weight', 'base_model.model.model.layers.28.self_attn.q_proj.base_layer.weight', 'base_model.model.model.layers.28.self_attn.q_proj.lora_A.ReprPO2.weight', 'base_model.model.model.layers.28.self_attn.q_proj.lora_B.ReprPO2.weight', 'base_model.model.model.layers.28.self_attn.k_proj.base_layer.weight', 'base_model.model.model.layers.28.self_attn.k_proj.lora_A.ReprPO2.weight', 'base_model.model.model.layers.28.self_attn.k_proj.lora_B.ReprPO2.weight', 'base_model.model.model.layers.28.self_attn.v_proj.base_layer.weight', 'base_model.model.model.layers.28.self_attn.v_proj.lora_A.ReprPO2.weight', 'base_model.model.model.layers.28.self_attn.v_proj.lora_B.ReprPO2.weight', 'base_model.model.model.layers.28.self_attn.o_proj.base_layer.weight', 'base_model.model.model.layers.28.self_attn.o_proj.lora_A.ReprPO2.weight', 'base_model.model.model.layers.28.self_attn.o_proj.lora_B.ReprPO2.weight', 'base_model.model.model.layers.28.mlp.gate_proj.base_layer.weight', 'base_model.model.model.layers.28.mlp.gate_proj.lora_A.ReprPO2.weight', 'base_model.model.model.layers.28.mlp.gate_proj.lora_B.ReprPO2.weight', 'base_model.model.model.layers.28.mlp.up_proj.base_layer.weight', 'base_model.model.model.layers.28.mlp.up_proj.lora_A.ReprPO2.weight', 'base_model.model.model.layers.28.mlp.up_proj.lora_B.ReprPO2.weight', 'base_model.model.model.layers.28.mlp.down_proj.base_layer.weight', 'base_model.model.model.layers.28.mlp.down_proj.lora_A.ReprPO2.weight', 'base_model.model.model.layers.28.mlp.down_proj.lora_B.ReprPO2.weight', 'base_model.model.model.layers.28.input_layernorm.weight', 'base_model.model.model.layers.28.post_attention_layernorm.weight', 'base_model.model.model.layers.29.self_attn.q_proj.base_layer.weight', 'base_model.model.model.layers.29.self_attn.q_proj.lora_A.ReprPO2.weight', 'base_model.model.model.layers.29.self_attn.q_proj.lora_B.ReprPO2.weight', 'base_model.model.model.layers.29.self_attn.k_proj.base_layer.weight', 'base_model.model.model.layers.29.self_attn.k_proj.lora_A.ReprPO2.weight', 'base_model.model.model.layers.29.self_attn.k_proj.lora_B.ReprPO2.weight', 'base_model.model.model.layers.29.self_attn.v_proj.base_layer.weight', 'base_model.model.model.layers.29.self_attn.v_proj.lora_A.ReprPO2.weight', 'base_model.model.model.layers.29.self_attn.v_proj.lora_B.ReprPO2.weight', 'base_model.model.model.layers.29.self_attn.o_proj.base_layer.weight', 'base_model.model.model.layers.29.self_attn.o_proj.lora_A.ReprPO2.weight', 'base_model.model.model.layers.29.self_attn.o_proj.lora_B.ReprPO2.weight', 'base_model.model.model.layers.29.mlp.gate_proj.base_layer.weight', 'base_model.model.model.layers.29.mlp.gate_proj.lora_A.ReprPO2.weight', 'base_model.model.model.layers.29.mlp.gate_proj.lora_B.ReprPO2.weight', 'base_model.model.model.layers.29.mlp.up_proj.base_layer.weight', 'base_model.model.model.layers.29.mlp.up_proj.lora_A.ReprPO2.weight', 'base_model.model.model.layers.29.mlp.up_proj.lora_B.ReprPO2.weight', 'base_model.model.model.layers.29.mlp.down_proj.base_layer.weight', 'base_model.model.model.layers.29.mlp.down_proj.lora_A.ReprPO2.weight', 'base_model.model.model.layers.29.mlp.down_proj.lora_B.ReprPO2.weight', 'base_model.model.model.layers.29.input_layernorm.weight', 'base_model.model.model.layers.29.post_attention_layernorm.weight', 'base_model.model.model.layers.30.self_attn.q_proj.base_layer.weight', 'base_model.model.model.layers.30.self_attn.q_proj.lora_A.ReprPO2.weight', 'base_model.model.model.layers.30.self_attn.q_proj.lora_B.ReprPO2.weight', 'base_model.model.model.layers.30.self_attn.k_proj.base_layer.weight', 'base_model.model.model.layers.30.self_attn.k_proj.lora_A.ReprPO2.weight', 'base_model.model.model.layers.30.self_attn.k_proj.lora_B.ReprPO2.weight', 'base_model.model.model.layers.30.self_attn.v_proj.base_layer.weight', 'base_model.model.model.layers.30.self_attn.v_proj.lora_A.ReprPO2.weight', 'base_model.model.model.layers.30.self_attn.v_proj.lora_B.ReprPO2.weight', 'base_model.model.model.layers.30.self_attn.o_proj.base_layer.weight', 'base_model.model.model.layers.30.self_attn.o_proj.lora_A.ReprPO2.weight', 'base_model.model.model.layers.30.self_attn.o_proj.lora_B.ReprPO2.weight', 'base_model.model.model.layers.30.mlp.gate_proj.base_layer.weight', 'base_model.model.model.layers.30.mlp.gate_proj.lora_A.ReprPO2.weight', 'base_model.model.model.layers.30.mlp.gate_proj.lora_B.ReprPO2.weight', 'base_model.model.model.layers.30.mlp.up_proj.base_layer.weight', 'base_model.model.model.layers.30.mlp.up_proj.lora_A.ReprPO2.weight', 'base_model.model.model.layers.30.mlp.up_proj.lora_B.ReprPO2.weight', 'base_model.model.model.layers.30.mlp.down_proj.base_layer.weight', 'base_model.model.model.layers.30.mlp.down_proj.lora_A.ReprPO2.weight', 'base_model.model.model.layers.30.mlp.down_proj.lora_B.ReprPO2.weight', 'base_model.model.model.layers.30.input_layernorm.weight', 'base_model.model.model.layers.30.post_attention_layernorm.weight', 'base_model.model.model.layers.31.self_attn.q_proj.base_layer.weight', 'base_model.model.model.layers.31.self_attn.q_proj.lora_A.ReprPO2.weight', 'base_model.model.model.layers.31.self_attn.q_proj.lora_B.ReprPO2.weight', 'base_model.model.model.layers.31.self_attn.k_proj.base_layer.weight', 'base_model.model.model.layers.31.self_attn.k_proj.lora_A.ReprPO2.weight', 'base_model.model.model.layers.31.self_attn.k_proj.lora_B.ReprPO2.weight', 'base_model.model.model.layers.31.self_attn.v_proj.base_layer.weight', 'base_model.model.model.layers.31.self_attn.v_proj.lora_A.ReprPO2.weight', 'base_model.model.model.layers.31.self_attn.v_proj.lora_B.ReprPO2.weight', 'base_model.model.model.layers.31.self_attn.o_proj.base_layer.weight', 'base_model.model.model.layers.31.self_attn.o_proj.lora_A.ReprPO2.weight', 'base_model.model.model.layers.31.self_attn.o_proj.lora_B.ReprPO2.weight', 'base_model.model.model.layers.31.mlp.gate_proj.base_layer.weight', 'base_model.model.model.layers.31.mlp.gate_proj.lora_A.ReprPO2.weight', 'base_model.model.model.layers.31.mlp.gate_proj.lora_B.ReprPO2.weight', 'base_model.model.model.layers.31.mlp.up_proj.base_layer.weight', 'base_model.model.model.layers.31.mlp.up_proj.lora_A.ReprPO2.weight', 'base_model.model.model.layers.31.mlp.up_proj.lora_B.ReprPO2.weight', 'base_model.model.model.layers.31.mlp.down_proj.base_layer.weight', 'base_model.model.model.layers.31.mlp.down_proj.lora_A.ReprPO2.weight', 'base_model.model.model.layers.31.mlp.down_proj.lora_B.ReprPO2.weight', 'base_model.model.model.layers.31.input_layernorm.weight', 'base_model.model.model.layers.31.post_attention_layernorm.weight', 'base_model.model.model.norm.weight', 'base_model.model.lm_head.weight'], unexpected_keys=[])"
      ]
     },
     "execution_count": 4,
     "metadata": {},
     "output_type": "execute_result"
    }
   ],
   "source": [
    "dpo_adapter_f = './output-dir/dpo/DPO'\n",
    "model.load_adapter(dpo_adapter_f, 'DPO')"
   ]
  },
  {
   "cell_type": "code",
   "execution_count": 5,
   "metadata": {},
   "outputs": [],
   "source": [
    "# # QC model and adapter is coherent\n",
    "# generation_test(model, tokenizer, max_new_tokens=24, system='no yapping', adapter_names=[None, 'DPO'])"
   ]
  },
  {
   "cell_type": "markdown",
   "metadata": {},
   "source": [
    "## Load DPO dataset"
   ]
  },
  {
   "cell_type": "code",
   "execution_count": 6,
   "metadata": {},
   "outputs": [],
   "source": [
    "num_samples = 160"
   ]
  },
  {
   "cell_type": "code",
   "execution_count": 7,
   "metadata": {},
   "outputs": [
    {
     "data": {
      "text/plain": [
       "DatasetDict({\n",
       "    train: Dataset({\n",
       "        features: ['prompt', 'chosen', 'rejected'],\n",
       "        num_rows: 160\n",
       "    })\n",
       "    validation: Dataset({\n",
       "        features: ['prompt', 'chosen', 'rejected'],\n",
       "        num_rows: 160\n",
       "    })\n",
       "})"
      ]
     },
     "execution_count": 7,
     "metadata": {},
     "output_type": "execute_result"
    }
   ],
   "source": [
    "def sample(dataset, N):\n",
    "    return (dataset\n",
    "            .shuffle(42)\n",
    "            .select(range(\n",
    "            min(len(dataset),\n",
    "                N)))\n",
    "    )\n",
    "\n",
    "dataset = load_dataset('Atsunori/HelpSteer2-DPO')\n",
    "dataset['train'] = sample(dataset['train'], num_samples)\n",
    "dataset['validation'] = sample(dataset['validation'], num_samples)\n",
    "dataset2 = dataset.rename_column('chosen_response', 'chosen').rename_column('rejected_response', 'rejected')\n",
    "dataset2"
   ]
  },
  {
   "cell_type": "markdown",
   "metadata": {},
   "source": [
    "## Helpers"
   ]
  },
  {
   "cell_type": "code",
   "execution_count": null,
   "metadata": {},
   "outputs": [],
   "source": []
  },
  {
   "cell_type": "markdown",
   "metadata": {},
   "source": [
    "## Collect HS in DPO way"
   ]
  },
  {
   "cell_type": "code",
   "execution_count": 10,
   "metadata": {},
   "outputs": [
    {
     "name": "stderr",
     "output_type": "stream",
     "text": [
      "/media/wassname/SGIronWolf/projects5/elk/repr-preference-optimization/.venv/lib/python3.9/site-packages/trl/trainer/dpo_trainer.py:442: UserWarning: When using DPODataCollatorWithPadding, you should set `remove_unused_columns=False` in your TrainingArguments we have set it for you, but you should do it yourself in the future.\n",
      "  warnings.warn(\n"
     ]
    }
   ],
   "source": [
    "training_args = ReprPOConfig('./output-dir/scratch',\n",
    "    per_device_train_batch_size=3,\n",
    "    per_device_eval_batch_size=3,\n",
    "    gradient_checkpointing=True,\n",
    "    bf16=True,\n",
    "    tf32=True,\n",
    "    max_prompt_length=128,\n",
    "    max_length=256,\n",
    "    collection_layers=[10, 20]\n",
    "                             )\n",
    "reprpo_trainer = ReprPOTrainer(\n",
    "    model=model,\n",
    "    ref_model=None,\n",
    "    args=training_args,\n",
    "    beta=training_args.beta,\n",
    "    train_dataset=dataset2[\"train\"],\n",
    "    # eval_dataset=dataset2[\"test\"],\n",
    "    tokenizer=tokenizer,\n",
    ")"
   ]
  },
  {
   "cell_type": "code",
   "execution_count": 11,
   "metadata": {},
   "outputs": [
    {
     "data": {
      "text/plain": [
       "torch.Size([6, 256])"
      ]
     },
     "execution_count": 11,
     "metadata": {},
     "output_type": "execute_result"
    }
   ],
   "source": [
    "# QC get dpo catch\n",
    "dl = reprpo_trainer.get_train_dataloader()\n",
    "batch = next(iter(dl))\n",
    "batch['chosen_input_ids'].shape"
   ]
  },
  {
   "cell_type": "code",
   "execution_count": 12,
   "metadata": {},
   "outputs": [
    {
     "name": "stdout",
     "output_type": "stream",
     "text": [
      "dict_keys(['concatenated_input_ids', 'concatenated_attention_mask', 'concatenated_labels'])\n"
     ]
    },
    {
     "data": {
      "text/plain": [
       "(torch.Size([6, 256]), torch.Size([12, 256]))"
      ]
     },
     "execution_count": 12,
     "metadata": {},
     "output_type": "execute_result"
    }
   ],
   "source": [
    "# QC view a typical input to the model (since the dpo trainer transformes in dataset, concatenating chosen and rejecting along the batch dimension)\n",
    "batch_concat = reprpo_trainer.concatenated_inputs(\n",
    "            batch,\n",
    "            is_encoder_decoder=reprpo_trainer.is_encoder_decoder,\n",
    "            label_pad_token_id=reprpo_trainer.label_pad_token_id,\n",
    "            padding_value=reprpo_trainer.padding_value,\n",
    "            device=reprpo_trainer.accelerator.device,\n",
    "            max_length=reprpo_trainer.args.max_length,\n",
    "        )\n",
    "layer_idx = 0\n",
    "print(batch_concat.keys())\n",
    "batch['chosen_input_ids'].shape, batch_concat['concatenated_input_ids'].shape"
   ]
  },
  {
   "cell_type": "code",
   "execution_count": 15,
   "metadata": {},
   "outputs": [],
   "source": [
    "# get batch of hidden states\n",
    "from reprpo.helpers.torch import clear_mem\n",
    "from trl.trainer.utils import pad_to_length\n",
    "from torch import Tensor\n",
    "from jaxtyping import Float\n",
    "\n",
    "def get_batch_token_logits(\n",
    "    logits: torch.FloatTensor,\n",
    "    labels: torch.LongTensor,\n",
    "    label_pad_token_id: int = -100,\n",
    "    is_encoder_decoder: bool = False,\n",
    ") -> Tuple[torch.FloatTensor, torch.LongTensor]:\n",
    "    \"\"\"Collect label logits (no softmax)\n",
    "\n",
    "    Args:\n",
    "        logits: Logits of the model (unnormalized). Shape: (batch_size, sequence_length, vocab_size)\n",
    "        labels: Labels for which to compute the log probabilities. Label tokens with a value of label_pad_token_id are ignored. Shape: (batch_size, sequence_length)\n",
    "        label_pad_token_id: The label pad token id.\n",
    "        is_encoder_decoder: Whether the model is an encoder-decoder model.\n",
    "\n",
    "    Returns:\n",
    "        A Tuple of two tensor of shape ((batch_size,), (batch_size,)) containing the logits of the given labels under the given logits in the first tensor and the number of non-masked tokens in the second tensor.\n",
    "    \"\"\"\n",
    "    if logits.shape[:-1] != labels.shape:\n",
    "        raise ValueError(\n",
    "            \"Logits (batch and sequence length dim) and labels must have the same shape.\"\n",
    "        )\n",
    "\n",
    "    if not is_encoder_decoder:\n",
    "        labels = labels[:, 1:].clone()\n",
    "        logits = logits[:, :-1, :]\n",
    "    loss_mask = labels != label_pad_token_id\n",
    "\n",
    "    # dummy token; we'll ignore the losses on these tokens later\n",
    "    labels[labels == label_pad_token_id] = 0\n",
    "\n",
    "    per_token_logits = torch.gather(\n",
    "        logits, dim=2, index=labels.unsqueeze(2)\n",
    "    ).squeeze(2)\n",
    "\n",
    "    # so this multiplies the probs and makes it quite small, in the log domain that's ok, it represents the log probs of the whole string\n",
    "    return (per_token_logits * loss_mask).sum(-1), loss_mask.sum(-1)\n",
    "\n",
    "@torch.no_grad()\n",
    "def get_hs(trainer, model, batch):\n",
    "    model.eval()\n",
    "    (\n",
    "        chosen_logps,\n",
    "        rejected_logps,\n",
    "        chosen_logits,\n",
    "        rejected_logits,\n",
    "        _,\n",
    "        chosen_hs,\n",
    "        rejected_hs,\n",
    "        chosen_attn_mask,\n",
    "        rejected_attn_mask\n",
    "    ) = trainer.concatenated_forward(trainer.model, batch)\n",
    "\n",
    "    r = dict(chosen_hs=chosen_hs, rejected_hs=rejected_hs, chosen_logps=chosen_logps, rejected_logps=rejected_logps, chosen_attn_mask=chosen_attn_mask, rejected_attn_mask=rejected_attn_mask)\n",
    "\n",
    "    # get unembected hs\n",
    "    r['chosen_unemb'] = model.lm_head(chosen_hs)\n",
    "    r['rejected_unemb'] = model.lm_head(rejected_hs)\n",
    "\n",
    "\n",
    "    # FIXME: label and logits are diff length, maybe need the padding from concat_batch, might be eaiser to just use the concat batch framework for both\n",
    "    def get_layer_logps(trainer, hidden_states: Float[Tensor, 'b l t h'], labels: Float[Tensor, 'b t'], log_softmax=True):\n",
    "        # pad to length\n",
    "        hidden_states = pad_to_length(hidden_states, trainer.max_length, pad_value=0)\n",
    "        labels = pad_to_length(labels, trainer.max_length, pad_value=trainer.label_pad_token_id)\n",
    "\n",
    "        # gather for each layer\n",
    "        logps = []\n",
    "        for layer in range(hidden_states.shape[1]):\n",
    "            all_logps, size_completion = trainer.get_batch_logps(\n",
    "                hidden_states[:, layer],\n",
    "                labels,\n",
    "                label_pad_token_id=trainer.label_pad_token_id,\n",
    "                log_softmax=log_softmax\n",
    "                )\n",
    "            all_logps = all_logps / size_completion\n",
    "            logps.append(all_logps)\n",
    "        all_logps = torch.stack(logps, dim=1)\n",
    "        return all_logps\n",
    "    \n",
    "    # get fake logp from unemb_hs\n",
    "    r['chosen_gthr_logps_unemb'] = get_layer_logps(trainer, r['chosen_unemb'], batch[\"chosen_labels\"])\n",
    "    r['rejection_gthr_logps_unemb'] = get_layer_logps(trainer, r['rejected_unemb'], batch[\"rejected_labels\"])\n",
    "\n",
    "    r['chosen_gthr_unemb'] = get_layer_logps(trainer, r['chosen_unemb'], batch[\"chosen_labels\"], log_softmax=False)\n",
    "    r['rejection_gthr_unemb'] = get_layer_logps(trainer, r['rejected_unemb'], batch[\"rejected_labels\"], log_softmax=False)\n",
    "    \n",
    "    # we reuse the function, adding a fake layer dim, and squeezing it out\n",
    "    r['chosen_gthr_logits'] = get_layer_logps(trainer, chosen_logits[:, None], batch[\"chosen_labels\"], log_softmax=False).squeeze(1)\n",
    "    r['rejected_gthr_logits'] = get_layer_logps(trainer, rejected_logits[:, None], batch[\"rejected_labels\"], log_softmax=False).squeeze(1)\n",
    "\n",
    "\n",
    "    r = {k: v.detach().cpu() for k, v in r.items()}\n",
    "    clear_mem(trainer)\n",
    "    \n",
    "    return r"
   ]
  },
  {
   "cell_type": "code",
   "execution_count": 16,
   "metadata": {},
   "outputs": [
    {
     "data": {
      "application/vnd.jupyter.widget-view+json": {
       "model_id": "b55f5c054b23431fb2114ea443fa5a45",
       "version_major": 2,
       "version_minor": 0
      },
      "text/plain": [
       "  0%|          | 0/27 [00:00<?, ?it/s]"
      ]
     },
     "metadata": {},
     "output_type": "display_data"
    },
    {
     "data": {
      "text/plain": [
       "torch.Size([24, 2, 256, 4096])"
      ]
     },
     "execution_count": 16,
     "metadata": {},
     "output_type": "execute_result"
    }
   ],
   "source": [
    "dl = reprpo_trainer.get_train_dataloader()\n",
    "\n",
    "data = []\n",
    "for i, batch in enumerate(tqdm(dl)):\n",
    "    with reprpo_trainer.null_ref_context():\n",
    "        r = get_hs(reprpo_trainer, reprpo_trainer.model, batch)\n",
    "        data.append(r)\n",
    "        if i > 2:\n",
    "            break\n",
    "\n",
    "# concat\n",
    "data = {k: torch.cat([d[k] for d in data], dim=0) for k in data[0].keys()}\n",
    "data['chosen_hs'].shape"
   ]
  },
  {
   "cell_type": "code",
   "execution_count": 17,
   "metadata": {},
   "outputs": [],
   "source": [
    "model = None\n",
    "clear_mem(reprpo_trainer)\n",
    "reprpo_trainer = None\n",
    "clear_mem()"
   ]
  },
  {
   "cell_type": "code",
   "execution_count": 18,
   "metadata": {},
   "outputs": [
    {
     "data": {
      "text/plain": [
       "['chosen_hs',\n",
       " 'rejected_hs',\n",
       " 'chosen_logps',\n",
       " 'rejected_logps',\n",
       " 'chosen_attn_mask',\n",
       " 'rejected_attn_mask',\n",
       " 'chosen_unemb',\n",
       " 'rejected_unemb',\n",
       " 'chosen_gthr_logps_unemb',\n",
       " 'rejection_gthr_logps_unemb',\n",
       " 'chosen_gthr_unemb',\n",
       " 'rejection_gthr_unemb',\n",
       " 'chosen_gthr_logits',\n",
       " 'rejected_gthr_logits']"
      ]
     },
     "execution_count": 18,
     "metadata": {},
     "output_type": "execute_result"
    }
   ],
   "source": [
    "list(data.keys())"
   ]
  },
  {
   "cell_type": "markdown",
   "metadata": {},
   "source": [
    "## Get samples"
   ]
  },
  {
   "cell_type": "code",
   "execution_count": 283,
   "metadata": {},
   "outputs": [],
   "source": [
    "# get some data samples\n",
    "layer = 1\n",
    "C = data['chosen_hs'] # we could also consider unembedding them, whith the lm head, this might make them more interpretable, but also a bit large\n",
    "R = data['rejected_hs']\n",
    "\n",
    "CA = data['chosen_attn_mask']\n",
    "RA = data['rejected_attn_mask']\n",
    "\n",
    "M = 100\n",
    "A2 = CA * RA # use both attn masks when comparing?\n",
    "\n",
    "# choose layer, mean over tokens\n",
    "C = mult_with_attention(C, A2)[:M, layer]\n",
    "C = reduce(C, 'b t h -> b h', 'mean')\n",
    "R = mult_with_attention(R, A2)[:M, layer]\n",
    "R = reduce(R, 'b t h -> b h', 'mean')\n",
    "\n",
    "# compare two unrelated sets of samples, that way we have ones that should show the difference and ones that shouldn't show the difference we arel ooking for\n",
    "n = len(C)//2\n",
    "print('n', n)\n",
    "C1 = C[:n] # chosen pair 1\n",
    "R1 = R[:n] # rejected pair 1\n",
    "C2 = C[n:] # chosen, pair 2\n",
    "R2 = R[n:] # rejected pair 2\n",
    "\n",
    "\n",
    "# now we choose what to test correlations with. At first I tried the logprobs but they have been through a softmax which makes them relative and hard to compare to the hidden states\n",
    "# so instead we are going to try the hidden states values that corresponded to the \n",
    "\n",
    "# logratios = data['chosen_logps'] - data['rejected_logps'] # the logp is the log probability (mean per token) of this response, logratios is the log ratio of probs, this should be correlated with the direction we are seeking in the hidden states\n",
    "\n",
    "# logratios = (data['chosen_gthr_logits'] - data['rejected_gthr_logits'])#.exp()\n",
    "logratios = data['chosen_gthr_unemb'][:, layer] - data['rejection_gthr_unemb'][:, layer]\n",
    "\n",
    "# we can use this to check the null hypothesis, as the `roll` operation mixes up the batch dimension, so they are unrelated\n",
    "logratios_unrelated = logratios.roll(1, 0)\n",
    "\n",
    "logratios1 = logratios[:n]\n",
    "logratios2 = logratios[n:]\n",
    "logratios2"
   ]
  },
  {
   "cell_type": "markdown",
   "metadata": {},
   "source": [
    "## Hypothesis\n",
    "\n",
    "### Magnitude/norm is correlated with result?\n",
    "\n",
    "Is the amplitude of A-B related to the logp?"
   ]
  },
  {
   "cell_type": "code",
   "execution_count": 310,
   "metadata": {},
   "outputs": [],
   "source": [
    "# logratios"
   ]
  },
  {
   "cell_type": "code",
   "execution_count": 284,
   "metadata": {},
   "outputs": [
    {
     "name": "stdout",
     "output_type": "stream",
     "text": [
      "does the magnitude of the hs_unemb correlate with the prob ratio (across batches)? if so it's a good repr\n",
      "should be significantly bigger\n",
      "Hypothesis: corr>corr_null\n",
      "          : 0.082 > 0.083\n",
      "Residual  : = corr - corr_null\n",
      "Residual  : = 0.0 ❌\n",
      "\n",
      "should pass\n",
      "Hypothesis: corr>corr_null\n",
      "          : 0.589 > 0.309\n",
      "Residual  : = corr - corr_null\n",
      "Residual  : = 0.280 ✅\n",
      "\n"
     ]
    }
   ],
   "source": [
    "# ur using abs corrcoef\n",
    "def acorr(A, B):\n",
    "    return np.abs(np.corrcoef(A, B, rowvar=True)[0, 1])\n",
    "\n",
    "def mag_corr(C, R, logratios):\n",
    "    hs_d = torch.norm(C-R, dim=-1, p=2) # get magnitude of the difference\n",
    "    corr = acorr(hs_d, logratios)\n",
    "    # note that after flipping we ruin the order, and they should be uncorrelated except for the middle one if it's odd\n",
    "    corr_null = acorr(hs_d, logratios.roll(1, 0))\n",
    "    return corr, corr_null\n",
    "    \n",
    "\n",
    "print('does the magnitude of the hs_unemb correlate with the prob ratio (across batches)? if so it\\'s a good repr')\n",
    "\n",
    "print(\"should be significantly bigger\")\n",
    "corr, corr_null = mag_corr(C1, R1, logratios1)\n",
    "shypothesis(\"corr>corr_null\", variables=dict(corr=corr, corr_null=corr_null))\n",
    "\n",
    "print(\"should pass\")\n",
    "corr, corr_null = mag_corr(C2, R2, logratios2)\n",
    "shypothesis(\"corr>corr_null\", variables=dict(corr=corr, corr_null=corr_null))"
   ]
  },
  {
   "cell_type": "markdown",
   "metadata": {},
   "source": [
    "#### Is it significant?"
   ]
  },
  {
   "cell_type": "code",
   "execution_count": 312,
   "metadata": {},
   "outputs": [
    {
     "name": "stdout",
     "output_type": "stream",
     "text": [
      "is the red line outside the distribution of null correlations?\n"
     ]
    },
    {
     "data": {
      "image/png": "[encoded data removed]",
      "text/plain": [
       "<Figure size 640x480 with 1 Axes>"
      ]
     },
     "metadata": {},
     "output_type": "display_data"
    },
    {
     "name": "stdout",
     "output_type": "stream",
     "text": [
      "P-value: 0.923\n"
     ]
    }
   ],
   "source": [
    "def permutation_test(C, R, logratios, n_permutations=100):\n",
    "\n",
    "    n_permutations = min(n_permutations, len(logratios))\n",
    "\n",
    "    true_corr = np.corrcoef(\n",
    "        torch.norm(C - R, dim=-1, p=2), \n",
    "        logratios)[0, 1]\n",
    "    \n",
    "    null_corrs = []\n",
    "    for _ in range(n_permutations):\n",
    "        perm_logratios = logratios[torch.randperm(len(logratios))]\n",
    "        null_corrs.append(np.corrcoef(torch.norm(C - R, dim=-1, p=2), perm_logratios)[0, 1])\n",
    "    \n",
    "    plt.hist(null_corrs, bins=50, label='null_corrs')\n",
    "    plt.axvline(true_corr, color='r', linestyle='dashed', linewidth=2, label='true_corr')\n",
    "    plt.title('Permutation Test')\n",
    "    plt.xlabel('Correlation')\n",
    "    plt.ylabel('Frequency')\n",
    "    plt.legend()\n",
    "    plt.show()\n",
    "    \n",
    "    p_value = (np.sum(np.abs(null_corrs) >= np.abs(true_corr)) + 1) / (n_permutations + 1)\n",
    "    print(f\"P-value: {p_value:.3f}\")\n",
    "\n",
    "print('is the red line outside the distribution of null correlations?')\n",
    "permutation_test(C1, R1, logratios1)\n",
    "# FAIL"
   ]
  },
  {
   "cell_type": "markdown",
   "metadata": {},
   "source": [
    "### spearmanr kendalltau"
   ]
  },
  {
   "cell_type": "code",
   "execution_count": 286,
   "metadata": {},
   "outputs": [],
   "source": [
    "import numpy as np"
   ]
  },
  {
   "cell_type": "code",
   "execution_count": 313,
   "metadata": {},
   "outputs": [
    {
     "name": "stdout",
     "output_type": "stream",
     "text": [
      "spearmanr measure of dist ~ logratios should be large and significant\n",
      "Hypothesis: corr>n_corr\n",
      "          : 0.105 > 0.077\n",
      "Residual  : = corr - n_corr\n",
      "Residual  : = 0.028 ✅\n",
      "\n",
      "Hypothesis: p<0.2\n",
      "          : 0.746 < 0.200\n",
      "Residual  : = p - 0.2\n",
      "Residual  : = 0.546 ❌\n",
      "\n",
      "kendalltau measure of dist ~ logratios should be large and significant\n",
      "Hypothesis: corr>n_corr\n",
      "          : 0.061 > 0.091\n",
      "Residual  : = corr - n_corr\n",
      "Residual  : = -0.030 ❌\n",
      "\n",
      "Hypothesis: p<0.2\n",
      "          : 0.841 < 0.200\n",
      "Residual  : = p - 0.2\n",
      "Residual  : = 0.641 ❌\n",
      "\n",
      "Hypothesis: n_p<0.2\n",
      "          : 0.737 < 0.200\n",
      "Residual  : = n_p - 0.2\n",
      "Residual  : = 0.537 ❌\n",
      "\n"
     ]
    }
   ],
   "source": [
    "from scipy import stats\n",
    "\n",
    "\n",
    "def correlation_dist(C, R, logratios):\n",
    "    distances = torch.norm(C - R, dim=-1)\n",
    "    logratios = logratios.cpu().numpy()\n",
    "    corr, p = stats.spearmanr(distances, logratios)\n",
    "    return np.abs(corr), p\n",
    "\n",
    "print('spearmanr measure of dist ~ logratios should be large and significant')\n",
    "corr, p = correlation_dist(C1, R1, logratios1)\n",
    "n_corr, n_p = correlation_dist(C1, R1, logratios1.roll(1, 0))\n",
    "shypothesis('corr>n_corr', variables=locals())\n",
    "shypothesis('p<0.2', variables=locals())\n",
    "\n",
    "def kendalltau_dist(C, R, logratios):\n",
    "    distances = torch.norm(C - R, dim=-1)\n",
    "    logratios = logratios.cpu().numpy()\n",
    "    corr, p = stats.kendalltau(distances, logratios)\n",
    "    return np.abs(corr), p\n",
    "\n",
    "print('kendalltau measure of dist ~ logratios should be large and significant')\n",
    "corr, p = kendalltau_dist(C1, R1, logratios1)\n",
    "n_corr, n_p = kendalltau_dist(C1, R1, logratios1.roll(1, 0))\n",
    "shypothesis('corr>n_corr', variables=locals())\n",
    "shypothesis('p<0.2', variables=locals())\n",
    "shypothesis('n_p<0.2', variables=locals())"
   ]
  },
  {
   "cell_type": "code",
   "execution_count": null,
   "metadata": {},
   "outputs": [],
   "source": []
  },
  {
   "cell_type": "code",
   "execution_count": 315,
   "metadata": {},
   "outputs": [
    {
     "name": "stdout",
     "output_type": "stream",
     "text": [
      "\n",
      "Testing angle_similarity_correlation:\n",
      "Similarity of related ones should be higher\n",
      "Hypothesis: c111 > c112\n",
      "          : c111 > c112\n",
      "     Where: {'c111': 0.17653066864825379, 'c112': 0.06311316313647669}\n",
      "          : 0.177 > 0.063\n",
      "Residual  : = c111 - c112\n",
      "Residual  : = 0.113 ✅\n",
      "\n",
      "Hypothesis: c222 > c221\n",
      "          : 0.642 > 0.290\n",
      "Residual  : = -c221 + c222\n",
      "Residual  : = 0.351 ✅\n",
      "\n",
      "\n",
      "Testing norm_difference_correlation:\n",
      "Similarity of related ones should be higher\n",
      "Hypothesis: c111 > c112\n",
      "          : c111 > c112\n",
      "     Where: {'c111': 0.18184877604691557, 'c112': 0.13933448014055647}\n",
      "          : 0.182 > 0.139\n",
      "Residual  : = c111 - c112\n",
      "Residual  : = 0.043 ✅\n",
      "\n",
      "Hypothesis: c222 > c221\n",
      "          : 0.340 > 0.268\n",
      "Residual  : = -c221 + c222\n",
      "Residual  : = 0.072 ✅\n",
      "\n",
      "\n",
      "Testing magnitude_correlation:\n",
      "Similarity of related ones should be higher\n",
      "Hypothesis: c111 > c112\n",
      "          : c111 > c112\n",
      "     Where: {'c111': 0.09435227364063753, 'c112': 0.09191347777559443}\n",
      "          : 0.094 > 0.092\n",
      "Residual  : = c111 - c112\n",
      "Residual  : = 0.002 ✅\n",
      "\n",
      "Hypothesis: c222 > c221\n",
      "          : 0.600 > 0.306\n",
      "Residual  : = -c221 + c222\n",
      "Residual  : = 0.293 ✅\n",
      "\n",
      "\n",
      "Testing inner_product_correlation:\n",
      "Similarity of related ones should be higher\n",
      "Hypothesis: c111 > c112\n",
      "          : c111 > c112\n",
      "     Where: {'c111': 0.08523901658078226, 'c112': 0.2938953717486296}\n",
      "          : 0.085 > 0.294\n",
      "Residual  : = c111 - c112\n",
      "Residual  : = -0.209 ❌\n",
      "\n",
      "Hypothesis: c222 > c221\n",
      "          : 0.046 > 0.141\n",
      "Residual  : = -c221 + c222\n",
      "Residual  : = -0.095 ❌\n",
      "\n"
     ]
    }
   ],
   "source": [
    "import torch\n",
    "import torch.nn.functional as F\n",
    "import numpy as np\n",
    "\n",
    "def angle_similarity_correlation(C, R, logratios):\n",
    "    C_norm = F.normalize(C, p=2, dim=-1)\n",
    "    R_norm = F.normalize(R, p=2, dim=-1)\n",
    "    angle = torch.acos(torch.clamp(torch.sum(C_norm * R_norm, dim=-1), -1.0, 1.0))\n",
    "    corrs = np.corrcoef(angle.cpu().numpy(), logratios.cpu().numpy())[0, 1]\n",
    "    return np.abs(corrs)\n",
    "\n",
    "def norm_difference_correlation(C, R, logratios):\n",
    "    norm_diff = torch.norm(C, dim=-1) - torch.norm(R, dim=-1)\n",
    "    corrs = np.corrcoef(norm_diff.cpu().numpy(), logratios.cpu().numpy())[0, 1]\n",
    "    return np.abs(corrs)\n",
    "\n",
    "def magnitude_correlation(C, R, logratios):\n",
    "    magnitude_diff = torch.abs(C - R).mean(dim=-1)\n",
    "    corrs = np.corrcoef(magnitude_diff.cpu().numpy(), logratios.cpu().numpy())[0, 1]\n",
    "    return np.abs(corrs)\n",
    "\n",
    "def inner_product_correlation(C, R, logratios):\n",
    "    inner_prod = torch.sum(C * R, dim=-1)\n",
    "    corrs = np.corrcoef(inner_prod.cpu().numpy(), logratios.cpu().numpy())[0, 1]\n",
    "    return np.abs(corrs)\n",
    "\n",
    "# Usage\n",
    "def run_all_tests(C1, R1, C2, R2, logratios1, logratios2):\n",
    "    tests = [\n",
    "        angle_similarity_correlation,\n",
    "        norm_difference_correlation,\n",
    "        magnitude_correlation,\n",
    "        inner_product_correlation\n",
    "    ]\n",
    "    \n",
    "    for test in tests:\n",
    "        print(f\"\\nTesting {test.__name__}:\")\n",
    "        c111 = test(C1, R1, logratios1)\n",
    "        c222 = test(C2, R2, logratios2)\n",
    "        c112 = test(C1, R1, logratios1.roll(1, 0))\n",
    "        c221 = test(C2, R2, logratios2.roll(1, 0))\n",
    "        \n",
    "        print('Similarity of related ones should be higher')\n",
    "        shypothesis('c111 > c112', variables=locals(), verbose=True)\n",
    "        shypothesis('c222 > c221', variables=locals())\n",
    "        # Uncomment these if you want to test across different pairs\n",
    "        # shypothesis('c111 > c221', variables=locals())\n",
    "        # shypothesis('c222 > c112', variables=locals())\n",
    "\n",
    "# Run all tests\n",
    "run_all_tests(C1, R1, C2, R2, logratios1, logratios2)"
   ]
  },
  {
   "cell_type": "markdown",
   "metadata": {},
   "source": [
    "### H: cosine_similarity_correlation"
   ]
  },
  {
   "cell_type": "code",
   "execution_count": 314,
   "metadata": {},
   "outputs": [
    {
     "name": "stdout",
     "output_type": "stream",
     "text": [
      "cosine similarity of related ones should be higher\n",
      "Hypothesis: c111 > c112\n",
      "          : c111 > c112\n",
      "     Where: {'c111': 0.19708932282301475, 'c112': 0.052489255910791635}\n",
      "          : 0.197 > 0.052\n",
      "Residual  : = c111 - c112\n",
      "Residual  : = 0.145 ✅\n",
      "\n",
      "Hypothesis: c222 > c221\n",
      "          : 0.575 > 0.367\n",
      "Residual  : = -c221 + c222\n",
      "Residual  : = 0.207 ✅\n",
      "\n"
     ]
    }
   ],
   "source": [
    "def cosine_similarity_correlation(C, R, logratios):\n",
    "    cos_sim = F.cosine_similarity(C, R, dim=-1)  # [batch, layers, tokens]\n",
    "\n",
    "    corrs = np.corrcoef(cos_sim, logratios)[0, 1] \n",
    "    \n",
    "    return np.abs(corrs)\n",
    "\n",
    "c111 = cosine_similarity_correlation(C1, R1, logratios1)\n",
    "c222 = cosine_similarity_correlation(C2, R2, logratios2)\n",
    "c112 = cosine_similarity_correlation(C1, R1, logratios1.roll(1, 0))\n",
    "c221 = cosine_similarity_correlation(C2, R2, logratios2.roll(1, 0))\n",
    "\n",
    "print('cosine similarity of related ones should be higher')\n",
    "shypothesis('c111 > c112', variables=locals(), verbose=True)\n",
    "shypothesis('c222 > c221', variables=locals())\n",
    "# shypothesis('c111 > c221', variables=locals())\n",
    "# shypothesis('c222 > c112', variables=locals())"
   ]
  },
  {
   "cell_type": "code",
   "execution_count": 318,
   "metadata": {},
   "outputs": [
    {
     "name": "stdout",
     "output_type": "stream",
     "text": [
      "C1-R1 with logratios1:\n",
      "Hypothesis: kl1>kl2\n",
      "          : 0.004 > 0.115\n",
      "Residual  : = kl1 - kl2\n",
      "Residual  : = -0.111 ❌\n",
      "\n",
      "Hypothesis: js1>js2\n",
      "          : 0.006 > 0.115\n",
      "Residual  : = js1 - js2\n",
      "Residual  : = -0.109 ❌\n",
      "\n",
      "Hypothesis: mi1>mi2\n",
      "          : 0.449 > 0\n",
      "Residual  : = mi1 - mi2\n",
      "Residual  : = 0.449 ✅\n",
      "\n",
      "C2-R2 with logratios2:\n",
      "Hypothesis: kl1>kl2\n",
      "          : 0.134 > 0.410\n",
      "Residual  : = kl1 - kl2\n",
      "Residual  : = -0.276 ❌\n",
      "\n",
      "Hypothesis: js1>js2\n",
      "          : 0.103 > 0.409\n",
      "Residual  : = js1 - js2\n",
      "Residual  : = -0.307 ❌\n",
      "\n",
      "Hypothesis: mi1>mi2\n",
      "          : 0.164 > 0\n",
      "Residual  : = mi1 - mi2\n",
      "Residual  : = 0.164 ✅\n",
      "\n"
     ]
    }
   ],
   "source": [
    "def kl_divergence(p, q):\n",
    "    return (p * (p / q).log()).sum(dim=-1)\n",
    "\n",
    "def js_divergence(p, q):\n",
    "    m = 0.5 * (p + q)\n",
    "    return 0.5 * kl_divergence(p, m) + 0.5 * kl_divergence(q, m)\n",
    "\n",
    "def mutual_information(C, R):\n",
    "    joint = torch.einsum('bt,bt->bt', C, R)\n",
    "    joint = joint / joint.sum(dim=-1, keepdim=True)\n",
    "    mi = kl_divergence(joint, C * R)\n",
    "    return mi\n",
    "\n",
    "def info_theoretic_correlation(C, R, logratios):\n",
    "    C_norm = F.softmax(C, dim=-1)\n",
    "    R_norm = F.softmax(R, dim=-1)\n",
    "    \n",
    "    kl = kl_divergence(C_norm, R_norm)#.mean(dim=(1,))\n",
    "    js = js_divergence(C_norm, R_norm)#.mean(dim=(1,))\n",
    "    mi = mutual_information(C_norm, R_norm)#.mean(dim=(1,))\n",
    "    \n",
    "    kl_corr = np.abs(np.corrcoef(kl.cpu().numpy(), logratios)[0,1])\n",
    "    js_corr = np.abs(np.corrcoef(js.cpu().numpy(), logratios)[0,1])\n",
    "    mi_corr = np.abs(np.corrcoef(mi.cpu().numpy(), logratios)[0,1])\n",
    "    \n",
    "    return kl_corr, js_corr, mi_corr\n",
    "\n",
    "print(\"C1-R1 with logratios1:\")\n",
    "kl1,js1,mi1 = info_theoretic_correlation(C1, R1, logratios1)\n",
    "kl2,js2,mi1 = info_theoretic_correlation(C1, R1, logratios1.roll(1, 0))\n",
    "shypothesis('kl1>kl2', variables=locals())\n",
    "shypothesis('js1>js2', variables=locals())\n",
    "shypothesis('mi1>mi2', variables=locals())\n",
    "\n",
    "print(\"C2-R2 with logratios2:\")\n",
    "kl1,js1,mi1 = info_theoretic_correlation(C2, R2, logratios2)\n",
    "kl2,js2,mi1 = info_theoretic_correlation(C2, R2, logratios2.roll(1, 0))\n",
    "shypothesis('kl1>kl2', variables=locals())\n",
    "shypothesis('js1>js2', variables=locals())\n",
    "shypothesis('mi1>mi2', variables=locals())"
   ]
  },
  {
   "cell_type": "code",
   "execution_count": null,
   "metadata": {},
   "outputs": [],
   "source": []
  },
  {
   "cell_type": "code",
   "execution_count": 291,
   "metadata": {},
   "outputs": [
    {
     "name": "stdout",
     "output_type": "stream",
     "text": [
      "Original difference: 5.040531635284424\n",
      "Rotated difference: 29.78263282775879\n",
      "Improvement: -490.86%\n",
      "Correlation before rotation: 0.08\n",
      "Correlation after rotation: 0.06\n",
      "Improvement: -21.15%\n",
      "\n",
      "Hypothesis: r > c\n",
      "          : 0.065 > 0.082\n",
      "Residual  : = -c + r\n",
      "Residual  : = -0.017 ❌\n",
      "\n",
      "Original difference: 5.16802978515625\n",
      "Rotated difference: 27.767431259155273\n",
      "Improvement: -437.29%\n",
      "Correlation before rotation: 0.59\n",
      "Correlation after rotation: 0.02\n",
      "Improvement: -96.05%\n",
      "\n",
      "Hypothesis: r > c\n",
      "          : 0.023 > 0.589\n",
      "Residual  : = -c + r\n",
      "Residual  : = -0.566 ❌\n",
      "\n",
      "Original difference: 5.16802978515625\n",
      "Rotated difference: 27.767431259155273\n",
      "Improvement: -437.29%\n",
      "Correlation before rotation: 0.31\n",
      "Correlation after rotation: 0.13\n",
      "Improvement: -56.57%\n",
      "\n",
      "Hypothesis: r > c\n",
      "          : 0.134 > 0.309\n",
      "Residual  : = -c + r\n",
      "Residual  : = -0.175 ❌\n",
      "\n",
      "Original difference: 5.040531635284424\n",
      "Rotated difference: 29.78263282775879\n",
      "Improvement: -490.86%\n",
      "Correlation before rotation: 0.08\n",
      "Correlation after rotation: 0.22\n",
      "Improvement: 161.17%\n",
      "\n",
      "Hypothesis: r > c\n",
      "          : 0.216 > 0.083\n",
      "Residual  : = -c + r\n",
      "Residual  : = 0.133 ✅\n",
      "\n"
     ]
    }
   ],
   "source": [
    "@torch.no_grad()\n",
    "def rotation_test(C, R, logratios):\n",
    "    def optimal_rotation(A, B):\n",
    "\n",
    "        corr_matrix = torch.mm(A.t(), B)\n",
    "        Q, _ = torch.linalg.qr(corr_matrix)\n",
    "        return Q\n",
    "    \n",
    "    def optimal_rotation(A, B):\n",
    "        corr_matrix = torch.mm(A.t(), B)\n",
    "        U, _, V = torch.linalg.svd(corr_matrix)\n",
    "        return torch.mm(U, V.t())\n",
    "    \n",
    "    R_opt = optimal_rotation(C, R)\n",
    "    R_rotated = torch.matmul(R, R_opt.t())\n",
    "    \n",
    "    a = C - R\n",
    "    b = C - R_rotated\n",
    "\n",
    "    # a -= a.mean(dim=-1, keepdim=True)\n",
    "    # b -= b.mean(dim=-1, keepdim=True)\n",
    "    # a /= torch.norm(a, dim=0, p=2, keepdim=True)\n",
    "    # b /= torch.norm(b, dim=0, p=2, keepdim=True)\n",
    "\n",
    "    original_diff = torch.norm(a, p=2)\n",
    "    rotated_diff = torch.norm(b, p=2)\n",
    "    \n",
    "    print(f\"Original difference: {original_diff}\")\n",
    "    print(f\"Rotated difference: {rotated_diff}\")\n",
    "    print(f\"Improvement: {(original_diff - rotated_diff) / original_diff * 100:.2f}%\")\n",
    "    \n",
    "    c = np.abs(np.corrcoef(torch.norm(a, dim=-1, p=2), logratios)[0, 1])\n",
    "    r = np.abs(np.corrcoef(torch.norm(b, dim=-1, p=2), logratios)[0, 1])\n",
    "    print(f\"Correlation before rotation: {c:.2f}\")\n",
    "    print(f\"Correlation after rotation: {r:.2f}\")\n",
    "    print(f\"Improvement: {(r - c) / c * 100:.2f}%\")\n",
    "    print()\n",
    "    shypothesis('r > c', variables=dict(r=r, c=c))\n",
    "    return R_opt, R_rotated\n",
    "\n",
    "# maybe I should softmax first?\n",
    "R_opt, R_rotated = rotation_test(C1, R1, logratios1)\n",
    "R_opt, R_rotated = rotation_test(C2, R2, logratios2)\n",
    "\n",
    "R_opt, R_rotated = rotation_test(C2, R2, logratios2.roll(1, 0))\n",
    "R_opt, R_rotated = rotation_test(C1, R1, logratios1.roll(1, 0))\n",
    "# R_opt, R_rotated = rotation_test(C2, R2, logratios1)\n",
    "# R_opt, R_rotated = rotation_test(C1, R1, logratios2)"
   ]
  },
  {
   "cell_type": "markdown",
   "metadata": {},
   "source": [
    "### Principal Component Analysis (PCA):\n",
    "Apply PCA to (A - B) pairs. If differences are primarily rotational, most variance should be explained by a few components."
   ]
  },
  {
   "cell_type": "code",
   "execution_count": 292,
   "metadata": {},
   "outputs": [
    {
     "name": "stdout",
     "output_type": "stream",
     "text": [
      "Hypothesis: e_a1b1 > e_a1b1roll\n",
      "          : 0.163 > 0.170\n",
      "Residual  : = e_a1b1 - e_a1b1roll\n",
      "Residual  : = -0.007 ❌\n",
      "\n",
      "Hypothesis: e_a1b1 > e_a1b1roll\n",
      "          : 0.150 > 0.157\n",
      "Residual  : = e_a1b1 - e_a1b1roll\n",
      "Residual  : = -0.008 ❌\n",
      "\n"
     ]
    }
   ],
   "source": [
    "from sklearn.decomposition import PCA\n",
    "\n",
    "def pca_exp_var(X, Y):\n",
    "    diffs = (X - Y).numpy()\n",
    "    s = diffs.std()\n",
    "    diffs /= s\n",
    "    # axis 1, norm each neuron across the batch\n",
    "    # diffs /= diffs.std(1, keepdims=True) + 1e-3\n",
    "    pca = PCA(n_components=5)\n",
    "    pca.fit(diffs)\n",
    "    r = pca.explained_variance_ratio_.mean()\n",
    "    return r\n",
    "\n",
    "\n",
    "# \n",
    "e_a1b1 = pca_exp_var(C1, R1)\n",
    "e_a1b1roll = pca_exp_var(C1, R1.roll(1, 0))\n",
    "shypothesis('e_a1b1 > e_a1b1roll', variables=locals())\n",
    "\n",
    "e_a1b1 = pca_exp_var(C2, R2)\n",
    "e_a1b1roll = pca_exp_var(C2, R2.roll(1, 0))\n",
    "shypothesis('e_a1b1 > e_a1b1roll', variables=locals())\n",
    "\n",
    "# e_a1a2 = pca_exp_var(C1, C2)\n",
    "# e_a1b2 = pca_exp_var(C1, R2)\n",
    "# e_b1b2 = pca_exp_var(R1, R2)\n",
    "# e_b1a1 = pca_exp_var(R1, C1)\n",
    "# e_b1a2 = pca_exp_var(R1, C2)\n",
    "\n",
    "# print('PCA explained variance ratio')\n",
    "# print('A1-B1', e_a1b2)\n",
    "# shypothesis('e_a1b1 > e_a1a2', variables=locals())\n",
    "# shypothesis('e_a1b1 > e_a1b2', variables=locals())\n",
    "# shypothesis('e_a1b1 > e_b1b2', variables=locals()) # should be inconclusive\n",
    "# e_a1b2, e_a1a2, e_a1b2, e_b1b2"
   ]
  },
  {
   "cell_type": "markdown",
   "metadata": {},
   "source": [
    "## mutual_information"
   ]
  },
  {
   "cell_type": "code",
   "execution_count": 293,
   "metadata": {},
   "outputs": [
    {
     "name": "stdout",
     "output_type": "stream",
     "text": [
      "do the paired hs have information shared with the logratios?\n",
      "Mutual Information: 0.09186808561808668\n",
      "Mutual Information: 0\n",
      "Hypothesis: mi1 > mi2\n",
      "          : 0.092 > 0\n",
      "Residual  : = mi1 - mi2\n",
      "Residual  : = 0.092 ✅\n",
      "\n"
     ]
    }
   ],
   "source": [
    "from sklearn.feature_selection import mutual_info_regression\n",
    "\n",
    "def mutual_information(C, R, logratios):\n",
    "    distances = torch.norm(C - R, dim=-1, p=2, keepdim=True)\n",
    "    mi = mutual_info_regression(distances, logratios)[0]\n",
    "    print(f\"Mutual Information: {mi}\")\n",
    "    return mi\n",
    "\n",
    "print('do the paired hs have information shared with the logratios?')\n",
    "mi1 = mutual_information(C1, R1, logratios1)\n",
    "mi2 = mutual_information(C1, R1, logratios1.roll(1, 0));\n",
    "shypothesis('mi1 > mi2', variables=locals())"
   ]
  },
  {
   "cell_type": "markdown",
   "metadata": {},
   "source": [
    "### Frobenius Norm Comparison:\n",
    "Compare ||A - B||_F with ||A - RB||_F where R is the optimal rotation. The latter should be significantly smaller if rotations capture most differences."
   ]
  },
  {
   "cell_type": "code",
   "execution_count": 294,
   "metadata": {},
   "outputs": [
    {
     "name": "stdout",
     "output_type": "stream",
     "text": [
      "passing means the paired samples can be rotated\n",
      "Hypothesis: rot_diff_norm < diff_norm\n",
      "          : 4.886 < 5.041\n",
      "Residual  : = -diff_norm + rot_diff_norm\n",
      "Residual  : = -0.154 ✅\n",
      "\n",
      "passing means the paired samples can be rotated\n",
      "Hypothesis: rot_diff_norm < diff_norm\n",
      "          : 5.017 < 5.168\n",
      "Residual  : = -diff_norm + rot_diff_norm\n",
      "Residual  : = -0.151 ✅\n",
      "\n",
      "passing means the unrelated samples can be rotated\n",
      "Hypothesis: rot_diff_norm > diff_norm\n",
      "          : 12.650 > 14.921\n",
      "Residual  : = -diff_norm + rot_diff_norm\n",
      "Residual  : = -2.271 ❌\n",
      "\n",
      "passing means the unrelated samples can be rotated\n",
      "Hypothesis: rot_diff_norm > diff_norm\n",
      "          : 12.882 > 15.115\n",
      "Residual  : = -diff_norm + rot_diff_norm\n",
      "Residual  : = -2.233 ❌\n",
      "\n"
     ]
    }
   ],
   "source": [
    "def norm_comparison(A, B):\n",
    "    diff_norm = torch.norm(A - B)\n",
    "    corr = torch.mm(A, B.t())\n",
    "    U, _, V = torch.svd(corr)\n",
    "    R = torch.mm(U, V.t())\n",
    "\n",
    "    B_rot = torch.mm(R, B)\n",
    "\n",
    "    rot_diff_norm = torch.norm(A - B_rot)\n",
    "    return diff_norm, rot_diff_norm\n",
    "\n",
    "print('passing means the paired samples can be rotated')\n",
    "diff_norm, rot_diff_norm= norm_comparison(C1, R1)\n",
    "shypothesis('rot_diff_norm < diff_norm', variables=locals())\n",
    "\n",
    "print('passing means the paired samples can be rotated')\n",
    "diff_norm, rot_diff_norm= norm_comparison(C2, R2)\n",
    "# print(diff_norm, rot_diff_norm)\n",
    "shypothesis('rot_diff_norm < diff_norm', variables=locals())\n",
    "\n",
    "print('passing means the unrelated samples can be rotated')\n",
    "diff_norm, rot_diff_norm= norm_comparison(C1, R2)\n",
    "shypothesis('rot_diff_norm > diff_norm', variables=locals())\n",
    "\n",
    "print('passing means the unrelated samples can be rotated')\n",
    "diff_norm, rot_diff_norm= norm_comparison(C2, R1)\n",
    "# print(diff_norm, rot_diff_norm)\n",
    "shypothesis('rot_diff_norm > diff_norm', variables=locals())\n",
    "\n",
    "# UNEEXPECTED result: C and R are already in a similar direction! While unrelated ones are not\n",
    "# this implies that the preference concept that we want is not a factor of directions of the hidden states, but rather the magnitude of the difference between the two"
   ]
  },
  {
   "cell_type": "code",
   "execution_count": 295,
   "metadata": {},
   "outputs": [
    {
     "name": "stdout",
     "output_type": "stream",
     "text": [
      "are the magnitudes related?\n",
      "Correlation of norm differences with logratios: 0.06\n",
      "Correlation of norm differences with logratios: 0.06\n",
      "Hypothesis: corr1 > corr2\n",
      "          : 0.182 > 0.097\n",
      "Residual  : = corr1 - corr2\n",
      "Residual  : = 0.085 ✅\n",
      "\n"
     ]
    }
   ],
   "source": [
    "print('are the magnitudes related?')\n",
    "c_norms = torch.norm(C1, dim=-1)\n",
    "r_norms = torch.norm(R1, dim=-1)\n",
    "norm_diffs = c_norms - r_norms\n",
    "corr1 = np.abs(np.corrcoef(norm_diffs.flatten(), logratios1)[0, 1])\n",
    "print(f\"Correlation of norm differences with logratios: {corr:.2f}\")\n",
    "\n",
    "\n",
    "\n",
    "c_norms = torch.norm(C1, dim=-1)\n",
    "r_norms = torch.norm(R1, dim=-1)\n",
    "norm_diffs = c_norms - r_norms\n",
    "corr2 = np.abs(np.corrcoef(norm_diffs.flatten(), logratios2)[0, 1])\n",
    "print(f\"Correlation of norm differences with logratios: {corr:.2f}\")\n",
    "\n",
    "shypothesis('corr1 > corr2', variables=locals())"
   ]
  },
  {
   "cell_type": "code",
   "execution_count": 296,
   "metadata": {},
   "outputs": [
    {
     "data": {
      "text/plain": [
       "(tensor(14.9215), tensor(12.6504))"
      ]
     },
     "execution_count": 296,
     "metadata": {},
     "output_type": "execute_result"
    }
   ],
   "source": [
    "diff_norm, rot_diff_norm= norm_comparison(C1, R2)\n",
    "diff_norm, rot_diff_norm"
   ]
  },
  {
   "cell_type": "markdown",
   "metadata": {},
   "source": [
    "Angle Histogram:\n",
    "Plot histogram of angles between corresponding columns of A and B. Should be concentrated if differences are mainly rotational."
   ]
  },
  {
   "cell_type": "code",
   "execution_count": 297,
   "metadata": {},
   "outputs": [
    {
     "data": {
      "image/png": "[encoded data removed]",
      "text/plain": [
       "<Figure size 640x480 with 1 Axes>"
      ]
     },
     "metadata": {},
     "output_type": "display_data"
    }
   ],
   "source": [
    "def angle_histogram(A, B):\n",
    "    cos_sims = torch.sum(A * B, dim=0) / (torch.norm(A, dim=0) * torch.norm(B, dim=0))\n",
    "    angles = torch.acos(cos_sims) * 180 / np.pi\n",
    "    plt.hist(angles.numpy())\n",
    "    plt.show()\n",
    "\n",
    "angle_histogram(C1, R1)"
   ]
  },
  {
   "cell_type": "code",
   "execution_count": 298,
   "metadata": {},
   "outputs": [
    {
     "name": "stdout",
     "output_type": "stream",
     "text": [
      "Subspace scaling ratios: [1.02573366 0.95217523 0.96733044 0.92265209 0.89132623 0.95582475\n",
      " 0.9571119  0.95361726 0.99413921 0.95186764]\n",
      "Subspace scaling ratios: [1.73066033 1.74128314 1.01378417 0.58045075 3.24369333 1.12954028\n",
      " 0.97207083 1.32819393 1.60161157 1.01987266]\n"
     ]
    },
    {
     "data": {
      "text/plain": [
       "0.0606060606060606"
      ]
     },
     "execution_count": 298,
     "metadata": {},
     "output_type": "execute_result"
    }
   ],
   "source": [
    "def subspace_scaling(C, R, n_subspaces=10):\n",
    "    pca = PCA(n_components=n_subspaces)\n",
    "    pca.fit(np.vstack((C.reshape(-1, C.shape[-1]), R.reshape(-1, R.shape[-1]))))\n",
    "    c_proj = pca.transform(C.reshape(-1, C.shape[-1]))\n",
    "    r_proj = pca.transform(R.reshape(-1, R.shape[-1]))\n",
    "    scale_ratios = np.linalg.norm(c_proj, axis=0) / np.linalg.norm(r_proj, axis=0)\n",
    "    return scale_ratios\n",
    "\n",
    "scales = subspace_scaling(C1, R1)\n",
    "print(\"Subspace scaling ratios:\", scales)\n",
    "\n",
    "scales = subspace_scaling(C1, R2)\n",
    "print(\"Subspace scaling ratios:\", scales)\n",
    "\n",
    "# ??\n",
    "corr"
   ]
  },
  {
   "cell_type": "code",
   "execution_count": 299,
   "metadata": {},
   "outputs": [
    {
     "name": "stdout",
     "output_type": "stream",
     "text": [
      "Correlation of sparsity differences with logratios: -0.004424094892843868\n",
      "Correlation of sparsity differences with logratios: 0.14424148271708376\n",
      "unrelated, should be null results\n",
      "Correlation of sparsity differences with logratios: -0.2868185883775725\n",
      "Correlation of sparsity differences with logratios: 0.06892329032083197\n",
      "Hypothesis: c111 > c112\n",
      "          : 0.004 > 0.287\n",
      "Residual  : = c111 - c112\n",
      "Residual  : = -0.282 ❌\n",
      "\n",
      "Hypothesis: c222 > c221\n",
      "          : 0.144 > 0.069\n",
      "Residual  : = -c221 + c222\n",
      "Residual  : = 0.075 ✅\n",
      "\n",
      "Hypothesis: c111 > c112\n",
      "          : 0.004 > 0.287\n",
      "Residual  : = c111 - c112\n",
      "Residual  : = -0.282 ❌\n",
      "\n",
      "Hypothesis: c222 > c221\n",
      "          : 0.144 > 0.069\n",
      "Residual  : = -c221 + c222\n",
      "Residual  : = 0.075 ✅\n",
      "\n"
     ]
    }
   ],
   "source": [
    "def sparsity_correlation(C, R, logratios):\n",
    "    c_sparsity = (np.abs(C) > 1e-2).float().mean(dim=-1)\n",
    "    r_sparsity = (np.abs(R) > 1e-2).float().mean(dim=-1)\n",
    "    sparsity_diff = c_sparsity - r_sparsity\n",
    "    corr = np.corrcoef(sparsity_diff.flatten(), logratios)[0, 1]\n",
    "    print(f\"Correlation of sparsity differences with logratios: {corr}\")\n",
    "    return np.abs(corr)\n",
    "\n",
    "c111 = sparsity_correlation(C1, R1, logratios1)\n",
    "c222 = sparsity_correlation(C2, R2, logratios2)\n",
    "\n",
    "print('unrelated, should be null results')\n",
    "c112 = sparsity_correlation(C1, R1, logratios2)\n",
    "c221 = sparsity_correlation(C2, R2, logratios1)\n",
    "\n",
    "shypothesis('c111 > c112', variables=locals())\n",
    "shypothesis('c222 > c221', variables=locals())\n",
    "shypothesis('c111 > c112', variables=locals())\n",
    "shypothesis('c222 > c221', variables=locals())\n",
    "\n",
    "# !!! SUCCESS"
   ]
  },
  {
   "cell_type": "code",
   "execution_count": 300,
   "metadata": {},
   "outputs": [
    {
     "name": "stdout",
     "output_type": "stream",
     "text": [
      "Hypothesis: c1 > c1n\n",
      "          : c1 > c1n\n",
      "     Where: {'c1': 0.08233526961650646, 'c1n': 0.08276932002069595}\n",
      "          : 0.082 > 0.083\n",
      "Residual  : = c1 - c1n\n",
      "Residual  : = 0.0 ❌\n",
      "\n",
      "Hypothesis: c2 > c2n\n",
      "          : 0.589 > 0.309\n",
      "Residual  : = c2 - c2n\n",
      "Residual  : = 0.280 ✅\n",
      "\n"
     ]
    }
   ],
   "source": [
    "from scipy.fft import fft\n",
    "\n",
    "def fft_analysis(C, R):\n",
    "    C_fft = fft(C.cpu().numpy(), axis=-1)\n",
    "    R_fft = fft(R.cpu().numpy(), axis=-1)\n",
    "    return C_fft - R_fft\n",
    "\n",
    "def fft_corr(C, R, logratios):\n",
    "    fft_diff = fft_analysis(C, R)\n",
    "    fft_norm = np.linalg.norm(fft_diff, axis=-1)\n",
    "    fft_corr = np.abs(np.corrcoef(fft_norm, logratios)[0,1])\n",
    "    return fft_corr\n",
    "\n",
    "c1 = fft_corr(C1, R1, logratios1)\n",
    "c1n = fft_corr(C1, R1, logratios1.roll(1, 0))\n",
    "shypothesis('c1 > c1n', variables=locals(), verbose=True)\n",
    "\n",
    "c2 = fft_corr(C2, R2, logratios2)\n",
    "c2n = fft_corr(C2, R2, logratios2.roll(1, 0))\n",
    "shypothesis('c2 > c2n', variables=locals())"
   ]
  },
  {
   "cell_type": "code",
   "execution_count": 301,
   "metadata": {},
   "outputs": [
    {
     "name": "stdout",
     "output_type": "stream",
     "text": [
      "are the right pairs more correlate if we take the diff of the symlog?\n",
      "Hypothesis: abs(nl_corr) > abs(corr_null)\n",
      "          : Abs(nl_corr) > Abs(corr_null)\n",
      "     Where: {'corr_null': -0.10750608919582604, 'nl_corr': -0.05941568343201138}\n",
      "          : 0.059 > 0.108\n",
      "Residual  : = -Abs(corr_null) + Abs(nl_corr)\n",
      "Residual  : = -0.048 ❌\n",
      "\n",
      "Hypothesis: abs(nl_corr) > abs(corr_null)\n",
      "          : Abs(nl_corr) > Abs(corr_null)\n",
      "     Where: {'corr_null': 0.1945450034581702, 'nl_corr': 0.6174599443322354}\n",
      "          : 0.617 > 0.195\n",
      "Residual  : = -Abs(corr_null) + Abs(nl_corr)\n",
      "Residual  : = 0.423 ✅\n",
      "\n"
     ]
    }
   ],
   "source": [
    "\n",
    "def non_lin_corr(C, R, logratios):\n",
    "    C = symlog(C)\n",
    "    R = symlog(R)\n",
    "    nl_diff = C - R\n",
    "    nl_norm = torch.norm(nl_diff, dim=-1)\n",
    "    nl_corr = np.corrcoef(nl_norm, logratios)[0,1]\n",
    "    corr_null = np.corrcoef(nl_norm, logratios.roll(1,0))[0,1]\n",
    "    shypothesis('abs(nl_corr) > abs(corr_null)', variables=locals(), verbose=True)\n",
    "\n",
    "print('are the right pairs more correlate if we take the diff of the symlog?')\n",
    "non_lin_corr(C1, R1, logratios1)\n",
    "non_lin_corr(C2, R2, logratios2)\n",
    "# but it's the same result without symlog..."
   ]
  },
  {
   "cell_type": "code",
   "execution_count": 302,
   "metadata": {},
   "outputs": [
    {
     "name": "stdout",
     "output_type": "stream",
     "text": [
      "Hypothesis: rel_corr > rel_corr2\n",
      "          : 0.015 > 0.275\n",
      "Residual  : = rel_corr - rel_corr2\n",
      "Residual  : = -0.261 ❌\n",
      "\n"
     ]
    }
   ],
   "source": [
    "def relative_positioning(C, R, ref_point):\n",
    "    C_rel = C - ref_point\n",
    "    R_rel = R - ref_point\n",
    "    return torch.norm(C_rel, dim=-1) - torch.norm(R_rel, dim=-1)\n",
    "\n",
    "# Using mean of C2 as reference point\n",
    "ref_point = C2.mean(dim=(0), keepdim=True)\n",
    "rel_diff = relative_positioning(C1, R1, ref_point)\n",
    "rel_corr = np.abs(np.corrcoef(rel_diff.flatten(), logratios1)[0,1])\n",
    "rel_corr2 = np.abs(np.corrcoef(rel_diff.flatten(), logratios1.roll(1, 0))[0,1])\n",
    "shypothesis('rel_corr > rel_corr2', variables=locals())"
   ]
  },
  {
   "cell_type": "code",
   "execution_count": 303,
   "metadata": {},
   "outputs": [
    {
     "name": "stdout",
     "output_type": "stream",
     "text": [
      "Hypothesis: c1r1_sim_corr > c1r1null_sim_corr\n",
      "          : 0.197 > -0.052\n",
      "Residual  : = c1r1_sim_corr - c1r1null_sim_corr\n",
      "Residual  : = 0.250 ✅\n",
      "\n",
      "Hypothesis: c2r2_sim_corr > c2r2null_sim_corr\n",
      "          : -0.575 > -0.367\n",
      "Residual  : = c2r2_sim_corr - c2r2null_sim_corr\n",
      "Residual  : = -0.207 ❌\n",
      "\n",
      "C1-R1 similarity correlation with logratio: 0.19708932282301475\n",
      "C2-R2 similarity correlation with logratio: -0.5745852117123851\n"
     ]
    }
   ],
   "source": [
    "def cosine_similarity(a, b):\n",
    "    return F.cosine_similarity(a, b, dim=-1)\n",
    "\n",
    "c1r1_sim = cosine_similarity(C1, R1)\n",
    "c2r2_sim = cosine_similarity(C2, R2)\n",
    "\n",
    "c1r1_sim_corr = np.corrcoef(c1r1_sim.flatten(), logratios1)[0,1]\n",
    "c2r2_sim_corr = np.corrcoef(c2r2_sim.flatten(), logratios2)[0,1]\n",
    "c1r1null_sim_corr = np.corrcoef(c1r1_sim.flatten(), logratios1.roll(1, 0))[0,1]\n",
    "c2r2null_sim_corr = np.corrcoef(c2r2_sim.flatten(), logratios2.roll(1, 0))[0,1]\n",
    "shypothesis('c1r1_sim_corr > c1r1null_sim_corr', variables=locals())\n",
    "shypothesis('c2r2_sim_corr > c2r2null_sim_corr', variables=locals())\n",
    "\n",
    "print(f\"C1-R1 similarity correlation with logratio: {c1r1_sim_corr}\")\n",
    "print(f\"C2-R2 similarity correlation with logratio: {c2r2_sim_corr}\")"
   ]
  },
  {
   "cell_type": "code",
   "execution_count": 304,
   "metadata": {},
   "outputs": [
    {
     "name": "stdout",
     "output_type": "stream",
     "text": [
      "if we project hs onto the global mean then correlate...\n",
      "Hypothesis: c1 > c3n\n",
      "          : 0.168 > 0.298\n",
      "Residual  : = c1 - c3n\n",
      "Residual  : = -0.130 ❌\n",
      "\n",
      "Hypothesis: c2 > c4n\n",
      "          : 0.425 > 0.236\n",
      "Residual  : = c2 - c4n\n",
      "Residual  : = 0.189 ✅\n",
      "\n"
     ]
    }
   ],
   "source": [
    "def global_position(x, global_mean):\n",
    "    return F.cosine_similarity(x - global_mean, global_mean, dim=-1)\n",
    "\n",
    "global_mean = torch.cat([C1, R1, C2, R2], dim=0).mean(dim=(0), keepdim=True)\n",
    "\n",
    "def glob_pos_corr(C, R, logratios):\n",
    "    c_global = global_position(C, global_mean)\n",
    "    r_global = global_position(R, global_mean)\n",
    "    global_diff = c_global - r_global\n",
    "    global_corr = np.corrcoef(global_diff.flatten(), logratios)[0,1]\n",
    "    return np.abs(global_corr)\n",
    "\n",
    "print('if we project hs onto the global mean then correlate...')\n",
    "c1 = glob_pos_corr(C1, R1, logratios1)\n",
    "c2 = glob_pos_corr(C2, R2, logratios2)\n",
    "c3n = glob_pos_corr(C1, R1, logratios1.roll(1, 0))\n",
    "c4n = glob_pos_corr(C2, R2, logratios2.roll(1, 0))\n",
    "shypothesis('c1 > c3n', variables=locals())\n",
    "shypothesis('c2 > c4n', variables=locals())"
   ]
  },
  {
   "cell_type": "code",
   "execution_count": 305,
   "metadata": {},
   "outputs": [
    {
     "name": "stdout",
     "output_type": "stream",
     "text": [
      "Hypothesis: c1 > c3n\n",
      "          : 0.164 > 0.268\n",
      "Residual  : = c1 - c3n\n",
      "Residual  : = -0.104 ❌\n",
      "\n",
      "Hypothesis: c2 > c4n\n",
      "          : 0.410 > 0.228\n",
      "Residual  : = c2 - c4n\n",
      "Residual  : = 0.182 ✅\n",
      "\n",
      "Relative position correlation: 0.16419729238550518\n",
      "Relative position correlation (null): 0.41037309139761635\n"
     ]
    }
   ],
   "source": [
    "def relative_position(a, b, ref):\n",
    "    a_rel = F.cosine_similarity(a - ref, ref, dim=-1)\n",
    "    b_rel = F.cosine_similarity(b - ref, ref, dim=-1)\n",
    "    return a_rel - b_rel\n",
    "\n",
    "# Use C2 mean as reference\n",
    "def rel_pos_corr(C1, R1, C2, logratios1):\n",
    "    ref = C2.mean(dim=(0), keepdim=True)\n",
    "    rel_pos1 = relative_position(C1, R1, ref)\n",
    "    rel_pos_corr = np.abs(np.corrcoef(rel_pos1.flatten(), logratios1)[0,1])\n",
    "    return rel_pos_corr\n",
    "\n",
    "c1 = rel_pos_corr(C1, R1, C2, logratios1)\n",
    "c2 = rel_pos_corr(C2, R2, C1, logratios2)\n",
    "c3n = rel_pos_corr(C1, R1, C2, logratios1.roll(1, 0))\n",
    "c4n = rel_pos_corr(C2, R2, C1, logratios2.roll(1, 0))\n",
    "shypothesis('c1 > c3n', variables=locals())\n",
    "shypothesis('c2 > c4n', variables=locals())\n",
    "print(f\"Relative position correlation: {c1}\")\n",
    "print(f\"Relative position correlation (null): {c2}\")"
   ]
  },
  {
   "cell_type": "code",
   "execution_count": 306,
   "metadata": {},
   "outputs": [
    {
     "name": "stdout",
     "output_type": "stream",
     "text": [
      "Preference direction projection correlation: 0.14460565238170017\n",
      "Preference direction projection correlation: 0.5432624445982506\n",
      "Preference direction projection correlation: 0.2423268342820158\n",
      "Preference direction projection correlation: 0.17629937077085425\n",
      "Hypothesis: proj_corr1 > proj_corr4\n",
      "          : 0.145 > 0.176\n",
      "Residual  : = proj_corr1 - proj_corr4\n",
      "Residual  : = -0.032 ❌\n",
      "\n",
      "Hypothesis: proj_corr2 > proj_corr3\n",
      "          : 0.543 > 0.242\n",
      "Residual  : = proj_corr2 - proj_corr3\n",
      "Residual  : = 0.301 ✅\n",
      "\n"
     ]
    }
   ],
   "source": [
    "def projection_correlation(C, R, logratios):\n",
    "    # Compute the mean difference vector\n",
    "    mean_diff = (C - R).mean(dim=0)\n",
    "\n",
    "    # Project samples onto this direction\n",
    "    c_proj = F.cosine_similarity(C, mean_diff.unsqueeze(0), dim=-1)\n",
    "    r_proj = F.cosine_similarity(R, mean_diff.unsqueeze(0), dim=-1)\n",
    "    proj_diff = c_proj - r_proj\n",
    "\n",
    "    proj_corr = np.abs(np.corrcoef(proj_diff, logratios)[0,1])\n",
    "    return proj_corr\n",
    "\n",
    "proj_corr1 = projection_correlation(C1, R1, logratios1)\n",
    "print(f\"Preference direction projection correlation: {proj_corr1}\")\n",
    "\n",
    "proj_corr2 = projection_correlation(C2, R2, logratios2)\n",
    "print(f\"Preference direction projection correlation: {proj_corr2}\")\n",
    "\n",
    "proj_corr3 = projection_correlation(C2, R2, logratios2.roll(1, 0))\n",
    "print(f\"Preference direction projection correlation: {proj_corr3}\")\n",
    "\n",
    "\n",
    "proj_corr4 = projection_correlation(C1, R1, logratios1.roll(1, 0))\n",
    "print(f\"Preference direction projection correlation: {proj_corr4}\")\n",
    "\n",
    "shypothesis('proj_corr1 > proj_corr4', variables=locals())\n",
    "shypothesis('proj_corr2 > proj_corr3', variables=locals())\n"
   ]
  },
  {
   "cell_type": "code",
   "execution_count": 307,
   "metadata": {},
   "outputs": [
    {
     "name": "stdout",
     "output_type": "stream",
     "text": [
      "Variance difference correlation: 0.1748688256315504\n",
      "Variance difference correlation: 0.32789284950757314\n",
      "Variance difference correlation: -0.29289889727162416\n",
      "Variance difference correlation: -0.06691499025422101\n",
      "Hypothesis: abs(vc0) > abs(vc3)\n",
      "          : Abs(vc0) > Abs(vc3)\n",
      "     Where: {'vc0': 0.1748688256315504, 'vc3': -0.06691499025422101}\n",
      "          : 0.175 > 0.067\n",
      "Residual  : = Abs(vc0) - Abs(vc3)\n",
      "Residual  : = 0.108 ✅\n",
      "\n",
      "Hypothesis: abs(vc1) > abs(vc2)\n",
      "          : Abs(vc1) > Abs(vc2)\n",
      "     Where: {'vc1': 0.32789284950757314, 'vc2': -0.29289889727162416}\n",
      "          : 0.328 > 0.293\n",
      "Residual  : = Abs(vc1) - Abs(vc2)\n",
      "Residual  : = 0.035 ✅\n",
      "\n"
     ]
    }
   ],
   "source": [
    "def var_corr(C, R, logratios):\n",
    "    c_var = C.var(dim=-1)\n",
    "    r_var = R.var(dim=-1)\n",
    "    var_diff = c_var - r_var\n",
    "\n",
    "    var_corr = np.corrcoef(var_diff.flatten(), logratios)[0,1]\n",
    "    return var_corr\n",
    "\n",
    "\n",
    "vc0 = var_corr(C1, R1, logratios1)\n",
    "print(f\"Variance difference correlation: {vc0}\")\n",
    "\n",
    "vc1 = var_corr(C2, R2, logratios2)\n",
    "print(f\"Variance difference correlation: {vc1}\")\n",
    "\n",
    "vc2 = var_corr(C2, R2, logratios2.roll(1, 0))\n",
    "print(f\"Variance difference correlation: {vc2}\")\n",
    "\n",
    "vc3 = var_corr(C1, R1, logratios1.roll(1, 0))\n",
    "print(f\"Variance difference correlation: {vc3}\")\n",
    "shypothesis('abs(vc0) > abs(vc3)', variables=locals(), verbose=1)\n",
    "shypothesis('abs(vc1) > abs(vc2)', variables=locals(), verbose=1)\n"
   ]
  }
 ],
 "metadata": {
  "kernelspec": {
   "display_name": ".venv",
   "language": "python",
   "name": "python3"
  },
  "language_info": {
   "codemirror_mode": {
    "name": "ipython",
    "version": 3
   },
   "file_extension": ".py",
   "mimetype": "text/x-python",
   "name": "python",
   "nbconvert_exporter": "python",
   "pygments_lexer": "ipython3",
   "version": "3.9.16"
  }
 },
 "nbformat": 4,
 "nbformat_minor": 2
}
