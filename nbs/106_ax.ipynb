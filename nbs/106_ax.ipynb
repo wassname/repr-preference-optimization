{
 "cells": [
  {
   "cell_type": "code",
   "execution_count": 1,
   "metadata": {},
   "outputs": [],
   "source": [
    "%reload_ext autoreload\n",
    "%autoreload 2"
   ]
  },
  {
   "cell_type": "markdown",
   "metadata": {},
   "source": [
    "- https://ax.dev/tutorials/gpei_hartmann_service.html"
   ]
  },
  {
   "cell_type": "code",
   "execution_count": 2,
   "metadata": {},
   "outputs": [],
   "source": [
    "from ax import optimize"
   ]
  },
  {
   "cell_type": "code",
   "execution_count": 3,
   "metadata": {},
   "outputs": [],
   "source": [
    "from reprpo.training import train\n",
    "import tyro\n",
    "from reprpo.experiments import experiment_configs\n",
    "from reprpo.interventions import Interventions, DPOConfig, ReprPOConfig\n",
    "from reprpo.interventions.losses import Losses\n",
    "from reprpo.interventions.transforms import Transforms\n",
    "\n",
    "# training_args = tyro.extras.overridable_config_cli(experiment_configs)\n",
    "# training_args\n",
    "\n"
   ]
  },
  {
   "cell_type": "code",
   "execution_count": 4,
   "metadata": {},
   "outputs": [],
   "source": [
    "import copy\n",
    "\n",
    "def setattrattr(cfg, k, v):\n",
    "    \"\"\"\n",
    "    Sets an attr even it's like o.a.b\n",
    "    \"\"\"\n",
    "    if '.' in k:\n",
    "        k, k2 = k.split('.')\n",
    "        # print(k, k2)\n",
    "        # print(getattr(cfg, k))\n",
    "        return setattrattr(getattr(cfg, k), k2, v)\n",
    "    else:\n",
    "        # print(cfg, k, v)\n",
    "        return setattr(cfg, k, v)"
   ]
  },
  {
   "cell_type": "code",
   "execution_count": 5,
   "metadata": {},
   "outputs": [],
   "source": [
    "# quick 2m per run\n",
    "tuner_kwargs = dict(\n",
    "    verbose=0,\n",
    "    base_model= 'TinyLlama/TinyLlama-1.1B-Chat-v1.0', # ideally would be SFT\n",
    "    batch_size=64,\n",
    "    load_in_4bit=True,\n",
    "    collection_layers_side = [8, 10, 12, 14, 16, 18],\n",
    "    eval_samples=24,\n",
    ")\n",
    "\n",
    "\n",
    "\n",
    "def override(cfg, overrides):\n",
    "    for k, v in overrides.items():\n",
    "        try:\n",
    "            setattrattr(cfg, k, v)\n",
    "        except ValueError:\n",
    "            print(f\"3 WARNING: {k} not found in config\")\n",
    "    return cfg\n",
    "\n",
    "def objective_func(**kwargs):\n",
    "    print('1 kwargs', kwargs)\n",
    "    cfg = copy.deepcopy(experiment_configs['side-ether-prefvec'][1])\n",
    "    override(cfg, tuner_kwargs)\n",
    "    override(cfg, kwargs)\n",
    "    r = train(cfg)\n",
    "    print('r', r)\n",
    "    return r"
   ]
  },
  {
   "cell_type": "code",
   "execution_count": 6,
   "metadata": {},
   "outputs": [],
   "source": [
    "from pathlib import Path\n",
    "name = 'ax1'\n",
    "exp_f = Path(f'../outputs/ax/{name}.json')\n",
    "exp_f.parent.mkdir(exist_ok=True, parents=True)"
   ]
  },
  {
   "cell_type": "markdown",
   "metadata": {},
   "source": [
    "note you can have dependant params\n",
    "- https://github.com/facebook/Ax/issues/1454"
   ]
  },
  {
   "cell_type": "code",
   "execution_count": 7,
   "metadata": {},
   "outputs": [],
   "source": [
    "import warnings\n",
    "import os\n",
    "from ax.core.parameter import AxParameterWarning\n",
    "warnings.filterwarnings(\"ignore\", module=\"ax\")\n",
    "warnings.simplefilter(\"ignore\", AxParameterWarning)\n",
    "\n",
    "from loguru import logger\n",
    "logger.remove()\n",
    "logger.remove()\n",
    "# logger.add(os.sys.stdout, level=\"INFO\")\n",
    "logger.add(os.sys.stderr, level=\"WARNING\")\n",
    "\n",
    "os.environ[\"WANDB_MODE\"] = \"disabled\"\n",
    "os.environ[\"HF_DATASETS_OFFLINE\"] = \"1\"\n",
    "os.environ[\"TQDM_DISABLE\"] = \"true\""
   ]
  },
  {
   "cell_type": "code",
   "execution_count": null,
   "metadata": {},
   "outputs": [],
   "source": []
  },
  {
   "cell_type": "code",
   "execution_count": 8,
   "metadata": {},
   "outputs": [],
   "source": [
    "# SearchSpace(parameters=[RangeParameter(name='lr', parameter_type=FLOAT, range=[1e-06, 0.4], log_scale=True), RangeParameter(name='loss.β', parameter_type=FLOAT, range=[1e-06, 0.4], log_scale=True), ChoiceParameter(name='loss.use_dpo_loss', parameter_type=BOOL, values=[False, True], is_ordered=True, sort_values=True), ChoiceParameter(name='loss.use_nll_loss', parameter_type=BOOL, values=[False, True], is_ordered=True, sort_values=True), ChoiceParameter(name='loss.weight_tokens', parameter_type=BOOL, values=[False, True], is_ordered=True, sort_values=True), ChoiceParameter(name='loss.use_orth_loss', parameter_type=BOOL, values=[False, True], is_ordered=True, sort_values=True)], parameter_constraints=[])."
   ]
  },
  {
   "cell_type": "code",
   "execution_count": null,
   "metadata": {},
   "outputs": [],
   "source": [
    "# r = objective_func()\n",
    "# r"
   ]
  },
  {
   "cell_type": "code",
   "execution_count": null,
   "metadata": {},
   "outputs": [],
   "source": []
  },
  {
   "cell_type": "code",
   "execution_count": null,
   "metadata": {},
   "outputs": [],
   "source": [
    "from ax.service.ax_client import AxClient, ObjectiveProperties\n",
    "from ax.utils.measurement.synthetic_functions import branin\n",
    "\n",
    "if exp_f.exists():\n",
    "    ax_client = AxClient.load(filepath=exp_f)\n",
    "else:\n",
    "    ax_client = AxClient(verbose_logging=False)\n",
    "\n",
    "\n",
    "ax_client.create_experiment(\n",
    "    name=\"branin_test_experiment\",\n",
    "    parameters=[\n",
    "         {\"name\": \"lr\", \"type\": \"range\", \"bounds\": [1e-6, 0.4], \"log_scale\": True},\n",
    "        {\"name\": \"loss.β\", \"type\": \"range\", \"bounds\": [1e-6, 0.4], \"log_scale\": True},\n",
    "        {\n",
    "            \"name\": \"loss.use_dpo_loss\",\n",
    "            \"type\": \"choice\",\n",
    "            \"values\": [False, True],\n",
    "        },\n",
    "        {\n",
    "            \"name\": \"loss.use_nll_loss\",\n",
    "            \"type\": \"choice\",\n",
    "            \"values\": [False, True],\n",
    "        },\n",
    "        {\n",
    "            \"name\": \"loss.weight_tokens\",\n",
    "            \"type\": \"choice\",\n",
    "            \"values\": [False, True],\n",
    "        },\n",
    "        {\n",
    "            \"name\": \"loss.use_orth_loss\",\n",
    "            \"type\": \"choice\",\n",
    "            \"values\": [False, True],\n",
    "        },\n",
    "    ],\n",
    "    objectives={\"oos\": ObjectiveProperties(minimize=False)},\n",
    ")\n",
    "\n",
    "for _ in range(15):\n",
    "    parameters, trial_index = ax_client.get_next_trial()\n",
    "    try:\n",
    "        r = objective_func(**parameters)\n",
    "    except Exception as e:\n",
    "        logger.exception(f\"Error in objective_func: parameters={parameters}\")\n",
    "        continue\n",
    "    ax_client.complete_trial(trial_index=trial_index, raw_data=r)\n",
    "\n",
    "best_parameters, metrics = ax_client.get_best_parameters()"
   ]
  },
  {
   "cell_type": "code",
   "execution_count": null,
   "metadata": {},
   "outputs": [],
   "source": [
    "ax_client.save(filepath=exp_f)"
   ]
  },
  {
   "cell_type": "markdown",
   "metadata": {},
   "source": []
  },
  {
   "cell_type": "code",
   "execution_count": null,
   "metadata": {},
   "outputs": [],
   "source": []
  }
 ],
 "metadata": {
  "kernelspec": {
   "display_name": ".venv",
   "language": "python",
   "name": "python3"
  },
  "language_info": {
   "codemirror_mode": {
    "name": "ipython",
    "version": 3
   },
   "file_extension": ".py",
   "mimetype": "text/x-python",
   "name": "python",
   "nbconvert_exporter": "python",
   "pygments_lexer": "ipython3",
   "version": "3.11.9"
  }
 },
 "nbformat": 4,
 "nbformat_minor": 2
}
